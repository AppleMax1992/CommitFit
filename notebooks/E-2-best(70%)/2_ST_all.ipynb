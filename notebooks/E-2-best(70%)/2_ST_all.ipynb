{
 "cells": [
  {
   "cell_type": "code",
   "execution_count": 1,
   "id": "77d93e6a-106b-4abd-87e7-1243d4c51126",
   "metadata": {
    "execution": {
     "iopub.execute_input": "2024-05-29T11:56:02.764968Z",
     "iopub.status.busy": "2024-05-29T11:56:02.764461Z",
     "iopub.status.idle": "2024-05-29T11:56:06.756130Z",
     "shell.execute_reply": "2024-05-29T11:56:06.755356Z",
     "shell.execute_reply.started": "2024-05-29T11:56:02.764924Z"
    },
    "id": "77d93e6a-106b-4abd-87e7-1243d4c51126"
   },
   "outputs": [],
   "source": [
    "# !pip install transformers accelerate\n",
    "from transformers import AutoTokenizer, AutoModel, EarlyStoppingCallback, AutoModelForSequenceClassification, AutoConfig,Trainer, TrainingArguments,DataCollatorWithPadding\n",
    "import torch\n",
    "import numpy as np\n",
    "import pandas as pd\n",
    "# !pip install datasets\n",
    "from datasets import load_metric\n",
    "# !pip install evaluate\n",
    "from evaluate import evaluator\n",
    "from sklearn.model_selection import train_test_split\n",
    "import csv\n",
    "\n",
    "# notebook_login()\n",
    "\n",
    "CUDA_LAUNCH_BLOCKING=1\n"
   ]
  },
  {
   "cell_type": "code",
   "execution_count": 2,
   "id": "Wkey0rYSSAhB",
   "metadata": {
    "colab": {
     "base_uri": "https://localhost:8080/"
    },
    "execution": {
     "iopub.execute_input": "2024-05-29T11:56:06.757765Z",
     "iopub.status.busy": "2024-05-29T11:56:06.757233Z",
     "iopub.status.idle": "2024-05-29T11:56:06.761173Z",
     "shell.execute_reply": "2024-05-29T11:56:06.760433Z",
     "shell.execute_reply.started": "2024-05-29T11:56:06.757740Z"
    },
    "id": "Wkey0rYSSAhB",
    "outputId": "be159b43-1080-48dc-855f-af527cdc29c5"
   },
   "outputs": [],
   "source": [
    "# from google.colab import drive\n",
    "# drive.mount('/content/drive')"
   ]
  },
  {
   "cell_type": "code",
   "execution_count": 3,
   "id": "9ef5359f-9526-4d19-a2da-7988dc1ea04f",
   "metadata": {
    "execution": {
     "iopub.execute_input": "2024-05-29T11:56:06.762526Z",
     "iopub.status.busy": "2024-05-29T11:56:06.762097Z",
     "iopub.status.idle": "2024-05-29T11:56:10.366519Z",
     "shell.execute_reply": "2024-05-29T11:56:10.365581Z",
     "shell.execute_reply.started": "2024-05-29T11:56:06.762502Z"
    },
    "id": "9ef5359f-9526-4d19-a2da-7988dc1ea04f"
   },
   "outputs": [
    {
     "name": "stderr",
     "output_type": "stream",
     "text": [
      "/tmp/ipykernel_9367/2093326092.py:4: FutureWarning: Downcasting behavior in `replace` is deprecated and will be removed in a future version. To retain the old behavior, explicitly call `result.infer_objects(copy=False)`. To opt-in to the future behavior, set `pd.set_option('future.no_silent_downcasting', True)`\n",
      "  train = train.replace({\"label\": label2id})\n",
      "/tmp/ipykernel_9367/2093326092.py:7: FutureWarning: Downcasting behavior in `replace` is deprecated and will be removed in a future version. To retain the old behavior, explicitly call `result.infer_objects(copy=False)`. To opt-in to the future behavior, set `pd.set_option('future.no_silent_downcasting', True)`\n",
      "  test = test.replace({\"label\": label2id})\n"
     ]
    }
   ],
   "source": [
    "label2id = {'negative':0,'positive':1}\n",
    "\n",
    "train = pd.read_csv(r'train.csv', encoding='utf_8_sig')\n",
    "train = train.replace({\"label\": label2id})\n",
    "train.fillna('', inplace=True)\n",
    "test = pd.read_csv(r'test.csv', encoding='utf_8_sig')\n",
    "test = test.replace({\"label\": label2id})\n",
    "test.fillna('', inplace=True)"
   ]
  },
  {
   "cell_type": "code",
   "execution_count": 4,
   "id": "jYWXjthC0rGo",
   "metadata": {
    "colab": {
     "base_uri": "https://localhost:8080/",
     "height": 684
    },
    "execution": {
     "iopub.execute_input": "2024-05-29T11:56:10.370041Z",
     "iopub.status.busy": "2024-05-29T11:56:10.369584Z",
     "iopub.status.idle": "2024-05-29T11:56:10.386136Z",
     "shell.execute_reply": "2024-05-29T11:56:10.385455Z",
     "shell.execute_reply.started": "2024-05-29T11:56:10.370015Z"
    },
    "id": "jYWXjthC0rGo",
    "outputId": "41f990d0-deb5-4d86-fd90-8e20873610e4"
   },
   "outputs": [
    {
     "data": {
      "text/html": [
       "<div>\n",
       "<style scoped>\n",
       "    .dataframe tbody tr th:only-of-type {\n",
       "        vertical-align: middle;\n",
       "    }\n",
       "\n",
       "    .dataframe tbody tr th {\n",
       "        vertical-align: top;\n",
       "    }\n",
       "\n",
       "    .dataframe thead th {\n",
       "        text-align: right;\n",
       "    }\n",
       "</style>\n",
       "<table border=\"1\" class=\"dataframe\">\n",
       "  <thead>\n",
       "    <tr style=\"text-align: right;\">\n",
       "      <th></th>\n",
       "      <th>label</th>\n",
       "      <th>text</th>\n",
       "      <th>diff</th>\n",
       "    </tr>\n",
       "  </thead>\n",
       "  <tbody>\n",
       "    <tr>\n",
       "      <th>0</th>\n",
       "      <td>1</td>\n",
       "      <td>XSS 취약점 수정</td>\n",
       "      <td>diff --git a/adm/board_form_update.php b/adm/b...</td>\n",
       "    </tr>\n",
       "    <tr>\n",
       "      <th>1</th>\n",
       "      <td>0</td>\n",
       "      <td>Auto merge of #4754 - daira:fix-enable-debug, ...</td>\n",
       "      <td>diff --git a/depends/hosts/darwin.mk b/depends...</td>\n",
       "    </tr>\n",
       "    <tr>\n",
       "      <th>2</th>\n",
       "      <td>1</td>\n",
       "      <td>CAMEL-9309: Make it easier to turn on|off java...</td>\n",
       "      <td>diff --git a/components/camel-ahc/src/main/jav...</td>\n",
       "    </tr>\n",
       "    <tr>\n",
       "      <th>3</th>\n",
       "      <td>1</td>\n",
       "      <td>Fixed bug #72627: Memory Leakage In exif_proce...</td>\n",
       "      <td>diff --git a/ext/exif/exif.c b/ext/exif/exif.c...</td>\n",
       "    </tr>\n",
       "    <tr>\n",
       "      <th>4</th>\n",
       "      <td>0</td>\n",
       "      <td>Merge branch 'dev'</td>\n",
       "      <td>diff --git a/.htaccess b/.htaccess\\nindex 3293...</td>\n",
       "    </tr>\n",
       "    <tr>\n",
       "      <th>...</th>\n",
       "      <td>...</td>\n",
       "      <td>...</td>\n",
       "      <td>...</td>\n",
       "    </tr>\n",
       "    <tr>\n",
       "      <th>7073</th>\n",
       "      <td>1</td>\n",
       "      <td>Restrict permissions on cinder configuration\\n...</td>\n",
       "      <td>diff --git a/manifests/base.pp b/manifests/bas...</td>\n",
       "    </tr>\n",
       "    <tr>\n",
       "      <th>7074</th>\n",
       "      <td>1</td>\n",
       "      <td>avformat/avidec: Limit formats in gab2 to srt ...</td>\n",
       "      <td>diff --git a/libavformat/avidec.c b/libavforma...</td>\n",
       "    </tr>\n",
       "    <tr>\n",
       "      <th>7075</th>\n",
       "      <td>1</td>\n",
       "      <td>Fixed possible direct calls</td>\n",
       "      <td>diff --git a/phpmyfaq/admin/stat.ratings.php b...</td>\n",
       "    </tr>\n",
       "    <tr>\n",
       "      <th>7076</th>\n",
       "      <td>1</td>\n",
       "      <td>Reject qname's wirelength &gt; 255, `chopOff()` h...</td>\n",
       "      <td>diff --git a/pdns/dnsparser.cc b/pdns/dnsparse...</td>\n",
       "    </tr>\n",
       "    <tr>\n",
       "      <th>7077</th>\n",
       "      <td>1</td>\n",
       "      <td>Add accessDeniedHandler method to ExceptionHan...</td>\n",
       "      <td>diff --git a/config/src/main/java/org/springfr...</td>\n",
       "    </tr>\n",
       "  </tbody>\n",
       "</table>\n",
       "<p>7078 rows × 3 columns</p>\n",
       "</div>"
      ],
      "text/plain": [
       "      label                                               text  \\\n",
       "0         1                                         XSS 취약점 수정   \n",
       "1         0  Auto merge of #4754 - daira:fix-enable-debug, ...   \n",
       "2         1  CAMEL-9309: Make it easier to turn on|off java...   \n",
       "3         1  Fixed bug #72627: Memory Leakage In exif_proce...   \n",
       "4         0                                 Merge branch 'dev'   \n",
       "...     ...                                                ...   \n",
       "7073      1  Restrict permissions on cinder configuration\\n...   \n",
       "7074      1  avformat/avidec: Limit formats in gab2 to srt ...   \n",
       "7075      1                        Fixed possible direct calls   \n",
       "7076      1  Reject qname's wirelength > 255, `chopOff()` h...   \n",
       "7077      1  Add accessDeniedHandler method to ExceptionHan...   \n",
       "\n",
       "                                                   diff  \n",
       "0     diff --git a/adm/board_form_update.php b/adm/b...  \n",
       "1     diff --git a/depends/hosts/darwin.mk b/depends...  \n",
       "2     diff --git a/components/camel-ahc/src/main/jav...  \n",
       "3     diff --git a/ext/exif/exif.c b/ext/exif/exif.c...  \n",
       "4     diff --git a/.htaccess b/.htaccess\\nindex 3293...  \n",
       "...                                                 ...  \n",
       "7073  diff --git a/manifests/base.pp b/manifests/bas...  \n",
       "7074  diff --git a/libavformat/avidec.c b/libavforma...  \n",
       "7075  diff --git a/phpmyfaq/admin/stat.ratings.php b...  \n",
       "7076  diff --git a/pdns/dnsparser.cc b/pdns/dnsparse...  \n",
       "7077  diff --git a/config/src/main/java/org/springfr...  \n",
       "\n",
       "[7078 rows x 3 columns]"
      ]
     },
     "execution_count": 4,
     "metadata": {},
     "output_type": "execute_result"
    }
   ],
   "source": [
    "train"
   ]
  },
  {
   "cell_type": "code",
   "execution_count": 5,
   "id": "ee30affe-0ec9-46a3-bcaa-a1bd9422c939",
   "metadata": {
    "colab": {
     "base_uri": "https://localhost:8080/"
    },
    "execution": {
     "iopub.execute_input": "2024-05-29T11:56:10.387314Z",
     "iopub.status.busy": "2024-05-29T11:56:10.387066Z",
     "iopub.status.idle": "2024-05-29T11:56:10.391754Z",
     "shell.execute_reply": "2024-05-29T11:56:10.391185Z",
     "shell.execute_reply.started": "2024-05-29T11:56:10.387278Z"
    },
    "id": "ee30affe-0ec9-46a3-bcaa-a1bd9422c939",
    "outputId": "0fd90232-fe76-4d0d-976e-3ed298c84bfd"
   },
   "outputs": [
    {
     "data": {
      "text/plain": [
       "7078"
      ]
     },
     "execution_count": 5,
     "metadata": {},
     "output_type": "execute_result"
    }
   ],
   "source": [
    "len(train)"
   ]
  },
  {
   "cell_type": "code",
   "execution_count": 6,
   "id": "84e38639-cf4b-4762-a1dc-cdc983938388",
   "metadata": {
    "colab": {
     "base_uri": "https://localhost:8080/"
    },
    "execution": {
     "iopub.execute_input": "2024-05-29T11:56:10.393076Z",
     "iopub.status.busy": "2024-05-29T11:56:10.392829Z",
     "iopub.status.idle": "2024-05-29T11:56:10.400527Z",
     "shell.execute_reply": "2024-05-29T11:56:10.399961Z",
     "shell.execute_reply.started": "2024-05-29T11:56:10.393051Z"
    },
    "id": "84e38639-cf4b-4762-a1dc-cdc983938388",
    "outputId": "80508d99-0b1c-4b0d-f2dc-8b4a05e3750d"
   },
   "outputs": [
    {
     "data": {
      "text/plain": [
       "label\n",
       "0    4443\n",
       "1    2635\n",
       "Name: count, dtype: int64"
      ]
     },
     "execution_count": 6,
     "metadata": {},
     "output_type": "execute_result"
    }
   ],
   "source": [
    "train['label'].value_counts()"
   ]
  },
  {
   "cell_type": "code",
   "execution_count": 7,
   "id": "3cf6c110-616d-45da-aa2e-4a5add26b3c0",
   "metadata": {
    "colab": {
     "base_uri": "https://localhost:8080/"
    },
    "execution": {
     "iopub.execute_input": "2024-05-29T11:56:10.401934Z",
     "iopub.status.busy": "2024-05-29T11:56:10.401625Z",
     "iopub.status.idle": "2024-05-29T11:56:10.407606Z",
     "shell.execute_reply": "2024-05-29T11:56:10.406966Z",
     "shell.execute_reply.started": "2024-05-29T11:56:10.401908Z"
    },
    "id": "3cf6c110-616d-45da-aa2e-4a5add26b3c0",
    "outputId": "9a746745-f576-4e0e-9229-fb64ead0b6db"
   },
   "outputs": [
    {
     "data": {
      "text/plain": [
       "label\n",
       "0    1904\n",
       "1    1130\n",
       "Name: count, dtype: int64"
      ]
     },
     "execution_count": 7,
     "metadata": {},
     "output_type": "execute_result"
    }
   ],
   "source": [
    "test['label'].value_counts()"
   ]
  },
  {
   "cell_type": "code",
   "execution_count": 8,
   "id": "dca6275a-a567-4963-831c-8dd653341162",
   "metadata": {
    "execution": {
     "iopub.execute_input": "2024-05-29T11:56:10.409127Z",
     "iopub.status.busy": "2024-05-29T11:56:10.408786Z",
     "iopub.status.idle": "2024-05-29T11:56:10.947121Z",
     "shell.execute_reply": "2024-05-29T11:56:10.946405Z",
     "shell.execute_reply.started": "2024-05-29T11:56:10.409095Z"
    },
    "id": "dca6275a-a567-4963-831c-8dd653341162"
   },
   "outputs": [],
   "source": [
    "# !pip install sentence_transformers\n",
    "from sentence_transformers import SentenceTransformer\n",
    "# model_id = \"../../sentence-transformers/paraphrase-mpnet-base-v2\"\n",
    "model = SentenceTransformer('../../sentence-transformers/paraphrase-mpnet-base-v2')"
   ]
  },
  {
   "cell_type": "code",
   "execution_count": 9,
   "id": "b7c52074-c55f-4218-bc87-cdbc6e36a993",
   "metadata": {
    "execution": {
     "iopub.execute_input": "2024-05-29T11:56:10.948514Z",
     "iopub.status.busy": "2024-05-29T11:56:10.948234Z",
     "iopub.status.idle": "2024-05-29T11:58:45.241205Z",
     "shell.execute_reply": "2024-05-29T11:58:45.240099Z",
     "shell.execute_reply.started": "2024-05-29T11:56:10.948490Z"
    },
    "id": "b7c52074-c55f-4218-bc87-cdbc6e36a993"
   },
   "outputs": [],
   "source": [
    "train['embeddings'] = train['text'].apply(lambda x: model.encode(str(x)))\n",
    "test['embeddings'] = test['text'].apply(lambda x: model.encode(str(x)))"
   ]
  },
  {
   "cell_type": "code",
   "execution_count": 10,
   "id": "Oo2YeBo8kclU",
   "metadata": {
    "colab": {
     "base_uri": "https://localhost:8080/",
     "height": 964
    },
    "execution": {
     "iopub.execute_input": "2024-05-29T11:58:45.243491Z",
     "iopub.status.busy": "2024-05-29T11:58:45.243070Z",
     "iopub.status.idle": "2024-05-29T11:58:45.266651Z",
     "shell.execute_reply": "2024-05-29T11:58:45.265946Z",
     "shell.execute_reply.started": "2024-05-29T11:58:45.243464Z"
    },
    "id": "Oo2YeBo8kclU",
    "outputId": "e82ba19c-1b96-4150-f898-d9b49172272a"
   },
   "outputs": [
    {
     "data": {
      "text/html": [
       "<div>\n",
       "<style scoped>\n",
       "    .dataframe tbody tr th:only-of-type {\n",
       "        vertical-align: middle;\n",
       "    }\n",
       "\n",
       "    .dataframe tbody tr th {\n",
       "        vertical-align: top;\n",
       "    }\n",
       "\n",
       "    .dataframe thead th {\n",
       "        text-align: right;\n",
       "    }\n",
       "</style>\n",
       "<table border=\"1\" class=\"dataframe\">\n",
       "  <thead>\n",
       "    <tr style=\"text-align: right;\">\n",
       "      <th></th>\n",
       "      <th>label</th>\n",
       "      <th>text</th>\n",
       "      <th>diff</th>\n",
       "      <th>embeddings</th>\n",
       "    </tr>\n",
       "  </thead>\n",
       "  <tbody>\n",
       "    <tr>\n",
       "      <th>0</th>\n",
       "      <td>0</td>\n",
       "      <td>[mjr] Allow to optinoally specify end date for...</td>\n",
       "      <td>diff --git a/doc/CHANGES b/doc/CHANGES\\nindex ...</td>\n",
       "      <td>[-0.0950423, -0.049959756, -0.010932135, -0.10...</td>\n",
       "    </tr>\n",
       "    <tr>\n",
       "      <th>1</th>\n",
       "      <td>1</td>\n",
       "      <td>Fixed memory leak when creating nested excepti...</td>\n",
       "      <td>diff --git a/ChangeLog b/ChangeLog\\nindex 019b...</td>\n",
       "      <td>[-0.0038684113, 0.0019372888, -0.07806292, 0.2...</td>\n",
       "    </tr>\n",
       "    <tr>\n",
       "      <th>2</th>\n",
       "      <td>0</td>\n",
       "      <td>regenerate pyaff.c with a newer Cython\\n\\nCyth...</td>\n",
       "      <td>diff --git a/pyaff/pyaff.c b/pyaff/pyaff.c\\nin...</td>\n",
       "      <td>[-0.123547316, 0.039077245, 0.008539506, 0.026...</td>\n",
       "    </tr>\n",
       "    <tr>\n",
       "      <th>3</th>\n",
       "      <td>1</td>\n",
       "      <td>Added some tests for CXF-4629\\n\\ngit-svn-id: h...</td>\n",
       "      <td>diff --git a/rt/ws/security/src/main/java/org/...</td>\n",
       "      <td>[-0.17392713, 0.2297541, -0.044745788, 0.08347...</td>\n",
       "    </tr>\n",
       "    <tr>\n",
       "      <th>4</th>\n",
       "      <td>1</td>\n",
       "      <td>Selectively cache headers\\n\\nCo-authored-by: J...</td>\n",
       "      <td>diff --git a/imap/util.c b/imap/util.c\\nindex ...</td>\n",
       "      <td>[0.023296649, 0.034457777, -0.04611981, 0.0770...</td>\n",
       "    </tr>\n",
       "    <tr>\n",
       "      <th>...</th>\n",
       "      <td>...</td>\n",
       "      <td>...</td>\n",
       "      <td>...</td>\n",
       "      <td>...</td>\n",
       "    </tr>\n",
       "    <tr>\n",
       "      <th>3029</th>\n",
       "      <td>1</td>\n",
       "      <td>Add accessDeniedHandler method to ExceptionHan...</td>\n",
       "      <td>diff --git a/config/src/main/java/org/springfr...</td>\n",
       "      <td>[-0.02450317, 0.45559555, 0.05852364, -0.00511...</td>\n",
       "    </tr>\n",
       "    <tr>\n",
       "      <th>3030</th>\n",
       "      <td>0</td>\n",
       "      <td>Merge pull request #1247 from jbonofre/KARAF-6...</td>\n",
       "      <td>diff --git a/shell/ssh/src/main/java/org/apach...</td>\n",
       "      <td>[-0.06588048, 0.12500134, 0.07387895, -0.05972...</td>\n",
       "    </tr>\n",
       "    <tr>\n",
       "      <th>3031</th>\n",
       "      <td>0</td>\n",
       "      <td>Bump @popperjs/core from 2.5.4 to 2.6.0 in /fr...</td>\n",
       "      <td>diff --git a/frontend/package-lock.json b/fron...</td>\n",
       "      <td>[-0.09501643, 0.032177404, -0.033742666, 0.047...</td>\n",
       "    </tr>\n",
       "    <tr>\n",
       "      <th>3032</th>\n",
       "      <td>0</td>\n",
       "      <td>No one should care about ungifs.</td>\n",
       "      <td>diff --git a/README.md b/README.md\\nindex fa21...</td>\n",
       "      <td>[-0.07875047, 0.38262156, -0.0040256907, 0.030...</td>\n",
       "    </tr>\n",
       "    <tr>\n",
       "      <th>3033</th>\n",
       "      <td>0</td>\n",
       "      <td>Fixed: some ajax operations caused 'parseerror...</td>\n",
       "      <td>diff --git a/admin/ajax_response.php b/admin/a...</td>\n",
       "      <td>[0.021619428, 0.042023078, 0.065054715, 0.0076...</td>\n",
       "    </tr>\n",
       "  </tbody>\n",
       "</table>\n",
       "<p>3034 rows × 4 columns</p>\n",
       "</div>"
      ],
      "text/plain": [
       "      label                                               text  \\\n",
       "0         0  [mjr] Allow to optinoally specify end date for...   \n",
       "1         1  Fixed memory leak when creating nested excepti...   \n",
       "2         0  regenerate pyaff.c with a newer Cython\\n\\nCyth...   \n",
       "3         1  Added some tests for CXF-4629\\n\\ngit-svn-id: h...   \n",
       "4         1  Selectively cache headers\\n\\nCo-authored-by: J...   \n",
       "...     ...                                                ...   \n",
       "3029      1  Add accessDeniedHandler method to ExceptionHan...   \n",
       "3030      0  Merge pull request #1247 from jbonofre/KARAF-6...   \n",
       "3031      0  Bump @popperjs/core from 2.5.4 to 2.6.0 in /fr...   \n",
       "3032      0                   No one should care about ungifs.   \n",
       "3033      0  Fixed: some ajax operations caused 'parseerror...   \n",
       "\n",
       "                                                   diff  \\\n",
       "0     diff --git a/doc/CHANGES b/doc/CHANGES\\nindex ...   \n",
       "1     diff --git a/ChangeLog b/ChangeLog\\nindex 019b...   \n",
       "2     diff --git a/pyaff/pyaff.c b/pyaff/pyaff.c\\nin...   \n",
       "3     diff --git a/rt/ws/security/src/main/java/org/...   \n",
       "4     diff --git a/imap/util.c b/imap/util.c\\nindex ...   \n",
       "...                                                 ...   \n",
       "3029  diff --git a/config/src/main/java/org/springfr...   \n",
       "3030  diff --git a/shell/ssh/src/main/java/org/apach...   \n",
       "3031  diff --git a/frontend/package-lock.json b/fron...   \n",
       "3032  diff --git a/README.md b/README.md\\nindex fa21...   \n",
       "3033  diff --git a/admin/ajax_response.php b/admin/a...   \n",
       "\n",
       "                                             embeddings  \n",
       "0     [-0.0950423, -0.049959756, -0.010932135, -0.10...  \n",
       "1     [-0.0038684113, 0.0019372888, -0.07806292, 0.2...  \n",
       "2     [-0.123547316, 0.039077245, 0.008539506, 0.026...  \n",
       "3     [-0.17392713, 0.2297541, -0.044745788, 0.08347...  \n",
       "4     [0.023296649, 0.034457777, -0.04611981, 0.0770...  \n",
       "...                                                 ...  \n",
       "3029  [-0.02450317, 0.45559555, 0.05852364, -0.00511...  \n",
       "3030  [-0.06588048, 0.12500134, 0.07387895, -0.05972...  \n",
       "3031  [-0.09501643, 0.032177404, -0.033742666, 0.047...  \n",
       "3032  [-0.07875047, 0.38262156, -0.0040256907, 0.030...  \n",
       "3033  [0.021619428, 0.042023078, 0.065054715, 0.0076...  \n",
       "\n",
       "[3034 rows x 4 columns]"
      ]
     },
     "execution_count": 10,
     "metadata": {},
     "output_type": "execute_result"
    }
   ],
   "source": [
    "test"
   ]
  },
  {
   "cell_type": "code",
   "execution_count": 11,
   "id": "b95f20d0-163a-460b-88b6-e883c9f17eaa",
   "metadata": {
    "execution": {
     "iopub.execute_input": "2024-05-29T11:58:45.267938Z",
     "iopub.status.busy": "2024-05-29T11:58:45.267691Z",
     "iopub.status.idle": "2024-05-29T11:58:45.273404Z",
     "shell.execute_reply": "2024-05-29T11:58:45.272783Z",
     "shell.execute_reply.started": "2024-05-29T11:58:45.267902Z"
    },
    "id": "b95f20d0-163a-460b-88b6-e883c9f17eaa"
   },
   "outputs": [],
   "source": [
    "X_train = train['embeddings'].to_list()\n",
    "X_test = test['embeddings'].to_list()\n",
    "\n",
    "y_train = train['label'].to_list()\n",
    "y_test = test['label'].to_list()"
   ]
  },
  {
   "cell_type": "code",
   "execution_count": 12,
   "id": "a6501389-0c86-442d-85cf-f04ad146703f",
   "metadata": {
    "colab": {
     "base_uri": "https://localhost:8080/",
     "height": 75
    },
    "execution": {
     "iopub.execute_input": "2024-05-29T11:58:45.274870Z",
     "iopub.status.busy": "2024-05-29T11:58:45.274626Z",
     "iopub.status.idle": "2024-05-29T11:58:45.626176Z",
     "shell.execute_reply": "2024-05-29T11:58:45.624982Z",
     "shell.execute_reply.started": "2024-05-29T11:58:45.274847Z"
    },
    "id": "a6501389-0c86-442d-85cf-f04ad146703f",
    "outputId": "7dd3a215-4ef3-4014-d76b-b0d6bea1f86b"
   },
   "outputs": [
    {
     "data": {
      "text/html": [
       "<style>#sk-container-id-1 {color: black;}#sk-container-id-1 pre{padding: 0;}#sk-container-id-1 div.sk-toggleable {background-color: white;}#sk-container-id-1 label.sk-toggleable__label {cursor: pointer;display: block;width: 100%;margin-bottom: 0;padding: 0.3em;box-sizing: border-box;text-align: center;}#sk-container-id-1 label.sk-toggleable__label-arrow:before {content: \"▸\";float: left;margin-right: 0.25em;color: #696969;}#sk-container-id-1 label.sk-toggleable__label-arrow:hover:before {color: black;}#sk-container-id-1 div.sk-estimator:hover label.sk-toggleable__label-arrow:before {color: black;}#sk-container-id-1 div.sk-toggleable__content {max-height: 0;max-width: 0;overflow: hidden;text-align: left;background-color: #f0f8ff;}#sk-container-id-1 div.sk-toggleable__content pre {margin: 0.2em;color: black;border-radius: 0.25em;background-color: #f0f8ff;}#sk-container-id-1 input.sk-toggleable__control:checked~div.sk-toggleable__content {max-height: 200px;max-width: 100%;overflow: auto;}#sk-container-id-1 input.sk-toggleable__control:checked~label.sk-toggleable__label-arrow:before {content: \"▾\";}#sk-container-id-1 div.sk-estimator input.sk-toggleable__control:checked~label.sk-toggleable__label {background-color: #d4ebff;}#sk-container-id-1 div.sk-label input.sk-toggleable__control:checked~label.sk-toggleable__label {background-color: #d4ebff;}#sk-container-id-1 input.sk-hidden--visually {border: 0;clip: rect(1px 1px 1px 1px);clip: rect(1px, 1px, 1px, 1px);height: 1px;margin: -1px;overflow: hidden;padding: 0;position: absolute;width: 1px;}#sk-container-id-1 div.sk-estimator {font-family: monospace;background-color: #f0f8ff;border: 1px dotted black;border-radius: 0.25em;box-sizing: border-box;margin-bottom: 0.5em;}#sk-container-id-1 div.sk-estimator:hover {background-color: #d4ebff;}#sk-container-id-1 div.sk-parallel-item::after {content: \"\";width: 100%;border-bottom: 1px solid gray;flex-grow: 1;}#sk-container-id-1 div.sk-label:hover label.sk-toggleable__label {background-color: #d4ebff;}#sk-container-id-1 div.sk-serial::before {content: \"\";position: absolute;border-left: 1px solid gray;box-sizing: border-box;top: 0;bottom: 0;left: 50%;z-index: 0;}#sk-container-id-1 div.sk-serial {display: flex;flex-direction: column;align-items: center;background-color: white;padding-right: 0.2em;padding-left: 0.2em;position: relative;}#sk-container-id-1 div.sk-item {position: relative;z-index: 1;}#sk-container-id-1 div.sk-parallel {display: flex;align-items: stretch;justify-content: center;background-color: white;position: relative;}#sk-container-id-1 div.sk-item::before, #sk-container-id-1 div.sk-parallel-item::before {content: \"\";position: absolute;border-left: 1px solid gray;box-sizing: border-box;top: 0;bottom: 0;left: 50%;z-index: -1;}#sk-container-id-1 div.sk-parallel-item {display: flex;flex-direction: column;z-index: 1;position: relative;background-color: white;}#sk-container-id-1 div.sk-parallel-item:first-child::after {align-self: flex-end;width: 50%;}#sk-container-id-1 div.sk-parallel-item:last-child::after {align-self: flex-start;width: 50%;}#sk-container-id-1 div.sk-parallel-item:only-child::after {width: 0;}#sk-container-id-1 div.sk-dashed-wrapped {border: 1px dashed gray;margin: 0 0.4em 0.5em 0.4em;box-sizing: border-box;padding-bottom: 0.4em;background-color: white;}#sk-container-id-1 div.sk-label label {font-family: monospace;font-weight: bold;display: inline-block;line-height: 1.2em;}#sk-container-id-1 div.sk-label-container {text-align: center;}#sk-container-id-1 div.sk-container {/* jupyter's `normalize.less` sets `[hidden] { display: none; }` but bootstrap.min.css set `[hidden] { display: none !important; }` so we also need the `!important` here to be able to override the default hidden behavior on the sphinx rendered scikit-learn.org. See: https://github.com/scikit-learn/scikit-learn/issues/21755 */display: inline-block !important;position: relative;}#sk-container-id-1 div.sk-text-repr-fallback {display: none;}</style><div id=\"sk-container-id-1\" class=\"sk-top-container\"><div class=\"sk-text-repr-fallback\"><pre>LogisticRegression()</pre><b>In a Jupyter environment, please rerun this cell to show the HTML representation or trust the notebook. <br />On GitHub, the HTML representation is unable to render, please try loading this page with nbviewer.org.</b></div><div class=\"sk-container\" hidden><div class=\"sk-item\"><div class=\"sk-estimator sk-toggleable\"><input class=\"sk-toggleable__control sk-hidden--visually\" id=\"sk-estimator-id-1\" type=\"checkbox\" checked><label for=\"sk-estimator-id-1\" class=\"sk-toggleable__label sk-toggleable__label-arrow\">LogisticRegression</label><div class=\"sk-toggleable__content\"><pre>LogisticRegression()</pre></div></div></div></div></div>"
      ],
      "text/plain": [
       "LogisticRegression()"
      ]
     },
     "execution_count": 12,
     "metadata": {},
     "output_type": "execute_result"
    }
   ],
   "source": [
    "from sklearn.linear_model import LogisticRegression\n",
    "LR = LogisticRegression()\n",
    "LR.fit(X_train,y_train)"
   ]
  },
  {
   "cell_type": "code",
   "execution_count": 13,
   "id": "86e85ae4-76a0-4d00-8b0c-e867356c07f3",
   "metadata": {
    "colab": {
     "base_uri": "https://localhost:8080/"
    },
    "execution": {
     "iopub.execute_input": "2024-05-29T11:58:45.630830Z",
     "iopub.status.busy": "2024-05-29T11:58:45.630350Z",
     "iopub.status.idle": "2024-05-29T11:58:45.777801Z",
     "shell.execute_reply": "2024-05-29T11:58:45.776655Z",
     "shell.execute_reply.started": "2024-05-29T11:58:45.630788Z"
    },
    "id": "86e85ae4-76a0-4d00-8b0c-e867356c07f3",
    "outputId": "eedae872-6a71-4aa3-f253-b9f08f460c32"
   },
   "outputs": [
    {
     "name": "stdout",
     "output_type": "stream",
     "text": [
      "Logistic Regression Precision: 0.8542564621982858\n",
      "Logistic Regression Recall: 0.8553065260382333\n",
      "Logistic Regression Recall: 0.8542524722135222\n",
      "Logistic Regression Accuracy: 0.8553065260382333\n"
     ]
    }
   ],
   "source": [
    "from sklearn import metrics\n",
    "predicted = LR.predict(X_test)\n",
    "print(\"Logistic Regression Precision:\",metrics.precision_score(y_test, predicted,average='weighted'))\n",
    "print(\"Logistic Regression Recall:\",metrics.recall_score(y_test, predicted,average='weighted'))\n",
    "print(\"Logistic Regression Recall:\",metrics.f1_score(y_test, predicted,average='weighted'))\n",
    "print(\"Logistic Regression Accuracy:\",metrics.accuracy_score(y_test, predicted))"
   ]
  },
  {
   "cell_type": "code",
   "execution_count": null,
   "id": "166dcf9b-a0bd-4b60-854c-c6535c22a111",
   "metadata": {
    "id": "166dcf9b-a0bd-4b60-854c-c6535c22a111"
   },
   "outputs": [],
   "source": []
  },
  {
   "cell_type": "code",
   "execution_count": null,
   "id": "af21aba7-66cd-4762-b5d4-6d27650bba7e",
   "metadata": {
    "id": "af21aba7-66cd-4762-b5d4-6d27650bba7e"
   },
   "outputs": [],
   "source": []
  },
  {
   "cell_type": "code",
   "execution_count": null,
   "id": "6a6e2008-2b04-43c7-9c72-3f9fa9b6bafe",
   "metadata": {
    "id": "6a6e2008-2b04-43c7-9c72-3f9fa9b6bafe"
   },
   "outputs": [],
   "source": []
  },
  {
   "cell_type": "code",
   "execution_count": null,
   "id": "99ef5d5b-1f8e-4b10-aa74-963f9c4429d9",
   "metadata": {
    "id": "99ef5d5b-1f8e-4b10-aa74-963f9c4429d9"
   },
   "outputs": [],
   "source": []
  }
 ],
 "metadata": {
  "accelerator": "GPU",
  "colab": {
   "gpuType": "T4",
   "provenance": []
  },
  "kernelspec": {
   "display_name": "Python 3 (ipykernel)",
   "language": "python",
   "name": "python3"
  },
  "language_info": {
   "codemirror_mode": {
    "name": "ipython",
    "version": 3
   },
   "file_extension": ".py",
   "mimetype": "text/x-python",
   "name": "python",
   "nbconvert_exporter": "python",
   "pygments_lexer": "ipython3",
   "version": "3.11.8"
  }
 },
 "nbformat": 4,
 "nbformat_minor": 5
}
