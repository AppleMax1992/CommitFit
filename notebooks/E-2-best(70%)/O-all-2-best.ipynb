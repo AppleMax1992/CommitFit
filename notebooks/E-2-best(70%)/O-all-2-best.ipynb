{
 "cells": [
  {
   "cell_type": "code",
   "execution_count": 1,
   "metadata": {
    "execution": {
     "iopub.execute_input": "2024-05-31T00:13:51.855766Z",
     "iopub.status.busy": "2024-05-31T00:13:51.855244Z",
     "iopub.status.idle": "2024-05-31T00:13:51.860598Z",
     "shell.execute_reply": "2024-05-31T00:13:51.859835Z",
     "shell.execute_reply.started": "2024-05-31T00:13:51.855744Z"
    }
   },
   "outputs": [],
   "source": [
    "# !export NCCL_IB_DISABLE=1\n",
    "# !export  CUDA_LAUNCH_BLOCKING=1"
   ]
  },
  {
   "cell_type": "code",
   "execution_count": 2,
   "metadata": {
    "colab": {
     "base_uri": "https://localhost:8080/"
    },
    "execution": {
     "iopub.execute_input": "2024-05-31T00:13:51.862209Z",
     "iopub.status.busy": "2024-05-31T00:13:51.861868Z",
     "iopub.status.idle": "2024-05-31T00:13:55.474792Z",
     "shell.execute_reply": "2024-05-31T00:13:55.473983Z",
     "shell.execute_reply.started": "2024-05-31T00:13:51.862186Z"
    },
    "id": "JG4lmLOLa8fb",
    "outputId": "0a81f6e0-5050-46de-f0cc-7430e60374d9"
   },
   "outputs": [
    {
     "name": "stdout",
     "output_type": "stream",
     "text": [
      "\n",
      "CommitFit\n"
     ]
    }
   ],
   "source": [
    "# !pip install transformers accelerate\n",
    "from transformers import AutoTokenizer, AutoModel, EarlyStoppingCallback, AutoModelForSequenceClassification, AutoConfig,Trainer, TrainingArguments,DataCollatorWithPadding\n",
    "import torch\n",
    "import numpy as np\n",
    "import pandas as pd\n",
    "# !pip install datasets\n",
    "from datasets import load_metric\n",
    "# %pip install evaluate\n",
    "from evaluate import evaluator\n",
    "from sklearn.model_selection import train_test_split\n",
    "# from ipywidgets import FloatProgress\n",
    "import csv\n",
    "from optuna import Trial\n",
    "from typing import Dict, Union, Any\n",
    "import os\n",
    "import sys\n",
    "# notebook_login()\n",
    "\n",
    "csv.field_size_limit(500 * 1024 * 1024)\n",
    "CUDA_LAUNCH_BLOCKING=1\n",
    "# get pwd\n",
    "notebook_path = os.path.abspath('')\n",
    "\n",
    "# Find the part of the path that contains 'commitFit'\n",
    "commit_fit_path = None\n",
    "for part in notebook_path.split(os.sep):\n",
    "    print(part)\n",
    "    if 'CommitFit' in part:\n",
    "        commit_fit_path = notebook_path.split(part)[0] + part\n",
    "        break\n",
    "\n",
    "if commit_fit_path is None:\n",
    "    raise ValueError(\"Path containing 'commitFit' not found in notebook path.\")\n",
    "\n",
    "# Add commitFit directory to Python path, so we can import moudule from commitfit folder directly\n",
    "if commit_fit_path not in sys.path:\n",
    "    sys.path.append(commit_fit_path)\n",
    "\n",
    "from commitfit import CommitFitModel, CommitFitTrainer "
   ]
  },
  {
   "cell_type": "code",
   "execution_count": 3,
   "metadata": {
    "execution": {
     "iopub.execute_input": "2024-05-31T00:13:55.476562Z",
     "iopub.status.busy": "2024-05-31T00:13:55.475643Z",
     "iopub.status.idle": "2024-05-31T00:13:58.465892Z",
     "shell.execute_reply": "2024-05-31T00:13:58.465061Z",
     "shell.execute_reply.started": "2024-05-31T00:13:55.476541Z"
    },
    "id": "1yw6xXMxa8fm"
   },
   "outputs": [],
   "source": [
    "train = pd.read_csv(r'train.csv', encoding='utf_8_sig')\n",
    "train.fillna('', inplace=True)\n",
    "test = pd.read_csv(r'test.csv', encoding='utf_8_sig')\n",
    "test.fillna('', inplace=True)"
   ]
  },
  {
   "cell_type": "code",
   "execution_count": 4,
   "metadata": {
    "colab": {
     "base_uri": "https://localhost:8080/",
     "height": 904
    },
    "execution": {
     "iopub.execute_input": "2024-05-31T00:13:58.466874Z",
     "iopub.status.busy": "2024-05-31T00:13:58.466692Z",
     "iopub.status.idle": "2024-05-31T00:13:58.470994Z",
     "shell.execute_reply": "2024-05-31T00:13:58.470299Z",
     "shell.execute_reply.started": "2024-05-31T00:13:58.466854Z"
    },
    "id": "9WwAW7Mta8fn",
    "outputId": "db4a8fa6-fdc7-4894-ed64-54bd5abbd22f"
   },
   "outputs": [],
   "source": [
    "# df"
   ]
  },
  {
   "cell_type": "code",
   "execution_count": 5,
   "metadata": {
    "execution": {
     "iopub.execute_input": "2024-05-31T00:13:58.473248Z",
     "iopub.status.busy": "2024-05-31T00:13:58.473013Z",
     "iopub.status.idle": "2024-05-31T00:13:58.476700Z",
     "shell.execute_reply": "2024-05-31T00:13:58.476076Z",
     "shell.execute_reply.started": "2024-05-31T00:13:58.473225Z"
    },
    "id": "1w7shBU6a8ft"
   },
   "outputs": [],
   "source": [
    "# df = df.rename(columns={'message':'text'})\n",
    "# train, test = train_test_split(df,test_size=0.996,stratify=df['label'],random_state=1)"
   ]
  },
  {
   "cell_type": "code",
   "execution_count": 6,
   "metadata": {
    "colab": {
     "base_uri": "https://localhost:8080/"
    },
    "execution": {
     "iopub.execute_input": "2024-05-31T00:13:58.477542Z",
     "iopub.status.busy": "2024-05-31T00:13:58.477328Z",
     "iopub.status.idle": "2024-05-31T00:13:58.481599Z",
     "shell.execute_reply": "2024-05-31T00:13:58.480940Z",
     "shell.execute_reply.started": "2024-05-31T00:13:58.477521Z"
    },
    "id": "S18mSYutwQCk",
    "outputId": "849de636-62e2-4ec0-886d-d9a22b9f434c"
   },
   "outputs": [],
   "source": [
    "from commitfit import get_templated_dataset,sample_dataset\n",
    "from datasets import Dataset, load_metric"
   ]
  },
  {
   "cell_type": "code",
   "execution_count": 7,
   "metadata": {
    "execution": {
     "iopub.execute_input": "2024-05-31T00:13:58.482563Z",
     "iopub.status.busy": "2024-05-31T00:13:58.482346Z",
     "iopub.status.idle": "2024-05-31T00:13:58.485841Z",
     "shell.execute_reply": "2024-05-31T00:13:58.485210Z",
     "shell.execute_reply.started": "2024-05-31T00:13:58.482541Z"
    },
    "id": "5NPg69ys3j-W"
   },
   "outputs": [],
   "source": [
    "# train = df.rename(columns={'3_labels':'label','comment':'text'})"
   ]
  },
  {
   "cell_type": "code",
   "execution_count": 8,
   "metadata": {
    "execution": {
     "iopub.execute_input": "2024-05-31T00:13:58.486803Z",
     "iopub.status.busy": "2024-05-31T00:13:58.486562Z",
     "iopub.status.idle": "2024-05-31T00:13:59.141878Z",
     "shell.execute_reply": "2024-05-31T00:13:59.141017Z",
     "shell.execute_reply.started": "2024-05-31T00:13:58.486780Z"
    },
    "id": "RjnQ68Jf4eAH"
   },
   "outputs": [],
   "source": [
    "Dataset_train = Dataset.from_pandas(train)\n",
    "test_dataset = Dataset.from_pandas(test)\n"
   ]
  },
  {
   "cell_type": "code",
   "execution_count": 9,
   "metadata": {
    "execution": {
     "iopub.execute_input": "2024-05-31T00:13:59.143646Z",
     "iopub.status.busy": "2024-05-31T00:13:59.143186Z",
     "iopub.status.idle": "2024-05-31T00:13:59.175302Z",
     "shell.execute_reply": "2024-05-31T00:13:59.174129Z",
     "shell.execute_reply.started": "2024-05-31T00:13:59.143608Z"
    },
    "id": "Rvd3m4EVa8fu"
   },
   "outputs": [
    {
     "name": "stderr",
     "output_type": "stream",
     "text": [
      "/usr/local/lib/python3.11/dist-packages/datasets/table.py:1395: FutureWarning: promote has been superseded by promote_options='default'.\n",
      "  block_group = [InMemoryTable(cls._concat_blocks(list(block_group), axis=axis))]\n",
      "/usr/local/lib/python3.11/dist-packages/datasets/table.py:1421: FutureWarning: promote has been superseded by promote_options='default'.\n",
      "  table = cls._concat_blocks(blocks, axis=0)\n"
     ]
    }
   ],
   "source": [
    "train_dataset = get_templated_dataset(Dataset_train, candidate_labels=['negative','positive'], sample_size=8)"
   ]
  },
  {
   "cell_type": "code",
   "execution_count": 10,
   "metadata": {
    "colab": {
     "base_uri": "https://localhost:8080/"
    },
    "execution": {
     "iopub.execute_input": "2024-05-31T00:13:59.176283Z",
     "iopub.status.busy": "2024-05-31T00:13:59.176120Z",
     "iopub.status.idle": "2024-05-31T00:13:59.181926Z",
     "shell.execute_reply": "2024-05-31T00:13:59.181413Z",
     "shell.execute_reply.started": "2024-05-31T00:13:59.176267Z"
    },
    "id": "hkrCYmPZ77gx",
    "outputId": "ddcf93f4-5f71-4f98-8291-fd40c0b7d58e"
   },
   "outputs": [
    {
     "data": {
      "text/plain": [
       "Dataset({\n",
       "    features: ['label', 'text', 'diff'],\n",
       "    num_rows: 7094\n",
       "})"
      ]
     },
     "execution_count": 10,
     "metadata": {},
     "output_type": "execute_result"
    }
   ],
   "source": [
    "# list(train['message'].astype(str).values)\n",
    "train_dataset"
   ]
  },
  {
   "cell_type": "code",
   "execution_count": 11,
   "metadata": {
    "colab": {
     "base_uri": "https://localhost:8080/"
    },
    "execution": {
     "iopub.execute_input": "2024-05-31T00:13:59.182614Z",
     "iopub.status.busy": "2024-05-31T00:13:59.182465Z",
     "iopub.status.idle": "2024-05-31T00:13:59.186733Z",
     "shell.execute_reply": "2024-05-31T00:13:59.186220Z",
     "shell.execute_reply.started": "2024-05-31T00:13:59.182600Z"
    },
    "id": "-ETd4LVFa8fv",
    "outputId": "18880e46-df57-4ebe-c04a-d30b300f324d"
   },
   "outputs": [
    {
     "data": {
      "text/plain": [
       "7078"
      ]
     },
     "execution_count": 11,
     "metadata": {},
     "output_type": "execute_result"
    }
   ],
   "source": [
    "len(train)"
   ]
  },
  {
   "cell_type": "code",
   "execution_count": 12,
   "metadata": {
    "execution": {
     "iopub.execute_input": "2024-05-31T00:13:59.187322Z",
     "iopub.status.busy": "2024-05-31T00:13:59.187170Z",
     "iopub.status.idle": "2024-05-31T00:13:59.190243Z",
     "shell.execute_reply": "2024-05-31T00:13:59.189624Z",
     "shell.execute_reply.started": "2024-05-31T00:13:59.187306Z"
    },
    "id": "L_ChDWtCfXXK"
   },
   "outputs": [],
   "source": [
    "# encoded_train = tokenizer(train_dataset['text'].astype(str).to_list(), return_tensors='pt',truncation=True, padding=True)\n",
    "# print(encoded_train[\"input_ids\"].shape)\n",
    "# encoded_test = tokenizer(test['comment'].astype(str).to_list(), return_tensors='pt',truncation=True, padding=True)\n",
    "# print(encoded_test[\"input_ids\"].shape)\n",
    "# # encoded_val = tokenizer(val['comment'].astype(str).to_list(), return_tensors='pt',truncation=True, padding='max_length')"
   ]
  },
  {
   "cell_type": "code",
   "execution_count": 13,
   "metadata": {
    "execution": {
     "iopub.execute_input": "2024-05-31T00:13:59.191088Z",
     "iopub.status.busy": "2024-05-31T00:13:59.190928Z",
     "iopub.status.idle": "2024-05-31T00:13:59.194769Z",
     "shell.execute_reply": "2024-05-31T00:13:59.193853Z",
     "shell.execute_reply.started": "2024-05-31T00:13:59.191072Z"
    },
    "id": "yMgjvhIQa8fx"
   },
   "outputs": [],
   "source": [
    "# encoded_train"
   ]
  },
  {
   "cell_type": "code",
   "execution_count": 14,
   "metadata": {
    "colab": {
     "base_uri": "https://localhost:8080/"
    },
    "execution": {
     "iopub.execute_input": "2024-05-31T00:13:59.198752Z",
     "iopub.status.busy": "2024-05-31T00:13:59.198206Z",
     "iopub.status.idle": "2024-05-31T00:13:59.204644Z",
     "shell.execute_reply": "2024-05-31T00:13:59.204102Z",
     "shell.execute_reply.started": "2024-05-31T00:13:59.198728Z"
    },
    "id": "T9WsMyLQKrHF",
    "outputId": "4f4f2fc4-5fd5-4362-ba88-226899cc27cc"
   },
   "outputs": [
    {
     "data": {
      "text/plain": [
       "label\n",
       "negative    4443\n",
       "positive    2635\n",
       "Name: count, dtype: int64"
      ]
     },
     "execution_count": 14,
     "metadata": {},
     "output_type": "execute_result"
    }
   ],
   "source": [
    "train['label'].value_counts()"
   ]
  },
  {
   "cell_type": "code",
   "execution_count": 15,
   "metadata": {
    "colab": {
     "base_uri": "https://localhost:8080/"
    },
    "execution": {
     "iopub.execute_input": "2024-05-31T00:13:59.205541Z",
     "iopub.status.busy": "2024-05-31T00:13:59.205377Z",
     "iopub.status.idle": "2024-05-31T00:13:59.209604Z",
     "shell.execute_reply": "2024-05-31T00:13:59.209115Z",
     "shell.execute_reply.started": "2024-05-31T00:13:59.205524Z"
    },
    "id": "jv-NZgirKsEr",
    "outputId": "8049c86e-4df7-4365-f807-057cf7af5aef"
   },
   "outputs": [
    {
     "data": {
      "text/plain": [
       "label\n",
       "negative    1904\n",
       "positive    1130\n",
       "Name: count, dtype: int64"
      ]
     },
     "execution_count": 15,
     "metadata": {},
     "output_type": "execute_result"
    }
   ],
   "source": [
    "test['label'].value_counts()"
   ]
  },
  {
   "cell_type": "code",
   "execution_count": 16,
   "metadata": {
    "execution": {
     "iopub.execute_input": "2024-05-31T00:13:59.210314Z",
     "iopub.status.busy": "2024-05-31T00:13:59.210165Z",
     "iopub.status.idle": "2024-05-31T00:13:59.212840Z",
     "shell.execute_reply": "2024-05-31T00:13:59.212247Z",
     "shell.execute_reply.started": "2024-05-31T00:13:59.210300Z"
    },
    "id": "OXdJqlwAa8fz"
   },
   "outputs": [],
   "source": [
    "# huggingface-cli login\n",
    "# train_dataset = CommitDataset(encoded_train, list(train['3_labels']))\n",
    "# test_dataset = CommitDataset(encoded_test, list(test['3_labels']))\n",
    "# val_dataset = CommitDataset(encoded_val, list(val['label']))"
   ]
  },
  {
   "cell_type": "code",
   "execution_count": 17,
   "metadata": {
    "colab": {
     "base_uri": "https://localhost:8080/"
    },
    "execution": {
     "iopub.execute_input": "2024-05-31T00:13:59.213609Z",
     "iopub.status.busy": "2024-05-31T00:13:59.213444Z",
     "iopub.status.idle": "2024-05-31T00:13:59.217329Z",
     "shell.execute_reply": "2024-05-31T00:13:59.216764Z",
     "shell.execute_reply.started": "2024-05-31T00:13:59.213592Z"
    },
    "id": "DiZMhL8ia8f0",
    "outputId": "ed075772-3b24-4bf0-e1ff-45f15bfc1808"
   },
   "outputs": [
    {
     "data": {
      "text/plain": [
       "7094"
      ]
     },
     "execution_count": 17,
     "metadata": {},
     "output_type": "execute_result"
    }
   ],
   "source": [
    "len(train_dataset)"
   ]
  },
  {
   "cell_type": "code",
   "execution_count": 18,
   "metadata": {
    "execution": {
     "iopub.execute_input": "2024-05-31T00:13:59.218194Z",
     "iopub.status.busy": "2024-05-31T00:13:59.217990Z",
     "iopub.status.idle": "2024-05-31T00:13:59.222351Z",
     "shell.execute_reply": "2024-05-31T00:13:59.221788Z",
     "shell.execute_reply.started": "2024-05-31T00:13:59.218173Z"
    },
    "id": "x0q3N4qJa8f0"
   },
   "outputs": [],
   "source": [
    "from sklearn import  metrics\n",
    "\n",
    "def compute_metrics(y_pred, y_test):\n",
    "    # print(y_pred,y_test)\n",
    "    # classification_report = metrics.classification_report(y_test,y_pred)\n",
    "    accuracy_score = metrics.accuracy_score(y_test,y_pred)\n",
    "    precision_score = metrics.precision_score(y_test,y_pred, average='weighted')\n",
    "    recall_score = metrics.recall_score(y_test,y_pred,average='weighted')\n",
    "    f1_score = metrics.f1_score(y_test,y_pred,average='weighted')\n",
    "\n",
    "    # return {\"classification_report\": classification_report}\n",
    "    return {\"precision\": precision_score,\"recall\": recall_score, \"f1\":f1_score, \"accuracy\": accuracy_score}"
   ]
  },
  {
   "cell_type": "code",
   "execution_count": 19,
   "metadata": {
    "colab": {
     "base_uri": "https://localhost:8080/"
    },
    "execution": {
     "iopub.execute_input": "2024-05-31T00:13:59.223251Z",
     "iopub.status.busy": "2024-05-31T00:13:59.223044Z",
     "iopub.status.idle": "2024-05-31T00:13:59.227643Z",
     "shell.execute_reply": "2024-05-31T00:13:59.226890Z",
     "shell.execute_reply.started": "2024-05-31T00:13:59.223230Z"
    },
    "id": "T7G9Bh5ya8f1",
    "outputId": "1c5e7622-e6fb-4bc9-eae1-f1526c560bd3"
   },
   "outputs": [
    {
     "data": {
      "text/plain": [
       "Dataset({\n",
       "    features: ['label', 'text', 'diff'],\n",
       "    num_rows: 7094\n",
       "})"
      ]
     },
     "execution_count": 19,
     "metadata": {},
     "output_type": "execute_result"
    }
   ],
   "source": [
    "train_dataset"
   ]
  },
  {
   "cell_type": "code",
   "execution_count": 20,
   "metadata": {
    "execution": {
     "iopub.execute_input": "2024-05-31T00:13:59.228599Z",
     "iopub.status.busy": "2024-05-31T00:13:59.228402Z",
     "iopub.status.idle": "2024-05-31T00:13:59.231751Z",
     "shell.execute_reply": "2024-05-31T00:13:59.231092Z",
     "shell.execute_reply.started": "2024-05-31T00:13:59.228579Z"
    },
    "id": "v1oRB2L15iq_"
   },
   "outputs": [],
   "source": [
    "model_id = r\"../../sentence-transformers/all-roberta-large-v1\""
   ]
  },
  {
   "cell_type": "code",
   "execution_count": 21,
   "metadata": {
    "colab": {
     "base_uri": "https://localhost:8080/"
    },
    "execution": {
     "iopub.execute_input": "2024-05-31T00:13:59.232675Z",
     "iopub.status.busy": "2024-05-31T00:13:59.232475Z",
     "iopub.status.idle": "2024-05-31T00:13:59.237976Z",
     "shell.execute_reply": "2024-05-31T00:13:59.237254Z",
     "shell.execute_reply.started": "2024-05-31T00:13:59.232655Z"
    },
    "id": "9nBQHD9Q5f8C",
    "outputId": "39edc6d6-93b1-4e80-ce60-6bf1cdedd4b9"
   },
   "outputs": [],
   "source": [
    "def hp_space(trial: Trial) -> Dict[str, Union[float, int, str]]:\n",
    "    return {\n",
    "        \"learning_rate\": trial.suggest_float(\"learning_rate\", 1e-6, 1e-3, log=True),\n",
    "        # \"num_epochs\": trial.suggest_int(\"num_epochs\", 1, 3),\n",
    "        # \"batch_size\": trial.suggest_categorical(\"batch_size\", [8, 12, 16]),\n",
    "        # \"seed\": trial.suggest_int(\"seed\", 1, 40),\n",
    "        # \"num_iterations\": trial.suggest_int(\"num_iterations\", 10, 20),\n",
    "        # \"solver\": trial.suggest_categorical(\"solver\", [\"newton-cg\", \"lbfgs\", \"liblinear\"]),\n",
    "    }\n",
    "def model_init(params: Dict[str, Any]) -> CommitFitModel:\n",
    "    params = params or {}\n",
    "    # learning_rate = params.get(\"learning_rate\")\n",
    "    # num_iterations = params.get(\"num_iterations\", 20)\n",
    "    # solver = params.get(\"solver\", \"liblinear\")\n",
    "    # params = {\n",
    "    #     \"head_params\": {\n",
    "    #         # \"max_iter\": num_iterations,\n",
    "    #         # \"solver\": solver,\n",
    "    #     }\n",
    "    # }\n",
    "    return CommitFitModel.from_pretrained(model_id, **params)\n",
    "def my_compute_objective(metrics):\n",
    "    print('+++++++++++',metrics)\n",
    "    return  metrics['accuracy']"
   ]
  },
  {
   "cell_type": "code",
   "execution_count": null,
   "metadata": {
    "execution": {
     "execution_failed": "2024-05-31T04:29:35.297Z",
     "iopub.execute_input": "2024-05-31T00:13:59.238888Z",
     "iopub.status.busy": "2024-05-31T00:13:59.238687Z"
    },
    "id": "6YfXNSzIa8f2"
   },
   "outputs": [
    {
     "name": "stderr",
     "output_type": "stream",
     "text": [
      "model_head.pkl not found in /CommitFit/sentence-transformers/all-roberta-large-v1, initialising classification head with random weights. You should TRAIN this model on a downstream task to use it for predictions and inference.\n",
      "[I 2024-05-31 08:14:02,257] A new study created in memory with name: no-name-78f8dc03-528c-4805-bad2-31a752453646\n",
      "Trial: {'learning_rate': 2.7117920562973035e-06}\n",
      "model_head.pkl not found in /CommitFit/sentence-transformers/all-roberta-large-v1, initialising classification head with random weights. You should TRAIN this model on a downstream task to use it for predictions and inference.\n"
     ]
    },
    {
     "data": {
      "application/vnd.jupyter.widget-view+json": {
       "model_id": "16347cce8ba84c6aa54e603d14557c82",
       "version_major": 2,
       "version_minor": 0
      },
      "text/plain": [
       "Generating Training Pairs:   0%|          | 0/5 [00:00<?, ?it/s]"
      ]
     },
     "metadata": {},
     "output_type": "display_data"
    },
    {
     "name": "stderr",
     "output_type": "stream",
     "text": [
      "***** Running training *****\n",
      "  Num examples = 70940\n",
      "  Num epochs = 1\n",
      "  Total optimization steps = 4434\n",
      "  Total train batch size = 16\n"
     ]
    },
    {
     "data": {
      "application/vnd.jupyter.widget-view+json": {
       "model_id": "b098fcfdc29344d89c4b1cfa2572727c",
       "version_major": 2,
       "version_minor": 0
      },
      "text/plain": [
       "Epoch:   0%|          | 0/1 [00:00<?, ?it/s]"
      ]
     },
     "metadata": {},
     "output_type": "display_data"
    },
    {
     "data": {
      "application/vnd.jupyter.widget-view+json": {
       "model_id": "7c61daa941f74f5f8b32dbf77c94dbe4",
       "version_major": 2,
       "version_minor": 0
      },
      "text/plain": [
       "Iteration:   0%|          | 0/4434 [00:00<?, ?it/s]"
      ]
     },
     "metadata": {},
     "output_type": "display_data"
    },
    {
     "name": "stderr",
     "output_type": "stream",
     "text": [
      "***** Running evaluation *****\n",
      "[I 2024-05-31 09:08:38,995] Trial 0 finished with value: 0.8928806855636124 and parameters: {'learning_rate': 2.7117920562973035e-06}. Best is trial 0 with value: 0.8928806855636124.\n",
      "Trial: {'learning_rate': 2.100992059998795e-05}\n"
     ]
    },
    {
     "name": "stdout",
     "output_type": "stream",
     "text": [
      "+++++++++++ {'precision': 0.895663704117354, 'recall': 0.8928806855636124, 'f1': 0.8935846088926628, 'accuracy': 0.8928806855636124}\n"
     ]
    },
    {
     "name": "stderr",
     "output_type": "stream",
     "text": [
      "model_head.pkl not found in /CommitFit/sentence-transformers/all-roberta-large-v1, initialising classification head with random weights. You should TRAIN this model on a downstream task to use it for predictions and inference.\n"
     ]
    },
    {
     "data": {
      "application/vnd.jupyter.widget-view+json": {
       "model_id": "cab2b065277f4b8bacc3c6db3e287541",
       "version_major": 2,
       "version_minor": 0
      },
      "text/plain": [
       "Generating Training Pairs:   0%|          | 0/5 [00:00<?, ?it/s]"
      ]
     },
     "metadata": {},
     "output_type": "display_data"
    },
    {
     "name": "stderr",
     "output_type": "stream",
     "text": [
      "***** Running training *****\n",
      "  Num examples = 70940\n",
      "  Num epochs = 1\n",
      "  Total optimization steps = 4434\n",
      "  Total train batch size = 16\n"
     ]
    },
    {
     "data": {
      "application/vnd.jupyter.widget-view+json": {
       "model_id": "39e3a43a11924f3492745c936b86dbff",
       "version_major": 2,
       "version_minor": 0
      },
      "text/plain": [
       "Epoch:   0%|          | 0/1 [00:00<?, ?it/s]"
      ]
     },
     "metadata": {},
     "output_type": "display_data"
    },
    {
     "data": {
      "application/vnd.jupyter.widget-view+json": {
       "model_id": "86e1b1b6217544faaba820451484c78e",
       "version_major": 2,
       "version_minor": 0
      },
      "text/plain": [
       "Iteration:   0%|          | 0/4434 [00:00<?, ?it/s]"
      ]
     },
     "metadata": {},
     "output_type": "display_data"
    },
    {
     "name": "stderr",
     "output_type": "stream",
     "text": [
      "***** Running evaluation *****\n",
      "[I 2024-05-31 10:03:19,084] Trial 1 finished with value: 0.9119973632168754 and parameters: {'learning_rate': 2.100992059998795e-05}. Best is trial 1 with value: 0.9119973632168754.\n",
      "Trial: {'learning_rate': 7.047978593333949e-05}\n"
     ]
    },
    {
     "name": "stdout",
     "output_type": "stream",
     "text": [
      "+++++++++++ {'precision': 0.912046521641681, 'recall': 0.9119973632168754, 'f1': 0.9120210023802758, 'accuracy': 0.9119973632168754}\n"
     ]
    },
    {
     "name": "stderr",
     "output_type": "stream",
     "text": [
      "model_head.pkl not found in /CommitFit/sentence-transformers/all-roberta-large-v1, initialising classification head with random weights. You should TRAIN this model on a downstream task to use it for predictions and inference.\n"
     ]
    },
    {
     "data": {
      "application/vnd.jupyter.widget-view+json": {
       "model_id": "e519b38ae3ba439e90b3af7facd855fd",
       "version_major": 2,
       "version_minor": 0
      },
      "text/plain": [
       "Generating Training Pairs:   0%|          | 0/5 [00:00<?, ?it/s]"
      ]
     },
     "metadata": {},
     "output_type": "display_data"
    },
    {
     "name": "stderr",
     "output_type": "stream",
     "text": [
      "***** Running training *****\n",
      "  Num examples = 70940\n",
      "  Num epochs = 1\n",
      "  Total optimization steps = 4434\n",
      "  Total train batch size = 16\n"
     ]
    },
    {
     "data": {
      "application/vnd.jupyter.widget-view+json": {
       "model_id": "f084fd76652a47278ae6f33194da06ce",
       "version_major": 2,
       "version_minor": 0
      },
      "text/plain": [
       "Epoch:   0%|          | 0/1 [00:00<?, ?it/s]"
      ]
     },
     "metadata": {},
     "output_type": "display_data"
    },
    {
     "data": {
      "application/vnd.jupyter.widget-view+json": {
       "model_id": "a461f36bbe6a4707af345ece39e28090",
       "version_major": 2,
       "version_minor": 0
      },
      "text/plain": [
       "Iteration:   0%|          | 0/4434 [00:00<?, ?it/s]"
      ]
     },
     "metadata": {},
     "output_type": "display_data"
    },
    {
     "name": "stderr",
     "output_type": "stream",
     "text": [
      "***** Running evaluation *****\n",
      "[I 2024-05-31 10:57:58,695] Trial 2 finished with value: 0.9040870138431114 and parameters: {'learning_rate': 7.047978593333949e-05}. Best is trial 1 with value: 0.9119973632168754.\n",
      "Trial: {'learning_rate': 9.082307410385221e-05}\n"
     ]
    },
    {
     "name": "stdout",
     "output_type": "stream",
     "text": [
      "+++++++++++ {'precision': 0.9044799855191895, 'recall': 0.9040870138431114, 'f1': 0.9042463480543029, 'accuracy': 0.9040870138431114}\n"
     ]
    },
    {
     "name": "stderr",
     "output_type": "stream",
     "text": [
      "model_head.pkl not found in /CommitFit/sentence-transformers/all-roberta-large-v1, initialising classification head with random weights. You should TRAIN this model on a downstream task to use it for predictions and inference.\n"
     ]
    },
    {
     "data": {
      "application/vnd.jupyter.widget-view+json": {
       "model_id": "2c67d7eb8d284b60aafea1e4cfe823e7",
       "version_major": 2,
       "version_minor": 0
      },
      "text/plain": [
       "Generating Training Pairs:   0%|          | 0/5 [00:00<?, ?it/s]"
      ]
     },
     "metadata": {},
     "output_type": "display_data"
    },
    {
     "name": "stderr",
     "output_type": "stream",
     "text": [
      "***** Running training *****\n",
      "  Num examples = 70940\n",
      "  Num epochs = 1\n",
      "  Total optimization steps = 4434\n",
      "  Total train batch size = 16\n"
     ]
    },
    {
     "data": {
      "application/vnd.jupyter.widget-view+json": {
       "model_id": "58f99b2d336f4bec94e7cf40020e20c3",
       "version_major": 2,
       "version_minor": 0
      },
      "text/plain": [
       "Epoch:   0%|          | 0/1 [00:00<?, ?it/s]"
      ]
     },
     "metadata": {},
     "output_type": "display_data"
    },
    {
     "data": {
      "application/vnd.jupyter.widget-view+json": {
       "model_id": "36289128e4b5412189d09a4a4b923620",
       "version_major": 2,
       "version_minor": 0
      },
      "text/plain": [
       "Iteration:   0%|          | 0/4434 [00:00<?, ?it/s]"
      ]
     },
     "metadata": {},
     "output_type": "display_data"
    },
    {
     "name": "stderr",
     "output_type": "stream",
     "text": [
      "***** Running evaluation *****\n",
      "/usr/local/lib/python3.11/dist-packages/sklearn/metrics/_classification.py:1469: UndefinedMetricWarning: Precision is ill-defined and being set to 0.0 in labels with no predicted samples. Use `zero_division` parameter to control this behavior.\n",
      "  _warn_prf(average, modifier, msg_start, len(result))\n",
      "[I 2024-05-31 11:52:33,697] Trial 3 finished with value: 0.6275543836519446 and parameters: {'learning_rate': 9.082307410385221e-05}. Best is trial 1 with value: 0.9119973632168754.\n",
      "Trial: {'learning_rate': 8.839040389772542e-05}\n"
     ]
    },
    {
     "name": "stdout",
     "output_type": "stream",
     "text": [
      "+++++++++++ {'precision': 0.39382450444077205, 'recall': 0.6275543836519446, 'f1': 0.48394635337112296, 'accuracy': 0.6275543836519446}\n"
     ]
    },
    {
     "name": "stderr",
     "output_type": "stream",
     "text": [
      "model_head.pkl not found in /CommitFit/sentence-transformers/all-roberta-large-v1, initialising classification head with random weights. You should TRAIN this model on a downstream task to use it for predictions and inference.\n"
     ]
    },
    {
     "data": {
      "application/vnd.jupyter.widget-view+json": {
       "model_id": "3dbbae7586ee49d7ba2530e3ca49ebf2",
       "version_major": 2,
       "version_minor": 0
      },
      "text/plain": [
       "Generating Training Pairs:   0%|          | 0/5 [00:00<?, ?it/s]"
      ]
     },
     "metadata": {},
     "output_type": "display_data"
    },
    {
     "name": "stderr",
     "output_type": "stream",
     "text": [
      "***** Running training *****\n",
      "  Num examples = 70940\n",
      "  Num epochs = 1\n",
      "  Total optimization steps = 4434\n",
      "  Total train batch size = 16\n"
     ]
    },
    {
     "data": {
      "application/vnd.jupyter.widget-view+json": {
       "model_id": "d64e0e69415d48f4b9d2aea7d62a58b1",
       "version_major": 2,
       "version_minor": 0
      },
      "text/plain": [
       "Epoch:   0%|          | 0/1 [00:00<?, ?it/s]"
      ]
     },
     "metadata": {},
     "output_type": "display_data"
    },
    {
     "data": {
      "application/vnd.jupyter.widget-view+json": {
       "model_id": "14451d80a5b1485eb4b95e9f7fba25b4",
       "version_major": 2,
       "version_minor": 0
      },
      "text/plain": [
       "Iteration:   0%|          | 0/4434 [00:00<?, ?it/s]"
      ]
     },
     "metadata": {},
     "output_type": "display_data"
    }
   ],
   "source": [
    "trainer = CommitFitTrainer(\n",
    "    train_dataset=train_dataset,\n",
    "    eval_dataset=test_dataset,\n",
    "    model_init=model_init,\n",
    "    metric = compute_metrics,\n",
    "    num_iterations=5,\n",
    "    num_epochs=1\n",
    ")\n",
    "best_run = trainer.hyperparameter_search(direction=\"maximize\", hp_space=hp_space, compute_objective=my_compute_objective, n_trials=10)"
   ]
  },
  {
   "cell_type": "code",
   "execution_count": null,
   "metadata": {
    "colab": {
     "base_uri": "https://localhost:8080/",
     "height": 203,
     "referenced_widgets": [
      "e8e29e0625c14f86b1018b3a8fbbabda",
      "247d008872804e608992078ece705973",
      "4732d163519e49adb73a16071fce3c77",
      "d33df8452bc8478db44f39417728b6d3",
      "f9c8514b2be04f2da800400483f5db7d",
      "32d8a9eae6c845c2b4edb38ccdab3987",
      "c8647307957b49759512b4d34d9227bf",
      "e96692801a6a4d59b84920e48860a714",
      "03245f9997d24e1a83372b0a8dd11a6a",
      "ca5d6a8f55164d86b87314c1bab27654",
      "9e679231b52443c9ae8aee7d7e9485bd",
      "35cd63c3676842aabc3ef24782e94a2d",
      "5923d668417a45099da1703a687fd797",
      "3b441b28e0b84ee7b1fb520d5901f407",
      "79b53e58bebb4583acbbc59c0f960b6b",
      "a120bcd14fd24d3f913430493cbf0031",
      "571115cc15a14b30a5ee5fc9405b2f6f",
      "0d6321b8d68b4a0283e1928ed7db776f",
      "c0ae9bc0591a4b69a78cdb13cc2545e1",
      "956a5105d9324c709884e08a60ed84d9",
      "89e135d267a14b90885cd3791e5db8b9",
      "2b8bb5d907304c338b180e69ee47fc24",
      "b4af8217292b400aae706dca68ec560c",
      "1a6f8197594a4515875ee76ded6ddce2",
      "6c6d72cdcb9c46e980475bd70736f331",
      "8426411ea418400eaee176ffcffb4881",
      "65d34149f31946c4b6b351c076ee7996",
      "692b0376104842f7adfb2f507de81bbd",
      "f472b48832fd4dbc8ce37836228a6c62",
      "c909327a5a64462abf3b0dc8d5ce6197",
      "329d9e1712144b5c9d506ef34132b155",
      "d2bcad9750f7468b970e4bc91de958ac",
      "6f045a2164f445b5a3dc9d9d5e66aa76"
     ]
    },
    "execution": {
     "execution_failed": "2024-05-31T04:29:35.298Z"
    },
    "id": "Kjnpck-Ra8f2",
    "outputId": "3546cae8-c561-4958-fa34-6c69aaebad99"
   },
   "outputs": [],
   "source": [
    "best_run"
   ]
  },
  {
   "cell_type": "code",
   "execution_count": null,
   "metadata": {
    "execution": {
     "execution_failed": "2024-05-31T04:29:35.299Z"
    }
   },
   "outputs": [],
   "source": [
    "best_run.hyperparameters"
   ]
  },
  {
   "cell_type": "code",
   "execution_count": null,
   "metadata": {
    "execution": {
     "execution_failed": "2024-05-31T04:29:35.299Z"
    }
   },
   "outputs": [],
   "source": [
    "trainer.apply_hyperparameters(best_run.hyperparameters, final_model=True)\n",
    "trainer.train()"
   ]
  },
  {
   "cell_type": "code",
   "execution_count": null,
   "metadata": {
    "execution": {
     "execution_failed": "2024-05-31T04:29:35.299Z"
    },
    "id": "nodjQIRSDfVc"
   },
   "outputs": [],
   "source": [
    "fewshot_metrics = trainer.evaluate()\n",
    "fewshot_metrics"
   ]
  },
  {
   "cell_type": "code",
   "execution_count": null,
   "metadata": {
    "execution": {
     "execution_failed": "2024-05-31T04:29:35.299Z"
    },
    "id": "q_da_bMUY17m"
   },
   "outputs": [],
   "source": [
    "# train.to_csv('train.csv', index=False,encoding = 'utf_8_sig')"
   ]
  },
  {
   "cell_type": "code",
   "execution_count": null,
   "metadata": {
    "execution": {
     "execution_failed": "2024-05-31T04:29:35.300Z"
    },
    "id": "qn7WLrVGtfP5"
   },
   "outputs": [],
   "source": [
    "# test.to_csv('test.csv',index=False,encoding = 'utf_8_sig')"
   ]
  },
  {
   "cell_type": "code",
   "execution_count": null,
   "metadata": {
    "id": "OpZoYKPCzSEE"
   },
   "outputs": [],
   "source": []
  },
  {
   "cell_type": "code",
   "execution_count": null,
   "metadata": {},
   "outputs": [],
   "source": []
  },
  {
   "cell_type": "code",
   "execution_count": null,
   "metadata": {},
   "outputs": [],
   "source": []
  },
  {
   "cell_type": "code",
   "execution_count": null,
   "metadata": {},
   "outputs": [],
   "source": []
  }
 ],
 "metadata": {
  "accelerator": "GPU",
  "colab": {
   "provenance": [],
   "toc_visible": true
  },
  "kernelspec": {
   "display_name": "Python 3 (ipykernel)",
   "language": "python",
   "name": "python3"
  },
  "language_info": {
   "codemirror_mode": {
    "name": "ipython",
    "version": 3
   },
   "file_extension": ".py",
   "mimetype": "text/x-python",
   "name": "python",
   "nbconvert_exporter": "python",
   "pygments_lexer": "ipython3",
   "version": "3.11.8"
  },
  "widgets": {
   "application/vnd.jupyter.widget-state+json": {
    "03245f9997d24e1a83372b0a8dd11a6a": {
     "model_module": "@jupyter-widgets/controls",
     "model_module_version": "1.5.0",
     "model_name": "ProgressStyleModel",
     "state": {
      "_model_module": "@jupyter-widgets/controls",
      "_model_module_version": "1.5.0",
      "_model_name": "ProgressStyleModel",
      "_view_count": null,
      "_view_module": "@jupyter-widgets/base",
      "_view_module_version": "1.2.0",
      "_view_name": "StyleView",
      "bar_color": null,
      "description_width": ""
     }
    },
    "0d6321b8d68b4a0283e1928ed7db776f": {
     "model_module": "@jupyter-widgets/controls",
     "model_module_version": "1.5.0",
     "model_name": "DescriptionStyleModel",
     "state": {
      "_model_module": "@jupyter-widgets/controls",
      "_model_module_version": "1.5.0",
      "_model_name": "DescriptionStyleModel",
      "_view_count": null,
      "_view_module": "@jupyter-widgets/base",
      "_view_module_version": "1.2.0",
      "_view_name": "StyleView",
      "description_width": ""
     }
    },
    "1a6f8197594a4515875ee76ded6ddce2": {
     "model_module": "@jupyter-widgets/controls",
     "model_module_version": "1.5.0",
     "model_name": "HTMLModel",
     "state": {
      "_dom_classes": [],
      "_model_module": "@jupyter-widgets/controls",
      "_model_module_version": "1.5.0",
      "_model_name": "HTMLModel",
      "_view_count": null,
      "_view_module": "@jupyter-widgets/controls",
      "_view_module_version": "1.5.0",
      "_view_name": "HTMLView",
      "description": "",
      "description_tooltip": null,
      "layout": "IPY_MODEL_692b0376104842f7adfb2f507de81bbd",
      "placeholder": "​",
      "style": "IPY_MODEL_f472b48832fd4dbc8ce37836228a6c62",
      "value": "Iteration:   1%"
     }
    },
    "247d008872804e608992078ece705973": {
     "model_module": "@jupyter-widgets/controls",
     "model_module_version": "1.5.0",
     "model_name": "HTMLModel",
     "state": {
      "_dom_classes": [],
      "_model_module": "@jupyter-widgets/controls",
      "_model_module_version": "1.5.0",
      "_model_name": "HTMLModel",
      "_view_count": null,
      "_view_module": "@jupyter-widgets/controls",
      "_view_module_version": "1.5.0",
      "_view_name": "HTMLView",
      "description": "",
      "description_tooltip": null,
      "layout": "IPY_MODEL_32d8a9eae6c845c2b4edb38ccdab3987",
      "placeholder": "​",
      "style": "IPY_MODEL_c8647307957b49759512b4d34d9227bf",
      "value": "Generating Training Pairs: 100%"
     }
    },
    "2b8bb5d907304c338b180e69ee47fc24": {
     "model_module": "@jupyter-widgets/controls",
     "model_module_version": "1.5.0",
     "model_name": "DescriptionStyleModel",
     "state": {
      "_model_module": "@jupyter-widgets/controls",
      "_model_module_version": "1.5.0",
      "_model_name": "DescriptionStyleModel",
      "_view_count": null,
      "_view_module": "@jupyter-widgets/base",
      "_view_module_version": "1.2.0",
      "_view_name": "StyleView",
      "description_width": ""
     }
    },
    "329d9e1712144b5c9d506ef34132b155": {
     "model_module": "@jupyter-widgets/controls",
     "model_module_version": "1.5.0",
     "model_name": "ProgressStyleModel",
     "state": {
      "_model_module": "@jupyter-widgets/controls",
      "_model_module_version": "1.5.0",
      "_model_name": "ProgressStyleModel",
      "_view_count": null,
      "_view_module": "@jupyter-widgets/base",
      "_view_module_version": "1.2.0",
      "_view_name": "StyleView",
      "bar_color": null,
      "description_width": ""
     }
    },
    "32d8a9eae6c845c2b4edb38ccdab3987": {
     "model_module": "@jupyter-widgets/base",
     "model_module_version": "1.2.0",
     "model_name": "LayoutModel",
     "state": {
      "_model_module": "@jupyter-widgets/base",
      "_model_module_version": "1.2.0",
      "_model_name": "LayoutModel",
      "_view_count": null,
      "_view_module": "@jupyter-widgets/base",
      "_view_module_version": "1.2.0",
      "_view_name": "LayoutView",
      "align_content": null,
      "align_items": null,
      "align_self": null,
      "border": null,
      "bottom": null,
      "display": null,
      "flex": null,
      "flex_flow": null,
      "grid_area": null,
      "grid_auto_columns": null,
      "grid_auto_flow": null,
      "grid_auto_rows": null,
      "grid_column": null,
      "grid_gap": null,
      "grid_row": null,
      "grid_template_areas": null,
      "grid_template_columns": null,
      "grid_template_rows": null,
      "height": null,
      "justify_content": null,
      "justify_items": null,
      "left": null,
      "margin": null,
      "max_height": null,
      "max_width": null,
      "min_height": null,
      "min_width": null,
      "object_fit": null,
      "object_position": null,
      "order": null,
      "overflow": null,
      "overflow_x": null,
      "overflow_y": null,
      "padding": null,
      "right": null,
      "top": null,
      "visibility": null,
      "width": null
     }
    },
    "35cd63c3676842aabc3ef24782e94a2d": {
     "model_module": "@jupyter-widgets/controls",
     "model_module_version": "1.5.0",
     "model_name": "HBoxModel",
     "state": {
      "_dom_classes": [],
      "_model_module": "@jupyter-widgets/controls",
      "_model_module_version": "1.5.0",
      "_model_name": "HBoxModel",
      "_view_count": null,
      "_view_module": "@jupyter-widgets/controls",
      "_view_module_version": "1.5.0",
      "_view_name": "HBoxView",
      "box_style": "",
      "children": [
       "IPY_MODEL_5923d668417a45099da1703a687fd797",
       "IPY_MODEL_3b441b28e0b84ee7b1fb520d5901f407",
       "IPY_MODEL_79b53e58bebb4583acbbc59c0f960b6b"
      ],
      "layout": "IPY_MODEL_a120bcd14fd24d3f913430493cbf0031"
     }
    },
    "3b441b28e0b84ee7b1fb520d5901f407": {
     "model_module": "@jupyter-widgets/controls",
     "model_module_version": "1.5.0",
     "model_name": "FloatProgressModel",
     "state": {
      "_dom_classes": [],
      "_model_module": "@jupyter-widgets/controls",
      "_model_module_version": "1.5.0",
      "_model_name": "FloatProgressModel",
      "_view_count": null,
      "_view_module": "@jupyter-widgets/controls",
      "_view_module_version": "1.5.0",
      "_view_name": "ProgressView",
      "bar_style": "danger",
      "description": "",
      "description_tooltip": null,
      "layout": "IPY_MODEL_c0ae9bc0591a4b69a78cdb13cc2545e1",
      "max": 5,
      "min": 0,
      "orientation": "horizontal",
      "style": "IPY_MODEL_956a5105d9324c709884e08a60ed84d9",
      "value": 0
     }
    },
    "4732d163519e49adb73a16071fce3c77": {
     "model_module": "@jupyter-widgets/controls",
     "model_module_version": "1.5.0",
     "model_name": "FloatProgressModel",
     "state": {
      "_dom_classes": [],
      "_model_module": "@jupyter-widgets/controls",
      "_model_module_version": "1.5.0",
      "_model_name": "FloatProgressModel",
      "_view_count": null,
      "_view_module": "@jupyter-widgets/controls",
      "_view_module_version": "1.5.0",
      "_view_name": "ProgressView",
      "bar_style": "success",
      "description": "",
      "description_tooltip": null,
      "layout": "IPY_MODEL_e96692801a6a4d59b84920e48860a714",
      "max": 20,
      "min": 0,
      "orientation": "horizontal",
      "style": "IPY_MODEL_03245f9997d24e1a83372b0a8dd11a6a",
      "value": 20
     }
    },
    "571115cc15a14b30a5ee5fc9405b2f6f": {
     "model_module": "@jupyter-widgets/base",
     "model_module_version": "1.2.0",
     "model_name": "LayoutModel",
     "state": {
      "_model_module": "@jupyter-widgets/base",
      "_model_module_version": "1.2.0",
      "_model_name": "LayoutModel",
      "_view_count": null,
      "_view_module": "@jupyter-widgets/base",
      "_view_module_version": "1.2.0",
      "_view_name": "LayoutView",
      "align_content": null,
      "align_items": null,
      "align_self": null,
      "border": null,
      "bottom": null,
      "display": null,
      "flex": null,
      "flex_flow": null,
      "grid_area": null,
      "grid_auto_columns": null,
      "grid_auto_flow": null,
      "grid_auto_rows": null,
      "grid_column": null,
      "grid_gap": null,
      "grid_row": null,
      "grid_template_areas": null,
      "grid_template_columns": null,
      "grid_template_rows": null,
      "height": null,
      "justify_content": null,
      "justify_items": null,
      "left": null,
      "margin": null,
      "max_height": null,
      "max_width": null,
      "min_height": null,
      "min_width": null,
      "object_fit": null,
      "object_position": null,
      "order": null,
      "overflow": null,
      "overflow_x": null,
      "overflow_y": null,
      "padding": null,
      "right": null,
      "top": null,
      "visibility": null,
      "width": null
     }
    },
    "5923d668417a45099da1703a687fd797": {
     "model_module": "@jupyter-widgets/controls",
     "model_module_version": "1.5.0",
     "model_name": "HTMLModel",
     "state": {
      "_dom_classes": [],
      "_model_module": "@jupyter-widgets/controls",
      "_model_module_version": "1.5.0",
      "_model_name": "HTMLModel",
      "_view_count": null,
      "_view_module": "@jupyter-widgets/controls",
      "_view_module_version": "1.5.0",
      "_view_name": "HTMLView",
      "description": "",
      "description_tooltip": null,
      "layout": "IPY_MODEL_571115cc15a14b30a5ee5fc9405b2f6f",
      "placeholder": "​",
      "style": "IPY_MODEL_0d6321b8d68b4a0283e1928ed7db776f",
      "value": "Epoch:   0%"
     }
    },
    "65d34149f31946c4b6b351c076ee7996": {
     "model_module": "@jupyter-widgets/base",
     "model_module_version": "1.2.0",
     "model_name": "LayoutModel",
     "state": {
      "_model_module": "@jupyter-widgets/base",
      "_model_module_version": "1.2.0",
      "_model_name": "LayoutModel",
      "_view_count": null,
      "_view_module": "@jupyter-widgets/base",
      "_view_module_version": "1.2.0",
      "_view_name": "LayoutView",
      "align_content": null,
      "align_items": null,
      "align_self": null,
      "border": null,
      "bottom": null,
      "display": null,
      "flex": null,
      "flex_flow": null,
      "grid_area": null,
      "grid_auto_columns": null,
      "grid_auto_flow": null,
      "grid_auto_rows": null,
      "grid_column": null,
      "grid_gap": null,
      "grid_row": null,
      "grid_template_areas": null,
      "grid_template_columns": null,
      "grid_template_rows": null,
      "height": null,
      "justify_content": null,
      "justify_items": null,
      "left": null,
      "margin": null,
      "max_height": null,
      "max_width": null,
      "min_height": null,
      "min_width": null,
      "object_fit": null,
      "object_position": null,
      "order": null,
      "overflow": null,
      "overflow_x": null,
      "overflow_y": null,
      "padding": null,
      "right": null,
      "top": null,
      "visibility": null,
      "width": null
     }
    },
    "692b0376104842f7adfb2f507de81bbd": {
     "model_module": "@jupyter-widgets/base",
     "model_module_version": "1.2.0",
     "model_name": "LayoutModel",
     "state": {
      "_model_module": "@jupyter-widgets/base",
      "_model_module_version": "1.2.0",
      "_model_name": "LayoutModel",
      "_view_count": null,
      "_view_module": "@jupyter-widgets/base",
      "_view_module_version": "1.2.0",
      "_view_name": "LayoutView",
      "align_content": null,
      "align_items": null,
      "align_self": null,
      "border": null,
      "bottom": null,
      "display": null,
      "flex": null,
      "flex_flow": null,
      "grid_area": null,
      "grid_auto_columns": null,
      "grid_auto_flow": null,
      "grid_auto_rows": null,
      "grid_column": null,
      "grid_gap": null,
      "grid_row": null,
      "grid_template_areas": null,
      "grid_template_columns": null,
      "grid_template_rows": null,
      "height": null,
      "justify_content": null,
      "justify_items": null,
      "left": null,
      "margin": null,
      "max_height": null,
      "max_width": null,
      "min_height": null,
      "min_width": null,
      "object_fit": null,
      "object_position": null,
      "order": null,
      "overflow": null,
      "overflow_x": null,
      "overflow_y": null,
      "padding": null,
      "right": null,
      "top": null,
      "visibility": null,
      "width": null
     }
    },
    "6c6d72cdcb9c46e980475bd70736f331": {
     "model_module": "@jupyter-widgets/controls",
     "model_module_version": "1.5.0",
     "model_name": "FloatProgressModel",
     "state": {
      "_dom_classes": [],
      "_model_module": "@jupyter-widgets/controls",
      "_model_module_version": "1.5.0",
      "_model_name": "FloatProgressModel",
      "_view_count": null,
      "_view_module": "@jupyter-widgets/controls",
      "_view_module_version": "1.5.0",
      "_view_name": "ProgressView",
      "bar_style": "danger",
      "description": "",
      "description_tooltip": null,
      "layout": "IPY_MODEL_c909327a5a64462abf3b0dc8d5ce6197",
      "max": 238,
      "min": 0,
      "orientation": "horizontal",
      "style": "IPY_MODEL_329d9e1712144b5c9d506ef34132b155",
      "value": 2
     }
    },
    "6f045a2164f445b5a3dc9d9d5e66aa76": {
     "model_module": "@jupyter-widgets/controls",
     "model_module_version": "1.5.0",
     "model_name": "DescriptionStyleModel",
     "state": {
      "_model_module": "@jupyter-widgets/controls",
      "_model_module_version": "1.5.0",
      "_model_name": "DescriptionStyleModel",
      "_view_count": null,
      "_view_module": "@jupyter-widgets/base",
      "_view_module_version": "1.2.0",
      "_view_name": "StyleView",
      "description_width": ""
     }
    },
    "79b53e58bebb4583acbbc59c0f960b6b": {
     "model_module": "@jupyter-widgets/controls",
     "model_module_version": "1.5.0",
     "model_name": "HTMLModel",
     "state": {
      "_dom_classes": [],
      "_model_module": "@jupyter-widgets/controls",
      "_model_module_version": "1.5.0",
      "_model_name": "HTMLModel",
      "_view_count": null,
      "_view_module": "@jupyter-widgets/controls",
      "_view_module_version": "1.5.0",
      "_view_name": "HTMLView",
      "description": "",
      "description_tooltip": null,
      "layout": "IPY_MODEL_89e135d267a14b90885cd3791e5db8b9",
      "placeholder": "​",
      "style": "IPY_MODEL_2b8bb5d907304c338b180e69ee47fc24",
      "value": " 0/5 [00:03&lt;?, ?it/s]"
     }
    },
    "8426411ea418400eaee176ffcffb4881": {
     "model_module": "@jupyter-widgets/controls",
     "model_module_version": "1.5.0",
     "model_name": "HTMLModel",
     "state": {
      "_dom_classes": [],
      "_model_module": "@jupyter-widgets/controls",
      "_model_module_version": "1.5.0",
      "_model_name": "HTMLModel",
      "_view_count": null,
      "_view_module": "@jupyter-widgets/controls",
      "_view_module_version": "1.5.0",
      "_view_name": "HTMLView",
      "description": "",
      "description_tooltip": null,
      "layout": "IPY_MODEL_d2bcad9750f7468b970e4bc91de958ac",
      "placeholder": "​",
      "style": "IPY_MODEL_6f045a2164f445b5a3dc9d9d5e66aa76",
      "value": " 2/238 [00:03&lt;06:02,  1.54s/it]"
     }
    },
    "89e135d267a14b90885cd3791e5db8b9": {
     "model_module": "@jupyter-widgets/base",
     "model_module_version": "1.2.0",
     "model_name": "LayoutModel",
     "state": {
      "_model_module": "@jupyter-widgets/base",
      "_model_module_version": "1.2.0",
      "_model_name": "LayoutModel",
      "_view_count": null,
      "_view_module": "@jupyter-widgets/base",
      "_view_module_version": "1.2.0",
      "_view_name": "LayoutView",
      "align_content": null,
      "align_items": null,
      "align_self": null,
      "border": null,
      "bottom": null,
      "display": null,
      "flex": null,
      "flex_flow": null,
      "grid_area": null,
      "grid_auto_columns": null,
      "grid_auto_flow": null,
      "grid_auto_rows": null,
      "grid_column": null,
      "grid_gap": null,
      "grid_row": null,
      "grid_template_areas": null,
      "grid_template_columns": null,
      "grid_template_rows": null,
      "height": null,
      "justify_content": null,
      "justify_items": null,
      "left": null,
      "margin": null,
      "max_height": null,
      "max_width": null,
      "min_height": null,
      "min_width": null,
      "object_fit": null,
      "object_position": null,
      "order": null,
      "overflow": null,
      "overflow_x": null,
      "overflow_y": null,
      "padding": null,
      "right": null,
      "top": null,
      "visibility": null,
      "width": null
     }
    },
    "956a5105d9324c709884e08a60ed84d9": {
     "model_module": "@jupyter-widgets/controls",
     "model_module_version": "1.5.0",
     "model_name": "ProgressStyleModel",
     "state": {
      "_model_module": "@jupyter-widgets/controls",
      "_model_module_version": "1.5.0",
      "_model_name": "ProgressStyleModel",
      "_view_count": null,
      "_view_module": "@jupyter-widgets/base",
      "_view_module_version": "1.2.0",
      "_view_name": "StyleView",
      "bar_color": null,
      "description_width": ""
     }
    },
    "9e679231b52443c9ae8aee7d7e9485bd": {
     "model_module": "@jupyter-widgets/controls",
     "model_module_version": "1.5.0",
     "model_name": "DescriptionStyleModel",
     "state": {
      "_model_module": "@jupyter-widgets/controls",
      "_model_module_version": "1.5.0",
      "_model_name": "DescriptionStyleModel",
      "_view_count": null,
      "_view_module": "@jupyter-widgets/base",
      "_view_module_version": "1.2.0",
      "_view_name": "StyleView",
      "description_width": ""
     }
    },
    "a120bcd14fd24d3f913430493cbf0031": {
     "model_module": "@jupyter-widgets/base",
     "model_module_version": "1.2.0",
     "model_name": "LayoutModel",
     "state": {
      "_model_module": "@jupyter-widgets/base",
      "_model_module_version": "1.2.0",
      "_model_name": "LayoutModel",
      "_view_count": null,
      "_view_module": "@jupyter-widgets/base",
      "_view_module_version": "1.2.0",
      "_view_name": "LayoutView",
      "align_content": null,
      "align_items": null,
      "align_self": null,
      "border": null,
      "bottom": null,
      "display": null,
      "flex": null,
      "flex_flow": null,
      "grid_area": null,
      "grid_auto_columns": null,
      "grid_auto_flow": null,
      "grid_auto_rows": null,
      "grid_column": null,
      "grid_gap": null,
      "grid_row": null,
      "grid_template_areas": null,
      "grid_template_columns": null,
      "grid_template_rows": null,
      "height": null,
      "justify_content": null,
      "justify_items": null,
      "left": null,
      "margin": null,
      "max_height": null,
      "max_width": null,
      "min_height": null,
      "min_width": null,
      "object_fit": null,
      "object_position": null,
      "order": null,
      "overflow": null,
      "overflow_x": null,
      "overflow_y": null,
      "padding": null,
      "right": null,
      "top": null,
      "visibility": null,
      "width": null
     }
    },
    "b4af8217292b400aae706dca68ec560c": {
     "model_module": "@jupyter-widgets/controls",
     "model_module_version": "1.5.0",
     "model_name": "HBoxModel",
     "state": {
      "_dom_classes": [],
      "_model_module": "@jupyter-widgets/controls",
      "_model_module_version": "1.5.0",
      "_model_name": "HBoxModel",
      "_view_count": null,
      "_view_module": "@jupyter-widgets/controls",
      "_view_module_version": "1.5.0",
      "_view_name": "HBoxView",
      "box_style": "",
      "children": [
       "IPY_MODEL_1a6f8197594a4515875ee76ded6ddce2",
       "IPY_MODEL_6c6d72cdcb9c46e980475bd70736f331",
       "IPY_MODEL_8426411ea418400eaee176ffcffb4881"
      ],
      "layout": "IPY_MODEL_65d34149f31946c4b6b351c076ee7996"
     }
    },
    "c0ae9bc0591a4b69a78cdb13cc2545e1": {
     "model_module": "@jupyter-widgets/base",
     "model_module_version": "1.2.0",
     "model_name": "LayoutModel",
     "state": {
      "_model_module": "@jupyter-widgets/base",
      "_model_module_version": "1.2.0",
      "_model_name": "LayoutModel",
      "_view_count": null,
      "_view_module": "@jupyter-widgets/base",
      "_view_module_version": "1.2.0",
      "_view_name": "LayoutView",
      "align_content": null,
      "align_items": null,
      "align_self": null,
      "border": null,
      "bottom": null,
      "display": null,
      "flex": null,
      "flex_flow": null,
      "grid_area": null,
      "grid_auto_columns": null,
      "grid_auto_flow": null,
      "grid_auto_rows": null,
      "grid_column": null,
      "grid_gap": null,
      "grid_row": null,
      "grid_template_areas": null,
      "grid_template_columns": null,
      "grid_template_rows": null,
      "height": null,
      "justify_content": null,
      "justify_items": null,
      "left": null,
      "margin": null,
      "max_height": null,
      "max_width": null,
      "min_height": null,
      "min_width": null,
      "object_fit": null,
      "object_position": null,
      "order": null,
      "overflow": null,
      "overflow_x": null,
      "overflow_y": null,
      "padding": null,
      "right": null,
      "top": null,
      "visibility": null,
      "width": null
     }
    },
    "c8647307957b49759512b4d34d9227bf": {
     "model_module": "@jupyter-widgets/controls",
     "model_module_version": "1.5.0",
     "model_name": "DescriptionStyleModel",
     "state": {
      "_model_module": "@jupyter-widgets/controls",
      "_model_module_version": "1.5.0",
      "_model_name": "DescriptionStyleModel",
      "_view_count": null,
      "_view_module": "@jupyter-widgets/base",
      "_view_module_version": "1.2.0",
      "_view_name": "StyleView",
      "description_width": ""
     }
    },
    "c909327a5a64462abf3b0dc8d5ce6197": {
     "model_module": "@jupyter-widgets/base",
     "model_module_version": "1.2.0",
     "model_name": "LayoutModel",
     "state": {
      "_model_module": "@jupyter-widgets/base",
      "_model_module_version": "1.2.0",
      "_model_name": "LayoutModel",
      "_view_count": null,
      "_view_module": "@jupyter-widgets/base",
      "_view_module_version": "1.2.0",
      "_view_name": "LayoutView",
      "align_content": null,
      "align_items": null,
      "align_self": null,
      "border": null,
      "bottom": null,
      "display": null,
      "flex": null,
      "flex_flow": null,
      "grid_area": null,
      "grid_auto_columns": null,
      "grid_auto_flow": null,
      "grid_auto_rows": null,
      "grid_column": null,
      "grid_gap": null,
      "grid_row": null,
      "grid_template_areas": null,
      "grid_template_columns": null,
      "grid_template_rows": null,
      "height": null,
      "justify_content": null,
      "justify_items": null,
      "left": null,
      "margin": null,
      "max_height": null,
      "max_width": null,
      "min_height": null,
      "min_width": null,
      "object_fit": null,
      "object_position": null,
      "order": null,
      "overflow": null,
      "overflow_x": null,
      "overflow_y": null,
      "padding": null,
      "right": null,
      "top": null,
      "visibility": null,
      "width": null
     }
    },
    "ca5d6a8f55164d86b87314c1bab27654": {
     "model_module": "@jupyter-widgets/base",
     "model_module_version": "1.2.0",
     "model_name": "LayoutModel",
     "state": {
      "_model_module": "@jupyter-widgets/base",
      "_model_module_version": "1.2.0",
      "_model_name": "LayoutModel",
      "_view_count": null,
      "_view_module": "@jupyter-widgets/base",
      "_view_module_version": "1.2.0",
      "_view_name": "LayoutView",
      "align_content": null,
      "align_items": null,
      "align_self": null,
      "border": null,
      "bottom": null,
      "display": null,
      "flex": null,
      "flex_flow": null,
      "grid_area": null,
      "grid_auto_columns": null,
      "grid_auto_flow": null,
      "grid_auto_rows": null,
      "grid_column": null,
      "grid_gap": null,
      "grid_row": null,
      "grid_template_areas": null,
      "grid_template_columns": null,
      "grid_template_rows": null,
      "height": null,
      "justify_content": null,
      "justify_items": null,
      "left": null,
      "margin": null,
      "max_height": null,
      "max_width": null,
      "min_height": null,
      "min_width": null,
      "object_fit": null,
      "object_position": null,
      "order": null,
      "overflow": null,
      "overflow_x": null,
      "overflow_y": null,
      "padding": null,
      "right": null,
      "top": null,
      "visibility": null,
      "width": null
     }
    },
    "d2bcad9750f7468b970e4bc91de958ac": {
     "model_module": "@jupyter-widgets/base",
     "model_module_version": "1.2.0",
     "model_name": "LayoutModel",
     "state": {
      "_model_module": "@jupyter-widgets/base",
      "_model_module_version": "1.2.0",
      "_model_name": "LayoutModel",
      "_view_count": null,
      "_view_module": "@jupyter-widgets/base",
      "_view_module_version": "1.2.0",
      "_view_name": "LayoutView",
      "align_content": null,
      "align_items": null,
      "align_self": null,
      "border": null,
      "bottom": null,
      "display": null,
      "flex": null,
      "flex_flow": null,
      "grid_area": null,
      "grid_auto_columns": null,
      "grid_auto_flow": null,
      "grid_auto_rows": null,
      "grid_column": null,
      "grid_gap": null,
      "grid_row": null,
      "grid_template_areas": null,
      "grid_template_columns": null,
      "grid_template_rows": null,
      "height": null,
      "justify_content": null,
      "justify_items": null,
      "left": null,
      "margin": null,
      "max_height": null,
      "max_width": null,
      "min_height": null,
      "min_width": null,
      "object_fit": null,
      "object_position": null,
      "order": null,
      "overflow": null,
      "overflow_x": null,
      "overflow_y": null,
      "padding": null,
      "right": null,
      "top": null,
      "visibility": null,
      "width": null
     }
    },
    "d33df8452bc8478db44f39417728b6d3": {
     "model_module": "@jupyter-widgets/controls",
     "model_module_version": "1.5.0",
     "model_name": "HTMLModel",
     "state": {
      "_dom_classes": [],
      "_model_module": "@jupyter-widgets/controls",
      "_model_module_version": "1.5.0",
      "_model_name": "HTMLModel",
      "_view_count": null,
      "_view_module": "@jupyter-widgets/controls",
      "_view_module_version": "1.5.0",
      "_view_name": "HTMLView",
      "description": "",
      "description_tooltip": null,
      "layout": "IPY_MODEL_ca5d6a8f55164d86b87314c1bab27654",
      "placeholder": "​",
      "style": "IPY_MODEL_9e679231b52443c9ae8aee7d7e9485bd",
      "value": " 20/20 [00:00&lt;00:00, 64.58it/s]"
     }
    },
    "e8e29e0625c14f86b1018b3a8fbbabda": {
     "model_module": "@jupyter-widgets/controls",
     "model_module_version": "1.5.0",
     "model_name": "HBoxModel",
     "state": {
      "_dom_classes": [],
      "_model_module": "@jupyter-widgets/controls",
      "_model_module_version": "1.5.0",
      "_model_name": "HBoxModel",
      "_view_count": null,
      "_view_module": "@jupyter-widgets/controls",
      "_view_module_version": "1.5.0",
      "_view_name": "HBoxView",
      "box_style": "",
      "children": [
       "IPY_MODEL_247d008872804e608992078ece705973",
       "IPY_MODEL_4732d163519e49adb73a16071fce3c77",
       "IPY_MODEL_d33df8452bc8478db44f39417728b6d3"
      ],
      "layout": "IPY_MODEL_f9c8514b2be04f2da800400483f5db7d"
     }
    },
    "e96692801a6a4d59b84920e48860a714": {
     "model_module": "@jupyter-widgets/base",
     "model_module_version": "1.2.0",
     "model_name": "LayoutModel",
     "state": {
      "_model_module": "@jupyter-widgets/base",
      "_model_module_version": "1.2.0",
      "_model_name": "LayoutModel",
      "_view_count": null,
      "_view_module": "@jupyter-widgets/base",
      "_view_module_version": "1.2.0",
      "_view_name": "LayoutView",
      "align_content": null,
      "align_items": null,
      "align_self": null,
      "border": null,
      "bottom": null,
      "display": null,
      "flex": null,
      "flex_flow": null,
      "grid_area": null,
      "grid_auto_columns": null,
      "grid_auto_flow": null,
      "grid_auto_rows": null,
      "grid_column": null,
      "grid_gap": null,
      "grid_row": null,
      "grid_template_areas": null,
      "grid_template_columns": null,
      "grid_template_rows": null,
      "height": null,
      "justify_content": null,
      "justify_items": null,
      "left": null,
      "margin": null,
      "max_height": null,
      "max_width": null,
      "min_height": null,
      "min_width": null,
      "object_fit": null,
      "object_position": null,
      "order": null,
      "overflow": null,
      "overflow_x": null,
      "overflow_y": null,
      "padding": null,
      "right": null,
      "top": null,
      "visibility": null,
      "width": null
     }
    },
    "f472b48832fd4dbc8ce37836228a6c62": {
     "model_module": "@jupyter-widgets/controls",
     "model_module_version": "1.5.0",
     "model_name": "DescriptionStyleModel",
     "state": {
      "_model_module": "@jupyter-widgets/controls",
      "_model_module_version": "1.5.0",
      "_model_name": "DescriptionStyleModel",
      "_view_count": null,
      "_view_module": "@jupyter-widgets/base",
      "_view_module_version": "1.2.0",
      "_view_name": "StyleView",
      "description_width": ""
     }
    },
    "f9c8514b2be04f2da800400483f5db7d": {
     "model_module": "@jupyter-widgets/base",
     "model_module_version": "1.2.0",
     "model_name": "LayoutModel",
     "state": {
      "_model_module": "@jupyter-widgets/base",
      "_model_module_version": "1.2.0",
      "_model_name": "LayoutModel",
      "_view_count": null,
      "_view_module": "@jupyter-widgets/base",
      "_view_module_version": "1.2.0",
      "_view_name": "LayoutView",
      "align_content": null,
      "align_items": null,
      "align_self": null,
      "border": null,
      "bottom": null,
      "display": null,
      "flex": null,
      "flex_flow": null,
      "grid_area": null,
      "grid_auto_columns": null,
      "grid_auto_flow": null,
      "grid_auto_rows": null,
      "grid_column": null,
      "grid_gap": null,
      "grid_row": null,
      "grid_template_areas": null,
      "grid_template_columns": null,
      "grid_template_rows": null,
      "height": null,
      "justify_content": null,
      "justify_items": null,
      "left": null,
      "margin": null,
      "max_height": null,
      "max_width": null,
      "min_height": null,
      "min_width": null,
      "object_fit": null,
      "object_position": null,
      "order": null,
      "overflow": null,
      "overflow_x": null,
      "overflow_y": null,
      "padding": null,
      "right": null,
      "top": null,
      "visibility": null,
      "width": null
     }
    }
   }
  }
 },
 "nbformat": 4,
 "nbformat_minor": 4
}
