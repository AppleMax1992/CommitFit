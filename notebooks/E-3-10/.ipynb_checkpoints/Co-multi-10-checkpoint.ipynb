{
 "cells": [
  {
   "cell_type": "code",
   "execution_count": 1,
   "id": "9f82a8cc-7b02-48d7-a783-6e89bccff8b2",
   "metadata": {
    "execution": {
     "iopub.execute_input": "2025-08-30T05:39:32.834307Z",
     "iopub.status.busy": "2025-08-30T05:39:32.833781Z",
     "iopub.status.idle": "2025-08-30T05:39:35.896544Z",
     "shell.execute_reply": "2025-08-30T05:39:35.895620Z",
     "shell.execute_reply.started": "2025-08-30T05:39:32.834268Z"
    }
   },
   "outputs": [],
   "source": [
    "import sys\n",
    "sys.path.append('/root/autodl-tmp/CommitFit')\n",
    "import pandas as pd\n",
    "from sklearn.model_selection import train_test_split\n",
    "import ensemble_model.preprocesser as preprocesser \n",
    "import ensemble_model.combined_model as cm \n",
    "from torch.utils.data import Dataset, DataLoader\n",
    "from transformers import BertModel, BertTokenizer, RobertaModel, RobertaTokenizer\n",
    "import numpy as np\n",
    "from sklearn.manifold import TSNE\n",
    "import matplotlib.pyplot as plt\n",
    "from sklearn.metrics import precision_score, recall_score, f1_score, precision_recall_curve"
   ]
  },
  {
   "cell_type": "code",
   "execution_count": 2,
   "id": "666cb7bc-ce61-42cb-b7fa-934b5e5d3580",
   "metadata": {
    "execution": {
     "iopub.execute_input": "2025-08-30T05:39:35.898464Z",
     "iopub.status.busy": "2025-08-30T05:39:35.898053Z",
     "iopub.status.idle": "2025-08-30T05:39:36.251278Z",
     "shell.execute_reply": "2025-08-30T05:39:36.250522Z",
     "shell.execute_reply.started": "2025-08-30T05:39:35.898439Z"
    }
   },
   "outputs": [
    {
     "name": "stderr",
     "output_type": "stream",
     "text": [
      "/tmp/ipykernel_3271/2507598078.py:5: FutureWarning: Downcasting behavior in `replace` is deprecated and will be removed in a future version. To retain the old behavior, explicitly call `result.infer_objects(copy=False)`. To opt-in to the future behavior, set `pd.set_option('future.no_silent_downcasting', True)`\n",
      "  df = df.replace({\"label\": label2id})\n"
     ]
    },
    {
     "data": {
      "text/html": [
       "<div>\n",
       "<style scoped>\n",
       "    .dataframe tbody tr th:only-of-type {\n",
       "        vertical-align: middle;\n",
       "    }\n",
       "\n",
       "    .dataframe tbody tr th {\n",
       "        vertical-align: top;\n",
       "    }\n",
       "\n",
       "    .dataframe thead th {\n",
       "        text-align: right;\n",
       "    }\n",
       "</style>\n",
       "<table border=\"1\" class=\"dataframe\">\n",
       "  <thead>\n",
       "    <tr style=\"text-align: right;\">\n",
       "      <th></th>\n",
       "      <th>language</th>\n",
       "      <th>commit</th>\n",
       "      <th>commit_url</th>\n",
       "      <th>label</th>\n",
       "      <th>user</th>\n",
       "      <th>repo</th>\n",
       "      <th>feature</th>\n",
       "      <th>diff</th>\n",
       "      <th>message</th>\n",
       "    </tr>\n",
       "  </thead>\n",
       "  <tbody>\n",
       "    <tr>\n",
       "      <th>0</th>\n",
       "      <td>C++</td>\n",
       "      <td>be937a3290223f926fe50684f1344569a573ed4b</td>\n",
       "      <td>https://github.com/tensorflow/tensorflow/commi...</td>\n",
       "      <td>1</td>\n",
       "      <td>tensorflow</td>\n",
       "      <td>tensorflow</td>\n",
       "      <td>[1, 0, 0, 1, 1, 0, 0, 1, 0, 0, 0, 0, 0, 0, 6, ...</td>\n",
       "      <td>diff --git a/tensorflow/compiler/mlir/lite/fla...</td>\n",
       "      <td>Fixing per axis quantization bug in flatbuffer...</td>\n",
       "    </tr>\n",
       "    <tr>\n",
       "      <th>1</th>\n",
       "      <td>C++</td>\n",
       "      <td>c800d2e36954edddcb83aa1df7f623f2780c7780</td>\n",
       "      <td>https://github.com/tensorflow/tensorflow/commi...</td>\n",
       "      <td>0</td>\n",
       "      <td>tensorflow</td>\n",
       "      <td>tensorflow</td>\n",
       "      <td>[0, 0, 0, 0, 0, 0, 0, 0, 0, 0, 0, 0, 0, 0, 0, ...</td>\n",
       "      <td>diff --git a/tensorflow/python/tools/saved_mod...</td>\n",
       "      <td>Add support for python expression as SavedMode...</td>\n",
       "    </tr>\n",
       "    <tr>\n",
       "      <th>2</th>\n",
       "      <td>C++</td>\n",
       "      <td>469e56eeff17eb857c95e935ca7b49723c43470e</td>\n",
       "      <td>https://github.com/tensorflow/tensorflow/commi...</td>\n",
       "      <td>2</td>\n",
       "      <td>tensorflow</td>\n",
       "      <td>tensorflow</td>\n",
       "      <td>[0, 0, 0, 0, 0, 0, 0, 0, 0, 0, 0, 0, 0, 0, 0, ...</td>\n",
       "      <td>diff --git a/.github/ISSUE_TEMPLATE/00-bug-iss...</td>\n",
       "      <td>Fix GitHub issue templates. Actual fix for #36...</td>\n",
       "    </tr>\n",
       "    <tr>\n",
       "      <th>3</th>\n",
       "      <td>C++</td>\n",
       "      <td>24f5d302c0906f3377f4d6bcc2735d943ce13e3d</td>\n",
       "      <td>https://github.com/tensorflow/tensorflow/commi...</td>\n",
       "      <td>0</td>\n",
       "      <td>tensorflow</td>\n",
       "      <td>tensorflow</td>\n",
       "      <td>[3, 37, 0, 0, 9, 0, 0, 0, 0, 0, 0, 0, 0, 0, 0,...</td>\n",
       "      <td>diff --git a/tensorflow/compiler/xla/pjrt/dist...</td>\n",
       "      <td>Add new PjRT distributed APIs (KeyValueDelete,...</td>\n",
       "    </tr>\n",
       "    <tr>\n",
       "      <th>4</th>\n",
       "      <td>C++</td>\n",
       "      <td>1effdb7b959503596b07f7f3e74618ab63f9e5e5</td>\n",
       "      <td>https://github.com/tensorflow/tensorflow/commi...</td>\n",
       "      <td>2</td>\n",
       "      <td>tensorflow</td>\n",
       "      <td>tensorflow</td>\n",
       "      <td>[1, 0, 12, 0, 0, 1, 0, 0, 0, 0, 0, 0, 0, 0, 0,...</td>\n",
       "      <td>diff --git a/tensorflow/core/common_runtime/ea...</td>\n",
       "      <td>Remove IsLocalDevice() since it's no longer us...</td>\n",
       "    </tr>\n",
       "    <tr>\n",
       "      <th>...</th>\n",
       "      <td>...</td>\n",
       "      <td>...</td>\n",
       "      <td>...</td>\n",
       "      <td>...</td>\n",
       "      <td>...</td>\n",
       "      <td>...</td>\n",
       "      <td>...</td>\n",
       "      <td>...</td>\n",
       "      <td>...</td>\n",
       "    </tr>\n",
       "    <tr>\n",
       "      <th>1576</th>\n",
       "      <td>Java</td>\n",
       "      <td>e4bbfd537a63a52a6094491504fc7b0bb54bcb0e</td>\n",
       "      <td></td>\n",
       "      <td>1</td>\n",
       "      <td>kiegroup</td>\n",
       "      <td>drools</td>\n",
       "      <td>[1, 0, 0, 1, 0, 0, 0, 0, 0, 0, 0, 0, 0, 0, 0, ...</td>\n",
       "      <td>diff --git a/drools-persistence-jpa/src/main/j...</td>\n",
       "      <td>fixing reflection constructor to use int inste...</td>\n",
       "    </tr>\n",
       "    <tr>\n",
       "      <th>1577</th>\n",
       "      <td>Java</td>\n",
       "      <td>75b81dcbd26a11d5b370ea5bdf102c2d62ebd0c3</td>\n",
       "      <td></td>\n",
       "      <td>1</td>\n",
       "      <td>kiegroup</td>\n",
       "      <td>drools</td>\n",
       "      <td>[2, 6, 2, 3, 0, 0, 0, 1, 7, 0, 0, 0, 0, 0, 0, ...</td>\n",
       "      <td>diff --git a/drools-compiler/src/main/java/org...</td>\n",
       "      <td>Fix OutOfBoundException on- MemoryFileSystem.e...</td>\n",
       "    </tr>\n",
       "    <tr>\n",
       "      <th>1578</th>\n",
       "      <td>Java</td>\n",
       "      <td>6bc9677bbe919cd5bcadd8af2f5b0c838757a4ce</td>\n",
       "      <td></td>\n",
       "      <td>1</td>\n",
       "      <td>kiegroup</td>\n",
       "      <td>drools</td>\n",
       "      <td>[1, 1, 5, 13, 0, 0, 0, 0, 0, 0, 0, 0, 0, 0, 0,...</td>\n",
       "      <td>diff --git a/drools-core/src/main/java/org/dro...</td>\n",
       "      <td>[DROOLS-293] fix ObjectTypeNode id creation an...</td>\n",
       "    </tr>\n",
       "    <tr>\n",
       "      <th>1579</th>\n",
       "      <td>Java</td>\n",
       "      <td>48701edad8513b27acec7216581e64637157c86a</td>\n",
       "      <td></td>\n",
       "      <td>0</td>\n",
       "      <td>kiegroup</td>\n",
       "      <td>drools</td>\n",
       "      <td>[2, 24, 2, 4, 3, 0, 0, 0, 0, 0, 0, 0, 0, 0, 0,...</td>\n",
       "      <td>diff --git a/drools-core/src/main/java/org/dro...</td>\n",
       "      <td>DROOLS-515 Kie-Camel is broken after Camel Upd...</td>\n",
       "    </tr>\n",
       "    <tr>\n",
       "      <th>1580</th>\n",
       "      <td>Java</td>\n",
       "      <td>45529d30d41b8de338dfc2d26b61d1a79113c766</td>\n",
       "      <td></td>\n",
       "      <td>0</td>\n",
       "      <td>kiegroup</td>\n",
       "      <td>drools</td>\n",
       "      <td>[1, 10, 0, 0, 0, 0, 0, 1, 60, 0, 0, 1, 0, 0, 0...</td>\n",
       "      <td>diff --git a/drools-compiler/src/test/java/org...</td>\n",
       "      <td>JBRULES-2934 Add NewRegisterWorkItemHandlerCom...</td>\n",
       "    </tr>\n",
       "  </tbody>\n",
       "</table>\n",
       "<p>1581 rows × 9 columns</p>\n",
       "</div>"
      ],
      "text/plain": [
       "     language                                    commit  \\\n",
       "0         C++  be937a3290223f926fe50684f1344569a573ed4b   \n",
       "1         C++  c800d2e36954edddcb83aa1df7f623f2780c7780   \n",
       "2         C++  469e56eeff17eb857c95e935ca7b49723c43470e   \n",
       "3         C++  24f5d302c0906f3377f4d6bcc2735d943ce13e3d   \n",
       "4         C++  1effdb7b959503596b07f7f3e74618ab63f9e5e5   \n",
       "...       ...                                       ...   \n",
       "1576     Java  e4bbfd537a63a52a6094491504fc7b0bb54bcb0e   \n",
       "1577     Java  75b81dcbd26a11d5b370ea5bdf102c2d62ebd0c3   \n",
       "1578     Java  6bc9677bbe919cd5bcadd8af2f5b0c838757a4ce   \n",
       "1579     Java  48701edad8513b27acec7216581e64637157c86a   \n",
       "1580     Java  45529d30d41b8de338dfc2d26b61d1a79113c766   \n",
       "\n",
       "                                             commit_url  label        user  \\\n",
       "0     https://github.com/tensorflow/tensorflow/commi...      1  tensorflow   \n",
       "1     https://github.com/tensorflow/tensorflow/commi...      0  tensorflow   \n",
       "2     https://github.com/tensorflow/tensorflow/commi...      2  tensorflow   \n",
       "3     https://github.com/tensorflow/tensorflow/commi...      0  tensorflow   \n",
       "4     https://github.com/tensorflow/tensorflow/commi...      2  tensorflow   \n",
       "...                                                 ...    ...         ...   \n",
       "1576                                                         1    kiegroup   \n",
       "1577                                                         1    kiegroup   \n",
       "1578                                                         1    kiegroup   \n",
       "1579                                                         0    kiegroup   \n",
       "1580                                                         0    kiegroup   \n",
       "\n",
       "            repo                                            feature  \\\n",
       "0     tensorflow  [1, 0, 0, 1, 1, 0, 0, 1, 0, 0, 0, 0, 0, 0, 6, ...   \n",
       "1     tensorflow  [0, 0, 0, 0, 0, 0, 0, 0, 0, 0, 0, 0, 0, 0, 0, ...   \n",
       "2     tensorflow  [0, 0, 0, 0, 0, 0, 0, 0, 0, 0, 0, 0, 0, 0, 0, ...   \n",
       "3     tensorflow  [3, 37, 0, 0, 9, 0, 0, 0, 0, 0, 0, 0, 0, 0, 0,...   \n",
       "4     tensorflow  [1, 0, 12, 0, 0, 1, 0, 0, 0, 0, 0, 0, 0, 0, 0,...   \n",
       "...          ...                                                ...   \n",
       "1576      drools  [1, 0, 0, 1, 0, 0, 0, 0, 0, 0, 0, 0, 0, 0, 0, ...   \n",
       "1577      drools  [2, 6, 2, 3, 0, 0, 0, 1, 7, 0, 0, 0, 0, 0, 0, ...   \n",
       "1578      drools  [1, 1, 5, 13, 0, 0, 0, 0, 0, 0, 0, 0, 0, 0, 0,...   \n",
       "1579      drools  [2, 24, 2, 4, 3, 0, 0, 0, 0, 0, 0, 0, 0, 0, 0,...   \n",
       "1580      drools  [1, 10, 0, 0, 0, 0, 0, 1, 60, 0, 0, 1, 0, 0, 0...   \n",
       "\n",
       "                                                   diff  \\\n",
       "0     diff --git a/tensorflow/compiler/mlir/lite/fla...   \n",
       "1     diff --git a/tensorflow/python/tools/saved_mod...   \n",
       "2     diff --git a/.github/ISSUE_TEMPLATE/00-bug-iss...   \n",
       "3     diff --git a/tensorflow/compiler/xla/pjrt/dist...   \n",
       "4     diff --git a/tensorflow/core/common_runtime/ea...   \n",
       "...                                                 ...   \n",
       "1576  diff --git a/drools-persistence-jpa/src/main/j...   \n",
       "1577  diff --git a/drools-compiler/src/main/java/org...   \n",
       "1578  diff --git a/drools-core/src/main/java/org/dro...   \n",
       "1579  diff --git a/drools-core/src/main/java/org/dro...   \n",
       "1580  diff --git a/drools-compiler/src/test/java/org...   \n",
       "\n",
       "                                                message  \n",
       "0     Fixing per axis quantization bug in flatbuffer...  \n",
       "1     Add support for python expression as SavedMode...  \n",
       "2     Fix GitHub issue templates. Actual fix for #36...  \n",
       "3     Add new PjRT distributed APIs (KeyValueDelete,...  \n",
       "4     Remove IsLocalDevice() since it's no longer us...  \n",
       "...                                                 ...  \n",
       "1576  fixing reflection constructor to use int inste...  \n",
       "1577  Fix OutOfBoundException on- MemoryFileSystem.e...  \n",
       "1578  [DROOLS-293] fix ObjectTypeNode id creation an...  \n",
       "1579  DROOLS-515 Kie-Camel is broken after Camel Upd...  \n",
       "1580  JBRULES-2934 Add NewRegisterWorkItemHandlerCom...  \n",
       "\n",
       "[1581 rows x 9 columns]"
      ]
     },
     "execution_count": 2,
     "metadata": {},
     "output_type": "execute_result"
    }
   ],
   "source": [
    "df = pd.read_csv(r'/root/autodl-tmp/CommitFit/dataset/multi-lang-exp/dataset.csv', index_col=0, encoding='utf_8_sig')\n",
    "df.fillna('', inplace=True)\n",
    "label2id={'A':0, 'C':1, 'P':2}\n",
    "df = df.rename(columns={'maintenance_type':'label','msgs':'message','diffs':'diff'})\n",
    "df = df.replace({\"label\": label2id})\n",
    "# df = df['diffs']\n",
    "# # print(df)\n",
    "df\n",
    "# test_sample = df.sample(n=3, random_state=1)"
   ]
  },
  {
   "cell_type": "code",
   "execution_count": 3,
   "id": "18e5ba2e-9175-4455-a42a-ced130563441",
   "metadata": {
    "execution": {
     "iopub.execute_input": "2025-08-30T05:39:36.252385Z",
     "iopub.status.busy": "2025-08-30T05:39:36.252173Z",
     "iopub.status.idle": "2025-08-30T05:39:36.258502Z",
     "shell.execute_reply": "2025-08-30T05:39:36.257809Z",
     "shell.execute_reply.started": "2025-08-30T05:39:36.252361Z"
    }
   },
   "outputs": [],
   "source": [
    "train, temp_df = train_test_split(df, test_size=0.3, random_state=42)\n",
    "val, test = train_test_split(temp_df, test_size=0.5, random_state=42)"
   ]
  },
  {
   "cell_type": "code",
   "execution_count": 4,
   "id": "23ded5b2-b057-4117-b99b-fa77a39bb480",
   "metadata": {
    "execution": {
     "iopub.execute_input": "2025-08-30T05:39:36.259532Z",
     "iopub.status.busy": "2025-08-30T05:39:36.259333Z",
     "iopub.status.idle": "2025-08-30T05:39:36.264724Z",
     "shell.execute_reply": "2025-08-30T05:39:36.263942Z",
     "shell.execute_reply.started": "2025-08-30T05:39:36.259510Z"
    }
   },
   "outputs": [],
   "source": [
    "# train.to_csv('/root/autodl-tmp/COLARE-main/dataset/multi-lang-annotated/train.csv',index=False)\n",
    "# test.to_csv('/root/autodl-tmp/COLARE-main/dataset/multi-lang-annotated/test.csv',index=False)\n",
    "# val.to_csv('/root/autodl-tmp/COLARE-main/dataset/multi-lang-annotated/eval.csv',index=False)"
   ]
  },
  {
   "cell_type": "code",
   "execution_count": 5,
   "id": "7b104969-4a01-44b3-8b11-72188d0042e6",
   "metadata": {
    "execution": {
     "iopub.execute_input": "2025-08-30T05:39:36.267030Z",
     "iopub.status.busy": "2025-08-30T05:39:36.266741Z",
     "iopub.status.idle": "2025-08-30T05:39:36.274628Z",
     "shell.execute_reply": "2025-08-30T05:39:36.273714Z",
     "shell.execute_reply.started": "2025-08-30T05:39:36.267006Z"
    }
   },
   "outputs": [
    {
     "name": "stderr",
     "output_type": "stream",
     "text": [
      "/tmp/ipykernel_3271/2882598814.py:1: DeprecationWarning: DataFrameGroupBy.apply operated on the grouping columns. This behavior is deprecated, and in a future version of pandas the grouping columns will be excluded from the operation. Either pass `include_groups=False` to exclude the groupings or explicitly select the grouping columns after groupby to silence this warning.\n",
      "  train = train.groupby(\"label\", group_keys=False).apply(lambda x: x.sample(n=5, random_state=42))\n"
     ]
    }
   ],
   "source": [
    "train = train.groupby(\"label\", group_keys=False).apply(lambda x: x.sample(n=10, random_state=42))"
   ]
  },
  {
   "cell_type": "code",
   "execution_count": 6,
   "id": "7b77e6e8-8d9d-45f3-be04-94a8b7499213",
   "metadata": {
    "execution": {
     "iopub.execute_input": "2025-08-30T05:39:36.276196Z",
     "iopub.status.busy": "2025-08-30T05:39:36.275880Z",
     "iopub.status.idle": "2025-08-30T05:39:38.496922Z",
     "shell.execute_reply": "2025-08-30T05:39:38.495837Z",
     "shell.execute_reply.started": "2025-08-30T05:39:36.276161Z"
    }
   },
   "outputs": [
    {
     "name": "stderr",
     "output_type": "stream",
     "text": [
      "Some weights of the model checkpoint at /root/autodl-tmp/CommitFit/models/bert-base-uncased were not used when initializing BertModel: ['cls.predictions.transform.dense.weight', 'cls.predictions.decoder.weight', 'cls.seq_relationship.weight', 'cls.seq_relationship.bias', 'cls.predictions.transform.LayerNorm.weight', 'cls.predictions.transform.LayerNorm.bias', 'cls.predictions.transform.dense.bias', 'cls.predictions.bias']\n",
      "- This IS expected if you are initializing BertModel from the checkpoint of a model trained on another task or with another architecture (e.g. initializing a BertForSequenceClassification model from a BertForPreTraining model).\n",
      "- This IS NOT expected if you are initializing BertModel from the checkpoint of a model that you expect to be exactly identical (initializing a BertForSequenceClassification model from a BertForSequenceClassification model).\n"
     ]
    }
   ],
   "source": [
    "# Load BERT and CodeBERT models and tokenizers\n",
    "bert_model = BertModel.from_pretrained('/root/autodl-tmp/CommitFit/models/bert-base-uncased')\n",
    "bert_tokenizer = BertTokenizer.from_pretrained('/root/autodl-tmp/CommitFit/models/bert-base-uncased')\n",
    "\n",
    "codebert_model = RobertaModel.from_pretrained('/root/autodl-tmp/CommitFit/models/codebert-base')\n",
    "codebert_tokenizer = RobertaTokenizer.from_pretrained('/root/autodl-tmp/CommitFit/models/codebert-base')"
   ]
  },
  {
   "cell_type": "code",
   "execution_count": 7,
   "id": "754df1cb-3f7e-4ef8-974c-8f816fa5c88d",
   "metadata": {
    "execution": {
     "iopub.execute_input": "2025-08-30T05:39:38.498234Z",
     "iopub.status.busy": "2025-08-30T05:39:38.498014Z",
     "iopub.status.idle": "2025-08-30T05:39:38.514520Z",
     "shell.execute_reply": "2025-08-30T05:39:38.513701Z",
     "shell.execute_reply.started": "2025-08-30T05:39:38.498210Z"
    }
   },
   "outputs": [
    {
     "data": {
      "text/html": [
       "<div>\n",
       "<style scoped>\n",
       "    .dataframe tbody tr th:only-of-type {\n",
       "        vertical-align: middle;\n",
       "    }\n",
       "\n",
       "    .dataframe tbody tr th {\n",
       "        vertical-align: top;\n",
       "    }\n",
       "\n",
       "    .dataframe thead th {\n",
       "        text-align: right;\n",
       "    }\n",
       "</style>\n",
       "<table border=\"1\" class=\"dataframe\">\n",
       "  <thead>\n",
       "    <tr style=\"text-align: right;\">\n",
       "      <th></th>\n",
       "      <th>language</th>\n",
       "      <th>commit</th>\n",
       "      <th>commit_url</th>\n",
       "      <th>label</th>\n",
       "      <th>user</th>\n",
       "      <th>repo</th>\n",
       "      <th>feature</th>\n",
       "      <th>diff</th>\n",
       "      <th>message</th>\n",
       "    </tr>\n",
       "  </thead>\n",
       "  <tbody>\n",
       "    <tr>\n",
       "      <th>401</th>\n",
       "      <td>Go</td>\n",
       "      <td>ed09b4ea6a17566b546a9d3ae76876636710c6a0</td>\n",
       "      <td>https://github.com/v2ray/v2ray-core/commit/ed0...</td>\n",
       "      <td>0</td>\n",
       "      <td>v2ray</td>\n",
       "      <td>v2ray-core</td>\n",
       "      <td>[3, 49, 2, 8, 0, 0, 0, 2, 29, 0, 2, 0, 0, 0, 0...</td>\n",
       "      <td>diff --git a/common/net/json/host.go b/common/...</td>\n",
       "      <td>support domain as host in VMess outbound confi...</td>\n",
       "    </tr>\n",
       "    <tr>\n",
       "      <th>907</th>\n",
       "      <td>Rust</td>\n",
       "      <td>e67010b5e2eaa5a5ddb756d7ddc2dd0194f09a0a</td>\n",
       "      <td>https://github.com/denoland/deno/commit/e67010...</td>\n",
       "      <td>0</td>\n",
       "      <td>denoland</td>\n",
       "      <td>deno</td>\n",
       "      <td>[2, 25, 1, 7, 0, 0, 0, 2, 35, 0, 0, 0, 0, 0, 0...</td>\n",
       "      <td>diff --git a/cli/file_fetcher.rs b/cli/file_fe...</td>\n",
       "      <td>feat(cli/compile): Support data uri dynamic im...</td>\n",
       "    </tr>\n",
       "    <tr>\n",
       "      <th>1385</th>\n",
       "      <td>Java</td>\n",
       "      <td>74066765bb8ca85864f75bde6091f96207f988cf</td>\n",
       "      <td></td>\n",
       "      <td>0</td>\n",
       "      <td>apache</td>\n",
       "      <td>hbase</td>\n",
       "      <td>[1, 0, 0, 1, 0, 0, 0, 0, 0, 0, 0, 0, 0, 0, 0, ...</td>\n",
       "      <td>diff --git a/src/main/java/org/apache/hadoop/h...</td>\n",
       "      <td>HBASE-2889 Tool to look at HLogs -- parse and-...</td>\n",
       "    </tr>\n",
       "    <tr>\n",
       "      <th>448</th>\n",
       "      <td>Go</td>\n",
       "      <td>8d9e4345207013c55a8719995ec4ad4e9be466f2</td>\n",
       "      <td>https://github.com/FiloSottile/mkcert/commit/8...</td>\n",
       "      <td>0</td>\n",
       "      <td>FiloSottile</td>\n",
       "      <td>mkcert</td>\n",
       "      <td>[1, 9, 6, 6, 0, 0, 0, 0, 0, 0, 0, 0, 0, 0, 0, ...</td>\n",
       "      <td>diff --git a/truststore_nss.go b/truststore_ns...</td>\n",
       "      <td>truststore_nss: support multiple NSS databases...</td>\n",
       "    </tr>\n",
       "    <tr>\n",
       "      <th>653</th>\n",
       "      <td>JavaScript</td>\n",
       "      <td>145c46ff3630e55b6c50ff479f54661ef54124bd</td>\n",
       "      <td>https://github.com/webpack/webpack/commit/145c...</td>\n",
       "      <td>0</td>\n",
       "      <td>webpack</td>\n",
       "      <td>webpack</td>\n",
       "      <td>[1, 15, 0, 0, 0, 0, 0, 0, 0, 0, 0, 0, 0, 0, 0,...</td>\n",
       "      <td>diff --git a/lib/dependencies/DelegatedExports...</td>\n",
       "      <td>feat(DelegatedExportsDependency): make seriali...</td>\n",
       "    </tr>\n",
       "    <tr>\n",
       "      <th>781</th>\n",
       "      <td>Python</td>\n",
       "      <td>a2479f46f3d05b37254ad701b6b76f84624d3cb5</td>\n",
       "      <td>https://github.com/django/django/commit/a2479f...</td>\n",
       "      <td>1</td>\n",
       "      <td>django</td>\n",
       "      <td>django</td>\n",
       "      <td>[3, 13, 0, 3, 1, 0, 0, 1, 5, 0, 0, 0, 0, 0, 0,...</td>\n",
       "      <td>diff --git a/django/contrib/auth/migrations/00...</td>\n",
       "      <td>Fixed #7220 -- Allowed AbstractBaseUser.last_l...</td>\n",
       "    </tr>\n",
       "    <tr>\n",
       "      <th>126</th>\n",
       "      <td>C++</td>\n",
       "      <td>6662fe7b185aab29aa4b2c5e08784e9da75bc700</td>\n",
       "      <td>https://github.com/ocornut/imgui/commit/6662fe...</td>\n",
       "      <td>1</td>\n",
       "      <td>ocornut</td>\n",
       "      <td>imgui</td>\n",
       "      <td>[1, 1, 0, 0, 0, 0, 0, 0, 0, 0, 0, 0, 0, 0, 0, ...</td>\n",
       "      <td>diff --git a/stb_truetype.h b/stb_truetype.h\\n...</td>\n",
       "      <td>stb_truetype: Fixed unused variable warnings f...</td>\n",
       "    </tr>\n",
       "    <tr>\n",
       "      <th>1323</th>\n",
       "      <td>TypeScript</td>\n",
       "      <td>177f1fc5dd489e90eb1c4cf055e342fbc4f6ef32</td>\n",
       "      <td>https://github.com/apache/echarts/commit/177f1...</td>\n",
       "      <td>1</td>\n",
       "      <td>apache</td>\n",
       "      <td>echarts</td>\n",
       "      <td>[1, 0, 0, 1, 0, 1, 2, 0, 0, 0, 0, 0, 0, 0, 0, ...</td>\n",
       "      <td>diff --git a/src/component/toolbox/feature/Sav...</td>\n",
       "      <td>fix(toolbox): remove outer link and fix issues...</td>\n",
       "    </tr>\n",
       "    <tr>\n",
       "      <th>683</th>\n",
       "      <td>JavaScript</td>\n",
       "      <td>ec7be48470e42472a07572b7f1ca2abc91bfdad3</td>\n",
       "      <td>https://github.com/chartjs/Chart.js/commit/ec7...</td>\n",
       "      <td>1</td>\n",
       "      <td>chartjs</td>\n",
       "      <td>Chart.js</td>\n",
       "      <td>[1, 6, 0, 0, 2, 0, 0, 2, 34, 0, 0, 0, 0, 0, 0,...</td>\n",
       "      <td>diff --git a/src/controllers/controller.scatte...</td>\n",
       "      <td>Fix toggling showLine option on scatter contro...</td>\n",
       "    </tr>\n",
       "    <tr>\n",
       "      <th>871</th>\n",
       "      <td>Python</td>\n",
       "      <td>daf4c358f7d382e7fc0466b06e3c528d24b3f760</td>\n",
       "      <td>https://github.com/ansible/ansible/commit/daf4...</td>\n",
       "      <td>1</td>\n",
       "      <td>ansible</td>\n",
       "      <td>ansible</td>\n",
       "      <td>[0, 0, 0, 0, 0, 0, 0, 0, 0, 0, 0, 0, 0, 0, 0, ...</td>\n",
       "      <td>diff --git a/library/packaging/pip b/library/p...</td>\n",
       "      <td>fixes case where name is omitted from pip arg ...</td>\n",
       "    </tr>\n",
       "    <tr>\n",
       "      <th>1292</th>\n",
       "      <td>TypeScript</td>\n",
       "      <td>de7140853140029a3f48600b60e700464e7662b5</td>\n",
       "      <td>https://github.com/vitejs/vite/commit/de714085...</td>\n",
       "      <td>2</td>\n",
       "      <td>vitejs</td>\n",
       "      <td>vite</td>\n",
       "      <td>[1, 0, 0, 2, 0, 0, 0, 0, 0, 0, 0, 0, 0, 0, 0, ...</td>\n",
       "      <td>diff --git a/packages/plugin-legacy/index.js b...</td>\n",
       "      <td>fix(plugin-legacy): avoid executing blank dyna...</td>\n",
       "    </tr>\n",
       "    <tr>\n",
       "      <th>1215</th>\n",
       "      <td>TypeScript</td>\n",
       "      <td>bf0b0a30e02d7a70e092f290680b941610d9cccc</td>\n",
       "      <td>https://github.com/gothinkster/realworld/commi...</td>\n",
       "      <td>2</td>\n",
       "      <td>gothinkster</td>\n",
       "      <td>realworld</td>\n",
       "      <td>[0, 0, 0, 0, 0, 0, 0, 0, 0, 0, 0, 0, 0, 0, 0, ...</td>\n",
       "      <td>diff --git a/api/openapi.yml b/api/openapi.yml...</td>\n",
       "      <td>refactor: update openapi title\\n\\n</td>\n",
       "    </tr>\n",
       "    <tr>\n",
       "      <th>869</th>\n",
       "      <td>Python</td>\n",
       "      <td>b64e5919715f8dee546fbfc5049f8ec1574c2567</td>\n",
       "      <td>https://github.com/keras-team/keras/commit/b64...</td>\n",
       "      <td>2</td>\n",
       "      <td>keras-team</td>\n",
       "      <td>keras</td>\n",
       "      <td>[1, 0, 0, 3, 0, 0, 0, 0, 0, 0, 0, 0, 0, 0, 0, ...</td>\n",
       "      <td>diff --git a/keras/layers/recurrent.py b/keras...</td>\n",
       "      <td>Fix misleading docstrings (#6052)\\n\\nPassing N...</td>\n",
       "    </tr>\n",
       "    <tr>\n",
       "      <th>1013</th>\n",
       "      <td>Rust</td>\n",
       "      <td>106bcb73bcfe1c3887795a6fa2b106c665df3d56</td>\n",
       "      <td>https://github.com/starship/starship/commit/10...</td>\n",
       "      <td>2</td>\n",
       "      <td>starship</td>\n",
       "      <td>starship</td>\n",
       "      <td>[1, 1, 0, 1, 1, 0, 0, 0, 0, 0, 0, 0, 0, 0, 0, ...</td>\n",
       "      <td>diff --git a/src/main.rs b/src/main.rs\\nindex ...</td>\n",
       "      <td>Add authors to help message\\n\\n</td>\n",
       "    </tr>\n",
       "    <tr>\n",
       "      <th>372</th>\n",
       "      <td>Go</td>\n",
       "      <td>f73d059d80af7028531a12d76fb37fe4ea01254f</td>\n",
       "      <td>https://github.com/etcd-io/etcd/commit/f73d059...</td>\n",
       "      <td>2</td>\n",
       "      <td>etcd-io</td>\n",
       "      <td>etcd</td>\n",
       "      <td>[1, 16, 16, 0, 4, 4, 0, 0, 0, 0, 0, 0, 0, 0, 0...</td>\n",
       "      <td>diff --git a/raft/raft.go b/raft/raft.go\\ninde...</td>\n",
       "      <td>raft: group configuration related funcs\\n\\n</td>\n",
       "    </tr>\n",
       "  </tbody>\n",
       "</table>\n",
       "</div>"
      ],
      "text/plain": [
       "        language                                    commit  \\\n",
       "401           Go  ed09b4ea6a17566b546a9d3ae76876636710c6a0   \n",
       "907         Rust  e67010b5e2eaa5a5ddb756d7ddc2dd0194f09a0a   \n",
       "1385        Java  74066765bb8ca85864f75bde6091f96207f988cf   \n",
       "448           Go  8d9e4345207013c55a8719995ec4ad4e9be466f2   \n",
       "653   JavaScript  145c46ff3630e55b6c50ff479f54661ef54124bd   \n",
       "781       Python  a2479f46f3d05b37254ad701b6b76f84624d3cb5   \n",
       "126          C++  6662fe7b185aab29aa4b2c5e08784e9da75bc700   \n",
       "1323  TypeScript  177f1fc5dd489e90eb1c4cf055e342fbc4f6ef32   \n",
       "683   JavaScript  ec7be48470e42472a07572b7f1ca2abc91bfdad3   \n",
       "871       Python  daf4c358f7d382e7fc0466b06e3c528d24b3f760   \n",
       "1292  TypeScript  de7140853140029a3f48600b60e700464e7662b5   \n",
       "1215  TypeScript  bf0b0a30e02d7a70e092f290680b941610d9cccc   \n",
       "869       Python  b64e5919715f8dee546fbfc5049f8ec1574c2567   \n",
       "1013        Rust  106bcb73bcfe1c3887795a6fa2b106c665df3d56   \n",
       "372           Go  f73d059d80af7028531a12d76fb37fe4ea01254f   \n",
       "\n",
       "                                             commit_url  label         user  \\\n",
       "401   https://github.com/v2ray/v2ray-core/commit/ed0...      0        v2ray   \n",
       "907   https://github.com/denoland/deno/commit/e67010...      0     denoland   \n",
       "1385                                                         0       apache   \n",
       "448   https://github.com/FiloSottile/mkcert/commit/8...      0  FiloSottile   \n",
       "653   https://github.com/webpack/webpack/commit/145c...      0      webpack   \n",
       "781   https://github.com/django/django/commit/a2479f...      1       django   \n",
       "126   https://github.com/ocornut/imgui/commit/6662fe...      1      ocornut   \n",
       "1323  https://github.com/apache/echarts/commit/177f1...      1       apache   \n",
       "683   https://github.com/chartjs/Chart.js/commit/ec7...      1      chartjs   \n",
       "871   https://github.com/ansible/ansible/commit/daf4...      1      ansible   \n",
       "1292  https://github.com/vitejs/vite/commit/de714085...      2       vitejs   \n",
       "1215  https://github.com/gothinkster/realworld/commi...      2  gothinkster   \n",
       "869   https://github.com/keras-team/keras/commit/b64...      2   keras-team   \n",
       "1013  https://github.com/starship/starship/commit/10...      2     starship   \n",
       "372   https://github.com/etcd-io/etcd/commit/f73d059...      2      etcd-io   \n",
       "\n",
       "            repo                                            feature  \\\n",
       "401   v2ray-core  [3, 49, 2, 8, 0, 0, 0, 2, 29, 0, 2, 0, 0, 0, 0...   \n",
       "907         deno  [2, 25, 1, 7, 0, 0, 0, 2, 35, 0, 0, 0, 0, 0, 0...   \n",
       "1385       hbase  [1, 0, 0, 1, 0, 0, 0, 0, 0, 0, 0, 0, 0, 0, 0, ...   \n",
       "448       mkcert  [1, 9, 6, 6, 0, 0, 0, 0, 0, 0, 0, 0, 0, 0, 0, ...   \n",
       "653      webpack  [1, 15, 0, 0, 0, 0, 0, 0, 0, 0, 0, 0, 0, 0, 0,...   \n",
       "781       django  [3, 13, 0, 3, 1, 0, 0, 1, 5, 0, 0, 0, 0, 0, 0,...   \n",
       "126        imgui  [1, 1, 0, 0, 0, 0, 0, 0, 0, 0, 0, 0, 0, 0, 0, ...   \n",
       "1323     echarts  [1, 0, 0, 1, 0, 1, 2, 0, 0, 0, 0, 0, 0, 0, 0, ...   \n",
       "683     Chart.js  [1, 6, 0, 0, 2, 0, 0, 2, 34, 0, 0, 0, 0, 0, 0,...   \n",
       "871      ansible  [0, 0, 0, 0, 0, 0, 0, 0, 0, 0, 0, 0, 0, 0, 0, ...   \n",
       "1292        vite  [1, 0, 0, 2, 0, 0, 0, 0, 0, 0, 0, 0, 0, 0, 0, ...   \n",
       "1215   realworld  [0, 0, 0, 0, 0, 0, 0, 0, 0, 0, 0, 0, 0, 0, 0, ...   \n",
       "869        keras  [1, 0, 0, 3, 0, 0, 0, 0, 0, 0, 0, 0, 0, 0, 0, ...   \n",
       "1013    starship  [1, 1, 0, 1, 1, 0, 0, 0, 0, 0, 0, 0, 0, 0, 0, ...   \n",
       "372         etcd  [1, 16, 16, 0, 4, 4, 0, 0, 0, 0, 0, 0, 0, 0, 0...   \n",
       "\n",
       "                                                   diff  \\\n",
       "401   diff --git a/common/net/json/host.go b/common/...   \n",
       "907   diff --git a/cli/file_fetcher.rs b/cli/file_fe...   \n",
       "1385  diff --git a/src/main/java/org/apache/hadoop/h...   \n",
       "448   diff --git a/truststore_nss.go b/truststore_ns...   \n",
       "653   diff --git a/lib/dependencies/DelegatedExports...   \n",
       "781   diff --git a/django/contrib/auth/migrations/00...   \n",
       "126   diff --git a/stb_truetype.h b/stb_truetype.h\\n...   \n",
       "1323  diff --git a/src/component/toolbox/feature/Sav...   \n",
       "683   diff --git a/src/controllers/controller.scatte...   \n",
       "871   diff --git a/library/packaging/pip b/library/p...   \n",
       "1292  diff --git a/packages/plugin-legacy/index.js b...   \n",
       "1215  diff --git a/api/openapi.yml b/api/openapi.yml...   \n",
       "869   diff --git a/keras/layers/recurrent.py b/keras...   \n",
       "1013  diff --git a/src/main.rs b/src/main.rs\\nindex ...   \n",
       "372   diff --git a/raft/raft.go b/raft/raft.go\\ninde...   \n",
       "\n",
       "                                                message  \n",
       "401   support domain as host in VMess outbound confi...  \n",
       "907   feat(cli/compile): Support data uri dynamic im...  \n",
       "1385  HBASE-2889 Tool to look at HLogs -- parse and-...  \n",
       "448   truststore_nss: support multiple NSS databases...  \n",
       "653   feat(DelegatedExportsDependency): make seriali...  \n",
       "781   Fixed #7220 -- Allowed AbstractBaseUser.last_l...  \n",
       "126   stb_truetype: Fixed unused variable warnings f...  \n",
       "1323  fix(toolbox): remove outer link and fix issues...  \n",
       "683   Fix toggling showLine option on scatter contro...  \n",
       "871   fixes case where name is omitted from pip arg ...  \n",
       "1292  fix(plugin-legacy): avoid executing blank dyna...  \n",
       "1215                 refactor: update openapi title\\n\\n  \n",
       "869   Fix misleading docstrings (#6052)\\n\\nPassing N...  \n",
       "1013                    Add authors to help message\\n\\n  \n",
       "372         raft: group configuration related funcs\\n\\n  "
      ]
     },
     "execution_count": 7,
     "metadata": {},
     "output_type": "execute_result"
    }
   ],
   "source": [
    "train"
   ]
  },
  {
   "cell_type": "code",
   "execution_count": null,
   "id": "1549be02-6f6b-41e5-bd04-d3e164061eec",
   "metadata": {
    "execution": {
     "iopub.execute_input": "2025-08-30T05:39:38.515511Z",
     "iopub.status.busy": "2025-08-30T05:39:38.515311Z"
    }
   },
   "outputs": [
    {
     "name": "stderr",
     "output_type": "stream",
     "text": [
      "/root/miniconda3/lib/python3.10/site-packages/transformers/optimization.py:391: FutureWarning: This implementation of AdamW is deprecated and will be removed in a future version. Use the PyTorch implementation torch.optim.AdamW instead, or set `no_deprecation_warning=True` to disable this warning\n",
      "  warnings.warn(\n",
      "Epoch 1/10 Loss: 1.1191: 100%|██████████| 2/2 [00:00<00:00,  2.32batch/s]\n"
     ]
    },
    {
     "name": "stdout",
     "output_type": "stream",
     "text": [
      "=============================train========================\n"
     ]
    },
    {
     "name": "stderr",
     "output_type": "stream",
     "text": [
      "Epoch 2/10 Loss: 1.0404: 100%|██████████| 2/2 [00:00<00:00,  3.30batch/s]\n"
     ]
    },
    {
     "name": "stdout",
     "output_type": "stream",
     "text": [
      "=============================train========================\n"
     ]
    },
    {
     "name": "stderr",
     "output_type": "stream",
     "text": [
      "Epoch 3/10 Loss: 0.9459: 100%|██████████| 2/2 [00:00<00:00,  3.31batch/s]\n"
     ]
    },
    {
     "name": "stdout",
     "output_type": "stream",
     "text": [
      "=============================train========================\n"
     ]
    },
    {
     "name": "stderr",
     "output_type": "stream",
     "text": [
      "Epoch 4/10 Loss: 0.8313: 100%|██████████| 2/2 [00:00<00:00,  3.32batch/s]\n"
     ]
    },
    {
     "name": "stdout",
     "output_type": "stream",
     "text": [
      "=============================train========================\n"
     ]
    },
    {
     "name": "stderr",
     "output_type": "stream",
     "text": [
      "Epoch 5/10 Loss: 0.6876: 100%|██████████| 2/2 [00:00<00:00,  3.33batch/s]\n"
     ]
    },
    {
     "name": "stdout",
     "output_type": "stream",
     "text": [
      "=============================train========================\n"
     ]
    },
    {
     "name": "stderr",
     "output_type": "stream",
     "text": [
      "Epoch 6/10 Loss: 0.5732: 100%|██████████| 2/2 [00:00<00:00,  3.34batch/s]\n"
     ]
    },
    {
     "name": "stdout",
     "output_type": "stream",
     "text": [
      "=============================train========================\n"
     ]
    },
    {
     "name": "stderr",
     "output_type": "stream",
     "text": [
      "Epoch 7/10 Loss: 0.4735: 100%|██████████| 2/2 [00:00<00:00,  3.31batch/s]\n"
     ]
    },
    {
     "name": "stdout",
     "output_type": "stream",
     "text": [
      "=============================train========================\n"
     ]
    },
    {
     "name": "stderr",
     "output_type": "stream",
     "text": [
      "Epoch 8/10 Loss: 0.3809: 100%|██████████| 2/2 [00:00<00:00,  3.31batch/s]\n"
     ]
    },
    {
     "name": "stdout",
     "output_type": "stream",
     "text": [
      "=============================train========================\n"
     ]
    },
    {
     "name": "stderr",
     "output_type": "stream",
     "text": [
      "Epoch 9/10 Loss: 0.2790: 100%|██████████| 2/2 [00:00<00:00,  3.29batch/s]\n"
     ]
    },
    {
     "name": "stdout",
     "output_type": "stream",
     "text": [
      "=============================train========================\n"
     ]
    },
    {
     "name": "stderr",
     "output_type": "stream",
     "text": [
      "Epoch 10/10 Loss: 0.2058: 100%|██████████| 2/2 [00:00<00:00,  3.31batch/s]\n"
     ]
    },
    {
     "name": "stdout",
     "output_type": "stream",
     "text": [
      "=============================train========================\n"
     ]
    }
   ],
   "source": [
    "train.reset_index(inplace=True)\n",
    "val.reset_index(inplace=True)\n",
    "test.reset_index(inplace=True)\n",
    "\n",
    "# Create Datasets and DataLoaders\n",
    "train_dataset = preprocesser.SentencePairDataset(train, bert_tokenizer, codebert_tokenizer,message='message',command='diff',label='label')\n",
    "val_dataset = preprocesser.SentencePairDataset(val, bert_tokenizer, codebert_tokenizer,message='message',command='diff',label='label')\n",
    "test_dataset = preprocesser.SentencePairDataset(test, bert_tokenizer, codebert_tokenizer,message='message',command='diff',label='label')\n",
    "train_loader = DataLoader(train_dataset, batch_size=8, shuffle=True)\n",
    "val_loader = DataLoader(val_dataset, batch_size=8, shuffle=False)\n",
    "test_loader = DataLoader(test_dataset, batch_size=8, shuffle=False)\n",
    "\n",
    "\n",
    "\n",
    "# # Initialize the model\n",
    "# model = em.CombinedModel(bert_model, codebert_model, bert_tokenizer, codebert_tokenizer)\n",
    "\n",
    "# # Train the model\n",
    "# model.trainer(train_loader, val_loader,num_epochs=10)\n",
    "# for batch in train_loader:\n",
    "#     print(batch)\n",
    "\n",
    "\n",
    "base_model1 = cm.BaseModel(bert_model)\n",
    "base_model2 = cm.BaseModel(codebert_model)\n",
    "\n",
    "# Create stacking model\n",
    "combined_model = cm.CombinedModel(base_model1, base_model2)\n",
    "# Train the model\n",
    "combined_model.trainer(train_loader, val_loader,num_epochs=10, patience=3)"
   ]
  },
  {
   "cell_type": "code",
   "execution_count": null,
   "id": "def4bb0a-419c-46fb-b61b-c9f1a98f0caa",
   "metadata": {},
   "outputs": [],
   "source": [
    "test_dataset = preprocesser.SentencePairDataset(test, bert_tokenizer, codebert_tokenizer,message='message',command='diff',label='label')\n",
    "test_loader = DataLoader(test_dataset, batch_size=32, shuffle=False)"
   ]
  },
  {
   "cell_type": "code",
   "execution_count": null,
   "id": "4e01924f-b8a3-4282-acf6-6d38aee2620c",
   "metadata": {},
   "outputs": [],
   "source": []
  },
  {
   "cell_type": "code",
   "execution_count": null,
   "id": "92009384-7770-4b2a-97b2-c0b4d209a0a7",
   "metadata": {},
   "outputs": [],
   "source": []
  },
  {
   "cell_type": "code",
   "execution_count": null,
   "id": "49ad177a-0ad0-414e-a5b6-5b768a5da9cd",
   "metadata": {},
   "outputs": [],
   "source": []
  },
  {
   "cell_type": "code",
   "execution_count": null,
   "id": "5878d2a3-fe90-45b1-9486-739c4fee6004",
   "metadata": {},
   "outputs": [],
   "source": [
    "test_acc, test_labels, test_probabilities, test_embeddings, test_predictions = combined_model.evaluate(test_loader)"
   ]
  },
  {
   "cell_type": "code",
   "execution_count": null,
   "id": "0376c52a-7906-4b38-ab5b-88be13b3b3d5",
   "metadata": {},
   "outputs": [],
   "source": []
  },
  {
   "cell_type": "code",
   "execution_count": null,
   "id": "14393aa5-3ad7-4dae-953c-ff77d8005640",
   "metadata": {},
   "outputs": [],
   "source": [
    "from sklearn import metrics"
   ]
  },
  {
   "cell_type": "code",
   "execution_count": null,
   "id": "9ee6becf-2511-478b-9487-d37f19cc708e",
   "metadata": {},
   "outputs": [],
   "source": [
    "cm = metrics.confusion_matrix(test_labels, test_predictions)\n",
    "cm"
   ]
  },
  {
   "cell_type": "code",
   "execution_count": null,
   "id": "b84edf12-7846-4311-8539-7078f9801402",
   "metadata": {},
   "outputs": [],
   "source": []
  },
  {
   "cell_type": "code",
   "execution_count": null,
   "id": "2d231095-873f-419b-accf-256577523d83",
   "metadata": {},
   "outputs": [],
   "source": []
  },
  {
   "cell_type": "code",
   "execution_count": null,
   "id": "89e6f9cd-8d2c-4d7e-ae0e-46cee540777a",
   "metadata": {},
   "outputs": [],
   "source": []
  },
  {
   "cell_type": "code",
   "execution_count": null,
   "id": "3084ce4f-6970-4812-b9c1-f09f8207f2f2",
   "metadata": {},
   "outputs": [],
   "source": []
  },
  {
   "cell_type": "code",
   "execution_count": null,
   "id": "ab0cb527-8732-43b7-8e88-2e50a1b6de90",
   "metadata": {},
   "outputs": [],
   "source": []
  },
  {
   "cell_type": "code",
   "execution_count": null,
   "id": "c9248fb4-719c-423e-9f70-001fca1d5fb7",
   "metadata": {},
   "outputs": [],
   "source": []
  },
  {
   "cell_type": "code",
   "execution_count": null,
   "id": "cf3fa80c-6e0c-42a1-92d2-669cca1e84f7",
   "metadata": {},
   "outputs": [],
   "source": []
  },
  {
   "cell_type": "code",
   "execution_count": null,
   "id": "3ca9b990-a568-4acc-8194-53b47fc3452c",
   "metadata": {},
   "outputs": [],
   "source": []
  },
  {
   "cell_type": "code",
   "execution_count": null,
   "id": "09f84c3b-5e00-416b-88d8-b9e1b0b846d8",
   "metadata": {},
   "outputs": [],
   "source": []
  },
  {
   "cell_type": "code",
   "execution_count": null,
   "id": "8ad24f5e-d1c1-4d34-b7e9-43dc6efa7d37",
   "metadata": {},
   "outputs": [],
   "source": []
  }
 ],
 "metadata": {
  "kernelspec": {
   "display_name": "Python 3 (ipykernel)",
   "language": "python",
   "name": "python3"
  },
  "language_info": {
   "codemirror_mode": {
    "name": "ipython",
    "version": 3
   },
   "file_extension": ".py",
   "mimetype": "text/x-python",
   "name": "python",
   "nbconvert_exporter": "python",
   "pygments_lexer": "ipython3",
   "version": "3.10.8"
  }
 },
 "nbformat": 4,
 "nbformat_minor": 5
}
