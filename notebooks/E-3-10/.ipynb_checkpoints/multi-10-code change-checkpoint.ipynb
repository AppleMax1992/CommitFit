{
 "cells": [
  {
   "cell_type": "code",
   "execution_count": 1,
   "id": "77d93e6a-106b-4abd-87e7-1243d4c51126",
   "metadata": {
    "execution": {
     "iopub.execute_input": "2025-08-29T00:49:39.068650Z",
     "iopub.status.busy": "2025-08-29T00:49:39.067967Z",
     "iopub.status.idle": "2025-08-29T00:49:42.885032Z",
     "shell.execute_reply": "2025-08-29T00:49:42.884280Z",
     "shell.execute_reply.started": "2025-08-29T00:49:39.068597Z"
    }
   },
   "outputs": [
    {
     "name": "stdout",
     "output_type": "stream",
     "text": [
      "\n",
      "root\n",
      "autodl-tmp\n",
      "CommitFit\n"
     ]
    }
   ],
   "source": [
    "# !pip install transformers accelerate\n",
    "# from transformers import AutoTokenizer, AutoModel, EarlyStoppingCallback, AutoModelForSequenceClassification, AutoConfig,Trainer, TrainingArguments,DataCollatorWithPadding\n",
    "import torch\n",
    "import numpy as np\n",
    "import pandas as pd\n",
    "# !pip install datasets\n",
    "from datasets import Dataset\n",
    "# %pip install evaluate\n",
    "import evaluate\n",
    "from sklearn.model_selection import train_test_split\n",
    "# from ipywidgets import FloatProgress\n",
    "import csv\n",
    "from optuna import Trial\n",
    "from typing import Dict, Union, Any\n",
    "import os\n",
    "import sys\n",
    "\n",
    "# notebook_login()\n",
    "\n",
    "csv.field_size_limit(500 * 1024 * 1024)\n",
    "CUDA_LAUNCH_BLOCKING=1\n",
    "# get pwd\n",
    "notebook_path = os.path.abspath('')\n",
    "\n",
    "# Find the part of the path that contains 'commitFit'\n",
    "commit_fit_path = None\n",
    "for part in notebook_path.split(os.sep):\n",
    "    print(part)\n",
    "    if 'CommitFit' in part:\n",
    "        commit_fit_path = notebook_path.split(part)[0] + part\n",
    "        break\n",
    "\n",
    "if commit_fit_path is None:\n",
    "    raise ValueError(\"Path containing 'commitFit' not found in notebook path.\")\n",
    "\n",
    "# Add commitFit directory to Python path, so we can import moudule from commitfit folder directly\n",
    "if commit_fit_path not in sys.path:\n",
    "    sys.path.append(commit_fit_path)\n",
    "\n",
    "from commitfit import CommitFitModel, CommitFitTrainer \n",
    "from commitfit import get_templated_dataset,sample_dataset"
   ]
  },
  {
   "cell_type": "code",
   "execution_count": 2,
   "id": "9ef5359f-9526-4d19-a2da-7988dc1ea04f",
   "metadata": {
    "execution": {
     "iopub.execute_input": "2025-08-29T00:49:42.886836Z",
     "iopub.status.busy": "2025-08-29T00:49:42.886403Z",
     "iopub.status.idle": "2025-08-29T00:49:43.387931Z",
     "shell.execute_reply": "2025-08-29T00:49:43.387066Z",
     "shell.execute_reply.started": "2025-08-29T00:49:42.886812Z"
    }
   },
   "outputs": [
    {
     "name": "stderr",
     "output_type": "stream",
     "text": [
      "/tmp/ipykernel_2619/947145482.py:6: FutureWarning: Downcasting behavior in `replace` is deprecated and will be removed in a future version. To retain the old behavior, explicitly call `result.infer_objects(copy=False)`. To opt-in to the future behavior, set `pd.set_option('future.no_silent_downcasting', True)`\n",
      "  df = df.replace({\"label\": label2id})\n"
     ]
    },
    {
     "data": {
      "text/html": [
       "<div>\n",
       "<style scoped>\n",
       "    .dataframe tbody tr th:only-of-type {\n",
       "        vertical-align: middle;\n",
       "    }\n",
       "\n",
       "    .dataframe tbody tr th {\n",
       "        vertical-align: top;\n",
       "    }\n",
       "\n",
       "    .dataframe thead th {\n",
       "        text-align: right;\n",
       "    }\n",
       "</style>\n",
       "<table border=\"1\" class=\"dataframe\">\n",
       "  <thead>\n",
       "    <tr style=\"text-align: right;\">\n",
       "      <th></th>\n",
       "      <th>language</th>\n",
       "      <th>commit</th>\n",
       "      <th>commit_url</th>\n",
       "      <th>label</th>\n",
       "      <th>user</th>\n",
       "      <th>repo</th>\n",
       "      <th>feature</th>\n",
       "      <th>diffs</th>\n",
       "      <th>text</th>\n",
       "    </tr>\n",
       "  </thead>\n",
       "  <tbody>\n",
       "    <tr>\n",
       "      <th>0</th>\n",
       "      <td>C++</td>\n",
       "      <td>be937a3290223f926fe50684f1344569a573ed4b</td>\n",
       "      <td>https://github.com/tensorflow/tensorflow/commi...</td>\n",
       "      <td>0</td>\n",
       "      <td>tensorflow</td>\n",
       "      <td>tensorflow</td>\n",
       "      <td>[1, 0, 0, 1, 1, 0, 0, 1, 0, 0, 0, 0, 0, 0, 6, ...</td>\n",
       "      <td>diff --git a/tensorflow/compiler/mlir/lite/fla...</td>\n",
       "      <td>Fixing per axis quantization bug in flatbuffer...</td>\n",
       "    </tr>\n",
       "    <tr>\n",
       "      <th>1</th>\n",
       "      <td>C++</td>\n",
       "      <td>c800d2e36954edddcb83aa1df7f623f2780c7780</td>\n",
       "      <td>https://github.com/tensorflow/tensorflow/commi...</td>\n",
       "      <td>1</td>\n",
       "      <td>tensorflow</td>\n",
       "      <td>tensorflow</td>\n",
       "      <td>[0, 0, 0, 0, 0, 0, 0, 0, 0, 0, 0, 0, 0, 0, 0, ...</td>\n",
       "      <td>diff --git a/tensorflow/python/tools/saved_mod...</td>\n",
       "      <td>Add support for python expression as SavedMode...</td>\n",
       "    </tr>\n",
       "    <tr>\n",
       "      <th>2</th>\n",
       "      <td>C++</td>\n",
       "      <td>469e56eeff17eb857c95e935ca7b49723c43470e</td>\n",
       "      <td>https://github.com/tensorflow/tensorflow/commi...</td>\n",
       "      <td>2</td>\n",
       "      <td>tensorflow</td>\n",
       "      <td>tensorflow</td>\n",
       "      <td>[0, 0, 0, 0, 0, 0, 0, 0, 0, 0, 0, 0, 0, 0, 0, ...</td>\n",
       "      <td>diff --git a/.github/ISSUE_TEMPLATE/00-bug-iss...</td>\n",
       "      <td>Fix GitHub issue templates. Actual fix for #36...</td>\n",
       "    </tr>\n",
       "    <tr>\n",
       "      <th>3</th>\n",
       "      <td>C++</td>\n",
       "      <td>24f5d302c0906f3377f4d6bcc2735d943ce13e3d</td>\n",
       "      <td>https://github.com/tensorflow/tensorflow/commi...</td>\n",
       "      <td>1</td>\n",
       "      <td>tensorflow</td>\n",
       "      <td>tensorflow</td>\n",
       "      <td>[3, 37, 0, 0, 9, 0, 0, 0, 0, 0, 0, 0, 0, 0, 0,...</td>\n",
       "      <td>diff --git a/tensorflow/compiler/xla/pjrt/dist...</td>\n",
       "      <td>Add new PjRT distributed APIs (KeyValueDelete,...</td>\n",
       "    </tr>\n",
       "    <tr>\n",
       "      <th>4</th>\n",
       "      <td>C++</td>\n",
       "      <td>1effdb7b959503596b07f7f3e74618ab63f9e5e5</td>\n",
       "      <td>https://github.com/tensorflow/tensorflow/commi...</td>\n",
       "      <td>2</td>\n",
       "      <td>tensorflow</td>\n",
       "      <td>tensorflow</td>\n",
       "      <td>[1, 0, 12, 0, 0, 1, 0, 0, 0, 0, 0, 0, 0, 0, 0,...</td>\n",
       "      <td>diff --git a/tensorflow/core/common_runtime/ea...</td>\n",
       "      <td>Remove IsLocalDevice() since it's no longer us...</td>\n",
       "    </tr>\n",
       "    <tr>\n",
       "      <th>...</th>\n",
       "      <td>...</td>\n",
       "      <td>...</td>\n",
       "      <td>...</td>\n",
       "      <td>...</td>\n",
       "      <td>...</td>\n",
       "      <td>...</td>\n",
       "      <td>...</td>\n",
       "      <td>...</td>\n",
       "      <td>...</td>\n",
       "    </tr>\n",
       "    <tr>\n",
       "      <th>1576</th>\n",
       "      <td>Java</td>\n",
       "      <td>e4bbfd537a63a52a6094491504fc7b0bb54bcb0e</td>\n",
       "      <td>NaN</td>\n",
       "      <td>0</td>\n",
       "      <td>kiegroup</td>\n",
       "      <td>drools</td>\n",
       "      <td>[1, 0, 0, 1, 0, 0, 0, 0, 0, 0, 0, 0, 0, 0, 0, ...</td>\n",
       "      <td>diff --git a/drools-persistence-jpa/src/main/j...</td>\n",
       "      <td>fixing reflection constructor to use int inste...</td>\n",
       "    </tr>\n",
       "    <tr>\n",
       "      <th>1577</th>\n",
       "      <td>Java</td>\n",
       "      <td>75b81dcbd26a11d5b370ea5bdf102c2d62ebd0c3</td>\n",
       "      <td>NaN</td>\n",
       "      <td>0</td>\n",
       "      <td>kiegroup</td>\n",
       "      <td>drools</td>\n",
       "      <td>[2, 6, 2, 3, 0, 0, 0, 1, 7, 0, 0, 0, 0, 0, 0, ...</td>\n",
       "      <td>diff --git a/drools-compiler/src/main/java/org...</td>\n",
       "      <td>Fix OutOfBoundException on- MemoryFileSystem.e...</td>\n",
       "    </tr>\n",
       "    <tr>\n",
       "      <th>1578</th>\n",
       "      <td>Java</td>\n",
       "      <td>6bc9677bbe919cd5bcadd8af2f5b0c838757a4ce</td>\n",
       "      <td>NaN</td>\n",
       "      <td>0</td>\n",
       "      <td>kiegroup</td>\n",
       "      <td>drools</td>\n",
       "      <td>[1, 1, 5, 13, 0, 0, 0, 0, 0, 0, 0, 0, 0, 0, 0,...</td>\n",
       "      <td>diff --git a/drools-core/src/main/java/org/dro...</td>\n",
       "      <td>[DROOLS-293] fix ObjectTypeNode id creation an...</td>\n",
       "    </tr>\n",
       "    <tr>\n",
       "      <th>1579</th>\n",
       "      <td>Java</td>\n",
       "      <td>48701edad8513b27acec7216581e64637157c86a</td>\n",
       "      <td>NaN</td>\n",
       "      <td>1</td>\n",
       "      <td>kiegroup</td>\n",
       "      <td>drools</td>\n",
       "      <td>[2, 24, 2, 4, 3, 0, 0, 0, 0, 0, 0, 0, 0, 0, 0,...</td>\n",
       "      <td>diff --git a/drools-core/src/main/java/org/dro...</td>\n",
       "      <td>DROOLS-515 Kie-Camel is broken after Camel Upd...</td>\n",
       "    </tr>\n",
       "    <tr>\n",
       "      <th>1580</th>\n",
       "      <td>Java</td>\n",
       "      <td>45529d30d41b8de338dfc2d26b61d1a79113c766</td>\n",
       "      <td>NaN</td>\n",
       "      <td>1</td>\n",
       "      <td>kiegroup</td>\n",
       "      <td>drools</td>\n",
       "      <td>[1, 10, 0, 0, 0, 0, 0, 1, 60, 0, 0, 1, 0, 0, 0...</td>\n",
       "      <td>diff --git a/drools-compiler/src/test/java/org...</td>\n",
       "      <td>JBRULES-2934 Add NewRegisterWorkItemHandlerCom...</td>\n",
       "    </tr>\n",
       "  </tbody>\n",
       "</table>\n",
       "<p>1581 rows × 9 columns</p>\n",
       "</div>"
      ],
      "text/plain": [
       "     language                                    commit  \\\n",
       "0         C++  be937a3290223f926fe50684f1344569a573ed4b   \n",
       "1         C++  c800d2e36954edddcb83aa1df7f623f2780c7780   \n",
       "2         C++  469e56eeff17eb857c95e935ca7b49723c43470e   \n",
       "3         C++  24f5d302c0906f3377f4d6bcc2735d943ce13e3d   \n",
       "4         C++  1effdb7b959503596b07f7f3e74618ab63f9e5e5   \n",
       "...       ...                                       ...   \n",
       "1576     Java  e4bbfd537a63a52a6094491504fc7b0bb54bcb0e   \n",
       "1577     Java  75b81dcbd26a11d5b370ea5bdf102c2d62ebd0c3   \n",
       "1578     Java  6bc9677bbe919cd5bcadd8af2f5b0c838757a4ce   \n",
       "1579     Java  48701edad8513b27acec7216581e64637157c86a   \n",
       "1580     Java  45529d30d41b8de338dfc2d26b61d1a79113c766   \n",
       "\n",
       "                                             commit_url  label        user  \\\n",
       "0     https://github.com/tensorflow/tensorflow/commi...      0  tensorflow   \n",
       "1     https://github.com/tensorflow/tensorflow/commi...      1  tensorflow   \n",
       "2     https://github.com/tensorflow/tensorflow/commi...      2  tensorflow   \n",
       "3     https://github.com/tensorflow/tensorflow/commi...      1  tensorflow   \n",
       "4     https://github.com/tensorflow/tensorflow/commi...      2  tensorflow   \n",
       "...                                                 ...    ...         ...   \n",
       "1576                                                NaN      0    kiegroup   \n",
       "1577                                                NaN      0    kiegroup   \n",
       "1578                                                NaN      0    kiegroup   \n",
       "1579                                                NaN      1    kiegroup   \n",
       "1580                                                NaN      1    kiegroup   \n",
       "\n",
       "            repo                                            feature  \\\n",
       "0     tensorflow  [1, 0, 0, 1, 1, 0, 0, 1, 0, 0, 0, 0, 0, 0, 6, ...   \n",
       "1     tensorflow  [0, 0, 0, 0, 0, 0, 0, 0, 0, 0, 0, 0, 0, 0, 0, ...   \n",
       "2     tensorflow  [0, 0, 0, 0, 0, 0, 0, 0, 0, 0, 0, 0, 0, 0, 0, ...   \n",
       "3     tensorflow  [3, 37, 0, 0, 9, 0, 0, 0, 0, 0, 0, 0, 0, 0, 0,...   \n",
       "4     tensorflow  [1, 0, 12, 0, 0, 1, 0, 0, 0, 0, 0, 0, 0, 0, 0,...   \n",
       "...          ...                                                ...   \n",
       "1576      drools  [1, 0, 0, 1, 0, 0, 0, 0, 0, 0, 0, 0, 0, 0, 0, ...   \n",
       "1577      drools  [2, 6, 2, 3, 0, 0, 0, 1, 7, 0, 0, 0, 0, 0, 0, ...   \n",
       "1578      drools  [1, 1, 5, 13, 0, 0, 0, 0, 0, 0, 0, 0, 0, 0, 0,...   \n",
       "1579      drools  [2, 24, 2, 4, 3, 0, 0, 0, 0, 0, 0, 0, 0, 0, 0,...   \n",
       "1580      drools  [1, 10, 0, 0, 0, 0, 0, 1, 60, 0, 0, 1, 0, 0, 0...   \n",
       "\n",
       "                                                  diffs  \\\n",
       "0     diff --git a/tensorflow/compiler/mlir/lite/fla...   \n",
       "1     diff --git a/tensorflow/python/tools/saved_mod...   \n",
       "2     diff --git a/.github/ISSUE_TEMPLATE/00-bug-iss...   \n",
       "3     diff --git a/tensorflow/compiler/xla/pjrt/dist...   \n",
       "4     diff --git a/tensorflow/core/common_runtime/ea...   \n",
       "...                                                 ...   \n",
       "1576  diff --git a/drools-persistence-jpa/src/main/j...   \n",
       "1577  diff --git a/drools-compiler/src/main/java/org...   \n",
       "1578  diff --git a/drools-core/src/main/java/org/dro...   \n",
       "1579  diff --git a/drools-core/src/main/java/org/dro...   \n",
       "1580  diff --git a/drools-compiler/src/test/java/org...   \n",
       "\n",
       "                                                   text  \n",
       "0     Fixing per axis quantization bug in flatbuffer...  \n",
       "1     Add support for python expression as SavedMode...  \n",
       "2     Fix GitHub issue templates. Actual fix for #36...  \n",
       "3     Add new PjRT distributed APIs (KeyValueDelete,...  \n",
       "4     Remove IsLocalDevice() since it's no longer us...  \n",
       "...                                                 ...  \n",
       "1576  fixing reflection constructor to use int inste...  \n",
       "1577  Fix OutOfBoundException on- MemoryFileSystem.e...  \n",
       "1578  [DROOLS-293] fix ObjectTypeNode id creation an...  \n",
       "1579  DROOLS-515 Kie-Camel is broken after Camel Upd...  \n",
       "1580  JBRULES-2934 Add NewRegisterWorkItemHandlerCom...  \n",
       "\n",
       "[1581 rows x 9 columns]"
      ]
     },
     "execution_count": 2,
     "metadata": {},
     "output_type": "execute_result"
    }
   ],
   "source": [
    "df = pd.read_csv(r'/root/autodl-tmp/CommitFit/dataset/multi-lang-exp/dataset.csv', index_col=0, encoding='utf_8_sig')\n",
    "# df.fillna('', inplace=True)\n",
    "label2id={'C':0, 'A':1, 'P':2}\n",
    "# df.reset_index(inplace=True)\n",
    "df = df.rename(columns={'maintenance_type':'label','msgs':'text','commit_diff':'diffs'})\n",
    "df = df.replace({\"label\": label2id})\n",
    "# df = df['diffs']\n",
    "# # print(df)\n",
    "\n",
    "df\n",
    "# test_sample = df.sample(n=3, random_state=1)"
   ]
  },
  {
   "cell_type": "code",
   "execution_count": 3,
   "id": "26803da1-da52-48a7-8040-70914c05f2ea",
   "metadata": {
    "execution": {
     "iopub.execute_input": "2025-08-29T00:49:43.389061Z",
     "iopub.status.busy": "2025-08-29T00:49:43.388860Z",
     "iopub.status.idle": "2025-08-29T00:49:43.396187Z",
     "shell.execute_reply": "2025-08-29T00:49:43.395350Z",
     "shell.execute_reply.started": "2025-08-29T00:49:43.389041Z"
    }
   },
   "outputs": [],
   "source": [
    "train, temp_df = train_test_split(df, test_size=0.3, random_state=42)\n",
    "val_df, test = train_test_split(temp_df, test_size=0.5, random_state=42)"
   ]
  },
  {
   "cell_type": "code",
   "execution_count": 4,
   "id": "8832a7a5-8f6d-4871-a732-bf25dc1aed25",
   "metadata": {
    "execution": {
     "iopub.execute_input": "2025-08-29T00:49:43.397351Z",
     "iopub.status.busy": "2025-08-29T00:49:43.397142Z",
     "iopub.status.idle": "2025-08-29T00:49:43.405783Z",
     "shell.execute_reply": "2025-08-29T00:49:43.404750Z",
     "shell.execute_reply.started": "2025-08-29T00:49:43.397331Z"
    }
   },
   "outputs": [
    {
     "name": "stderr",
     "output_type": "stream",
     "text": [
      "/tmp/ipykernel_2619/1938515031.py:1: DeprecationWarning: DataFrameGroupBy.apply operated on the grouping columns. This behavior is deprecated, and in a future version of pandas the grouping columns will be excluded from the operation. Either pass `include_groups=False` to exclude the groupings or explicitly select the grouping columns after groupby to silence this warning.\n",
      "  train = train.groupby(\"label\", group_keys=False).apply(lambda x: x.sample(n=10, random_state=42))\n"
     ]
    }
   ],
   "source": [
    "train = train.groupby(\"label\", group_keys=False).apply(lambda x: x.sample(n=10, random_state=42))"
   ]
  },
  {
   "cell_type": "code",
   "execution_count": 5,
   "id": "243bb57b-77dc-4174-b13a-568dcdd8df38",
   "metadata": {
    "execution": {
     "iopub.execute_input": "2025-08-29T00:49:43.407935Z",
     "iopub.status.busy": "2025-08-29T00:49:43.407640Z",
     "iopub.status.idle": "2025-08-29T00:49:43.422328Z",
     "shell.execute_reply": "2025-08-29T00:49:43.421528Z",
     "shell.execute_reply.started": "2025-08-29T00:49:43.407914Z"
    }
   },
   "outputs": [
    {
     "data": {
      "text/html": [
       "<div>\n",
       "<style scoped>\n",
       "    .dataframe tbody tr th:only-of-type {\n",
       "        vertical-align: middle;\n",
       "    }\n",
       "\n",
       "    .dataframe tbody tr th {\n",
       "        vertical-align: top;\n",
       "    }\n",
       "\n",
       "    .dataframe thead th {\n",
       "        text-align: right;\n",
       "    }\n",
       "</style>\n",
       "<table border=\"1\" class=\"dataframe\">\n",
       "  <thead>\n",
       "    <tr style=\"text-align: right;\">\n",
       "      <th></th>\n",
       "      <th>language</th>\n",
       "      <th>commit</th>\n",
       "      <th>commit_url</th>\n",
       "      <th>label</th>\n",
       "      <th>user</th>\n",
       "      <th>repo</th>\n",
       "      <th>feature</th>\n",
       "      <th>diffs</th>\n",
       "      <th>text</th>\n",
       "    </tr>\n",
       "  </thead>\n",
       "  <tbody>\n",
       "    <tr>\n",
       "      <th>781</th>\n",
       "      <td>Python</td>\n",
       "      <td>a2479f46f3d05b37254ad701b6b76f84624d3cb5</td>\n",
       "      <td>https://github.com/django/django/commit/a2479f...</td>\n",
       "      <td>0</td>\n",
       "      <td>django</td>\n",
       "      <td>django</td>\n",
       "      <td>[3, 13, 0, 3, 1, 0, 0, 1, 5, 0, 0, 0, 0, 0, 0,...</td>\n",
       "      <td>diff --git a/django/contrib/auth/migrations/00...</td>\n",
       "      <td>Fixed #7220 -- Allowed AbstractBaseUser.last_l...</td>\n",
       "    </tr>\n",
       "    <tr>\n",
       "      <th>126</th>\n",
       "      <td>C++</td>\n",
       "      <td>6662fe7b185aab29aa4b2c5e08784e9da75bc700</td>\n",
       "      <td>https://github.com/ocornut/imgui/commit/6662fe...</td>\n",
       "      <td>0</td>\n",
       "      <td>ocornut</td>\n",
       "      <td>imgui</td>\n",
       "      <td>[1, 1, 0, 0, 0, 0, 0, 0, 0, 0, 0, 0, 0, 0, 0, ...</td>\n",
       "      <td>diff --git a/stb_truetype.h b/stb_truetype.h\\n...</td>\n",
       "      <td>stb_truetype: Fixed unused variable warnings f...</td>\n",
       "    </tr>\n",
       "    <tr>\n",
       "      <th>1323</th>\n",
       "      <td>TypeScript</td>\n",
       "      <td>177f1fc5dd489e90eb1c4cf055e342fbc4f6ef32</td>\n",
       "      <td>https://github.com/apache/echarts/commit/177f1...</td>\n",
       "      <td>0</td>\n",
       "      <td>apache</td>\n",
       "      <td>echarts</td>\n",
       "      <td>[1, 0, 0, 1, 0, 1, 2, 0, 0, 0, 0, 0, 0, 0, 0, ...</td>\n",
       "      <td>diff --git a/src/component/toolbox/feature/Sav...</td>\n",
       "      <td>fix(toolbox): remove outer link and fix issues...</td>\n",
       "    </tr>\n",
       "    <tr>\n",
       "      <th>683</th>\n",
       "      <td>JavaScript</td>\n",
       "      <td>ec7be48470e42472a07572b7f1ca2abc91bfdad3</td>\n",
       "      <td>https://github.com/chartjs/Chart.js/commit/ec7...</td>\n",
       "      <td>0</td>\n",
       "      <td>chartjs</td>\n",
       "      <td>Chart.js</td>\n",
       "      <td>[1, 6, 0, 0, 2, 0, 0, 2, 34, 0, 0, 0, 0, 0, 0,...</td>\n",
       "      <td>diff --git a/src/controllers/controller.scatte...</td>\n",
       "      <td>Fix toggling showLine option on scatter contro...</td>\n",
       "    </tr>\n",
       "    <tr>\n",
       "      <th>871</th>\n",
       "      <td>Python</td>\n",
       "      <td>daf4c358f7d382e7fc0466b06e3c528d24b3f760</td>\n",
       "      <td>https://github.com/ansible/ansible/commit/daf4...</td>\n",
       "      <td>0</td>\n",
       "      <td>ansible</td>\n",
       "      <td>ansible</td>\n",
       "      <td>[0, 0, 0, 0, 0, 0, 0, 0, 0, 0, 0, 0, 0, 0, 0, ...</td>\n",
       "      <td>diff --git a/library/packaging/pip b/library/p...</td>\n",
       "      <td>fixes case where name is omitted from pip arg ...</td>\n",
       "    </tr>\n",
       "    <tr>\n",
       "      <th>681</th>\n",
       "      <td>JavaScript</td>\n",
       "      <td>8f6f8820686cc57ab0ee3139c4d7d7c2c13b7014</td>\n",
       "      <td>https://github.com/chartjs/Chart.js/commit/8f6...</td>\n",
       "      <td>0</td>\n",
       "      <td>chartjs</td>\n",
       "      <td>Chart.js</td>\n",
       "      <td>[1, 0, 0, 1, 0, 0, 0, 0, 0, 0, 0, 0, 0, 0, 0, ...</td>\n",
       "      <td>diff --git a/src/elements/element.point.js b/s...</td>\n",
       "      <td>Fix jshint issue\\n\\n</td>\n",
       "    </tr>\n",
       "    <tr>\n",
       "      <th>1402</th>\n",
       "      <td>Java</td>\n",
       "      <td>ca2f1678d75d9d42867f2124fa3e7dfcf1c367f7</td>\n",
       "      <td>NaN</td>\n",
       "      <td>0</td>\n",
       "      <td>apache</td>\n",
       "      <td>hbase</td>\n",
       "      <td>[0, 0, 0, 0, 0, 0, 0, 1, 4, 0, 0, 2, 0, 0, 0, ...</td>\n",
       "      <td>diff --git a/CHANGES.txt b/CHANGES.txt\\nindex ...</td>\n",
       "      <td>HBASE-2757. Fix flaky TestFromClientSide test ...</td>\n",
       "    </tr>\n",
       "    <tr>\n",
       "      <th>1072</th>\n",
       "      <td>Rust</td>\n",
       "      <td>33a4df8008ce138106a71b047ddef3ba57a0a28b</td>\n",
       "      <td>https://github.com/bevyengine/bevy/commit/33a4...</td>\n",
       "      <td>0</td>\n",
       "      <td>bevyengine</td>\n",
       "      <td>bevy</td>\n",
       "      <td>[2, 9, 12, 15, 1, 1, 1, 0, 0, 0, 0, 0, 0, 0, 0...</td>\n",
       "      <td>diff --git a/crates/bevy_text/src/lib.rs b/cra...</td>\n",
       "      <td>Update layout/style when scale factor changes ...</td>\n",
       "    </tr>\n",
       "    <tr>\n",
       "      <th>552</th>\n",
       "      <td>JavaScript</td>\n",
       "      <td>0c7236b292a77e330710994417c4214475fb6880</td>\n",
       "      <td>https://github.com/axios/axios/commit/0c7236b2...</td>\n",
       "      <td>0</td>\n",
       "      <td>axios</td>\n",
       "      <td>axios</td>\n",
       "      <td>[1, 1, 0, 2, 0, 0, 0, 0, 0, 0, 0, 0, 0, 0, 0, ...</td>\n",
       "      <td>diff --git a/lib/axios.js b/lib/axios.js\\ninde...</td>\n",
       "      <td>Fixing issue referencing wrong headers\\n\\n</td>\n",
       "    </tr>\n",
       "    <tr>\n",
       "      <th>395</th>\n",
       "      <td>Go</td>\n",
       "      <td>7b48138ad0afc11d1ebbaa86095127e8384d6d42</td>\n",
       "      <td>https://github.com/Dreamacro/clash/commit/7b48...</td>\n",
       "      <td>0</td>\n",
       "      <td>Dreamacro</td>\n",
       "      <td>clash</td>\n",
       "      <td>[9, 43, 14, 26, 1, 0, 0, 0, 0, 0, 0, 0, 0, 0, ...</td>\n",
       "      <td>diff --git a/adapters/outbound/base.go b/adapt...</td>\n",
       "      <td>Fix: vmess udp crash\\n\\n</td>\n",
       "    </tr>\n",
       "    <tr>\n",
       "      <th>401</th>\n",
       "      <td>Go</td>\n",
       "      <td>ed09b4ea6a17566b546a9d3ae76876636710c6a0</td>\n",
       "      <td>https://github.com/v2ray/v2ray-core/commit/ed0...</td>\n",
       "      <td>1</td>\n",
       "      <td>v2ray</td>\n",
       "      <td>v2ray-core</td>\n",
       "      <td>[3, 49, 2, 8, 0, 0, 0, 2, 29, 0, 2, 0, 0, 0, 0...</td>\n",
       "      <td>diff --git a/common/net/json/host.go b/common/...</td>\n",
       "      <td>support domain as host in VMess outbound confi...</td>\n",
       "    </tr>\n",
       "    <tr>\n",
       "      <th>907</th>\n",
       "      <td>Rust</td>\n",
       "      <td>e67010b5e2eaa5a5ddb756d7ddc2dd0194f09a0a</td>\n",
       "      <td>https://github.com/denoland/deno/commit/e67010...</td>\n",
       "      <td>1</td>\n",
       "      <td>denoland</td>\n",
       "      <td>deno</td>\n",
       "      <td>[2, 25, 1, 7, 0, 0, 0, 2, 35, 0, 0, 0, 0, 0, 0...</td>\n",
       "      <td>diff --git a/cli/file_fetcher.rs b/cli/file_fe...</td>\n",
       "      <td>feat(cli/compile): Support data uri dynamic im...</td>\n",
       "    </tr>\n",
       "    <tr>\n",
       "      <th>1385</th>\n",
       "      <td>Java</td>\n",
       "      <td>74066765bb8ca85864f75bde6091f96207f988cf</td>\n",
       "      <td>NaN</td>\n",
       "      <td>1</td>\n",
       "      <td>apache</td>\n",
       "      <td>hbase</td>\n",
       "      <td>[1, 0, 0, 1, 0, 0, 0, 0, 0, 0, 0, 0, 0, 0, 0, ...</td>\n",
       "      <td>diff --git a/src/main/java/org/apache/hadoop/h...</td>\n",
       "      <td>HBASE-2889 Tool to look at HLogs -- parse and-...</td>\n",
       "    </tr>\n",
       "    <tr>\n",
       "      <th>448</th>\n",
       "      <td>Go</td>\n",
       "      <td>8d9e4345207013c55a8719995ec4ad4e9be466f2</td>\n",
       "      <td>https://github.com/FiloSottile/mkcert/commit/8...</td>\n",
       "      <td>1</td>\n",
       "      <td>FiloSottile</td>\n",
       "      <td>mkcert</td>\n",
       "      <td>[1, 9, 6, 6, 0, 0, 0, 0, 0, 0, 0, 0, 0, 0, 0, ...</td>\n",
       "      <td>diff --git a/truststore_nss.go b/truststore_ns...</td>\n",
       "      <td>truststore_nss: support multiple NSS databases...</td>\n",
       "    </tr>\n",
       "    <tr>\n",
       "      <th>653</th>\n",
       "      <td>JavaScript</td>\n",
       "      <td>145c46ff3630e55b6c50ff479f54661ef54124bd</td>\n",
       "      <td>https://github.com/webpack/webpack/commit/145c...</td>\n",
       "      <td>1</td>\n",
       "      <td>webpack</td>\n",
       "      <td>webpack</td>\n",
       "      <td>[1, 15, 0, 0, 0, 0, 0, 0, 0, 0, 0, 0, 0, 0, 0,...</td>\n",
       "      <td>diff --git a/lib/dependencies/DelegatedExports...</td>\n",
       "      <td>feat(DelegatedExportsDependency): make seriali...</td>\n",
       "    </tr>\n",
       "    <tr>\n",
       "      <th>463</th>\n",
       "      <td>Go</td>\n",
       "      <td>73890f31af5f1247c1f5b8131f136d1045d6b5f6</td>\n",
       "      <td>https://github.com/minio/minio/commit/73890f31...</td>\n",
       "      <td>1</td>\n",
       "      <td>minio</td>\n",
       "      <td>minio</td>\n",
       "      <td>[1, 18, 0, 0, 16, 0, 0, 0, 0, 0, 0, 0, 0, 0, 0...</td>\n",
       "      <td>diff --git a/.goreleaser.yml b/.goreleaser.yml...</td>\n",
       "      <td>add minisign verification for container builds...</td>\n",
       "    </tr>\n",
       "    <tr>\n",
       "      <th>1052</th>\n",
       "      <td>Rust</td>\n",
       "      <td>e6132809d27164077c2bca7f4cebdcea5e03eff0</td>\n",
       "      <td>https://github.com/dani-garcia/vaultwarden/com...</td>\n",
       "      <td>1</td>\n",
       "      <td>dani-garcia</td>\n",
       "      <td>vaultwarden</td>\n",
       "      <td>[1, 34, 0, 10, 1, 3, 1, 0, 0, 0, 0, 0, 0, 0, 0...</td>\n",
       "      <td>diff --git a/src/api/core/organizations.rs b/s...</td>\n",
       "      <td>Implemented delete user from org and added che...</td>\n",
       "    </tr>\n",
       "    <tr>\n",
       "      <th>1442</th>\n",
       "      <td>Java</td>\n",
       "      <td>98a24828255cde13eaee893eafc9a049bb2183a7</td>\n",
       "      <td>NaN</td>\n",
       "      <td>1</td>\n",
       "      <td>elastic</td>\n",
       "      <td>elasticsearch</td>\n",
       "      <td>[0, 0, 0, 0, 0, 0, 0, 2, 38, 0, 0, 27, 0, 0, 0...</td>\n",
       "      <td>diff --git a/src/test/java/org/elasticsearch/t...</td>\n",
       "      <td>Testing: Add test rule to repeat tests on bind...</td>\n",
       "    </tr>\n",
       "    <tr>\n",
       "      <th>1502</th>\n",
       "      <td>Java</td>\n",
       "      <td>3e714ddd9f062e534c1ee028ac8b2269a062004b</td>\n",
       "      <td>NaN</td>\n",
       "      <td>1</td>\n",
       "      <td>JetBrains</td>\n",
       "      <td>intellij-community</td>\n",
       "      <td>[7, 295, 156, 82, 6, 0, 2, 0, 0, 0, 0, 0, 0, 0...</td>\n",
       "      <td>diff --git a/platform-resources/src/META-INF/X...</td>\n",
       "      <td>IDEADEV-11483 IE conditional comments support-...</td>\n",
       "    </tr>\n",
       "    <tr>\n",
       "      <th>1370</th>\n",
       "      <td>Java</td>\n",
       "      <td>f64233fb2d9bcb77e9249d3bc497fd9d110e6a9f</td>\n",
       "      <td>NaN</td>\n",
       "      <td>1</td>\n",
       "      <td>ponsonio</td>\n",
       "      <td>RxJava</td>\n",
       "      <td>[1, 18, 0, 0, 17, 0, 0, 1, 27, 0, 0, 0, 0, 0, ...</td>\n",
       "      <td>diff --git a/src/main/java/rx/Single.java b/sr...</td>\n",
       "      <td>Add Single.fromCallable()--</td>\n",
       "    </tr>\n",
       "    <tr>\n",
       "      <th>1292</th>\n",
       "      <td>TypeScript</td>\n",
       "      <td>de7140853140029a3f48600b60e700464e7662b5</td>\n",
       "      <td>https://github.com/vitejs/vite/commit/de714085...</td>\n",
       "      <td>2</td>\n",
       "      <td>vitejs</td>\n",
       "      <td>vite</td>\n",
       "      <td>[1, 0, 0, 2, 0, 0, 0, 0, 0, 0, 0, 0, 0, 0, 0, ...</td>\n",
       "      <td>diff --git a/packages/plugin-legacy/index.js b...</td>\n",
       "      <td>fix(plugin-legacy): avoid executing blank dyna...</td>\n",
       "    </tr>\n",
       "    <tr>\n",
       "      <th>1215</th>\n",
       "      <td>TypeScript</td>\n",
       "      <td>bf0b0a30e02d7a70e092f290680b941610d9cccc</td>\n",
       "      <td>https://github.com/gothinkster/realworld/commi...</td>\n",
       "      <td>2</td>\n",
       "      <td>gothinkster</td>\n",
       "      <td>realworld</td>\n",
       "      <td>[0, 0, 0, 0, 0, 0, 0, 0, 0, 0, 0, 0, 0, 0, 0, ...</td>\n",
       "      <td>diff --git a/api/openapi.yml b/api/openapi.yml...</td>\n",
       "      <td>refactor: update openapi title\\n\\n</td>\n",
       "    </tr>\n",
       "    <tr>\n",
       "      <th>869</th>\n",
       "      <td>Python</td>\n",
       "      <td>b64e5919715f8dee546fbfc5049f8ec1574c2567</td>\n",
       "      <td>https://github.com/keras-team/keras/commit/b64...</td>\n",
       "      <td>2</td>\n",
       "      <td>keras-team</td>\n",
       "      <td>keras</td>\n",
       "      <td>[1, 0, 0, 3, 0, 0, 0, 0, 0, 0, 0, 0, 0, 0, 0, ...</td>\n",
       "      <td>diff --git a/keras/layers/recurrent.py b/keras...</td>\n",
       "      <td>Fix misleading docstrings (#6052)\\n\\nPassing N...</td>\n",
       "    </tr>\n",
       "    <tr>\n",
       "      <th>1013</th>\n",
       "      <td>Rust</td>\n",
       "      <td>106bcb73bcfe1c3887795a6fa2b106c665df3d56</td>\n",
       "      <td>https://github.com/starship/starship/commit/10...</td>\n",
       "      <td>2</td>\n",
       "      <td>starship</td>\n",
       "      <td>starship</td>\n",
       "      <td>[1, 1, 0, 1, 1, 0, 0, 0, 0, 0, 0, 0, 0, 0, 0, ...</td>\n",
       "      <td>diff --git a/src/main.rs b/src/main.rs\\nindex ...</td>\n",
       "      <td>Add authors to help message\\n\\n</td>\n",
       "    </tr>\n",
       "    <tr>\n",
       "      <th>372</th>\n",
       "      <td>Go</td>\n",
       "      <td>f73d059d80af7028531a12d76fb37fe4ea01254f</td>\n",
       "      <td>https://github.com/etcd-io/etcd/commit/f73d059...</td>\n",
       "      <td>2</td>\n",
       "      <td>etcd-io</td>\n",
       "      <td>etcd</td>\n",
       "      <td>[1, 16, 16, 0, 4, 4, 0, 0, 0, 0, 0, 0, 0, 0, 0...</td>\n",
       "      <td>diff --git a/raft/raft.go b/raft/raft.go\\ninde...</td>\n",
       "      <td>raft: group configuration related funcs\\n\\n</td>\n",
       "    </tr>\n",
       "    <tr>\n",
       "      <th>132</th>\n",
       "      <td>C++</td>\n",
       "      <td>cabba0f15882317a5bf891b92e596b32761a13ca</td>\n",
       "      <td>https://github.com/ocornut/imgui/commit/cabba0...</td>\n",
       "      <td>2</td>\n",
       "      <td>ocornut</td>\n",
       "      <td>imgui</td>\n",
       "      <td>[0, 0, 0, 0, 0, 0, 0, 0, 0, 0, 0, 0, 0, 0, 0, ...</td>\n",
       "      <td>diff --git a/README.md b/README.md\\nindex 8a9e...</td>\n",
       "      <td>Update README.md\\n</td>\n",
       "    </tr>\n",
       "    <tr>\n",
       "      <th>934</th>\n",
       "      <td>Rust</td>\n",
       "      <td>d8cb44036919a264c55f919609f208911a348de1</td>\n",
       "      <td>https://github.com/tauri-apps/tauri/commit/d8c...</td>\n",
       "      <td>2</td>\n",
       "      <td>tauri-apps</td>\n",
       "      <td>tauri</td>\n",
       "      <td>[0, 0, 0, 0, 0, 0, 0, 0, 0, 0, 0, 0, 0, 0, 0, ...</td>\n",
       "      <td>diff --git a/examples/svelte/svelte-app/packag...</td>\n",
       "      <td>chore(examples) Update Svelte Examples (#321)\\...</td>\n",
       "    </tr>\n",
       "    <tr>\n",
       "      <th>120</th>\n",
       "      <td>C++</td>\n",
       "      <td>d37a9319ecd1723c7d50d63a87fb0d3b12a8f915</td>\n",
       "      <td>https://github.com/tesseract-ocr/tesseract/com...</td>\n",
       "      <td>2</td>\n",
       "      <td>tesseract-ocr</td>\n",
       "      <td>tesseract</td>\n",
       "      <td>[1, 0, 6, 0, 0, 0, 0, 0, 0, 0, 0, 0, 0, 0, 0, ...</td>\n",
       "      <td>diff --git a/include/tesseract/capi.h b/includ...</td>\n",
       "      <td>Remove unused TessBaseAPIInit from capi.h\\n\\nS...</td>\n",
       "    </tr>\n",
       "    <tr>\n",
       "      <th>1018</th>\n",
       "      <td>Rust</td>\n",
       "      <td>c48586de08c678b506f74d5a394baf3a8d15256a</td>\n",
       "      <td>https://github.com/sharkdp/fd/commit/c48586de0...</td>\n",
       "      <td>2</td>\n",
       "      <td>sharkdp</td>\n",
       "      <td>fd</td>\n",
       "      <td>[0, 0, 0, 0, 0, 0, 0, 0, 0, 0, 0, 0, 0, 0, 0, ...</td>\n",
       "      <td>diff --git a/CHANGELOG.md b/CHANGELOG.md\\ninde...</td>\n",
       "      <td>Add CHANGELOG entry\\n\\n</td>\n",
       "    </tr>\n",
       "    <tr>\n",
       "      <th>1172</th>\n",
       "      <td>TypeScript</td>\n",
       "      <td>7c02152e1ed348789f249d1755918721a7b22333</td>\n",
       "      <td>https://github.com/mui/material-ui/commit/7c02...</td>\n",
       "      <td>2</td>\n",
       "      <td>mui</td>\n",
       "      <td>material-ui</td>\n",
       "      <td>[1, 48, 49, 0, 1, 1, 0, 0, 0, 0, 0, 0, 0, 0, 0...</td>\n",
       "      <td>diff --git a/docs/pages/index.tsx b/docs/pages...</td>\n",
       "      <td>[docs] Add author and published_time meta tags...</td>\n",
       "    </tr>\n",
       "  </tbody>\n",
       "</table>\n",
       "</div>"
      ],
      "text/plain": [
       "        language                                    commit  \\\n",
       "781       Python  a2479f46f3d05b37254ad701b6b76f84624d3cb5   \n",
       "126          C++  6662fe7b185aab29aa4b2c5e08784e9da75bc700   \n",
       "1323  TypeScript  177f1fc5dd489e90eb1c4cf055e342fbc4f6ef32   \n",
       "683   JavaScript  ec7be48470e42472a07572b7f1ca2abc91bfdad3   \n",
       "871       Python  daf4c358f7d382e7fc0466b06e3c528d24b3f760   \n",
       "681   JavaScript  8f6f8820686cc57ab0ee3139c4d7d7c2c13b7014   \n",
       "1402        Java  ca2f1678d75d9d42867f2124fa3e7dfcf1c367f7   \n",
       "1072        Rust  33a4df8008ce138106a71b047ddef3ba57a0a28b   \n",
       "552   JavaScript  0c7236b292a77e330710994417c4214475fb6880   \n",
       "395           Go  7b48138ad0afc11d1ebbaa86095127e8384d6d42   \n",
       "401           Go  ed09b4ea6a17566b546a9d3ae76876636710c6a0   \n",
       "907         Rust  e67010b5e2eaa5a5ddb756d7ddc2dd0194f09a0a   \n",
       "1385        Java  74066765bb8ca85864f75bde6091f96207f988cf   \n",
       "448           Go  8d9e4345207013c55a8719995ec4ad4e9be466f2   \n",
       "653   JavaScript  145c46ff3630e55b6c50ff479f54661ef54124bd   \n",
       "463           Go  73890f31af5f1247c1f5b8131f136d1045d6b5f6   \n",
       "1052        Rust  e6132809d27164077c2bca7f4cebdcea5e03eff0   \n",
       "1442        Java  98a24828255cde13eaee893eafc9a049bb2183a7   \n",
       "1502        Java  3e714ddd9f062e534c1ee028ac8b2269a062004b   \n",
       "1370        Java  f64233fb2d9bcb77e9249d3bc497fd9d110e6a9f   \n",
       "1292  TypeScript  de7140853140029a3f48600b60e700464e7662b5   \n",
       "1215  TypeScript  bf0b0a30e02d7a70e092f290680b941610d9cccc   \n",
       "869       Python  b64e5919715f8dee546fbfc5049f8ec1574c2567   \n",
       "1013        Rust  106bcb73bcfe1c3887795a6fa2b106c665df3d56   \n",
       "372           Go  f73d059d80af7028531a12d76fb37fe4ea01254f   \n",
       "132          C++  cabba0f15882317a5bf891b92e596b32761a13ca   \n",
       "934         Rust  d8cb44036919a264c55f919609f208911a348de1   \n",
       "120          C++  d37a9319ecd1723c7d50d63a87fb0d3b12a8f915   \n",
       "1018        Rust  c48586de08c678b506f74d5a394baf3a8d15256a   \n",
       "1172  TypeScript  7c02152e1ed348789f249d1755918721a7b22333   \n",
       "\n",
       "                                             commit_url  label           user  \\\n",
       "781   https://github.com/django/django/commit/a2479f...      0         django   \n",
       "126   https://github.com/ocornut/imgui/commit/6662fe...      0        ocornut   \n",
       "1323  https://github.com/apache/echarts/commit/177f1...      0         apache   \n",
       "683   https://github.com/chartjs/Chart.js/commit/ec7...      0        chartjs   \n",
       "871   https://github.com/ansible/ansible/commit/daf4...      0        ansible   \n",
       "681   https://github.com/chartjs/Chart.js/commit/8f6...      0        chartjs   \n",
       "1402                                                NaN      0         apache   \n",
       "1072  https://github.com/bevyengine/bevy/commit/33a4...      0     bevyengine   \n",
       "552   https://github.com/axios/axios/commit/0c7236b2...      0          axios   \n",
       "395   https://github.com/Dreamacro/clash/commit/7b48...      0      Dreamacro   \n",
       "401   https://github.com/v2ray/v2ray-core/commit/ed0...      1          v2ray   \n",
       "907   https://github.com/denoland/deno/commit/e67010...      1       denoland   \n",
       "1385                                                NaN      1         apache   \n",
       "448   https://github.com/FiloSottile/mkcert/commit/8...      1    FiloSottile   \n",
       "653   https://github.com/webpack/webpack/commit/145c...      1        webpack   \n",
       "463   https://github.com/minio/minio/commit/73890f31...      1          minio   \n",
       "1052  https://github.com/dani-garcia/vaultwarden/com...      1    dani-garcia   \n",
       "1442                                                NaN      1        elastic   \n",
       "1502                                                NaN      1      JetBrains   \n",
       "1370                                                NaN      1       ponsonio   \n",
       "1292  https://github.com/vitejs/vite/commit/de714085...      2         vitejs   \n",
       "1215  https://github.com/gothinkster/realworld/commi...      2    gothinkster   \n",
       "869   https://github.com/keras-team/keras/commit/b64...      2     keras-team   \n",
       "1013  https://github.com/starship/starship/commit/10...      2       starship   \n",
       "372   https://github.com/etcd-io/etcd/commit/f73d059...      2        etcd-io   \n",
       "132   https://github.com/ocornut/imgui/commit/cabba0...      2        ocornut   \n",
       "934   https://github.com/tauri-apps/tauri/commit/d8c...      2     tauri-apps   \n",
       "120   https://github.com/tesseract-ocr/tesseract/com...      2  tesseract-ocr   \n",
       "1018  https://github.com/sharkdp/fd/commit/c48586de0...      2        sharkdp   \n",
       "1172  https://github.com/mui/material-ui/commit/7c02...      2            mui   \n",
       "\n",
       "                    repo                                            feature  \\\n",
       "781               django  [3, 13, 0, 3, 1, 0, 0, 1, 5, 0, 0, 0, 0, 0, 0,...   \n",
       "126                imgui  [1, 1, 0, 0, 0, 0, 0, 0, 0, 0, 0, 0, 0, 0, 0, ...   \n",
       "1323             echarts  [1, 0, 0, 1, 0, 1, 2, 0, 0, 0, 0, 0, 0, 0, 0, ...   \n",
       "683             Chart.js  [1, 6, 0, 0, 2, 0, 0, 2, 34, 0, 0, 0, 0, 0, 0,...   \n",
       "871              ansible  [0, 0, 0, 0, 0, 0, 0, 0, 0, 0, 0, 0, 0, 0, 0, ...   \n",
       "681             Chart.js  [1, 0, 0, 1, 0, 0, 0, 0, 0, 0, 0, 0, 0, 0, 0, ...   \n",
       "1402               hbase  [0, 0, 0, 0, 0, 0, 0, 1, 4, 0, 0, 2, 0, 0, 0, ...   \n",
       "1072                bevy  [2, 9, 12, 15, 1, 1, 1, 0, 0, 0, 0, 0, 0, 0, 0...   \n",
       "552                axios  [1, 1, 0, 2, 0, 0, 0, 0, 0, 0, 0, 0, 0, 0, 0, ...   \n",
       "395                clash  [9, 43, 14, 26, 1, 0, 0, 0, 0, 0, 0, 0, 0, 0, ...   \n",
       "401           v2ray-core  [3, 49, 2, 8, 0, 0, 0, 2, 29, 0, 2, 0, 0, 0, 0...   \n",
       "907                 deno  [2, 25, 1, 7, 0, 0, 0, 2, 35, 0, 0, 0, 0, 0, 0...   \n",
       "1385               hbase  [1, 0, 0, 1, 0, 0, 0, 0, 0, 0, 0, 0, 0, 0, 0, ...   \n",
       "448               mkcert  [1, 9, 6, 6, 0, 0, 0, 0, 0, 0, 0, 0, 0, 0, 0, ...   \n",
       "653              webpack  [1, 15, 0, 0, 0, 0, 0, 0, 0, 0, 0, 0, 0, 0, 0,...   \n",
       "463                minio  [1, 18, 0, 0, 16, 0, 0, 0, 0, 0, 0, 0, 0, 0, 0...   \n",
       "1052         vaultwarden  [1, 34, 0, 10, 1, 3, 1, 0, 0, 0, 0, 0, 0, 0, 0...   \n",
       "1442       elasticsearch  [0, 0, 0, 0, 0, 0, 0, 2, 38, 0, 0, 27, 0, 0, 0...   \n",
       "1502  intellij-community  [7, 295, 156, 82, 6, 0, 2, 0, 0, 0, 0, 0, 0, 0...   \n",
       "1370              RxJava  [1, 18, 0, 0, 17, 0, 0, 1, 27, 0, 0, 0, 0, 0, ...   \n",
       "1292                vite  [1, 0, 0, 2, 0, 0, 0, 0, 0, 0, 0, 0, 0, 0, 0, ...   \n",
       "1215           realworld  [0, 0, 0, 0, 0, 0, 0, 0, 0, 0, 0, 0, 0, 0, 0, ...   \n",
       "869                keras  [1, 0, 0, 3, 0, 0, 0, 0, 0, 0, 0, 0, 0, 0, 0, ...   \n",
       "1013            starship  [1, 1, 0, 1, 1, 0, 0, 0, 0, 0, 0, 0, 0, 0, 0, ...   \n",
       "372                 etcd  [1, 16, 16, 0, 4, 4, 0, 0, 0, 0, 0, 0, 0, 0, 0...   \n",
       "132                imgui  [0, 0, 0, 0, 0, 0, 0, 0, 0, 0, 0, 0, 0, 0, 0, ...   \n",
       "934                tauri  [0, 0, 0, 0, 0, 0, 0, 0, 0, 0, 0, 0, 0, 0, 0, ...   \n",
       "120            tesseract  [1, 0, 6, 0, 0, 0, 0, 0, 0, 0, 0, 0, 0, 0, 0, ...   \n",
       "1018                  fd  [0, 0, 0, 0, 0, 0, 0, 0, 0, 0, 0, 0, 0, 0, 0, ...   \n",
       "1172         material-ui  [1, 48, 49, 0, 1, 1, 0, 0, 0, 0, 0, 0, 0, 0, 0...   \n",
       "\n",
       "                                                  diffs  \\\n",
       "781   diff --git a/django/contrib/auth/migrations/00...   \n",
       "126   diff --git a/stb_truetype.h b/stb_truetype.h\\n...   \n",
       "1323  diff --git a/src/component/toolbox/feature/Sav...   \n",
       "683   diff --git a/src/controllers/controller.scatte...   \n",
       "871   diff --git a/library/packaging/pip b/library/p...   \n",
       "681   diff --git a/src/elements/element.point.js b/s...   \n",
       "1402  diff --git a/CHANGES.txt b/CHANGES.txt\\nindex ...   \n",
       "1072  diff --git a/crates/bevy_text/src/lib.rs b/cra...   \n",
       "552   diff --git a/lib/axios.js b/lib/axios.js\\ninde...   \n",
       "395   diff --git a/adapters/outbound/base.go b/adapt...   \n",
       "401   diff --git a/common/net/json/host.go b/common/...   \n",
       "907   diff --git a/cli/file_fetcher.rs b/cli/file_fe...   \n",
       "1385  diff --git a/src/main/java/org/apache/hadoop/h...   \n",
       "448   diff --git a/truststore_nss.go b/truststore_ns...   \n",
       "653   diff --git a/lib/dependencies/DelegatedExports...   \n",
       "463   diff --git a/.goreleaser.yml b/.goreleaser.yml...   \n",
       "1052  diff --git a/src/api/core/organizations.rs b/s...   \n",
       "1442  diff --git a/src/test/java/org/elasticsearch/t...   \n",
       "1502  diff --git a/platform-resources/src/META-INF/X...   \n",
       "1370  diff --git a/src/main/java/rx/Single.java b/sr...   \n",
       "1292  diff --git a/packages/plugin-legacy/index.js b...   \n",
       "1215  diff --git a/api/openapi.yml b/api/openapi.yml...   \n",
       "869   diff --git a/keras/layers/recurrent.py b/keras...   \n",
       "1013  diff --git a/src/main.rs b/src/main.rs\\nindex ...   \n",
       "372   diff --git a/raft/raft.go b/raft/raft.go\\ninde...   \n",
       "132   diff --git a/README.md b/README.md\\nindex 8a9e...   \n",
       "934   diff --git a/examples/svelte/svelte-app/packag...   \n",
       "120   diff --git a/include/tesseract/capi.h b/includ...   \n",
       "1018  diff --git a/CHANGELOG.md b/CHANGELOG.md\\ninde...   \n",
       "1172  diff --git a/docs/pages/index.tsx b/docs/pages...   \n",
       "\n",
       "                                                   text  \n",
       "781   Fixed #7220 -- Allowed AbstractBaseUser.last_l...  \n",
       "126   stb_truetype: Fixed unused variable warnings f...  \n",
       "1323  fix(toolbox): remove outer link and fix issues...  \n",
       "683   Fix toggling showLine option on scatter contro...  \n",
       "871   fixes case where name is omitted from pip arg ...  \n",
       "681                                Fix jshint issue\\n\\n  \n",
       "1402  HBASE-2757. Fix flaky TestFromClientSide test ...  \n",
       "1072  Update layout/style when scale factor changes ...  \n",
       "552          Fixing issue referencing wrong headers\\n\\n  \n",
       "395                            Fix: vmess udp crash\\n\\n  \n",
       "401   support domain as host in VMess outbound confi...  \n",
       "907   feat(cli/compile): Support data uri dynamic im...  \n",
       "1385  HBASE-2889 Tool to look at HLogs -- parse and-...  \n",
       "448   truststore_nss: support multiple NSS databases...  \n",
       "653   feat(DelegatedExportsDependency): make seriali...  \n",
       "463   add minisign verification for container builds...  \n",
       "1052  Implemented delete user from org and added che...  \n",
       "1442  Testing: Add test rule to repeat tests on bind...  \n",
       "1502  IDEADEV-11483 IE conditional comments support-...  \n",
       "1370                        Add Single.fromCallable()--  \n",
       "1292  fix(plugin-legacy): avoid executing blank dyna...  \n",
       "1215                 refactor: update openapi title\\n\\n  \n",
       "869   Fix misleading docstrings (#6052)\\n\\nPassing N...  \n",
       "1013                    Add authors to help message\\n\\n  \n",
       "372         raft: group configuration related funcs\\n\\n  \n",
       "132                                  Update README.md\\n  \n",
       "934   chore(examples) Update Svelte Examples (#321)\\...  \n",
       "120   Remove unused TessBaseAPIInit from capi.h\\n\\nS...  \n",
       "1018                            Add CHANGELOG entry\\n\\n  \n",
       "1172  [docs] Add author and published_time meta tags...  "
      ]
     },
     "execution_count": 5,
     "metadata": {},
     "output_type": "execute_result"
    }
   ],
   "source": [
    "train"
   ]
  },
  {
   "cell_type": "code",
   "execution_count": 6,
   "id": "3c932703-35bc-47c4-97c9-66344c490f7b",
   "metadata": {
    "execution": {
     "iopub.execute_input": "2025-08-29T00:49:43.423409Z",
     "iopub.status.busy": "2025-08-29T00:49:43.423215Z",
     "iopub.status.idle": "2025-08-29T00:49:43.426802Z",
     "shell.execute_reply": "2025-08-29T00:49:43.426028Z",
     "shell.execute_reply.started": "2025-08-29T00:49:43.423390Z"
    }
   },
   "outputs": [],
   "source": [
    "# train.to_csv('/root/autodl-tmp/COLARE-main/dataset/multi-lang-exp/10_train.csv',index=False)\n",
    "# test.to_csv('/root/autodl-tmp/COLARE-main/dataset/multi-lang-exp/test.csv',index=False)\n",
    "# val.to_csv('/root/autodl-tmp/COLARE-main/dataset/multi-lang-exp/eval.csv',index=False)\n",
    "# train.to_csv('/root/autodl-tmp/CommitFit/dataset/multi-lang-exp/10_train.csv',index=False)\n",
    "# test.to_csv('/root/autodl-tmp/CommitFit/dataset/multi-lang-exp/test.csv',index=False)\n",
    "# val.to_csv('/root/autodl-tmp/CommitFit/dataset/multi-lang-exp/eval.csv',index=False)"
   ]
  },
  {
   "cell_type": "code",
   "execution_count": 7,
   "id": "2e214dbb-075e-4fbf-adc9-f3533801587e",
   "metadata": {
    "execution": {
     "iopub.execute_input": "2025-08-29T00:49:43.427835Z",
     "iopub.status.busy": "2025-08-29T00:49:43.427649Z",
     "iopub.status.idle": "2025-08-29T00:49:43.490422Z",
     "shell.execute_reply": "2025-08-29T00:49:43.489531Z",
     "shell.execute_reply.started": "2025-08-29T00:49:43.427817Z"
    }
   },
   "outputs": [],
   "source": [
    "Dataset_train = Dataset.from_pandas(train)\n",
    "test_dataset = Dataset.from_pandas(test)"
   ]
  },
  {
   "cell_type": "code",
   "execution_count": 8,
   "id": "1a8ec7ec-1112-4140-8ccd-516ba9a1b1a8",
   "metadata": {
    "execution": {
     "iopub.execute_input": "2025-08-29T00:49:43.491617Z",
     "iopub.status.busy": "2025-08-29T00:49:43.491410Z",
     "iopub.status.idle": "2025-08-29T00:49:43.555718Z",
     "shell.execute_reply": "2025-08-29T00:49:43.554807Z",
     "shell.execute_reply.started": "2025-08-29T00:49:43.491595Z"
    }
   },
   "outputs": [],
   "source": [
    "train_dataset = get_templated_dataset(Dataset_train, candidate_labels=['Corrective','Adaptive','Perfective'], sample_size=8)"
   ]
  },
  {
   "cell_type": "code",
   "execution_count": 9,
   "id": "6af4102b-39bc-4b20-ab32-43800fb572bf",
   "metadata": {
    "execution": {
     "iopub.execute_input": "2025-08-29T00:49:43.556929Z",
     "iopub.status.busy": "2025-08-29T00:49:43.556724Z",
     "iopub.status.idle": "2025-08-29T00:49:43.561224Z",
     "shell.execute_reply": "2025-08-29T00:49:43.560422Z",
     "shell.execute_reply.started": "2025-08-29T00:49:43.556908Z"
    }
   },
   "outputs": [],
   "source": [
    "train_code_change = list(train['diffs'].astype(str))\n",
    "test_code_change = list(test['diffs'].astype(str))"
   ]
  },
  {
   "cell_type": "code",
   "execution_count": 10,
   "id": "c5ea76cd-69e5-4aa8-bf49-c9e746b63bbb",
   "metadata": {
    "execution": {
     "iopub.execute_input": "2025-08-29T00:49:43.562295Z",
     "iopub.status.busy": "2025-08-29T00:49:43.562098Z",
     "iopub.status.idle": "2025-08-29T00:49:43.567095Z",
     "shell.execute_reply": "2025-08-29T00:49:43.566339Z",
     "shell.execute_reply.started": "2025-08-29T00:49:43.562275Z"
    }
   },
   "outputs": [
    {
     "data": {
      "text/plain": [
       "Dataset({\n",
       "    features: ['language', 'commit', 'commit_url', 'label', 'user', 'repo', 'feature', 'diffs', 'text', '__index_level_0__'],\n",
       "    num_rows: 54\n",
       "})"
      ]
     },
     "execution_count": 10,
     "metadata": {},
     "output_type": "execute_result"
    }
   ],
   "source": [
    "# list(train['message'].astype(str).values)\n",
    "train_dataset"
   ]
  },
  {
   "cell_type": "code",
   "execution_count": 11,
   "id": "ee30affe-0ec9-46a3-bcaa-a1bd9422c939",
   "metadata": {
    "execution": {
     "iopub.execute_input": "2025-08-29T00:49:43.568155Z",
     "iopub.status.busy": "2025-08-29T00:49:43.567954Z",
     "iopub.status.idle": "2025-08-29T00:49:43.572893Z",
     "shell.execute_reply": "2025-08-29T00:49:43.572113Z",
     "shell.execute_reply.started": "2025-08-29T00:49:43.568135Z"
    }
   },
   "outputs": [
    {
     "data": {
      "text/plain": [
       "30"
      ]
     },
     "execution_count": 11,
     "metadata": {},
     "output_type": "execute_result"
    }
   ],
   "source": [
    "len(train)"
   ]
  },
  {
   "cell_type": "code",
   "execution_count": 12,
   "id": "84e38639-cf4b-4762-a1dc-cdc983938388",
   "metadata": {
    "execution": {
     "iopub.execute_input": "2025-08-29T00:49:43.573974Z",
     "iopub.status.busy": "2025-08-29T00:49:43.573768Z",
     "iopub.status.idle": "2025-08-29T00:49:43.580026Z",
     "shell.execute_reply": "2025-08-29T00:49:43.579252Z",
     "shell.execute_reply.started": "2025-08-29T00:49:43.573955Z"
    }
   },
   "outputs": [
    {
     "data": {
      "text/plain": [
       "label\n",
       "0    10\n",
       "1    10\n",
       "2    10\n",
       "Name: count, dtype: int64"
      ]
     },
     "execution_count": 12,
     "metadata": {},
     "output_type": "execute_result"
    }
   ],
   "source": [
    "train['label'].value_counts()"
   ]
  },
  {
   "cell_type": "code",
   "execution_count": 13,
   "id": "3cf6c110-616d-45da-aa2e-4a5add26b3c0",
   "metadata": {
    "execution": {
     "iopub.execute_input": "2025-08-29T00:49:43.581121Z",
     "iopub.status.busy": "2025-08-29T00:49:43.580926Z",
     "iopub.status.idle": "2025-08-29T00:49:43.586881Z",
     "shell.execute_reply": "2025-08-29T00:49:43.586112Z",
     "shell.execute_reply.started": "2025-08-29T00:49:43.581102Z"
    }
   },
   "outputs": [
    {
     "data": {
      "text/plain": [
       "label\n",
       "2    155\n",
       "0     51\n",
       "1     32\n",
       "Name: count, dtype: int64"
      ]
     },
     "execution_count": 13,
     "metadata": {},
     "output_type": "execute_result"
    }
   ],
   "source": [
    "test['label'].value_counts()"
   ]
  },
  {
   "cell_type": "code",
   "execution_count": 14,
   "id": "77117d87-5292-48f5-b077-74b47ccfd5eb",
   "metadata": {
    "execution": {
     "iopub.execute_input": "2025-08-29T00:49:43.598247Z",
     "iopub.status.busy": "2025-08-29T00:49:43.596559Z",
     "iopub.status.idle": "2025-08-29T00:49:43.606889Z",
     "shell.execute_reply": "2025-08-29T00:49:43.606113Z",
     "shell.execute_reply.started": "2025-08-29T00:49:43.598223Z"
    }
   },
   "outputs": [
    {
     "data": {
      "text/plain": [
       "54"
      ]
     },
     "execution_count": 14,
     "metadata": {},
     "output_type": "execute_result"
    }
   ],
   "source": [
    "len(train_dataset)"
   ]
  },
  {
   "cell_type": "code",
   "execution_count": 15,
   "id": "dca6275a-a567-4963-831c-8dd653341162",
   "metadata": {
    "execution": {
     "iopub.execute_input": "2025-08-29T00:49:43.607973Z",
     "iopub.status.busy": "2025-08-29T00:49:43.607780Z",
     "iopub.status.idle": "2025-08-29T00:49:43.613620Z",
     "shell.execute_reply": "2025-08-29T00:49:43.612793Z",
     "shell.execute_reply.started": "2025-08-29T00:49:43.607954Z"
    }
   },
   "outputs": [],
   "source": [
    "from sklearn import  metrics\n",
    "\n",
    "def compute_metrics(y_pred, y_test):\n",
    "    # print(y_pred,y_test)\n",
    "    # classification_report = metrics.classification_report(y_test,y_pred)\n",
    "    accuracy_score = metrics.accuracy_score(y_test,y_pred)\n",
    "    precision_score = metrics.precision_score(y_test,y_pred, average='macro')\n",
    "    recall_score = metrics.recall_score(y_test,y_pred,average='macro')\n",
    "    f1_score = metrics.f1_score(y_test,y_pred,average='macro')\n",
    "    \n",
    "    # 混淆矩阵\n",
    "    cm = metrics.confusion_matrix(y_test, y_pred)\n",
    "    print(\"Confusion Matrix:\\n\", cm)\n",
    "    print(metrics.classification_report(y_test, y_pred, digits=4))\n",
    "    # return {\"classification_report\": classification_report}\n",
    "    return {\"classification_report\":metrics.classification_report(y_test, y_pred, digits=4),\"Confusion Matrix\":cm,\"precision\": round(precision_score, 4),\"recall\": round(recall_score, 4), \"f1\":round(f1_score, 4), \"accuracy\": round(accuracy_score, 4)}"
   ]
  },
  {
   "cell_type": "code",
   "execution_count": 16,
   "id": "49e32d66-2fc2-4a53-bae1-13f8d67c5b6f",
   "metadata": {
    "execution": {
     "iopub.execute_input": "2025-08-29T00:49:43.614724Z",
     "iopub.status.busy": "2025-08-29T00:49:43.614519Z",
     "iopub.status.idle": "2025-08-29T00:49:43.619483Z",
     "shell.execute_reply": "2025-08-29T00:49:43.618720Z",
     "shell.execute_reply.started": "2025-08-29T00:49:43.614704Z"
    }
   },
   "outputs": [
    {
     "data": {
      "text/plain": [
       "Dataset({\n",
       "    features: ['language', 'commit', 'commit_url', 'label', 'user', 'repo', 'feature', 'diffs', 'text', '__index_level_0__'],\n",
       "    num_rows: 54\n",
       "})"
      ]
     },
     "execution_count": 16,
     "metadata": {},
     "output_type": "execute_result"
    }
   ],
   "source": [
    "train_dataset"
   ]
  },
  {
   "cell_type": "code",
   "execution_count": 17,
   "id": "b7c52074-c55f-4218-bc87-cdbc6e36a993",
   "metadata": {
    "execution": {
     "iopub.execute_input": "2025-08-29T00:49:43.620531Z",
     "iopub.status.busy": "2025-08-29T00:49:43.620327Z",
     "iopub.status.idle": "2025-08-29T00:49:43.634573Z",
     "shell.execute_reply": "2025-08-29T00:49:43.633774Z",
     "shell.execute_reply.started": "2025-08-29T00:49:43.620511Z"
    }
   },
   "outputs": [
    {
     "data": {
      "text/html": [
       "<div>\n",
       "<style scoped>\n",
       "    .dataframe tbody tr th:only-of-type {\n",
       "        vertical-align: middle;\n",
       "    }\n",
       "\n",
       "    .dataframe tbody tr th {\n",
       "        vertical-align: top;\n",
       "    }\n",
       "\n",
       "    .dataframe thead th {\n",
       "        text-align: right;\n",
       "    }\n",
       "</style>\n",
       "<table border=\"1\" class=\"dataframe\">\n",
       "  <thead>\n",
       "    <tr style=\"text-align: right;\">\n",
       "      <th></th>\n",
       "      <th>language</th>\n",
       "      <th>commit</th>\n",
       "      <th>commit_url</th>\n",
       "      <th>label</th>\n",
       "      <th>user</th>\n",
       "      <th>repo</th>\n",
       "      <th>feature</th>\n",
       "      <th>diffs</th>\n",
       "      <th>text</th>\n",
       "    </tr>\n",
       "  </thead>\n",
       "  <tbody>\n",
       "    <tr>\n",
       "      <th>781</th>\n",
       "      <td>Python</td>\n",
       "      <td>a2479f46f3d05b37254ad701b6b76f84624d3cb5</td>\n",
       "      <td>https://github.com/django/django/commit/a2479f...</td>\n",
       "      <td>0</td>\n",
       "      <td>django</td>\n",
       "      <td>django</td>\n",
       "      <td>[3, 13, 0, 3, 1, 0, 0, 1, 5, 0, 0, 0, 0, 0, 0,...</td>\n",
       "      <td>diff --git a/django/contrib/auth/migrations/00...</td>\n",
       "      <td>Fixed #7220 -- Allowed AbstractBaseUser.last_l...</td>\n",
       "    </tr>\n",
       "    <tr>\n",
       "      <th>126</th>\n",
       "      <td>C++</td>\n",
       "      <td>6662fe7b185aab29aa4b2c5e08784e9da75bc700</td>\n",
       "      <td>https://github.com/ocornut/imgui/commit/6662fe...</td>\n",
       "      <td>0</td>\n",
       "      <td>ocornut</td>\n",
       "      <td>imgui</td>\n",
       "      <td>[1, 1, 0, 0, 0, 0, 0, 0, 0, 0, 0, 0, 0, 0, 0, ...</td>\n",
       "      <td>diff --git a/stb_truetype.h b/stb_truetype.h\\n...</td>\n",
       "      <td>stb_truetype: Fixed unused variable warnings f...</td>\n",
       "    </tr>\n",
       "    <tr>\n",
       "      <th>1323</th>\n",
       "      <td>TypeScript</td>\n",
       "      <td>177f1fc5dd489e90eb1c4cf055e342fbc4f6ef32</td>\n",
       "      <td>https://github.com/apache/echarts/commit/177f1...</td>\n",
       "      <td>0</td>\n",
       "      <td>apache</td>\n",
       "      <td>echarts</td>\n",
       "      <td>[1, 0, 0, 1, 0, 1, 2, 0, 0, 0, 0, 0, 0, 0, 0, ...</td>\n",
       "      <td>diff --git a/src/component/toolbox/feature/Sav...</td>\n",
       "      <td>fix(toolbox): remove outer link and fix issues...</td>\n",
       "    </tr>\n",
       "    <tr>\n",
       "      <th>683</th>\n",
       "      <td>JavaScript</td>\n",
       "      <td>ec7be48470e42472a07572b7f1ca2abc91bfdad3</td>\n",
       "      <td>https://github.com/chartjs/Chart.js/commit/ec7...</td>\n",
       "      <td>0</td>\n",
       "      <td>chartjs</td>\n",
       "      <td>Chart.js</td>\n",
       "      <td>[1, 6, 0, 0, 2, 0, 0, 2, 34, 0, 0, 0, 0, 0, 0,...</td>\n",
       "      <td>diff --git a/src/controllers/controller.scatte...</td>\n",
       "      <td>Fix toggling showLine option on scatter contro...</td>\n",
       "    </tr>\n",
       "    <tr>\n",
       "      <th>871</th>\n",
       "      <td>Python</td>\n",
       "      <td>daf4c358f7d382e7fc0466b06e3c528d24b3f760</td>\n",
       "      <td>https://github.com/ansible/ansible/commit/daf4...</td>\n",
       "      <td>0</td>\n",
       "      <td>ansible</td>\n",
       "      <td>ansible</td>\n",
       "      <td>[0, 0, 0, 0, 0, 0, 0, 0, 0, 0, 0, 0, 0, 0, 0, ...</td>\n",
       "      <td>diff --git a/library/packaging/pip b/library/p...</td>\n",
       "      <td>fixes case where name is omitted from pip arg ...</td>\n",
       "    </tr>\n",
       "    <tr>\n",
       "      <th>681</th>\n",
       "      <td>JavaScript</td>\n",
       "      <td>8f6f8820686cc57ab0ee3139c4d7d7c2c13b7014</td>\n",
       "      <td>https://github.com/chartjs/Chart.js/commit/8f6...</td>\n",
       "      <td>0</td>\n",
       "      <td>chartjs</td>\n",
       "      <td>Chart.js</td>\n",
       "      <td>[1, 0, 0, 1, 0, 0, 0, 0, 0, 0, 0, 0, 0, 0, 0, ...</td>\n",
       "      <td>diff --git a/src/elements/element.point.js b/s...</td>\n",
       "      <td>Fix jshint issue\\n\\n</td>\n",
       "    </tr>\n",
       "    <tr>\n",
       "      <th>1402</th>\n",
       "      <td>Java</td>\n",
       "      <td>ca2f1678d75d9d42867f2124fa3e7dfcf1c367f7</td>\n",
       "      <td>NaN</td>\n",
       "      <td>0</td>\n",
       "      <td>apache</td>\n",
       "      <td>hbase</td>\n",
       "      <td>[0, 0, 0, 0, 0, 0, 0, 1, 4, 0, 0, 2, 0, 0, 0, ...</td>\n",
       "      <td>diff --git a/CHANGES.txt b/CHANGES.txt\\nindex ...</td>\n",
       "      <td>HBASE-2757. Fix flaky TestFromClientSide test ...</td>\n",
       "    </tr>\n",
       "    <tr>\n",
       "      <th>1072</th>\n",
       "      <td>Rust</td>\n",
       "      <td>33a4df8008ce138106a71b047ddef3ba57a0a28b</td>\n",
       "      <td>https://github.com/bevyengine/bevy/commit/33a4...</td>\n",
       "      <td>0</td>\n",
       "      <td>bevyengine</td>\n",
       "      <td>bevy</td>\n",
       "      <td>[2, 9, 12, 15, 1, 1, 1, 0, 0, 0, 0, 0, 0, 0, 0...</td>\n",
       "      <td>diff --git a/crates/bevy_text/src/lib.rs b/cra...</td>\n",
       "      <td>Update layout/style when scale factor changes ...</td>\n",
       "    </tr>\n",
       "    <tr>\n",
       "      <th>552</th>\n",
       "      <td>JavaScript</td>\n",
       "      <td>0c7236b292a77e330710994417c4214475fb6880</td>\n",
       "      <td>https://github.com/axios/axios/commit/0c7236b2...</td>\n",
       "      <td>0</td>\n",
       "      <td>axios</td>\n",
       "      <td>axios</td>\n",
       "      <td>[1, 1, 0, 2, 0, 0, 0, 0, 0, 0, 0, 0, 0, 0, 0, ...</td>\n",
       "      <td>diff --git a/lib/axios.js b/lib/axios.js\\ninde...</td>\n",
       "      <td>Fixing issue referencing wrong headers\\n\\n</td>\n",
       "    </tr>\n",
       "    <tr>\n",
       "      <th>395</th>\n",
       "      <td>Go</td>\n",
       "      <td>7b48138ad0afc11d1ebbaa86095127e8384d6d42</td>\n",
       "      <td>https://github.com/Dreamacro/clash/commit/7b48...</td>\n",
       "      <td>0</td>\n",
       "      <td>Dreamacro</td>\n",
       "      <td>clash</td>\n",
       "      <td>[9, 43, 14, 26, 1, 0, 0, 0, 0, 0, 0, 0, 0, 0, ...</td>\n",
       "      <td>diff --git a/adapters/outbound/base.go b/adapt...</td>\n",
       "      <td>Fix: vmess udp crash\\n\\n</td>\n",
       "    </tr>\n",
       "    <tr>\n",
       "      <th>401</th>\n",
       "      <td>Go</td>\n",
       "      <td>ed09b4ea6a17566b546a9d3ae76876636710c6a0</td>\n",
       "      <td>https://github.com/v2ray/v2ray-core/commit/ed0...</td>\n",
       "      <td>1</td>\n",
       "      <td>v2ray</td>\n",
       "      <td>v2ray-core</td>\n",
       "      <td>[3, 49, 2, 8, 0, 0, 0, 2, 29, 0, 2, 0, 0, 0, 0...</td>\n",
       "      <td>diff --git a/common/net/json/host.go b/common/...</td>\n",
       "      <td>support domain as host in VMess outbound confi...</td>\n",
       "    </tr>\n",
       "    <tr>\n",
       "      <th>907</th>\n",
       "      <td>Rust</td>\n",
       "      <td>e67010b5e2eaa5a5ddb756d7ddc2dd0194f09a0a</td>\n",
       "      <td>https://github.com/denoland/deno/commit/e67010...</td>\n",
       "      <td>1</td>\n",
       "      <td>denoland</td>\n",
       "      <td>deno</td>\n",
       "      <td>[2, 25, 1, 7, 0, 0, 0, 2, 35, 0, 0, 0, 0, 0, 0...</td>\n",
       "      <td>diff --git a/cli/file_fetcher.rs b/cli/file_fe...</td>\n",
       "      <td>feat(cli/compile): Support data uri dynamic im...</td>\n",
       "    </tr>\n",
       "    <tr>\n",
       "      <th>1385</th>\n",
       "      <td>Java</td>\n",
       "      <td>74066765bb8ca85864f75bde6091f96207f988cf</td>\n",
       "      <td>NaN</td>\n",
       "      <td>1</td>\n",
       "      <td>apache</td>\n",
       "      <td>hbase</td>\n",
       "      <td>[1, 0, 0, 1, 0, 0, 0, 0, 0, 0, 0, 0, 0, 0, 0, ...</td>\n",
       "      <td>diff --git a/src/main/java/org/apache/hadoop/h...</td>\n",
       "      <td>HBASE-2889 Tool to look at HLogs -- parse and-...</td>\n",
       "    </tr>\n",
       "    <tr>\n",
       "      <th>448</th>\n",
       "      <td>Go</td>\n",
       "      <td>8d9e4345207013c55a8719995ec4ad4e9be466f2</td>\n",
       "      <td>https://github.com/FiloSottile/mkcert/commit/8...</td>\n",
       "      <td>1</td>\n",
       "      <td>FiloSottile</td>\n",
       "      <td>mkcert</td>\n",
       "      <td>[1, 9, 6, 6, 0, 0, 0, 0, 0, 0, 0, 0, 0, 0, 0, ...</td>\n",
       "      <td>diff --git a/truststore_nss.go b/truststore_ns...</td>\n",
       "      <td>truststore_nss: support multiple NSS databases...</td>\n",
       "    </tr>\n",
       "    <tr>\n",
       "      <th>653</th>\n",
       "      <td>JavaScript</td>\n",
       "      <td>145c46ff3630e55b6c50ff479f54661ef54124bd</td>\n",
       "      <td>https://github.com/webpack/webpack/commit/145c...</td>\n",
       "      <td>1</td>\n",
       "      <td>webpack</td>\n",
       "      <td>webpack</td>\n",
       "      <td>[1, 15, 0, 0, 0, 0, 0, 0, 0, 0, 0, 0, 0, 0, 0,...</td>\n",
       "      <td>diff --git a/lib/dependencies/DelegatedExports...</td>\n",
       "      <td>feat(DelegatedExportsDependency): make seriali...</td>\n",
       "    </tr>\n",
       "    <tr>\n",
       "      <th>463</th>\n",
       "      <td>Go</td>\n",
       "      <td>73890f31af5f1247c1f5b8131f136d1045d6b5f6</td>\n",
       "      <td>https://github.com/minio/minio/commit/73890f31...</td>\n",
       "      <td>1</td>\n",
       "      <td>minio</td>\n",
       "      <td>minio</td>\n",
       "      <td>[1, 18, 0, 0, 16, 0, 0, 0, 0, 0, 0, 0, 0, 0, 0...</td>\n",
       "      <td>diff --git a/.goreleaser.yml b/.goreleaser.yml...</td>\n",
       "      <td>add minisign verification for container builds...</td>\n",
       "    </tr>\n",
       "    <tr>\n",
       "      <th>1052</th>\n",
       "      <td>Rust</td>\n",
       "      <td>e6132809d27164077c2bca7f4cebdcea5e03eff0</td>\n",
       "      <td>https://github.com/dani-garcia/vaultwarden/com...</td>\n",
       "      <td>1</td>\n",
       "      <td>dani-garcia</td>\n",
       "      <td>vaultwarden</td>\n",
       "      <td>[1, 34, 0, 10, 1, 3, 1, 0, 0, 0, 0, 0, 0, 0, 0...</td>\n",
       "      <td>diff --git a/src/api/core/organizations.rs b/s...</td>\n",
       "      <td>Implemented delete user from org and added che...</td>\n",
       "    </tr>\n",
       "    <tr>\n",
       "      <th>1442</th>\n",
       "      <td>Java</td>\n",
       "      <td>98a24828255cde13eaee893eafc9a049bb2183a7</td>\n",
       "      <td>NaN</td>\n",
       "      <td>1</td>\n",
       "      <td>elastic</td>\n",
       "      <td>elasticsearch</td>\n",
       "      <td>[0, 0, 0, 0, 0, 0, 0, 2, 38, 0, 0, 27, 0, 0, 0...</td>\n",
       "      <td>diff --git a/src/test/java/org/elasticsearch/t...</td>\n",
       "      <td>Testing: Add test rule to repeat tests on bind...</td>\n",
       "    </tr>\n",
       "    <tr>\n",
       "      <th>1502</th>\n",
       "      <td>Java</td>\n",
       "      <td>3e714ddd9f062e534c1ee028ac8b2269a062004b</td>\n",
       "      <td>NaN</td>\n",
       "      <td>1</td>\n",
       "      <td>JetBrains</td>\n",
       "      <td>intellij-community</td>\n",
       "      <td>[7, 295, 156, 82, 6, 0, 2, 0, 0, 0, 0, 0, 0, 0...</td>\n",
       "      <td>diff --git a/platform-resources/src/META-INF/X...</td>\n",
       "      <td>IDEADEV-11483 IE conditional comments support-...</td>\n",
       "    </tr>\n",
       "    <tr>\n",
       "      <th>1370</th>\n",
       "      <td>Java</td>\n",
       "      <td>f64233fb2d9bcb77e9249d3bc497fd9d110e6a9f</td>\n",
       "      <td>NaN</td>\n",
       "      <td>1</td>\n",
       "      <td>ponsonio</td>\n",
       "      <td>RxJava</td>\n",
       "      <td>[1, 18, 0, 0, 17, 0, 0, 1, 27, 0, 0, 0, 0, 0, ...</td>\n",
       "      <td>diff --git a/src/main/java/rx/Single.java b/sr...</td>\n",
       "      <td>Add Single.fromCallable()--</td>\n",
       "    </tr>\n",
       "    <tr>\n",
       "      <th>1292</th>\n",
       "      <td>TypeScript</td>\n",
       "      <td>de7140853140029a3f48600b60e700464e7662b5</td>\n",
       "      <td>https://github.com/vitejs/vite/commit/de714085...</td>\n",
       "      <td>2</td>\n",
       "      <td>vitejs</td>\n",
       "      <td>vite</td>\n",
       "      <td>[1, 0, 0, 2, 0, 0, 0, 0, 0, 0, 0, 0, 0, 0, 0, ...</td>\n",
       "      <td>diff --git a/packages/plugin-legacy/index.js b...</td>\n",
       "      <td>fix(plugin-legacy): avoid executing blank dyna...</td>\n",
       "    </tr>\n",
       "    <tr>\n",
       "      <th>1215</th>\n",
       "      <td>TypeScript</td>\n",
       "      <td>bf0b0a30e02d7a70e092f290680b941610d9cccc</td>\n",
       "      <td>https://github.com/gothinkster/realworld/commi...</td>\n",
       "      <td>2</td>\n",
       "      <td>gothinkster</td>\n",
       "      <td>realworld</td>\n",
       "      <td>[0, 0, 0, 0, 0, 0, 0, 0, 0, 0, 0, 0, 0, 0, 0, ...</td>\n",
       "      <td>diff --git a/api/openapi.yml b/api/openapi.yml...</td>\n",
       "      <td>refactor: update openapi title\\n\\n</td>\n",
       "    </tr>\n",
       "    <tr>\n",
       "      <th>869</th>\n",
       "      <td>Python</td>\n",
       "      <td>b64e5919715f8dee546fbfc5049f8ec1574c2567</td>\n",
       "      <td>https://github.com/keras-team/keras/commit/b64...</td>\n",
       "      <td>2</td>\n",
       "      <td>keras-team</td>\n",
       "      <td>keras</td>\n",
       "      <td>[1, 0, 0, 3, 0, 0, 0, 0, 0, 0, 0, 0, 0, 0, 0, ...</td>\n",
       "      <td>diff --git a/keras/layers/recurrent.py b/keras...</td>\n",
       "      <td>Fix misleading docstrings (#6052)\\n\\nPassing N...</td>\n",
       "    </tr>\n",
       "    <tr>\n",
       "      <th>1013</th>\n",
       "      <td>Rust</td>\n",
       "      <td>106bcb73bcfe1c3887795a6fa2b106c665df3d56</td>\n",
       "      <td>https://github.com/starship/starship/commit/10...</td>\n",
       "      <td>2</td>\n",
       "      <td>starship</td>\n",
       "      <td>starship</td>\n",
       "      <td>[1, 1, 0, 1, 1, 0, 0, 0, 0, 0, 0, 0, 0, 0, 0, ...</td>\n",
       "      <td>diff --git a/src/main.rs b/src/main.rs\\nindex ...</td>\n",
       "      <td>Add authors to help message\\n\\n</td>\n",
       "    </tr>\n",
       "    <tr>\n",
       "      <th>372</th>\n",
       "      <td>Go</td>\n",
       "      <td>f73d059d80af7028531a12d76fb37fe4ea01254f</td>\n",
       "      <td>https://github.com/etcd-io/etcd/commit/f73d059...</td>\n",
       "      <td>2</td>\n",
       "      <td>etcd-io</td>\n",
       "      <td>etcd</td>\n",
       "      <td>[1, 16, 16, 0, 4, 4, 0, 0, 0, 0, 0, 0, 0, 0, 0...</td>\n",
       "      <td>diff --git a/raft/raft.go b/raft/raft.go\\ninde...</td>\n",
       "      <td>raft: group configuration related funcs\\n\\n</td>\n",
       "    </tr>\n",
       "    <tr>\n",
       "      <th>132</th>\n",
       "      <td>C++</td>\n",
       "      <td>cabba0f15882317a5bf891b92e596b32761a13ca</td>\n",
       "      <td>https://github.com/ocornut/imgui/commit/cabba0...</td>\n",
       "      <td>2</td>\n",
       "      <td>ocornut</td>\n",
       "      <td>imgui</td>\n",
       "      <td>[0, 0, 0, 0, 0, 0, 0, 0, 0, 0, 0, 0, 0, 0, 0, ...</td>\n",
       "      <td>diff --git a/README.md b/README.md\\nindex 8a9e...</td>\n",
       "      <td>Update README.md\\n</td>\n",
       "    </tr>\n",
       "    <tr>\n",
       "      <th>934</th>\n",
       "      <td>Rust</td>\n",
       "      <td>d8cb44036919a264c55f919609f208911a348de1</td>\n",
       "      <td>https://github.com/tauri-apps/tauri/commit/d8c...</td>\n",
       "      <td>2</td>\n",
       "      <td>tauri-apps</td>\n",
       "      <td>tauri</td>\n",
       "      <td>[0, 0, 0, 0, 0, 0, 0, 0, 0, 0, 0, 0, 0, 0, 0, ...</td>\n",
       "      <td>diff --git a/examples/svelte/svelte-app/packag...</td>\n",
       "      <td>chore(examples) Update Svelte Examples (#321)\\...</td>\n",
       "    </tr>\n",
       "    <tr>\n",
       "      <th>120</th>\n",
       "      <td>C++</td>\n",
       "      <td>d37a9319ecd1723c7d50d63a87fb0d3b12a8f915</td>\n",
       "      <td>https://github.com/tesseract-ocr/tesseract/com...</td>\n",
       "      <td>2</td>\n",
       "      <td>tesseract-ocr</td>\n",
       "      <td>tesseract</td>\n",
       "      <td>[1, 0, 6, 0, 0, 0, 0, 0, 0, 0, 0, 0, 0, 0, 0, ...</td>\n",
       "      <td>diff --git a/include/tesseract/capi.h b/includ...</td>\n",
       "      <td>Remove unused TessBaseAPIInit from capi.h\\n\\nS...</td>\n",
       "    </tr>\n",
       "    <tr>\n",
       "      <th>1018</th>\n",
       "      <td>Rust</td>\n",
       "      <td>c48586de08c678b506f74d5a394baf3a8d15256a</td>\n",
       "      <td>https://github.com/sharkdp/fd/commit/c48586de0...</td>\n",
       "      <td>2</td>\n",
       "      <td>sharkdp</td>\n",
       "      <td>fd</td>\n",
       "      <td>[0, 0, 0, 0, 0, 0, 0, 0, 0, 0, 0, 0, 0, 0, 0, ...</td>\n",
       "      <td>diff --git a/CHANGELOG.md b/CHANGELOG.md\\ninde...</td>\n",
       "      <td>Add CHANGELOG entry\\n\\n</td>\n",
       "    </tr>\n",
       "    <tr>\n",
       "      <th>1172</th>\n",
       "      <td>TypeScript</td>\n",
       "      <td>7c02152e1ed348789f249d1755918721a7b22333</td>\n",
       "      <td>https://github.com/mui/material-ui/commit/7c02...</td>\n",
       "      <td>2</td>\n",
       "      <td>mui</td>\n",
       "      <td>material-ui</td>\n",
       "      <td>[1, 48, 49, 0, 1, 1, 0, 0, 0, 0, 0, 0, 0, 0, 0...</td>\n",
       "      <td>diff --git a/docs/pages/index.tsx b/docs/pages...</td>\n",
       "      <td>[docs] Add author and published_time meta tags...</td>\n",
       "    </tr>\n",
       "  </tbody>\n",
       "</table>\n",
       "</div>"
      ],
      "text/plain": [
       "        language                                    commit  \\\n",
       "781       Python  a2479f46f3d05b37254ad701b6b76f84624d3cb5   \n",
       "126          C++  6662fe7b185aab29aa4b2c5e08784e9da75bc700   \n",
       "1323  TypeScript  177f1fc5dd489e90eb1c4cf055e342fbc4f6ef32   \n",
       "683   JavaScript  ec7be48470e42472a07572b7f1ca2abc91bfdad3   \n",
       "871       Python  daf4c358f7d382e7fc0466b06e3c528d24b3f760   \n",
       "681   JavaScript  8f6f8820686cc57ab0ee3139c4d7d7c2c13b7014   \n",
       "1402        Java  ca2f1678d75d9d42867f2124fa3e7dfcf1c367f7   \n",
       "1072        Rust  33a4df8008ce138106a71b047ddef3ba57a0a28b   \n",
       "552   JavaScript  0c7236b292a77e330710994417c4214475fb6880   \n",
       "395           Go  7b48138ad0afc11d1ebbaa86095127e8384d6d42   \n",
       "401           Go  ed09b4ea6a17566b546a9d3ae76876636710c6a0   \n",
       "907         Rust  e67010b5e2eaa5a5ddb756d7ddc2dd0194f09a0a   \n",
       "1385        Java  74066765bb8ca85864f75bde6091f96207f988cf   \n",
       "448           Go  8d9e4345207013c55a8719995ec4ad4e9be466f2   \n",
       "653   JavaScript  145c46ff3630e55b6c50ff479f54661ef54124bd   \n",
       "463           Go  73890f31af5f1247c1f5b8131f136d1045d6b5f6   \n",
       "1052        Rust  e6132809d27164077c2bca7f4cebdcea5e03eff0   \n",
       "1442        Java  98a24828255cde13eaee893eafc9a049bb2183a7   \n",
       "1502        Java  3e714ddd9f062e534c1ee028ac8b2269a062004b   \n",
       "1370        Java  f64233fb2d9bcb77e9249d3bc497fd9d110e6a9f   \n",
       "1292  TypeScript  de7140853140029a3f48600b60e700464e7662b5   \n",
       "1215  TypeScript  bf0b0a30e02d7a70e092f290680b941610d9cccc   \n",
       "869       Python  b64e5919715f8dee546fbfc5049f8ec1574c2567   \n",
       "1013        Rust  106bcb73bcfe1c3887795a6fa2b106c665df3d56   \n",
       "372           Go  f73d059d80af7028531a12d76fb37fe4ea01254f   \n",
       "132          C++  cabba0f15882317a5bf891b92e596b32761a13ca   \n",
       "934         Rust  d8cb44036919a264c55f919609f208911a348de1   \n",
       "120          C++  d37a9319ecd1723c7d50d63a87fb0d3b12a8f915   \n",
       "1018        Rust  c48586de08c678b506f74d5a394baf3a8d15256a   \n",
       "1172  TypeScript  7c02152e1ed348789f249d1755918721a7b22333   \n",
       "\n",
       "                                             commit_url  label           user  \\\n",
       "781   https://github.com/django/django/commit/a2479f...      0         django   \n",
       "126   https://github.com/ocornut/imgui/commit/6662fe...      0        ocornut   \n",
       "1323  https://github.com/apache/echarts/commit/177f1...      0         apache   \n",
       "683   https://github.com/chartjs/Chart.js/commit/ec7...      0        chartjs   \n",
       "871   https://github.com/ansible/ansible/commit/daf4...      0        ansible   \n",
       "681   https://github.com/chartjs/Chart.js/commit/8f6...      0        chartjs   \n",
       "1402                                                NaN      0         apache   \n",
       "1072  https://github.com/bevyengine/bevy/commit/33a4...      0     bevyengine   \n",
       "552   https://github.com/axios/axios/commit/0c7236b2...      0          axios   \n",
       "395   https://github.com/Dreamacro/clash/commit/7b48...      0      Dreamacro   \n",
       "401   https://github.com/v2ray/v2ray-core/commit/ed0...      1          v2ray   \n",
       "907   https://github.com/denoland/deno/commit/e67010...      1       denoland   \n",
       "1385                                                NaN      1         apache   \n",
       "448   https://github.com/FiloSottile/mkcert/commit/8...      1    FiloSottile   \n",
       "653   https://github.com/webpack/webpack/commit/145c...      1        webpack   \n",
       "463   https://github.com/minio/minio/commit/73890f31...      1          minio   \n",
       "1052  https://github.com/dani-garcia/vaultwarden/com...      1    dani-garcia   \n",
       "1442                                                NaN      1        elastic   \n",
       "1502                                                NaN      1      JetBrains   \n",
       "1370                                                NaN      1       ponsonio   \n",
       "1292  https://github.com/vitejs/vite/commit/de714085...      2         vitejs   \n",
       "1215  https://github.com/gothinkster/realworld/commi...      2    gothinkster   \n",
       "869   https://github.com/keras-team/keras/commit/b64...      2     keras-team   \n",
       "1013  https://github.com/starship/starship/commit/10...      2       starship   \n",
       "372   https://github.com/etcd-io/etcd/commit/f73d059...      2        etcd-io   \n",
       "132   https://github.com/ocornut/imgui/commit/cabba0...      2        ocornut   \n",
       "934   https://github.com/tauri-apps/tauri/commit/d8c...      2     tauri-apps   \n",
       "120   https://github.com/tesseract-ocr/tesseract/com...      2  tesseract-ocr   \n",
       "1018  https://github.com/sharkdp/fd/commit/c48586de0...      2        sharkdp   \n",
       "1172  https://github.com/mui/material-ui/commit/7c02...      2            mui   \n",
       "\n",
       "                    repo                                            feature  \\\n",
       "781               django  [3, 13, 0, 3, 1, 0, 0, 1, 5, 0, 0, 0, 0, 0, 0,...   \n",
       "126                imgui  [1, 1, 0, 0, 0, 0, 0, 0, 0, 0, 0, 0, 0, 0, 0, ...   \n",
       "1323             echarts  [1, 0, 0, 1, 0, 1, 2, 0, 0, 0, 0, 0, 0, 0, 0, ...   \n",
       "683             Chart.js  [1, 6, 0, 0, 2, 0, 0, 2, 34, 0, 0, 0, 0, 0, 0,...   \n",
       "871              ansible  [0, 0, 0, 0, 0, 0, 0, 0, 0, 0, 0, 0, 0, 0, 0, ...   \n",
       "681             Chart.js  [1, 0, 0, 1, 0, 0, 0, 0, 0, 0, 0, 0, 0, 0, 0, ...   \n",
       "1402               hbase  [0, 0, 0, 0, 0, 0, 0, 1, 4, 0, 0, 2, 0, 0, 0, ...   \n",
       "1072                bevy  [2, 9, 12, 15, 1, 1, 1, 0, 0, 0, 0, 0, 0, 0, 0...   \n",
       "552                axios  [1, 1, 0, 2, 0, 0, 0, 0, 0, 0, 0, 0, 0, 0, 0, ...   \n",
       "395                clash  [9, 43, 14, 26, 1, 0, 0, 0, 0, 0, 0, 0, 0, 0, ...   \n",
       "401           v2ray-core  [3, 49, 2, 8, 0, 0, 0, 2, 29, 0, 2, 0, 0, 0, 0...   \n",
       "907                 deno  [2, 25, 1, 7, 0, 0, 0, 2, 35, 0, 0, 0, 0, 0, 0...   \n",
       "1385               hbase  [1, 0, 0, 1, 0, 0, 0, 0, 0, 0, 0, 0, 0, 0, 0, ...   \n",
       "448               mkcert  [1, 9, 6, 6, 0, 0, 0, 0, 0, 0, 0, 0, 0, 0, 0, ...   \n",
       "653              webpack  [1, 15, 0, 0, 0, 0, 0, 0, 0, 0, 0, 0, 0, 0, 0,...   \n",
       "463                minio  [1, 18, 0, 0, 16, 0, 0, 0, 0, 0, 0, 0, 0, 0, 0...   \n",
       "1052         vaultwarden  [1, 34, 0, 10, 1, 3, 1, 0, 0, 0, 0, 0, 0, 0, 0...   \n",
       "1442       elasticsearch  [0, 0, 0, 0, 0, 0, 0, 2, 38, 0, 0, 27, 0, 0, 0...   \n",
       "1502  intellij-community  [7, 295, 156, 82, 6, 0, 2, 0, 0, 0, 0, 0, 0, 0...   \n",
       "1370              RxJava  [1, 18, 0, 0, 17, 0, 0, 1, 27, 0, 0, 0, 0, 0, ...   \n",
       "1292                vite  [1, 0, 0, 2, 0, 0, 0, 0, 0, 0, 0, 0, 0, 0, 0, ...   \n",
       "1215           realworld  [0, 0, 0, 0, 0, 0, 0, 0, 0, 0, 0, 0, 0, 0, 0, ...   \n",
       "869                keras  [1, 0, 0, 3, 0, 0, 0, 0, 0, 0, 0, 0, 0, 0, 0, ...   \n",
       "1013            starship  [1, 1, 0, 1, 1, 0, 0, 0, 0, 0, 0, 0, 0, 0, 0, ...   \n",
       "372                 etcd  [1, 16, 16, 0, 4, 4, 0, 0, 0, 0, 0, 0, 0, 0, 0...   \n",
       "132                imgui  [0, 0, 0, 0, 0, 0, 0, 0, 0, 0, 0, 0, 0, 0, 0, ...   \n",
       "934                tauri  [0, 0, 0, 0, 0, 0, 0, 0, 0, 0, 0, 0, 0, 0, 0, ...   \n",
       "120            tesseract  [1, 0, 6, 0, 0, 0, 0, 0, 0, 0, 0, 0, 0, 0, 0, ...   \n",
       "1018                  fd  [0, 0, 0, 0, 0, 0, 0, 0, 0, 0, 0, 0, 0, 0, 0, ...   \n",
       "1172         material-ui  [1, 48, 49, 0, 1, 1, 0, 0, 0, 0, 0, 0, 0, 0, 0...   \n",
       "\n",
       "                                                  diffs  \\\n",
       "781   diff --git a/django/contrib/auth/migrations/00...   \n",
       "126   diff --git a/stb_truetype.h b/stb_truetype.h\\n...   \n",
       "1323  diff --git a/src/component/toolbox/feature/Sav...   \n",
       "683   diff --git a/src/controllers/controller.scatte...   \n",
       "871   diff --git a/library/packaging/pip b/library/p...   \n",
       "681   diff --git a/src/elements/element.point.js b/s...   \n",
       "1402  diff --git a/CHANGES.txt b/CHANGES.txt\\nindex ...   \n",
       "1072  diff --git a/crates/bevy_text/src/lib.rs b/cra...   \n",
       "552   diff --git a/lib/axios.js b/lib/axios.js\\ninde...   \n",
       "395   diff --git a/adapters/outbound/base.go b/adapt...   \n",
       "401   diff --git a/common/net/json/host.go b/common/...   \n",
       "907   diff --git a/cli/file_fetcher.rs b/cli/file_fe...   \n",
       "1385  diff --git a/src/main/java/org/apache/hadoop/h...   \n",
       "448   diff --git a/truststore_nss.go b/truststore_ns...   \n",
       "653   diff --git a/lib/dependencies/DelegatedExports...   \n",
       "463   diff --git a/.goreleaser.yml b/.goreleaser.yml...   \n",
       "1052  diff --git a/src/api/core/organizations.rs b/s...   \n",
       "1442  diff --git a/src/test/java/org/elasticsearch/t...   \n",
       "1502  diff --git a/platform-resources/src/META-INF/X...   \n",
       "1370  diff --git a/src/main/java/rx/Single.java b/sr...   \n",
       "1292  diff --git a/packages/plugin-legacy/index.js b...   \n",
       "1215  diff --git a/api/openapi.yml b/api/openapi.yml...   \n",
       "869   diff --git a/keras/layers/recurrent.py b/keras...   \n",
       "1013  diff --git a/src/main.rs b/src/main.rs\\nindex ...   \n",
       "372   diff --git a/raft/raft.go b/raft/raft.go\\ninde...   \n",
       "132   diff --git a/README.md b/README.md\\nindex 8a9e...   \n",
       "934   diff --git a/examples/svelte/svelte-app/packag...   \n",
       "120   diff --git a/include/tesseract/capi.h b/includ...   \n",
       "1018  diff --git a/CHANGELOG.md b/CHANGELOG.md\\ninde...   \n",
       "1172  diff --git a/docs/pages/index.tsx b/docs/pages...   \n",
       "\n",
       "                                                   text  \n",
       "781   Fixed #7220 -- Allowed AbstractBaseUser.last_l...  \n",
       "126   stb_truetype: Fixed unused variable warnings f...  \n",
       "1323  fix(toolbox): remove outer link and fix issues...  \n",
       "683   Fix toggling showLine option on scatter contro...  \n",
       "871   fixes case where name is omitted from pip arg ...  \n",
       "681                                Fix jshint issue\\n\\n  \n",
       "1402  HBASE-2757. Fix flaky TestFromClientSide test ...  \n",
       "1072  Update layout/style when scale factor changes ...  \n",
       "552          Fixing issue referencing wrong headers\\n\\n  \n",
       "395                            Fix: vmess udp crash\\n\\n  \n",
       "401   support domain as host in VMess outbound confi...  \n",
       "907   feat(cli/compile): Support data uri dynamic im...  \n",
       "1385  HBASE-2889 Tool to look at HLogs -- parse and-...  \n",
       "448   truststore_nss: support multiple NSS databases...  \n",
       "653   feat(DelegatedExportsDependency): make seriali...  \n",
       "463   add minisign verification for container builds...  \n",
       "1052  Implemented delete user from org and added che...  \n",
       "1442  Testing: Add test rule to repeat tests on bind...  \n",
       "1502  IDEADEV-11483 IE conditional comments support-...  \n",
       "1370                        Add Single.fromCallable()--  \n",
       "1292  fix(plugin-legacy): avoid executing blank dyna...  \n",
       "1215                 refactor: update openapi title\\n\\n  \n",
       "869   Fix misleading docstrings (#6052)\\n\\nPassing N...  \n",
       "1013                    Add authors to help message\\n\\n  \n",
       "372         raft: group configuration related funcs\\n\\n  \n",
       "132                                  Update README.md\\n  \n",
       "934   chore(examples) Update Svelte Examples (#321)\\...  \n",
       "120   Remove unused TessBaseAPIInit from capi.h\\n\\nS...  \n",
       "1018                            Add CHANGELOG entry\\n\\n  \n",
       "1172  [docs] Add author and published_time meta tags...  "
      ]
     },
     "execution_count": 17,
     "metadata": {},
     "output_type": "execute_result"
    }
   ],
   "source": [
    "train"
   ]
  },
  {
   "cell_type": "code",
   "execution_count": 18,
   "id": "d9ede869-1587-4e42-8879-e819e5961dca",
   "metadata": {
    "execution": {
     "iopub.execute_input": "2025-08-29T00:49:43.635691Z",
     "iopub.status.busy": "2025-08-29T00:49:43.635489Z",
     "iopub.status.idle": "2025-08-29T00:49:43.639140Z",
     "shell.execute_reply": "2025-08-29T00:49:43.638355Z",
     "shell.execute_reply.started": "2025-08-29T00:49:43.635670Z"
    }
   },
   "outputs": [],
   "source": [
    "model_id = \"../../sentence-transformers/paraphrase-mpnet-base-v2\""
   ]
  },
  {
   "cell_type": "code",
   "execution_count": 19,
   "id": "a6501389-0c86-442d-85cf-f04ad146703f",
   "metadata": {
    "execution": {
     "iopub.execute_input": "2025-08-29T00:49:43.640210Z",
     "iopub.status.busy": "2025-08-29T00:49:43.640010Z",
     "iopub.status.idle": "2025-08-29T00:49:43.645602Z",
     "shell.execute_reply": "2025-08-29T00:49:43.644789Z",
     "shell.execute_reply.started": "2025-08-29T00:49:43.640189Z"
    }
   },
   "outputs": [],
   "source": [
    "def hp_space(trial: Trial) -> Dict[str, Union[float, int, str]]:\n",
    "    return {\n",
    "        \"learning_rate\": trial.suggest_float(\"learning_rate\", 1e-6, 1e-3, log=True),\n",
    "        # \"num_epochs\": trial.suggest_int(\"num_epochs\", 1, 3),\n",
    "        # \"batch_size\": trial.suggest_categorical(\"batch_size\", [8, 12, 16]),\n",
    "        # \"seed\": trial.suggest_int(\"seed\", 1, 40),\n",
    "        # \"num_iterations\": trial.suggest_int(\"num_iterations\", 10, 20),\n",
    "        # \"solver\": trial.suggest_categorical(\"solver\", [\"newton-cg\", \"lbfgs\", \"liblinear\"]),\n",
    "    }\n",
    "def model_init(params: Dict[str, Any]) -> CommitFitModel:\n",
    "    params = params or {}\n",
    "    # learning_rate = params.get(\"learning_rate\")\n",
    "    # num_iterations = params.get(\"num_iterations\", 20)\n",
    "    # solver = params.get(\"solver\", \"liblinear\")\n",
    "    # params = {\n",
    "    #     \"head_params\": {\n",
    "    #         # \"max_iter\": num_iterations,\n",
    "    #         # \"solver\": solver,\n",
    "    #     }\n",
    "    # }\n",
    "    return CommitFitModel.from_pretrained(model_id, **params)\n",
    "def my_compute_objective(metrics):\n",
    "    print('+++++++++++',metrics)\n",
    "    return  metrics['accuracy']"
   ]
  },
  {
   "cell_type": "code",
   "execution_count": 20,
   "id": "2244f079-c2b8-4e01-aca4-f68e7ce8accb",
   "metadata": {
    "execution": {
     "iopub.execute_input": "2025-08-29T00:49:43.646698Z",
     "iopub.status.busy": "2025-08-29T00:49:43.646486Z",
     "iopub.status.idle": "2025-08-29T00:51:41.446625Z",
     "shell.execute_reply": "2025-08-29T00:51:41.445285Z",
     "shell.execute_reply.started": "2025-08-29T00:49:43.646677Z"
    }
   },
   "outputs": [
    {
     "name": "stderr",
     "output_type": "stream",
     "text": [
      "model_head.pkl not found in /root/autodl-tmp/CommitFit/sentence-transformers/paraphrase-mpnet-base-v2, initialising classification head with random weights. You should TRAIN this model on a downstream task to use it for predictions and inference.\n",
      "[I 2025-08-29 08:49:44,977] A new study created in memory with name: no-name-0b891198-8559-4e4e-865c-1fc872ba77d8\n",
      "Trial: {'learning_rate': 0.00013823293406215343}\n",
      "model_head.pkl not found in /root/autodl-tmp/CommitFit/sentence-transformers/paraphrase-mpnet-base-v2, initialising classification head with random weights. You should TRAIN this model on a downstream task to use it for predictions and inference.\n"
     ]
    },
    {
     "data": {
      "application/vnd.jupyter.widget-view+json": {
       "model_id": "0ef1b55cdbba448caa3dcb04deb9b387",
       "version_major": 2,
       "version_minor": 0
      },
      "text/plain": [
       "Generating Training Pairs:   0%|          | 0/20 [00:00<?, ?it/s]"
      ]
     },
     "metadata": {},
     "output_type": "display_data"
    },
    {
     "name": "stderr",
     "output_type": "stream",
     "text": [
      "***** Running training *****\n",
      "  Num examples = 2160\n",
      "  Num epochs = 1\n",
      "  Total optimization steps = 135\n",
      "  Total train batch size = 16\n"
     ]
    },
    {
     "data": {
      "application/vnd.jupyter.widget-view+json": {
       "model_id": "28766de3d97545d19d1f7faf678f36e7",
       "version_major": 2,
       "version_minor": 0
      },
      "text/plain": [
       "Epoch:   0%|          | 0/1 [00:00<?, ?it/s]"
      ]
     },
     "metadata": {},
     "output_type": "display_data"
    },
    {
     "data": {
      "application/vnd.jupyter.widget-view+json": {
       "model_id": "077c3360a98e4f328bf0fc60a812ff86",
       "version_major": 2,
       "version_minor": 0
      },
      "text/plain": [
       "Iteration:   0%|          | 0/135 [00:00<?, ?it/s]"
      ]
     },
     "metadata": {},
     "output_type": "display_data"
    },
    {
     "name": "stderr",
     "output_type": "stream",
     "text": [
      "***** Running evaluation *****\n",
      "[I 2025-08-29 08:50:09,538] Trial 0 finished with value: 0.479 and parameters: {'learning_rate': 0.00013823293406215343}. Best is trial 0 with value: 0.479.\n",
      "Trial: {'learning_rate': 1.0542490439775975e-06}\n"
     ]
    },
    {
     "name": "stdout",
     "output_type": "stream",
     "text": [
      "Confusion Matrix:\n",
      " [[36  4 11]\n",
      " [11 16  5]\n",
      " [49 44 62]]\n",
      "              precision    recall  f1-score   support\n",
      "\n",
      "           0     0.3750    0.7059    0.4898        51\n",
      "           1     0.2500    0.5000    0.3333        32\n",
      "           2     0.7949    0.4000    0.5322       155\n",
      "\n",
      "    accuracy                         0.4790       238\n",
      "   macro avg     0.4733    0.5353    0.4518       238\n",
      "weighted avg     0.6316    0.4790    0.4964       238\n",
      "\n",
      "+++++++++++ {'classification_report': '              precision    recall  f1-score   support\\n\\n           0     0.3750    0.7059    0.4898        51\\n           1     0.2500    0.5000    0.3333        32\\n           2     0.7949    0.4000    0.5322       155\\n\\n    accuracy                         0.4790       238\\n   macro avg     0.4733    0.5353    0.4518       238\\nweighted avg     0.6316    0.4790    0.4964       238\\n', 'Confusion Matrix': array([[36,  4, 11],\n",
      "       [11, 16,  5],\n",
      "       [49, 44, 62]]), 'precision': 0.4733, 'recall': 0.5353, 'f1': 0.4518, 'accuracy': 0.479}\n"
     ]
    },
    {
     "name": "stderr",
     "output_type": "stream",
     "text": [
      "model_head.pkl not found in /root/autodl-tmp/CommitFit/sentence-transformers/paraphrase-mpnet-base-v2, initialising classification head with random weights. You should TRAIN this model on a downstream task to use it for predictions and inference.\n"
     ]
    },
    {
     "data": {
      "application/vnd.jupyter.widget-view+json": {
       "model_id": "8abc6d3d7f2a4fd5a36f836d361cab7c",
       "version_major": 2,
       "version_minor": 0
      },
      "text/plain": [
       "Generating Training Pairs:   0%|          | 0/20 [00:00<?, ?it/s]"
      ]
     },
     "metadata": {},
     "output_type": "display_data"
    },
    {
     "name": "stderr",
     "output_type": "stream",
     "text": [
      "***** Running training *****\n",
      "  Num examples = 2160\n",
      "  Num epochs = 1\n",
      "  Total optimization steps = 135\n",
      "  Total train batch size = 16\n"
     ]
    },
    {
     "data": {
      "application/vnd.jupyter.widget-view+json": {
       "model_id": "09c30c6c46fc409ebe14c96b9f7ccfe0",
       "version_major": 2,
       "version_minor": 0
      },
      "text/plain": [
       "Epoch:   0%|          | 0/1 [00:00<?, ?it/s]"
      ]
     },
     "metadata": {},
     "output_type": "display_data"
    },
    {
     "data": {
      "application/vnd.jupyter.widget-view+json": {
       "model_id": "32216a370cce43cba8b5cc42d47ba2c6",
       "version_major": 2,
       "version_minor": 0
      },
      "text/plain": [
       "Iteration:   0%|          | 0/135 [00:00<?, ?it/s]"
      ]
     },
     "metadata": {},
     "output_type": "display_data"
    },
    {
     "name": "stderr",
     "output_type": "stream",
     "text": [
      "***** Running evaluation *****\n",
      "[I 2025-08-29 08:50:32,389] Trial 1 finished with value: 0.5 and parameters: {'learning_rate': 1.0542490439775975e-06}. Best is trial 1 with value: 0.5.\n",
      "Trial: {'learning_rate': 9.033964275137326e-06}\n"
     ]
    },
    {
     "name": "stdout",
     "output_type": "stream",
     "text": [
      "Confusion Matrix:\n",
      " [[37  8  6]\n",
      " [ 6 20  6]\n",
      " [54 39 62]]\n",
      "              precision    recall  f1-score   support\n",
      "\n",
      "           0     0.3814    0.7255    0.5000        51\n",
      "           1     0.2985    0.6250    0.4040        32\n",
      "           2     0.8378    0.4000    0.5415       155\n",
      "\n",
      "    accuracy                         0.5000       238\n",
      "   macro avg     0.5059    0.5835    0.4818       238\n",
      "weighted avg     0.6675    0.5000    0.5141       238\n",
      "\n",
      "+++++++++++ {'classification_report': '              precision    recall  f1-score   support\\n\\n           0     0.3814    0.7255    0.5000        51\\n           1     0.2985    0.6250    0.4040        32\\n           2     0.8378    0.4000    0.5415       155\\n\\n    accuracy                         0.5000       238\\n   macro avg     0.5059    0.5835    0.4818       238\\nweighted avg     0.6675    0.5000    0.5141       238\\n', 'Confusion Matrix': array([[37,  8,  6],\n",
      "       [ 6, 20,  6],\n",
      "       [54, 39, 62]]), 'precision': 0.5059, 'recall': 0.5835, 'f1': 0.4818, 'accuracy': 0.5}\n"
     ]
    },
    {
     "name": "stderr",
     "output_type": "stream",
     "text": [
      "model_head.pkl not found in /root/autodl-tmp/CommitFit/sentence-transformers/paraphrase-mpnet-base-v2, initialising classification head with random weights. You should TRAIN this model on a downstream task to use it for predictions and inference.\n"
     ]
    },
    {
     "data": {
      "application/vnd.jupyter.widget-view+json": {
       "model_id": "c52c1cb9ca314fcb88881dc8c89a11ca",
       "version_major": 2,
       "version_minor": 0
      },
      "text/plain": [
       "Generating Training Pairs:   0%|          | 0/20 [00:00<?, ?it/s]"
      ]
     },
     "metadata": {},
     "output_type": "display_data"
    },
    {
     "name": "stderr",
     "output_type": "stream",
     "text": [
      "***** Running training *****\n",
      "  Num examples = 2160\n",
      "  Num epochs = 1\n",
      "  Total optimization steps = 135\n",
      "  Total train batch size = 16\n"
     ]
    },
    {
     "data": {
      "application/vnd.jupyter.widget-view+json": {
       "model_id": "1f1026c51c634a7e8178f508299a2f12",
       "version_major": 2,
       "version_minor": 0
      },
      "text/plain": [
       "Epoch:   0%|          | 0/1 [00:00<?, ?it/s]"
      ]
     },
     "metadata": {},
     "output_type": "display_data"
    },
    {
     "data": {
      "application/vnd.jupyter.widget-view+json": {
       "model_id": "1244e5d371cc42bd97925e2f0a13873e",
       "version_major": 2,
       "version_minor": 0
      },
      "text/plain": [
       "Iteration:   0%|          | 0/135 [00:00<?, ?it/s]"
      ]
     },
     "metadata": {},
     "output_type": "display_data"
    },
    {
     "name": "stderr",
     "output_type": "stream",
     "text": [
      "***** Running evaluation *****\n",
      "[I 2025-08-29 08:50:54,316] Trial 2 finished with value: 0.5042 and parameters: {'learning_rate': 9.033964275137326e-06}. Best is trial 2 with value: 0.5042.\n",
      "Trial: {'learning_rate': 1.1761928587004012e-06}\n"
     ]
    },
    {
     "name": "stdout",
     "output_type": "stream",
     "text": [
      "Confusion Matrix:\n",
      " [[38  6  7]\n",
      " [ 1 23  8]\n",
      " [36 60 59]]\n",
      "              precision    recall  f1-score   support\n",
      "\n",
      "           0     0.5067    0.7451    0.6032        51\n",
      "           1     0.2584    0.7188    0.3802        32\n",
      "           2     0.7973    0.3806    0.5153       155\n",
      "\n",
      "    accuracy                         0.5042       238\n",
      "   macro avg     0.5208    0.6148    0.4995       238\n",
      "weighted avg     0.6626    0.5042    0.5160       238\n",
      "\n",
      "+++++++++++ {'classification_report': '              precision    recall  f1-score   support\\n\\n           0     0.5067    0.7451    0.6032        51\\n           1     0.2584    0.7188    0.3802        32\\n           2     0.7973    0.3806    0.5153       155\\n\\n    accuracy                         0.5042       238\\n   macro avg     0.5208    0.6148    0.4995       238\\nweighted avg     0.6626    0.5042    0.5160       238\\n', 'Confusion Matrix': array([[38,  6,  7],\n",
      "       [ 1, 23,  8],\n",
      "       [36, 60, 59]]), 'precision': 0.5208, 'recall': 0.6148, 'f1': 0.4995, 'accuracy': 0.5042}\n"
     ]
    },
    {
     "name": "stderr",
     "output_type": "stream",
     "text": [
      "model_head.pkl not found in /root/autodl-tmp/CommitFit/sentence-transformers/paraphrase-mpnet-base-v2, initialising classification head with random weights. You should TRAIN this model on a downstream task to use it for predictions and inference.\n"
     ]
    },
    {
     "data": {
      "application/vnd.jupyter.widget-view+json": {
       "model_id": "0488f15f72cf419b9c19efda665acdbb",
       "version_major": 2,
       "version_minor": 0
      },
      "text/plain": [
       "Generating Training Pairs:   0%|          | 0/20 [00:00<?, ?it/s]"
      ]
     },
     "metadata": {},
     "output_type": "display_data"
    },
    {
     "name": "stderr",
     "output_type": "stream",
     "text": [
      "***** Running training *****\n",
      "  Num examples = 2160\n",
      "  Num epochs = 1\n",
      "  Total optimization steps = 135\n",
      "  Total train batch size = 16\n"
     ]
    },
    {
     "data": {
      "application/vnd.jupyter.widget-view+json": {
       "model_id": "29e7bf5cd90240dc977c7195172d8f8a",
       "version_major": 2,
       "version_minor": 0
      },
      "text/plain": [
       "Epoch:   0%|          | 0/1 [00:00<?, ?it/s]"
      ]
     },
     "metadata": {},
     "output_type": "display_data"
    },
    {
     "data": {
      "application/vnd.jupyter.widget-view+json": {
       "model_id": "192a51e01855449c8e16f6a276bbcda9",
       "version_major": 2,
       "version_minor": 0
      },
      "text/plain": [
       "Iteration:   0%|          | 0/135 [00:00<?, ?it/s]"
      ]
     },
     "metadata": {},
     "output_type": "display_data"
    },
    {
     "name": "stderr",
     "output_type": "stream",
     "text": [
      "***** Running evaluation *****\n",
      "[I 2025-08-29 08:51:17,728] Trial 3 finished with value: 0.5 and parameters: {'learning_rate': 1.1761928587004012e-06}. Best is trial 2 with value: 0.5042.\n",
      "Trial: {'learning_rate': 2.1846380144634098e-05}\n"
     ]
    },
    {
     "name": "stdout",
     "output_type": "stream",
     "text": [
      "Confusion Matrix:\n",
      " [[37  8  6]\n",
      " [ 6 20  6]\n",
      " [54 39 62]]\n",
      "              precision    recall  f1-score   support\n",
      "\n",
      "           0     0.3814    0.7255    0.5000        51\n",
      "           1     0.2985    0.6250    0.4040        32\n",
      "           2     0.8378    0.4000    0.5415       155\n",
      "\n",
      "    accuracy                         0.5000       238\n",
      "   macro avg     0.5059    0.5835    0.4818       238\n",
      "weighted avg     0.6675    0.5000    0.5141       238\n",
      "\n",
      "+++++++++++ {'classification_report': '              precision    recall  f1-score   support\\n\\n           0     0.3814    0.7255    0.5000        51\\n           1     0.2985    0.6250    0.4040        32\\n           2     0.8378    0.4000    0.5415       155\\n\\n    accuracy                         0.5000       238\\n   macro avg     0.5059    0.5835    0.4818       238\\nweighted avg     0.6675    0.5000    0.5141       238\\n', 'Confusion Matrix': array([[37,  8,  6],\n",
      "       [ 6, 20,  6],\n",
      "       [54, 39, 62]]), 'precision': 0.5059, 'recall': 0.5835, 'f1': 0.4818, 'accuracy': 0.5}\n"
     ]
    },
    {
     "name": "stderr",
     "output_type": "stream",
     "text": [
      "model_head.pkl not found in /root/autodl-tmp/CommitFit/sentence-transformers/paraphrase-mpnet-base-v2, initialising classification head with random weights. You should TRAIN this model on a downstream task to use it for predictions and inference.\n"
     ]
    },
    {
     "data": {
      "application/vnd.jupyter.widget-view+json": {
       "model_id": "0c8f10e3c8db4fa6af60fd63ffacb1a1",
       "version_major": 2,
       "version_minor": 0
      },
      "text/plain": [
       "Generating Training Pairs:   0%|          | 0/20 [00:00<?, ?it/s]"
      ]
     },
     "metadata": {},
     "output_type": "display_data"
    },
    {
     "name": "stderr",
     "output_type": "stream",
     "text": [
      "***** Running training *****\n",
      "  Num examples = 2160\n",
      "  Num epochs = 1\n",
      "  Total optimization steps = 135\n",
      "  Total train batch size = 16\n"
     ]
    },
    {
     "data": {
      "application/vnd.jupyter.widget-view+json": {
       "model_id": "585eb8c1306e428aa0a1cb08686cc7f7",
       "version_major": 2,
       "version_minor": 0
      },
      "text/plain": [
       "Epoch:   0%|          | 0/1 [00:00<?, ?it/s]"
      ]
     },
     "metadata": {},
     "output_type": "display_data"
    },
    {
     "data": {
      "application/vnd.jupyter.widget-view+json": {
       "model_id": "199984f5c7d248c682ae37f1c102c2a1",
       "version_major": 2,
       "version_minor": 0
      },
      "text/plain": [
       "Iteration:   0%|          | 0/135 [00:00<?, ?it/s]"
      ]
     },
     "metadata": {},
     "output_type": "display_data"
    },
    {
     "name": "stderr",
     "output_type": "stream",
     "text": [
      "***** Running evaluation *****\n",
      "[I 2025-08-29 08:51:41,440] Trial 4 finished with value: 0.5714 and parameters: {'learning_rate': 2.1846380144634098e-05}. Best is trial 4 with value: 0.5714.\n"
     ]
    },
    {
     "name": "stdout",
     "output_type": "stream",
     "text": [
      "Confusion Matrix:\n",
      " [[39  5  7]\n",
      " [ 1 22  9]\n",
      " [30 50 75]]\n",
      "              precision    recall  f1-score   support\n",
      "\n",
      "           0     0.5571    0.7647    0.6446        51\n",
      "           1     0.2857    0.6875    0.4037        32\n",
      "           2     0.8242    0.4839    0.6098       155\n",
      "\n",
      "    accuracy                         0.5714       238\n",
      "   macro avg     0.5557    0.6454    0.5527       238\n",
      "weighted avg     0.6946    0.5714    0.5895       238\n",
      "\n",
      "+++++++++++ {'classification_report': '              precision    recall  f1-score   support\\n\\n           0     0.5571    0.7647    0.6446        51\\n           1     0.2857    0.6875    0.4037        32\\n           2     0.8242    0.4839    0.6098       155\\n\\n    accuracy                         0.5714       238\\n   macro avg     0.5557    0.6454    0.5527       238\\nweighted avg     0.6946    0.5714    0.5895       238\\n', 'Confusion Matrix': array([[39,  5,  7],\n",
      "       [ 1, 22,  9],\n",
      "       [30, 50, 75]]), 'precision': 0.5557, 'recall': 0.6454, 'f1': 0.5527, 'accuracy': 0.5714}\n"
     ]
    }
   ],
   "source": [
    "trainer = CommitFitTrainer(\n",
    "    train_dataset=train_dataset,\n",
    "    train_code_change = train_code_change,\n",
    "    test_code_change = test_code_change,\n",
    "    eval_dataset=test_dataset,\n",
    "    model_init=model_init,\n",
    "    metric = compute_metrics,\n",
    "    num_iterations=20,\n",
    "    num_epochs=1\n",
    ")\n",
    "best_run = trainer.hyperparameter_search(direction=\"maximize\", hp_space=hp_space, compute_objective=my_compute_objective, n_trials=5)"
   ]
  },
  {
   "cell_type": "code",
   "execution_count": 21,
   "id": "91deb34e-2ef0-4f00-b6e7-7ffd18605c52",
   "metadata": {
    "execution": {
     "iopub.execute_input": "2025-08-29T00:51:41.449440Z",
     "iopub.status.busy": "2025-08-29T00:51:41.448427Z",
     "iopub.status.idle": "2025-08-29T00:51:41.457354Z",
     "shell.execute_reply": "2025-08-29T00:51:41.456434Z",
     "shell.execute_reply.started": "2025-08-29T00:51:41.449411Z"
    }
   },
   "outputs": [
    {
     "data": {
      "text/plain": [
       "BestRun(run_id='4', objective=0.5714, hyperparameters={'learning_rate': 2.1846380144634098e-05}, backend=<optuna.study.study.Study object at 0x7f9c83023a60>)"
      ]
     },
     "execution_count": 21,
     "metadata": {},
     "output_type": "execute_result"
    }
   ],
   "source": [
    "best_run"
   ]
  },
  {
   "cell_type": "code",
   "execution_count": 22,
   "id": "40cfde46-c7d5-4446-8b53-7ad4dc8edb66",
   "metadata": {
    "execution": {
     "iopub.execute_input": "2025-08-29T00:51:41.458858Z",
     "iopub.status.busy": "2025-08-29T00:51:41.458638Z",
     "iopub.status.idle": "2025-08-29T00:51:41.464087Z",
     "shell.execute_reply": "2025-08-29T00:51:41.463271Z",
     "shell.execute_reply.started": "2025-08-29T00:51:41.458836Z"
    }
   },
   "outputs": [
    {
     "data": {
      "text/plain": [
       "{'learning_rate': 2.1846380144634098e-05}"
      ]
     },
     "execution_count": 22,
     "metadata": {},
     "output_type": "execute_result"
    }
   ],
   "source": [
    "best_run.hyperparameters"
   ]
  },
  {
   "cell_type": "code",
   "execution_count": 23,
   "id": "ae735a8b-c672-4dce-822c-61330c34481b",
   "metadata": {
    "execution": {
     "iopub.execute_input": "2025-08-29T00:51:41.465405Z",
     "iopub.status.busy": "2025-08-29T00:51:41.465199Z",
     "iopub.status.idle": "2025-08-29T00:51:57.871072Z",
     "shell.execute_reply": "2025-08-29T00:51:57.869594Z",
     "shell.execute_reply.started": "2025-08-29T00:51:41.465385Z"
    }
   },
   "outputs": [
    {
     "name": "stderr",
     "output_type": "stream",
     "text": [
      "model_head.pkl not found in /root/autodl-tmp/CommitFit/sentence-transformers/paraphrase-mpnet-base-v2, initialising classification head with random weights. You should TRAIN this model on a downstream task to use it for predictions and inference.\n"
     ]
    },
    {
     "data": {
      "application/vnd.jupyter.widget-view+json": {
       "model_id": "1076cc4af42a4656acb4961c91ef8d3b",
       "version_major": 2,
       "version_minor": 0
      },
      "text/plain": [
       "Generating Training Pairs:   0%|          | 0/20 [00:00<?, ?it/s]"
      ]
     },
     "metadata": {},
     "output_type": "display_data"
    },
    {
     "name": "stderr",
     "output_type": "stream",
     "text": [
      "***** Running training *****\n",
      "  Num examples = 2160\n",
      "  Num epochs = 1\n",
      "  Total optimization steps = 135\n",
      "  Total train batch size = 16\n"
     ]
    },
    {
     "data": {
      "application/vnd.jupyter.widget-view+json": {
       "model_id": "72c94abe51cb466591c979cb79596357",
       "version_major": 2,
       "version_minor": 0
      },
      "text/plain": [
       "Epoch:   0%|          | 0/1 [00:00<?, ?it/s]"
      ]
     },
     "metadata": {},
     "output_type": "display_data"
    },
    {
     "data": {
      "application/vnd.jupyter.widget-view+json": {
       "model_id": "435e61ee9e724108b9889c09822a9bb9",
       "version_major": 2,
       "version_minor": 0
      },
      "text/plain": [
       "Iteration:   0%|          | 0/135 [00:00<?, ?it/s]"
      ]
     },
     "metadata": {},
     "output_type": "display_data"
    }
   ],
   "source": [
    "trainer.apply_hyperparameters(best_run.hyperparameters, final_model=True)\n",
    "trainer.train()"
   ]
  },
  {
   "cell_type": "code",
   "execution_count": 24,
   "id": "166dcf9b-a0bd-4b60-854c-c6535c22a111",
   "metadata": {
    "execution": {
     "iopub.execute_input": "2025-08-29T00:51:57.873217Z",
     "iopub.status.busy": "2025-08-29T00:51:57.872950Z",
     "iopub.status.idle": "2025-08-29T00:52:05.194522Z",
     "shell.execute_reply": "2025-08-29T00:52:05.193664Z",
     "shell.execute_reply.started": "2025-08-29T00:51:57.873189Z"
    }
   },
   "outputs": [
    {
     "name": "stderr",
     "output_type": "stream",
     "text": [
      "***** Running evaluation *****\n"
     ]
    },
    {
     "name": "stdout",
     "output_type": "stream",
     "text": [
      "Confusion Matrix:\n",
      " [[39  2 10]\n",
      " [ 1 21 10]\n",
      " [30 42 83]]\n",
      "              precision    recall  f1-score   support\n",
      "\n",
      "           0     0.5571    0.7647    0.6446        51\n",
      "           1     0.3231    0.6562    0.4330        32\n",
      "           2     0.8058    0.5355    0.6434       155\n",
      "\n",
      "    accuracy                         0.6008       238\n",
      "   macro avg     0.5620    0.6521    0.5737       238\n",
      "weighted avg     0.6876    0.6008    0.6154       238\n",
      "\n"
     ]
    },
    {
     "data": {
      "text/plain": [
       "{'classification_report': '              precision    recall  f1-score   support\\n\\n           0     0.5571    0.7647    0.6446        51\\n           1     0.3231    0.6562    0.4330        32\\n           2     0.8058    0.5355    0.6434       155\\n\\n    accuracy                         0.6008       238\\n   macro avg     0.5620    0.6521    0.5737       238\\nweighted avg     0.6876    0.6008    0.6154       238\\n',\n",
       " 'Confusion Matrix': array([[39,  2, 10],\n",
       "        [ 1, 21, 10],\n",
       "        [30, 42, 83]]),\n",
       " 'precision': 0.562,\n",
       " 'recall': 0.6521,\n",
       " 'f1': 0.5737,\n",
       " 'accuracy': 0.6008}"
      ]
     },
     "execution_count": 24,
     "metadata": {},
     "output_type": "execute_result"
    }
   ],
   "source": [
    "fewshot_metrics = trainer.evaluate()\n",
    "fewshot_metrics"
   ]
  },
  {
   "cell_type": "code",
   "execution_count": 25,
   "id": "af21aba7-66cd-4762-b5d4-6d27650bba7e",
   "metadata": {
    "execution": {
     "iopub.execute_input": "2025-08-29T00:52:05.196302Z",
     "iopub.status.busy": "2025-08-29T00:52:05.196042Z",
     "iopub.status.idle": "2025-08-29T00:52:06.163809Z",
     "shell.execute_reply": "2025-08-29T00:52:06.162569Z",
     "shell.execute_reply.started": "2025-08-29T00:52:05.196278Z"
    }
   },
   "outputs": [
    {
     "name": "stdout",
     "output_type": "stream",
     "text": [
      "强化学习模型训练完毕\n"
     ]
    }
   ],
   "source": [
    "#发送多种类型的邮件\n",
    "from email.mime.multipart import MIMEMultipart\n",
    "import smtplib\n",
    "\n",
    "from email.mime.text import MIMEText\n",
    "msg_from = '915803745@qq.com'  # 发送方邮箱\n",
    "passwd = 'vcuosuurrgkfbdai'   #就是上面的授权码\n",
    " \n",
    "# to= ['g.zhang@gotion.com', 'j.tong@gotion.com'] #接受方邮箱\n",
    "to= ['j.tong@gotion.com'] #接受方邮箱\n",
    "#设置邮件内容\n",
    "#MIMEMultipart类可以放任何内容\n",
    "msg = MIMEMultipart()\n",
    "conntent=f\"{fewshot_metrics}\"\n",
    "#把内容加进去\n",
    "msg.attach(MIMEText(conntent,'plain','utf-8'))\n",
    " \n",
    "#设置邮件主题\n",
    "msg['Subject']=\"强化学习模型训练完毕\"\n",
    " \n",
    "#发送方信息\n",
    "msg['From']=msg_from\n",
    " \n",
    "#开始发送\n",
    " \n",
    "#通过SSL方式发送，服务器地址和端口\n",
    "s = smtplib.SMTP_SSL(\"smtp.qq.com\", 465)\n",
    "# 登录邮箱\n",
    "s.login(msg_from, passwd)\n",
    "#开始发送\n",
    "s.sendmail(msg_from,to,msg.as_string())\n",
    "print(\"强化学习模型训练完毕\")"
   ]
  },
  {
   "cell_type": "code",
   "execution_count": null,
   "id": "025b5144-4d11-4fae-b716-5cb039470225",
   "metadata": {},
   "outputs": [],
   "source": []
  }
 ],
 "metadata": {
  "kernelspec": {
   "display_name": "Python 3 (ipykernel)",
   "language": "python",
   "name": "python3"
  },
  "language_info": {
   "codemirror_mode": {
    "name": "ipython",
    "version": 3
   },
   "file_extension": ".py",
   "mimetype": "text/x-python",
   "name": "python",
   "nbconvert_exporter": "python",
   "pygments_lexer": "ipython3",
   "version": "3.10.8"
  }
 },
 "nbformat": 4,
 "nbformat_minor": 5
}
