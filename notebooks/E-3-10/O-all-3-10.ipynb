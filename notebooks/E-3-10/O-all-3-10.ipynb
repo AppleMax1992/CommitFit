{
 "cells": [
  {
   "cell_type": "code",
   "execution_count": 1,
   "metadata": {
    "colab": {
     "base_uri": "https://localhost:8080/"
    },
    "execution": {
     "iopub.execute_input": "2024-05-26T09:46:58.112432Z",
     "iopub.status.busy": "2024-05-26T09:46:58.112135Z",
     "iopub.status.idle": "2024-05-26T09:47:02.440716Z",
     "shell.execute_reply": "2024-05-26T09:47:02.439757Z",
     "shell.execute_reply.started": "2024-05-26T09:46:58.112401Z"
    },
    "id": "JG4lmLOLa8fb",
    "outputId": "0a81f6e0-5050-46de-f0cc-7430e60374d9"
   },
   "outputs": [
    {
     "name": "stdout",
     "output_type": "stream",
     "text": [
      "\n",
      "CommitFit\n"
     ]
    }
   ],
   "source": [
    "# !pip install transformers accelerate\n",
    "from transformers import AutoTokenizer, AutoModel, EarlyStoppingCallback, AutoModelForSequenceClassification, AutoConfig,Trainer, TrainingArguments,DataCollatorWithPadding\n",
    "import torch\n",
    "import numpy as np\n",
    "import pandas as pd\n",
    "# !pip install datasets\n",
    "from datasets import load_metric\n",
    "# %pip install evaluate\n",
    "from evaluate import evaluator\n",
    "from sklearn.model_selection import train_test_split\n",
    "# from ipywidgets import FloatProgress\n",
    "import csv\n",
    "from optuna import Trial\n",
    "from typing import Dict, Union, Any\n",
    "import os\n",
    "import sys\n",
    "# notebook_login()\n",
    "\n",
    "csv.field_size_limit(500 * 1024 * 1024)\n",
    "CUDA_LAUNCH_BLOCKING=1\n",
    "# get pwd\n",
    "notebook_path = os.path.abspath('')\n",
    "\n",
    "# Find the part of the path that contains 'commitFit'\n",
    "commit_fit_path = None\n",
    "for part in notebook_path.split(os.sep):\n",
    "    print(part)\n",
    "    if 'CommitFit' in part:\n",
    "        commit_fit_path = notebook_path.split(part)[0] + part\n",
    "        break\n",
    "\n",
    "if commit_fit_path is None:\n",
    "    raise ValueError(\"Path containing 'commitFit' not found in notebook path.\")\n",
    "\n",
    "# Add commitFit directory to Python path, so we can import moudule from commitfit folder directly\n",
    "if commit_fit_path not in sys.path:\n",
    "    sys.path.append(commit_fit_path)\n",
    "\n",
    "from commitfit import CommitFitModel, CommitFitTrainer "
   ]
  },
  {
   "cell_type": "code",
   "execution_count": 2,
   "metadata": {
    "execution": {
     "iopub.execute_input": "2024-05-26T09:47:02.442244Z",
     "iopub.status.busy": "2024-05-26T09:47:02.441790Z",
     "iopub.status.idle": "2024-05-26T09:47:02.447013Z",
     "shell.execute_reply": "2024-05-26T09:47:02.446172Z",
     "shell.execute_reply.started": "2024-05-26T09:47:02.442211Z"
    },
    "id": "SntHNwOrbqr_"
   },
   "outputs": [],
   "source": [
    "# from google.colab import drive\n",
    "# drive.mount('/content/drive') ['Corrective','Adaptive','Perfective']\n",
    "label2id = {'a':'Adaptive','p':'Perfective','c':'Corrective'}"
   ]
  },
  {
   "cell_type": "code",
   "execution_count": null,
   "metadata": {
    "id": "jlocSyBKLI6T"
   },
   "outputs": [],
   "source": []
  },
  {
   "cell_type": "code",
   "execution_count": 3,
   "metadata": {
    "execution": {
     "iopub.execute_input": "2024-05-26T09:47:02.448337Z",
     "iopub.status.busy": "2024-05-26T09:47:02.447995Z",
     "iopub.status.idle": "2024-05-26T09:47:02.492445Z",
     "shell.execute_reply": "2024-05-26T09:47:02.491609Z",
     "shell.execute_reply.started": "2024-05-26T09:47:02.448308Z"
    },
    "id": "1yw6xXMxa8fm"
   },
   "outputs": [
    {
     "name": "stdout",
     "output_type": "stream",
     "text": [
      "1758\n"
     ]
    }
   ],
   "source": [
    "# df = pd.read_csv('D:\\IET software-CC-CL\\Commit Classification\\experiment\\Commit_dataset.csv', encoding=\"cp1252\")\n",
    "\n",
    "# label2id = {'a':'Adaptive','p':'Perfective','c':'Corrective'}\n",
    "# df = df.replace({\"3_labels\": label2id})\n",
    "# df = pd.read_csv(r'dataset.csv',engine=\"python\")\n",
    "# df['text'] = \"['DIFF]\" + df['diff']\n",
    "# # df = df.replace({\"2_labels\": label2id})\n",
    "# print(df)\n",
    "\n",
    "train = pd.read_csv('train.csv',index_col=0)\n",
    "train = train.rename(columns={'3_labels':'label','comment':'text'})\n",
    "train.fillna(0, inplace=True)\n",
    "test = pd.read_csv('test.csv',index_col=0)\n",
    "test = test.rename(columns={'3_labels':'label','comment':'text'})\n",
    "test.fillna(0, inplace=True)\n",
    "print(len(test))\n",
    "\n"
   ]
  },
  {
   "cell_type": "code",
   "execution_count": 4,
   "metadata": {
    "colab": {
     "base_uri": "https://localhost:8080/",
     "height": 904
    },
    "execution": {
     "iopub.execute_input": "2024-05-26T09:47:02.495502Z",
     "iopub.status.busy": "2024-05-26T09:47:02.495192Z",
     "iopub.status.idle": "2024-05-26T09:47:02.499643Z",
     "shell.execute_reply": "2024-05-26T09:47:02.498808Z",
     "shell.execute_reply.started": "2024-05-26T09:47:02.495472Z"
    },
    "id": "9WwAW7Mta8fn",
    "outputId": "db4a8fa6-fdc7-4894-ed64-54bd5abbd22f"
   },
   "outputs": [],
   "source": [
    "# df"
   ]
  },
  {
   "cell_type": "code",
   "execution_count": 5,
   "metadata": {
    "execution": {
     "iopub.execute_input": "2024-05-26T09:47:02.500926Z",
     "iopub.status.busy": "2024-05-26T09:47:02.500591Z",
     "iopub.status.idle": "2024-05-26T09:47:02.504763Z",
     "shell.execute_reply": "2024-05-26T09:47:02.503941Z",
     "shell.execute_reply.started": "2024-05-26T09:47:02.500896Z"
    },
    "id": "LK-PeOeAa8fp"
   },
   "outputs": [],
   "source": [
    "# 先来10条测试代码\n",
    "# train = df.sample(n=5, random_state=1)\n",
    "# train = df.groupby('3_labels').apply(lambda s: s.sample(5)).reset_index(drop=True)\n",
    "# df\n",
    "# train"
   ]
  },
  {
   "cell_type": "code",
   "execution_count": null,
   "metadata": {
    "id": "DGCy7duqA2t-"
   },
   "outputs": [],
   "source": []
  },
  {
   "cell_type": "code",
   "execution_count": null,
   "metadata": {
    "id": "1w7shBU6a8ft"
   },
   "outputs": [],
   "source": []
  },
  {
   "cell_type": "code",
   "execution_count": 6,
   "metadata": {
    "colab": {
     "base_uri": "https://localhost:8080/"
    },
    "execution": {
     "iopub.execute_input": "2024-05-26T09:47:02.506101Z",
     "iopub.status.busy": "2024-05-26T09:47:02.505751Z",
     "iopub.status.idle": "2024-05-26T09:47:02.510280Z",
     "shell.execute_reply": "2024-05-26T09:47:02.509349Z",
     "shell.execute_reply.started": "2024-05-26T09:47:02.506071Z"
    },
    "id": "S18mSYutwQCk",
    "outputId": "849de636-62e2-4ec0-886d-d9a22b9f434c"
   },
   "outputs": [],
   "source": [
    "from commitfit import get_templated_dataset,sample_dataset\n",
    "from datasets import Dataset, load_metric"
   ]
  },
  {
   "cell_type": "code",
   "execution_count": 7,
   "metadata": {
    "execution": {
     "iopub.execute_input": "2024-05-26T09:47:02.511731Z",
     "iopub.status.busy": "2024-05-26T09:47:02.511334Z",
     "iopub.status.idle": "2024-05-26T09:47:02.515681Z",
     "shell.execute_reply": "2024-05-26T09:47:02.514864Z",
     "shell.execute_reply.started": "2024-05-26T09:47:02.511697Z"
    },
    "id": "5NPg69ys3j-W"
   },
   "outputs": [],
   "source": [
    "# train = df.rename(columns={'3_labels':'label','comment':'text'})"
   ]
  },
  {
   "cell_type": "code",
   "execution_count": 8,
   "metadata": {
    "execution": {
     "iopub.execute_input": "2024-05-26T09:47:02.516964Z",
     "iopub.status.busy": "2024-05-26T09:47:02.516670Z",
     "iopub.status.idle": "2024-05-26T09:47:02.874917Z",
     "shell.execute_reply": "2024-05-26T09:47:02.873946Z",
     "shell.execute_reply.started": "2024-05-26T09:47:02.516933Z"
    },
    "id": "RjnQ68Jf4eAH"
   },
   "outputs": [],
   "source": [
    "Dataset_train = Dataset.from_pandas(train)\n",
    "test_dataset = Dataset.from_pandas(test)\n"
   ]
  },
  {
   "cell_type": "code",
   "execution_count": 9,
   "metadata": {
    "execution": {
     "iopub.execute_input": "2024-05-26T09:47:02.876293Z",
     "iopub.status.busy": "2024-05-26T09:47:02.875995Z",
     "iopub.status.idle": "2024-05-26T09:47:03.315488Z",
     "shell.execute_reply": "2024-05-26T09:47:03.314538Z",
     "shell.execute_reply.started": "2024-05-26T09:47:02.876262Z"
    },
    "id": "Rvd3m4EVa8fu"
   },
   "outputs": [],
   "source": [
    "train_dataset = get_templated_dataset(Dataset_train, candidate_labels=['Corrective','Adaptive','Perfective'], sample_size=8)"
   ]
  },
  {
   "cell_type": "code",
   "execution_count": 10,
   "metadata": {
    "colab": {
     "base_uri": "https://localhost:8080/"
    },
    "execution": {
     "iopub.execute_input": "2024-05-26T09:47:03.316852Z",
     "iopub.status.busy": "2024-05-26T09:47:03.316557Z",
     "iopub.status.idle": "2024-05-26T09:47:03.326151Z",
     "shell.execute_reply": "2024-05-26T09:47:03.325305Z",
     "shell.execute_reply.started": "2024-05-26T09:47:03.316821Z"
    },
    "id": "hkrCYmPZ77gx",
    "outputId": "ddcf93f4-5f71-4f98-8291-fd40c0b7d58e"
   },
   "outputs": [
    {
     "data": {
      "text/plain": [
       "Dataset({\n",
       "    features: ['commit_id', 'project', 'text', 'label', 'ADDING_ATTRIBUTE_MODIFIABILITY', 'ADDING_METHOD_OVERRIDABILITY', 'ADDITIONAL_CLASS', 'ADDITIONAL_FUNCTIONALITY', 'ADDITIONAL_OBJECT_STATE', 'ALTERNATIVE_PART_DELETE', 'ALTERNATIVE_PART_INSERT', 'ATTRIBUTE_RENAMING', 'ATTRIBUTE_TYPE_CHANGE', 'CLASS_RENAMING', 'COMMENT_DELETE', 'COMMENT_INSERT', 'COMMENT_MOVE', 'COMMENT_UPDATE', 'CONDITION_EXPRESSION_CHANGE', 'DECREASING_ACCESSIBILITY_CHANGE', 'DOC_DELETE', 'DOC_INSERT', 'DOC_UPDATE', 'INCREASING_ACCESSIBILITY_CHANGE', 'METHOD_RENAMING', 'PARAMETER_DELETE', 'PARAMETER_INSERT', 'PARAMETER_ORDERING_CHANGE', 'PARAMETER_RENAMING', 'PARAMETER_TYPE_CHANGE', 'PARENT_CLASS_CHANGE', 'PARENT_CLASS_DELETE', 'PARENT_CLASS_INSERT', 'PARENT_INTERFACE_CHANGE', 'PARENT_INTERFACE_DELETE', 'PARENT_INTERFACE_INSERT', 'REMOVED_CLASS', 'REMOVED_FUNCTIONALITY', 'REMOVED_OBJECT_STATE', 'REMOVING_ATTRIBUTE_MODIFIABILITY', 'REMOVING_CLASS_DERIVABILITY', 'REMOVING_METHOD_OVERRIDABILITY', 'RETURN_TYPE_CHANGE', 'RETURN_TYPE_DELETE', 'RETURN_TYPE_INSERT', 'STATEMENT_DELETE', 'STATEMENT_INSERT', 'STATEMENT_ORDERING_CHANGE', 'STATEMENT_PARENT_CHANGE', 'STATEMENT_UPDATE', 'add', 'allow', 'bug', 'chang', 'error', 'fail', 'fix', 'implement', 'improv', 'issu', 'method', 'new', 'npe', 'refactor', 'remov', 'report', 'set', 'support', 'test', 'use', 'Contains Bug Fix?', 'Extract Method', 'Inline Method', 'Move Method', 'Move Attribute', 'Pull up Method', 'Pull up Attribute', 'Push Down Method', 'Push Down Attribute', 'Extract Class', 'Extract Subclass', 'Extract Superclass', 'Extract Interface', 'Change Package', 'Extract Variable', 'Inline Variable', 'Parametrize Variable', 'Rename Variable', 'Replace Variable with Attribute', 'Change Variable Type', 'Move and Rename Class', 'Move Class', 'Extract and Move Method', 'Move Source Folder', '__index_level_0__'],\n",
       "    num_rows: 59\n",
       "})"
      ]
     },
     "execution_count": 10,
     "metadata": {},
     "output_type": "execute_result"
    }
   ],
   "source": [
    "# list(train['message'].astype(str).values)\n",
    "train_dataset"
   ]
  },
  {
   "cell_type": "code",
   "execution_count": 11,
   "metadata": {
    "colab": {
     "base_uri": "https://localhost:8080/"
    },
    "execution": {
     "iopub.execute_input": "2024-05-26T09:47:03.327465Z",
     "iopub.status.busy": "2024-05-26T09:47:03.327108Z",
     "iopub.status.idle": "2024-05-26T09:47:03.332879Z",
     "shell.execute_reply": "2024-05-26T09:47:03.332082Z",
     "shell.execute_reply.started": "2024-05-26T09:47:03.327436Z"
    },
    "id": "-ETd4LVFa8fv",
    "outputId": "18880e46-df57-4ebe-c04a-d30b300f324d"
   },
   "outputs": [
    {
     "data": {
      "text/plain": [
       "35"
      ]
     },
     "execution_count": 11,
     "metadata": {},
     "output_type": "execute_result"
    }
   ],
   "source": [
    "len(train)"
   ]
  },
  {
   "cell_type": "code",
   "execution_count": 12,
   "metadata": {
    "execution": {
     "iopub.execute_input": "2024-05-26T09:47:03.334094Z",
     "iopub.status.busy": "2024-05-26T09:47:03.333810Z",
     "iopub.status.idle": "2024-05-26T09:47:03.338187Z",
     "shell.execute_reply": "2024-05-26T09:47:03.337317Z",
     "shell.execute_reply.started": "2024-05-26T09:47:03.334065Z"
    },
    "id": "L_ChDWtCfXXK"
   },
   "outputs": [],
   "source": [
    "# encoded_train = tokenizer(train_dataset['text'].astype(str).to_list(), return_tensors='pt',truncation=True, padding=True)\n",
    "# print(encoded_train[\"input_ids\"].shape)\n",
    "# encoded_test = tokenizer(test['comment'].astype(str).to_list(), return_tensors='pt',truncation=True, padding=True)\n",
    "# print(encoded_test[\"input_ids\"].shape)\n",
    "# # encoded_val = tokenizer(val['comment'].astype(str).to_list(), return_tensors='pt',truncation=True, padding='max_length')"
   ]
  },
  {
   "cell_type": "code",
   "execution_count": 13,
   "metadata": {
    "execution": {
     "iopub.execute_input": "2024-05-26T09:47:03.342869Z",
     "iopub.status.busy": "2024-05-26T09:47:03.342562Z",
     "iopub.status.idle": "2024-05-26T09:47:03.346767Z",
     "shell.execute_reply": "2024-05-26T09:47:03.345865Z",
     "shell.execute_reply.started": "2024-05-26T09:47:03.342839Z"
    },
    "id": "yMgjvhIQa8fx"
   },
   "outputs": [],
   "source": [
    "# encoded_train"
   ]
  },
  {
   "cell_type": "code",
   "execution_count": 14,
   "metadata": {
    "colab": {
     "base_uri": "https://localhost:8080/"
    },
    "execution": {
     "iopub.execute_input": "2024-05-26T09:47:03.348106Z",
     "iopub.status.busy": "2024-05-26T09:47:03.347769Z",
     "iopub.status.idle": "2024-05-26T09:47:03.356272Z",
     "shell.execute_reply": "2024-05-26T09:47:03.355410Z",
     "shell.execute_reply.started": "2024-05-26T09:47:03.348078Z"
    },
    "id": "T9WsMyLQKrHF",
    "outputId": "4f4f2fc4-5fd5-4362-ba88-226899cc27cc"
   },
   "outputs": [
    {
     "data": {
      "text/plain": [
       "label\n",
       "Corrective    12\n",
       "Perfective    12\n",
       "Adaptive      11\n",
       "Name: count, dtype: int64"
      ]
     },
     "execution_count": 14,
     "metadata": {},
     "output_type": "execute_result"
    }
   ],
   "source": [
    "train['label'].value_counts()"
   ]
  },
  {
   "cell_type": "code",
   "execution_count": 15,
   "metadata": {
    "colab": {
     "base_uri": "https://localhost:8080/"
    },
    "execution": {
     "iopub.execute_input": "2024-05-26T09:47:03.357544Z",
     "iopub.status.busy": "2024-05-26T09:47:03.357206Z",
     "iopub.status.idle": "2024-05-26T09:47:03.364845Z",
     "shell.execute_reply": "2024-05-26T09:47:03.364032Z",
     "shell.execute_reply.started": "2024-05-26T09:47:03.357515Z"
    },
    "id": "jv-NZgirKsEr",
    "outputId": "8049c86e-4df7-4365-f807-057cf7af5aef"
   },
   "outputs": [
    {
     "data": {
      "text/plain": [
       "label\n",
       "Corrective    591\n",
       "Perfective    588\n",
       "Adaptive      579\n",
       "Name: count, dtype: int64"
      ]
     },
     "execution_count": 15,
     "metadata": {},
     "output_type": "execute_result"
    }
   ],
   "source": [
    "test['label'].value_counts()"
   ]
  },
  {
   "cell_type": "code",
   "execution_count": 16,
   "metadata": {
    "execution": {
     "iopub.execute_input": "2024-05-26T09:47:03.366119Z",
     "iopub.status.busy": "2024-05-26T09:47:03.365831Z",
     "iopub.status.idle": "2024-05-26T09:47:03.370050Z",
     "shell.execute_reply": "2024-05-26T09:47:03.369211Z",
     "shell.execute_reply.started": "2024-05-26T09:47:03.366090Z"
    },
    "id": "OXdJqlwAa8fz"
   },
   "outputs": [],
   "source": [
    "# huggingface-cli login\n",
    "# train_dataset = CommitDataset(encoded_train, list(train['3_labels']))\n",
    "# test_dataset = CommitDataset(encoded_test, list(test['3_labels']))\n",
    "# val_dataset = CommitDataset(encoded_val, list(val['label']))"
   ]
  },
  {
   "cell_type": "code",
   "execution_count": 17,
   "metadata": {
    "colab": {
     "base_uri": "https://localhost:8080/"
    },
    "execution": {
     "iopub.execute_input": "2024-05-26T09:47:03.371328Z",
     "iopub.status.busy": "2024-05-26T09:47:03.370995Z",
     "iopub.status.idle": "2024-05-26T09:47:03.376767Z",
     "shell.execute_reply": "2024-05-26T09:47:03.375963Z",
     "shell.execute_reply.started": "2024-05-26T09:47:03.371298Z"
    },
    "id": "DiZMhL8ia8f0",
    "outputId": "ed075772-3b24-4bf0-e1ff-45f15bfc1808"
   },
   "outputs": [
    {
     "data": {
      "text/plain": [
       "59"
      ]
     },
     "execution_count": 17,
     "metadata": {},
     "output_type": "execute_result"
    }
   ],
   "source": [
    "len(train_dataset)"
   ]
  },
  {
   "cell_type": "code",
   "execution_count": 18,
   "metadata": {
    "execution": {
     "iopub.execute_input": "2024-05-26T09:47:03.378056Z",
     "iopub.status.busy": "2024-05-26T09:47:03.377768Z",
     "iopub.status.idle": "2024-05-26T09:47:03.384442Z",
     "shell.execute_reply": "2024-05-26T09:47:03.383482Z",
     "shell.execute_reply.started": "2024-05-26T09:47:03.378027Z"
    },
    "id": "x0q3N4qJa8f0"
   },
   "outputs": [],
   "source": [
    "from sklearn import  metrics\n",
    "\n",
    "def compute_metrics(y_pred, y_test):\n",
    "    # print(y_pred,y_test)\n",
    "    # classification_report = metrics.classification_report(y_test,y_pred)\n",
    "    accuracy_score = metrics.accuracy_score(y_test,y_pred)\n",
    "    precision_score = metrics.precision_score(y_test,y_pred, average='weighted')\n",
    "    recall_score = metrics.recall_score(y_test,y_pred,average='weighted')\n",
    "    f1_score = metrics.f1_score(y_test,y_pred,average='weighted')\n",
    "\n",
    "    # return {\"classification_report\": classification_report}\n",
    "    return {\"precision\": precision_score,\"recall\": recall_score, \"f1\":f1_score, \"accuracy\": accuracy_score}"
   ]
  },
  {
   "cell_type": "code",
   "execution_count": 19,
   "metadata": {
    "colab": {
     "base_uri": "https://localhost:8080/"
    },
    "execution": {
     "iopub.execute_input": "2024-05-26T09:47:03.385904Z",
     "iopub.status.busy": "2024-05-26T09:47:03.385533Z",
     "iopub.status.idle": "2024-05-26T09:47:03.391800Z",
     "shell.execute_reply": "2024-05-26T09:47:03.390996Z",
     "shell.execute_reply.started": "2024-05-26T09:47:03.385872Z"
    },
    "id": "T7G9Bh5ya8f1",
    "outputId": "1c5e7622-e6fb-4bc9-eae1-f1526c560bd3"
   },
   "outputs": [
    {
     "data": {
      "text/plain": [
       "Dataset({\n",
       "    features: ['commit_id', 'project', 'text', 'label', 'ADDING_ATTRIBUTE_MODIFIABILITY', 'ADDING_METHOD_OVERRIDABILITY', 'ADDITIONAL_CLASS', 'ADDITIONAL_FUNCTIONALITY', 'ADDITIONAL_OBJECT_STATE', 'ALTERNATIVE_PART_DELETE', 'ALTERNATIVE_PART_INSERT', 'ATTRIBUTE_RENAMING', 'ATTRIBUTE_TYPE_CHANGE', 'CLASS_RENAMING', 'COMMENT_DELETE', 'COMMENT_INSERT', 'COMMENT_MOVE', 'COMMENT_UPDATE', 'CONDITION_EXPRESSION_CHANGE', 'DECREASING_ACCESSIBILITY_CHANGE', 'DOC_DELETE', 'DOC_INSERT', 'DOC_UPDATE', 'INCREASING_ACCESSIBILITY_CHANGE', 'METHOD_RENAMING', 'PARAMETER_DELETE', 'PARAMETER_INSERT', 'PARAMETER_ORDERING_CHANGE', 'PARAMETER_RENAMING', 'PARAMETER_TYPE_CHANGE', 'PARENT_CLASS_CHANGE', 'PARENT_CLASS_DELETE', 'PARENT_CLASS_INSERT', 'PARENT_INTERFACE_CHANGE', 'PARENT_INTERFACE_DELETE', 'PARENT_INTERFACE_INSERT', 'REMOVED_CLASS', 'REMOVED_FUNCTIONALITY', 'REMOVED_OBJECT_STATE', 'REMOVING_ATTRIBUTE_MODIFIABILITY', 'REMOVING_CLASS_DERIVABILITY', 'REMOVING_METHOD_OVERRIDABILITY', 'RETURN_TYPE_CHANGE', 'RETURN_TYPE_DELETE', 'RETURN_TYPE_INSERT', 'STATEMENT_DELETE', 'STATEMENT_INSERT', 'STATEMENT_ORDERING_CHANGE', 'STATEMENT_PARENT_CHANGE', 'STATEMENT_UPDATE', 'add', 'allow', 'bug', 'chang', 'error', 'fail', 'fix', 'implement', 'improv', 'issu', 'method', 'new', 'npe', 'refactor', 'remov', 'report', 'set', 'support', 'test', 'use', 'Contains Bug Fix?', 'Extract Method', 'Inline Method', 'Move Method', 'Move Attribute', 'Pull up Method', 'Pull up Attribute', 'Push Down Method', 'Push Down Attribute', 'Extract Class', 'Extract Subclass', 'Extract Superclass', 'Extract Interface', 'Change Package', 'Extract Variable', 'Inline Variable', 'Parametrize Variable', 'Rename Variable', 'Replace Variable with Attribute', 'Change Variable Type', 'Move and Rename Class', 'Move Class', 'Extract and Move Method', 'Move Source Folder', '__index_level_0__'],\n",
       "    num_rows: 59\n",
       "})"
      ]
     },
     "execution_count": 19,
     "metadata": {},
     "output_type": "execute_result"
    }
   ],
   "source": [
    "train_dataset"
   ]
  },
  {
   "cell_type": "code",
   "execution_count": 20,
   "metadata": {
    "execution": {
     "iopub.execute_input": "2024-05-26T09:47:03.393025Z",
     "iopub.status.busy": "2024-05-26T09:47:03.392739Z",
     "iopub.status.idle": "2024-05-26T09:47:03.397122Z",
     "shell.execute_reply": "2024-05-26T09:47:03.396252Z",
     "shell.execute_reply.started": "2024-05-26T09:47:03.392996Z"
    },
    "id": "v1oRB2L15iq_"
   },
   "outputs": [],
   "source": [
    "model_id = \"../../sentence-transformers/all-roberta-large-v1\""
   ]
  },
  {
   "cell_type": "code",
   "execution_count": 21,
   "metadata": {
    "colab": {
     "base_uri": "https://localhost:8080/"
    },
    "execution": {
     "iopub.execute_input": "2024-05-26T09:47:03.398449Z",
     "iopub.status.busy": "2024-05-26T09:47:03.398118Z",
     "iopub.status.idle": "2024-05-26T09:47:03.405486Z",
     "shell.execute_reply": "2024-05-26T09:47:03.404663Z",
     "shell.execute_reply.started": "2024-05-26T09:47:03.398420Z"
    },
    "id": "9nBQHD9Q5f8C",
    "outputId": "39edc6d6-93b1-4e80-ce60-6bf1cdedd4b9"
   },
   "outputs": [],
   "source": [
    "def hp_space(trial: Trial) -> Dict[str, Union[float, int, str]]:\n",
    "    return {\n",
    "        \"learning_rate\": trial.suggest_float(\"learning_rate\", 1e-6, 1e-3, log=True),\n",
    "        # \"num_epochs\": trial.suggest_int(\"num_epochs\", 1, 3),\n",
    "        # \"batch_size\": trial.suggest_categorical(\"batch_size\", [8, 12, 16]),\n",
    "        # \"seed\": trial.suggest_int(\"seed\", 1, 40),\n",
    "        # \"num_iterations\": trial.suggest_int(\"num_iterations\", 10, 20),\n",
    "        # \"solver\": trial.suggest_categorical(\"solver\", [\"newton-cg\", \"lbfgs\", \"liblinear\"]),\n",
    "    }\n",
    "def model_init(params: Dict[str, Any]) -> CommitFitModel:\n",
    "    params = params or {}\n",
    "    # learning_rate = params.get(\"learning_rate\")\n",
    "    # num_iterations = params.get(\"num_iterations\", 20)\n",
    "    # solver = params.get(\"solver\", \"liblinear\")\n",
    "    # params = {\n",
    "    #     \"head_params\": {\n",
    "    #         # \"max_iter\": num_iterations,\n",
    "    #         # \"solver\": solver,\n",
    "    #     }\n",
    "    # }\n",
    "    return CommitFitModel.from_pretrained(model_id, **params)\n",
    "def my_compute_objective(metrics):\n",
    "    print('+++++++++++',metrics)\n",
    "    return  metrics['accuracy']"
   ]
  },
  {
   "cell_type": "code",
   "execution_count": 22,
   "metadata": {
    "execution": {
     "iopub.execute_input": "2024-05-26T09:47:03.406716Z",
     "iopub.status.busy": "2024-05-26T09:47:03.406433Z",
     "iopub.status.idle": "2024-05-26T09:56:15.218381Z",
     "shell.execute_reply": "2024-05-26T09:56:15.216663Z",
     "shell.execute_reply.started": "2024-05-26T09:47:03.406688Z"
    },
    "id": "6YfXNSzIa8f2"
   },
   "outputs": [
    {
     "name": "stderr",
     "output_type": "stream",
     "text": [
      "model_head.pkl not found in /CommitFit/sentence-transformers/all-roberta-large-v1, initialising classification head with random weights. You should TRAIN this model on a downstream task to use it for predictions and inference.\n",
      "[I 2024-05-26 17:47:08,770] A new study created in memory with name: no-name-53b94d7c-929d-4264-a9ad-16f9cb5cdd79\n",
      "Trial: {'learning_rate': 1.1336962412748385e-05}\n",
      "model_head.pkl not found in /CommitFit/sentence-transformers/all-roberta-large-v1, initialising classification head with random weights. You should TRAIN this model on a downstream task to use it for predictions and inference.\n"
     ]
    },
    {
     "data": {
      "application/vnd.jupyter.widget-view+json": {
       "model_id": "be3f96fc8c27453385160de1821ed59d",
       "version_major": 2,
       "version_minor": 0
      },
      "text/plain": [
       "Generating Training Pairs:   0%|          | 0/20 [00:00<?, ?it/s]"
      ]
     },
     "metadata": {},
     "output_type": "display_data"
    },
    {
     "name": "stderr",
     "output_type": "stream",
     "text": [
      "***** Running training *****\n",
      "  Num examples = 2360\n",
      "  Num epochs = 1\n",
      "  Total optimization steps = 148\n",
      "  Total train batch size = 16\n"
     ]
    },
    {
     "data": {
      "application/vnd.jupyter.widget-view+json": {
       "model_id": "29fd51aee76a4971840a6e8c6f371a2a",
       "version_major": 2,
       "version_minor": 0
      },
      "text/plain": [
       "Epoch:   0%|          | 0/1 [00:00<?, ?it/s]"
      ]
     },
     "metadata": {},
     "output_type": "display_data"
    },
    {
     "data": {
      "application/vnd.jupyter.widget-view+json": {
       "model_id": "3a2a6f9a740c4cef8e86b16d6086bf4b",
       "version_major": 2,
       "version_minor": 0
      },
      "text/plain": [
       "Iteration:   0%|          | 0/148 [00:00<?, ?it/s]"
      ]
     },
     "metadata": {},
     "output_type": "display_data"
    },
    {
     "name": "stderr",
     "output_type": "stream",
     "text": [
      "***** Running evaluation *****\n",
      "[I 2024-05-26 17:48:05,143] Trial 0 finished with value: 0.5921501706484642 and parameters: {'learning_rate': 1.1336962412748385e-05}. Best is trial 0 with value: 0.5921501706484642.\n",
      "Trial: {'learning_rate': 1.0138705240324364e-05}\n"
     ]
    },
    {
     "name": "stdout",
     "output_type": "stream",
     "text": [
      "+++++++++++ {'precision': 0.5958544647028925, 'recall': 0.5921501706484642, 'f1': 0.5861996452680013, 'accuracy': 0.5921501706484642}\n"
     ]
    },
    {
     "name": "stderr",
     "output_type": "stream",
     "text": [
      "model_head.pkl not found in /CommitFit/sentence-transformers/all-roberta-large-v1, initialising classification head with random weights. You should TRAIN this model on a downstream task to use it for predictions and inference.\n"
     ]
    },
    {
     "data": {
      "application/vnd.jupyter.widget-view+json": {
       "model_id": "99e7f965a59b4501a50dfd61c893dd92",
       "version_major": 2,
       "version_minor": 0
      },
      "text/plain": [
       "Generating Training Pairs:   0%|          | 0/20 [00:00<?, ?it/s]"
      ]
     },
     "metadata": {},
     "output_type": "display_data"
    },
    {
     "name": "stderr",
     "output_type": "stream",
     "text": [
      "***** Running training *****\n",
      "  Num examples = 2360\n",
      "  Num epochs = 1\n",
      "  Total optimization steps = 148\n",
      "  Total train batch size = 16\n"
     ]
    },
    {
     "data": {
      "application/vnd.jupyter.widget-view+json": {
       "model_id": "01a8989dd5e0414bb984d3a98edeffcd",
       "version_major": 2,
       "version_minor": 0
      },
      "text/plain": [
       "Epoch:   0%|          | 0/1 [00:00<?, ?it/s]"
      ]
     },
     "metadata": {},
     "output_type": "display_data"
    },
    {
     "data": {
      "application/vnd.jupyter.widget-view+json": {
       "model_id": "1acc4e9180e44c6db1f377f12ec9f920",
       "version_major": 2,
       "version_minor": 0
      },
      "text/plain": [
       "Iteration:   0%|          | 0/148 [00:00<?, ?it/s]"
      ]
     },
     "metadata": {},
     "output_type": "display_data"
    },
    {
     "name": "stderr",
     "output_type": "stream",
     "text": [
      "***** Running evaluation *****\n",
      "[I 2024-05-26 17:48:59,986] Trial 1 finished with value: 0.5716723549488054 and parameters: {'learning_rate': 1.0138705240324364e-05}. Best is trial 0 with value: 0.5921501706484642.\n",
      "Trial: {'learning_rate': 0.000796078116711235}\n"
     ]
    },
    {
     "name": "stdout",
     "output_type": "stream",
     "text": [
      "+++++++++++ {'precision': 0.572035305413501, 'recall': 0.5716723549488054, 'f1': 0.5675279078553157, 'accuracy': 0.5716723549488054}\n"
     ]
    },
    {
     "name": "stderr",
     "output_type": "stream",
     "text": [
      "model_head.pkl not found in /CommitFit/sentence-transformers/all-roberta-large-v1, initialising classification head with random weights. You should TRAIN this model on a downstream task to use it for predictions and inference.\n"
     ]
    },
    {
     "data": {
      "application/vnd.jupyter.widget-view+json": {
       "model_id": "2e8bcf1e985d49efaae745303961b9a7",
       "version_major": 2,
       "version_minor": 0
      },
      "text/plain": [
       "Generating Training Pairs:   0%|          | 0/20 [00:00<?, ?it/s]"
      ]
     },
     "metadata": {},
     "output_type": "display_data"
    },
    {
     "name": "stderr",
     "output_type": "stream",
     "text": [
      "***** Running training *****\n",
      "  Num examples = 2360\n",
      "  Num epochs = 1\n",
      "  Total optimization steps = 148\n",
      "  Total train batch size = 16\n"
     ]
    },
    {
     "data": {
      "application/vnd.jupyter.widget-view+json": {
       "model_id": "e6ecf1b57b894b3fa7aa0f908144410f",
       "version_major": 2,
       "version_minor": 0
      },
      "text/plain": [
       "Epoch:   0%|          | 0/1 [00:00<?, ?it/s]"
      ]
     },
     "metadata": {},
     "output_type": "display_data"
    },
    {
     "data": {
      "application/vnd.jupyter.widget-view+json": {
       "model_id": "9fd5b77ddce34afaa243cfa462d35889",
       "version_major": 2,
       "version_minor": 0
      },
      "text/plain": [
       "Iteration:   0%|          | 0/148 [00:00<?, ?it/s]"
      ]
     },
     "metadata": {},
     "output_type": "display_data"
    },
    {
     "name": "stderr",
     "output_type": "stream",
     "text": [
      "***** Running evaluation *****\n",
      "/usr/local/lib/python3.11/dist-packages/sklearn/metrics/_classification.py:1469: UndefinedMetricWarning: Precision is ill-defined and being set to 0.0 in labels with no predicted samples. Use `zero_division` parameter to control this behavior.\n",
      "  _warn_prf(average, modifier, msg_start, len(result))\n",
      "[I 2024-05-26 17:49:54,362] Trial 2 finished with value: 0.3361774744027304 and parameters: {'learning_rate': 0.000796078116711235}. Best is trial 0 with value: 0.5921501706484642.\n",
      "Trial: {'learning_rate': 0.0007801282593774702}\n"
     ]
    },
    {
     "name": "stdout",
     "output_type": "stream",
     "text": [
      "+++++++++++ {'precision': 0.11301529429579843, 'recall': 0.3361774744027304, 'f1': 0.16916210078502653, 'accuracy': 0.3361774744027304}\n"
     ]
    },
    {
     "name": "stderr",
     "output_type": "stream",
     "text": [
      "model_head.pkl not found in /CommitFit/sentence-transformers/all-roberta-large-v1, initialising classification head with random weights. You should TRAIN this model on a downstream task to use it for predictions and inference.\n"
     ]
    },
    {
     "data": {
      "application/vnd.jupyter.widget-view+json": {
       "model_id": "11515d29552d48878230f0117c9b59a9",
       "version_major": 2,
       "version_minor": 0
      },
      "text/plain": [
       "Generating Training Pairs:   0%|          | 0/20 [00:00<?, ?it/s]"
      ]
     },
     "metadata": {},
     "output_type": "display_data"
    },
    {
     "name": "stderr",
     "output_type": "stream",
     "text": [
      "***** Running training *****\n",
      "  Num examples = 2360\n",
      "  Num epochs = 1\n",
      "  Total optimization steps = 148\n",
      "  Total train batch size = 16\n"
     ]
    },
    {
     "data": {
      "application/vnd.jupyter.widget-view+json": {
       "model_id": "95577f6d6d954f84aa01da07744bd37d",
       "version_major": 2,
       "version_minor": 0
      },
      "text/plain": [
       "Epoch:   0%|          | 0/1 [00:00<?, ?it/s]"
      ]
     },
     "metadata": {},
     "output_type": "display_data"
    },
    {
     "data": {
      "application/vnd.jupyter.widget-view+json": {
       "model_id": "61283d1a82c64903a9fe3122da797eef",
       "version_major": 2,
       "version_minor": 0
      },
      "text/plain": [
       "Iteration:   0%|          | 0/148 [00:00<?, ?it/s]"
      ]
     },
     "metadata": {},
     "output_type": "display_data"
    },
    {
     "name": "stderr",
     "output_type": "stream",
     "text": [
      "***** Running evaluation *****\n",
      "/usr/local/lib/python3.11/dist-packages/sklearn/metrics/_classification.py:1469: UndefinedMetricWarning: Precision is ill-defined and being set to 0.0 in labels with no predicted samples. Use `zero_division` parameter to control this behavior.\n",
      "  _warn_prf(average, modifier, msg_start, len(result))\n",
      "[I 2024-05-26 17:50:48,714] Trial 3 finished with value: 0.3361774744027304 and parameters: {'learning_rate': 0.0007801282593774702}. Best is trial 0 with value: 0.5921501706484642.\n",
      "Trial: {'learning_rate': 1.69354119307237e-05}\n"
     ]
    },
    {
     "name": "stdout",
     "output_type": "stream",
     "text": [
      "+++++++++++ {'precision': 0.11301529429579843, 'recall': 0.3361774744027304, 'f1': 0.16916210078502653, 'accuracy': 0.3361774744027304}\n"
     ]
    },
    {
     "name": "stderr",
     "output_type": "stream",
     "text": [
      "model_head.pkl not found in /CommitFit/sentence-transformers/all-roberta-large-v1, initialising classification head with random weights. You should TRAIN this model on a downstream task to use it for predictions and inference.\n"
     ]
    },
    {
     "data": {
      "application/vnd.jupyter.widget-view+json": {
       "model_id": "4ff8c9b90223462f97757762280fac95",
       "version_major": 2,
       "version_minor": 0
      },
      "text/plain": [
       "Generating Training Pairs:   0%|          | 0/20 [00:00<?, ?it/s]"
      ]
     },
     "metadata": {},
     "output_type": "display_data"
    },
    {
     "name": "stderr",
     "output_type": "stream",
     "text": [
      "***** Running training *****\n",
      "  Num examples = 2360\n",
      "  Num epochs = 1\n",
      "  Total optimization steps = 148\n",
      "  Total train batch size = 16\n"
     ]
    },
    {
     "data": {
      "application/vnd.jupyter.widget-view+json": {
       "model_id": "7f8c7d373a13465cae4f94ab2e8a6d4e",
       "version_major": 2,
       "version_minor": 0
      },
      "text/plain": [
       "Epoch:   0%|          | 0/1 [00:00<?, ?it/s]"
      ]
     },
     "metadata": {},
     "output_type": "display_data"
    },
    {
     "data": {
      "application/vnd.jupyter.widget-view+json": {
       "model_id": "9f48a19a8a664e00b09d2e703e3cd8e1",
       "version_major": 2,
       "version_minor": 0
      },
      "text/plain": [
       "Iteration:   0%|          | 0/148 [00:00<?, ?it/s]"
      ]
     },
     "metadata": {},
     "output_type": "display_data"
    },
    {
     "name": "stderr",
     "output_type": "stream",
     "text": [
      "***** Running evaluation *****\n",
      "[I 2024-05-26 17:51:43,257] Trial 4 finished with value: 0.626848691695108 and parameters: {'learning_rate': 1.69354119307237e-05}. Best is trial 4 with value: 0.626848691695108.\n",
      "Trial: {'learning_rate': 3.6209973479196973e-06}\n"
     ]
    },
    {
     "name": "stdout",
     "output_type": "stream",
     "text": [
      "+++++++++++ {'precision': 0.6304754574890582, 'recall': 0.626848691695108, 'f1': 0.622770362625173, 'accuracy': 0.626848691695108}\n"
     ]
    },
    {
     "name": "stderr",
     "output_type": "stream",
     "text": [
      "model_head.pkl not found in /CommitFit/sentence-transformers/all-roberta-large-v1, initialising classification head with random weights. You should TRAIN this model on a downstream task to use it for predictions and inference.\n"
     ]
    },
    {
     "data": {
      "application/vnd.jupyter.widget-view+json": {
       "model_id": "13f094e662e24a9fb2eab249d0f7197f",
       "version_major": 2,
       "version_minor": 0
      },
      "text/plain": [
       "Generating Training Pairs:   0%|          | 0/20 [00:00<?, ?it/s]"
      ]
     },
     "metadata": {},
     "output_type": "display_data"
    },
    {
     "name": "stderr",
     "output_type": "stream",
     "text": [
      "***** Running training *****\n",
      "  Num examples = 2360\n",
      "  Num epochs = 1\n",
      "  Total optimization steps = 148\n",
      "  Total train batch size = 16\n"
     ]
    },
    {
     "data": {
      "application/vnd.jupyter.widget-view+json": {
       "model_id": "b73d95f8706a4294b5c9127fbf8e7681",
       "version_major": 2,
       "version_minor": 0
      },
      "text/plain": [
       "Epoch:   0%|          | 0/1 [00:00<?, ?it/s]"
      ]
     },
     "metadata": {},
     "output_type": "display_data"
    },
    {
     "data": {
      "application/vnd.jupyter.widget-view+json": {
       "model_id": "5ef66fe973fc4237bbeb5e491a8d404c",
       "version_major": 2,
       "version_minor": 0
      },
      "text/plain": [
       "Iteration:   0%|          | 0/148 [00:00<?, ?it/s]"
      ]
     },
     "metadata": {},
     "output_type": "display_data"
    },
    {
     "name": "stderr",
     "output_type": "stream",
     "text": [
      "***** Running evaluation *****\n",
      "[I 2024-05-26 17:52:37,762] Trial 5 finished with value: 0.5722411831626849 and parameters: {'learning_rate': 3.6209973479196973e-06}. Best is trial 4 with value: 0.626848691695108.\n",
      "Trial: {'learning_rate': 4.6206722121238905e-06}\n"
     ]
    },
    {
     "name": "stdout",
     "output_type": "stream",
     "text": [
      "+++++++++++ {'precision': 0.5758538721921154, 'recall': 0.5722411831626849, 'f1': 0.5676920141976731, 'accuracy': 0.5722411831626849}\n"
     ]
    },
    {
     "name": "stderr",
     "output_type": "stream",
     "text": [
      "model_head.pkl not found in /CommitFit/sentence-transformers/all-roberta-large-v1, initialising classification head with random weights. You should TRAIN this model on a downstream task to use it for predictions and inference.\n"
     ]
    },
    {
     "data": {
      "application/vnd.jupyter.widget-view+json": {
       "model_id": "72c3891907ca41ba86db09a0d6253b8c",
       "version_major": 2,
       "version_minor": 0
      },
      "text/plain": [
       "Generating Training Pairs:   0%|          | 0/20 [00:00<?, ?it/s]"
      ]
     },
     "metadata": {},
     "output_type": "display_data"
    },
    {
     "name": "stderr",
     "output_type": "stream",
     "text": [
      "***** Running training *****\n",
      "  Num examples = 2360\n",
      "  Num epochs = 1\n",
      "  Total optimization steps = 148\n",
      "  Total train batch size = 16\n"
     ]
    },
    {
     "data": {
      "application/vnd.jupyter.widget-view+json": {
       "model_id": "bedd5c6318ea4de08bcce5df9e3dc796",
       "version_major": 2,
       "version_minor": 0
      },
      "text/plain": [
       "Epoch:   0%|          | 0/1 [00:00<?, ?it/s]"
      ]
     },
     "metadata": {},
     "output_type": "display_data"
    },
    {
     "data": {
      "application/vnd.jupyter.widget-view+json": {
       "model_id": "9eabdb0d6ca14561a61c6df469e27658",
       "version_major": 2,
       "version_minor": 0
      },
      "text/plain": [
       "Iteration:   0%|          | 0/148 [00:00<?, ?it/s]"
      ]
     },
     "metadata": {},
     "output_type": "display_data"
    },
    {
     "name": "stderr",
     "output_type": "stream",
     "text": [
      "***** Running evaluation *****\n",
      "[I 2024-05-26 17:53:32,216] Trial 6 finished with value: 0.5858930602957907 and parameters: {'learning_rate': 4.6206722121238905e-06}. Best is trial 4 with value: 0.626848691695108.\n",
      "Trial: {'learning_rate': 5.558540971807763e-06}\n"
     ]
    },
    {
     "name": "stdout",
     "output_type": "stream",
     "text": [
      "+++++++++++ {'precision': 0.5908597452643107, 'recall': 0.5858930602957907, 'f1': 0.5808665229252606, 'accuracy': 0.5858930602957907}\n"
     ]
    },
    {
     "name": "stderr",
     "output_type": "stream",
     "text": [
      "model_head.pkl not found in /CommitFit/sentence-transformers/all-roberta-large-v1, initialising classification head with random weights. You should TRAIN this model on a downstream task to use it for predictions and inference.\n"
     ]
    },
    {
     "data": {
      "application/vnd.jupyter.widget-view+json": {
       "model_id": "aecdce28077145f79927952b8c0ae8c4",
       "version_major": 2,
       "version_minor": 0
      },
      "text/plain": [
       "Generating Training Pairs:   0%|          | 0/20 [00:00<?, ?it/s]"
      ]
     },
     "metadata": {},
     "output_type": "display_data"
    },
    {
     "name": "stderr",
     "output_type": "stream",
     "text": [
      "***** Running training *****\n",
      "  Num examples = 2360\n",
      "  Num epochs = 1\n",
      "  Total optimization steps = 148\n",
      "  Total train batch size = 16\n"
     ]
    },
    {
     "data": {
      "application/vnd.jupyter.widget-view+json": {
       "model_id": "0627516a2ac84e23a6779742df6adcb5",
       "version_major": 2,
       "version_minor": 0
      },
      "text/plain": [
       "Epoch:   0%|          | 0/1 [00:00<?, ?it/s]"
      ]
     },
     "metadata": {},
     "output_type": "display_data"
    },
    {
     "data": {
      "application/vnd.jupyter.widget-view+json": {
       "model_id": "74a169af1f634524910a76b0cebcb5b6",
       "version_major": 2,
       "version_minor": 0
      },
      "text/plain": [
       "Iteration:   0%|          | 0/148 [00:00<?, ?it/s]"
      ]
     },
     "metadata": {},
     "output_type": "display_data"
    },
    {
     "name": "stderr",
     "output_type": "stream",
     "text": [
      "***** Running evaluation *****\n",
      "[I 2024-05-26 17:54:26,280] Trial 7 finished with value: 0.5841865756541524 and parameters: {'learning_rate': 5.558540971807763e-06}. Best is trial 4 with value: 0.626848691695108.\n",
      "Trial: {'learning_rate': 8.144787553461863e-06}\n"
     ]
    },
    {
     "name": "stdout",
     "output_type": "stream",
     "text": [
      "+++++++++++ {'precision': 0.5897277421566375, 'recall': 0.5841865756541524, 'f1': 0.578293193542476, 'accuracy': 0.5841865756541524}\n"
     ]
    },
    {
     "name": "stderr",
     "output_type": "stream",
     "text": [
      "model_head.pkl not found in /CommitFit/sentence-transformers/all-roberta-large-v1, initialising classification head with random weights. You should TRAIN this model on a downstream task to use it for predictions and inference.\n"
     ]
    },
    {
     "data": {
      "application/vnd.jupyter.widget-view+json": {
       "model_id": "ffa46923ea404db5ad325b19336d7939",
       "version_major": 2,
       "version_minor": 0
      },
      "text/plain": [
       "Generating Training Pairs:   0%|          | 0/20 [00:00<?, ?it/s]"
      ]
     },
     "metadata": {},
     "output_type": "display_data"
    },
    {
     "name": "stderr",
     "output_type": "stream",
     "text": [
      "***** Running training *****\n",
      "  Num examples = 2360\n",
      "  Num epochs = 1\n",
      "  Total optimization steps = 148\n",
      "  Total train batch size = 16\n"
     ]
    },
    {
     "data": {
      "application/vnd.jupyter.widget-view+json": {
       "model_id": "a93aeeb005174fbb8e0865e6d4a9c244",
       "version_major": 2,
       "version_minor": 0
      },
      "text/plain": [
       "Epoch:   0%|          | 0/1 [00:00<?, ?it/s]"
      ]
     },
     "metadata": {},
     "output_type": "display_data"
    },
    {
     "data": {
      "application/vnd.jupyter.widget-view+json": {
       "model_id": "845cf297d72a4a92af6659f34cd99382",
       "version_major": 2,
       "version_minor": 0
      },
      "text/plain": [
       "Iteration:   0%|          | 0/148 [00:00<?, ?it/s]"
      ]
     },
     "metadata": {},
     "output_type": "display_data"
    },
    {
     "name": "stderr",
     "output_type": "stream",
     "text": [
      "***** Running evaluation *****\n",
      "[I 2024-05-26 17:55:20,730] Trial 8 finished with value: 0.5614334470989761 and parameters: {'learning_rate': 8.144787553461863e-06}. Best is trial 4 with value: 0.626848691695108.\n",
      "Trial: {'learning_rate': 0.0003344683859640846}\n"
     ]
    },
    {
     "name": "stdout",
     "output_type": "stream",
     "text": [
      "+++++++++++ {'precision': 0.5630497889274961, 'recall': 0.5614334470989761, 'f1': 0.5580601641058146, 'accuracy': 0.5614334470989761}\n"
     ]
    },
    {
     "name": "stderr",
     "output_type": "stream",
     "text": [
      "model_head.pkl not found in /CommitFit/sentence-transformers/all-roberta-large-v1, initialising classification head with random weights. You should TRAIN this model on a downstream task to use it for predictions and inference.\n"
     ]
    },
    {
     "data": {
      "application/vnd.jupyter.widget-view+json": {
       "model_id": "b4a40f402bfb4e4ea7f3bc9227868929",
       "version_major": 2,
       "version_minor": 0
      },
      "text/plain": [
       "Generating Training Pairs:   0%|          | 0/20 [00:00<?, ?it/s]"
      ]
     },
     "metadata": {},
     "output_type": "display_data"
    },
    {
     "name": "stderr",
     "output_type": "stream",
     "text": [
      "***** Running training *****\n",
      "  Num examples = 2360\n",
      "  Num epochs = 1\n",
      "  Total optimization steps = 148\n",
      "  Total train batch size = 16\n"
     ]
    },
    {
     "data": {
      "application/vnd.jupyter.widget-view+json": {
       "model_id": "d351a722784e4c60b480bc6bce2e82d9",
       "version_major": 2,
       "version_minor": 0
      },
      "text/plain": [
       "Epoch:   0%|          | 0/1 [00:00<?, ?it/s]"
      ]
     },
     "metadata": {},
     "output_type": "display_data"
    },
    {
     "data": {
      "application/vnd.jupyter.widget-view+json": {
       "model_id": "f1a32365fd7d48ca84234e4c3eed1624",
       "version_major": 2,
       "version_minor": 0
      },
      "text/plain": [
       "Iteration:   0%|          | 0/148 [00:00<?, ?it/s]"
      ]
     },
     "metadata": {},
     "output_type": "display_data"
    },
    {
     "name": "stderr",
     "output_type": "stream",
     "text": [
      "***** Running evaluation *****\n",
      "/usr/local/lib/python3.11/dist-packages/sklearn/metrics/_classification.py:1469: UndefinedMetricWarning: Precision is ill-defined and being set to 0.0 in labels with no predicted samples. Use `zero_division` parameter to control this behavior.\n",
      "  _warn_prf(average, modifier, msg_start, len(result))\n",
      "[I 2024-05-26 17:56:15,212] Trial 9 finished with value: 0.33447098976109213 and parameters: {'learning_rate': 0.0003344683859640846}. Best is trial 4 with value: 0.626848691695108.\n"
     ]
    },
    {
     "name": "stdout",
     "output_type": "stream",
     "text": [
      "+++++++++++ {'precision': 0.1118708429917646, 'recall': 0.33447098976109213, 'f1': 0.16766320714366767, 'accuracy': 0.33447098976109213}\n"
     ]
    }
   ],
   "source": [
    "\n",
    "trainer = CommitFitTrainer(\n",
    "    train_dataset=train_dataset,\n",
    "    eval_dataset=test_dataset,\n",
    "    model_init=model_init,\n",
    "    metric = compute_metrics,\n",
    "    num_iterations=20,\n",
    "    num_epochs=1\n",
    ")\n",
    "best_run = trainer.hyperparameter_search(direction=\"maximize\", hp_space=hp_space, compute_objective=my_compute_objective, n_trials=10)"
   ]
  },
  {
   "cell_type": "code",
   "execution_count": 23,
   "metadata": {
    "execution": {
     "iopub.execute_input": "2024-05-26T09:56:15.221840Z",
     "iopub.status.busy": "2024-05-26T09:56:15.220181Z",
     "iopub.status.idle": "2024-05-26T09:56:15.230773Z",
     "shell.execute_reply": "2024-05-26T09:56:15.229214Z",
     "shell.execute_reply.started": "2024-05-26T09:56:15.221790Z"
    }
   },
   "outputs": [
    {
     "data": {
      "text/plain": [
       "BestRun(run_id='4', objective=0.626848691695108, hyperparameters={'learning_rate': 1.69354119307237e-05}, backend=<optuna.study.study.Study object at 0x7f489608e850>)"
      ]
     },
     "execution_count": 23,
     "metadata": {},
     "output_type": "execute_result"
    }
   ],
   "source": [
    "best_run"
   ]
  },
  {
   "cell_type": "code",
   "execution_count": 24,
   "metadata": {
    "colab": {
     "base_uri": "https://localhost:8080/",
     "height": 203,
     "referenced_widgets": [
      "e8e29e0625c14f86b1018b3a8fbbabda",
      "247d008872804e608992078ece705973",
      "4732d163519e49adb73a16071fce3c77",
      "d33df8452bc8478db44f39417728b6d3",
      "f9c8514b2be04f2da800400483f5db7d",
      "32d8a9eae6c845c2b4edb38ccdab3987",
      "c8647307957b49759512b4d34d9227bf",
      "e96692801a6a4d59b84920e48860a714",
      "03245f9997d24e1a83372b0a8dd11a6a",
      "ca5d6a8f55164d86b87314c1bab27654",
      "9e679231b52443c9ae8aee7d7e9485bd",
      "35cd63c3676842aabc3ef24782e94a2d",
      "5923d668417a45099da1703a687fd797",
      "3b441b28e0b84ee7b1fb520d5901f407",
      "79b53e58bebb4583acbbc59c0f960b6b",
      "a120bcd14fd24d3f913430493cbf0031",
      "571115cc15a14b30a5ee5fc9405b2f6f",
      "0d6321b8d68b4a0283e1928ed7db776f",
      "c0ae9bc0591a4b69a78cdb13cc2545e1",
      "956a5105d9324c709884e08a60ed84d9",
      "89e135d267a14b90885cd3791e5db8b9",
      "2b8bb5d907304c338b180e69ee47fc24",
      "b4af8217292b400aae706dca68ec560c",
      "1a6f8197594a4515875ee76ded6ddce2",
      "6c6d72cdcb9c46e980475bd70736f331",
      "8426411ea418400eaee176ffcffb4881",
      "65d34149f31946c4b6b351c076ee7996",
      "692b0376104842f7adfb2f507de81bbd",
      "f472b48832fd4dbc8ce37836228a6c62",
      "c909327a5a64462abf3b0dc8d5ce6197",
      "329d9e1712144b5c9d506ef34132b155",
      "d2bcad9750f7468b970e4bc91de958ac",
      "6f045a2164f445b5a3dc9d9d5e66aa76"
     ]
    },
    "execution": {
     "iopub.execute_input": "2024-05-26T09:56:15.233383Z",
     "iopub.status.busy": "2024-05-26T09:56:15.232292Z",
     "iopub.status.idle": "2024-05-26T09:56:15.241969Z",
     "shell.execute_reply": "2024-05-26T09:56:15.240962Z",
     "shell.execute_reply.started": "2024-05-26T09:56:15.233338Z"
    },
    "id": "Kjnpck-Ra8f2",
    "outputId": "3546cae8-c561-4958-fa34-6c69aaebad99"
   },
   "outputs": [
    {
     "data": {
      "text/plain": [
       "{'learning_rate': 1.69354119307237e-05}"
      ]
     },
     "execution_count": 24,
     "metadata": {},
     "output_type": "execute_result"
    }
   ],
   "source": [
    "best_run.hyperparameters"
   ]
  },
  {
   "cell_type": "code",
   "execution_count": 25,
   "metadata": {
    "execution": {
     "iopub.execute_input": "2024-05-26T09:56:15.243344Z",
     "iopub.status.busy": "2024-05-26T09:56:15.243054Z",
     "iopub.status.idle": "2024-05-26T09:57:06.312763Z",
     "shell.execute_reply": "2024-05-26T09:57:06.311357Z",
     "shell.execute_reply.started": "2024-05-26T09:56:15.243315Z"
    },
    "id": "nodjQIRSDfVc"
   },
   "outputs": [
    {
     "name": "stderr",
     "output_type": "stream",
     "text": [
      "model_head.pkl not found in /CommitFit/sentence-transformers/all-roberta-large-v1, initialising classification head with random weights. You should TRAIN this model on a downstream task to use it for predictions and inference.\n"
     ]
    },
    {
     "data": {
      "application/vnd.jupyter.widget-view+json": {
       "model_id": "d31cc527406c4600a06dafef10742578",
       "version_major": 2,
       "version_minor": 0
      },
      "text/plain": [
       "Generating Training Pairs:   0%|          | 0/20 [00:00<?, ?it/s]"
      ]
     },
     "metadata": {},
     "output_type": "display_data"
    },
    {
     "name": "stderr",
     "output_type": "stream",
     "text": [
      "***** Running training *****\n",
      "  Num examples = 2360\n",
      "  Num epochs = 1\n",
      "  Total optimization steps = 148\n",
      "  Total train batch size = 16\n"
     ]
    },
    {
     "data": {
      "application/vnd.jupyter.widget-view+json": {
       "model_id": "a60d89e8819847bb8c1ccb1399127af6",
       "version_major": 2,
       "version_minor": 0
      },
      "text/plain": [
       "Epoch:   0%|          | 0/1 [00:00<?, ?it/s]"
      ]
     },
     "metadata": {},
     "output_type": "display_data"
    },
    {
     "data": {
      "application/vnd.jupyter.widget-view+json": {
       "model_id": "9942e0a4de804a4abed9f7624936cdcc",
       "version_major": 2,
       "version_minor": 0
      },
      "text/plain": [
       "Iteration:   0%|          | 0/148 [00:00<?, ?it/s]"
      ]
     },
     "metadata": {},
     "output_type": "display_data"
    }
   ],
   "source": [
    "trainer.apply_hyperparameters(best_run.hyperparameters, final_model=True)\n",
    "trainer.train()"
   ]
  },
  {
   "cell_type": "code",
   "execution_count": 26,
   "metadata": {
    "execution": {
     "iopub.execute_input": "2024-05-26T09:57:06.315113Z",
     "iopub.status.busy": "2024-05-26T09:57:06.314545Z",
     "iopub.status.idle": "2024-05-26T09:57:09.173344Z",
     "shell.execute_reply": "2024-05-26T09:57:09.171900Z",
     "shell.execute_reply.started": "2024-05-26T09:57:06.315064Z"
    }
   },
   "outputs": [
    {
     "name": "stderr",
     "output_type": "stream",
     "text": [
      "***** Running evaluation *****\n"
     ]
    },
    {
     "data": {
      "text/plain": [
       "{'precision': 0.5942352986297639,\n",
       " 'recall': 0.5915813424345847,\n",
       " 'f1': 0.586700923997796,\n",
       " 'accuracy': 0.5915813424345847}"
      ]
     },
     "execution_count": 26,
     "metadata": {},
     "output_type": "execute_result"
    }
   ],
   "source": [
    "fewshot_metrics = trainer.evaluate()\n",
    "fewshot_metrics"
   ]
  },
  {
   "cell_type": "code",
   "execution_count": null,
   "metadata": {
    "id": "OpZoYKPCzSEE"
   },
   "outputs": [],
   "source": []
  },
  {
   "cell_type": "code",
   "execution_count": null,
   "metadata": {},
   "outputs": [],
   "source": []
  },
  {
   "cell_type": "code",
   "execution_count": null,
   "metadata": {},
   "outputs": [],
   "source": []
  },
  {
   "cell_type": "code",
   "execution_count": null,
   "metadata": {},
   "outputs": [],
   "source": []
  }
 ],
 "metadata": {
  "accelerator": "GPU",
  "colab": {
   "provenance": [],
   "toc_visible": true
  },
  "kernelspec": {
   "display_name": "Python 3 (ipykernel)",
   "language": "python",
   "name": "python3"
  },
  "language_info": {
   "codemirror_mode": {
    "name": "ipython",
    "version": 3
   },
   "file_extension": ".py",
   "mimetype": "text/x-python",
   "name": "python",
   "nbconvert_exporter": "python",
   "pygments_lexer": "ipython3",
   "version": "3.11.8"
  },
  "widgets": {
   "application/vnd.jupyter.widget-state+json": {
    "03245f9997d24e1a83372b0a8dd11a6a": {
     "model_module": "@jupyter-widgets/controls",
     "model_module_version": "1.5.0",
     "model_name": "ProgressStyleModel",
     "state": {
      "_model_module": "@jupyter-widgets/controls",
      "_model_module_version": "1.5.0",
      "_model_name": "ProgressStyleModel",
      "_view_count": null,
      "_view_module": "@jupyter-widgets/base",
      "_view_module_version": "1.2.0",
      "_view_name": "StyleView",
      "bar_color": null,
      "description_width": ""
     }
    },
    "0d6321b8d68b4a0283e1928ed7db776f": {
     "model_module": "@jupyter-widgets/controls",
     "model_module_version": "1.5.0",
     "model_name": "DescriptionStyleModel",
     "state": {
      "_model_module": "@jupyter-widgets/controls",
      "_model_module_version": "1.5.0",
      "_model_name": "DescriptionStyleModel",
      "_view_count": null,
      "_view_module": "@jupyter-widgets/base",
      "_view_module_version": "1.2.0",
      "_view_name": "StyleView",
      "description_width": ""
     }
    },
    "1a6f8197594a4515875ee76ded6ddce2": {
     "model_module": "@jupyter-widgets/controls",
     "model_module_version": "1.5.0",
     "model_name": "HTMLModel",
     "state": {
      "_dom_classes": [],
      "_model_module": "@jupyter-widgets/controls",
      "_model_module_version": "1.5.0",
      "_model_name": "HTMLModel",
      "_view_count": null,
      "_view_module": "@jupyter-widgets/controls",
      "_view_module_version": "1.5.0",
      "_view_name": "HTMLView",
      "description": "",
      "description_tooltip": null,
      "layout": "IPY_MODEL_692b0376104842f7adfb2f507de81bbd",
      "placeholder": "​",
      "style": "IPY_MODEL_f472b48832fd4dbc8ce37836228a6c62",
      "value": "Iteration:   1%"
     }
    },
    "247d008872804e608992078ece705973": {
     "model_module": "@jupyter-widgets/controls",
     "model_module_version": "1.5.0",
     "model_name": "HTMLModel",
     "state": {
      "_dom_classes": [],
      "_model_module": "@jupyter-widgets/controls",
      "_model_module_version": "1.5.0",
      "_model_name": "HTMLModel",
      "_view_count": null,
      "_view_module": "@jupyter-widgets/controls",
      "_view_module_version": "1.5.0",
      "_view_name": "HTMLView",
      "description": "",
      "description_tooltip": null,
      "layout": "IPY_MODEL_32d8a9eae6c845c2b4edb38ccdab3987",
      "placeholder": "​",
      "style": "IPY_MODEL_c8647307957b49759512b4d34d9227bf",
      "value": "Generating Training Pairs: 100%"
     }
    },
    "2b8bb5d907304c338b180e69ee47fc24": {
     "model_module": "@jupyter-widgets/controls",
     "model_module_version": "1.5.0",
     "model_name": "DescriptionStyleModel",
     "state": {
      "_model_module": "@jupyter-widgets/controls",
      "_model_module_version": "1.5.0",
      "_model_name": "DescriptionStyleModel",
      "_view_count": null,
      "_view_module": "@jupyter-widgets/base",
      "_view_module_version": "1.2.0",
      "_view_name": "StyleView",
      "description_width": ""
     }
    },
    "329d9e1712144b5c9d506ef34132b155": {
     "model_module": "@jupyter-widgets/controls",
     "model_module_version": "1.5.0",
     "model_name": "ProgressStyleModel",
     "state": {
      "_model_module": "@jupyter-widgets/controls",
      "_model_module_version": "1.5.0",
      "_model_name": "ProgressStyleModel",
      "_view_count": null,
      "_view_module": "@jupyter-widgets/base",
      "_view_module_version": "1.2.0",
      "_view_name": "StyleView",
      "bar_color": null,
      "description_width": ""
     }
    },
    "32d8a9eae6c845c2b4edb38ccdab3987": {
     "model_module": "@jupyter-widgets/base",
     "model_module_version": "1.2.0",
     "model_name": "LayoutModel",
     "state": {
      "_model_module": "@jupyter-widgets/base",
      "_model_module_version": "1.2.0",
      "_model_name": "LayoutModel",
      "_view_count": null,
      "_view_module": "@jupyter-widgets/base",
      "_view_module_version": "1.2.0",
      "_view_name": "LayoutView",
      "align_content": null,
      "align_items": null,
      "align_self": null,
      "border": null,
      "bottom": null,
      "display": null,
      "flex": null,
      "flex_flow": null,
      "grid_area": null,
      "grid_auto_columns": null,
      "grid_auto_flow": null,
      "grid_auto_rows": null,
      "grid_column": null,
      "grid_gap": null,
      "grid_row": null,
      "grid_template_areas": null,
      "grid_template_columns": null,
      "grid_template_rows": null,
      "height": null,
      "justify_content": null,
      "justify_items": null,
      "left": null,
      "margin": null,
      "max_height": null,
      "max_width": null,
      "min_height": null,
      "min_width": null,
      "object_fit": null,
      "object_position": null,
      "order": null,
      "overflow": null,
      "overflow_x": null,
      "overflow_y": null,
      "padding": null,
      "right": null,
      "top": null,
      "visibility": null,
      "width": null
     }
    },
    "35cd63c3676842aabc3ef24782e94a2d": {
     "model_module": "@jupyter-widgets/controls",
     "model_module_version": "1.5.0",
     "model_name": "HBoxModel",
     "state": {
      "_dom_classes": [],
      "_model_module": "@jupyter-widgets/controls",
      "_model_module_version": "1.5.0",
      "_model_name": "HBoxModel",
      "_view_count": null,
      "_view_module": "@jupyter-widgets/controls",
      "_view_module_version": "1.5.0",
      "_view_name": "HBoxView",
      "box_style": "",
      "children": [
       "IPY_MODEL_5923d668417a45099da1703a687fd797",
       "IPY_MODEL_3b441b28e0b84ee7b1fb520d5901f407",
       "IPY_MODEL_79b53e58bebb4583acbbc59c0f960b6b"
      ],
      "layout": "IPY_MODEL_a120bcd14fd24d3f913430493cbf0031"
     }
    },
    "3b441b28e0b84ee7b1fb520d5901f407": {
     "model_module": "@jupyter-widgets/controls",
     "model_module_version": "1.5.0",
     "model_name": "FloatProgressModel",
     "state": {
      "_dom_classes": [],
      "_model_module": "@jupyter-widgets/controls",
      "_model_module_version": "1.5.0",
      "_model_name": "FloatProgressModel",
      "_view_count": null,
      "_view_module": "@jupyter-widgets/controls",
      "_view_module_version": "1.5.0",
      "_view_name": "ProgressView",
      "bar_style": "danger",
      "description": "",
      "description_tooltip": null,
      "layout": "IPY_MODEL_c0ae9bc0591a4b69a78cdb13cc2545e1",
      "max": 5,
      "min": 0,
      "orientation": "horizontal",
      "style": "IPY_MODEL_956a5105d9324c709884e08a60ed84d9",
      "value": 0
     }
    },
    "4732d163519e49adb73a16071fce3c77": {
     "model_module": "@jupyter-widgets/controls",
     "model_module_version": "1.5.0",
     "model_name": "FloatProgressModel",
     "state": {
      "_dom_classes": [],
      "_model_module": "@jupyter-widgets/controls",
      "_model_module_version": "1.5.0",
      "_model_name": "FloatProgressModel",
      "_view_count": null,
      "_view_module": "@jupyter-widgets/controls",
      "_view_module_version": "1.5.0",
      "_view_name": "ProgressView",
      "bar_style": "success",
      "description": "",
      "description_tooltip": null,
      "layout": "IPY_MODEL_e96692801a6a4d59b84920e48860a714",
      "max": 20,
      "min": 0,
      "orientation": "horizontal",
      "style": "IPY_MODEL_03245f9997d24e1a83372b0a8dd11a6a",
      "value": 20
     }
    },
    "571115cc15a14b30a5ee5fc9405b2f6f": {
     "model_module": "@jupyter-widgets/base",
     "model_module_version": "1.2.0",
     "model_name": "LayoutModel",
     "state": {
      "_model_module": "@jupyter-widgets/base",
      "_model_module_version": "1.2.0",
      "_model_name": "LayoutModel",
      "_view_count": null,
      "_view_module": "@jupyter-widgets/base",
      "_view_module_version": "1.2.0",
      "_view_name": "LayoutView",
      "align_content": null,
      "align_items": null,
      "align_self": null,
      "border": null,
      "bottom": null,
      "display": null,
      "flex": null,
      "flex_flow": null,
      "grid_area": null,
      "grid_auto_columns": null,
      "grid_auto_flow": null,
      "grid_auto_rows": null,
      "grid_column": null,
      "grid_gap": null,
      "grid_row": null,
      "grid_template_areas": null,
      "grid_template_columns": null,
      "grid_template_rows": null,
      "height": null,
      "justify_content": null,
      "justify_items": null,
      "left": null,
      "margin": null,
      "max_height": null,
      "max_width": null,
      "min_height": null,
      "min_width": null,
      "object_fit": null,
      "object_position": null,
      "order": null,
      "overflow": null,
      "overflow_x": null,
      "overflow_y": null,
      "padding": null,
      "right": null,
      "top": null,
      "visibility": null,
      "width": null
     }
    },
    "5923d668417a45099da1703a687fd797": {
     "model_module": "@jupyter-widgets/controls",
     "model_module_version": "1.5.0",
     "model_name": "HTMLModel",
     "state": {
      "_dom_classes": [],
      "_model_module": "@jupyter-widgets/controls",
      "_model_module_version": "1.5.0",
      "_model_name": "HTMLModel",
      "_view_count": null,
      "_view_module": "@jupyter-widgets/controls",
      "_view_module_version": "1.5.0",
      "_view_name": "HTMLView",
      "description": "",
      "description_tooltip": null,
      "layout": "IPY_MODEL_571115cc15a14b30a5ee5fc9405b2f6f",
      "placeholder": "​",
      "style": "IPY_MODEL_0d6321b8d68b4a0283e1928ed7db776f",
      "value": "Epoch:   0%"
     }
    },
    "65d34149f31946c4b6b351c076ee7996": {
     "model_module": "@jupyter-widgets/base",
     "model_module_version": "1.2.0",
     "model_name": "LayoutModel",
     "state": {
      "_model_module": "@jupyter-widgets/base",
      "_model_module_version": "1.2.0",
      "_model_name": "LayoutModel",
      "_view_count": null,
      "_view_module": "@jupyter-widgets/base",
      "_view_module_version": "1.2.0",
      "_view_name": "LayoutView",
      "align_content": null,
      "align_items": null,
      "align_self": null,
      "border": null,
      "bottom": null,
      "display": null,
      "flex": null,
      "flex_flow": null,
      "grid_area": null,
      "grid_auto_columns": null,
      "grid_auto_flow": null,
      "grid_auto_rows": null,
      "grid_column": null,
      "grid_gap": null,
      "grid_row": null,
      "grid_template_areas": null,
      "grid_template_columns": null,
      "grid_template_rows": null,
      "height": null,
      "justify_content": null,
      "justify_items": null,
      "left": null,
      "margin": null,
      "max_height": null,
      "max_width": null,
      "min_height": null,
      "min_width": null,
      "object_fit": null,
      "object_position": null,
      "order": null,
      "overflow": null,
      "overflow_x": null,
      "overflow_y": null,
      "padding": null,
      "right": null,
      "top": null,
      "visibility": null,
      "width": null
     }
    },
    "692b0376104842f7adfb2f507de81bbd": {
     "model_module": "@jupyter-widgets/base",
     "model_module_version": "1.2.0",
     "model_name": "LayoutModel",
     "state": {
      "_model_module": "@jupyter-widgets/base",
      "_model_module_version": "1.2.0",
      "_model_name": "LayoutModel",
      "_view_count": null,
      "_view_module": "@jupyter-widgets/base",
      "_view_module_version": "1.2.0",
      "_view_name": "LayoutView",
      "align_content": null,
      "align_items": null,
      "align_self": null,
      "border": null,
      "bottom": null,
      "display": null,
      "flex": null,
      "flex_flow": null,
      "grid_area": null,
      "grid_auto_columns": null,
      "grid_auto_flow": null,
      "grid_auto_rows": null,
      "grid_column": null,
      "grid_gap": null,
      "grid_row": null,
      "grid_template_areas": null,
      "grid_template_columns": null,
      "grid_template_rows": null,
      "height": null,
      "justify_content": null,
      "justify_items": null,
      "left": null,
      "margin": null,
      "max_height": null,
      "max_width": null,
      "min_height": null,
      "min_width": null,
      "object_fit": null,
      "object_position": null,
      "order": null,
      "overflow": null,
      "overflow_x": null,
      "overflow_y": null,
      "padding": null,
      "right": null,
      "top": null,
      "visibility": null,
      "width": null
     }
    },
    "6c6d72cdcb9c46e980475bd70736f331": {
     "model_module": "@jupyter-widgets/controls",
     "model_module_version": "1.5.0",
     "model_name": "FloatProgressModel",
     "state": {
      "_dom_classes": [],
      "_model_module": "@jupyter-widgets/controls",
      "_model_module_version": "1.5.0",
      "_model_name": "FloatProgressModel",
      "_view_count": null,
      "_view_module": "@jupyter-widgets/controls",
      "_view_module_version": "1.5.0",
      "_view_name": "ProgressView",
      "bar_style": "danger",
      "description": "",
      "description_tooltip": null,
      "layout": "IPY_MODEL_c909327a5a64462abf3b0dc8d5ce6197",
      "max": 238,
      "min": 0,
      "orientation": "horizontal",
      "style": "IPY_MODEL_329d9e1712144b5c9d506ef34132b155",
      "value": 2
     }
    },
    "6f045a2164f445b5a3dc9d9d5e66aa76": {
     "model_module": "@jupyter-widgets/controls",
     "model_module_version": "1.5.0",
     "model_name": "DescriptionStyleModel",
     "state": {
      "_model_module": "@jupyter-widgets/controls",
      "_model_module_version": "1.5.0",
      "_model_name": "DescriptionStyleModel",
      "_view_count": null,
      "_view_module": "@jupyter-widgets/base",
      "_view_module_version": "1.2.0",
      "_view_name": "StyleView",
      "description_width": ""
     }
    },
    "79b53e58bebb4583acbbc59c0f960b6b": {
     "model_module": "@jupyter-widgets/controls",
     "model_module_version": "1.5.0",
     "model_name": "HTMLModel",
     "state": {
      "_dom_classes": [],
      "_model_module": "@jupyter-widgets/controls",
      "_model_module_version": "1.5.0",
      "_model_name": "HTMLModel",
      "_view_count": null,
      "_view_module": "@jupyter-widgets/controls",
      "_view_module_version": "1.5.0",
      "_view_name": "HTMLView",
      "description": "",
      "description_tooltip": null,
      "layout": "IPY_MODEL_89e135d267a14b90885cd3791e5db8b9",
      "placeholder": "​",
      "style": "IPY_MODEL_2b8bb5d907304c338b180e69ee47fc24",
      "value": " 0/5 [00:03&lt;?, ?it/s]"
     }
    },
    "8426411ea418400eaee176ffcffb4881": {
     "model_module": "@jupyter-widgets/controls",
     "model_module_version": "1.5.0",
     "model_name": "HTMLModel",
     "state": {
      "_dom_classes": [],
      "_model_module": "@jupyter-widgets/controls",
      "_model_module_version": "1.5.0",
      "_model_name": "HTMLModel",
      "_view_count": null,
      "_view_module": "@jupyter-widgets/controls",
      "_view_module_version": "1.5.0",
      "_view_name": "HTMLView",
      "description": "",
      "description_tooltip": null,
      "layout": "IPY_MODEL_d2bcad9750f7468b970e4bc91de958ac",
      "placeholder": "​",
      "style": "IPY_MODEL_6f045a2164f445b5a3dc9d9d5e66aa76",
      "value": " 2/238 [00:03&lt;06:02,  1.54s/it]"
     }
    },
    "89e135d267a14b90885cd3791e5db8b9": {
     "model_module": "@jupyter-widgets/base",
     "model_module_version": "1.2.0",
     "model_name": "LayoutModel",
     "state": {
      "_model_module": "@jupyter-widgets/base",
      "_model_module_version": "1.2.0",
      "_model_name": "LayoutModel",
      "_view_count": null,
      "_view_module": "@jupyter-widgets/base",
      "_view_module_version": "1.2.0",
      "_view_name": "LayoutView",
      "align_content": null,
      "align_items": null,
      "align_self": null,
      "border": null,
      "bottom": null,
      "display": null,
      "flex": null,
      "flex_flow": null,
      "grid_area": null,
      "grid_auto_columns": null,
      "grid_auto_flow": null,
      "grid_auto_rows": null,
      "grid_column": null,
      "grid_gap": null,
      "grid_row": null,
      "grid_template_areas": null,
      "grid_template_columns": null,
      "grid_template_rows": null,
      "height": null,
      "justify_content": null,
      "justify_items": null,
      "left": null,
      "margin": null,
      "max_height": null,
      "max_width": null,
      "min_height": null,
      "min_width": null,
      "object_fit": null,
      "object_position": null,
      "order": null,
      "overflow": null,
      "overflow_x": null,
      "overflow_y": null,
      "padding": null,
      "right": null,
      "top": null,
      "visibility": null,
      "width": null
     }
    },
    "956a5105d9324c709884e08a60ed84d9": {
     "model_module": "@jupyter-widgets/controls",
     "model_module_version": "1.5.0",
     "model_name": "ProgressStyleModel",
     "state": {
      "_model_module": "@jupyter-widgets/controls",
      "_model_module_version": "1.5.0",
      "_model_name": "ProgressStyleModel",
      "_view_count": null,
      "_view_module": "@jupyter-widgets/base",
      "_view_module_version": "1.2.0",
      "_view_name": "StyleView",
      "bar_color": null,
      "description_width": ""
     }
    },
    "9e679231b52443c9ae8aee7d7e9485bd": {
     "model_module": "@jupyter-widgets/controls",
     "model_module_version": "1.5.0",
     "model_name": "DescriptionStyleModel",
     "state": {
      "_model_module": "@jupyter-widgets/controls",
      "_model_module_version": "1.5.0",
      "_model_name": "DescriptionStyleModel",
      "_view_count": null,
      "_view_module": "@jupyter-widgets/base",
      "_view_module_version": "1.2.0",
      "_view_name": "StyleView",
      "description_width": ""
     }
    },
    "a120bcd14fd24d3f913430493cbf0031": {
     "model_module": "@jupyter-widgets/base",
     "model_module_version": "1.2.0",
     "model_name": "LayoutModel",
     "state": {
      "_model_module": "@jupyter-widgets/base",
      "_model_module_version": "1.2.0",
      "_model_name": "LayoutModel",
      "_view_count": null,
      "_view_module": "@jupyter-widgets/base",
      "_view_module_version": "1.2.0",
      "_view_name": "LayoutView",
      "align_content": null,
      "align_items": null,
      "align_self": null,
      "border": null,
      "bottom": null,
      "display": null,
      "flex": null,
      "flex_flow": null,
      "grid_area": null,
      "grid_auto_columns": null,
      "grid_auto_flow": null,
      "grid_auto_rows": null,
      "grid_column": null,
      "grid_gap": null,
      "grid_row": null,
      "grid_template_areas": null,
      "grid_template_columns": null,
      "grid_template_rows": null,
      "height": null,
      "justify_content": null,
      "justify_items": null,
      "left": null,
      "margin": null,
      "max_height": null,
      "max_width": null,
      "min_height": null,
      "min_width": null,
      "object_fit": null,
      "object_position": null,
      "order": null,
      "overflow": null,
      "overflow_x": null,
      "overflow_y": null,
      "padding": null,
      "right": null,
      "top": null,
      "visibility": null,
      "width": null
     }
    },
    "b4af8217292b400aae706dca68ec560c": {
     "model_module": "@jupyter-widgets/controls",
     "model_module_version": "1.5.0",
     "model_name": "HBoxModel",
     "state": {
      "_dom_classes": [],
      "_model_module": "@jupyter-widgets/controls",
      "_model_module_version": "1.5.0",
      "_model_name": "HBoxModel",
      "_view_count": null,
      "_view_module": "@jupyter-widgets/controls",
      "_view_module_version": "1.5.0",
      "_view_name": "HBoxView",
      "box_style": "",
      "children": [
       "IPY_MODEL_1a6f8197594a4515875ee76ded6ddce2",
       "IPY_MODEL_6c6d72cdcb9c46e980475bd70736f331",
       "IPY_MODEL_8426411ea418400eaee176ffcffb4881"
      ],
      "layout": "IPY_MODEL_65d34149f31946c4b6b351c076ee7996"
     }
    },
    "c0ae9bc0591a4b69a78cdb13cc2545e1": {
     "model_module": "@jupyter-widgets/base",
     "model_module_version": "1.2.0",
     "model_name": "LayoutModel",
     "state": {
      "_model_module": "@jupyter-widgets/base",
      "_model_module_version": "1.2.0",
      "_model_name": "LayoutModel",
      "_view_count": null,
      "_view_module": "@jupyter-widgets/base",
      "_view_module_version": "1.2.0",
      "_view_name": "LayoutView",
      "align_content": null,
      "align_items": null,
      "align_self": null,
      "border": null,
      "bottom": null,
      "display": null,
      "flex": null,
      "flex_flow": null,
      "grid_area": null,
      "grid_auto_columns": null,
      "grid_auto_flow": null,
      "grid_auto_rows": null,
      "grid_column": null,
      "grid_gap": null,
      "grid_row": null,
      "grid_template_areas": null,
      "grid_template_columns": null,
      "grid_template_rows": null,
      "height": null,
      "justify_content": null,
      "justify_items": null,
      "left": null,
      "margin": null,
      "max_height": null,
      "max_width": null,
      "min_height": null,
      "min_width": null,
      "object_fit": null,
      "object_position": null,
      "order": null,
      "overflow": null,
      "overflow_x": null,
      "overflow_y": null,
      "padding": null,
      "right": null,
      "top": null,
      "visibility": null,
      "width": null
     }
    },
    "c8647307957b49759512b4d34d9227bf": {
     "model_module": "@jupyter-widgets/controls",
     "model_module_version": "1.5.0",
     "model_name": "DescriptionStyleModel",
     "state": {
      "_model_module": "@jupyter-widgets/controls",
      "_model_module_version": "1.5.0",
      "_model_name": "DescriptionStyleModel",
      "_view_count": null,
      "_view_module": "@jupyter-widgets/base",
      "_view_module_version": "1.2.0",
      "_view_name": "StyleView",
      "description_width": ""
     }
    },
    "c909327a5a64462abf3b0dc8d5ce6197": {
     "model_module": "@jupyter-widgets/base",
     "model_module_version": "1.2.0",
     "model_name": "LayoutModel",
     "state": {
      "_model_module": "@jupyter-widgets/base",
      "_model_module_version": "1.2.0",
      "_model_name": "LayoutModel",
      "_view_count": null,
      "_view_module": "@jupyter-widgets/base",
      "_view_module_version": "1.2.0",
      "_view_name": "LayoutView",
      "align_content": null,
      "align_items": null,
      "align_self": null,
      "border": null,
      "bottom": null,
      "display": null,
      "flex": null,
      "flex_flow": null,
      "grid_area": null,
      "grid_auto_columns": null,
      "grid_auto_flow": null,
      "grid_auto_rows": null,
      "grid_column": null,
      "grid_gap": null,
      "grid_row": null,
      "grid_template_areas": null,
      "grid_template_columns": null,
      "grid_template_rows": null,
      "height": null,
      "justify_content": null,
      "justify_items": null,
      "left": null,
      "margin": null,
      "max_height": null,
      "max_width": null,
      "min_height": null,
      "min_width": null,
      "object_fit": null,
      "object_position": null,
      "order": null,
      "overflow": null,
      "overflow_x": null,
      "overflow_y": null,
      "padding": null,
      "right": null,
      "top": null,
      "visibility": null,
      "width": null
     }
    },
    "ca5d6a8f55164d86b87314c1bab27654": {
     "model_module": "@jupyter-widgets/base",
     "model_module_version": "1.2.0",
     "model_name": "LayoutModel",
     "state": {
      "_model_module": "@jupyter-widgets/base",
      "_model_module_version": "1.2.0",
      "_model_name": "LayoutModel",
      "_view_count": null,
      "_view_module": "@jupyter-widgets/base",
      "_view_module_version": "1.2.0",
      "_view_name": "LayoutView",
      "align_content": null,
      "align_items": null,
      "align_self": null,
      "border": null,
      "bottom": null,
      "display": null,
      "flex": null,
      "flex_flow": null,
      "grid_area": null,
      "grid_auto_columns": null,
      "grid_auto_flow": null,
      "grid_auto_rows": null,
      "grid_column": null,
      "grid_gap": null,
      "grid_row": null,
      "grid_template_areas": null,
      "grid_template_columns": null,
      "grid_template_rows": null,
      "height": null,
      "justify_content": null,
      "justify_items": null,
      "left": null,
      "margin": null,
      "max_height": null,
      "max_width": null,
      "min_height": null,
      "min_width": null,
      "object_fit": null,
      "object_position": null,
      "order": null,
      "overflow": null,
      "overflow_x": null,
      "overflow_y": null,
      "padding": null,
      "right": null,
      "top": null,
      "visibility": null,
      "width": null
     }
    },
    "d2bcad9750f7468b970e4bc91de958ac": {
     "model_module": "@jupyter-widgets/base",
     "model_module_version": "1.2.0",
     "model_name": "LayoutModel",
     "state": {
      "_model_module": "@jupyter-widgets/base",
      "_model_module_version": "1.2.0",
      "_model_name": "LayoutModel",
      "_view_count": null,
      "_view_module": "@jupyter-widgets/base",
      "_view_module_version": "1.2.0",
      "_view_name": "LayoutView",
      "align_content": null,
      "align_items": null,
      "align_self": null,
      "border": null,
      "bottom": null,
      "display": null,
      "flex": null,
      "flex_flow": null,
      "grid_area": null,
      "grid_auto_columns": null,
      "grid_auto_flow": null,
      "grid_auto_rows": null,
      "grid_column": null,
      "grid_gap": null,
      "grid_row": null,
      "grid_template_areas": null,
      "grid_template_columns": null,
      "grid_template_rows": null,
      "height": null,
      "justify_content": null,
      "justify_items": null,
      "left": null,
      "margin": null,
      "max_height": null,
      "max_width": null,
      "min_height": null,
      "min_width": null,
      "object_fit": null,
      "object_position": null,
      "order": null,
      "overflow": null,
      "overflow_x": null,
      "overflow_y": null,
      "padding": null,
      "right": null,
      "top": null,
      "visibility": null,
      "width": null
     }
    },
    "d33df8452bc8478db44f39417728b6d3": {
     "model_module": "@jupyter-widgets/controls",
     "model_module_version": "1.5.0",
     "model_name": "HTMLModel",
     "state": {
      "_dom_classes": [],
      "_model_module": "@jupyter-widgets/controls",
      "_model_module_version": "1.5.0",
      "_model_name": "HTMLModel",
      "_view_count": null,
      "_view_module": "@jupyter-widgets/controls",
      "_view_module_version": "1.5.0",
      "_view_name": "HTMLView",
      "description": "",
      "description_tooltip": null,
      "layout": "IPY_MODEL_ca5d6a8f55164d86b87314c1bab27654",
      "placeholder": "​",
      "style": "IPY_MODEL_9e679231b52443c9ae8aee7d7e9485bd",
      "value": " 20/20 [00:00&lt;00:00, 64.58it/s]"
     }
    },
    "e8e29e0625c14f86b1018b3a8fbbabda": {
     "model_module": "@jupyter-widgets/controls",
     "model_module_version": "1.5.0",
     "model_name": "HBoxModel",
     "state": {
      "_dom_classes": [],
      "_model_module": "@jupyter-widgets/controls",
      "_model_module_version": "1.5.0",
      "_model_name": "HBoxModel",
      "_view_count": null,
      "_view_module": "@jupyter-widgets/controls",
      "_view_module_version": "1.5.0",
      "_view_name": "HBoxView",
      "box_style": "",
      "children": [
       "IPY_MODEL_247d008872804e608992078ece705973",
       "IPY_MODEL_4732d163519e49adb73a16071fce3c77",
       "IPY_MODEL_d33df8452bc8478db44f39417728b6d3"
      ],
      "layout": "IPY_MODEL_f9c8514b2be04f2da800400483f5db7d"
     }
    },
    "e96692801a6a4d59b84920e48860a714": {
     "model_module": "@jupyter-widgets/base",
     "model_module_version": "1.2.0",
     "model_name": "LayoutModel",
     "state": {
      "_model_module": "@jupyter-widgets/base",
      "_model_module_version": "1.2.0",
      "_model_name": "LayoutModel",
      "_view_count": null,
      "_view_module": "@jupyter-widgets/base",
      "_view_module_version": "1.2.0",
      "_view_name": "LayoutView",
      "align_content": null,
      "align_items": null,
      "align_self": null,
      "border": null,
      "bottom": null,
      "display": null,
      "flex": null,
      "flex_flow": null,
      "grid_area": null,
      "grid_auto_columns": null,
      "grid_auto_flow": null,
      "grid_auto_rows": null,
      "grid_column": null,
      "grid_gap": null,
      "grid_row": null,
      "grid_template_areas": null,
      "grid_template_columns": null,
      "grid_template_rows": null,
      "height": null,
      "justify_content": null,
      "justify_items": null,
      "left": null,
      "margin": null,
      "max_height": null,
      "max_width": null,
      "min_height": null,
      "min_width": null,
      "object_fit": null,
      "object_position": null,
      "order": null,
      "overflow": null,
      "overflow_x": null,
      "overflow_y": null,
      "padding": null,
      "right": null,
      "top": null,
      "visibility": null,
      "width": null
     }
    },
    "f472b48832fd4dbc8ce37836228a6c62": {
     "model_module": "@jupyter-widgets/controls",
     "model_module_version": "1.5.0",
     "model_name": "DescriptionStyleModel",
     "state": {
      "_model_module": "@jupyter-widgets/controls",
      "_model_module_version": "1.5.0",
      "_model_name": "DescriptionStyleModel",
      "_view_count": null,
      "_view_module": "@jupyter-widgets/base",
      "_view_module_version": "1.2.0",
      "_view_name": "StyleView",
      "description_width": ""
     }
    },
    "f9c8514b2be04f2da800400483f5db7d": {
     "model_module": "@jupyter-widgets/base",
     "model_module_version": "1.2.0",
     "model_name": "LayoutModel",
     "state": {
      "_model_module": "@jupyter-widgets/base",
      "_model_module_version": "1.2.0",
      "_model_name": "LayoutModel",
      "_view_count": null,
      "_view_module": "@jupyter-widgets/base",
      "_view_module_version": "1.2.0",
      "_view_name": "LayoutView",
      "align_content": null,
      "align_items": null,
      "align_self": null,
      "border": null,
      "bottom": null,
      "display": null,
      "flex": null,
      "flex_flow": null,
      "grid_area": null,
      "grid_auto_columns": null,
      "grid_auto_flow": null,
      "grid_auto_rows": null,
      "grid_column": null,
      "grid_gap": null,
      "grid_row": null,
      "grid_template_areas": null,
      "grid_template_columns": null,
      "grid_template_rows": null,
      "height": null,
      "justify_content": null,
      "justify_items": null,
      "left": null,
      "margin": null,
      "max_height": null,
      "max_width": null,
      "min_height": null,
      "min_width": null,
      "object_fit": null,
      "object_position": null,
      "order": null,
      "overflow": null,
      "overflow_x": null,
      "overflow_y": null,
      "padding": null,
      "right": null,
      "top": null,
      "visibility": null,
      "width": null
     }
    }
   }
  }
 },
 "nbformat": 4,
 "nbformat_minor": 4
}
