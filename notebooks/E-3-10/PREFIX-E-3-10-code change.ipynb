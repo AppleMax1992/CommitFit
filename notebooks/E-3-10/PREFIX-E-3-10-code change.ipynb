{
 "cells": [
  {
   "cell_type": "code",
   "execution_count": 1,
   "id": "77d93e6a-106b-4abd-87e7-1243d4c51126",
   "metadata": {},
   "outputs": [
    {
     "name": "stderr",
     "output_type": "stream",
     "text": [
      "/usr/local/miniconda3/lib/python3.8/site-packages/tqdm/auto.py:21: TqdmWarning: IProgress not found. Please update jupyter and ipywidgets. See https://ipywidgets.readthedocs.io/en/stable/user_install.html\n",
      "  from .autonotebook import tqdm as notebook_tqdm\n"
     ]
    }
   ],
   "source": [
    "# !pip install transformers accelerate\n",
    "from transformers import AutoTokenizer, AutoModel, EarlyStoppingCallback, AutoModelForSequenceClassification, AutoConfig,Trainer, TrainingArguments,DataCollatorWithPadding\n",
    "import torch\n",
    "import numpy as np\n",
    "import pandas as pd\n",
    "# !pip install datasets\n",
    "from datasets import load_metric\n",
    "# %pip install evaluate\n",
    "from evaluate import evaluator\n",
    "from sklearn.model_selection import train_test_split\n",
    "import csv\n",
    "\n",
    "# notebook_login()\n",
    "\n",
    "CUDA_LAUNCH_BLOCKING=1\n"
   ]
  },
  {
   "cell_type": "code",
   "execution_count": 2,
   "id": "9ef5359f-9526-4d19-a2da-7988dc1ea04f",
   "metadata": {},
   "outputs": [
    {
     "name": "stdout",
     "output_type": "stream",
     "text": [
      "1459    [MESSAGE]gio-2.0: various ownership and type_a...\n",
      "295     [MESSAGE]one more test that fails; some more c...\n",
      "1026    [MESSAGE]valadoc: LinkHelper: turn get_package...\n",
      "884     [MESSAGE]Fixed test--git-svn-id: https://svn.a...\n",
      "1514    [MESSAGE]json-glib-1.0: hide user data argumen...\n",
      "545     [MESSAGE]Add WITH_RUNTIME and WITH_REFLECT dir...\n",
      "461     [MESSAGE]JBRULES-2439--git-svn-id: https://svn...\n",
      "1297    [MESSAGE]392682: Show details for changesets\\n...\n",
      "51      [MESSAGE]Fixed javadoc and comments[CHANGE]000...\n",
      "403     [MESSAGE]YARN-2331. Distinguish shutdown durin...\n",
      "485     [MESSAGE]fix incremental compilation when upda...\n",
      "597     [MESSAGE]Extract Function: Consider reference ...\n",
      "1425    [MESSAGE]cairo: Use closure param to ReadFunc ...\n",
      "1273    [MESSAGE]Minor cleanup\\n\\n-ignore warning abou...\n",
      "941     [MESSAGE]Changed use of AssertThrows to @Test(...\n",
      "1000    [MESSAGE]importer: gir: Process callback comme...\n",
      "1488    [MESSAGE]gnutls: fix numerous errors preventin...\n",
      "1275    [MESSAGE]Move versions-task bridge to reviews\\...\n",
      "561     [MESSAGE]Rendering nice unicode arrow for func...\n",
      "662     [MESSAGE]JAX-RS extension continued: - @FormPa...\n",
      "330     [MESSAGE]YARN-2830. Add backwords compatible- ...\n",
      "1694    [MESSAGE]Brave new world\\nRewrite into a core ...\n",
      "252     [MESSAGE]fixed django template commenter again...\n",
      "1474    [MESSAGE]vapigen: add support for type_paramet...\n",
      "85      [MESSAGE]HBASE-11920 Add CP hooks for Replicat...\n",
      "1023    [MESSAGE]libvala: Add support for libvala-0.16...\n",
      "1340    [MESSAGE]DELTASPIKE-289 WindowContext cleanup\\...\n",
      "302     [MESSAGE]Major changes in data structures.- Re...\n",
      "331     [MESSAGE]HADOOP-6133. Add a caching layer to- ...\n",
      "1331    [MESSAGE]DELTASPIKE-312 introduce openejb.owb....\n",
      "899     [MESSAGE]Polish AbstractHandlerMethodMapping--...\n",
      "371     [MESSAGE]HDFS-7144. Fix findbugs warnings in- ...\n",
      "971     [MESSAGE]girmetadata: allow to override <ONLIN...\n",
      "1       [MESSAGE]Trying to extend the Scheduler interf...\n",
      "1157    [MESSAGE]Creates `stable` branch.\\n\\nThe stabl...\n",
      "Name: text, dtype: object\n",
      "1466    [MESSAGE]gtk+-2.0: Make Gtk.Window's arg defau...\n",
      "962     [MESSAGE]added DataSourceFactory strategy; pro...\n",
      "1597    [MESSAGE]- Replace Math.random() with ThreadLo...\n",
      "1035    [MESSAGE]gtkdoc-importer: Allow mixed content ...\n",
      "14      [MESSAGE]Add operators to create Observables f...\n",
      "                              ...                        \n",
      "1582    [MESSAGE][AESH-303]\\nadded support for help in...\n",
      "538     [MESSAGE]JS: fix rhino 64k issue--[CHANGE]0000...\n",
      "279     [MESSAGE]code-dups cleanup--[CHANGE]0000000000...\n",
      "830     [MESSAGE]CAMEL-6013 fixed the issue that  Vali...\n",
      "900     [MESSAGE]SPR-7305 -- o.s.http.client.SimpleCli...\n",
      "Name: text, Length: 1758, dtype: object\n"
     ]
    }
   ],
   "source": [
    "# df = pd.read_csv('D:\\IET software-CC-CL\\Commit Classification\\experiment\\Commit_dataset.csv', encoding=\"cp1252\")\n",
    "\n",
    "# label2id = {'a':'Adaptive','p':'Perfective','c':'Corrective'}\n",
    "# df = df.replace({\"3_labels\": label2id})\n",
    "# df = pd.read_csv(r'dataset.csv',engine=\"python\")\n",
    "# df['text'] = \"['DIFF]\" + df['diff']\n",
    "# # df = df.replace({\"2_labels\": label2id})\n",
    "# print(df)\n",
    "\n",
    "train = pd.read_csv('train.csv',index_col=0)\n",
    "\n",
    "train.fillna(0, inplace=True)\n",
    "\n",
    "# Concatenate last two columns into a new column\n",
    "train['Concatenated'] = train.apply(lambda x: ''.join(map(str, x[4:])), axis=1)\n",
    "train['Concatenated'] = '[MESSAGE]' + train['text'] + '[CHANGE]' + train['Concatenated']\n",
    "train.drop(columns = ['text'],inplace=True)\n",
    "train = train.rename(columns={'3_labels':'label','Concatenated':'text'})\n",
    "print(train['text'])\n",
    "\n",
    "\n",
    "test = pd.read_csv('test.csv', index_col=0)\n",
    "\n",
    "test.fillna(0, inplace=True)\n",
    "\n",
    "test['Concatenated'] = test.apply(lambda x: ''.join(map(str, x[4:])), axis=1)\n",
    "test['Concatenated'] = '[MESSAGE]' +  test['text'] +  '[CHANGE]' + test['Concatenated']\n",
    "test.drop(columns = ['text'],inplace=True)\n",
    "test = test.rename(columns={'3_labels':'label','Concatenated':'text'})\n",
    "\n",
    "\n",
    "print(test['text'])\n",
    "\n"
   ]
  },
  {
   "cell_type": "code",
   "execution_count": 3,
   "id": "ecb125ae-f537-4934-bbe2-cbf1e78c96bb",
   "metadata": {},
   "outputs": [],
   "source": [
    "# !pip install setfit\n",
    "from commitfit import get_templated_dataset,sample_dataset\n",
    "from datasets import Dataset, load_metric"
   ]
  },
  {
   "cell_type": "code",
   "execution_count": 4,
   "id": "2e214dbb-075e-4fbf-adc9-f3533801587e",
   "metadata": {},
   "outputs": [],
   "source": [
    "Dataset_train = Dataset.from_pandas(train)\n",
    "test_dataset = Dataset.from_pandas(test)"
   ]
  },
  {
   "cell_type": "code",
   "execution_count": 5,
   "id": "1a8ec7ec-1112-4140-8ccd-516ba9a1b1a8",
   "metadata": {},
   "outputs": [],
   "source": [
    "train_dataset = get_templated_dataset(Dataset_train, candidate_labels=['Corrective','Adaptive','Perfective'], sample_size=8)"
   ]
  },
  {
   "cell_type": "code",
   "execution_count": 6,
   "id": "c5ea76cd-69e5-4aa8-bf49-c9e746b63bbb",
   "metadata": {},
   "outputs": [
    {
     "data": {
      "text/plain": [
       "Dataset({\n",
       "    features: ['commit_id', 'project', 'label', 'ADDING_ATTRIBUTE_MODIFIABILITY', 'ADDING_METHOD_OVERRIDABILITY', 'ADDITIONAL_CLASS', 'ADDITIONAL_FUNCTIONALITY', 'ADDITIONAL_OBJECT_STATE', 'ALTERNATIVE_PART_DELETE', 'ALTERNATIVE_PART_INSERT', 'ATTRIBUTE_RENAMING', 'ATTRIBUTE_TYPE_CHANGE', 'CLASS_RENAMING', 'COMMENT_DELETE', 'COMMENT_INSERT', 'COMMENT_MOVE', 'COMMENT_UPDATE', 'CONDITION_EXPRESSION_CHANGE', 'DECREASING_ACCESSIBILITY_CHANGE', 'DOC_DELETE', 'DOC_INSERT', 'DOC_UPDATE', 'INCREASING_ACCESSIBILITY_CHANGE', 'METHOD_RENAMING', 'PARAMETER_DELETE', 'PARAMETER_INSERT', 'PARAMETER_ORDERING_CHANGE', 'PARAMETER_RENAMING', 'PARAMETER_TYPE_CHANGE', 'PARENT_CLASS_CHANGE', 'PARENT_CLASS_DELETE', 'PARENT_CLASS_INSERT', 'PARENT_INTERFACE_CHANGE', 'PARENT_INTERFACE_DELETE', 'PARENT_INTERFACE_INSERT', 'REMOVED_CLASS', 'REMOVED_FUNCTIONALITY', 'REMOVED_OBJECT_STATE', 'REMOVING_ATTRIBUTE_MODIFIABILITY', 'REMOVING_CLASS_DERIVABILITY', 'REMOVING_METHOD_OVERRIDABILITY', 'RETURN_TYPE_CHANGE', 'RETURN_TYPE_DELETE', 'RETURN_TYPE_INSERT', 'STATEMENT_DELETE', 'STATEMENT_INSERT', 'STATEMENT_ORDERING_CHANGE', 'STATEMENT_PARENT_CHANGE', 'STATEMENT_UPDATE', 'add', 'allow', 'bug', 'chang', 'error', 'fail', 'fix', 'implement', 'improv', 'issu', 'method', 'new', 'npe', 'refactor', 'remov', 'report', 'set', 'support', 'test', 'use', 'Contains Bug Fix?', 'Extract Method', 'Inline Method', 'Move Method', 'Move Attribute', 'Pull up Method', 'Pull up Attribute', 'Push Down Method', 'Push Down Attribute', 'Extract Class', 'Extract Subclass', 'Extract Superclass', 'Extract Interface', 'Change Package', 'Extract Variable', 'Inline Variable', 'Parametrize Variable', 'Rename Variable', 'Replace Variable with Attribute', 'Change Variable Type', 'Move and Rename Class', 'Move Class', 'Extract and Move Method', 'Move Source Folder', 'text', '__index_level_0__'],\n",
       "    num_rows: 59\n",
       "})"
      ]
     },
     "execution_count": 6,
     "metadata": {},
     "output_type": "execute_result"
    }
   ],
   "source": [
    "# list(train['message'].astype(str).values)\n",
    "train_dataset"
   ]
  },
  {
   "cell_type": "code",
   "execution_count": 7,
   "id": "ee30affe-0ec9-46a3-bcaa-a1bd9422c939",
   "metadata": {},
   "outputs": [
    {
     "data": {
      "text/plain": [
       "35"
      ]
     },
     "execution_count": 7,
     "metadata": {},
     "output_type": "execute_result"
    }
   ],
   "source": [
    "len(train)"
   ]
  },
  {
   "cell_type": "code",
   "execution_count": 8,
   "id": "84e38639-cf4b-4762-a1dc-cdc983938388",
   "metadata": {},
   "outputs": [
    {
     "data": {
      "text/plain": [
       "label\n",
       "Corrective    12\n",
       "Perfective    12\n",
       "Adaptive      11\n",
       "Name: count, dtype: int64"
      ]
     },
     "execution_count": 8,
     "metadata": {},
     "output_type": "execute_result"
    }
   ],
   "source": [
    "train['label'].value_counts()"
   ]
  },
  {
   "cell_type": "code",
   "execution_count": 9,
   "id": "3cf6c110-616d-45da-aa2e-4a5add26b3c0",
   "metadata": {},
   "outputs": [
    {
     "data": {
      "text/plain": [
       "label\n",
       "Corrective    591\n",
       "Perfective    588\n",
       "Adaptive      579\n",
       "Name: count, dtype: int64"
      ]
     },
     "execution_count": 9,
     "metadata": {},
     "output_type": "execute_result"
    }
   ],
   "source": [
    "test['label'].value_counts()"
   ]
  },
  {
   "cell_type": "code",
   "execution_count": 10,
   "id": "77117d87-5292-48f5-b077-74b47ccfd5eb",
   "metadata": {},
   "outputs": [
    {
     "data": {
      "text/plain": [
       "59"
      ]
     },
     "execution_count": 10,
     "metadata": {},
     "output_type": "execute_result"
    }
   ],
   "source": [
    "len(train_dataset)"
   ]
  },
  {
   "cell_type": "code",
   "execution_count": 11,
   "id": "dca6275a-a567-4963-831c-8dd653341162",
   "metadata": {},
   "outputs": [],
   "source": [
    "from sklearn import  metrics\n",
    "\n",
    "def compute_metrics(y_pred, y_test):\n",
    "    # print(y_pred,y_test)\n",
    "    # classification_report = metrics.classification_report(y_test,y_pred)\n",
    "    accuracy_score = metrics.accuracy_score(y_test,y_pred)\n",
    "    precision_score = metrics.precision_score(y_test,y_pred, average='weighted')\n",
    "    recall_score = metrics.recall_score(y_test,y_pred,average='weighted')\n",
    "    f1_score = metrics.f1_score(y_test,y_pred,average='weighted')\n",
    "\n",
    "    # return {\"classification_report\": classification_report}\n",
    "    return {\"accuracy\": accuracy_score, \"precision\": precision_score,\"recall\": recall_score, \"f1\":f1_score}"
   ]
  },
  {
   "cell_type": "code",
   "execution_count": 12,
   "id": "49e32d66-2fc2-4a53-bae1-13f8d67c5b6f",
   "metadata": {},
   "outputs": [
    {
     "data": {
      "text/plain": [
       "Dataset({\n",
       "    features: ['commit_id', 'project', 'label', 'ADDING_ATTRIBUTE_MODIFIABILITY', 'ADDING_METHOD_OVERRIDABILITY', 'ADDITIONAL_CLASS', 'ADDITIONAL_FUNCTIONALITY', 'ADDITIONAL_OBJECT_STATE', 'ALTERNATIVE_PART_DELETE', 'ALTERNATIVE_PART_INSERT', 'ATTRIBUTE_RENAMING', 'ATTRIBUTE_TYPE_CHANGE', 'CLASS_RENAMING', 'COMMENT_DELETE', 'COMMENT_INSERT', 'COMMENT_MOVE', 'COMMENT_UPDATE', 'CONDITION_EXPRESSION_CHANGE', 'DECREASING_ACCESSIBILITY_CHANGE', 'DOC_DELETE', 'DOC_INSERT', 'DOC_UPDATE', 'INCREASING_ACCESSIBILITY_CHANGE', 'METHOD_RENAMING', 'PARAMETER_DELETE', 'PARAMETER_INSERT', 'PARAMETER_ORDERING_CHANGE', 'PARAMETER_RENAMING', 'PARAMETER_TYPE_CHANGE', 'PARENT_CLASS_CHANGE', 'PARENT_CLASS_DELETE', 'PARENT_CLASS_INSERT', 'PARENT_INTERFACE_CHANGE', 'PARENT_INTERFACE_DELETE', 'PARENT_INTERFACE_INSERT', 'REMOVED_CLASS', 'REMOVED_FUNCTIONALITY', 'REMOVED_OBJECT_STATE', 'REMOVING_ATTRIBUTE_MODIFIABILITY', 'REMOVING_CLASS_DERIVABILITY', 'REMOVING_METHOD_OVERRIDABILITY', 'RETURN_TYPE_CHANGE', 'RETURN_TYPE_DELETE', 'RETURN_TYPE_INSERT', 'STATEMENT_DELETE', 'STATEMENT_INSERT', 'STATEMENT_ORDERING_CHANGE', 'STATEMENT_PARENT_CHANGE', 'STATEMENT_UPDATE', 'add', 'allow', 'bug', 'chang', 'error', 'fail', 'fix', 'implement', 'improv', 'issu', 'method', 'new', 'npe', 'refactor', 'remov', 'report', 'set', 'support', 'test', 'use', 'Contains Bug Fix?', 'Extract Method', 'Inline Method', 'Move Method', 'Move Attribute', 'Pull up Method', 'Pull up Attribute', 'Push Down Method', 'Push Down Attribute', 'Extract Class', 'Extract Subclass', 'Extract Superclass', 'Extract Interface', 'Change Package', 'Extract Variable', 'Inline Variable', 'Parametrize Variable', 'Rename Variable', 'Replace Variable with Attribute', 'Change Variable Type', 'Move and Rename Class', 'Move Class', 'Extract and Move Method', 'Move Source Folder', 'text', '__index_level_0__'],\n",
       "    num_rows: 59\n",
       "})"
      ]
     },
     "execution_count": 12,
     "metadata": {},
     "output_type": "execute_result"
    }
   ],
   "source": [
    "train_dataset"
   ]
  },
  {
   "cell_type": "code",
   "execution_count": 13,
   "id": "b7c52074-c55f-4218-bc87-cdbc6e36a993",
   "metadata": {},
   "outputs": [],
   "source": [
    "# train"
   ]
  },
  {
   "cell_type": "code",
   "execution_count": 14,
   "id": "d9ede869-1587-4e42-8879-e819e5961dca",
   "metadata": {},
   "outputs": [],
   "source": [
    "model_id = \"sentence-transformers/paraphrase-mpnet-base-v2\""
   ]
  },
  {
   "cell_type": "code",
   "execution_count": 15,
   "id": "a6501389-0c86-442d-85cf-f04ad146703f",
   "metadata": {},
   "outputs": [
    {
     "name": "stderr",
     "output_type": "stream",
     "text": [
      "model_head.pkl not found on HuggingFace Hub, initialising classification head with random weights. You should TRAIN this model on a downstream task to use it for predictions and inference.\n"
     ]
    }
   ],
   "source": [
    "from commitfit import CommitFitModel\n",
    "model = CommitFitModel.from_pretrained(model_id)"
   ]
  },
  {
   "cell_type": "code",
   "execution_count": 16,
   "id": "2244f079-c2b8-4e01-aca4-f68e7ce8accb",
   "metadata": {},
   "outputs": [],
   "source": [
    "from commitfit import CommitFitTrainer\n",
    "\n",
    "trainer = CommitFitTrainer(\n",
    "    model=model,\n",
    "    train_dataset=train_dataset,\n",
    "    eval_dataset=test_dataset,\n",
    "    metric = compute_metrics,\n",
    "    num_iterations=20,\n",
    "    num_epochs=1\n",
    ")"
   ]
  },
  {
   "cell_type": "code",
   "execution_count": 17,
   "id": "40cfde46-c7d5-4446-8b53-7ad4dc8edb66",
   "metadata": {},
   "outputs": [
    {
     "name": "stderr",
     "output_type": "stream",
     "text": [
      "Generating Training Pairs: 100%|██████████| 20/20 [00:00<00:00, 384.62it/s]\n",
      "***** Running training *****\n",
      "  Num examples = 2360\n",
      "  Num epochs = 1\n",
      "  Total optimization steps = 148\n",
      "  Total train batch size = 16\n",
      "Epoch:   0%|          | 0/1 [00:00<?, ?it/s]\n",
      "Iteration:   0%|          | 0/148 [00:00<?, ?it/s]\u001b[A\n",
      "Iteration:   1%|          | 1/148 [00:01<02:37,  1.07s/it]\u001b[A\n",
      "Iteration:   1%|▏         | 2/148 [00:01<01:31,  1.60it/s]\u001b[A\n",
      "Iteration:   2%|▏         | 3/148 [00:01<01:08,  2.12it/s]\u001b[A\n",
      "Iteration:   3%|▎         | 4/148 [00:01<00:55,  2.59it/s]\u001b[A\n",
      "Iteration:   3%|▎         | 5/148 [00:01<00:49,  2.89it/s]\u001b[A\n",
      "Iteration:   4%|▍         | 6/148 [00:01<00:44,  3.22it/s]\u001b[A\n",
      "Iteration:   5%|▍         | 7/148 [00:02<00:43,  3.26it/s]\u001b[A\n",
      "Iteration:   5%|▌         | 8/148 [00:02<00:40,  3.48it/s]\u001b[A\n",
      "Iteration:   6%|▌         | 9/148 [00:02<00:39,  3.50it/s]\u001b[A\n",
      "Iteration:   7%|▋         | 10/148 [00:02<00:37,  3.69it/s]\u001b[A\n",
      "Iteration:   7%|▋         | 11/148 [00:03<00:35,  3.85it/s]\u001b[A\n",
      "Iteration:   8%|▊         | 12/148 [00:03<00:34,  3.94it/s]\u001b[A\n",
      "Iteration:   9%|▉         | 13/148 [00:03<00:33,  4.07it/s]\u001b[A\n",
      "Iteration:   9%|▉         | 14/148 [00:03<00:31,  4.21it/s]\u001b[A\n",
      "Iteration:  10%|█         | 15/148 [00:03<00:31,  4.17it/s]\u001b[A\n",
      "Iteration:  11%|█         | 16/148 [00:04<00:31,  4.22it/s]\u001b[A\n",
      "Iteration:  11%|█▏        | 17/148 [00:04<00:30,  4.33it/s]\u001b[A\n",
      "Iteration:  12%|█▏        | 18/148 [00:04<00:30,  4.24it/s]\u001b[A\n",
      "Iteration:  13%|█▎        | 19/148 [00:04<00:31,  4.04it/s]\u001b[A\n",
      "Iteration:  14%|█▎        | 20/148 [00:05<00:32,  3.99it/s]\u001b[A\n",
      "Iteration:  14%|█▍        | 21/148 [00:05<00:31,  4.06it/s]\u001b[A\n",
      "Iteration:  15%|█▍        | 22/148 [00:05<00:31,  4.01it/s]\u001b[A\n",
      "Iteration:  16%|█▌        | 23/148 [00:05<00:30,  4.13it/s]\u001b[A\n",
      "Iteration:  16%|█▌        | 24/148 [00:06<00:29,  4.19it/s]\u001b[A\n",
      "Iteration:  17%|█▋        | 25/148 [00:06<00:29,  4.24it/s]\u001b[A\n",
      "Iteration:  18%|█▊        | 26/148 [00:06<00:29,  4.20it/s]\u001b[A\n",
      "Iteration:  18%|█▊        | 27/148 [00:06<00:29,  4.15it/s]\u001b[A\n",
      "Iteration:  19%|█▉        | 28/148 [00:07<00:29,  4.08it/s]\u001b[A\n",
      "Iteration:  20%|█▉        | 29/148 [00:07<00:29,  4.03it/s]\u001b[A\n",
      "Iteration:  20%|██        | 30/148 [00:07<00:28,  4.12it/s]\u001b[A\n",
      "Iteration:  21%|██        | 31/148 [00:07<00:28,  4.07it/s]\u001b[A\n",
      "Iteration:  22%|██▏       | 32/148 [00:08<00:28,  4.11it/s]\u001b[A\n",
      "Iteration:  22%|██▏       | 33/148 [00:08<00:27,  4.19it/s]\u001b[A\n",
      "Iteration:  23%|██▎       | 34/148 [00:08<00:27,  4.14it/s]\u001b[A\n",
      "Iteration:  24%|██▎       | 35/148 [00:08<00:28,  3.99it/s]\u001b[A\n",
      "Iteration:  24%|██▍       | 36/148 [00:09<00:27,  4.07it/s]\u001b[A\n",
      "Iteration:  25%|██▌       | 37/148 [00:09<00:27,  4.02it/s]\u001b[A\n",
      "Iteration:  26%|██▌       | 38/148 [00:09<00:27,  4.07it/s]\u001b[A\n",
      "Iteration:  26%|██▋       | 39/148 [00:09<00:26,  4.13it/s]\u001b[A\n",
      "Iteration:  27%|██▋       | 40/148 [00:09<00:25,  4.18it/s]\u001b[A\n",
      "Iteration:  28%|██▊       | 41/148 [00:10<00:25,  4.25it/s]\u001b[A\n",
      "Iteration:  28%|██▊       | 42/148 [00:10<00:25,  4.19it/s]\u001b[A\n",
      "Iteration:  29%|██▉       | 43/148 [00:10<00:25,  4.17it/s]\u001b[A\n",
      "Iteration:  30%|██▉       | 44/148 [00:10<00:24,  4.24it/s]\u001b[A\n",
      "Iteration:  30%|███       | 45/148 [00:10<00:23,  4.33it/s]\u001b[A\n",
      "Iteration:  31%|███       | 46/148 [00:11<00:24,  4.19it/s]\u001b[A\n",
      "Iteration:  32%|███▏      | 47/148 [00:11<00:24,  4.16it/s]\u001b[A\n",
      "Iteration:  32%|███▏      | 48/148 [00:11<00:23,  4.22it/s]\u001b[A\n",
      "Iteration:  33%|███▎      | 49/148 [00:12<00:23,  4.19it/s]\u001b[A\n",
      "Iteration:  34%|███▍      | 50/148 [00:12<00:22,  4.26it/s]\u001b[A\n",
      "Iteration:  34%|███▍      | 51/148 [00:12<00:22,  4.31it/s]\u001b[A\n",
      "Iteration:  35%|███▌      | 52/148 [00:12<00:22,  4.27it/s]\u001b[A\n",
      "Iteration:  36%|███▌      | 53/148 [00:12<00:21,  4.36it/s]\u001b[A\n",
      "Iteration:  36%|███▋      | 54/148 [00:13<00:21,  4.39it/s]\u001b[A\n",
      "Iteration:  37%|███▋      | 55/148 [00:13<00:21,  4.32it/s]\u001b[A\n",
      "Iteration:  38%|███▊      | 56/148 [00:13<00:21,  4.28it/s]\u001b[A\n",
      "Iteration:  39%|███▊      | 57/148 [00:13<00:21,  4.21it/s]\u001b[A\n",
      "Iteration:  39%|███▉      | 58/148 [00:14<00:21,  4.24it/s]\u001b[A\n",
      "Iteration:  40%|███▉      | 59/148 [00:14<00:20,  4.32it/s]\u001b[A\n",
      "Iteration:  41%|████      | 60/148 [00:14<00:20,  4.35it/s]\u001b[A\n",
      "Iteration:  41%|████      | 61/148 [00:14<00:19,  4.41it/s]\u001b[A\n",
      "Iteration:  42%|████▏     | 62/148 [00:14<00:19,  4.48it/s]\u001b[A\n",
      "Iteration:  43%|████▎     | 63/148 [00:14<00:18,  4.58it/s]\u001b[A\n",
      "Iteration:  43%|████▎     | 64/148 [00:15<00:18,  4.62it/s]\u001b[A\n",
      "Iteration:  44%|████▍     | 65/148 [00:15<00:17,  4.65it/s]\u001b[A\n",
      "Iteration:  45%|████▍     | 66/148 [00:15<00:17,  4.70it/s]\u001b[A\n",
      "Iteration:  45%|████▌     | 67/148 [00:15<00:17,  4.73it/s]\u001b[A\n",
      "Iteration:  46%|████▌     | 68/148 [00:15<00:16,  4.77it/s]\u001b[A\n",
      "Iteration:  47%|████▋     | 69/148 [00:16<00:16,  4.67it/s]\u001b[A\n",
      "Iteration:  47%|████▋     | 70/148 [00:16<00:16,  4.70it/s]\u001b[A\n",
      "Iteration:  48%|████▊     | 71/148 [00:16<00:16,  4.76it/s]\u001b[A\n",
      "Iteration:  49%|████▊     | 72/148 [00:16<00:15,  4.80it/s]\u001b[A\n",
      "Iteration:  49%|████▉     | 73/148 [00:16<00:15,  4.82it/s]\u001b[A\n",
      "Iteration:  50%|█████     | 74/148 [00:16<00:15,  4.85it/s]\u001b[A\n",
      "Iteration:  51%|█████     | 75/148 [00:17<00:15,  4.65it/s]\u001b[A\n",
      "Iteration:  51%|█████▏    | 76/148 [00:17<00:15,  4.70it/s]\u001b[A\n",
      "Iteration:  52%|█████▏    | 77/148 [00:17<00:15,  4.62it/s]\u001b[A\n",
      "Iteration:  53%|█████▎    | 78/148 [00:18<00:15,  4.54it/s]\u001b[A\n",
      "Iteration:  53%|█████▎    | 79/148 [00:18<00:14,  4.61it/s]\u001b[A\n",
      "Iteration:  54%|█████▍    | 80/148 [00:18<00:14,  4.54it/s]\u001b[A\n",
      "Iteration:  55%|█████▍    | 81/148 [00:18<00:14,  4.47it/s]\u001b[A\n",
      "Iteration:  55%|█████▌    | 82/148 [00:19<00:14,  4.49it/s]\u001b[A\n",
      "Iteration:  56%|█████▌    | 83/148 [00:19<00:14,  4.57it/s]\u001b[A\n",
      "Iteration:  57%|█████▋    | 84/148 [00:19<00:13,  4.63it/s]\u001b[A\n",
      "Iteration:  57%|█████▋    | 85/148 [00:19<00:13,  4.55it/s]\u001b[A\n",
      "Iteration:  58%|█████▊    | 86/148 [00:19<00:13,  4.59it/s]\u001b[A\n",
      "Iteration:  59%|█████▉    | 87/148 [00:20<00:13,  4.54it/s]\u001b[A\n",
      "Iteration:  59%|█████▉    | 88/148 [00:20<00:13,  4.46it/s]\u001b[A\n",
      "Iteration:  60%|██████    | 89/148 [00:20<00:13,  4.30it/s]\u001b[A\n",
      "Iteration:  61%|██████    | 90/148 [00:20<00:13,  4.35it/s]\u001b[A\n",
      "Iteration:  61%|██████▏   | 91/148 [00:21<00:13,  4.21it/s]\u001b[A\n",
      "Iteration:  62%|██████▏   | 92/148 [00:21<00:13,  4.15it/s]\u001b[A\n",
      "Iteration:  63%|██████▎   | 93/148 [00:21<00:13,  4.11it/s]\u001b[A\n",
      "Iteration:  64%|██████▎   | 94/148 [00:22<00:12,  4.16it/s]\u001b[A\n",
      "Iteration:  64%|██████▍   | 95/148 [00:22<00:12,  4.19it/s]\u001b[A\n",
      "Iteration:  65%|██████▍   | 96/148 [00:22<00:12,  4.28it/s]\u001b[A\n",
      "Iteration:  66%|██████▌   | 97/148 [00:22<00:11,  4.30it/s]\u001b[A\n",
      "Iteration:  66%|██████▌   | 98/148 [00:22<00:11,  4.28it/s]\u001b[A\n",
      "Iteration:  67%|██████▋   | 99/148 [00:23<00:11,  4.34it/s]\u001b[A\n",
      "Iteration:  68%|██████▊   | 100/148 [00:23<00:11,  4.29it/s]\u001b[A\n",
      "Iteration:  68%|██████▊   | 101/148 [00:23<00:10,  4.33it/s]\u001b[A\n",
      "Iteration:  69%|██████▉   | 102/148 [00:23<00:10,  4.39it/s]\u001b[A\n",
      "Iteration:  70%|██████▉   | 103/148 [00:23<00:10,  4.44it/s]\u001b[A\n",
      "Iteration:  70%|███████   | 104/148 [00:24<00:09,  4.49it/s]\u001b[A\n",
      "Iteration:  71%|███████   | 105/148 [00:24<00:09,  4.52it/s]\u001b[A\n",
      "Iteration:  72%|███████▏  | 106/148 [00:24<00:09,  4.45it/s]\u001b[A\n",
      "Iteration:  72%|███████▏  | 107/148 [00:24<00:09,  4.54it/s]\u001b[A\n",
      "Iteration:  73%|███████▎  | 108/148 [00:24<00:08,  4.51it/s]\u001b[A\n",
      "Iteration:  74%|███████▎  | 109/148 [00:25<00:08,  4.52it/s]\u001b[A\n",
      "Iteration:  74%|███████▍  | 110/148 [00:25<00:08,  4.36it/s]\u001b[A\n",
      "Iteration:  75%|███████▌  | 111/148 [00:25<00:08,  4.33it/s]\u001b[A\n",
      "Iteration:  76%|███████▌  | 112/148 [00:26<00:08,  4.29it/s]\u001b[A\n",
      "Iteration:  76%|███████▋  | 113/148 [00:26<00:08,  4.31it/s]\u001b[A\n",
      "Iteration:  77%|███████▋  | 114/148 [00:26<00:07,  4.35it/s]\u001b[A\n",
      "Iteration:  78%|███████▊  | 115/148 [00:26<00:07,  4.28it/s]\u001b[A\n",
      "Iteration:  78%|███████▊  | 116/148 [00:27<00:07,  4.17it/s]\u001b[A\n",
      "Iteration:  79%|███████▉  | 117/148 [00:27<00:07,  4.23it/s]\u001b[A\n",
      "Iteration:  80%|███████▉  | 118/148 [00:27<00:07,  4.21it/s]\u001b[A\n",
      "Iteration:  80%|████████  | 119/148 [00:27<00:06,  4.17it/s]\u001b[A\n",
      "Iteration:  81%|████████  | 120/148 [00:28<00:06,  4.20it/s]\u001b[A\n",
      "Iteration:  82%|████████▏ | 121/148 [00:28<00:06,  4.25it/s]\u001b[A\n",
      "Iteration:  82%|████████▏ | 122/148 [00:28<00:06,  4.32it/s]\u001b[A\n",
      "Iteration:  83%|████████▎ | 123/148 [00:28<00:05,  4.37it/s]\u001b[A\n",
      "Iteration:  84%|████████▍ | 124/148 [00:28<00:05,  4.39it/s]\u001b[A\n",
      "Iteration:  84%|████████▍ | 125/148 [00:29<00:05,  4.37it/s]\u001b[A\n",
      "Iteration:  85%|████████▌ | 126/148 [00:29<00:04,  4.43it/s]\u001b[A\n",
      "Iteration:  86%|████████▌ | 127/148 [00:29<00:04,  4.37it/s]\u001b[A\n",
      "Iteration:  86%|████████▋ | 128/148 [00:29<00:04,  4.41it/s]\u001b[A\n",
      "Iteration:  87%|████████▋ | 129/148 [00:29<00:04,  4.45it/s]\u001b[A\n",
      "Iteration:  88%|████████▊ | 130/148 [00:30<00:03,  4.52it/s]\u001b[A\n",
      "Iteration:  89%|████████▊ | 131/148 [00:30<00:03,  4.53it/s]\u001b[A\n",
      "Iteration:  89%|████████▉ | 132/148 [00:30<00:03,  4.37it/s]\u001b[A\n",
      "Iteration:  90%|████████▉ | 133/148 [00:30<00:03,  4.31it/s]\u001b[A\n",
      "Iteration:  91%|█████████ | 134/148 [00:31<00:03,  4.38it/s]\u001b[A\n",
      "Iteration:  91%|█████████ | 135/148 [00:31<00:02,  4.42it/s]\u001b[A\n",
      "Iteration:  92%|█████████▏| 136/148 [00:31<00:02,  4.48it/s]\u001b[A\n",
      "Iteration:  93%|█████████▎| 137/148 [00:31<00:02,  4.44it/s]\u001b[A\n",
      "Iteration:  93%|█████████▎| 138/148 [00:31<00:02,  4.38it/s]\u001b[A\n",
      "Iteration:  94%|█████████▍| 139/148 [00:32<00:02,  4.43it/s]\u001b[A\n",
      "Iteration:  95%|█████████▍| 140/148 [00:32<00:01,  4.45it/s]\u001b[A\n",
      "Iteration:  95%|█████████▌| 141/148 [00:32<00:01,  4.30it/s]\u001b[A\n",
      "Iteration:  96%|█████████▌| 142/148 [00:32<00:01,  4.38it/s]\u001b[A\n",
      "Iteration:  97%|█████████▋| 143/148 [00:33<00:01,  4.43it/s]\u001b[A\n",
      "Iteration:  97%|█████████▋| 144/148 [00:33<00:00,  4.46it/s]\u001b[A\n",
      "Iteration:  98%|█████████▊| 145/148 [00:33<00:00,  4.37it/s]\u001b[A\n",
      "Iteration:  99%|█████████▊| 146/148 [00:34<00:00,  4.20it/s]\u001b[A\n",
      "Iteration: 100%|██████████| 148/148 [00:34<00:00,  4.32it/s]\u001b[A\n",
      "Epoch: 100%|██████████| 1/1 [00:34<00:00, 34.29s/it]\n",
      "***** Running evaluation *****\n"
     ]
    },
    {
     "name": "stdout",
     "output_type": "stream",
     "text": [
      "CPU times: user 51.6 s, sys: 20.2 s, total: 1min 11s\n",
      "Wall time: 38.4 s\n"
     ]
    },
    {
     "data": {
      "text/plain": [
       "{'accuracy': 0.6598407281001137,\n",
       " 'precision': 0.6613456996210274,\n",
       " 'recall': 0.6598407281001137,\n",
       " 'f1': 0.649090069789847}"
      ]
     },
     "execution_count": 17,
     "metadata": {},
     "output_type": "execute_result"
    }
   ],
   "source": [
    "%%time\n",
    "trainer.train()\n",
    "fewshot_metrics = trainer.evaluate()\n",
    "fewshot_metrics"
   ]
  },
  {
   "cell_type": "code",
   "execution_count": null,
   "id": "ae735a8b-c672-4dce-822c-61330c34481b",
   "metadata": {},
   "outputs": [],
   "source": []
  },
  {
   "cell_type": "code",
   "execution_count": null,
   "id": "166dcf9b-a0bd-4b60-854c-c6535c22a111",
   "metadata": {},
   "outputs": [],
   "source": []
  },
  {
   "cell_type": "code",
   "execution_count": null,
   "id": "af21aba7-66cd-4762-b5d4-6d27650bba7e",
   "metadata": {},
   "outputs": [],
   "source": []
  },
  {
   "cell_type": "code",
   "execution_count": null,
   "id": "6a6e2008-2b04-43c7-9c72-3f9fa9b6bafe",
   "metadata": {},
   "outputs": [],
   "source": []
  },
  {
   "cell_type": "code",
   "execution_count": null,
   "id": "99ef5d5b-1f8e-4b10-aa74-963f9c4429d9",
   "metadata": {},
   "outputs": [],
   "source": []
  }
 ],
 "metadata": {
  "kernelspec": {
   "display_name": "Python 3 (ipykernel)",
   "language": "python",
   "name": "python3"
  },
  "language_info": {
   "codemirror_mode": {
    "name": "ipython",
    "version": 3
   },
   "file_extension": ".py",
   "mimetype": "text/x-python",
   "name": "python",
   "nbconvert_exporter": "python",
   "pygments_lexer": "ipython3",
   "version": "3.8.10"
  }
 },
 "nbformat": 4,
 "nbformat_minor": 5
}
