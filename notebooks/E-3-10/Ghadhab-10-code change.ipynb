{
 "cells": [
  {
   "cell_type": "code",
   "execution_count": 1,
   "id": "77d93e6a-106b-4abd-87e7-1243d4c51126",
   "metadata": {
    "execution": {
     "iopub.execute_input": "2025-08-29T00:43:01.018549Z",
     "iopub.status.busy": "2025-08-29T00:43:01.018079Z",
     "iopub.status.idle": "2025-08-29T00:43:05.959791Z",
     "shell.execute_reply": "2025-08-29T00:43:05.958828Z",
     "shell.execute_reply.started": "2025-08-29T00:43:01.018491Z"
    }
   },
   "outputs": [
    {
     "name": "stdout",
     "output_type": "stream",
     "text": [
      "\n",
      "root\n",
      "autodl-tmp\n",
      "CommitFit\n"
     ]
    }
   ],
   "source": [
    "# !pip install transformers accelerate\n",
    "from transformers import EarlyStoppingCallback\n",
    "import torch\n",
    "import numpy as np\n",
    "import pandas as pd\n",
    "# !pip install datasets\n",
    "from datasets import Dataset\n",
    "# %pip install evaluate\n",
    "import evaluate\n",
    "from sklearn.model_selection import train_test_split\n",
    "# from ipywidgets import FloatProgress\n",
    "import csv\n",
    "from optuna import Trial\n",
    "from typing import Dict, Union, Any\n",
    "import os\n",
    "import sys\n",
    "\n",
    "# notebook_login()\n",
    "\n",
    "csv.field_size_limit(500 * 1024 * 1024)\n",
    "CUDA_LAUNCH_BLOCKING=1\n",
    "# get pwd\n",
    "notebook_path = os.path.abspath('')\n",
    "\n",
    "# Find the part of the path that contains 'commitFit'\n",
    "commit_fit_path = None\n",
    "for part in notebook_path.split(os.sep):\n",
    "    print(part)\n",
    "    if 'CommitFit' in part:\n",
    "        commit_fit_path = notebook_path.split(part)[0] + part\n",
    "        break\n",
    "\n",
    "if commit_fit_path is None:\n",
    "    raise ValueError(\"Path containing 'commitFit' not found in notebook path.\")\n",
    "\n",
    "# Add commitFit directory to Python path, so we can import moudule from commitfit folder directly\n",
    "if commit_fit_path not in sys.path:\n",
    "    sys.path.append(commit_fit_path)\n",
    "\n",
    "from commitfit import CommitFitModel, CommitFitTrainer \n",
    "from commitfit import get_templated_dataset,sample_dataset"
   ]
  },
  {
   "cell_type": "code",
   "execution_count": 2,
   "id": "9ef5359f-9526-4d19-a2da-7988dc1ea04f",
   "metadata": {
    "execution": {
     "iopub.execute_input": "2025-08-29T00:43:05.963214Z",
     "iopub.status.busy": "2025-08-29T00:43:05.962386Z",
     "iopub.status.idle": "2025-08-29T00:43:06.585228Z",
     "shell.execute_reply": "2025-08-29T00:43:06.584087Z",
     "shell.execute_reply.started": "2025-08-29T00:43:05.963169Z"
    }
   },
   "outputs": [
    {
     "data": {
      "text/html": [
       "<div>\n",
       "<style scoped>\n",
       "    .dataframe tbody tr th:only-of-type {\n",
       "        vertical-align: middle;\n",
       "    }\n",
       "\n",
       "    .dataframe tbody tr th {\n",
       "        vertical-align: top;\n",
       "    }\n",
       "\n",
       "    .dataframe thead th {\n",
       "        text-align: right;\n",
       "    }\n",
       "</style>\n",
       "<table border=\"1\" class=\"dataframe\">\n",
       "  <thead>\n",
       "    <tr style=\"text-align: right;\">\n",
       "      <th></th>\n",
       "      <th>repo</th>\n",
       "      <th>commit</th>\n",
       "      <th>label</th>\n",
       "      <th>text</th>\n",
       "      <th>diffs</th>\n",
       "      <th>feature</th>\n",
       "    </tr>\n",
       "    <tr>\n",
       "      <th>user</th>\n",
       "      <th></th>\n",
       "      <th></th>\n",
       "      <th></th>\n",
       "      <th></th>\n",
       "      <th></th>\n",
       "      <th></th>\n",
       "    </tr>\n",
       "  </thead>\n",
       "  <tbody>\n",
       "    <tr>\n",
       "      <th>ponsonio</th>\n",
       "      <td>RxJava</td>\n",
       "      <td>0531b8bff5c14d9504beefb4ad47f473e3a22932</td>\n",
       "      <td>Perfective</td>\n",
       "      <td>Change hasException to hasThrowable--</td>\n",
       "      <td>diff --git a/rxjava-core/src/main/java/rx/Noti...</td>\n",
       "      <td>[1, 0, 0, 4, 0, 0, 0, 0, 0, 0, 0, 0, 0, 0, 0, ...</td>\n",
       "    </tr>\n",
       "    <tr>\n",
       "      <th>ponsonio</th>\n",
       "      <td>RxJava</td>\n",
       "      <td>0950c46beda335819928585f1262dfe1dca78a0b</td>\n",
       "      <td>Adaptive</td>\n",
       "      <td>Trying to extend the Scheduler interface accor...</td>\n",
       "      <td>diff --git a/rxjava-core/src/main/java/rx/Sche...</td>\n",
       "      <td>[2, 44, 0, 0, 30, 0, 0, 1, 18, 0, 0, 0, 0, 0, ...</td>\n",
       "    </tr>\n",
       "    <tr>\n",
       "      <th>ponsonio</th>\n",
       "      <td>RxJava</td>\n",
       "      <td>0f92fdd8e6422d5b79c610a7fd8409d222315a49</td>\n",
       "      <td>Adaptive</td>\n",
       "      <td>RunAsync method for outputting multiple values--</td>\n",
       "      <td>diff --git a/rxjava-contrib/rxjava-async-util/...</td>\n",
       "      <td>[2, 53, 0, 0, 42, 0, 0, 1, 45, 1, 0, 0, 0, 0, ...</td>\n",
       "    </tr>\n",
       "    <tr>\n",
       "      <th>ponsonio</th>\n",
       "      <td>RxJava</td>\n",
       "      <td>100f571c9a2835d5a30a55374b9be74c147e031f</td>\n",
       "      <td>Corrective</td>\n",
       "      <td>forEach with Action1 but not Observer--I re-re...</td>\n",
       "      <td>diff --git a/language-adaptors/rxjava-groovy/s...</td>\n",
       "      <td>[1, 5, 122, 9, 10, 9, 4, 1, 5, 18, 2, 0, 0, 0,...</td>\n",
       "    </tr>\n",
       "    <tr>\n",
       "      <th>ponsonio</th>\n",
       "      <td>RxJava</td>\n",
       "      <td>191f023cf5253ea90647bc091dcaf55ccdce81cc</td>\n",
       "      <td>Corrective</td>\n",
       "      <td>1.x: Fix Completable swallows- OnErrorNotImple...</td>\n",
       "      <td>diff --git a/src/main/java/rx/Completable.java...</td>\n",
       "      <td>[1, 1, 0, 0, 0, 0, 0, 1, 21, 0, 0, 0, 0, 0, 0,...</td>\n",
       "    </tr>\n",
       "    <tr>\n",
       "      <th>...</th>\n",
       "      <td>...</td>\n",
       "      <td>...</td>\n",
       "      <td>...</td>\n",
       "      <td>...</td>\n",
       "      <td>...</td>\n",
       "      <td>...</td>\n",
       "    </tr>\n",
       "    <tr>\n",
       "      <th>jenkinsci</th>\n",
       "      <td>clearcase-plugin</td>\n",
       "      <td>51e9da224f80254476a7dc446bca817b505381d8</td>\n",
       "      <td>Perfective</td>\n",
       "      <td>Use a temporary file to decrease memory consum...</td>\n",
       "      <td>diff --git a/src/main/java/hudson/plugins/clea...</td>\n",
       "      <td>[2, 12, 0, 4, 1, 0, 1, 0, 0, 0, 0, 0, 0, 0, 0,...</td>\n",
       "    </tr>\n",
       "    <tr>\n",
       "      <th>jexp</th>\n",
       "      <td>batch-import</td>\n",
       "      <td>609d6c4b1eea2c33d9fb950fcbb9ba9dc1f80fc3</td>\n",
       "      <td>Perfective</td>\n",
       "      <td>added a more memory efficient structure for st...</td>\n",
       "      <td>diff --git a/src/main/java/org/neo4j/batchimpo...</td>\n",
       "      <td>[10, 159, 29, 35, 9, 2, 1, 5, 106, 0, 4, 8, 0,...</td>\n",
       "    </tr>\n",
       "    <tr>\n",
       "      <th>hdiv</th>\n",
       "      <td>hdiv</td>\n",
       "      <td>19b650c78a1c76f4fd90274d7f163f863c0d39e4</td>\n",
       "      <td>Perfective</td>\n",
       "      <td>Memory and performance optimizations</td>\n",
       "      <td>diff --git a/hdiv-config/src/main/java/org/hdi...</td>\n",
       "      <td>[31, 302, 131, 140, 170, 89, 53, 7, 88, 14, 17...</td>\n",
       "    </tr>\n",
       "    <tr>\n",
       "      <th>casidiablo</th>\n",
       "      <td>persistence</td>\n",
       "      <td>d7bf95159df37a3d338ca267dddd3d26b38ec37c</td>\n",
       "      <td>Perfective</td>\n",
       "      <td>Now it is possible to specify the sqlite open ...</td>\n",
       "      <td>diff --git a/pom.xml b/pom.xml\\nindex 394263b....</td>\n",
       "      <td>[5, 57, 20, 9, 21, 0, 0, 0, 0, 0, 0, 0, 0, 0, ...</td>\n",
       "    </tr>\n",
       "    <tr>\n",
       "      <th>jhy</th>\n",
       "      <td>jsoup</td>\n",
       "      <td>d6fd1637307f6b088eb226c3f979085725530f32</td>\n",
       "      <td>Perfective</td>\n",
       "      <td>Performance improvment for Element.text</td>\n",
       "      <td>diff --git a/src/main/java/org/jsoup/helper/St...</td>\n",
       "      <td>[3, 11, 11, 9, 13, 0, 0, 1, 0, 8, 0, 0, 1, 0, ...</td>\n",
       "    </tr>\n",
       "  </tbody>\n",
       "</table>\n",
       "<p>1781 rows × 6 columns</p>\n",
       "</div>"
      ],
      "text/plain": [
       "                        repo                                    commit  \\\n",
       "user                                                                     \n",
       "ponsonio              RxJava  0531b8bff5c14d9504beefb4ad47f473e3a22932   \n",
       "ponsonio              RxJava  0950c46beda335819928585f1262dfe1dca78a0b   \n",
       "ponsonio              RxJava  0f92fdd8e6422d5b79c610a7fd8409d222315a49   \n",
       "ponsonio              RxJava  100f571c9a2835d5a30a55374b9be74c147e031f   \n",
       "ponsonio              RxJava  191f023cf5253ea90647bc091dcaf55ccdce81cc   \n",
       "...                      ...                                       ...   \n",
       "jenkinsci   clearcase-plugin  51e9da224f80254476a7dc446bca817b505381d8   \n",
       "jexp            batch-import  609d6c4b1eea2c33d9fb950fcbb9ba9dc1f80fc3   \n",
       "hdiv                    hdiv  19b650c78a1c76f4fd90274d7f163f863c0d39e4   \n",
       "casidiablo       persistence  d7bf95159df37a3d338ca267dddd3d26b38ec37c   \n",
       "jhy                    jsoup  d6fd1637307f6b088eb226c3f979085725530f32   \n",
       "\n",
       "                 label                                               text  \\\n",
       "user                                                                        \n",
       "ponsonio    Perfective              Change hasException to hasThrowable--   \n",
       "ponsonio      Adaptive  Trying to extend the Scheduler interface accor...   \n",
       "ponsonio      Adaptive   RunAsync method for outputting multiple values--   \n",
       "ponsonio    Corrective  forEach with Action1 but not Observer--I re-re...   \n",
       "ponsonio    Corrective  1.x: Fix Completable swallows- OnErrorNotImple...   \n",
       "...                ...                                                ...   \n",
       "jenkinsci   Perfective  Use a temporary file to decrease memory consum...   \n",
       "jexp        Perfective  added a more memory efficient structure for st...   \n",
       "hdiv        Perfective               Memory and performance optimizations   \n",
       "casidiablo  Perfective  Now it is possible to specify the sqlite open ...   \n",
       "jhy         Perfective            Performance improvment for Element.text   \n",
       "\n",
       "                                                        diffs  \\\n",
       "user                                                            \n",
       "ponsonio    diff --git a/rxjava-core/src/main/java/rx/Noti...   \n",
       "ponsonio    diff --git a/rxjava-core/src/main/java/rx/Sche...   \n",
       "ponsonio    diff --git a/rxjava-contrib/rxjava-async-util/...   \n",
       "ponsonio    diff --git a/language-adaptors/rxjava-groovy/s...   \n",
       "ponsonio    diff --git a/src/main/java/rx/Completable.java...   \n",
       "...                                                       ...   \n",
       "jenkinsci   diff --git a/src/main/java/hudson/plugins/clea...   \n",
       "jexp        diff --git a/src/main/java/org/neo4j/batchimpo...   \n",
       "hdiv        diff --git a/hdiv-config/src/main/java/org/hdi...   \n",
       "casidiablo  diff --git a/pom.xml b/pom.xml\\nindex 394263b....   \n",
       "jhy         diff --git a/src/main/java/org/jsoup/helper/St...   \n",
       "\n",
       "                                                      feature  \n",
       "user                                                           \n",
       "ponsonio    [1, 0, 0, 4, 0, 0, 0, 0, 0, 0, 0, 0, 0, 0, 0, ...  \n",
       "ponsonio    [2, 44, 0, 0, 30, 0, 0, 1, 18, 0, 0, 0, 0, 0, ...  \n",
       "ponsonio    [2, 53, 0, 0, 42, 0, 0, 1, 45, 1, 0, 0, 0, 0, ...  \n",
       "ponsonio    [1, 5, 122, 9, 10, 9, 4, 1, 5, 18, 2, 0, 0, 0,...  \n",
       "ponsonio    [1, 1, 0, 0, 0, 0, 0, 1, 21, 0, 0, 0, 0, 0, 0,...  \n",
       "...                                                       ...  \n",
       "jenkinsci   [2, 12, 0, 4, 1, 0, 1, 0, 0, 0, 0, 0, 0, 0, 0,...  \n",
       "jexp        [10, 159, 29, 35, 9, 2, 1, 5, 106, 0, 4, 8, 0,...  \n",
       "hdiv        [31, 302, 131, 140, 170, 89, 53, 7, 88, 14, 17...  \n",
       "casidiablo  [5, 57, 20, 9, 21, 0, 0, 0, 0, 0, 0, 0, 0, 0, ...  \n",
       "jhy         [3, 11, 11, 9, 13, 0, 0, 1, 0, 8, 0, 0, 1, 0, ...  \n",
       "\n",
       "[1781 rows x 6 columns]"
      ]
     },
     "execution_count": 2,
     "metadata": {},
     "output_type": "execute_result"
    }
   ],
   "source": [
    "df = pd.read_csv(r'/root/autodl-tmp/CommitFit/dataset/Ghadhab/dataset.csv', index_col=0, encoding='utf_8_sig')\n",
    "# df.fillna('', inplace=True)\n",
    "label2id={'C':0, 'A':1, 'P':2}\n",
    "df = df.rename(columns={'labels':'label','msgs':'text','commit_diff':'diffs'})\n",
    "df = df.replace({\"label\": label2id})\n",
    "# # print(df)\n",
    "df\n",
    "# test_sample = df.sample(n=3, random_state=1)"
   ]
  },
  {
   "cell_type": "code",
   "execution_count": 3,
   "id": "26803da1-da52-48a7-8040-70914c05f2ea",
   "metadata": {
    "execution": {
     "iopub.execute_input": "2025-08-29T00:43:06.587319Z",
     "iopub.status.busy": "2025-08-29T00:43:06.586646Z",
     "iopub.status.idle": "2025-08-29T00:43:06.595526Z",
     "shell.execute_reply": "2025-08-29T00:43:06.594434Z",
     "shell.execute_reply.started": "2025-08-29T00:43:06.587271Z"
    }
   },
   "outputs": [],
   "source": [
    "train, temp_df = train_test_split(df, test_size=0.3, random_state=42)\n",
    "val, test = train_test_split(temp_df, test_size=0.5, random_state=42)"
   ]
  },
  {
   "cell_type": "code",
   "execution_count": 4,
   "id": "d705bd52-552a-464a-b018-a6db863b444a",
   "metadata": {
    "execution": {
     "iopub.execute_input": "2025-08-29T00:43:06.597934Z",
     "iopub.status.busy": "2025-08-29T00:43:06.597082Z",
     "iopub.status.idle": "2025-08-29T00:43:06.607960Z",
     "shell.execute_reply": "2025-08-29T00:43:06.606821Z",
     "shell.execute_reply.started": "2025-08-29T00:43:06.597902Z"
    }
   },
   "outputs": [
    {
     "name": "stderr",
     "output_type": "stream",
     "text": [
      "/tmp/ipykernel_2120/1938515031.py:1: DeprecationWarning: DataFrameGroupBy.apply operated on the grouping columns. This behavior is deprecated, and in a future version of pandas the grouping columns will be excluded from the operation. Either pass `include_groups=False` to exclude the groupings or explicitly select the grouping columns after groupby to silence this warning.\n",
      "  train = train.groupby(\"label\", group_keys=False).apply(lambda x: x.sample(n=10, random_state=42))\n"
     ]
    }
   ],
   "source": [
    "train = train.groupby(\"label\", group_keys=False).apply(lambda x: x.sample(n=10, random_state=42))"
   ]
  },
  {
   "cell_type": "code",
   "execution_count": 5,
   "id": "b9faed6f-6788-4505-960f-b2b37be4e85c",
   "metadata": {
    "execution": {
     "iopub.execute_input": "2025-08-29T00:43:06.609966Z",
     "iopub.status.busy": "2025-08-29T00:43:06.609259Z",
     "iopub.status.idle": "2025-08-29T00:43:06.613886Z",
     "shell.execute_reply": "2025-08-29T00:43:06.612879Z",
     "shell.execute_reply.started": "2025-08-29T00:43:06.609920Z"
    }
   },
   "outputs": [],
   "source": [
    "# train.to_csv('/root/autodl-tmp/CommitFit/dataset/Ghadhab/10_train.csv')\n",
    "# test.to_csv('/root/autodl-tmp/CommitFit/dataset/Ghadhab/test.csv')\n",
    "# val.to_csv('/root/autodl-tmp/CommitFit/dataset/Ghadhab/val.csv')\n",
    "\n",
    "# train.to_csv('/root/autodl-tmp/COLARE-main/dataset/Ghadhab/10_train.csv')\n",
    "# test.to_csv('/root/autodl-tmp/COLARE-main/dataset/Ghadhab/test.csv')\n",
    "# val.to_csv('/root/autodl-tmp/COLARE-main/dataset/Ghadhab/val.csv')"
   ]
  },
  {
   "cell_type": "code",
   "execution_count": 6,
   "id": "2e214dbb-075e-4fbf-adc9-f3533801587e",
   "metadata": {
    "execution": {
     "iopub.execute_input": "2025-08-29T00:43:06.615978Z",
     "iopub.status.busy": "2025-08-29T00:43:06.615300Z",
     "iopub.status.idle": "2025-08-29T00:43:06.762262Z",
     "shell.execute_reply": "2025-08-29T00:43:06.761262Z",
     "shell.execute_reply.started": "2025-08-29T00:43:06.615933Z"
    }
   },
   "outputs": [],
   "source": [
    "Dataset_train = Dataset.from_pandas(train)\n",
    "test_dataset = Dataset.from_pandas(test)"
   ]
  },
  {
   "cell_type": "code",
   "execution_count": 7,
   "id": "1a8ec7ec-1112-4140-8ccd-516ba9a1b1a8",
   "metadata": {
    "execution": {
     "iopub.execute_input": "2025-08-29T00:43:06.766591Z",
     "iopub.status.busy": "2025-08-29T00:43:06.765738Z",
     "iopub.status.idle": "2025-08-29T00:43:06.833707Z",
     "shell.execute_reply": "2025-08-29T00:43:06.832777Z",
     "shell.execute_reply.started": "2025-08-29T00:43:06.766563Z"
    }
   },
   "outputs": [],
   "source": [
    "train_dataset = get_templated_dataset(Dataset_train, candidate_labels=['Corrective','Adaptive','Perfective'], sample_size=8)"
   ]
  },
  {
   "cell_type": "code",
   "execution_count": 8,
   "id": "6af4102b-39bc-4b20-ab32-43800fb572bf",
   "metadata": {
    "execution": {
     "iopub.execute_input": "2025-08-29T00:43:06.835395Z",
     "iopub.status.busy": "2025-08-29T00:43:06.834983Z",
     "iopub.status.idle": "2025-08-29T00:43:06.843366Z",
     "shell.execute_reply": "2025-08-29T00:43:06.840954Z",
     "shell.execute_reply.started": "2025-08-29T00:43:06.835357Z"
    }
   },
   "outputs": [],
   "source": [
    "train_code_change = list(train['diffs'].astype(str))\n",
    "test_code_change = list(test['diffs'].astype(str))"
   ]
  },
  {
   "cell_type": "code",
   "execution_count": 9,
   "id": "c5ea76cd-69e5-4aa8-bf49-c9e746b63bbb",
   "metadata": {
    "execution": {
     "iopub.execute_input": "2025-08-29T00:43:06.866061Z",
     "iopub.status.busy": "2025-08-29T00:43:06.861444Z",
     "iopub.status.idle": "2025-08-29T00:43:06.872147Z",
     "shell.execute_reply": "2025-08-29T00:43:06.871160Z",
     "shell.execute_reply.started": "2025-08-29T00:43:06.866032Z"
    }
   },
   "outputs": [
    {
     "data": {
      "text/plain": [
       "Dataset({\n",
       "    features: ['repo', 'commit', 'label', 'text', 'diffs', 'feature', 'user'],\n",
       "    num_rows: 54\n",
       "})"
      ]
     },
     "execution_count": 9,
     "metadata": {},
     "output_type": "execute_result"
    }
   ],
   "source": [
    "# list(train['message'].astype(str).values)\n",
    "train_dataset"
   ]
  },
  {
   "cell_type": "code",
   "execution_count": 10,
   "id": "ee30affe-0ec9-46a3-bcaa-a1bd9422c939",
   "metadata": {
    "execution": {
     "iopub.execute_input": "2025-08-29T00:43:06.874344Z",
     "iopub.status.busy": "2025-08-29T00:43:06.873420Z",
     "iopub.status.idle": "2025-08-29T00:43:06.880169Z",
     "shell.execute_reply": "2025-08-29T00:43:06.878992Z",
     "shell.execute_reply.started": "2025-08-29T00:43:06.874308Z"
    }
   },
   "outputs": [
    {
     "data": {
      "text/plain": [
       "30"
      ]
     },
     "execution_count": 10,
     "metadata": {},
     "output_type": "execute_result"
    }
   ],
   "source": [
    "len(train)"
   ]
  },
  {
   "cell_type": "code",
   "execution_count": 11,
   "id": "84e38639-cf4b-4762-a1dc-cdc983938388",
   "metadata": {
    "execution": {
     "iopub.execute_input": "2025-08-29T00:43:06.882364Z",
     "iopub.status.busy": "2025-08-29T00:43:06.881465Z",
     "iopub.status.idle": "2025-08-29T00:43:06.890253Z",
     "shell.execute_reply": "2025-08-29T00:43:06.889279Z",
     "shell.execute_reply.started": "2025-08-29T00:43:06.882316Z"
    }
   },
   "outputs": [
    {
     "data": {
      "text/plain": [
       "label\n",
       "Adaptive      10\n",
       "Corrective    10\n",
       "Perfective    10\n",
       "Name: count, dtype: int64"
      ]
     },
     "execution_count": 11,
     "metadata": {},
     "output_type": "execute_result"
    }
   ],
   "source": [
    "train['label'].value_counts()"
   ]
  },
  {
   "cell_type": "code",
   "execution_count": 12,
   "id": "3cf6c110-616d-45da-aa2e-4a5add26b3c0",
   "metadata": {
    "execution": {
     "iopub.execute_input": "2025-08-29T00:43:06.892264Z",
     "iopub.status.busy": "2025-08-29T00:43:06.891543Z",
     "iopub.status.idle": "2025-08-29T00:43:06.899533Z",
     "shell.execute_reply": "2025-08-29T00:43:06.898566Z",
     "shell.execute_reply.started": "2025-08-29T00:43:06.892220Z"
    }
   },
   "outputs": [
    {
     "data": {
      "text/plain": [
       "label\n",
       "Perfective    100\n",
       "Corrective     89\n",
       "Adaptive       79\n",
       "Name: count, dtype: int64"
      ]
     },
     "execution_count": 12,
     "metadata": {},
     "output_type": "execute_result"
    }
   ],
   "source": [
    "test['label'].value_counts()"
   ]
  },
  {
   "cell_type": "code",
   "execution_count": 13,
   "id": "77117d87-5292-48f5-b077-74b47ccfd5eb",
   "metadata": {
    "execution": {
     "iopub.execute_input": "2025-08-29T00:43:06.901494Z",
     "iopub.status.busy": "2025-08-29T00:43:06.900813Z",
     "iopub.status.idle": "2025-08-29T00:43:06.907348Z",
     "shell.execute_reply": "2025-08-29T00:43:06.906388Z",
     "shell.execute_reply.started": "2025-08-29T00:43:06.901453Z"
    }
   },
   "outputs": [
    {
     "data": {
      "text/plain": [
       "54"
      ]
     },
     "execution_count": 13,
     "metadata": {},
     "output_type": "execute_result"
    }
   ],
   "source": [
    "len(train_dataset)"
   ]
  },
  {
   "cell_type": "code",
   "execution_count": 14,
   "id": "dca6275a-a567-4963-831c-8dd653341162",
   "metadata": {
    "execution": {
     "iopub.execute_input": "2025-08-29T00:43:06.909245Z",
     "iopub.status.busy": "2025-08-29T00:43:06.908597Z",
     "iopub.status.idle": "2025-08-29T00:43:06.915756Z",
     "shell.execute_reply": "2025-08-29T00:43:06.914515Z",
     "shell.execute_reply.started": "2025-08-29T00:43:06.909208Z"
    }
   },
   "outputs": [],
   "source": [
    "from sklearn import  metrics\n",
    "\n",
    "def compute_metrics(y_pred, y_test):\n",
    "    # print(y_pred,y_test)\n",
    "    # classification_report = metrics.classification_report(y_test,y_pred)\n",
    "    accuracy_score = metrics.accuracy_score(y_test,y_pred)\n",
    "    precision_score = metrics.precision_score(y_test,y_pred, average='macro')\n",
    "    recall_score = metrics.recall_score(y_test,y_pred,average='macro')\n",
    "    f1_score = metrics.f1_score(y_test,y_pred,average='macro')\n",
    "    \n",
    "    # 混淆矩阵\n",
    "    cm = metrics.confusion_matrix(y_test, y_pred)\n",
    "    print(\"Confusion Matrix:\\n\", cm)\n",
    "    print(metrics.classification_report(y_test, y_pred, digits=4))\n",
    "    # return {\"classification_report\": classification_report}\n",
    "    return {\"classification_report\":metrics.classification_report(y_test, y_pred, digits=4),\"Confusion Matrix\":cm,\"precision\": round(precision_score, 4),\"recall\": round(recall_score, 4), \"f1\":round(f1_score, 4), \"accuracy\": round(accuracy_score, 4)}"
   ]
  },
  {
   "cell_type": "code",
   "execution_count": 15,
   "id": "d9ede869-1587-4e42-8879-e819e5961dca",
   "metadata": {
    "execution": {
     "iopub.execute_input": "2025-08-29T00:43:06.917754Z",
     "iopub.status.busy": "2025-08-29T00:43:06.917064Z",
     "iopub.status.idle": "2025-08-29T00:43:06.921616Z",
     "shell.execute_reply": "2025-08-29T00:43:06.920547Z",
     "shell.execute_reply.started": "2025-08-29T00:43:06.917710Z"
    }
   },
   "outputs": [],
   "source": [
    "model_id = \"../../sentence-transformers/paraphrase-mpnet-base-v2\""
   ]
  },
  {
   "cell_type": "code",
   "execution_count": 16,
   "id": "a6501389-0c86-442d-85cf-f04ad146703f",
   "metadata": {
    "execution": {
     "iopub.execute_input": "2025-08-29T00:43:06.923578Z",
     "iopub.status.busy": "2025-08-29T00:43:06.922880Z",
     "iopub.status.idle": "2025-08-29T00:43:06.929543Z",
     "shell.execute_reply": "2025-08-29T00:43:06.928370Z",
     "shell.execute_reply.started": "2025-08-29T00:43:06.923532Z"
    }
   },
   "outputs": [],
   "source": [
    "def hp_space(trial: Trial) -> Dict[str, Union[float, int, str]]:\n",
    "    return {\n",
    "        \"learning_rate\": trial.suggest_float(\"learning_rate\", 1e-6, 1e-3, log=True),\n",
    "        # \"num_epochs\": trial.suggest_int(\"num_epochs\", 1, 3),\n",
    "        # \"batch_size\": trial.suggest_categorical(\"batch_size\", [8, 12, 16]),\n",
    "        # \"seed\": trial.suggest_int(\"seed\", 1, 40),\n",
    "        # \"num_iterations\": trial.suggest_int(\"num_iterations\", 10, 20),\n",
    "        # \"solver\": trial.suggest_categorical(\"solver\", [\"newton-cg\", \"lbfgs\", \"liblinear\"]),\n",
    "    }\n",
    "def model_init(params: Dict[str, Any]) -> CommitFitModel:\n",
    "    params = params or {}\n",
    "    # learning_rate = params.get(\"learning_rate\")\n",
    "    # num_iterations = params.get(\"num_iterations\", 20)\n",
    "    # solver = params.get(\"solver\", \"liblinear\")\n",
    "    # params = {\n",
    "    #     \"head_params\": {\n",
    "    #         # \"max_iter\": num_iterations,\n",
    "    #         # \"solver\": solver,\n",
    "    #     }\n",
    "    # }\n",
    "    return CommitFitModel.from_pretrained(model_id, **params)\n",
    "def my_compute_objective(metrics):\n",
    "    print('+++++++++++',metrics)\n",
    "    return  metrics['accuracy']"
   ]
  },
  {
   "cell_type": "code",
   "execution_count": 17,
   "id": "2244f079-c2b8-4e01-aca4-f68e7ce8accb",
   "metadata": {
    "execution": {
     "iopub.execute_input": "2025-08-29T00:43:06.931517Z",
     "iopub.status.busy": "2025-08-29T00:43:06.930827Z",
     "iopub.status.idle": "2025-08-29T00:46:47.137352Z",
     "shell.execute_reply": "2025-08-29T00:46:47.136020Z",
     "shell.execute_reply.started": "2025-08-29T00:43:06.931475Z"
    }
   },
   "outputs": [
    {
     "name": "stderr",
     "output_type": "stream",
     "text": [
      "model_head.pkl not found in /root/autodl-tmp/CommitFit/sentence-transformers/paraphrase-mpnet-base-v2, initialising classification head with random weights. You should TRAIN this model on a downstream task to use it for predictions and inference.\n",
      "[I 2025-08-29 08:43:08,746] A new study created in memory with name: no-name-f67d5230-ecbc-47f4-886b-d460cea71a97\n",
      "Trial: {'learning_rate': 0.0002608323988034819}\n",
      "model_head.pkl not found in /root/autodl-tmp/CommitFit/sentence-transformers/paraphrase-mpnet-base-v2, initialising classification head with random weights. You should TRAIN this model on a downstream task to use it for predictions and inference.\n"
     ]
    },
    {
     "data": {
      "application/vnd.jupyter.widget-view+json": {
       "model_id": "12ba1c37850d447292d662168e37156d",
       "version_major": 2,
       "version_minor": 0
      },
      "text/plain": [
       "Generating Training Pairs:   0%|          | 0/20 [00:00<?, ?it/s]"
      ]
     },
     "metadata": {},
     "output_type": "display_data"
    },
    {
     "name": "stderr",
     "output_type": "stream",
     "text": [
      "***** Running training *****\n",
      "  Num examples = 2160\n",
      "  Num epochs = 1\n",
      "  Total optimization steps = 135\n",
      "  Total train batch size = 16\n"
     ]
    },
    {
     "data": {
      "application/vnd.jupyter.widget-view+json": {
       "model_id": "f2df5adab5314e0fae7ad9085d7e6a3a",
       "version_major": 2,
       "version_minor": 0
      },
      "text/plain": [
       "Epoch:   0%|          | 0/1 [00:00<?, ?it/s]"
      ]
     },
     "metadata": {},
     "output_type": "display_data"
    },
    {
     "data": {
      "application/vnd.jupyter.widget-view+json": {
       "model_id": "88f5c9f1baf243e3b52f65b8eea9d95e",
       "version_major": 2,
       "version_minor": 0
      },
      "text/plain": [
       "Iteration:   0%|          | 0/135 [00:00<?, ?it/s]"
      ]
     },
     "metadata": {},
     "output_type": "display_data"
    },
    {
     "name": "stderr",
     "output_type": "stream",
     "text": [
      "***** Running evaluation *****\n",
      "/root/miniconda3/lib/python3.10/site-packages/sklearn/metrics/_classification.py:1531: UndefinedMetricWarning: Precision is ill-defined and being set to 0.0 in labels with no predicted samples. Use `zero_division` parameter to control this behavior.\n",
      "  _warn_prf(average, modifier, f\"{metric.capitalize()} is\", len(result))\n",
      "/root/miniconda3/lib/python3.10/site-packages/sklearn/metrics/_classification.py:1531: UndefinedMetricWarning: Precision is ill-defined and being set to 0.0 in labels with no predicted samples. Use `zero_division` parameter to control this behavior.\n",
      "  _warn_prf(average, modifier, f\"{metric.capitalize()} is\", len(result))\n",
      "/root/miniconda3/lib/python3.10/site-packages/sklearn/metrics/_classification.py:1531: UndefinedMetricWarning: Precision is ill-defined and being set to 0.0 in labels with no predicted samples. Use `zero_division` parameter to control this behavior.\n",
      "  _warn_prf(average, modifier, f\"{metric.capitalize()} is\", len(result))\n",
      "/root/miniconda3/lib/python3.10/site-packages/sklearn/metrics/_classification.py:1531: UndefinedMetricWarning: Precision is ill-defined and being set to 0.0 in labels with no predicted samples. Use `zero_division` parameter to control this behavior.\n",
      "  _warn_prf(average, modifier, f\"{metric.capitalize()} is\", len(result))\n",
      "/root/miniconda3/lib/python3.10/site-packages/sklearn/metrics/_classification.py:1531: UndefinedMetricWarning: Precision is ill-defined and being set to 0.0 in labels with no predicted samples. Use `zero_division` parameter to control this behavior.\n",
      "  _warn_prf(average, modifier, f\"{metric.capitalize()} is\", len(result))\n",
      "/root/miniconda3/lib/python3.10/site-packages/sklearn/metrics/_classification.py:1531: UndefinedMetricWarning: Precision is ill-defined and being set to 0.0 in labels with no predicted samples. Use `zero_division` parameter to control this behavior.\n",
      "  _warn_prf(average, modifier, f\"{metric.capitalize()} is\", len(result))\n",
      "/root/miniconda3/lib/python3.10/site-packages/sklearn/metrics/_classification.py:1531: UndefinedMetricWarning: Precision is ill-defined and being set to 0.0 in labels with no predicted samples. Use `zero_division` parameter to control this behavior.\n",
      "  _warn_prf(average, modifier, f\"{metric.capitalize()} is\", len(result))\n",
      "[I 2025-08-29 08:43:31,444] Trial 0 finished with value: 0.3321 and parameters: {'learning_rate': 0.0002608323988034819}. Best is trial 0 with value: 0.3321.\n",
      "Trial: {'learning_rate': 3.759229662217752e-06}\n"
     ]
    },
    {
     "name": "stdout",
     "output_type": "stream",
     "text": [
      "Confusion Matrix:\n",
      " [[  0  79   0]\n",
      " [  0  89   0]\n",
      " [  0 100   0]]\n",
      "              precision    recall  f1-score   support\n",
      "\n",
      "    Adaptive     0.0000    0.0000    0.0000        79\n",
      "  Corrective     0.3321    1.0000    0.4986        89\n",
      "  Perfective     0.0000    0.0000    0.0000       100\n",
      "\n",
      "    accuracy                         0.3321       268\n",
      "   macro avg     0.1107    0.3333    0.1662       268\n",
      "weighted avg     0.1103    0.3321    0.1656       268\n",
      "\n",
      "+++++++++++ {'classification_report': '              precision    recall  f1-score   support\\n\\n    Adaptive     0.0000    0.0000    0.0000        79\\n  Corrective     0.3321    1.0000    0.4986        89\\n  Perfective     0.0000    0.0000    0.0000       100\\n\\n    accuracy                         0.3321       268\\n   macro avg     0.1107    0.3333    0.1662       268\\nweighted avg     0.1103    0.3321    0.1656       268\\n', 'Confusion Matrix': array([[  0,  79,   0],\n",
      "       [  0,  89,   0],\n",
      "       [  0, 100,   0]]), 'precision': 0.1107, 'recall': 0.3333, 'f1': 0.1662, 'accuracy': 0.3321}\n"
     ]
    },
    {
     "name": "stderr",
     "output_type": "stream",
     "text": [
      "model_head.pkl not found in /root/autodl-tmp/CommitFit/sentence-transformers/paraphrase-mpnet-base-v2, initialising classification head with random weights. You should TRAIN this model on a downstream task to use it for predictions and inference.\n"
     ]
    },
    {
     "data": {
      "application/vnd.jupyter.widget-view+json": {
       "model_id": "537f4959bed1447bb6d6dfd17501654a",
       "version_major": 2,
       "version_minor": 0
      },
      "text/plain": [
       "Generating Training Pairs:   0%|          | 0/20 [00:00<?, ?it/s]"
      ]
     },
     "metadata": {},
     "output_type": "display_data"
    },
    {
     "name": "stderr",
     "output_type": "stream",
     "text": [
      "***** Running training *****\n",
      "  Num examples = 2160\n",
      "  Num epochs = 1\n",
      "  Total optimization steps = 135\n",
      "  Total train batch size = 16\n"
     ]
    },
    {
     "data": {
      "application/vnd.jupyter.widget-view+json": {
       "model_id": "74a23bb7ff5148bf86c369f732598163",
       "version_major": 2,
       "version_minor": 0
      },
      "text/plain": [
       "Epoch:   0%|          | 0/1 [00:00<?, ?it/s]"
      ]
     },
     "metadata": {},
     "output_type": "display_data"
    },
    {
     "data": {
      "application/vnd.jupyter.widget-view+json": {
       "model_id": "451ca9d7acf0478f877b93e0f14316d2",
       "version_major": 2,
       "version_minor": 0
      },
      "text/plain": [
       "Iteration:   0%|          | 0/135 [00:00<?, ?it/s]"
      ]
     },
     "metadata": {},
     "output_type": "display_data"
    },
    {
     "name": "stderr",
     "output_type": "stream",
     "text": [
      "***** Running evaluation *****\n",
      "[I 2025-08-29 08:43:54,280] Trial 1 finished with value: 0.6604 and parameters: {'learning_rate': 3.759229662217752e-06}. Best is trial 1 with value: 0.6604.\n",
      "Trial: {'learning_rate': 2.4849188429207952e-05}\n"
     ]
    },
    {
     "name": "stdout",
     "output_type": "stream",
     "text": [
      "Confusion Matrix:\n",
      " [[55 12 12]\n",
      " [13 72  4]\n",
      " [38 12 50]]\n",
      "              precision    recall  f1-score   support\n",
      "\n",
      "    Adaptive     0.5189    0.6962    0.5946        79\n",
      "  Corrective     0.7500    0.8090    0.7784        89\n",
      "  Perfective     0.7576    0.5000    0.6024       100\n",
      "\n",
      "    accuracy                         0.6604       268\n",
      "   macro avg     0.6755    0.6684    0.6585       268\n",
      "weighted avg     0.6847    0.6604    0.6585       268\n",
      "\n",
      "+++++++++++ {'classification_report': '              precision    recall  f1-score   support\\n\\n    Adaptive     0.5189    0.6962    0.5946        79\\n  Corrective     0.7500    0.8090    0.7784        89\\n  Perfective     0.7576    0.5000    0.6024       100\\n\\n    accuracy                         0.6604       268\\n   macro avg     0.6755    0.6684    0.6585       268\\nweighted avg     0.6847    0.6604    0.6585       268\\n', 'Confusion Matrix': array([[55, 12, 12],\n",
      "       [13, 72,  4],\n",
      "       [38, 12, 50]]), 'precision': 0.6755, 'recall': 0.6684, 'f1': 0.6585, 'accuracy': 0.6604}\n"
     ]
    },
    {
     "name": "stderr",
     "output_type": "stream",
     "text": [
      "model_head.pkl not found in /root/autodl-tmp/CommitFit/sentence-transformers/paraphrase-mpnet-base-v2, initialising classification head with random weights. You should TRAIN this model on a downstream task to use it for predictions and inference.\n"
     ]
    },
    {
     "data": {
      "application/vnd.jupyter.widget-view+json": {
       "model_id": "42f032df70594267a0fee12a2a648431",
       "version_major": 2,
       "version_minor": 0
      },
      "text/plain": [
       "Generating Training Pairs:   0%|          | 0/20 [00:00<?, ?it/s]"
      ]
     },
     "metadata": {},
     "output_type": "display_data"
    },
    {
     "name": "stderr",
     "output_type": "stream",
     "text": [
      "***** Running training *****\n",
      "  Num examples = 2160\n",
      "  Num epochs = 1\n",
      "  Total optimization steps = 135\n",
      "  Total train batch size = 16\n"
     ]
    },
    {
     "data": {
      "application/vnd.jupyter.widget-view+json": {
       "model_id": "325b2b374982461e94485f568f03adf9",
       "version_major": 2,
       "version_minor": 0
      },
      "text/plain": [
       "Epoch:   0%|          | 0/1 [00:00<?, ?it/s]"
      ]
     },
     "metadata": {},
     "output_type": "display_data"
    },
    {
     "data": {
      "application/vnd.jupyter.widget-view+json": {
       "model_id": "9a497be6ef0742c28d0db94df8bd8b49",
       "version_major": 2,
       "version_minor": 0
      },
      "text/plain": [
       "Iteration:   0%|          | 0/135 [00:00<?, ?it/s]"
      ]
     },
     "metadata": {},
     "output_type": "display_data"
    },
    {
     "name": "stderr",
     "output_type": "stream",
     "text": [
      "***** Running evaluation *****\n",
      "[I 2025-08-29 08:44:16,505] Trial 2 finished with value: 0.6604 and parameters: {'learning_rate': 2.4849188429207952e-05}. Best is trial 1 with value: 0.6604.\n",
      "Trial: {'learning_rate': 1.949533900454113e-06}\n"
     ]
    },
    {
     "name": "stdout",
     "output_type": "stream",
     "text": [
      "Confusion Matrix:\n",
      " [[62  6 11]\n",
      " [25 63  1]\n",
      " [43  5 52]]\n",
      "              precision    recall  f1-score   support\n",
      "\n",
      "    Adaptive     0.4769    0.7848    0.5933        79\n",
      "  Corrective     0.8514    0.7079    0.7730        89\n",
      "  Perfective     0.8125    0.5200    0.6341       100\n",
      "\n",
      "    accuracy                         0.6604       268\n",
      "   macro avg     0.7136    0.6709    0.6668       268\n",
      "weighted avg     0.7265    0.6604    0.6682       268\n",
      "\n",
      "+++++++++++ {'classification_report': '              precision    recall  f1-score   support\\n\\n    Adaptive     0.4769    0.7848    0.5933        79\\n  Corrective     0.8514    0.7079    0.7730        89\\n  Perfective     0.8125    0.5200    0.6341       100\\n\\n    accuracy                         0.6604       268\\n   macro avg     0.7136    0.6709    0.6668       268\\nweighted avg     0.7265    0.6604    0.6682       268\\n', 'Confusion Matrix': array([[62,  6, 11],\n",
      "       [25, 63,  1],\n",
      "       [43,  5, 52]]), 'precision': 0.7136, 'recall': 0.6709, 'f1': 0.6668, 'accuracy': 0.6604}\n"
     ]
    },
    {
     "name": "stderr",
     "output_type": "stream",
     "text": [
      "model_head.pkl not found in /root/autodl-tmp/CommitFit/sentence-transformers/paraphrase-mpnet-base-v2, initialising classification head with random weights. You should TRAIN this model on a downstream task to use it for predictions and inference.\n"
     ]
    },
    {
     "data": {
      "application/vnd.jupyter.widget-view+json": {
       "model_id": "6fbd7d844b564fecb91dc8c9705336b2",
       "version_major": 2,
       "version_minor": 0
      },
      "text/plain": [
       "Generating Training Pairs:   0%|          | 0/20 [00:00<?, ?it/s]"
      ]
     },
     "metadata": {},
     "output_type": "display_data"
    },
    {
     "name": "stderr",
     "output_type": "stream",
     "text": [
      "***** Running training *****\n",
      "  Num examples = 2160\n",
      "  Num epochs = 1\n",
      "  Total optimization steps = 135\n",
      "  Total train batch size = 16\n"
     ]
    },
    {
     "data": {
      "application/vnd.jupyter.widget-view+json": {
       "model_id": "bdbc4fe469fb4423b29e18bbc965009e",
       "version_major": 2,
       "version_minor": 0
      },
      "text/plain": [
       "Epoch:   0%|          | 0/1 [00:00<?, ?it/s]"
      ]
     },
     "metadata": {},
     "output_type": "display_data"
    },
    {
     "data": {
      "application/vnd.jupyter.widget-view+json": {
       "model_id": "2bf0834fecff49f484ca5bb9c6ea7202",
       "version_major": 2,
       "version_minor": 0
      },
      "text/plain": [
       "Iteration:   0%|          | 0/135 [00:00<?, ?it/s]"
      ]
     },
     "metadata": {},
     "output_type": "display_data"
    },
    {
     "name": "stderr",
     "output_type": "stream",
     "text": [
      "***** Running evaluation *****\n",
      "[I 2025-08-29 08:44:38,649] Trial 3 finished with value: 0.6642 and parameters: {'learning_rate': 1.949533900454113e-06}. Best is trial 3 with value: 0.6642.\n",
      "Trial: {'learning_rate': 8.617797512442047e-06}\n"
     ]
    },
    {
     "name": "stdout",
     "output_type": "stream",
     "text": [
      "Confusion Matrix:\n",
      " [[47 17 15]\n",
      " [14 70  5]\n",
      " [27 12 61]]\n",
      "              precision    recall  f1-score   support\n",
      "\n",
      "    Adaptive     0.5341    0.5949    0.5629        79\n",
      "  Corrective     0.7071    0.7865    0.7447        89\n",
      "  Perfective     0.7531    0.6100    0.6740       100\n",
      "\n",
      "    accuracy                         0.6642       268\n",
      "   macro avg     0.6647    0.6638    0.6605       268\n",
      "weighted avg     0.6733    0.6642    0.6647       268\n",
      "\n",
      "+++++++++++ {'classification_report': '              precision    recall  f1-score   support\\n\\n    Adaptive     0.5341    0.5949    0.5629        79\\n  Corrective     0.7071    0.7865    0.7447        89\\n  Perfective     0.7531    0.6100    0.6740       100\\n\\n    accuracy                         0.6642       268\\n   macro avg     0.6647    0.6638    0.6605       268\\nweighted avg     0.6733    0.6642    0.6647       268\\n', 'Confusion Matrix': array([[47, 17, 15],\n",
      "       [14, 70,  5],\n",
      "       [27, 12, 61]]), 'precision': 0.6647, 'recall': 0.6638, 'f1': 0.6605, 'accuracy': 0.6642}\n"
     ]
    },
    {
     "name": "stderr",
     "output_type": "stream",
     "text": [
      "model_head.pkl not found in /root/autodl-tmp/CommitFit/sentence-transformers/paraphrase-mpnet-base-v2, initialising classification head with random weights. You should TRAIN this model on a downstream task to use it for predictions and inference.\n"
     ]
    },
    {
     "data": {
      "application/vnd.jupyter.widget-view+json": {
       "model_id": "99698d8a541b42ddb493917663edf68e",
       "version_major": 2,
       "version_minor": 0
      },
      "text/plain": [
       "Generating Training Pairs:   0%|          | 0/20 [00:00<?, ?it/s]"
      ]
     },
     "metadata": {},
     "output_type": "display_data"
    },
    {
     "name": "stderr",
     "output_type": "stream",
     "text": [
      "***** Running training *****\n",
      "  Num examples = 2160\n",
      "  Num epochs = 1\n",
      "  Total optimization steps = 135\n",
      "  Total train batch size = 16\n"
     ]
    },
    {
     "data": {
      "application/vnd.jupyter.widget-view+json": {
       "model_id": "f8d7c9f9703c46fbad144583e192e61b",
       "version_major": 2,
       "version_minor": 0
      },
      "text/plain": [
       "Epoch:   0%|          | 0/1 [00:00<?, ?it/s]"
      ]
     },
     "metadata": {},
     "output_type": "display_data"
    },
    {
     "data": {
      "application/vnd.jupyter.widget-view+json": {
       "model_id": "f6ad2ed277a0437dad773ec920f20311",
       "version_major": 2,
       "version_minor": 0
      },
      "text/plain": [
       "Iteration:   0%|          | 0/135 [00:00<?, ?it/s]"
      ]
     },
     "metadata": {},
     "output_type": "display_data"
    },
    {
     "name": "stderr",
     "output_type": "stream",
     "text": [
      "***** Running evaluation *****\n",
      "[I 2025-08-29 08:45:00,377] Trial 4 finished with value: 0.6716 and parameters: {'learning_rate': 8.617797512442047e-06}. Best is trial 4 with value: 0.6716.\n",
      "Trial: {'learning_rate': 1.59357778936383e-06}\n"
     ]
    },
    {
     "name": "stdout",
     "output_type": "stream",
     "text": [
      "Confusion Matrix:\n",
      " [[64  8  7]\n",
      " [18 71  0]\n",
      " [46  9 45]]\n",
      "              precision    recall  f1-score   support\n",
      "\n",
      "    Adaptive     0.5000    0.8101    0.6184        79\n",
      "  Corrective     0.8068    0.7978    0.8023        89\n",
      "  Perfective     0.8654    0.4500    0.5921       100\n",
      "\n",
      "    accuracy                         0.6716       268\n",
      "   macro avg     0.7241    0.6860    0.6709       268\n",
      "weighted avg     0.7382    0.6716    0.6696       268\n",
      "\n",
      "+++++++++++ {'classification_report': '              precision    recall  f1-score   support\\n\\n    Adaptive     0.5000    0.8101    0.6184        79\\n  Corrective     0.8068    0.7978    0.8023        89\\n  Perfective     0.8654    0.4500    0.5921       100\\n\\n    accuracy                         0.6716       268\\n   macro avg     0.7241    0.6860    0.6709       268\\nweighted avg     0.7382    0.6716    0.6696       268\\n', 'Confusion Matrix': array([[64,  8,  7],\n",
      "       [18, 71,  0],\n",
      "       [46,  9, 45]]), 'precision': 0.7241, 'recall': 0.686, 'f1': 0.6709, 'accuracy': 0.6716}\n"
     ]
    },
    {
     "name": "stderr",
     "output_type": "stream",
     "text": [
      "model_head.pkl not found in /root/autodl-tmp/CommitFit/sentence-transformers/paraphrase-mpnet-base-v2, initialising classification head with random weights. You should TRAIN this model on a downstream task to use it for predictions and inference.\n"
     ]
    },
    {
     "data": {
      "application/vnd.jupyter.widget-view+json": {
       "model_id": "de9caeac8aeb4affa71bb73ac5060721",
       "version_major": 2,
       "version_minor": 0
      },
      "text/plain": [
       "Generating Training Pairs:   0%|          | 0/20 [00:00<?, ?it/s]"
      ]
     },
     "metadata": {},
     "output_type": "display_data"
    },
    {
     "name": "stderr",
     "output_type": "stream",
     "text": [
      "***** Running training *****\n",
      "  Num examples = 2160\n",
      "  Num epochs = 1\n",
      "  Total optimization steps = 135\n",
      "  Total train batch size = 16\n"
     ]
    },
    {
     "data": {
      "application/vnd.jupyter.widget-view+json": {
       "model_id": "d6d982b25e6c42d4bf4e81d90c9739be",
       "version_major": 2,
       "version_minor": 0
      },
      "text/plain": [
       "Epoch:   0%|          | 0/1 [00:00<?, ?it/s]"
      ]
     },
     "metadata": {},
     "output_type": "display_data"
    },
    {
     "data": {
      "application/vnd.jupyter.widget-view+json": {
       "model_id": "b0b670446bc048a098a291ec6dfef206",
       "version_major": 2,
       "version_minor": 0
      },
      "text/plain": [
       "Iteration:   0%|          | 0/135 [00:00<?, ?it/s]"
      ]
     },
     "metadata": {},
     "output_type": "display_data"
    },
    {
     "name": "stderr",
     "output_type": "stream",
     "text": [
      "***** Running evaluation *****\n",
      "[I 2025-08-29 08:45:20,513] Trial 5 finished with value: 0.653 and parameters: {'learning_rate': 1.59357778936383e-06}. Best is trial 4 with value: 0.6716.\n",
      "Trial: {'learning_rate': 2.339858260860644e-05}\n"
     ]
    },
    {
     "name": "stdout",
     "output_type": "stream",
     "text": [
      "Confusion Matrix:\n",
      " [[47 18 14]\n",
      " [15 68  6]\n",
      " [27 13 60]]\n",
      "              precision    recall  f1-score   support\n",
      "\n",
      "    Adaptive     0.5281    0.5949    0.5595        79\n",
      "  Corrective     0.6869    0.7640    0.7234        89\n",
      "  Perfective     0.7500    0.6000    0.6667       100\n",
      "\n",
      "    accuracy                         0.6530       268\n",
      "   macro avg     0.6550    0.6530    0.6499       268\n",
      "weighted avg     0.6636    0.6530    0.6539       268\n",
      "\n",
      "+++++++++++ {'classification_report': '              precision    recall  f1-score   support\\n\\n    Adaptive     0.5281    0.5949    0.5595        79\\n  Corrective     0.6869    0.7640    0.7234        89\\n  Perfective     0.7500    0.6000    0.6667       100\\n\\n    accuracy                         0.6530       268\\n   macro avg     0.6550    0.6530    0.6499       268\\nweighted avg     0.6636    0.6530    0.6539       268\\n', 'Confusion Matrix': array([[47, 18, 14],\n",
      "       [15, 68,  6],\n",
      "       [27, 13, 60]]), 'precision': 0.655, 'recall': 0.653, 'f1': 0.6499, 'accuracy': 0.653}\n"
     ]
    },
    {
     "name": "stderr",
     "output_type": "stream",
     "text": [
      "model_head.pkl not found in /root/autodl-tmp/CommitFit/sentence-transformers/paraphrase-mpnet-base-v2, initialising classification head with random weights. You should TRAIN this model on a downstream task to use it for predictions and inference.\n"
     ]
    },
    {
     "data": {
      "application/vnd.jupyter.widget-view+json": {
       "model_id": "ed47e4c6958440c2b47e1b4ecc862807",
       "version_major": 2,
       "version_minor": 0
      },
      "text/plain": [
       "Generating Training Pairs:   0%|          | 0/20 [00:00<?, ?it/s]"
      ]
     },
     "metadata": {},
     "output_type": "display_data"
    },
    {
     "name": "stderr",
     "output_type": "stream",
     "text": [
      "***** Running training *****\n",
      "  Num examples = 2160\n",
      "  Num epochs = 1\n",
      "  Total optimization steps = 135\n",
      "  Total train batch size = 16\n"
     ]
    },
    {
     "data": {
      "application/vnd.jupyter.widget-view+json": {
       "model_id": "098498c8666d4ffc964c5e8b79f8d017",
       "version_major": 2,
       "version_minor": 0
      },
      "text/plain": [
       "Epoch:   0%|          | 0/1 [00:00<?, ?it/s]"
      ]
     },
     "metadata": {},
     "output_type": "display_data"
    },
    {
     "data": {
      "application/vnd.jupyter.widget-view+json": {
       "model_id": "035d647e83174b188437b1d3591273c3",
       "version_major": 2,
       "version_minor": 0
      },
      "text/plain": [
       "Iteration:   0%|          | 0/135 [00:00<?, ?it/s]"
      ]
     },
     "metadata": {},
     "output_type": "display_data"
    },
    {
     "name": "stderr",
     "output_type": "stream",
     "text": [
      "***** Running evaluation *****\n",
      "[I 2025-08-29 08:45:40,892] Trial 6 finished with value: 0.653 and parameters: {'learning_rate': 2.339858260860644e-05}. Best is trial 4 with value: 0.6716.\n",
      "Trial: {'learning_rate': 1.4233552274281953e-05}\n"
     ]
    },
    {
     "name": "stdout",
     "output_type": "stream",
     "text": [
      "Confusion Matrix:\n",
      " [[61  7 11]\n",
      " [27 58  4]\n",
      " [41  3 56]]\n",
      "              precision    recall  f1-score   support\n",
      "\n",
      "    Adaptive     0.4729    0.7722    0.5865        79\n",
      "  Corrective     0.8529    0.6517    0.7389        89\n",
      "  Perfective     0.7887    0.5600    0.6550       100\n",
      "\n",
      "    accuracy                         0.6530       268\n",
      "   macro avg     0.7048    0.6613    0.6601       268\n",
      "weighted avg     0.7169    0.6530    0.6627       268\n",
      "\n",
      "+++++++++++ {'classification_report': '              precision    recall  f1-score   support\\n\\n    Adaptive     0.4729    0.7722    0.5865        79\\n  Corrective     0.8529    0.6517    0.7389        89\\n  Perfective     0.7887    0.5600    0.6550       100\\n\\n    accuracy                         0.6530       268\\n   macro avg     0.7048    0.6613    0.6601       268\\nweighted avg     0.7169    0.6530    0.6627       268\\n', 'Confusion Matrix': array([[61,  7, 11],\n",
      "       [27, 58,  4],\n",
      "       [41,  3, 56]]), 'precision': 0.7048, 'recall': 0.6613, 'f1': 0.6601, 'accuracy': 0.653}\n"
     ]
    },
    {
     "name": "stderr",
     "output_type": "stream",
     "text": [
      "model_head.pkl not found in /root/autodl-tmp/CommitFit/sentence-transformers/paraphrase-mpnet-base-v2, initialising classification head with random weights. You should TRAIN this model on a downstream task to use it for predictions and inference.\n"
     ]
    },
    {
     "data": {
      "application/vnd.jupyter.widget-view+json": {
       "model_id": "40cef04de1c6470ba7d29373596a8e3b",
       "version_major": 2,
       "version_minor": 0
      },
      "text/plain": [
       "Generating Training Pairs:   0%|          | 0/20 [00:00<?, ?it/s]"
      ]
     },
     "metadata": {},
     "output_type": "display_data"
    },
    {
     "name": "stderr",
     "output_type": "stream",
     "text": [
      "***** Running training *****\n",
      "  Num examples = 2160\n",
      "  Num epochs = 1\n",
      "  Total optimization steps = 135\n",
      "  Total train batch size = 16\n"
     ]
    },
    {
     "data": {
      "application/vnd.jupyter.widget-view+json": {
       "model_id": "ef8d811a712d4910af1836e8d5537244",
       "version_major": 2,
       "version_minor": 0
      },
      "text/plain": [
       "Epoch:   0%|          | 0/1 [00:00<?, ?it/s]"
      ]
     },
     "metadata": {},
     "output_type": "display_data"
    },
    {
     "data": {
      "application/vnd.jupyter.widget-view+json": {
       "model_id": "ada17a2e187c49079823cc7e6083423e",
       "version_major": 2,
       "version_minor": 0
      },
      "text/plain": [
       "Iteration:   0%|          | 0/135 [00:00<?, ?it/s]"
      ]
     },
     "metadata": {},
     "output_type": "display_data"
    },
    {
     "name": "stderr",
     "output_type": "stream",
     "text": [
      "***** Running evaluation *****\n",
      "[I 2025-08-29 08:46:03,498] Trial 7 finished with value: 0.653 and parameters: {'learning_rate': 1.4233552274281953e-05}. Best is trial 4 with value: 0.6716.\n",
      "Trial: {'learning_rate': 1.834447076449719e-05}\n"
     ]
    },
    {
     "name": "stdout",
     "output_type": "stream",
     "text": [
      "Confusion Matrix:\n",
      " [[61  5 13]\n",
      " [26 59  4]\n",
      " [41  4 55]]\n",
      "              precision    recall  f1-score   support\n",
      "\n",
      "    Adaptive     0.4766    0.7722    0.5894        79\n",
      "  Corrective     0.8676    0.6629    0.7516        89\n",
      "  Perfective     0.7639    0.5500    0.6395       100\n",
      "\n",
      "    accuracy                         0.6530       268\n",
      "   macro avg     0.7027    0.6617    0.6602       268\n",
      "weighted avg     0.7136    0.6530    0.6620       268\n",
      "\n",
      "+++++++++++ {'classification_report': '              precision    recall  f1-score   support\\n\\n    Adaptive     0.4766    0.7722    0.5894        79\\n  Corrective     0.8676    0.6629    0.7516        89\\n  Perfective     0.7639    0.5500    0.6395       100\\n\\n    accuracy                         0.6530       268\\n   macro avg     0.7027    0.6617    0.6602       268\\nweighted avg     0.7136    0.6530    0.6620       268\\n', 'Confusion Matrix': array([[61,  5, 13],\n",
      "       [26, 59,  4],\n",
      "       [41,  4, 55]]), 'precision': 0.7027, 'recall': 0.6617, 'f1': 0.6602, 'accuracy': 0.653}\n"
     ]
    },
    {
     "name": "stderr",
     "output_type": "stream",
     "text": [
      "model_head.pkl not found in /root/autodl-tmp/CommitFit/sentence-transformers/paraphrase-mpnet-base-v2, initialising classification head with random weights. You should TRAIN this model on a downstream task to use it for predictions and inference.\n"
     ]
    },
    {
     "data": {
      "application/vnd.jupyter.widget-view+json": {
       "model_id": "cfde2b8060a74b5eba1f1a8cf738a5b4",
       "version_major": 2,
       "version_minor": 0
      },
      "text/plain": [
       "Generating Training Pairs:   0%|          | 0/20 [00:00<?, ?it/s]"
      ]
     },
     "metadata": {},
     "output_type": "display_data"
    },
    {
     "name": "stderr",
     "output_type": "stream",
     "text": [
      "***** Running training *****\n",
      "  Num examples = 2160\n",
      "  Num epochs = 1\n",
      "  Total optimization steps = 135\n",
      "  Total train batch size = 16\n"
     ]
    },
    {
     "data": {
      "application/vnd.jupyter.widget-view+json": {
       "model_id": "8e1a7ea5b2cb4987a8f3394c1fa6fd02",
       "version_major": 2,
       "version_minor": 0
      },
      "text/plain": [
       "Epoch:   0%|          | 0/1 [00:00<?, ?it/s]"
      ]
     },
     "metadata": {},
     "output_type": "display_data"
    },
    {
     "data": {
      "application/vnd.jupyter.widget-view+json": {
       "model_id": "7da16717f41d49f584ec3e9a48882210",
       "version_major": 2,
       "version_minor": 0
      },
      "text/plain": [
       "Iteration:   0%|          | 0/135 [00:00<?, ?it/s]"
      ]
     },
     "metadata": {},
     "output_type": "display_data"
    },
    {
     "name": "stderr",
     "output_type": "stream",
     "text": [
      "***** Running evaluation *****\n",
      "[I 2025-08-29 08:46:25,849] Trial 8 finished with value: 0.6493 and parameters: {'learning_rate': 1.834447076449719e-05}. Best is trial 4 with value: 0.6716.\n",
      "Trial: {'learning_rate': 0.0007413477135620367}\n"
     ]
    },
    {
     "name": "stdout",
     "output_type": "stream",
     "text": [
      "Confusion Matrix:\n",
      " [[56  6 17]\n",
      " [25 59  5]\n",
      " [37  4 59]]\n",
      "              precision    recall  f1-score   support\n",
      "\n",
      "    Adaptive     0.4746    0.7089    0.5685        79\n",
      "  Corrective     0.8551    0.6629    0.7468        89\n",
      "  Perfective     0.7284    0.5900    0.6519       100\n",
      "\n",
      "    accuracy                         0.6493       268\n",
      "   macro avg     0.6860    0.6539    0.6558       268\n",
      "weighted avg     0.6956    0.6493    0.6589       268\n",
      "\n",
      "+++++++++++ {'classification_report': '              precision    recall  f1-score   support\\n\\n    Adaptive     0.4746    0.7089    0.5685        79\\n  Corrective     0.8551    0.6629    0.7468        89\\n  Perfective     0.7284    0.5900    0.6519       100\\n\\n    accuracy                         0.6493       268\\n   macro avg     0.6860    0.6539    0.6558       268\\nweighted avg     0.6956    0.6493    0.6589       268\\n', 'Confusion Matrix': array([[56,  6, 17],\n",
      "       [25, 59,  5],\n",
      "       [37,  4, 59]]), 'precision': 0.686, 'recall': 0.6539, 'f1': 0.6558, 'accuracy': 0.6493}\n"
     ]
    },
    {
     "name": "stderr",
     "output_type": "stream",
     "text": [
      "model_head.pkl not found in /root/autodl-tmp/CommitFit/sentence-transformers/paraphrase-mpnet-base-v2, initialising classification head with random weights. You should TRAIN this model on a downstream task to use it for predictions and inference.\n"
     ]
    },
    {
     "data": {
      "application/vnd.jupyter.widget-view+json": {
       "model_id": "4403f23478ba4fb9a8792055d9d62b8a",
       "version_major": 2,
       "version_minor": 0
      },
      "text/plain": [
       "Generating Training Pairs:   0%|          | 0/20 [00:00<?, ?it/s]"
      ]
     },
     "metadata": {},
     "output_type": "display_data"
    },
    {
     "name": "stderr",
     "output_type": "stream",
     "text": [
      "***** Running training *****\n",
      "  Num examples = 2160\n",
      "  Num epochs = 1\n",
      "  Total optimization steps = 135\n",
      "  Total train batch size = 16\n"
     ]
    },
    {
     "data": {
      "application/vnd.jupyter.widget-view+json": {
       "model_id": "5bf42593747a424dbf9dfc5fdcd4f5d8",
       "version_major": 2,
       "version_minor": 0
      },
      "text/plain": [
       "Epoch:   0%|          | 0/1 [00:00<?, ?it/s]"
      ]
     },
     "metadata": {},
     "output_type": "display_data"
    },
    {
     "data": {
      "application/vnd.jupyter.widget-view+json": {
       "model_id": "059d340927744b639eb7b659aa76587f",
       "version_major": 2,
       "version_minor": 0
      },
      "text/plain": [
       "Iteration:   0%|          | 0/135 [00:00<?, ?it/s]"
      ]
     },
     "metadata": {},
     "output_type": "display_data"
    },
    {
     "name": "stderr",
     "output_type": "stream",
     "text": [
      "***** Running evaluation *****\n",
      "/root/miniconda3/lib/python3.10/site-packages/sklearn/metrics/_classification.py:1531: UndefinedMetricWarning: Precision is ill-defined and being set to 0.0 in labels with no predicted samples. Use `zero_division` parameter to control this behavior.\n",
      "  _warn_prf(average, modifier, f\"{metric.capitalize()} is\", len(result))\n",
      "/root/miniconda3/lib/python3.10/site-packages/sklearn/metrics/_classification.py:1531: UndefinedMetricWarning: Precision is ill-defined and being set to 0.0 in labels with no predicted samples. Use `zero_division` parameter to control this behavior.\n",
      "  _warn_prf(average, modifier, f\"{metric.capitalize()} is\", len(result))\n",
      "/root/miniconda3/lib/python3.10/site-packages/sklearn/metrics/_classification.py:1531: UndefinedMetricWarning: Precision is ill-defined and being set to 0.0 in labels with no predicted samples. Use `zero_division` parameter to control this behavior.\n",
      "  _warn_prf(average, modifier, f\"{metric.capitalize()} is\", len(result))\n",
      "/root/miniconda3/lib/python3.10/site-packages/sklearn/metrics/_classification.py:1531: UndefinedMetricWarning: Precision is ill-defined and being set to 0.0 in labels with no predicted samples. Use `zero_division` parameter to control this behavior.\n",
      "  _warn_prf(average, modifier, f\"{metric.capitalize()} is\", len(result))\n",
      "/root/miniconda3/lib/python3.10/site-packages/sklearn/metrics/_classification.py:1531: UndefinedMetricWarning: Precision is ill-defined and being set to 0.0 in labels with no predicted samples. Use `zero_division` parameter to control this behavior.\n",
      "  _warn_prf(average, modifier, f\"{metric.capitalize()} is\", len(result))\n",
      "/root/miniconda3/lib/python3.10/site-packages/sklearn/metrics/_classification.py:1531: UndefinedMetricWarning: Precision is ill-defined and being set to 0.0 in labels with no predicted samples. Use `zero_division` parameter to control this behavior.\n",
      "  _warn_prf(average, modifier, f\"{metric.capitalize()} is\", len(result))\n",
      "/root/miniconda3/lib/python3.10/site-packages/sklearn/metrics/_classification.py:1531: UndefinedMetricWarning: Precision is ill-defined and being set to 0.0 in labels with no predicted samples. Use `zero_division` parameter to control this behavior.\n",
      "  _warn_prf(average, modifier, f\"{metric.capitalize()} is\", len(result))\n",
      "[I 2025-08-29 08:46:47,130] Trial 9 finished with value: 0.3321 and parameters: {'learning_rate': 0.0007413477135620367}. Best is trial 4 with value: 0.6716.\n"
     ]
    },
    {
     "name": "stdout",
     "output_type": "stream",
     "text": [
      "Confusion Matrix:\n",
      " [[  0  79   0]\n",
      " [  0  89   0]\n",
      " [  0 100   0]]\n",
      "              precision    recall  f1-score   support\n",
      "\n",
      "    Adaptive     0.0000    0.0000    0.0000        79\n",
      "  Corrective     0.3321    1.0000    0.4986        89\n",
      "  Perfective     0.0000    0.0000    0.0000       100\n",
      "\n",
      "    accuracy                         0.3321       268\n",
      "   macro avg     0.1107    0.3333    0.1662       268\n",
      "weighted avg     0.1103    0.3321    0.1656       268\n",
      "\n",
      "+++++++++++ {'classification_report': '              precision    recall  f1-score   support\\n\\n    Adaptive     0.0000    0.0000    0.0000        79\\n  Corrective     0.3321    1.0000    0.4986        89\\n  Perfective     0.0000    0.0000    0.0000       100\\n\\n    accuracy                         0.3321       268\\n   macro avg     0.1107    0.3333    0.1662       268\\nweighted avg     0.1103    0.3321    0.1656       268\\n', 'Confusion Matrix': array([[  0,  79,   0],\n",
      "       [  0,  89,   0],\n",
      "       [  0, 100,   0]]), 'precision': 0.1107, 'recall': 0.3333, 'f1': 0.1662, 'accuracy': 0.3321}\n"
     ]
    }
   ],
   "source": [
    "trainer = CommitFitTrainer(\n",
    "    train_dataset=train_dataset,\n",
    "    train_code_change = train_code_change,\n",
    "    test_code_change = test_code_change,\n",
    "    eval_dataset=test_dataset,\n",
    "    model_init=model_init,\n",
    "    metric = compute_metrics,\n",
    "    num_iterations=20,\n",
    "    num_epochs=1\n",
    ")\n",
    "best_run = trainer.hyperparameter_search(direction=\"maximize\", hp_space=hp_space, compute_objective=my_compute_objective, n_trials=10)"
   ]
  },
  {
   "cell_type": "code",
   "execution_count": 18,
   "id": "91deb34e-2ef0-4f00-b6e7-7ffd18605c52",
   "metadata": {
    "execution": {
     "iopub.execute_input": "2025-08-29T00:46:47.140379Z",
     "iopub.status.busy": "2025-08-29T00:46:47.139117Z",
     "iopub.status.idle": "2025-08-29T00:46:47.145443Z",
     "shell.execute_reply": "2025-08-29T00:46:47.144481Z",
     "shell.execute_reply.started": "2025-08-29T00:46:47.140347Z"
    }
   },
   "outputs": [],
   "source": [
    "# best_run"
   ]
  },
  {
   "cell_type": "code",
   "execution_count": 19,
   "id": "40cfde46-c7d5-4446-8b53-7ad4dc8edb66",
   "metadata": {
    "execution": {
     "iopub.execute_input": "2025-08-29T00:46:47.146797Z",
     "iopub.status.busy": "2025-08-29T00:46:47.146574Z",
     "iopub.status.idle": "2025-08-29T00:46:47.153577Z",
     "shell.execute_reply": "2025-08-29T00:46:47.152444Z",
     "shell.execute_reply.started": "2025-08-29T00:46:47.146774Z"
    }
   },
   "outputs": [
    {
     "data": {
      "text/plain": [
       "{'learning_rate': 8.617797512442047e-06}"
      ]
     },
     "execution_count": 19,
     "metadata": {},
     "output_type": "execute_result"
    }
   ],
   "source": [
    "best_run.hyperparameters"
   ]
  },
  {
   "cell_type": "code",
   "execution_count": 20,
   "id": "ae735a8b-c672-4dce-822c-61330c34481b",
   "metadata": {
    "execution": {
     "iopub.execute_input": "2025-08-29T00:46:47.154833Z",
     "iopub.status.busy": "2025-08-29T00:46:47.154618Z",
     "iopub.status.idle": "2025-08-29T00:47:02.612294Z",
     "shell.execute_reply": "2025-08-29T00:47:02.611180Z",
     "shell.execute_reply.started": "2025-08-29T00:46:47.154810Z"
    }
   },
   "outputs": [
    {
     "name": "stderr",
     "output_type": "stream",
     "text": [
      "model_head.pkl not found in /root/autodl-tmp/CommitFit/sentence-transformers/paraphrase-mpnet-base-v2, initialising classification head with random weights. You should TRAIN this model on a downstream task to use it for predictions and inference.\n"
     ]
    },
    {
     "data": {
      "application/vnd.jupyter.widget-view+json": {
       "model_id": "0e6db96e0bee443299a40fcffff86b8f",
       "version_major": 2,
       "version_minor": 0
      },
      "text/plain": [
       "Generating Training Pairs:   0%|          | 0/20 [00:00<?, ?it/s]"
      ]
     },
     "metadata": {},
     "output_type": "display_data"
    },
    {
     "name": "stderr",
     "output_type": "stream",
     "text": [
      "***** Running training *****\n",
      "  Num examples = 2160\n",
      "  Num epochs = 1\n",
      "  Total optimization steps = 135\n",
      "  Total train batch size = 16\n"
     ]
    },
    {
     "data": {
      "application/vnd.jupyter.widget-view+json": {
       "model_id": "aa59ec8897e948dcae9d8225b01a9632",
       "version_major": 2,
       "version_minor": 0
      },
      "text/plain": [
       "Epoch:   0%|          | 0/1 [00:00<?, ?it/s]"
      ]
     },
     "metadata": {},
     "output_type": "display_data"
    },
    {
     "data": {
      "application/vnd.jupyter.widget-view+json": {
       "model_id": "8019a4af068b44918055f815d26146ff",
       "version_major": 2,
       "version_minor": 0
      },
      "text/plain": [
       "Iteration:   0%|          | 0/135 [00:00<?, ?it/s]"
      ]
     },
     "metadata": {},
     "output_type": "display_data"
    }
   ],
   "source": [
    "trainer.apply_hyperparameters(best_run.hyperparameters, final_model=True)\n",
    "trainer.train()"
   ]
  },
  {
   "cell_type": "code",
   "execution_count": 21,
   "id": "166dcf9b-a0bd-4b60-854c-c6535c22a111",
   "metadata": {
    "execution": {
     "iopub.execute_input": "2025-08-29T00:47:02.613859Z",
     "iopub.status.busy": "2025-08-29T00:47:02.613626Z",
     "iopub.status.idle": "2025-08-29T00:47:08.228223Z",
     "shell.execute_reply": "2025-08-29T00:47:08.227301Z",
     "shell.execute_reply.started": "2025-08-29T00:47:02.613833Z"
    }
   },
   "outputs": [
    {
     "name": "stderr",
     "output_type": "stream",
     "text": [
      "***** Running evaluation *****\n"
     ]
    },
    {
     "name": "stdout",
     "output_type": "stream",
     "text": [
      "Confusion Matrix:\n",
      " [[56 15  8]\n",
      " [16 72  1]\n",
      " [42 12 46]]\n",
      "              precision    recall  f1-score   support\n",
      "\n",
      "    Adaptive     0.4912    0.7089    0.5803        79\n",
      "  Corrective     0.7273    0.8090    0.7660        89\n",
      "  Perfective     0.8364    0.4600    0.5935       100\n",
      "\n",
      "    accuracy                         0.6493       268\n",
      "   macro avg     0.6850    0.6593    0.6466       268\n",
      "weighted avg     0.6984    0.6493    0.6469       268\n",
      "\n"
     ]
    },
    {
     "data": {
      "text/plain": [
       "{'classification_report': '              precision    recall  f1-score   support\\n\\n    Adaptive     0.4912    0.7089    0.5803        79\\n  Corrective     0.7273    0.8090    0.7660        89\\n  Perfective     0.8364    0.4600    0.5935       100\\n\\n    accuracy                         0.6493       268\\n   macro avg     0.6850    0.6593    0.6466       268\\nweighted avg     0.6984    0.6493    0.6469       268\\n',\n",
       " 'Confusion Matrix': array([[56, 15,  8],\n",
       "        [16, 72,  1],\n",
       "        [42, 12, 46]]),\n",
       " 'precision': 0.685,\n",
       " 'recall': 0.6593,\n",
       " 'f1': 0.6466,\n",
       " 'accuracy': 0.6493}"
      ]
     },
     "execution_count": 21,
     "metadata": {},
     "output_type": "execute_result"
    }
   ],
   "source": [
    "fewshot_metrics = trainer.evaluate()\n",
    "fewshot_metrics"
   ]
  },
  {
   "cell_type": "code",
   "execution_count": 22,
   "id": "af21aba7-66cd-4762-b5d4-6d27650bba7e",
   "metadata": {
    "execution": {
     "iopub.execute_input": "2025-08-29T00:47:08.231742Z",
     "iopub.status.busy": "2025-08-29T00:47:08.231380Z",
     "iopub.status.idle": "2025-08-29T00:47:09.234393Z",
     "shell.execute_reply": "2025-08-29T00:47:09.232964Z",
     "shell.execute_reply.started": "2025-08-29T00:47:08.231717Z"
    }
   },
   "outputs": [
    {
     "name": "stdout",
     "output_type": "stream",
     "text": [
      "强化学习模型训练完毕\n"
     ]
    }
   ],
   "source": [
    "#发送多种类型的邮件\n",
    "from email.mime.multipart import MIMEMultipart\n",
    "import smtplib\n",
    "\n",
    "from email.mime.text import MIMEText\n",
    "msg_from = '915803745@qq.com'  # 发送方邮箱\n",
    "passwd = 'vcuosuurrgkfbdai'   #就是上面的授权码\n",
    " \n",
    "# to= ['g.zhang@gotion.com', 'j.tong@gotion.com'] #接受方邮箱\n",
    "to= ['j.tong@gotion.com'] #接受方邮箱\n",
    "#设置邮件内容\n",
    "#MIMEMultipart类可以放任何内容\n",
    "msg = MIMEMultipart()\n",
    "conntent=f\"{fewshot_metrics}\"\n",
    "#把内容加进去\n",
    "msg.attach(MIMEText(conntent,'plain','utf-8'))\n",
    " \n",
    "#设置邮件主题\n",
    "msg['Subject']=\"强化学习模型训练完毕\"\n",
    " \n",
    "#发送方信息\n",
    "msg['From']=msg_from\n",
    " \n",
    "#开始发送\n",
    " \n",
    "#通过SSL方式发送，服务器地址和端口\n",
    "s = smtplib.SMTP_SSL(\"smtp.qq.com\", 465)\n",
    "# 登录邮箱\n",
    "s.login(msg_from, passwd)\n",
    "#开始发送\n",
    "s.sendmail(msg_from,to,msg.as_string())\n",
    "print(\"强化学习模型训练完毕\")"
   ]
  },
  {
   "cell_type": "code",
   "execution_count": null,
   "id": "025b5144-4d11-4fae-b716-5cb039470225",
   "metadata": {},
   "outputs": [],
   "source": []
  }
 ],
 "metadata": {
  "kernelspec": {
   "display_name": "Python 3 (ipykernel)",
   "language": "python",
   "name": "python3"
  },
  "language_info": {
   "codemirror_mode": {
    "name": "ipython",
    "version": 3
   },
   "file_extension": ".py",
   "mimetype": "text/x-python",
   "name": "python",
   "nbconvert_exporter": "python",
   "pygments_lexer": "ipython3",
   "version": "3.10.8"
  }
 },
 "nbformat": 4,
 "nbformat_minor": 5
}
