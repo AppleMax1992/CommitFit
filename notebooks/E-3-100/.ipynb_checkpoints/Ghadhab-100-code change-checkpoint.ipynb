{
 "cells": [
  {
   "cell_type": "code",
   "execution_count": 1,
   "id": "77d93e6a-106b-4abd-87e7-1243d4c51126",
   "metadata": {
    "execution": {
     "iopub.execute_input": "2025-08-26T02:26:40.858631Z",
     "iopub.status.busy": "2025-08-26T02:26:40.857811Z",
     "iopub.status.idle": "2025-08-26T02:26:43.922930Z",
     "shell.execute_reply": "2025-08-26T02:26:43.921956Z",
     "shell.execute_reply.started": "2025-08-26T02:26:40.858580Z"
    }
   },
   "outputs": [
    {
     "name": "stdout",
     "output_type": "stream",
     "text": [
      "\n",
      "root\n",
      "autodl-tmp\n",
      "CommitFit\n"
     ]
    }
   ],
   "source": [
    "# !pip install transformers accelerate\n",
    "# from transformers import AutoTokenizer, AutoModel, EarlyStoppingCallback, AutoModelForSequenceClassification, AutoConfig,Trainer, TrainingArguments,DataCollatorWithPadding\n",
    "import torch\n",
    "import numpy as np\n",
    "import pandas as pd\n",
    "# !pip install datasets\n",
    "from datasets import Dataset\n",
    "# %pip install evaluate\n",
    "import evaluate\n",
    "from sklearn.model_selection import train_test_split\n",
    "# from ipywidgets import FloatProgress\n",
    "import csv\n",
    "from optuna import Trial\n",
    "from typing import Dict, Union, Any\n",
    "import os\n",
    "import sys\n",
    "\n",
    "# notebook_login()\n",
    "\n",
    "csv.field_size_limit(500 * 1024 * 1024)\n",
    "CUDA_LAUNCH_BLOCKING=1\n",
    "# get pwd\n",
    "notebook_path = os.path.abspath('')\n",
    "\n",
    "# Find the part of the path that contains 'commitFit'\n",
    "commit_fit_path = None\n",
    "for part in notebook_path.split(os.sep):\n",
    "    print(part)\n",
    "    if 'CommitFit' in part:\n",
    "        commit_fit_path = notebook_path.split(part)[0] + part\n",
    "        break\n",
    "\n",
    "if commit_fit_path is None:\n",
    "    raise ValueError(\"Path containing 'commitFit' not found in notebook path.\")\n",
    "\n",
    "# Add commitFit directory to Python path, so we can import moudule from commitfit folder directly\n",
    "if commit_fit_path not in sys.path:\n",
    "    sys.path.append(commit_fit_path)\n",
    "\n",
    "from commitfit import CommitFitModel, CommitFitTrainer \n",
    "from commitfit import get_templated_dataset,sample_dataset"
   ]
  },
  {
   "cell_type": "code",
   "execution_count": 2,
   "id": "9ef5359f-9526-4d19-a2da-7988dc1ea04f",
   "metadata": {
    "execution": {
     "iopub.execute_input": "2025-08-26T02:26:43.924587Z",
     "iopub.status.busy": "2025-08-26T02:26:43.924257Z",
     "iopub.status.idle": "2025-08-26T02:26:44.248594Z",
     "shell.execute_reply": "2025-08-26T02:26:44.247865Z",
     "shell.execute_reply.started": "2025-08-26T02:26:43.924564Z"
    }
   },
   "outputs": [
    {
     "data": {
      "text/html": [
       "<div>\n",
       "<style scoped>\n",
       "    .dataframe tbody tr th:only-of-type {\n",
       "        vertical-align: middle;\n",
       "    }\n",
       "\n",
       "    .dataframe tbody tr th {\n",
       "        vertical-align: top;\n",
       "    }\n",
       "\n",
       "    .dataframe thead th {\n",
       "        text-align: right;\n",
       "    }\n",
       "</style>\n",
       "<table border=\"1\" class=\"dataframe\">\n",
       "  <thead>\n",
       "    <tr style=\"text-align: right;\">\n",
       "      <th></th>\n",
       "      <th>repo</th>\n",
       "      <th>commit</th>\n",
       "      <th>label</th>\n",
       "      <th>text</th>\n",
       "      <th>diffs</th>\n",
       "      <th>feature</th>\n",
       "    </tr>\n",
       "    <tr>\n",
       "      <th>user</th>\n",
       "      <th></th>\n",
       "      <th></th>\n",
       "      <th></th>\n",
       "      <th></th>\n",
       "      <th></th>\n",
       "      <th></th>\n",
       "    </tr>\n",
       "  </thead>\n",
       "  <tbody>\n",
       "    <tr>\n",
       "      <th>ponsonio</th>\n",
       "      <td>RxJava</td>\n",
       "      <td>0531b8bff5c14d9504beefb4ad47f473e3a22932</td>\n",
       "      <td>Perfective</td>\n",
       "      <td>Change hasException to hasThrowable--</td>\n",
       "      <td>diff --git a/rxjava-core/src/main/java/rx/Noti...</td>\n",
       "      <td>[1, 0, 0, 4, 0, 0, 0, 0, 0, 0, 0, 0, 0, 0, 0, ...</td>\n",
       "    </tr>\n",
       "    <tr>\n",
       "      <th>ponsonio</th>\n",
       "      <td>RxJava</td>\n",
       "      <td>0950c46beda335819928585f1262dfe1dca78a0b</td>\n",
       "      <td>Adaptive</td>\n",
       "      <td>Trying to extend the Scheduler interface accor...</td>\n",
       "      <td>diff --git a/rxjava-core/src/main/java/rx/Sche...</td>\n",
       "      <td>[2, 44, 0, 0, 30, 0, 0, 1, 18, 0, 0, 0, 0, 0, ...</td>\n",
       "    </tr>\n",
       "    <tr>\n",
       "      <th>ponsonio</th>\n",
       "      <td>RxJava</td>\n",
       "      <td>0f92fdd8e6422d5b79c610a7fd8409d222315a49</td>\n",
       "      <td>Adaptive</td>\n",
       "      <td>RunAsync method for outputting multiple values--</td>\n",
       "      <td>diff --git a/rxjava-contrib/rxjava-async-util/...</td>\n",
       "      <td>[2, 53, 0, 0, 42, 0, 0, 1, 45, 1, 0, 0, 0, 0, ...</td>\n",
       "    </tr>\n",
       "    <tr>\n",
       "      <th>ponsonio</th>\n",
       "      <td>RxJava</td>\n",
       "      <td>100f571c9a2835d5a30a55374b9be74c147e031f</td>\n",
       "      <td>Corrective</td>\n",
       "      <td>forEach with Action1 but not Observer--I re-re...</td>\n",
       "      <td>diff --git a/language-adaptors/rxjava-groovy/s...</td>\n",
       "      <td>[1, 5, 122, 9, 10, 9, 4, 1, 5, 18, 2, 0, 0, 0,...</td>\n",
       "    </tr>\n",
       "    <tr>\n",
       "      <th>ponsonio</th>\n",
       "      <td>RxJava</td>\n",
       "      <td>191f023cf5253ea90647bc091dcaf55ccdce81cc</td>\n",
       "      <td>Corrective</td>\n",
       "      <td>1.x: Fix Completable swallows- OnErrorNotImple...</td>\n",
       "      <td>diff --git a/src/main/java/rx/Completable.java...</td>\n",
       "      <td>[1, 1, 0, 0, 0, 0, 0, 1, 21, 0, 0, 0, 0, 0, 0,...</td>\n",
       "    </tr>\n",
       "    <tr>\n",
       "      <th>...</th>\n",
       "      <td>...</td>\n",
       "      <td>...</td>\n",
       "      <td>...</td>\n",
       "      <td>...</td>\n",
       "      <td>...</td>\n",
       "      <td>...</td>\n",
       "    </tr>\n",
       "    <tr>\n",
       "      <th>jenkinsci</th>\n",
       "      <td>clearcase-plugin</td>\n",
       "      <td>51e9da224f80254476a7dc446bca817b505381d8</td>\n",
       "      <td>Perfective</td>\n",
       "      <td>Use a temporary file to decrease memory consum...</td>\n",
       "      <td>diff --git a/src/main/java/hudson/plugins/clea...</td>\n",
       "      <td>[2, 12, 0, 4, 1, 0, 1, 0, 0, 0, 0, 0, 0, 0, 0,...</td>\n",
       "    </tr>\n",
       "    <tr>\n",
       "      <th>jexp</th>\n",
       "      <td>batch-import</td>\n",
       "      <td>609d6c4b1eea2c33d9fb950fcbb9ba9dc1f80fc3</td>\n",
       "      <td>Perfective</td>\n",
       "      <td>added a more memory efficient structure for st...</td>\n",
       "      <td>diff --git a/src/main/java/org/neo4j/batchimpo...</td>\n",
       "      <td>[10, 159, 29, 35, 9, 2, 1, 5, 106, 0, 4, 8, 0,...</td>\n",
       "    </tr>\n",
       "    <tr>\n",
       "      <th>hdiv</th>\n",
       "      <td>hdiv</td>\n",
       "      <td>19b650c78a1c76f4fd90274d7f163f863c0d39e4</td>\n",
       "      <td>Perfective</td>\n",
       "      <td>Memory and performance optimizations</td>\n",
       "      <td>diff --git a/hdiv-config/src/main/java/org/hdi...</td>\n",
       "      <td>[31, 302, 131, 140, 170, 89, 53, 7, 88, 14, 17...</td>\n",
       "    </tr>\n",
       "    <tr>\n",
       "      <th>casidiablo</th>\n",
       "      <td>persistence</td>\n",
       "      <td>d7bf95159df37a3d338ca267dddd3d26b38ec37c</td>\n",
       "      <td>Perfective</td>\n",
       "      <td>Now it is possible to specify the sqlite open ...</td>\n",
       "      <td>diff --git a/pom.xml b/pom.xml\\nindex 394263b....</td>\n",
       "      <td>[5, 57, 20, 9, 21, 0, 0, 0, 0, 0, 0, 0, 0, 0, ...</td>\n",
       "    </tr>\n",
       "    <tr>\n",
       "      <th>jhy</th>\n",
       "      <td>jsoup</td>\n",
       "      <td>d6fd1637307f6b088eb226c3f979085725530f32</td>\n",
       "      <td>Perfective</td>\n",
       "      <td>Performance improvment for Element.text</td>\n",
       "      <td>diff --git a/src/main/java/org/jsoup/helper/St...</td>\n",
       "      <td>[3, 11, 11, 9, 13, 0, 0, 1, 0, 8, 0, 0, 1, 0, ...</td>\n",
       "    </tr>\n",
       "  </tbody>\n",
       "</table>\n",
       "<p>1781 rows × 6 columns</p>\n",
       "</div>"
      ],
      "text/plain": [
       "                        repo                                    commit  \\\n",
       "user                                                                     \n",
       "ponsonio              RxJava  0531b8bff5c14d9504beefb4ad47f473e3a22932   \n",
       "ponsonio              RxJava  0950c46beda335819928585f1262dfe1dca78a0b   \n",
       "ponsonio              RxJava  0f92fdd8e6422d5b79c610a7fd8409d222315a49   \n",
       "ponsonio              RxJava  100f571c9a2835d5a30a55374b9be74c147e031f   \n",
       "ponsonio              RxJava  191f023cf5253ea90647bc091dcaf55ccdce81cc   \n",
       "...                      ...                                       ...   \n",
       "jenkinsci   clearcase-plugin  51e9da224f80254476a7dc446bca817b505381d8   \n",
       "jexp            batch-import  609d6c4b1eea2c33d9fb950fcbb9ba9dc1f80fc3   \n",
       "hdiv                    hdiv  19b650c78a1c76f4fd90274d7f163f863c0d39e4   \n",
       "casidiablo       persistence  d7bf95159df37a3d338ca267dddd3d26b38ec37c   \n",
       "jhy                    jsoup  d6fd1637307f6b088eb226c3f979085725530f32   \n",
       "\n",
       "                 label                                               text  \\\n",
       "user                                                                        \n",
       "ponsonio    Perfective              Change hasException to hasThrowable--   \n",
       "ponsonio      Adaptive  Trying to extend the Scheduler interface accor...   \n",
       "ponsonio      Adaptive   RunAsync method for outputting multiple values--   \n",
       "ponsonio    Corrective  forEach with Action1 but not Observer--I re-re...   \n",
       "ponsonio    Corrective  1.x: Fix Completable swallows- OnErrorNotImple...   \n",
       "...                ...                                                ...   \n",
       "jenkinsci   Perfective  Use a temporary file to decrease memory consum...   \n",
       "jexp        Perfective  added a more memory efficient structure for st...   \n",
       "hdiv        Perfective               Memory and performance optimizations   \n",
       "casidiablo  Perfective  Now it is possible to specify the sqlite open ...   \n",
       "jhy         Perfective            Performance improvment for Element.text   \n",
       "\n",
       "                                                        diffs  \\\n",
       "user                                                            \n",
       "ponsonio    diff --git a/rxjava-core/src/main/java/rx/Noti...   \n",
       "ponsonio    diff --git a/rxjava-core/src/main/java/rx/Sche...   \n",
       "ponsonio    diff --git a/rxjava-contrib/rxjava-async-util/...   \n",
       "ponsonio    diff --git a/language-adaptors/rxjava-groovy/s...   \n",
       "ponsonio    diff --git a/src/main/java/rx/Completable.java...   \n",
       "...                                                       ...   \n",
       "jenkinsci   diff --git a/src/main/java/hudson/plugins/clea...   \n",
       "jexp        diff --git a/src/main/java/org/neo4j/batchimpo...   \n",
       "hdiv        diff --git a/hdiv-config/src/main/java/org/hdi...   \n",
       "casidiablo  diff --git a/pom.xml b/pom.xml\\nindex 394263b....   \n",
       "jhy         diff --git a/src/main/java/org/jsoup/helper/St...   \n",
       "\n",
       "                                                      feature  \n",
       "user                                                           \n",
       "ponsonio    [1, 0, 0, 4, 0, 0, 0, 0, 0, 0, 0, 0, 0, 0, 0, ...  \n",
       "ponsonio    [2, 44, 0, 0, 30, 0, 0, 1, 18, 0, 0, 0, 0, 0, ...  \n",
       "ponsonio    [2, 53, 0, 0, 42, 0, 0, 1, 45, 1, 0, 0, 0, 0, ...  \n",
       "ponsonio    [1, 5, 122, 9, 10, 9, 4, 1, 5, 18, 2, 0, 0, 0,...  \n",
       "ponsonio    [1, 1, 0, 0, 0, 0, 0, 1, 21, 0, 0, 0, 0, 0, 0,...  \n",
       "...                                                       ...  \n",
       "jenkinsci   [2, 12, 0, 4, 1, 0, 1, 0, 0, 0, 0, 0, 0, 0, 0,...  \n",
       "jexp        [10, 159, 29, 35, 9, 2, 1, 5, 106, 0, 4, 8, 0,...  \n",
       "hdiv        [31, 302, 131, 140, 170, 89, 53, 7, 88, 14, 17...  \n",
       "casidiablo  [5, 57, 20, 9, 21, 0, 0, 0, 0, 0, 0, 0, 0, 0, ...  \n",
       "jhy         [3, 11, 11, 9, 13, 0, 0, 1, 0, 8, 0, 0, 1, 0, ...  \n",
       "\n",
       "[1781 rows x 6 columns]"
      ]
     },
     "execution_count": 2,
     "metadata": {},
     "output_type": "execute_result"
    }
   ],
   "source": [
    "df = pd.read_csv(r'/root/autodl-tmp/CommitFit/dataset/Ghadhab/dataset.csv', index_col=0, encoding='utf_8_sig')\n",
    "df.fillna('', inplace=True)\n",
    "label2id={'A':0, 'C':1, 'P':2}\n",
    "df = df.rename(columns={'labels':'label','msgs':'text','commit_diff':'diffs'})\n",
    "df = df.replace({\"label\": label2id})\n",
    "# # print(df)\n",
    "df\n",
    "# test_sample = df.sample(n=3, random_state=1)"
   ]
  },
  {
   "cell_type": "code",
   "execution_count": 3,
   "id": "26803da1-da52-48a7-8040-70914c05f2ea",
   "metadata": {
    "execution": {
     "iopub.execute_input": "2025-08-26T02:26:44.249679Z",
     "iopub.status.busy": "2025-08-26T02:26:44.249487Z",
     "iopub.status.idle": "2025-08-26T02:26:44.255637Z",
     "shell.execute_reply": "2025-08-26T02:26:44.254935Z",
     "shell.execute_reply.started": "2025-08-26T02:26:44.249657Z"
    }
   },
   "outputs": [],
   "source": [
    "train, temp_df = train_test_split(df, test_size=0.3, random_state=42)\n",
    "val_df, test = train_test_split(temp_df, test_size=0.5, random_state=42)"
   ]
  },
  {
   "cell_type": "code",
   "execution_count": 4,
   "id": "d705bd52-552a-464a-b018-a6db863b444a",
   "metadata": {
    "execution": {
     "iopub.execute_input": "2025-08-26T02:26:44.256585Z",
     "iopub.status.busy": "2025-08-26T02:26:44.256408Z",
     "iopub.status.idle": "2025-08-26T02:26:44.263256Z",
     "shell.execute_reply": "2025-08-26T02:26:44.262532Z",
     "shell.execute_reply.started": "2025-08-26T02:26:44.256564Z"
    }
   },
   "outputs": [
    {
     "name": "stderr",
     "output_type": "stream",
     "text": [
      "/tmp/ipykernel_1537/3383751954.py:1: DeprecationWarning: DataFrameGroupBy.apply operated on the grouping columns. This behavior is deprecated, and in a future version of pandas the grouping columns will be excluded from the operation. Either pass `include_groups=False` to exclude the groupings or explicitly select the grouping columns after groupby to silence this warning.\n",
      "  train = train.groupby(\"label\", group_keys=False).apply(lambda x: x.sample(n=100, random_state=42))\n"
     ]
    }
   ],
   "source": [
    "train = train.groupby(\"label\", group_keys=False).apply(lambda x: x.sample(n=100, random_state=42))"
   ]
  },
  {
   "cell_type": "code",
   "execution_count": 5,
   "id": "2e214dbb-075e-4fbf-adc9-f3533801587e",
   "metadata": {
    "execution": {
     "iopub.execute_input": "2025-08-26T02:26:44.265105Z",
     "iopub.status.busy": "2025-08-26T02:26:44.264918Z",
     "iopub.status.idle": "2025-08-26T02:26:44.362898Z",
     "shell.execute_reply": "2025-08-26T02:26:44.361895Z",
     "shell.execute_reply.started": "2025-08-26T02:26:44.265084Z"
    }
   },
   "outputs": [],
   "source": [
    "Dataset_train = Dataset.from_pandas(train)\n",
    "test_dataset = Dataset.from_pandas(test)"
   ]
  },
  {
   "cell_type": "code",
   "execution_count": 6,
   "id": "1a8ec7ec-1112-4140-8ccd-516ba9a1b1a8",
   "metadata": {
    "execution": {
     "iopub.execute_input": "2025-08-26T02:26:44.364040Z",
     "iopub.status.busy": "2025-08-26T02:26:44.363833Z",
     "iopub.status.idle": "2025-08-26T02:26:44.419394Z",
     "shell.execute_reply": "2025-08-26T02:26:44.418414Z",
     "shell.execute_reply.started": "2025-08-26T02:26:44.364016Z"
    }
   },
   "outputs": [],
   "source": [
    "train_dataset = get_templated_dataset(Dataset_train, candidate_labels=['Corrective','Adaptive','Perfective'], sample_size=8)"
   ]
  },
  {
   "cell_type": "code",
   "execution_count": 7,
   "id": "6af4102b-39bc-4b20-ab32-43800fb572bf",
   "metadata": {
    "execution": {
     "iopub.execute_input": "2025-08-26T02:26:44.420648Z",
     "iopub.status.busy": "2025-08-26T02:26:44.420458Z",
     "iopub.status.idle": "2025-08-26T02:26:44.424672Z",
     "shell.execute_reply": "2025-08-26T02:26:44.424003Z",
     "shell.execute_reply.started": "2025-08-26T02:26:44.420626Z"
    }
   },
   "outputs": [],
   "source": [
    "train_code_change = list(train['diffs'].astype(str))\n",
    "test_code_change = list(test['diffs'].astype(str))"
   ]
  },
  {
   "cell_type": "code",
   "execution_count": 8,
   "id": "c5ea76cd-69e5-4aa8-bf49-c9e746b63bbb",
   "metadata": {
    "execution": {
     "iopub.execute_input": "2025-08-26T02:26:44.425596Z",
     "iopub.status.busy": "2025-08-26T02:26:44.425422Z",
     "iopub.status.idle": "2025-08-26T02:26:44.430006Z",
     "shell.execute_reply": "2025-08-26T02:26:44.429377Z",
     "shell.execute_reply.started": "2025-08-26T02:26:44.425577Z"
    }
   },
   "outputs": [
    {
     "data": {
      "text/plain": [
       "Dataset({\n",
       "    features: ['repo', 'commit', 'label', 'text', 'diffs', 'feature', 'user'],\n",
       "    num_rows: 324\n",
       "})"
      ]
     },
     "execution_count": 8,
     "metadata": {},
     "output_type": "execute_result"
    }
   ],
   "source": [
    "# list(train['message'].astype(str).values)\n",
    "train_dataset"
   ]
  },
  {
   "cell_type": "code",
   "execution_count": 9,
   "id": "ee30affe-0ec9-46a3-bcaa-a1bd9422c939",
   "metadata": {
    "execution": {
     "iopub.execute_input": "2025-08-26T02:26:44.430922Z",
     "iopub.status.busy": "2025-08-26T02:26:44.430752Z",
     "iopub.status.idle": "2025-08-26T02:26:44.435147Z",
     "shell.execute_reply": "2025-08-26T02:26:44.434511Z",
     "shell.execute_reply.started": "2025-08-26T02:26:44.430902Z"
    }
   },
   "outputs": [
    {
     "data": {
      "text/plain": [
       "300"
      ]
     },
     "execution_count": 9,
     "metadata": {},
     "output_type": "execute_result"
    }
   ],
   "source": [
    "len(train)"
   ]
  },
  {
   "cell_type": "code",
   "execution_count": 10,
   "id": "84e38639-cf4b-4762-a1dc-cdc983938388",
   "metadata": {
    "execution": {
     "iopub.execute_input": "2025-08-26T02:26:44.436268Z",
     "iopub.status.busy": "2025-08-26T02:26:44.436099Z",
     "iopub.status.idle": "2025-08-26T02:26:44.442004Z",
     "shell.execute_reply": "2025-08-26T02:26:44.441302Z",
     "shell.execute_reply.started": "2025-08-26T02:26:44.436248Z"
    }
   },
   "outputs": [
    {
     "data": {
      "text/plain": [
       "label\n",
       "Adaptive      100\n",
       "Corrective    100\n",
       "Perfective    100\n",
       "Name: count, dtype: int64"
      ]
     },
     "execution_count": 10,
     "metadata": {},
     "output_type": "execute_result"
    }
   ],
   "source": [
    "train['label'].value_counts()"
   ]
  },
  {
   "cell_type": "code",
   "execution_count": 11,
   "id": "3cf6c110-616d-45da-aa2e-4a5add26b3c0",
   "metadata": {
    "execution": {
     "iopub.execute_input": "2025-08-26T02:26:44.443046Z",
     "iopub.status.busy": "2025-08-26T02:26:44.442867Z",
     "iopub.status.idle": "2025-08-26T02:26:44.448782Z",
     "shell.execute_reply": "2025-08-26T02:26:44.448138Z",
     "shell.execute_reply.started": "2025-08-26T02:26:44.443026Z"
    }
   },
   "outputs": [
    {
     "data": {
      "text/plain": [
       "label\n",
       "Perfective    100\n",
       "Corrective     89\n",
       "Adaptive       79\n",
       "Name: count, dtype: int64"
      ]
     },
     "execution_count": 11,
     "metadata": {},
     "output_type": "execute_result"
    }
   ],
   "source": [
    "test['label'].value_counts()"
   ]
  },
  {
   "cell_type": "code",
   "execution_count": 12,
   "id": "77117d87-5292-48f5-b077-74b47ccfd5eb",
   "metadata": {
    "execution": {
     "iopub.execute_input": "2025-08-26T02:26:44.449686Z",
     "iopub.status.busy": "2025-08-26T02:26:44.449512Z",
     "iopub.status.idle": "2025-08-26T02:26:44.454080Z",
     "shell.execute_reply": "2025-08-26T02:26:44.453430Z",
     "shell.execute_reply.started": "2025-08-26T02:26:44.449666Z"
    }
   },
   "outputs": [
    {
     "data": {
      "text/plain": [
       "324"
      ]
     },
     "execution_count": 12,
     "metadata": {},
     "output_type": "execute_result"
    }
   ],
   "source": [
    "len(train_dataset)"
   ]
  },
  {
   "cell_type": "code",
   "execution_count": 13,
   "id": "dca6275a-a567-4963-831c-8dd653341162",
   "metadata": {
    "execution": {
     "iopub.execute_input": "2025-08-26T02:26:44.455021Z",
     "iopub.status.busy": "2025-08-26T02:26:44.454843Z",
     "iopub.status.idle": "2025-08-26T02:26:44.459724Z",
     "shell.execute_reply": "2025-08-26T02:26:44.459052Z",
     "shell.execute_reply.started": "2025-08-26T02:26:44.455000Z"
    }
   },
   "outputs": [],
   "source": [
    "from sklearn import  metrics\n",
    "\n",
    "def compute_metrics(y_pred, y_test):\n",
    "    # print(y_pred,y_test)\n",
    "    # classification_report = metrics.classification_report(y_test,y_pred)\n",
    "    accuracy_score = metrics.accuracy_score(y_test,y_pred)\n",
    "    precision_score = metrics.precision_score(y_test,y_pred, average='weighted')\n",
    "    recall_score = metrics.recall_score(y_test,y_pred,average='weighted')\n",
    "    f1_score = metrics.f1_score(y_test,y_pred,average='weighted')\n",
    "\n",
    "    # return {\"classification_report\": classification_report}\n",
    "    return {\"precision\": round(precision_score, 4),\"recall\": round(recall_score, 4), \"f1\":round(f1_score, 4), \"accuracy\": round(accuracy_score, 4)}"
   ]
  },
  {
   "cell_type": "code",
   "execution_count": 14,
   "id": "49e32d66-2fc2-4a53-bae1-13f8d67c5b6f",
   "metadata": {
    "execution": {
     "iopub.execute_input": "2025-08-26T02:26:44.462505Z",
     "iopub.status.busy": "2025-08-26T02:26:44.462148Z",
     "iopub.status.idle": "2025-08-26T02:26:44.466597Z",
     "shell.execute_reply": "2025-08-26T02:26:44.465938Z",
     "shell.execute_reply.started": "2025-08-26T02:26:44.462483Z"
    }
   },
   "outputs": [
    {
     "data": {
      "text/plain": [
       "Dataset({\n",
       "    features: ['repo', 'commit', 'label', 'text', 'diffs', 'feature', 'user'],\n",
       "    num_rows: 324\n",
       "})"
      ]
     },
     "execution_count": 14,
     "metadata": {},
     "output_type": "execute_result"
    }
   ],
   "source": [
    "train_dataset"
   ]
  },
  {
   "cell_type": "code",
   "execution_count": 15,
   "id": "b7c52074-c55f-4218-bc87-cdbc6e36a993",
   "metadata": {
    "execution": {
     "iopub.execute_input": "2025-08-26T02:26:44.467534Z",
     "iopub.status.busy": "2025-08-26T02:26:44.467356Z",
     "iopub.status.idle": "2025-08-26T02:26:44.477615Z",
     "shell.execute_reply": "2025-08-26T02:26:44.476954Z",
     "shell.execute_reply.started": "2025-08-26T02:26:44.467513Z"
    }
   },
   "outputs": [
    {
     "data": {
      "text/html": [
       "<div>\n",
       "<style scoped>\n",
       "    .dataframe tbody tr th:only-of-type {\n",
       "        vertical-align: middle;\n",
       "    }\n",
       "\n",
       "    .dataframe tbody tr th {\n",
       "        vertical-align: top;\n",
       "    }\n",
       "\n",
       "    .dataframe thead th {\n",
       "        text-align: right;\n",
       "    }\n",
       "</style>\n",
       "<table border=\"1\" class=\"dataframe\">\n",
       "  <thead>\n",
       "    <tr style=\"text-align: right;\">\n",
       "      <th></th>\n",
       "      <th>repo</th>\n",
       "      <th>commit</th>\n",
       "      <th>label</th>\n",
       "      <th>text</th>\n",
       "      <th>diffs</th>\n",
       "      <th>feature</th>\n",
       "    </tr>\n",
       "    <tr>\n",
       "      <th>user</th>\n",
       "      <th></th>\n",
       "      <th></th>\n",
       "      <th></th>\n",
       "      <th></th>\n",
       "      <th></th>\n",
       "      <th></th>\n",
       "    </tr>\n",
       "  </thead>\n",
       "  <tbody>\n",
       "    <tr>\n",
       "      <th>elastic</th>\n",
       "      <td>elasticsearch</td>\n",
       "      <td>95ba62f83dfa05990d2165484330cdd0792064d8</td>\n",
       "      <td>Adaptive</td>\n",
       "      <td>Translog: Implement a file system based transl...</td>\n",
       "      <td>diff --git a/modules/elasticsearch/src/main/ja...</td>\n",
       "      <td>[1, 0, 0, 2, 0, 0, 0, 0, 0, 0, 0, 0, 0, 0, 0, ...</td>\n",
       "    </tr>\n",
       "    <tr>\n",
       "      <th>apache</th>\n",
       "      <td>hbase</td>\n",
       "      <td>a8806266b898ee71376ce9722de407ece9ed359a</td>\n",
       "      <td>Adaptive</td>\n",
       "      <td>HBASE-1200 Add bloomfilters--git-svn-id: https...</td>\n",
       "      <td>diff --git a/.gitignore b/.gitignore\\nindex 42...</td>\n",
       "      <td>[18, 374, 58, 102, 120, 32, 24, 8, 138, 1, 31,...</td>\n",
       "    </tr>\n",
       "    <tr>\n",
       "      <th>aeshell</th>\n",
       "      <td>aesh</td>\n",
       "      <td>60dfbfe5d954228d404eebc435346172cfbadec1</td>\n",
       "      <td>Adaptive</td>\n",
       "      <td>LineParser now supports curly brackets. It hav...</td>\n",
       "      <td>diff --git a/src/main/java/org/aesh/command/im...</td>\n",
       "      <td>[7, 121, 54, 22, 1, 0, 0, 1, 23, 0, 62, 0, 0, ...</td>\n",
       "    </tr>\n",
       "    <tr>\n",
       "      <th>elastic</th>\n",
       "      <td>elasticsearch</td>\n",
       "      <td>30f9f278c3430f9e936f566ee8b3394f86f2b01e</td>\n",
       "      <td>Adaptive</td>\n",
       "      <td>Added UNICODE_CHARACTER_CLASS support to Regex...</td>\n",
       "      <td>diff --git a/src/main/java/org/elasticsearch/c...</td>\n",
       "      <td>[1, 8, 0, 8, 5, 0, 0, 1, 36, 0, 0, 18, 0, 0, 0...</td>\n",
       "    </tr>\n",
       "    <tr>\n",
       "      <th>GNOME</th>\n",
       "      <td>valadoc</td>\n",
       "      <td>8de9caa985fa3e79348c1c88b9313a4bce4d92e6</td>\n",
       "      <td>Adaptive</td>\n",
       "      <td>libvaladoc: Add support for SourceCode attribu...</td>\n",
       "      <td>diff --git a/src/libvaladoc/content/sourcecode...</td>\n",
       "      <td>[0, 0, 0, 0, 0, 0, 0, 0, 0, 0, 0, 0, 0, 0, 0, ...</td>\n",
       "    </tr>\n",
       "    <tr>\n",
       "      <th>...</th>\n",
       "      <td>...</td>\n",
       "      <td>...</td>\n",
       "      <td>...</td>\n",
       "      <td>...</td>\n",
       "      <td>...</td>\n",
       "      <td>...</td>\n",
       "    </tr>\n",
       "    <tr>\n",
       "      <th>eclipse-mylyn</th>\n",
       "      <td>org.eclipse.mylyn.reviews</td>\n",
       "      <td>bbf0610c6b4e6989d975bfcfd9e1fec60e863b34</td>\n",
       "      <td>Perfective</td>\n",
       "      <td>Merge branch 'master' of git://git.eclipse.org...</td>\n",
       "      <td>diff --git a/gerrit/org.eclipse.mylyn.gerrit.u...</td>\n",
       "      <td>[0, 0, 0, 0, 0, 0, 0, 0, 0, 0, 0, 0, 0, 0, 0, ...</td>\n",
       "    </tr>\n",
       "    <tr>\n",
       "      <th>eclipse-mylyn</th>\n",
       "      <td>org.eclipse.mylyn.reviews</td>\n",
       "      <td>e4c27097b8e3b8ba00b731ff4d134e4e4cb71d94</td>\n",
       "      <td>Perfective</td>\n",
       "      <td>ANTLR Dsl Cleanup\\n\\nIgnore recognition errors...</td>\n",
       "      <td>diff --git a/tbr/org.eclipse.mylyn.reviews.tas...</td>\n",
       "      <td>[4, 14, 14, 13, 6, 1, 0, 0, 0, 0, 0, 0, 0, 0, ...</td>\n",
       "    </tr>\n",
       "    <tr>\n",
       "      <th>JetBrains</th>\n",
       "      <td>intellij-community</td>\n",
       "      <td>aa25be6a631c53788feacb19209b12924bd93f51</td>\n",
       "      <td>Perfective</td>\n",
       "      <td>better messages format--</td>\n",
       "      <td>diff --git a/jps/jps-builders/src/org/jetbrain...</td>\n",
       "      <td>[1, 0, 1, 3, 0, 0, 0, 0, 0, 0, 0, 0, 0, 0, 0, ...</td>\n",
       "    </tr>\n",
       "    <tr>\n",
       "      <th>tapiji</th>\n",
       "      <td>tapiji</td>\n",
       "      <td>b784b84322f3113e43fe4cade915d18f74a85132</td>\n",
       "      <td>Perfective</td>\n",
       "      <td>Adapts the namespace of all TapiJI plug-ins to...</td>\n",
       "      <td>diff --git a/at.ac.tuwien.inso.eclpise.i18n.fe...</td>\n",
       "      <td>[0, 0, 0, 0, 0, 0, 0, 0, 0, 0, 0, 0, 0, 0, 0, ...</td>\n",
       "    </tr>\n",
       "    <tr>\n",
       "      <th>orientechnologies</th>\n",
       "      <td>orientdb</td>\n",
       "      <td>5b500c684ff416cf88937999b1205dd66d48bc67</td>\n",
       "      <td>Perfective</td>\n",
       "      <td>Removed old code to handle temporary records i...</td>\n",
       "      <td>diff --git a/core/src/main/java/com/orientechn...</td>\n",
       "      <td>[2, 0, 23, 0, 0, 4, 0, 0, 0, 0, 0, 0, 0, 0, 0,...</td>\n",
       "    </tr>\n",
       "  </tbody>\n",
       "</table>\n",
       "<p>300 rows × 6 columns</p>\n",
       "</div>"
      ],
      "text/plain": [
       "                                        repo  \\\n",
       "user                                           \n",
       "elastic                        elasticsearch   \n",
       "apache                                 hbase   \n",
       "aeshell                                 aesh   \n",
       "elastic                        elasticsearch   \n",
       "GNOME                                valadoc   \n",
       "...                                      ...   \n",
       "eclipse-mylyn      org.eclipse.mylyn.reviews   \n",
       "eclipse-mylyn      org.eclipse.mylyn.reviews   \n",
       "JetBrains                 intellij-community   \n",
       "tapiji                                tapiji   \n",
       "orientechnologies                   orientdb   \n",
       "\n",
       "                                                     commit       label  \\\n",
       "user                                                                      \n",
       "elastic            95ba62f83dfa05990d2165484330cdd0792064d8    Adaptive   \n",
       "apache             a8806266b898ee71376ce9722de407ece9ed359a    Adaptive   \n",
       "aeshell            60dfbfe5d954228d404eebc435346172cfbadec1    Adaptive   \n",
       "elastic            30f9f278c3430f9e936f566ee8b3394f86f2b01e    Adaptive   \n",
       "GNOME              8de9caa985fa3e79348c1c88b9313a4bce4d92e6    Adaptive   \n",
       "...                                                     ...         ...   \n",
       "eclipse-mylyn      bbf0610c6b4e6989d975bfcfd9e1fec60e863b34  Perfective   \n",
       "eclipse-mylyn      e4c27097b8e3b8ba00b731ff4d134e4e4cb71d94  Perfective   \n",
       "JetBrains          aa25be6a631c53788feacb19209b12924bd93f51  Perfective   \n",
       "tapiji             b784b84322f3113e43fe4cade915d18f74a85132  Perfective   \n",
       "orientechnologies  5b500c684ff416cf88937999b1205dd66d48bc67  Perfective   \n",
       "\n",
       "                                                                text  \\\n",
       "user                                                                   \n",
       "elastic            Translog: Implement a file system based transl...   \n",
       "apache             HBASE-1200 Add bloomfilters--git-svn-id: https...   \n",
       "aeshell            LineParser now supports curly brackets. It hav...   \n",
       "elastic            Added UNICODE_CHARACTER_CLASS support to Regex...   \n",
       "GNOME              libvaladoc: Add support for SourceCode attribu...   \n",
       "...                                                              ...   \n",
       "eclipse-mylyn      Merge branch 'master' of git://git.eclipse.org...   \n",
       "eclipse-mylyn      ANTLR Dsl Cleanup\\n\\nIgnore recognition errors...   \n",
       "JetBrains                                   better messages format--   \n",
       "tapiji             Adapts the namespace of all TapiJI plug-ins to...   \n",
       "orientechnologies  Removed old code to handle temporary records i...   \n",
       "\n",
       "                                                               diffs  \\\n",
       "user                                                                   \n",
       "elastic            diff --git a/modules/elasticsearch/src/main/ja...   \n",
       "apache             diff --git a/.gitignore b/.gitignore\\nindex 42...   \n",
       "aeshell            diff --git a/src/main/java/org/aesh/command/im...   \n",
       "elastic            diff --git a/src/main/java/org/elasticsearch/c...   \n",
       "GNOME              diff --git a/src/libvaladoc/content/sourcecode...   \n",
       "...                                                              ...   \n",
       "eclipse-mylyn      diff --git a/gerrit/org.eclipse.mylyn.gerrit.u...   \n",
       "eclipse-mylyn      diff --git a/tbr/org.eclipse.mylyn.reviews.tas...   \n",
       "JetBrains          diff --git a/jps/jps-builders/src/org/jetbrain...   \n",
       "tapiji             diff --git a/at.ac.tuwien.inso.eclpise.i18n.fe...   \n",
       "orientechnologies  diff --git a/core/src/main/java/com/orientechn...   \n",
       "\n",
       "                                                             feature  \n",
       "user                                                                  \n",
       "elastic            [1, 0, 0, 2, 0, 0, 0, 0, 0, 0, 0, 0, 0, 0, 0, ...  \n",
       "apache             [18, 374, 58, 102, 120, 32, 24, 8, 138, 1, 31,...  \n",
       "aeshell            [7, 121, 54, 22, 1, 0, 0, 1, 23, 0, 62, 0, 0, ...  \n",
       "elastic            [1, 8, 0, 8, 5, 0, 0, 1, 36, 0, 0, 18, 0, 0, 0...  \n",
       "GNOME              [0, 0, 0, 0, 0, 0, 0, 0, 0, 0, 0, 0, 0, 0, 0, ...  \n",
       "...                                                              ...  \n",
       "eclipse-mylyn      [0, 0, 0, 0, 0, 0, 0, 0, 0, 0, 0, 0, 0, 0, 0, ...  \n",
       "eclipse-mylyn      [4, 14, 14, 13, 6, 1, 0, 0, 0, 0, 0, 0, 0, 0, ...  \n",
       "JetBrains          [1, 0, 1, 3, 0, 0, 0, 0, 0, 0, 0, 0, 0, 0, 0, ...  \n",
       "tapiji             [0, 0, 0, 0, 0, 0, 0, 0, 0, 0, 0, 0, 0, 0, 0, ...  \n",
       "orientechnologies  [2, 0, 23, 0, 0, 4, 0, 0, 0, 0, 0, 0, 0, 0, 0,...  \n",
       "\n",
       "[300 rows x 6 columns]"
      ]
     },
     "execution_count": 15,
     "metadata": {},
     "output_type": "execute_result"
    }
   ],
   "source": [
    "train"
   ]
  },
  {
   "cell_type": "code",
   "execution_count": 16,
   "id": "d9ede869-1587-4e42-8879-e819e5961dca",
   "metadata": {
    "execution": {
     "iopub.execute_input": "2025-08-26T02:26:44.478868Z",
     "iopub.status.busy": "2025-08-26T02:26:44.478365Z",
     "iopub.status.idle": "2025-08-26T02:26:44.481591Z",
     "shell.execute_reply": "2025-08-26T02:26:44.480940Z",
     "shell.execute_reply.started": "2025-08-26T02:26:44.478845Z"
    }
   },
   "outputs": [],
   "source": [
    "model_id = \"../../sentence-transformers/paraphrase-mpnet-base-v2\""
   ]
  },
  {
   "cell_type": "code",
   "execution_count": 17,
   "id": "a6501389-0c86-442d-85cf-f04ad146703f",
   "metadata": {
    "execution": {
     "iopub.execute_input": "2025-08-26T02:26:44.482593Z",
     "iopub.status.busy": "2025-08-26T02:26:44.482340Z",
     "iopub.status.idle": "2025-08-26T02:26:44.487597Z",
     "shell.execute_reply": "2025-08-26T02:26:44.486926Z",
     "shell.execute_reply.started": "2025-08-26T02:26:44.482571Z"
    }
   },
   "outputs": [],
   "source": [
    "def hp_space(trial: Trial) -> Dict[str, Union[float, int, str]]:\n",
    "    return {\n",
    "        \"learning_rate\": trial.suggest_float(\"learning_rate\", 1e-6, 1e-3, log=True),\n",
    "        # \"num_epochs\": trial.suggest_int(\"num_epochs\", 1, 3),\n",
    "        # \"batch_size\": trial.suggest_categorical(\"batch_size\", [8, 12, 16]),\n",
    "        # \"seed\": trial.suggest_int(\"seed\", 1, 40),\n",
    "        # \"num_iterations\": trial.suggest_int(\"num_iterations\", 10, 20),\n",
    "        # \"solver\": trial.suggest_categorical(\"solver\", [\"newton-cg\", \"lbfgs\", \"liblinear\"]),\n",
    "    }\n",
    "def model_init(params: Dict[str, Any]) -> CommitFitModel:\n",
    "    params = params or {}\n",
    "    # learning_rate = params.get(\"learning_rate\")\n",
    "    # num_iterations = params.get(\"num_iterations\", 20)\n",
    "    # solver = params.get(\"solver\", \"liblinear\")\n",
    "    # params = {\n",
    "    #     \"head_params\": {\n",
    "    #         # \"max_iter\": num_iterations,\n",
    "    #         # \"solver\": solver,\n",
    "    #     }\n",
    "    # }\n",
    "    return CommitFitModel.from_pretrained(model_id, **params)\n",
    "def my_compute_objective(metrics):\n",
    "    print('+++++++++++',metrics)\n",
    "    return  metrics['accuracy']"
   ]
  },
  {
   "cell_type": "code",
   "execution_count": 18,
   "id": "2244f079-c2b8-4e01-aca4-f68e7ce8accb",
   "metadata": {
    "execution": {
     "iopub.execute_input": "2025-08-26T02:26:44.488698Z",
     "iopub.status.busy": "2025-08-26T02:26:44.488342Z",
     "iopub.status.idle": "2025-08-26T02:34:16.217909Z",
     "shell.execute_reply": "2025-08-26T02:34:16.216966Z",
     "shell.execute_reply.started": "2025-08-26T02:26:44.488675Z"
    }
   },
   "outputs": [
    {
     "name": "stderr",
     "output_type": "stream",
     "text": [
      "model_head.pkl not found in /root/autodl-tmp/CommitFit/sentence-transformers/paraphrase-mpnet-base-v2, initialising classification head with random weights. You should TRAIN this model on a downstream task to use it for predictions and inference.\n",
      "[I 2025-08-26 10:26:45,818] A new study created in memory with name: no-name-8f1fe346-6638-4b90-b744-94b269a16b26\n",
      "Trial: {'learning_rate': 0.00034047752224148633}\n",
      "model_head.pkl not found in /root/autodl-tmp/CommitFit/sentence-transformers/paraphrase-mpnet-base-v2, initialising classification head with random weights. You should TRAIN this model on a downstream task to use it for predictions and inference.\n"
     ]
    },
    {
     "data": {
      "application/vnd.jupyter.widget-view+json": {
       "model_id": "de90ea8d3561406f88631095da9da2c1",
       "version_major": 2,
       "version_minor": 0
      },
      "text/plain": [
       "Generating Training Pairs:   0%|          | 0/20 [00:00<?, ?it/s]"
      ]
     },
     "metadata": {},
     "output_type": "display_data"
    },
    {
     "name": "stderr",
     "output_type": "stream",
     "text": [
      "***** Running training *****\n",
      "  Num examples = 12960\n",
      "  Num epochs = 1\n",
      "  Total optimization steps = 810\n",
      "  Total train batch size = 16\n"
     ]
    },
    {
     "data": {
      "application/vnd.jupyter.widget-view+json": {
       "model_id": "9286fb9000c54e7bbb5c06223cb9ca07",
       "version_major": 2,
       "version_minor": 0
      },
      "text/plain": [
       "Epoch:   0%|          | 0/1 [00:00<?, ?it/s]"
      ]
     },
     "metadata": {},
     "output_type": "display_data"
    },
    {
     "data": {
      "application/vnd.jupyter.widget-view+json": {
       "model_id": "8f1976ef7c274b0298d741c8b86aa4f1",
       "version_major": 2,
       "version_minor": 0
      },
      "text/plain": [
       "Iteration:   0%|          | 0/810 [00:00<?, ?it/s]"
      ]
     },
     "metadata": {},
     "output_type": "display_data"
    },
    {
     "name": "stderr",
     "output_type": "stream",
     "text": [
      "***** Running evaluation *****\n",
      "/root/miniconda3/lib/python3.10/site-packages/sklearn/metrics/_classification.py:1531: UndefinedMetricWarning: Precision is ill-defined and being set to 0.0 in labels with no predicted samples. Use `zero_division` parameter to control this behavior.\n",
      "  _warn_prf(average, modifier, f\"{metric.capitalize()} is\", len(result))\n",
      "[I 2025-08-26 10:28:16,465] Trial 0 finished with value: 0.2948 and parameters: {'learning_rate': 0.00034047752224148633}. Best is trial 0 with value: 0.2948.\n",
      "Trial: {'learning_rate': 6.946050685620019e-05}\n"
     ]
    },
    {
     "name": "stdout",
     "output_type": "stream",
     "text": [
      "+++++++++++ {'precision': 0.0869, 'recall': 0.2948, 'f1': 0.1342, 'accuracy': 0.2948}\n"
     ]
    },
    {
     "name": "stderr",
     "output_type": "stream",
     "text": [
      "model_head.pkl not found in /root/autodl-tmp/CommitFit/sentence-transformers/paraphrase-mpnet-base-v2, initialising classification head with random weights. You should TRAIN this model on a downstream task to use it for predictions and inference.\n"
     ]
    },
    {
     "data": {
      "application/vnd.jupyter.widget-view+json": {
       "model_id": "50087081648c4c2ba3452dd11a2253ef",
       "version_major": 2,
       "version_minor": 0
      },
      "text/plain": [
       "Generating Training Pairs:   0%|          | 0/20 [00:00<?, ?it/s]"
      ]
     },
     "metadata": {},
     "output_type": "display_data"
    },
    {
     "name": "stderr",
     "output_type": "stream",
     "text": [
      "***** Running training *****\n",
      "  Num examples = 12960\n",
      "  Num epochs = 1\n",
      "  Total optimization steps = 810\n",
      "  Total train batch size = 16\n"
     ]
    },
    {
     "data": {
      "application/vnd.jupyter.widget-view+json": {
       "model_id": "59781dc427da459ba7ea42cd3a261566",
       "version_major": 2,
       "version_minor": 0
      },
      "text/plain": [
       "Epoch:   0%|          | 0/1 [00:00<?, ?it/s]"
      ]
     },
     "metadata": {},
     "output_type": "display_data"
    },
    {
     "data": {
      "application/vnd.jupyter.widget-view+json": {
       "model_id": "76dcaec953de47db912e62d4b6fcf42a",
       "version_major": 2,
       "version_minor": 0
      },
      "text/plain": [
       "Iteration:   0%|          | 0/810 [00:00<?, ?it/s]"
      ]
     },
     "metadata": {},
     "output_type": "display_data"
    },
    {
     "name": "stderr",
     "output_type": "stream",
     "text": [
      "***** Running evaluation *****\n",
      "[I 2025-08-26 10:29:46,514] Trial 1 finished with value: 0.7724 and parameters: {'learning_rate': 6.946050685620019e-05}. Best is trial 1 with value: 0.7724.\n",
      "Trial: {'learning_rate': 3.211783176125703e-06}\n"
     ]
    },
    {
     "name": "stdout",
     "output_type": "stream",
     "text": [
      "+++++++++++ {'precision': 0.7928, 'recall': 0.7724, 'f1': 0.7731, 'accuracy': 0.7724}\n"
     ]
    },
    {
     "name": "stderr",
     "output_type": "stream",
     "text": [
      "model_head.pkl not found in /root/autodl-tmp/CommitFit/sentence-transformers/paraphrase-mpnet-base-v2, initialising classification head with random weights. You should TRAIN this model on a downstream task to use it for predictions and inference.\n"
     ]
    },
    {
     "data": {
      "application/vnd.jupyter.widget-view+json": {
       "model_id": "cf2c75cf9bf449d4b184ae30f6678b9b",
       "version_major": 2,
       "version_minor": 0
      },
      "text/plain": [
       "Generating Training Pairs:   0%|          | 0/20 [00:00<?, ?it/s]"
      ]
     },
     "metadata": {},
     "output_type": "display_data"
    },
    {
     "name": "stderr",
     "output_type": "stream",
     "text": [
      "***** Running training *****\n",
      "  Num examples = 12960\n",
      "  Num epochs = 1\n",
      "  Total optimization steps = 810\n",
      "  Total train batch size = 16\n"
     ]
    },
    {
     "data": {
      "application/vnd.jupyter.widget-view+json": {
       "model_id": "a8119aabd90e44d2bfecfb1cf0901d7b",
       "version_major": 2,
       "version_minor": 0
      },
      "text/plain": [
       "Epoch:   0%|          | 0/1 [00:00<?, ?it/s]"
      ]
     },
     "metadata": {},
     "output_type": "display_data"
    },
    {
     "data": {
      "application/vnd.jupyter.widget-view+json": {
       "model_id": "5870bf39d6c5468ab367ac4f26990032",
       "version_major": 2,
       "version_minor": 0
      },
      "text/plain": [
       "Iteration:   0%|          | 0/810 [00:00<?, ?it/s]"
      ]
     },
     "metadata": {},
     "output_type": "display_data"
    },
    {
     "name": "stderr",
     "output_type": "stream",
     "text": [
      "***** Running evaluation *****\n",
      "[I 2025-08-26 10:31:16,440] Trial 2 finished with value: 0.7687 and parameters: {'learning_rate': 3.211783176125703e-06}. Best is trial 1 with value: 0.7724.\n",
      "Trial: {'learning_rate': 1.0641105048047684e-05}\n"
     ]
    },
    {
     "name": "stdout",
     "output_type": "stream",
     "text": [
      "+++++++++++ {'precision': 0.7733, 'recall': 0.7687, 'f1': 0.7691, 'accuracy': 0.7687}\n"
     ]
    },
    {
     "name": "stderr",
     "output_type": "stream",
     "text": [
      "model_head.pkl not found in /root/autodl-tmp/CommitFit/sentence-transformers/paraphrase-mpnet-base-v2, initialising classification head with random weights. You should TRAIN this model on a downstream task to use it for predictions and inference.\n"
     ]
    },
    {
     "data": {
      "application/vnd.jupyter.widget-view+json": {
       "model_id": "d1094ba3b78d4b2aaafab69dce1e5546",
       "version_major": 2,
       "version_minor": 0
      },
      "text/plain": [
       "Generating Training Pairs:   0%|          | 0/20 [00:00<?, ?it/s]"
      ]
     },
     "metadata": {},
     "output_type": "display_data"
    },
    {
     "name": "stderr",
     "output_type": "stream",
     "text": [
      "***** Running training *****\n",
      "  Num examples = 12960\n",
      "  Num epochs = 1\n",
      "  Total optimization steps = 810\n",
      "  Total train batch size = 16\n"
     ]
    },
    {
     "data": {
      "application/vnd.jupyter.widget-view+json": {
       "model_id": "4d7506b5bba142a296dab72ed534159e",
       "version_major": 2,
       "version_minor": 0
      },
      "text/plain": [
       "Epoch:   0%|          | 0/1 [00:00<?, ?it/s]"
      ]
     },
     "metadata": {},
     "output_type": "display_data"
    },
    {
     "data": {
      "application/vnd.jupyter.widget-view+json": {
       "model_id": "868862ab5d8e4d978cd790efe7e44cff",
       "version_major": 2,
       "version_minor": 0
      },
      "text/plain": [
       "Iteration:   0%|          | 0/810 [00:00<?, ?it/s]"
      ]
     },
     "metadata": {},
     "output_type": "display_data"
    },
    {
     "name": "stderr",
     "output_type": "stream",
     "text": [
      "***** Running evaluation *****\n",
      "[I 2025-08-26 10:32:46,407] Trial 3 finished with value: 0.7724 and parameters: {'learning_rate': 1.0641105048047684e-05}. Best is trial 1 with value: 0.7724.\n",
      "Trial: {'learning_rate': 0.00035536917445709966}\n"
     ]
    },
    {
     "name": "stdout",
     "output_type": "stream",
     "text": [
      "+++++++++++ {'precision': 0.7792, 'recall': 0.7724, 'f1': 0.7721, 'accuracy': 0.7724}\n"
     ]
    },
    {
     "name": "stderr",
     "output_type": "stream",
     "text": [
      "model_head.pkl not found in /root/autodl-tmp/CommitFit/sentence-transformers/paraphrase-mpnet-base-v2, initialising classification head with random weights. You should TRAIN this model on a downstream task to use it for predictions and inference.\n"
     ]
    },
    {
     "data": {
      "application/vnd.jupyter.widget-view+json": {
       "model_id": "e0a3746fed634853bb76b52dfc8e8e0f",
       "version_major": 2,
       "version_minor": 0
      },
      "text/plain": [
       "Generating Training Pairs:   0%|          | 0/20 [00:00<?, ?it/s]"
      ]
     },
     "metadata": {},
     "output_type": "display_data"
    },
    {
     "name": "stderr",
     "output_type": "stream",
     "text": [
      "***** Running training *****\n",
      "  Num examples = 12960\n",
      "  Num epochs = 1\n",
      "  Total optimization steps = 810\n",
      "  Total train batch size = 16\n"
     ]
    },
    {
     "data": {
      "application/vnd.jupyter.widget-view+json": {
       "model_id": "3d9820b21d054426a18cdae99dd6ad64",
       "version_major": 2,
       "version_minor": 0
      },
      "text/plain": [
       "Epoch:   0%|          | 0/1 [00:00<?, ?it/s]"
      ]
     },
     "metadata": {},
     "output_type": "display_data"
    },
    {
     "data": {
      "application/vnd.jupyter.widget-view+json": {
       "model_id": "e195885984d44b2096f87adcf80b1601",
       "version_major": 2,
       "version_minor": 0
      },
      "text/plain": [
       "Iteration:   0%|          | 0/810 [00:00<?, ?it/s]"
      ]
     },
     "metadata": {},
     "output_type": "display_data"
    },
    {
     "name": "stderr",
     "output_type": "stream",
     "text": [
      "***** Running evaluation *****\n",
      "/root/miniconda3/lib/python3.10/site-packages/sklearn/metrics/_classification.py:1531: UndefinedMetricWarning: Precision is ill-defined and being set to 0.0 in labels with no predicted samples. Use `zero_division` parameter to control this behavior.\n",
      "  _warn_prf(average, modifier, f\"{metric.capitalize()} is\", len(result))\n",
      "[I 2025-08-26 10:34:16,213] Trial 4 finished with value: 0.3731 and parameters: {'learning_rate': 0.00035536917445709966}. Best is trial 1 with value: 0.7724.\n"
     ]
    },
    {
     "name": "stdout",
     "output_type": "stream",
     "text": [
      "+++++++++++ {'precision': 0.1392, 'recall': 0.3731, 'f1': 0.2028, 'accuracy': 0.3731}\n"
     ]
    }
   ],
   "source": [
    "trainer = CommitFitTrainer(\n",
    "    train_dataset=train_dataset,\n",
    "    train_code_change = train_code_change,\n",
    "    test_code_change = test_code_change,\n",
    "    eval_dataset=test_dataset,\n",
    "    model_init=model_init,\n",
    "    metric = compute_metrics,\n",
    "    num_iterations=20,\n",
    "    num_epochs=1\n",
    ")\n",
    "best_run = trainer.hyperparameter_search(direction=\"maximize\", hp_space=hp_space, compute_objective=my_compute_objective, n_trials=5)"
   ]
  },
  {
   "cell_type": "code",
   "execution_count": 19,
   "id": "91deb34e-2ef0-4f00-b6e7-7ffd18605c52",
   "metadata": {
    "execution": {
     "iopub.execute_input": "2025-08-26T02:34:16.219354Z",
     "iopub.status.busy": "2025-08-26T02:34:16.218833Z",
     "iopub.status.idle": "2025-08-26T02:34:16.224407Z",
     "shell.execute_reply": "2025-08-26T02:34:16.223585Z",
     "shell.execute_reply.started": "2025-08-26T02:34:16.219329Z"
    }
   },
   "outputs": [
    {
     "data": {
      "text/plain": [
       "BestRun(run_id='1', objective=0.7724, hyperparameters={'learning_rate': 6.946050685620019e-05}, backend=<optuna.study.study.Study object at 0x7f6f0a4f6b30>)"
      ]
     },
     "execution_count": 19,
     "metadata": {},
     "output_type": "execute_result"
    }
   ],
   "source": [
    "best_run"
   ]
  },
  {
   "cell_type": "code",
   "execution_count": 20,
   "id": "40cfde46-c7d5-4446-8b53-7ad4dc8edb66",
   "metadata": {
    "execution": {
     "iopub.execute_input": "2025-08-26T02:34:16.225442Z",
     "iopub.status.busy": "2025-08-26T02:34:16.225181Z",
     "iopub.status.idle": "2025-08-26T02:34:16.229656Z",
     "shell.execute_reply": "2025-08-26T02:34:16.229008Z",
     "shell.execute_reply.started": "2025-08-26T02:34:16.225420Z"
    }
   },
   "outputs": [
    {
     "data": {
      "text/plain": [
       "{'learning_rate': 6.946050685620019e-05}"
      ]
     },
     "execution_count": 20,
     "metadata": {},
     "output_type": "execute_result"
    }
   ],
   "source": [
    "best_run.hyperparameters"
   ]
  },
  {
   "cell_type": "code",
   "execution_count": 21,
   "id": "ae735a8b-c672-4dce-822c-61330c34481b",
   "metadata": {
    "execution": {
     "iopub.execute_input": "2025-08-26T02:34:16.230701Z",
     "iopub.status.busy": "2025-08-26T02:34:16.230382Z",
     "iopub.status.idle": "2025-08-26T02:35:42.034116Z",
     "shell.execute_reply": "2025-08-26T02:35:42.033141Z",
     "shell.execute_reply.started": "2025-08-26T02:34:16.230680Z"
    }
   },
   "outputs": [
    {
     "name": "stderr",
     "output_type": "stream",
     "text": [
      "model_head.pkl not found in /root/autodl-tmp/CommitFit/sentence-transformers/paraphrase-mpnet-base-v2, initialising classification head with random weights. You should TRAIN this model on a downstream task to use it for predictions and inference.\n"
     ]
    },
    {
     "data": {
      "application/vnd.jupyter.widget-view+json": {
       "model_id": "e503ae7d120e4684993bfe3e164ba20b",
       "version_major": 2,
       "version_minor": 0
      },
      "text/plain": [
       "Generating Training Pairs:   0%|          | 0/20 [00:00<?, ?it/s]"
      ]
     },
     "metadata": {},
     "output_type": "display_data"
    },
    {
     "name": "stderr",
     "output_type": "stream",
     "text": [
      "***** Running training *****\n",
      "  Num examples = 12960\n",
      "  Num epochs = 1\n",
      "  Total optimization steps = 810\n",
      "  Total train batch size = 16\n"
     ]
    },
    {
     "data": {
      "application/vnd.jupyter.widget-view+json": {
       "model_id": "fe03cb5b3d7b4eef8d88dba95b917c4c",
       "version_major": 2,
       "version_minor": 0
      },
      "text/plain": [
       "Epoch:   0%|          | 0/1 [00:00<?, ?it/s]"
      ]
     },
     "metadata": {},
     "output_type": "display_data"
    },
    {
     "data": {
      "application/vnd.jupyter.widget-view+json": {
       "model_id": "cc4d081a190540f7a3de3ca022280a7c",
       "version_major": 2,
       "version_minor": 0
      },
      "text/plain": [
       "Iteration:   0%|          | 0/810 [00:00<?, ?it/s]"
      ]
     },
     "metadata": {},
     "output_type": "display_data"
    }
   ],
   "source": [
    "trainer.apply_hyperparameters(best_run.hyperparameters, final_model=True)\n",
    "trainer.train()"
   ]
  },
  {
   "cell_type": "code",
   "execution_count": 22,
   "id": "166dcf9b-a0bd-4b60-854c-c6535c22a111",
   "metadata": {
    "execution": {
     "iopub.execute_input": "2025-08-26T02:35:42.035380Z",
     "iopub.status.busy": "2025-08-26T02:35:42.035128Z",
     "iopub.status.idle": "2025-08-26T02:35:46.431667Z",
     "shell.execute_reply": "2025-08-26T02:35:46.430927Z",
     "shell.execute_reply.started": "2025-08-26T02:35:42.035357Z"
    }
   },
   "outputs": [
    {
     "name": "stderr",
     "output_type": "stream",
     "text": [
      "***** Running evaluation *****\n"
     ]
    },
    {
     "data": {
      "text/plain": [
       "{'precision': 0.7914, 'recall': 0.7799, 'f1': 0.7798, 'accuracy': 0.7799}"
      ]
     },
     "execution_count": 22,
     "metadata": {},
     "output_type": "execute_result"
    }
   ],
   "source": [
    "fewshot_metrics = trainer.evaluate()\n",
    "fewshot_metrics"
   ]
  },
  {
   "cell_type": "code",
   "execution_count": 23,
   "id": "af21aba7-66cd-4762-b5d4-6d27650bba7e",
   "metadata": {
    "execution": {
     "iopub.execute_input": "2025-08-26T02:35:46.432803Z",
     "iopub.status.busy": "2025-08-26T02:35:46.432546Z",
     "iopub.status.idle": "2025-08-26T02:35:47.498616Z",
     "shell.execute_reply": "2025-08-26T02:35:47.497502Z",
     "shell.execute_reply.started": "2025-08-26T02:35:46.432780Z"
    }
   },
   "outputs": [
    {
     "name": "stdout",
     "output_type": "stream",
     "text": [
      "强化学习模型训练完毕\n"
     ]
    }
   ],
   "source": [
    "#发送多种类型的邮件\n",
    "from email.mime.multipart import MIMEMultipart\n",
    "import smtplib\n",
    "\n",
    "from email.mime.text import MIMEText\n",
    "msg_from = '915803745@qq.com'  # 发送方邮箱\n",
    "passwd = 'vcuosuurrgkfbdai'   #就是上面的授权码\n",
    " \n",
    "# to= ['g.zhang@gotion.com', 'j.tong@gotion.com'] #接受方邮箱\n",
    "to= ['j.tong@gotion.com'] #接受方邮箱\n",
    "#设置邮件内容\n",
    "#MIMEMultipart类可以放任何内容\n",
    "msg = MIMEMultipart()\n",
    "conntent=f\"{fewshot_metrics}\"\n",
    "#把内容加进去\n",
    "msg.attach(MIMEText(conntent,'plain','utf-8'))\n",
    " \n",
    "#设置邮件主题\n",
    "msg['Subject']=\"强化学习模型训练完毕\"\n",
    " \n",
    "#发送方信息\n",
    "msg['From']=msg_from\n",
    " \n",
    "#开始发送\n",
    " \n",
    "#通过SSL方式发送，服务器地址和端口\n",
    "s = smtplib.SMTP_SSL(\"smtp.qq.com\", 465)\n",
    "# 登录邮箱\n",
    "s.login(msg_from, passwd)\n",
    "#开始发送\n",
    "s.sendmail(msg_from,to,msg.as_string())\n",
    "print(\"强化学习模型训练完毕\")"
   ]
  },
  {
   "cell_type": "code",
   "execution_count": null,
   "id": "025b5144-4d11-4fae-b716-5cb039470225",
   "metadata": {},
   "outputs": [],
   "source": []
  }
 ],
 "metadata": {
  "kernelspec": {
   "display_name": "Python 3 (ipykernel)",
   "language": "python",
   "name": "python3"
  },
  "language_info": {
   "codemirror_mode": {
    "name": "ipython",
    "version": 3
   },
   "file_extension": ".py",
   "mimetype": "text/x-python",
   "name": "python",
   "nbconvert_exporter": "python",
   "pygments_lexer": "ipython3",
   "version": "3.10.8"
  }
 },
 "nbformat": 4,
 "nbformat_minor": 5
}
