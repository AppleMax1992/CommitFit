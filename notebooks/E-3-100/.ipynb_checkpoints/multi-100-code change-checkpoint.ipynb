{
 "cells": [
  {
   "cell_type": "code",
   "execution_count": 1,
   "id": "77d93e6a-106b-4abd-87e7-1243d4c51126",
   "metadata": {
    "execution": {
     "iopub.execute_input": "2025-08-26T02:00:09.692585Z",
     "iopub.status.busy": "2025-08-26T02:00:09.691930Z",
     "iopub.status.idle": "2025-08-26T02:00:12.779535Z",
     "shell.execute_reply": "2025-08-26T02:00:12.778553Z",
     "shell.execute_reply.started": "2025-08-26T02:00:09.692536Z"
    }
   },
   "outputs": [
    {
     "name": "stdout",
     "output_type": "stream",
     "text": [
      "\n",
      "root\n",
      "autodl-tmp\n",
      "CommitFit\n"
     ]
    }
   ],
   "source": [
    "# !pip install transformers accelerate\n",
    "# from transformers import AutoTokenizer, AutoModel, EarlyStoppingCallback, AutoModelForSequenceClassification, AutoConfig,Trainer, TrainingArguments,DataCollatorWithPadding\n",
    "import torch\n",
    "import numpy as np\n",
    "import pandas as pd\n",
    "# !pip install datasets\n",
    "from datasets import Dataset\n",
    "# %pip install evaluate\n",
    "import evaluate\n",
    "from sklearn.model_selection import train_test_split\n",
    "# from ipywidgets import FloatProgress\n",
    "import csv\n",
    "from optuna import Trial\n",
    "from typing import Dict, Union, Any\n",
    "import os\n",
    "import sys\n",
    "\n",
    "# notebook_login()\n",
    "\n",
    "csv.field_size_limit(500 * 1024 * 1024)\n",
    "CUDA_LAUNCH_BLOCKING=1\n",
    "# get pwd\n",
    "notebook_path = os.path.abspath('')\n",
    "\n",
    "# Find the part of the path that contains 'commitFit'\n",
    "commit_fit_path = None\n",
    "for part in notebook_path.split(os.sep):\n",
    "    print(part)\n",
    "    if 'CommitFit' in part:\n",
    "        commit_fit_path = notebook_path.split(part)[0] + part\n",
    "        break\n",
    "\n",
    "if commit_fit_path is None:\n",
    "    raise ValueError(\"Path containing 'commitFit' not found in notebook path.\")\n",
    "\n",
    "# Add commitFit directory to Python path, so we can import moudule from commitfit folder directly\n",
    "if commit_fit_path not in sys.path:\n",
    "    sys.path.append(commit_fit_path)\n",
    "\n",
    "from commitfit import CommitFitModel, CommitFitTrainer \n",
    "from commitfit import get_templated_dataset,sample_dataset"
   ]
  },
  {
   "cell_type": "code",
   "execution_count": 2,
   "id": "9ef5359f-9526-4d19-a2da-7988dc1ea04f",
   "metadata": {
    "execution": {
     "iopub.execute_input": "2025-08-26T02:00:12.781183Z",
     "iopub.status.busy": "2025-08-26T02:00:12.780859Z",
     "iopub.status.idle": "2025-08-26T02:00:13.108029Z",
     "shell.execute_reply": "2025-08-26T02:00:13.107092Z",
     "shell.execute_reply.started": "2025-08-26T02:00:12.781161Z"
    }
   },
   "outputs": [
    {
     "name": "stderr",
     "output_type": "stream",
     "text": [
      "/tmp/ipykernel_2229/1085588998.py:5: FutureWarning: Downcasting behavior in `replace` is deprecated and will be removed in a future version. To retain the old behavior, explicitly call `result.infer_objects(copy=False)`. To opt-in to the future behavior, set `pd.set_option('future.no_silent_downcasting', True)`\n",
      "  df = df.replace({\"label\": label2id})\n"
     ]
    },
    {
     "data": {
      "text/html": [
       "<div>\n",
       "<style scoped>\n",
       "    .dataframe tbody tr th:only-of-type {\n",
       "        vertical-align: middle;\n",
       "    }\n",
       "\n",
       "    .dataframe tbody tr th {\n",
       "        vertical-align: top;\n",
       "    }\n",
       "\n",
       "    .dataframe thead th {\n",
       "        text-align: right;\n",
       "    }\n",
       "</style>\n",
       "<table border=\"1\" class=\"dataframe\">\n",
       "  <thead>\n",
       "    <tr style=\"text-align: right;\">\n",
       "      <th></th>\n",
       "      <th>label</th>\n",
       "      <th>diffs</th>\n",
       "      <th>text</th>\n",
       "      <th>CODE_CHANGE_FILE</th>\n",
       "      <th>CODE_ADD_CODE_LINE</th>\n",
       "      <th>CODE_DEL_CODE_LINE</th>\n",
       "      <th>CODE_MOD_CODE_LINE</th>\n",
       "      <th>CODE_ADD_COMMENT_LINE</th>\n",
       "      <th>CODE_DEL_COMMENT_LINE</th>\n",
       "      <th>CODE_MOD_COMMENT_LINE</th>\n",
       "      <th>...</th>\n",
       "      <th>BUILD_DEL_LINE</th>\n",
       "      <th>BUILD_MOD_LINE</th>\n",
       "      <th>DOC_CHANGE_FILE</th>\n",
       "      <th>DOC_ADD_LINE</th>\n",
       "      <th>DOC_DEL_LINE</th>\n",
       "      <th>DOC_MOD_LINE</th>\n",
       "      <th>OTHER_CHANGE_FILE</th>\n",
       "      <th>OTHER_ADD_LINE</th>\n",
       "      <th>OTHER_DEL_LINE</th>\n",
       "      <th>OTHER_MOD_LINE</th>\n",
       "    </tr>\n",
       "    <tr>\n",
       "      <th>commit_sha</th>\n",
       "      <th></th>\n",
       "      <th></th>\n",
       "      <th></th>\n",
       "      <th></th>\n",
       "      <th></th>\n",
       "      <th></th>\n",
       "      <th></th>\n",
       "      <th></th>\n",
       "      <th></th>\n",
       "      <th></th>\n",
       "      <th></th>\n",
       "      <th></th>\n",
       "      <th></th>\n",
       "      <th></th>\n",
       "      <th></th>\n",
       "      <th></th>\n",
       "      <th></th>\n",
       "      <th></th>\n",
       "      <th></th>\n",
       "      <th></th>\n",
       "      <th></th>\n",
       "    </tr>\n",
       "  </thead>\n",
       "  <tbody>\n",
       "    <tr>\n",
       "      <th>be937a3290223f926fe50684f1344569a573ed4b</th>\n",
       "      <td>1</td>\n",
       "      <td>diff --git a/tensorflow/compiler/mlir/lite/fla...</td>\n",
       "      <td>Fixing per axis quantization bug in flatbuffer...</td>\n",
       "      <td>1</td>\n",
       "      <td>0</td>\n",
       "      <td>0</td>\n",
       "      <td>1</td>\n",
       "      <td>1</td>\n",
       "      <td>0</td>\n",
       "      <td>0</td>\n",
       "      <td>...</td>\n",
       "      <td>0</td>\n",
       "      <td>0</td>\n",
       "      <td>0</td>\n",
       "      <td>0</td>\n",
       "      <td>0</td>\n",
       "      <td>0</td>\n",
       "      <td>0</td>\n",
       "      <td>0</td>\n",
       "      <td>0</td>\n",
       "      <td>0</td>\n",
       "    </tr>\n",
       "    <tr>\n",
       "      <th>c800d2e36954edddcb83aa1df7f623f2780c7780</th>\n",
       "      <td>0</td>\n",
       "      <td>diff --git a/tensorflow/python/tools/saved_mod...</td>\n",
       "      <td>Add support for python expression as SavedMode...</td>\n",
       "      <td>0</td>\n",
       "      <td>0</td>\n",
       "      <td>0</td>\n",
       "      <td>0</td>\n",
       "      <td>0</td>\n",
       "      <td>0</td>\n",
       "      <td>0</td>\n",
       "      <td>...</td>\n",
       "      <td>0</td>\n",
       "      <td>0</td>\n",
       "      <td>0</td>\n",
       "      <td>0</td>\n",
       "      <td>0</td>\n",
       "      <td>0</td>\n",
       "      <td>0</td>\n",
       "      <td>0</td>\n",
       "      <td>0</td>\n",
       "      <td>0</td>\n",
       "    </tr>\n",
       "    <tr>\n",
       "      <th>469e56eeff17eb857c95e935ca7b49723c43470e</th>\n",
       "      <td>2</td>\n",
       "      <td>diff --git a/.github/ISSUE_TEMPLATE/00-bug-iss...</td>\n",
       "      <td>Fix GitHub issue templates. Actual fix for #36...</td>\n",
       "      <td>0</td>\n",
       "      <td>0</td>\n",
       "      <td>0</td>\n",
       "      <td>0</td>\n",
       "      <td>0</td>\n",
       "      <td>0</td>\n",
       "      <td>0</td>\n",
       "      <td>...</td>\n",
       "      <td>0</td>\n",
       "      <td>0</td>\n",
       "      <td>8</td>\n",
       "      <td>0</td>\n",
       "      <td>0</td>\n",
       "      <td>15</td>\n",
       "      <td>0</td>\n",
       "      <td>0</td>\n",
       "      <td>0</td>\n",
       "      <td>0</td>\n",
       "    </tr>\n",
       "    <tr>\n",
       "      <th>24f5d302c0906f3377f4d6bcc2735d943ce13e3d</th>\n",
       "      <td>0</td>\n",
       "      <td>diff --git a/tensorflow/compiler/xla/pjrt/dist...</td>\n",
       "      <td>Add new PjRT distributed APIs (KeyValueDelete,...</td>\n",
       "      <td>3</td>\n",
       "      <td>37</td>\n",
       "      <td>0</td>\n",
       "      <td>0</td>\n",
       "      <td>9</td>\n",
       "      <td>0</td>\n",
       "      <td>0</td>\n",
       "      <td>...</td>\n",
       "      <td>0</td>\n",
       "      <td>0</td>\n",
       "      <td>0</td>\n",
       "      <td>0</td>\n",
       "      <td>0</td>\n",
       "      <td>0</td>\n",
       "      <td>1</td>\n",
       "      <td>2</td>\n",
       "      <td>0</td>\n",
       "      <td>0</td>\n",
       "    </tr>\n",
       "    <tr>\n",
       "      <th>1effdb7b959503596b07f7f3e74618ab63f9e5e5</th>\n",
       "      <td>2</td>\n",
       "      <td>diff --git a/tensorflow/core/common_runtime/ea...</td>\n",
       "      <td>Remove IsLocalDevice() since it's no longer us...</td>\n",
       "      <td>1</td>\n",
       "      <td>0</td>\n",
       "      <td>12</td>\n",
       "      <td>0</td>\n",
       "      <td>0</td>\n",
       "      <td>1</td>\n",
       "      <td>0</td>\n",
       "      <td>...</td>\n",
       "      <td>0</td>\n",
       "      <td>0</td>\n",
       "      <td>0</td>\n",
       "      <td>0</td>\n",
       "      <td>0</td>\n",
       "      <td>0</td>\n",
       "      <td>0</td>\n",
       "      <td>0</td>\n",
       "      <td>0</td>\n",
       "      <td>0</td>\n",
       "    </tr>\n",
       "    <tr>\n",
       "      <th>...</th>\n",
       "      <td>...</td>\n",
       "      <td>...</td>\n",
       "      <td>...</td>\n",
       "      <td>...</td>\n",
       "      <td>...</td>\n",
       "      <td>...</td>\n",
       "      <td>...</td>\n",
       "      <td>...</td>\n",
       "      <td>...</td>\n",
       "      <td>...</td>\n",
       "      <td>...</td>\n",
       "      <td>...</td>\n",
       "      <td>...</td>\n",
       "      <td>...</td>\n",
       "      <td>...</td>\n",
       "      <td>...</td>\n",
       "      <td>...</td>\n",
       "      <td>...</td>\n",
       "      <td>...</td>\n",
       "      <td>...</td>\n",
       "      <td>...</td>\n",
       "    </tr>\n",
       "    <tr>\n",
       "      <th>e4bbfd537a63a52a6094491504fc7b0bb54bcb0e</th>\n",
       "      <td>1</td>\n",
       "      <td>diff --git a/drools-persistence-jpa/src/main/j...</td>\n",
       "      <td>fixing reflection constructor to use int inste...</td>\n",
       "      <td>1</td>\n",
       "      <td>0</td>\n",
       "      <td>0</td>\n",
       "      <td>1</td>\n",
       "      <td>0</td>\n",
       "      <td>0</td>\n",
       "      <td>0</td>\n",
       "      <td>...</td>\n",
       "      <td>0</td>\n",
       "      <td>0</td>\n",
       "      <td>0</td>\n",
       "      <td>0</td>\n",
       "      <td>0</td>\n",
       "      <td>0</td>\n",
       "      <td>0</td>\n",
       "      <td>0</td>\n",
       "      <td>0</td>\n",
       "      <td>0</td>\n",
       "    </tr>\n",
       "    <tr>\n",
       "      <th>75b81dcbd26a11d5b370ea5bdf102c2d62ebd0c3</th>\n",
       "      <td>1</td>\n",
       "      <td>diff --git a/drools-compiler/src/main/java/org...</td>\n",
       "      <td>Fix OutOfBoundException on- MemoryFileSystem.e...</td>\n",
       "      <td>2</td>\n",
       "      <td>6</td>\n",
       "      <td>2</td>\n",
       "      <td>3</td>\n",
       "      <td>0</td>\n",
       "      <td>0</td>\n",
       "      <td>0</td>\n",
       "      <td>...</td>\n",
       "      <td>0</td>\n",
       "      <td>0</td>\n",
       "      <td>0</td>\n",
       "      <td>0</td>\n",
       "      <td>0</td>\n",
       "      <td>0</td>\n",
       "      <td>0</td>\n",
       "      <td>0</td>\n",
       "      <td>0</td>\n",
       "      <td>0</td>\n",
       "    </tr>\n",
       "    <tr>\n",
       "      <th>6bc9677bbe919cd5bcadd8af2f5b0c838757a4ce</th>\n",
       "      <td>1</td>\n",
       "      <td>diff --git a/drools-core/src/main/java/org/dro...</td>\n",
       "      <td>[DROOLS-293] fix ObjectTypeNode id creation an...</td>\n",
       "      <td>1</td>\n",
       "      <td>1</td>\n",
       "      <td>5</td>\n",
       "      <td>13</td>\n",
       "      <td>0</td>\n",
       "      <td>0</td>\n",
       "      <td>0</td>\n",
       "      <td>...</td>\n",
       "      <td>0</td>\n",
       "      <td>0</td>\n",
       "      <td>0</td>\n",
       "      <td>0</td>\n",
       "      <td>0</td>\n",
       "      <td>0</td>\n",
       "      <td>0</td>\n",
       "      <td>0</td>\n",
       "      <td>0</td>\n",
       "      <td>0</td>\n",
       "    </tr>\n",
       "    <tr>\n",
       "      <th>48701edad8513b27acec7216581e64637157c86a</th>\n",
       "      <td>0</td>\n",
       "      <td>diff --git a/drools-core/src/main/java/org/dro...</td>\n",
       "      <td>DROOLS-515 Kie-Camel is broken after Camel Upd...</td>\n",
       "      <td>2</td>\n",
       "      <td>24</td>\n",
       "      <td>2</td>\n",
       "      <td>4</td>\n",
       "      <td>3</td>\n",
       "      <td>0</td>\n",
       "      <td>0</td>\n",
       "      <td>...</td>\n",
       "      <td>0</td>\n",
       "      <td>0</td>\n",
       "      <td>0</td>\n",
       "      <td>0</td>\n",
       "      <td>0</td>\n",
       "      <td>0</td>\n",
       "      <td>0</td>\n",
       "      <td>0</td>\n",
       "      <td>0</td>\n",
       "      <td>0</td>\n",
       "    </tr>\n",
       "    <tr>\n",
       "      <th>45529d30d41b8de338dfc2d26b61d1a79113c766</th>\n",
       "      <td>0</td>\n",
       "      <td>diff --git a/drools-compiler/src/test/java/org...</td>\n",
       "      <td>JBRULES-2934 Add NewRegisterWorkItemHandlerCom...</td>\n",
       "      <td>1</td>\n",
       "      <td>10</td>\n",
       "      <td>0</td>\n",
       "      <td>0</td>\n",
       "      <td>0</td>\n",
       "      <td>0</td>\n",
       "      <td>0</td>\n",
       "      <td>...</td>\n",
       "      <td>0</td>\n",
       "      <td>0</td>\n",
       "      <td>0</td>\n",
       "      <td>0</td>\n",
       "      <td>0</td>\n",
       "      <td>0</td>\n",
       "      <td>0</td>\n",
       "      <td>0</td>\n",
       "      <td>0</td>\n",
       "      <td>0</td>\n",
       "    </tr>\n",
       "  </tbody>\n",
       "</table>\n",
       "<p>1581 rows × 32 columns</p>\n",
       "</div>"
      ],
      "text/plain": [
       "                                          label  \\\n",
       "commit_sha                                        \n",
       "be937a3290223f926fe50684f1344569a573ed4b      1   \n",
       "c800d2e36954edddcb83aa1df7f623f2780c7780      0   \n",
       "469e56eeff17eb857c95e935ca7b49723c43470e      2   \n",
       "24f5d302c0906f3377f4d6bcc2735d943ce13e3d      0   \n",
       "1effdb7b959503596b07f7f3e74618ab63f9e5e5      2   \n",
       "...                                         ...   \n",
       "e4bbfd537a63a52a6094491504fc7b0bb54bcb0e      1   \n",
       "75b81dcbd26a11d5b370ea5bdf102c2d62ebd0c3      1   \n",
       "6bc9677bbe919cd5bcadd8af2f5b0c838757a4ce      1   \n",
       "48701edad8513b27acec7216581e64637157c86a      0   \n",
       "45529d30d41b8de338dfc2d26b61d1a79113c766      0   \n",
       "\n",
       "                                                                                      diffs  \\\n",
       "commit_sha                                                                                    \n",
       "be937a3290223f926fe50684f1344569a573ed4b  diff --git a/tensorflow/compiler/mlir/lite/fla...   \n",
       "c800d2e36954edddcb83aa1df7f623f2780c7780  diff --git a/tensorflow/python/tools/saved_mod...   \n",
       "469e56eeff17eb857c95e935ca7b49723c43470e  diff --git a/.github/ISSUE_TEMPLATE/00-bug-iss...   \n",
       "24f5d302c0906f3377f4d6bcc2735d943ce13e3d  diff --git a/tensorflow/compiler/xla/pjrt/dist...   \n",
       "1effdb7b959503596b07f7f3e74618ab63f9e5e5  diff --git a/tensorflow/core/common_runtime/ea...   \n",
       "...                                                                                     ...   \n",
       "e4bbfd537a63a52a6094491504fc7b0bb54bcb0e  diff --git a/drools-persistence-jpa/src/main/j...   \n",
       "75b81dcbd26a11d5b370ea5bdf102c2d62ebd0c3  diff --git a/drools-compiler/src/main/java/org...   \n",
       "6bc9677bbe919cd5bcadd8af2f5b0c838757a4ce  diff --git a/drools-core/src/main/java/org/dro...   \n",
       "48701edad8513b27acec7216581e64637157c86a  diff --git a/drools-core/src/main/java/org/dro...   \n",
       "45529d30d41b8de338dfc2d26b61d1a79113c766  diff --git a/drools-compiler/src/test/java/org...   \n",
       "\n",
       "                                                                                       text  \\\n",
       "commit_sha                                                                                    \n",
       "be937a3290223f926fe50684f1344569a573ed4b  Fixing per axis quantization bug in flatbuffer...   \n",
       "c800d2e36954edddcb83aa1df7f623f2780c7780  Add support for python expression as SavedMode...   \n",
       "469e56eeff17eb857c95e935ca7b49723c43470e  Fix GitHub issue templates. Actual fix for #36...   \n",
       "24f5d302c0906f3377f4d6bcc2735d943ce13e3d  Add new PjRT distributed APIs (KeyValueDelete,...   \n",
       "1effdb7b959503596b07f7f3e74618ab63f9e5e5  Remove IsLocalDevice() since it's no longer us...   \n",
       "...                                                                                     ...   \n",
       "e4bbfd537a63a52a6094491504fc7b0bb54bcb0e  fixing reflection constructor to use int inste...   \n",
       "75b81dcbd26a11d5b370ea5bdf102c2d62ebd0c3  Fix OutOfBoundException on- MemoryFileSystem.e...   \n",
       "6bc9677bbe919cd5bcadd8af2f5b0c838757a4ce  [DROOLS-293] fix ObjectTypeNode id creation an...   \n",
       "48701edad8513b27acec7216581e64637157c86a  DROOLS-515 Kie-Camel is broken after Camel Upd...   \n",
       "45529d30d41b8de338dfc2d26b61d1a79113c766  JBRULES-2934 Add NewRegisterWorkItemHandlerCom...   \n",
       "\n",
       "                                          CODE_CHANGE_FILE  \\\n",
       "commit_sha                                                   \n",
       "be937a3290223f926fe50684f1344569a573ed4b                 1   \n",
       "c800d2e36954edddcb83aa1df7f623f2780c7780                 0   \n",
       "469e56eeff17eb857c95e935ca7b49723c43470e                 0   \n",
       "24f5d302c0906f3377f4d6bcc2735d943ce13e3d                 3   \n",
       "1effdb7b959503596b07f7f3e74618ab63f9e5e5                 1   \n",
       "...                                                    ...   \n",
       "e4bbfd537a63a52a6094491504fc7b0bb54bcb0e                 1   \n",
       "75b81dcbd26a11d5b370ea5bdf102c2d62ebd0c3                 2   \n",
       "6bc9677bbe919cd5bcadd8af2f5b0c838757a4ce                 1   \n",
       "48701edad8513b27acec7216581e64637157c86a                 2   \n",
       "45529d30d41b8de338dfc2d26b61d1a79113c766                 1   \n",
       "\n",
       "                                          CODE_ADD_CODE_LINE  \\\n",
       "commit_sha                                                     \n",
       "be937a3290223f926fe50684f1344569a573ed4b                   0   \n",
       "c800d2e36954edddcb83aa1df7f623f2780c7780                   0   \n",
       "469e56eeff17eb857c95e935ca7b49723c43470e                   0   \n",
       "24f5d302c0906f3377f4d6bcc2735d943ce13e3d                  37   \n",
       "1effdb7b959503596b07f7f3e74618ab63f9e5e5                   0   \n",
       "...                                                      ...   \n",
       "e4bbfd537a63a52a6094491504fc7b0bb54bcb0e                   0   \n",
       "75b81dcbd26a11d5b370ea5bdf102c2d62ebd0c3                   6   \n",
       "6bc9677bbe919cd5bcadd8af2f5b0c838757a4ce                   1   \n",
       "48701edad8513b27acec7216581e64637157c86a                  24   \n",
       "45529d30d41b8de338dfc2d26b61d1a79113c766                  10   \n",
       "\n",
       "                                          CODE_DEL_CODE_LINE  \\\n",
       "commit_sha                                                     \n",
       "be937a3290223f926fe50684f1344569a573ed4b                   0   \n",
       "c800d2e36954edddcb83aa1df7f623f2780c7780                   0   \n",
       "469e56eeff17eb857c95e935ca7b49723c43470e                   0   \n",
       "24f5d302c0906f3377f4d6bcc2735d943ce13e3d                   0   \n",
       "1effdb7b959503596b07f7f3e74618ab63f9e5e5                  12   \n",
       "...                                                      ...   \n",
       "e4bbfd537a63a52a6094491504fc7b0bb54bcb0e                   0   \n",
       "75b81dcbd26a11d5b370ea5bdf102c2d62ebd0c3                   2   \n",
       "6bc9677bbe919cd5bcadd8af2f5b0c838757a4ce                   5   \n",
       "48701edad8513b27acec7216581e64637157c86a                   2   \n",
       "45529d30d41b8de338dfc2d26b61d1a79113c766                   0   \n",
       "\n",
       "                                          CODE_MOD_CODE_LINE  \\\n",
       "commit_sha                                                     \n",
       "be937a3290223f926fe50684f1344569a573ed4b                   1   \n",
       "c800d2e36954edddcb83aa1df7f623f2780c7780                   0   \n",
       "469e56eeff17eb857c95e935ca7b49723c43470e                   0   \n",
       "24f5d302c0906f3377f4d6bcc2735d943ce13e3d                   0   \n",
       "1effdb7b959503596b07f7f3e74618ab63f9e5e5                   0   \n",
       "...                                                      ...   \n",
       "e4bbfd537a63a52a6094491504fc7b0bb54bcb0e                   1   \n",
       "75b81dcbd26a11d5b370ea5bdf102c2d62ebd0c3                   3   \n",
       "6bc9677bbe919cd5bcadd8af2f5b0c838757a4ce                  13   \n",
       "48701edad8513b27acec7216581e64637157c86a                   4   \n",
       "45529d30d41b8de338dfc2d26b61d1a79113c766                   0   \n",
       "\n",
       "                                          CODE_ADD_COMMENT_LINE  \\\n",
       "commit_sha                                                        \n",
       "be937a3290223f926fe50684f1344569a573ed4b                      1   \n",
       "c800d2e36954edddcb83aa1df7f623f2780c7780                      0   \n",
       "469e56eeff17eb857c95e935ca7b49723c43470e                      0   \n",
       "24f5d302c0906f3377f4d6bcc2735d943ce13e3d                      9   \n",
       "1effdb7b959503596b07f7f3e74618ab63f9e5e5                      0   \n",
       "...                                                         ...   \n",
       "e4bbfd537a63a52a6094491504fc7b0bb54bcb0e                      0   \n",
       "75b81dcbd26a11d5b370ea5bdf102c2d62ebd0c3                      0   \n",
       "6bc9677bbe919cd5bcadd8af2f5b0c838757a4ce                      0   \n",
       "48701edad8513b27acec7216581e64637157c86a                      3   \n",
       "45529d30d41b8de338dfc2d26b61d1a79113c766                      0   \n",
       "\n",
       "                                          CODE_DEL_COMMENT_LINE  \\\n",
       "commit_sha                                                        \n",
       "be937a3290223f926fe50684f1344569a573ed4b                      0   \n",
       "c800d2e36954edddcb83aa1df7f623f2780c7780                      0   \n",
       "469e56eeff17eb857c95e935ca7b49723c43470e                      0   \n",
       "24f5d302c0906f3377f4d6bcc2735d943ce13e3d                      0   \n",
       "1effdb7b959503596b07f7f3e74618ab63f9e5e5                      1   \n",
       "...                                                         ...   \n",
       "e4bbfd537a63a52a6094491504fc7b0bb54bcb0e                      0   \n",
       "75b81dcbd26a11d5b370ea5bdf102c2d62ebd0c3                      0   \n",
       "6bc9677bbe919cd5bcadd8af2f5b0c838757a4ce                      0   \n",
       "48701edad8513b27acec7216581e64637157c86a                      0   \n",
       "45529d30d41b8de338dfc2d26b61d1a79113c766                      0   \n",
       "\n",
       "                                          CODE_MOD_COMMENT_LINE  ...  \\\n",
       "commit_sha                                                       ...   \n",
       "be937a3290223f926fe50684f1344569a573ed4b                      0  ...   \n",
       "c800d2e36954edddcb83aa1df7f623f2780c7780                      0  ...   \n",
       "469e56eeff17eb857c95e935ca7b49723c43470e                      0  ...   \n",
       "24f5d302c0906f3377f4d6bcc2735d943ce13e3d                      0  ...   \n",
       "1effdb7b959503596b07f7f3e74618ab63f9e5e5                      0  ...   \n",
       "...                                                         ...  ...   \n",
       "e4bbfd537a63a52a6094491504fc7b0bb54bcb0e                      0  ...   \n",
       "75b81dcbd26a11d5b370ea5bdf102c2d62ebd0c3                      0  ...   \n",
       "6bc9677bbe919cd5bcadd8af2f5b0c838757a4ce                      0  ...   \n",
       "48701edad8513b27acec7216581e64637157c86a                      0  ...   \n",
       "45529d30d41b8de338dfc2d26b61d1a79113c766                      0  ...   \n",
       "\n",
       "                                          BUILD_DEL_LINE  BUILD_MOD_LINE  \\\n",
       "commit_sha                                                                 \n",
       "be937a3290223f926fe50684f1344569a573ed4b               0               0   \n",
       "c800d2e36954edddcb83aa1df7f623f2780c7780               0               0   \n",
       "469e56eeff17eb857c95e935ca7b49723c43470e               0               0   \n",
       "24f5d302c0906f3377f4d6bcc2735d943ce13e3d               0               0   \n",
       "1effdb7b959503596b07f7f3e74618ab63f9e5e5               0               0   \n",
       "...                                                  ...             ...   \n",
       "e4bbfd537a63a52a6094491504fc7b0bb54bcb0e               0               0   \n",
       "75b81dcbd26a11d5b370ea5bdf102c2d62ebd0c3               0               0   \n",
       "6bc9677bbe919cd5bcadd8af2f5b0c838757a4ce               0               0   \n",
       "48701edad8513b27acec7216581e64637157c86a               0               0   \n",
       "45529d30d41b8de338dfc2d26b61d1a79113c766               0               0   \n",
       "\n",
       "                                          DOC_CHANGE_FILE  DOC_ADD_LINE  \\\n",
       "commit_sha                                                                \n",
       "be937a3290223f926fe50684f1344569a573ed4b                0             0   \n",
       "c800d2e36954edddcb83aa1df7f623f2780c7780                0             0   \n",
       "469e56eeff17eb857c95e935ca7b49723c43470e                8             0   \n",
       "24f5d302c0906f3377f4d6bcc2735d943ce13e3d                0             0   \n",
       "1effdb7b959503596b07f7f3e74618ab63f9e5e5                0             0   \n",
       "...                                                   ...           ...   \n",
       "e4bbfd537a63a52a6094491504fc7b0bb54bcb0e                0             0   \n",
       "75b81dcbd26a11d5b370ea5bdf102c2d62ebd0c3                0             0   \n",
       "6bc9677bbe919cd5bcadd8af2f5b0c838757a4ce                0             0   \n",
       "48701edad8513b27acec7216581e64637157c86a                0             0   \n",
       "45529d30d41b8de338dfc2d26b61d1a79113c766                0             0   \n",
       "\n",
       "                                          DOC_DEL_LINE  DOC_MOD_LINE  \\\n",
       "commit_sha                                                             \n",
       "be937a3290223f926fe50684f1344569a573ed4b             0             0   \n",
       "c800d2e36954edddcb83aa1df7f623f2780c7780             0             0   \n",
       "469e56eeff17eb857c95e935ca7b49723c43470e             0            15   \n",
       "24f5d302c0906f3377f4d6bcc2735d943ce13e3d             0             0   \n",
       "1effdb7b959503596b07f7f3e74618ab63f9e5e5             0             0   \n",
       "...                                                ...           ...   \n",
       "e4bbfd537a63a52a6094491504fc7b0bb54bcb0e             0             0   \n",
       "75b81dcbd26a11d5b370ea5bdf102c2d62ebd0c3             0             0   \n",
       "6bc9677bbe919cd5bcadd8af2f5b0c838757a4ce             0             0   \n",
       "48701edad8513b27acec7216581e64637157c86a             0             0   \n",
       "45529d30d41b8de338dfc2d26b61d1a79113c766             0             0   \n",
       "\n",
       "                                          OTHER_CHANGE_FILE  OTHER_ADD_LINE  \\\n",
       "commit_sha                                                                    \n",
       "be937a3290223f926fe50684f1344569a573ed4b                  0               0   \n",
       "c800d2e36954edddcb83aa1df7f623f2780c7780                  0               0   \n",
       "469e56eeff17eb857c95e935ca7b49723c43470e                  0               0   \n",
       "24f5d302c0906f3377f4d6bcc2735d943ce13e3d                  1               2   \n",
       "1effdb7b959503596b07f7f3e74618ab63f9e5e5                  0               0   \n",
       "...                                                     ...             ...   \n",
       "e4bbfd537a63a52a6094491504fc7b0bb54bcb0e                  0               0   \n",
       "75b81dcbd26a11d5b370ea5bdf102c2d62ebd0c3                  0               0   \n",
       "6bc9677bbe919cd5bcadd8af2f5b0c838757a4ce                  0               0   \n",
       "48701edad8513b27acec7216581e64637157c86a                  0               0   \n",
       "45529d30d41b8de338dfc2d26b61d1a79113c766                  0               0   \n",
       "\n",
       "                                          OTHER_DEL_LINE  OTHER_MOD_LINE  \n",
       "commit_sha                                                                \n",
       "be937a3290223f926fe50684f1344569a573ed4b               0               0  \n",
       "c800d2e36954edddcb83aa1df7f623f2780c7780               0               0  \n",
       "469e56eeff17eb857c95e935ca7b49723c43470e               0               0  \n",
       "24f5d302c0906f3377f4d6bcc2735d943ce13e3d               0               0  \n",
       "1effdb7b959503596b07f7f3e74618ab63f9e5e5               0               0  \n",
       "...                                                  ...             ...  \n",
       "e4bbfd537a63a52a6094491504fc7b0bb54bcb0e               0               0  \n",
       "75b81dcbd26a11d5b370ea5bdf102c2d62ebd0c3               0               0  \n",
       "6bc9677bbe919cd5bcadd8af2f5b0c838757a4ce               0               0  \n",
       "48701edad8513b27acec7216581e64637157c86a               0               0  \n",
       "45529d30d41b8de338dfc2d26b61d1a79113c766               0               0  \n",
       "\n",
       "[1581 rows x 32 columns]"
      ]
     },
     "execution_count": 2,
     "metadata": {},
     "output_type": "execute_result"
    }
   ],
   "source": [
    "df = pd.read_csv(r'/root/autodl-tmp/CommitFit/dataset/multi-lang-annotated/dataset.csv', index_col=0, encoding='utf_8_sig')\n",
    "df.fillna('', inplace=True)\n",
    "label2id={'A':0, 'C':1, 'P':2}\n",
    "df = df.rename(columns={'maintenance_type':'label','commit_message':'text','commit_diff':'diffs'})\n",
    "df = df.replace({\"label\": label2id})\n",
    "# # print(df)\n",
    "df\n",
    "# test_sample = df.sample(n=3, random_state=1)"
   ]
  },
  {
   "cell_type": "code",
   "execution_count": 3,
   "id": "26803da1-da52-48a7-8040-70914c05f2ea",
   "metadata": {
    "execution": {
     "iopub.execute_input": "2025-08-26T02:00:13.109119Z",
     "iopub.status.busy": "2025-08-26T02:00:13.108931Z",
     "iopub.status.idle": "2025-08-26T02:00:13.115244Z",
     "shell.execute_reply": "2025-08-26T02:00:13.114530Z",
     "shell.execute_reply.started": "2025-08-26T02:00:13.109097Z"
    }
   },
   "outputs": [],
   "source": [
    "train, temp_df = train_test_split(df, test_size=0.3, random_state=42)\n",
    "val_df, test = train_test_split(temp_df, test_size=0.5, random_state=42)"
   ]
  },
  {
   "cell_type": "code",
   "execution_count": 4,
   "id": "8832a7a5-8f6d-4871-a732-bf25dc1aed25",
   "metadata": {
    "execution": {
     "iopub.execute_input": "2025-08-26T02:00:13.116219Z",
     "iopub.status.busy": "2025-08-26T02:00:13.116044Z",
     "iopub.status.idle": "2025-08-26T02:00:13.123082Z",
     "shell.execute_reply": "2025-08-26T02:00:13.122363Z",
     "shell.execute_reply.started": "2025-08-26T02:00:13.116199Z"
    }
   },
   "outputs": [
    {
     "name": "stderr",
     "output_type": "stream",
     "text": [
      "/tmp/ipykernel_2229/2088339219.py:1: DeprecationWarning: DataFrameGroupBy.apply operated on the grouping columns. This behavior is deprecated, and in a future version of pandas the grouping columns will be excluded from the operation. Either pass `include_groups=False` to exclude the groupings or explicitly select the grouping columns after groupby to silence this warning.\n",
      "  train = train.groupby(\"label\", group_keys=False).apply(lambda x: x.sample(n=50, random_state=42))\n"
     ]
    }
   ],
   "source": [
    "train = train.groupby(\"label\", group_keys=False).apply(lambda x: x.sample(n=100, random_state=42))"
   ]
  },
  {
   "cell_type": "code",
   "execution_count": 5,
   "id": "2e214dbb-075e-4fbf-adc9-f3533801587e",
   "metadata": {
    "execution": {
     "iopub.execute_input": "2025-08-26T02:00:13.124980Z",
     "iopub.status.busy": "2025-08-26T02:00:13.124690Z",
     "iopub.status.idle": "2025-08-26T02:00:13.276710Z",
     "shell.execute_reply": "2025-08-26T02:00:13.275715Z",
     "shell.execute_reply.started": "2025-08-26T02:00:13.124958Z"
    }
   },
   "outputs": [],
   "source": [
    "Dataset_train = Dataset.from_pandas(train)\n",
    "test_dataset = Dataset.from_pandas(test)"
   ]
  },
  {
   "cell_type": "code",
   "execution_count": 6,
   "id": "1a8ec7ec-1112-4140-8ccd-516ba9a1b1a8",
   "metadata": {
    "execution": {
     "iopub.execute_input": "2025-08-26T02:00:13.277990Z",
     "iopub.status.busy": "2025-08-26T02:00:13.277629Z",
     "iopub.status.idle": "2025-08-26T02:00:13.401123Z",
     "shell.execute_reply": "2025-08-26T02:00:13.400283Z",
     "shell.execute_reply.started": "2025-08-26T02:00:13.277968Z"
    }
   },
   "outputs": [],
   "source": [
    "train_dataset = get_templated_dataset(Dataset_train, candidate_labels=['Corrective','Adaptive','Perfective'], sample_size=8)"
   ]
  },
  {
   "cell_type": "code",
   "execution_count": 7,
   "id": "6af4102b-39bc-4b20-ab32-43800fb572bf",
   "metadata": {
    "execution": {
     "iopub.execute_input": "2025-08-26T02:00:13.402279Z",
     "iopub.status.busy": "2025-08-26T02:00:13.402063Z",
     "iopub.status.idle": "2025-08-26T02:00:13.406518Z",
     "shell.execute_reply": "2025-08-26T02:00:13.405852Z",
     "shell.execute_reply.started": "2025-08-26T02:00:13.402242Z"
    }
   },
   "outputs": [],
   "source": [
    "train_code_change = list(train['diffs'].astype(str))\n",
    "test_code_change = list(test['diffs'].astype(str))"
   ]
  },
  {
   "cell_type": "code",
   "execution_count": 8,
   "id": "c5ea76cd-69e5-4aa8-bf49-c9e746b63bbb",
   "metadata": {
    "execution": {
     "iopub.execute_input": "2025-08-26T02:00:13.407458Z",
     "iopub.status.busy": "2025-08-26T02:00:13.407286Z",
     "iopub.status.idle": "2025-08-26T02:00:13.411879Z",
     "shell.execute_reply": "2025-08-26T02:00:13.411199Z",
     "shell.execute_reply.started": "2025-08-26T02:00:13.407439Z"
    }
   },
   "outputs": [
    {
     "data": {
      "text/plain": [
       "Dataset({\n",
       "    features: ['label', 'diffs', 'text', 'CODE_CHANGE_FILE', 'CODE_ADD_CODE_LINE', 'CODE_DEL_CODE_LINE', 'CODE_MOD_CODE_LINE', 'CODE_ADD_COMMENT_LINE', 'CODE_DEL_COMMENT_LINE', 'CODE_MOD_COMMENT_LINE', 'TEST_CHANGE_FILE', 'TEST_ADD_CODE_LINE', 'TEST_DEL_CODE_LINE', 'TEST_MOD_CODE_LINE', 'TEST_ADD_COMMENT_LINE', 'TEST_DEL_COMMENT_LINE', 'TEST_MOD_COMMENT_LINE', 'TEST_ADD_OTHER_LINE', 'TEST_DEL_OTHER_LINE', 'TEST_MOD_OTHER_LINE', 'BUILD_CHANGE_FILE', 'BUILD_ADD_LINE', 'BUILD_DEL_LINE', 'BUILD_MOD_LINE', 'DOC_CHANGE_FILE', 'DOC_ADD_LINE', 'DOC_DEL_LINE', 'DOC_MOD_LINE', 'OTHER_CHANGE_FILE', 'OTHER_ADD_LINE', 'OTHER_DEL_LINE', 'OTHER_MOD_LINE', 'commit_sha'],\n",
       "    num_rows: 174\n",
       "})"
      ]
     },
     "execution_count": 8,
     "metadata": {},
     "output_type": "execute_result"
    }
   ],
   "source": [
    "# list(train['message'].astype(str).values)\n",
    "train_dataset"
   ]
  },
  {
   "cell_type": "code",
   "execution_count": 9,
   "id": "ee30affe-0ec9-46a3-bcaa-a1bd9422c939",
   "metadata": {
    "execution": {
     "iopub.execute_input": "2025-08-26T02:00:13.412830Z",
     "iopub.status.busy": "2025-08-26T02:00:13.412648Z",
     "iopub.status.idle": "2025-08-26T02:00:13.417291Z",
     "shell.execute_reply": "2025-08-26T02:00:13.416649Z",
     "shell.execute_reply.started": "2025-08-26T02:00:13.412810Z"
    }
   },
   "outputs": [
    {
     "data": {
      "text/plain": [
       "150"
      ]
     },
     "execution_count": 9,
     "metadata": {},
     "output_type": "execute_result"
    }
   ],
   "source": [
    "len(train)"
   ]
  },
  {
   "cell_type": "code",
   "execution_count": 10,
   "id": "84e38639-cf4b-4762-a1dc-cdc983938388",
   "metadata": {
    "execution": {
     "iopub.execute_input": "2025-08-26T02:00:13.418145Z",
     "iopub.status.busy": "2025-08-26T02:00:13.417971Z",
     "iopub.status.idle": "2025-08-26T02:00:13.423827Z",
     "shell.execute_reply": "2025-08-26T02:00:13.423160Z",
     "shell.execute_reply.started": "2025-08-26T02:00:13.418125Z"
    }
   },
   "outputs": [
    {
     "data": {
      "text/plain": [
       "label\n",
       "0    50\n",
       "1    50\n",
       "2    50\n",
       "Name: count, dtype: int64"
      ]
     },
     "execution_count": 10,
     "metadata": {},
     "output_type": "execute_result"
    }
   ],
   "source": [
    "train['label'].value_counts()"
   ]
  },
  {
   "cell_type": "code",
   "execution_count": 11,
   "id": "3cf6c110-616d-45da-aa2e-4a5add26b3c0",
   "metadata": {
    "execution": {
     "iopub.execute_input": "2025-08-26T02:00:13.424694Z",
     "iopub.status.busy": "2025-08-26T02:00:13.424522Z",
     "iopub.status.idle": "2025-08-26T02:00:13.429956Z",
     "shell.execute_reply": "2025-08-26T02:00:13.429308Z",
     "shell.execute_reply.started": "2025-08-26T02:00:13.424674Z"
    }
   },
   "outputs": [
    {
     "data": {
      "text/plain": [
       "label\n",
       "2    155\n",
       "1     51\n",
       "0     32\n",
       "Name: count, dtype: int64"
      ]
     },
     "execution_count": 11,
     "metadata": {},
     "output_type": "execute_result"
    }
   ],
   "source": [
    "test['label'].value_counts()"
   ]
  },
  {
   "cell_type": "code",
   "execution_count": 12,
   "id": "77117d87-5292-48f5-b077-74b47ccfd5eb",
   "metadata": {
    "execution": {
     "iopub.execute_input": "2025-08-26T02:00:13.430808Z",
     "iopub.status.busy": "2025-08-26T02:00:13.430634Z",
     "iopub.status.idle": "2025-08-26T02:00:13.435229Z",
     "shell.execute_reply": "2025-08-26T02:00:13.434581Z",
     "shell.execute_reply.started": "2025-08-26T02:00:13.430788Z"
    }
   },
   "outputs": [
    {
     "data": {
      "text/plain": [
       "174"
      ]
     },
     "execution_count": 12,
     "metadata": {},
     "output_type": "execute_result"
    }
   ],
   "source": [
    "len(train_dataset)"
   ]
  },
  {
   "cell_type": "code",
   "execution_count": 13,
   "id": "dca6275a-a567-4963-831c-8dd653341162",
   "metadata": {
    "execution": {
     "iopub.execute_input": "2025-08-26T02:00:13.436168Z",
     "iopub.status.busy": "2025-08-26T02:00:13.435989Z",
     "iopub.status.idle": "2025-08-26T02:00:13.440775Z",
     "shell.execute_reply": "2025-08-26T02:00:13.440087Z",
     "shell.execute_reply.started": "2025-08-26T02:00:13.436148Z"
    }
   },
   "outputs": [],
   "source": [
    "from sklearn import  metrics\n",
    "\n",
    "def compute_metrics(y_pred, y_test):\n",
    "    # print(y_pred,y_test)\n",
    "    # classification_report = metrics.classification_report(y_test,y_pred)\n",
    "    accuracy_score = metrics.accuracy_score(y_test,y_pred)\n",
    "    precision_score = metrics.precision_score(y_test,y_pred, average='weighted')\n",
    "    recall_score = metrics.recall_score(y_test,y_pred,average='weighted')\n",
    "    f1_score = metrics.f1_score(y_test,y_pred,average='weighted')\n",
    "\n",
    "    # return {\"classification_report\": classification_report}\n",
    "    return {\"precision\": round(precision_score, 4),\"recall\": round(recall_score, 4), \"f1\":round(f1_score, 4), \"accuracy\": round(accuracy_score, 4)}"
   ]
  },
  {
   "cell_type": "code",
   "execution_count": 14,
   "id": "49e32d66-2fc2-4a53-bae1-13f8d67c5b6f",
   "metadata": {
    "execution": {
     "iopub.execute_input": "2025-08-26T02:00:13.443443Z",
     "iopub.status.busy": "2025-08-26T02:00:13.443163Z",
     "iopub.status.idle": "2025-08-26T02:00:13.447686Z",
     "shell.execute_reply": "2025-08-26T02:00:13.447045Z",
     "shell.execute_reply.started": "2025-08-26T02:00:13.443421Z"
    }
   },
   "outputs": [
    {
     "data": {
      "text/plain": [
       "Dataset({\n",
       "    features: ['label', 'diffs', 'text', 'CODE_CHANGE_FILE', 'CODE_ADD_CODE_LINE', 'CODE_DEL_CODE_LINE', 'CODE_MOD_CODE_LINE', 'CODE_ADD_COMMENT_LINE', 'CODE_DEL_COMMENT_LINE', 'CODE_MOD_COMMENT_LINE', 'TEST_CHANGE_FILE', 'TEST_ADD_CODE_LINE', 'TEST_DEL_CODE_LINE', 'TEST_MOD_CODE_LINE', 'TEST_ADD_COMMENT_LINE', 'TEST_DEL_COMMENT_LINE', 'TEST_MOD_COMMENT_LINE', 'TEST_ADD_OTHER_LINE', 'TEST_DEL_OTHER_LINE', 'TEST_MOD_OTHER_LINE', 'BUILD_CHANGE_FILE', 'BUILD_ADD_LINE', 'BUILD_DEL_LINE', 'BUILD_MOD_LINE', 'DOC_CHANGE_FILE', 'DOC_ADD_LINE', 'DOC_DEL_LINE', 'DOC_MOD_LINE', 'OTHER_CHANGE_FILE', 'OTHER_ADD_LINE', 'OTHER_DEL_LINE', 'OTHER_MOD_LINE', 'commit_sha'],\n",
       "    num_rows: 174\n",
       "})"
      ]
     },
     "execution_count": 14,
     "metadata": {},
     "output_type": "execute_result"
    }
   ],
   "source": [
    "train_dataset"
   ]
  },
  {
   "cell_type": "code",
   "execution_count": 15,
   "id": "b7c52074-c55f-4218-bc87-cdbc6e36a993",
   "metadata": {
    "execution": {
     "iopub.execute_input": "2025-08-26T02:00:13.448602Z",
     "iopub.status.busy": "2025-08-26T02:00:13.448426Z",
     "iopub.status.idle": "2025-08-26T02:00:13.464127Z",
     "shell.execute_reply": "2025-08-26T02:00:13.463468Z",
     "shell.execute_reply.started": "2025-08-26T02:00:13.448582Z"
    }
   },
   "outputs": [
    {
     "data": {
      "text/html": [
       "<div>\n",
       "<style scoped>\n",
       "    .dataframe tbody tr th:only-of-type {\n",
       "        vertical-align: middle;\n",
       "    }\n",
       "\n",
       "    .dataframe tbody tr th {\n",
       "        vertical-align: top;\n",
       "    }\n",
       "\n",
       "    .dataframe thead th {\n",
       "        text-align: right;\n",
       "    }\n",
       "</style>\n",
       "<table border=\"1\" class=\"dataframe\">\n",
       "  <thead>\n",
       "    <tr style=\"text-align: right;\">\n",
       "      <th></th>\n",
       "      <th>label</th>\n",
       "      <th>diffs</th>\n",
       "      <th>text</th>\n",
       "      <th>CODE_CHANGE_FILE</th>\n",
       "      <th>CODE_ADD_CODE_LINE</th>\n",
       "      <th>CODE_DEL_CODE_LINE</th>\n",
       "      <th>CODE_MOD_CODE_LINE</th>\n",
       "      <th>CODE_ADD_COMMENT_LINE</th>\n",
       "      <th>CODE_DEL_COMMENT_LINE</th>\n",
       "      <th>CODE_MOD_COMMENT_LINE</th>\n",
       "      <th>...</th>\n",
       "      <th>BUILD_DEL_LINE</th>\n",
       "      <th>BUILD_MOD_LINE</th>\n",
       "      <th>DOC_CHANGE_FILE</th>\n",
       "      <th>DOC_ADD_LINE</th>\n",
       "      <th>DOC_DEL_LINE</th>\n",
       "      <th>DOC_MOD_LINE</th>\n",
       "      <th>OTHER_CHANGE_FILE</th>\n",
       "      <th>OTHER_ADD_LINE</th>\n",
       "      <th>OTHER_DEL_LINE</th>\n",
       "      <th>OTHER_MOD_LINE</th>\n",
       "    </tr>\n",
       "    <tr>\n",
       "      <th>commit_sha</th>\n",
       "      <th></th>\n",
       "      <th></th>\n",
       "      <th></th>\n",
       "      <th></th>\n",
       "      <th></th>\n",
       "      <th></th>\n",
       "      <th></th>\n",
       "      <th></th>\n",
       "      <th></th>\n",
       "      <th></th>\n",
       "      <th></th>\n",
       "      <th></th>\n",
       "      <th></th>\n",
       "      <th></th>\n",
       "      <th></th>\n",
       "      <th></th>\n",
       "      <th></th>\n",
       "      <th></th>\n",
       "      <th></th>\n",
       "      <th></th>\n",
       "      <th></th>\n",
       "    </tr>\n",
       "  </thead>\n",
       "  <tbody>\n",
       "    <tr>\n",
       "      <th>ed09b4ea6a17566b546a9d3ae76876636710c6a0</th>\n",
       "      <td>0</td>\n",
       "      <td>diff --git a/common/net/json/host.go b/common/...</td>\n",
       "      <td>support domain as host in VMess outbound confi...</td>\n",
       "      <td>3</td>\n",
       "      <td>49</td>\n",
       "      <td>2</td>\n",
       "      <td>8</td>\n",
       "      <td>0</td>\n",
       "      <td>0</td>\n",
       "      <td>0</td>\n",
       "      <td>...</td>\n",
       "      <td>0</td>\n",
       "      <td>0</td>\n",
       "      <td>0</td>\n",
       "      <td>0</td>\n",
       "      <td>0</td>\n",
       "      <td>0</td>\n",
       "      <td>0</td>\n",
       "      <td>0</td>\n",
       "      <td>0</td>\n",
       "      <td>0</td>\n",
       "    </tr>\n",
       "    <tr>\n",
       "      <th>e67010b5e2eaa5a5ddb756d7ddc2dd0194f09a0a</th>\n",
       "      <td>0</td>\n",
       "      <td>diff --git a/cli/file_fetcher.rs b/cli/file_fe...</td>\n",
       "      <td>feat(cli/compile): Support data uri dynamic im...</td>\n",
       "      <td>2</td>\n",
       "      <td>25</td>\n",
       "      <td>1</td>\n",
       "      <td>7</td>\n",
       "      <td>0</td>\n",
       "      <td>0</td>\n",
       "      <td>0</td>\n",
       "      <td>...</td>\n",
       "      <td>0</td>\n",
       "      <td>0</td>\n",
       "      <td>0</td>\n",
       "      <td>0</td>\n",
       "      <td>0</td>\n",
       "      <td>0</td>\n",
       "      <td>0</td>\n",
       "      <td>0</td>\n",
       "      <td>0</td>\n",
       "      <td>0</td>\n",
       "    </tr>\n",
       "    <tr>\n",
       "      <th>74066765bb8ca85864f75bde6091f96207f988cf</th>\n",
       "      <td>0</td>\n",
       "      <td>diff --git a/src/main/java/org/apache/hadoop/h...</td>\n",
       "      <td>HBASE-2889 Tool to look at HLogs -- parse and-...</td>\n",
       "      <td>1</td>\n",
       "      <td>0</td>\n",
       "      <td>0</td>\n",
       "      <td>1</td>\n",
       "      <td>0</td>\n",
       "      <td>0</td>\n",
       "      <td>0</td>\n",
       "      <td>...</td>\n",
       "      <td>0</td>\n",
       "      <td>0</td>\n",
       "      <td>0</td>\n",
       "      <td>0</td>\n",
       "      <td>0</td>\n",
       "      <td>0</td>\n",
       "      <td>0</td>\n",
       "      <td>0</td>\n",
       "      <td>0</td>\n",
       "      <td>0</td>\n",
       "    </tr>\n",
       "    <tr>\n",
       "      <th>8d9e4345207013c55a8719995ec4ad4e9be466f2</th>\n",
       "      <td>0</td>\n",
       "      <td>diff --git a/truststore_nss.go b/truststore_ns...</td>\n",
       "      <td>truststore_nss: support multiple NSS databases...</td>\n",
       "      <td>1</td>\n",
       "      <td>9</td>\n",
       "      <td>6</td>\n",
       "      <td>6</td>\n",
       "      <td>0</td>\n",
       "      <td>0</td>\n",
       "      <td>0</td>\n",
       "      <td>...</td>\n",
       "      <td>0</td>\n",
       "      <td>0</td>\n",
       "      <td>0</td>\n",
       "      <td>0</td>\n",
       "      <td>0</td>\n",
       "      <td>0</td>\n",
       "      <td>0</td>\n",
       "      <td>0</td>\n",
       "      <td>0</td>\n",
       "      <td>0</td>\n",
       "    </tr>\n",
       "    <tr>\n",
       "      <th>145c46ff3630e55b6c50ff479f54661ef54124bd</th>\n",
       "      <td>0</td>\n",
       "      <td>diff --git a/lib/dependencies/DelegatedExports...</td>\n",
       "      <td>feat(DelegatedExportsDependency): make seriali...</td>\n",
       "      <td>1</td>\n",
       "      <td>15</td>\n",
       "      <td>0</td>\n",
       "      <td>0</td>\n",
       "      <td>0</td>\n",
       "      <td>0</td>\n",
       "      <td>0</td>\n",
       "      <td>...</td>\n",
       "      <td>0</td>\n",
       "      <td>0</td>\n",
       "      <td>0</td>\n",
       "      <td>0</td>\n",
       "      <td>0</td>\n",
       "      <td>0</td>\n",
       "      <td>0</td>\n",
       "      <td>0</td>\n",
       "      <td>0</td>\n",
       "      <td>0</td>\n",
       "    </tr>\n",
       "    <tr>\n",
       "      <th>...</th>\n",
       "      <td>...</td>\n",
       "      <td>...</td>\n",
       "      <td>...</td>\n",
       "      <td>...</td>\n",
       "      <td>...</td>\n",
       "      <td>...</td>\n",
       "      <td>...</td>\n",
       "      <td>...</td>\n",
       "      <td>...</td>\n",
       "      <td>...</td>\n",
       "      <td>...</td>\n",
       "      <td>...</td>\n",
       "      <td>...</td>\n",
       "      <td>...</td>\n",
       "      <td>...</td>\n",
       "      <td>...</td>\n",
       "      <td>...</td>\n",
       "      <td>...</td>\n",
       "      <td>...</td>\n",
       "      <td>...</td>\n",
       "      <td>...</td>\n",
       "    </tr>\n",
       "    <tr>\n",
       "      <th>5c089da5d3d70aba3ff5bda443b259940adf0394</th>\n",
       "      <td>2</td>\n",
       "      <td>diff --git a/docs/recipes/ServerRendering.md b...</td>\n",
       "      <td>Update ServerRendering.md\\n</td>\n",
       "      <td>0</td>\n",
       "      <td>0</td>\n",
       "      <td>0</td>\n",
       "      <td>0</td>\n",
       "      <td>0</td>\n",
       "      <td>0</td>\n",
       "      <td>0</td>\n",
       "      <td>...</td>\n",
       "      <td>0</td>\n",
       "      <td>0</td>\n",
       "      <td>1</td>\n",
       "      <td>3</td>\n",
       "      <td>0</td>\n",
       "      <td>0</td>\n",
       "      <td>0</td>\n",
       "      <td>0</td>\n",
       "      <td>0</td>\n",
       "      <td>0</td>\n",
       "    </tr>\n",
       "    <tr>\n",
       "      <th>b32054d4c0da35d30e0cc7d0a6b23048845daca1</th>\n",
       "      <td>2</td>\n",
       "      <td>diff --git a/schemas/ajv.absolutePath.js b/sch...</td>\n",
       "      <td>rename `non-absolut` to `relative`\\n\\n</td>\n",
       "      <td>1</td>\n",
       "      <td>0</td>\n",
       "      <td>0</td>\n",
       "      <td>1</td>\n",
       "      <td>0</td>\n",
       "      <td>0</td>\n",
       "      <td>0</td>\n",
       "      <td>...</td>\n",
       "      <td>0</td>\n",
       "      <td>0</td>\n",
       "      <td>0</td>\n",
       "      <td>0</td>\n",
       "      <td>0</td>\n",
       "      <td>0</td>\n",
       "      <td>0</td>\n",
       "      <td>0</td>\n",
       "      <td>0</td>\n",
       "      <td>0</td>\n",
       "    </tr>\n",
       "    <tr>\n",
       "      <th>e5ec49b123c4070355182f04397d8c8c347c9aff</th>\n",
       "      <td>2</td>\n",
       "      <td>diff --git a/hbase-it/src/test/java/org/apache...</td>\n",
       "      <td>HBASE-10818. Add integration test for bulkload...</td>\n",
       "      <td>2</td>\n",
       "      <td>5</td>\n",
       "      <td>0</td>\n",
       "      <td>3</td>\n",
       "      <td>0</td>\n",
       "      <td>0</td>\n",
       "      <td>0</td>\n",
       "      <td>...</td>\n",
       "      <td>0</td>\n",
       "      <td>0</td>\n",
       "      <td>0</td>\n",
       "      <td>0</td>\n",
       "      <td>0</td>\n",
       "      <td>0</td>\n",
       "      <td>0</td>\n",
       "      <td>0</td>\n",
       "      <td>0</td>\n",
       "      <td>0</td>\n",
       "    </tr>\n",
       "    <tr>\n",
       "      <th>4a68fd65b65639da5425bb930305564c88198d04</th>\n",
       "      <td>2</td>\n",
       "      <td>diff --git a/app/src/main/res/layout/fragment_...</td>\n",
       "      <td>Updated UI so magisk cannot be updated unless ...</td>\n",
       "      <td>0</td>\n",
       "      <td>0</td>\n",
       "      <td>0</td>\n",
       "      <td>0</td>\n",
       "      <td>0</td>\n",
       "      <td>0</td>\n",
       "      <td>0</td>\n",
       "      <td>...</td>\n",
       "      <td>2</td>\n",
       "      <td>1</td>\n",
       "      <td>0</td>\n",
       "      <td>0</td>\n",
       "      <td>0</td>\n",
       "      <td>0</td>\n",
       "      <td>0</td>\n",
       "      <td>0</td>\n",
       "      <td>0</td>\n",
       "      <td>0</td>\n",
       "    </tr>\n",
       "    <tr>\n",
       "      <th>5fb23ecceaccf0629308dd50210b65f67d51f024</th>\n",
       "      <td>2</td>\n",
       "      <td>diff --git a/packages/compiler-cli/src/ngtsc/t...</td>\n",
       "      <td>perf(compiler-cli): skip analysis in increment...</td>\n",
       "      <td>1</td>\n",
       "      <td>11</td>\n",
       "      <td>3</td>\n",
       "      <td>0</td>\n",
       "      <td>4</td>\n",
       "      <td>0</td>\n",
       "      <td>0</td>\n",
       "      <td>...</td>\n",
       "      <td>0</td>\n",
       "      <td>0</td>\n",
       "      <td>0</td>\n",
       "      <td>0</td>\n",
       "      <td>0</td>\n",
       "      <td>0</td>\n",
       "      <td>0</td>\n",
       "      <td>0</td>\n",
       "      <td>0</td>\n",
       "      <td>0</td>\n",
       "    </tr>\n",
       "  </tbody>\n",
       "</table>\n",
       "<p>150 rows × 32 columns</p>\n",
       "</div>"
      ],
      "text/plain": [
       "                                          label  \\\n",
       "commit_sha                                        \n",
       "ed09b4ea6a17566b546a9d3ae76876636710c6a0      0   \n",
       "e67010b5e2eaa5a5ddb756d7ddc2dd0194f09a0a      0   \n",
       "74066765bb8ca85864f75bde6091f96207f988cf      0   \n",
       "8d9e4345207013c55a8719995ec4ad4e9be466f2      0   \n",
       "145c46ff3630e55b6c50ff479f54661ef54124bd      0   \n",
       "...                                         ...   \n",
       "5c089da5d3d70aba3ff5bda443b259940adf0394      2   \n",
       "b32054d4c0da35d30e0cc7d0a6b23048845daca1      2   \n",
       "e5ec49b123c4070355182f04397d8c8c347c9aff      2   \n",
       "4a68fd65b65639da5425bb930305564c88198d04      2   \n",
       "5fb23ecceaccf0629308dd50210b65f67d51f024      2   \n",
       "\n",
       "                                                                                      diffs  \\\n",
       "commit_sha                                                                                    \n",
       "ed09b4ea6a17566b546a9d3ae76876636710c6a0  diff --git a/common/net/json/host.go b/common/...   \n",
       "e67010b5e2eaa5a5ddb756d7ddc2dd0194f09a0a  diff --git a/cli/file_fetcher.rs b/cli/file_fe...   \n",
       "74066765bb8ca85864f75bde6091f96207f988cf  diff --git a/src/main/java/org/apache/hadoop/h...   \n",
       "8d9e4345207013c55a8719995ec4ad4e9be466f2  diff --git a/truststore_nss.go b/truststore_ns...   \n",
       "145c46ff3630e55b6c50ff479f54661ef54124bd  diff --git a/lib/dependencies/DelegatedExports...   \n",
       "...                                                                                     ...   \n",
       "5c089da5d3d70aba3ff5bda443b259940adf0394  diff --git a/docs/recipes/ServerRendering.md b...   \n",
       "b32054d4c0da35d30e0cc7d0a6b23048845daca1  diff --git a/schemas/ajv.absolutePath.js b/sch...   \n",
       "e5ec49b123c4070355182f04397d8c8c347c9aff  diff --git a/hbase-it/src/test/java/org/apache...   \n",
       "4a68fd65b65639da5425bb930305564c88198d04  diff --git a/app/src/main/res/layout/fragment_...   \n",
       "5fb23ecceaccf0629308dd50210b65f67d51f024  diff --git a/packages/compiler-cli/src/ngtsc/t...   \n",
       "\n",
       "                                                                                       text  \\\n",
       "commit_sha                                                                                    \n",
       "ed09b4ea6a17566b546a9d3ae76876636710c6a0  support domain as host in VMess outbound confi...   \n",
       "e67010b5e2eaa5a5ddb756d7ddc2dd0194f09a0a  feat(cli/compile): Support data uri dynamic im...   \n",
       "74066765bb8ca85864f75bde6091f96207f988cf  HBASE-2889 Tool to look at HLogs -- parse and-...   \n",
       "8d9e4345207013c55a8719995ec4ad4e9be466f2  truststore_nss: support multiple NSS databases...   \n",
       "145c46ff3630e55b6c50ff479f54661ef54124bd  feat(DelegatedExportsDependency): make seriali...   \n",
       "...                                                                                     ...   \n",
       "5c089da5d3d70aba3ff5bda443b259940adf0394                        Update ServerRendering.md\\n   \n",
       "b32054d4c0da35d30e0cc7d0a6b23048845daca1             rename `non-absolut` to `relative`\\n\\n   \n",
       "e5ec49b123c4070355182f04397d8c8c347c9aff  HBASE-10818. Add integration test for bulkload...   \n",
       "4a68fd65b65639da5425bb930305564c88198d04  Updated UI so magisk cannot be updated unless ...   \n",
       "5fb23ecceaccf0629308dd50210b65f67d51f024  perf(compiler-cli): skip analysis in increment...   \n",
       "\n",
       "                                          CODE_CHANGE_FILE  \\\n",
       "commit_sha                                                   \n",
       "ed09b4ea6a17566b546a9d3ae76876636710c6a0                 3   \n",
       "e67010b5e2eaa5a5ddb756d7ddc2dd0194f09a0a                 2   \n",
       "74066765bb8ca85864f75bde6091f96207f988cf                 1   \n",
       "8d9e4345207013c55a8719995ec4ad4e9be466f2                 1   \n",
       "145c46ff3630e55b6c50ff479f54661ef54124bd                 1   \n",
       "...                                                    ...   \n",
       "5c089da5d3d70aba3ff5bda443b259940adf0394                 0   \n",
       "b32054d4c0da35d30e0cc7d0a6b23048845daca1                 1   \n",
       "e5ec49b123c4070355182f04397d8c8c347c9aff                 2   \n",
       "4a68fd65b65639da5425bb930305564c88198d04                 0   \n",
       "5fb23ecceaccf0629308dd50210b65f67d51f024                 1   \n",
       "\n",
       "                                          CODE_ADD_CODE_LINE  \\\n",
       "commit_sha                                                     \n",
       "ed09b4ea6a17566b546a9d3ae76876636710c6a0                  49   \n",
       "e67010b5e2eaa5a5ddb756d7ddc2dd0194f09a0a                  25   \n",
       "74066765bb8ca85864f75bde6091f96207f988cf                   0   \n",
       "8d9e4345207013c55a8719995ec4ad4e9be466f2                   9   \n",
       "145c46ff3630e55b6c50ff479f54661ef54124bd                  15   \n",
       "...                                                      ...   \n",
       "5c089da5d3d70aba3ff5bda443b259940adf0394                   0   \n",
       "b32054d4c0da35d30e0cc7d0a6b23048845daca1                   0   \n",
       "e5ec49b123c4070355182f04397d8c8c347c9aff                   5   \n",
       "4a68fd65b65639da5425bb930305564c88198d04                   0   \n",
       "5fb23ecceaccf0629308dd50210b65f67d51f024                  11   \n",
       "\n",
       "                                          CODE_DEL_CODE_LINE  \\\n",
       "commit_sha                                                     \n",
       "ed09b4ea6a17566b546a9d3ae76876636710c6a0                   2   \n",
       "e67010b5e2eaa5a5ddb756d7ddc2dd0194f09a0a                   1   \n",
       "74066765bb8ca85864f75bde6091f96207f988cf                   0   \n",
       "8d9e4345207013c55a8719995ec4ad4e9be466f2                   6   \n",
       "145c46ff3630e55b6c50ff479f54661ef54124bd                   0   \n",
       "...                                                      ...   \n",
       "5c089da5d3d70aba3ff5bda443b259940adf0394                   0   \n",
       "b32054d4c0da35d30e0cc7d0a6b23048845daca1                   0   \n",
       "e5ec49b123c4070355182f04397d8c8c347c9aff                   0   \n",
       "4a68fd65b65639da5425bb930305564c88198d04                   0   \n",
       "5fb23ecceaccf0629308dd50210b65f67d51f024                   3   \n",
       "\n",
       "                                          CODE_MOD_CODE_LINE  \\\n",
       "commit_sha                                                     \n",
       "ed09b4ea6a17566b546a9d3ae76876636710c6a0                   8   \n",
       "e67010b5e2eaa5a5ddb756d7ddc2dd0194f09a0a                   7   \n",
       "74066765bb8ca85864f75bde6091f96207f988cf                   1   \n",
       "8d9e4345207013c55a8719995ec4ad4e9be466f2                   6   \n",
       "145c46ff3630e55b6c50ff479f54661ef54124bd                   0   \n",
       "...                                                      ...   \n",
       "5c089da5d3d70aba3ff5bda443b259940adf0394                   0   \n",
       "b32054d4c0da35d30e0cc7d0a6b23048845daca1                   1   \n",
       "e5ec49b123c4070355182f04397d8c8c347c9aff                   3   \n",
       "4a68fd65b65639da5425bb930305564c88198d04                   0   \n",
       "5fb23ecceaccf0629308dd50210b65f67d51f024                   0   \n",
       "\n",
       "                                          CODE_ADD_COMMENT_LINE  \\\n",
       "commit_sha                                                        \n",
       "ed09b4ea6a17566b546a9d3ae76876636710c6a0                      0   \n",
       "e67010b5e2eaa5a5ddb756d7ddc2dd0194f09a0a                      0   \n",
       "74066765bb8ca85864f75bde6091f96207f988cf                      0   \n",
       "8d9e4345207013c55a8719995ec4ad4e9be466f2                      0   \n",
       "145c46ff3630e55b6c50ff479f54661ef54124bd                      0   \n",
       "...                                                         ...   \n",
       "5c089da5d3d70aba3ff5bda443b259940adf0394                      0   \n",
       "b32054d4c0da35d30e0cc7d0a6b23048845daca1                      0   \n",
       "e5ec49b123c4070355182f04397d8c8c347c9aff                      0   \n",
       "4a68fd65b65639da5425bb930305564c88198d04                      0   \n",
       "5fb23ecceaccf0629308dd50210b65f67d51f024                      4   \n",
       "\n",
       "                                          CODE_DEL_COMMENT_LINE  \\\n",
       "commit_sha                                                        \n",
       "ed09b4ea6a17566b546a9d3ae76876636710c6a0                      0   \n",
       "e67010b5e2eaa5a5ddb756d7ddc2dd0194f09a0a                      0   \n",
       "74066765bb8ca85864f75bde6091f96207f988cf                      0   \n",
       "8d9e4345207013c55a8719995ec4ad4e9be466f2                      0   \n",
       "145c46ff3630e55b6c50ff479f54661ef54124bd                      0   \n",
       "...                                                         ...   \n",
       "5c089da5d3d70aba3ff5bda443b259940adf0394                      0   \n",
       "b32054d4c0da35d30e0cc7d0a6b23048845daca1                      0   \n",
       "e5ec49b123c4070355182f04397d8c8c347c9aff                      0   \n",
       "4a68fd65b65639da5425bb930305564c88198d04                      0   \n",
       "5fb23ecceaccf0629308dd50210b65f67d51f024                      0   \n",
       "\n",
       "                                          CODE_MOD_COMMENT_LINE  ...  \\\n",
       "commit_sha                                                       ...   \n",
       "ed09b4ea6a17566b546a9d3ae76876636710c6a0                      0  ...   \n",
       "e67010b5e2eaa5a5ddb756d7ddc2dd0194f09a0a                      0  ...   \n",
       "74066765bb8ca85864f75bde6091f96207f988cf                      0  ...   \n",
       "8d9e4345207013c55a8719995ec4ad4e9be466f2                      0  ...   \n",
       "145c46ff3630e55b6c50ff479f54661ef54124bd                      0  ...   \n",
       "...                                                         ...  ...   \n",
       "5c089da5d3d70aba3ff5bda443b259940adf0394                      0  ...   \n",
       "b32054d4c0da35d30e0cc7d0a6b23048845daca1                      0  ...   \n",
       "e5ec49b123c4070355182f04397d8c8c347c9aff                      0  ...   \n",
       "4a68fd65b65639da5425bb930305564c88198d04                      0  ...   \n",
       "5fb23ecceaccf0629308dd50210b65f67d51f024                      0  ...   \n",
       "\n",
       "                                          BUILD_DEL_LINE  BUILD_MOD_LINE  \\\n",
       "commit_sha                                                                 \n",
       "ed09b4ea6a17566b546a9d3ae76876636710c6a0               0               0   \n",
       "e67010b5e2eaa5a5ddb756d7ddc2dd0194f09a0a               0               0   \n",
       "74066765bb8ca85864f75bde6091f96207f988cf               0               0   \n",
       "8d9e4345207013c55a8719995ec4ad4e9be466f2               0               0   \n",
       "145c46ff3630e55b6c50ff479f54661ef54124bd               0               0   \n",
       "...                                                  ...             ...   \n",
       "5c089da5d3d70aba3ff5bda443b259940adf0394               0               0   \n",
       "b32054d4c0da35d30e0cc7d0a6b23048845daca1               0               0   \n",
       "e5ec49b123c4070355182f04397d8c8c347c9aff               0               0   \n",
       "4a68fd65b65639da5425bb930305564c88198d04               2               1   \n",
       "5fb23ecceaccf0629308dd50210b65f67d51f024               0               0   \n",
       "\n",
       "                                          DOC_CHANGE_FILE  DOC_ADD_LINE  \\\n",
       "commit_sha                                                                \n",
       "ed09b4ea6a17566b546a9d3ae76876636710c6a0                0             0   \n",
       "e67010b5e2eaa5a5ddb756d7ddc2dd0194f09a0a                0             0   \n",
       "74066765bb8ca85864f75bde6091f96207f988cf                0             0   \n",
       "8d9e4345207013c55a8719995ec4ad4e9be466f2                0             0   \n",
       "145c46ff3630e55b6c50ff479f54661ef54124bd                0             0   \n",
       "...                                                   ...           ...   \n",
       "5c089da5d3d70aba3ff5bda443b259940adf0394                1             3   \n",
       "b32054d4c0da35d30e0cc7d0a6b23048845daca1                0             0   \n",
       "e5ec49b123c4070355182f04397d8c8c347c9aff                0             0   \n",
       "4a68fd65b65639da5425bb930305564c88198d04                0             0   \n",
       "5fb23ecceaccf0629308dd50210b65f67d51f024                0             0   \n",
       "\n",
       "                                          DOC_DEL_LINE  DOC_MOD_LINE  \\\n",
       "commit_sha                                                             \n",
       "ed09b4ea6a17566b546a9d3ae76876636710c6a0             0             0   \n",
       "e67010b5e2eaa5a5ddb756d7ddc2dd0194f09a0a             0             0   \n",
       "74066765bb8ca85864f75bde6091f96207f988cf             0             0   \n",
       "8d9e4345207013c55a8719995ec4ad4e9be466f2             0             0   \n",
       "145c46ff3630e55b6c50ff479f54661ef54124bd             0             0   \n",
       "...                                                ...           ...   \n",
       "5c089da5d3d70aba3ff5bda443b259940adf0394             0             0   \n",
       "b32054d4c0da35d30e0cc7d0a6b23048845daca1             0             0   \n",
       "e5ec49b123c4070355182f04397d8c8c347c9aff             0             0   \n",
       "4a68fd65b65639da5425bb930305564c88198d04             0             0   \n",
       "5fb23ecceaccf0629308dd50210b65f67d51f024             0             0   \n",
       "\n",
       "                                          OTHER_CHANGE_FILE  OTHER_ADD_LINE  \\\n",
       "commit_sha                                                                    \n",
       "ed09b4ea6a17566b546a9d3ae76876636710c6a0                  0               0   \n",
       "e67010b5e2eaa5a5ddb756d7ddc2dd0194f09a0a                  0               0   \n",
       "74066765bb8ca85864f75bde6091f96207f988cf                  0               0   \n",
       "8d9e4345207013c55a8719995ec4ad4e9be466f2                  0               0   \n",
       "145c46ff3630e55b6c50ff479f54661ef54124bd                  0               0   \n",
       "...                                                     ...             ...   \n",
       "5c089da5d3d70aba3ff5bda443b259940adf0394                  0               0   \n",
       "b32054d4c0da35d30e0cc7d0a6b23048845daca1                  0               0   \n",
       "e5ec49b123c4070355182f04397d8c8c347c9aff                  0               0   \n",
       "4a68fd65b65639da5425bb930305564c88198d04                  0               0   \n",
       "5fb23ecceaccf0629308dd50210b65f67d51f024                  0               0   \n",
       "\n",
       "                                          OTHER_DEL_LINE  OTHER_MOD_LINE  \n",
       "commit_sha                                                                \n",
       "ed09b4ea6a17566b546a9d3ae76876636710c6a0               0               0  \n",
       "e67010b5e2eaa5a5ddb756d7ddc2dd0194f09a0a               0               0  \n",
       "74066765bb8ca85864f75bde6091f96207f988cf               0               0  \n",
       "8d9e4345207013c55a8719995ec4ad4e9be466f2               0               0  \n",
       "145c46ff3630e55b6c50ff479f54661ef54124bd               0               0  \n",
       "...                                                  ...             ...  \n",
       "5c089da5d3d70aba3ff5bda443b259940adf0394               0               0  \n",
       "b32054d4c0da35d30e0cc7d0a6b23048845daca1               0               0  \n",
       "e5ec49b123c4070355182f04397d8c8c347c9aff               0               0  \n",
       "4a68fd65b65639da5425bb930305564c88198d04               0               0  \n",
       "5fb23ecceaccf0629308dd50210b65f67d51f024               0               0  \n",
       "\n",
       "[150 rows x 32 columns]"
      ]
     },
     "execution_count": 15,
     "metadata": {},
     "output_type": "execute_result"
    }
   ],
   "source": [
    "train"
   ]
  },
  {
   "cell_type": "code",
   "execution_count": 16,
   "id": "d9ede869-1587-4e42-8879-e819e5961dca",
   "metadata": {
    "execution": {
     "iopub.execute_input": "2025-08-26T02:00:13.465081Z",
     "iopub.status.busy": "2025-08-26T02:00:13.464902Z",
     "iopub.status.idle": "2025-08-26T02:00:13.468104Z",
     "shell.execute_reply": "2025-08-26T02:00:13.467456Z",
     "shell.execute_reply.started": "2025-08-26T02:00:13.465061Z"
    }
   },
   "outputs": [],
   "source": [
    "model_id = \"../../sentence-transformers/paraphrase-mpnet-base-v2\""
   ]
  },
  {
   "cell_type": "code",
   "execution_count": 17,
   "id": "a6501389-0c86-442d-85cf-f04ad146703f",
   "metadata": {
    "execution": {
     "iopub.execute_input": "2025-08-26T02:00:13.469012Z",
     "iopub.status.busy": "2025-08-26T02:00:13.468842Z",
     "iopub.status.idle": "2025-08-26T02:00:13.473856Z",
     "shell.execute_reply": "2025-08-26T02:00:13.473181Z",
     "shell.execute_reply.started": "2025-08-26T02:00:13.468993Z"
    }
   },
   "outputs": [],
   "source": [
    "def hp_space(trial: Trial) -> Dict[str, Union[float, int, str]]:\n",
    "    return {\n",
    "        \"learning_rate\": trial.suggest_float(\"learning_rate\", 1e-6, 1e-3, log=True),\n",
    "        # \"num_epochs\": trial.suggest_int(\"num_epochs\", 1, 3),\n",
    "        # \"batch_size\": trial.suggest_categorical(\"batch_size\", [8, 12, 16]),\n",
    "        # \"seed\": trial.suggest_int(\"seed\", 1, 40),\n",
    "        # \"num_iterations\": trial.suggest_int(\"num_iterations\", 10, 20),\n",
    "        # \"solver\": trial.suggest_categorical(\"solver\", [\"newton-cg\", \"lbfgs\", \"liblinear\"]),\n",
    "    }\n",
    "def model_init(params: Dict[str, Any]) -> CommitFitModel:\n",
    "    params = params or {}\n",
    "    # learning_rate = params.get(\"learning_rate\")\n",
    "    # num_iterations = params.get(\"num_iterations\", 20)\n",
    "    # solver = params.get(\"solver\", \"liblinear\")\n",
    "    # params = {\n",
    "    #     \"head_params\": {\n",
    "    #         # \"max_iter\": num_iterations,\n",
    "    #         # \"solver\": solver,\n",
    "    #     }\n",
    "    # }\n",
    "    return CommitFitModel.from_pretrained(model_id, **params)\n",
    "def my_compute_objective(metrics):\n",
    "    print('+++++++++++',metrics)\n",
    "    return  metrics['accuracy']"
   ]
  },
  {
   "cell_type": "code",
   "execution_count": 18,
   "id": "2244f079-c2b8-4e01-aca4-f68e7ce8accb",
   "metadata": {
    "execution": {
     "iopub.execute_input": "2025-08-26T02:00:13.474770Z",
     "iopub.status.busy": "2025-08-26T02:00:13.474598Z",
     "iopub.status.idle": "2025-08-26T02:06:07.295595Z",
     "shell.execute_reply": "2025-08-26T02:06:07.294753Z",
     "shell.execute_reply.started": "2025-08-26T02:00:13.474751Z"
    }
   },
   "outputs": [
    {
     "name": "stderr",
     "output_type": "stream",
     "text": [
      "model_head.pkl not found in /root/autodl-tmp/CommitFit/sentence-transformers/paraphrase-mpnet-base-v2, initialising classification head with random weights. You should TRAIN this model on a downstream task to use it for predictions and inference.\n",
      "[I 2025-08-26 10:00:14,511] A new study created in memory with name: no-name-892b075c-3c15-40cc-84b1-5d87b8aa8eec\n",
      "Trial: {'learning_rate': 0.00021618835184520838}\n",
      "model_head.pkl not found in /root/autodl-tmp/CommitFit/sentence-transformers/paraphrase-mpnet-base-v2, initialising classification head with random weights. You should TRAIN this model on a downstream task to use it for predictions and inference.\n"
     ]
    },
    {
     "data": {
      "application/vnd.jupyter.widget-view+json": {
       "model_id": "e3609fe527264822aee7d70bca98cf5f",
       "version_major": 2,
       "version_minor": 0
      },
      "text/plain": [
       "Generating Training Pairs:   0%|          | 0/20 [00:00<?, ?it/s]"
      ]
     },
     "metadata": {},
     "output_type": "display_data"
    },
    {
     "name": "stderr",
     "output_type": "stream",
     "text": [
      "***** Running training *****\n",
      "  Num examples = 6960\n",
      "  Num epochs = 1\n",
      "  Total optimization steps = 435\n",
      "  Total train batch size = 16\n"
     ]
    },
    {
     "data": {
      "application/vnd.jupyter.widget-view+json": {
       "model_id": "43bd549ce4a0453b9e6b4f50f004b043",
       "version_major": 2,
       "version_minor": 0
      },
      "text/plain": [
       "Epoch:   0%|          | 0/1 [00:00<?, ?it/s]"
      ]
     },
     "metadata": {},
     "output_type": "display_data"
    },
    {
     "data": {
      "application/vnd.jupyter.widget-view+json": {
       "model_id": "7069aadf6c3145fda3886be0a317295c",
       "version_major": 2,
       "version_minor": 0
      },
      "text/plain": [
       "Iteration:   0%|          | 0/435 [00:00<?, ?it/s]"
      ]
     },
     "metadata": {},
     "output_type": "display_data"
    },
    {
     "name": "stderr",
     "output_type": "stream",
     "text": [
      "***** Running evaluation *****\n",
      "/root/miniconda3/lib/python3.10/site-packages/sklearn/metrics/_classification.py:1531: UndefinedMetricWarning: Precision is ill-defined and being set to 0.0 in labels with no predicted samples. Use `zero_division` parameter to control this behavior.\n",
      "  _warn_prf(average, modifier, f\"{metric.capitalize()} is\", len(result))\n",
      "[I 2025-08-26 10:01:26,279] Trial 0 finished with value: 0.1345 and parameters: {'learning_rate': 0.00021618835184520838}. Best is trial 0 with value: 0.1345.\n",
      "Trial: {'learning_rate': 0.000447543651468632}\n"
     ]
    },
    {
     "name": "stdout",
     "output_type": "stream",
     "text": [
      "+++++++++++ {'precision': 0.0181, 'recall': 0.1345, 'f1': 0.0319, 'accuracy': 0.1345}\n"
     ]
    },
    {
     "name": "stderr",
     "output_type": "stream",
     "text": [
      "model_head.pkl not found in /root/autodl-tmp/CommitFit/sentence-transformers/paraphrase-mpnet-base-v2, initialising classification head with random weights. You should TRAIN this model on a downstream task to use it for predictions and inference.\n"
     ]
    },
    {
     "data": {
      "application/vnd.jupyter.widget-view+json": {
       "model_id": "79a8b223a3b140ffb490cf9c32eef8a2",
       "version_major": 2,
       "version_minor": 0
      },
      "text/plain": [
       "Generating Training Pairs:   0%|          | 0/20 [00:00<?, ?it/s]"
      ]
     },
     "metadata": {},
     "output_type": "display_data"
    },
    {
     "name": "stderr",
     "output_type": "stream",
     "text": [
      "***** Running training *****\n",
      "  Num examples = 6960\n",
      "  Num epochs = 1\n",
      "  Total optimization steps = 435\n",
      "  Total train batch size = 16\n"
     ]
    },
    {
     "data": {
      "application/vnd.jupyter.widget-view+json": {
       "model_id": "5605616922fc4ca498b78be34d14424f",
       "version_major": 2,
       "version_minor": 0
      },
      "text/plain": [
       "Epoch:   0%|          | 0/1 [00:00<?, ?it/s]"
      ]
     },
     "metadata": {},
     "output_type": "display_data"
    },
    {
     "data": {
      "application/vnd.jupyter.widget-view+json": {
       "model_id": "dd9031f24b9446a6b6f6126e9b037c24",
       "version_major": 2,
       "version_minor": 0
      },
      "text/plain": [
       "Iteration:   0%|          | 0/435 [00:00<?, ?it/s]"
      ]
     },
     "metadata": {},
     "output_type": "display_data"
    },
    {
     "name": "stderr",
     "output_type": "stream",
     "text": [
      "***** Running evaluation *****\n",
      "/root/miniconda3/lib/python3.10/site-packages/sklearn/metrics/_classification.py:1531: UndefinedMetricWarning: Precision is ill-defined and being set to 0.0 in labels with no predicted samples. Use `zero_division` parameter to control this behavior.\n",
      "  _warn_prf(average, modifier, f\"{metric.capitalize()} is\", len(result))\n",
      "[I 2025-08-26 10:02:36,870] Trial 1 finished with value: 0.1345 and parameters: {'learning_rate': 0.000447543651468632}. Best is trial 0 with value: 0.1345.\n",
      "Trial: {'learning_rate': 0.0004956591717074358}\n"
     ]
    },
    {
     "name": "stdout",
     "output_type": "stream",
     "text": [
      "+++++++++++ {'precision': 0.0181, 'recall': 0.1345, 'f1': 0.0319, 'accuracy': 0.1345}\n"
     ]
    },
    {
     "name": "stderr",
     "output_type": "stream",
     "text": [
      "model_head.pkl not found in /root/autodl-tmp/CommitFit/sentence-transformers/paraphrase-mpnet-base-v2, initialising classification head with random weights. You should TRAIN this model on a downstream task to use it for predictions and inference.\n"
     ]
    },
    {
     "data": {
      "application/vnd.jupyter.widget-view+json": {
       "model_id": "fba6a9fdc1af4ef2b0fb0909d7a544d6",
       "version_major": 2,
       "version_minor": 0
      },
      "text/plain": [
       "Generating Training Pairs:   0%|          | 0/20 [00:00<?, ?it/s]"
      ]
     },
     "metadata": {},
     "output_type": "display_data"
    },
    {
     "name": "stderr",
     "output_type": "stream",
     "text": [
      "***** Running training *****\n",
      "  Num examples = 6960\n",
      "  Num epochs = 1\n",
      "  Total optimization steps = 435\n",
      "  Total train batch size = 16\n"
     ]
    },
    {
     "data": {
      "application/vnd.jupyter.widget-view+json": {
       "model_id": "a76c40b311544dc8a048062687333ed6",
       "version_major": 2,
       "version_minor": 0
      },
      "text/plain": [
       "Epoch:   0%|          | 0/1 [00:00<?, ?it/s]"
      ]
     },
     "metadata": {},
     "output_type": "display_data"
    },
    {
     "data": {
      "application/vnd.jupyter.widget-view+json": {
       "model_id": "266012919edf410bb7fa16ae12887ded",
       "version_major": 2,
       "version_minor": 0
      },
      "text/plain": [
       "Iteration:   0%|          | 0/435 [00:00<?, ?it/s]"
      ]
     },
     "metadata": {},
     "output_type": "display_data"
    },
    {
     "name": "stderr",
     "output_type": "stream",
     "text": [
      "***** Running evaluation *****\n",
      "/root/miniconda3/lib/python3.10/site-packages/sklearn/metrics/_classification.py:1531: UndefinedMetricWarning: Precision is ill-defined and being set to 0.0 in labels with no predicted samples. Use `zero_division` parameter to control this behavior.\n",
      "  _warn_prf(average, modifier, f\"{metric.capitalize()} is\", len(result))\n",
      "[I 2025-08-26 10:03:46,864] Trial 2 finished with value: 0.1345 and parameters: {'learning_rate': 0.0004956591717074358}. Best is trial 0 with value: 0.1345.\n",
      "Trial: {'learning_rate': 3.6507208987620566e-05}\n"
     ]
    },
    {
     "name": "stdout",
     "output_type": "stream",
     "text": [
      "+++++++++++ {'precision': 0.0181, 'recall': 0.1345, 'f1': 0.0319, 'accuracy': 0.1345}\n"
     ]
    },
    {
     "name": "stderr",
     "output_type": "stream",
     "text": [
      "model_head.pkl not found in /root/autodl-tmp/CommitFit/sentence-transformers/paraphrase-mpnet-base-v2, initialising classification head with random weights. You should TRAIN this model on a downstream task to use it for predictions and inference.\n"
     ]
    },
    {
     "data": {
      "application/vnd.jupyter.widget-view+json": {
       "model_id": "842af72a63aa45db98444f642e171356",
       "version_major": 2,
       "version_minor": 0
      },
      "text/plain": [
       "Generating Training Pairs:   0%|          | 0/20 [00:00<?, ?it/s]"
      ]
     },
     "metadata": {},
     "output_type": "display_data"
    },
    {
     "name": "stderr",
     "output_type": "stream",
     "text": [
      "***** Running training *****\n",
      "  Num examples = 6960\n",
      "  Num epochs = 1\n",
      "  Total optimization steps = 435\n",
      "  Total train batch size = 16\n"
     ]
    },
    {
     "data": {
      "application/vnd.jupyter.widget-view+json": {
       "model_id": "ba6272f88ecd464ba7d2547ce03325cc",
       "version_major": 2,
       "version_minor": 0
      },
      "text/plain": [
       "Epoch:   0%|          | 0/1 [00:00<?, ?it/s]"
      ]
     },
     "metadata": {},
     "output_type": "display_data"
    },
    {
     "data": {
      "application/vnd.jupyter.widget-view+json": {
       "model_id": "5cb5ea81e50f4f2292dd225b7c7d86cc",
       "version_major": 2,
       "version_minor": 0
      },
      "text/plain": [
       "Iteration:   0%|          | 0/435 [00:00<?, ?it/s]"
      ]
     },
     "metadata": {},
     "output_type": "display_data"
    },
    {
     "name": "stderr",
     "output_type": "stream",
     "text": [
      "***** Running evaluation *****\n",
      "[I 2025-08-26 10:04:57,173] Trial 3 finished with value: 0.6807 and parameters: {'learning_rate': 3.6507208987620566e-05}. Best is trial 3 with value: 0.6807.\n",
      "Trial: {'learning_rate': 2.8615909389767046e-06}\n"
     ]
    },
    {
     "name": "stdout",
     "output_type": "stream",
     "text": [
      "+++++++++++ {'precision': 0.7457, 'recall': 0.6807, 'f1': 0.6922, 'accuracy': 0.6807}\n"
     ]
    },
    {
     "name": "stderr",
     "output_type": "stream",
     "text": [
      "model_head.pkl not found in /root/autodl-tmp/CommitFit/sentence-transformers/paraphrase-mpnet-base-v2, initialising classification head with random weights. You should TRAIN this model on a downstream task to use it for predictions and inference.\n"
     ]
    },
    {
     "data": {
      "application/vnd.jupyter.widget-view+json": {
       "model_id": "49e6cd1bc6a34e65aa153a740ed73255",
       "version_major": 2,
       "version_minor": 0
      },
      "text/plain": [
       "Generating Training Pairs:   0%|          | 0/20 [00:00<?, ?it/s]"
      ]
     },
     "metadata": {},
     "output_type": "display_data"
    },
    {
     "name": "stderr",
     "output_type": "stream",
     "text": [
      "***** Running training *****\n",
      "  Num examples = 6960\n",
      "  Num epochs = 1\n",
      "  Total optimization steps = 435\n",
      "  Total train batch size = 16\n"
     ]
    },
    {
     "data": {
      "application/vnd.jupyter.widget-view+json": {
       "model_id": "5024eda5958a4943b9e1ab35158e6e5b",
       "version_major": 2,
       "version_minor": 0
      },
      "text/plain": [
       "Epoch:   0%|          | 0/1 [00:00<?, ?it/s]"
      ]
     },
     "metadata": {},
     "output_type": "display_data"
    },
    {
     "data": {
      "application/vnd.jupyter.widget-view+json": {
       "model_id": "944b01a06e164c4fb1dfedca5209a53b",
       "version_major": 2,
       "version_minor": 0
      },
      "text/plain": [
       "Iteration:   0%|          | 0/435 [00:00<?, ?it/s]"
      ]
     },
     "metadata": {},
     "output_type": "display_data"
    },
    {
     "name": "stderr",
     "output_type": "stream",
     "text": [
      "***** Running evaluation *****\n",
      "[I 2025-08-26 10:06:07,291] Trial 4 finished with value: 0.6681 and parameters: {'learning_rate': 2.8615909389767046e-06}. Best is trial 3 with value: 0.6807.\n"
     ]
    },
    {
     "name": "stdout",
     "output_type": "stream",
     "text": [
      "+++++++++++ {'precision': 0.7487, 'recall': 0.6681, 'f1': 0.6797, 'accuracy': 0.6681}\n"
     ]
    }
   ],
   "source": [
    "trainer = CommitFitTrainer(\n",
    "    train_dataset=train_dataset,\n",
    "    train_code_change = train_code_change,\n",
    "    test_code_change = test_code_change,\n",
    "    eval_dataset=test_dataset,\n",
    "    model_init=model_init,\n",
    "    metric = compute_metrics,\n",
    "    num_iterations=20,\n",
    "    num_epochs=1\n",
    ")\n",
    "best_run = trainer.hyperparameter_search(direction=\"maximize\", hp_space=hp_space, compute_objective=my_compute_objective, n_trials=5)"
   ]
  },
  {
   "cell_type": "code",
   "execution_count": 19,
   "id": "91deb34e-2ef0-4f00-b6e7-7ffd18605c52",
   "metadata": {
    "execution": {
     "iopub.execute_input": "2025-08-26T02:06:07.297071Z",
     "iopub.status.busy": "2025-08-26T02:06:07.296616Z",
     "iopub.status.idle": "2025-08-26T02:06:07.302248Z",
     "shell.execute_reply": "2025-08-26T02:06:07.301489Z",
     "shell.execute_reply.started": "2025-08-26T02:06:07.297043Z"
    }
   },
   "outputs": [
    {
     "data": {
      "text/plain": [
       "BestRun(run_id='3', objective=0.6807, hyperparameters={'learning_rate': 3.6507208987620566e-05}, backend=<optuna.study.study.Study object at 0x7ff9f0cee770>)"
      ]
     },
     "execution_count": 19,
     "metadata": {},
     "output_type": "execute_result"
    }
   ],
   "source": [
    "best_run"
   ]
  },
  {
   "cell_type": "code",
   "execution_count": 20,
   "id": "40cfde46-c7d5-4446-8b53-7ad4dc8edb66",
   "metadata": {
    "execution": {
     "iopub.execute_input": "2025-08-26T02:06:07.303663Z",
     "iopub.status.busy": "2025-08-26T02:06:07.303211Z",
     "iopub.status.idle": "2025-08-26T02:06:07.308301Z",
     "shell.execute_reply": "2025-08-26T02:06:07.307535Z",
     "shell.execute_reply.started": "2025-08-26T02:06:07.303637Z"
    }
   },
   "outputs": [
    {
     "data": {
      "text/plain": [
       "{'learning_rate': 3.6507208987620566e-05}"
      ]
     },
     "execution_count": 20,
     "metadata": {},
     "output_type": "execute_result"
    }
   ],
   "source": [
    "best_run.hyperparameters"
   ]
  },
  {
   "cell_type": "code",
   "execution_count": 21,
   "id": "ae735a8b-c672-4dce-822c-61330c34481b",
   "metadata": {
    "execution": {
     "iopub.execute_input": "2025-08-26T02:06:07.309744Z",
     "iopub.status.busy": "2025-08-26T02:06:07.309295Z",
     "iopub.status.idle": "2025-08-26T02:07:12.881845Z",
     "shell.execute_reply": "2025-08-26T02:07:12.880857Z",
     "shell.execute_reply.started": "2025-08-26T02:06:07.309715Z"
    }
   },
   "outputs": [
    {
     "name": "stderr",
     "output_type": "stream",
     "text": [
      "model_head.pkl not found in /root/autodl-tmp/CommitFit/sentence-transformers/paraphrase-mpnet-base-v2, initialising classification head with random weights. You should TRAIN this model on a downstream task to use it for predictions and inference.\n"
     ]
    },
    {
     "data": {
      "application/vnd.jupyter.widget-view+json": {
       "model_id": "b142beaaf7c945b5ae6d6b063d7089cf",
       "version_major": 2,
       "version_minor": 0
      },
      "text/plain": [
       "Generating Training Pairs:   0%|          | 0/20 [00:00<?, ?it/s]"
      ]
     },
     "metadata": {},
     "output_type": "display_data"
    },
    {
     "name": "stderr",
     "output_type": "stream",
     "text": [
      "***** Running training *****\n",
      "  Num examples = 6960\n",
      "  Num epochs = 1\n",
      "  Total optimization steps = 435\n",
      "  Total train batch size = 16\n"
     ]
    },
    {
     "data": {
      "application/vnd.jupyter.widget-view+json": {
       "model_id": "2b0b3e207cb34e27a95f09e3a3e97d5f",
       "version_major": 2,
       "version_minor": 0
      },
      "text/plain": [
       "Epoch:   0%|          | 0/1 [00:00<?, ?it/s]"
      ]
     },
     "metadata": {},
     "output_type": "display_data"
    },
    {
     "data": {
      "application/vnd.jupyter.widget-view+json": {
       "model_id": "95fbe2708d6942bca7762c4aa7f30efa",
       "version_major": 2,
       "version_minor": 0
      },
      "text/plain": [
       "Iteration:   0%|          | 0/435 [00:00<?, ?it/s]"
      ]
     },
     "metadata": {},
     "output_type": "display_data"
    }
   ],
   "source": [
    "trainer.apply_hyperparameters(best_run.hyperparameters, final_model=True)\n",
    "trainer.train()"
   ]
  },
  {
   "cell_type": "code",
   "execution_count": 22,
   "id": "166dcf9b-a0bd-4b60-854c-c6535c22a111",
   "metadata": {
    "execution": {
     "iopub.execute_input": "2025-08-26T02:07:12.883010Z",
     "iopub.status.busy": "2025-08-26T02:07:12.882817Z",
     "iopub.status.idle": "2025-08-26T02:07:17.267527Z",
     "shell.execute_reply": "2025-08-26T02:07:17.266789Z",
     "shell.execute_reply.started": "2025-08-26T02:07:12.882988Z"
    }
   },
   "outputs": [
    {
     "name": "stderr",
     "output_type": "stream",
     "text": [
      "***** Running evaluation *****\n"
     ]
    },
    {
     "data": {
      "text/plain": [
       "{'precision': 0.7831, 'recall': 0.7017, 'f1': 0.7119, 'accuracy': 0.7017}"
      ]
     },
     "execution_count": 22,
     "metadata": {},
     "output_type": "execute_result"
    }
   ],
   "source": [
    "fewshot_metrics = trainer.evaluate()\n",
    "fewshot_metrics"
   ]
  },
  {
   "cell_type": "code",
   "execution_count": 23,
   "id": "af21aba7-66cd-4762-b5d4-6d27650bba7e",
   "metadata": {
    "execution": {
     "iopub.execute_input": "2025-08-26T02:07:17.268648Z",
     "iopub.status.busy": "2025-08-26T02:07:17.268458Z",
     "iopub.status.idle": "2025-08-26T02:07:18.258759Z",
     "shell.execute_reply": "2025-08-26T02:07:18.257641Z",
     "shell.execute_reply.started": "2025-08-26T02:07:17.268627Z"
    }
   },
   "outputs": [
    {
     "name": "stdout",
     "output_type": "stream",
     "text": [
      "强化学习模型训练完毕\n"
     ]
    }
   ],
   "source": [
    "#发送多种类型的邮件\n",
    "from email.mime.multipart import MIMEMultipart\n",
    "import smtplib\n",
    "\n",
    "from email.mime.text import MIMEText\n",
    "msg_from = '915803745@qq.com'  # 发送方邮箱\n",
    "passwd = 'vcuosuurrgkfbdai'   #就是上面的授权码\n",
    " \n",
    "# to= ['g.zhang@gotion.com', 'j.tong@gotion.com'] #接受方邮箱\n",
    "to= ['j.tong@gotion.com'] #接受方邮箱\n",
    "#设置邮件内容\n",
    "#MIMEMultipart类可以放任何内容\n",
    "msg = MIMEMultipart()\n",
    "conntent=f\"{fewshot_metrics}\"\n",
    "#把内容加进去\n",
    "msg.attach(MIMEText(conntent,'plain','utf-8'))\n",
    " \n",
    "#设置邮件主题\n",
    "msg['Subject']=\"强化学习模型训练完毕\"\n",
    " \n",
    "#发送方信息\n",
    "msg['From']=msg_from\n",
    " \n",
    "#开始发送\n",
    " \n",
    "#通过SSL方式发送，服务器地址和端口\n",
    "s = smtplib.SMTP_SSL(\"smtp.qq.com\", 465)\n",
    "# 登录邮箱\n",
    "s.login(msg_from, passwd)\n",
    "#开始发送\n",
    "s.sendmail(msg_from,to,msg.as_string())\n",
    "print(\"强化学习模型训练完毕\")"
   ]
  },
  {
   "cell_type": "code",
   "execution_count": null,
   "id": "025b5144-4d11-4fae-b716-5cb039470225",
   "metadata": {},
   "outputs": [],
   "source": []
  }
 ],
 "metadata": {
  "kernelspec": {
   "display_name": "Python 3 (ipykernel)",
   "language": "python",
   "name": "python3"
  },
  "language_info": {
   "codemirror_mode": {
    "name": "ipython",
    "version": 3
   },
   "file_extension": ".py",
   "mimetype": "text/x-python",
   "name": "python",
   "nbconvert_exporter": "python",
   "pygments_lexer": "ipython3",
   "version": "3.10.8"
  }
 },
 "nbformat": 4,
 "nbformat_minor": 5
}
