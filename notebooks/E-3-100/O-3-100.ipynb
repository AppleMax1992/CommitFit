version https://git-lfs.github.com/spec/v1
oid sha256:68ef7ce3cab917c64865ed5ef8daa125661d9620bf78c3725dc769a89c27aaea
size 142392
