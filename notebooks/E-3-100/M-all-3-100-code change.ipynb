{
 "cells": [
  {
   "cell_type": "code",
   "execution_count": 1,
   "id": "77d93e6a-106b-4abd-87e7-1243d4c51126",
   "metadata": {
    "execution": {
     "iopub.execute_input": "2024-05-26T10:04:39.366691Z",
     "iopub.status.busy": "2024-05-26T10:04:39.366340Z",
     "iopub.status.idle": "2024-05-26T10:04:43.672079Z",
     "shell.execute_reply": "2024-05-26T10:04:43.671097Z",
     "shell.execute_reply.started": "2024-05-26T10:04:39.366658Z"
    }
   },
   "outputs": [
    {
     "name": "stdout",
     "output_type": "stream",
     "text": [
      "\n",
      "CommitFit\n"
     ]
    }
   ],
   "source": [
    "# !pip install transformers accelerate\n",
    "from transformers import AutoTokenizer, AutoModel, EarlyStoppingCallback, AutoModelForSequenceClassification, AutoConfig,Trainer, TrainingArguments,DataCollatorWithPadding\n",
    "import torch\n",
    "import numpy as np\n",
    "import pandas as pd\n",
    "# !pip install datasets\n",
    "from datasets import load_metric\n",
    "# %pip install evaluate\n",
    "from evaluate import evaluator\n",
    "from sklearn.model_selection import train_test_split\n",
    "# from ipywidgets import FloatProgress\n",
    "import csv\n",
    "from optuna import Trial\n",
    "from typing import Dict, Union, Any\n",
    "import os\n",
    "import sys\n",
    "# notebook_login()\n",
    "\n",
    "csv.field_size_limit(500 * 1024 * 1024)\n",
    "CUDA_LAUNCH_BLOCKING=1\n",
    "# get pwd\n",
    "notebook_path = os.path.abspath('')\n",
    "\n",
    "# Find the part of the path that contains 'commitFit'\n",
    "commit_fit_path = None\n",
    "for part in notebook_path.split(os.sep):\n",
    "    print(part)\n",
    "    if 'CommitFit' in part:\n",
    "        commit_fit_path = notebook_path.split(part)[0] + part\n",
    "        break\n",
    "\n",
    "if commit_fit_path is None:\n",
    "    raise ValueError(\"Path containing 'commitFit' not found in notebook path.\")\n",
    "\n",
    "# Add commitFit directory to Python path, so we can import moudule from commitfit folder directly\n",
    "if commit_fit_path not in sys.path:\n",
    "    sys.path.append(commit_fit_path)\n",
    "\n",
    "from commitfit import CommitFitModel, CommitFitTrainer "
   ]
  },
  {
   "cell_type": "code",
   "execution_count": 2,
   "id": "9ef5359f-9526-4d19-a2da-7988dc1ea04f",
   "metadata": {
    "execution": {
     "iopub.execute_input": "2024-05-26T10:04:43.673625Z",
     "iopub.status.busy": "2024-05-26T10:04:43.673171Z",
     "iopub.status.idle": "2024-05-26T10:04:43.718260Z",
     "shell.execute_reply": "2024-05-26T10:04:43.717213Z",
     "shell.execute_reply.started": "2024-05-26T10:04:43.673594Z"
    }
   },
   "outputs": [
    {
     "name": "stdout",
     "output_type": "stream",
     "text": [
      "1758\n"
     ]
    }
   ],
   "source": [
    "# df = pd.read_csv('D:\\IET software-CC-CL\\Commit Classification\\experiment\\Commit_dataset.csv', encoding=\"cp1252\")\n",
    "\n",
    "# label2id = {'a':'Adaptive','p':'Perfective','c':'Corrective'}\n",
    "# df = df.replace({\"3_labels\": label2id})\n",
    "# df = pd.read_csv(r'dataset.csv',engine=\"python\")\n",
    "# df['text'] = \"['DIFF]\" + df['diff']\n",
    "# # df = df.replace({\"2_labels\": label2id})\n",
    "# print(df)\n",
    "\n",
    "train = pd.read_csv('train.csv',index_col=0)\n",
    "train = train.rename(columns={'3_labels':'label','comment':'text'})\n",
    "train.fillna(0, inplace=True)\n",
    "test = pd.read_csv('test.csv',index_col=0)\n",
    "test = test.rename(columns={'3_labels':'label','comment':'text'})\n",
    "test.fillna(0, inplace=True)\n",
    "print(len(test))\n",
    "\n"
   ]
  },
  {
   "cell_type": "code",
   "execution_count": 3,
   "id": "26803da1-da52-48a7-8040-70914c05f2ea",
   "metadata": {
    "execution": {
     "iopub.execute_input": "2024-05-26T10:04:43.719594Z",
     "iopub.status.busy": "2024-05-26T10:04:43.719299Z",
     "iopub.status.idle": "2024-05-26T10:04:43.725897Z",
     "shell.execute_reply": "2024-05-26T10:04:43.724946Z",
     "shell.execute_reply.started": "2024-05-26T10:04:43.719564Z"
    }
   },
   "outputs": [],
   "source": [
    "train_change_feautre = train.iloc[:, 4:]\n",
    "test_change_feautre = test.iloc[:, 4:]\n",
    "\n",
    "train_code_change = train_change_feautre.values\n",
    "test_code_change = test_change_feautre.values"
   ]
  },
  {
   "cell_type": "code",
   "execution_count": 4,
   "id": "ecb125ae-f537-4934-bbe2-cbf1e78c96bb",
   "metadata": {
    "execution": {
     "iopub.execute_input": "2024-05-26T10:04:43.728714Z",
     "iopub.status.busy": "2024-05-26T10:04:43.728415Z",
     "iopub.status.idle": "2024-05-26T10:04:43.733135Z",
     "shell.execute_reply": "2024-05-26T10:04:43.732099Z",
     "shell.execute_reply.started": "2024-05-26T10:04:43.728684Z"
    }
   },
   "outputs": [],
   "source": [
    "# !pip install setfit\n",
    "from commitfit import get_templated_dataset,sample_dataset\n",
    "from datasets import Dataset, load_metric"
   ]
  },
  {
   "cell_type": "code",
   "execution_count": 5,
   "id": "2e214dbb-075e-4fbf-adc9-f3533801587e",
   "metadata": {
    "execution": {
     "iopub.execute_input": "2024-05-26T10:04:43.734412Z",
     "iopub.status.busy": "2024-05-26T10:04:43.734121Z",
     "iopub.status.idle": "2024-05-26T10:04:44.093042Z",
     "shell.execute_reply": "2024-05-26T10:04:44.092061Z",
     "shell.execute_reply.started": "2024-05-26T10:04:43.734382Z"
    }
   },
   "outputs": [],
   "source": [
    "Dataset_train = Dataset.from_pandas(train)\n",
    "test_dataset = Dataset.from_pandas(test)"
   ]
  },
  {
   "cell_type": "code",
   "execution_count": 6,
   "id": "1a8ec7ec-1112-4140-8ccd-516ba9a1b1a8",
   "metadata": {
    "execution": {
     "iopub.execute_input": "2024-05-26T10:04:44.094452Z",
     "iopub.status.busy": "2024-05-26T10:04:44.094150Z",
     "iopub.status.idle": "2024-05-26T10:04:44.540683Z",
     "shell.execute_reply": "2024-05-26T10:04:44.539813Z",
     "shell.execute_reply.started": "2024-05-26T10:04:44.094420Z"
    }
   },
   "outputs": [],
   "source": [
    "train_dataset = get_templated_dataset(Dataset_train, candidate_labels=['Corrective','Adaptive','Perfective'], sample_size=8)"
   ]
  },
  {
   "cell_type": "code",
   "execution_count": 7,
   "id": "c5ea76cd-69e5-4aa8-bf49-c9e746b63bbb",
   "metadata": {
    "execution": {
     "iopub.execute_input": "2024-05-26T10:04:44.542106Z",
     "iopub.status.busy": "2024-05-26T10:04:44.541738Z",
     "iopub.status.idle": "2024-05-26T10:04:44.552035Z",
     "shell.execute_reply": "2024-05-26T10:04:44.551044Z",
     "shell.execute_reply.started": "2024-05-26T10:04:44.542074Z"
    }
   },
   "outputs": [
    {
     "data": {
      "text/plain": [
       "Dataset({\n",
       "    features: ['commit_id', 'project', 'text', 'label', 'ADDING_ATTRIBUTE_MODIFIABILITY', 'ADDING_METHOD_OVERRIDABILITY', 'ADDITIONAL_CLASS', 'ADDITIONAL_FUNCTIONALITY', 'ADDITIONAL_OBJECT_STATE', 'ALTERNATIVE_PART_DELETE', 'ALTERNATIVE_PART_INSERT', 'ATTRIBUTE_RENAMING', 'ATTRIBUTE_TYPE_CHANGE', 'CLASS_RENAMING', 'COMMENT_DELETE', 'COMMENT_INSERT', 'COMMENT_MOVE', 'COMMENT_UPDATE', 'CONDITION_EXPRESSION_CHANGE', 'DECREASING_ACCESSIBILITY_CHANGE', 'DOC_DELETE', 'DOC_INSERT', 'DOC_UPDATE', 'INCREASING_ACCESSIBILITY_CHANGE', 'METHOD_RENAMING', 'PARAMETER_DELETE', 'PARAMETER_INSERT', 'PARAMETER_ORDERING_CHANGE', 'PARAMETER_RENAMING', 'PARAMETER_TYPE_CHANGE', 'PARENT_CLASS_CHANGE', 'PARENT_CLASS_DELETE', 'PARENT_CLASS_INSERT', 'PARENT_INTERFACE_CHANGE', 'PARENT_INTERFACE_DELETE', 'PARENT_INTERFACE_INSERT', 'REMOVED_CLASS', 'REMOVED_FUNCTIONALITY', 'REMOVED_OBJECT_STATE', 'REMOVING_ATTRIBUTE_MODIFIABILITY', 'REMOVING_CLASS_DERIVABILITY', 'REMOVING_METHOD_OVERRIDABILITY', 'RETURN_TYPE_CHANGE', 'RETURN_TYPE_DELETE', 'RETURN_TYPE_INSERT', 'STATEMENT_DELETE', 'STATEMENT_INSERT', 'STATEMENT_ORDERING_CHANGE', 'STATEMENT_PARENT_CHANGE', 'STATEMENT_UPDATE', 'add', 'allow', 'bug', 'chang', 'error', 'fail', 'fix', 'implement', 'improv', 'issu', 'method', 'new', 'npe', 'refactor', 'remov', 'report', 'set', 'support', 'test', 'use', 'Contains Bug Fix?', 'Extract Method', 'Inline Method', 'Move Method', 'Move Attribute', 'Pull up Method', 'Pull up Attribute', 'Push Down Method', 'Push Down Attribute', 'Extract Class', 'Extract Subclass', 'Extract Superclass', 'Extract Interface', 'Change Package', 'Extract Variable', 'Inline Variable', 'Parametrize Variable', 'Rename Variable', 'Replace Variable with Attribute', 'Change Variable Type', 'Move and Rename Class', 'Move Class', 'Extract and Move Method', 'Move Source Folder', '__index_level_0__'],\n",
       "    num_rows: 59\n",
       "})"
      ]
     },
     "execution_count": 7,
     "metadata": {},
     "output_type": "execute_result"
    }
   ],
   "source": [
    "# list(train['message'].astype(str).values)\n",
    "train_dataset"
   ]
  },
  {
   "cell_type": "code",
   "execution_count": 8,
   "id": "ee30affe-0ec9-46a3-bcaa-a1bd9422c939",
   "metadata": {
    "execution": {
     "iopub.execute_input": "2024-05-26T10:04:44.553284Z",
     "iopub.status.busy": "2024-05-26T10:04:44.552988Z",
     "iopub.status.idle": "2024-05-26T10:04:44.559445Z",
     "shell.execute_reply": "2024-05-26T10:04:44.558479Z",
     "shell.execute_reply.started": "2024-05-26T10:04:44.553254Z"
    }
   },
   "outputs": [
    {
     "data": {
      "text/plain": [
       "35"
      ]
     },
     "execution_count": 8,
     "metadata": {},
     "output_type": "execute_result"
    }
   ],
   "source": [
    "len(train)"
   ]
  },
  {
   "cell_type": "code",
   "execution_count": 9,
   "id": "84e38639-cf4b-4762-a1dc-cdc983938388",
   "metadata": {
    "execution": {
     "iopub.execute_input": "2024-05-26T10:04:44.560932Z",
     "iopub.status.busy": "2024-05-26T10:04:44.560543Z",
     "iopub.status.idle": "2024-05-26T10:04:44.570153Z",
     "shell.execute_reply": "2024-05-26T10:04:44.569029Z",
     "shell.execute_reply.started": "2024-05-26T10:04:44.560898Z"
    }
   },
   "outputs": [
    {
     "data": {
      "text/plain": [
       "label\n",
       "Corrective    12\n",
       "Perfective    12\n",
       "Adaptive      11\n",
       "Name: count, dtype: int64"
      ]
     },
     "execution_count": 9,
     "metadata": {},
     "output_type": "execute_result"
    }
   ],
   "source": [
    "train['label'].value_counts()"
   ]
  },
  {
   "cell_type": "code",
   "execution_count": 10,
   "id": "3cf6c110-616d-45da-aa2e-4a5add26b3c0",
   "metadata": {
    "execution": {
     "iopub.execute_input": "2024-05-26T10:04:44.571429Z",
     "iopub.status.busy": "2024-05-26T10:04:44.571140Z",
     "iopub.status.idle": "2024-05-26T10:04:44.579300Z",
     "shell.execute_reply": "2024-05-26T10:04:44.578359Z",
     "shell.execute_reply.started": "2024-05-26T10:04:44.571400Z"
    }
   },
   "outputs": [
    {
     "data": {
      "text/plain": [
       "label\n",
       "Corrective    591\n",
       "Perfective    588\n",
       "Adaptive      579\n",
       "Name: count, dtype: int64"
      ]
     },
     "execution_count": 10,
     "metadata": {},
     "output_type": "execute_result"
    }
   ],
   "source": [
    "test['label'].value_counts()"
   ]
  },
  {
   "cell_type": "code",
   "execution_count": 11,
   "id": "77117d87-5292-48f5-b077-74b47ccfd5eb",
   "metadata": {
    "execution": {
     "iopub.execute_input": "2024-05-26T10:04:44.580542Z",
     "iopub.status.busy": "2024-05-26T10:04:44.580259Z",
     "iopub.status.idle": "2024-05-26T10:04:44.586577Z",
     "shell.execute_reply": "2024-05-26T10:04:44.585641Z",
     "shell.execute_reply.started": "2024-05-26T10:04:44.580514Z"
    }
   },
   "outputs": [
    {
     "data": {
      "text/plain": [
       "59"
      ]
     },
     "execution_count": 11,
     "metadata": {},
     "output_type": "execute_result"
    }
   ],
   "source": [
    "len(train_dataset)"
   ]
  },
  {
   "cell_type": "code",
   "execution_count": 12,
   "id": "dca6275a-a567-4963-831c-8dd653341162",
   "metadata": {
    "execution": {
     "iopub.execute_input": "2024-05-26T10:04:44.587819Z",
     "iopub.status.busy": "2024-05-26T10:04:44.587533Z",
     "iopub.status.idle": "2024-05-26T10:04:44.593976Z",
     "shell.execute_reply": "2024-05-26T10:04:44.592996Z",
     "shell.execute_reply.started": "2024-05-26T10:04:44.587790Z"
    }
   },
   "outputs": [],
   "source": [
    "from sklearn import  metrics\n",
    "\n",
    "def compute_metrics(y_pred, y_test):\n",
    "    # print(y_pred,y_test)\n",
    "    # classification_report = metrics.classification_report(y_test,y_pred)\n",
    "    accuracy_score = metrics.accuracy_score(y_test,y_pred)\n",
    "    precision_score = metrics.precision_score(y_test,y_pred, average='weighted')\n",
    "    recall_score = metrics.recall_score(y_test,y_pred,average='weighted')\n",
    "    f1_score = metrics.f1_score(y_test,y_pred,average='weighted')\n",
    "\n",
    "    # return {\"classification_report\": classification_report}\n",
    "    return {\"precision\": precision_score,\"recall\": recall_score, \"f1\":f1_score, \"accuracy\": accuracy_score}"
   ]
  },
  {
   "cell_type": "code",
   "execution_count": 13,
   "id": "49e32d66-2fc2-4a53-bae1-13f8d67c5b6f",
   "metadata": {
    "execution": {
     "iopub.execute_input": "2024-05-26T10:04:44.598072Z",
     "iopub.status.busy": "2024-05-26T10:04:44.597728Z",
     "iopub.status.idle": "2024-05-26T10:04:44.604229Z",
     "shell.execute_reply": "2024-05-26T10:04:44.603228Z",
     "shell.execute_reply.started": "2024-05-26T10:04:44.598042Z"
    }
   },
   "outputs": [
    {
     "data": {
      "text/plain": [
       "Dataset({\n",
       "    features: ['commit_id', 'project', 'text', 'label', 'ADDING_ATTRIBUTE_MODIFIABILITY', 'ADDING_METHOD_OVERRIDABILITY', 'ADDITIONAL_CLASS', 'ADDITIONAL_FUNCTIONALITY', 'ADDITIONAL_OBJECT_STATE', 'ALTERNATIVE_PART_DELETE', 'ALTERNATIVE_PART_INSERT', 'ATTRIBUTE_RENAMING', 'ATTRIBUTE_TYPE_CHANGE', 'CLASS_RENAMING', 'COMMENT_DELETE', 'COMMENT_INSERT', 'COMMENT_MOVE', 'COMMENT_UPDATE', 'CONDITION_EXPRESSION_CHANGE', 'DECREASING_ACCESSIBILITY_CHANGE', 'DOC_DELETE', 'DOC_INSERT', 'DOC_UPDATE', 'INCREASING_ACCESSIBILITY_CHANGE', 'METHOD_RENAMING', 'PARAMETER_DELETE', 'PARAMETER_INSERT', 'PARAMETER_ORDERING_CHANGE', 'PARAMETER_RENAMING', 'PARAMETER_TYPE_CHANGE', 'PARENT_CLASS_CHANGE', 'PARENT_CLASS_DELETE', 'PARENT_CLASS_INSERT', 'PARENT_INTERFACE_CHANGE', 'PARENT_INTERFACE_DELETE', 'PARENT_INTERFACE_INSERT', 'REMOVED_CLASS', 'REMOVED_FUNCTIONALITY', 'REMOVED_OBJECT_STATE', 'REMOVING_ATTRIBUTE_MODIFIABILITY', 'REMOVING_CLASS_DERIVABILITY', 'REMOVING_METHOD_OVERRIDABILITY', 'RETURN_TYPE_CHANGE', 'RETURN_TYPE_DELETE', 'RETURN_TYPE_INSERT', 'STATEMENT_DELETE', 'STATEMENT_INSERT', 'STATEMENT_ORDERING_CHANGE', 'STATEMENT_PARENT_CHANGE', 'STATEMENT_UPDATE', 'add', 'allow', 'bug', 'chang', 'error', 'fail', 'fix', 'implement', 'improv', 'issu', 'method', 'new', 'npe', 'refactor', 'remov', 'report', 'set', 'support', 'test', 'use', 'Contains Bug Fix?', 'Extract Method', 'Inline Method', 'Move Method', 'Move Attribute', 'Pull up Method', 'Pull up Attribute', 'Push Down Method', 'Push Down Attribute', 'Extract Class', 'Extract Subclass', 'Extract Superclass', 'Extract Interface', 'Change Package', 'Extract Variable', 'Inline Variable', 'Parametrize Variable', 'Rename Variable', 'Replace Variable with Attribute', 'Change Variable Type', 'Move and Rename Class', 'Move Class', 'Extract and Move Method', 'Move Source Folder', '__index_level_0__'],\n",
       "    num_rows: 59\n",
       "})"
      ]
     },
     "execution_count": 13,
     "metadata": {},
     "output_type": "execute_result"
    }
   ],
   "source": [
    "train_dataset"
   ]
  },
  {
   "cell_type": "code",
   "execution_count": 14,
   "id": "b7c52074-c55f-4218-bc87-cdbc6e36a993",
   "metadata": {
    "execution": {
     "iopub.execute_input": "2024-05-26T10:04:44.605535Z",
     "iopub.status.busy": "2024-05-26T10:04:44.605204Z",
     "iopub.status.idle": "2024-05-26T10:04:44.638195Z",
     "shell.execute_reply": "2024-05-26T10:04:44.637340Z",
     "shell.execute_reply.started": "2024-05-26T10:04:44.605506Z"
    }
   },
   "outputs": [
    {
     "data": {
      "text/html": [
       "<div>\n",
       "<style scoped>\n",
       "    .dataframe tbody tr th:only-of-type {\n",
       "        vertical-align: middle;\n",
       "    }\n",
       "\n",
       "    .dataframe tbody tr th {\n",
       "        vertical-align: top;\n",
       "    }\n",
       "\n",
       "    .dataframe thead th {\n",
       "        text-align: right;\n",
       "    }\n",
       "</style>\n",
       "<table border=\"1\" class=\"dataframe\">\n",
       "  <thead>\n",
       "    <tr style=\"text-align: right;\">\n",
       "      <th></th>\n",
       "      <th>commit_id</th>\n",
       "      <th>project</th>\n",
       "      <th>text</th>\n",
       "      <th>label</th>\n",
       "      <th>ADDING_ATTRIBUTE_MODIFIABILITY</th>\n",
       "      <th>ADDING_METHOD_OVERRIDABILITY</th>\n",
       "      <th>ADDITIONAL_CLASS</th>\n",
       "      <th>ADDITIONAL_FUNCTIONALITY</th>\n",
       "      <th>ADDITIONAL_OBJECT_STATE</th>\n",
       "      <th>ALTERNATIVE_PART_DELETE</th>\n",
       "      <th>...</th>\n",
       "      <th>Extract Variable</th>\n",
       "      <th>Inline Variable</th>\n",
       "      <th>Parametrize Variable</th>\n",
       "      <th>Rename Variable</th>\n",
       "      <th>Replace Variable with Attribute</th>\n",
       "      <th>Change Variable Type</th>\n",
       "      <th>Move and Rename Class</th>\n",
       "      <th>Move Class</th>\n",
       "      <th>Extract and Move Method</th>\n",
       "      <th>Move Source Folder</th>\n",
       "    </tr>\n",
       "  </thead>\n",
       "  <tbody>\n",
       "    <tr>\n",
       "      <th>1459</th>\n",
       "      <td>28a4035f884b1de99d7d48ce4d08dcf89f84e3a2</td>\n",
       "      <td>Vala</td>\n",
       "      <td>gio-2.0: various ownership and type_arguments ...</td>\n",
       "      <td>Corrective</td>\n",
       "      <td>0</td>\n",
       "      <td>0</td>\n",
       "      <td>0</td>\n",
       "      <td>0</td>\n",
       "      <td>0</td>\n",
       "      <td>0</td>\n",
       "      <td>...</td>\n",
       "      <td>0</td>\n",
       "      <td>0</td>\n",
       "      <td>0</td>\n",
       "      <td>0</td>\n",
       "      <td>0</td>\n",
       "      <td>0</td>\n",
       "      <td>0</td>\n",
       "      <td>0</td>\n",
       "      <td>0</td>\n",
       "      <td>0</td>\n",
       "    </tr>\n",
       "    <tr>\n",
       "      <th>295</th>\n",
       "      <td>7ed444678012a695278f54ab86ca4a5dd73537c7</td>\n",
       "      <td>intellij-community</td>\n",
       "      <td>one more test that fails; some more code moved...</td>\n",
       "      <td>Perfective</td>\n",
       "      <td>0</td>\n",
       "      <td>0</td>\n",
       "      <td>0</td>\n",
       "      <td>1</td>\n",
       "      <td>0</td>\n",
       "      <td>0</td>\n",
       "      <td>...</td>\n",
       "      <td>0</td>\n",
       "      <td>0</td>\n",
       "      <td>0</td>\n",
       "      <td>0</td>\n",
       "      <td>0</td>\n",
       "      <td>0</td>\n",
       "      <td>0</td>\n",
       "      <td>0</td>\n",
       "      <td>0</td>\n",
       "      <td>0</td>\n",
       "    </tr>\n",
       "    <tr>\n",
       "      <th>1026</th>\n",
       "      <td>c6f22949dc72af5edfd18bf4d350ae925fcc2d2c</td>\n",
       "      <td>Valadoc</td>\n",
       "      <td>valadoc: LinkHelper: turn get_package_link int...</td>\n",
       "      <td>Adaptive</td>\n",
       "      <td>0</td>\n",
       "      <td>0</td>\n",
       "      <td>0</td>\n",
       "      <td>0</td>\n",
       "      <td>0</td>\n",
       "      <td>0</td>\n",
       "      <td>...</td>\n",
       "      <td>0</td>\n",
       "      <td>0</td>\n",
       "      <td>0</td>\n",
       "      <td>0</td>\n",
       "      <td>0</td>\n",
       "      <td>0</td>\n",
       "      <td>0</td>\n",
       "      <td>0</td>\n",
       "      <td>0</td>\n",
       "      <td>0</td>\n",
       "    </tr>\n",
       "    <tr>\n",
       "      <th>884</th>\n",
       "      <td>6a85160cfa4f99167f29a1323d0175703fb57816</td>\n",
       "      <td>camel</td>\n",
       "      <td>Fixed test--git-svn-id: https://svn.apache.org...</td>\n",
       "      <td>Corrective</td>\n",
       "      <td>0</td>\n",
       "      <td>0</td>\n",
       "      <td>0</td>\n",
       "      <td>0</td>\n",
       "      <td>0</td>\n",
       "      <td>0</td>\n",
       "      <td>...</td>\n",
       "      <td>0</td>\n",
       "      <td>0</td>\n",
       "      <td>0</td>\n",
       "      <td>0</td>\n",
       "      <td>0</td>\n",
       "      <td>0</td>\n",
       "      <td>0</td>\n",
       "      <td>0</td>\n",
       "      <td>0</td>\n",
       "      <td>0</td>\n",
       "    </tr>\n",
       "    <tr>\n",
       "      <th>1514</th>\n",
       "      <td>1153de63158a534c230cb541ca3f74764aa0a50c</td>\n",
       "      <td>Vala</td>\n",
       "      <td>json-glib-1.0: hide user data arguments from t...</td>\n",
       "      <td>Corrective</td>\n",
       "      <td>0</td>\n",
       "      <td>0</td>\n",
       "      <td>0</td>\n",
       "      <td>0</td>\n",
       "      <td>0</td>\n",
       "      <td>0</td>\n",
       "      <td>...</td>\n",
       "      <td>0</td>\n",
       "      <td>0</td>\n",
       "      <td>0</td>\n",
       "      <td>0</td>\n",
       "      <td>0</td>\n",
       "      <td>0</td>\n",
       "      <td>0</td>\n",
       "      <td>0</td>\n",
       "      <td>0</td>\n",
       "      <td>0</td>\n",
       "    </tr>\n",
       "    <tr>\n",
       "      <th>545</th>\n",
       "      <td>daab3db062b9b8cddbb653fedca91288cf5a0684</td>\n",
       "      <td>kotlin</td>\n",
       "      <td>Add WITH_RUNTIME and WITH_REFLECT directives t...</td>\n",
       "      <td>Perfective</td>\n",
       "      <td>0</td>\n",
       "      <td>0</td>\n",
       "      <td>1</td>\n",
       "      <td>1</td>\n",
       "      <td>1</td>\n",
       "      <td>0</td>\n",
       "      <td>...</td>\n",
       "      <td>0</td>\n",
       "      <td>0</td>\n",
       "      <td>0</td>\n",
       "      <td>0</td>\n",
       "      <td>0</td>\n",
       "      <td>0</td>\n",
       "      <td>0</td>\n",
       "      <td>0</td>\n",
       "      <td>0</td>\n",
       "      <td>0</td>\n",
       "    </tr>\n",
       "    <tr>\n",
       "      <th>461</th>\n",
       "      <td>5b4e584e455a1d4713119308c846d66fcfd52d9a</td>\n",
       "      <td>drools</td>\n",
       "      <td>JBRULES-2439--git-svn-id: https://svn.jboss.or...</td>\n",
       "      <td>Adaptive</td>\n",
       "      <td>0</td>\n",
       "      <td>0</td>\n",
       "      <td>0</td>\n",
       "      <td>0</td>\n",
       "      <td>0</td>\n",
       "      <td>0</td>\n",
       "      <td>...</td>\n",
       "      <td>0</td>\n",
       "      <td>0</td>\n",
       "      <td>0</td>\n",
       "      <td>0</td>\n",
       "      <td>0</td>\n",
       "      <td>0</td>\n",
       "      <td>0</td>\n",
       "      <td>0</td>\n",
       "      <td>0</td>\n",
       "      <td>0</td>\n",
       "    </tr>\n",
       "    <tr>\n",
       "      <th>1297</th>\n",
       "      <td>464fd741533548c6fec7393299185c293de0d862</td>\n",
       "      <td>Mylyn Reviews</td>\n",
       "      <td>392682: Show details for changesets\\n\\nUse the...</td>\n",
       "      <td>Adaptive</td>\n",
       "      <td>0</td>\n",
       "      <td>0</td>\n",
       "      <td>1</td>\n",
       "      <td>1</td>\n",
       "      <td>1</td>\n",
       "      <td>0</td>\n",
       "      <td>...</td>\n",
       "      <td>0</td>\n",
       "      <td>0</td>\n",
       "      <td>0</td>\n",
       "      <td>0</td>\n",
       "      <td>0</td>\n",
       "      <td>0</td>\n",
       "      <td>0</td>\n",
       "      <td>0</td>\n",
       "      <td>0</td>\n",
       "      <td>0</td>\n",
       "    </tr>\n",
       "    <tr>\n",
       "      <th>51</th>\n",
       "      <td>e449fb139b70db15ffae182355d5306d90389adb</td>\n",
       "      <td>ReactiveX-RxJava</td>\n",
       "      <td>Fixed javadoc and comments</td>\n",
       "      <td>Corrective</td>\n",
       "      <td>0</td>\n",
       "      <td>0</td>\n",
       "      <td>0</td>\n",
       "      <td>0</td>\n",
       "      <td>0</td>\n",
       "      <td>0</td>\n",
       "      <td>...</td>\n",
       "      <td>0</td>\n",
       "      <td>0</td>\n",
       "      <td>0</td>\n",
       "      <td>0</td>\n",
       "      <td>0</td>\n",
       "      <td>0</td>\n",
       "      <td>0</td>\n",
       "      <td>0</td>\n",
       "      <td>0</td>\n",
       "      <td>0</td>\n",
       "    </tr>\n",
       "    <tr>\n",
       "      <th>403</th>\n",
       "      <td>8d07116266f2a2cb19dc303e5937bb6f248b81fb</td>\n",
       "      <td>hadoop</td>\n",
       "      <td>YARN-2331. Distinguish shutdown during supervi...</td>\n",
       "      <td>Perfective</td>\n",
       "      <td>0</td>\n",
       "      <td>0</td>\n",
       "      <td>0</td>\n",
       "      <td>1</td>\n",
       "      <td>1</td>\n",
       "      <td>0</td>\n",
       "      <td>...</td>\n",
       "      <td>0</td>\n",
       "      <td>0</td>\n",
       "      <td>0</td>\n",
       "      <td>0</td>\n",
       "      <td>0</td>\n",
       "      <td>0</td>\n",
       "      <td>0</td>\n",
       "      <td>0</td>\n",
       "      <td>0</td>\n",
       "      <td>0</td>\n",
       "    </tr>\n",
       "    <tr>\n",
       "      <th>485</th>\n",
       "      <td>32510df2df13cdf6a03ead228a2b4f2c6be67b6b</td>\n",
       "      <td>drools</td>\n",
       "      <td>fix incremental compilation when updating a- k...</td>\n",
       "      <td>Corrective</td>\n",
       "      <td>0</td>\n",
       "      <td>0</td>\n",
       "      <td>0</td>\n",
       "      <td>1</td>\n",
       "      <td>1</td>\n",
       "      <td>0</td>\n",
       "      <td>...</td>\n",
       "      <td>1</td>\n",
       "      <td>0</td>\n",
       "      <td>0</td>\n",
       "      <td>0</td>\n",
       "      <td>0</td>\n",
       "      <td>0</td>\n",
       "      <td>0</td>\n",
       "      <td>0</td>\n",
       "      <td>0</td>\n",
       "      <td>0</td>\n",
       "    </tr>\n",
       "    <tr>\n",
       "      <th>597</th>\n",
       "      <td>14c657d448b6dd743806c4df2a321d58f4e0618e</td>\n",
       "      <td>kotlin</td>\n",
       "      <td>Extract Function: Consider reference \"broken\" ...</td>\n",
       "      <td>Corrective</td>\n",
       "      <td>0</td>\n",
       "      <td>0</td>\n",
       "      <td>0</td>\n",
       "      <td>1</td>\n",
       "      <td>0</td>\n",
       "      <td>0</td>\n",
       "      <td>...</td>\n",
       "      <td>0</td>\n",
       "      <td>0</td>\n",
       "      <td>0</td>\n",
       "      <td>0</td>\n",
       "      <td>0</td>\n",
       "      <td>0</td>\n",
       "      <td>0</td>\n",
       "      <td>0</td>\n",
       "      <td>0</td>\n",
       "      <td>0</td>\n",
       "    </tr>\n",
       "    <tr>\n",
       "      <th>1425</th>\n",
       "      <td>3f3ff95b46cb0ef97704396501b7c05b778cc448</td>\n",
       "      <td>Vala</td>\n",
       "      <td>cairo: Use closure param to ReadFunc and Write...</td>\n",
       "      <td>Corrective</td>\n",
       "      <td>0</td>\n",
       "      <td>0</td>\n",
       "      <td>0</td>\n",
       "      <td>0</td>\n",
       "      <td>0</td>\n",
       "      <td>0</td>\n",
       "      <td>...</td>\n",
       "      <td>0</td>\n",
       "      <td>0</td>\n",
       "      <td>0</td>\n",
       "      <td>0</td>\n",
       "      <td>0</td>\n",
       "      <td>0</td>\n",
       "      <td>0</td>\n",
       "      <td>0</td>\n",
       "      <td>0</td>\n",
       "      <td>0</td>\n",
       "    </tr>\n",
       "    <tr>\n",
       "      <th>1273</th>\n",
       "      <td>5fe6054a3835b11a4432e3da770f779183de4291</td>\n",
       "      <td>Mylyn Reviews</td>\n",
       "      <td>Minor cleanup\\n\\n-ignore warning about interna...</td>\n",
       "      <td>Perfective</td>\n",
       "      <td>0</td>\n",
       "      <td>0</td>\n",
       "      <td>0</td>\n",
       "      <td>0</td>\n",
       "      <td>0</td>\n",
       "      <td>0</td>\n",
       "      <td>...</td>\n",
       "      <td>0</td>\n",
       "      <td>0</td>\n",
       "      <td>0</td>\n",
       "      <td>0</td>\n",
       "      <td>0</td>\n",
       "      <td>0</td>\n",
       "      <td>0</td>\n",
       "      <td>0</td>\n",
       "      <td>0</td>\n",
       "      <td>0</td>\n",
       "    </tr>\n",
       "    <tr>\n",
       "      <th>941</th>\n",
       "      <td>d66956b1177df05de05644f53e33509d790b57bf</td>\n",
       "      <td>spring-framework</td>\n",
       "      <td>Changed use of AssertThrows to @Test(expected ...</td>\n",
       "      <td>Perfective</td>\n",
       "      <td>0</td>\n",
       "      <td>0</td>\n",
       "      <td>0</td>\n",
       "      <td>0</td>\n",
       "      <td>0</td>\n",
       "      <td>0</td>\n",
       "      <td>...</td>\n",
       "      <td>0</td>\n",
       "      <td>0</td>\n",
       "      <td>0</td>\n",
       "      <td>0</td>\n",
       "      <td>0</td>\n",
       "      <td>0</td>\n",
       "      <td>0</td>\n",
       "      <td>0</td>\n",
       "      <td>0</td>\n",
       "      <td>0</td>\n",
       "    </tr>\n",
       "    <tr>\n",
       "      <th>1000</th>\n",
       "      <td>0a0f2de7b53e3a8f2c68dcacfb8a6602f5b4d10b</td>\n",
       "      <td>Valadoc</td>\n",
       "      <td>importer: gir: Process callback comments\\n</td>\n",
       "      <td>Adaptive</td>\n",
       "      <td>0</td>\n",
       "      <td>0</td>\n",
       "      <td>0</td>\n",
       "      <td>0</td>\n",
       "      <td>0</td>\n",
       "      <td>0</td>\n",
       "      <td>...</td>\n",
       "      <td>0</td>\n",
       "      <td>0</td>\n",
       "      <td>0</td>\n",
       "      <td>0</td>\n",
       "      <td>0</td>\n",
       "      <td>0</td>\n",
       "      <td>0</td>\n",
       "      <td>0</td>\n",
       "      <td>0</td>\n",
       "      <td>0</td>\n",
       "    </tr>\n",
       "    <tr>\n",
       "      <th>1488</th>\n",
       "      <td>4429d912da6ef5ee00cf8ffdd228b111a5aa88a1</td>\n",
       "      <td>Vala</td>\n",
       "      <td>gnutls: fix numerous errors preventing gnutls ...</td>\n",
       "      <td>Corrective</td>\n",
       "      <td>0</td>\n",
       "      <td>0</td>\n",
       "      <td>0</td>\n",
       "      <td>0</td>\n",
       "      <td>0</td>\n",
       "      <td>0</td>\n",
       "      <td>...</td>\n",
       "      <td>0</td>\n",
       "      <td>0</td>\n",
       "      <td>0</td>\n",
       "      <td>0</td>\n",
       "      <td>0</td>\n",
       "      <td>0</td>\n",
       "      <td>0</td>\n",
       "      <td>0</td>\n",
       "      <td>0</td>\n",
       "      <td>0</td>\n",
       "    </tr>\n",
       "    <tr>\n",
       "      <th>1275</th>\n",
       "      <td>454302cf65c3c617149f28aee819549dd02f3680</td>\n",
       "      <td>Mylyn Reviews</td>\n",
       "      <td>Move versions-task bridge to reviews\\n</td>\n",
       "      <td>Perfective</td>\n",
       "      <td>0</td>\n",
       "      <td>0</td>\n",
       "      <td>1</td>\n",
       "      <td>1</td>\n",
       "      <td>1</td>\n",
       "      <td>0</td>\n",
       "      <td>...</td>\n",
       "      <td>0</td>\n",
       "      <td>0</td>\n",
       "      <td>0</td>\n",
       "      <td>0</td>\n",
       "      <td>0</td>\n",
       "      <td>0</td>\n",
       "      <td>0</td>\n",
       "      <td>0</td>\n",
       "      <td>0</td>\n",
       "      <td>0</td>\n",
       "    </tr>\n",
       "    <tr>\n",
       "      <th>561</th>\n",
       "      <td>bc9f5da47e74b6b474c2792797cbd26a4f427685</td>\n",
       "      <td>kotlin</td>\n",
       "      <td>Rendering nice unicode arrow for function type...</td>\n",
       "      <td>Perfective</td>\n",
       "      <td>0</td>\n",
       "      <td>0</td>\n",
       "      <td>0</td>\n",
       "      <td>1</td>\n",
       "      <td>0</td>\n",
       "      <td>0</td>\n",
       "      <td>...</td>\n",
       "      <td>0</td>\n",
       "      <td>0</td>\n",
       "      <td>0</td>\n",
       "      <td>0</td>\n",
       "      <td>0</td>\n",
       "      <td>0</td>\n",
       "      <td>0</td>\n",
       "      <td>0</td>\n",
       "      <td>0</td>\n",
       "      <td>0</td>\n",
       "    </tr>\n",
       "    <tr>\n",
       "      <th>662</th>\n",
       "      <td>40331c29a3350a994d18c2b04c95e1d5a80527c3</td>\n",
       "      <td>restlet-framework-java</td>\n",
       "      <td>JAX-RS extension continued: - @FormParam is no...</td>\n",
       "      <td>Adaptive</td>\n",
       "      <td>0</td>\n",
       "      <td>0</td>\n",
       "      <td>1</td>\n",
       "      <td>1</td>\n",
       "      <td>1</td>\n",
       "      <td>0</td>\n",
       "      <td>...</td>\n",
       "      <td>0</td>\n",
       "      <td>0</td>\n",
       "      <td>0</td>\n",
       "      <td>0</td>\n",
       "      <td>0</td>\n",
       "      <td>0</td>\n",
       "      <td>0</td>\n",
       "      <td>0</td>\n",
       "      <td>0</td>\n",
       "      <td>0</td>\n",
       "    </tr>\n",
       "    <tr>\n",
       "      <th>330</th>\n",
       "      <td>175d222bfc03ad84023cefb40e48b27356148ec5</td>\n",
       "      <td>hadoop</td>\n",
       "      <td>YARN-2830. Add backwords compatible- Container...</td>\n",
       "      <td>Adaptive</td>\n",
       "      <td>0</td>\n",
       "      <td>0</td>\n",
       "      <td>0</td>\n",
       "      <td>1</td>\n",
       "      <td>0</td>\n",
       "      <td>0</td>\n",
       "      <td>...</td>\n",
       "      <td>0</td>\n",
       "      <td>0</td>\n",
       "      <td>0</td>\n",
       "      <td>0</td>\n",
       "      <td>0</td>\n",
       "      <td>0</td>\n",
       "      <td>0</td>\n",
       "      <td>0</td>\n",
       "      <td>0</td>\n",
       "      <td>0</td>\n",
       "    </tr>\n",
       "    <tr>\n",
       "      <th>1694</th>\n",
       "      <td>08dbf2ed3696c16a8c2f67e436ace7f6a7622386</td>\n",
       "      <td>cloudname$cloudname</td>\n",
       "      <td>Brave new world\\nRewrite into a core library w...</td>\n",
       "      <td>Perfective</td>\n",
       "      <td>0</td>\n",
       "      <td>0</td>\n",
       "      <td>1</td>\n",
       "      <td>1</td>\n",
       "      <td>1</td>\n",
       "      <td>0</td>\n",
       "      <td>...</td>\n",
       "      <td>0</td>\n",
       "      <td>0</td>\n",
       "      <td>0</td>\n",
       "      <td>0</td>\n",
       "      <td>0</td>\n",
       "      <td>0</td>\n",
       "      <td>0</td>\n",
       "      <td>1</td>\n",
       "      <td>0</td>\n",
       "      <td>0</td>\n",
       "    </tr>\n",
       "    <tr>\n",
       "      <th>252</th>\n",
       "      <td>a77138a065b1b594fdb7351f9503be4496995b97</td>\n",
       "      <td>intellij-community</td>\n",
       "      <td>fixed django template commenter again (PY-1949)--</td>\n",
       "      <td>Corrective</td>\n",
       "      <td>0</td>\n",
       "      <td>0</td>\n",
       "      <td>0</td>\n",
       "      <td>0</td>\n",
       "      <td>0</td>\n",
       "      <td>0</td>\n",
       "      <td>...</td>\n",
       "      <td>0</td>\n",
       "      <td>0</td>\n",
       "      <td>0</td>\n",
       "      <td>0</td>\n",
       "      <td>0</td>\n",
       "      <td>0</td>\n",
       "      <td>0</td>\n",
       "      <td>0</td>\n",
       "      <td>0</td>\n",
       "      <td>0</td>\n",
       "    </tr>\n",
       "    <tr>\n",
       "      <th>1474</th>\n",
       "      <td>74b5e8ad3b43949f122e6430fe576ebdd44cf04a</td>\n",
       "      <td>Vala</td>\n",
       "      <td>vapigen: add support for type_parameters attri...</td>\n",
       "      <td>Adaptive</td>\n",
       "      <td>0</td>\n",
       "      <td>0</td>\n",
       "      <td>0</td>\n",
       "      <td>0</td>\n",
       "      <td>0</td>\n",
       "      <td>0</td>\n",
       "      <td>...</td>\n",
       "      <td>0</td>\n",
       "      <td>0</td>\n",
       "      <td>0</td>\n",
       "      <td>0</td>\n",
       "      <td>0</td>\n",
       "      <td>0</td>\n",
       "      <td>0</td>\n",
       "      <td>0</td>\n",
       "      <td>0</td>\n",
       "      <td>0</td>\n",
       "    </tr>\n",
       "    <tr>\n",
       "      <th>85</th>\n",
       "      <td>44a27c5cd76f44e435671c69d1d8f60c42a2b420</td>\n",
       "      <td>hbase</td>\n",
       "      <td>HBASE-11920 Add CP hooks for ReplicationEndPoi...</td>\n",
       "      <td>Adaptive</td>\n",
       "      <td>0</td>\n",
       "      <td>0</td>\n",
       "      <td>1</td>\n",
       "      <td>1</td>\n",
       "      <td>1</td>\n",
       "      <td>0</td>\n",
       "      <td>...</td>\n",
       "      <td>0</td>\n",
       "      <td>0</td>\n",
       "      <td>0</td>\n",
       "      <td>0</td>\n",
       "      <td>0</td>\n",
       "      <td>0</td>\n",
       "      <td>0</td>\n",
       "      <td>0</td>\n",
       "      <td>0</td>\n",
       "      <td>0</td>\n",
       "    </tr>\n",
       "    <tr>\n",
       "      <th>1023</th>\n",
       "      <td>e1a2fd0eb19fca68caba2bfcdbfb069789a302a9</td>\n",
       "      <td>Valadoc</td>\n",
       "      <td>libvala: Add support for libvala-0.16\\n</td>\n",
       "      <td>Adaptive</td>\n",
       "      <td>0</td>\n",
       "      <td>0</td>\n",
       "      <td>0</td>\n",
       "      <td>0</td>\n",
       "      <td>0</td>\n",
       "      <td>0</td>\n",
       "      <td>...</td>\n",
       "      <td>0</td>\n",
       "      <td>0</td>\n",
       "      <td>0</td>\n",
       "      <td>0</td>\n",
       "      <td>0</td>\n",
       "      <td>0</td>\n",
       "      <td>0</td>\n",
       "      <td>0</td>\n",
       "      <td>0</td>\n",
       "      <td>0</td>\n",
       "    </tr>\n",
       "    <tr>\n",
       "      <th>1340</th>\n",
       "      <td>ac93bc54a2c1a7b17d3a0b57fc9a24ec9d334c78</td>\n",
       "      <td>Delta Spike</td>\n",
       "      <td>DELTASPIKE-289 WindowContext cleanup\\n</td>\n",
       "      <td>Corrective</td>\n",
       "      <td>0</td>\n",
       "      <td>0</td>\n",
       "      <td>0</td>\n",
       "      <td>1</td>\n",
       "      <td>0</td>\n",
       "      <td>0</td>\n",
       "      <td>...</td>\n",
       "      <td>0</td>\n",
       "      <td>0</td>\n",
       "      <td>0</td>\n",
       "      <td>0</td>\n",
       "      <td>0</td>\n",
       "      <td>0</td>\n",
       "      <td>0</td>\n",
       "      <td>0</td>\n",
       "      <td>0</td>\n",
       "      <td>0</td>\n",
       "    </tr>\n",
       "    <tr>\n",
       "      <th>302</th>\n",
       "      <td>05ef7eb774bd373c627ec0a5601ffb4bb245a45c</td>\n",
       "      <td>intellij-community</td>\n",
       "      <td>Major changes in data structures.- Reimplement...</td>\n",
       "      <td>Perfective</td>\n",
       "      <td>0</td>\n",
       "      <td>0</td>\n",
       "      <td>1</td>\n",
       "      <td>1</td>\n",
       "      <td>1</td>\n",
       "      <td>0</td>\n",
       "      <td>...</td>\n",
       "      <td>0</td>\n",
       "      <td>0</td>\n",
       "      <td>0</td>\n",
       "      <td>0</td>\n",
       "      <td>0</td>\n",
       "      <td>0</td>\n",
       "      <td>0</td>\n",
       "      <td>0</td>\n",
       "      <td>0</td>\n",
       "      <td>0</td>\n",
       "    </tr>\n",
       "    <tr>\n",
       "      <th>331</th>\n",
       "      <td>f95ec3f5bf12bee07c90943cff3b135e6a7e7a8b</td>\n",
       "      <td>hadoop</td>\n",
       "      <td>HADOOP-6133. Add a caching layer to- Configura...</td>\n",
       "      <td>Corrective</td>\n",
       "      <td>0</td>\n",
       "      <td>0</td>\n",
       "      <td>0</td>\n",
       "      <td>0</td>\n",
       "      <td>1</td>\n",
       "      <td>0</td>\n",
       "      <td>...</td>\n",
       "      <td>0</td>\n",
       "      <td>0</td>\n",
       "      <td>0</td>\n",
       "      <td>0</td>\n",
       "      <td>0</td>\n",
       "      <td>0</td>\n",
       "      <td>0</td>\n",
       "      <td>0</td>\n",
       "      <td>0</td>\n",
       "      <td>0</td>\n",
       "    </tr>\n",
       "    <tr>\n",
       "      <th>1331</th>\n",
       "      <td>32151ae7ab34f9df07340ad150b2920f128186e2</td>\n",
       "      <td>Delta Spike</td>\n",
       "      <td>DELTASPIKE-312 introduce openejb.owb.version\\n...</td>\n",
       "      <td>Perfective</td>\n",
       "      <td>0</td>\n",
       "      <td>0</td>\n",
       "      <td>0</td>\n",
       "      <td>0</td>\n",
       "      <td>0</td>\n",
       "      <td>0</td>\n",
       "      <td>...</td>\n",
       "      <td>0</td>\n",
       "      <td>0</td>\n",
       "      <td>0</td>\n",
       "      <td>0</td>\n",
       "      <td>0</td>\n",
       "      <td>0</td>\n",
       "      <td>0</td>\n",
       "      <td>0</td>\n",
       "      <td>0</td>\n",
       "      <td>0</td>\n",
       "    </tr>\n",
       "    <tr>\n",
       "      <th>899</th>\n",
       "      <td>ff7d4eebd8ebbf011656313dca8c6ee1a598c2aa</td>\n",
       "      <td>spring-framework</td>\n",
       "      <td>Polish AbstractHandlerMethodMapping---</td>\n",
       "      <td>Perfective</td>\n",
       "      <td>0</td>\n",
       "      <td>0</td>\n",
       "      <td>0</td>\n",
       "      <td>0</td>\n",
       "      <td>0</td>\n",
       "      <td>0</td>\n",
       "      <td>...</td>\n",
       "      <td>0</td>\n",
       "      <td>0</td>\n",
       "      <td>0</td>\n",
       "      <td>1</td>\n",
       "      <td>0</td>\n",
       "      <td>0</td>\n",
       "      <td>0</td>\n",
       "      <td>0</td>\n",
       "      <td>0</td>\n",
       "      <td>0</td>\n",
       "    </tr>\n",
       "    <tr>\n",
       "      <th>371</th>\n",
       "      <td>ca6ac1997f045f8093a563fb58b79c01bf7d01c3</td>\n",
       "      <td>hadoop</td>\n",
       "      <td>HDFS-7144. Fix findbugs warnings in- RamDiskRe...</td>\n",
       "      <td>Corrective</td>\n",
       "      <td>0</td>\n",
       "      <td>0</td>\n",
       "      <td>0</td>\n",
       "      <td>0</td>\n",
       "      <td>0</td>\n",
       "      <td>0</td>\n",
       "      <td>...</td>\n",
       "      <td>0</td>\n",
       "      <td>0</td>\n",
       "      <td>0</td>\n",
       "      <td>0</td>\n",
       "      <td>0</td>\n",
       "      <td>0</td>\n",
       "      <td>0</td>\n",
       "      <td>0</td>\n",
       "      <td>0</td>\n",
       "      <td>0</td>\n",
       "    </tr>\n",
       "    <tr>\n",
       "      <th>971</th>\n",
       "      <td>8c9507ec33019b88dd43ab47e1bd50d22332740b</td>\n",
       "      <td>Valadoc</td>\n",
       "      <td>girmetadata: allow to override &lt;ONLINE&gt;\\n</td>\n",
       "      <td>Adaptive</td>\n",
       "      <td>0</td>\n",
       "      <td>0</td>\n",
       "      <td>0</td>\n",
       "      <td>0</td>\n",
       "      <td>0</td>\n",
       "      <td>0</td>\n",
       "      <td>...</td>\n",
       "      <td>0</td>\n",
       "      <td>0</td>\n",
       "      <td>0</td>\n",
       "      <td>0</td>\n",
       "      <td>0</td>\n",
       "      <td>0</td>\n",
       "      <td>0</td>\n",
       "      <td>0</td>\n",
       "      <td>0</td>\n",
       "      <td>0</td>\n",
       "    </tr>\n",
       "    <tr>\n",
       "      <th>1</th>\n",
       "      <td>0950c46beda335819928585f1262dfe1dca78a0b</td>\n",
       "      <td>ReactiveX-RxJava</td>\n",
       "      <td>Trying to extend the Scheduler interface accor...</td>\n",
       "      <td>Adaptive</td>\n",
       "      <td>0</td>\n",
       "      <td>0</td>\n",
       "      <td>0</td>\n",
       "      <td>1</td>\n",
       "      <td>0</td>\n",
       "      <td>0</td>\n",
       "      <td>...</td>\n",
       "      <td>0</td>\n",
       "      <td>0</td>\n",
       "      <td>0</td>\n",
       "      <td>0</td>\n",
       "      <td>0</td>\n",
       "      <td>0</td>\n",
       "      <td>0</td>\n",
       "      <td>0</td>\n",
       "      <td>0</td>\n",
       "      <td>0</td>\n",
       "    </tr>\n",
       "    <tr>\n",
       "      <th>1157</th>\n",
       "      <td>a57bee46d7db4cd6257d45a0733cf575602b0bb3</td>\n",
       "      <td>tapiji</td>\n",
       "      <td>Creates `stable` branch.\\n\\nThe stable branch ...</td>\n",
       "      <td>Perfective</td>\n",
       "      <td>0</td>\n",
       "      <td>0</td>\n",
       "      <td>0</td>\n",
       "      <td>0</td>\n",
       "      <td>0</td>\n",
       "      <td>0</td>\n",
       "      <td>...</td>\n",
       "      <td>0</td>\n",
       "      <td>0</td>\n",
       "      <td>0</td>\n",
       "      <td>0</td>\n",
       "      <td>0</td>\n",
       "      <td>0</td>\n",
       "      <td>0</td>\n",
       "      <td>0</td>\n",
       "      <td>0</td>\n",
       "      <td>0</td>\n",
       "    </tr>\n",
       "  </tbody>\n",
       "</table>\n",
       "<p>35 rows × 94 columns</p>\n",
       "</div>"
      ],
      "text/plain": [
       "                                     commit_id                 project  \\\n",
       "1459  28a4035f884b1de99d7d48ce4d08dcf89f84e3a2                    Vala   \n",
       "295   7ed444678012a695278f54ab86ca4a5dd73537c7      intellij-community   \n",
       "1026  c6f22949dc72af5edfd18bf4d350ae925fcc2d2c                 Valadoc   \n",
       "884   6a85160cfa4f99167f29a1323d0175703fb57816                   camel   \n",
       "1514  1153de63158a534c230cb541ca3f74764aa0a50c                    Vala   \n",
       "545   daab3db062b9b8cddbb653fedca91288cf5a0684                  kotlin   \n",
       "461   5b4e584e455a1d4713119308c846d66fcfd52d9a                  drools   \n",
       "1297  464fd741533548c6fec7393299185c293de0d862           Mylyn Reviews   \n",
       "51    e449fb139b70db15ffae182355d5306d90389adb        ReactiveX-RxJava   \n",
       "403   8d07116266f2a2cb19dc303e5937bb6f248b81fb                  hadoop   \n",
       "485   32510df2df13cdf6a03ead228a2b4f2c6be67b6b                  drools   \n",
       "597   14c657d448b6dd743806c4df2a321d58f4e0618e                  kotlin   \n",
       "1425  3f3ff95b46cb0ef97704396501b7c05b778cc448                    Vala   \n",
       "1273  5fe6054a3835b11a4432e3da770f779183de4291           Mylyn Reviews   \n",
       "941   d66956b1177df05de05644f53e33509d790b57bf        spring-framework   \n",
       "1000  0a0f2de7b53e3a8f2c68dcacfb8a6602f5b4d10b                 Valadoc   \n",
       "1488  4429d912da6ef5ee00cf8ffdd228b111a5aa88a1                    Vala   \n",
       "1275  454302cf65c3c617149f28aee819549dd02f3680           Mylyn Reviews   \n",
       "561   bc9f5da47e74b6b474c2792797cbd26a4f427685                  kotlin   \n",
       "662   40331c29a3350a994d18c2b04c95e1d5a80527c3  restlet-framework-java   \n",
       "330   175d222bfc03ad84023cefb40e48b27356148ec5                  hadoop   \n",
       "1694  08dbf2ed3696c16a8c2f67e436ace7f6a7622386     cloudname$cloudname   \n",
       "252   a77138a065b1b594fdb7351f9503be4496995b97      intellij-community   \n",
       "1474  74b5e8ad3b43949f122e6430fe576ebdd44cf04a                    Vala   \n",
       "85    44a27c5cd76f44e435671c69d1d8f60c42a2b420                   hbase   \n",
       "1023  e1a2fd0eb19fca68caba2bfcdbfb069789a302a9                 Valadoc   \n",
       "1340  ac93bc54a2c1a7b17d3a0b57fc9a24ec9d334c78             Delta Spike   \n",
       "302   05ef7eb774bd373c627ec0a5601ffb4bb245a45c      intellij-community   \n",
       "331   f95ec3f5bf12bee07c90943cff3b135e6a7e7a8b                  hadoop   \n",
       "1331  32151ae7ab34f9df07340ad150b2920f128186e2             Delta Spike   \n",
       "899   ff7d4eebd8ebbf011656313dca8c6ee1a598c2aa        spring-framework   \n",
       "371   ca6ac1997f045f8093a563fb58b79c01bf7d01c3                  hadoop   \n",
       "971   8c9507ec33019b88dd43ab47e1bd50d22332740b                 Valadoc   \n",
       "1     0950c46beda335819928585f1262dfe1dca78a0b        ReactiveX-RxJava   \n",
       "1157  a57bee46d7db4cd6257d45a0733cf575602b0bb3                  tapiji   \n",
       "\n",
       "                                                   text       label  \\\n",
       "1459  gio-2.0: various ownership and type_arguments ...  Corrective   \n",
       "295   one more test that fails; some more code moved...  Perfective   \n",
       "1026  valadoc: LinkHelper: turn get_package_link int...    Adaptive   \n",
       "884   Fixed test--git-svn-id: https://svn.apache.org...  Corrective   \n",
       "1514  json-glib-1.0: hide user data arguments from t...  Corrective   \n",
       "545   Add WITH_RUNTIME and WITH_REFLECT directives t...  Perfective   \n",
       "461   JBRULES-2439--git-svn-id: https://svn.jboss.or...    Adaptive   \n",
       "1297  392682: Show details for changesets\\n\\nUse the...    Adaptive   \n",
       "51                           Fixed javadoc and comments  Corrective   \n",
       "403   YARN-2331. Distinguish shutdown during supervi...  Perfective   \n",
       "485   fix incremental compilation when updating a- k...  Corrective   \n",
       "597   Extract Function: Consider reference \"broken\" ...  Corrective   \n",
       "1425  cairo: Use closure param to ReadFunc and Write...  Corrective   \n",
       "1273  Minor cleanup\\n\\n-ignore warning about interna...  Perfective   \n",
       "941   Changed use of AssertThrows to @Test(expected ...  Perfective   \n",
       "1000         importer: gir: Process callback comments\\n    Adaptive   \n",
       "1488  gnutls: fix numerous errors preventing gnutls ...  Corrective   \n",
       "1275             Move versions-task bridge to reviews\\n  Perfective   \n",
       "561   Rendering nice unicode arrow for function type...  Perfective   \n",
       "662   JAX-RS extension continued: - @FormParam is no...    Adaptive   \n",
       "330   YARN-2830. Add backwords compatible- Container...    Adaptive   \n",
       "1694  Brave new world\\nRewrite into a core library w...  Perfective   \n",
       "252   fixed django template commenter again (PY-1949)--  Corrective   \n",
       "1474  vapigen: add support for type_parameters attri...    Adaptive   \n",
       "85    HBASE-11920 Add CP hooks for ReplicationEndPoi...    Adaptive   \n",
       "1023            libvala: Add support for libvala-0.16\\n    Adaptive   \n",
       "1340             DELTASPIKE-289 WindowContext cleanup\\n  Corrective   \n",
       "302   Major changes in data structures.- Reimplement...  Perfective   \n",
       "331   HADOOP-6133. Add a caching layer to- Configura...  Corrective   \n",
       "1331  DELTASPIKE-312 introduce openejb.owb.version\\n...  Perfective   \n",
       "899              Polish AbstractHandlerMethodMapping---  Perfective   \n",
       "371   HDFS-7144. Fix findbugs warnings in- RamDiskRe...  Corrective   \n",
       "971           girmetadata: allow to override <ONLINE>\\n    Adaptive   \n",
       "1     Trying to extend the Scheduler interface accor...    Adaptive   \n",
       "1157  Creates `stable` branch.\\n\\nThe stable branch ...  Perfective   \n",
       "\n",
       "      ADDING_ATTRIBUTE_MODIFIABILITY  ADDING_METHOD_OVERRIDABILITY  \\\n",
       "1459                               0                             0   \n",
       "295                                0                             0   \n",
       "1026                               0                             0   \n",
       "884                                0                             0   \n",
       "1514                               0                             0   \n",
       "545                                0                             0   \n",
       "461                                0                             0   \n",
       "1297                               0                             0   \n",
       "51                                 0                             0   \n",
       "403                                0                             0   \n",
       "485                                0                             0   \n",
       "597                                0                             0   \n",
       "1425                               0                             0   \n",
       "1273                               0                             0   \n",
       "941                                0                             0   \n",
       "1000                               0                             0   \n",
       "1488                               0                             0   \n",
       "1275                               0                             0   \n",
       "561                                0                             0   \n",
       "662                                0                             0   \n",
       "330                                0                             0   \n",
       "1694                               0                             0   \n",
       "252                                0                             0   \n",
       "1474                               0                             0   \n",
       "85                                 0                             0   \n",
       "1023                               0                             0   \n",
       "1340                               0                             0   \n",
       "302                                0                             0   \n",
       "331                                0                             0   \n",
       "1331                               0                             0   \n",
       "899                                0                             0   \n",
       "371                                0                             0   \n",
       "971                                0                             0   \n",
       "1                                  0                             0   \n",
       "1157                               0                             0   \n",
       "\n",
       "      ADDITIONAL_CLASS  ADDITIONAL_FUNCTIONALITY  ADDITIONAL_OBJECT_STATE  \\\n",
       "1459                 0                         0                        0   \n",
       "295                  0                         1                        0   \n",
       "1026                 0                         0                        0   \n",
       "884                  0                         0                        0   \n",
       "1514                 0                         0                        0   \n",
       "545                  1                         1                        1   \n",
       "461                  0                         0                        0   \n",
       "1297                 1                         1                        1   \n",
       "51                   0                         0                        0   \n",
       "403                  0                         1                        1   \n",
       "485                  0                         1                        1   \n",
       "597                  0                         1                        0   \n",
       "1425                 0                         0                        0   \n",
       "1273                 0                         0                        0   \n",
       "941                  0                         0                        0   \n",
       "1000                 0                         0                        0   \n",
       "1488                 0                         0                        0   \n",
       "1275                 1                         1                        1   \n",
       "561                  0                         1                        0   \n",
       "662                  1                         1                        1   \n",
       "330                  0                         1                        0   \n",
       "1694                 1                         1                        1   \n",
       "252                  0                         0                        0   \n",
       "1474                 0                         0                        0   \n",
       "85                   1                         1                        1   \n",
       "1023                 0                         0                        0   \n",
       "1340                 0                         1                        0   \n",
       "302                  1                         1                        1   \n",
       "331                  0                         0                        1   \n",
       "1331                 0                         0                        0   \n",
       "899                  0                         0                        0   \n",
       "371                  0                         0                        0   \n",
       "971                  0                         0                        0   \n",
       "1                    0                         1                        0   \n",
       "1157                 0                         0                        0   \n",
       "\n",
       "      ALTERNATIVE_PART_DELETE  ...  Extract Variable  Inline Variable  \\\n",
       "1459                        0  ...                 0                0   \n",
       "295                         0  ...                 0                0   \n",
       "1026                        0  ...                 0                0   \n",
       "884                         0  ...                 0                0   \n",
       "1514                        0  ...                 0                0   \n",
       "545                         0  ...                 0                0   \n",
       "461                         0  ...                 0                0   \n",
       "1297                        0  ...                 0                0   \n",
       "51                          0  ...                 0                0   \n",
       "403                         0  ...                 0                0   \n",
       "485                         0  ...                 1                0   \n",
       "597                         0  ...                 0                0   \n",
       "1425                        0  ...                 0                0   \n",
       "1273                        0  ...                 0                0   \n",
       "941                         0  ...                 0                0   \n",
       "1000                        0  ...                 0                0   \n",
       "1488                        0  ...                 0                0   \n",
       "1275                        0  ...                 0                0   \n",
       "561                         0  ...                 0                0   \n",
       "662                         0  ...                 0                0   \n",
       "330                         0  ...                 0                0   \n",
       "1694                        0  ...                 0                0   \n",
       "252                         0  ...                 0                0   \n",
       "1474                        0  ...                 0                0   \n",
       "85                          0  ...                 0                0   \n",
       "1023                        0  ...                 0                0   \n",
       "1340                        0  ...                 0                0   \n",
       "302                         0  ...                 0                0   \n",
       "331                         0  ...                 0                0   \n",
       "1331                        0  ...                 0                0   \n",
       "899                         0  ...                 0                0   \n",
       "371                         0  ...                 0                0   \n",
       "971                         0  ...                 0                0   \n",
       "1                           0  ...                 0                0   \n",
       "1157                        0  ...                 0                0   \n",
       "\n",
       "      Parametrize Variable  Rename Variable  Replace Variable with Attribute  \\\n",
       "1459                     0                0                                0   \n",
       "295                      0                0                                0   \n",
       "1026                     0                0                                0   \n",
       "884                      0                0                                0   \n",
       "1514                     0                0                                0   \n",
       "545                      0                0                                0   \n",
       "461                      0                0                                0   \n",
       "1297                     0                0                                0   \n",
       "51                       0                0                                0   \n",
       "403                      0                0                                0   \n",
       "485                      0                0                                0   \n",
       "597                      0                0                                0   \n",
       "1425                     0                0                                0   \n",
       "1273                     0                0                                0   \n",
       "941                      0                0                                0   \n",
       "1000                     0                0                                0   \n",
       "1488                     0                0                                0   \n",
       "1275                     0                0                                0   \n",
       "561                      0                0                                0   \n",
       "662                      0                0                                0   \n",
       "330                      0                0                                0   \n",
       "1694                     0                0                                0   \n",
       "252                      0                0                                0   \n",
       "1474                     0                0                                0   \n",
       "85                       0                0                                0   \n",
       "1023                     0                0                                0   \n",
       "1340                     0                0                                0   \n",
       "302                      0                0                                0   \n",
       "331                      0                0                                0   \n",
       "1331                     0                0                                0   \n",
       "899                      0                1                                0   \n",
       "371                      0                0                                0   \n",
       "971                      0                0                                0   \n",
       "1                        0                0                                0   \n",
       "1157                     0                0                                0   \n",
       "\n",
       "      Change Variable Type  Move and Rename Class  Move Class  \\\n",
       "1459                     0                      0           0   \n",
       "295                      0                      0           0   \n",
       "1026                     0                      0           0   \n",
       "884                      0                      0           0   \n",
       "1514                     0                      0           0   \n",
       "545                      0                      0           0   \n",
       "461                      0                      0           0   \n",
       "1297                     0                      0           0   \n",
       "51                       0                      0           0   \n",
       "403                      0                      0           0   \n",
       "485                      0                      0           0   \n",
       "597                      0                      0           0   \n",
       "1425                     0                      0           0   \n",
       "1273                     0                      0           0   \n",
       "941                      0                      0           0   \n",
       "1000                     0                      0           0   \n",
       "1488                     0                      0           0   \n",
       "1275                     0                      0           0   \n",
       "561                      0                      0           0   \n",
       "662                      0                      0           0   \n",
       "330                      0                      0           0   \n",
       "1694                     0                      0           1   \n",
       "252                      0                      0           0   \n",
       "1474                     0                      0           0   \n",
       "85                       0                      0           0   \n",
       "1023                     0                      0           0   \n",
       "1340                     0                      0           0   \n",
       "302                      0                      0           0   \n",
       "331                      0                      0           0   \n",
       "1331                     0                      0           0   \n",
       "899                      0                      0           0   \n",
       "371                      0                      0           0   \n",
       "971                      0                      0           0   \n",
       "1                        0                      0           0   \n",
       "1157                     0                      0           0   \n",
       "\n",
       "      Extract and Move Method  Move Source Folder  \n",
       "1459                        0                   0  \n",
       "295                         0                   0  \n",
       "1026                        0                   0  \n",
       "884                         0                   0  \n",
       "1514                        0                   0  \n",
       "545                         0                   0  \n",
       "461                         0                   0  \n",
       "1297                        0                   0  \n",
       "51                          0                   0  \n",
       "403                         0                   0  \n",
       "485                         0                   0  \n",
       "597                         0                   0  \n",
       "1425                        0                   0  \n",
       "1273                        0                   0  \n",
       "941                         0                   0  \n",
       "1000                        0                   0  \n",
       "1488                        0                   0  \n",
       "1275                        0                   0  \n",
       "561                         0                   0  \n",
       "662                         0                   0  \n",
       "330                         0                   0  \n",
       "1694                        0                   0  \n",
       "252                         0                   0  \n",
       "1474                        0                   0  \n",
       "85                          0                   0  \n",
       "1023                        0                   0  \n",
       "1340                        0                   0  \n",
       "302                         0                   0  \n",
       "331                         0                   0  \n",
       "1331                        0                   0  \n",
       "899                         0                   0  \n",
       "371                         0                   0  \n",
       "971                         0                   0  \n",
       "1                           0                   0  \n",
       "1157                        0                   0  \n",
       "\n",
       "[35 rows x 94 columns]"
      ]
     },
     "execution_count": 14,
     "metadata": {},
     "output_type": "execute_result"
    }
   ],
   "source": [
    "train"
   ]
  },
  {
   "cell_type": "code",
   "execution_count": 15,
   "id": "d9ede869-1587-4e42-8879-e819e5961dca",
   "metadata": {
    "execution": {
     "iopub.execute_input": "2024-05-26T10:04:44.639430Z",
     "iopub.status.busy": "2024-05-26T10:04:44.639141Z",
     "iopub.status.idle": "2024-05-26T10:04:44.643775Z",
     "shell.execute_reply": "2024-05-26T10:04:44.642800Z",
     "shell.execute_reply.started": "2024-05-26T10:04:44.639401Z"
    }
   },
   "outputs": [],
   "source": [
    "model_id = \"../../sentence-transformers/all-roberta-large-v1\""
   ]
  },
  {
   "cell_type": "code",
   "execution_count": 16,
   "id": "a6501389-0c86-442d-85cf-f04ad146703f",
   "metadata": {
    "execution": {
     "iopub.execute_input": "2024-05-26T10:04:44.645122Z",
     "iopub.status.busy": "2024-05-26T10:04:44.644790Z",
     "iopub.status.idle": "2024-05-26T10:04:44.652213Z",
     "shell.execute_reply": "2024-05-26T10:04:44.651125Z",
     "shell.execute_reply.started": "2024-05-26T10:04:44.645093Z"
    }
   },
   "outputs": [],
   "source": [
    "def hp_space(trial: Trial) -> Dict[str, Union[float, int, str]]:\n",
    "    return {\n",
    "        \"learning_rate\": trial.suggest_float(\"learning_rate\", 1e-6, 1e-3, log=True),\n",
    "        # \"num_epochs\": trial.suggest_int(\"num_epochs\", 1, 3),\n",
    "        # \"batch_size\": trial.suggest_categorical(\"batch_size\", [8, 12, 16]),\n",
    "        # \"seed\": trial.suggest_int(\"seed\", 1, 40),\n",
    "        # \"num_iterations\": trial.suggest_int(\"num_iterations\", 10, 20),\n",
    "        # \"solver\": trial.suggest_categorical(\"solver\", [\"newton-cg\", \"lbfgs\", \"liblinear\"]),\n",
    "    }\n",
    "def model_init(params: Dict[str, Any]) -> CommitFitModel:\n",
    "    params = params or {}\n",
    "    # learning_rate = params.get(\"learning_rate\")\n",
    "    # num_iterations = params.get(\"num_iterations\", 20)\n",
    "    # solver = params.get(\"solver\", \"liblinear\")\n",
    "    # params = {\n",
    "    #     \"head_params\": {\n",
    "    #         # \"max_iter\": num_iterations,\n",
    "    #         # \"solver\": solver,\n",
    "    #     }\n",
    "    # }\n",
    "    return CommitFitModel.from_pretrained(model_id, **params)\n",
    "def my_compute_objective(metrics):\n",
    "    print('+++++++++++',metrics)\n",
    "    return  metrics['accuracy']"
   ]
  },
  {
   "cell_type": "code",
   "execution_count": 17,
   "id": "2244f079-c2b8-4e01-aca4-f68e7ce8accb",
   "metadata": {
    "execution": {
     "iopub.execute_input": "2024-05-26T10:04:44.653467Z",
     "iopub.status.busy": "2024-05-26T10:04:44.653180Z",
     "iopub.status.idle": "2024-05-26T10:13:57.960503Z",
     "shell.execute_reply": "2024-05-26T10:13:57.959227Z",
     "shell.execute_reply.started": "2024-05-26T10:04:44.653439Z"
    }
   },
   "outputs": [
    {
     "name": "stderr",
     "output_type": "stream",
     "text": [
      "model_head.pkl not found in /CommitFit/sentence-transformers/all-roberta-large-v1, initialising classification head with random weights. You should TRAIN this model on a downstream task to use it for predictions and inference.\n",
      "[I 2024-05-26 18:04:49,994] A new study created in memory with name: no-name-c59745db-feab-4caf-b2a6-fda1ae2f83e9\n",
      "Trial: {'learning_rate': 0.0007838292982162536}\n",
      "model_head.pkl not found in /CommitFit/sentence-transformers/all-roberta-large-v1, initialising classification head with random weights. You should TRAIN this model on a downstream task to use it for predictions and inference.\n"
     ]
    },
    {
     "data": {
      "application/vnd.jupyter.widget-view+json": {
       "model_id": "430178daa386458cb1a25fbb0f8da469",
       "version_major": 2,
       "version_minor": 0
      },
      "text/plain": [
       "Generating Training Pairs:   0%|          | 0/20 [00:00<?, ?it/s]"
      ]
     },
     "metadata": {},
     "output_type": "display_data"
    },
    {
     "name": "stderr",
     "output_type": "stream",
     "text": [
      "***** Running training *****\n",
      "  Num examples = 2360\n",
      "  Num epochs = 1\n",
      "  Total optimization steps = 148\n",
      "  Total train batch size = 16\n"
     ]
    },
    {
     "data": {
      "application/vnd.jupyter.widget-view+json": {
       "model_id": "d8d312f7df074cf483b82416324fa0c5",
       "version_major": 2,
       "version_minor": 0
      },
      "text/plain": [
       "Epoch:   0%|          | 0/1 [00:00<?, ?it/s]"
      ]
     },
     "metadata": {},
     "output_type": "display_data"
    },
    {
     "data": {
      "application/vnd.jupyter.widget-view+json": {
       "model_id": "ed1eb87742a9480dba86c45e22e41366",
       "version_major": 2,
       "version_minor": 0
      },
      "text/plain": [
       "Iteration:   0%|          | 0/148 [00:00<?, ?it/s]"
      ]
     },
     "metadata": {},
     "output_type": "display_data"
    },
    {
     "name": "stderr",
     "output_type": "stream",
     "text": [
      "***** Running evaluation *****\n",
      "/usr/local/lib/python3.11/dist-packages/sklearn/metrics/_classification.py:1469: UndefinedMetricWarning: Recall is ill-defined and being set to 0.0 in labels with no true samples. Use `zero_division` parameter to control this behavior.\n",
      "  _warn_prf(average, modifier, msg_start, len(result))\n",
      "[I 2024-05-26 18:05:46,820] Trial 0 finished with value: 0.5164960182025028 and parameters: {'learning_rate': 0.0007838292982162536}. Best is trial 0 with value: 0.5164960182025028.\n",
      "Trial: {'learning_rate': 0.0003326396545515623}\n"
     ]
    },
    {
     "name": "stdout",
     "output_type": "stream",
     "text": [
      "+++++++++++ {'precision': 0.6400068623576228, 'recall': 0.5164960182025028, 'f1': 0.5657645852646237, 'accuracy': 0.5164960182025028}\n"
     ]
    },
    {
     "name": "stderr",
     "output_type": "stream",
     "text": [
      "model_head.pkl not found in /CommitFit/sentence-transformers/all-roberta-large-v1, initialising classification head with random weights. You should TRAIN this model on a downstream task to use it for predictions and inference.\n"
     ]
    },
    {
     "data": {
      "application/vnd.jupyter.widget-view+json": {
       "model_id": "1470cce55b15451591599d1c60dcc1cc",
       "version_major": 2,
       "version_minor": 0
      },
      "text/plain": [
       "Generating Training Pairs:   0%|          | 0/20 [00:00<?, ?it/s]"
      ]
     },
     "metadata": {},
     "output_type": "display_data"
    },
    {
     "name": "stderr",
     "output_type": "stream",
     "text": [
      "***** Running training *****\n",
      "  Num examples = 2360\n",
      "  Num epochs = 1\n",
      "  Total optimization steps = 148\n",
      "  Total train batch size = 16\n"
     ]
    },
    {
     "data": {
      "application/vnd.jupyter.widget-view+json": {
       "model_id": "e4238098dbe24a14a5cafb0c9b0bce86",
       "version_major": 2,
       "version_minor": 0
      },
      "text/plain": [
       "Epoch:   0%|          | 0/1 [00:00<?, ?it/s]"
      ]
     },
     "metadata": {},
     "output_type": "display_data"
    },
    {
     "data": {
      "application/vnd.jupyter.widget-view+json": {
       "model_id": "9918cf7098674e84a37892e038e80b85",
       "version_major": 2,
       "version_minor": 0
      },
      "text/plain": [
       "Iteration:   0%|          | 0/148 [00:00<?, ?it/s]"
      ]
     },
     "metadata": {},
     "output_type": "display_data"
    },
    {
     "name": "stderr",
     "output_type": "stream",
     "text": [
      "***** Running evaluation *****\n",
      "/usr/local/lib/python3.11/dist-packages/sklearn/metrics/_classification.py:1469: UndefinedMetricWarning: Recall is ill-defined and being set to 0.0 in labels with no true samples. Use `zero_division` parameter to control this behavior.\n",
      "  _warn_prf(average, modifier, msg_start, len(result))\n",
      "[I 2024-05-26 18:06:41,432] Trial 1 finished with value: 0.5164960182025028 and parameters: {'learning_rate': 0.0003326396545515623}. Best is trial 0 with value: 0.5164960182025028.\n",
      "Trial: {'learning_rate': 2.408371287997499e-05}\n"
     ]
    },
    {
     "name": "stdout",
     "output_type": "stream",
     "text": [
      "+++++++++++ {'precision': 0.6400068623576228, 'recall': 0.5164960182025028, 'f1': 0.5657645852646237, 'accuracy': 0.5164960182025028}\n"
     ]
    },
    {
     "name": "stderr",
     "output_type": "stream",
     "text": [
      "model_head.pkl not found in /CommitFit/sentence-transformers/all-roberta-large-v1, initialising classification head with random weights. You should TRAIN this model on a downstream task to use it for predictions and inference.\n"
     ]
    },
    {
     "data": {
      "application/vnd.jupyter.widget-view+json": {
       "model_id": "0bfa6c47b9b3426aad9d8df038364da6",
       "version_major": 2,
       "version_minor": 0
      },
      "text/plain": [
       "Generating Training Pairs:   0%|          | 0/20 [00:00<?, ?it/s]"
      ]
     },
     "metadata": {},
     "output_type": "display_data"
    },
    {
     "name": "stderr",
     "output_type": "stream",
     "text": [
      "***** Running training *****\n",
      "  Num examples = 2360\n",
      "  Num epochs = 1\n",
      "  Total optimization steps = 148\n",
      "  Total train batch size = 16\n"
     ]
    },
    {
     "data": {
      "application/vnd.jupyter.widget-view+json": {
       "model_id": "408e760be7d145dbbf8365ebad6faa3e",
       "version_major": 2,
       "version_minor": 0
      },
      "text/plain": [
       "Epoch:   0%|          | 0/1 [00:00<?, ?it/s]"
      ]
     },
     "metadata": {},
     "output_type": "display_data"
    },
    {
     "data": {
      "application/vnd.jupyter.widget-view+json": {
       "model_id": "7afcbbebcb8944a28c0a9d9271ba9073",
       "version_major": 2,
       "version_minor": 0
      },
      "text/plain": [
       "Iteration:   0%|          | 0/148 [00:00<?, ?it/s]"
      ]
     },
     "metadata": {},
     "output_type": "display_data"
    },
    {
     "name": "stderr",
     "output_type": "stream",
     "text": [
      "***** Running evaluation *****\n",
      "[I 2024-05-26 18:07:36,154] Trial 2 finished with value: 0.6393629124004551 and parameters: {'learning_rate': 2.408371287997499e-05}. Best is trial 2 with value: 0.6393629124004551.\n",
      "Trial: {'learning_rate': 0.00010723196892643478}\n"
     ]
    },
    {
     "name": "stdout",
     "output_type": "stream",
     "text": [
      "+++++++++++ {'precision': 0.6483733012371904, 'recall': 0.6393629124004551, 'f1': 0.6342509703237176, 'accuracy': 0.6393629124004551}\n"
     ]
    },
    {
     "name": "stderr",
     "output_type": "stream",
     "text": [
      "model_head.pkl not found in /CommitFit/sentence-transformers/all-roberta-large-v1, initialising classification head with random weights. You should TRAIN this model on a downstream task to use it for predictions and inference.\n"
     ]
    },
    {
     "data": {
      "application/vnd.jupyter.widget-view+json": {
       "model_id": "504c72de62654f5e846ac248f1257c87",
       "version_major": 2,
       "version_minor": 0
      },
      "text/plain": [
       "Generating Training Pairs:   0%|          | 0/20 [00:00<?, ?it/s]"
      ]
     },
     "metadata": {},
     "output_type": "display_data"
    },
    {
     "name": "stderr",
     "output_type": "stream",
     "text": [
      "***** Running training *****\n",
      "  Num examples = 2360\n",
      "  Num epochs = 1\n",
      "  Total optimization steps = 148\n",
      "  Total train batch size = 16\n"
     ]
    },
    {
     "data": {
      "application/vnd.jupyter.widget-view+json": {
       "model_id": "e279c5a6d0f4401aa536a8f6297e6164",
       "version_major": 2,
       "version_minor": 0
      },
      "text/plain": [
       "Epoch:   0%|          | 0/1 [00:00<?, ?it/s]"
      ]
     },
     "metadata": {},
     "output_type": "display_data"
    },
    {
     "data": {
      "application/vnd.jupyter.widget-view+json": {
       "model_id": "2bf468f7550641389ed676853cddb3e6",
       "version_major": 2,
       "version_minor": 0
      },
      "text/plain": [
       "Iteration:   0%|          | 0/148 [00:00<?, ?it/s]"
      ]
     },
     "metadata": {},
     "output_type": "display_data"
    },
    {
     "name": "stderr",
     "output_type": "stream",
     "text": [
      "***** Running evaluation *****\n",
      "/usr/local/lib/python3.11/dist-packages/sklearn/metrics/_classification.py:1469: UndefinedMetricWarning: Recall is ill-defined and being set to 0.0 in labels with no true samples. Use `zero_division` parameter to control this behavior.\n",
      "  _warn_prf(average, modifier, msg_start, len(result))\n",
      "[I 2024-05-26 18:08:30,530] Trial 3 finished with value: 0.5523321956769056 and parameters: {'learning_rate': 0.00010723196892643478}. Best is trial 2 with value: 0.6393629124004551.\n",
      "Trial: {'learning_rate': 1.4324279432432807e-05}\n"
     ]
    },
    {
     "name": "stdout",
     "output_type": "stream",
     "text": [
      "+++++++++++ {'precision': 0.6022773235221455, 'recall': 0.5523321956769056, 'f1': 0.5231171225385858, 'accuracy': 0.5523321956769056}\n"
     ]
    },
    {
     "name": "stderr",
     "output_type": "stream",
     "text": [
      "model_head.pkl not found in /CommitFit/sentence-transformers/all-roberta-large-v1, initialising classification head with random weights. You should TRAIN this model on a downstream task to use it for predictions and inference.\n"
     ]
    },
    {
     "data": {
      "application/vnd.jupyter.widget-view+json": {
       "model_id": "26fbe2e184db49118418e43a8904ff32",
       "version_major": 2,
       "version_minor": 0
      },
      "text/plain": [
       "Generating Training Pairs:   0%|          | 0/20 [00:00<?, ?it/s]"
      ]
     },
     "metadata": {},
     "output_type": "display_data"
    },
    {
     "name": "stderr",
     "output_type": "stream",
     "text": [
      "***** Running training *****\n",
      "  Num examples = 2360\n",
      "  Num epochs = 1\n",
      "  Total optimization steps = 148\n",
      "  Total train batch size = 16\n"
     ]
    },
    {
     "data": {
      "application/vnd.jupyter.widget-view+json": {
       "model_id": "b2072d372a5c4f1a8975dc568e830386",
       "version_major": 2,
       "version_minor": 0
      },
      "text/plain": [
       "Epoch:   0%|          | 0/1 [00:00<?, ?it/s]"
      ]
     },
     "metadata": {},
     "output_type": "display_data"
    },
    {
     "data": {
      "application/vnd.jupyter.widget-view+json": {
       "model_id": "b8be0ab06b5d4c36a9c4e42014af08ef",
       "version_major": 2,
       "version_minor": 0
      },
      "text/plain": [
       "Iteration:   0%|          | 0/148 [00:00<?, ?it/s]"
      ]
     },
     "metadata": {},
     "output_type": "display_data"
    },
    {
     "name": "stderr",
     "output_type": "stream",
     "text": [
      "***** Running evaluation *****\n",
      "[I 2024-05-26 18:09:25,141] Trial 4 finished with value: 0.636518771331058 and parameters: {'learning_rate': 1.4324279432432807e-05}. Best is trial 2 with value: 0.6393629124004551.\n",
      "Trial: {'learning_rate': 0.00045561258750061813}\n"
     ]
    },
    {
     "name": "stdout",
     "output_type": "stream",
     "text": [
      "+++++++++++ {'precision': 0.6369742245181012, 'recall': 0.636518771331058, 'f1': 0.6347072318278925, 'accuracy': 0.636518771331058}\n"
     ]
    },
    {
     "name": "stderr",
     "output_type": "stream",
     "text": [
      "model_head.pkl not found in /CommitFit/sentence-transformers/all-roberta-large-v1, initialising classification head with random weights. You should TRAIN this model on a downstream task to use it for predictions and inference.\n"
     ]
    },
    {
     "data": {
      "application/vnd.jupyter.widget-view+json": {
       "model_id": "2b5295eae9d14d5da7ec9a66331f77ce",
       "version_major": 2,
       "version_minor": 0
      },
      "text/plain": [
       "Generating Training Pairs:   0%|          | 0/20 [00:00<?, ?it/s]"
      ]
     },
     "metadata": {},
     "output_type": "display_data"
    },
    {
     "name": "stderr",
     "output_type": "stream",
     "text": [
      "***** Running training *****\n",
      "  Num examples = 2360\n",
      "  Num epochs = 1\n",
      "  Total optimization steps = 148\n",
      "  Total train batch size = 16\n"
     ]
    },
    {
     "data": {
      "application/vnd.jupyter.widget-view+json": {
       "model_id": "bdcd915da5d04a96975192f79d10f24c",
       "version_major": 2,
       "version_minor": 0
      },
      "text/plain": [
       "Epoch:   0%|          | 0/1 [00:00<?, ?it/s]"
      ]
     },
     "metadata": {},
     "output_type": "display_data"
    },
    {
     "data": {
      "application/vnd.jupyter.widget-view+json": {
       "model_id": "2069773274864803a7f3cb22037bac5b",
       "version_major": 2,
       "version_minor": 0
      },
      "text/plain": [
       "Iteration:   0%|          | 0/148 [00:00<?, ?it/s]"
      ]
     },
     "metadata": {},
     "output_type": "display_data"
    },
    {
     "name": "stderr",
     "output_type": "stream",
     "text": [
      "***** Running evaluation *****\n",
      "/usr/local/lib/python3.11/dist-packages/sklearn/metrics/_classification.py:1469: UndefinedMetricWarning: Recall is ill-defined and being set to 0.0 in labels with no true samples. Use `zero_division` parameter to control this behavior.\n",
      "  _warn_prf(average, modifier, msg_start, len(result))\n",
      "[I 2024-05-26 18:10:19,619] Trial 5 finished with value: 0.5164960182025028 and parameters: {'learning_rate': 0.00045561258750061813}. Best is trial 2 with value: 0.6393629124004551.\n",
      "Trial: {'learning_rate': 3.2037049282231957e-06}\n"
     ]
    },
    {
     "name": "stdout",
     "output_type": "stream",
     "text": [
      "+++++++++++ {'precision': 0.6400068623576228, 'recall': 0.5164960182025028, 'f1': 0.5657645852646237, 'accuracy': 0.5164960182025028}\n"
     ]
    },
    {
     "name": "stderr",
     "output_type": "stream",
     "text": [
      "model_head.pkl not found in /CommitFit/sentence-transformers/all-roberta-large-v1, initialising classification head with random weights. You should TRAIN this model on a downstream task to use it for predictions and inference.\n"
     ]
    },
    {
     "data": {
      "application/vnd.jupyter.widget-view+json": {
       "model_id": "9b040a93dd304175a9b2beb4bad941d2",
       "version_major": 2,
       "version_minor": 0
      },
      "text/plain": [
       "Generating Training Pairs:   0%|          | 0/20 [00:00<?, ?it/s]"
      ]
     },
     "metadata": {},
     "output_type": "display_data"
    },
    {
     "name": "stderr",
     "output_type": "stream",
     "text": [
      "***** Running training *****\n",
      "  Num examples = 2360\n",
      "  Num epochs = 1\n",
      "  Total optimization steps = 148\n",
      "  Total train batch size = 16\n"
     ]
    },
    {
     "data": {
      "application/vnd.jupyter.widget-view+json": {
       "model_id": "657ccaf1322c4da78a070aa0eea31ecd",
       "version_major": 2,
       "version_minor": 0
      },
      "text/plain": [
       "Epoch:   0%|          | 0/1 [00:00<?, ?it/s]"
      ]
     },
     "metadata": {},
     "output_type": "display_data"
    },
    {
     "data": {
      "application/vnd.jupyter.widget-view+json": {
       "model_id": "e3c095fb5b664653a4853d1bd2ed5cee",
       "version_major": 2,
       "version_minor": 0
      },
      "text/plain": [
       "Iteration:   0%|          | 0/148 [00:00<?, ?it/s]"
      ]
     },
     "metadata": {},
     "output_type": "display_data"
    },
    {
     "name": "stderr",
     "output_type": "stream",
     "text": [
      "***** Running evaluation *****\n",
      "/usr/local/lib/python3.11/dist-packages/sklearn/metrics/_classification.py:1469: UndefinedMetricWarning: Recall is ill-defined and being set to 0.0 in labels with no true samples. Use `zero_division` parameter to control this behavior.\n",
      "  _warn_prf(average, modifier, msg_start, len(result))\n",
      "[I 2024-05-26 18:11:14,135] Trial 6 finished with value: 0.6006825938566553 and parameters: {'learning_rate': 3.2037049282231957e-06}. Best is trial 2 with value: 0.6393629124004551.\n",
      "Trial: {'learning_rate': 0.00010782092967250222}\n"
     ]
    },
    {
     "name": "stdout",
     "output_type": "stream",
     "text": [
      "+++++++++++ {'precision': 0.6051959248401496, 'recall': 0.6006825938566553, 'f1': 0.6004254289774584, 'accuracy': 0.6006825938566553}\n"
     ]
    },
    {
     "name": "stderr",
     "output_type": "stream",
     "text": [
      "model_head.pkl not found in /CommitFit/sentence-transformers/all-roberta-large-v1, initialising classification head with random weights. You should TRAIN this model on a downstream task to use it for predictions and inference.\n"
     ]
    },
    {
     "data": {
      "application/vnd.jupyter.widget-view+json": {
       "model_id": "7b56c3029c314162b2d60edb18e3eb2d",
       "version_major": 2,
       "version_minor": 0
      },
      "text/plain": [
       "Generating Training Pairs:   0%|          | 0/20 [00:00<?, ?it/s]"
      ]
     },
     "metadata": {},
     "output_type": "display_data"
    },
    {
     "name": "stderr",
     "output_type": "stream",
     "text": [
      "***** Running training *****\n",
      "  Num examples = 2360\n",
      "  Num epochs = 1\n",
      "  Total optimization steps = 148\n",
      "  Total train batch size = 16\n"
     ]
    },
    {
     "data": {
      "application/vnd.jupyter.widget-view+json": {
       "model_id": "afcd546018b14b9f8d8fdc7fb058d31e",
       "version_major": 2,
       "version_minor": 0
      },
      "text/plain": [
       "Epoch:   0%|          | 0/1 [00:00<?, ?it/s]"
      ]
     },
     "metadata": {},
     "output_type": "display_data"
    },
    {
     "data": {
      "application/vnd.jupyter.widget-view+json": {
       "model_id": "e82242e1948345418d99f2cdc3576244",
       "version_major": 2,
       "version_minor": 0
      },
      "text/plain": [
       "Iteration:   0%|          | 0/148 [00:00<?, ?it/s]"
      ]
     },
     "metadata": {},
     "output_type": "display_data"
    },
    {
     "name": "stderr",
     "output_type": "stream",
     "text": [
      "***** Running evaluation *****\n",
      "/usr/local/lib/python3.11/dist-packages/sklearn/metrics/_classification.py:1469: UndefinedMetricWarning: Recall is ill-defined and being set to 0.0 in labels with no true samples. Use `zero_division` parameter to control this behavior.\n",
      "  _warn_prf(average, modifier, msg_start, len(result))\n",
      "[I 2024-05-26 18:12:08,648] Trial 7 finished with value: 0.6097838452787259 and parameters: {'learning_rate': 0.00010782092967250222}. Best is trial 2 with value: 0.6393629124004551.\n",
      "Trial: {'learning_rate': 0.0003183359752871226}\n"
     ]
    },
    {
     "name": "stdout",
     "output_type": "stream",
     "text": [
      "+++++++++++ {'precision': 0.6262845470102893, 'recall': 0.6097838452787259, 'f1': 0.6057995585094249, 'accuracy': 0.6097838452787259}\n"
     ]
    },
    {
     "name": "stderr",
     "output_type": "stream",
     "text": [
      "model_head.pkl not found in /CommitFit/sentence-transformers/all-roberta-large-v1, initialising classification head with random weights. You should TRAIN this model on a downstream task to use it for predictions and inference.\n"
     ]
    },
    {
     "data": {
      "application/vnd.jupyter.widget-view+json": {
       "model_id": "acb930c0defb41d6a63a6d1549efb0b7",
       "version_major": 2,
       "version_minor": 0
      },
      "text/plain": [
       "Generating Training Pairs:   0%|          | 0/20 [00:00<?, ?it/s]"
      ]
     },
     "metadata": {},
     "output_type": "display_data"
    },
    {
     "name": "stderr",
     "output_type": "stream",
     "text": [
      "***** Running training *****\n",
      "  Num examples = 2360\n",
      "  Num epochs = 1\n",
      "  Total optimization steps = 148\n",
      "  Total train batch size = 16\n"
     ]
    },
    {
     "data": {
      "application/vnd.jupyter.widget-view+json": {
       "model_id": "21ac8bd16e724efc88d6efb8781861e1",
       "version_major": 2,
       "version_minor": 0
      },
      "text/plain": [
       "Epoch:   0%|          | 0/1 [00:00<?, ?it/s]"
      ]
     },
     "metadata": {},
     "output_type": "display_data"
    },
    {
     "data": {
      "application/vnd.jupyter.widget-view+json": {
       "model_id": "3af1dacfd4f84283a3727a275b586cfb",
       "version_major": 2,
       "version_minor": 0
      },
      "text/plain": [
       "Iteration:   0%|          | 0/148 [00:00<?, ?it/s]"
      ]
     },
     "metadata": {},
     "output_type": "display_data"
    },
    {
     "name": "stderr",
     "output_type": "stream",
     "text": [
      "***** Running evaluation *****\n",
      "/usr/local/lib/python3.11/dist-packages/sklearn/metrics/_classification.py:1469: UndefinedMetricWarning: Recall is ill-defined and being set to 0.0 in labels with no true samples. Use `zero_division` parameter to control this behavior.\n",
      "  _warn_prf(average, modifier, msg_start, len(result))\n",
      "[I 2024-05-26 18:13:03,296] Trial 8 finished with value: 0.5164960182025028 and parameters: {'learning_rate': 0.0003183359752871226}. Best is trial 2 with value: 0.6393629124004551.\n",
      "Trial: {'learning_rate': 7.496462286472794e-06}\n"
     ]
    },
    {
     "name": "stdout",
     "output_type": "stream",
     "text": [
      "+++++++++++ {'precision': 0.6400068623576228, 'recall': 0.5164960182025028, 'f1': 0.5657645852646237, 'accuracy': 0.5164960182025028}\n"
     ]
    },
    {
     "name": "stderr",
     "output_type": "stream",
     "text": [
      "model_head.pkl not found in /CommitFit/sentence-transformers/all-roberta-large-v1, initialising classification head with random weights. You should TRAIN this model on a downstream task to use it for predictions and inference.\n"
     ]
    },
    {
     "data": {
      "application/vnd.jupyter.widget-view+json": {
       "model_id": "61a6ab6cd7da47818db94988d4fec822",
       "version_major": 2,
       "version_minor": 0
      },
      "text/plain": [
       "Generating Training Pairs:   0%|          | 0/20 [00:00<?, ?it/s]"
      ]
     },
     "metadata": {},
     "output_type": "display_data"
    },
    {
     "name": "stderr",
     "output_type": "stream",
     "text": [
      "***** Running training *****\n",
      "  Num examples = 2360\n",
      "  Num epochs = 1\n",
      "  Total optimization steps = 148\n",
      "  Total train batch size = 16\n"
     ]
    },
    {
     "data": {
      "application/vnd.jupyter.widget-view+json": {
       "model_id": "e065dbd4bb484b49b8c6b8021a39edb3",
       "version_major": 2,
       "version_minor": 0
      },
      "text/plain": [
       "Epoch:   0%|          | 0/1 [00:00<?, ?it/s]"
      ]
     },
     "metadata": {},
     "output_type": "display_data"
    },
    {
     "data": {
      "application/vnd.jupyter.widget-view+json": {
       "model_id": "1a0ebb17365747bda8f80943582f4a8e",
       "version_major": 2,
       "version_minor": 0
      },
      "text/plain": [
       "Iteration:   0%|          | 0/148 [00:00<?, ?it/s]"
      ]
     },
     "metadata": {},
     "output_type": "display_data"
    },
    {
     "name": "stderr",
     "output_type": "stream",
     "text": [
      "***** Running evaluation *****\n",
      "/usr/local/lib/python3.11/dist-packages/sklearn/metrics/_classification.py:1469: UndefinedMetricWarning: Recall is ill-defined and being set to 0.0 in labels with no true samples. Use `zero_division` parameter to control this behavior.\n",
      "  _warn_prf(average, modifier, msg_start, len(result))\n",
      "[I 2024-05-26 18:13:57,955] Trial 9 finished with value: 0.626848691695108 and parameters: {'learning_rate': 7.496462286472794e-06}. Best is trial 2 with value: 0.6393629124004551.\n"
     ]
    },
    {
     "name": "stdout",
     "output_type": "stream",
     "text": [
      "+++++++++++ {'precision': 0.6296826817788285, 'recall': 0.626848691695108, 'f1': 0.6240745497877495, 'accuracy': 0.626848691695108}\n"
     ]
    }
   ],
   "source": [
    "trainer = CommitFitTrainer(\n",
    "    train_dataset=train_dataset,\n",
    "    train_code_change = train_code_change,\n",
    "    test_code_change = test_code_change,\n",
    "    eval_dataset=test_dataset,\n",
    "    model_init=model_init,\n",
    "    metric = compute_metrics,\n",
    "    num_iterations=20,\n",
    "    num_epochs=1\n",
    ")\n",
    "best_run = trainer.hyperparameter_search(direction=\"maximize\", hp_space=hp_space, compute_objective=my_compute_objective, n_trials=10)"
   ]
  },
  {
   "cell_type": "code",
   "execution_count": 18,
   "id": "ffc22a73-c0cc-42a5-95f1-0dd2fac75549",
   "metadata": {
    "execution": {
     "iopub.execute_input": "2024-05-26T10:13:57.962927Z",
     "iopub.status.busy": "2024-05-26T10:13:57.962031Z",
     "iopub.status.idle": "2024-05-26T10:13:57.971061Z",
     "shell.execute_reply": "2024-05-26T10:13:57.969722Z",
     "shell.execute_reply.started": "2024-05-26T10:13:57.962881Z"
    }
   },
   "outputs": [
    {
     "data": {
      "text/plain": [
       "BestRun(run_id='2', objective=0.6393629124004551, hyperparameters={'learning_rate': 2.408371287997499e-05}, backend=<optuna.study.study.Study object at 0x7f2f2881b6d0>)"
      ]
     },
     "execution_count": 18,
     "metadata": {},
     "output_type": "execute_result"
    }
   ],
   "source": [
    "best_run"
   ]
  },
  {
   "cell_type": "code",
   "execution_count": 19,
   "id": "40cfde46-c7d5-4446-8b53-7ad4dc8edb66",
   "metadata": {
    "execution": {
     "iopub.execute_input": "2024-05-26T10:13:57.972770Z",
     "iopub.status.busy": "2024-05-26T10:13:57.972313Z",
     "iopub.status.idle": "2024-05-26T10:13:57.981396Z",
     "shell.execute_reply": "2024-05-26T10:13:57.980124Z",
     "shell.execute_reply.started": "2024-05-26T10:13:57.972727Z"
    }
   },
   "outputs": [
    {
     "data": {
      "text/plain": [
       "{'learning_rate': 2.408371287997499e-05}"
      ]
     },
     "execution_count": 19,
     "metadata": {},
     "output_type": "execute_result"
    }
   ],
   "source": [
    "best_run.hyperparameters"
   ]
  },
  {
   "cell_type": "code",
   "execution_count": 20,
   "id": "ae735a8b-c672-4dce-822c-61330c34481b",
   "metadata": {
    "execution": {
     "iopub.execute_input": "2024-05-26T10:13:57.983196Z",
     "iopub.status.busy": "2024-05-26T10:13:57.982765Z",
     "iopub.status.idle": "2024-05-26T10:14:49.195598Z",
     "shell.execute_reply": "2024-05-26T10:14:49.194201Z",
     "shell.execute_reply.started": "2024-05-26T10:13:57.983154Z"
    }
   },
   "outputs": [
    {
     "name": "stderr",
     "output_type": "stream",
     "text": [
      "model_head.pkl not found in /CommitFit/sentence-transformers/all-roberta-large-v1, initialising classification head with random weights. You should TRAIN this model on a downstream task to use it for predictions and inference.\n"
     ]
    },
    {
     "data": {
      "application/vnd.jupyter.widget-view+json": {
       "model_id": "e95ba0a33ef94bfa8f893490062f8423",
       "version_major": 2,
       "version_minor": 0
      },
      "text/plain": [
       "Generating Training Pairs:   0%|          | 0/20 [00:00<?, ?it/s]"
      ]
     },
     "metadata": {},
     "output_type": "display_data"
    },
    {
     "name": "stderr",
     "output_type": "stream",
     "text": [
      "***** Running training *****\n",
      "  Num examples = 2360\n",
      "  Num epochs = 1\n",
      "  Total optimization steps = 148\n",
      "  Total train batch size = 16\n"
     ]
    },
    {
     "data": {
      "application/vnd.jupyter.widget-view+json": {
       "model_id": "6368f0ec1cb24939a377c69365804c81",
       "version_major": 2,
       "version_minor": 0
      },
      "text/plain": [
       "Epoch:   0%|          | 0/1 [00:00<?, ?it/s]"
      ]
     },
     "metadata": {},
     "output_type": "display_data"
    },
    {
     "data": {
      "application/vnd.jupyter.widget-view+json": {
       "model_id": "6bd609239f7047599d759f4df4dddb80",
       "version_major": 2,
       "version_minor": 0
      },
      "text/plain": [
       "Iteration:   0%|          | 0/148 [00:00<?, ?it/s]"
      ]
     },
     "metadata": {},
     "output_type": "display_data"
    }
   ],
   "source": [
    "trainer.apply_hyperparameters(best_run.hyperparameters, final_model=True)\n",
    "trainer.train()"
   ]
  },
  {
   "cell_type": "code",
   "execution_count": 21,
   "id": "166dcf9b-a0bd-4b60-854c-c6535c22a111",
   "metadata": {
    "execution": {
     "iopub.execute_input": "2024-05-26T10:14:49.197915Z",
     "iopub.status.busy": "2024-05-26T10:14:49.197354Z",
     "iopub.status.idle": "2024-05-26T10:14:52.063592Z",
     "shell.execute_reply": "2024-05-26T10:14:52.062244Z",
     "shell.execute_reply.started": "2024-05-26T10:14:49.197865Z"
    }
   },
   "outputs": [
    {
     "name": "stderr",
     "output_type": "stream",
     "text": [
      "***** Running evaluation *****\n"
     ]
    },
    {
     "data": {
      "text/plain": [
       "{'precision': 0.6282066116706273,\n",
       " 'recall': 0.6279863481228669,\n",
       " 'f1': 0.6255692005930272,\n",
       " 'accuracy': 0.6279863481228669}"
      ]
     },
     "execution_count": 21,
     "metadata": {},
     "output_type": "execute_result"
    }
   ],
   "source": [
    "fewshot_metrics = trainer.evaluate()\n",
    "fewshot_metrics"
   ]
  },
  {
   "cell_type": "code",
   "execution_count": null,
   "id": "af21aba7-66cd-4762-b5d4-6d27650bba7e",
   "metadata": {},
   "outputs": [],
   "source": []
  }
 ],
 "metadata": {
  "kernelspec": {
   "display_name": "Python 3 (ipykernel)",
   "language": "python",
   "name": "python3"
  },
  "language_info": {
   "codemirror_mode": {
    "name": "ipython",
    "version": 3
   },
   "file_extension": ".py",
   "mimetype": "text/x-python",
   "name": "python",
   "nbconvert_exporter": "python",
   "pygments_lexer": "ipython3",
   "version": "3.11.8"
  }
 },
 "nbformat": 4,
 "nbformat_minor": 5
}
