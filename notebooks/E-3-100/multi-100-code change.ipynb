{
 "cells": [
  {
   "cell_type": "code",
   "execution_count": 1,
   "id": "77d93e6a-106b-4abd-87e7-1243d4c51126",
   "metadata": {
    "execution": {
     "iopub.execute_input": "2025-08-26T02:36:29.340720Z",
     "iopub.status.busy": "2025-08-26T02:36:29.340169Z",
     "iopub.status.idle": "2025-08-26T02:36:32.357978Z",
     "shell.execute_reply": "2025-08-26T02:36:32.356994Z",
     "shell.execute_reply.started": "2025-08-26T02:36:29.340675Z"
    }
   },
   "outputs": [
    {
     "name": "stdout",
     "output_type": "stream",
     "text": [
      "\n",
      "root\n",
      "autodl-tmp\n",
      "CommitFit\n"
     ]
    }
   ],
   "source": [
    "# !pip install transformers accelerate\n",
    "# from transformers import AutoTokenizer, AutoModel, EarlyStoppingCallback, AutoModelForSequenceClassification, AutoConfig,Trainer, TrainingArguments,DataCollatorWithPadding\n",
    "import torch\n",
    "import numpy as np\n",
    "import pandas as pd\n",
    "# !pip install datasets\n",
    "from datasets import Dataset\n",
    "# %pip install evaluate\n",
    "import evaluate\n",
    "from sklearn.model_selection import train_test_split\n",
    "# from ipywidgets import FloatProgress\n",
    "import csv\n",
    "from optuna import Trial\n",
    "from typing import Dict, Union, Any\n",
    "import os\n",
    "import sys\n",
    "\n",
    "# notebook_login()\n",
    "\n",
    "csv.field_size_limit(500 * 1024 * 1024)\n",
    "CUDA_LAUNCH_BLOCKING=1\n",
    "# get pwd\n",
    "notebook_path = os.path.abspath('')\n",
    "\n",
    "# Find the part of the path that contains 'commitFit'\n",
    "commit_fit_path = None\n",
    "for part in notebook_path.split(os.sep):\n",
    "    print(part)\n",
    "    if 'CommitFit' in part:\n",
    "        commit_fit_path = notebook_path.split(part)[0] + part\n",
    "        break\n",
    "\n",
    "if commit_fit_path is None:\n",
    "    raise ValueError(\"Path containing 'commitFit' not found in notebook path.\")\n",
    "\n",
    "# Add commitFit directory to Python path, so we can import moudule from commitfit folder directly\n",
    "if commit_fit_path not in sys.path:\n",
    "    sys.path.append(commit_fit_path)\n",
    "\n",
    "from commitfit import CommitFitModel, CommitFitTrainer \n",
    "from commitfit import get_templated_dataset,sample_dataset"
   ]
  },
  {
   "cell_type": "code",
   "execution_count": 2,
   "id": "9ef5359f-9526-4d19-a2da-7988dc1ea04f",
   "metadata": {
    "execution": {
     "iopub.execute_input": "2025-08-26T02:36:32.359630Z",
     "iopub.status.busy": "2025-08-26T02:36:32.359297Z",
     "iopub.status.idle": "2025-08-26T02:36:32.683268Z",
     "shell.execute_reply": "2025-08-26T02:36:32.682310Z",
     "shell.execute_reply.started": "2025-08-26T02:36:32.359606Z"
    }
   },
   "outputs": [
    {
     "name": "stderr",
     "output_type": "stream",
     "text": [
      "/tmp/ipykernel_1892/1085588998.py:5: FutureWarning: Downcasting behavior in `replace` is deprecated and will be removed in a future version. To retain the old behavior, explicitly call `result.infer_objects(copy=False)`. To opt-in to the future behavior, set `pd.set_option('future.no_silent_downcasting', True)`\n",
      "  df = df.replace({\"label\": label2id})\n"
     ]
    },
    {
     "data": {
      "text/html": [
       "<div>\n",
       "<style scoped>\n",
       "    .dataframe tbody tr th:only-of-type {\n",
       "        vertical-align: middle;\n",
       "    }\n",
       "\n",
       "    .dataframe tbody tr th {\n",
       "        vertical-align: top;\n",
       "    }\n",
       "\n",
       "    .dataframe thead th {\n",
       "        text-align: right;\n",
       "    }\n",
       "</style>\n",
       "<table border=\"1\" class=\"dataframe\">\n",
       "  <thead>\n",
       "    <tr style=\"text-align: right;\">\n",
       "      <th></th>\n",
       "      <th>label</th>\n",
       "      <th>diffs</th>\n",
       "      <th>text</th>\n",
       "      <th>CODE_CHANGE_FILE</th>\n",
       "      <th>CODE_ADD_CODE_LINE</th>\n",
       "      <th>CODE_DEL_CODE_LINE</th>\n",
       "      <th>CODE_MOD_CODE_LINE</th>\n",
       "      <th>CODE_ADD_COMMENT_LINE</th>\n",
       "      <th>CODE_DEL_COMMENT_LINE</th>\n",
       "      <th>CODE_MOD_COMMENT_LINE</th>\n",
       "      <th>...</th>\n",
       "      <th>BUILD_DEL_LINE</th>\n",
       "      <th>BUILD_MOD_LINE</th>\n",
       "      <th>DOC_CHANGE_FILE</th>\n",
       "      <th>DOC_ADD_LINE</th>\n",
       "      <th>DOC_DEL_LINE</th>\n",
       "      <th>DOC_MOD_LINE</th>\n",
       "      <th>OTHER_CHANGE_FILE</th>\n",
       "      <th>OTHER_ADD_LINE</th>\n",
       "      <th>OTHER_DEL_LINE</th>\n",
       "      <th>OTHER_MOD_LINE</th>\n",
       "    </tr>\n",
       "    <tr>\n",
       "      <th>commit_sha</th>\n",
       "      <th></th>\n",
       "      <th></th>\n",
       "      <th></th>\n",
       "      <th></th>\n",
       "      <th></th>\n",
       "      <th></th>\n",
       "      <th></th>\n",
       "      <th></th>\n",
       "      <th></th>\n",
       "      <th></th>\n",
       "      <th></th>\n",
       "      <th></th>\n",
       "      <th></th>\n",
       "      <th></th>\n",
       "      <th></th>\n",
       "      <th></th>\n",
       "      <th></th>\n",
       "      <th></th>\n",
       "      <th></th>\n",
       "      <th></th>\n",
       "      <th></th>\n",
       "    </tr>\n",
       "  </thead>\n",
       "  <tbody>\n",
       "    <tr>\n",
       "      <th>be937a3290223f926fe50684f1344569a573ed4b</th>\n",
       "      <td>1</td>\n",
       "      <td>diff --git a/tensorflow/compiler/mlir/lite/fla...</td>\n",
       "      <td>Fixing per axis quantization bug in flatbuffer...</td>\n",
       "      <td>1</td>\n",
       "      <td>0</td>\n",
       "      <td>0</td>\n",
       "      <td>1</td>\n",
       "      <td>1</td>\n",
       "      <td>0</td>\n",
       "      <td>0</td>\n",
       "      <td>...</td>\n",
       "      <td>0</td>\n",
       "      <td>0</td>\n",
       "      <td>0</td>\n",
       "      <td>0</td>\n",
       "      <td>0</td>\n",
       "      <td>0</td>\n",
       "      <td>0</td>\n",
       "      <td>0</td>\n",
       "      <td>0</td>\n",
       "      <td>0</td>\n",
       "    </tr>\n",
       "    <tr>\n",
       "      <th>c800d2e36954edddcb83aa1df7f623f2780c7780</th>\n",
       "      <td>0</td>\n",
       "      <td>diff --git a/tensorflow/python/tools/saved_mod...</td>\n",
       "      <td>Add support for python expression as SavedMode...</td>\n",
       "      <td>0</td>\n",
       "      <td>0</td>\n",
       "      <td>0</td>\n",
       "      <td>0</td>\n",
       "      <td>0</td>\n",
       "      <td>0</td>\n",
       "      <td>0</td>\n",
       "      <td>...</td>\n",
       "      <td>0</td>\n",
       "      <td>0</td>\n",
       "      <td>0</td>\n",
       "      <td>0</td>\n",
       "      <td>0</td>\n",
       "      <td>0</td>\n",
       "      <td>0</td>\n",
       "      <td>0</td>\n",
       "      <td>0</td>\n",
       "      <td>0</td>\n",
       "    </tr>\n",
       "    <tr>\n",
       "      <th>469e56eeff17eb857c95e935ca7b49723c43470e</th>\n",
       "      <td>2</td>\n",
       "      <td>diff --git a/.github/ISSUE_TEMPLATE/00-bug-iss...</td>\n",
       "      <td>Fix GitHub issue templates. Actual fix for #36...</td>\n",
       "      <td>0</td>\n",
       "      <td>0</td>\n",
       "      <td>0</td>\n",
       "      <td>0</td>\n",
       "      <td>0</td>\n",
       "      <td>0</td>\n",
       "      <td>0</td>\n",
       "      <td>...</td>\n",
       "      <td>0</td>\n",
       "      <td>0</td>\n",
       "      <td>8</td>\n",
       "      <td>0</td>\n",
       "      <td>0</td>\n",
       "      <td>15</td>\n",
       "      <td>0</td>\n",
       "      <td>0</td>\n",
       "      <td>0</td>\n",
       "      <td>0</td>\n",
       "    </tr>\n",
       "    <tr>\n",
       "      <th>24f5d302c0906f3377f4d6bcc2735d943ce13e3d</th>\n",
       "      <td>0</td>\n",
       "      <td>diff --git a/tensorflow/compiler/xla/pjrt/dist...</td>\n",
       "      <td>Add new PjRT distributed APIs (KeyValueDelete,...</td>\n",
       "      <td>3</td>\n",
       "      <td>37</td>\n",
       "      <td>0</td>\n",
       "      <td>0</td>\n",
       "      <td>9</td>\n",
       "      <td>0</td>\n",
       "      <td>0</td>\n",
       "      <td>...</td>\n",
       "      <td>0</td>\n",
       "      <td>0</td>\n",
       "      <td>0</td>\n",
       "      <td>0</td>\n",
       "      <td>0</td>\n",
       "      <td>0</td>\n",
       "      <td>1</td>\n",
       "      <td>2</td>\n",
       "      <td>0</td>\n",
       "      <td>0</td>\n",
       "    </tr>\n",
       "    <tr>\n",
       "      <th>1effdb7b959503596b07f7f3e74618ab63f9e5e5</th>\n",
       "      <td>2</td>\n",
       "      <td>diff --git a/tensorflow/core/common_runtime/ea...</td>\n",
       "      <td>Remove IsLocalDevice() since it's no longer us...</td>\n",
       "      <td>1</td>\n",
       "      <td>0</td>\n",
       "      <td>12</td>\n",
       "      <td>0</td>\n",
       "      <td>0</td>\n",
       "      <td>1</td>\n",
       "      <td>0</td>\n",
       "      <td>...</td>\n",
       "      <td>0</td>\n",
       "      <td>0</td>\n",
       "      <td>0</td>\n",
       "      <td>0</td>\n",
       "      <td>0</td>\n",
       "      <td>0</td>\n",
       "      <td>0</td>\n",
       "      <td>0</td>\n",
       "      <td>0</td>\n",
       "      <td>0</td>\n",
       "    </tr>\n",
       "    <tr>\n",
       "      <th>...</th>\n",
       "      <td>...</td>\n",
       "      <td>...</td>\n",
       "      <td>...</td>\n",
       "      <td>...</td>\n",
       "      <td>...</td>\n",
       "      <td>...</td>\n",
       "      <td>...</td>\n",
       "      <td>...</td>\n",
       "      <td>...</td>\n",
       "      <td>...</td>\n",
       "      <td>...</td>\n",
       "      <td>...</td>\n",
       "      <td>...</td>\n",
       "      <td>...</td>\n",
       "      <td>...</td>\n",
       "      <td>...</td>\n",
       "      <td>...</td>\n",
       "      <td>...</td>\n",
       "      <td>...</td>\n",
       "      <td>...</td>\n",
       "      <td>...</td>\n",
       "    </tr>\n",
       "    <tr>\n",
       "      <th>e4bbfd537a63a52a6094491504fc7b0bb54bcb0e</th>\n",
       "      <td>1</td>\n",
       "      <td>diff --git a/drools-persistence-jpa/src/main/j...</td>\n",
       "      <td>fixing reflection constructor to use int inste...</td>\n",
       "      <td>1</td>\n",
       "      <td>0</td>\n",
       "      <td>0</td>\n",
       "      <td>1</td>\n",
       "      <td>0</td>\n",
       "      <td>0</td>\n",
       "      <td>0</td>\n",
       "      <td>...</td>\n",
       "      <td>0</td>\n",
       "      <td>0</td>\n",
       "      <td>0</td>\n",
       "      <td>0</td>\n",
       "      <td>0</td>\n",
       "      <td>0</td>\n",
       "      <td>0</td>\n",
       "      <td>0</td>\n",
       "      <td>0</td>\n",
       "      <td>0</td>\n",
       "    </tr>\n",
       "    <tr>\n",
       "      <th>75b81dcbd26a11d5b370ea5bdf102c2d62ebd0c3</th>\n",
       "      <td>1</td>\n",
       "      <td>diff --git a/drools-compiler/src/main/java/org...</td>\n",
       "      <td>Fix OutOfBoundException on- MemoryFileSystem.e...</td>\n",
       "      <td>2</td>\n",
       "      <td>6</td>\n",
       "      <td>2</td>\n",
       "      <td>3</td>\n",
       "      <td>0</td>\n",
       "      <td>0</td>\n",
       "      <td>0</td>\n",
       "      <td>...</td>\n",
       "      <td>0</td>\n",
       "      <td>0</td>\n",
       "      <td>0</td>\n",
       "      <td>0</td>\n",
       "      <td>0</td>\n",
       "      <td>0</td>\n",
       "      <td>0</td>\n",
       "      <td>0</td>\n",
       "      <td>0</td>\n",
       "      <td>0</td>\n",
       "    </tr>\n",
       "    <tr>\n",
       "      <th>6bc9677bbe919cd5bcadd8af2f5b0c838757a4ce</th>\n",
       "      <td>1</td>\n",
       "      <td>diff --git a/drools-core/src/main/java/org/dro...</td>\n",
       "      <td>[DROOLS-293] fix ObjectTypeNode id creation an...</td>\n",
       "      <td>1</td>\n",
       "      <td>1</td>\n",
       "      <td>5</td>\n",
       "      <td>13</td>\n",
       "      <td>0</td>\n",
       "      <td>0</td>\n",
       "      <td>0</td>\n",
       "      <td>...</td>\n",
       "      <td>0</td>\n",
       "      <td>0</td>\n",
       "      <td>0</td>\n",
       "      <td>0</td>\n",
       "      <td>0</td>\n",
       "      <td>0</td>\n",
       "      <td>0</td>\n",
       "      <td>0</td>\n",
       "      <td>0</td>\n",
       "      <td>0</td>\n",
       "    </tr>\n",
       "    <tr>\n",
       "      <th>48701edad8513b27acec7216581e64637157c86a</th>\n",
       "      <td>0</td>\n",
       "      <td>diff --git a/drools-core/src/main/java/org/dro...</td>\n",
       "      <td>DROOLS-515 Kie-Camel is broken after Camel Upd...</td>\n",
       "      <td>2</td>\n",
       "      <td>24</td>\n",
       "      <td>2</td>\n",
       "      <td>4</td>\n",
       "      <td>3</td>\n",
       "      <td>0</td>\n",
       "      <td>0</td>\n",
       "      <td>...</td>\n",
       "      <td>0</td>\n",
       "      <td>0</td>\n",
       "      <td>0</td>\n",
       "      <td>0</td>\n",
       "      <td>0</td>\n",
       "      <td>0</td>\n",
       "      <td>0</td>\n",
       "      <td>0</td>\n",
       "      <td>0</td>\n",
       "      <td>0</td>\n",
       "    </tr>\n",
       "    <tr>\n",
       "      <th>45529d30d41b8de338dfc2d26b61d1a79113c766</th>\n",
       "      <td>0</td>\n",
       "      <td>diff --git a/drools-compiler/src/test/java/org...</td>\n",
       "      <td>JBRULES-2934 Add NewRegisterWorkItemHandlerCom...</td>\n",
       "      <td>1</td>\n",
       "      <td>10</td>\n",
       "      <td>0</td>\n",
       "      <td>0</td>\n",
       "      <td>0</td>\n",
       "      <td>0</td>\n",
       "      <td>0</td>\n",
       "      <td>...</td>\n",
       "      <td>0</td>\n",
       "      <td>0</td>\n",
       "      <td>0</td>\n",
       "      <td>0</td>\n",
       "      <td>0</td>\n",
       "      <td>0</td>\n",
       "      <td>0</td>\n",
       "      <td>0</td>\n",
       "      <td>0</td>\n",
       "      <td>0</td>\n",
       "    </tr>\n",
       "  </tbody>\n",
       "</table>\n",
       "<p>1581 rows × 32 columns</p>\n",
       "</div>"
      ],
      "text/plain": [
       "                                          label  \\\n",
       "commit_sha                                        \n",
       "be937a3290223f926fe50684f1344569a573ed4b      1   \n",
       "c800d2e36954edddcb83aa1df7f623f2780c7780      0   \n",
       "469e56eeff17eb857c95e935ca7b49723c43470e      2   \n",
       "24f5d302c0906f3377f4d6bcc2735d943ce13e3d      0   \n",
       "1effdb7b959503596b07f7f3e74618ab63f9e5e5      2   \n",
       "...                                         ...   \n",
       "e4bbfd537a63a52a6094491504fc7b0bb54bcb0e      1   \n",
       "75b81dcbd26a11d5b370ea5bdf102c2d62ebd0c3      1   \n",
       "6bc9677bbe919cd5bcadd8af2f5b0c838757a4ce      1   \n",
       "48701edad8513b27acec7216581e64637157c86a      0   \n",
       "45529d30d41b8de338dfc2d26b61d1a79113c766      0   \n",
       "\n",
       "                                                                                      diffs  \\\n",
       "commit_sha                                                                                    \n",
       "be937a3290223f926fe50684f1344569a573ed4b  diff --git a/tensorflow/compiler/mlir/lite/fla...   \n",
       "c800d2e36954edddcb83aa1df7f623f2780c7780  diff --git a/tensorflow/python/tools/saved_mod...   \n",
       "469e56eeff17eb857c95e935ca7b49723c43470e  diff --git a/.github/ISSUE_TEMPLATE/00-bug-iss...   \n",
       "24f5d302c0906f3377f4d6bcc2735d943ce13e3d  diff --git a/tensorflow/compiler/xla/pjrt/dist...   \n",
       "1effdb7b959503596b07f7f3e74618ab63f9e5e5  diff --git a/tensorflow/core/common_runtime/ea...   \n",
       "...                                                                                     ...   \n",
       "e4bbfd537a63a52a6094491504fc7b0bb54bcb0e  diff --git a/drools-persistence-jpa/src/main/j...   \n",
       "75b81dcbd26a11d5b370ea5bdf102c2d62ebd0c3  diff --git a/drools-compiler/src/main/java/org...   \n",
       "6bc9677bbe919cd5bcadd8af2f5b0c838757a4ce  diff --git a/drools-core/src/main/java/org/dro...   \n",
       "48701edad8513b27acec7216581e64637157c86a  diff --git a/drools-core/src/main/java/org/dro...   \n",
       "45529d30d41b8de338dfc2d26b61d1a79113c766  diff --git a/drools-compiler/src/test/java/org...   \n",
       "\n",
       "                                                                                       text  \\\n",
       "commit_sha                                                                                    \n",
       "be937a3290223f926fe50684f1344569a573ed4b  Fixing per axis quantization bug in flatbuffer...   \n",
       "c800d2e36954edddcb83aa1df7f623f2780c7780  Add support for python expression as SavedMode...   \n",
       "469e56eeff17eb857c95e935ca7b49723c43470e  Fix GitHub issue templates. Actual fix for #36...   \n",
       "24f5d302c0906f3377f4d6bcc2735d943ce13e3d  Add new PjRT distributed APIs (KeyValueDelete,...   \n",
       "1effdb7b959503596b07f7f3e74618ab63f9e5e5  Remove IsLocalDevice() since it's no longer us...   \n",
       "...                                                                                     ...   \n",
       "e4bbfd537a63a52a6094491504fc7b0bb54bcb0e  fixing reflection constructor to use int inste...   \n",
       "75b81dcbd26a11d5b370ea5bdf102c2d62ebd0c3  Fix OutOfBoundException on- MemoryFileSystem.e...   \n",
       "6bc9677bbe919cd5bcadd8af2f5b0c838757a4ce  [DROOLS-293] fix ObjectTypeNode id creation an...   \n",
       "48701edad8513b27acec7216581e64637157c86a  DROOLS-515 Kie-Camel is broken after Camel Upd...   \n",
       "45529d30d41b8de338dfc2d26b61d1a79113c766  JBRULES-2934 Add NewRegisterWorkItemHandlerCom...   \n",
       "\n",
       "                                          CODE_CHANGE_FILE  \\\n",
       "commit_sha                                                   \n",
       "be937a3290223f926fe50684f1344569a573ed4b                 1   \n",
       "c800d2e36954edddcb83aa1df7f623f2780c7780                 0   \n",
       "469e56eeff17eb857c95e935ca7b49723c43470e                 0   \n",
       "24f5d302c0906f3377f4d6bcc2735d943ce13e3d                 3   \n",
       "1effdb7b959503596b07f7f3e74618ab63f9e5e5                 1   \n",
       "...                                                    ...   \n",
       "e4bbfd537a63a52a6094491504fc7b0bb54bcb0e                 1   \n",
       "75b81dcbd26a11d5b370ea5bdf102c2d62ebd0c3                 2   \n",
       "6bc9677bbe919cd5bcadd8af2f5b0c838757a4ce                 1   \n",
       "48701edad8513b27acec7216581e64637157c86a                 2   \n",
       "45529d30d41b8de338dfc2d26b61d1a79113c766                 1   \n",
       "\n",
       "                                          CODE_ADD_CODE_LINE  \\\n",
       "commit_sha                                                     \n",
       "be937a3290223f926fe50684f1344569a573ed4b                   0   \n",
       "c800d2e36954edddcb83aa1df7f623f2780c7780                   0   \n",
       "469e56eeff17eb857c95e935ca7b49723c43470e                   0   \n",
       "24f5d302c0906f3377f4d6bcc2735d943ce13e3d                  37   \n",
       "1effdb7b959503596b07f7f3e74618ab63f9e5e5                   0   \n",
       "...                                                      ...   \n",
       "e4bbfd537a63a52a6094491504fc7b0bb54bcb0e                   0   \n",
       "75b81dcbd26a11d5b370ea5bdf102c2d62ebd0c3                   6   \n",
       "6bc9677bbe919cd5bcadd8af2f5b0c838757a4ce                   1   \n",
       "48701edad8513b27acec7216581e64637157c86a                  24   \n",
       "45529d30d41b8de338dfc2d26b61d1a79113c766                  10   \n",
       "\n",
       "                                          CODE_DEL_CODE_LINE  \\\n",
       "commit_sha                                                     \n",
       "be937a3290223f926fe50684f1344569a573ed4b                   0   \n",
       "c800d2e36954edddcb83aa1df7f623f2780c7780                   0   \n",
       "469e56eeff17eb857c95e935ca7b49723c43470e                   0   \n",
       "24f5d302c0906f3377f4d6bcc2735d943ce13e3d                   0   \n",
       "1effdb7b959503596b07f7f3e74618ab63f9e5e5                  12   \n",
       "...                                                      ...   \n",
       "e4bbfd537a63a52a6094491504fc7b0bb54bcb0e                   0   \n",
       "75b81dcbd26a11d5b370ea5bdf102c2d62ebd0c3                   2   \n",
       "6bc9677bbe919cd5bcadd8af2f5b0c838757a4ce                   5   \n",
       "48701edad8513b27acec7216581e64637157c86a                   2   \n",
       "45529d30d41b8de338dfc2d26b61d1a79113c766                   0   \n",
       "\n",
       "                                          CODE_MOD_CODE_LINE  \\\n",
       "commit_sha                                                     \n",
       "be937a3290223f926fe50684f1344569a573ed4b                   1   \n",
       "c800d2e36954edddcb83aa1df7f623f2780c7780                   0   \n",
       "469e56eeff17eb857c95e935ca7b49723c43470e                   0   \n",
       "24f5d302c0906f3377f4d6bcc2735d943ce13e3d                   0   \n",
       "1effdb7b959503596b07f7f3e74618ab63f9e5e5                   0   \n",
       "...                                                      ...   \n",
       "e4bbfd537a63a52a6094491504fc7b0bb54bcb0e                   1   \n",
       "75b81dcbd26a11d5b370ea5bdf102c2d62ebd0c3                   3   \n",
       "6bc9677bbe919cd5bcadd8af2f5b0c838757a4ce                  13   \n",
       "48701edad8513b27acec7216581e64637157c86a                   4   \n",
       "45529d30d41b8de338dfc2d26b61d1a79113c766                   0   \n",
       "\n",
       "                                          CODE_ADD_COMMENT_LINE  \\\n",
       "commit_sha                                                        \n",
       "be937a3290223f926fe50684f1344569a573ed4b                      1   \n",
       "c800d2e36954edddcb83aa1df7f623f2780c7780                      0   \n",
       "469e56eeff17eb857c95e935ca7b49723c43470e                      0   \n",
       "24f5d302c0906f3377f4d6bcc2735d943ce13e3d                      9   \n",
       "1effdb7b959503596b07f7f3e74618ab63f9e5e5                      0   \n",
       "...                                                         ...   \n",
       "e4bbfd537a63a52a6094491504fc7b0bb54bcb0e                      0   \n",
       "75b81dcbd26a11d5b370ea5bdf102c2d62ebd0c3                      0   \n",
       "6bc9677bbe919cd5bcadd8af2f5b0c838757a4ce                      0   \n",
       "48701edad8513b27acec7216581e64637157c86a                      3   \n",
       "45529d30d41b8de338dfc2d26b61d1a79113c766                      0   \n",
       "\n",
       "                                          CODE_DEL_COMMENT_LINE  \\\n",
       "commit_sha                                                        \n",
       "be937a3290223f926fe50684f1344569a573ed4b                      0   \n",
       "c800d2e36954edddcb83aa1df7f623f2780c7780                      0   \n",
       "469e56eeff17eb857c95e935ca7b49723c43470e                      0   \n",
       "24f5d302c0906f3377f4d6bcc2735d943ce13e3d                      0   \n",
       "1effdb7b959503596b07f7f3e74618ab63f9e5e5                      1   \n",
       "...                                                         ...   \n",
       "e4bbfd537a63a52a6094491504fc7b0bb54bcb0e                      0   \n",
       "75b81dcbd26a11d5b370ea5bdf102c2d62ebd0c3                      0   \n",
       "6bc9677bbe919cd5bcadd8af2f5b0c838757a4ce                      0   \n",
       "48701edad8513b27acec7216581e64637157c86a                      0   \n",
       "45529d30d41b8de338dfc2d26b61d1a79113c766                      0   \n",
       "\n",
       "                                          CODE_MOD_COMMENT_LINE  ...  \\\n",
       "commit_sha                                                       ...   \n",
       "be937a3290223f926fe50684f1344569a573ed4b                      0  ...   \n",
       "c800d2e36954edddcb83aa1df7f623f2780c7780                      0  ...   \n",
       "469e56eeff17eb857c95e935ca7b49723c43470e                      0  ...   \n",
       "24f5d302c0906f3377f4d6bcc2735d943ce13e3d                      0  ...   \n",
       "1effdb7b959503596b07f7f3e74618ab63f9e5e5                      0  ...   \n",
       "...                                                         ...  ...   \n",
       "e4bbfd537a63a52a6094491504fc7b0bb54bcb0e                      0  ...   \n",
       "75b81dcbd26a11d5b370ea5bdf102c2d62ebd0c3                      0  ...   \n",
       "6bc9677bbe919cd5bcadd8af2f5b0c838757a4ce                      0  ...   \n",
       "48701edad8513b27acec7216581e64637157c86a                      0  ...   \n",
       "45529d30d41b8de338dfc2d26b61d1a79113c766                      0  ...   \n",
       "\n",
       "                                          BUILD_DEL_LINE  BUILD_MOD_LINE  \\\n",
       "commit_sha                                                                 \n",
       "be937a3290223f926fe50684f1344569a573ed4b               0               0   \n",
       "c800d2e36954edddcb83aa1df7f623f2780c7780               0               0   \n",
       "469e56eeff17eb857c95e935ca7b49723c43470e               0               0   \n",
       "24f5d302c0906f3377f4d6bcc2735d943ce13e3d               0               0   \n",
       "1effdb7b959503596b07f7f3e74618ab63f9e5e5               0               0   \n",
       "...                                                  ...             ...   \n",
       "e4bbfd537a63a52a6094491504fc7b0bb54bcb0e               0               0   \n",
       "75b81dcbd26a11d5b370ea5bdf102c2d62ebd0c3               0               0   \n",
       "6bc9677bbe919cd5bcadd8af2f5b0c838757a4ce               0               0   \n",
       "48701edad8513b27acec7216581e64637157c86a               0               0   \n",
       "45529d30d41b8de338dfc2d26b61d1a79113c766               0               0   \n",
       "\n",
       "                                          DOC_CHANGE_FILE  DOC_ADD_LINE  \\\n",
       "commit_sha                                                                \n",
       "be937a3290223f926fe50684f1344569a573ed4b                0             0   \n",
       "c800d2e36954edddcb83aa1df7f623f2780c7780                0             0   \n",
       "469e56eeff17eb857c95e935ca7b49723c43470e                8             0   \n",
       "24f5d302c0906f3377f4d6bcc2735d943ce13e3d                0             0   \n",
       "1effdb7b959503596b07f7f3e74618ab63f9e5e5                0             0   \n",
       "...                                                   ...           ...   \n",
       "e4bbfd537a63a52a6094491504fc7b0bb54bcb0e                0             0   \n",
       "75b81dcbd26a11d5b370ea5bdf102c2d62ebd0c3                0             0   \n",
       "6bc9677bbe919cd5bcadd8af2f5b0c838757a4ce                0             0   \n",
       "48701edad8513b27acec7216581e64637157c86a                0             0   \n",
       "45529d30d41b8de338dfc2d26b61d1a79113c766                0             0   \n",
       "\n",
       "                                          DOC_DEL_LINE  DOC_MOD_LINE  \\\n",
       "commit_sha                                                             \n",
       "be937a3290223f926fe50684f1344569a573ed4b             0             0   \n",
       "c800d2e36954edddcb83aa1df7f623f2780c7780             0             0   \n",
       "469e56eeff17eb857c95e935ca7b49723c43470e             0            15   \n",
       "24f5d302c0906f3377f4d6bcc2735d943ce13e3d             0             0   \n",
       "1effdb7b959503596b07f7f3e74618ab63f9e5e5             0             0   \n",
       "...                                                ...           ...   \n",
       "e4bbfd537a63a52a6094491504fc7b0bb54bcb0e             0             0   \n",
       "75b81dcbd26a11d5b370ea5bdf102c2d62ebd0c3             0             0   \n",
       "6bc9677bbe919cd5bcadd8af2f5b0c838757a4ce             0             0   \n",
       "48701edad8513b27acec7216581e64637157c86a             0             0   \n",
       "45529d30d41b8de338dfc2d26b61d1a79113c766             0             0   \n",
       "\n",
       "                                          OTHER_CHANGE_FILE  OTHER_ADD_LINE  \\\n",
       "commit_sha                                                                    \n",
       "be937a3290223f926fe50684f1344569a573ed4b                  0               0   \n",
       "c800d2e36954edddcb83aa1df7f623f2780c7780                  0               0   \n",
       "469e56eeff17eb857c95e935ca7b49723c43470e                  0               0   \n",
       "24f5d302c0906f3377f4d6bcc2735d943ce13e3d                  1               2   \n",
       "1effdb7b959503596b07f7f3e74618ab63f9e5e5                  0               0   \n",
       "...                                                     ...             ...   \n",
       "e4bbfd537a63a52a6094491504fc7b0bb54bcb0e                  0               0   \n",
       "75b81dcbd26a11d5b370ea5bdf102c2d62ebd0c3                  0               0   \n",
       "6bc9677bbe919cd5bcadd8af2f5b0c838757a4ce                  0               0   \n",
       "48701edad8513b27acec7216581e64637157c86a                  0               0   \n",
       "45529d30d41b8de338dfc2d26b61d1a79113c766                  0               0   \n",
       "\n",
       "                                          OTHER_DEL_LINE  OTHER_MOD_LINE  \n",
       "commit_sha                                                                \n",
       "be937a3290223f926fe50684f1344569a573ed4b               0               0  \n",
       "c800d2e36954edddcb83aa1df7f623f2780c7780               0               0  \n",
       "469e56eeff17eb857c95e935ca7b49723c43470e               0               0  \n",
       "24f5d302c0906f3377f4d6bcc2735d943ce13e3d               0               0  \n",
       "1effdb7b959503596b07f7f3e74618ab63f9e5e5               0               0  \n",
       "...                                                  ...             ...  \n",
       "e4bbfd537a63a52a6094491504fc7b0bb54bcb0e               0               0  \n",
       "75b81dcbd26a11d5b370ea5bdf102c2d62ebd0c3               0               0  \n",
       "6bc9677bbe919cd5bcadd8af2f5b0c838757a4ce               0               0  \n",
       "48701edad8513b27acec7216581e64637157c86a               0               0  \n",
       "45529d30d41b8de338dfc2d26b61d1a79113c766               0               0  \n",
       "\n",
       "[1581 rows x 32 columns]"
      ]
     },
     "execution_count": 2,
     "metadata": {},
     "output_type": "execute_result"
    }
   ],
   "source": [
    "df = pd.read_csv(r'/root/autodl-tmp/CommitFit/dataset/multi-lang-annotated/dataset.csv', index_col=0, encoding='utf_8_sig')\n",
    "df.fillna('', inplace=True)\n",
    "label2id={'A':0, 'C':1, 'P':2}\n",
    "df = df.rename(columns={'maintenance_type':'label','commit_message':'text','commit_diff':'diffs'})\n",
    "df = df.replace({\"label\": label2id})\n",
    "# # print(df)\n",
    "df\n",
    "# test_sample = df.sample(n=3, random_state=1)"
   ]
  },
  {
   "cell_type": "code",
   "execution_count": 3,
   "id": "26803da1-da52-48a7-8040-70914c05f2ea",
   "metadata": {
    "execution": {
     "iopub.execute_input": "2025-08-26T02:36:32.684377Z",
     "iopub.status.busy": "2025-08-26T02:36:32.684184Z",
     "iopub.status.idle": "2025-08-26T02:36:32.690292Z",
     "shell.execute_reply": "2025-08-26T02:36:32.689610Z",
     "shell.execute_reply.started": "2025-08-26T02:36:32.684355Z"
    }
   },
   "outputs": [],
   "source": [
    "train, temp_df = train_test_split(df, test_size=0.3, random_state=42)\n",
    "val_df, test = train_test_split(temp_df, test_size=0.5, random_state=42)"
   ]
  },
  {
   "cell_type": "code",
   "execution_count": 4,
   "id": "8832a7a5-8f6d-4871-a732-bf25dc1aed25",
   "metadata": {
    "execution": {
     "iopub.execute_input": "2025-08-26T02:36:32.691177Z",
     "iopub.status.busy": "2025-08-26T02:36:32.690989Z",
     "iopub.status.idle": "2025-08-26T02:36:32.698057Z",
     "shell.execute_reply": "2025-08-26T02:36:32.697344Z",
     "shell.execute_reply.started": "2025-08-26T02:36:32.691156Z"
    }
   },
   "outputs": [
    {
     "name": "stderr",
     "output_type": "stream",
     "text": [
      "/tmp/ipykernel_1892/3383751954.py:1: DeprecationWarning: DataFrameGroupBy.apply operated on the grouping columns. This behavior is deprecated, and in a future version of pandas the grouping columns will be excluded from the operation. Either pass `include_groups=False` to exclude the groupings or explicitly select the grouping columns after groupby to silence this warning.\n",
      "  train = train.groupby(\"label\", group_keys=False).apply(lambda x: x.sample(n=100, random_state=42))\n"
     ]
    }
   ],
   "source": [
    "train = train.groupby(\"label\", group_keys=False).apply(lambda x: x.sample(n=100, random_state=42))"
   ]
  },
  {
   "cell_type": "code",
   "execution_count": 5,
   "id": "2e214dbb-075e-4fbf-adc9-f3533801587e",
   "metadata": {
    "execution": {
     "iopub.execute_input": "2025-08-26T02:36:32.700050Z",
     "iopub.status.busy": "2025-08-26T02:36:32.699743Z",
     "iopub.status.idle": "2025-08-26T02:36:32.854704Z",
     "shell.execute_reply": "2025-08-26T02:36:32.853678Z",
     "shell.execute_reply.started": "2025-08-26T02:36:32.700028Z"
    }
   },
   "outputs": [],
   "source": [
    "Dataset_train = Dataset.from_pandas(train)\n",
    "test_dataset = Dataset.from_pandas(test)"
   ]
  },
  {
   "cell_type": "code",
   "execution_count": 6,
   "id": "1a8ec7ec-1112-4140-8ccd-516ba9a1b1a8",
   "metadata": {
    "execution": {
     "iopub.execute_input": "2025-08-26T02:36:32.856000Z",
     "iopub.status.busy": "2025-08-26T02:36:32.855798Z",
     "iopub.status.idle": "2025-08-26T02:36:32.979692Z",
     "shell.execute_reply": "2025-08-26T02:36:32.978660Z",
     "shell.execute_reply.started": "2025-08-26T02:36:32.855977Z"
    }
   },
   "outputs": [],
   "source": [
    "train_dataset = get_templated_dataset(Dataset_train, candidate_labels=['Corrective','Adaptive','Perfective'], sample_size=8)"
   ]
  },
  {
   "cell_type": "code",
   "execution_count": 7,
   "id": "6af4102b-39bc-4b20-ab32-43800fb572bf",
   "metadata": {
    "execution": {
     "iopub.execute_input": "2025-08-26T02:36:32.980951Z",
     "iopub.status.busy": "2025-08-26T02:36:32.980761Z",
     "iopub.status.idle": "2025-08-26T02:36:32.985140Z",
     "shell.execute_reply": "2025-08-26T02:36:32.984321Z",
     "shell.execute_reply.started": "2025-08-26T02:36:32.980929Z"
    }
   },
   "outputs": [],
   "source": [
    "train_code_change = list(train['diffs'].astype(str))\n",
    "test_code_change = list(test['diffs'].astype(str))"
   ]
  },
  {
   "cell_type": "code",
   "execution_count": 8,
   "id": "c5ea76cd-69e5-4aa8-bf49-c9e746b63bbb",
   "metadata": {
    "execution": {
     "iopub.execute_input": "2025-08-26T02:36:32.986064Z",
     "iopub.status.busy": "2025-08-26T02:36:32.985883Z",
     "iopub.status.idle": "2025-08-26T02:36:32.990582Z",
     "shell.execute_reply": "2025-08-26T02:36:32.989948Z",
     "shell.execute_reply.started": "2025-08-26T02:36:32.986043Z"
    }
   },
   "outputs": [
    {
     "data": {
      "text/plain": [
       "Dataset({\n",
       "    features: ['label', 'diffs', 'text', 'CODE_CHANGE_FILE', 'CODE_ADD_CODE_LINE', 'CODE_DEL_CODE_LINE', 'CODE_MOD_CODE_LINE', 'CODE_ADD_COMMENT_LINE', 'CODE_DEL_COMMENT_LINE', 'CODE_MOD_COMMENT_LINE', 'TEST_CHANGE_FILE', 'TEST_ADD_CODE_LINE', 'TEST_DEL_CODE_LINE', 'TEST_MOD_CODE_LINE', 'TEST_ADD_COMMENT_LINE', 'TEST_DEL_COMMENT_LINE', 'TEST_MOD_COMMENT_LINE', 'TEST_ADD_OTHER_LINE', 'TEST_DEL_OTHER_LINE', 'TEST_MOD_OTHER_LINE', 'BUILD_CHANGE_FILE', 'BUILD_ADD_LINE', 'BUILD_DEL_LINE', 'BUILD_MOD_LINE', 'DOC_CHANGE_FILE', 'DOC_ADD_LINE', 'DOC_DEL_LINE', 'DOC_MOD_LINE', 'OTHER_CHANGE_FILE', 'OTHER_ADD_LINE', 'OTHER_DEL_LINE', 'OTHER_MOD_LINE', 'commit_sha'],\n",
       "    num_rows: 324\n",
       "})"
      ]
     },
     "execution_count": 8,
     "metadata": {},
     "output_type": "execute_result"
    }
   ],
   "source": [
    "# list(train['message'].astype(str).values)\n",
    "train_dataset"
   ]
  },
  {
   "cell_type": "code",
   "execution_count": 9,
   "id": "ee30affe-0ec9-46a3-bcaa-a1bd9422c939",
   "metadata": {
    "execution": {
     "iopub.execute_input": "2025-08-26T02:36:32.991683Z",
     "iopub.status.busy": "2025-08-26T02:36:32.991345Z",
     "iopub.status.idle": "2025-08-26T02:36:32.995724Z",
     "shell.execute_reply": "2025-08-26T02:36:32.995087Z",
     "shell.execute_reply.started": "2025-08-26T02:36:32.991662Z"
    }
   },
   "outputs": [
    {
     "data": {
      "text/plain": [
       "300"
      ]
     },
     "execution_count": 9,
     "metadata": {},
     "output_type": "execute_result"
    }
   ],
   "source": [
    "len(train)"
   ]
  },
  {
   "cell_type": "code",
   "execution_count": 10,
   "id": "84e38639-cf4b-4762-a1dc-cdc983938388",
   "metadata": {
    "execution": {
     "iopub.execute_input": "2025-08-26T02:36:32.996998Z",
     "iopub.status.busy": "2025-08-26T02:36:32.996460Z",
     "iopub.status.idle": "2025-08-26T02:36:33.002168Z",
     "shell.execute_reply": "2025-08-26T02:36:33.001526Z",
     "shell.execute_reply.started": "2025-08-26T02:36:32.996976Z"
    }
   },
   "outputs": [
    {
     "data": {
      "text/plain": [
       "label\n",
       "0    100\n",
       "1    100\n",
       "2    100\n",
       "Name: count, dtype: int64"
      ]
     },
     "execution_count": 10,
     "metadata": {},
     "output_type": "execute_result"
    }
   ],
   "source": [
    "train['label'].value_counts()"
   ]
  },
  {
   "cell_type": "code",
   "execution_count": 11,
   "id": "3cf6c110-616d-45da-aa2e-4a5add26b3c0",
   "metadata": {
    "execution": {
     "iopub.execute_input": "2025-08-26T02:36:33.003034Z",
     "iopub.status.busy": "2025-08-26T02:36:33.002862Z",
     "iopub.status.idle": "2025-08-26T02:36:33.008359Z",
     "shell.execute_reply": "2025-08-26T02:36:33.007718Z",
     "shell.execute_reply.started": "2025-08-26T02:36:33.003014Z"
    }
   },
   "outputs": [
    {
     "data": {
      "text/plain": [
       "label\n",
       "2    155\n",
       "1     51\n",
       "0     32\n",
       "Name: count, dtype: int64"
      ]
     },
     "execution_count": 11,
     "metadata": {},
     "output_type": "execute_result"
    }
   ],
   "source": [
    "test['label'].value_counts()"
   ]
  },
  {
   "cell_type": "code",
   "execution_count": 12,
   "id": "77117d87-5292-48f5-b077-74b47ccfd5eb",
   "metadata": {
    "execution": {
     "iopub.execute_input": "2025-08-26T02:36:33.009203Z",
     "iopub.status.busy": "2025-08-26T02:36:33.009030Z",
     "iopub.status.idle": "2025-08-26T02:36:33.013628Z",
     "shell.execute_reply": "2025-08-26T02:36:33.012992Z",
     "shell.execute_reply.started": "2025-08-26T02:36:33.009183Z"
    }
   },
   "outputs": [
    {
     "data": {
      "text/plain": [
       "324"
      ]
     },
     "execution_count": 12,
     "metadata": {},
     "output_type": "execute_result"
    }
   ],
   "source": [
    "len(train_dataset)"
   ]
  },
  {
   "cell_type": "code",
   "execution_count": 13,
   "id": "dca6275a-a567-4963-831c-8dd653341162",
   "metadata": {
    "execution": {
     "iopub.execute_input": "2025-08-26T02:36:33.014913Z",
     "iopub.status.busy": "2025-08-26T02:36:33.014369Z",
     "iopub.status.idle": "2025-08-26T02:36:33.019073Z",
     "shell.execute_reply": "2025-08-26T02:36:33.018402Z",
     "shell.execute_reply.started": "2025-08-26T02:36:33.014892Z"
    }
   },
   "outputs": [],
   "source": [
    "from sklearn import  metrics\n",
    "\n",
    "def compute_metrics(y_pred, y_test):\n",
    "    # print(y_pred,y_test)\n",
    "    # classification_report = metrics.classification_report(y_test,y_pred)\n",
    "    accuracy_score = metrics.accuracy_score(y_test,y_pred)\n",
    "    precision_score = metrics.precision_score(y_test,y_pred, average='weighted')\n",
    "    recall_score = metrics.recall_score(y_test,y_pred,average='weighted')\n",
    "    f1_score = metrics.f1_score(y_test,y_pred,average='weighted')\n",
    "\n",
    "    # return {\"classification_report\": classification_report}\n",
    "    return {\"precision\": round(precision_score, 4),\"recall\": round(recall_score, 4), \"f1\":round(f1_score, 4), \"accuracy\": round(accuracy_score, 4)}"
   ]
  },
  {
   "cell_type": "code",
   "execution_count": 14,
   "id": "49e32d66-2fc2-4a53-bae1-13f8d67c5b6f",
   "metadata": {
    "execution": {
     "iopub.execute_input": "2025-08-26T02:36:33.021740Z",
     "iopub.status.busy": "2025-08-26T02:36:33.021443Z",
     "iopub.status.idle": "2025-08-26T02:36:33.026137Z",
     "shell.execute_reply": "2025-08-26T02:36:33.025504Z",
     "shell.execute_reply.started": "2025-08-26T02:36:33.021719Z"
    }
   },
   "outputs": [
    {
     "data": {
      "text/plain": [
       "Dataset({\n",
       "    features: ['label', 'diffs', 'text', 'CODE_CHANGE_FILE', 'CODE_ADD_CODE_LINE', 'CODE_DEL_CODE_LINE', 'CODE_MOD_CODE_LINE', 'CODE_ADD_COMMENT_LINE', 'CODE_DEL_COMMENT_LINE', 'CODE_MOD_COMMENT_LINE', 'TEST_CHANGE_FILE', 'TEST_ADD_CODE_LINE', 'TEST_DEL_CODE_LINE', 'TEST_MOD_CODE_LINE', 'TEST_ADD_COMMENT_LINE', 'TEST_DEL_COMMENT_LINE', 'TEST_MOD_COMMENT_LINE', 'TEST_ADD_OTHER_LINE', 'TEST_DEL_OTHER_LINE', 'TEST_MOD_OTHER_LINE', 'BUILD_CHANGE_FILE', 'BUILD_ADD_LINE', 'BUILD_DEL_LINE', 'BUILD_MOD_LINE', 'DOC_CHANGE_FILE', 'DOC_ADD_LINE', 'DOC_DEL_LINE', 'DOC_MOD_LINE', 'OTHER_CHANGE_FILE', 'OTHER_ADD_LINE', 'OTHER_DEL_LINE', 'OTHER_MOD_LINE', 'commit_sha'],\n",
       "    num_rows: 324\n",
       "})"
      ]
     },
     "execution_count": 14,
     "metadata": {},
     "output_type": "execute_result"
    }
   ],
   "source": [
    "train_dataset"
   ]
  },
  {
   "cell_type": "code",
   "execution_count": 15,
   "id": "b7c52074-c55f-4218-bc87-cdbc6e36a993",
   "metadata": {
    "execution": {
     "iopub.execute_input": "2025-08-26T02:36:33.027329Z",
     "iopub.status.busy": "2025-08-26T02:36:33.026902Z",
     "iopub.status.idle": "2025-08-26T02:36:33.042521Z",
     "shell.execute_reply": "2025-08-26T02:36:33.041855Z",
     "shell.execute_reply.started": "2025-08-26T02:36:33.027309Z"
    }
   },
   "outputs": [
    {
     "data": {
      "text/html": [
       "<div>\n",
       "<style scoped>\n",
       "    .dataframe tbody tr th:only-of-type {\n",
       "        vertical-align: middle;\n",
       "    }\n",
       "\n",
       "    .dataframe tbody tr th {\n",
       "        vertical-align: top;\n",
       "    }\n",
       "\n",
       "    .dataframe thead th {\n",
       "        text-align: right;\n",
       "    }\n",
       "</style>\n",
       "<table border=\"1\" class=\"dataframe\">\n",
       "  <thead>\n",
       "    <tr style=\"text-align: right;\">\n",
       "      <th></th>\n",
       "      <th>label</th>\n",
       "      <th>diffs</th>\n",
       "      <th>text</th>\n",
       "      <th>CODE_CHANGE_FILE</th>\n",
       "      <th>CODE_ADD_CODE_LINE</th>\n",
       "      <th>CODE_DEL_CODE_LINE</th>\n",
       "      <th>CODE_MOD_CODE_LINE</th>\n",
       "      <th>CODE_ADD_COMMENT_LINE</th>\n",
       "      <th>CODE_DEL_COMMENT_LINE</th>\n",
       "      <th>CODE_MOD_COMMENT_LINE</th>\n",
       "      <th>...</th>\n",
       "      <th>BUILD_DEL_LINE</th>\n",
       "      <th>BUILD_MOD_LINE</th>\n",
       "      <th>DOC_CHANGE_FILE</th>\n",
       "      <th>DOC_ADD_LINE</th>\n",
       "      <th>DOC_DEL_LINE</th>\n",
       "      <th>DOC_MOD_LINE</th>\n",
       "      <th>OTHER_CHANGE_FILE</th>\n",
       "      <th>OTHER_ADD_LINE</th>\n",
       "      <th>OTHER_DEL_LINE</th>\n",
       "      <th>OTHER_MOD_LINE</th>\n",
       "    </tr>\n",
       "    <tr>\n",
       "      <th>commit_sha</th>\n",
       "      <th></th>\n",
       "      <th></th>\n",
       "      <th></th>\n",
       "      <th></th>\n",
       "      <th></th>\n",
       "      <th></th>\n",
       "      <th></th>\n",
       "      <th></th>\n",
       "      <th></th>\n",
       "      <th></th>\n",
       "      <th></th>\n",
       "      <th></th>\n",
       "      <th></th>\n",
       "      <th></th>\n",
       "      <th></th>\n",
       "      <th></th>\n",
       "      <th></th>\n",
       "      <th></th>\n",
       "      <th></th>\n",
       "      <th></th>\n",
       "      <th></th>\n",
       "    </tr>\n",
       "  </thead>\n",
       "  <tbody>\n",
       "    <tr>\n",
       "      <th>ed09b4ea6a17566b546a9d3ae76876636710c6a0</th>\n",
       "      <td>0</td>\n",
       "      <td>diff --git a/common/net/json/host.go b/common/...</td>\n",
       "      <td>support domain as host in VMess outbound confi...</td>\n",
       "      <td>3</td>\n",
       "      <td>49</td>\n",
       "      <td>2</td>\n",
       "      <td>8</td>\n",
       "      <td>0</td>\n",
       "      <td>0</td>\n",
       "      <td>0</td>\n",
       "      <td>...</td>\n",
       "      <td>0</td>\n",
       "      <td>0</td>\n",
       "      <td>0</td>\n",
       "      <td>0</td>\n",
       "      <td>0</td>\n",
       "      <td>0</td>\n",
       "      <td>0</td>\n",
       "      <td>0</td>\n",
       "      <td>0</td>\n",
       "      <td>0</td>\n",
       "    </tr>\n",
       "    <tr>\n",
       "      <th>e67010b5e2eaa5a5ddb756d7ddc2dd0194f09a0a</th>\n",
       "      <td>0</td>\n",
       "      <td>diff --git a/cli/file_fetcher.rs b/cli/file_fe...</td>\n",
       "      <td>feat(cli/compile): Support data uri dynamic im...</td>\n",
       "      <td>2</td>\n",
       "      <td>25</td>\n",
       "      <td>1</td>\n",
       "      <td>7</td>\n",
       "      <td>0</td>\n",
       "      <td>0</td>\n",
       "      <td>0</td>\n",
       "      <td>...</td>\n",
       "      <td>0</td>\n",
       "      <td>0</td>\n",
       "      <td>0</td>\n",
       "      <td>0</td>\n",
       "      <td>0</td>\n",
       "      <td>0</td>\n",
       "      <td>0</td>\n",
       "      <td>0</td>\n",
       "      <td>0</td>\n",
       "      <td>0</td>\n",
       "    </tr>\n",
       "    <tr>\n",
       "      <th>74066765bb8ca85864f75bde6091f96207f988cf</th>\n",
       "      <td>0</td>\n",
       "      <td>diff --git a/src/main/java/org/apache/hadoop/h...</td>\n",
       "      <td>HBASE-2889 Tool to look at HLogs -- parse and-...</td>\n",
       "      <td>1</td>\n",
       "      <td>0</td>\n",
       "      <td>0</td>\n",
       "      <td>1</td>\n",
       "      <td>0</td>\n",
       "      <td>0</td>\n",
       "      <td>0</td>\n",
       "      <td>...</td>\n",
       "      <td>0</td>\n",
       "      <td>0</td>\n",
       "      <td>0</td>\n",
       "      <td>0</td>\n",
       "      <td>0</td>\n",
       "      <td>0</td>\n",
       "      <td>0</td>\n",
       "      <td>0</td>\n",
       "      <td>0</td>\n",
       "      <td>0</td>\n",
       "    </tr>\n",
       "    <tr>\n",
       "      <th>8d9e4345207013c55a8719995ec4ad4e9be466f2</th>\n",
       "      <td>0</td>\n",
       "      <td>diff --git a/truststore_nss.go b/truststore_ns...</td>\n",
       "      <td>truststore_nss: support multiple NSS databases...</td>\n",
       "      <td>1</td>\n",
       "      <td>9</td>\n",
       "      <td>6</td>\n",
       "      <td>6</td>\n",
       "      <td>0</td>\n",
       "      <td>0</td>\n",
       "      <td>0</td>\n",
       "      <td>...</td>\n",
       "      <td>0</td>\n",
       "      <td>0</td>\n",
       "      <td>0</td>\n",
       "      <td>0</td>\n",
       "      <td>0</td>\n",
       "      <td>0</td>\n",
       "      <td>0</td>\n",
       "      <td>0</td>\n",
       "      <td>0</td>\n",
       "      <td>0</td>\n",
       "    </tr>\n",
       "    <tr>\n",
       "      <th>145c46ff3630e55b6c50ff479f54661ef54124bd</th>\n",
       "      <td>0</td>\n",
       "      <td>diff --git a/lib/dependencies/DelegatedExports...</td>\n",
       "      <td>feat(DelegatedExportsDependency): make seriali...</td>\n",
       "      <td>1</td>\n",
       "      <td>15</td>\n",
       "      <td>0</td>\n",
       "      <td>0</td>\n",
       "      <td>0</td>\n",
       "      <td>0</td>\n",
       "      <td>0</td>\n",
       "      <td>...</td>\n",
       "      <td>0</td>\n",
       "      <td>0</td>\n",
       "      <td>0</td>\n",
       "      <td>0</td>\n",
       "      <td>0</td>\n",
       "      <td>0</td>\n",
       "      <td>0</td>\n",
       "      <td>0</td>\n",
       "      <td>0</td>\n",
       "      <td>0</td>\n",
       "    </tr>\n",
       "    <tr>\n",
       "      <th>...</th>\n",
       "      <td>...</td>\n",
       "      <td>...</td>\n",
       "      <td>...</td>\n",
       "      <td>...</td>\n",
       "      <td>...</td>\n",
       "      <td>...</td>\n",
       "      <td>...</td>\n",
       "      <td>...</td>\n",
       "      <td>...</td>\n",
       "      <td>...</td>\n",
       "      <td>...</td>\n",
       "      <td>...</td>\n",
       "      <td>...</td>\n",
       "      <td>...</td>\n",
       "      <td>...</td>\n",
       "      <td>...</td>\n",
       "      <td>...</td>\n",
       "      <td>...</td>\n",
       "      <td>...</td>\n",
       "      <td>...</td>\n",
       "      <td>...</td>\n",
       "    </tr>\n",
       "    <tr>\n",
       "      <th>0a5ea32ce605984094c5552877cb99bc81654f2c</th>\n",
       "      <td>2</td>\n",
       "      <td>diff --git a/src/rpc/rawtransaction.cpp b/src/...</td>\n",
       "      <td>Prefer explicit uint160 conversion\\n\\n</td>\n",
       "      <td>3</td>\n",
       "      <td>0</td>\n",
       "      <td>4</td>\n",
       "      <td>2</td>\n",
       "      <td>0</td>\n",
       "      <td>0</td>\n",
       "      <td>0</td>\n",
       "      <td>...</td>\n",
       "      <td>0</td>\n",
       "      <td>0</td>\n",
       "      <td>0</td>\n",
       "      <td>0</td>\n",
       "      <td>0</td>\n",
       "      <td>0</td>\n",
       "      <td>0</td>\n",
       "      <td>0</td>\n",
       "      <td>0</td>\n",
       "      <td>0</td>\n",
       "    </tr>\n",
       "    <tr>\n",
       "      <th>d59afd4a8c2ab79d60c41194bab8e967f69e9ae3</th>\n",
       "      <td>2</td>\n",
       "      <td>diff --git a/README.md b/README.md\\nindex f1fa...</td>\n",
       "      <td>Update README.md\\n</td>\n",
       "      <td>0</td>\n",
       "      <td>0</td>\n",
       "      <td>0</td>\n",
       "      <td>0</td>\n",
       "      <td>0</td>\n",
       "      <td>0</td>\n",
       "      <td>0</td>\n",
       "      <td>...</td>\n",
       "      <td>0</td>\n",
       "      <td>0</td>\n",
       "      <td>1</td>\n",
       "      <td>1</td>\n",
       "      <td>0</td>\n",
       "      <td>2</td>\n",
       "      <td>0</td>\n",
       "      <td>0</td>\n",
       "      <td>0</td>\n",
       "      <td>0</td>\n",
       "    </tr>\n",
       "    <tr>\n",
       "      <th>615948c73fd9eca56fe7672a77b5b4acd04f5411</th>\n",
       "      <td>2</td>\n",
       "      <td>diff --git a/deployment/chart/templates/deploy...</td>\n",
       "      <td>refs #914: Fix identation for args and vars\\n\\n</td>\n",
       "      <td>0</td>\n",
       "      <td>0</td>\n",
       "      <td>0</td>\n",
       "      <td>0</td>\n",
       "      <td>0</td>\n",
       "      <td>0</td>\n",
       "      <td>0</td>\n",
       "      <td>...</td>\n",
       "      <td>3</td>\n",
       "      <td>1</td>\n",
       "      <td>0</td>\n",
       "      <td>0</td>\n",
       "      <td>0</td>\n",
       "      <td>0</td>\n",
       "      <td>0</td>\n",
       "      <td>0</td>\n",
       "      <td>0</td>\n",
       "      <td>0</td>\n",
       "    </tr>\n",
       "    <tr>\n",
       "      <th>17c41689e37757cb03014db1f9bc75e46be95ed6</th>\n",
       "      <td>2</td>\n",
       "      <td>diff --git a/Readme.md b/Readme.md\\nindex a36f...</td>\n",
       "      <td>Added Gareth to contrib list\\n\\n</td>\n",
       "      <td>0</td>\n",
       "      <td>0</td>\n",
       "      <td>0</td>\n",
       "      <td>0</td>\n",
       "      <td>0</td>\n",
       "      <td>0</td>\n",
       "      <td>0</td>\n",
       "      <td>...</td>\n",
       "      <td>0</td>\n",
       "      <td>0</td>\n",
       "      <td>1</td>\n",
       "      <td>1</td>\n",
       "      <td>0</td>\n",
       "      <td>0</td>\n",
       "      <td>0</td>\n",
       "      <td>0</td>\n",
       "      <td>0</td>\n",
       "      <td>0</td>\n",
       "    </tr>\n",
       "    <tr>\n",
       "      <th>07f31b3b1776a24532c7fe0dc35462f9589a9bd5</th>\n",
       "      <td>2</td>\n",
       "      <td>diff --git a/test/e2e/ui/BUILD b/test/e2e/ui/B...</td>\n",
       "      <td>test/e2e/ui and test/e2e/upgrades:Use e2eskipp...</td>\n",
       "      <td>0</td>\n",
       "      <td>0</td>\n",
       "      <td>0</td>\n",
       "      <td>0</td>\n",
       "      <td>0</td>\n",
       "      <td>0</td>\n",
       "      <td>0</td>\n",
       "      <td>...</td>\n",
       "      <td>0</td>\n",
       "      <td>0</td>\n",
       "      <td>0</td>\n",
       "      <td>0</td>\n",
       "      <td>0</td>\n",
       "      <td>0</td>\n",
       "      <td>0</td>\n",
       "      <td>0</td>\n",
       "      <td>0</td>\n",
       "      <td>0</td>\n",
       "    </tr>\n",
       "  </tbody>\n",
       "</table>\n",
       "<p>300 rows × 32 columns</p>\n",
       "</div>"
      ],
      "text/plain": [
       "                                          label  \\\n",
       "commit_sha                                        \n",
       "ed09b4ea6a17566b546a9d3ae76876636710c6a0      0   \n",
       "e67010b5e2eaa5a5ddb756d7ddc2dd0194f09a0a      0   \n",
       "74066765bb8ca85864f75bde6091f96207f988cf      0   \n",
       "8d9e4345207013c55a8719995ec4ad4e9be466f2      0   \n",
       "145c46ff3630e55b6c50ff479f54661ef54124bd      0   \n",
       "...                                         ...   \n",
       "0a5ea32ce605984094c5552877cb99bc81654f2c      2   \n",
       "d59afd4a8c2ab79d60c41194bab8e967f69e9ae3      2   \n",
       "615948c73fd9eca56fe7672a77b5b4acd04f5411      2   \n",
       "17c41689e37757cb03014db1f9bc75e46be95ed6      2   \n",
       "07f31b3b1776a24532c7fe0dc35462f9589a9bd5      2   \n",
       "\n",
       "                                                                                      diffs  \\\n",
       "commit_sha                                                                                    \n",
       "ed09b4ea6a17566b546a9d3ae76876636710c6a0  diff --git a/common/net/json/host.go b/common/...   \n",
       "e67010b5e2eaa5a5ddb756d7ddc2dd0194f09a0a  diff --git a/cli/file_fetcher.rs b/cli/file_fe...   \n",
       "74066765bb8ca85864f75bde6091f96207f988cf  diff --git a/src/main/java/org/apache/hadoop/h...   \n",
       "8d9e4345207013c55a8719995ec4ad4e9be466f2  diff --git a/truststore_nss.go b/truststore_ns...   \n",
       "145c46ff3630e55b6c50ff479f54661ef54124bd  diff --git a/lib/dependencies/DelegatedExports...   \n",
       "...                                                                                     ...   \n",
       "0a5ea32ce605984094c5552877cb99bc81654f2c  diff --git a/src/rpc/rawtransaction.cpp b/src/...   \n",
       "d59afd4a8c2ab79d60c41194bab8e967f69e9ae3  diff --git a/README.md b/README.md\\nindex f1fa...   \n",
       "615948c73fd9eca56fe7672a77b5b4acd04f5411  diff --git a/deployment/chart/templates/deploy...   \n",
       "17c41689e37757cb03014db1f9bc75e46be95ed6  diff --git a/Readme.md b/Readme.md\\nindex a36f...   \n",
       "07f31b3b1776a24532c7fe0dc35462f9589a9bd5  diff --git a/test/e2e/ui/BUILD b/test/e2e/ui/B...   \n",
       "\n",
       "                                                                                       text  \\\n",
       "commit_sha                                                                                    \n",
       "ed09b4ea6a17566b546a9d3ae76876636710c6a0  support domain as host in VMess outbound confi...   \n",
       "e67010b5e2eaa5a5ddb756d7ddc2dd0194f09a0a  feat(cli/compile): Support data uri dynamic im...   \n",
       "74066765bb8ca85864f75bde6091f96207f988cf  HBASE-2889 Tool to look at HLogs -- parse and-...   \n",
       "8d9e4345207013c55a8719995ec4ad4e9be466f2  truststore_nss: support multiple NSS databases...   \n",
       "145c46ff3630e55b6c50ff479f54661ef54124bd  feat(DelegatedExportsDependency): make seriali...   \n",
       "...                                                                                     ...   \n",
       "0a5ea32ce605984094c5552877cb99bc81654f2c             Prefer explicit uint160 conversion\\n\\n   \n",
       "d59afd4a8c2ab79d60c41194bab8e967f69e9ae3                                 Update README.md\\n   \n",
       "615948c73fd9eca56fe7672a77b5b4acd04f5411    refs #914: Fix identation for args and vars\\n\\n   \n",
       "17c41689e37757cb03014db1f9bc75e46be95ed6                   Added Gareth to contrib list\\n\\n   \n",
       "07f31b3b1776a24532c7fe0dc35462f9589a9bd5  test/e2e/ui and test/e2e/upgrades:Use e2eskipp...   \n",
       "\n",
       "                                          CODE_CHANGE_FILE  \\\n",
       "commit_sha                                                   \n",
       "ed09b4ea6a17566b546a9d3ae76876636710c6a0                 3   \n",
       "e67010b5e2eaa5a5ddb756d7ddc2dd0194f09a0a                 2   \n",
       "74066765bb8ca85864f75bde6091f96207f988cf                 1   \n",
       "8d9e4345207013c55a8719995ec4ad4e9be466f2                 1   \n",
       "145c46ff3630e55b6c50ff479f54661ef54124bd                 1   \n",
       "...                                                    ...   \n",
       "0a5ea32ce605984094c5552877cb99bc81654f2c                 3   \n",
       "d59afd4a8c2ab79d60c41194bab8e967f69e9ae3                 0   \n",
       "615948c73fd9eca56fe7672a77b5b4acd04f5411                 0   \n",
       "17c41689e37757cb03014db1f9bc75e46be95ed6                 0   \n",
       "07f31b3b1776a24532c7fe0dc35462f9589a9bd5                 0   \n",
       "\n",
       "                                          CODE_ADD_CODE_LINE  \\\n",
       "commit_sha                                                     \n",
       "ed09b4ea6a17566b546a9d3ae76876636710c6a0                  49   \n",
       "e67010b5e2eaa5a5ddb756d7ddc2dd0194f09a0a                  25   \n",
       "74066765bb8ca85864f75bde6091f96207f988cf                   0   \n",
       "8d9e4345207013c55a8719995ec4ad4e9be466f2                   9   \n",
       "145c46ff3630e55b6c50ff479f54661ef54124bd                  15   \n",
       "...                                                      ...   \n",
       "0a5ea32ce605984094c5552877cb99bc81654f2c                   0   \n",
       "d59afd4a8c2ab79d60c41194bab8e967f69e9ae3                   0   \n",
       "615948c73fd9eca56fe7672a77b5b4acd04f5411                   0   \n",
       "17c41689e37757cb03014db1f9bc75e46be95ed6                   0   \n",
       "07f31b3b1776a24532c7fe0dc35462f9589a9bd5                   0   \n",
       "\n",
       "                                          CODE_DEL_CODE_LINE  \\\n",
       "commit_sha                                                     \n",
       "ed09b4ea6a17566b546a9d3ae76876636710c6a0                   2   \n",
       "e67010b5e2eaa5a5ddb756d7ddc2dd0194f09a0a                   1   \n",
       "74066765bb8ca85864f75bde6091f96207f988cf                   0   \n",
       "8d9e4345207013c55a8719995ec4ad4e9be466f2                   6   \n",
       "145c46ff3630e55b6c50ff479f54661ef54124bd                   0   \n",
       "...                                                      ...   \n",
       "0a5ea32ce605984094c5552877cb99bc81654f2c                   4   \n",
       "d59afd4a8c2ab79d60c41194bab8e967f69e9ae3                   0   \n",
       "615948c73fd9eca56fe7672a77b5b4acd04f5411                   0   \n",
       "17c41689e37757cb03014db1f9bc75e46be95ed6                   0   \n",
       "07f31b3b1776a24532c7fe0dc35462f9589a9bd5                   0   \n",
       "\n",
       "                                          CODE_MOD_CODE_LINE  \\\n",
       "commit_sha                                                     \n",
       "ed09b4ea6a17566b546a9d3ae76876636710c6a0                   8   \n",
       "e67010b5e2eaa5a5ddb756d7ddc2dd0194f09a0a                   7   \n",
       "74066765bb8ca85864f75bde6091f96207f988cf                   1   \n",
       "8d9e4345207013c55a8719995ec4ad4e9be466f2                   6   \n",
       "145c46ff3630e55b6c50ff479f54661ef54124bd                   0   \n",
       "...                                                      ...   \n",
       "0a5ea32ce605984094c5552877cb99bc81654f2c                   2   \n",
       "d59afd4a8c2ab79d60c41194bab8e967f69e9ae3                   0   \n",
       "615948c73fd9eca56fe7672a77b5b4acd04f5411                   0   \n",
       "17c41689e37757cb03014db1f9bc75e46be95ed6                   0   \n",
       "07f31b3b1776a24532c7fe0dc35462f9589a9bd5                   0   \n",
       "\n",
       "                                          CODE_ADD_COMMENT_LINE  \\\n",
       "commit_sha                                                        \n",
       "ed09b4ea6a17566b546a9d3ae76876636710c6a0                      0   \n",
       "e67010b5e2eaa5a5ddb756d7ddc2dd0194f09a0a                      0   \n",
       "74066765bb8ca85864f75bde6091f96207f988cf                      0   \n",
       "8d9e4345207013c55a8719995ec4ad4e9be466f2                      0   \n",
       "145c46ff3630e55b6c50ff479f54661ef54124bd                      0   \n",
       "...                                                         ...   \n",
       "0a5ea32ce605984094c5552877cb99bc81654f2c                      0   \n",
       "d59afd4a8c2ab79d60c41194bab8e967f69e9ae3                      0   \n",
       "615948c73fd9eca56fe7672a77b5b4acd04f5411                      0   \n",
       "17c41689e37757cb03014db1f9bc75e46be95ed6                      0   \n",
       "07f31b3b1776a24532c7fe0dc35462f9589a9bd5                      0   \n",
       "\n",
       "                                          CODE_DEL_COMMENT_LINE  \\\n",
       "commit_sha                                                        \n",
       "ed09b4ea6a17566b546a9d3ae76876636710c6a0                      0   \n",
       "e67010b5e2eaa5a5ddb756d7ddc2dd0194f09a0a                      0   \n",
       "74066765bb8ca85864f75bde6091f96207f988cf                      0   \n",
       "8d9e4345207013c55a8719995ec4ad4e9be466f2                      0   \n",
       "145c46ff3630e55b6c50ff479f54661ef54124bd                      0   \n",
       "...                                                         ...   \n",
       "0a5ea32ce605984094c5552877cb99bc81654f2c                      0   \n",
       "d59afd4a8c2ab79d60c41194bab8e967f69e9ae3                      0   \n",
       "615948c73fd9eca56fe7672a77b5b4acd04f5411                      0   \n",
       "17c41689e37757cb03014db1f9bc75e46be95ed6                      0   \n",
       "07f31b3b1776a24532c7fe0dc35462f9589a9bd5                      0   \n",
       "\n",
       "                                          CODE_MOD_COMMENT_LINE  ...  \\\n",
       "commit_sha                                                       ...   \n",
       "ed09b4ea6a17566b546a9d3ae76876636710c6a0                      0  ...   \n",
       "e67010b5e2eaa5a5ddb756d7ddc2dd0194f09a0a                      0  ...   \n",
       "74066765bb8ca85864f75bde6091f96207f988cf                      0  ...   \n",
       "8d9e4345207013c55a8719995ec4ad4e9be466f2                      0  ...   \n",
       "145c46ff3630e55b6c50ff479f54661ef54124bd                      0  ...   \n",
       "...                                                         ...  ...   \n",
       "0a5ea32ce605984094c5552877cb99bc81654f2c                      0  ...   \n",
       "d59afd4a8c2ab79d60c41194bab8e967f69e9ae3                      0  ...   \n",
       "615948c73fd9eca56fe7672a77b5b4acd04f5411                      0  ...   \n",
       "17c41689e37757cb03014db1f9bc75e46be95ed6                      0  ...   \n",
       "07f31b3b1776a24532c7fe0dc35462f9589a9bd5                      0  ...   \n",
       "\n",
       "                                          BUILD_DEL_LINE  BUILD_MOD_LINE  \\\n",
       "commit_sha                                                                 \n",
       "ed09b4ea6a17566b546a9d3ae76876636710c6a0               0               0   \n",
       "e67010b5e2eaa5a5ddb756d7ddc2dd0194f09a0a               0               0   \n",
       "74066765bb8ca85864f75bde6091f96207f988cf               0               0   \n",
       "8d9e4345207013c55a8719995ec4ad4e9be466f2               0               0   \n",
       "145c46ff3630e55b6c50ff479f54661ef54124bd               0               0   \n",
       "...                                                  ...             ...   \n",
       "0a5ea32ce605984094c5552877cb99bc81654f2c               0               0   \n",
       "d59afd4a8c2ab79d60c41194bab8e967f69e9ae3               0               0   \n",
       "615948c73fd9eca56fe7672a77b5b4acd04f5411               3               1   \n",
       "17c41689e37757cb03014db1f9bc75e46be95ed6               0               0   \n",
       "07f31b3b1776a24532c7fe0dc35462f9589a9bd5               0               0   \n",
       "\n",
       "                                          DOC_CHANGE_FILE  DOC_ADD_LINE  \\\n",
       "commit_sha                                                                \n",
       "ed09b4ea6a17566b546a9d3ae76876636710c6a0                0             0   \n",
       "e67010b5e2eaa5a5ddb756d7ddc2dd0194f09a0a                0             0   \n",
       "74066765bb8ca85864f75bde6091f96207f988cf                0             0   \n",
       "8d9e4345207013c55a8719995ec4ad4e9be466f2                0             0   \n",
       "145c46ff3630e55b6c50ff479f54661ef54124bd                0             0   \n",
       "...                                                   ...           ...   \n",
       "0a5ea32ce605984094c5552877cb99bc81654f2c                0             0   \n",
       "d59afd4a8c2ab79d60c41194bab8e967f69e9ae3                1             1   \n",
       "615948c73fd9eca56fe7672a77b5b4acd04f5411                0             0   \n",
       "17c41689e37757cb03014db1f9bc75e46be95ed6                1             1   \n",
       "07f31b3b1776a24532c7fe0dc35462f9589a9bd5                0             0   \n",
       "\n",
       "                                          DOC_DEL_LINE  DOC_MOD_LINE  \\\n",
       "commit_sha                                                             \n",
       "ed09b4ea6a17566b546a9d3ae76876636710c6a0             0             0   \n",
       "e67010b5e2eaa5a5ddb756d7ddc2dd0194f09a0a             0             0   \n",
       "74066765bb8ca85864f75bde6091f96207f988cf             0             0   \n",
       "8d9e4345207013c55a8719995ec4ad4e9be466f2             0             0   \n",
       "145c46ff3630e55b6c50ff479f54661ef54124bd             0             0   \n",
       "...                                                ...           ...   \n",
       "0a5ea32ce605984094c5552877cb99bc81654f2c             0             0   \n",
       "d59afd4a8c2ab79d60c41194bab8e967f69e9ae3             0             2   \n",
       "615948c73fd9eca56fe7672a77b5b4acd04f5411             0             0   \n",
       "17c41689e37757cb03014db1f9bc75e46be95ed6             0             0   \n",
       "07f31b3b1776a24532c7fe0dc35462f9589a9bd5             0             0   \n",
       "\n",
       "                                          OTHER_CHANGE_FILE  OTHER_ADD_LINE  \\\n",
       "commit_sha                                                                    \n",
       "ed09b4ea6a17566b546a9d3ae76876636710c6a0                  0               0   \n",
       "e67010b5e2eaa5a5ddb756d7ddc2dd0194f09a0a                  0               0   \n",
       "74066765bb8ca85864f75bde6091f96207f988cf                  0               0   \n",
       "8d9e4345207013c55a8719995ec4ad4e9be466f2                  0               0   \n",
       "145c46ff3630e55b6c50ff479f54661ef54124bd                  0               0   \n",
       "...                                                     ...             ...   \n",
       "0a5ea32ce605984094c5552877cb99bc81654f2c                  0               0   \n",
       "d59afd4a8c2ab79d60c41194bab8e967f69e9ae3                  0               0   \n",
       "615948c73fd9eca56fe7672a77b5b4acd04f5411                  0               0   \n",
       "17c41689e37757cb03014db1f9bc75e46be95ed6                  0               0   \n",
       "07f31b3b1776a24532c7fe0dc35462f9589a9bd5                  0               0   \n",
       "\n",
       "                                          OTHER_DEL_LINE  OTHER_MOD_LINE  \n",
       "commit_sha                                                                \n",
       "ed09b4ea6a17566b546a9d3ae76876636710c6a0               0               0  \n",
       "e67010b5e2eaa5a5ddb756d7ddc2dd0194f09a0a               0               0  \n",
       "74066765bb8ca85864f75bde6091f96207f988cf               0               0  \n",
       "8d9e4345207013c55a8719995ec4ad4e9be466f2               0               0  \n",
       "145c46ff3630e55b6c50ff479f54661ef54124bd               0               0  \n",
       "...                                                  ...             ...  \n",
       "0a5ea32ce605984094c5552877cb99bc81654f2c               0               0  \n",
       "d59afd4a8c2ab79d60c41194bab8e967f69e9ae3               0               0  \n",
       "615948c73fd9eca56fe7672a77b5b4acd04f5411               0               0  \n",
       "17c41689e37757cb03014db1f9bc75e46be95ed6               0               0  \n",
       "07f31b3b1776a24532c7fe0dc35462f9589a9bd5               0               0  \n",
       "\n",
       "[300 rows x 32 columns]"
      ]
     },
     "execution_count": 15,
     "metadata": {},
     "output_type": "execute_result"
    }
   ],
   "source": [
    "train"
   ]
  },
  {
   "cell_type": "code",
   "execution_count": 16,
   "id": "d9ede869-1587-4e42-8879-e819e5961dca",
   "metadata": {
    "execution": {
     "iopub.execute_input": "2025-08-26T02:36:33.043478Z",
     "iopub.status.busy": "2025-08-26T02:36:33.043298Z",
     "iopub.status.idle": "2025-08-26T02:36:33.046686Z",
     "shell.execute_reply": "2025-08-26T02:36:33.046013Z",
     "shell.execute_reply.started": "2025-08-26T02:36:33.043457Z"
    }
   },
   "outputs": [],
   "source": [
    "model_id = \"../../sentence-transformers/paraphrase-mpnet-base-v2\""
   ]
  },
  {
   "cell_type": "code",
   "execution_count": 17,
   "id": "a6501389-0c86-442d-85cf-f04ad146703f",
   "metadata": {
    "execution": {
     "iopub.execute_input": "2025-08-26T02:36:33.047616Z",
     "iopub.status.busy": "2025-08-26T02:36:33.047433Z",
     "iopub.status.idle": "2025-08-26T02:36:33.052649Z",
     "shell.execute_reply": "2025-08-26T02:36:33.051974Z",
     "shell.execute_reply.started": "2025-08-26T02:36:33.047597Z"
    }
   },
   "outputs": [],
   "source": [
    "def hp_space(trial: Trial) -> Dict[str, Union[float, int, str]]:\n",
    "    return {\n",
    "        \"learning_rate\": trial.suggest_float(\"learning_rate\", 1e-6, 1e-3, log=True),\n",
    "        # \"num_epochs\": trial.suggest_int(\"num_epochs\", 1, 3),\n",
    "        # \"batch_size\": trial.suggest_categorical(\"batch_size\", [8, 12, 16]),\n",
    "        # \"seed\": trial.suggest_int(\"seed\", 1, 40),\n",
    "        # \"num_iterations\": trial.suggest_int(\"num_iterations\", 10, 20),\n",
    "        # \"solver\": trial.suggest_categorical(\"solver\", [\"newton-cg\", \"lbfgs\", \"liblinear\"]),\n",
    "    }\n",
    "def model_init(params: Dict[str, Any]) -> CommitFitModel:\n",
    "    params = params or {}\n",
    "    # learning_rate = params.get(\"learning_rate\")\n",
    "    # num_iterations = params.get(\"num_iterations\", 20)\n",
    "    # solver = params.get(\"solver\", \"liblinear\")\n",
    "    # params = {\n",
    "    #     \"head_params\": {\n",
    "    #         # \"max_iter\": num_iterations,\n",
    "    #         # \"solver\": solver,\n",
    "    #     }\n",
    "    # }\n",
    "    return CommitFitModel.from_pretrained(model_id, **params)\n",
    "def my_compute_objective(metrics):\n",
    "    print('+++++++++++',metrics)\n",
    "    return  metrics['accuracy']"
   ]
  },
  {
   "cell_type": "code",
   "execution_count": 18,
   "id": "2244f079-c2b8-4e01-aca4-f68e7ce8accb",
   "metadata": {
    "execution": {
     "iopub.execute_input": "2025-08-26T02:36:33.053588Z",
     "iopub.status.busy": "2025-08-26T02:36:33.053413Z",
     "iopub.status.idle": "2025-08-26T02:47:27.405994Z",
     "shell.execute_reply": "2025-08-26T02:47:27.405366Z",
     "shell.execute_reply.started": "2025-08-26T02:36:33.053568Z"
    }
   },
   "outputs": [
    {
     "name": "stderr",
     "output_type": "stream",
     "text": [
      "model_head.pkl not found in /root/autodl-tmp/CommitFit/sentence-transformers/paraphrase-mpnet-base-v2, initialising classification head with random weights. You should TRAIN this model on a downstream task to use it for predictions and inference.\n",
      "[I 2025-08-26 10:36:34,376] A new study created in memory with name: no-name-0dd5d6ee-a7a4-4da6-b6ef-f526287a6284\n",
      "Trial: {'learning_rate': 1.155927089639928e-06}\n",
      "model_head.pkl not found in /root/autodl-tmp/CommitFit/sentence-transformers/paraphrase-mpnet-base-v2, initialising classification head with random weights. You should TRAIN this model on a downstream task to use it for predictions and inference.\n"
     ]
    },
    {
     "data": {
      "application/vnd.jupyter.widget-view+json": {
       "model_id": "d2619aa00eeb4dd28ffd6befd7db5f18",
       "version_major": 2,
       "version_minor": 0
      },
      "text/plain": [
       "Generating Training Pairs:   0%|          | 0/20 [00:00<?, ?it/s]"
      ]
     },
     "metadata": {},
     "output_type": "display_data"
    },
    {
     "name": "stderr",
     "output_type": "stream",
     "text": [
      "***** Running training *****\n",
      "  Num examples = 12960\n",
      "  Num epochs = 1\n",
      "  Total optimization steps = 810\n",
      "  Total train batch size = 16\n"
     ]
    },
    {
     "data": {
      "application/vnd.jupyter.widget-view+json": {
       "model_id": "02d6370b93df4fbca14dfd8abe535a72",
       "version_major": 2,
       "version_minor": 0
      },
      "text/plain": [
       "Epoch:   0%|          | 0/1 [00:00<?, ?it/s]"
      ]
     },
     "metadata": {},
     "output_type": "display_data"
    },
    {
     "data": {
      "application/vnd.jupyter.widget-view+json": {
       "model_id": "8cec7868f6c945e5bc16cbe79db32e5c",
       "version_major": 2,
       "version_minor": 0
      },
      "text/plain": [
       "Iteration:   0%|          | 0/810 [00:00<?, ?it/s]"
      ]
     },
     "metadata": {},
     "output_type": "display_data"
    },
    {
     "name": "stderr",
     "output_type": "stream",
     "text": [
      "***** Running evaluation *****\n",
      "[I 2025-08-26 10:38:46,984] Trial 0 finished with value: 0.7227 and parameters: {'learning_rate': 1.155927089639928e-06}. Best is trial 0 with value: 0.7227.\n",
      "Trial: {'learning_rate': 7.521126586881564e-06}\n"
     ]
    },
    {
     "name": "stdout",
     "output_type": "stream",
     "text": [
      "+++++++++++ {'precision': 0.7905, 'recall': 0.7227, 'f1': 0.734, 'accuracy': 0.7227}\n"
     ]
    },
    {
     "name": "stderr",
     "output_type": "stream",
     "text": [
      "model_head.pkl not found in /root/autodl-tmp/CommitFit/sentence-transformers/paraphrase-mpnet-base-v2, initialising classification head with random weights. You should TRAIN this model on a downstream task to use it for predictions and inference.\n"
     ]
    },
    {
     "data": {
      "application/vnd.jupyter.widget-view+json": {
       "model_id": "6417f14e163c4e9183c613a775aebb98",
       "version_major": 2,
       "version_minor": 0
      },
      "text/plain": [
       "Generating Training Pairs:   0%|          | 0/20 [00:00<?, ?it/s]"
      ]
     },
     "metadata": {},
     "output_type": "display_data"
    },
    {
     "name": "stderr",
     "output_type": "stream",
     "text": [
      "***** Running training *****\n",
      "  Num examples = 12960\n",
      "  Num epochs = 1\n",
      "  Total optimization steps = 810\n",
      "  Total train batch size = 16\n"
     ]
    },
    {
     "data": {
      "application/vnd.jupyter.widget-view+json": {
       "model_id": "ceef26463d2b4957843e79c4ed180443",
       "version_major": 2,
       "version_minor": 0
      },
      "text/plain": [
       "Epoch:   0%|          | 0/1 [00:00<?, ?it/s]"
      ]
     },
     "metadata": {},
     "output_type": "display_data"
    },
    {
     "data": {
      "application/vnd.jupyter.widget-view+json": {
       "model_id": "590ca45061874bf1b7a2f7d4b82105b1",
       "version_major": 2,
       "version_minor": 0
      },
      "text/plain": [
       "Iteration:   0%|          | 0/810 [00:00<?, ?it/s]"
      ]
     },
     "metadata": {},
     "output_type": "display_data"
    },
    {
     "name": "stderr",
     "output_type": "stream",
     "text": [
      "***** Running evaluation *****\n",
      "[I 2025-08-26 10:40:57,322] Trial 1 finished with value: 0.7395 and parameters: {'learning_rate': 7.521126586881564e-06}. Best is trial 1 with value: 0.7395.\n",
      "Trial: {'learning_rate': 0.0004569261413926475}\n"
     ]
    },
    {
     "name": "stdout",
     "output_type": "stream",
     "text": [
      "+++++++++++ {'precision': 0.8099, 'recall': 0.7395, 'f1': 0.7492, 'accuracy': 0.7395}\n"
     ]
    },
    {
     "name": "stderr",
     "output_type": "stream",
     "text": [
      "model_head.pkl not found in /root/autodl-tmp/CommitFit/sentence-transformers/paraphrase-mpnet-base-v2, initialising classification head with random weights. You should TRAIN this model on a downstream task to use it for predictions and inference.\n"
     ]
    },
    {
     "data": {
      "application/vnd.jupyter.widget-view+json": {
       "model_id": "46d8a918835749a184423ad79cc44d8f",
       "version_major": 2,
       "version_minor": 0
      },
      "text/plain": [
       "Generating Training Pairs:   0%|          | 0/20 [00:00<?, ?it/s]"
      ]
     },
     "metadata": {},
     "output_type": "display_data"
    },
    {
     "name": "stderr",
     "output_type": "stream",
     "text": [
      "***** Running training *****\n",
      "  Num examples = 12960\n",
      "  Num epochs = 1\n",
      "  Total optimization steps = 810\n",
      "  Total train batch size = 16\n"
     ]
    },
    {
     "data": {
      "application/vnd.jupyter.widget-view+json": {
       "model_id": "8630a50a0db546bcbac21c63a1515fdd",
       "version_major": 2,
       "version_minor": 0
      },
      "text/plain": [
       "Epoch:   0%|          | 0/1 [00:00<?, ?it/s]"
      ]
     },
     "metadata": {},
     "output_type": "display_data"
    },
    {
     "data": {
      "application/vnd.jupyter.widget-view+json": {
       "model_id": "ac12e6ca31ca4181b8fcaa3c899be704",
       "version_major": 2,
       "version_minor": 0
      },
      "text/plain": [
       "Iteration:   0%|          | 0/810 [00:00<?, ?it/s]"
      ]
     },
     "metadata": {},
     "output_type": "display_data"
    },
    {
     "name": "stderr",
     "output_type": "stream",
     "text": [
      "***** Running evaluation *****\n",
      "/root/miniconda3/lib/python3.10/site-packages/sklearn/metrics/_classification.py:1531: UndefinedMetricWarning: Precision is ill-defined and being set to 0.0 in labels with no predicted samples. Use `zero_division` parameter to control this behavior.\n",
      "  _warn_prf(average, modifier, f\"{metric.capitalize()} is\", len(result))\n",
      "[I 2025-08-26 10:43:07,317] Trial 2 finished with value: 0.1345 and parameters: {'learning_rate': 0.0004569261413926475}. Best is trial 1 with value: 0.7395.\n",
      "Trial: {'learning_rate': 2.4170532819839676e-06}\n"
     ]
    },
    {
     "name": "stdout",
     "output_type": "stream",
     "text": [
      "+++++++++++ {'precision': 0.0181, 'recall': 0.1345, 'f1': 0.0319, 'accuracy': 0.1345}\n"
     ]
    },
    {
     "name": "stderr",
     "output_type": "stream",
     "text": [
      "model_head.pkl not found in /root/autodl-tmp/CommitFit/sentence-transformers/paraphrase-mpnet-base-v2, initialising classification head with random weights. You should TRAIN this model on a downstream task to use it for predictions and inference.\n"
     ]
    },
    {
     "data": {
      "application/vnd.jupyter.widget-view+json": {
       "model_id": "f82fe9f2b77a482f9c0ea24c5f261698",
       "version_major": 2,
       "version_minor": 0
      },
      "text/plain": [
       "Generating Training Pairs:   0%|          | 0/20 [00:00<?, ?it/s]"
      ]
     },
     "metadata": {},
     "output_type": "display_data"
    },
    {
     "name": "stderr",
     "output_type": "stream",
     "text": [
      "***** Running training *****\n",
      "  Num examples = 12960\n",
      "  Num epochs = 1\n",
      "  Total optimization steps = 810\n",
      "  Total train batch size = 16\n"
     ]
    },
    {
     "data": {
      "application/vnd.jupyter.widget-view+json": {
       "model_id": "5eec43fb806a4f3782e478818091359f",
       "version_major": 2,
       "version_minor": 0
      },
      "text/plain": [
       "Epoch:   0%|          | 0/1 [00:00<?, ?it/s]"
      ]
     },
     "metadata": {},
     "output_type": "display_data"
    },
    {
     "data": {
      "application/vnd.jupyter.widget-view+json": {
       "model_id": "0e42d5cb8e124402857586569d039267",
       "version_major": 2,
       "version_minor": 0
      },
      "text/plain": [
       "Iteration:   0%|          | 0/810 [00:00<?, ?it/s]"
      ]
     },
     "metadata": {},
     "output_type": "display_data"
    },
    {
     "name": "stderr",
     "output_type": "stream",
     "text": [
      "***** Running evaluation *****\n",
      "[I 2025-08-26 10:45:17,296] Trial 3 finished with value: 0.7059 and parameters: {'learning_rate': 2.4170532819839676e-06}. Best is trial 1 with value: 0.7395.\n",
      "Trial: {'learning_rate': 1.529725709886878e-05}\n"
     ]
    },
    {
     "name": "stdout",
     "output_type": "stream",
     "text": [
      "+++++++++++ {'precision': 0.7867, 'recall': 0.7059, 'f1': 0.7171, 'accuracy': 0.7059}\n"
     ]
    },
    {
     "name": "stderr",
     "output_type": "stream",
     "text": [
      "model_head.pkl not found in /root/autodl-tmp/CommitFit/sentence-transformers/paraphrase-mpnet-base-v2, initialising classification head with random weights. You should TRAIN this model on a downstream task to use it for predictions and inference.\n"
     ]
    },
    {
     "data": {
      "application/vnd.jupyter.widget-view+json": {
       "model_id": "e670d82bada64a969dbd5dccc8a88e79",
       "version_major": 2,
       "version_minor": 0
      },
      "text/plain": [
       "Generating Training Pairs:   0%|          | 0/20 [00:00<?, ?it/s]"
      ]
     },
     "metadata": {},
     "output_type": "display_data"
    },
    {
     "name": "stderr",
     "output_type": "stream",
     "text": [
      "***** Running training *****\n",
      "  Num examples = 12960\n",
      "  Num epochs = 1\n",
      "  Total optimization steps = 810\n",
      "  Total train batch size = 16\n"
     ]
    },
    {
     "data": {
      "application/vnd.jupyter.widget-view+json": {
       "model_id": "03d73ccded1940678f8d822f558a6739",
       "version_major": 2,
       "version_minor": 0
      },
      "text/plain": [
       "Epoch:   0%|          | 0/1 [00:00<?, ?it/s]"
      ]
     },
     "metadata": {},
     "output_type": "display_data"
    },
    {
     "data": {
      "application/vnd.jupyter.widget-view+json": {
       "model_id": "fc5321b1459a489882edb16013361d4c",
       "version_major": 2,
       "version_minor": 0
      },
      "text/plain": [
       "Iteration:   0%|          | 0/810 [00:00<?, ?it/s]"
      ]
     },
     "metadata": {},
     "output_type": "display_data"
    },
    {
     "name": "stderr",
     "output_type": "stream",
     "text": [
      "***** Running evaluation *****\n",
      "[I 2025-08-26 10:47:27,403] Trial 4 finished with value: 0.7605 and parameters: {'learning_rate': 1.529725709886878e-05}. Best is trial 4 with value: 0.7605.\n"
     ]
    },
    {
     "name": "stdout",
     "output_type": "stream",
     "text": [
      "+++++++++++ {'precision': 0.8328, 'recall': 0.7605, 'f1': 0.7706, 'accuracy': 0.7605}\n"
     ]
    }
   ],
   "source": [
    "trainer = CommitFitTrainer(\n",
    "    train_dataset=train_dataset,\n",
    "    train_code_change = train_code_change,\n",
    "    test_code_change = test_code_change,\n",
    "    eval_dataset=test_dataset,\n",
    "    model_init=model_init,\n",
    "    metric = compute_metrics,\n",
    "    num_iterations=20,\n",
    "    num_epochs=1\n",
    ")\n",
    "best_run = trainer.hyperparameter_search(direction=\"maximize\", hp_space=hp_space, compute_objective=my_compute_objective, n_trials=5)"
   ]
  },
  {
   "cell_type": "code",
   "execution_count": 19,
   "id": "91deb34e-2ef0-4f00-b6e7-7ffd18605c52",
   "metadata": {
    "execution": {
     "iopub.execute_input": "2025-08-26T02:47:27.407194Z",
     "iopub.status.busy": "2025-08-26T02:47:27.406829Z",
     "iopub.status.idle": "2025-08-26T02:47:27.412194Z",
     "shell.execute_reply": "2025-08-26T02:47:27.411522Z",
     "shell.execute_reply.started": "2025-08-26T02:47:27.407170Z"
    }
   },
   "outputs": [
    {
     "data": {
      "text/plain": [
       "BestRun(run_id='4', objective=0.7605, hyperparameters={'learning_rate': 1.529725709886878e-05}, backend=<optuna.study.study.Study object at 0x7f123be33040>)"
      ]
     },
     "execution_count": 19,
     "metadata": {},
     "output_type": "execute_result"
    }
   ],
   "source": [
    "best_run"
   ]
  },
  {
   "cell_type": "code",
   "execution_count": 20,
   "id": "40cfde46-c7d5-4446-8b53-7ad4dc8edb66",
   "metadata": {
    "execution": {
     "iopub.execute_input": "2025-08-26T02:47:27.413126Z",
     "iopub.status.busy": "2025-08-26T02:47:27.412954Z",
     "iopub.status.idle": "2025-08-26T02:47:27.417466Z",
     "shell.execute_reply": "2025-08-26T02:47:27.416815Z",
     "shell.execute_reply.started": "2025-08-26T02:47:27.413107Z"
    }
   },
   "outputs": [
    {
     "data": {
      "text/plain": [
       "{'learning_rate': 1.529725709886878e-05}"
      ]
     },
     "execution_count": 20,
     "metadata": {},
     "output_type": "execute_result"
    }
   ],
   "source": [
    "best_run.hyperparameters"
   ]
  },
  {
   "cell_type": "code",
   "execution_count": null,
   "id": "ae735a8b-c672-4dce-822c-61330c34481b",
   "metadata": {
    "execution": {
     "iopub.execute_input": "2025-08-26T02:47:27.418368Z",
     "iopub.status.busy": "2025-08-26T02:47:27.418195Z"
    }
   },
   "outputs": [
    {
     "name": "stderr",
     "output_type": "stream",
     "text": [
      "model_head.pkl not found in /root/autodl-tmp/CommitFit/sentence-transformers/paraphrase-mpnet-base-v2, initialising classification head with random weights. You should TRAIN this model on a downstream task to use it for predictions and inference.\n"
     ]
    },
    {
     "data": {
      "application/vnd.jupyter.widget-view+json": {
       "model_id": "5c72ef71f9cf4d21866c24b6da5df6b5",
       "version_major": 2,
       "version_minor": 0
      },
      "text/plain": [
       "Generating Training Pairs:   0%|          | 0/20 [00:00<?, ?it/s]"
      ]
     },
     "metadata": {},
     "output_type": "display_data"
    },
    {
     "name": "stderr",
     "output_type": "stream",
     "text": [
      "***** Running training *****\n",
      "  Num examples = 12960\n",
      "  Num epochs = 1\n",
      "  Total optimization steps = 810\n",
      "  Total train batch size = 16\n"
     ]
    },
    {
     "data": {
      "application/vnd.jupyter.widget-view+json": {
       "model_id": "f00265592ec3486786680566a067904a",
       "version_major": 2,
       "version_minor": 0
      },
      "text/plain": [
       "Epoch:   0%|          | 0/1 [00:00<?, ?it/s]"
      ]
     },
     "metadata": {},
     "output_type": "display_data"
    },
    {
     "data": {
      "application/vnd.jupyter.widget-view+json": {
       "model_id": "8dd2bd6d080d453ab89dfa0d343f8456",
       "version_major": 2,
       "version_minor": 0
      },
      "text/plain": [
       "Iteration:   0%|          | 0/810 [00:00<?, ?it/s]"
      ]
     },
     "metadata": {},
     "output_type": "display_data"
    }
   ],
   "source": [
    "trainer.apply_hyperparameters(best_run.hyperparameters, final_model=True)\n",
    "trainer.train()"
   ]
  },
  {
   "cell_type": "code",
   "execution_count": null,
   "id": "166dcf9b-a0bd-4b60-854c-c6535c22a111",
   "metadata": {},
   "outputs": [],
   "source": [
    "fewshot_metrics = trainer.evaluate()\n",
    "fewshot_metrics"
   ]
  },
  {
   "cell_type": "code",
   "execution_count": null,
   "id": "af21aba7-66cd-4762-b5d4-6d27650bba7e",
   "metadata": {},
   "outputs": [],
   "source": [
    "#发送多种类型的邮件\n",
    "from email.mime.multipart import MIMEMultipart\n",
    "import smtplib\n",
    "\n",
    "from email.mime.text import MIMEText\n",
    "msg_from = '915803745@qq.com'  # 发送方邮箱\n",
    "passwd = 'vcuosuurrgkfbdai'   #就是上面的授权码\n",
    " \n",
    "# to= ['g.zhang@gotion.com', 'j.tong@gotion.com'] #接受方邮箱\n",
    "to= ['j.tong@gotion.com'] #接受方邮箱\n",
    "#设置邮件内容\n",
    "#MIMEMultipart类可以放任何内容\n",
    "msg = MIMEMultipart()\n",
    "conntent=f\"{fewshot_metrics}\"\n",
    "#把内容加进去\n",
    "msg.attach(MIMEText(conntent,'plain','utf-8'))\n",
    " \n",
    "#设置邮件主题\n",
    "msg['Subject']=\"强化学习模型训练完毕\"\n",
    " \n",
    "#发送方信息\n",
    "msg['From']=msg_from\n",
    " \n",
    "#开始发送\n",
    " \n",
    "#通过SSL方式发送，服务器地址和端口\n",
    "s = smtplib.SMTP_SSL(\"smtp.qq.com\", 465)\n",
    "# 登录邮箱\n",
    "s.login(msg_from, passwd)\n",
    "#开始发送\n",
    "s.sendmail(msg_from,to,msg.as_string())\n",
    "print(\"强化学习模型训练完毕\")"
   ]
  },
  {
   "cell_type": "code",
   "execution_count": null,
   "id": "025b5144-4d11-4fae-b716-5cb039470225",
   "metadata": {},
   "outputs": [],
   "source": []
  }
 ],
 "metadata": {
  "kernelspec": {
   "display_name": "Python 3 (ipykernel)",
   "language": "python",
   "name": "python3"
  },
  "language_info": {
   "codemirror_mode": {
    "name": "ipython",
    "version": 3
   },
   "file_extension": ".py",
   "mimetype": "text/x-python",
   "name": "python",
   "nbconvert_exporter": "python",
   "pygments_lexer": "ipython3",
   "version": "3.10.8"
  }
 },
 "nbformat": 4,
 "nbformat_minor": 5
}
