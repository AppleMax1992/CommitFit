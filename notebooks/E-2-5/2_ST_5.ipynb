{
 "cells": [
  {
   "cell_type": "code",
   "execution_count": 1,
   "id": "77d93e6a-106b-4abd-87e7-1243d4c51126",
   "metadata": {
    "colab": {
     "base_uri": "https://localhost:8080/"
    },
    "execution": {
     "iopub.execute_input": "2024-05-29T07:50:40.293174Z",
     "iopub.status.busy": "2024-05-29T07:50:40.292700Z",
     "iopub.status.idle": "2024-05-29T07:50:44.384130Z",
     "shell.execute_reply": "2024-05-29T07:50:44.382974Z",
     "shell.execute_reply.started": "2024-05-29T07:50:40.293127Z"
    },
    "id": "77d93e6a-106b-4abd-87e7-1243d4c51126",
    "outputId": "513e9c0d-3fa4-4d50-cef1-7a9c1a2254eb"
   },
   "outputs": [],
   "source": [
    "# !pip install transformers accelerate\n",
    "from transformers import AutoTokenizer, AutoModel, EarlyStoppingCallback, AutoModelForSequenceClassification, AutoConfig,Trainer, TrainingArguments,DataCollatorWithPadding\n",
    "import torch\n",
    "import numpy as np\n",
    "import pandas as pd\n",
    "# !pip install datasets\n",
    "from datasets import load_metric\n",
    "# !pip install evaluate\n",
    "from evaluate import evaluator\n",
    "from sklearn.model_selection import train_test_split\n",
    "import csv\n",
    "\n",
    "# notebook_login()\n",
    "\n",
    "CUDA_LAUNCH_BLOCKING=1\n"
   ]
  },
  {
   "cell_type": "code",
   "execution_count": 2,
   "id": "Wkey0rYSSAhB",
   "metadata": {
    "colab": {
     "base_uri": "https://localhost:8080/"
    },
    "execution": {
     "iopub.execute_input": "2024-05-29T07:50:44.386768Z",
     "iopub.status.busy": "2024-05-29T07:50:44.385896Z",
     "iopub.status.idle": "2024-05-29T07:50:44.391668Z",
     "shell.execute_reply": "2024-05-29T07:50:44.390512Z",
     "shell.execute_reply.started": "2024-05-29T07:50:44.386711Z"
    },
    "id": "Wkey0rYSSAhB",
    "outputId": "4952a69b-b8e3-43fd-8589-d46451796537"
   },
   "outputs": [],
   "source": [
    "# from google.colab import drive\n",
    "# drive.mount('/content/drive')"
   ]
  },
  {
   "cell_type": "code",
   "execution_count": 3,
   "id": "9ef5359f-9526-4d19-a2da-7988dc1ea04f",
   "metadata": {
    "execution": {
     "iopub.execute_input": "2024-05-29T07:50:44.393682Z",
     "iopub.status.busy": "2024-05-29T07:50:44.393157Z",
     "iopub.status.idle": "2024-05-29T07:50:47.634588Z",
     "shell.execute_reply": "2024-05-29T07:50:47.633372Z",
     "shell.execute_reply.started": "2024-05-29T07:50:44.393629Z"
    },
    "id": "9ef5359f-9526-4d19-a2da-7988dc1ea04f"
   },
   "outputs": [],
   "source": [
    "train = pd.read_csv(r'train.csv', encoding='utf_8_sig')\n",
    "test = pd.read_csv(r'test.csv', encoding='utf_8_sig')\n"
   ]
  },
  {
   "cell_type": "code",
   "execution_count": 4,
   "id": "jYWXjthC0rGo",
   "metadata": {
    "colab": {
     "base_uri": "https://localhost:8080/",
     "height": 904
    },
    "execution": {
     "iopub.execute_input": "2024-05-29T07:50:47.638938Z",
     "iopub.status.busy": "2024-05-29T07:50:47.638614Z",
     "iopub.status.idle": "2024-05-29T07:50:47.664117Z",
     "shell.execute_reply": "2024-05-29T07:50:47.663305Z",
     "shell.execute_reply.started": "2024-05-29T07:50:47.638911Z"
    },
    "id": "jYWXjthC0rGo",
    "outputId": "6e0be2c8-67f0-4d3b-f97a-0a5bde8305c8"
   },
   "outputs": [
    {
     "data": {
      "text/html": [
       "<div>\n",
       "<style scoped>\n",
       "    .dataframe tbody tr th:only-of-type {\n",
       "        vertical-align: middle;\n",
       "    }\n",
       "\n",
       "    .dataframe tbody tr th {\n",
       "        vertical-align: top;\n",
       "    }\n",
       "\n",
       "    .dataframe thead th {\n",
       "        text-align: right;\n",
       "    }\n",
       "</style>\n",
       "<table border=\"1\" class=\"dataframe\">\n",
       "  <thead>\n",
       "    <tr style=\"text-align: right;\">\n",
       "      <th></th>\n",
       "      <th>label</th>\n",
       "      <th>text</th>\n",
       "      <th>diff</th>\n",
       "    </tr>\n",
       "  </thead>\n",
       "  <tbody>\n",
       "    <tr>\n",
       "      <th>0</th>\n",
       "      <td>negative</td>\n",
       "      <td>Fixed link errors</td>\n",
       "      <td>diff --git a/src/irisnet/CMakeLists.txt b/src/...</td>\n",
       "    </tr>\n",
       "    <tr>\n",
       "      <th>1</th>\n",
       "      <td>positive</td>\n",
       "      <td>Check types to avoid invalid reads/writes.</td>\n",
       "      <td>diff --git a/src/file.c b/src/file.c\\nindex 4d...</td>\n",
       "    </tr>\n",
       "    <tr>\n",
       "      <th>2</th>\n",
       "      <td>positive</td>\n",
       "      <td>https://github.com/ImageMagick/ImageMagick/iss...</td>\n",
       "      <td>diff --git a/coders/png.c b/coders/png.c\\ninde...</td>\n",
       "    </tr>\n",
       "    <tr>\n",
       "      <th>3</th>\n",
       "      <td>positive</td>\n",
       "      <td>XSS 취약점 수정</td>\n",
       "      <td>diff --git a/adm/boardgroup_form.php b/adm/boa...</td>\n",
       "    </tr>\n",
       "    <tr>\n",
       "      <th>4</th>\n",
       "      <td>negative</td>\n",
       "      <td>Change distribution URL.\\n\\ngit-svn-id: https:...</td>\n",
       "      <td>diff --git a/c/xml-security-c.spec b/c/xml-sec...</td>\n",
       "    </tr>\n",
       "    <tr>\n",
       "      <th>5</th>\n",
       "      <td>negative</td>\n",
       "      <td>Merge pull request #2426 from alvarobartt/deve...</td>\n",
       "      <td>diff --git a/nltk/tag/stanford.py b/nltk/tag/s...</td>\n",
       "    </tr>\n",
       "    <tr>\n",
       "      <th>6</th>\n",
       "      <td>negative</td>\n",
       "      <td>2021 license</td>\n",
       "      <td>diff --git a/Gruntfile.js b/Gruntfile.js\\ninde...</td>\n",
       "    </tr>\n",
       "    <tr>\n",
       "      <th>7</th>\n",
       "      <td>positive</td>\n",
       "      <td>SPOOLSS: Try to avoid an infinite loop.\\n\\nUse...</td>\n",
       "      <td>diff --git a/epan/dissectors/packet-dcerpc-spo...</td>\n",
       "    </tr>\n",
       "    <tr>\n",
       "      <th>8</th>\n",
       "      <td>negative</td>\n",
       "      <td>Upgrade: Bump grape from 1.3.3 to 1.5.0\\n\\nBum...</td>\n",
       "      <td>diff --git a/Gemfile.lock b/Gemfile.lock\\ninde...</td>\n",
       "    </tr>\n",
       "    <tr>\n",
       "      <th>9</th>\n",
       "      <td>negative</td>\n",
       "      <td>Merge branch '8.5' into 9.5</td>\n",
       "      <td>diff --git a/src/Framework/Assert.php b/src/Fr...</td>\n",
       "    </tr>\n",
       "  </tbody>\n",
       "</table>\n",
       "</div>"
      ],
      "text/plain": [
       "      label                                               text  \\\n",
       "0  negative                                  Fixed link errors   \n",
       "1  positive         Check types to avoid invalid reads/writes.   \n",
       "2  positive  https://github.com/ImageMagick/ImageMagick/iss...   \n",
       "3  positive                                         XSS 취약점 수정   \n",
       "4  negative  Change distribution URL.\\n\\ngit-svn-id: https:...   \n",
       "5  negative  Merge pull request #2426 from alvarobartt/deve...   \n",
       "6  negative                                       2021 license   \n",
       "7  positive  SPOOLSS: Try to avoid an infinite loop.\\n\\nUse...   \n",
       "8  negative  Upgrade: Bump grape from 1.3.3 to 1.5.0\\n\\nBum...   \n",
       "9  negative                        Merge branch '8.5' into 9.5   \n",
       "\n",
       "                                                diff  \n",
       "0  diff --git a/src/irisnet/CMakeLists.txt b/src/...  \n",
       "1  diff --git a/src/file.c b/src/file.c\\nindex 4d...  \n",
       "2  diff --git a/coders/png.c b/coders/png.c\\ninde...  \n",
       "3  diff --git a/adm/boardgroup_form.php b/adm/boa...  \n",
       "4  diff --git a/c/xml-security-c.spec b/c/xml-sec...  \n",
       "5  diff --git a/nltk/tag/stanford.py b/nltk/tag/s...  \n",
       "6  diff --git a/Gruntfile.js b/Gruntfile.js\\ninde...  \n",
       "7  diff --git a/epan/dissectors/packet-dcerpc-spo...  \n",
       "8  diff --git a/Gemfile.lock b/Gemfile.lock\\ninde...  \n",
       "9  diff --git a/src/Framework/Assert.php b/src/Fr...  "
      ]
     },
     "execution_count": 4,
     "metadata": {},
     "output_type": "execute_result"
    }
   ],
   "source": [
    "train"
   ]
  },
  {
   "cell_type": "code",
   "execution_count": 5,
   "id": "ee30affe-0ec9-46a3-bcaa-a1bd9422c939",
   "metadata": {
    "colab": {
     "base_uri": "https://localhost:8080/"
    },
    "execution": {
     "iopub.execute_input": "2024-05-29T07:50:47.665443Z",
     "iopub.status.busy": "2024-05-29T07:50:47.665109Z",
     "iopub.status.idle": "2024-05-29T07:50:47.672520Z",
     "shell.execute_reply": "2024-05-29T07:50:47.671294Z",
     "shell.execute_reply.started": "2024-05-29T07:50:47.665418Z"
    },
    "id": "ee30affe-0ec9-46a3-bcaa-a1bd9422c939",
    "outputId": "55cbf4db-adbe-49ad-8cfe-8587301ff191"
   },
   "outputs": [
    {
     "data": {
      "text/plain": [
       "10"
      ]
     },
     "execution_count": 5,
     "metadata": {},
     "output_type": "execute_result"
    }
   ],
   "source": [
    "len(train)"
   ]
  },
  {
   "cell_type": "code",
   "execution_count": 6,
   "id": "84e38639-cf4b-4762-a1dc-cdc983938388",
   "metadata": {
    "colab": {
     "base_uri": "https://localhost:8080/"
    },
    "execution": {
     "iopub.execute_input": "2024-05-29T07:50:47.674790Z",
     "iopub.status.busy": "2024-05-29T07:50:47.674210Z",
     "iopub.status.idle": "2024-05-29T07:50:47.683982Z",
     "shell.execute_reply": "2024-05-29T07:50:47.683356Z",
     "shell.execute_reply.started": "2024-05-29T07:50:47.674736Z"
    },
    "id": "84e38639-cf4b-4762-a1dc-cdc983938388",
    "outputId": "0c96312b-4357-429d-baf1-3d77ee9f87ab"
   },
   "outputs": [
    {
     "data": {
      "text/plain": [
       "label\n",
       "negative    6\n",
       "positive    4\n",
       "Name: count, dtype: int64"
      ]
     },
     "execution_count": 6,
     "metadata": {},
     "output_type": "execute_result"
    }
   ],
   "source": [
    "train['label'].value_counts()"
   ]
  },
  {
   "cell_type": "code",
   "execution_count": 7,
   "id": "3cf6c110-616d-45da-aa2e-4a5add26b3c0",
   "metadata": {
    "colab": {
     "base_uri": "https://localhost:8080/"
    },
    "execution": {
     "iopub.execute_input": "2024-05-29T07:50:47.685233Z",
     "iopub.status.busy": "2024-05-29T07:50:47.684997Z",
     "iopub.status.idle": "2024-05-29T07:50:47.693551Z",
     "shell.execute_reply": "2024-05-29T07:50:47.692962Z",
     "shell.execute_reply.started": "2024-05-29T07:50:47.685209Z"
    },
    "id": "3cf6c110-616d-45da-aa2e-4a5add26b3c0",
    "outputId": "601872ea-f6d1-4472-d2f3-094838501bb3"
   },
   "outputs": [
    {
     "data": {
      "text/plain": [
       "label\n",
       "negative    6341\n",
       "positive    3761\n",
       "Name: count, dtype: int64"
      ]
     },
     "execution_count": 7,
     "metadata": {},
     "output_type": "execute_result"
    }
   ],
   "source": [
    "test['label'].value_counts()"
   ]
  },
  {
   "cell_type": "code",
   "execution_count": 8,
   "id": "dca6275a-a567-4963-831c-8dd653341162",
   "metadata": {
    "colab": {
     "base_uri": "https://localhost:8080/"
    },
    "execution": {
     "iopub.execute_input": "2024-05-29T07:50:47.695061Z",
     "iopub.status.busy": "2024-05-29T07:50:47.694788Z",
     "iopub.status.idle": "2024-05-29T07:50:48.313461Z",
     "shell.execute_reply": "2024-05-29T07:50:48.312798Z",
     "shell.execute_reply.started": "2024-05-29T07:50:47.695036Z"
    },
    "id": "dca6275a-a567-4963-831c-8dd653341162",
    "outputId": "1624bdb9-c84a-47fd-e6b1-4d3519ffcc63"
   },
   "outputs": [],
   "source": [
    "# !pip install sentence_transformers\n",
    "from sentence_transformers import SentenceTransformer\n",
    "model = SentenceTransformer('../../sentence-transformers/paraphrase-mpnet-base-v2')"
   ]
  },
  {
   "cell_type": "code",
   "execution_count": 9,
   "id": "b7c52074-c55f-4218-bc87-cdbc6e36a993",
   "metadata": {
    "execution": {
     "iopub.execute_input": "2024-05-29T07:50:48.314888Z",
     "iopub.status.busy": "2024-05-29T07:50:48.314636Z",
     "iopub.status.idle": "2024-05-29T07:53:20.773283Z",
     "shell.execute_reply": "2024-05-29T07:53:20.772210Z",
     "shell.execute_reply.started": "2024-05-29T07:50:48.314863Z"
    },
    "id": "b7c52074-c55f-4218-bc87-cdbc6e36a993"
   },
   "outputs": [],
   "source": [
    "train['embeddings'] = train['text'].apply(lambda x: model.encode(str(x)))\n",
    "test['embeddings'] = test['text'].apply(lambda x: model.encode(str(x)))"
   ]
  },
  {
   "cell_type": "code",
   "execution_count": 10,
   "id": "Oo2YeBo8kclU",
   "metadata": {
    "colab": {
     "base_uri": "https://localhost:8080/",
     "height": 964
    },
    "execution": {
     "iopub.execute_input": "2024-05-29T07:53:20.775002Z",
     "iopub.status.busy": "2024-05-29T07:53:20.774701Z",
     "iopub.status.idle": "2024-05-29T07:53:20.801369Z",
     "shell.execute_reply": "2024-05-29T07:53:20.800527Z",
     "shell.execute_reply.started": "2024-05-29T07:53:20.774972Z"
    },
    "id": "Oo2YeBo8kclU",
    "outputId": "d6d20e7b-9194-4cf3-d5ff-f7c18581fb21"
   },
   "outputs": [
    {
     "data": {
      "text/html": [
       "<div>\n",
       "<style scoped>\n",
       "    .dataframe tbody tr th:only-of-type {\n",
       "        vertical-align: middle;\n",
       "    }\n",
       "\n",
       "    .dataframe tbody tr th {\n",
       "        vertical-align: top;\n",
       "    }\n",
       "\n",
       "    .dataframe thead th {\n",
       "        text-align: right;\n",
       "    }\n",
       "</style>\n",
       "<table border=\"1\" class=\"dataframe\">\n",
       "  <thead>\n",
       "    <tr style=\"text-align: right;\">\n",
       "      <th></th>\n",
       "      <th>label</th>\n",
       "      <th>text</th>\n",
       "      <th>diff</th>\n",
       "      <th>embeddings</th>\n",
       "    </tr>\n",
       "  </thead>\n",
       "  <tbody>\n",
       "    <tr>\n",
       "      <th>0</th>\n",
       "      <td>negative</td>\n",
       "      <td>Copyright header.</td>\n",
       "      <td>diff --git a/src/main/java/org/projectforge/ad...</td>\n",
       "      <td>[0.10010557, -0.13413383, -0.0052697547, 0.032...</td>\n",
       "    </tr>\n",
       "    <tr>\n",
       "      <th>1</th>\n",
       "      <td>negative</td>\n",
       "      <td>:art: 部分类增加实现序列化接口</td>\n",
       "      <td>diff --git a/weixin-java-mp/src/main/java/me/c...</td>\n",
       "      <td>[0.11699601, -0.064321205, -0.036785033, 0.024...</td>\n",
       "    </tr>\n",
       "    <tr>\n",
       "      <th>2</th>\n",
       "      <td>negative</td>\n",
       "      <td>Update copyright to 2020</td>\n",
       "      <td>diff --git a/README.rst b/README.rst\\nindex 76...</td>\n",
       "      <td>[0.05565265, 0.37451336, -0.0034549485, -0.130...</td>\n",
       "    </tr>\n",
       "    <tr>\n",
       "      <th>3</th>\n",
       "      <td>negative</td>\n",
       "      <td>test case for testing old knownnodes pickle\\n-...</td>\n",
       "      <td>diff --git a/src/network/knownnodes.py b/src/n...</td>\n",
       "      <td>[-0.080094546, 0.14758536, 0.027495546, 0.0664...</td>\n",
       "    </tr>\n",
       "    <tr>\n",
       "      <th>4</th>\n",
       "      <td>negative</td>\n",
       "      <td>Introspection fixes.</td>\n",
       "      <td>diff --git a/gsf/gsf-docprop-vector.c b/gsf/gs...</td>\n",
       "      <td>[-0.0144902775, 0.2714296, -0.027338658, 0.000...</td>\n",
       "    </tr>\n",
       "    <tr>\n",
       "      <th>...</th>\n",
       "      <td>...</td>\n",
       "      <td>...</td>\n",
       "      <td>...</td>\n",
       "      <td>...</td>\n",
       "    </tr>\n",
       "    <tr>\n",
       "      <th>10097</th>\n",
       "      <td>negative</td>\n",
       "      <td>Fix alignment</td>\n",
       "      <td>diff --git a/wwwroot/cgi-bin/awstats.pl b/wwwr...</td>\n",
       "      <td>[-0.12206936, -0.13066295, -0.1028094, 0.01713...</td>\n",
       "    </tr>\n",
       "    <tr>\n",
       "      <th>10098</th>\n",
       "      <td>negative</td>\n",
       "      <td>hwdb: Chuwi Hi12 (#17042)\\n\\nDifferent bios ve...</td>\n",
       "      <td>diff --git a/hwdb.d/60-sensor.hwdb b/hwdb.d/60...</td>\n",
       "      <td>[-0.062666506, -0.1289232, 0.048642106, -0.153...</td>\n",
       "    </tr>\n",
       "    <tr>\n",
       "      <th>10099</th>\n",
       "      <td>negative</td>\n",
       "      <td>Clarify text regarding enabling/disabling modu...</td>\n",
       "      <td>diff --git a/config-templates/config.php b/con...</td>\n",
       "      <td>[0.054796852, -0.23509139, -0.031717252, 0.119...</td>\n",
       "    </tr>\n",
       "    <tr>\n",
       "      <th>10100</th>\n",
       "      <td>negative</td>\n",
       "      <td>Merge branch 'documentation-update' into 'mast...</td>\n",
       "      <td>diff --git a/docs/api/index.rst b/docs/api/ind...</td>\n",
       "      <td>[-0.12838666, 0.07940822, -0.011249377, 0.0323...</td>\n",
       "    </tr>\n",
       "    <tr>\n",
       "      <th>10101</th>\n",
       "      <td>positive</td>\n",
       "      <td>0.9.8.rc1</td>\n",
       "      <td>diff --git a/front/sh/df.php b/front/sh/df.php...</td>\n",
       "      <td>[-0.09879244, 0.22537407, 0.027181204, -0.0047...</td>\n",
       "    </tr>\n",
       "  </tbody>\n",
       "</table>\n",
       "<p>10102 rows × 4 columns</p>\n",
       "</div>"
      ],
      "text/plain": [
       "          label                                               text  \\\n",
       "0      negative                                  Copyright header.   \n",
       "1      negative                                 :art: 部分类增加实现序列化接口   \n",
       "2      negative                           Update copyright to 2020   \n",
       "3      negative  test case for testing old knownnodes pickle\\n-...   \n",
       "4      negative                               Introspection fixes.   \n",
       "...         ...                                                ...   \n",
       "10097  negative                                      Fix alignment   \n",
       "10098  negative  hwdb: Chuwi Hi12 (#17042)\\n\\nDifferent bios ve...   \n",
       "10099  negative  Clarify text regarding enabling/disabling modu...   \n",
       "10100  negative  Merge branch 'documentation-update' into 'mast...   \n",
       "10101  positive                                          0.9.8.rc1   \n",
       "\n",
       "                                                    diff  \\\n",
       "0      diff --git a/src/main/java/org/projectforge/ad...   \n",
       "1      diff --git a/weixin-java-mp/src/main/java/me/c...   \n",
       "2      diff --git a/README.rst b/README.rst\\nindex 76...   \n",
       "3      diff --git a/src/network/knownnodes.py b/src/n...   \n",
       "4      diff --git a/gsf/gsf-docprop-vector.c b/gsf/gs...   \n",
       "...                                                  ...   \n",
       "10097  diff --git a/wwwroot/cgi-bin/awstats.pl b/wwwr...   \n",
       "10098  diff --git a/hwdb.d/60-sensor.hwdb b/hwdb.d/60...   \n",
       "10099  diff --git a/config-templates/config.php b/con...   \n",
       "10100  diff --git a/docs/api/index.rst b/docs/api/ind...   \n",
       "10101  diff --git a/front/sh/df.php b/front/sh/df.php...   \n",
       "\n",
       "                                              embeddings  \n",
       "0      [0.10010557, -0.13413383, -0.0052697547, 0.032...  \n",
       "1      [0.11699601, -0.064321205, -0.036785033, 0.024...  \n",
       "2      [0.05565265, 0.37451336, -0.0034549485, -0.130...  \n",
       "3      [-0.080094546, 0.14758536, 0.027495546, 0.0664...  \n",
       "4      [-0.0144902775, 0.2714296, -0.027338658, 0.000...  \n",
       "...                                                  ...  \n",
       "10097  [-0.12206936, -0.13066295, -0.1028094, 0.01713...  \n",
       "10098  [-0.062666506, -0.1289232, 0.048642106, -0.153...  \n",
       "10099  [0.054796852, -0.23509139, -0.031717252, 0.119...  \n",
       "10100  [-0.12838666, 0.07940822, -0.011249377, 0.0323...  \n",
       "10101  [-0.09879244, 0.22537407, 0.027181204, -0.0047...  \n",
       "\n",
       "[10102 rows x 4 columns]"
      ]
     },
     "execution_count": 10,
     "metadata": {},
     "output_type": "execute_result"
    }
   ],
   "source": [
    "test"
   ]
  },
  {
   "cell_type": "code",
   "execution_count": 11,
   "id": "b95f20d0-163a-460b-88b6-e883c9f17eaa",
   "metadata": {
    "execution": {
     "iopub.execute_input": "2024-05-29T07:53:20.802622Z",
     "iopub.status.busy": "2024-05-29T07:53:20.802387Z",
     "iopub.status.idle": "2024-05-29T07:53:20.808083Z",
     "shell.execute_reply": "2024-05-29T07:53:20.807349Z",
     "shell.execute_reply.started": "2024-05-29T07:53:20.802598Z"
    },
    "id": "b95f20d0-163a-460b-88b6-e883c9f17eaa"
   },
   "outputs": [],
   "source": [
    "X_train = train['embeddings'].to_list()\n",
    "X_test = test['embeddings'].to_list()\n",
    "\n",
    "y_train = train['label'].to_list()\n",
    "y_test = test['label'].to_list()"
   ]
  },
  {
   "cell_type": "code",
   "execution_count": 12,
   "id": "a6501389-0c86-442d-85cf-f04ad146703f",
   "metadata": {
    "colab": {
     "base_uri": "https://localhost:8080/",
     "height": 75
    },
    "execution": {
     "iopub.execute_input": "2024-05-29T07:53:20.809527Z",
     "iopub.status.busy": "2024-05-29T07:53:20.809293Z",
     "iopub.status.idle": "2024-05-29T07:53:20.827925Z",
     "shell.execute_reply": "2024-05-29T07:53:20.827243Z",
     "shell.execute_reply.started": "2024-05-29T07:53:20.809504Z"
    },
    "id": "a6501389-0c86-442d-85cf-f04ad146703f",
    "outputId": "0e3879c6-30f1-40b9-8114-36ac31bfda31"
   },
   "outputs": [
    {
     "data": {
      "text/html": [
       "<style>#sk-container-id-1 {color: black;}#sk-container-id-1 pre{padding: 0;}#sk-container-id-1 div.sk-toggleable {background-color: white;}#sk-container-id-1 label.sk-toggleable__label {cursor: pointer;display: block;width: 100%;margin-bottom: 0;padding: 0.3em;box-sizing: border-box;text-align: center;}#sk-container-id-1 label.sk-toggleable__label-arrow:before {content: \"▸\";float: left;margin-right: 0.25em;color: #696969;}#sk-container-id-1 label.sk-toggleable__label-arrow:hover:before {color: black;}#sk-container-id-1 div.sk-estimator:hover label.sk-toggleable__label-arrow:before {color: black;}#sk-container-id-1 div.sk-toggleable__content {max-height: 0;max-width: 0;overflow: hidden;text-align: left;background-color: #f0f8ff;}#sk-container-id-1 div.sk-toggleable__content pre {margin: 0.2em;color: black;border-radius: 0.25em;background-color: #f0f8ff;}#sk-container-id-1 input.sk-toggleable__control:checked~div.sk-toggleable__content {max-height: 200px;max-width: 100%;overflow: auto;}#sk-container-id-1 input.sk-toggleable__control:checked~label.sk-toggleable__label-arrow:before {content: \"▾\";}#sk-container-id-1 div.sk-estimator input.sk-toggleable__control:checked~label.sk-toggleable__label {background-color: #d4ebff;}#sk-container-id-1 div.sk-label input.sk-toggleable__control:checked~label.sk-toggleable__label {background-color: #d4ebff;}#sk-container-id-1 input.sk-hidden--visually {border: 0;clip: rect(1px 1px 1px 1px);clip: rect(1px, 1px, 1px, 1px);height: 1px;margin: -1px;overflow: hidden;padding: 0;position: absolute;width: 1px;}#sk-container-id-1 div.sk-estimator {font-family: monospace;background-color: #f0f8ff;border: 1px dotted black;border-radius: 0.25em;box-sizing: border-box;margin-bottom: 0.5em;}#sk-container-id-1 div.sk-estimator:hover {background-color: #d4ebff;}#sk-container-id-1 div.sk-parallel-item::after {content: \"\";width: 100%;border-bottom: 1px solid gray;flex-grow: 1;}#sk-container-id-1 div.sk-label:hover label.sk-toggleable__label {background-color: #d4ebff;}#sk-container-id-1 div.sk-serial::before {content: \"\";position: absolute;border-left: 1px solid gray;box-sizing: border-box;top: 0;bottom: 0;left: 50%;z-index: 0;}#sk-container-id-1 div.sk-serial {display: flex;flex-direction: column;align-items: center;background-color: white;padding-right: 0.2em;padding-left: 0.2em;position: relative;}#sk-container-id-1 div.sk-item {position: relative;z-index: 1;}#sk-container-id-1 div.sk-parallel {display: flex;align-items: stretch;justify-content: center;background-color: white;position: relative;}#sk-container-id-1 div.sk-item::before, #sk-container-id-1 div.sk-parallel-item::before {content: \"\";position: absolute;border-left: 1px solid gray;box-sizing: border-box;top: 0;bottom: 0;left: 50%;z-index: -1;}#sk-container-id-1 div.sk-parallel-item {display: flex;flex-direction: column;z-index: 1;position: relative;background-color: white;}#sk-container-id-1 div.sk-parallel-item:first-child::after {align-self: flex-end;width: 50%;}#sk-container-id-1 div.sk-parallel-item:last-child::after {align-self: flex-start;width: 50%;}#sk-container-id-1 div.sk-parallel-item:only-child::after {width: 0;}#sk-container-id-1 div.sk-dashed-wrapped {border: 1px dashed gray;margin: 0 0.4em 0.5em 0.4em;box-sizing: border-box;padding-bottom: 0.4em;background-color: white;}#sk-container-id-1 div.sk-label label {font-family: monospace;font-weight: bold;display: inline-block;line-height: 1.2em;}#sk-container-id-1 div.sk-label-container {text-align: center;}#sk-container-id-1 div.sk-container {/* jupyter's `normalize.less` sets `[hidden] { display: none; }` but bootstrap.min.css set `[hidden] { display: none !important; }` so we also need the `!important` here to be able to override the default hidden behavior on the sphinx rendered scikit-learn.org. See: https://github.com/scikit-learn/scikit-learn/issues/21755 */display: inline-block !important;position: relative;}#sk-container-id-1 div.sk-text-repr-fallback {display: none;}</style><div id=\"sk-container-id-1\" class=\"sk-top-container\"><div class=\"sk-text-repr-fallback\"><pre>LogisticRegression()</pre><b>In a Jupyter environment, please rerun this cell to show the HTML representation or trust the notebook. <br />On GitHub, the HTML representation is unable to render, please try loading this page with nbviewer.org.</b></div><div class=\"sk-container\" hidden><div class=\"sk-item\"><div class=\"sk-estimator sk-toggleable\"><input class=\"sk-toggleable__control sk-hidden--visually\" id=\"sk-estimator-id-1\" type=\"checkbox\" checked><label for=\"sk-estimator-id-1\" class=\"sk-toggleable__label sk-toggleable__label-arrow\">LogisticRegression</label><div class=\"sk-toggleable__content\"><pre>LogisticRegression()</pre></div></div></div></div></div>"
      ],
      "text/plain": [
       "LogisticRegression()"
      ]
     },
     "execution_count": 12,
     "metadata": {},
     "output_type": "execute_result"
    }
   ],
   "source": [
    "from sklearn.linear_model import LogisticRegression\n",
    "LR = LogisticRegression()\n",
    "LR.fit(X_train,y_train)"
   ]
  },
  {
   "cell_type": "code",
   "execution_count": 14,
   "id": "86e85ae4-76a0-4d00-8b0c-e867356c07f3",
   "metadata": {
    "colab": {
     "base_uri": "https://localhost:8080/"
    },
    "execution": {
     "iopub.execute_input": "2024-05-29T07:53:55.091982Z",
     "iopub.status.busy": "2024-05-29T07:53:55.091332Z",
     "iopub.status.idle": "2024-05-29T07:53:55.393600Z",
     "shell.execute_reply": "2024-05-29T07:53:55.392830Z",
     "shell.execute_reply.started": "2024-05-29T07:53:55.091924Z"
    },
    "id": "86e85ae4-76a0-4d00-8b0c-e867356c07f3",
    "outputId": "f674caf9-75ea-45b2-a50c-41934b5c049f"
   },
   "outputs": [
    {
     "name": "stdout",
     "output_type": "stream",
     "text": [
      "Logistic Regression Precision: 0.6815428044124127\n",
      "Logistic Regression Recall: 0.6899623836863987\n",
      "Logistic Regression Recall: 0.6641527018666288\n",
      "Logistic Regression Accuracy: 0.6899623836863987\n"
     ]
    }
   ],
   "source": [
    "from sklearn import metrics\n",
    "predicted = LR.predict(X_test)\n",
    "\n",
    "print(\"Logistic Regression Precision:\",metrics.precision_score(y_test, predicted,average='weighted'))\n",
    "print(\"Logistic Regression Recall:\",metrics.recall_score(y_test, predicted,average='weighted'))\n",
    "print(\"Logistic Regression Recall:\",metrics.f1_score(y_test, predicted,average='weighted'))\n",
    "print(\"Logistic Regression Accuracy:\",metrics.accuracy_score(y_test, predicted))"
   ]
  },
  {
   "cell_type": "code",
   "execution_count": null,
   "id": "166dcf9b-a0bd-4b60-854c-c6535c22a111",
   "metadata": {
    "id": "166dcf9b-a0bd-4b60-854c-c6535c22a111"
   },
   "outputs": [],
   "source": []
  },
  {
   "cell_type": "code",
   "execution_count": null,
   "id": "af21aba7-66cd-4762-b5d4-6d27650bba7e",
   "metadata": {
    "id": "af21aba7-66cd-4762-b5d4-6d27650bba7e"
   },
   "outputs": [],
   "source": []
  },
  {
   "cell_type": "code",
   "execution_count": null,
   "id": "6a6e2008-2b04-43c7-9c72-3f9fa9b6bafe",
   "metadata": {
    "id": "6a6e2008-2b04-43c7-9c72-3f9fa9b6bafe"
   },
   "outputs": [],
   "source": []
  },
  {
   "cell_type": "code",
   "execution_count": null,
   "id": "99ef5d5b-1f8e-4b10-aa74-963f9c4429d9",
   "metadata": {
    "id": "99ef5d5b-1f8e-4b10-aa74-963f9c4429d9"
   },
   "outputs": [],
   "source": []
  }
 ],
 "metadata": {
  "accelerator": "GPU",
  "colab": {
   "gpuType": "T4",
   "provenance": []
  },
  "kernelspec": {
   "display_name": "Python 3 (ipykernel)",
   "language": "python",
   "name": "python3"
  },
  "language_info": {
   "codemirror_mode": {
    "name": "ipython",
    "version": 3
   },
   "file_extension": ".py",
   "mimetype": "text/x-python",
   "name": "python",
   "nbconvert_exporter": "python",
   "pygments_lexer": "ipython3",
   "version": "3.11.8"
  }
 },
 "nbformat": 4,
 "nbformat_minor": 5
}
