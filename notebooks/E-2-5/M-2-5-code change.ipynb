{
 "cells": [
  {
   "cell_type": "code",
   "execution_count": 1,
   "id": "77d93e6a-106b-4abd-87e7-1243d4c51126",
   "metadata": {
    "execution": {
     "iopub.execute_input": "2024-05-26T02:33:48.362088Z",
     "iopub.status.busy": "2024-05-26T02:33:48.361761Z",
     "iopub.status.idle": "2024-05-26T02:33:52.659337Z",
     "shell.execute_reply": "2024-05-26T02:33:52.658258Z",
     "shell.execute_reply.started": "2024-05-26T02:33:48.362056Z"
    }
   },
   "outputs": [
    {
     "name": "stdout",
     "output_type": "stream",
     "text": [
      "\n",
      "CommitFit\n"
     ]
    }
   ],
   "source": [
    "# !pip install transformers accelerate\n",
    "from transformers import AutoTokenizer, AutoModel, EarlyStoppingCallback, AutoModelForSequenceClassification, AutoConfig,Trainer, TrainingArguments,DataCollatorWithPadding\n",
    "import torch\n",
    "import numpy as np\n",
    "import pandas as pd\n",
    "# !pip install datasets\n",
    "from datasets import load_metric\n",
    "# %pip install evaluate\n",
    "from evaluate import evaluator\n",
    "from sklearn.model_selection import train_test_split\n",
    "# from ipywidgets import FloatProgress\n",
    "import csv\n",
    "from optuna import Trial\n",
    "from typing import Dict, Union, Any\n",
    "import os\n",
    "import sys\n",
    "# notebook_login()\n",
    "\n",
    "csv.field_size_limit(500 * 1024 * 1024)\n",
    "CUDA_LAUNCH_BLOCKING=1\n",
    "# get pwd\n",
    "notebook_path = os.path.abspath('')\n",
    "\n",
    "# Find the part of the path that contains 'commitFit'\n",
    "commit_fit_path = None\n",
    "for part in notebook_path.split(os.sep):\n",
    "    print(part)\n",
    "    if 'CommitFit' in part:\n",
    "        commit_fit_path = notebook_path.split(part)[0] + part\n",
    "        break\n",
    "\n",
    "if commit_fit_path is None:\n",
    "    raise ValueError(\"Path containing 'commitFit' not found in notebook path.\")\n",
    "\n",
    "# Add commitFit directory to Python path, so we can import moudule from commitfit folder directly\n",
    "if commit_fit_path not in sys.path:\n",
    "    sys.path.append(commit_fit_path)\n",
    "\n",
    "from commitfit import CommitFitModel, CommitFitTrainer "
   ]
  },
  {
   "cell_type": "code",
   "execution_count": 2,
   "id": "9ef5359f-9526-4d19-a2da-7988dc1ea04f",
   "metadata": {
    "execution": {
     "iopub.execute_input": "2024-05-26T02:33:52.661500Z",
     "iopub.status.busy": "2024-05-26T02:33:52.661037Z",
     "iopub.status.idle": "2024-05-26T02:33:56.443503Z",
     "shell.execute_reply": "2024-05-26T02:33:56.442445Z",
     "shell.execute_reply.started": "2024-05-26T02:33:52.661468Z"
    }
   },
   "outputs": [],
   "source": [
    "train = pd.read_csv(r'train.csv', encoding='utf_8_sig')\n",
    "test = pd.read_csv(r'test.csv', encoding='utf_8_sig')\n"
   ]
  },
  {
   "cell_type": "code",
   "execution_count": 3,
   "id": "0c1f2190-45fb-45c5-b158-b2243760e42e",
   "metadata": {
    "execution": {
     "iopub.execute_input": "2024-05-26T02:33:56.444963Z",
     "iopub.status.busy": "2024-05-26T02:33:56.444649Z",
     "iopub.status.idle": "2024-05-26T02:33:56.467565Z",
     "shell.execute_reply": "2024-05-26T02:33:56.466628Z",
     "shell.execute_reply.started": "2024-05-26T02:33:56.444932Z"
    }
   },
   "outputs": [
    {
     "data": {
      "text/html": [
       "<div>\n",
       "<style scoped>\n",
       "    .dataframe tbody tr th:only-of-type {\n",
       "        vertical-align: middle;\n",
       "    }\n",
       "\n",
       "    .dataframe tbody tr th {\n",
       "        vertical-align: top;\n",
       "    }\n",
       "\n",
       "    .dataframe thead th {\n",
       "        text-align: right;\n",
       "    }\n",
       "</style>\n",
       "<table border=\"1\" class=\"dataframe\">\n",
       "  <thead>\n",
       "    <tr style=\"text-align: right;\">\n",
       "      <th></th>\n",
       "      <th>label</th>\n",
       "      <th>text</th>\n",
       "      <th>diff</th>\n",
       "    </tr>\n",
       "  </thead>\n",
       "  <tbody>\n",
       "    <tr>\n",
       "      <th>0</th>\n",
       "      <td>negative</td>\n",
       "      <td>Fixed link errors</td>\n",
       "      <td>diff --git a/src/irisnet/CMakeLists.txt b/src/...</td>\n",
       "    </tr>\n",
       "    <tr>\n",
       "      <th>1</th>\n",
       "      <td>positive</td>\n",
       "      <td>Check types to avoid invalid reads/writes.</td>\n",
       "      <td>diff --git a/src/file.c b/src/file.c\\nindex 4d...</td>\n",
       "    </tr>\n",
       "    <tr>\n",
       "      <th>2</th>\n",
       "      <td>positive</td>\n",
       "      <td>https://github.com/ImageMagick/ImageMagick/iss...</td>\n",
       "      <td>diff --git a/coders/png.c b/coders/png.c\\ninde...</td>\n",
       "    </tr>\n",
       "    <tr>\n",
       "      <th>3</th>\n",
       "      <td>positive</td>\n",
       "      <td>XSS 취약점 수정</td>\n",
       "      <td>diff --git a/adm/boardgroup_form.php b/adm/boa...</td>\n",
       "    </tr>\n",
       "    <tr>\n",
       "      <th>4</th>\n",
       "      <td>negative</td>\n",
       "      <td>Change distribution URL.\\n\\ngit-svn-id: https:...</td>\n",
       "      <td>diff --git a/c/xml-security-c.spec b/c/xml-sec...</td>\n",
       "    </tr>\n",
       "    <tr>\n",
       "      <th>5</th>\n",
       "      <td>negative</td>\n",
       "      <td>Merge pull request #2426 from alvarobartt/deve...</td>\n",
       "      <td>diff --git a/nltk/tag/stanford.py b/nltk/tag/s...</td>\n",
       "    </tr>\n",
       "    <tr>\n",
       "      <th>6</th>\n",
       "      <td>negative</td>\n",
       "      <td>2021 license</td>\n",
       "      <td>diff --git a/Gruntfile.js b/Gruntfile.js\\ninde...</td>\n",
       "    </tr>\n",
       "    <tr>\n",
       "      <th>7</th>\n",
       "      <td>positive</td>\n",
       "      <td>SPOOLSS: Try to avoid an infinite loop.\\n\\nUse...</td>\n",
       "      <td>diff --git a/epan/dissectors/packet-dcerpc-spo...</td>\n",
       "    </tr>\n",
       "    <tr>\n",
       "      <th>8</th>\n",
       "      <td>negative</td>\n",
       "      <td>Upgrade: Bump grape from 1.3.3 to 1.5.0\\n\\nBum...</td>\n",
       "      <td>diff --git a/Gemfile.lock b/Gemfile.lock\\ninde...</td>\n",
       "    </tr>\n",
       "    <tr>\n",
       "      <th>9</th>\n",
       "      <td>negative</td>\n",
       "      <td>Merge branch '8.5' into 9.5</td>\n",
       "      <td>diff --git a/src/Framework/Assert.php b/src/Fr...</td>\n",
       "    </tr>\n",
       "  </tbody>\n",
       "</table>\n",
       "</div>"
      ],
      "text/plain": [
       "      label                                               text  \\\n",
       "0  negative                                  Fixed link errors   \n",
       "1  positive         Check types to avoid invalid reads/writes.   \n",
       "2  positive  https://github.com/ImageMagick/ImageMagick/iss...   \n",
       "3  positive                                         XSS 취약점 수정   \n",
       "4  negative  Change distribution URL.\\n\\ngit-svn-id: https:...   \n",
       "5  negative  Merge pull request #2426 from alvarobartt/deve...   \n",
       "6  negative                                       2021 license   \n",
       "7  positive  SPOOLSS: Try to avoid an infinite loop.\\n\\nUse...   \n",
       "8  negative  Upgrade: Bump grape from 1.3.3 to 1.5.0\\n\\nBum...   \n",
       "9  negative                        Merge branch '8.5' into 9.5   \n",
       "\n",
       "                                                diff  \n",
       "0  diff --git a/src/irisnet/CMakeLists.txt b/src/...  \n",
       "1  diff --git a/src/file.c b/src/file.c\\nindex 4d...  \n",
       "2  diff --git a/coders/png.c b/coders/png.c\\ninde...  \n",
       "3  diff --git a/adm/boardgroup_form.php b/adm/boa...  \n",
       "4  diff --git a/c/xml-security-c.spec b/c/xml-sec...  \n",
       "5  diff --git a/nltk/tag/stanford.py b/nltk/tag/s...  \n",
       "6  diff --git a/Gruntfile.js b/Gruntfile.js\\ninde...  \n",
       "7  diff --git a/epan/dissectors/packet-dcerpc-spo...  \n",
       "8  diff --git a/Gemfile.lock b/Gemfile.lock\\ninde...  \n",
       "9  diff --git a/src/Framework/Assert.php b/src/Fr...  "
      ]
     },
     "execution_count": 3,
     "metadata": {},
     "output_type": "execute_result"
    }
   ],
   "source": [
    "train"
   ]
  },
  {
   "cell_type": "code",
   "execution_count": 4,
   "id": "26803da1-da52-48a7-8040-70914c05f2ea",
   "metadata": {
    "execution": {
     "iopub.execute_input": "2024-05-26T02:33:56.470080Z",
     "iopub.status.busy": "2024-05-26T02:33:56.469700Z",
     "iopub.status.idle": "2024-05-26T02:33:56.476682Z",
     "shell.execute_reply": "2024-05-26T02:33:56.475752Z",
     "shell.execute_reply.started": "2024-05-26T02:33:56.470049Z"
    }
   },
   "outputs": [],
   "source": [
    "train_code_change = list(train['diff'].astype(str))\n",
    "test_code_change = list(test['diff'].astype(str))"
   ]
  },
  {
   "cell_type": "code",
   "execution_count": 5,
   "id": "ecb125ae-f537-4934-bbe2-cbf1e78c96bb",
   "metadata": {
    "execution": {
     "iopub.execute_input": "2024-05-26T02:33:56.478081Z",
     "iopub.status.busy": "2024-05-26T02:33:56.477742Z",
     "iopub.status.idle": "2024-05-26T02:33:56.482458Z",
     "shell.execute_reply": "2024-05-26T02:33:56.481507Z",
     "shell.execute_reply.started": "2024-05-26T02:33:56.478052Z"
    }
   },
   "outputs": [],
   "source": [
    "# !pip install setfit\n",
    "from commitfit import get_templated_dataset,sample_dataset\n",
    "from datasets import Dataset, load_metric"
   ]
  },
  {
   "cell_type": "code",
   "execution_count": 6,
   "id": "2e214dbb-075e-4fbf-adc9-f3533801587e",
   "metadata": {
    "execution": {
     "iopub.execute_input": "2024-05-26T02:33:56.483832Z",
     "iopub.status.busy": "2024-05-26T02:33:56.483500Z",
     "iopub.status.idle": "2024-05-26T02:33:59.200243Z",
     "shell.execute_reply": "2024-05-26T02:33:59.199248Z",
     "shell.execute_reply.started": "2024-05-26T02:33:56.483803Z"
    }
   },
   "outputs": [],
   "source": [
    "Dataset_train = Dataset.from_pandas(train)\n",
    "test_dataset = Dataset.from_pandas(test)"
   ]
  },
  {
   "cell_type": "code",
   "execution_count": 7,
   "id": "1a8ec7ec-1112-4140-8ccd-516ba9a1b1a8",
   "metadata": {
    "execution": {
     "iopub.execute_input": "2024-05-26T02:33:59.201708Z",
     "iopub.status.busy": "2024-05-26T02:33:59.201330Z",
     "iopub.status.idle": "2024-05-26T02:33:59.253293Z",
     "shell.execute_reply": "2024-05-26T02:33:59.252385Z",
     "shell.execute_reply.started": "2024-05-26T02:33:59.201666Z"
    }
   },
   "outputs": [],
   "source": [
    "train_dataset = get_templated_dataset(Dataset_train, candidate_labels=['positive','negative'], sample_size=8)"
   ]
  },
  {
   "cell_type": "code",
   "execution_count": 8,
   "id": "c5ea76cd-69e5-4aa8-bf49-c9e746b63bbb",
   "metadata": {
    "execution": {
     "iopub.execute_input": "2024-05-26T02:33:59.254582Z",
     "iopub.status.busy": "2024-05-26T02:33:59.254285Z",
     "iopub.status.idle": "2024-05-26T02:33:59.260111Z",
     "shell.execute_reply": "2024-05-26T02:33:59.259246Z",
     "shell.execute_reply.started": "2024-05-26T02:33:59.254552Z"
    }
   },
   "outputs": [
    {
     "data": {
      "text/plain": [
       "Dataset({\n",
       "    features: ['label', 'text', 'diff'],\n",
       "    num_rows: 26\n",
       "})"
      ]
     },
     "execution_count": 8,
     "metadata": {},
     "output_type": "execute_result"
    }
   ],
   "source": [
    "# list(train['message'].astype(str).values)\n",
    "train_dataset"
   ]
  },
  {
   "cell_type": "code",
   "execution_count": 9,
   "id": "ee30affe-0ec9-46a3-bcaa-a1bd9422c939",
   "metadata": {
    "execution": {
     "iopub.execute_input": "2024-05-26T02:33:59.261345Z",
     "iopub.status.busy": "2024-05-26T02:33:59.261061Z",
     "iopub.status.idle": "2024-05-26T02:33:59.266725Z",
     "shell.execute_reply": "2024-05-26T02:33:59.265846Z",
     "shell.execute_reply.started": "2024-05-26T02:33:59.261317Z"
    }
   },
   "outputs": [
    {
     "data": {
      "text/plain": [
       "10"
      ]
     },
     "execution_count": 9,
     "metadata": {},
     "output_type": "execute_result"
    }
   ],
   "source": [
    "len(train)"
   ]
  },
  {
   "cell_type": "code",
   "execution_count": 10,
   "id": "84e38639-cf4b-4762-a1dc-cdc983938388",
   "metadata": {
    "execution": {
     "iopub.execute_input": "2024-05-26T02:33:59.270928Z",
     "iopub.status.busy": "2024-05-26T02:33:59.270585Z",
     "iopub.status.idle": "2024-05-26T02:33:59.279013Z",
     "shell.execute_reply": "2024-05-26T02:33:59.278117Z",
     "shell.execute_reply.started": "2024-05-26T02:33:59.270895Z"
    }
   },
   "outputs": [
    {
     "data": {
      "text/plain": [
       "label\n",
       "negative    6\n",
       "positive    4\n",
       "Name: count, dtype: int64"
      ]
     },
     "execution_count": 10,
     "metadata": {},
     "output_type": "execute_result"
    }
   ],
   "source": [
    "train['label'].value_counts()"
   ]
  },
  {
   "cell_type": "code",
   "execution_count": 11,
   "id": "3cf6c110-616d-45da-aa2e-4a5add26b3c0",
   "metadata": {
    "execution": {
     "iopub.execute_input": "2024-05-26T02:33:59.280258Z",
     "iopub.status.busy": "2024-05-26T02:33:59.279967Z",
     "iopub.status.idle": "2024-05-26T02:33:59.288297Z",
     "shell.execute_reply": "2024-05-26T02:33:59.287411Z",
     "shell.execute_reply.started": "2024-05-26T02:33:59.280229Z"
    }
   },
   "outputs": [
    {
     "data": {
      "text/plain": [
       "label\n",
       "negative    6341\n",
       "positive    3761\n",
       "Name: count, dtype: int64"
      ]
     },
     "execution_count": 11,
     "metadata": {},
     "output_type": "execute_result"
    }
   ],
   "source": [
    "test['label'].value_counts()"
   ]
  },
  {
   "cell_type": "code",
   "execution_count": 12,
   "id": "77117d87-5292-48f5-b077-74b47ccfd5eb",
   "metadata": {
    "execution": {
     "iopub.execute_input": "2024-05-26T02:33:59.289531Z",
     "iopub.status.busy": "2024-05-26T02:33:59.289244Z",
     "iopub.status.idle": "2024-05-26T02:33:59.294899Z",
     "shell.execute_reply": "2024-05-26T02:33:59.294033Z",
     "shell.execute_reply.started": "2024-05-26T02:33:59.289502Z"
    }
   },
   "outputs": [
    {
     "data": {
      "text/plain": [
       "26"
      ]
     },
     "execution_count": 12,
     "metadata": {},
     "output_type": "execute_result"
    }
   ],
   "source": [
    "len(train_dataset)"
   ]
  },
  {
   "cell_type": "code",
   "execution_count": 13,
   "id": "dca6275a-a567-4963-831c-8dd653341162",
   "metadata": {
    "execution": {
     "iopub.execute_input": "2024-05-26T02:33:59.296140Z",
     "iopub.status.busy": "2024-05-26T02:33:59.295857Z",
     "iopub.status.idle": "2024-05-26T02:33:59.301744Z",
     "shell.execute_reply": "2024-05-26T02:33:59.300867Z",
     "shell.execute_reply.started": "2024-05-26T02:33:59.296111Z"
    }
   },
   "outputs": [],
   "source": [
    "from sklearn import  metrics\n",
    "\n",
    "def compute_metrics(y_pred, y_test):\n",
    "    # print(y_pred,y_test)\n",
    "    # classification_report = metrics.classification_report(y_test,y_pred)\n",
    "    accuracy_score = metrics.accuracy_score(y_test,y_pred)\n",
    "    precision_score = metrics.precision_score(y_test,y_pred, average='weighted')\n",
    "    recall_score = metrics.recall_score(y_test,y_pred,average='weighted')\n",
    "    f1_score = metrics.f1_score(y_test,y_pred,average='weighted')\n",
    "\n",
    "    # return {\"classification_report\": classification_report}\n",
    "    return {\"precision\": precision_score,\"recall\": recall_score, \"f1\":f1_score, \"accuracy\": accuracy_score}"
   ]
  },
  {
   "cell_type": "code",
   "execution_count": 14,
   "id": "4229bc5c-2287-46f4-99a5-a095c0fc8b00",
   "metadata": {
    "execution": {
     "iopub.execute_input": "2024-05-26T02:33:59.302988Z",
     "iopub.status.busy": "2024-05-26T02:33:59.302697Z",
     "iopub.status.idle": "2024-05-26T02:33:59.311170Z",
     "shell.execute_reply": "2024-05-26T02:33:59.310255Z",
     "shell.execute_reply.started": "2024-05-26T02:33:59.302960Z"
    }
   },
   "outputs": [
    {
     "data": {
      "text/plain": [
       "label\n",
       "negative    6341\n",
       "positive    3761\n",
       "Name: count, dtype: int64"
      ]
     },
     "execution_count": 14,
     "metadata": {},
     "output_type": "execute_result"
    }
   ],
   "source": [
    "test['label'].value_counts()"
   ]
  },
  {
   "cell_type": "code",
   "execution_count": 15,
   "id": "49e32d66-2fc2-4a53-bae1-13f8d67c5b6f",
   "metadata": {
    "execution": {
     "iopub.execute_input": "2024-05-26T02:33:59.312491Z",
     "iopub.status.busy": "2024-05-26T02:33:59.312142Z",
     "iopub.status.idle": "2024-05-26T02:33:59.317700Z",
     "shell.execute_reply": "2024-05-26T02:33:59.316881Z",
     "shell.execute_reply.started": "2024-05-26T02:33:59.312463Z"
    }
   },
   "outputs": [
    {
     "data": {
      "text/plain": [
       "Dataset({\n",
       "    features: ['label', 'text', 'diff'],\n",
       "    num_rows: 26\n",
       "})"
      ]
     },
     "execution_count": 15,
     "metadata": {},
     "output_type": "execute_result"
    }
   ],
   "source": [
    "train_dataset"
   ]
  },
  {
   "cell_type": "code",
   "execution_count": 16,
   "id": "b7c52074-c55f-4218-bc87-cdbc6e36a993",
   "metadata": {
    "execution": {
     "iopub.execute_input": "2024-05-26T02:33:59.318909Z",
     "iopub.status.busy": "2024-05-26T02:33:59.318629Z",
     "iopub.status.idle": "2024-05-26T02:33:59.336533Z",
     "shell.execute_reply": "2024-05-26T02:33:59.335537Z",
     "shell.execute_reply.started": "2024-05-26T02:33:59.318881Z"
    }
   },
   "outputs": [
    {
     "data": {
      "text/html": [
       "<div>\n",
       "<style scoped>\n",
       "    .dataframe tbody tr th:only-of-type {\n",
       "        vertical-align: middle;\n",
       "    }\n",
       "\n",
       "    .dataframe tbody tr th {\n",
       "        vertical-align: top;\n",
       "    }\n",
       "\n",
       "    .dataframe thead th {\n",
       "        text-align: right;\n",
       "    }\n",
       "</style>\n",
       "<table border=\"1\" class=\"dataframe\">\n",
       "  <thead>\n",
       "    <tr style=\"text-align: right;\">\n",
       "      <th></th>\n",
       "      <th>label</th>\n",
       "      <th>text</th>\n",
       "      <th>diff</th>\n",
       "    </tr>\n",
       "  </thead>\n",
       "  <tbody>\n",
       "    <tr>\n",
       "      <th>0</th>\n",
       "      <td>negative</td>\n",
       "      <td>Fixed link errors</td>\n",
       "      <td>diff --git a/src/irisnet/CMakeLists.txt b/src/...</td>\n",
       "    </tr>\n",
       "    <tr>\n",
       "      <th>1</th>\n",
       "      <td>positive</td>\n",
       "      <td>Check types to avoid invalid reads/writes.</td>\n",
       "      <td>diff --git a/src/file.c b/src/file.c\\nindex 4d...</td>\n",
       "    </tr>\n",
       "    <tr>\n",
       "      <th>2</th>\n",
       "      <td>positive</td>\n",
       "      <td>https://github.com/ImageMagick/ImageMagick/iss...</td>\n",
       "      <td>diff --git a/coders/png.c b/coders/png.c\\ninde...</td>\n",
       "    </tr>\n",
       "    <tr>\n",
       "      <th>3</th>\n",
       "      <td>positive</td>\n",
       "      <td>XSS 취약점 수정</td>\n",
       "      <td>diff --git a/adm/boardgroup_form.php b/adm/boa...</td>\n",
       "    </tr>\n",
       "    <tr>\n",
       "      <th>4</th>\n",
       "      <td>negative</td>\n",
       "      <td>Change distribution URL.\\n\\ngit-svn-id: https:...</td>\n",
       "      <td>diff --git a/c/xml-security-c.spec b/c/xml-sec...</td>\n",
       "    </tr>\n",
       "    <tr>\n",
       "      <th>5</th>\n",
       "      <td>negative</td>\n",
       "      <td>Merge pull request #2426 from alvarobartt/deve...</td>\n",
       "      <td>diff --git a/nltk/tag/stanford.py b/nltk/tag/s...</td>\n",
       "    </tr>\n",
       "    <tr>\n",
       "      <th>6</th>\n",
       "      <td>negative</td>\n",
       "      <td>2021 license</td>\n",
       "      <td>diff --git a/Gruntfile.js b/Gruntfile.js\\ninde...</td>\n",
       "    </tr>\n",
       "    <tr>\n",
       "      <th>7</th>\n",
       "      <td>positive</td>\n",
       "      <td>SPOOLSS: Try to avoid an infinite loop.\\n\\nUse...</td>\n",
       "      <td>diff --git a/epan/dissectors/packet-dcerpc-spo...</td>\n",
       "    </tr>\n",
       "    <tr>\n",
       "      <th>8</th>\n",
       "      <td>negative</td>\n",
       "      <td>Upgrade: Bump grape from 1.3.3 to 1.5.0\\n\\nBum...</td>\n",
       "      <td>diff --git a/Gemfile.lock b/Gemfile.lock\\ninde...</td>\n",
       "    </tr>\n",
       "    <tr>\n",
       "      <th>9</th>\n",
       "      <td>negative</td>\n",
       "      <td>Merge branch '8.5' into 9.5</td>\n",
       "      <td>diff --git a/src/Framework/Assert.php b/src/Fr...</td>\n",
       "    </tr>\n",
       "  </tbody>\n",
       "</table>\n",
       "</div>"
      ],
      "text/plain": [
       "      label                                               text  \\\n",
       "0  negative                                  Fixed link errors   \n",
       "1  positive         Check types to avoid invalid reads/writes.   \n",
       "2  positive  https://github.com/ImageMagick/ImageMagick/iss...   \n",
       "3  positive                                         XSS 취약점 수정   \n",
       "4  negative  Change distribution URL.\\n\\ngit-svn-id: https:...   \n",
       "5  negative  Merge pull request #2426 from alvarobartt/deve...   \n",
       "6  negative                                       2021 license   \n",
       "7  positive  SPOOLSS: Try to avoid an infinite loop.\\n\\nUse...   \n",
       "8  negative  Upgrade: Bump grape from 1.3.3 to 1.5.0\\n\\nBum...   \n",
       "9  negative                        Merge branch '8.5' into 9.5   \n",
       "\n",
       "                                                diff  \n",
       "0  diff --git a/src/irisnet/CMakeLists.txt b/src/...  \n",
       "1  diff --git a/src/file.c b/src/file.c\\nindex 4d...  \n",
       "2  diff --git a/coders/png.c b/coders/png.c\\ninde...  \n",
       "3  diff --git a/adm/boardgroup_form.php b/adm/boa...  \n",
       "4  diff --git a/c/xml-security-c.spec b/c/xml-sec...  \n",
       "5  diff --git a/nltk/tag/stanford.py b/nltk/tag/s...  \n",
       "6  diff --git a/Gruntfile.js b/Gruntfile.js\\ninde...  \n",
       "7  diff --git a/epan/dissectors/packet-dcerpc-spo...  \n",
       "8  diff --git a/Gemfile.lock b/Gemfile.lock\\ninde...  \n",
       "9  diff --git a/src/Framework/Assert.php b/src/Fr...  "
      ]
     },
     "execution_count": 16,
     "metadata": {},
     "output_type": "execute_result"
    }
   ],
   "source": [
    "train"
   ]
  },
  {
   "cell_type": "code",
   "execution_count": 17,
   "id": "d9ede869-1587-4e42-8879-e819e5961dca",
   "metadata": {
    "execution": {
     "iopub.execute_input": "2024-05-26T02:33:59.337992Z",
     "iopub.status.busy": "2024-05-26T02:33:59.337619Z",
     "iopub.status.idle": "2024-05-26T02:33:59.341535Z",
     "shell.execute_reply": "2024-05-26T02:33:59.340724Z",
     "shell.execute_reply.started": "2024-05-26T02:33:59.337962Z"
    }
   },
   "outputs": [],
   "source": [
    "model_id = r\"../../sentence-transformers/paraphrase-mpnet-base-v2\""
   ]
  },
  {
   "cell_type": "code",
   "execution_count": 18,
   "id": "a6501389-0c86-442d-85cf-f04ad146703f",
   "metadata": {
    "execution": {
     "iopub.execute_input": "2024-05-26T02:33:59.342840Z",
     "iopub.status.busy": "2024-05-26T02:33:59.342510Z",
     "iopub.status.idle": "2024-05-26T02:33:59.347823Z",
     "shell.execute_reply": "2024-05-26T02:33:59.347012Z",
     "shell.execute_reply.started": "2024-05-26T02:33:59.342812Z"
    }
   },
   "outputs": [],
   "source": [
    "def hp_space(trial: Trial) -> Dict[str, Union[float, int, str]]:\n",
    "    return {\n",
    "        \"learning_rate\": trial.suggest_float(\"learning_rate\", 1e-6, 1e-3, log=True),\n",
    "        # \"num_epochs\": trial.suggest_int(\"num_epochs\", 1, 3),\n",
    "        # \"batch_size\": trial.suggest_categorical(\"batch_size\", [8, 12, 16]),\n",
    "        # \"seed\": trial.suggest_int(\"seed\", 1, 40),\n",
    "        # \"num_iterations\": trial.suggest_int(\"num_iterations\", 10, 20),\n",
    "        # \"solver\": trial.suggest_categorical(\"solver\", [\"newton-cg\", \"lbfgs\", \"liblinear\"]),\n",
    "    }"
   ]
  },
  {
   "cell_type": "code",
   "execution_count": 19,
   "id": "8c9b5d23-63db-479e-afbb-ea526fe8a597",
   "metadata": {
    "execution": {
     "iopub.execute_input": "2024-05-26T02:33:59.349045Z",
     "iopub.status.busy": "2024-05-26T02:33:59.348761Z",
     "iopub.status.idle": "2024-05-26T02:33:59.353649Z",
     "shell.execute_reply": "2024-05-26T02:33:59.352826Z",
     "shell.execute_reply.started": "2024-05-26T02:33:59.349016Z"
    }
   },
   "outputs": [],
   "source": [
    "def model_init(params: Dict[str, Any]) -> CommitFitModel:\n",
    "    params = params or {}\n",
    "    # learning_rate = params.get(\"learning_rate\")\n",
    "    # num_iterations = params.get(\"num_iterations\", 20)\n",
    "    # solver = params.get(\"solver\", \"liblinear\")\n",
    "    # params = {\n",
    "    #     \"head_params\": {\n",
    "    #         # \"max_iter\": num_iterations,\n",
    "    #         # \"solver\": solver,\n",
    "    #     }\n",
    "    # }\n",
    "    return CommitFitModel.from_pretrained(model_id, **params)"
   ]
  },
  {
   "cell_type": "code",
   "execution_count": 20,
   "id": "ebb45bd6-996d-4b1f-afb7-a9a6f9c9eb06",
   "metadata": {
    "execution": {
     "iopub.execute_input": "2024-05-26T02:33:59.354927Z",
     "iopub.status.busy": "2024-05-26T02:33:59.354604Z",
     "iopub.status.idle": "2024-05-26T02:33:59.358810Z",
     "shell.execute_reply": "2024-05-26T02:33:59.357992Z",
     "shell.execute_reply.started": "2024-05-26T02:33:59.354899Z"
    }
   },
   "outputs": [],
   "source": [
    "def my_compute_objective(metrics):\n",
    "    print('+++++++++++',metrics)\n",
    "    return  metrics['accuracy']"
   ]
  },
  {
   "cell_type": "code",
   "execution_count": 21,
   "id": "2244f079-c2b8-4e01-aca4-f68e7ce8accb",
   "metadata": {
    "execution": {
     "iopub.execute_input": "2024-05-26T02:33:59.360013Z",
     "iopub.status.busy": "2024-05-26T02:33:59.359732Z",
     "iopub.status.idle": "2024-05-26T03:03:15.623299Z",
     "shell.execute_reply": "2024-05-26T03:03:15.622219Z",
     "shell.execute_reply.started": "2024-05-26T02:33:59.359985Z"
    }
   },
   "outputs": [
    {
     "name": "stderr",
     "output_type": "stream",
     "text": [
      "model_head.pkl not found in /CommitFit/sentence-transformers/paraphrase-mpnet-base-v2, initialising classification head with random weights. You should TRAIN this model on a downstream task to use it for predictions and inference.\n",
      "[I 2024-05-26 10:34:01,468] A new study created in memory with name: no-name-60ff1b94-82fe-4fcc-8b21-53b23a0ffa41\n",
      "Trial: {'learning_rate': 2.4259405334828273e-06}\n",
      "model_head.pkl not found in /CommitFit/sentence-transformers/paraphrase-mpnet-base-v2, initialising classification head with random weights. You should TRAIN this model on a downstream task to use it for predictions and inference.\n"
     ]
    },
    {
     "data": {
      "application/vnd.jupyter.widget-view+json": {
       "model_id": "79f5060988b54ed1b118644cc19424db",
       "version_major": 2,
       "version_minor": 0
      },
      "text/plain": [
       "Generating Training Pairs:   0%|          | 0/20 [00:00<?, ?it/s]"
      ]
     },
     "metadata": {},
     "output_type": "display_data"
    },
    {
     "name": "stderr",
     "output_type": "stream",
     "text": [
      "***** Running training *****\n",
      "  Num examples = 1040\n",
      "  Num epochs = 1\n",
      "  Total optimization steps = 65\n",
      "  Total train batch size = 16\n"
     ]
    },
    {
     "data": {
      "application/vnd.jupyter.widget-view+json": {
       "model_id": "f2ffe396ebc04dd38c780f7ff4c6e1b3",
       "version_major": 2,
       "version_minor": 0
      },
      "text/plain": [
       "Epoch:   0%|          | 0/1 [00:00<?, ?it/s]"
      ]
     },
     "metadata": {},
     "output_type": "display_data"
    },
    {
     "data": {
      "application/vnd.jupyter.widget-view+json": {
       "model_id": "d2c0e7666be1430c8483c05375359536",
       "version_major": 2,
       "version_minor": 0
      },
      "text/plain": [
       "Iteration:   0%|          | 0/65 [00:00<?, ?it/s]"
      ]
     },
     "metadata": {},
     "output_type": "display_data"
    },
    {
     "name": "stderr",
     "output_type": "stream",
     "text": [
      "***** Running evaluation *****\n",
      "/usr/local/lib/python3.11/dist-packages/sklearn/metrics/_classification.py:1469: UndefinedMetricWarning: Recall is ill-defined and being set to 0.0 in labels with no true samples. Use `zero_division` parameter to control this behavior.\n",
      "  _warn_prf(average, modifier, msg_start, len(result))\n",
      "[I 2024-05-26 10:36:59,141] Trial 0 finished with value: 0.7005543456741239 and parameters: {'learning_rate': 2.4259405334828273e-06}. Best is trial 0 with value: 0.7005543456741239.\n",
      "Trial: {'learning_rate': 5.821075126267048e-06}\n"
     ]
    },
    {
     "name": "stdout",
     "output_type": "stream",
     "text": [
      "+++++++++++ {'precision': 0.6942595231891902, 'recall': 0.7005543456741239, 'f1': 0.6774727919592385, 'accuracy': 0.7005543456741239}\n"
     ]
    },
    {
     "name": "stderr",
     "output_type": "stream",
     "text": [
      "model_head.pkl not found in /CommitFit/sentence-transformers/paraphrase-mpnet-base-v2, initialising classification head with random weights. You should TRAIN this model on a downstream task to use it for predictions and inference.\n"
     ]
    },
    {
     "data": {
      "application/vnd.jupyter.widget-view+json": {
       "model_id": "0e3eac7d663345398c98d0e4230a68ea",
       "version_major": 2,
       "version_minor": 0
      },
      "text/plain": [
       "Generating Training Pairs:   0%|          | 0/20 [00:00<?, ?it/s]"
      ]
     },
     "metadata": {},
     "output_type": "display_data"
    },
    {
     "name": "stderr",
     "output_type": "stream",
     "text": [
      "***** Running training *****\n",
      "  Num examples = 1040\n",
      "  Num epochs = 1\n",
      "  Total optimization steps = 65\n",
      "  Total train batch size = 16\n"
     ]
    },
    {
     "data": {
      "application/vnd.jupyter.widget-view+json": {
       "model_id": "710f4b15a6d34ee8811a645570846c4d",
       "version_major": 2,
       "version_minor": 0
      },
      "text/plain": [
       "Epoch:   0%|          | 0/1 [00:00<?, ?it/s]"
      ]
     },
     "metadata": {},
     "output_type": "display_data"
    },
    {
     "data": {
      "application/vnd.jupyter.widget-view+json": {
       "model_id": "249dd2b871cf4b0ca98675fba64db56c",
       "version_major": 2,
       "version_minor": 0
      },
      "text/plain": [
       "Iteration:   0%|          | 0/65 [00:00<?, ?it/s]"
      ]
     },
     "metadata": {},
     "output_type": "display_data"
    },
    {
     "name": "stderr",
     "output_type": "stream",
     "text": [
      "***** Running evaluation *****\n",
      "/usr/local/lib/python3.11/dist-packages/sklearn/metrics/_classification.py:1469: UndefinedMetricWarning: Recall is ill-defined and being set to 0.0 in labels with no true samples. Use `zero_division` parameter to control this behavior.\n",
      "  _warn_prf(average, modifier, msg_start, len(result))\n",
      "[I 2024-05-26 10:39:54,306] Trial 1 finished with value: 0.7002573747772718 and parameters: {'learning_rate': 5.821075126267048e-06}. Best is trial 0 with value: 0.7005543456741239.\n",
      "Trial: {'learning_rate': 7.588943266152602e-05}\n"
     ]
    },
    {
     "name": "stdout",
     "output_type": "stream",
     "text": [
      "+++++++++++ {'precision': 0.6911779934723907, 'recall': 0.7002573747772718, 'f1': 0.6854494640009944, 'accuracy': 0.7002573747772718}\n"
     ]
    },
    {
     "name": "stderr",
     "output_type": "stream",
     "text": [
      "model_head.pkl not found in /CommitFit/sentence-transformers/paraphrase-mpnet-base-v2, initialising classification head with random weights. You should TRAIN this model on a downstream task to use it for predictions and inference.\n"
     ]
    },
    {
     "data": {
      "application/vnd.jupyter.widget-view+json": {
       "model_id": "6a4dbd72f0a24b46979119b2225d3932",
       "version_major": 2,
       "version_minor": 0
      },
      "text/plain": [
       "Generating Training Pairs:   0%|          | 0/20 [00:00<?, ?it/s]"
      ]
     },
     "metadata": {},
     "output_type": "display_data"
    },
    {
     "name": "stderr",
     "output_type": "stream",
     "text": [
      "***** Running training *****\n",
      "  Num examples = 1040\n",
      "  Num epochs = 1\n",
      "  Total optimization steps = 65\n",
      "  Total train batch size = 16\n"
     ]
    },
    {
     "data": {
      "application/vnd.jupyter.widget-view+json": {
       "model_id": "0adbfd58536943eabacba09ea9ac11f1",
       "version_major": 2,
       "version_minor": 0
      },
      "text/plain": [
       "Epoch:   0%|          | 0/1 [00:00<?, ?it/s]"
      ]
     },
     "metadata": {},
     "output_type": "display_data"
    },
    {
     "data": {
      "application/vnd.jupyter.widget-view+json": {
       "model_id": "b30478a81fa040bca1a48c0a6a70f056",
       "version_major": 2,
       "version_minor": 0
      },
      "text/plain": [
       "Iteration:   0%|          | 0/65 [00:00<?, ?it/s]"
      ]
     },
     "metadata": {},
     "output_type": "display_data"
    },
    {
     "name": "stderr",
     "output_type": "stream",
     "text": [
      "***** Running evaluation *****\n",
      "/usr/local/lib/python3.11/dist-packages/sklearn/metrics/_classification.py:1469: UndefinedMetricWarning: Recall is ill-defined and being set to 0.0 in labels with no true samples. Use `zero_division` parameter to control this behavior.\n",
      "  _warn_prf(average, modifier, msg_start, len(result))\n",
      "[I 2024-05-26 10:42:50,363] Trial 2 finished with value: 0.6311621461096812 and parameters: {'learning_rate': 7.588943266152602e-05}. Best is trial 0 with value: 0.7005543456741239.\n",
      "Trial: {'learning_rate': 4.577055525176349e-06}\n"
     ]
    },
    {
     "name": "stdout",
     "output_type": "stream",
     "text": [
      "+++++++++++ {'precision': 0.6466816613846208, 'recall': 0.6311621461096812, 'f1': 0.636385422788865, 'accuracy': 0.6311621461096812}\n"
     ]
    },
    {
     "name": "stderr",
     "output_type": "stream",
     "text": [
      "model_head.pkl not found in /CommitFit/sentence-transformers/paraphrase-mpnet-base-v2, initialising classification head with random weights. You should TRAIN this model on a downstream task to use it for predictions and inference.\n"
     ]
    },
    {
     "data": {
      "application/vnd.jupyter.widget-view+json": {
       "model_id": "5de46736397b403bb7737f711292457a",
       "version_major": 2,
       "version_minor": 0
      },
      "text/plain": [
       "Generating Training Pairs:   0%|          | 0/20 [00:00<?, ?it/s]"
      ]
     },
     "metadata": {},
     "output_type": "display_data"
    },
    {
     "name": "stderr",
     "output_type": "stream",
     "text": [
      "***** Running training *****\n",
      "  Num examples = 1040\n",
      "  Num epochs = 1\n",
      "  Total optimization steps = 65\n",
      "  Total train batch size = 16\n"
     ]
    },
    {
     "data": {
      "application/vnd.jupyter.widget-view+json": {
       "model_id": "92dc72cc14a04d74a4963d3393e581d7",
       "version_major": 2,
       "version_minor": 0
      },
      "text/plain": [
       "Epoch:   0%|          | 0/1 [00:00<?, ?it/s]"
      ]
     },
     "metadata": {},
     "output_type": "display_data"
    },
    {
     "data": {
      "application/vnd.jupyter.widget-view+json": {
       "model_id": "e9d04bddab604a2a8f24bee2e6988c11",
       "version_major": 2,
       "version_minor": 0
      },
      "text/plain": [
       "Iteration:   0%|          | 0/65 [00:00<?, ?it/s]"
      ]
     },
     "metadata": {},
     "output_type": "display_data"
    },
    {
     "name": "stderr",
     "output_type": "stream",
     "text": [
      "***** Running evaluation *****\n",
      "/usr/local/lib/python3.11/dist-packages/sklearn/metrics/_classification.py:1469: UndefinedMetricWarning: Recall is ill-defined and being set to 0.0 in labels with no true samples. Use `zero_division` parameter to control this behavior.\n",
      "  _warn_prf(average, modifier, msg_start, len(result))\n",
      "[I 2024-05-26 10:45:46,075] Trial 3 finished with value: 0.7016432389625816 and parameters: {'learning_rate': 4.577055525176349e-06}. Best is trial 3 with value: 0.7016432389625816.\n",
      "Trial: {'learning_rate': 1.204468006092301e-05}\n"
     ]
    },
    {
     "name": "stdout",
     "output_type": "stream",
     "text": [
      "+++++++++++ {'precision': 0.6932665889674158, 'recall': 0.7016432389625816, 'f1': 0.6843368301300582, 'accuracy': 0.7016432389625816}\n"
     ]
    },
    {
     "name": "stderr",
     "output_type": "stream",
     "text": [
      "model_head.pkl not found in /CommitFit/sentence-transformers/paraphrase-mpnet-base-v2, initialising classification head with random weights. You should TRAIN this model on a downstream task to use it for predictions and inference.\n"
     ]
    },
    {
     "data": {
      "application/vnd.jupyter.widget-view+json": {
       "model_id": "2cbcd987dcbe46c4ba53769beb4eeb6d",
       "version_major": 2,
       "version_minor": 0
      },
      "text/plain": [
       "Generating Training Pairs:   0%|          | 0/20 [00:00<?, ?it/s]"
      ]
     },
     "metadata": {},
     "output_type": "display_data"
    },
    {
     "name": "stderr",
     "output_type": "stream",
     "text": [
      "***** Running training *****\n",
      "  Num examples = 1040\n",
      "  Num epochs = 1\n",
      "  Total optimization steps = 65\n",
      "  Total train batch size = 16\n"
     ]
    },
    {
     "data": {
      "application/vnd.jupyter.widget-view+json": {
       "model_id": "57a9acc4e11141d587278d2625766eac",
       "version_major": 2,
       "version_minor": 0
      },
      "text/plain": [
       "Epoch:   0%|          | 0/1 [00:00<?, ?it/s]"
      ]
     },
     "metadata": {},
     "output_type": "display_data"
    },
    {
     "data": {
      "application/vnd.jupyter.widget-view+json": {
       "model_id": "dbda434fd1284ff9869eb3cfaaa71d8c",
       "version_major": 2,
       "version_minor": 0
      },
      "text/plain": [
       "Iteration:   0%|          | 0/65 [00:00<?, ?it/s]"
      ]
     },
     "metadata": {},
     "output_type": "display_data"
    },
    {
     "name": "stderr",
     "output_type": "stream",
     "text": [
      "***** Running evaluation *****\n",
      "[I 2024-05-26 10:48:40,944] Trial 4 finished with value: 0.6967927143139973 and parameters: {'learning_rate': 1.204468006092301e-05}. Best is trial 3 with value: 0.7016432389625816.\n",
      "Trial: {'learning_rate': 6.469870700742102e-06}\n"
     ]
    },
    {
     "name": "stdout",
     "output_type": "stream",
     "text": [
      "+++++++++++ {'precision': 0.6871252497382073, 'recall': 0.6967927143139973, 'f1': 0.6838061486777136, 'accuracy': 0.6967927143139973}\n"
     ]
    },
    {
     "name": "stderr",
     "output_type": "stream",
     "text": [
      "model_head.pkl not found in /CommitFit/sentence-transformers/paraphrase-mpnet-base-v2, initialising classification head with random weights. You should TRAIN this model on a downstream task to use it for predictions and inference.\n"
     ]
    },
    {
     "data": {
      "application/vnd.jupyter.widget-view+json": {
       "model_id": "ed00d7ed631d491193b83e6f0374abc5",
       "version_major": 2,
       "version_minor": 0
      },
      "text/plain": [
       "Generating Training Pairs:   0%|          | 0/20 [00:00<?, ?it/s]"
      ]
     },
     "metadata": {},
     "output_type": "display_data"
    },
    {
     "name": "stderr",
     "output_type": "stream",
     "text": [
      "***** Running training *****\n",
      "  Num examples = 1040\n",
      "  Num epochs = 1\n",
      "  Total optimization steps = 65\n",
      "  Total train batch size = 16\n"
     ]
    },
    {
     "data": {
      "application/vnd.jupyter.widget-view+json": {
       "model_id": "a3de774332204dcfa99bf4f9a68690da",
       "version_major": 2,
       "version_minor": 0
      },
      "text/plain": [
       "Epoch:   0%|          | 0/1 [00:00<?, ?it/s]"
      ]
     },
     "metadata": {},
     "output_type": "display_data"
    },
    {
     "data": {
      "application/vnd.jupyter.widget-view+json": {
       "model_id": "5d6de93086a84e3ca5317ed9f66c171f",
       "version_major": 2,
       "version_minor": 0
      },
      "text/plain": [
       "Iteration:   0%|          | 0/65 [00:00<?, ?it/s]"
      ]
     },
     "metadata": {},
     "output_type": "display_data"
    },
    {
     "name": "stderr",
     "output_type": "stream",
     "text": [
      "***** Running evaluation *****\n",
      "/usr/local/lib/python3.11/dist-packages/sklearn/metrics/_classification.py:1469: UndefinedMetricWarning: Recall is ill-defined and being set to 0.0 in labels with no true samples. Use `zero_division` parameter to control this behavior.\n",
      "  _warn_prf(average, modifier, msg_start, len(result))\n",
      "[I 2024-05-26 10:51:35,500] Trial 5 finished with value: 0.7009503068699268 and parameters: {'learning_rate': 6.469870700742102e-06}. Best is trial 3 with value: 0.7016432389625816.\n",
      "Trial: {'learning_rate': 1.2587191870478776e-06}\n"
     ]
    },
    {
     "name": "stdout",
     "output_type": "stream",
     "text": [
      "+++++++++++ {'precision': 0.6918821376782814, 'recall': 0.7009503068699268, 'f1': 0.6874932444671615, 'accuracy': 0.7009503068699268}\n"
     ]
    },
    {
     "name": "stderr",
     "output_type": "stream",
     "text": [
      "model_head.pkl not found in /CommitFit/sentence-transformers/paraphrase-mpnet-base-v2, initialising classification head with random weights. You should TRAIN this model on a downstream task to use it for predictions and inference.\n"
     ]
    },
    {
     "data": {
      "application/vnd.jupyter.widget-view+json": {
       "model_id": "866b8ffca8784dc1a3dbd890d2fe1124",
       "version_major": 2,
       "version_minor": 0
      },
      "text/plain": [
       "Generating Training Pairs:   0%|          | 0/20 [00:00<?, ?it/s]"
      ]
     },
     "metadata": {},
     "output_type": "display_data"
    },
    {
     "name": "stderr",
     "output_type": "stream",
     "text": [
      "***** Running training *****\n",
      "  Num examples = 1040\n",
      "  Num epochs = 1\n",
      "  Total optimization steps = 65\n",
      "  Total train batch size = 16\n"
     ]
    },
    {
     "data": {
      "application/vnd.jupyter.widget-view+json": {
       "model_id": "d39fe392c8404cadad2e04b069231e79",
       "version_major": 2,
       "version_minor": 0
      },
      "text/plain": [
       "Epoch:   0%|          | 0/1 [00:00<?, ?it/s]"
      ]
     },
     "metadata": {},
     "output_type": "display_data"
    },
    {
     "data": {
      "application/vnd.jupyter.widget-view+json": {
       "model_id": "2d986eeb0c0f4fd5a10acb70e2bd83b7",
       "version_major": 2,
       "version_minor": 0
      },
      "text/plain": [
       "Iteration:   0%|          | 0/65 [00:00<?, ?it/s]"
      ]
     },
     "metadata": {},
     "output_type": "display_data"
    },
    {
     "name": "stderr",
     "output_type": "stream",
     "text": [
      "***** Running evaluation *****\n",
      "[I 2024-05-26 10:54:29,333] Trial 6 finished with value: 0.6979805979014057 and parameters: {'learning_rate': 1.2587191870478776e-06}. Best is trial 3 with value: 0.7016432389625816.\n",
      "Trial: {'learning_rate': 6.323045061064815e-05}\n"
     ]
    },
    {
     "name": "stdout",
     "output_type": "stream",
     "text": [
      "+++++++++++ {'precision': 0.6925855710816342, 'recall': 0.6979805979014057, 'f1': 0.6716634184159911, 'accuracy': 0.6979805979014057}\n"
     ]
    },
    {
     "name": "stderr",
     "output_type": "stream",
     "text": [
      "model_head.pkl not found in /CommitFit/sentence-transformers/paraphrase-mpnet-base-v2, initialising classification head with random weights. You should TRAIN this model on a downstream task to use it for predictions and inference.\n"
     ]
    },
    {
     "data": {
      "application/vnd.jupyter.widget-view+json": {
       "model_id": "db929d97241b4db78cedfd144b5902ef",
       "version_major": 2,
       "version_minor": 0
      },
      "text/plain": [
       "Generating Training Pairs:   0%|          | 0/20 [00:00<?, ?it/s]"
      ]
     },
     "metadata": {},
     "output_type": "display_data"
    },
    {
     "name": "stderr",
     "output_type": "stream",
     "text": [
      "***** Running training *****\n",
      "  Num examples = 1040\n",
      "  Num epochs = 1\n",
      "  Total optimization steps = 65\n",
      "  Total train batch size = 16\n"
     ]
    },
    {
     "data": {
      "application/vnd.jupyter.widget-view+json": {
       "model_id": "a2b2ee23dfb24fe18e6e924f210aa82e",
       "version_major": 2,
       "version_minor": 0
      },
      "text/plain": [
       "Epoch:   0%|          | 0/1 [00:00<?, ?it/s]"
      ]
     },
     "metadata": {},
     "output_type": "display_data"
    },
    {
     "data": {
      "application/vnd.jupyter.widget-view+json": {
       "model_id": "c8904a4d3d7148d3b7431b13a229e927",
       "version_major": 2,
       "version_minor": 0
      },
      "text/plain": [
       "Iteration:   0%|          | 0/65 [00:00<?, ?it/s]"
      ]
     },
     "metadata": {},
     "output_type": "display_data"
    },
    {
     "name": "stderr",
     "output_type": "stream",
     "text": [
      "***** Running evaluation *****\n",
      "/usr/local/lib/python3.11/dist-packages/sklearn/metrics/_classification.py:1469: UndefinedMetricWarning: Recall is ill-defined and being set to 0.0 in labels with no true samples. Use `zero_division` parameter to control this behavior.\n",
      "  _warn_prf(average, modifier, msg_start, len(result))\n",
      "[I 2024-05-26 10:57:24,387] Trial 7 finished with value: 0.6501682835082162 and parameters: {'learning_rate': 6.323045061064815e-05}. Best is trial 3 with value: 0.7016432389625816.\n",
      "Trial: {'learning_rate': 3.0933243919164293e-06}\n"
     ]
    },
    {
     "name": "stdout",
     "output_type": "stream",
     "text": [
      "+++++++++++ {'precision': 0.6413226942975739, 'recall': 0.6501682835082162, 'f1': 0.6435610104354436, 'accuracy': 0.6501682835082162}\n"
     ]
    },
    {
     "name": "stderr",
     "output_type": "stream",
     "text": [
      "model_head.pkl not found in /CommitFit/sentence-transformers/paraphrase-mpnet-base-v2, initialising classification head with random weights. You should TRAIN this model on a downstream task to use it for predictions and inference.\n"
     ]
    },
    {
     "data": {
      "application/vnd.jupyter.widget-view+json": {
       "model_id": "72229513263144f2859cfdb45812ca77",
       "version_major": 2,
       "version_minor": 0
      },
      "text/plain": [
       "Generating Training Pairs:   0%|          | 0/20 [00:00<?, ?it/s]"
      ]
     },
     "metadata": {},
     "output_type": "display_data"
    },
    {
     "name": "stderr",
     "output_type": "stream",
     "text": [
      "***** Running training *****\n",
      "  Num examples = 1040\n",
      "  Num epochs = 1\n",
      "  Total optimization steps = 65\n",
      "  Total train batch size = 16\n"
     ]
    },
    {
     "data": {
      "application/vnd.jupyter.widget-view+json": {
       "model_id": "f83b3d9ac64f46aea0450bc49998b00a",
       "version_major": 2,
       "version_minor": 0
      },
      "text/plain": [
       "Epoch:   0%|          | 0/1 [00:00<?, ?it/s]"
      ]
     },
     "metadata": {},
     "output_type": "display_data"
    },
    {
     "data": {
      "application/vnd.jupyter.widget-view+json": {
       "model_id": "ac3ec5bdaaf946ce9733a7faed66202a",
       "version_major": 2,
       "version_minor": 0
      },
      "text/plain": [
       "Iteration:   0%|          | 0/65 [00:00<?, ?it/s]"
      ]
     },
     "metadata": {},
     "output_type": "display_data"
    },
    {
     "name": "stderr",
     "output_type": "stream",
     "text": [
      "***** Running evaluation *****\n",
      "/usr/local/lib/python3.11/dist-packages/sklearn/metrics/_classification.py:1469: UndefinedMetricWarning: Recall is ill-defined and being set to 0.0 in labels with no true samples. Use `zero_division` parameter to control this behavior.\n",
      "  _warn_prf(average, modifier, msg_start, len(result))\n",
      "[I 2024-05-26 11:00:19,630] Trial 8 finished with value: 0.7014452583646803 and parameters: {'learning_rate': 3.0933243919164293e-06}. Best is trial 3 with value: 0.7016432389625816.\n",
      "Trial: {'learning_rate': 0.0003443106668220414}\n"
     ]
    },
    {
     "name": "stdout",
     "output_type": "stream",
     "text": [
      "+++++++++++ {'precision': 0.6944341683863268, 'recall': 0.7014452583646803, 'f1': 0.6802967962037373, 'accuracy': 0.7014452583646803}\n"
     ]
    },
    {
     "name": "stderr",
     "output_type": "stream",
     "text": [
      "model_head.pkl not found in /CommitFit/sentence-transformers/paraphrase-mpnet-base-v2, initialising classification head with random weights. You should TRAIN this model on a downstream task to use it for predictions and inference.\n"
     ]
    },
    {
     "data": {
      "application/vnd.jupyter.widget-view+json": {
       "model_id": "8fc51fa8596c47e39857a2afa089f19f",
       "version_major": 2,
       "version_minor": 0
      },
      "text/plain": [
       "Generating Training Pairs:   0%|          | 0/20 [00:00<?, ?it/s]"
      ]
     },
     "metadata": {},
     "output_type": "display_data"
    },
    {
     "name": "stderr",
     "output_type": "stream",
     "text": [
      "***** Running training *****\n",
      "  Num examples = 1040\n",
      "  Num epochs = 1\n",
      "  Total optimization steps = 65\n",
      "  Total train batch size = 16\n"
     ]
    },
    {
     "data": {
      "application/vnd.jupyter.widget-view+json": {
       "model_id": "13337ee1269f4968aa44902a76c99fa9",
       "version_major": 2,
       "version_minor": 0
      },
      "text/plain": [
       "Epoch:   0%|          | 0/1 [00:00<?, ?it/s]"
      ]
     },
     "metadata": {},
     "output_type": "display_data"
    },
    {
     "data": {
      "application/vnd.jupyter.widget-view+json": {
       "model_id": "e07d7ab26e8e4697a6fab669a2c9598c",
       "version_major": 2,
       "version_minor": 0
      },
      "text/plain": [
       "Iteration:   0%|          | 0/65 [00:00<?, ?it/s]"
      ]
     },
     "metadata": {},
     "output_type": "display_data"
    },
    {
     "name": "stderr",
     "output_type": "stream",
     "text": [
      "***** Running evaluation *****\n",
      "/usr/local/lib/python3.11/dist-packages/sklearn/metrics/_classification.py:1469: UndefinedMetricWarning: Recall is ill-defined and being set to 0.0 in labels with no true samples. Use `zero_division` parameter to control this behavior.\n",
      "  _warn_prf(average, modifier, msg_start, len(result))\n",
      "[I 2024-05-26 11:03:15,619] Trial 9 finished with value: 0.5784993070679073 and parameters: {'learning_rate': 0.0003443106668220414}. Best is trial 3 with value: 0.7016432389625816.\n"
     ]
    },
    {
     "name": "stdout",
     "output_type": "stream",
     "text": [
      "+++++++++++ {'precision': 0.46579054526003033, 'recall': 0.5784993070679073, 'f1': 0.48654292518248027, 'accuracy': 0.5784993070679073}\n"
     ]
    }
   ],
   "source": [
    "trainer = CommitFitTrainer(\n",
    "    train_dataset=train_dataset,\n",
    "    train_code_change = train_code_change,\n",
    "    test_code_change = test_code_change,\n",
    "    eval_dataset=test_dataset,\n",
    "    model_init=model_init,\n",
    "    metric = compute_metrics,\n",
    "    num_iterations=20,\n",
    "    num_epochs=1\n",
    ")\n",
    "best_run = trainer.hyperparameter_search(direction=\"maximize\", hp_space=hp_space, compute_objective=my_compute_objective, n_trials=10)"
   ]
  },
  {
   "cell_type": "code",
   "execution_count": 22,
   "id": "a69ca63c-649f-46b3-babc-fc8e7433852b",
   "metadata": {
    "execution": {
     "iopub.execute_input": "2024-05-26T03:03:15.624839Z",
     "iopub.status.busy": "2024-05-26T03:03:15.624386Z",
     "iopub.status.idle": "2024-05-26T03:03:28.749170Z",
     "shell.execute_reply": "2024-05-26T03:03:28.748177Z",
     "shell.execute_reply.started": "2024-05-26T03:03:15.624807Z"
    }
   },
   "outputs": [
    {
     "name": "stderr",
     "output_type": "stream",
     "text": [
      "model_head.pkl not found in /CommitFit/sentence-transformers/paraphrase-mpnet-base-v2, initialising classification head with random weights. You should TRAIN this model on a downstream task to use it for predictions and inference.\n"
     ]
    },
    {
     "data": {
      "application/vnd.jupyter.widget-view+json": {
       "model_id": "5ba45d8eec9f49e69d20e60c56ca0325",
       "version_major": 2,
       "version_minor": 0
      },
      "text/plain": [
       "Generating Training Pairs:   0%|          | 0/20 [00:00<?, ?it/s]"
      ]
     },
     "metadata": {},
     "output_type": "display_data"
    },
    {
     "name": "stderr",
     "output_type": "stream",
     "text": [
      "***** Running training *****\n",
      "  Num examples = 1040\n",
      "  Num epochs = 1\n",
      "  Total optimization steps = 65\n",
      "  Total train batch size = 16\n"
     ]
    },
    {
     "data": {
      "application/vnd.jupyter.widget-view+json": {
       "model_id": "ce30ef0ed0984e96830dbbf229d8c3fb",
       "version_major": 2,
       "version_minor": 0
      },
      "text/plain": [
       "Epoch:   0%|          | 0/1 [00:00<?, ?it/s]"
      ]
     },
     "metadata": {},
     "output_type": "display_data"
    },
    {
     "data": {
      "application/vnd.jupyter.widget-view+json": {
       "model_id": "a5a9becb86c84e2a9412d2af72de01a4",
       "version_major": 2,
       "version_minor": 0
      },
      "text/plain": [
       "Iteration:   0%|          | 0/65 [00:00<?, ?it/s]"
      ]
     },
     "metadata": {},
     "output_type": "display_data"
    }
   ],
   "source": [
    "trainer.apply_hyperparameters(best_run.hyperparameters, final_model=True)\n",
    "trainer.train()"
   ]
  },
  {
   "cell_type": "code",
   "execution_count": 24,
   "id": "d082809c-ef5c-4178-a97e-f08f64763f44",
   "metadata": {
    "execution": {
     "iopub.execute_input": "2024-05-26T03:06:11.266923Z",
     "iopub.status.busy": "2024-05-26T03:06:11.266624Z",
     "iopub.status.idle": "2024-05-26T03:06:11.272361Z",
     "shell.execute_reply": "2024-05-26T03:06:11.271552Z",
     "shell.execute_reply.started": "2024-05-26T03:06:11.266892Z"
    }
   },
   "outputs": [
    {
     "data": {
      "text/plain": [
       "BestRun(run_id='3', objective=0.7016432389625816, hyperparameters={'learning_rate': 4.577055525176349e-06}, backend=<optuna.study.study.Study object at 0x7fc099d1c790>)"
      ]
     },
     "execution_count": 24,
     "metadata": {},
     "output_type": "execute_result"
    }
   ],
   "source": [
    "best_run"
   ]
  },
  {
   "cell_type": "code",
   "execution_count": 23,
   "id": "40cfde46-c7d5-4446-8b53-7ad4dc8edb66",
   "metadata": {
    "execution": {
     "iopub.execute_input": "2024-05-26T03:03:28.750658Z",
     "iopub.status.busy": "2024-05-26T03:03:28.750298Z",
     "iopub.status.idle": "2024-05-26T03:06:11.259513Z",
     "shell.execute_reply": "2024-05-26T03:06:11.258595Z",
     "shell.execute_reply.started": "2024-05-26T03:03:28.750627Z"
    }
   },
   "outputs": [
    {
     "name": "stderr",
     "output_type": "stream",
     "text": [
      "***** Running evaluation *****\n",
      "/usr/local/lib/python3.11/dist-packages/sklearn/metrics/_classification.py:1469: UndefinedMetricWarning: Recall is ill-defined and being set to 0.0 in labels with no true samples. Use `zero_division` parameter to control this behavior.\n",
      "  _warn_prf(average, modifier, msg_start, len(result))\n"
     ]
    },
    {
     "data": {
      "text/plain": [
       "{'precision': 0.6941185078532881,\n",
       " 'recall': 0.701544248663631,\n",
       " 'f1': 0.6813972341741444,\n",
       " 'accuracy': 0.701544248663631}"
      ]
     },
     "execution_count": 23,
     "metadata": {},
     "output_type": "execute_result"
    }
   ],
   "source": [
    "fewshot_metrics = trainer.evaluate()\n",
    "fewshot_metrics"
   ]
  },
  {
   "cell_type": "code",
   "execution_count": null,
   "id": "ae735a8b-c672-4dce-822c-61330c34481b",
   "metadata": {},
   "outputs": [],
   "source": []
  },
  {
   "cell_type": "code",
   "execution_count": null,
   "id": "166dcf9b-a0bd-4b60-854c-c6535c22a111",
   "metadata": {},
   "outputs": [],
   "source": []
  },
  {
   "cell_type": "code",
   "execution_count": null,
   "id": "af21aba7-66cd-4762-b5d4-6d27650bba7e",
   "metadata": {},
   "outputs": [],
   "source": []
  },
  {
   "cell_type": "code",
   "execution_count": null,
   "id": "823bf0ba-17f8-4c76-b059-1baa66cec406",
   "metadata": {},
   "outputs": [],
   "source": []
  }
 ],
 "metadata": {
  "kernelspec": {
   "display_name": "Python 3 (ipykernel)",
   "language": "python",
   "name": "python3"
  },
  "language_info": {
   "codemirror_mode": {
    "name": "ipython",
    "version": 3
   },
   "file_extension": ".py",
   "mimetype": "text/x-python",
   "name": "python",
   "nbconvert_exporter": "python",
   "pygments_lexer": "ipython3",
   "version": "3.11.8"
  }
 },
 "nbformat": 4,
 "nbformat_minor": 5
}
