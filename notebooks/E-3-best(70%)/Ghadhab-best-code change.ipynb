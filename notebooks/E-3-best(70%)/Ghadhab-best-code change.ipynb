{
 "cells": [
  {
   "cell_type": "code",
   "execution_count": 1,
   "id": "77d93e6a-106b-4abd-87e7-1243d4c51126",
   "metadata": {
    "execution": {
     "iopub.execute_input": "2025-08-27T01:54:27.286995Z",
     "iopub.status.busy": "2025-08-27T01:54:27.286452Z",
     "iopub.status.idle": "2025-08-27T01:54:30.285032Z",
     "shell.execute_reply": "2025-08-27T01:54:30.284240Z",
     "shell.execute_reply.started": "2025-08-27T01:54:27.286950Z"
    }
   },
   "outputs": [
    {
     "name": "stdout",
     "output_type": "stream",
     "text": [
      "\n",
      "root\n",
      "autodl-tmp\n",
      "CommitFit\n"
     ]
    }
   ],
   "source": [
    "# !pip install transformers accelerate\n",
    "# from transformers import AutoTokenizer, AutoModel, EarlyStoppingCallback, AutoModelForSequenceClassification, AutoConfig,Trainer, TrainingArguments,DataCollatorWithPadding\n",
    "import torch\n",
    "import numpy as np\n",
    "import pandas as pd\n",
    "# !pip install datasets\n",
    "from datasets import Dataset\n",
    "# %pip install evaluate\n",
    "import evaluate\n",
    "from sklearn.model_selection import train_test_split\n",
    "# from ipywidgets import FloatProgress\n",
    "import csv\n",
    "from optuna import Trial\n",
    "from typing import Dict, Union, Any\n",
    "import os\n",
    "import sys\n",
    "\n",
    "# notebook_login()\n",
    "\n",
    "csv.field_size_limit(500 * 1024 * 1024)\n",
    "CUDA_LAUNCH_BLOCKING=1\n",
    "# get pwd\n",
    "notebook_path = os.path.abspath('')\n",
    "\n",
    "# Find the part of the path that contains 'commitFit'\n",
    "commit_fit_path = None\n",
    "for part in notebook_path.split(os.sep):\n",
    "    print(part)\n",
    "    if 'CommitFit' in part:\n",
    "        commit_fit_path = notebook_path.split(part)[0] + part\n",
    "        break\n",
    "\n",
    "if commit_fit_path is None:\n",
    "    raise ValueError(\"Path containing 'commitFit' not found in notebook path.\")\n",
    "\n",
    "# Add commitFit directory to Python path, so we can import moudule from commitfit folder directly\n",
    "if commit_fit_path not in sys.path:\n",
    "    sys.path.append(commit_fit_path)\n",
    "\n",
    "from commitfit import CommitFitModel, CommitFitTrainer \n",
    "from commitfit import get_templated_dataset,sample_dataset"
   ]
  },
  {
   "cell_type": "code",
   "execution_count": 2,
   "id": "9ef5359f-9526-4d19-a2da-7988dc1ea04f",
   "metadata": {
    "execution": {
     "iopub.execute_input": "2025-08-27T01:54:30.286970Z",
     "iopub.status.busy": "2025-08-27T01:54:30.286633Z",
     "iopub.status.idle": "2025-08-27T01:54:30.644527Z",
     "shell.execute_reply": "2025-08-27T01:54:30.643796Z",
     "shell.execute_reply.started": "2025-08-27T01:54:30.286948Z"
    }
   },
   "outputs": [
    {
     "data": {
      "text/html": [
       "<div>\n",
       "<style scoped>\n",
       "    .dataframe tbody tr th:only-of-type {\n",
       "        vertical-align: middle;\n",
       "    }\n",
       "\n",
       "    .dataframe tbody tr th {\n",
       "        vertical-align: top;\n",
       "    }\n",
       "\n",
       "    .dataframe thead th {\n",
       "        text-align: right;\n",
       "    }\n",
       "</style>\n",
       "<table border=\"1\" class=\"dataframe\">\n",
       "  <thead>\n",
       "    <tr style=\"text-align: right;\">\n",
       "      <th></th>\n",
       "      <th>repo</th>\n",
       "      <th>commit</th>\n",
       "      <th>label</th>\n",
       "      <th>text</th>\n",
       "      <th>diffs</th>\n",
       "      <th>feature</th>\n",
       "    </tr>\n",
       "    <tr>\n",
       "      <th>user</th>\n",
       "      <th></th>\n",
       "      <th></th>\n",
       "      <th></th>\n",
       "      <th></th>\n",
       "      <th></th>\n",
       "      <th></th>\n",
       "    </tr>\n",
       "  </thead>\n",
       "  <tbody>\n",
       "    <tr>\n",
       "      <th>ponsonio</th>\n",
       "      <td>RxJava</td>\n",
       "      <td>0531b8bff5c14d9504beefb4ad47f473e3a22932</td>\n",
       "      <td>Perfective</td>\n",
       "      <td>Change hasException to hasThrowable--</td>\n",
       "      <td>diff --git a/rxjava-core/src/main/java/rx/Noti...</td>\n",
       "      <td>[1, 0, 0, 4, 0, 0, 0, 0, 0, 0, 0, 0, 0, 0, 0, ...</td>\n",
       "    </tr>\n",
       "    <tr>\n",
       "      <th>ponsonio</th>\n",
       "      <td>RxJava</td>\n",
       "      <td>0950c46beda335819928585f1262dfe1dca78a0b</td>\n",
       "      <td>Adaptive</td>\n",
       "      <td>Trying to extend the Scheduler interface accor...</td>\n",
       "      <td>diff --git a/rxjava-core/src/main/java/rx/Sche...</td>\n",
       "      <td>[2, 44, 0, 0, 30, 0, 0, 1, 18, 0, 0, 0, 0, 0, ...</td>\n",
       "    </tr>\n",
       "    <tr>\n",
       "      <th>ponsonio</th>\n",
       "      <td>RxJava</td>\n",
       "      <td>0f92fdd8e6422d5b79c610a7fd8409d222315a49</td>\n",
       "      <td>Adaptive</td>\n",
       "      <td>RunAsync method for outputting multiple values--</td>\n",
       "      <td>diff --git a/rxjava-contrib/rxjava-async-util/...</td>\n",
       "      <td>[2, 53, 0, 0, 42, 0, 0, 1, 45, 1, 0, 0, 0, 0, ...</td>\n",
       "    </tr>\n",
       "    <tr>\n",
       "      <th>ponsonio</th>\n",
       "      <td>RxJava</td>\n",
       "      <td>100f571c9a2835d5a30a55374b9be74c147e031f</td>\n",
       "      <td>Corrective</td>\n",
       "      <td>forEach with Action1 but not Observer--I re-re...</td>\n",
       "      <td>diff --git a/language-adaptors/rxjava-groovy/s...</td>\n",
       "      <td>[1, 5, 122, 9, 10, 9, 4, 1, 5, 18, 2, 0, 0, 0,...</td>\n",
       "    </tr>\n",
       "    <tr>\n",
       "      <th>ponsonio</th>\n",
       "      <td>RxJava</td>\n",
       "      <td>191f023cf5253ea90647bc091dcaf55ccdce81cc</td>\n",
       "      <td>Corrective</td>\n",
       "      <td>1.x: Fix Completable swallows- OnErrorNotImple...</td>\n",
       "      <td>diff --git a/src/main/java/rx/Completable.java...</td>\n",
       "      <td>[1, 1, 0, 0, 0, 0, 0, 1, 21, 0, 0, 0, 0, 0, 0,...</td>\n",
       "    </tr>\n",
       "    <tr>\n",
       "      <th>...</th>\n",
       "      <td>...</td>\n",
       "      <td>...</td>\n",
       "      <td>...</td>\n",
       "      <td>...</td>\n",
       "      <td>...</td>\n",
       "      <td>...</td>\n",
       "    </tr>\n",
       "    <tr>\n",
       "      <th>jenkinsci</th>\n",
       "      <td>clearcase-plugin</td>\n",
       "      <td>51e9da224f80254476a7dc446bca817b505381d8</td>\n",
       "      <td>Perfective</td>\n",
       "      <td>Use a temporary file to decrease memory consum...</td>\n",
       "      <td>diff --git a/src/main/java/hudson/plugins/clea...</td>\n",
       "      <td>[2, 12, 0, 4, 1, 0, 1, 0, 0, 0, 0, 0, 0, 0, 0,...</td>\n",
       "    </tr>\n",
       "    <tr>\n",
       "      <th>jexp</th>\n",
       "      <td>batch-import</td>\n",
       "      <td>609d6c4b1eea2c33d9fb950fcbb9ba9dc1f80fc3</td>\n",
       "      <td>Perfective</td>\n",
       "      <td>added a more memory efficient structure for st...</td>\n",
       "      <td>diff --git a/src/main/java/org/neo4j/batchimpo...</td>\n",
       "      <td>[10, 159, 29, 35, 9, 2, 1, 5, 106, 0, 4, 8, 0,...</td>\n",
       "    </tr>\n",
       "    <tr>\n",
       "      <th>hdiv</th>\n",
       "      <td>hdiv</td>\n",
       "      <td>19b650c78a1c76f4fd90274d7f163f863c0d39e4</td>\n",
       "      <td>Perfective</td>\n",
       "      <td>Memory and performance optimizations</td>\n",
       "      <td>diff --git a/hdiv-config/src/main/java/org/hdi...</td>\n",
       "      <td>[31, 302, 131, 140, 170, 89, 53, 7, 88, 14, 17...</td>\n",
       "    </tr>\n",
       "    <tr>\n",
       "      <th>casidiablo</th>\n",
       "      <td>persistence</td>\n",
       "      <td>d7bf95159df37a3d338ca267dddd3d26b38ec37c</td>\n",
       "      <td>Perfective</td>\n",
       "      <td>Now it is possible to specify the sqlite open ...</td>\n",
       "      <td>diff --git a/pom.xml b/pom.xml\\nindex 394263b....</td>\n",
       "      <td>[5, 57, 20, 9, 21, 0, 0, 0, 0, 0, 0, 0, 0, 0, ...</td>\n",
       "    </tr>\n",
       "    <tr>\n",
       "      <th>jhy</th>\n",
       "      <td>jsoup</td>\n",
       "      <td>d6fd1637307f6b088eb226c3f979085725530f32</td>\n",
       "      <td>Perfective</td>\n",
       "      <td>Performance improvment for Element.text</td>\n",
       "      <td>diff --git a/src/main/java/org/jsoup/helper/St...</td>\n",
       "      <td>[3, 11, 11, 9, 13, 0, 0, 1, 0, 8, 0, 0, 1, 0, ...</td>\n",
       "    </tr>\n",
       "  </tbody>\n",
       "</table>\n",
       "<p>1781 rows × 6 columns</p>\n",
       "</div>"
      ],
      "text/plain": [
       "                        repo                                    commit  \\\n",
       "user                                                                     \n",
       "ponsonio              RxJava  0531b8bff5c14d9504beefb4ad47f473e3a22932   \n",
       "ponsonio              RxJava  0950c46beda335819928585f1262dfe1dca78a0b   \n",
       "ponsonio              RxJava  0f92fdd8e6422d5b79c610a7fd8409d222315a49   \n",
       "ponsonio              RxJava  100f571c9a2835d5a30a55374b9be74c147e031f   \n",
       "ponsonio              RxJava  191f023cf5253ea90647bc091dcaf55ccdce81cc   \n",
       "...                      ...                                       ...   \n",
       "jenkinsci   clearcase-plugin  51e9da224f80254476a7dc446bca817b505381d8   \n",
       "jexp            batch-import  609d6c4b1eea2c33d9fb950fcbb9ba9dc1f80fc3   \n",
       "hdiv                    hdiv  19b650c78a1c76f4fd90274d7f163f863c0d39e4   \n",
       "casidiablo       persistence  d7bf95159df37a3d338ca267dddd3d26b38ec37c   \n",
       "jhy                    jsoup  d6fd1637307f6b088eb226c3f979085725530f32   \n",
       "\n",
       "                 label                                               text  \\\n",
       "user                                                                        \n",
       "ponsonio    Perfective              Change hasException to hasThrowable--   \n",
       "ponsonio      Adaptive  Trying to extend the Scheduler interface accor...   \n",
       "ponsonio      Adaptive   RunAsync method for outputting multiple values--   \n",
       "ponsonio    Corrective  forEach with Action1 but not Observer--I re-re...   \n",
       "ponsonio    Corrective  1.x: Fix Completable swallows- OnErrorNotImple...   \n",
       "...                ...                                                ...   \n",
       "jenkinsci   Perfective  Use a temporary file to decrease memory consum...   \n",
       "jexp        Perfective  added a more memory efficient structure for st...   \n",
       "hdiv        Perfective               Memory and performance optimizations   \n",
       "casidiablo  Perfective  Now it is possible to specify the sqlite open ...   \n",
       "jhy         Perfective            Performance improvment for Element.text   \n",
       "\n",
       "                                                        diffs  \\\n",
       "user                                                            \n",
       "ponsonio    diff --git a/rxjava-core/src/main/java/rx/Noti...   \n",
       "ponsonio    diff --git a/rxjava-core/src/main/java/rx/Sche...   \n",
       "ponsonio    diff --git a/rxjava-contrib/rxjava-async-util/...   \n",
       "ponsonio    diff --git a/language-adaptors/rxjava-groovy/s...   \n",
       "ponsonio    diff --git a/src/main/java/rx/Completable.java...   \n",
       "...                                                       ...   \n",
       "jenkinsci   diff --git a/src/main/java/hudson/plugins/clea...   \n",
       "jexp        diff --git a/src/main/java/org/neo4j/batchimpo...   \n",
       "hdiv        diff --git a/hdiv-config/src/main/java/org/hdi...   \n",
       "casidiablo  diff --git a/pom.xml b/pom.xml\\nindex 394263b....   \n",
       "jhy         diff --git a/src/main/java/org/jsoup/helper/St...   \n",
       "\n",
       "                                                      feature  \n",
       "user                                                           \n",
       "ponsonio    [1, 0, 0, 4, 0, 0, 0, 0, 0, 0, 0, 0, 0, 0, 0, ...  \n",
       "ponsonio    [2, 44, 0, 0, 30, 0, 0, 1, 18, 0, 0, 0, 0, 0, ...  \n",
       "ponsonio    [2, 53, 0, 0, 42, 0, 0, 1, 45, 1, 0, 0, 0, 0, ...  \n",
       "ponsonio    [1, 5, 122, 9, 10, 9, 4, 1, 5, 18, 2, 0, 0, 0,...  \n",
       "ponsonio    [1, 1, 0, 0, 0, 0, 0, 1, 21, 0, 0, 0, 0, 0, 0,...  \n",
       "...                                                       ...  \n",
       "jenkinsci   [2, 12, 0, 4, 1, 0, 1, 0, 0, 0, 0, 0, 0, 0, 0,...  \n",
       "jexp        [10, 159, 29, 35, 9, 2, 1, 5, 106, 0, 4, 8, 0,...  \n",
       "hdiv        [31, 302, 131, 140, 170, 89, 53, 7, 88, 14, 17...  \n",
       "casidiablo  [5, 57, 20, 9, 21, 0, 0, 0, 0, 0, 0, 0, 0, 0, ...  \n",
       "jhy         [3, 11, 11, 9, 13, 0, 0, 1, 0, 8, 0, 0, 1, 0, ...  \n",
       "\n",
       "[1781 rows x 6 columns]"
      ]
     },
     "execution_count": 2,
     "metadata": {},
     "output_type": "execute_result"
    }
   ],
   "source": [
    "df = pd.read_csv(r'/root/autodl-tmp/CommitFit/dataset/Ghadhab/dataset.csv', index_col=0, encoding='utf_8_sig')\n",
    "df.fillna('', inplace=True)\n",
    "label2id={'A':0, 'C':1, 'P':2}\n",
    "df = df.rename(columns={'labels':'label','msgs':'text','commit_diff':'diffs'})\n",
    "df = df.replace({\"label\": label2id})\n",
    "# # print(df)\n",
    "df\n",
    "# test_sample = df.sample(n=3, random_state=1)"
   ]
  },
  {
   "cell_type": "code",
   "execution_count": 3,
   "id": "26803da1-da52-48a7-8040-70914c05f2ea",
   "metadata": {
    "execution": {
     "iopub.execute_input": "2025-08-27T01:54:30.645635Z",
     "iopub.status.busy": "2025-08-27T01:54:30.645435Z",
     "iopub.status.idle": "2025-08-27T01:54:30.651784Z",
     "shell.execute_reply": "2025-08-27T01:54:30.651060Z",
     "shell.execute_reply.started": "2025-08-27T01:54:30.645614Z"
    }
   },
   "outputs": [],
   "source": [
    "train, temp_df = train_test_split(df, test_size=0.3, random_state=42)\n",
    "val_df, test = train_test_split(temp_df, test_size=0.5, random_state=42)"
   ]
  },
  {
   "cell_type": "code",
   "execution_count": 4,
   "id": "2e214dbb-075e-4fbf-adc9-f3533801587e",
   "metadata": {
    "execution": {
     "iopub.execute_input": "2025-08-27T01:54:30.653334Z",
     "iopub.status.busy": "2025-08-27T01:54:30.652760Z",
     "iopub.status.idle": "2025-08-27T01:54:30.883032Z",
     "shell.execute_reply": "2025-08-27T01:54:30.882214Z",
     "shell.execute_reply.started": "2025-08-27T01:54:30.653312Z"
    }
   },
   "outputs": [],
   "source": [
    "Dataset_train = Dataset.from_pandas(train)\n",
    "test_dataset = Dataset.from_pandas(test)"
   ]
  },
  {
   "cell_type": "code",
   "execution_count": 5,
   "id": "1a8ec7ec-1112-4140-8ccd-516ba9a1b1a8",
   "metadata": {
    "execution": {
     "iopub.execute_input": "2025-08-27T01:54:30.884205Z",
     "iopub.status.busy": "2025-08-27T01:54:30.884009Z",
     "iopub.status.idle": "2025-08-27T01:54:30.940312Z",
     "shell.execute_reply": "2025-08-27T01:54:30.939363Z",
     "shell.execute_reply.started": "2025-08-27T01:54:30.884183Z"
    }
   },
   "outputs": [],
   "source": [
    "train_dataset = get_templated_dataset(Dataset_train, candidate_labels=['Corrective','Adaptive','Perfective'], sample_size=8)"
   ]
  },
  {
   "cell_type": "code",
   "execution_count": 6,
   "id": "6af4102b-39bc-4b20-ab32-43800fb572bf",
   "metadata": {
    "execution": {
     "iopub.execute_input": "2025-08-27T01:54:30.941355Z",
     "iopub.status.busy": "2025-08-27T01:54:30.941149Z",
     "iopub.status.idle": "2025-08-27T01:54:30.945559Z",
     "shell.execute_reply": "2025-08-27T01:54:30.944875Z",
     "shell.execute_reply.started": "2025-08-27T01:54:30.941334Z"
    }
   },
   "outputs": [],
   "source": [
    "train_code_change = list(train['diffs'].astype(str))\n",
    "test_code_change = list(test['diffs'].astype(str))"
   ]
  },
  {
   "cell_type": "code",
   "execution_count": 7,
   "id": "c5ea76cd-69e5-4aa8-bf49-c9e746b63bbb",
   "metadata": {
    "execution": {
     "iopub.execute_input": "2025-08-27T01:54:30.947980Z",
     "iopub.status.busy": "2025-08-27T01:54:30.947673Z",
     "iopub.status.idle": "2025-08-27T01:54:30.952305Z",
     "shell.execute_reply": "2025-08-27T01:54:30.951660Z",
     "shell.execute_reply.started": "2025-08-27T01:54:30.947959Z"
    }
   },
   "outputs": [
    {
     "data": {
      "text/plain": [
       "Dataset({\n",
       "    features: ['repo', 'commit', 'label', 'text', 'diffs', 'feature', 'user'],\n",
       "    num_rows: 1270\n",
       "})"
      ]
     },
     "execution_count": 7,
     "metadata": {},
     "output_type": "execute_result"
    }
   ],
   "source": [
    "# list(train['message'].astype(str).values)\n",
    "train_dataset"
   ]
  },
  {
   "cell_type": "code",
   "execution_count": 8,
   "id": "ee30affe-0ec9-46a3-bcaa-a1bd9422c939",
   "metadata": {
    "execution": {
     "iopub.execute_input": "2025-08-27T01:54:30.953481Z",
     "iopub.status.busy": "2025-08-27T01:54:30.953065Z",
     "iopub.status.idle": "2025-08-27T01:54:30.957451Z",
     "shell.execute_reply": "2025-08-27T01:54:30.956814Z",
     "shell.execute_reply.started": "2025-08-27T01:54:30.953459Z"
    }
   },
   "outputs": [
    {
     "data": {
      "text/plain": [
       "1246"
      ]
     },
     "execution_count": 8,
     "metadata": {},
     "output_type": "execute_result"
    }
   ],
   "source": [
    "len(train)"
   ]
  },
  {
   "cell_type": "code",
   "execution_count": 9,
   "id": "84e38639-cf4b-4762-a1dc-cdc983938388",
   "metadata": {
    "execution": {
     "iopub.execute_input": "2025-08-27T01:54:30.958351Z",
     "iopub.status.busy": "2025-08-27T01:54:30.958177Z",
     "iopub.status.idle": "2025-08-27T01:54:30.964115Z",
     "shell.execute_reply": "2025-08-27T01:54:30.963480Z",
     "shell.execute_reply.started": "2025-08-27T01:54:30.958332Z"
    }
   },
   "outputs": [
    {
     "data": {
      "text/plain": [
       "label\n",
       "Corrective    424\n",
       "Adaptive      420\n",
       "Perfective    402\n",
       "Name: count, dtype: int64"
      ]
     },
     "execution_count": 9,
     "metadata": {},
     "output_type": "execute_result"
    }
   ],
   "source": [
    "train['label'].value_counts()"
   ]
  },
  {
   "cell_type": "code",
   "execution_count": 10,
   "id": "3cf6c110-616d-45da-aa2e-4a5add26b3c0",
   "metadata": {
    "execution": {
     "iopub.execute_input": "2025-08-27T01:54:30.965029Z",
     "iopub.status.busy": "2025-08-27T01:54:30.964854Z",
     "iopub.status.idle": "2025-08-27T01:54:30.970326Z",
     "shell.execute_reply": "2025-08-27T01:54:30.969655Z",
     "shell.execute_reply.started": "2025-08-27T01:54:30.965010Z"
    }
   },
   "outputs": [
    {
     "data": {
      "text/plain": [
       "label\n",
       "Perfective    100\n",
       "Corrective     89\n",
       "Adaptive       79\n",
       "Name: count, dtype: int64"
      ]
     },
     "execution_count": 10,
     "metadata": {},
     "output_type": "execute_result"
    }
   ],
   "source": [
    "test['label'].value_counts()"
   ]
  },
  {
   "cell_type": "code",
   "execution_count": 11,
   "id": "77117d87-5292-48f5-b077-74b47ccfd5eb",
   "metadata": {
    "execution": {
     "iopub.execute_input": "2025-08-27T01:54:30.971229Z",
     "iopub.status.busy": "2025-08-27T01:54:30.971033Z",
     "iopub.status.idle": "2025-08-27T01:54:30.975609Z",
     "shell.execute_reply": "2025-08-27T01:54:30.974978Z",
     "shell.execute_reply.started": "2025-08-27T01:54:30.971209Z"
    }
   },
   "outputs": [
    {
     "data": {
      "text/plain": [
       "1270"
      ]
     },
     "execution_count": 11,
     "metadata": {},
     "output_type": "execute_result"
    }
   ],
   "source": [
    "len(train_dataset)"
   ]
  },
  {
   "cell_type": "code",
   "execution_count": 12,
   "id": "dca6275a-a567-4963-831c-8dd653341162",
   "metadata": {
    "execution": {
     "iopub.execute_input": "2025-08-27T01:54:30.976766Z",
     "iopub.status.busy": "2025-08-27T01:54:30.976591Z",
     "iopub.status.idle": "2025-08-27T01:54:30.981952Z",
     "shell.execute_reply": "2025-08-27T01:54:30.981283Z",
     "shell.execute_reply.started": "2025-08-27T01:54:30.976747Z"
    }
   },
   "outputs": [],
   "source": [
    "from sklearn import  metrics\n",
    "\n",
    "def compute_metrics(y_pred, y_test):\n",
    "    # print(y_pred,y_test)\n",
    "    # classification_report = metrics.classification_report(y_test,y_pred)\n",
    "    accuracy_score = metrics.accuracy_score(y_test,y_pred)\n",
    "    precision_score = metrics.precision_score(y_test,y_pred, average='macro')\n",
    "    recall_score = metrics.recall_score(y_test,y_pred,average='macro')\n",
    "    f1_score = metrics.f1_score(y_test,y_pred,average='macro')\n",
    "    \n",
    "    # 混淆矩阵\n",
    "    cm = metrics.confusion_matrix(y_test, y_pred)\n",
    "    print(\"Confusion Matrix:\\n\", cm)\n",
    "    print(metrics.classification_report(y_test, y_pred, digits=4))\n",
    "    # return {\"classification_report\": classification_report}\n",
    "    return {\"classification_report\":metrics.classification_report(y_test, y_pred, digits=4),\"Confusion Matrix\":cm,\"precision\": round(precision_score, 4),\"recall\": round(recall_score, 4), \"f1\":round(f1_score, 4), \"accuracy\": round(accuracy_score, 4)}"
   ]
  },
  {
   "cell_type": "code",
   "execution_count": 13,
   "id": "49e32d66-2fc2-4a53-bae1-13f8d67c5b6f",
   "metadata": {
    "execution": {
     "iopub.execute_input": "2025-08-27T01:54:30.982892Z",
     "iopub.status.busy": "2025-08-27T01:54:30.982716Z",
     "iopub.status.idle": "2025-08-27T01:54:30.987212Z",
     "shell.execute_reply": "2025-08-27T01:54:30.986567Z",
     "shell.execute_reply.started": "2025-08-27T01:54:30.982873Z"
    }
   },
   "outputs": [
    {
     "data": {
      "text/plain": [
       "Dataset({\n",
       "    features: ['repo', 'commit', 'label', 'text', 'diffs', 'feature', 'user'],\n",
       "    num_rows: 1270\n",
       "})"
      ]
     },
     "execution_count": 13,
     "metadata": {},
     "output_type": "execute_result"
    }
   ],
   "source": [
    "train_dataset"
   ]
  },
  {
   "cell_type": "code",
   "execution_count": 14,
   "id": "d9ede869-1587-4e42-8879-e819e5961dca",
   "metadata": {
    "execution": {
     "iopub.execute_input": "2025-08-27T01:54:30.988514Z",
     "iopub.status.busy": "2025-08-27T01:54:30.987943Z",
     "iopub.status.idle": "2025-08-27T01:54:30.991085Z",
     "shell.execute_reply": "2025-08-27T01:54:30.990431Z",
     "shell.execute_reply.started": "2025-08-27T01:54:30.988494Z"
    }
   },
   "outputs": [],
   "source": [
    "model_id = \"../../sentence-transformers/paraphrase-mpnet-base-v2\""
   ]
  },
  {
   "cell_type": "code",
   "execution_count": 15,
   "id": "a6501389-0c86-442d-85cf-f04ad146703f",
   "metadata": {
    "execution": {
     "iopub.execute_input": "2025-08-27T01:54:30.992030Z",
     "iopub.status.busy": "2025-08-27T01:54:30.991855Z",
     "iopub.status.idle": "2025-08-27T01:54:30.997265Z",
     "shell.execute_reply": "2025-08-27T01:54:30.996442Z",
     "shell.execute_reply.started": "2025-08-27T01:54:30.992011Z"
    }
   },
   "outputs": [],
   "source": [
    "def hp_space(trial: Trial) -> Dict[str, Union[float, int, str]]:\n",
    "    return {\n",
    "        \"learning_rate\": trial.suggest_float(\"learning_rate\", 1e-6, 1e-3, log=True),\n",
    "        # \"num_epochs\": trial.suggest_int(\"num_epochs\", 1, 3),\n",
    "        # \"batch_size\": trial.suggest_categorical(\"batch_size\", [8, 12, 16]),\n",
    "        # \"seed\": trial.suggest_int(\"seed\", 1, 40),\n",
    "        # \"num_iterations\": trial.suggest_int(\"num_iterations\", 10, 20),\n",
    "        # \"solver\": trial.suggest_categorical(\"solver\", [\"newton-cg\", \"lbfgs\", \"liblinear\"]),\n",
    "    }\n",
    "def model_init(params: Dict[str, Any]) -> CommitFitModel:\n",
    "    params = params or {}\n",
    "    # learning_rate = params.get(\"learning_rate\")\n",
    "    # num_iterations = params.get(\"num_iterations\", 20)\n",
    "    # solver = params.get(\"solver\", \"liblinear\")\n",
    "    # params = {\n",
    "    #     \"head_params\": {\n",
    "    #         # \"max_iter\": num_iterations,\n",
    "    #         # \"solver\": solver,\n",
    "    #     }\n",
    "    # }\n",
    "    return CommitFitModel.from_pretrained(model_id, **params)\n",
    "def my_compute_objective(metrics):\n",
    "    print('+++++++++++',metrics)\n",
    "    return  metrics['accuracy']"
   ]
  },
  {
   "cell_type": "code",
   "execution_count": 16,
   "id": "2244f079-c2b8-4e01-aca4-f68e7ce8accb",
   "metadata": {
    "execution": {
     "iopub.execute_input": "2025-08-27T01:54:30.998120Z",
     "iopub.status.busy": "2025-08-27T01:54:30.997947Z",
     "iopub.status.idle": "2025-08-27T02:54:33.133851Z",
     "shell.execute_reply": "2025-08-27T02:54:33.132944Z",
     "shell.execute_reply.started": "2025-08-27T01:54:30.998101Z"
    }
   },
   "outputs": [
    {
     "name": "stderr",
     "output_type": "stream",
     "text": [
      "model_head.pkl not found in /root/autodl-tmp/CommitFit/sentence-transformers/paraphrase-mpnet-base-v2, initialising classification head with random weights. You should TRAIN this model on a downstream task to use it for predictions and inference.\n",
      "[I 2025-08-27 09:54:32,116] A new study created in memory with name: no-name-d61eefc2-1d85-4c10-8ac4-401138d6e875\n",
      "Trial: {'learning_rate': 1.6345802786433952e-06}\n",
      "model_head.pkl not found in /root/autodl-tmp/CommitFit/sentence-transformers/paraphrase-mpnet-base-v2, initialising classification head with random weights. You should TRAIN this model on a downstream task to use it for predictions and inference.\n"
     ]
    },
    {
     "data": {
      "application/vnd.jupyter.widget-view+json": {
       "model_id": "722adccb10774f68a59391befc376456",
       "version_major": 2,
       "version_minor": 0
      },
      "text/plain": [
       "Generating Training Pairs:   0%|          | 0/20 [00:00<?, ?it/s]"
      ]
     },
     "metadata": {},
     "output_type": "display_data"
    },
    {
     "name": "stderr",
     "output_type": "stream",
     "text": [
      "***** Running training *****\n",
      "  Num examples = 50800\n",
      "  Num epochs = 1\n",
      "  Total optimization steps = 3175\n",
      "  Total train batch size = 16\n"
     ]
    },
    {
     "data": {
      "application/vnd.jupyter.widget-view+json": {
       "model_id": "dcff7beef03e4180a5d840ffe0f1d69d",
       "version_major": 2,
       "version_minor": 0
      },
      "text/plain": [
       "Epoch:   0%|          | 0/1 [00:00<?, ?it/s]"
      ]
     },
     "metadata": {},
     "output_type": "display_data"
    },
    {
     "data": {
      "application/vnd.jupyter.widget-view+json": {
       "model_id": "04876e694045416bb1bd7cd1695c92b1",
       "version_major": 2,
       "version_minor": 0
      },
      "text/plain": [
       "Iteration:   0%|          | 0/3175 [00:00<?, ?it/s]"
      ]
     },
     "metadata": {},
     "output_type": "display_data"
    },
    {
     "name": "stderr",
     "output_type": "stream",
     "text": [
      "***** Running evaluation *****\n",
      "[I 2025-08-27 10:00:33,816] Trial 0 finished with value: 0.7873 and parameters: {'learning_rate': 1.6345802786433952e-06}. Best is trial 0 with value: 0.7873.\n",
      "Trial: {'learning_rate': 1.5294085533199166e-06}\n"
     ]
    },
    {
     "name": "stdout",
     "output_type": "stream",
     "text": [
      "Confusion Matrix:\n",
      " [[65  3 11]\n",
      " [11 76  2]\n",
      " [21  9 70]]\n",
      "              precision    recall  f1-score   support\n",
      "\n",
      "    Adaptive     0.6701    0.8228    0.7386        79\n",
      "  Corrective     0.8636    0.8539    0.8588        89\n",
      "  Perfective     0.8434    0.7000    0.7650       100\n",
      "\n",
      "    accuracy                         0.7873       268\n",
      "   macro avg     0.7924    0.7922    0.7875       268\n",
      "weighted avg     0.7990    0.7873    0.7884       268\n",
      "\n",
      "+++++++++++ {'classification_report': '              precision    recall  f1-score   support\\n\\n    Adaptive     0.6701    0.8228    0.7386        79\\n  Corrective     0.8636    0.8539    0.8588        89\\n  Perfective     0.8434    0.7000    0.7650       100\\n\\n    accuracy                         0.7873       268\\n   macro avg     0.7924    0.7922    0.7875       268\\nweighted avg     0.7990    0.7873    0.7884       268\\n', 'Confusion Matrix': array([[65,  3, 11],\n",
      "       [11, 76,  2],\n",
      "       [21,  9, 70]]), 'precision': 0.7924, 'recall': 0.7922, 'f1': 0.7875, 'accuracy': 0.7873}\n"
     ]
    },
    {
     "name": "stderr",
     "output_type": "stream",
     "text": [
      "model_head.pkl not found in /root/autodl-tmp/CommitFit/sentence-transformers/paraphrase-mpnet-base-v2, initialising classification head with random weights. You should TRAIN this model on a downstream task to use it for predictions and inference.\n"
     ]
    },
    {
     "data": {
      "application/vnd.jupyter.widget-view+json": {
       "model_id": "dd53622551594afb9d42945f9795c7c9",
       "version_major": 2,
       "version_minor": 0
      },
      "text/plain": [
       "Generating Training Pairs:   0%|          | 0/20 [00:00<?, ?it/s]"
      ]
     },
     "metadata": {},
     "output_type": "display_data"
    },
    {
     "name": "stderr",
     "output_type": "stream",
     "text": [
      "***** Running training *****\n",
      "  Num examples = 50800\n",
      "  Num epochs = 1\n",
      "  Total optimization steps = 3175\n",
      "  Total train batch size = 16\n"
     ]
    },
    {
     "data": {
      "application/vnd.jupyter.widget-view+json": {
       "model_id": "f7aed73d5de84daa8e98bb3e83cf6d53",
       "version_major": 2,
       "version_minor": 0
      },
      "text/plain": [
       "Epoch:   0%|          | 0/1 [00:00<?, ?it/s]"
      ]
     },
     "metadata": {},
     "output_type": "display_data"
    },
    {
     "data": {
      "application/vnd.jupyter.widget-view+json": {
       "model_id": "cb5ed7f5dd7743539a61cc204e1355ce",
       "version_major": 2,
       "version_minor": 0
      },
      "text/plain": [
       "Iteration:   0%|          | 0/3175 [00:00<?, ?it/s]"
      ]
     },
     "metadata": {},
     "output_type": "display_data"
    },
    {
     "name": "stderr",
     "output_type": "stream",
     "text": [
      "***** Running evaluation *****\n",
      "[I 2025-08-27 10:06:34,130] Trial 1 finished with value: 0.7873 and parameters: {'learning_rate': 1.5294085533199166e-06}. Best is trial 0 with value: 0.7873.\n",
      "Trial: {'learning_rate': 3.5045439902015534e-06}\n"
     ]
    },
    {
     "name": "stdout",
     "output_type": "stream",
     "text": [
      "Confusion Matrix:\n",
      " [[65  3 11]\n",
      " [11 76  2]\n",
      " [20 10 70]]\n",
      "              precision    recall  f1-score   support\n",
      "\n",
      "    Adaptive     0.6771    0.8228    0.7429        79\n",
      "  Corrective     0.8539    0.8539    0.8539        89\n",
      "  Perfective     0.8434    0.7000    0.7650       100\n",
      "\n",
      "    accuracy                         0.7873       268\n",
      "   macro avg     0.7915    0.7922    0.7873       268\n",
      "weighted avg     0.7979    0.7873    0.7880       268\n",
      "\n",
      "+++++++++++ {'classification_report': '              precision    recall  f1-score   support\\n\\n    Adaptive     0.6771    0.8228    0.7429        79\\n  Corrective     0.8539    0.8539    0.8539        89\\n  Perfective     0.8434    0.7000    0.7650       100\\n\\n    accuracy                         0.7873       268\\n   macro avg     0.7915    0.7922    0.7873       268\\nweighted avg     0.7979    0.7873    0.7880       268\\n', 'Confusion Matrix': array([[65,  3, 11],\n",
      "       [11, 76,  2],\n",
      "       [20, 10, 70]]), 'precision': 0.7915, 'recall': 0.7922, 'f1': 0.7873, 'accuracy': 0.7873}\n"
     ]
    },
    {
     "name": "stderr",
     "output_type": "stream",
     "text": [
      "model_head.pkl not found in /root/autodl-tmp/CommitFit/sentence-transformers/paraphrase-mpnet-base-v2, initialising classification head with random weights. You should TRAIN this model on a downstream task to use it for predictions and inference.\n"
     ]
    },
    {
     "data": {
      "application/vnd.jupyter.widget-view+json": {
       "model_id": "32a7e07bf8b94e9f81983ecc3a01b161",
       "version_major": 2,
       "version_minor": 0
      },
      "text/plain": [
       "Generating Training Pairs:   0%|          | 0/20 [00:00<?, ?it/s]"
      ]
     },
     "metadata": {},
     "output_type": "display_data"
    },
    {
     "name": "stderr",
     "output_type": "stream",
     "text": [
      "***** Running training *****\n",
      "  Num examples = 50800\n",
      "  Num epochs = 1\n",
      "  Total optimization steps = 3175\n",
      "  Total train batch size = 16\n"
     ]
    },
    {
     "data": {
      "application/vnd.jupyter.widget-view+json": {
       "model_id": "7a0aca345bec48cc85ec327d7993ace8",
       "version_major": 2,
       "version_minor": 0
      },
      "text/plain": [
       "Epoch:   0%|          | 0/1 [00:00<?, ?it/s]"
      ]
     },
     "metadata": {},
     "output_type": "display_data"
    },
    {
     "data": {
      "application/vnd.jupyter.widget-view+json": {
       "model_id": "3ff062511ad044d1bc8a499286065969",
       "version_major": 2,
       "version_minor": 0
      },
      "text/plain": [
       "Iteration:   0%|          | 0/3175 [00:00<?, ?it/s]"
      ]
     },
     "metadata": {},
     "output_type": "display_data"
    },
    {
     "name": "stderr",
     "output_type": "stream",
     "text": [
      "***** Running evaluation *****\n",
      "[I 2025-08-27 10:12:33,994] Trial 2 finished with value: 0.791 and parameters: {'learning_rate': 3.5045439902015534e-06}. Best is trial 2 with value: 0.791.\n",
      "Trial: {'learning_rate': 6.764494914823404e-05}\n"
     ]
    },
    {
     "name": "stdout",
     "output_type": "stream",
     "text": [
      "Confusion Matrix:\n",
      " [[63  4 12]\n",
      " [13 75  1]\n",
      " [15 11 74]]\n",
      "              precision    recall  f1-score   support\n",
      "\n",
      "    Adaptive     0.6923    0.7975    0.7412        79\n",
      "  Corrective     0.8333    0.8427    0.8380        89\n",
      "  Perfective     0.8506    0.7400    0.7914       100\n",
      "\n",
      "    accuracy                         0.7910       268\n",
      "   macro avg     0.7921    0.7934    0.7902       268\n",
      "weighted avg     0.7982    0.7910    0.7921       268\n",
      "\n",
      "+++++++++++ {'classification_report': '              precision    recall  f1-score   support\\n\\n    Adaptive     0.6923    0.7975    0.7412        79\\n  Corrective     0.8333    0.8427    0.8380        89\\n  Perfective     0.8506    0.7400    0.7914       100\\n\\n    accuracy                         0.7910       268\\n   macro avg     0.7921    0.7934    0.7902       268\\nweighted avg     0.7982    0.7910    0.7921       268\\n', 'Confusion Matrix': array([[63,  4, 12],\n",
      "       [13, 75,  1],\n",
      "       [15, 11, 74]]), 'precision': 0.7921, 'recall': 0.7934, 'f1': 0.7902, 'accuracy': 0.791}\n"
     ]
    },
    {
     "name": "stderr",
     "output_type": "stream",
     "text": [
      "model_head.pkl not found in /root/autodl-tmp/CommitFit/sentence-transformers/paraphrase-mpnet-base-v2, initialising classification head with random weights. You should TRAIN this model on a downstream task to use it for predictions and inference.\n",
      "***** Running evaluation *****\n",
      "[I 2025-08-27 10:18:34,135] Trial 3 finished with value: 0.8246 and parameters: {'learning_rate': 6.764494914823404e-05}. Best is trial 3 with value: 0.8246.\n",
      "Trial: {'learning_rate': 4.6851822121434266e-05}\n"
     ]
    },
    {
     "name": "stdout",
     "output_type": "stream",
     "text": [
      "Confusion Matrix:\n",
      " [[65  4 10]\n",
      " [ 8 77  4]\n",
      " [10 11 79]]\n",
      "              precision    recall  f1-score   support\n",
      "\n",
      "    Adaptive     0.7831    0.8228    0.8025        79\n",
      "  Corrective     0.8370    0.8652    0.8508        89\n",
      "  Perfective     0.8495    0.7900    0.8187       100\n",
      "\n",
      "    accuracy                         0.8246       268\n",
      "   macro avg     0.8232    0.8260    0.8240       268\n",
      "weighted avg     0.8258    0.8246    0.8246       268\n",
      "\n",
      "+++++++++++ {'classification_report': '              precision    recall  f1-score   support\\n\\n    Adaptive     0.7831    0.8228    0.8025        79\\n  Corrective     0.8370    0.8652    0.8508        89\\n  Perfective     0.8495    0.7900    0.8187       100\\n\\n    accuracy                         0.8246       268\\n   macro avg     0.8232    0.8260    0.8240       268\\nweighted avg     0.8258    0.8246    0.8246       268\\n', 'Confusion Matrix': array([[65,  4, 10],\n",
      "       [ 8, 77,  4],\n",
      "       [10, 11, 79]]), 'precision': 0.8232, 'recall': 0.826, 'f1': 0.824, 'accuracy': 0.8246}\n"
     ]
    },
    {
     "name": "stderr",
     "output_type": "stream",
     "text": [
      "model_head.pkl not found in /root/autodl-tmp/CommitFit/sentence-transformers/paraphrase-mpnet-base-v2, initialising classification head with random weights. You should TRAIN this model on a downstream task to use it for predictions and inference.\n"
     ]
    },
    {
     "data": {
      "application/vnd.jupyter.widget-view+json": {
       "model_id": "03fc22b6d7d6487aa54ccd38ea2fba32",
       "version_major": 2,
       "version_minor": 0
      },
      "text/plain": [
       "Generating Training Pairs:   0%|          | 0/20 [00:00<?, ?it/s]"
      ]
     },
     "metadata": {},
     "output_type": "display_data"
    },
    {
     "name": "stderr",
     "output_type": "stream",
     "text": [
      "***** Running training *****\n",
      "  Num examples = 50800\n",
      "  Num epochs = 1\n",
      "  Total optimization steps = 3175\n",
      "  Total train batch size = 16\n"
     ]
    },
    {
     "data": {
      "application/vnd.jupyter.widget-view+json": {
       "model_id": "3598155542274ef98e63d75c084b55a2",
       "version_major": 2,
       "version_minor": 0
      },
      "text/plain": [
       "Epoch:   0%|          | 0/1 [00:00<?, ?it/s]"
      ]
     },
     "metadata": {},
     "output_type": "display_data"
    },
    {
     "data": {
      "application/vnd.jupyter.widget-view+json": {
       "model_id": "1fc7f539fdb746a59bce5337de22c39d",
       "version_major": 2,
       "version_minor": 0
      },
      "text/plain": [
       "Iteration:   0%|          | 0/3175 [00:00<?, ?it/s]"
      ]
     },
     "metadata": {},
     "output_type": "display_data"
    },
    {
     "name": "stderr",
     "output_type": "stream",
     "text": [
      "IOPub message rate exceeded.\n",
      "The Jupyter server will temporarily stop sending output\n",
      "to the client in order to avoid crashing it.\n",
      "To change this limit, set the config variable\n",
      "`--ServerApp.iopub_msg_rate_limit`.\n",
      "\n",
      "Current values:\n",
      "ServerApp.iopub_msg_rate_limit=1000.0 (msgs/sec)\n",
      "ServerApp.rate_limit_window=3.0 (secs)\n",
      "\n",
      "***** Running evaluation *****\n",
      "[I 2025-08-27 10:30:34,403] Trial 5 finished with value: 0.7948 and parameters: {'learning_rate': 9.607470560068619e-06}. Best is trial 3 with value: 0.8246.\n",
      "Trial: {'learning_rate': 1.0218751023550487e-06}\n"
     ]
    },
    {
     "name": "stdout",
     "output_type": "stream",
     "text": [
      "Confusion Matrix:\n",
      " [[63  7  9]\n",
      " [11 77  1]\n",
      " [16 11 73]]\n",
      "              precision    recall  f1-score   support\n",
      "\n",
      "    Adaptive     0.7000    0.7975    0.7456        79\n",
      "  Corrective     0.8105    0.8652    0.8370        89\n",
      "  Perfective     0.8795    0.7300    0.7978       100\n",
      "\n",
      "    accuracy                         0.7948       268\n",
      "   macro avg     0.7967    0.7975    0.7934       268\n",
      "weighted avg     0.8037    0.7948    0.7954       268\n",
      "\n",
      "+++++++++++ {'classification_report': '              precision    recall  f1-score   support\\n\\n    Adaptive     0.7000    0.7975    0.7456        79\\n  Corrective     0.8105    0.8652    0.8370        89\\n  Perfective     0.8795    0.7300    0.7978       100\\n\\n    accuracy                         0.7948       268\\n   macro avg     0.7967    0.7975    0.7934       268\\nweighted avg     0.8037    0.7948    0.7954       268\\n', 'Confusion Matrix': array([[63,  7,  9],\n",
      "       [11, 77,  1],\n",
      "       [16, 11, 73]]), 'precision': 0.7967, 'recall': 0.7975, 'f1': 0.7934, 'accuracy': 0.7948}\n"
     ]
    },
    {
     "name": "stderr",
     "output_type": "stream",
     "text": [
      "model_head.pkl not found in /root/autodl-tmp/CommitFit/sentence-transformers/paraphrase-mpnet-base-v2, initialising classification head with random weights. You should TRAIN this model on a downstream task to use it for predictions and inference.\n"
     ]
    },
    {
     "data": {
      "application/vnd.jupyter.widget-view+json": {
       "model_id": "b46461eb8dc34b49b538bded87d667e0",
       "version_major": 2,
       "version_minor": 0
      },
      "text/plain": [
       "Generating Training Pairs:   0%|          | 0/20 [00:00<?, ?it/s]"
      ]
     },
     "metadata": {},
     "output_type": "display_data"
    },
    {
     "name": "stderr",
     "output_type": "stream",
     "text": [
      "***** Running training *****\n",
      "  Num examples = 50800\n",
      "  Num epochs = 1\n",
      "  Total optimization steps = 3175\n",
      "  Total train batch size = 16\n"
     ]
    },
    {
     "data": {
      "application/vnd.jupyter.widget-view+json": {
       "model_id": "ed4cd0c7eb684465bb74f7d74eaa5869",
       "version_major": 2,
       "version_minor": 0
      },
      "text/plain": [
       "Epoch:   0%|          | 0/1 [00:00<?, ?it/s]"
      ]
     },
     "metadata": {},
     "output_type": "display_data"
    },
    {
     "data": {
      "application/vnd.jupyter.widget-view+json": {
       "model_id": "74c39163059e433b8aa80a569d4c2864",
       "version_major": 2,
       "version_minor": 0
      },
      "text/plain": [
       "Iteration:   0%|          | 0/3175 [00:00<?, ?it/s]"
      ]
     },
     "metadata": {},
     "output_type": "display_data"
    },
    {
     "name": "stderr",
     "output_type": "stream",
     "text": [
      "***** Running evaluation *****\n",
      "[I 2025-08-27 10:36:34,299] Trial 6 finished with value: 0.7985 and parameters: {'learning_rate': 1.0218751023550487e-06}. Best is trial 3 with value: 0.8246.\n",
      "Trial: {'learning_rate': 0.0004923974075397821}\n"
     ]
    },
    {
     "name": "stdout",
     "output_type": "stream",
     "text": [
      "Confusion Matrix:\n",
      " [[68  2  9]\n",
      " [13 74  2]\n",
      " [18 10 72]]\n",
      "              precision    recall  f1-score   support\n",
      "\n",
      "    Adaptive     0.6869    0.8608    0.7640        79\n",
      "  Corrective     0.8605    0.8315    0.8457        89\n",
      "  Perfective     0.8675    0.7200    0.7869       100\n",
      "\n",
      "    accuracy                         0.7985       268\n",
      "   macro avg     0.8049    0.8041    0.7989       268\n",
      "weighted avg     0.8119    0.7985    0.7997       268\n",
      "\n",
      "+++++++++++ {'classification_report': '              precision    recall  f1-score   support\\n\\n    Adaptive     0.6869    0.8608    0.7640        79\\n  Corrective     0.8605    0.8315    0.8457        89\\n  Perfective     0.8675    0.7200    0.7869       100\\n\\n    accuracy                         0.7985       268\\n   macro avg     0.8049    0.8041    0.7989       268\\nweighted avg     0.8119    0.7985    0.7997       268\\n', 'Confusion Matrix': array([[68,  2,  9],\n",
      "       [13, 74,  2],\n",
      "       [18, 10, 72]]), 'precision': 0.8049, 'recall': 0.8041, 'f1': 0.7989, 'accuracy': 0.7985}\n"
     ]
    },
    {
     "name": "stderr",
     "output_type": "stream",
     "text": [
      "model_head.pkl not found in /root/autodl-tmp/CommitFit/sentence-transformers/paraphrase-mpnet-base-v2, initialising classification head with random weights. You should TRAIN this model on a downstream task to use it for predictions and inference.\n"
     ]
    },
    {
     "data": {
      "application/vnd.jupyter.widget-view+json": {
       "model_id": "f366fc70921a462793e058b1ce8dbbed",
       "version_major": 2,
       "version_minor": 0
      },
      "text/plain": [
       "Generating Training Pairs:   0%|          | 0/20 [00:00<?, ?it/s]"
      ]
     },
     "metadata": {},
     "output_type": "display_data"
    },
    {
     "name": "stderr",
     "output_type": "stream",
     "text": [
      "***** Running evaluation *****\n",
      "/root/miniconda3/lib/python3.10/site-packages/sklearn/metrics/_classification.py:1531: UndefinedMetricWarning: Precision is ill-defined and being set to 0.0 in labels with no predicted samples. Use `zero_division` parameter to control this behavior.\n",
      "  _warn_prf(average, modifier, f\"{metric.capitalize()} is\", len(result))\n",
      "/root/miniconda3/lib/python3.10/site-packages/sklearn/metrics/_classification.py:1531: UndefinedMetricWarning: Precision is ill-defined and being set to 0.0 in labels with no predicted samples. Use `zero_division` parameter to control this behavior.\n",
      "  _warn_prf(average, modifier, f\"{metric.capitalize()} is\", len(result))\n",
      "/root/miniconda3/lib/python3.10/site-packages/sklearn/metrics/_classification.py:1531: UndefinedMetricWarning: Precision is ill-defined and being set to 0.0 in labels with no predicted samples. Use `zero_division` parameter to control this behavior.\n",
      "  _warn_prf(average, modifier, f\"{metric.capitalize()} is\", len(result))\n",
      "/root/miniconda3/lib/python3.10/site-packages/sklearn/metrics/_classification.py:1531: UndefinedMetricWarning: Precision is ill-defined and being set to 0.0 in labels with no predicted samples. Use `zero_division` parameter to control this behavior.\n",
      "  _warn_prf(average, modifier, f\"{metric.capitalize()} is\", len(result))\n",
      "/root/miniconda3/lib/python3.10/site-packages/sklearn/metrics/_classification.py:1531: UndefinedMetricWarning: Precision is ill-defined and being set to 0.0 in labels with no predicted samples. Use `zero_division` parameter to control this behavior.\n",
      "  _warn_prf(average, modifier, f\"{metric.capitalize()} is\", len(result))\n",
      "/root/miniconda3/lib/python3.10/site-packages/sklearn/metrics/_classification.py:1531: UndefinedMetricWarning: Precision is ill-defined and being set to 0.0 in labels with no predicted samples. Use `zero_division` parameter to control this behavior.\n",
      "  _warn_prf(average, modifier, f\"{metric.capitalize()} is\", len(result))\n",
      "/root/miniconda3/lib/python3.10/site-packages/sklearn/metrics/_classification.py:1531: UndefinedMetricWarning: Precision is ill-defined and being set to 0.0 in labels with no predicted samples. Use `zero_division` parameter to control this behavior.\n",
      "  _warn_prf(average, modifier, f\"{metric.capitalize()} is\", len(result))\n",
      "[I 2025-08-27 10:42:33,799] Trial 7 finished with value: 0.3321 and parameters: {'learning_rate': 0.0004923974075397821}. Best is trial 3 with value: 0.8246.\n",
      "Trial: {'learning_rate': 0.0009018188767806269}\n"
     ]
    },
    {
     "name": "stdout",
     "output_type": "stream",
     "text": [
      "Confusion Matrix:\n",
      " [[  0  79   0]\n",
      " [  0  89   0]\n",
      " [  0 100   0]]\n",
      "              precision    recall  f1-score   support\n",
      "\n",
      "    Adaptive     0.0000    0.0000    0.0000        79\n",
      "  Corrective     0.3321    1.0000    0.4986        89\n",
      "  Perfective     0.0000    0.0000    0.0000       100\n",
      "\n",
      "    accuracy                         0.3321       268\n",
      "   macro avg     0.1107    0.3333    0.1662       268\n",
      "weighted avg     0.1103    0.3321    0.1656       268\n",
      "\n",
      "+++++++++++ {'classification_report': '              precision    recall  f1-score   support\\n\\n    Adaptive     0.0000    0.0000    0.0000        79\\n  Corrective     0.3321    1.0000    0.4986        89\\n  Perfective     0.0000    0.0000    0.0000       100\\n\\n    accuracy                         0.3321       268\\n   macro avg     0.1107    0.3333    0.1662       268\\nweighted avg     0.1103    0.3321    0.1656       268\\n', 'Confusion Matrix': array([[  0,  79,   0],\n",
      "       [  0,  89,   0],\n",
      "       [  0, 100,   0]]), 'precision': 0.1107, 'recall': 0.3333, 'f1': 0.1662, 'accuracy': 0.3321}\n"
     ]
    },
    {
     "name": "stderr",
     "output_type": "stream",
     "text": [
      "model_head.pkl not found in /root/autodl-tmp/CommitFit/sentence-transformers/paraphrase-mpnet-base-v2, initialising classification head with random weights. You should TRAIN this model on a downstream task to use it for predictions and inference.\n"
     ]
    },
    {
     "data": {
      "application/vnd.jupyter.widget-view+json": {
       "model_id": "f0a76b6e7286440a8213a9b3a86117bf",
       "version_major": 2,
       "version_minor": 0
      },
      "text/plain": [
       "Generating Training Pairs:   0%|          | 0/20 [00:00<?, ?it/s]"
      ]
     },
     "metadata": {},
     "output_type": "display_data"
    },
    {
     "name": "stderr",
     "output_type": "stream",
     "text": [
      "***** Running training *****\n",
      "  Num examples = 50800\n",
      "  Num epochs = 1\n",
      "  Total optimization steps = 3175\n",
      "  Total train batch size = 16\n"
     ]
    },
    {
     "data": {
      "application/vnd.jupyter.widget-view+json": {
       "model_id": "49e22cef6a924c6eb377c4a20ae45c80",
       "version_major": 2,
       "version_minor": 0
      },
      "text/plain": [
       "Epoch:   0%|          | 0/1 [00:00<?, ?it/s]"
      ]
     },
     "metadata": {},
     "output_type": "display_data"
    },
    {
     "data": {
      "application/vnd.jupyter.widget-view+json": {
       "model_id": "bd9a0bc87a024d25b3dabe1d73e1a90a",
       "version_major": 2,
       "version_minor": 0
      },
      "text/plain": [
       "Iteration:   0%|          | 0/3175 [00:00<?, ?it/s]"
      ]
     },
     "metadata": {},
     "output_type": "display_data"
    },
    {
     "name": "stderr",
     "output_type": "stream",
     "text": [
      "IOPub message rate exceeded.\n",
      "The Jupyter server will temporarily stop sending output\n",
      "to the client in order to avoid crashing it.\n",
      "To change this limit, set the config variable\n",
      "`--ServerApp.iopub_msg_rate_limit`.\n",
      "\n",
      "Current values:\n",
      "ServerApp.iopub_msg_rate_limit=1000.0 (msgs/sec)\n",
      "ServerApp.rate_limit_window=3.0 (secs)\n",
      "\n",
      "***** Running evaluation *****\n",
      "[I 2025-08-27 10:54:33,130] Trial 9 finished with value: 0.7873 and parameters: {'learning_rate': 1.2329074261988963e-05}. Best is trial 3 with value: 0.8246.\n"
     ]
    },
    {
     "name": "stdout",
     "output_type": "stream",
     "text": [
      "Confusion Matrix:\n",
      " [[62  7 10]\n",
      " [13 74  2]\n",
      " [13 12 75]]\n",
      "              precision    recall  f1-score   support\n",
      "\n",
      "    Adaptive     0.7045    0.7848    0.7425        79\n",
      "  Corrective     0.7957    0.8315    0.8132        89\n",
      "  Perfective     0.8621    0.7500    0.8021       100\n",
      "\n",
      "    accuracy                         0.7873       268\n",
      "   macro avg     0.7874    0.7888    0.7859       268\n",
      "weighted avg     0.7936    0.7873    0.7882       268\n",
      "\n",
      "+++++++++++ {'classification_report': '              precision    recall  f1-score   support\\n\\n    Adaptive     0.7045    0.7848    0.7425        79\\n  Corrective     0.7957    0.8315    0.8132        89\\n  Perfective     0.8621    0.7500    0.8021       100\\n\\n    accuracy                         0.7873       268\\n   macro avg     0.7874    0.7888    0.7859       268\\nweighted avg     0.7936    0.7873    0.7882       268\\n', 'Confusion Matrix': array([[62,  7, 10],\n",
      "       [13, 74,  2],\n",
      "       [13, 12, 75]]), 'precision': 0.7874, 'recall': 0.7888, 'f1': 0.7859, 'accuracy': 0.7873}\n"
     ]
    }
   ],
   "source": [
    "trainer = CommitFitTrainer(\n",
    "    train_dataset=train_dataset,\n",
    "    train_code_change = train_code_change,\n",
    "    test_code_change = test_code_change,\n",
    "    eval_dataset=test_dataset,\n",
    "    model_init=model_init,\n",
    "    metric = compute_metrics,\n",
    "    num_iterations=20,\n",
    "    num_epochs=1\n",
    ")\n",
    "best_run = trainer.hyperparameter_search(direction=\"maximize\", hp_space=hp_space, compute_objective=my_compute_objective, n_trials=10)"
   ]
  },
  {
   "cell_type": "code",
   "execution_count": 17,
   "id": "91deb34e-2ef0-4f00-b6e7-7ffd18605c52",
   "metadata": {
    "execution": {
     "iopub.execute_input": "2025-08-27T02:54:33.134941Z",
     "iopub.status.busy": "2025-08-27T02:54:33.134588Z",
     "iopub.status.idle": "2025-08-27T02:54:33.139785Z",
     "shell.execute_reply": "2025-08-27T02:54:33.139154Z",
     "shell.execute_reply.started": "2025-08-27T02:54:33.134918Z"
    }
   },
   "outputs": [
    {
     "data": {
      "text/plain": [
       "BestRun(run_id='3', objective=0.8246, hyperparameters={'learning_rate': 6.764494914823404e-05}, backend=<optuna.study.study.Study object at 0x7f8e6bdffe50>)"
      ]
     },
     "execution_count": 17,
     "metadata": {},
     "output_type": "execute_result"
    }
   ],
   "source": [
    "best_run"
   ]
  },
  {
   "cell_type": "code",
   "execution_count": 18,
   "id": "40cfde46-c7d5-4446-8b53-7ad4dc8edb66",
   "metadata": {
    "execution": {
     "iopub.execute_input": "2025-08-27T02:54:33.140688Z",
     "iopub.status.busy": "2025-08-27T02:54:33.140506Z",
     "iopub.status.idle": "2025-08-27T02:54:33.144764Z",
     "shell.execute_reply": "2025-08-27T02:54:33.144203Z",
     "shell.execute_reply.started": "2025-08-27T02:54:33.140667Z"
    }
   },
   "outputs": [
    {
     "data": {
      "text/plain": [
       "{'learning_rate': 6.764494914823404e-05}"
      ]
     },
     "execution_count": 18,
     "metadata": {},
     "output_type": "execute_result"
    }
   ],
   "source": [
    "best_run.hyperparameters"
   ]
  },
  {
   "cell_type": "code",
   "execution_count": 19,
   "id": "ae735a8b-c672-4dce-822c-61330c34481b",
   "metadata": {
    "execution": {
     "iopub.execute_input": "2025-08-27T02:54:33.145647Z",
     "iopub.status.busy": "2025-08-27T02:54:33.145480Z",
     "iopub.status.idle": "2025-08-27T03:00:29.884992Z",
     "shell.execute_reply": "2025-08-27T03:00:29.883943Z",
     "shell.execute_reply.started": "2025-08-27T02:54:33.145628Z"
    }
   },
   "outputs": [
    {
     "name": "stderr",
     "output_type": "stream",
     "text": [
      "model_head.pkl not found in /root/autodl-tmp/CommitFit/sentence-transformers/paraphrase-mpnet-base-v2, initialising classification head with random weights. You should TRAIN this model on a downstream task to use it for predictions and inference.\n"
     ]
    },
    {
     "data": {
      "application/vnd.jupyter.widget-view+json": {
       "model_id": "2838410ba9c1453282c9a70ceb085ff2",
       "version_major": 2,
       "version_minor": 0
      },
      "text/plain": [
       "Generating Training Pairs:   0%|          | 0/20 [00:00<?, ?it/s]"
      ]
     },
     "metadata": {},
     "output_type": "display_data"
    },
    {
     "name": "stderr",
     "output_type": "stream",
     "text": [
      "***** Running training *****\n",
      "  Num examples = 50800\n",
      "  Num epochs = 1\n",
      "  Total optimization steps = 3175\n",
      "  Total train batch size = 16\n"
     ]
    },
    {
     "data": {
      "application/vnd.jupyter.widget-view+json": {
       "model_id": "5e0d4a1926484c5b83f97a349f721ca2",
       "version_major": 2,
       "version_minor": 0
      },
      "text/plain": [
       "Epoch:   0%|          | 0/1 [00:00<?, ?it/s]"
      ]
     },
     "metadata": {},
     "output_type": "display_data"
    },
    {
     "data": {
      "application/vnd.jupyter.widget-view+json": {
       "model_id": "8b29f5d141a44cfdac449790f3c3f171",
       "version_major": 2,
       "version_minor": 0
      },
      "text/plain": [
       "Iteration:   0%|          | 0/3175 [00:00<?, ?it/s]"
      ]
     },
     "metadata": {},
     "output_type": "display_data"
    }
   ],
   "source": [
    "trainer.apply_hyperparameters(best_run.hyperparameters, final_model=True)\n",
    "trainer.train()"
   ]
  },
  {
   "cell_type": "code",
   "execution_count": 20,
   "id": "166dcf9b-a0bd-4b60-854c-c6535c22a111",
   "metadata": {
    "execution": {
     "iopub.execute_input": "2025-08-27T03:00:29.886405Z",
     "iopub.status.busy": "2025-08-27T03:00:29.886110Z",
     "iopub.status.idle": "2025-08-27T03:00:34.373133Z",
     "shell.execute_reply": "2025-08-27T03:00:34.372375Z",
     "shell.execute_reply.started": "2025-08-27T03:00:29.886382Z"
    }
   },
   "outputs": [
    {
     "name": "stderr",
     "output_type": "stream",
     "text": [
      "***** Running evaluation *****\n"
     ]
    },
    {
     "name": "stdout",
     "output_type": "stream",
     "text": [
      "Confusion Matrix:\n",
      " [[67  4  8]\n",
      " [11 76  2]\n",
      " [12 11 77]]\n",
      "              precision    recall  f1-score   support\n",
      "\n",
      "    Adaptive     0.7444    0.8481    0.7929        79\n",
      "  Corrective     0.8352    0.8539    0.8444        89\n",
      "  Perfective     0.8851    0.7700    0.8235       100\n",
      "\n",
      "    accuracy                         0.8209       268\n",
      "   macro avg     0.8216    0.8240    0.8203       268\n",
      "weighted avg     0.8270    0.8209    0.8214       268\n",
      "\n"
     ]
    },
    {
     "data": {
      "text/plain": [
       "{'classification_report': '              precision    recall  f1-score   support\\n\\n    Adaptive     0.7444    0.8481    0.7929        79\\n  Corrective     0.8352    0.8539    0.8444        89\\n  Perfective     0.8851    0.7700    0.8235       100\\n\\n    accuracy                         0.8209       268\\n   macro avg     0.8216    0.8240    0.8203       268\\nweighted avg     0.8270    0.8209    0.8214       268\\n',\n",
       " 'Confusion Matrix': array([[67,  4,  8],\n",
       "        [11, 76,  2],\n",
       "        [12, 11, 77]]),\n",
       " 'precision': 0.8216,\n",
       " 'recall': 0.824,\n",
       " 'f1': 0.8203,\n",
       " 'accuracy': 0.8209}"
      ]
     },
     "execution_count": 20,
     "metadata": {},
     "output_type": "execute_result"
    }
   ],
   "source": [
    "fewshot_metrics = trainer.evaluate()\n",
    "fewshot_metrics"
   ]
  },
  {
   "cell_type": "code",
   "execution_count": 21,
   "id": "af21aba7-66cd-4762-b5d4-6d27650bba7e",
   "metadata": {
    "execution": {
     "iopub.execute_input": "2025-08-27T03:00:34.374308Z",
     "iopub.status.busy": "2025-08-27T03:00:34.374023Z",
     "iopub.status.idle": "2025-08-27T03:00:35.531308Z",
     "shell.execute_reply": "2025-08-27T03:00:35.530168Z",
     "shell.execute_reply.started": "2025-08-27T03:00:34.374286Z"
    }
   },
   "outputs": [
    {
     "name": "stdout",
     "output_type": "stream",
     "text": [
      "强化学习模型训练完毕\n"
     ]
    }
   ],
   "source": [
    "#发送多种类型的邮件\n",
    "from email.mime.multipart import MIMEMultipart\n",
    "import smtplib\n",
    "\n",
    "from email.mime.text import MIMEText\n",
    "msg_from = '915803745@qq.com'  # 发送方邮箱\n",
    "passwd = 'vcuosuurrgkfbdai'   #就是上面的授权码\n",
    " \n",
    "# to= ['g.zhang@gotion.com', 'j.tong@gotion.com'] #接受方邮箱\n",
    "to= ['j.tong@gotion.com'] #接受方邮箱\n",
    "#设置邮件内容\n",
    "#MIMEMultipart类可以放任何内容\n",
    "msg = MIMEMultipart()\n",
    "conntent=f\"{fewshot_metrics}\"\n",
    "#把内容加进去\n",
    "msg.attach(MIMEText(conntent,'plain','utf-8'))\n",
    " \n",
    "#设置邮件主题\n",
    "msg['Subject']=\"强化学习模型训练完毕\"\n",
    " \n",
    "#发送方信息\n",
    "msg['From']=msg_from\n",
    " \n",
    "#开始发送\n",
    " \n",
    "#通过SSL方式发送，服务器地址和端口\n",
    "s = smtplib.SMTP_SSL(\"smtp.qq.com\", 465)\n",
    "# 登录邮箱\n",
    "s.login(msg_from, passwd)\n",
    "#开始发送\n",
    "s.sendmail(msg_from,to,msg.as_string())\n",
    "print(\"强化学习模型训练完毕\")"
   ]
  },
  {
   "cell_type": "code",
   "execution_count": null,
   "id": "025b5144-4d11-4fae-b716-5cb039470225",
   "metadata": {},
   "outputs": [],
   "source": []
  }
 ],
 "metadata": {
  "kernelspec": {
   "display_name": "Python 3 (ipykernel)",
   "language": "python",
   "name": "python3"
  },
  "language_info": {
   "codemirror_mode": {
    "name": "ipython",
    "version": 3
   },
   "file_extension": ".py",
   "mimetype": "text/x-python",
   "name": "python",
   "nbconvert_exporter": "python",
   "pygments_lexer": "ipython3",
   "version": "3.10.8"
  }
 },
 "nbformat": 4,
 "nbformat_minor": 5
}
