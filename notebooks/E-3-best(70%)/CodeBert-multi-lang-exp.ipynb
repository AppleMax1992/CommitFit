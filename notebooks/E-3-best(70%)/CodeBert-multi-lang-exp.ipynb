{
 "cells": [
  {
   "cell_type": "code",
   "execution_count": 1,
   "id": "77d93e6a-106b-4abd-87e7-1243d4c51126",
   "metadata": {
    "execution": {
     "iopub.execute_input": "2025-08-28T00:01:07.965433Z",
     "iopub.status.busy": "2025-08-28T00:01:07.965081Z",
     "iopub.status.idle": "2025-08-28T00:01:10.784280Z",
     "shell.execute_reply": "2025-08-28T00:01:10.783286Z",
     "shell.execute_reply.started": "2025-08-28T00:01:07.965380Z"
    },
    "id": "77d93e6a-106b-4abd-87e7-1243d4c51126"
   },
   "outputs": [],
   "source": [
    "# !pip install transformers accelerate\n",
    "from transformers import AutoTokenizer, AutoModel, EarlyStoppingCallback, AutoModelForSequenceClassification, AutoConfig,Trainer, TrainingArguments,DataCollatorWithPadding\n",
    "import torch\n",
    "import numpy as np\n",
    "import pandas as pd\n",
    "# !pip install datasets\n",
    "# from datasets import load_metric\n",
    "# !pip install evaluate\n",
    "# \n",
    "from sklearn.model_selection import train_test_split\n",
    "import csv\n",
    "from optuna import Trial\n",
    "from typing import Dict, Union, Any\n",
    "import evaluate"
   ]
  },
  {
   "cell_type": "code",
   "execution_count": 2,
   "id": "9ef5359f-9526-4d19-a2da-7988dc1ea04f",
   "metadata": {
    "colab": {
     "base_uri": "https://localhost:8080/"
    },
    "execution": {
     "iopub.execute_input": "2025-08-28T00:01:10.786158Z",
     "iopub.status.busy": "2025-08-28T00:01:10.785836Z",
     "iopub.status.idle": "2025-08-28T00:01:11.104656Z",
     "shell.execute_reply": "2025-08-28T00:01:11.103916Z",
     "shell.execute_reply.started": "2025-08-28T00:01:10.786136Z"
    },
    "id": "9ef5359f-9526-4d19-a2da-7988dc1ea04f",
    "outputId": "3712e188-4625-432f-ef6b-9c0533053f62"
   },
   "outputs": [
    {
     "name": "stderr",
     "output_type": "stream",
     "text": [
      "/tmp/ipykernel_1619/1422861430.py:5: FutureWarning: Downcasting behavior in `replace` is deprecated and will be removed in a future version. To retain the old behavior, explicitly call `result.infer_objects(copy=False)`. To opt-in to the future behavior, set `pd.set_option('future.no_silent_downcasting', True)`\n",
      "  df = df.replace({\"labels\": label2id})\n"
     ]
    },
    {
     "data": {
      "text/html": [
       "<div>\n",
       "<style scoped>\n",
       "    .dataframe tbody tr th:only-of-type {\n",
       "        vertical-align: middle;\n",
       "    }\n",
       "\n",
       "    .dataframe tbody tr th {\n",
       "        vertical-align: top;\n",
       "    }\n",
       "\n",
       "    .dataframe thead th {\n",
       "        text-align: right;\n",
       "    }\n",
       "</style>\n",
       "<table border=\"1\" class=\"dataframe\">\n",
       "  <thead>\n",
       "    <tr style=\"text-align: right;\">\n",
       "      <th></th>\n",
       "      <th>language</th>\n",
       "      <th>commit</th>\n",
       "      <th>commit_url</th>\n",
       "      <th>labels</th>\n",
       "      <th>user</th>\n",
       "      <th>repo</th>\n",
       "      <th>feature</th>\n",
       "      <th>diffs</th>\n",
       "      <th>text</th>\n",
       "    </tr>\n",
       "  </thead>\n",
       "  <tbody>\n",
       "    <tr>\n",
       "      <th>0</th>\n",
       "      <td>C++</td>\n",
       "      <td>be937a3290223f926fe50684f1344569a573ed4b</td>\n",
       "      <td>https://github.com/tensorflow/tensorflow/commi...</td>\n",
       "      <td>1</td>\n",
       "      <td>tensorflow</td>\n",
       "      <td>tensorflow</td>\n",
       "      <td>[1, 0, 0, 1, 1, 0, 0, 1, 0, 0, 0, 0, 0, 0, 6, ...</td>\n",
       "      <td>diff --git a/tensorflow/compiler/mlir/lite/fla...</td>\n",
       "      <td>Fixing per axis quantization bug in flatbuffer...</td>\n",
       "    </tr>\n",
       "    <tr>\n",
       "      <th>1</th>\n",
       "      <td>C++</td>\n",
       "      <td>c800d2e36954edddcb83aa1df7f623f2780c7780</td>\n",
       "      <td>https://github.com/tensorflow/tensorflow/commi...</td>\n",
       "      <td>0</td>\n",
       "      <td>tensorflow</td>\n",
       "      <td>tensorflow</td>\n",
       "      <td>[0, 0, 0, 0, 0, 0, 0, 0, 0, 0, 0, 0, 0, 0, 0, ...</td>\n",
       "      <td>diff --git a/tensorflow/python/tools/saved_mod...</td>\n",
       "      <td>Add support for python expression as SavedMode...</td>\n",
       "    </tr>\n",
       "    <tr>\n",
       "      <th>2</th>\n",
       "      <td>C++</td>\n",
       "      <td>469e56eeff17eb857c95e935ca7b49723c43470e</td>\n",
       "      <td>https://github.com/tensorflow/tensorflow/commi...</td>\n",
       "      <td>2</td>\n",
       "      <td>tensorflow</td>\n",
       "      <td>tensorflow</td>\n",
       "      <td>[0, 0, 0, 0, 0, 0, 0, 0, 0, 0, 0, 0, 0, 0, 0, ...</td>\n",
       "      <td>diff --git a/.github/ISSUE_TEMPLATE/00-bug-iss...</td>\n",
       "      <td>Fix GitHub issue templates. Actual fix for #36...</td>\n",
       "    </tr>\n",
       "    <tr>\n",
       "      <th>3</th>\n",
       "      <td>C++</td>\n",
       "      <td>24f5d302c0906f3377f4d6bcc2735d943ce13e3d</td>\n",
       "      <td>https://github.com/tensorflow/tensorflow/commi...</td>\n",
       "      <td>0</td>\n",
       "      <td>tensorflow</td>\n",
       "      <td>tensorflow</td>\n",
       "      <td>[3, 37, 0, 0, 9, 0, 0, 0, 0, 0, 0, 0, 0, 0, 0,...</td>\n",
       "      <td>diff --git a/tensorflow/compiler/xla/pjrt/dist...</td>\n",
       "      <td>Add new PjRT distributed APIs (KeyValueDelete,...</td>\n",
       "    </tr>\n",
       "    <tr>\n",
       "      <th>4</th>\n",
       "      <td>C++</td>\n",
       "      <td>1effdb7b959503596b07f7f3e74618ab63f9e5e5</td>\n",
       "      <td>https://github.com/tensorflow/tensorflow/commi...</td>\n",
       "      <td>2</td>\n",
       "      <td>tensorflow</td>\n",
       "      <td>tensorflow</td>\n",
       "      <td>[1, 0, 12, 0, 0, 1, 0, 0, 0, 0, 0, 0, 0, 0, 0,...</td>\n",
       "      <td>diff --git a/tensorflow/core/common_runtime/ea...</td>\n",
       "      <td>Remove IsLocalDevice() since it's no longer us...</td>\n",
       "    </tr>\n",
       "    <tr>\n",
       "      <th>...</th>\n",
       "      <td>...</td>\n",
       "      <td>...</td>\n",
       "      <td>...</td>\n",
       "      <td>...</td>\n",
       "      <td>...</td>\n",
       "      <td>...</td>\n",
       "      <td>...</td>\n",
       "      <td>...</td>\n",
       "      <td>...</td>\n",
       "    </tr>\n",
       "    <tr>\n",
       "      <th>1576</th>\n",
       "      <td>Java</td>\n",
       "      <td>e4bbfd537a63a52a6094491504fc7b0bb54bcb0e</td>\n",
       "      <td></td>\n",
       "      <td>1</td>\n",
       "      <td>kiegroup</td>\n",
       "      <td>drools</td>\n",
       "      <td>[1, 0, 0, 1, 0, 0, 0, 0, 0, 0, 0, 0, 0, 0, 0, ...</td>\n",
       "      <td>diff --git a/drools-persistence-jpa/src/main/j...</td>\n",
       "      <td>fixing reflection constructor to use int inste...</td>\n",
       "    </tr>\n",
       "    <tr>\n",
       "      <th>1577</th>\n",
       "      <td>Java</td>\n",
       "      <td>75b81dcbd26a11d5b370ea5bdf102c2d62ebd0c3</td>\n",
       "      <td></td>\n",
       "      <td>1</td>\n",
       "      <td>kiegroup</td>\n",
       "      <td>drools</td>\n",
       "      <td>[2, 6, 2, 3, 0, 0, 0, 1, 7, 0, 0, 0, 0, 0, 0, ...</td>\n",
       "      <td>diff --git a/drools-compiler/src/main/java/org...</td>\n",
       "      <td>Fix OutOfBoundException on- MemoryFileSystem.e...</td>\n",
       "    </tr>\n",
       "    <tr>\n",
       "      <th>1578</th>\n",
       "      <td>Java</td>\n",
       "      <td>6bc9677bbe919cd5bcadd8af2f5b0c838757a4ce</td>\n",
       "      <td></td>\n",
       "      <td>1</td>\n",
       "      <td>kiegroup</td>\n",
       "      <td>drools</td>\n",
       "      <td>[1, 1, 5, 13, 0, 0, 0, 0, 0, 0, 0, 0, 0, 0, 0,...</td>\n",
       "      <td>diff --git a/drools-core/src/main/java/org/dro...</td>\n",
       "      <td>[DROOLS-293] fix ObjectTypeNode id creation an...</td>\n",
       "    </tr>\n",
       "    <tr>\n",
       "      <th>1579</th>\n",
       "      <td>Java</td>\n",
       "      <td>48701edad8513b27acec7216581e64637157c86a</td>\n",
       "      <td></td>\n",
       "      <td>0</td>\n",
       "      <td>kiegroup</td>\n",
       "      <td>drools</td>\n",
       "      <td>[2, 24, 2, 4, 3, 0, 0, 0, 0, 0, 0, 0, 0, 0, 0,...</td>\n",
       "      <td>diff --git a/drools-core/src/main/java/org/dro...</td>\n",
       "      <td>DROOLS-515 Kie-Camel is broken after Camel Upd...</td>\n",
       "    </tr>\n",
       "    <tr>\n",
       "      <th>1580</th>\n",
       "      <td>Java</td>\n",
       "      <td>45529d30d41b8de338dfc2d26b61d1a79113c766</td>\n",
       "      <td></td>\n",
       "      <td>0</td>\n",
       "      <td>kiegroup</td>\n",
       "      <td>drools</td>\n",
       "      <td>[1, 10, 0, 0, 0, 0, 0, 1, 60, 0, 0, 1, 0, 0, 0...</td>\n",
       "      <td>diff --git a/drools-compiler/src/test/java/org...</td>\n",
       "      <td>JBRULES-2934 Add NewRegisterWorkItemHandlerCom...</td>\n",
       "    </tr>\n",
       "  </tbody>\n",
       "</table>\n",
       "<p>1581 rows × 9 columns</p>\n",
       "</div>"
      ],
      "text/plain": [
       "     language                                    commit  \\\n",
       "0         C++  be937a3290223f926fe50684f1344569a573ed4b   \n",
       "1         C++  c800d2e36954edddcb83aa1df7f623f2780c7780   \n",
       "2         C++  469e56eeff17eb857c95e935ca7b49723c43470e   \n",
       "3         C++  24f5d302c0906f3377f4d6bcc2735d943ce13e3d   \n",
       "4         C++  1effdb7b959503596b07f7f3e74618ab63f9e5e5   \n",
       "...       ...                                       ...   \n",
       "1576     Java  e4bbfd537a63a52a6094491504fc7b0bb54bcb0e   \n",
       "1577     Java  75b81dcbd26a11d5b370ea5bdf102c2d62ebd0c3   \n",
       "1578     Java  6bc9677bbe919cd5bcadd8af2f5b0c838757a4ce   \n",
       "1579     Java  48701edad8513b27acec7216581e64637157c86a   \n",
       "1580     Java  45529d30d41b8de338dfc2d26b61d1a79113c766   \n",
       "\n",
       "                                             commit_url  labels        user  \\\n",
       "0     https://github.com/tensorflow/tensorflow/commi...       1  tensorflow   \n",
       "1     https://github.com/tensorflow/tensorflow/commi...       0  tensorflow   \n",
       "2     https://github.com/tensorflow/tensorflow/commi...       2  tensorflow   \n",
       "3     https://github.com/tensorflow/tensorflow/commi...       0  tensorflow   \n",
       "4     https://github.com/tensorflow/tensorflow/commi...       2  tensorflow   \n",
       "...                                                 ...     ...         ...   \n",
       "1576                                                          1    kiegroup   \n",
       "1577                                                          1    kiegroup   \n",
       "1578                                                          1    kiegroup   \n",
       "1579                                                          0    kiegroup   \n",
       "1580                                                          0    kiegroup   \n",
       "\n",
       "            repo                                            feature  \\\n",
       "0     tensorflow  [1, 0, 0, 1, 1, 0, 0, 1, 0, 0, 0, 0, 0, 0, 6, ...   \n",
       "1     tensorflow  [0, 0, 0, 0, 0, 0, 0, 0, 0, 0, 0, 0, 0, 0, 0, ...   \n",
       "2     tensorflow  [0, 0, 0, 0, 0, 0, 0, 0, 0, 0, 0, 0, 0, 0, 0, ...   \n",
       "3     tensorflow  [3, 37, 0, 0, 9, 0, 0, 0, 0, 0, 0, 0, 0, 0, 0,...   \n",
       "4     tensorflow  [1, 0, 12, 0, 0, 1, 0, 0, 0, 0, 0, 0, 0, 0, 0,...   \n",
       "...          ...                                                ...   \n",
       "1576      drools  [1, 0, 0, 1, 0, 0, 0, 0, 0, 0, 0, 0, 0, 0, 0, ...   \n",
       "1577      drools  [2, 6, 2, 3, 0, 0, 0, 1, 7, 0, 0, 0, 0, 0, 0, ...   \n",
       "1578      drools  [1, 1, 5, 13, 0, 0, 0, 0, 0, 0, 0, 0, 0, 0, 0,...   \n",
       "1579      drools  [2, 24, 2, 4, 3, 0, 0, 0, 0, 0, 0, 0, 0, 0, 0,...   \n",
       "1580      drools  [1, 10, 0, 0, 0, 0, 0, 1, 60, 0, 0, 1, 0, 0, 0...   \n",
       "\n",
       "                                                  diffs  \\\n",
       "0     diff --git a/tensorflow/compiler/mlir/lite/fla...   \n",
       "1     diff --git a/tensorflow/python/tools/saved_mod...   \n",
       "2     diff --git a/.github/ISSUE_TEMPLATE/00-bug-iss...   \n",
       "3     diff --git a/tensorflow/compiler/xla/pjrt/dist...   \n",
       "4     diff --git a/tensorflow/core/common_runtime/ea...   \n",
       "...                                                 ...   \n",
       "1576  diff --git a/drools-persistence-jpa/src/main/j...   \n",
       "1577  diff --git a/drools-compiler/src/main/java/org...   \n",
       "1578  diff --git a/drools-core/src/main/java/org/dro...   \n",
       "1579  diff --git a/drools-core/src/main/java/org/dro...   \n",
       "1580  diff --git a/drools-compiler/src/test/java/org...   \n",
       "\n",
       "                                                   text  \n",
       "0     Fixing per axis quantization bug in flatbuffer...  \n",
       "1     Add support for python expression as SavedMode...  \n",
       "2     Fix GitHub issue templates. Actual fix for #36...  \n",
       "3     Add new PjRT distributed APIs (KeyValueDelete,...  \n",
       "4     Remove IsLocalDevice() since it's no longer us...  \n",
       "...                                                 ...  \n",
       "1576  fixing reflection constructor to use int inste...  \n",
       "1577  Fix OutOfBoundException on- MemoryFileSystem.e...  \n",
       "1578  [DROOLS-293] fix ObjectTypeNode id creation an...  \n",
       "1579  DROOLS-515 Kie-Camel is broken after Camel Upd...  \n",
       "1580  JBRULES-2934 Add NewRegisterWorkItemHandlerCom...  \n",
       "\n",
       "[1581 rows x 9 columns]"
      ]
     },
     "execution_count": 2,
     "metadata": {},
     "output_type": "execute_result"
    }
   ],
   "source": [
    "df = pd.read_csv(r'/root/autodl-tmp/CommitFit/dataset/multi-lang-exp/dataset.csv', index_col=0, encoding='utf_8_sig')\n",
    "df.fillna('', inplace=True)\n",
    "label2id={'A':0, 'C':1, 'P':2}\n",
    "df = df.rename(columns={'maintenance_type':'labels','msgs':'text','commit_diff':'diffs'})\n",
    "df = df.replace({\"labels\": label2id})\n",
    "# # print(df)\n",
    "df\n",
    "# test_sample = df.sample(n=3, random_state=1)"
   ]
  },
  {
   "cell_type": "code",
   "execution_count": 3,
   "id": "ecb125ae-f537-4934-bbe2-cbf1e78c96bb",
   "metadata": {
    "execution": {
     "iopub.execute_input": "2025-08-28T00:01:11.105749Z",
     "iopub.status.busy": "2025-08-28T00:01:11.105543Z",
     "iopub.status.idle": "2025-08-28T00:01:11.109480Z",
     "shell.execute_reply": "2025-08-28T00:01:11.108615Z",
     "shell.execute_reply.started": "2025-08-28T00:01:11.105727Z"
    },
    "id": "ecb125ae-f537-4934-bbe2-cbf1e78c96bb"
   },
   "outputs": [],
   "source": [
    "# from datasets import Dataset, load_metric"
   ]
  },
  {
   "cell_type": "code",
   "execution_count": 4,
   "id": "2e214dbb-075e-4fbf-adc9-f3533801587e",
   "metadata": {
    "execution": {
     "iopub.execute_input": "2025-08-28T00:01:11.110467Z",
     "iopub.status.busy": "2025-08-28T00:01:11.110291Z",
     "iopub.status.idle": "2025-08-28T00:01:11.116237Z",
     "shell.execute_reply": "2025-08-28T00:01:11.115553Z",
     "shell.execute_reply.started": "2025-08-28T00:01:11.110447Z"
    },
    "id": "2e214dbb-075e-4fbf-adc9-f3533801587e"
   },
   "outputs": [],
   "source": [
    "train, temp_df = train_test_split(df, test_size=0.3, random_state=42)\n",
    "val, test = train_test_split(temp_df, test_size=0.5, random_state=42)"
   ]
  },
  {
   "cell_type": "code",
   "execution_count": 5,
   "id": "ee30affe-0ec9-46a3-bcaa-a1bd9422c939",
   "metadata": {
    "colab": {
     "base_uri": "https://localhost:8080/"
    },
    "execution": {
     "iopub.execute_input": "2025-08-28T00:01:11.117126Z",
     "iopub.status.busy": "2025-08-28T00:01:11.116949Z",
     "iopub.status.idle": "2025-08-28T00:01:11.121648Z",
     "shell.execute_reply": "2025-08-28T00:01:11.121000Z",
     "shell.execute_reply.started": "2025-08-28T00:01:11.117106Z"
    },
    "id": "ee30affe-0ec9-46a3-bcaa-a1bd9422c939",
    "outputId": "a9daff96-1924-4b8d-f836-41707383ca93"
   },
   "outputs": [
    {
     "data": {
      "text/plain": [
       "1106"
      ]
     },
     "execution_count": 5,
     "metadata": {},
     "output_type": "execute_result"
    }
   ],
   "source": [
    "len(train)"
   ]
  },
  {
   "cell_type": "code",
   "execution_count": 6,
   "id": "84e38639-cf4b-4762-a1dc-cdc983938388",
   "metadata": {
    "colab": {
     "base_uri": "https://localhost:8080/"
    },
    "execution": {
     "iopub.execute_input": "2025-08-28T00:01:11.122583Z",
     "iopub.status.busy": "2025-08-28T00:01:11.122409Z",
     "iopub.status.idle": "2025-08-28T00:01:11.128120Z",
     "shell.execute_reply": "2025-08-28T00:01:11.127482Z",
     "shell.execute_reply.started": "2025-08-28T00:01:11.122564Z"
    },
    "id": "84e38639-cf4b-4762-a1dc-cdc983938388",
    "outputId": "619aef15-ddf6-412d-820e-92b7e03aa1aa"
   },
   "outputs": [
    {
     "data": {
      "text/plain": [
       "labels\n",
       "2    691\n",
       "1    242\n",
       "0    173\n",
       "Name: count, dtype: int64"
      ]
     },
     "execution_count": 6,
     "metadata": {},
     "output_type": "execute_result"
    }
   ],
   "source": [
    "train['labels'].value_counts()"
   ]
  },
  {
   "cell_type": "code",
   "execution_count": 7,
   "id": "3cf6c110-616d-45da-aa2e-4a5add26b3c0",
   "metadata": {
    "colab": {
     "base_uri": "https://localhost:8080/"
    },
    "execution": {
     "iopub.execute_input": "2025-08-28T00:01:11.130286Z",
     "iopub.status.busy": "2025-08-28T00:01:11.130104Z",
     "iopub.status.idle": "2025-08-28T00:01:11.135663Z",
     "shell.execute_reply": "2025-08-28T00:01:11.134833Z",
     "shell.execute_reply.started": "2025-08-28T00:01:11.130266Z"
    },
    "id": "3cf6c110-616d-45da-aa2e-4a5add26b3c0",
    "outputId": "6ddae9b7-6b32-4d06-9bfc-6d84e5d2d034"
   },
   "outputs": [
    {
     "data": {
      "text/plain": [
       "labels\n",
       "2    155\n",
       "1     51\n",
       "0     32\n",
       "Name: count, dtype: int64"
      ]
     },
     "execution_count": 7,
     "metadata": {},
     "output_type": "execute_result"
    }
   ],
   "source": [
    "test['labels'].value_counts()"
   ]
  },
  {
   "cell_type": "code",
   "execution_count": null,
   "id": "dca6275a-a567-4963-831c-8dd653341162",
   "metadata": {
    "id": "dca6275a-a567-4963-831c-8dd653341162"
   },
   "outputs": [],
   "source": []
  },
  {
   "cell_type": "code",
   "execution_count": 8,
   "id": "b95f20d0-163a-460b-88b6-e883c9f17eaa",
   "metadata": {
    "execution": {
     "iopub.execute_input": "2025-08-28T00:01:11.136774Z",
     "iopub.status.busy": "2025-08-28T00:01:11.136602Z",
     "iopub.status.idle": "2025-08-28T00:01:11.139530Z",
     "shell.execute_reply": "2025-08-28T00:01:11.138871Z",
     "shell.execute_reply.started": "2025-08-28T00:01:11.136754Z"
    },
    "id": "b95f20d0-163a-460b-88b6-e883c9f17eaa"
   },
   "outputs": [],
   "source": [
    "# id2label = {0: \"Adaptive\", 1: \"POSITIVE\"}\n",
    "# label2id = {\"NEGATIVE\": 0, \"POSITIVE\": 1}"
   ]
  },
  {
   "cell_type": "code",
   "execution_count": 9,
   "id": "a6501389-0c86-442d-85cf-f04ad146703f",
   "metadata": {
    "colab": {
     "base_uri": "https://localhost:8080/"
    },
    "execution": {
     "iopub.execute_input": "2025-08-28T00:01:11.140408Z",
     "iopub.status.busy": "2025-08-28T00:01:11.140243Z",
     "iopub.status.idle": "2025-08-28T00:01:12.418701Z",
     "shell.execute_reply": "2025-08-28T00:01:12.417677Z",
     "shell.execute_reply.started": "2025-08-28T00:01:11.140389Z"
    },
    "id": "a6501389-0c86-442d-85cf-f04ad146703f",
    "outputId": "07ea01c7-3b16-4481-f840-d89846affa59"
   },
   "outputs": [
    {
     "name": "stderr",
     "output_type": "stream",
     "text": [
      "Some weights of the model checkpoint at /root/autodl-tmp/CommitFit/models/codebert-base were not used when initializing RobertaForSequenceClassification: ['pooler.dense.weight', 'pooler.dense.bias']\n",
      "- This IS expected if you are initializing RobertaForSequenceClassification from the checkpoint of a model trained on another task or with another architecture (e.g. initializing a BertForSequenceClassification model from a BertForPreTraining model).\n",
      "- This IS NOT expected if you are initializing RobertaForSequenceClassification from the checkpoint of a model that you expect to be exactly identical (initializing a BertForSequenceClassification model from a BertForSequenceClassification model).\n",
      "Some weights of RobertaForSequenceClassification were not initialized from the model checkpoint at /root/autodl-tmp/CommitFit/models/codebert-base and are newly initialized: ['classifier.out_proj.bias', 'classifier.dense.bias', 'classifier.dense.weight', 'classifier.out_proj.weight']\n",
      "You should probably TRAIN this model on a down-stream task to be able to use it for predictions and inference.\n"
     ]
    }
   ],
   "source": [
    "from transformers import AutoModelForSequenceClassification, TrainingArguments, Trainer\n",
    "model = AutoModelForSequenceClassification.from_pretrained(\n",
    "    \"/root/autodl-tmp/CommitFit/models/codebert-base\", num_labels=3\n",
    ")\n",
    "tokenizer = AutoTokenizer.from_pretrained('/root/autodl-tmp/CommitFit/models/codebert-base')"
   ]
  },
  {
   "cell_type": "code",
   "execution_count": 10,
   "id": "86e85ae4-76a0-4d00-8b0c-e867356c07f3",
   "metadata": {
    "execution": {
     "iopub.execute_input": "2025-08-28T00:01:12.419859Z",
     "iopub.status.busy": "2025-08-28T00:01:12.419659Z",
     "iopub.status.idle": "2025-08-28T00:01:12.665687Z",
     "shell.execute_reply": "2025-08-28T00:01:12.664654Z",
     "shell.execute_reply.started": "2025-08-28T00:01:12.419830Z"
    },
    "id": "86e85ae4-76a0-4d00-8b0c-e867356c07f3"
   },
   "outputs": [],
   "source": [
    "training_args = TrainingArguments(\n",
    "    output_dir=\"./my_awesome_model\",\n",
    "    learning_rate=2e-5,\n",
    "    per_device_train_batch_size=16,\n",
    "    per_device_eval_batch_size=16,\n",
    "    num_train_epochs=10,\n",
    "    weight_decay=0.01,\n",
    "    evaluation_strategy=\"epoch\",\n",
    "    save_strategy=\"epoch\",\n",
    "    load_best_model_at_end=True,\n",
    "    push_to_hub=False,\n",
    "    report_to=\"none\"\n",
    ")"
   ]
  },
  {
   "cell_type": "code",
   "execution_count": 11,
   "id": "720FoPSIU78q",
   "metadata": {
    "execution": {
     "iopub.execute_input": "2025-08-28T00:01:12.666853Z",
     "iopub.status.busy": "2025-08-28T00:01:12.666640Z",
     "iopub.status.idle": "2025-08-28T00:01:25.656447Z",
     "shell.execute_reply": "2025-08-28T00:01:25.655427Z",
     "shell.execute_reply.started": "2025-08-28T00:01:12.666831Z"
    },
    "id": "720FoPSIU78q"
   },
   "outputs": [],
   "source": [
    "encoded_train = tokenizer(train['diffs'].astype(str).to_list(), return_tensors='pt',truncation=True, padding=True)\n",
    "encoded_test = tokenizer(test['diffs'].astype(str).to_list(), return_tensors='pt',truncation=True, padding=True)\n",
    "encoded_val = tokenizer(val['diffs'].astype(str).to_list(), return_tensors='pt',truncation=True, padding=True)"
   ]
  },
  {
   "cell_type": "code",
   "execution_count": 12,
   "id": "J_EF2QzxVx8V",
   "metadata": {
    "execution": {
     "iopub.execute_input": "2025-08-28T00:01:25.657578Z",
     "iopub.status.busy": "2025-08-28T00:01:25.657385Z",
     "iopub.status.idle": "2025-08-28T00:01:25.662628Z",
     "shell.execute_reply": "2025-08-28T00:01:25.661817Z",
     "shell.execute_reply.started": "2025-08-28T00:01:25.657556Z"
    },
    "id": "J_EF2QzxVx8V"
   },
   "outputs": [],
   "source": [
    "class CommitDataset(torch.utils.data.Dataset):\n",
    "    def __init__(self, encodings, labels):\n",
    "        self.encodings = encodings\n",
    "        self.labels = labels\n",
    "\n",
    "    def __getitem__(self, idx):\n",
    "        item = {key: torch.tensor(val[idx]) for key, val in self.encodings.items()}\n",
    "        item['labels'] = torch.tensor(self.labels[idx])\n",
    "        return item\n",
    "\n",
    "    def __len__(self):\n",
    "        return len(self.labels)"
   ]
  },
  {
   "cell_type": "code",
   "execution_count": null,
   "id": "fKNnBPFnWOVq",
   "metadata": {
    "id": "fKNnBPFnWOVq"
   },
   "outputs": [],
   "source": []
  },
  {
   "cell_type": "code",
   "execution_count": 13,
   "id": "9ymEdUxiVxNZ",
   "metadata": {
    "execution": {
     "iopub.execute_input": "2025-08-28T00:01:25.663804Z",
     "iopub.status.busy": "2025-08-28T00:01:25.663402Z",
     "iopub.status.idle": "2025-08-28T00:01:25.667342Z",
     "shell.execute_reply": "2025-08-28T00:01:25.666666Z",
     "shell.execute_reply.started": "2025-08-28T00:01:25.663782Z"
    },
    "id": "9ymEdUxiVxNZ"
   },
   "outputs": [],
   "source": [
    "train_dataset = CommitDataset(encoded_train, list(train['labels']))\n",
    "test_dataset = CommitDataset(encoded_test, list(test['labels']))\n",
    "val_dataset = CommitDataset(encoded_val, list(val['labels']))"
   ]
  },
  {
   "cell_type": "code",
   "execution_count": 14,
   "id": "BsELuvsLWzfV",
   "metadata": {
    "execution": {
     "iopub.execute_input": "2025-08-28T00:01:25.668479Z",
     "iopub.status.busy": "2025-08-28T00:01:25.668114Z",
     "iopub.status.idle": "2025-08-28T00:01:25.673995Z",
     "shell.execute_reply": "2025-08-28T00:01:25.673326Z",
     "shell.execute_reply.started": "2025-08-28T00:01:25.668458Z"
    },
    "id": "BsELuvsLWzfV"
   },
   "outputs": [],
   "source": [
    "from sklearn import  metrics\n",
    "def compute_metrics(eval_pred):\n",
    "    accuracy = evaluate.load('../../evaluate/metrics/accuracy')\n",
    "    precision =  evaluate.load(\"../../evaluate/metrics/precision\")\n",
    "    recall =  evaluate.load(\"../../evaluate/metrics/recall\")\n",
    "    f1 =  evaluate.load(\"../../evaluate/metrics/f1\")\n",
    "    predictions, labels = eval_pred\n",
    "    predictions = np.argmax(predictions, axis=1)\n",
    "    accuracy = accuracy.compute(predictions=predictions, references=labels)\n",
    "    precision = precision.compute(predictions=predictions, references=labels, average='macro')\n",
    "    recall = recall.compute(predictions=predictions, references=labels,average='macro')\n",
    "    f1 = f1.compute(predictions=predictions, references=labels,average='macro')\n",
    "    # accuracy_score = metrics.accuracy_score(labels,predictions)\n",
    "    # precision_score = metrics.precision_score(labels,predictions, average='weighted')\n",
    "    # recall_score = metrics.recall_score(labels,predictions,average='weighted')\n",
    "    # f1_score = metrics.f1_score(labels,predictions,average='weighted')\n",
    "    # 混淆矩阵\n",
    "    cm = metrics.confusion_matrix(labels, predictions)\n",
    "    print(\"Confusion Matrix:\\n\", cm)\n",
    "    print(metrics.classification_report(labels, predictions, digits=4))\n",
    "    # return {\"classification_report\": classification_report}\n",
    "    # return {\"precision\": precision_score,\"recall\": recall_score, \"f1\":f1_score, \"accuracy\": accuracy_score}\n",
    "    return {\"precision\": precision, \"recall\": recall, \"f1\": f1, \"accuracy\": accuracy}"
   ]
  },
  {
   "cell_type": "code",
   "execution_count": null,
   "id": "c6e4c9b2-d065-4f88-9879-9a266d82a5f1",
   "metadata": {},
   "outputs": [],
   "source": []
  },
  {
   "cell_type": "code",
   "execution_count": 15,
   "id": "2244f079-c2b8-4e01-aca4-f68e7ce8accb",
   "metadata": {
    "colab": {
     "base_uri": "https://localhost:8080/",
     "height": 340
    },
    "execution": {
     "iopub.execute_input": "2025-08-28T00:01:25.674907Z",
     "iopub.status.busy": "2025-08-28T00:01:25.674732Z",
     "iopub.status.idle": "2025-08-28T00:02:52.936689Z",
     "shell.execute_reply": "2025-08-28T00:02:52.936023Z",
     "shell.execute_reply.started": "2025-08-28T00:01:25.674887Z"
    },
    "id": "2244f079-c2b8-4e01-aca4-f68e7ce8accb",
    "outputId": "7f7fd1aa-b69c-4170-9bc9-1352cb2e4a33"
   },
   "outputs": [
    {
     "name": "stderr",
     "output_type": "stream",
     "text": [
      "/root/miniconda3/lib/python3.10/site-packages/transformers/optimization.py:391: FutureWarning: This implementation of AdamW is deprecated and will be removed in a future version. Use the PyTorch implementation torch.optim.AdamW instead, or set `no_deprecation_warning=True` to disable this warning\n",
      "  warnings.warn(\n",
      "/tmp/ipykernel_1619/77294352.py:7: UserWarning: To copy construct from a tensor, it is recommended to use sourceTensor.detach().clone() or sourceTensor.detach().clone().requires_grad_(True), rather than torch.tensor(sourceTensor).\n",
      "  item = {key: torch.tensor(val[idx]) for key, val in self.encodings.items()}\n",
      "You're using a RobertaTokenizerFast tokenizer. Please note that with a fast tokenizer, using the `__call__` method is faster than using a method to encode the text followed by a call to the `pad` method to get a padded encoding.\n"
     ]
    },
    {
     "data": {
      "text/html": [
       "\n",
       "    <div>\n",
       "      \n",
       "      <progress value='350' max='700' style='width:300px; height:20px; vertical-align: middle;'></progress>\n",
       "      [350/700 01:25 < 01:26, 4.05 it/s, Epoch 5/10]\n",
       "    </div>\n",
       "    <table border=\"1\" class=\"dataframe\">\n",
       "  <thead>\n",
       " <tr style=\"text-align: left;\">\n",
       "      <th>Epoch</th>\n",
       "      <th>Training Loss</th>\n",
       "      <th>Validation Loss</th>\n",
       "      <th>Precision</th>\n",
       "      <th>Recall</th>\n",
       "      <th>F1</th>\n",
       "      <th>Accuracy</th>\n",
       "    </tr>\n",
       "  </thead>\n",
       "  <tbody>\n",
       "    <tr>\n",
       "      <td>1</td>\n",
       "      <td>No log</td>\n",
       "      <td>0.827015</td>\n",
       "      <td>{'precision': 0.3700729095465938}</td>\n",
       "      <td>{'recall': 0.38690753690753693}</td>\n",
       "      <td>{'f1': 0.3541666666666667}</td>\n",
       "      <td>{'accuracy': 0.6244725738396625}</td>\n",
       "    </tr>\n",
       "    <tr>\n",
       "      <td>2</td>\n",
       "      <td>No log</td>\n",
       "      <td>0.784668</td>\n",
       "      <td>{'precision': 0.5373230373230373}</td>\n",
       "      <td>{'recall': 0.5014854426619132}</td>\n",
       "      <td>{'f1': 0.5094730244065611}</td>\n",
       "      <td>{'accuracy': 0.6286919831223629}</td>\n",
       "    </tr>\n",
       "    <tr>\n",
       "      <td>3</td>\n",
       "      <td>No log</td>\n",
       "      <td>0.794112</td>\n",
       "      <td>{'precision': 0.5251484753934234}</td>\n",
       "      <td>{'recall': 0.5210521504639152}</td>\n",
       "      <td>{'f1': 0.520749845987481}</td>\n",
       "      <td>{'accuracy': 0.6075949367088608}</td>\n",
       "    </tr>\n",
       "    <tr>\n",
       "      <td>4</td>\n",
       "      <td>No log</td>\n",
       "      <td>0.954693</td>\n",
       "      <td>{'precision': 0.5407407407407407}</td>\n",
       "      <td>{'recall': 0.4772795831619361}</td>\n",
       "      <td>{'f1': 0.487627941599418}</td>\n",
       "      <td>{'accuracy': 0.6371308016877637}</td>\n",
       "    </tr>\n",
       "    <tr>\n",
       "      <td>5</td>\n",
       "      <td>No log</td>\n",
       "      <td>0.953925</td>\n",
       "      <td>{'precision': 0.5255584693084693}</td>\n",
       "      <td>{'recall': 0.5215960510078157}</td>\n",
       "      <td>{'f1': 0.5229599030002255}</td>\n",
       "      <td>{'accuracy': 0.620253164556962}</td>\n",
       "    </tr>\n",
       "  </tbody>\n",
       "</table><p>"
      ],
      "text/plain": [
       "<IPython.core.display.HTML object>"
      ]
     },
     "metadata": {},
     "output_type": "display_data"
    },
    {
     "name": "stdout",
     "output_type": "stream",
     "text": [
      "Confusion Matrix:\n",
      " [[  0   7  27]\n",
      " [  0  13  47]\n",
      " [  0   8 135]]\n",
      "              precision    recall  f1-score   support\n",
      "\n",
      "           0     0.0000    0.0000    0.0000        34\n",
      "           1     0.4643    0.2167    0.2955        60\n",
      "           2     0.6459    0.9441    0.7670       143\n",
      "\n",
      "    accuracy                         0.6245       237\n",
      "   macro avg     0.3701    0.3869    0.3542       237\n",
      "weighted avg     0.5073    0.6245    0.5376       237\n",
      "\n"
     ]
    },
    {
     "name": "stderr",
     "output_type": "stream",
     "text": [
      "/root/miniconda3/lib/python3.10/site-packages/sklearn/metrics/_classification.py:1531: UndefinedMetricWarning: Precision is ill-defined and being set to 0.0 in labels with no predicted samples. Use `zero_division` parameter to control this behavior.\n",
      "  _warn_prf(average, modifier, f\"{metric.capitalize()} is\", len(result))\n",
      "/root/miniconda3/lib/python3.10/site-packages/sklearn/metrics/_classification.py:1531: UndefinedMetricWarning: Precision is ill-defined and being set to 0.0 in labels with no predicted samples. Use `zero_division` parameter to control this behavior.\n",
      "  _warn_prf(average, modifier, f\"{metric.capitalize()} is\", len(result))\n",
      "/root/miniconda3/lib/python3.10/site-packages/sklearn/metrics/_classification.py:1531: UndefinedMetricWarning: Precision is ill-defined and being set to 0.0 in labels with no predicted samples. Use `zero_division` parameter to control this behavior.\n",
      "  _warn_prf(average, modifier, f\"{metric.capitalize()} is\", len(result))\n",
      "/root/miniconda3/lib/python3.10/site-packages/sklearn/metrics/_classification.py:1531: UndefinedMetricWarning: Precision is ill-defined and being set to 0.0 in labels with no predicted samples. Use `zero_division` parameter to control this behavior.\n",
      "  _warn_prf(average, modifier, f\"{metric.capitalize()} is\", len(result))\n",
      "/tmp/ipykernel_1619/77294352.py:7: UserWarning: To copy construct from a tensor, it is recommended to use sourceTensor.detach().clone() or sourceTensor.detach().clone().requires_grad_(True), rather than torch.tensor(sourceTensor).\n",
      "  item = {key: torch.tensor(val[idx]) for key, val in self.encodings.items()}\n"
     ]
    },
    {
     "name": "stdout",
     "output_type": "stream",
     "text": [
      "Confusion Matrix:\n",
      " [[ 12   6  16]\n",
      " [  5  20  35]\n",
      " [ 15  11 117]]\n",
      "              precision    recall  f1-score   support\n",
      "\n",
      "           0     0.3750    0.3529    0.3636        34\n",
      "           1     0.5405    0.3333    0.4124        60\n",
      "           2     0.6964    0.8182    0.7524       143\n",
      "\n",
      "    accuracy                         0.6287       237\n",
      "   macro avg     0.5373    0.5015    0.5095       237\n",
      "weighted avg     0.6109    0.6287    0.6106       237\n",
      "\n"
     ]
    },
    {
     "name": "stderr",
     "output_type": "stream",
     "text": [
      "/tmp/ipykernel_1619/77294352.py:7: UserWarning: To copy construct from a tensor, it is recommended to use sourceTensor.detach().clone() or sourceTensor.detach().clone().requires_grad_(True), rather than torch.tensor(sourceTensor).\n",
      "  item = {key: torch.tensor(val[idx]) for key, val in self.encodings.items()}\n"
     ]
    },
    {
     "name": "stdout",
     "output_type": "stream",
     "text": [
      "Confusion Matrix:\n",
      " [[ 11  11  12]\n",
      " [  3  32  25]\n",
      " [ 14  28 101]]\n",
      "              precision    recall  f1-score   support\n",
      "\n",
      "           0     0.3929    0.3235    0.3548        34\n",
      "           1     0.4507    0.5333    0.4885        60\n",
      "           2     0.7319    0.7063    0.7189       143\n",
      "\n",
      "    accuracy                         0.6076       237\n",
      "   macro avg     0.5251    0.5211    0.5207       237\n",
      "weighted avg     0.6121    0.6076    0.6083       237\n",
      "\n"
     ]
    },
    {
     "name": "stderr",
     "output_type": "stream",
     "text": [
      "/tmp/ipykernel_1619/77294352.py:7: UserWarning: To copy construct from a tensor, it is recommended to use sourceTensor.detach().clone() or sourceTensor.detach().clone().requires_grad_(True), rather than torch.tensor(sourceTensor).\n",
      "  item = {key: torch.tensor(val[idx]) for key, val in self.encodings.items()}\n"
     ]
    },
    {
     "name": "stdout",
     "output_type": "stream",
     "text": [
      "Confusion Matrix:\n",
      " [[  9   4  21]\n",
      " [  7  18  35]\n",
      " [ 11   8 124]]\n",
      "              precision    recall  f1-score   support\n",
      "\n",
      "           0     0.3333    0.2647    0.2951        34\n",
      "           1     0.6000    0.3000    0.4000        60\n",
      "           2     0.6889    0.8671    0.7678       143\n",
      "\n",
      "    accuracy                         0.6371       237\n",
      "   macro avg     0.5407    0.4773    0.4876       237\n",
      "weighted avg     0.6154    0.6371    0.6069       237\n",
      "\n"
     ]
    },
    {
     "name": "stderr",
     "output_type": "stream",
     "text": [
      "/tmp/ipykernel_1619/77294352.py:7: UserWarning: To copy construct from a tensor, it is recommended to use sourceTensor.detach().clone() or sourceTensor.detach().clone().requires_grad_(True), rather than torch.tensor(sourceTensor).\n",
      "  item = {key: torch.tensor(val[idx]) for key, val in self.encodings.items()}\n"
     ]
    },
    {
     "name": "stdout",
     "output_type": "stream",
     "text": [
      "Confusion Matrix:\n",
      " [[ 11  10  13]\n",
      " [  6  30  24]\n",
      " [ 13  24 106]]\n",
      "              precision    recall  f1-score   support\n",
      "\n",
      "           0     0.3667    0.3235    0.3438        34\n",
      "           1     0.4688    0.5000    0.4839        60\n",
      "           2     0.7413    0.7413    0.7413       143\n",
      "\n",
      "    accuracy                         0.6203       237\n",
      "   macro avg     0.5256    0.5216    0.5230       237\n",
      "weighted avg     0.6185    0.6203    0.6191       237\n",
      "\n"
     ]
    },
    {
     "data": {
      "text/plain": [
       "TrainOutput(global_step=350, training_loss=0.691711164202009, metrics={'train_runtime': 86.2308, 'train_samples_per_second': 128.26, 'train_steps_per_second': 8.118, 'total_flos': 1455017200035840.0, 'train_loss': 0.691711164202009, 'epoch': 5.0})"
      ]
     },
     "execution_count": 15,
     "metadata": {},
     "output_type": "execute_result"
    }
   ],
   "source": [
    "trainer = Trainer(\n",
    "    model=model,\n",
    "    args=training_args,\n",
    "    train_dataset=train_dataset,\n",
    "    eval_dataset=val_dataset,\n",
    "    tokenizer=tokenizer,\n",
    "    # data_collator=data_collator,\n",
    "    compute_metrics=compute_metrics,\n",
    "    callbacks=[EarlyStoppingCallback(early_stopping_patience=3)]\n",
    ")\n",
    "\n",
    "trainer.train()"
   ]
  },
  {
   "cell_type": "code",
   "execution_count": 16,
   "id": "ae735a8b-c672-4dce-822c-61330c34481b",
   "metadata": {
    "execution": {
     "iopub.execute_input": "2025-08-28T00:02:52.937816Z",
     "iopub.status.busy": "2025-08-28T00:02:52.937480Z",
     "iopub.status.idle": "2025-08-28T00:02:54.099204Z",
     "shell.execute_reply": "2025-08-28T00:02:54.098552Z",
     "shell.execute_reply.started": "2025-08-28T00:02:52.937793Z"
    },
    "id": "ae735a8b-c672-4dce-822c-61330c34481b"
   },
   "outputs": [
    {
     "name": "stderr",
     "output_type": "stream",
     "text": [
      "/tmp/ipykernel_1619/77294352.py:7: UserWarning: To copy construct from a tensor, it is recommended to use sourceTensor.detach().clone() or sourceTensor.detach().clone().requires_grad_(True), rather than torch.tensor(sourceTensor).\n",
      "  item = {key: torch.tensor(val[idx]) for key, val in self.encodings.items()}\n"
     ]
    },
    {
     "data": {
      "text/html": [
       "\n",
       "    <div>\n",
       "      \n",
       "      <progress value='15' max='15' style='width:300px; height:20px; vertical-align: middle;'></progress>\n",
       "      [15/15 00:01]\n",
       "    </div>\n",
       "    "
      ],
      "text/plain": [
       "<IPython.core.display.HTML object>"
      ]
     },
     "metadata": {},
     "output_type": "display_data"
    },
    {
     "name": "stdout",
     "output_type": "stream",
     "text": [
      "Confusion Matrix:\n",
      " [[ 10   5  17]\n",
      " [ 10  13  28]\n",
      " [ 19   9 127]]\n",
      "              precision    recall  f1-score   support\n",
      "\n",
      "           0     0.2564    0.3125    0.2817        32\n",
      "           1     0.4815    0.2549    0.3333        51\n",
      "           2     0.7384    0.8194    0.7768       155\n",
      "\n",
      "    accuracy                         0.6303       238\n",
      "   macro avg     0.4921    0.4623    0.4639       238\n",
      "weighted avg     0.6185    0.6303    0.6152       238\n",
      "\n"
     ]
    },
    {
     "data": {
      "text/plain": [
       "{'eval_loss': 0.7997500896453857,\n",
       " 'eval_precision': {'precision': 0.4920879436383312},\n",
       " 'eval_recall': {'recall': 0.46225226649799706},\n",
       " 'eval_f1': {'f1': 0.4639272946547788},\n",
       " 'eval_accuracy': {'accuracy': 0.6302521008403361},\n",
       " 'eval_runtime': 1.1564,\n",
       " 'eval_samples_per_second': 205.808,\n",
       " 'eval_steps_per_second': 12.971,\n",
       " 'epoch': 5.0}"
      ]
     },
     "execution_count": 16,
     "metadata": {},
     "output_type": "execute_result"
    }
   ],
   "source": [
    "fewshot_metrics = trainer.evaluate(eval_dataset=test_dataset)\n",
    "fewshot_metrics"
   ]
  },
  {
   "cell_type": "code",
   "execution_count": 17,
   "id": "166dcf9b-a0bd-4b60-854c-c6535c22a111",
   "metadata": {
    "execution": {
     "iopub.execute_input": "2025-08-28T00:02:54.100158Z",
     "iopub.status.busy": "2025-08-28T00:02:54.099978Z",
     "iopub.status.idle": "2025-08-28T00:02:55.205268Z",
     "shell.execute_reply": "2025-08-28T00:02:55.204313Z",
     "shell.execute_reply.started": "2025-08-28T00:02:54.100136Z"
    },
    "id": "166dcf9b-a0bd-4b60-854c-c6535c22a111"
   },
   "outputs": [
    {
     "name": "stdout",
     "output_type": "stream",
     "text": [
      "强化学习模型训练完毕\n"
     ]
    }
   ],
   "source": [
    "#发送多种类型的邮件\n",
    "from email.mime.multipart import MIMEMultipart\n",
    "import smtplib\n",
    "\n",
    "from email.mime.text import MIMEText\n",
    "msg_from = '915803745@qq.com'  # 发送方邮箱\n",
    "passwd = 'vcuosuurrgkfbdai'   #就是上面的授权码\n",
    " \n",
    "# to= ['g.zhang@gotion.com', 'j.tong@gotion.com'] #接受方邮箱\n",
    "to= ['j.tong@gotion.com'] #接受方邮箱\n",
    "#设置邮件内容\n",
    "#MIMEMultipart类可以放任何内容\n",
    "msg = MIMEMultipart()\n",
    "conntent=f\"{fewshot_metrics}\"\n",
    "#把内容加进去\n",
    "msg.attach(MIMEText(conntent,'plain','utf-8'))\n",
    " \n",
    "#设置邮件主题\n",
    "msg['Subject']=\"强化学习模型训练完毕\"\n",
    " \n",
    "#发送方信息\n",
    "msg['From']=msg_from\n",
    " \n",
    "#开始发送\n",
    " \n",
    "#通过SSL方式发送，服务器地址和端口\n",
    "s = smtplib.SMTP_SSL(\"smtp.qq.com\", 465)\n",
    "# 登录邮箱\n",
    "s.login(msg_from, passwd)\n",
    "#开始发送\n",
    "s.sendmail(msg_from,to,msg.as_string())\n",
    "print(\"强化学习模型训练完毕\")"
   ]
  },
  {
   "cell_type": "code",
   "execution_count": null,
   "id": "af21aba7-66cd-4762-b5d4-6d27650bba7e",
   "metadata": {
    "id": "af21aba7-66cd-4762-b5d4-6d27650bba7e"
   },
   "outputs": [],
   "source": []
  },
  {
   "cell_type": "code",
   "execution_count": null,
   "id": "6a6e2008-2b04-43c7-9c72-3f9fa9b6bafe",
   "metadata": {
    "id": "6a6e2008-2b04-43c7-9c72-3f9fa9b6bafe"
   },
   "outputs": [],
   "source": []
  },
  {
   "cell_type": "code",
   "execution_count": null,
   "id": "99ef5d5b-1f8e-4b10-aa74-963f9c4429d9",
   "metadata": {
    "id": "99ef5d5b-1f8e-4b10-aa74-963f9c4429d9"
   },
   "outputs": [],
   "source": []
  }
 ],
 "metadata": {
  "accelerator": "GPU",
  "colab": {
   "gpuType": "T4",
   "provenance": []
  },
  "kernelspec": {
   "display_name": "Python 3 (ipykernel)",
   "language": "python",
   "name": "python3"
  },
  "language_info": {
   "codemirror_mode": {
    "name": "ipython",
    "version": 3
   },
   "file_extension": ".py",
   "mimetype": "text/x-python",
   "name": "python",
   "nbconvert_exporter": "python",
   "pygments_lexer": "ipython3",
   "version": "3.10.8"
  },
  "widgets": {
   "application/vnd.jupyter.widget-state+json": {
    "065c1f5d8af348f8bf0834885f43f22a": {
     "model_module": "@jupyter-widgets/base",
     "model_module_version": "1.2.0",
     "model_name": "LayoutModel",
     "state": {
      "_model_module": "@jupyter-widgets/base",
      "_model_module_version": "1.2.0",
      "_model_name": "LayoutModel",
      "_view_count": null,
      "_view_module": "@jupyter-widgets/base",
      "_view_module_version": "1.2.0",
      "_view_name": "LayoutView",
      "align_content": null,
      "align_items": null,
      "align_self": null,
      "border": null,
      "bottom": null,
      "display": null,
      "flex": null,
      "flex_flow": null,
      "grid_area": null,
      "grid_auto_columns": null,
      "grid_auto_flow": null,
      "grid_auto_rows": null,
      "grid_column": null,
      "grid_gap": null,
      "grid_row": null,
      "grid_template_areas": null,
      "grid_template_columns": null,
      "grid_template_rows": null,
      "height": null,
      "justify_content": null,
      "justify_items": null,
      "left": null,
      "margin": null,
      "max_height": null,
      "max_width": null,
      "min_height": null,
      "min_width": null,
      "object_fit": null,
      "object_position": null,
      "order": null,
      "overflow": null,
      "overflow_x": null,
      "overflow_y": null,
      "padding": null,
      "right": null,
      "top": null,
      "visibility": null,
      "width": null
     }
    },
    "068a93d676bc488ca22cfb759bcdccec": {
     "model_module": "@jupyter-widgets/base",
     "model_module_version": "1.2.0",
     "model_name": "LayoutModel",
     "state": {
      "_model_module": "@jupyter-widgets/base",
      "_model_module_version": "1.2.0",
      "_model_name": "LayoutModel",
      "_view_count": null,
      "_view_module": "@jupyter-widgets/base",
      "_view_module_version": "1.2.0",
      "_view_name": "LayoutView",
      "align_content": null,
      "align_items": null,
      "align_self": null,
      "border": null,
      "bottom": null,
      "display": null,
      "flex": null,
      "flex_flow": null,
      "grid_area": null,
      "grid_auto_columns": null,
      "grid_auto_flow": null,
      "grid_auto_rows": null,
      "grid_column": null,
      "grid_gap": null,
      "grid_row": null,
      "grid_template_areas": null,
      "grid_template_columns": null,
      "grid_template_rows": null,
      "height": null,
      "justify_content": null,
      "justify_items": null,
      "left": null,
      "margin": null,
      "max_height": null,
      "max_width": null,
      "min_height": null,
      "min_width": null,
      "object_fit": null,
      "object_position": null,
      "order": null,
      "overflow": null,
      "overflow_x": null,
      "overflow_y": null,
      "padding": null,
      "right": null,
      "top": null,
      "visibility": null,
      "width": null
     }
    },
    "11753a53b7f6431797cb125e71cd84cf": {
     "model_module": "@jupyter-widgets/controls",
     "model_module_version": "1.5.0",
     "model_name": "LabelModel",
     "state": {
      "_dom_classes": [],
      "_model_module": "@jupyter-widgets/controls",
      "_model_module_version": "1.5.0",
      "_model_name": "LabelModel",
      "_view_count": null,
      "_view_module": "@jupyter-widgets/controls",
      "_view_module_version": "1.5.0",
      "_view_name": "LabelView",
      "description": "",
      "description_tooltip": null,
      "layout": "IPY_MODEL_3733d841af9849048237a430f3c5b275",
      "placeholder": "​",
      "style": "IPY_MODEL_a330f14ea8284c1ca3a494b6446a0102",
      "value": "Login successful"
     }
    },
    "15625908afb94f30b075a65e2a533a7a": {
     "model_module": "@jupyter-widgets/controls",
     "model_module_version": "1.5.0",
     "model_name": "LabelModel",
     "state": {
      "_dom_classes": [],
      "_model_module": "@jupyter-widgets/controls",
      "_model_module_version": "1.5.0",
      "_model_name": "LabelModel",
      "_view_count": null,
      "_view_module": "@jupyter-widgets/controls",
      "_view_module_version": "1.5.0",
      "_view_name": "LabelView",
      "description": "",
      "description_tooltip": null,
      "layout": "IPY_MODEL_60b762ba9b554b88a371c2fe7e4886dd",
      "placeholder": "​",
      "style": "IPY_MODEL_7207f3431fac498889c2feb8f4d2020a",
      "value": "Token is valid (permission: read)."
     }
    },
    "16efd97b39b445b78807b15541aa1760": {
     "model_module": "@jupyter-widgets/controls",
     "model_module_version": "1.5.0",
     "model_name": "DescriptionStyleModel",
     "state": {
      "_model_module": "@jupyter-widgets/controls",
      "_model_module_version": "1.5.0",
      "_model_name": "DescriptionStyleModel",
      "_view_count": null,
      "_view_module": "@jupyter-widgets/base",
      "_view_module_version": "1.2.0",
      "_view_name": "StyleView",
      "description_width": ""
     }
    },
    "288b3bb62bc84ac7827f531b4d0c4ea4": {
     "model_module": "@jupyter-widgets/controls",
     "model_module_version": "1.5.0",
     "model_name": "HTMLModel",
     "state": {
      "_dom_classes": [],
      "_model_module": "@jupyter-widgets/controls",
      "_model_module_version": "1.5.0",
      "_model_name": "HTMLModel",
      "_view_count": null,
      "_view_module": "@jupyter-widgets/controls",
      "_view_module_version": "1.5.0",
      "_view_name": "HTMLView",
      "description": "",
      "description_tooltip": null,
      "layout": "IPY_MODEL_44683887bbac421b897a9601543148fd",
      "placeholder": "​",
      "style": "IPY_MODEL_bc7cd4b0fd7f4082a0bc9b6e16b2dcfc",
      "value": "\n<b>Pro Tip:</b> If you don't already have one, you can create a dedicated\n'notebooks' token with 'write' access, that you can then easily reuse for all\nnotebooks. </center>"
     }
    },
    "30835047da5e4349b37c9349ed88bb1a": {
     "model_module": "@jupyter-widgets/controls",
     "model_module_version": "1.5.0",
     "model_name": "DescriptionStyleModel",
     "state": {
      "_model_module": "@jupyter-widgets/controls",
      "_model_module_version": "1.5.0",
      "_model_name": "DescriptionStyleModel",
      "_view_count": null,
      "_view_module": "@jupyter-widgets/base",
      "_view_module_version": "1.2.0",
      "_view_name": "StyleView",
      "description_width": ""
     }
    },
    "34c4b73dacde4b2c93909fdba16c647f": {
     "model_module": "@jupyter-widgets/controls",
     "model_module_version": "1.5.0",
     "model_name": "DescriptionStyleModel",
     "state": {
      "_model_module": "@jupyter-widgets/controls",
      "_model_module_version": "1.5.0",
      "_model_name": "DescriptionStyleModel",
      "_view_count": null,
      "_view_module": "@jupyter-widgets/base",
      "_view_module_version": "1.2.0",
      "_view_name": "StyleView",
      "description_width": ""
     }
    },
    "3733d841af9849048237a430f3c5b275": {
     "model_module": "@jupyter-widgets/base",
     "model_module_version": "1.2.0",
     "model_name": "LayoutModel",
     "state": {
      "_model_module": "@jupyter-widgets/base",
      "_model_module_version": "1.2.0",
      "_model_name": "LayoutModel",
      "_view_count": null,
      "_view_module": "@jupyter-widgets/base",
      "_view_module_version": "1.2.0",
      "_view_name": "LayoutView",
      "align_content": null,
      "align_items": null,
      "align_self": null,
      "border": null,
      "bottom": null,
      "display": null,
      "flex": null,
      "flex_flow": null,
      "grid_area": null,
      "grid_auto_columns": null,
      "grid_auto_flow": null,
      "grid_auto_rows": null,
      "grid_column": null,
      "grid_gap": null,
      "grid_row": null,
      "grid_template_areas": null,
      "grid_template_columns": null,
      "grid_template_rows": null,
      "height": null,
      "justify_content": null,
      "justify_items": null,
      "left": null,
      "margin": null,
      "max_height": null,
      "max_width": null,
      "min_height": null,
      "min_width": null,
      "object_fit": null,
      "object_position": null,
      "order": null,
      "overflow": null,
      "overflow_x": null,
      "overflow_y": null,
      "padding": null,
      "right": null,
      "top": null,
      "visibility": null,
      "width": null
     }
    },
    "3c7e076b745844eba134b44248a5d988": {
     "model_module": "@jupyter-widgets/base",
     "model_module_version": "1.2.0",
     "model_name": "LayoutModel",
     "state": {
      "_model_module": "@jupyter-widgets/base",
      "_model_module_version": "1.2.0",
      "_model_name": "LayoutModel",
      "_view_count": null,
      "_view_module": "@jupyter-widgets/base",
      "_view_module_version": "1.2.0",
      "_view_name": "LayoutView",
      "align_content": null,
      "align_items": null,
      "align_self": null,
      "border": null,
      "bottom": null,
      "display": null,
      "flex": null,
      "flex_flow": null,
      "grid_area": null,
      "grid_auto_columns": null,
      "grid_auto_flow": null,
      "grid_auto_rows": null,
      "grid_column": null,
      "grid_gap": null,
      "grid_row": null,
      "grid_template_areas": null,
      "grid_template_columns": null,
      "grid_template_rows": null,
      "height": null,
      "justify_content": null,
      "justify_items": null,
      "left": null,
      "margin": null,
      "max_height": null,
      "max_width": null,
      "min_height": null,
      "min_width": null,
      "object_fit": null,
      "object_position": null,
      "order": null,
      "overflow": null,
      "overflow_x": null,
      "overflow_y": null,
      "padding": null,
      "right": null,
      "top": null,
      "visibility": null,
      "width": null
     }
    },
    "40e84ea5ef43455e87f49715f583b489": {
     "model_module": "@jupyter-widgets/controls",
     "model_module_version": "1.5.0",
     "model_name": "DescriptionStyleModel",
     "state": {
      "_model_module": "@jupyter-widgets/controls",
      "_model_module_version": "1.5.0",
      "_model_name": "DescriptionStyleModel",
      "_view_count": null,
      "_view_module": "@jupyter-widgets/base",
      "_view_module_version": "1.2.0",
      "_view_name": "StyleView",
      "description_width": ""
     }
    },
    "44683887bbac421b897a9601543148fd": {
     "model_module": "@jupyter-widgets/base",
     "model_module_version": "1.2.0",
     "model_name": "LayoutModel",
     "state": {
      "_model_module": "@jupyter-widgets/base",
      "_model_module_version": "1.2.0",
      "_model_name": "LayoutModel",
      "_view_count": null,
      "_view_module": "@jupyter-widgets/base",
      "_view_module_version": "1.2.0",
      "_view_name": "LayoutView",
      "align_content": null,
      "align_items": null,
      "align_self": null,
      "border": null,
      "bottom": null,
      "display": null,
      "flex": null,
      "flex_flow": null,
      "grid_area": null,
      "grid_auto_columns": null,
      "grid_auto_flow": null,
      "grid_auto_rows": null,
      "grid_column": null,
      "grid_gap": null,
      "grid_row": null,
      "grid_template_areas": null,
      "grid_template_columns": null,
      "grid_template_rows": null,
      "height": null,
      "justify_content": null,
      "justify_items": null,
      "left": null,
      "margin": null,
      "max_height": null,
      "max_width": null,
      "min_height": null,
      "min_width": null,
      "object_fit": null,
      "object_position": null,
      "order": null,
      "overflow": null,
      "overflow_x": null,
      "overflow_y": null,
      "padding": null,
      "right": null,
      "top": null,
      "visibility": null,
      "width": null
     }
    },
    "4f2120dd5d5d4b2aa38c277be0210373": {
     "model_module": "@jupyter-widgets/controls",
     "model_module_version": "1.5.0",
     "model_name": "PasswordModel",
     "state": {
      "_dom_classes": [],
      "_model_module": "@jupyter-widgets/controls",
      "_model_module_version": "1.5.0",
      "_model_name": "PasswordModel",
      "_view_count": null,
      "_view_module": "@jupyter-widgets/controls",
      "_view_module_version": "1.5.0",
      "_view_name": "PasswordView",
      "continuous_update": true,
      "description": "Token:",
      "description_tooltip": null,
      "disabled": false,
      "layout": "IPY_MODEL_068a93d676bc488ca22cfb759bcdccec",
      "placeholder": "​",
      "style": "IPY_MODEL_16efd97b39b445b78807b15541aa1760",
      "value": ""
     }
    },
    "5c220d2177bb42119363bfbcb6d8e5f3": {
     "model_module": "@jupyter-widgets/controls",
     "model_module_version": "1.5.0",
     "model_name": "DescriptionStyleModel",
     "state": {
      "_model_module": "@jupyter-widgets/controls",
      "_model_module_version": "1.5.0",
      "_model_name": "DescriptionStyleModel",
      "_view_count": null,
      "_view_module": "@jupyter-widgets/base",
      "_view_module_version": "1.2.0",
      "_view_name": "StyleView",
      "description_width": ""
     }
    },
    "5cd816f870e6450887714d22485fda69": {
     "model_module": "@jupyter-widgets/controls",
     "model_module_version": "1.5.0",
     "model_name": "LabelModel",
     "state": {
      "_dom_classes": [],
      "_model_module": "@jupyter-widgets/controls",
      "_model_module_version": "1.5.0",
      "_model_name": "LabelModel",
      "_view_count": null,
      "_view_module": "@jupyter-widgets/controls",
      "_view_module_version": "1.5.0",
      "_view_name": "LabelView",
      "description": "",
      "description_tooltip": null,
      "layout": "IPY_MODEL_8f1d8e6ff9744cb894535ccf092eb916",
      "placeholder": "​",
      "style": "IPY_MODEL_ded73bd706ef49ac86d965949e9b94ee",
      "value": "Your token has been saved in your configured git credential helpers (store)."
     }
    },
    "60b762ba9b554b88a371c2fe7e4886dd": {
     "model_module": "@jupyter-widgets/base",
     "model_module_version": "1.2.0",
     "model_name": "LayoutModel",
     "state": {
      "_model_module": "@jupyter-widgets/base",
      "_model_module_version": "1.2.0",
      "_model_name": "LayoutModel",
      "_view_count": null,
      "_view_module": "@jupyter-widgets/base",
      "_view_module_version": "1.2.0",
      "_view_name": "LayoutView",
      "align_content": null,
      "align_items": null,
      "align_self": null,
      "border": null,
      "bottom": null,
      "display": null,
      "flex": null,
      "flex_flow": null,
      "grid_area": null,
      "grid_auto_columns": null,
      "grid_auto_flow": null,
      "grid_auto_rows": null,
      "grid_column": null,
      "grid_gap": null,
      "grid_row": null,
      "grid_template_areas": null,
      "grid_template_columns": null,
      "grid_template_rows": null,
      "height": null,
      "justify_content": null,
      "justify_items": null,
      "left": null,
      "margin": null,
      "max_height": null,
      "max_width": null,
      "min_height": null,
      "min_width": null,
      "object_fit": null,
      "object_position": null,
      "order": null,
      "overflow": null,
      "overflow_x": null,
      "overflow_y": null,
      "padding": null,
      "right": null,
      "top": null,
      "visibility": null,
      "width": null
     }
    },
    "6d8c408e0cf5451797e6ea41e888083d": {
     "model_module": "@jupyter-widgets/base",
     "model_module_version": "1.2.0",
     "model_name": "LayoutModel",
     "state": {
      "_model_module": "@jupyter-widgets/base",
      "_model_module_version": "1.2.0",
      "_model_name": "LayoutModel",
      "_view_count": null,
      "_view_module": "@jupyter-widgets/base",
      "_view_module_version": "1.2.0",
      "_view_name": "LayoutView",
      "align_content": null,
      "align_items": null,
      "align_self": null,
      "border": null,
      "bottom": null,
      "display": null,
      "flex": null,
      "flex_flow": null,
      "grid_area": null,
      "grid_auto_columns": null,
      "grid_auto_flow": null,
      "grid_auto_rows": null,
      "grid_column": null,
      "grid_gap": null,
      "grid_row": null,
      "grid_template_areas": null,
      "grid_template_columns": null,
      "grid_template_rows": null,
      "height": null,
      "justify_content": null,
      "justify_items": null,
      "left": null,
      "margin": null,
      "max_height": null,
      "max_width": null,
      "min_height": null,
      "min_width": null,
      "object_fit": null,
      "object_position": null,
      "order": null,
      "overflow": null,
      "overflow_x": null,
      "overflow_y": null,
      "padding": null,
      "right": null,
      "top": null,
      "visibility": null,
      "width": null
     }
    },
    "7207f3431fac498889c2feb8f4d2020a": {
     "model_module": "@jupyter-widgets/controls",
     "model_module_version": "1.5.0",
     "model_name": "DescriptionStyleModel",
     "state": {
      "_model_module": "@jupyter-widgets/controls",
      "_model_module_version": "1.5.0",
      "_model_name": "DescriptionStyleModel",
      "_view_count": null,
      "_view_module": "@jupyter-widgets/base",
      "_view_module_version": "1.2.0",
      "_view_name": "StyleView",
      "description_width": ""
     }
    },
    "73529a8b1ced4165b838716239ec1602": {
     "model_module": "@jupyter-widgets/controls",
     "model_module_version": "1.5.0",
     "model_name": "LabelModel",
     "state": {
      "_dom_classes": [],
      "_model_module": "@jupyter-widgets/controls",
      "_model_module_version": "1.5.0",
      "_model_name": "LabelModel",
      "_view_count": null,
      "_view_module": "@jupyter-widgets/controls",
      "_view_module_version": "1.5.0",
      "_view_name": "LabelView",
      "description": "",
      "description_tooltip": null,
      "layout": "IPY_MODEL_be6f110c46504d2bbc746e809b7a9472",
      "placeholder": "​",
      "style": "IPY_MODEL_34c4b73dacde4b2c93909fdba16c647f",
      "value": "Your token has been saved to /root/.cache/huggingface/token"
     }
    },
    "76f1fe0ccf244e9bb293fc5da3b0d06c": {
     "model_module": "@jupyter-widgets/controls",
     "model_module_version": "1.5.0",
     "model_name": "VBoxModel",
     "state": {
      "_dom_classes": [],
      "_model_module": "@jupyter-widgets/controls",
      "_model_module_version": "1.5.0",
      "_model_name": "VBoxModel",
      "_view_count": null,
      "_view_module": "@jupyter-widgets/controls",
      "_view_module_version": "1.5.0",
      "_view_name": "VBoxView",
      "box_style": "",
      "children": [
       "IPY_MODEL_15625908afb94f30b075a65e2a533a7a",
       "IPY_MODEL_5cd816f870e6450887714d22485fda69",
       "IPY_MODEL_73529a8b1ced4165b838716239ec1602",
       "IPY_MODEL_11753a53b7f6431797cb125e71cd84cf"
      ],
      "layout": "IPY_MODEL_c88985b2b2fb4ad2a8610f1d96a392bb"
     }
    },
    "8b1245c4dfa0431e81efbab4b38eca46": {
     "model_module": "@jupyter-widgets/base",
     "model_module_version": "1.2.0",
     "model_name": "LayoutModel",
     "state": {
      "_model_module": "@jupyter-widgets/base",
      "_model_module_version": "1.2.0",
      "_model_name": "LayoutModel",
      "_view_count": null,
      "_view_module": "@jupyter-widgets/base",
      "_view_module_version": "1.2.0",
      "_view_name": "LayoutView",
      "align_content": null,
      "align_items": null,
      "align_self": null,
      "border": null,
      "bottom": null,
      "display": null,
      "flex": null,
      "flex_flow": null,
      "grid_area": null,
      "grid_auto_columns": null,
      "grid_auto_flow": null,
      "grid_auto_rows": null,
      "grid_column": null,
      "grid_gap": null,
      "grid_row": null,
      "grid_template_areas": null,
      "grid_template_columns": null,
      "grid_template_rows": null,
      "height": null,
      "justify_content": null,
      "justify_items": null,
      "left": null,
      "margin": null,
      "max_height": null,
      "max_width": null,
      "min_height": null,
      "min_width": null,
      "object_fit": null,
      "object_position": null,
      "order": null,
      "overflow": null,
      "overflow_x": null,
      "overflow_y": null,
      "padding": null,
      "right": null,
      "top": null,
      "visibility": null,
      "width": null
     }
    },
    "8f1d8e6ff9744cb894535ccf092eb916": {
     "model_module": "@jupyter-widgets/base",
     "model_module_version": "1.2.0",
     "model_name": "LayoutModel",
     "state": {
      "_model_module": "@jupyter-widgets/base",
      "_model_module_version": "1.2.0",
      "_model_name": "LayoutModel",
      "_view_count": null,
      "_view_module": "@jupyter-widgets/base",
      "_view_module_version": "1.2.0",
      "_view_name": "LayoutView",
      "align_content": null,
      "align_items": null,
      "align_self": null,
      "border": null,
      "bottom": null,
      "display": null,
      "flex": null,
      "flex_flow": null,
      "grid_area": null,
      "grid_auto_columns": null,
      "grid_auto_flow": null,
      "grid_auto_rows": null,
      "grid_column": null,
      "grid_gap": null,
      "grid_row": null,
      "grid_template_areas": null,
      "grid_template_columns": null,
      "grid_template_rows": null,
      "height": null,
      "justify_content": null,
      "justify_items": null,
      "left": null,
      "margin": null,
      "max_height": null,
      "max_width": null,
      "min_height": null,
      "min_width": null,
      "object_fit": null,
      "object_position": null,
      "order": null,
      "overflow": null,
      "overflow_x": null,
      "overflow_y": null,
      "padding": null,
      "right": null,
      "top": null,
      "visibility": null,
      "width": null
     }
    },
    "a330f14ea8284c1ca3a494b6446a0102": {
     "model_module": "@jupyter-widgets/controls",
     "model_module_version": "1.5.0",
     "model_name": "DescriptionStyleModel",
     "state": {
      "_model_module": "@jupyter-widgets/controls",
      "_model_module_version": "1.5.0",
      "_model_name": "DescriptionStyleModel",
      "_view_count": null,
      "_view_module": "@jupyter-widgets/base",
      "_view_module_version": "1.2.0",
      "_view_name": "StyleView",
      "description_width": ""
     }
    },
    "bb22365fe94748e39cdbb5e832b4d1a2": {
     "model_module": "@jupyter-widgets/controls",
     "model_module_version": "1.5.0",
     "model_name": "ButtonModel",
     "state": {
      "_dom_classes": [],
      "_model_module": "@jupyter-widgets/controls",
      "_model_module_version": "1.5.0",
      "_model_name": "ButtonModel",
      "_view_count": null,
      "_view_module": "@jupyter-widgets/controls",
      "_view_module_version": "1.5.0",
      "_view_name": "ButtonView",
      "button_style": "",
      "description": "Login",
      "disabled": false,
      "icon": "",
      "layout": "IPY_MODEL_6d8c408e0cf5451797e6ea41e888083d",
      "style": "IPY_MODEL_f19c28d325714b8da0b95954bbcb71df",
      "tooltip": ""
     }
    },
    "bc7cd4b0fd7f4082a0bc9b6e16b2dcfc": {
     "model_module": "@jupyter-widgets/controls",
     "model_module_version": "1.5.0",
     "model_name": "DescriptionStyleModel",
     "state": {
      "_model_module": "@jupyter-widgets/controls",
      "_model_module_version": "1.5.0",
      "_model_name": "DescriptionStyleModel",
      "_view_count": null,
      "_view_module": "@jupyter-widgets/base",
      "_view_module_version": "1.2.0",
      "_view_name": "StyleView",
      "description_width": ""
     }
    },
    "be6f110c46504d2bbc746e809b7a9472": {
     "model_module": "@jupyter-widgets/base",
     "model_module_version": "1.2.0",
     "model_name": "LayoutModel",
     "state": {
      "_model_module": "@jupyter-widgets/base",
      "_model_module_version": "1.2.0",
      "_model_name": "LayoutModel",
      "_view_count": null,
      "_view_module": "@jupyter-widgets/base",
      "_view_module_version": "1.2.0",
      "_view_name": "LayoutView",
      "align_content": null,
      "align_items": null,
      "align_self": null,
      "border": null,
      "bottom": null,
      "display": null,
      "flex": null,
      "flex_flow": null,
      "grid_area": null,
      "grid_auto_columns": null,
      "grid_auto_flow": null,
      "grid_auto_rows": null,
      "grid_column": null,
      "grid_gap": null,
      "grid_row": null,
      "grid_template_areas": null,
      "grid_template_columns": null,
      "grid_template_rows": null,
      "height": null,
      "justify_content": null,
      "justify_items": null,
      "left": null,
      "margin": null,
      "max_height": null,
      "max_width": null,
      "min_height": null,
      "min_width": null,
      "object_fit": null,
      "object_position": null,
      "order": null,
      "overflow": null,
      "overflow_x": null,
      "overflow_y": null,
      "padding": null,
      "right": null,
      "top": null,
      "visibility": null,
      "width": null
     }
    },
    "c88985b2b2fb4ad2a8610f1d96a392bb": {
     "model_module": "@jupyter-widgets/base",
     "model_module_version": "1.2.0",
     "model_name": "LayoutModel",
     "state": {
      "_model_module": "@jupyter-widgets/base",
      "_model_module_version": "1.2.0",
      "_model_name": "LayoutModel",
      "_view_count": null,
      "_view_module": "@jupyter-widgets/base",
      "_view_module_version": "1.2.0",
      "_view_name": "LayoutView",
      "align_content": null,
      "align_items": "center",
      "align_self": null,
      "border": null,
      "bottom": null,
      "display": "flex",
      "flex": null,
      "flex_flow": "column",
      "grid_area": null,
      "grid_auto_columns": null,
      "grid_auto_flow": null,
      "grid_auto_rows": null,
      "grid_column": null,
      "grid_gap": null,
      "grid_row": null,
      "grid_template_areas": null,
      "grid_template_columns": null,
      "grid_template_rows": null,
      "height": null,
      "justify_content": null,
      "justify_items": null,
      "left": null,
      "margin": null,
      "max_height": null,
      "max_width": null,
      "min_height": null,
      "min_width": null,
      "object_fit": null,
      "object_position": null,
      "order": null,
      "overflow": null,
      "overflow_x": null,
      "overflow_y": null,
      "padding": null,
      "right": null,
      "top": null,
      "visibility": null,
      "width": "50%"
     }
    },
    "c998fe8973c54ec7a5015406f95fb97e": {
     "model_module": "@jupyter-widgets/controls",
     "model_module_version": "1.5.0",
     "model_name": "HTMLModel",
     "state": {
      "_dom_classes": [],
      "_model_module": "@jupyter-widgets/controls",
      "_model_module_version": "1.5.0",
      "_model_name": "HTMLModel",
      "_view_count": null,
      "_view_module": "@jupyter-widgets/controls",
      "_view_module_version": "1.5.0",
      "_view_name": "HTMLView",
      "description": "",
      "description_tooltip": null,
      "layout": "IPY_MODEL_3c7e076b745844eba134b44248a5d988",
      "placeholder": "​",
      "style": "IPY_MODEL_40e84ea5ef43455e87f49715f583b489",
      "value": "<center> <img\nsrc=https://huggingface.co/front/assets/huggingface_logo-noborder.svg\nalt='Hugging Face'> <br> Copy a token from <a\nhref=\"https://huggingface.co/settings/tokens\" target=\"_blank\">your Hugging Face\ntokens page</a> and paste it below. <br> Immediately click login after copying\nyour token or it might be stored in plain text in this notebook file. </center>"
     }
    },
    "d42a6fc8a19c42b5adf9f9dc33a948b7": {
     "model_module": "@jupyter-widgets/controls",
     "model_module_version": "1.5.0",
     "model_name": "CheckboxModel",
     "state": {
      "_dom_classes": [],
      "_model_module": "@jupyter-widgets/controls",
      "_model_module_version": "1.5.0",
      "_model_name": "CheckboxModel",
      "_view_count": null,
      "_view_module": "@jupyter-widgets/controls",
      "_view_module_version": "1.5.0",
      "_view_name": "CheckboxView",
      "description": "Add token as git credential?",
      "description_tooltip": null,
      "disabled": false,
      "indent": true,
      "layout": "IPY_MODEL_8b1245c4dfa0431e81efbab4b38eca46",
      "style": "IPY_MODEL_30835047da5e4349b37c9349ed88bb1a",
      "value": true
     }
    },
    "ded73bd706ef49ac86d965949e9b94ee": {
     "model_module": "@jupyter-widgets/controls",
     "model_module_version": "1.5.0",
     "model_name": "DescriptionStyleModel",
     "state": {
      "_model_module": "@jupyter-widgets/controls",
      "_model_module_version": "1.5.0",
      "_model_name": "DescriptionStyleModel",
      "_view_count": null,
      "_view_module": "@jupyter-widgets/base",
      "_view_module_version": "1.2.0",
      "_view_name": "StyleView",
      "description_width": ""
     }
    },
    "f19c28d325714b8da0b95954bbcb71df": {
     "model_module": "@jupyter-widgets/controls",
     "model_module_version": "1.5.0",
     "model_name": "ButtonStyleModel",
     "state": {
      "_model_module": "@jupyter-widgets/controls",
      "_model_module_version": "1.5.0",
      "_model_name": "ButtonStyleModel",
      "_view_count": null,
      "_view_module": "@jupyter-widgets/base",
      "_view_module_version": "1.2.0",
      "_view_name": "StyleView",
      "button_color": null,
      "font_weight": ""
     }
    },
    "fa10f1fd54e44a2885155d2f5db26c1d": {
     "model_module": "@jupyter-widgets/controls",
     "model_module_version": "1.5.0",
     "model_name": "LabelModel",
     "state": {
      "_dom_classes": [],
      "_model_module": "@jupyter-widgets/controls",
      "_model_module_version": "1.5.0",
      "_model_name": "LabelModel",
      "_view_count": null,
      "_view_module": "@jupyter-widgets/controls",
      "_view_module_version": "1.5.0",
      "_view_name": "LabelView",
      "description": "",
      "description_tooltip": null,
      "layout": "IPY_MODEL_065c1f5d8af348f8bf0834885f43f22a",
      "placeholder": "​",
      "style": "IPY_MODEL_5c220d2177bb42119363bfbcb6d8e5f3",
      "value": "Connecting..."
     }
    }
   }
  }
 },
 "nbformat": 4,
 "nbformat_minor": 5
}
