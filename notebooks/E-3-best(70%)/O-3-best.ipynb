version https://git-lfs.github.com/spec/v1
oid sha256:8e47fb0c8c55690fbf046f6d34c173473304c9c3292fa7fbc51e6eb139b754ff
size 345834
