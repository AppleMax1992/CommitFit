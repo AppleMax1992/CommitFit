{
 "cells": [
  {
   "cell_type": "code",
   "execution_count": 1,
   "id": "9f82a8cc-7b02-48d7-a783-6e89bccff8b2",
   "metadata": {
    "execution": {
     "iopub.execute_input": "2025-08-25T07:18:20.170820Z",
     "iopub.status.busy": "2025-08-25T07:18:20.169815Z",
     "iopub.status.idle": "2025-08-25T07:18:23.057929Z",
     "shell.execute_reply": "2025-08-25T07:18:23.056920Z",
     "shell.execute_reply.started": "2025-08-25T07:18:20.170763Z"
    }
   },
   "outputs": [],
   "source": [
    "import sys\n",
    "sys.path.append('/root/autodl-tmp/CommitFit')\n",
    "import pandas as pd\n",
    "from sklearn.model_selection import train_test_split\n",
    "import ensemble_model.preprocesser as preprocesser \n",
    "import ensemble_model.combined_model as cm \n",
    "from torch.utils.data import Dataset, DataLoader\n",
    "from transformers import BertModel, BertTokenizer, RobertaModel, RobertaTokenizer\n",
    "import numpy as np\n",
    "from sklearn.manifold import TSNE\n",
    "import matplotlib.pyplot as plt\n",
    "from sklearn.metrics import precision_score, recall_score, f1_score, precision_recall_curve"
   ]
  },
  {
   "cell_type": "code",
   "execution_count": 2,
   "id": "666cb7bc-ce61-42cb-b7fa-934b5e5d3580",
   "metadata": {
    "execution": {
     "iopub.execute_input": "2025-08-25T07:18:23.059492Z",
     "iopub.status.busy": "2025-08-25T07:18:23.059210Z",
     "iopub.status.idle": "2025-08-25T07:18:23.380369Z",
     "shell.execute_reply": "2025-08-25T07:18:23.379520Z",
     "shell.execute_reply.started": "2025-08-25T07:18:23.059470Z"
    }
   },
   "outputs": [
    {
     "data": {
      "text/html": [
       "<div>\n",
       "<style scoped>\n",
       "    .dataframe tbody tr th:only-of-type {\n",
       "        vertical-align: middle;\n",
       "    }\n",
       "\n",
       "    .dataframe tbody tr th {\n",
       "        vertical-align: top;\n",
       "    }\n",
       "\n",
       "    .dataframe thead th {\n",
       "        text-align: right;\n",
       "    }\n",
       "</style>\n",
       "<table border=\"1\" class=\"dataframe\">\n",
       "  <thead>\n",
       "    <tr style=\"text-align: right;\">\n",
       "      <th></th>\n",
       "      <th>repo</th>\n",
       "      <th>commit</th>\n",
       "      <th>labels</th>\n",
       "      <th>msgs</th>\n",
       "      <th>diffs</th>\n",
       "      <th>feature</th>\n",
       "    </tr>\n",
       "    <tr>\n",
       "      <th>user</th>\n",
       "      <th></th>\n",
       "      <th></th>\n",
       "      <th></th>\n",
       "      <th></th>\n",
       "      <th></th>\n",
       "      <th></th>\n",
       "    </tr>\n",
       "  </thead>\n",
       "  <tbody>\n",
       "    <tr>\n",
       "      <th>ponsonio</th>\n",
       "      <td>RxJava</td>\n",
       "      <td>0531b8bff5c14d9504beefb4ad47f473e3a22932</td>\n",
       "      <td>Perfective</td>\n",
       "      <td>Change hasException to hasThrowable--</td>\n",
       "      <td>diff --git a/rxjava-core/src/main/java/rx/Noti...</td>\n",
       "      <td>[1, 0, 0, 4, 0, 0, 0, 0, 0, 0, 0, 0, 0, 0, 0, ...</td>\n",
       "    </tr>\n",
       "    <tr>\n",
       "      <th>ponsonio</th>\n",
       "      <td>RxJava</td>\n",
       "      <td>0950c46beda335819928585f1262dfe1dca78a0b</td>\n",
       "      <td>Adaptive</td>\n",
       "      <td>Trying to extend the Scheduler interface accor...</td>\n",
       "      <td>diff --git a/rxjava-core/src/main/java/rx/Sche...</td>\n",
       "      <td>[2, 44, 0, 0, 30, 0, 0, 1, 18, 0, 0, 0, 0, 0, ...</td>\n",
       "    </tr>\n",
       "    <tr>\n",
       "      <th>ponsonio</th>\n",
       "      <td>RxJava</td>\n",
       "      <td>0f92fdd8e6422d5b79c610a7fd8409d222315a49</td>\n",
       "      <td>Adaptive</td>\n",
       "      <td>RunAsync method for outputting multiple values--</td>\n",
       "      <td>diff --git a/rxjava-contrib/rxjava-async-util/...</td>\n",
       "      <td>[2, 53, 0, 0, 42, 0, 0, 1, 45, 1, 0, 0, 0, 0, ...</td>\n",
       "    </tr>\n",
       "    <tr>\n",
       "      <th>ponsonio</th>\n",
       "      <td>RxJava</td>\n",
       "      <td>100f571c9a2835d5a30a55374b9be74c147e031f</td>\n",
       "      <td>Corrective</td>\n",
       "      <td>forEach with Action1 but not Observer--I re-re...</td>\n",
       "      <td>diff --git a/language-adaptors/rxjava-groovy/s...</td>\n",
       "      <td>[1, 5, 122, 9, 10, 9, 4, 1, 5, 18, 2, 0, 0, 0,...</td>\n",
       "    </tr>\n",
       "    <tr>\n",
       "      <th>ponsonio</th>\n",
       "      <td>RxJava</td>\n",
       "      <td>191f023cf5253ea90647bc091dcaf55ccdce81cc</td>\n",
       "      <td>Corrective</td>\n",
       "      <td>1.x: Fix Completable swallows- OnErrorNotImple...</td>\n",
       "      <td>diff --git a/src/main/java/rx/Completable.java...</td>\n",
       "      <td>[1, 1, 0, 0, 0, 0, 0, 1, 21, 0, 0, 0, 0, 0, 0,...</td>\n",
       "    </tr>\n",
       "    <tr>\n",
       "      <th>...</th>\n",
       "      <td>...</td>\n",
       "      <td>...</td>\n",
       "      <td>...</td>\n",
       "      <td>...</td>\n",
       "      <td>...</td>\n",
       "      <td>...</td>\n",
       "    </tr>\n",
       "    <tr>\n",
       "      <th>jenkinsci</th>\n",
       "      <td>clearcase-plugin</td>\n",
       "      <td>51e9da224f80254476a7dc446bca817b505381d8</td>\n",
       "      <td>Perfective</td>\n",
       "      <td>Use a temporary file to decrease memory consum...</td>\n",
       "      <td>diff --git a/src/main/java/hudson/plugins/clea...</td>\n",
       "      <td>[2, 12, 0, 4, 1, 0, 1, 0, 0, 0, 0, 0, 0, 0, 0,...</td>\n",
       "    </tr>\n",
       "    <tr>\n",
       "      <th>jexp</th>\n",
       "      <td>batch-import</td>\n",
       "      <td>609d6c4b1eea2c33d9fb950fcbb9ba9dc1f80fc3</td>\n",
       "      <td>Perfective</td>\n",
       "      <td>added a more memory efficient structure for st...</td>\n",
       "      <td>diff --git a/src/main/java/org/neo4j/batchimpo...</td>\n",
       "      <td>[10, 159, 29, 35, 9, 2, 1, 5, 106, 0, 4, 8, 0,...</td>\n",
       "    </tr>\n",
       "    <tr>\n",
       "      <th>hdiv</th>\n",
       "      <td>hdiv</td>\n",
       "      <td>19b650c78a1c76f4fd90274d7f163f863c0d39e4</td>\n",
       "      <td>Perfective</td>\n",
       "      <td>Memory and performance optimizations</td>\n",
       "      <td>diff --git a/hdiv-config/src/main/java/org/hdi...</td>\n",
       "      <td>[31, 302, 131, 140, 170, 89, 53, 7, 88, 14, 17...</td>\n",
       "    </tr>\n",
       "    <tr>\n",
       "      <th>casidiablo</th>\n",
       "      <td>persistence</td>\n",
       "      <td>d7bf95159df37a3d338ca267dddd3d26b38ec37c</td>\n",
       "      <td>Perfective</td>\n",
       "      <td>Now it is possible to specify the sqlite open ...</td>\n",
       "      <td>diff --git a/pom.xml b/pom.xml\\nindex 394263b....</td>\n",
       "      <td>[5, 57, 20, 9, 21, 0, 0, 0, 0, 0, 0, 0, 0, 0, ...</td>\n",
       "    </tr>\n",
       "    <tr>\n",
       "      <th>jhy</th>\n",
       "      <td>jsoup</td>\n",
       "      <td>d6fd1637307f6b088eb226c3f979085725530f32</td>\n",
       "      <td>Perfective</td>\n",
       "      <td>Performance improvment for Element.text</td>\n",
       "      <td>diff --git a/src/main/java/org/jsoup/helper/St...</td>\n",
       "      <td>[3, 11, 11, 9, 13, 0, 0, 1, 0, 8, 0, 0, 1, 0, ...</td>\n",
       "    </tr>\n",
       "  </tbody>\n",
       "</table>\n",
       "<p>1781 rows × 6 columns</p>\n",
       "</div>"
      ],
      "text/plain": [
       "                        repo                                    commit  \\\n",
       "user                                                                     \n",
       "ponsonio              RxJava  0531b8bff5c14d9504beefb4ad47f473e3a22932   \n",
       "ponsonio              RxJava  0950c46beda335819928585f1262dfe1dca78a0b   \n",
       "ponsonio              RxJava  0f92fdd8e6422d5b79c610a7fd8409d222315a49   \n",
       "ponsonio              RxJava  100f571c9a2835d5a30a55374b9be74c147e031f   \n",
       "ponsonio              RxJava  191f023cf5253ea90647bc091dcaf55ccdce81cc   \n",
       "...                      ...                                       ...   \n",
       "jenkinsci   clearcase-plugin  51e9da224f80254476a7dc446bca817b505381d8   \n",
       "jexp            batch-import  609d6c4b1eea2c33d9fb950fcbb9ba9dc1f80fc3   \n",
       "hdiv                    hdiv  19b650c78a1c76f4fd90274d7f163f863c0d39e4   \n",
       "casidiablo       persistence  d7bf95159df37a3d338ca267dddd3d26b38ec37c   \n",
       "jhy                    jsoup  d6fd1637307f6b088eb226c3f979085725530f32   \n",
       "\n",
       "                labels                                               msgs  \\\n",
       "user                                                                        \n",
       "ponsonio    Perfective              Change hasException to hasThrowable--   \n",
       "ponsonio      Adaptive  Trying to extend the Scheduler interface accor...   \n",
       "ponsonio      Adaptive   RunAsync method for outputting multiple values--   \n",
       "ponsonio    Corrective  forEach with Action1 but not Observer--I re-re...   \n",
       "ponsonio    Corrective  1.x: Fix Completable swallows- OnErrorNotImple...   \n",
       "...                ...                                                ...   \n",
       "jenkinsci   Perfective  Use a temporary file to decrease memory consum...   \n",
       "jexp        Perfective  added a more memory efficient structure for st...   \n",
       "hdiv        Perfective               Memory and performance optimizations   \n",
       "casidiablo  Perfective  Now it is possible to specify the sqlite open ...   \n",
       "jhy         Perfective            Performance improvment for Element.text   \n",
       "\n",
       "                                                        diffs  \\\n",
       "user                                                            \n",
       "ponsonio    diff --git a/rxjava-core/src/main/java/rx/Noti...   \n",
       "ponsonio    diff --git a/rxjava-core/src/main/java/rx/Sche...   \n",
       "ponsonio    diff --git a/rxjava-contrib/rxjava-async-util/...   \n",
       "ponsonio    diff --git a/language-adaptors/rxjava-groovy/s...   \n",
       "ponsonio    diff --git a/src/main/java/rx/Completable.java...   \n",
       "...                                                       ...   \n",
       "jenkinsci   diff --git a/src/main/java/hudson/plugins/clea...   \n",
       "jexp        diff --git a/src/main/java/org/neo4j/batchimpo...   \n",
       "hdiv        diff --git a/hdiv-config/src/main/java/org/hdi...   \n",
       "casidiablo  diff --git a/pom.xml b/pom.xml\\nindex 394263b....   \n",
       "jhy         diff --git a/src/main/java/org/jsoup/helper/St...   \n",
       "\n",
       "                                                      feature  \n",
       "user                                                           \n",
       "ponsonio    [1, 0, 0, 4, 0, 0, 0, 0, 0, 0, 0, 0, 0, 0, 0, ...  \n",
       "ponsonio    [2, 44, 0, 0, 30, 0, 0, 1, 18, 0, 0, 0, 0, 0, ...  \n",
       "ponsonio    [2, 53, 0, 0, 42, 0, 0, 1, 45, 1, 0, 0, 0, 0, ...  \n",
       "ponsonio    [1, 5, 122, 9, 10, 9, 4, 1, 5, 18, 2, 0, 0, 0,...  \n",
       "ponsonio    [1, 1, 0, 0, 0, 0, 0, 1, 21, 0, 0, 0, 0, 0, 0,...  \n",
       "...                                                       ...  \n",
       "jenkinsci   [2, 12, 0, 4, 1, 0, 1, 0, 0, 0, 0, 0, 0, 0, 0,...  \n",
       "jexp        [10, 159, 29, 35, 9, 2, 1, 5, 106, 0, 4, 8, 0,...  \n",
       "hdiv        [31, 302, 131, 140, 170, 89, 53, 7, 88, 14, 17...  \n",
       "casidiablo  [5, 57, 20, 9, 21, 0, 0, 0, 0, 0, 0, 0, 0, 0, ...  \n",
       "jhy         [3, 11, 11, 9, 13, 0, 0, 1, 0, 8, 0, 0, 1, 0, ...  \n",
       "\n",
       "[1781 rows x 6 columns]"
      ]
     },
     "execution_count": 2,
     "metadata": {},
     "output_type": "execute_result"
    }
   ],
   "source": [
    "df = pd.read_csv(r'/root/autodl-tmp/CommitFit/dataset/Ghadhab/dataset.csv', index_col=0, encoding='utf_8_sig')\n",
    "# df.fillna('', inplace=True)\n",
    "# label2id={'Adaptive':0, 'Corrective':1, 'Perfective':2}\n",
    "# df = df.rename(columns={'labels':'label','msgs':'message','diffs':'diff'})\n",
    "# df = df.replace({\"label\": label2id})\n",
    "# df = df['diffs']\n",
    "# # print(df)\n",
    "df\n",
    "# test_sample = df.sample(n=3, random_state=1)"
   ]
  },
  {
   "cell_type": "code",
   "execution_count": 3,
   "id": "18e5ba2e-9175-4455-a42a-ced130563441",
   "metadata": {
    "execution": {
     "iopub.execute_input": "2025-08-25T07:18:23.381771Z",
     "iopub.status.busy": "2025-08-25T07:18:23.381505Z",
     "iopub.status.idle": "2025-08-25T07:18:23.388926Z",
     "shell.execute_reply": "2025-08-25T07:18:23.388181Z",
     "shell.execute_reply.started": "2025-08-25T07:18:23.381748Z"
    }
   },
   "outputs": [],
   "source": [
    "train, temp_df = train_test_split(df, test_size=0.3, random_state=42)\n",
    "val, test = train_test_split(temp_df, test_size=0.5, random_state=42)"
   ]
  },
  {
   "cell_type": "code",
   "execution_count": 5,
   "id": "23ded5b2-b057-4117-b99b-fa77a39bb480",
   "metadata": {
    "execution": {
     "iopub.execute_input": "2025-08-25T07:18:41.630352Z",
     "iopub.status.busy": "2025-08-25T07:18:41.629898Z",
     "iopub.status.idle": "2025-08-25T07:18:42.252108Z",
     "shell.execute_reply": "2025-08-25T07:18:42.251097Z",
     "shell.execute_reply.started": "2025-08-25T07:18:41.630327Z"
    }
   },
   "outputs": [],
   "source": [
    "train.to_csv('/root/autodl-tmp/COLARE-main/dataset/1793/train.csv',index=False)\n",
    "test.to_csv('/root/autodl-tmp/COLARE-main/dataset/1793/test.csv',index=False)\n",
    "val.to_csv('/root/autodl-tmp/COLARE-main/dataset/1793/eval.csv',index=False)"
   ]
  },
  {
   "cell_type": "code",
   "execution_count": 5,
   "id": "7b104969-4a01-44b3-8b11-72188d0042e6",
   "metadata": {
    "execution": {
     "iopub.execute_input": "2025-08-25T01:38:54.955936Z",
     "iopub.status.busy": "2025-08-25T01:38:54.955767Z",
     "iopub.status.idle": "2025-08-25T01:38:54.958964Z",
     "shell.execute_reply": "2025-08-25T01:38:54.958272Z",
     "shell.execute_reply.started": "2025-08-25T01:38:54.955916Z"
    }
   },
   "outputs": [],
   "source": [
    "# df_dataset[0]"
   ]
  },
  {
   "cell_type": "code",
   "execution_count": 6,
   "id": "7b77e6e8-8d9d-45f3-be04-94a8b7499213",
   "metadata": {
    "execution": {
     "iopub.execute_input": "2025-08-25T01:38:54.959839Z",
     "iopub.status.busy": "2025-08-25T01:38:54.959664Z",
     "iopub.status.idle": "2025-08-25T01:38:57.106217Z",
     "shell.execute_reply": "2025-08-25T01:38:57.105189Z",
     "shell.execute_reply.started": "2025-08-25T01:38:54.959819Z"
    }
   },
   "outputs": [
    {
     "name": "stderr",
     "output_type": "stream",
     "text": [
      "Some weights of the model checkpoint at /root/autodl-tmp/CommitFit/models/bert-base-uncased were not used when initializing BertModel: ['cls.predictions.transform.LayerNorm.bias', 'cls.predictions.transform.LayerNorm.weight', 'cls.seq_relationship.bias', 'cls.seq_relationship.weight', 'cls.predictions.transform.dense.bias', 'cls.predictions.bias', 'cls.predictions.transform.dense.weight', 'cls.predictions.decoder.weight']\n",
      "- This IS expected if you are initializing BertModel from the checkpoint of a model trained on another task or with another architecture (e.g. initializing a BertForSequenceClassification model from a BertForPreTraining model).\n",
      "- This IS NOT expected if you are initializing BertModel from the checkpoint of a model that you expect to be exactly identical (initializing a BertForSequenceClassification model from a BertForSequenceClassification model).\n"
     ]
    }
   ],
   "source": [
    "# Load BERT and CodeBERT models and tokenizers\n",
    "bert_model = BertModel.from_pretrained('/root/autodl-tmp/CommitFit/models/bert-base-uncased')\n",
    "bert_tokenizer = BertTokenizer.from_pretrained('/root/autodl-tmp/CommitFit/models/bert-base-uncased')\n",
    "\n",
    "codebert_model = RobertaModel.from_pretrained('/root/autodl-tmp/CommitFit/models/codebert-base')\n",
    "codebert_tokenizer = RobertaTokenizer.from_pretrained('/root/autodl-tmp/CommitFit/models/codebert-base')"
   ]
  },
  {
   "cell_type": "code",
   "execution_count": 7,
   "id": "754df1cb-3f7e-4ef8-974c-8f816fa5c88d",
   "metadata": {
    "execution": {
     "iopub.execute_input": "2025-08-25T01:38:57.108717Z",
     "iopub.status.busy": "2025-08-25T01:38:57.108509Z",
     "iopub.status.idle": "2025-08-25T01:38:57.119327Z",
     "shell.execute_reply": "2025-08-25T01:38:57.118641Z",
     "shell.execute_reply.started": "2025-08-25T01:38:57.108694Z"
    }
   },
   "outputs": [
    {
     "data": {
      "text/html": [
       "<div>\n",
       "<style scoped>\n",
       "    .dataframe tbody tr th:only-of-type {\n",
       "        vertical-align: middle;\n",
       "    }\n",
       "\n",
       "    .dataframe tbody tr th {\n",
       "        vertical-align: top;\n",
       "    }\n",
       "\n",
       "    .dataframe thead th {\n",
       "        text-align: right;\n",
       "    }\n",
       "</style>\n",
       "<table border=\"1\" class=\"dataframe\">\n",
       "  <thead>\n",
       "    <tr style=\"text-align: right;\">\n",
       "      <th></th>\n",
       "      <th>repo</th>\n",
       "      <th>commit</th>\n",
       "      <th>label</th>\n",
       "      <th>message</th>\n",
       "      <th>diff</th>\n",
       "      <th>feature</th>\n",
       "    </tr>\n",
       "    <tr>\n",
       "      <th>user</th>\n",
       "      <th></th>\n",
       "      <th></th>\n",
       "      <th></th>\n",
       "      <th></th>\n",
       "      <th></th>\n",
       "      <th></th>\n",
       "    </tr>\n",
       "  </thead>\n",
       "  <tbody>\n",
       "    <tr>\n",
       "      <th>GNOME</th>\n",
       "      <td>vala</td>\n",
       "      <td>ba7cd6426301af5e66f8537a4f1f1693bf192da1</td>\n",
       "      <td>0</td>\n",
       "      <td>glib-2.0: add GLib.IOChannel.win32_socket and ...</td>\n",
       "      <td>diff --git a/vapi/glib-2.0.vapi b/vapi/glib-2....</td>\n",
       "      <td>[0, 0, 0, 0, 0, 0, 0, 0, 0, 0, 0, 0, 0, 0, 0, ...</td>\n",
       "    </tr>\n",
       "    <tr>\n",
       "      <th>apache</th>\n",
       "      <td>hbase</td>\n",
       "      <td>4405698ee99fe26d0ac9317a2df96096f2731a7b</td>\n",
       "      <td>1</td>\n",
       "      <td>HBASE-7703 Eventually all online snapshots fai...</td>\n",
       "      <td>diff --git a/hbase-server/src/main/java/org/ap...</td>\n",
       "      <td>[1, 1, 0, 0, 3, 0, 1, 0, 0, 0, 0, 0, 0, 0, 0, ...</td>\n",
       "    </tr>\n",
       "    <tr>\n",
       "      <th>GNOME</th>\n",
       "      <td>vala</td>\n",
       "      <td>22b7e1b8fb3c0c7fc78decad7e918127ef32b43c</td>\n",
       "      <td>1</td>\n",
       "      <td>x11: fix type mismatch warning in X.Display.ge...</td>\n",
       "      <td>diff --git a/vapi/x11.vapi b/vapi/x11.vapi\\nin...</td>\n",
       "      <td>[0, 0, 0, 0, 0, 0, 0, 0, 0, 0, 0, 0, 0, 0, 0, ...</td>\n",
       "    </tr>\n",
       "    <tr>\n",
       "      <th>GNOME</th>\n",
       "      <td>valadoc</td>\n",
       "      <td>81151dab07508e1657ddf252a11672c0b1868e7a</td>\n",
       "      <td>0</td>\n",
       "      <td>Improve {@inheritDoc}\\n</td>\n",
       "      <td>diff --git a/src/libvaladoc/content/blockconte...</td>\n",
       "      <td>[0, 0, 0, 0, 0, 0, 0, 0, 0, 0, 0, 0, 0, 0, 0, ...</td>\n",
       "    </tr>\n",
       "    <tr>\n",
       "      <th>aeshell</th>\n",
       "      <td>aesh</td>\n",
       "      <td>2b1f4e70ecabd92348d797dc7a315978a9d40805</td>\n",
       "      <td>0</td>\n",
       "      <td>[AESH-53]\\nadd support to find option name com...</td>\n",
       "      <td>diff --git a/src/main/java/org/jboss/aesh/cl/C...</td>\n",
       "      <td>[5, 85, 26, 4, 26, 11, 1, 1, 9, 0, 6, 0, 0, 0,...</td>\n",
       "    </tr>\n",
       "    <tr>\n",
       "      <th>...</th>\n",
       "      <td>...</td>\n",
       "      <td>...</td>\n",
       "      <td>...</td>\n",
       "      <td>...</td>\n",
       "      <td>...</td>\n",
       "      <td>...</td>\n",
       "    </tr>\n",
       "    <tr>\n",
       "      <th>tapiji</th>\n",
       "      <td>tapiji</td>\n",
       "      <td>fc21d266c205497596bbc4aecb0a2b62558d0e0d</td>\n",
       "      <td>2</td>\n",
       "      <td>updated licenses\\n</td>\n",
       "      <td>diff --git a/at.ac.tuwien.inso.eclipse.i18n/Ta...</td>\n",
       "      <td>[1, 278, 0, 0, 0, 0, 0, 0, 0, 0, 0, 0, 0, 0, 0...</td>\n",
       "    </tr>\n",
       "    <tr>\n",
       "      <th>apache</th>\n",
       "      <td>deltaspike</td>\n",
       "      <td>b0caefee80a42d6737b3a255316487b668fab104</td>\n",
       "      <td>0</td>\n",
       "      <td>DELTASPIKE-278 add category to Message API\\n</td>\n",
       "      <td>diff --git a/deltaspike/core/api/src/main/java...</td>\n",
       "      <td>[2, 12, 0, 1, 20, 0, 0, 0, 0, 0, 0, 0, 0, 0, 0...</td>\n",
       "    </tr>\n",
       "    <tr>\n",
       "      <th>apache</th>\n",
       "      <td>camel</td>\n",
       "      <td>610115b44e10e5046b62a7dfad06dde18e0f83e7</td>\n",
       "      <td>2</td>\n",
       "      <td>added explicit generics to avoid possible- com...</td>\n",
       "      <td>diff --git a/camel-core/src/main/java/org/apac...</td>\n",
       "      <td>[12, 0, 0, 19, 0, 0, 0, 0, 0, 0, 0, 0, 0, 0, 0...</td>\n",
       "    </tr>\n",
       "    <tr>\n",
       "      <th>GNOME</th>\n",
       "      <td>vala</td>\n",
       "      <td>b48b41f97dfc0c37251beb07b1924af593bba8e1</td>\n",
       "      <td>1</td>\n",
       "      <td>gsl: Do not use `weak' modifier where it is no...</td>\n",
       "      <td>diff --git a/vapi/gsl.vapi b/vapi/gsl.vapi\\nin...</td>\n",
       "      <td>[0, 0, 0, 0, 0, 0, 0, 0, 0, 0, 0, 0, 0, 0, 0, ...</td>\n",
       "    </tr>\n",
       "    <tr>\n",
       "      <th>backdrop-contrib</th>\n",
       "      <td>search_api</td>\n",
       "      <td>0773327a0f169f69d00dfc85eee0cfea3b40dd14</td>\n",
       "      <td>0</td>\n",
       "      <td>Issue #2150347 by drunken monkey: Added access...</td>\n",
       "      <td>diff --git a/CHANGELOG.txt b/CHANGELOG.txt\\nin...</td>\n",
       "      <td>[0, 0, 0, 0, 0, 0, 0, 0, 0, 0, 0, 0, 0, 0, 0, ...</td>\n",
       "    </tr>\n",
       "  </tbody>\n",
       "</table>\n",
       "<p>1246 rows × 6 columns</p>\n",
       "</div>"
      ],
      "text/plain": [
       "                        repo                                    commit  label  \\\n",
       "user                                                                            \n",
       "GNOME                   vala  ba7cd6426301af5e66f8537a4f1f1693bf192da1      0   \n",
       "apache                 hbase  4405698ee99fe26d0ac9317a2df96096f2731a7b      1   \n",
       "GNOME                   vala  22b7e1b8fb3c0c7fc78decad7e918127ef32b43c      1   \n",
       "GNOME                valadoc  81151dab07508e1657ddf252a11672c0b1868e7a      0   \n",
       "aeshell                 aesh  2b1f4e70ecabd92348d797dc7a315978a9d40805      0   \n",
       "...                      ...                                       ...    ...   \n",
       "tapiji                tapiji  fc21d266c205497596bbc4aecb0a2b62558d0e0d      2   \n",
       "apache            deltaspike  b0caefee80a42d6737b3a255316487b668fab104      0   \n",
       "apache                 camel  610115b44e10e5046b62a7dfad06dde18e0f83e7      2   \n",
       "GNOME                   vala  b48b41f97dfc0c37251beb07b1924af593bba8e1      1   \n",
       "backdrop-contrib  search_api  0773327a0f169f69d00dfc85eee0cfea3b40dd14      0   \n",
       "\n",
       "                                                            message  \\\n",
       "user                                                                  \n",
       "GNOME             glib-2.0: add GLib.IOChannel.win32_socket and ...   \n",
       "apache            HBASE-7703 Eventually all online snapshots fai...   \n",
       "GNOME             x11: fix type mismatch warning in X.Display.ge...   \n",
       "GNOME                                       Improve {@inheritDoc}\\n   \n",
       "aeshell           [AESH-53]\\nadd support to find option name com...   \n",
       "...                                                             ...   \n",
       "tapiji                                           updated licenses\\n   \n",
       "apache                 DELTASPIKE-278 add category to Message API\\n   \n",
       "apache            added explicit generics to avoid possible- com...   \n",
       "GNOME             gsl: Do not use `weak' modifier where it is no...   \n",
       "backdrop-contrib  Issue #2150347 by drunken monkey: Added access...   \n",
       "\n",
       "                                                               diff  \\\n",
       "user                                                                  \n",
       "GNOME             diff --git a/vapi/glib-2.0.vapi b/vapi/glib-2....   \n",
       "apache            diff --git a/hbase-server/src/main/java/org/ap...   \n",
       "GNOME             diff --git a/vapi/x11.vapi b/vapi/x11.vapi\\nin...   \n",
       "GNOME             diff --git a/src/libvaladoc/content/blockconte...   \n",
       "aeshell           diff --git a/src/main/java/org/jboss/aesh/cl/C...   \n",
       "...                                                             ...   \n",
       "tapiji            diff --git a/at.ac.tuwien.inso.eclipse.i18n/Ta...   \n",
       "apache            diff --git a/deltaspike/core/api/src/main/java...   \n",
       "apache            diff --git a/camel-core/src/main/java/org/apac...   \n",
       "GNOME             diff --git a/vapi/gsl.vapi b/vapi/gsl.vapi\\nin...   \n",
       "backdrop-contrib  diff --git a/CHANGELOG.txt b/CHANGELOG.txt\\nin...   \n",
       "\n",
       "                                                            feature  \n",
       "user                                                                 \n",
       "GNOME             [0, 0, 0, 0, 0, 0, 0, 0, 0, 0, 0, 0, 0, 0, 0, ...  \n",
       "apache            [1, 1, 0, 0, 3, 0, 1, 0, 0, 0, 0, 0, 0, 0, 0, ...  \n",
       "GNOME             [0, 0, 0, 0, 0, 0, 0, 0, 0, 0, 0, 0, 0, 0, 0, ...  \n",
       "GNOME             [0, 0, 0, 0, 0, 0, 0, 0, 0, 0, 0, 0, 0, 0, 0, ...  \n",
       "aeshell           [5, 85, 26, 4, 26, 11, 1, 1, 9, 0, 6, 0, 0, 0,...  \n",
       "...                                                             ...  \n",
       "tapiji            [1, 278, 0, 0, 0, 0, 0, 0, 0, 0, 0, 0, 0, 0, 0...  \n",
       "apache            [2, 12, 0, 1, 20, 0, 0, 0, 0, 0, 0, 0, 0, 0, 0...  \n",
       "apache            [12, 0, 0, 19, 0, 0, 0, 0, 0, 0, 0, 0, 0, 0, 0...  \n",
       "GNOME             [0, 0, 0, 0, 0, 0, 0, 0, 0, 0, 0, 0, 0, 0, 0, ...  \n",
       "backdrop-contrib  [0, 0, 0, 0, 0, 0, 0, 0, 0, 0, 0, 0, 0, 0, 0, ...  \n",
       "\n",
       "[1246 rows x 6 columns]"
      ]
     },
     "execution_count": 7,
     "metadata": {},
     "output_type": "execute_result"
    }
   ],
   "source": [
    "train"
   ]
  },
  {
   "cell_type": "code",
   "execution_count": 8,
   "id": "1549be02-6f6b-41e5-bd04-d3e164061eec",
   "metadata": {
    "execution": {
     "iopub.execute_input": "2025-08-25T01:38:57.120690Z",
     "iopub.status.busy": "2025-08-25T01:38:57.120117Z",
     "iopub.status.idle": "2025-08-25T01:55:25.078214Z",
     "shell.execute_reply": "2025-08-25T01:55:25.077169Z",
     "shell.execute_reply.started": "2025-08-25T01:38:57.120661Z"
    }
   },
   "outputs": [
    {
     "name": "stderr",
     "output_type": "stream",
     "text": [
      "/root/miniconda3/lib/python3.10/site-packages/transformers/optimization.py:411: FutureWarning: This implementation of AdamW is deprecated and will be removed in a future version. Use the PyTorch implementation torch.optim.AdamW instead, or set `no_deprecation_warning=True` to disable this warning\n",
      "  warnings.warn(\n",
      "Epoch 1/10 Loss: 0.8113: 100%|██████████| 156/156 [01:44<00:00,  1.49batch/s]\n"
     ]
    },
    {
     "name": "stdout",
     "output_type": "stream",
     "text": [
      "=============================train========================\n"
     ]
    },
    {
     "name": "stderr",
     "output_type": "stream",
     "text": [
      "Epoch 2/10 Loss: 0.4022: 100%|██████████| 156/156 [01:36<00:00,  1.62batch/s]\n"
     ]
    },
    {
     "name": "stdout",
     "output_type": "stream",
     "text": [
      "=============================train========================\n"
     ]
    },
    {
     "name": "stderr",
     "output_type": "stream",
     "text": [
      "Epoch 3/10 Loss: 0.1898: 100%|██████████| 156/156 [01:36<00:00,  1.62batch/s]\n"
     ]
    },
    {
     "name": "stdout",
     "output_type": "stream",
     "text": [
      "=============================train========================\n"
     ]
    },
    {
     "name": "stderr",
     "output_type": "stream",
     "text": [
      "Epoch 4/10 Loss: 0.0939: 100%|██████████| 156/156 [01:36<00:00,  1.62batch/s]\n"
     ]
    },
    {
     "name": "stdout",
     "output_type": "stream",
     "text": [
      "=============================train========================\n"
     ]
    },
    {
     "name": "stderr",
     "output_type": "stream",
     "text": [
      "Epoch 5/10 Loss: 0.0472: 100%|██████████| 156/156 [01:36<00:00,  1.62batch/s]\n"
     ]
    },
    {
     "name": "stdout",
     "output_type": "stream",
     "text": [
      "=============================train========================\n"
     ]
    },
    {
     "name": "stderr",
     "output_type": "stream",
     "text": [
      "Epoch 6/10 Loss: 0.0186: 100%|██████████| 156/156 [01:36<00:00,  1.61batch/s]\n"
     ]
    },
    {
     "name": "stdout",
     "output_type": "stream",
     "text": [
      "=============================train========================\n"
     ]
    },
    {
     "name": "stderr",
     "output_type": "stream",
     "text": [
      "Epoch 8/10 Loss: 0.0398: 100%|██████████| 156/156 [01:36<00:00,  1.62batch/s]\n"
     ]
    },
    {
     "name": "stdout",
     "output_type": "stream",
     "text": [
      "=============================train========================\n"
     ]
    },
    {
     "name": "stderr",
     "output_type": "stream",
     "text": [
      "Epoch 9/10 Loss: 0.0580: 100%|██████████| 156/156 [01:36<00:00,  1.62batch/s]\n"
     ]
    },
    {
     "name": "stdout",
     "output_type": "stream",
     "text": [
      "=============================train========================\n"
     ]
    },
    {
     "name": "stderr",
     "output_type": "stream",
     "text": [
      "Epoch 10/10 Loss: 0.0405: 100%|██████████| 156/156 [01:36<00:00,  1.62batch/s]\n"
     ]
    },
    {
     "name": "stdout",
     "output_type": "stream",
     "text": [
      "=============================train========================\n",
      "Early stopping triggered after 10 epochs\n",
      "Validation Accuracy: 0.7940\n",
      "Precision: 0.8071\n",
      "Recall: 0.7940\n",
      "F1-Score: 0.7965\n",
      "              precision    recall  f1-score   support\n",
      "\n",
      "           0     0.8354    0.7416    0.7857        89\n",
      "           1     0.9012    0.8111    0.8538        90\n",
      "           2     0.6822    0.8295    0.7487        88\n",
      "\n",
      "    accuracy                         0.7940       267\n",
      "   macro avg     0.8063    0.7941    0.7961       267\n",
      "weighted avg     0.8071    0.7940    0.7965       267\n",
      "\n"
     ]
    }
   ],
   "source": [
    "train.reset_index(inplace=True)\n",
    "val.reset_index(inplace=True)\n",
    "test.reset_index(inplace=True)\n",
    "\n",
    "# Create Datasets and DataLoaders\n",
    "train_dataset = preprocesser.SentencePairDataset(train, bert_tokenizer, codebert_tokenizer,message='message',command='diff',label='label')\n",
    "val_dataset = preprocesser.SentencePairDataset(val, bert_tokenizer, codebert_tokenizer,message='message',command='diff',label='label')\n",
    "test_dataset = preprocesser.SentencePairDataset(test, bert_tokenizer, codebert_tokenizer,message='message',command='diff',label='label')\n",
    "train_loader = DataLoader(train_dataset, batch_size=8, shuffle=True)\n",
    "val_loader = DataLoader(val_dataset, batch_size=8, shuffle=False)\n",
    "test_loader = DataLoader(test_dataset, batch_size=8, shuffle=False)\n",
    "\n",
    "\n",
    "\n",
    "# # Initialize the model\n",
    "# model = em.CombinedModel(bert_model, codebert_model, bert_tokenizer, codebert_tokenizer)\n",
    "\n",
    "# # Train the model\n",
    "# model.trainer(train_loader, val_loader,num_epochs=10)\n",
    "# for batch in train_loader:\n",
    "#     print(batch)\n",
    "\n",
    "\n",
    "base_model1 = cm.BaseModel(bert_model)\n",
    "base_model2 = cm.BaseModel(codebert_model)\n",
    "\n",
    "# Create stacking model\n",
    "combined_model = cm.CombinedModel(base_model1, base_model2)\n",
    "# Train the model\n",
    "combined_model.trainer(train_loader, val_loader,num_epochs=10, patience=3)"
   ]
  },
  {
   "cell_type": "code",
   "execution_count": 9,
   "id": "def4bb0a-419c-46fb-b61b-c9f1a98f0caa",
   "metadata": {
    "execution": {
     "iopub.execute_input": "2025-08-25T01:55:25.079638Z",
     "iopub.status.busy": "2025-08-25T01:55:25.079314Z",
     "iopub.status.idle": "2025-08-25T01:55:25.083866Z",
     "shell.execute_reply": "2025-08-25T01:55:25.083039Z",
     "shell.execute_reply.started": "2025-08-25T01:55:25.079615Z"
    }
   },
   "outputs": [],
   "source": [
    "test_dataset = preprocesser.SentencePairDataset(test, bert_tokenizer, codebert_tokenizer,message='message',command='diff',label='label')\n",
    "test_loader = DataLoader(test_dataset, batch_size=32, shuffle=False)"
   ]
  },
  {
   "cell_type": "code",
   "execution_count": null,
   "id": "4e01924f-b8a3-4282-acf6-6d38aee2620c",
   "metadata": {},
   "outputs": [],
   "source": []
  },
  {
   "cell_type": "code",
   "execution_count": null,
   "id": "92009384-7770-4b2a-97b2-c0b4d209a0a7",
   "metadata": {},
   "outputs": [],
   "source": []
  },
  {
   "cell_type": "code",
   "execution_count": null,
   "id": "49ad177a-0ad0-414e-a5b6-5b768a5da9cd",
   "metadata": {},
   "outputs": [],
   "source": []
  },
  {
   "cell_type": "code",
   "execution_count": 10,
   "id": "5878d2a3-fe90-45b1-9486-739c4fee6004",
   "metadata": {
    "execution": {
     "iopub.execute_input": "2025-08-25T01:55:25.084747Z",
     "iopub.status.busy": "2025-08-25T01:55:25.084565Z",
     "iopub.status.idle": "2025-08-25T01:55:41.494298Z",
     "shell.execute_reply": "2025-08-25T01:55:41.493431Z",
     "shell.execute_reply.started": "2025-08-25T01:55:25.084726Z"
    }
   },
   "outputs": [
    {
     "name": "stdout",
     "output_type": "stream",
     "text": [
      "Validation Accuracy: 0.7948\n",
      "Precision: 0.7996\n",
      "Recall: 0.7948\n",
      "F1-Score: 0.7946\n",
      "              precision    recall  f1-score   support\n",
      "\n",
      "           0     0.8082    0.7468    0.7763        79\n",
      "           1     0.8500    0.7640    0.8047        89\n",
      "           2     0.7478    0.8600    0.8000       100\n",
      "\n",
      "    accuracy                         0.7948       268\n",
      "   macro avg     0.8020    0.7903    0.7937       268\n",
      "weighted avg     0.7996    0.7948    0.7946       268\n",
      "\n"
     ]
    }
   ],
   "source": [
    "test_acc, test_labels, test_probabilities, test_embeddings, test_predictions = combined_model.evaluate(test_loader)"
   ]
  },
  {
   "cell_type": "code",
   "execution_count": null,
   "id": "0376c52a-7906-4b38-ab5b-88be13b3b3d5",
   "metadata": {},
   "outputs": [],
   "source": []
  },
  {
   "cell_type": "code",
   "execution_count": 11,
   "id": "b54c2834-60c9-416f-9bc6-c13cf7264801",
   "metadata": {
    "execution": {
     "iopub.execute_input": "2025-08-25T01:55:41.495444Z",
     "iopub.status.busy": "2025-08-25T01:55:41.495244Z",
     "iopub.status.idle": "2025-08-25T01:55:41.499312Z",
     "shell.execute_reply": "2025-08-25T01:55:41.498634Z",
     "shell.execute_reply.started": "2025-08-25T01:55:41.495422Z"
    }
   },
   "outputs": [],
   "source": [
    "res = test.copy()"
   ]
  },
  {
   "cell_type": "code",
   "execution_count": 12,
   "id": "2785c37d-4b86-48f6-a2ba-418332fe0c04",
   "metadata": {
    "execution": {
     "iopub.execute_input": "2025-08-25T01:55:41.500305Z",
     "iopub.status.busy": "2025-08-25T01:55:41.500120Z",
     "iopub.status.idle": "2025-08-25T01:55:41.505955Z",
     "shell.execute_reply": "2025-08-25T01:55:41.505289Z",
     "shell.execute_reply.started": "2025-08-25T01:55:41.500284Z"
    }
   },
   "outputs": [],
   "source": [
    "res['test_labels'] = test_labels\n",
    "res['test_probabilities'] = test_probabilities\n",
    "res['test_embeddings'] = test_embeddings\n",
    "res['test_predictions'] = test_predictions"
   ]
  },
  {
   "cell_type": "code",
   "execution_count": 13,
   "id": "fba5b70f-44b3-4626-93d6-b00701ef81db",
   "metadata": {
    "execution": {
     "iopub.execute_input": "2025-08-25T01:55:41.506907Z",
     "iopub.status.busy": "2025-08-25T01:55:41.506724Z",
     "iopub.status.idle": "2025-08-25T01:55:42.024778Z",
     "shell.execute_reply": "2025-08-25T01:55:42.023123Z",
     "shell.execute_reply.started": "2025-08-25T01:55:41.506886Z"
    }
   },
   "outputs": [
    {
     "ename": "ValueError",
     "evalue": "multiclass format is not supported",
     "output_type": "error",
     "traceback": [
      "\u001b[0;31m---------------------------------------------------------------------------\u001b[0m",
      "\u001b[0;31mValueError\u001b[0m                                Traceback (most recent call last)",
      "Cell \u001b[0;32mIn[13], line 2\u001b[0m\n\u001b[1;32m      1\u001b[0m \u001b[38;5;66;03m# PR curve\u001b[39;00m\n\u001b[0;32m----> 2\u001b[0m \u001b[43mcombined_model\u001b[49m\u001b[38;5;241;43m.\u001b[39;49m\u001b[43mplot_pr_curve\u001b[49m\u001b[43m(\u001b[49m\u001b[43mtest_labels\u001b[49m\u001b[43m,\u001b[49m\u001b[43m \u001b[49m\u001b[43mtest_probabilities\u001b[49m\u001b[43m)\u001b[49m\n\u001b[1;32m      3\u001b[0m \u001b[38;5;66;03m# Plot t-SNE for the best model\u001b[39;00m\n",
      "File \u001b[0;32m~/autodl-tmp/CommitFit/ensemble_model/combined_model.py:148\u001b[0m, in \u001b[0;36mCombinedModel.plot_pr_curve\u001b[0;34m(self, labels, probabilities)\u001b[0m\n\u001b[1;32m    147\u001b[0m \u001b[38;5;28;01mdef\u001b[39;00m \u001b[38;5;21mplot_pr_curve\u001b[39m(\u001b[38;5;28mself\u001b[39m, labels, probabilities):\n\u001b[0;32m--> 148\u001b[0m     precision, recall, _ \u001b[38;5;241m=\u001b[39m \u001b[43mprecision_recall_curve\u001b[49m\u001b[43m(\u001b[49m\u001b[43mlabels\u001b[49m\u001b[43m,\u001b[49m\u001b[43m \u001b[49m\u001b[43mprobabilities\u001b[49m\u001b[43m)\u001b[49m\n\u001b[1;32m    149\u001b[0m     plt\u001b[38;5;241m.\u001b[39mplot(recall, precision, label\u001b[38;5;241m=\u001b[39m\u001b[38;5;124m'\u001b[39m\u001b[38;5;124mPR Curve\u001b[39m\u001b[38;5;124m'\u001b[39m)\n\u001b[1;32m    150\u001b[0m     plt\u001b[38;5;241m.\u001b[39mxlabel(\u001b[38;5;124m'\u001b[39m\u001b[38;5;124mRecall\u001b[39m\u001b[38;5;124m'\u001b[39m)\n",
      "File \u001b[0;32m~/miniconda3/lib/python3.10/site-packages/sklearn/utils/_param_validation.py:213\u001b[0m, in \u001b[0;36mvalidate_params.<locals>.decorator.<locals>.wrapper\u001b[0;34m(*args, **kwargs)\u001b[0m\n\u001b[1;32m    207\u001b[0m \u001b[38;5;28;01mtry\u001b[39;00m:\n\u001b[1;32m    208\u001b[0m     \u001b[38;5;28;01mwith\u001b[39;00m config_context(\n\u001b[1;32m    209\u001b[0m         skip_parameter_validation\u001b[38;5;241m=\u001b[39m(\n\u001b[1;32m    210\u001b[0m             prefer_skip_nested_validation \u001b[38;5;129;01mor\u001b[39;00m global_skip_validation\n\u001b[1;32m    211\u001b[0m         )\n\u001b[1;32m    212\u001b[0m     ):\n\u001b[0;32m--> 213\u001b[0m         \u001b[38;5;28;01mreturn\u001b[39;00m \u001b[43mfunc\u001b[49m\u001b[43m(\u001b[49m\u001b[38;5;241;43m*\u001b[39;49m\u001b[43margs\u001b[49m\u001b[43m,\u001b[49m\u001b[43m \u001b[49m\u001b[38;5;241;43m*\u001b[39;49m\u001b[38;5;241;43m*\u001b[39;49m\u001b[43mkwargs\u001b[49m\u001b[43m)\u001b[49m\n\u001b[1;32m    214\u001b[0m \u001b[38;5;28;01mexcept\u001b[39;00m InvalidParameterError \u001b[38;5;28;01mas\u001b[39;00m e:\n\u001b[1;32m    215\u001b[0m     \u001b[38;5;66;03m# When the function is just a wrapper around an estimator, we allow\u001b[39;00m\n\u001b[1;32m    216\u001b[0m     \u001b[38;5;66;03m# the function to delegate validation to the estimator, but we replace\u001b[39;00m\n\u001b[1;32m    217\u001b[0m     \u001b[38;5;66;03m# the name of the estimator by the name of the function in the error\u001b[39;00m\n\u001b[1;32m    218\u001b[0m     \u001b[38;5;66;03m# message to avoid confusion.\u001b[39;00m\n\u001b[1;32m    219\u001b[0m     msg \u001b[38;5;241m=\u001b[39m re\u001b[38;5;241m.\u001b[39msub(\n\u001b[1;32m    220\u001b[0m         \u001b[38;5;124mr\u001b[39m\u001b[38;5;124m\"\u001b[39m\u001b[38;5;124mparameter of \u001b[39m\u001b[38;5;124m\\\u001b[39m\u001b[38;5;124mw+ must be\u001b[39m\u001b[38;5;124m\"\u001b[39m,\n\u001b[1;32m    221\u001b[0m         \u001b[38;5;124mf\u001b[39m\u001b[38;5;124m\"\u001b[39m\u001b[38;5;124mparameter of \u001b[39m\u001b[38;5;132;01m{\u001b[39;00mfunc\u001b[38;5;241m.\u001b[39m\u001b[38;5;18m__qualname__\u001b[39m\u001b[38;5;132;01m}\u001b[39;00m\u001b[38;5;124m must be\u001b[39m\u001b[38;5;124m\"\u001b[39m,\n\u001b[1;32m    222\u001b[0m         \u001b[38;5;28mstr\u001b[39m(e),\n\u001b[1;32m    223\u001b[0m     )\n",
      "File \u001b[0;32m~/miniconda3/lib/python3.10/site-packages/sklearn/metrics/_ranking.py:1002\u001b[0m, in \u001b[0;36mprecision_recall_curve\u001b[0;34m(y_true, y_score, pos_label, sample_weight, drop_intermediate, probas_pred)\u001b[0m\n\u001b[1;32m    993\u001b[0m     warnings\u001b[38;5;241m.\u001b[39mwarn(\n\u001b[1;32m    994\u001b[0m         (\n\u001b[1;32m    995\u001b[0m             \u001b[38;5;124m\"\u001b[39m\u001b[38;5;124mprobas_pred was deprecated in version 1.5 and will be removed in 1.7.\u001b[39m\u001b[38;5;124m\"\u001b[39m\n\u001b[0;32m   (...)\u001b[0m\n\u001b[1;32m    998\u001b[0m         \u001b[38;5;167;01mFutureWarning\u001b[39;00m,\n\u001b[1;32m    999\u001b[0m     )\n\u001b[1;32m   1000\u001b[0m     y_score \u001b[38;5;241m=\u001b[39m probas_pred\n\u001b[0;32m-> 1002\u001b[0m fps, tps, thresholds \u001b[38;5;241m=\u001b[39m \u001b[43m_binary_clf_curve\u001b[49m\u001b[43m(\u001b[49m\n\u001b[1;32m   1003\u001b[0m \u001b[43m    \u001b[49m\u001b[43my_true\u001b[49m\u001b[43m,\u001b[49m\u001b[43m \u001b[49m\u001b[43my_score\u001b[49m\u001b[43m,\u001b[49m\u001b[43m \u001b[49m\u001b[43mpos_label\u001b[49m\u001b[38;5;241;43m=\u001b[39;49m\u001b[43mpos_label\u001b[49m\u001b[43m,\u001b[49m\u001b[43m \u001b[49m\u001b[43msample_weight\u001b[49m\u001b[38;5;241;43m=\u001b[39;49m\u001b[43msample_weight\u001b[49m\n\u001b[1;32m   1004\u001b[0m \u001b[43m\u001b[49m\u001b[43m)\u001b[49m\n\u001b[1;32m   1006\u001b[0m \u001b[38;5;28;01mif\u001b[39;00m drop_intermediate \u001b[38;5;129;01mand\u001b[39;00m \u001b[38;5;28mlen\u001b[39m(fps) \u001b[38;5;241m>\u001b[39m \u001b[38;5;241m2\u001b[39m:\n\u001b[1;32m   1007\u001b[0m     \u001b[38;5;66;03m# Drop thresholds corresponding to points where true positives (tps)\u001b[39;00m\n\u001b[1;32m   1008\u001b[0m     \u001b[38;5;66;03m# do not change from the previous or subsequent point. This will keep\u001b[39;00m\n\u001b[1;32m   1009\u001b[0m     \u001b[38;5;66;03m# only the first and last point for each tps value. All points\u001b[39;00m\n\u001b[1;32m   1010\u001b[0m     \u001b[38;5;66;03m# with the same tps value have the same recall and thus x coordinate.\u001b[39;00m\n\u001b[1;32m   1011\u001b[0m     \u001b[38;5;66;03m# They appear as a vertical line on the plot.\u001b[39;00m\n\u001b[1;32m   1012\u001b[0m     optimal_idxs \u001b[38;5;241m=\u001b[39m np\u001b[38;5;241m.\u001b[39mwhere(\n\u001b[1;32m   1013\u001b[0m         np\u001b[38;5;241m.\u001b[39mconcatenate(\n\u001b[1;32m   1014\u001b[0m             [[\u001b[38;5;28;01mTrue\u001b[39;00m], np\u001b[38;5;241m.\u001b[39mlogical_or(np\u001b[38;5;241m.\u001b[39mdiff(tps[:\u001b[38;5;241m-\u001b[39m\u001b[38;5;241m1\u001b[39m]), np\u001b[38;5;241m.\u001b[39mdiff(tps[\u001b[38;5;241m1\u001b[39m:])), [\u001b[38;5;28;01mTrue\u001b[39;00m]]\n\u001b[1;32m   1015\u001b[0m         )\n\u001b[1;32m   1016\u001b[0m     )[\u001b[38;5;241m0\u001b[39m]\n",
      "File \u001b[0;32m~/miniconda3/lib/python3.10/site-packages/sklearn/metrics/_ranking.py:817\u001b[0m, in \u001b[0;36m_binary_clf_curve\u001b[0;34m(y_true, y_score, pos_label, sample_weight)\u001b[0m\n\u001b[1;32m    815\u001b[0m y_type \u001b[38;5;241m=\u001b[39m type_of_target(y_true, input_name\u001b[38;5;241m=\u001b[39m\u001b[38;5;124m\"\u001b[39m\u001b[38;5;124my_true\u001b[39m\u001b[38;5;124m\"\u001b[39m)\n\u001b[1;32m    816\u001b[0m \u001b[38;5;28;01mif\u001b[39;00m \u001b[38;5;129;01mnot\u001b[39;00m (y_type \u001b[38;5;241m==\u001b[39m \u001b[38;5;124m\"\u001b[39m\u001b[38;5;124mbinary\u001b[39m\u001b[38;5;124m\"\u001b[39m \u001b[38;5;129;01mor\u001b[39;00m (y_type \u001b[38;5;241m==\u001b[39m \u001b[38;5;124m\"\u001b[39m\u001b[38;5;124mmulticlass\u001b[39m\u001b[38;5;124m\"\u001b[39m \u001b[38;5;129;01mand\u001b[39;00m pos_label \u001b[38;5;129;01mis\u001b[39;00m \u001b[38;5;129;01mnot\u001b[39;00m \u001b[38;5;28;01mNone\u001b[39;00m)):\n\u001b[0;32m--> 817\u001b[0m     \u001b[38;5;28;01mraise\u001b[39;00m \u001b[38;5;167;01mValueError\u001b[39;00m(\u001b[38;5;124m\"\u001b[39m\u001b[38;5;132;01m{0}\u001b[39;00m\u001b[38;5;124m format is not supported\u001b[39m\u001b[38;5;124m\"\u001b[39m\u001b[38;5;241m.\u001b[39mformat(y_type))\n\u001b[1;32m    819\u001b[0m check_consistent_length(y_true, y_score, sample_weight)\n\u001b[1;32m    820\u001b[0m y_true \u001b[38;5;241m=\u001b[39m column_or_1d(y_true)\n",
      "\u001b[0;31mValueError\u001b[0m: multiclass format is not supported"
     ]
    }
   ],
   "source": [
    "# PR curve\n",
    "combined_model.plot_pr_curve(test_labels, test_probabilities)\n",
    "# Plot t-SNE for the best model"
   ]
  },
  {
   "cell_type": "code",
   "execution_count": null,
   "id": "0de47b49-8d23-4eca-9690-1cff4771159b",
   "metadata": {
    "execution": {
     "iopub.status.busy": "2025-08-25T01:55:42.025470Z",
     "iopub.status.idle": "2025-08-25T01:55:42.025713Z",
     "shell.execute_reply": "2025-08-25T01:55:42.025599Z",
     "shell.execute_reply.started": "2025-08-25T01:55:42.025588Z"
    }
   },
   "outputs": [],
   "source": [
    "# cluster to show the quality of embeddings\n",
    "combined_model.plot_tsne(test_embeddings, test_labels)"
   ]
  },
  {
   "cell_type": "code",
   "execution_count": null,
   "id": "6bd912de-09e5-42b9-b5be-a0dbdeb08233",
   "metadata": {
    "execution": {
     "iopub.status.busy": "2025-08-25T01:55:42.026988Z",
     "iopub.status.idle": "2025-08-25T01:55:42.027212Z",
     "shell.execute_reply": "2025-08-25T01:55:42.027107Z",
     "shell.execute_reply.started": "2025-08-25T01:55:42.027097Z"
    }
   },
   "outputs": [],
   "source": [
    "from sklearn.metrics import confusion_matrix"
   ]
  },
  {
   "cell_type": "code",
   "execution_count": null,
   "id": "14393aa5-3ad7-4dae-953c-ff77d8005640",
   "metadata": {
    "execution": {
     "iopub.status.busy": "2025-08-25T01:55:42.028373Z",
     "iopub.status.idle": "2025-08-25T01:55:42.028596Z",
     "shell.execute_reply": "2025-08-25T01:55:42.028489Z",
     "shell.execute_reply.started": "2025-08-25T01:55:42.028479Z"
    }
   },
   "outputs": [],
   "source": [
    "def plot_confusion_matrix(cm, classes, normalize=False, title='Confusion Matrix on Dataset I', cmap=plt.cm.Blues):\n",
    "    if normalize:\n",
    "        cm = cm.astype('float') / cm.sum(axis=1)[:, np.newaxis]\n",
    "\n",
    "    plt.figure(figsize=(8, 6))\n",
    "    plt.imshow(cm, interpolation='nearest', cmap=cmap)\n",
    "    plt.title(title)\n",
    "    plt.colorbar()\n",
    "\n",
    "    tick_marks = np.arange(len(classes))\n",
    "    plt.xticks(tick_marks, classes, rotation=45)\n",
    "    plt.yticks(tick_marks, classes)\n",
    "\n",
    "    fmt = '.2f' if normalize else 'd'\n",
    "    thresh = cm.max() / 2.0\n",
    "    for i in range(cm.shape[0]):\n",
    "        for j in range(cm.shape[1]):\n",
    "            plt.text(j, i, format(cm[i, j], fmt),\n",
    "                     horizontalalignment=\"center\",\n",
    "                     color=\"white\" if cm[i, j] > thresh else \"black\")\n",
    "\n",
    "    plt.ylabel('True label')\n",
    "    # plt.xlabel('Predicted label')\n",
    "    plt.tight_layout()"
   ]
  },
  {
   "cell_type": "code",
   "execution_count": null,
   "id": "9ee6becf-2511-478b-9487-d37f19cc708e",
   "metadata": {
    "execution": {
     "iopub.status.busy": "2025-08-25T01:55:42.029350Z",
     "iopub.status.idle": "2025-08-25T01:55:42.029597Z",
     "shell.execute_reply": "2025-08-25T01:55:42.029460Z",
     "shell.execute_reply.started": "2025-08-25T01:55:42.029450Z"
    }
   },
   "outputs": [],
   "source": [
    "cm = confusion_matrix(test_labels, test_predictions)\n",
    "\n",
    "# Call the function to plot the confusion matrix\n",
    "class_names = test['label'].unique()  # Replace with your class names\n",
    "plot_confusion_matrix(cm, classes=class_names, normalize=True)  # Set normalize=False if you want counts instead of percentages\n",
    "plt.savefig('Confusion Matrix on Dataset Patch_DB')"
   ]
  },
  {
   "cell_type": "code",
   "execution_count": null,
   "id": "1552e77a-f753-4831-997f-ee0ffe4514c4",
   "metadata": {
    "execution": {
     "iopub.status.busy": "2025-08-25T01:55:42.030601Z",
     "iopub.status.idle": "2025-08-25T01:55:42.030842Z",
     "shell.execute_reply": "2025-08-25T01:55:42.030728Z",
     "shell.execute_reply.started": "2025-08-25T01:55:42.030717Z"
    }
   },
   "outputs": [],
   "source": [
    "res.to_csv('combined_model_I.csv')"
   ]
  },
  {
   "cell_type": "code",
   "execution_count": null,
   "id": "73491e5c-7e9f-4530-bd02-393d2fe5a19b",
   "metadata": {
    "execution": {
     "iopub.status.busy": "2025-08-25T01:55:42.031809Z",
     "iopub.status.idle": "2025-08-25T01:55:42.032039Z",
     "shell.execute_reply": "2025-08-25T01:55:42.031928Z",
     "shell.execute_reply.started": "2025-08-25T01:55:42.031918Z"
    }
   },
   "outputs": [],
   "source": [
    "res_mis = test.copy()"
   ]
  },
  {
   "cell_type": "code",
   "execution_count": null,
   "id": "f97c31e7-af4d-45bd-a50c-aa18157cc44b",
   "metadata": {
    "execution": {
     "iopub.status.busy": "2025-08-25T01:55:42.032583Z",
     "iopub.status.idle": "2025-08-25T01:55:42.032811Z",
     "shell.execute_reply": "2025-08-25T01:55:42.032713Z",
     "shell.execute_reply.started": "2025-08-25T01:55:42.032702Z"
    }
   },
   "outputs": [],
   "source": [
    "# test_data"
   ]
  },
  {
   "cell_type": "code",
   "execution_count": null,
   "id": "ccfb7eea-0304-44f5-87b2-b168537ba2f7",
   "metadata": {
    "execution": {
     "iopub.status.busy": "2025-08-25T01:55:42.033780Z",
     "iopub.status.idle": "2025-08-25T01:55:42.034049Z",
     "shell.execute_reply": "2025-08-25T01:55:42.033926Z",
     "shell.execute_reply.started": "2025-08-25T01:55:42.033914Z"
    }
   },
   "outputs": [],
   "source": [
    "# 设置数据缺失的情况\n",
    "# 设置随机种子以便结果可重复\n",
    "import numpy as np\n",
    "def data_missing(df):\n",
    "    \n",
    "    np.random.seed(42)\n",
    "    \n",
    "    # 定义缺失值的比例\n",
    "    missing_rate = 0.2\n",
    "    \n",
    "    # 计算每列需要创建缺失值的数量\n",
    "    num_missing = int(missing_rate * len(df))\n",
    "    \n",
    "    # 随机选择行进行缺失\n",
    "    for col in ['message', 'diff']:\n",
    "        missing_indices = np.random.choice(df.index, num_missing, replace=False)\n",
    "        \n",
    "        # 选择每个单元格的部分字符来替换，而不是全部替换成NaN\n",
    "        for idx in missing_indices:\n",
    "            if np.random.rand() > 0.5:\n",
    "                # 保留前半部分\n",
    "                try:\n",
    "                    # print(df.loc[idx, col][:len(df.loc[idx, col])//2] + '...')\n",
    "                    df.loc[idx, col] = df.loc[idx, col][:len(df.loc[idx, col])//2] + '...'\n",
    "                except:\n",
    "                    continue\n",
    "            else:\n",
    "                # 保留后半部分\n",
    "                try:\n",
    "                    # print('...' + df.loc[idx, col][len(df.loc[idx, col])//2:])\n",
    "                    df.loc[idx, col] = '...' + df.loc[idx, col][len(df.loc[idx, col])//2:]\n",
    "                except:\n",
    "                    continue\n",
    "    \n",
    "    return df\n",
    "test_data_miss = data_missing(test)"
   ]
  },
  {
   "cell_type": "code",
   "execution_count": null,
   "id": "f9e4f60e-8c6c-49e1-bdd9-31163ceaf655",
   "metadata": {
    "execution": {
     "iopub.status.busy": "2025-08-25T01:55:42.034967Z",
     "iopub.status.idle": "2025-08-25T01:55:42.035190Z",
     "shell.execute_reply": "2025-08-25T01:55:42.035086Z",
     "shell.execute_reply.started": "2025-08-25T01:55:42.035076Z"
    }
   },
   "outputs": [],
   "source": [
    "test_data_miss"
   ]
  },
  {
   "cell_type": "code",
   "execution_count": null,
   "id": "f0454d40-5b8f-4988-8fa8-fa64a352f256",
   "metadata": {
    "execution": {
     "iopub.status.busy": "2025-08-25T01:55:42.039009Z",
     "iopub.status.idle": "2025-08-25T01:55:42.039233Z",
     "shell.execute_reply": "2025-08-25T01:55:42.039127Z",
     "shell.execute_reply.started": "2025-08-25T01:55:42.039116Z"
    }
   },
   "outputs": [],
   "source": [
    "test_data_miss['message']"
   ]
  },
  {
   "cell_type": "code",
   "execution_count": null,
   "id": "9b4628c1-0ec1-48ba-84b1-3eb200643145",
   "metadata": {
    "execution": {
     "iopub.status.busy": "2025-08-25T01:55:42.040128Z",
     "iopub.status.idle": "2025-08-25T01:55:42.040374Z",
     "shell.execute_reply": "2025-08-25T01:55:42.040258Z",
     "shell.execute_reply.started": "2025-08-25T01:55:42.040247Z"
    }
   },
   "outputs": [],
   "source": [
    "test_data_miss[test_data_miss['message'].str.contains('...')]"
   ]
  },
  {
   "cell_type": "code",
   "execution_count": null,
   "id": "328a6547-535b-4b5f-b7d8-0c0015a7380f",
   "metadata": {
    "execution": {
     "iopub.status.busy": "2025-08-25T01:55:42.041323Z",
     "iopub.status.idle": "2025-08-25T01:55:42.041542Z",
     "shell.execute_reply": "2025-08-25T01:55:42.041439Z",
     "shell.execute_reply.started": "2025-08-25T01:55:42.041429Z"
    }
   },
   "outputs": [],
   "source": [
    "# test_data_miss.reset_index(inplace=True)\n",
    "test_miss_dataset = preprocesser.SentencePairDataset(test_data_miss, bert_tokenizer, codebert_tokenizer,message='message',command='diff',label='label')\n",
    "test_miss_loader = DataLoader(test_miss_dataset, batch_size=8, shuffle=False)\n",
    "test_miss_loader"
   ]
  },
  {
   "cell_type": "code",
   "execution_count": null,
   "id": "c0f61e6e-d402-4099-bb8f-38230908645c",
   "metadata": {
    "execution": {
     "iopub.status.busy": "2025-08-25T01:55:42.042071Z",
     "iopub.status.idle": "2025-08-25T01:55:42.042279Z",
     "shell.execute_reply": "2025-08-25T01:55:42.042180Z",
     "shell.execute_reply.started": "2025-08-25T01:55:42.042170Z"
    }
   },
   "outputs": [],
   "source": [
    "test_miss_acc, test_miss_labels, test_miss_probabilities, test_miss_embeddings, test_miss_predictions = combined_model.evaluate(test_miss_loader)"
   ]
  },
  {
   "cell_type": "code",
   "execution_count": null,
   "id": "f137884e-7aac-43e5-a24d-5171987aac3d",
   "metadata": {
    "execution": {
     "iopub.status.busy": "2025-08-25T01:55:42.043284Z",
     "iopub.status.idle": "2025-08-25T01:55:42.043495Z",
     "shell.execute_reply": "2025-08-25T01:55:42.043398Z",
     "shell.execute_reply.started": "2025-08-25T01:55:42.043388Z"
    }
   },
   "outputs": [],
   "source": [
    "res_mis['test_miss_labels'] = test_miss_labels\n",
    "res_mis['test_miss_probabilities'] = test_miss_probabilities\n",
    "res_mis['test_miss_embeddings'] = test_miss_embeddings\n",
    "res_mis['test_miss_predictions'] = test_miss_predictions"
   ]
  },
  {
   "cell_type": "code",
   "execution_count": null,
   "id": "30391208-8462-4e6f-a0fa-a203059935a3",
   "metadata": {
    "execution": {
     "iopub.status.busy": "2025-08-25T01:55:42.044307Z",
     "iopub.status.idle": "2025-08-25T01:55:42.044537Z",
     "shell.execute_reply": "2025-08-25T01:55:42.044432Z",
     "shell.execute_reply.started": "2025-08-25T01:55:42.044421Z"
    }
   },
   "outputs": [],
   "source": [
    "res_mis.to_csv('combined_model_res_data_missing_I.csv')"
   ]
  },
  {
   "cell_type": "code",
   "execution_count": null,
   "id": "b84edf12-7846-4311-8539-7078f9801402",
   "metadata": {},
   "outputs": [],
   "source": []
  },
  {
   "cell_type": "code",
   "execution_count": null,
   "id": "2d231095-873f-419b-accf-256577523d83",
   "metadata": {},
   "outputs": [],
   "source": []
  },
  {
   "cell_type": "code",
   "execution_count": null,
   "id": "89e6f9cd-8d2c-4d7e-ae0e-46cee540777a",
   "metadata": {},
   "outputs": [],
   "source": []
  },
  {
   "cell_type": "code",
   "execution_count": null,
   "id": "3084ce4f-6970-4812-b9c1-f09f8207f2f2",
   "metadata": {},
   "outputs": [],
   "source": []
  },
  {
   "cell_type": "code",
   "execution_count": null,
   "id": "ab0cb527-8732-43b7-8e88-2e50a1b6de90",
   "metadata": {},
   "outputs": [],
   "source": []
  },
  {
   "cell_type": "code",
   "execution_count": null,
   "id": "c9248fb4-719c-423e-9f70-001fca1d5fb7",
   "metadata": {},
   "outputs": [],
   "source": []
  },
  {
   "cell_type": "code",
   "execution_count": null,
   "id": "cf3fa80c-6e0c-42a1-92d2-669cca1e84f7",
   "metadata": {},
   "outputs": [],
   "source": []
  },
  {
   "cell_type": "code",
   "execution_count": null,
   "id": "3ca9b990-a568-4acc-8194-53b47fc3452c",
   "metadata": {},
   "outputs": [],
   "source": []
  },
  {
   "cell_type": "code",
   "execution_count": null,
   "id": "09f84c3b-5e00-416b-88d8-b9e1b0b846d8",
   "metadata": {},
   "outputs": [],
   "source": []
  },
  {
   "cell_type": "code",
   "execution_count": null,
   "id": "8ad24f5e-d1c1-4d34-b7e9-43dc6efa7d37",
   "metadata": {},
   "outputs": [],
   "source": []
  }
 ],
 "metadata": {
  "kernelspec": {
   "display_name": "Python 3 (ipykernel)",
   "language": "python",
   "name": "python3"
  },
  "language_info": {
   "codemirror_mode": {
    "name": "ipython",
    "version": 3
   },
   "file_extension": ".py",
   "mimetype": "text/x-python",
   "name": "python",
   "nbconvert_exporter": "python",
   "pygments_lexer": "ipython3",
   "version": "3.10.8"
  }
 },
 "nbformat": 4,
 "nbformat_minor": 5
}
