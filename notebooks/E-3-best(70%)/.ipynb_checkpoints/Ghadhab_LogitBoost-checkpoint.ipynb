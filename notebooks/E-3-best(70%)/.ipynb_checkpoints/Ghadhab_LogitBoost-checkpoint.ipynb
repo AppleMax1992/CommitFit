{
 "cells": [
  {
   "cell_type": "code",
   "execution_count": null,
   "id": "e1e51fd6-2459-4552-b63b-1da158aa1de7",
   "metadata": {
    "execution": {
     "iopub.execute_input": "2025-09-01T07:45:14.680440Z",
     "iopub.status.busy": "2025-09-01T07:45:14.679866Z"
    }
   },
   "outputs": [],
   "source": [
    "import pandas as pd\n",
    "from sklearn.model_selection import train_test_split\n",
    "from sklearn.feature_extraction.text import TfidfVectorizer\n",
    "from xgboost import XGBClassifier\n",
    "from sklearn.metrics import classification_report, accuracy_score"
   ]
  },
  {
   "cell_type": "code",
   "execution_count": null,
   "id": "03411a62",
   "metadata": {},
   "outputs": [],
   "source": [
    "df = pd.read_csv(r'/root/autodl-tmp/CommitFit/dataset/Ghadhab/dataset.csv', index_col=0, encoding='utf_8_sig')\n",
    "df.fillna('', inplace=True)\n",
    "label2id={'Adaptive':0, 'Corrective':1, 'Perfective':2}\n",
    "df = df.rename(columns={'msgs':'text','commit_diff':'diffs'})\n",
    "df = df.replace({\"labels\": label2id})\n",
    "# # print(df)\n",
    "df\n",
    "# test_sample = df.sample(n=3, random_state=1)"
   ]
  },
  {
   "cell_type": "code",
   "execution_count": null,
   "id": "af4b32ad-8a7e-4966-a994-0c47f779e542",
   "metadata": {},
   "outputs": [],
   "source": [
    "train, temp_df = train_test_split(df, test_size=0.3, random_state=42)\n",
    "val_df, test = train_test_split(temp_df, test_size=0.5, random_state=42)"
   ]
  },
  {
   "cell_type": "code",
   "execution_count": null,
   "id": "66ddf628-40ef-458c-a711-513814332488",
   "metadata": {},
   "outputs": [],
   "source": [
    "# 假设你有一个DataFrame df，其中包含'commit_message'和'label'列\n",
    "# df = pd.DataFrame({'commit_message': [...], 'label': [...]})\n",
    "\n",
    "# 1. 数据预处理和特征提取\n",
    "vectorizer = TfidfVectorizer()\n",
    "X_train = vectorizer.fit_transform(train['diffs'])\n",
    "y_train = train['labels']\n",
    "\n",
    "# 3. 训练XGBoost模型\n",
    "clf = XGBClassifier()\n",
    "clf.fit(X_train, y_train)\n"
   ]
  },
  {
   "cell_type": "code",
   "execution_count": null,
   "id": "d2a3632e",
   "metadata": {},
   "outputs": [],
   "source": [
    "# 4. 评估模型\n",
    "y_pred = clf.predict(vectorizer.transform(test['diffs']))\n",
    "print(\"Accuracy:\", accuracy_score(test['labels'], y_pred))\n",
    "print(\"Classification Report:\\n\", classification_report(test['labels'], y_pred,digits=4))"
   ]
  },
  {
   "cell_type": "code",
   "execution_count": null,
   "id": "7127fee5-3386-4344-9e14-817620ced271",
   "metadata": {},
   "outputs": [],
   "source": [
    "clf.save_model('xgboost_model.model') "
   ]
  }
 ],
 "metadata": {
  "kernelspec": {
   "display_name": "Python 3 (ipykernel)",
   "language": "python",
   "name": "python3"
  },
  "language_info": {
   "codemirror_mode": {
    "name": "ipython",
    "version": 3
   },
   "file_extension": ".py",
   "mimetype": "text/x-python",
   "name": "python",
   "nbconvert_exporter": "python",
   "pygments_lexer": "ipython3",
   "version": "3.10.8"
  }
 },
 "nbformat": 4,
 "nbformat_minor": 5
}
