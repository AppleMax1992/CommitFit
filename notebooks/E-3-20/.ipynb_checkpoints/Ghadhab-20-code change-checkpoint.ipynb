{
 "cells": [
  {
   "cell_type": "code",
   "execution_count": 7,
   "id": "77d93e6a-106b-4abd-87e7-1243d4c51126",
   "metadata": {
    "execution": {
     "iopub.execute_input": "2025-08-29T11:04:00.252376Z",
     "iopub.status.busy": "2025-08-29T11:04:00.251887Z",
     "iopub.status.idle": "2025-08-29T11:04:00.259644Z",
     "shell.execute_reply": "2025-08-29T11:04:00.259033Z",
     "shell.execute_reply.started": "2025-08-29T11:04:00.252344Z"
    }
   },
   "outputs": [
    {
     "name": "stdout",
     "output_type": "stream",
     "text": [
      "\n",
      "root\n",
      "autodl-tmp\n",
      "CommitFit\n"
     ]
    }
   ],
   "source": [
    "# !pip install transformers accelerate\n",
    "from transformers import EarlyStoppingCallback\n",
    "import torch\n",
    "import numpy as np\n",
    "import pandas as pd\n",
    "# !pip install datasets\n",
    "from datasets import Dataset\n",
    "# %pip install evaluate\n",
    "import evaluate\n",
    "from sklearn.model_selection import train_test_split\n",
    "# from ipywidgets import FloatProgress\n",
    "import csv\n",
    "from optuna import Trial\n",
    "from typing import Dict, Union, Any\n",
    "import os\n",
    "import sys\n",
    "\n",
    "# notebook_login()\n",
    "\n",
    "csv.field_size_limit(500 * 1024 * 1024)\n",
    "CUDA_LAUNCH_BLOCKING=1\n",
    "# get pwd\n",
    "notebook_path = os.path.abspath('')\n",
    "\n",
    "# Find the part of the path that contains 'commitFit'\n",
    "commit_fit_path = None\n",
    "for part in notebook_path.split(os.sep):\n",
    "    print(part)\n",
    "    if 'CommitFit' in part:\n",
    "        commit_fit_path = notebook_path.split(part)[0] + part\n",
    "        break\n",
    "\n",
    "if commit_fit_path is None:\n",
    "    raise ValueError(\"Path containing 'commitFit' not found in notebook path.\")\n",
    "\n",
    "# Add commitFit directory to Python path, so we can import moudule from commitfit folder directly\n",
    "if commit_fit_path not in sys.path:\n",
    "    sys.path.append(commit_fit_path)\n",
    "\n",
    "from commitfit import CommitFitModel, CommitFitTrainer \n",
    "from commitfit import get_templated_dataset,sample_dataset"
   ]
  },
  {
   "cell_type": "code",
   "execution_count": 8,
   "id": "9ef5359f-9526-4d19-a2da-7988dc1ea04f",
   "metadata": {
    "execution": {
     "iopub.execute_input": "2025-08-29T11:04:00.261166Z",
     "iopub.status.busy": "2025-08-29T11:04:00.260786Z",
     "iopub.status.idle": "2025-08-29T11:04:00.634799Z",
     "shell.execute_reply": "2025-08-29T11:04:00.634115Z",
     "shell.execute_reply.started": "2025-08-29T11:04:00.261135Z"
    }
   },
   "outputs": [
    {
     "data": {
      "text/html": [
       "<div>\n",
       "<style scoped>\n",
       "    .dataframe tbody tr th:only-of-type {\n",
       "        vertical-align: middle;\n",
       "    }\n",
       "\n",
       "    .dataframe tbody tr th {\n",
       "        vertical-align: top;\n",
       "    }\n",
       "\n",
       "    .dataframe thead th {\n",
       "        text-align: right;\n",
       "    }\n",
       "</style>\n",
       "<table border=\"1\" class=\"dataframe\">\n",
       "  <thead>\n",
       "    <tr style=\"text-align: right;\">\n",
       "      <th></th>\n",
       "      <th>repo</th>\n",
       "      <th>commit</th>\n",
       "      <th>labels</th>\n",
       "      <th>msgs</th>\n",
       "      <th>diffs</th>\n",
       "      <th>feature</th>\n",
       "    </tr>\n",
       "    <tr>\n",
       "      <th>user</th>\n",
       "      <th></th>\n",
       "      <th></th>\n",
       "      <th></th>\n",
       "      <th></th>\n",
       "      <th></th>\n",
       "      <th></th>\n",
       "    </tr>\n",
       "  </thead>\n",
       "  <tbody>\n",
       "    <tr>\n",
       "      <th>ponsonio</th>\n",
       "      <td>RxJava</td>\n",
       "      <td>0531b8bff5c14d9504beefb4ad47f473e3a22932</td>\n",
       "      <td>Perfective</td>\n",
       "      <td>Change hasException to hasThrowable--</td>\n",
       "      <td>diff --git a/rxjava-core/src/main/java/rx/Noti...</td>\n",
       "      <td>[1, 0, 0, 4, 0, 0, 0, 0, 0, 0, 0, 0, 0, 0, 0, ...</td>\n",
       "    </tr>\n",
       "    <tr>\n",
       "      <th>ponsonio</th>\n",
       "      <td>RxJava</td>\n",
       "      <td>0950c46beda335819928585f1262dfe1dca78a0b</td>\n",
       "      <td>Adaptive</td>\n",
       "      <td>Trying to extend the Scheduler interface accor...</td>\n",
       "      <td>diff --git a/rxjava-core/src/main/java/rx/Sche...</td>\n",
       "      <td>[2, 44, 0, 0, 30, 0, 0, 1, 18, 0, 0, 0, 0, 0, ...</td>\n",
       "    </tr>\n",
       "    <tr>\n",
       "      <th>ponsonio</th>\n",
       "      <td>RxJava</td>\n",
       "      <td>0f92fdd8e6422d5b79c610a7fd8409d222315a49</td>\n",
       "      <td>Adaptive</td>\n",
       "      <td>RunAsync method for outputting multiple values--</td>\n",
       "      <td>diff --git a/rxjava-contrib/rxjava-async-util/...</td>\n",
       "      <td>[2, 53, 0, 0, 42, 0, 0, 1, 45, 1, 0, 0, 0, 0, ...</td>\n",
       "    </tr>\n",
       "    <tr>\n",
       "      <th>ponsonio</th>\n",
       "      <td>RxJava</td>\n",
       "      <td>100f571c9a2835d5a30a55374b9be74c147e031f</td>\n",
       "      <td>Corrective</td>\n",
       "      <td>forEach with Action1 but not Observer--I re-re...</td>\n",
       "      <td>diff --git a/language-adaptors/rxjava-groovy/s...</td>\n",
       "      <td>[1, 5, 122, 9, 10, 9, 4, 1, 5, 18, 2, 0, 0, 0,...</td>\n",
       "    </tr>\n",
       "    <tr>\n",
       "      <th>ponsonio</th>\n",
       "      <td>RxJava</td>\n",
       "      <td>191f023cf5253ea90647bc091dcaf55ccdce81cc</td>\n",
       "      <td>Corrective</td>\n",
       "      <td>1.x: Fix Completable swallows- OnErrorNotImple...</td>\n",
       "      <td>diff --git a/src/main/java/rx/Completable.java...</td>\n",
       "      <td>[1, 1, 0, 0, 0, 0, 0, 1, 21, 0, 0, 0, 0, 0, 0,...</td>\n",
       "    </tr>\n",
       "    <tr>\n",
       "      <th>...</th>\n",
       "      <td>...</td>\n",
       "      <td>...</td>\n",
       "      <td>...</td>\n",
       "      <td>...</td>\n",
       "      <td>...</td>\n",
       "      <td>...</td>\n",
       "    </tr>\n",
       "    <tr>\n",
       "      <th>jenkinsci</th>\n",
       "      <td>clearcase-plugin</td>\n",
       "      <td>51e9da224f80254476a7dc446bca817b505381d8</td>\n",
       "      <td>Perfective</td>\n",
       "      <td>Use a temporary file to decrease memory consum...</td>\n",
       "      <td>diff --git a/src/main/java/hudson/plugins/clea...</td>\n",
       "      <td>[2, 12, 0, 4, 1, 0, 1, 0, 0, 0, 0, 0, 0, 0, 0,...</td>\n",
       "    </tr>\n",
       "    <tr>\n",
       "      <th>jexp</th>\n",
       "      <td>batch-import</td>\n",
       "      <td>609d6c4b1eea2c33d9fb950fcbb9ba9dc1f80fc3</td>\n",
       "      <td>Perfective</td>\n",
       "      <td>added a more memory efficient structure for st...</td>\n",
       "      <td>diff --git a/src/main/java/org/neo4j/batchimpo...</td>\n",
       "      <td>[10, 159, 29, 35, 9, 2, 1, 5, 106, 0, 4, 8, 0,...</td>\n",
       "    </tr>\n",
       "    <tr>\n",
       "      <th>hdiv</th>\n",
       "      <td>hdiv</td>\n",
       "      <td>19b650c78a1c76f4fd90274d7f163f863c0d39e4</td>\n",
       "      <td>Perfective</td>\n",
       "      <td>Memory and performance optimizations</td>\n",
       "      <td>diff --git a/hdiv-config/src/main/java/org/hdi...</td>\n",
       "      <td>[31, 302, 131, 140, 170, 89, 53, 7, 88, 14, 17...</td>\n",
       "    </tr>\n",
       "    <tr>\n",
       "      <th>casidiablo</th>\n",
       "      <td>persistence</td>\n",
       "      <td>d7bf95159df37a3d338ca267dddd3d26b38ec37c</td>\n",
       "      <td>Perfective</td>\n",
       "      <td>Now it is possible to specify the sqlite open ...</td>\n",
       "      <td>diff --git a/pom.xml b/pom.xml\\nindex 394263b....</td>\n",
       "      <td>[5, 57, 20, 9, 21, 0, 0, 0, 0, 0, 0, 0, 0, 0, ...</td>\n",
       "    </tr>\n",
       "    <tr>\n",
       "      <th>jhy</th>\n",
       "      <td>jsoup</td>\n",
       "      <td>d6fd1637307f6b088eb226c3f979085725530f32</td>\n",
       "      <td>Perfective</td>\n",
       "      <td>Performance improvment for Element.text</td>\n",
       "      <td>diff --git a/src/main/java/org/jsoup/helper/St...</td>\n",
       "      <td>[3, 11, 11, 9, 13, 0, 0, 1, 0, 8, 0, 0, 1, 0, ...</td>\n",
       "    </tr>\n",
       "  </tbody>\n",
       "</table>\n",
       "<p>1781 rows × 6 columns</p>\n",
       "</div>"
      ],
      "text/plain": [
       "                        repo                                    commit  \\\n",
       "user                                                                     \n",
       "ponsonio              RxJava  0531b8bff5c14d9504beefb4ad47f473e3a22932   \n",
       "ponsonio              RxJava  0950c46beda335819928585f1262dfe1dca78a0b   \n",
       "ponsonio              RxJava  0f92fdd8e6422d5b79c610a7fd8409d222315a49   \n",
       "ponsonio              RxJava  100f571c9a2835d5a30a55374b9be74c147e031f   \n",
       "ponsonio              RxJava  191f023cf5253ea90647bc091dcaf55ccdce81cc   \n",
       "...                      ...                                       ...   \n",
       "jenkinsci   clearcase-plugin  51e9da224f80254476a7dc446bca817b505381d8   \n",
       "jexp            batch-import  609d6c4b1eea2c33d9fb950fcbb9ba9dc1f80fc3   \n",
       "hdiv                    hdiv  19b650c78a1c76f4fd90274d7f163f863c0d39e4   \n",
       "casidiablo       persistence  d7bf95159df37a3d338ca267dddd3d26b38ec37c   \n",
       "jhy                    jsoup  d6fd1637307f6b088eb226c3f979085725530f32   \n",
       "\n",
       "                labels                                               msgs  \\\n",
       "user                                                                        \n",
       "ponsonio    Perfective              Change hasException to hasThrowable--   \n",
       "ponsonio      Adaptive  Trying to extend the Scheduler interface accor...   \n",
       "ponsonio      Adaptive   RunAsync method for outputting multiple values--   \n",
       "ponsonio    Corrective  forEach with Action1 but not Observer--I re-re...   \n",
       "ponsonio    Corrective  1.x: Fix Completable swallows- OnErrorNotImple...   \n",
       "...                ...                                                ...   \n",
       "jenkinsci   Perfective  Use a temporary file to decrease memory consum...   \n",
       "jexp        Perfective  added a more memory efficient structure for st...   \n",
       "hdiv        Perfective               Memory and performance optimizations   \n",
       "casidiablo  Perfective  Now it is possible to specify the sqlite open ...   \n",
       "jhy         Perfective            Performance improvment for Element.text   \n",
       "\n",
       "                                                        diffs  \\\n",
       "user                                                            \n",
       "ponsonio    diff --git a/rxjava-core/src/main/java/rx/Noti...   \n",
       "ponsonio    diff --git a/rxjava-core/src/main/java/rx/Sche...   \n",
       "ponsonio    diff --git a/rxjava-contrib/rxjava-async-util/...   \n",
       "ponsonio    diff --git a/language-adaptors/rxjava-groovy/s...   \n",
       "ponsonio    diff --git a/src/main/java/rx/Completable.java...   \n",
       "...                                                       ...   \n",
       "jenkinsci   diff --git a/src/main/java/hudson/plugins/clea...   \n",
       "jexp        diff --git a/src/main/java/org/neo4j/batchimpo...   \n",
       "hdiv        diff --git a/hdiv-config/src/main/java/org/hdi...   \n",
       "casidiablo  diff --git a/pom.xml b/pom.xml\\nindex 394263b....   \n",
       "jhy         diff --git a/src/main/java/org/jsoup/helper/St...   \n",
       "\n",
       "                                                      feature  \n",
       "user                                                           \n",
       "ponsonio    [1, 0, 0, 4, 0, 0, 0, 0, 0, 0, 0, 0, 0, 0, 0, ...  \n",
       "ponsonio    [2, 44, 0, 0, 30, 0, 0, 1, 18, 0, 0, 0, 0, 0, ...  \n",
       "ponsonio    [2, 53, 0, 0, 42, 0, 0, 1, 45, 1, 0, 0, 0, 0, ...  \n",
       "ponsonio    [1, 5, 122, 9, 10, 9, 4, 1, 5, 18, 2, 0, 0, 0,...  \n",
       "ponsonio    [1, 1, 0, 0, 0, 0, 0, 1, 21, 0, 0, 0, 0, 0, 0,...  \n",
       "...                                                       ...  \n",
       "jenkinsci   [2, 12, 0, 4, 1, 0, 1, 0, 0, 0, 0, 0, 0, 0, 0,...  \n",
       "jexp        [10, 159, 29, 35, 9, 2, 1, 5, 106, 0, 4, 8, 0,...  \n",
       "hdiv        [31, 302, 131, 140, 170, 89, 53, 7, 88, 14, 17...  \n",
       "casidiablo  [5, 57, 20, 9, 21, 0, 0, 0, 0, 0, 0, 0, 0, 0, ...  \n",
       "jhy         [3, 11, 11, 9, 13, 0, 0, 1, 0, 8, 0, 0, 1, 0, ...  \n",
       "\n",
       "[1781 rows x 6 columns]"
      ]
     },
     "execution_count": 8,
     "metadata": {},
     "output_type": "execute_result"
    }
   ],
   "source": [
    "df = pd.read_csv(r'/root/autodl-tmp/CommitFit/dataset/Ghadhab/dataset.csv', index_col=0, encoding='utf_8_sig')\n",
    "df.fillna('', inplace=True)\n",
    "label2id={'C':0, 'A':1, 'P':2}\n",
    "df = df.rename(columns={'labels':'label','msgs':'text','commit_diff':'diffs'})\n",
    "df = df.replace({\"label\": label2id})\n",
    "# # print(df)\n",
    "df\n",
    "# test_sample = df.sample(n=3, random_state=1)"
   ]
  },
  {
   "cell_type": "code",
   "execution_count": 9,
   "id": "26803da1-da52-48a7-8040-70914c05f2ea",
   "metadata": {
    "execution": {
     "iopub.execute_input": "2025-08-29T11:04:00.637905Z",
     "iopub.status.busy": "2025-08-29T11:04:00.637694Z",
     "iopub.status.idle": "2025-08-29T11:04:00.643144Z",
     "shell.execute_reply": "2025-08-29T11:04:00.642549Z",
     "shell.execute_reply.started": "2025-08-29T11:04:00.637880Z"
    }
   },
   "outputs": [],
   "source": [
    "train, temp_df = train_test_split(df, test_size=0.3, random_state=42)\n",
    "val, test = train_test_split(temp_df, test_size=0.5, random_state=42)"
   ]
  },
  {
   "cell_type": "code",
   "execution_count": 10,
   "id": "d705bd52-552a-464a-b018-a6db863b444a",
   "metadata": {
    "execution": {
     "iopub.execute_input": "2025-08-29T11:04:01.232717Z",
     "iopub.status.busy": "2025-08-29T11:04:01.232367Z",
     "iopub.status.idle": "2025-08-29T11:04:01.240906Z",
     "shell.execute_reply": "2025-08-29T11:04:01.240280Z",
     "shell.execute_reply.started": "2025-08-29T11:04:01.232684Z"
    }
   },
   "outputs": [
    {
     "name": "stderr",
     "output_type": "stream",
     "text": [
      "/tmp/ipykernel_2058/381504239.py:1: DeprecationWarning: DataFrameGroupBy.apply operated on the grouping columns. This behavior is deprecated, and in a future version of pandas the grouping columns will be excluded from the operation. Either pass `include_groups=False` to exclude the groupings or explicitly select the grouping columns after groupby to silence this warning.\n",
      "  train = train.groupby(\"labels\", group_keys=False).apply(lambda x: x.sample(n=20, random_state=42))\n"
     ]
    }
   ],
   "source": [
    "train = train.groupby(\"label\", group_keys=False).apply(lambda x: x.sample(n=20, random_state=42))"
   ]
  },
  {
   "cell_type": "code",
   "execution_count": 11,
   "id": "b9faed6f-6788-4505-960f-b2b37be4e85c",
   "metadata": {
    "execution": {
     "iopub.execute_input": "2025-08-29T11:04:02.278236Z",
     "iopub.status.busy": "2025-08-29T11:04:02.277886Z",
     "iopub.status.idle": "2025-08-29T11:04:02.320600Z",
     "shell.execute_reply": "2025-08-29T11:04:02.319811Z",
     "shell.execute_reply.started": "2025-08-29T11:04:02.278204Z"
    }
   },
   "outputs": [],
   "source": [
    "# train.to_csv('/root/autodl-tmp/CommitFit/dataset/Ghadhab/20_train.csv')\n",
    "# test.to_csv('/root/autodl-tmp/CommitFit/dataset/Ghadhab/test.csv')\n",
    "# val.to_csv('/root/autodl-tmp/CommitFit/dataset/Ghadhab/val.csv')\n",
    "\n",
    "# train.to_csv('/root/autodl-tmp/COLARE-main/dataset/Ghadhab/20_train.csv')\n",
    "# test.to_csv('/root/autodl-tmp/COLARE-main/dataset/Ghadhab/test.csv')\n",
    "# val.to_csv('/root/autodl-tmp/COLARE-main/dataset/Ghadhab/val.csv')"
   ]
  },
  {
   "cell_type": "code",
   "execution_count": 6,
   "id": "2e214dbb-075e-4fbf-adc9-f3533801587e",
   "metadata": {
    "execution": {
     "iopub.execute_input": "2025-08-29T02:39:11.009285Z",
     "iopub.status.busy": "2025-08-29T02:39:11.009104Z",
     "iopub.status.idle": "2025-08-29T02:39:11.087729Z",
     "shell.execute_reply": "2025-08-29T02:39:11.086824Z",
     "shell.execute_reply.started": "2025-08-29T02:39:11.009266Z"
    }
   },
   "outputs": [],
   "source": [
    "Dataset_train = Dataset.from_pandas(train)\n",
    "test_dataset = Dataset.from_pandas(test)"
   ]
  },
  {
   "cell_type": "code",
   "execution_count": 7,
   "id": "1a8ec7ec-1112-4140-8ccd-516ba9a1b1a8",
   "metadata": {
    "execution": {
     "iopub.execute_input": "2025-08-29T02:39:11.090302Z",
     "iopub.status.busy": "2025-08-29T02:39:11.090083Z",
     "iopub.status.idle": "2025-08-29T02:39:11.157407Z",
     "shell.execute_reply": "2025-08-29T02:39:11.156506Z",
     "shell.execute_reply.started": "2025-08-29T02:39:11.090281Z"
    }
   },
   "outputs": [],
   "source": [
    "train_dataset = get_templated_dataset(Dataset_train, candidate_labels=['Corrective','Adaptive','Perfective'], sample_size=8)"
   ]
  },
  {
   "cell_type": "code",
   "execution_count": 8,
   "id": "6af4102b-39bc-4b20-ab32-43800fb572bf",
   "metadata": {
    "execution": {
     "iopub.execute_input": "2025-08-29T02:39:11.158587Z",
     "iopub.status.busy": "2025-08-29T02:39:11.158372Z",
     "iopub.status.idle": "2025-08-29T02:39:11.162857Z",
     "shell.execute_reply": "2025-08-29T02:39:11.162053Z",
     "shell.execute_reply.started": "2025-08-29T02:39:11.158566Z"
    }
   },
   "outputs": [],
   "source": [
    "train_code_change = list(train['diffs'].astype(str))\n",
    "test_code_change = list(test['diffs'].astype(str))"
   ]
  },
  {
   "cell_type": "code",
   "execution_count": 9,
   "id": "c5ea76cd-69e5-4aa8-bf49-c9e746b63bbb",
   "metadata": {
    "execution": {
     "iopub.execute_input": "2025-08-29T02:39:11.164257Z",
     "iopub.status.busy": "2025-08-29T02:39:11.163755Z",
     "iopub.status.idle": "2025-08-29T02:39:11.168804Z",
     "shell.execute_reply": "2025-08-29T02:39:11.168037Z",
     "shell.execute_reply.started": "2025-08-29T02:39:11.164235Z"
    }
   },
   "outputs": [
    {
     "data": {
      "text/plain": [
       "Dataset({\n",
       "    features: ['repo', 'commit', 'label', 'text', 'diffs', 'feature', 'user'],\n",
       "    num_rows: 69\n",
       "})"
      ]
     },
     "execution_count": 9,
     "metadata": {},
     "output_type": "execute_result"
    }
   ],
   "source": [
    "# list(train['message'].astype(str).values)\n",
    "train_dataset"
   ]
  },
  {
   "cell_type": "code",
   "execution_count": 10,
   "id": "ee30affe-0ec9-46a3-bcaa-a1bd9422c939",
   "metadata": {
    "execution": {
     "iopub.execute_input": "2025-08-29T02:39:11.169844Z",
     "iopub.status.busy": "2025-08-29T02:39:11.169644Z",
     "iopub.status.idle": "2025-08-29T02:39:11.174711Z",
     "shell.execute_reply": "2025-08-29T02:39:11.173926Z",
     "shell.execute_reply.started": "2025-08-29T02:39:11.169825Z"
    }
   },
   "outputs": [
    {
     "data": {
      "text/plain": [
       "45"
      ]
     },
     "execution_count": 10,
     "metadata": {},
     "output_type": "execute_result"
    }
   ],
   "source": [
    "len(train)"
   ]
  },
  {
   "cell_type": "code",
   "execution_count": 11,
   "id": "84e38639-cf4b-4762-a1dc-cdc983938388",
   "metadata": {
    "execution": {
     "iopub.execute_input": "2025-08-29T02:39:11.175758Z",
     "iopub.status.busy": "2025-08-29T02:39:11.175573Z",
     "iopub.status.idle": "2025-08-29T02:39:11.182258Z",
     "shell.execute_reply": "2025-08-29T02:39:11.181486Z",
     "shell.execute_reply.started": "2025-08-29T02:39:11.175738Z"
    }
   },
   "outputs": [
    {
     "data": {
      "text/plain": [
       "label\n",
       "Adaptive      15\n",
       "Corrective    15\n",
       "Perfective    15\n",
       "Name: count, dtype: int64"
      ]
     },
     "execution_count": 11,
     "metadata": {},
     "output_type": "execute_result"
    }
   ],
   "source": [
    "train['label'].value_counts()"
   ]
  },
  {
   "cell_type": "code",
   "execution_count": 12,
   "id": "3cf6c110-616d-45da-aa2e-4a5add26b3c0",
   "metadata": {
    "execution": {
     "iopub.execute_input": "2025-08-29T02:39:11.183543Z",
     "iopub.status.busy": "2025-08-29T02:39:11.183136Z",
     "iopub.status.idle": "2025-08-29T02:39:11.189373Z",
     "shell.execute_reply": "2025-08-29T02:39:11.188581Z",
     "shell.execute_reply.started": "2025-08-29T02:39:11.183520Z"
    }
   },
   "outputs": [
    {
     "data": {
      "text/plain": [
       "label\n",
       "Perfective    100\n",
       "Corrective     89\n",
       "Adaptive       79\n",
       "Name: count, dtype: int64"
      ]
     },
     "execution_count": 12,
     "metadata": {},
     "output_type": "execute_result"
    }
   ],
   "source": [
    "test['label'].value_counts()"
   ]
  },
  {
   "cell_type": "code",
   "execution_count": 13,
   "id": "77117d87-5292-48f5-b077-74b47ccfd5eb",
   "metadata": {
    "execution": {
     "iopub.execute_input": "2025-08-29T02:39:11.190419Z",
     "iopub.status.busy": "2025-08-29T02:39:11.190232Z",
     "iopub.status.idle": "2025-08-29T02:39:11.195235Z",
     "shell.execute_reply": "2025-08-29T02:39:11.194468Z",
     "shell.execute_reply.started": "2025-08-29T02:39:11.190400Z"
    }
   },
   "outputs": [
    {
     "data": {
      "text/plain": [
       "69"
      ]
     },
     "execution_count": 13,
     "metadata": {},
     "output_type": "execute_result"
    }
   ],
   "source": [
    "len(train_dataset)"
   ]
  },
  {
   "cell_type": "code",
   "execution_count": 14,
   "id": "dca6275a-a567-4963-831c-8dd653341162",
   "metadata": {
    "execution": {
     "iopub.execute_input": "2025-08-29T02:39:11.196289Z",
     "iopub.status.busy": "2025-08-29T02:39:11.196100Z",
     "iopub.status.idle": "2025-08-29T02:39:11.201888Z",
     "shell.execute_reply": "2025-08-29T02:39:11.201075Z",
     "shell.execute_reply.started": "2025-08-29T02:39:11.196270Z"
    }
   },
   "outputs": [],
   "source": [
    "from sklearn import  metrics\n",
    "\n",
    "def compute_metrics(y_pred, y_test):\n",
    "    # print(y_pred,y_test)\n",
    "    # classification_report = metrics.classification_report(y_test,y_pred)\n",
    "    accuracy_score = metrics.accuracy_score(y_test,y_pred)\n",
    "    precision_score = metrics.precision_score(y_test,y_pred, average='macro')\n",
    "    recall_score = metrics.recall_score(y_test,y_pred,average='macro')\n",
    "    f1_score = metrics.f1_score(y_test,y_pred,average='macro')\n",
    "    \n",
    "    # 混淆矩阵\n",
    "    cm = metrics.confusion_matrix(y_test, y_pred)\n",
    "    print(\"Confusion Matrix:\\n\", cm)\n",
    "    print(metrics.classification_report(y_test, y_pred, digits=4))\n",
    "    # return {\"classification_report\": classification_report}\n",
    "    return {\"classification_report\":metrics.classification_report(y_test, y_pred, digits=4),\"Confusion Matrix\":cm,\"precision\": round(precision_score, 4),\"recall\": round(recall_score, 4), \"f1\":round(f1_score, 4), \"accuracy\": round(accuracy_score, 4)}"
   ]
  },
  {
   "cell_type": "code",
   "execution_count": 15,
   "id": "d9ede869-1587-4e42-8879-e819e5961dca",
   "metadata": {
    "execution": {
     "iopub.execute_input": "2025-08-29T02:39:11.202929Z",
     "iopub.status.busy": "2025-08-29T02:39:11.202743Z",
     "iopub.status.idle": "2025-08-29T02:39:11.206279Z",
     "shell.execute_reply": "2025-08-29T02:39:11.205555Z",
     "shell.execute_reply.started": "2025-08-29T02:39:11.202909Z"
    }
   },
   "outputs": [],
   "source": [
    "model_id = \"../../sentence-transformers/paraphrase-mpnet-base-v2\""
   ]
  },
  {
   "cell_type": "code",
   "execution_count": 16,
   "id": "a6501389-0c86-442d-85cf-f04ad146703f",
   "metadata": {
    "execution": {
     "iopub.execute_input": "2025-08-29T02:39:11.207300Z",
     "iopub.status.busy": "2025-08-29T02:39:11.207117Z",
     "iopub.status.idle": "2025-08-29T02:39:11.212438Z",
     "shell.execute_reply": "2025-08-29T02:39:11.211642Z",
     "shell.execute_reply.started": "2025-08-29T02:39:11.207282Z"
    }
   },
   "outputs": [],
   "source": [
    "def hp_space(trial: Trial) -> Dict[str, Union[float, int, str]]:\n",
    "    return {\n",
    "        \"learning_rate\": trial.suggest_float(\"learning_rate\", 1e-6, 1e-3, log=True),\n",
    "        # \"num_epochs\": trial.suggest_int(\"num_epochs\", 1, 3),\n",
    "        # \"batch_size\": trial.suggest_categorical(\"batch_size\", [8, 12, 16]),\n",
    "        # \"seed\": trial.suggest_int(\"seed\", 1, 40),\n",
    "        # \"num_iterations\": trial.suggest_int(\"num_iterations\", 10, 20),\n",
    "        # \"solver\": trial.suggest_categorical(\"solver\", [\"newton-cg\", \"lbfgs\", \"liblinear\"]),\n",
    "    }\n",
    "def model_init(params: Dict[str, Any]) -> CommitFitModel:\n",
    "    params = params or {}\n",
    "    # learning_rate = params.get(\"learning_rate\")\n",
    "    # num_iterations = params.get(\"num_iterations\", 20)\n",
    "    # solver = params.get(\"solver\", \"liblinear\")\n",
    "    # params = {\n",
    "    #     \"head_params\": {\n",
    "    #         # \"max_iter\": num_iterations,\n",
    "    #         # \"solver\": solver,\n",
    "    #     }\n",
    "    # }\n",
    "    return CommitFitModel.from_pretrained(model_id, **params)\n",
    "def my_compute_objective(metrics):\n",
    "    print('+++++++++++',metrics)\n",
    "    return  metrics['accuracy']"
   ]
  },
  {
   "cell_type": "code",
   "execution_count": 17,
   "id": "2244f079-c2b8-4e01-aca4-f68e7ce8accb",
   "metadata": {
    "execution": {
     "iopub.execute_input": "2025-08-29T02:39:11.213479Z",
     "iopub.status.busy": "2025-08-29T02:39:11.213287Z",
     "iopub.status.idle": "2025-08-29T02:43:34.697606Z",
     "shell.execute_reply": "2025-08-29T02:43:34.696872Z",
     "shell.execute_reply.started": "2025-08-29T02:39:11.213459Z"
    }
   },
   "outputs": [
    {
     "name": "stderr",
     "output_type": "stream",
     "text": [
      "model_head.pkl not found in /root/autodl-tmp/CommitFit/sentence-transformers/paraphrase-mpnet-base-v2, initialising classification head with random weights. You should TRAIN this model on a downstream task to use it for predictions and inference.\n",
      "[I 2025-08-29 10:39:12,587] A new study created in memory with name: no-name-fbef4b1e-22bf-4f7e-8ef5-419b9566e296\n",
      "Trial: {'learning_rate': 0.0003373707096270956}\n",
      "model_head.pkl not found in /root/autodl-tmp/CommitFit/sentence-transformers/paraphrase-mpnet-base-v2, initialising classification head with random weights. You should TRAIN this model on a downstream task to use it for predictions and inference.\n"
     ]
    },
    {
     "data": {
      "application/vnd.jupyter.widget-view+json": {
       "model_id": "77444503f8fe48c7b9482dccea0f4310",
       "version_major": 2,
       "version_minor": 0
      },
      "text/plain": [
       "Generating Training Pairs:   0%|          | 0/20 [00:00<?, ?it/s]"
      ]
     },
     "metadata": {},
     "output_type": "display_data"
    },
    {
     "name": "stderr",
     "output_type": "stream",
     "text": [
      "***** Running training *****\n",
      "  Num examples = 2760\n",
      "  Num epochs = 1\n",
      "  Total optimization steps = 173\n",
      "  Total train batch size = 16\n"
     ]
    },
    {
     "data": {
      "application/vnd.jupyter.widget-view+json": {
       "model_id": "aedf037c576541418f765db84f97a676",
       "version_major": 2,
       "version_minor": 0
      },
      "text/plain": [
       "Epoch:   0%|          | 0/1 [00:00<?, ?it/s]"
      ]
     },
     "metadata": {},
     "output_type": "display_data"
    },
    {
     "data": {
      "application/vnd.jupyter.widget-view+json": {
       "model_id": "92a31d3f142548d089b2609f8b050a23",
       "version_major": 2,
       "version_minor": 0
      },
      "text/plain": [
       "Iteration:   0%|          | 0/173 [00:00<?, ?it/s]"
      ]
     },
     "metadata": {},
     "output_type": "display_data"
    },
    {
     "name": "stderr",
     "output_type": "stream",
     "text": [
      "***** Running evaluation *****\n",
      "/root/miniconda3/lib/python3.10/site-packages/sklearn/metrics/_classification.py:1531: UndefinedMetricWarning: Precision is ill-defined and being set to 0.0 in labels with no predicted samples. Use `zero_division` parameter to control this behavior.\n",
      "  _warn_prf(average, modifier, f\"{metric.capitalize()} is\", len(result))\n",
      "/root/miniconda3/lib/python3.10/site-packages/sklearn/metrics/_classification.py:1531: UndefinedMetricWarning: Recall is ill-defined and being set to 0.0 in labels with no true samples. Use `zero_division` parameter to control this behavior.\n",
      "  _warn_prf(average, modifier, f\"{metric.capitalize()} is\", len(result))\n",
      "/root/miniconda3/lib/python3.10/site-packages/sklearn/metrics/_classification.py:1531: UndefinedMetricWarning: Precision is ill-defined and being set to 0.0 in labels with no predicted samples. Use `zero_division` parameter to control this behavior.\n",
      "  _warn_prf(average, modifier, f\"{metric.capitalize()} is\", len(result))\n",
      "/root/miniconda3/lib/python3.10/site-packages/sklearn/metrics/_classification.py:1531: UndefinedMetricWarning: Recall is ill-defined and being set to 0.0 in labels with no true samples. Use `zero_division` parameter to control this behavior.\n",
      "  _warn_prf(average, modifier, f\"{metric.capitalize()} is\", len(result))\n",
      "/root/miniconda3/lib/python3.10/site-packages/sklearn/metrics/_classification.py:1531: UndefinedMetricWarning: Precision is ill-defined and being set to 0.0 in labels with no predicted samples. Use `zero_division` parameter to control this behavior.\n",
      "  _warn_prf(average, modifier, f\"{metric.capitalize()} is\", len(result))\n",
      "/root/miniconda3/lib/python3.10/site-packages/sklearn/metrics/_classification.py:1531: UndefinedMetricWarning: Recall is ill-defined and being set to 0.0 in labels with no true samples. Use `zero_division` parameter to control this behavior.\n",
      "  _warn_prf(average, modifier, f\"{metric.capitalize()} is\", len(result))\n",
      "/root/miniconda3/lib/python3.10/site-packages/sklearn/metrics/_classification.py:1531: UndefinedMetricWarning: Precision is ill-defined and being set to 0.0 in labels with no predicted samples. Use `zero_division` parameter to control this behavior.\n",
      "  _warn_prf(average, modifier, f\"{metric.capitalize()} is\", len(result))\n",
      "/root/miniconda3/lib/python3.10/site-packages/sklearn/metrics/_classification.py:1531: UndefinedMetricWarning: Recall is ill-defined and being set to 0.0 in labels with no true samples. Use `zero_division` parameter to control this behavior.\n",
      "  _warn_prf(average, modifier, f\"{metric.capitalize()} is\", len(result))\n",
      "/root/miniconda3/lib/python3.10/site-packages/sklearn/metrics/_classification.py:1531: UndefinedMetricWarning: Precision is ill-defined and being set to 0.0 in labels with no predicted samples. Use `zero_division` parameter to control this behavior.\n",
      "  _warn_prf(average, modifier, f\"{metric.capitalize()} is\", len(result))\n",
      "/root/miniconda3/lib/python3.10/site-packages/sklearn/metrics/_classification.py:1531: UndefinedMetricWarning: Recall is ill-defined and being set to 0.0 in labels with no true samples. Use `zero_division` parameter to control this behavior.\n",
      "  _warn_prf(average, modifier, f\"{metric.capitalize()} is\", len(result))\n",
      "/root/miniconda3/lib/python3.10/site-packages/sklearn/metrics/_classification.py:1531: UndefinedMetricWarning: Precision is ill-defined and being set to 0.0 in labels with no predicted samples. Use `zero_division` parameter to control this behavior.\n",
      "  _warn_prf(average, modifier, f\"{metric.capitalize()} is\", len(result))\n",
      "/root/miniconda3/lib/python3.10/site-packages/sklearn/metrics/_classification.py:1531: UndefinedMetricWarning: Recall is ill-defined and being set to 0.0 in labels with no true samples. Use `zero_division` parameter to control this behavior.\n",
      "  _warn_prf(average, modifier, f\"{metric.capitalize()} is\", len(result))\n",
      "/root/miniconda3/lib/python3.10/site-packages/sklearn/metrics/_classification.py:1531: UndefinedMetricWarning: Precision is ill-defined and being set to 0.0 in labels with no predicted samples. Use `zero_division` parameter to control this behavior.\n",
      "  _warn_prf(average, modifier, f\"{metric.capitalize()} is\", len(result))\n",
      "/root/miniconda3/lib/python3.10/site-packages/sklearn/metrics/_classification.py:1531: UndefinedMetricWarning: Recall is ill-defined and being set to 0.0 in labels with no true samples. Use `zero_division` parameter to control this behavior.\n",
      "  _warn_prf(average, modifier, f\"{metric.capitalize()} is\", len(result))\n",
      "[I 2025-08-29 10:39:40,050] Trial 0 finished with value: 0.4328 and parameters: {'learning_rate': 0.0003373707096270956}. Best is trial 0 with value: 0.4328.\n",
      "Trial: {'learning_rate': 4.564486444140002e-05}\n"
     ]
    },
    {
     "name": "stdout",
     "output_type": "stream",
     "text": [
      "Confusion Matrix:\n",
      " [[ 0  0  0  0]\n",
      " [ 2  0 28 49]\n",
      " [ 0  0 59 30]\n",
      " [ 0  0 43 57]]\n",
      "              precision    recall  f1-score   support\n",
      "\n",
      "           2     0.0000    0.0000    0.0000         0\n",
      "    Adaptive     0.0000    0.0000    0.0000        79\n",
      "  Corrective     0.4538    0.6629    0.5388        89\n",
      "  Perfective     0.4191    0.5700    0.4831       100\n",
      "\n",
      "    accuracy                         0.4328       268\n",
      "   macro avg     0.2182    0.3082    0.2555       268\n",
      "weighted avg     0.3071    0.4328    0.3592       268\n",
      "\n",
      "+++++++++++ {'classification_report': '              precision    recall  f1-score   support\\n\\n           2     0.0000    0.0000    0.0000         0\\n    Adaptive     0.0000    0.0000    0.0000        79\\n  Corrective     0.4538    0.6629    0.5388        89\\n  Perfective     0.4191    0.5700    0.4831       100\\n\\n    accuracy                         0.4328       268\\n   macro avg     0.2182    0.3082    0.2555       268\\nweighted avg     0.3071    0.4328    0.3592       268\\n', 'Confusion Matrix': array([[ 0,  0,  0,  0],\n",
      "       [ 2,  0, 28, 49],\n",
      "       [ 0,  0, 59, 30],\n",
      "       [ 0,  0, 43, 57]]), 'precision': 0.2182, 'recall': 0.3082, 'f1': 0.2555, 'accuracy': 0.4328}\n"
     ]
    },
    {
     "name": "stderr",
     "output_type": "stream",
     "text": [
      "model_head.pkl not found in /root/autodl-tmp/CommitFit/sentence-transformers/paraphrase-mpnet-base-v2, initialising classification head with random weights. You should TRAIN this model on a downstream task to use it for predictions and inference.\n"
     ]
    },
    {
     "data": {
      "application/vnd.jupyter.widget-view+json": {
       "model_id": "0e220deed8aa4608ad520c84622e51a0",
       "version_major": 2,
       "version_minor": 0
      },
      "text/plain": [
       "Generating Training Pairs:   0%|          | 0/20 [00:00<?, ?it/s]"
      ]
     },
     "metadata": {},
     "output_type": "display_data"
    },
    {
     "name": "stderr",
     "output_type": "stream",
     "text": [
      "***** Running training *****\n",
      "  Num examples = 2760\n",
      "  Num epochs = 1\n",
      "  Total optimization steps = 173\n",
      "  Total train batch size = 16\n"
     ]
    },
    {
     "data": {
      "application/vnd.jupyter.widget-view+json": {
       "model_id": "ac9c11ddab46445fae03bac8fe81f27b",
       "version_major": 2,
       "version_minor": 0
      },
      "text/plain": [
       "Epoch:   0%|          | 0/1 [00:00<?, ?it/s]"
      ]
     },
     "metadata": {},
     "output_type": "display_data"
    },
    {
     "data": {
      "application/vnd.jupyter.widget-view+json": {
       "model_id": "8cbb611c35bd428b9c2f0966ab99a4e2",
       "version_major": 2,
       "version_minor": 0
      },
      "text/plain": [
       "Iteration:   0%|          | 0/173 [00:00<?, ?it/s]"
      ]
     },
     "metadata": {},
     "output_type": "display_data"
    },
    {
     "name": "stderr",
     "output_type": "stream",
     "text": [
      "***** Running evaluation *****\n",
      "[I 2025-08-29 10:40:06,252] Trial 1 finished with value: 0.6866 and parameters: {'learning_rate': 4.564486444140002e-05}. Best is trial 1 with value: 0.6866.\n",
      "Trial: {'learning_rate': 0.0009814164291362952}\n"
     ]
    },
    {
     "name": "stdout",
     "output_type": "stream",
     "text": [
      "Confusion Matrix:\n",
      " [[59  5 15]\n",
      " [12 76  1]\n",
      " [29 22 49]]\n",
      "              precision    recall  f1-score   support\n",
      "\n",
      "    Adaptive     0.5900    0.7468    0.6592        79\n",
      "  Corrective     0.7379    0.8539    0.7917        89\n",
      "  Perfective     0.7538    0.4900    0.5939       100\n",
      "\n",
      "    accuracy                         0.6866       268\n",
      "   macro avg     0.6939    0.6969    0.6816       268\n",
      "weighted avg     0.7002    0.6866    0.6788       268\n",
      "\n",
      "+++++++++++ {'classification_report': '              precision    recall  f1-score   support\\n\\n    Adaptive     0.5900    0.7468    0.6592        79\\n  Corrective     0.7379    0.8539    0.7917        89\\n  Perfective     0.7538    0.4900    0.5939       100\\n\\n    accuracy                         0.6866       268\\n   macro avg     0.6939    0.6969    0.6816       268\\nweighted avg     0.7002    0.6866    0.6788       268\\n', 'Confusion Matrix': array([[59,  5, 15],\n",
      "       [12, 76,  1],\n",
      "       [29, 22, 49]]), 'precision': 0.6939, 'recall': 0.6969, 'f1': 0.6816, 'accuracy': 0.6866}\n"
     ]
    },
    {
     "name": "stderr",
     "output_type": "stream",
     "text": [
      "model_head.pkl not found in /root/autodl-tmp/CommitFit/sentence-transformers/paraphrase-mpnet-base-v2, initialising classification head with random weights. You should TRAIN this model on a downstream task to use it for predictions and inference.\n"
     ]
    },
    {
     "data": {
      "application/vnd.jupyter.widget-view+json": {
       "model_id": "b88319f59db349cbb326f95039247d01",
       "version_major": 2,
       "version_minor": 0
      },
      "text/plain": [
       "Generating Training Pairs:   0%|          | 0/20 [00:00<?, ?it/s]"
      ]
     },
     "metadata": {},
     "output_type": "display_data"
    },
    {
     "name": "stderr",
     "output_type": "stream",
     "text": [
      "***** Running training *****\n",
      "  Num examples = 2760\n",
      "  Num epochs = 1\n",
      "  Total optimization steps = 173\n",
      "  Total train batch size = 16\n"
     ]
    },
    {
     "data": {
      "application/vnd.jupyter.widget-view+json": {
       "model_id": "8e9f3a4854764f76ba9d70d6cebd77ab",
       "version_major": 2,
       "version_minor": 0
      },
      "text/plain": [
       "Epoch:   0%|          | 0/1 [00:00<?, ?it/s]"
      ]
     },
     "metadata": {},
     "output_type": "display_data"
    },
    {
     "data": {
      "application/vnd.jupyter.widget-view+json": {
       "model_id": "e382425309df446ab85604635fd6a92a",
       "version_major": 2,
       "version_minor": 0
      },
      "text/plain": [
       "Iteration:   0%|          | 0/173 [00:00<?, ?it/s]"
      ]
     },
     "metadata": {},
     "output_type": "display_data"
    },
    {
     "name": "stderr",
     "output_type": "stream",
     "text": [
      "***** Running evaluation *****\n",
      "/root/miniconda3/lib/python3.10/site-packages/sklearn/metrics/_classification.py:1531: UndefinedMetricWarning: Precision is ill-defined and being set to 0.0 in labels with no predicted samples. Use `zero_division` parameter to control this behavior.\n",
      "  _warn_prf(average, modifier, f\"{metric.capitalize()} is\", len(result))\n",
      "/root/miniconda3/lib/python3.10/site-packages/sklearn/metrics/_classification.py:1531: UndefinedMetricWarning: Precision is ill-defined and being set to 0.0 in labels with no predicted samples. Use `zero_division` parameter to control this behavior.\n",
      "  _warn_prf(average, modifier, f\"{metric.capitalize()} is\", len(result))\n",
      "/root/miniconda3/lib/python3.10/site-packages/sklearn/metrics/_classification.py:1531: UndefinedMetricWarning: Precision is ill-defined and being set to 0.0 in labels with no predicted samples. Use `zero_division` parameter to control this behavior.\n",
      "  _warn_prf(average, modifier, f\"{metric.capitalize()} is\", len(result))\n",
      "/root/miniconda3/lib/python3.10/site-packages/sklearn/metrics/_classification.py:1531: UndefinedMetricWarning: Precision is ill-defined and being set to 0.0 in labels with no predicted samples. Use `zero_division` parameter to control this behavior.\n",
      "  _warn_prf(average, modifier, f\"{metric.capitalize()} is\", len(result))\n",
      "/root/miniconda3/lib/python3.10/site-packages/sklearn/metrics/_classification.py:1531: UndefinedMetricWarning: Precision is ill-defined and being set to 0.0 in labels with no predicted samples. Use `zero_division` parameter to control this behavior.\n",
      "  _warn_prf(average, modifier, f\"{metric.capitalize()} is\", len(result))\n",
      "/root/miniconda3/lib/python3.10/site-packages/sklearn/metrics/_classification.py:1531: UndefinedMetricWarning: Precision is ill-defined and being set to 0.0 in labels with no predicted samples. Use `zero_division` parameter to control this behavior.\n",
      "  _warn_prf(average, modifier, f\"{metric.capitalize()} is\", len(result))\n",
      "/root/miniconda3/lib/python3.10/site-packages/sklearn/metrics/_classification.py:1531: UndefinedMetricWarning: Precision is ill-defined and being set to 0.0 in labels with no predicted samples. Use `zero_division` parameter to control this behavior.\n",
      "  _warn_prf(average, modifier, f\"{metric.capitalize()} is\", len(result))\n",
      "[I 2025-08-29 10:40:32,472] Trial 2 finished with value: 0.2948 and parameters: {'learning_rate': 0.0009814164291362952}. Best is trial 1 with value: 0.6866.\n",
      "Trial: {'learning_rate': 1.031987018391511e-05}\n"
     ]
    },
    {
     "name": "stdout",
     "output_type": "stream",
     "text": [
      "Confusion Matrix:\n",
      " [[ 79   0   0]\n",
      " [ 89   0   0]\n",
      " [100   0   0]]\n",
      "              precision    recall  f1-score   support\n",
      "\n",
      "    Adaptive     0.2948    1.0000    0.4553        79\n",
      "  Corrective     0.0000    0.0000    0.0000        89\n",
      "  Perfective     0.0000    0.0000    0.0000       100\n",
      "\n",
      "    accuracy                         0.2948       268\n",
      "   macro avg     0.0983    0.3333    0.1518       268\n",
      "weighted avg     0.0869    0.2948    0.1342       268\n",
      "\n",
      "+++++++++++ {'classification_report': '              precision    recall  f1-score   support\\n\\n    Adaptive     0.2948    1.0000    0.4553        79\\n  Corrective     0.0000    0.0000    0.0000        89\\n  Perfective     0.0000    0.0000    0.0000       100\\n\\n    accuracy                         0.2948       268\\n   macro avg     0.0983    0.3333    0.1518       268\\nweighted avg     0.0869    0.2948    0.1342       268\\n', 'Confusion Matrix': array([[ 79,   0,   0],\n",
      "       [ 89,   0,   0],\n",
      "       [100,   0,   0]]), 'precision': 0.0983, 'recall': 0.3333, 'f1': 0.1518, 'accuracy': 0.2948}\n"
     ]
    },
    {
     "name": "stderr",
     "output_type": "stream",
     "text": [
      "model_head.pkl not found in /root/autodl-tmp/CommitFit/sentence-transformers/paraphrase-mpnet-base-v2, initialising classification head with random weights. You should TRAIN this model on a downstream task to use it for predictions and inference.\n"
     ]
    },
    {
     "data": {
      "application/vnd.jupyter.widget-view+json": {
       "model_id": "519ac0e5bcf14902850abfd845fbd49c",
       "version_major": 2,
       "version_minor": 0
      },
      "text/plain": [
       "Generating Training Pairs:   0%|          | 0/20 [00:00<?, ?it/s]"
      ]
     },
     "metadata": {},
     "output_type": "display_data"
    },
    {
     "name": "stderr",
     "output_type": "stream",
     "text": [
      "***** Running training *****\n",
      "  Num examples = 2760\n",
      "  Num epochs = 1\n",
      "  Total optimization steps = 173\n",
      "  Total train batch size = 16\n"
     ]
    },
    {
     "data": {
      "application/vnd.jupyter.widget-view+json": {
       "model_id": "c67dbffd7ed54f259c7548e8cf6752fd",
       "version_major": 2,
       "version_minor": 0
      },
      "text/plain": [
       "Epoch:   0%|          | 0/1 [00:00<?, ?it/s]"
      ]
     },
     "metadata": {},
     "output_type": "display_data"
    },
    {
     "data": {
      "application/vnd.jupyter.widget-view+json": {
       "model_id": "5772fd0a43b24c81b0e6707bad3e7449",
       "version_major": 2,
       "version_minor": 0
      },
      "text/plain": [
       "Iteration:   0%|          | 0/173 [00:00<?, ?it/s]"
      ]
     },
     "metadata": {},
     "output_type": "display_data"
    },
    {
     "name": "stderr",
     "output_type": "stream",
     "text": [
      "***** Running evaluation *****\n",
      "[I 2025-08-29 10:40:58,499] Trial 3 finished with value: 0.6791 and parameters: {'learning_rate': 1.031987018391511e-05}. Best is trial 1 with value: 0.6866.\n",
      "Trial: {'learning_rate': 4.3635127072260305e-05}\n"
     ]
    },
    {
     "name": "stdout",
     "output_type": "stream",
     "text": [
      "Confusion Matrix:\n",
      " [[57  9 13]\n",
      " [12 74  3]\n",
      " [35 14 51]]\n",
      "              precision    recall  f1-score   support\n",
      "\n",
      "    Adaptive     0.5481    0.7215    0.6230        79\n",
      "  Corrective     0.7629    0.8315    0.7957        89\n",
      "  Perfective     0.7612    0.5100    0.6108       100\n",
      "\n",
      "    accuracy                         0.6791       268\n",
      "   macro avg     0.6907    0.6877    0.6765       268\n",
      "weighted avg     0.6989    0.6791    0.6758       268\n",
      "\n",
      "+++++++++++ {'classification_report': '              precision    recall  f1-score   support\\n\\n    Adaptive     0.5481    0.7215    0.6230        79\\n  Corrective     0.7629    0.8315    0.7957        89\\n  Perfective     0.7612    0.5100    0.6108       100\\n\\n    accuracy                         0.6791       268\\n   macro avg     0.6907    0.6877    0.6765       268\\nweighted avg     0.6989    0.6791    0.6758       268\\n', 'Confusion Matrix': array([[57,  9, 13],\n",
      "       [12, 74,  3],\n",
      "       [35, 14, 51]]), 'precision': 0.6907, 'recall': 0.6877, 'f1': 0.6765, 'accuracy': 0.6791}\n"
     ]
    },
    {
     "name": "stderr",
     "output_type": "stream",
     "text": [
      "model_head.pkl not found in /root/autodl-tmp/CommitFit/sentence-transformers/paraphrase-mpnet-base-v2, initialising classification head with random weights. You should TRAIN this model on a downstream task to use it for predictions and inference.\n"
     ]
    },
    {
     "data": {
      "application/vnd.jupyter.widget-view+json": {
       "model_id": "4749f80bcec542e68c743dcc5a6eafeb",
       "version_major": 2,
       "version_minor": 0
      },
      "text/plain": [
       "Generating Training Pairs:   0%|          | 0/20 [00:00<?, ?it/s]"
      ]
     },
     "metadata": {},
     "output_type": "display_data"
    },
    {
     "name": "stderr",
     "output_type": "stream",
     "text": [
      "***** Running training *****\n",
      "  Num examples = 2760\n",
      "  Num epochs = 1\n",
      "  Total optimization steps = 173\n",
      "  Total train batch size = 16\n"
     ]
    },
    {
     "data": {
      "application/vnd.jupyter.widget-view+json": {
       "model_id": "6336168583ad402e8b940394dd0e62ec",
       "version_major": 2,
       "version_minor": 0
      },
      "text/plain": [
       "Epoch:   0%|          | 0/1 [00:00<?, ?it/s]"
      ]
     },
     "metadata": {},
     "output_type": "display_data"
    },
    {
     "data": {
      "application/vnd.jupyter.widget-view+json": {
       "model_id": "55b53c6ff4424824a6ebec3292b9e637",
       "version_major": 2,
       "version_minor": 0
      },
      "text/plain": [
       "Iteration:   0%|          | 0/173 [00:00<?, ?it/s]"
      ]
     },
     "metadata": {},
     "output_type": "display_data"
    },
    {
     "name": "stderr",
     "output_type": "stream",
     "text": [
      "***** Running evaluation *****\n",
      "[I 2025-08-29 10:41:24,546] Trial 4 finished with value: 0.6716 and parameters: {'learning_rate': 4.3635127072260305e-05}. Best is trial 1 with value: 0.6866.\n",
      "Trial: {'learning_rate': 0.00011480298818534962}\n"
     ]
    },
    {
     "name": "stdout",
     "output_type": "stream",
     "text": [
      "Confusion Matrix:\n",
      " [[59  7 13]\n",
      " [13 75  1]\n",
      " [32 22 46]]\n",
      "              precision    recall  f1-score   support\n",
      "\n",
      "    Adaptive     0.5673    0.7468    0.6448        79\n",
      "  Corrective     0.7212    0.8427    0.7772        89\n",
      "  Perfective     0.7667    0.4600    0.5750       100\n",
      "\n",
      "    accuracy                         0.6716       268\n",
      "   macro avg     0.6850    0.6832    0.6657       268\n",
      "weighted avg     0.6928    0.6716    0.6627       268\n",
      "\n",
      "+++++++++++ {'classification_report': '              precision    recall  f1-score   support\\n\\n    Adaptive     0.5673    0.7468    0.6448        79\\n  Corrective     0.7212    0.8427    0.7772        89\\n  Perfective     0.7667    0.4600    0.5750       100\\n\\n    accuracy                         0.6716       268\\n   macro avg     0.6850    0.6832    0.6657       268\\nweighted avg     0.6928    0.6716    0.6627       268\\n', 'Confusion Matrix': array([[59,  7, 13],\n",
      "       [13, 75,  1],\n",
      "       [32, 22, 46]]), 'precision': 0.685, 'recall': 0.6832, 'f1': 0.6657, 'accuracy': 0.6716}\n"
     ]
    },
    {
     "name": "stderr",
     "output_type": "stream",
     "text": [
      "model_head.pkl not found in /root/autodl-tmp/CommitFit/sentence-transformers/paraphrase-mpnet-base-v2, initialising classification head with random weights. You should TRAIN this model on a downstream task to use it for predictions and inference.\n"
     ]
    },
    {
     "data": {
      "application/vnd.jupyter.widget-view+json": {
       "model_id": "2945761613e64717a52c03630e7fdb16",
       "version_major": 2,
       "version_minor": 0
      },
      "text/plain": [
       "Generating Training Pairs:   0%|          | 0/20 [00:00<?, ?it/s]"
      ]
     },
     "metadata": {},
     "output_type": "display_data"
    },
    {
     "name": "stderr",
     "output_type": "stream",
     "text": [
      "***** Running training *****\n",
      "  Num examples = 2760\n",
      "  Num epochs = 1\n",
      "  Total optimization steps = 173\n",
      "  Total train batch size = 16\n"
     ]
    },
    {
     "data": {
      "application/vnd.jupyter.widget-view+json": {
       "model_id": "89dc4310a03c47efa75a30ca78c66b46",
       "version_major": 2,
       "version_minor": 0
      },
      "text/plain": [
       "Epoch:   0%|          | 0/1 [00:00<?, ?it/s]"
      ]
     },
     "metadata": {},
     "output_type": "display_data"
    },
    {
     "data": {
      "application/vnd.jupyter.widget-view+json": {
       "model_id": "01b790fda751449a9c2ad49a036026d9",
       "version_major": 2,
       "version_minor": 0
      },
      "text/plain": [
       "Iteration:   0%|          | 0/173 [00:00<?, ?it/s]"
      ]
     },
     "metadata": {},
     "output_type": "display_data"
    },
    {
     "name": "stderr",
     "output_type": "stream",
     "text": [
      "***** Running evaluation *****\n",
      "[I 2025-08-29 10:41:50,801] Trial 5 finished with value: 0.6007 and parameters: {'learning_rate': 0.00011480298818534962}. Best is trial 1 with value: 0.6866.\n",
      "Trial: {'learning_rate': 2.854696982739587e-06}\n"
     ]
    },
    {
     "name": "stdout",
     "output_type": "stream",
     "text": [
      "Confusion Matrix:\n",
      " [[46 20 13]\n",
      " [12 74  3]\n",
      " [17 42 41]]\n",
      "              precision    recall  f1-score   support\n",
      "\n",
      "    Adaptive     0.6133    0.5823    0.5974        79\n",
      "  Corrective     0.5441    0.8315    0.6578        89\n",
      "  Perfective     0.7193    0.4100    0.5223       100\n",
      "\n",
      "    accuracy                         0.6007       268\n",
      "   macro avg     0.6256    0.6079    0.5925       268\n",
      "weighted avg     0.6299    0.6007    0.5894       268\n",
      "\n",
      "+++++++++++ {'classification_report': '              precision    recall  f1-score   support\\n\\n    Adaptive     0.6133    0.5823    0.5974        79\\n  Corrective     0.5441    0.8315    0.6578        89\\n  Perfective     0.7193    0.4100    0.5223       100\\n\\n    accuracy                         0.6007       268\\n   macro avg     0.6256    0.6079    0.5925       268\\nweighted avg     0.6299    0.6007    0.5894       268\\n', 'Confusion Matrix': array([[46, 20, 13],\n",
      "       [12, 74,  3],\n",
      "       [17, 42, 41]]), 'precision': 0.6256, 'recall': 0.6079, 'f1': 0.5925, 'accuracy': 0.6007}\n"
     ]
    },
    {
     "name": "stderr",
     "output_type": "stream",
     "text": [
      "model_head.pkl not found in /root/autodl-tmp/CommitFit/sentence-transformers/paraphrase-mpnet-base-v2, initialising classification head with random weights. You should TRAIN this model on a downstream task to use it for predictions and inference.\n"
     ]
    },
    {
     "data": {
      "application/vnd.jupyter.widget-view+json": {
       "model_id": "1d8b89f437bc4d7a91c1446590522c8d",
       "version_major": 2,
       "version_minor": 0
      },
      "text/plain": [
       "Generating Training Pairs:   0%|          | 0/20 [00:00<?, ?it/s]"
      ]
     },
     "metadata": {},
     "output_type": "display_data"
    },
    {
     "name": "stderr",
     "output_type": "stream",
     "text": [
      "***** Running training *****\n",
      "  Num examples = 2760\n",
      "  Num epochs = 1\n",
      "  Total optimization steps = 173\n",
      "  Total train batch size = 16\n"
     ]
    },
    {
     "data": {
      "application/vnd.jupyter.widget-view+json": {
       "model_id": "5803b98e099f4a3b8b50f5eda6eb801a",
       "version_major": 2,
       "version_minor": 0
      },
      "text/plain": [
       "Epoch:   0%|          | 0/1 [00:00<?, ?it/s]"
      ]
     },
     "metadata": {},
     "output_type": "display_data"
    },
    {
     "data": {
      "application/vnd.jupyter.widget-view+json": {
       "model_id": "b54c4d859ee4403b9f3436a4b960a530",
       "version_major": 2,
       "version_minor": 0
      },
      "text/plain": [
       "Iteration:   0%|          | 0/173 [00:00<?, ?it/s]"
      ]
     },
     "metadata": {},
     "output_type": "display_data"
    },
    {
     "name": "stderr",
     "output_type": "stream",
     "text": [
      "***** Running evaluation *****\n",
      "[I 2025-08-29 10:42:16,925] Trial 6 finished with value: 0.6381 and parameters: {'learning_rate': 2.854696982739587e-06}. Best is trial 1 with value: 0.6866.\n",
      "Trial: {'learning_rate': 0.0007569790536370507}\n"
     ]
    },
    {
     "name": "stdout",
     "output_type": "stream",
     "text": [
      "Confusion Matrix:\n",
      " [[46 17 16]\n",
      " [ 8 72  9]\n",
      " [29 18 53]]\n",
      "              precision    recall  f1-score   support\n",
      "\n",
      "    Adaptive     0.5542    0.5823    0.5679        79\n",
      "  Corrective     0.6729    0.8090    0.7347        89\n",
      "  Perfective     0.6795    0.5300    0.5955       100\n",
      "\n",
      "    accuracy                         0.6381       268\n",
      "   macro avg     0.6355    0.6404    0.6327       268\n",
      "weighted avg     0.6404    0.6381    0.6336       268\n",
      "\n",
      "+++++++++++ {'classification_report': '              precision    recall  f1-score   support\\n\\n    Adaptive     0.5542    0.5823    0.5679        79\\n  Corrective     0.6729    0.8090    0.7347        89\\n  Perfective     0.6795    0.5300    0.5955       100\\n\\n    accuracy                         0.6381       268\\n   macro avg     0.6355    0.6404    0.6327       268\\nweighted avg     0.6404    0.6381    0.6336       268\\n', 'Confusion Matrix': array([[46, 17, 16],\n",
      "       [ 8, 72,  9],\n",
      "       [29, 18, 53]]), 'precision': 0.6355, 'recall': 0.6404, 'f1': 0.6327, 'accuracy': 0.6381}\n"
     ]
    },
    {
     "name": "stderr",
     "output_type": "stream",
     "text": [
      "model_head.pkl not found in /root/autodl-tmp/CommitFit/sentence-transformers/paraphrase-mpnet-base-v2, initialising classification head with random weights. You should TRAIN this model on a downstream task to use it for predictions and inference.\n"
     ]
    },
    {
     "data": {
      "application/vnd.jupyter.widget-view+json": {
       "model_id": "ba13c5cd783446958b4f1a58e430df2b",
       "version_major": 2,
       "version_minor": 0
      },
      "text/plain": [
       "Generating Training Pairs:   0%|          | 0/20 [00:00<?, ?it/s]"
      ]
     },
     "metadata": {},
     "output_type": "display_data"
    },
    {
     "name": "stderr",
     "output_type": "stream",
     "text": [
      "***** Running training *****\n",
      "  Num examples = 2760\n",
      "  Num epochs = 1\n",
      "  Total optimization steps = 173\n",
      "  Total train batch size = 16\n"
     ]
    },
    {
     "data": {
      "application/vnd.jupyter.widget-view+json": {
       "model_id": "14277cc9f2f54138a334620f34566d9c",
       "version_major": 2,
       "version_minor": 0
      },
      "text/plain": [
       "Epoch:   0%|          | 0/1 [00:00<?, ?it/s]"
      ]
     },
     "metadata": {},
     "output_type": "display_data"
    },
    {
     "data": {
      "application/vnd.jupyter.widget-view+json": {
       "model_id": "a37262b815614669a1532a323484a632",
       "version_major": 2,
       "version_minor": 0
      },
      "text/plain": [
       "Iteration:   0%|          | 0/173 [00:00<?, ?it/s]"
      ]
     },
     "metadata": {},
     "output_type": "display_data"
    },
    {
     "name": "stderr",
     "output_type": "stream",
     "text": [
      "***** Running evaluation *****\n",
      "/root/miniconda3/lib/python3.10/site-packages/sklearn/metrics/_classification.py:1531: UndefinedMetricWarning: Precision is ill-defined and being set to 0.0 in labels with no predicted samples. Use `zero_division` parameter to control this behavior.\n",
      "  _warn_prf(average, modifier, f\"{metric.capitalize()} is\", len(result))\n",
      "/root/miniconda3/lib/python3.10/site-packages/sklearn/metrics/_classification.py:1531: UndefinedMetricWarning: Precision is ill-defined and being set to 0.0 in labels with no predicted samples. Use `zero_division` parameter to control this behavior.\n",
      "  _warn_prf(average, modifier, f\"{metric.capitalize()} is\", len(result))\n",
      "/root/miniconda3/lib/python3.10/site-packages/sklearn/metrics/_classification.py:1531: UndefinedMetricWarning: Precision is ill-defined and being set to 0.0 in labels with no predicted samples. Use `zero_division` parameter to control this behavior.\n",
      "  _warn_prf(average, modifier, f\"{metric.capitalize()} is\", len(result))\n",
      "/root/miniconda3/lib/python3.10/site-packages/sklearn/metrics/_classification.py:1531: UndefinedMetricWarning: Precision is ill-defined and being set to 0.0 in labels with no predicted samples. Use `zero_division` parameter to control this behavior.\n",
      "  _warn_prf(average, modifier, f\"{metric.capitalize()} is\", len(result))\n",
      "/root/miniconda3/lib/python3.10/site-packages/sklearn/metrics/_classification.py:1531: UndefinedMetricWarning: Precision is ill-defined and being set to 0.0 in labels with no predicted samples. Use `zero_division` parameter to control this behavior.\n",
      "  _warn_prf(average, modifier, f\"{metric.capitalize()} is\", len(result))\n",
      "/root/miniconda3/lib/python3.10/site-packages/sklearn/metrics/_classification.py:1531: UndefinedMetricWarning: Precision is ill-defined and being set to 0.0 in labels with no predicted samples. Use `zero_division` parameter to control this behavior.\n",
      "  _warn_prf(average, modifier, f\"{metric.capitalize()} is\", len(result))\n",
      "/root/miniconda3/lib/python3.10/site-packages/sklearn/metrics/_classification.py:1531: UndefinedMetricWarning: Precision is ill-defined and being set to 0.0 in labels with no predicted samples. Use `zero_division` parameter to control this behavior.\n",
      "  _warn_prf(average, modifier, f\"{metric.capitalize()} is\", len(result))\n",
      "[I 2025-08-29 10:42:43,073] Trial 7 finished with value: 0.3731 and parameters: {'learning_rate': 0.0007569790536370507}. Best is trial 1 with value: 0.6866.\n",
      "Trial: {'learning_rate': 6.611646754738352e-05}\n"
     ]
    },
    {
     "name": "stdout",
     "output_type": "stream",
     "text": [
      "Confusion Matrix:\n",
      " [[  0   0  79]\n",
      " [  0   0  89]\n",
      " [  0   0 100]]\n",
      "              precision    recall  f1-score   support\n",
      "\n",
      "    Adaptive     0.0000    0.0000    0.0000        79\n",
      "  Corrective     0.0000    0.0000    0.0000        89\n",
      "  Perfective     0.3731    1.0000    0.5435       100\n",
      "\n",
      "    accuracy                         0.3731       268\n",
      "   macro avg     0.1244    0.3333    0.1812       268\n",
      "weighted avg     0.1392    0.3731    0.2028       268\n",
      "\n",
      "+++++++++++ {'classification_report': '              precision    recall  f1-score   support\\n\\n    Adaptive     0.0000    0.0000    0.0000        79\\n  Corrective     0.0000    0.0000    0.0000        89\\n  Perfective     0.3731    1.0000    0.5435       100\\n\\n    accuracy                         0.3731       268\\n   macro avg     0.1244    0.3333    0.1812       268\\nweighted avg     0.1392    0.3731    0.2028       268\\n', 'Confusion Matrix': array([[  0,   0,  79],\n",
      "       [  0,   0,  89],\n",
      "       [  0,   0, 100]]), 'precision': 0.1244, 'recall': 0.3333, 'f1': 0.1812, 'accuracy': 0.3731}\n"
     ]
    },
    {
     "name": "stderr",
     "output_type": "stream",
     "text": [
      "model_head.pkl not found in /root/autodl-tmp/CommitFit/sentence-transformers/paraphrase-mpnet-base-v2, initialising classification head with random weights. You should TRAIN this model on a downstream task to use it for predictions and inference.\n"
     ]
    },
    {
     "data": {
      "application/vnd.jupyter.widget-view+json": {
       "model_id": "4676c7ed88e94e209208bf4077c4f018",
       "version_major": 2,
       "version_minor": 0
      },
      "text/plain": [
       "Generating Training Pairs:   0%|          | 0/20 [00:00<?, ?it/s]"
      ]
     },
     "metadata": {},
     "output_type": "display_data"
    },
    {
     "name": "stderr",
     "output_type": "stream",
     "text": [
      "***** Running training *****\n",
      "  Num examples = 2760\n",
      "  Num epochs = 1\n",
      "  Total optimization steps = 173\n",
      "  Total train batch size = 16\n"
     ]
    },
    {
     "data": {
      "application/vnd.jupyter.widget-view+json": {
       "model_id": "d45eaaba0d3e42fda0f5dd4e61c529e9",
       "version_major": 2,
       "version_minor": 0
      },
      "text/plain": [
       "Epoch:   0%|          | 0/1 [00:00<?, ?it/s]"
      ]
     },
     "metadata": {},
     "output_type": "display_data"
    },
    {
     "data": {
      "application/vnd.jupyter.widget-view+json": {
       "model_id": "22e1a963816d4abd9538d7cae3120a4c",
       "version_major": 2,
       "version_minor": 0
      },
      "text/plain": [
       "Iteration:   0%|          | 0/173 [00:00<?, ?it/s]"
      ]
     },
     "metadata": {},
     "output_type": "display_data"
    },
    {
     "name": "stderr",
     "output_type": "stream",
     "text": [
      "***** Running evaluation *****\n",
      "[I 2025-08-29 10:43:09,850] Trial 8 finished with value: 0.6343 and parameters: {'learning_rate': 6.611646754738352e-05}. Best is trial 1 with value: 0.6866.\n",
      "Trial: {'learning_rate': 2.6407596615805046e-06}\n"
     ]
    },
    {
     "name": "stdout",
     "output_type": "stream",
     "text": [
      "Confusion Matrix:\n",
      " [[58 10 11]\n",
      " [15 72  2]\n",
      " [32 28 40]]\n",
      "              precision    recall  f1-score   support\n",
      "\n",
      "    Adaptive     0.5524    0.7342    0.6304        79\n",
      "  Corrective     0.6545    0.8090    0.7236        89\n",
      "  Perfective     0.7547    0.4000    0.5229       100\n",
      "\n",
      "    accuracy                         0.6343       268\n",
      "   macro avg     0.6539    0.6477    0.6256       268\n",
      "weighted avg     0.6618    0.6343    0.6212       268\n",
      "\n",
      "+++++++++++ {'classification_report': '              precision    recall  f1-score   support\\n\\n    Adaptive     0.5524    0.7342    0.6304        79\\n  Corrective     0.6545    0.8090    0.7236        89\\n  Perfective     0.7547    0.4000    0.5229       100\\n\\n    accuracy                         0.6343       268\\n   macro avg     0.6539    0.6477    0.6256       268\\nweighted avg     0.6618    0.6343    0.6212       268\\n', 'Confusion Matrix': array([[58, 10, 11],\n",
      "       [15, 72,  2],\n",
      "       [32, 28, 40]]), 'precision': 0.6539, 'recall': 0.6477, 'f1': 0.6256, 'accuracy': 0.6343}\n"
     ]
    },
    {
     "name": "stderr",
     "output_type": "stream",
     "text": [
      "model_head.pkl not found in /root/autodl-tmp/CommitFit/sentence-transformers/paraphrase-mpnet-base-v2, initialising classification head with random weights. You should TRAIN this model on a downstream task to use it for predictions and inference.\n"
     ]
    },
    {
     "data": {
      "application/vnd.jupyter.widget-view+json": {
       "model_id": "4f32aa69402c493a9b1aa3449145e9c5",
       "version_major": 2,
       "version_minor": 0
      },
      "text/plain": [
       "Generating Training Pairs:   0%|          | 0/20 [00:00<?, ?it/s]"
      ]
     },
     "metadata": {},
     "output_type": "display_data"
    },
    {
     "name": "stderr",
     "output_type": "stream",
     "text": [
      "***** Running training *****\n",
      "  Num examples = 2760\n",
      "  Num epochs = 1\n",
      "  Total optimization steps = 173\n",
      "  Total train batch size = 16\n"
     ]
    },
    {
     "data": {
      "application/vnd.jupyter.widget-view+json": {
       "model_id": "ef68937ef84145f4b80867bfb3ea01b9",
       "version_major": 2,
       "version_minor": 0
      },
      "text/plain": [
       "Epoch:   0%|          | 0/1 [00:00<?, ?it/s]"
      ]
     },
     "metadata": {},
     "output_type": "display_data"
    },
    {
     "data": {
      "application/vnd.jupyter.widget-view+json": {
       "model_id": "1ae51654485e48df809068efd99bbbcb",
       "version_major": 2,
       "version_minor": 0
      },
      "text/plain": [
       "Iteration:   0%|          | 0/173 [00:00<?, ?it/s]"
      ]
     },
     "metadata": {},
     "output_type": "display_data"
    },
    {
     "name": "stderr",
     "output_type": "stream",
     "text": [
      "***** Running evaluation *****\n",
      "[I 2025-08-29 10:43:34,693] Trial 9 finished with value: 0.6269 and parameters: {'learning_rate': 2.6407596615805046e-06}. Best is trial 1 with value: 0.6866.\n"
     ]
    },
    {
     "name": "stdout",
     "output_type": "stream",
     "text": [
      "Confusion Matrix:\n",
      " [[44 17 18]\n",
      " [ 9 71  9]\n",
      " [27 20 53]]\n",
      "              precision    recall  f1-score   support\n",
      "\n",
      "    Adaptive     0.5500    0.5570    0.5535        79\n",
      "  Corrective     0.6574    0.7978    0.7208        89\n",
      "  Perfective     0.6625    0.5300    0.5889       100\n",
      "\n",
      "    accuracy                         0.6269       268\n",
      "   macro avg     0.6233    0.6282    0.6211       268\n",
      "weighted avg     0.6276    0.6269    0.6223       268\n",
      "\n",
      "+++++++++++ {'classification_report': '              precision    recall  f1-score   support\\n\\n    Adaptive     0.5500    0.5570    0.5535        79\\n  Corrective     0.6574    0.7978    0.7208        89\\n  Perfective     0.6625    0.5300    0.5889       100\\n\\n    accuracy                         0.6269       268\\n   macro avg     0.6233    0.6282    0.6211       268\\nweighted avg     0.6276    0.6269    0.6223       268\\n', 'Confusion Matrix': array([[44, 17, 18],\n",
      "       [ 9, 71,  9],\n",
      "       [27, 20, 53]]), 'precision': 0.6233, 'recall': 0.6282, 'f1': 0.6211, 'accuracy': 0.6269}\n"
     ]
    }
   ],
   "source": [
    "trainer = CommitFitTrainer(\n",
    "    train_dataset=train_dataset,\n",
    "    train_code_change = train_code_change,\n",
    "    test_code_change = test_code_change,\n",
    "    eval_dataset=test_dataset,\n",
    "    model_init=model_init,\n",
    "    metric = compute_metrics,\n",
    "    num_iterations=20,\n",
    "    num_epochs=1\n",
    ")\n",
    "best_run = trainer.hyperparameter_search(direction=\"maximize\", hp_space=hp_space, compute_objective=my_compute_objective, n_trials=10)"
   ]
  },
  {
   "cell_type": "code",
   "execution_count": 18,
   "id": "91deb34e-2ef0-4f00-b6e7-7ffd18605c52",
   "metadata": {
    "execution": {
     "iopub.execute_input": "2025-08-29T02:43:34.699562Z",
     "iopub.status.busy": "2025-08-29T02:43:34.698800Z",
     "iopub.status.idle": "2025-08-29T02:43:34.703581Z",
     "shell.execute_reply": "2025-08-29T02:43:34.702796Z",
     "shell.execute_reply.started": "2025-08-29T02:43:34.699536Z"
    }
   },
   "outputs": [],
   "source": [
    "# best_run"
   ]
  },
  {
   "cell_type": "code",
   "execution_count": 19,
   "id": "40cfde46-c7d5-4446-8b53-7ad4dc8edb66",
   "metadata": {
    "execution": {
     "iopub.execute_input": "2025-08-29T02:43:34.704589Z",
     "iopub.status.busy": "2025-08-29T02:43:34.704388Z",
     "iopub.status.idle": "2025-08-29T02:43:34.709262Z",
     "shell.execute_reply": "2025-08-29T02:43:34.708703Z",
     "shell.execute_reply.started": "2025-08-29T02:43:34.704568Z"
    }
   },
   "outputs": [
    {
     "data": {
      "text/plain": [
       "{'learning_rate': 4.564486444140002e-05}"
      ]
     },
     "execution_count": 19,
     "metadata": {},
     "output_type": "execute_result"
    }
   ],
   "source": [
    "best_run.hyperparameters"
   ]
  },
  {
   "cell_type": "code",
   "execution_count": 20,
   "id": "ae735a8b-c672-4dce-822c-61330c34481b",
   "metadata": {
    "execution": {
     "iopub.execute_input": "2025-08-29T02:43:34.710210Z",
     "iopub.status.busy": "2025-08-29T02:43:34.710006Z",
     "iopub.status.idle": "2025-08-29T02:43:53.113399Z",
     "shell.execute_reply": "2025-08-29T02:43:53.112486Z",
     "shell.execute_reply.started": "2025-08-29T02:43:34.710189Z"
    }
   },
   "outputs": [
    {
     "name": "stderr",
     "output_type": "stream",
     "text": [
      "model_head.pkl not found in /root/autodl-tmp/CommitFit/sentence-transformers/paraphrase-mpnet-base-v2, initialising classification head with random weights. You should TRAIN this model on a downstream task to use it for predictions and inference.\n"
     ]
    },
    {
     "data": {
      "application/vnd.jupyter.widget-view+json": {
       "model_id": "b57ca36e213d4b23b4e53e53dfa2416f",
       "version_major": 2,
       "version_minor": 0
      },
      "text/plain": [
       "Generating Training Pairs:   0%|          | 0/20 [00:00<?, ?it/s]"
      ]
     },
     "metadata": {},
     "output_type": "display_data"
    },
    {
     "name": "stderr",
     "output_type": "stream",
     "text": [
      "***** Running training *****\n",
      "  Num examples = 2760\n",
      "  Num epochs = 1\n",
      "  Total optimization steps = 173\n",
      "  Total train batch size = 16\n"
     ]
    },
    {
     "data": {
      "application/vnd.jupyter.widget-view+json": {
       "model_id": "c869a1378ded43b4ab9978c4495cddfe",
       "version_major": 2,
       "version_minor": 0
      },
      "text/plain": [
       "Epoch:   0%|          | 0/1 [00:00<?, ?it/s]"
      ]
     },
     "metadata": {},
     "output_type": "display_data"
    },
    {
     "data": {
      "application/vnd.jupyter.widget-view+json": {
       "model_id": "1acc9bac85124d74a0707348f1f809a2",
       "version_major": 2,
       "version_minor": 0
      },
      "text/plain": [
       "Iteration:   0%|          | 0/173 [00:00<?, ?it/s]"
      ]
     },
     "metadata": {},
     "output_type": "display_data"
    }
   ],
   "source": [
    "trainer.apply_hyperparameters(best_run.hyperparameters, final_model=True)\n",
    "trainer.train()"
   ]
  },
  {
   "cell_type": "code",
   "execution_count": 21,
   "id": "166dcf9b-a0bd-4b60-854c-c6535c22a111",
   "metadata": {
    "execution": {
     "iopub.execute_input": "2025-08-29T02:43:53.114871Z",
     "iopub.status.busy": "2025-08-29T02:43:53.114648Z",
     "iopub.status.idle": "2025-08-29T02:43:58.689030Z",
     "shell.execute_reply": "2025-08-29T02:43:58.688208Z",
     "shell.execute_reply.started": "2025-08-29T02:43:53.114844Z"
    }
   },
   "outputs": [
    {
     "name": "stderr",
     "output_type": "stream",
     "text": [
      "***** Running evaluation *****\n"
     ]
    },
    {
     "name": "stdout",
     "output_type": "stream",
     "text": [
      "Confusion Matrix:\n",
      " [[58  6 15]\n",
      " [12 75  2]\n",
      " [32 21 47]]\n",
      "              precision    recall  f1-score   support\n",
      "\n",
      "    Adaptive     0.5686    0.7342    0.6409        79\n",
      "  Corrective     0.7353    0.8427    0.7853        89\n",
      "  Perfective     0.7344    0.4700    0.5732       100\n",
      "\n",
      "    accuracy                         0.6716       268\n",
      "   macro avg     0.6794    0.6823    0.6665       268\n",
      "weighted avg     0.6858    0.6716    0.6636       268\n",
      "\n"
     ]
    },
    {
     "data": {
      "text/plain": [
       "{'classification_report': '              precision    recall  f1-score   support\\n\\n    Adaptive     0.5686    0.7342    0.6409        79\\n  Corrective     0.7353    0.8427    0.7853        89\\n  Perfective     0.7344    0.4700    0.5732       100\\n\\n    accuracy                         0.6716       268\\n   macro avg     0.6794    0.6823    0.6665       268\\nweighted avg     0.6858    0.6716    0.6636       268\\n',\n",
       " 'Confusion Matrix': array([[58,  6, 15],\n",
       "        [12, 75,  2],\n",
       "        [32, 21, 47]]),\n",
       " 'precision': 0.6794,\n",
       " 'recall': 0.6823,\n",
       " 'f1': 0.6665,\n",
       " 'accuracy': 0.6716}"
      ]
     },
     "execution_count": 21,
     "metadata": {},
     "output_type": "execute_result"
    }
   ],
   "source": [
    "fewshot_metrics = trainer.evaluate()\n",
    "fewshot_metrics"
   ]
  },
  {
   "cell_type": "code",
   "execution_count": 22,
   "id": "af21aba7-66cd-4762-b5d4-6d27650bba7e",
   "metadata": {
    "execution": {
     "iopub.execute_input": "2025-08-29T02:43:58.692443Z",
     "iopub.status.busy": "2025-08-29T02:43:58.692109Z",
     "iopub.status.idle": "2025-08-29T02:43:59.764589Z",
     "shell.execute_reply": "2025-08-29T02:43:59.762795Z",
     "shell.execute_reply.started": "2025-08-29T02:43:58.692418Z"
    }
   },
   "outputs": [
    {
     "name": "stdout",
     "output_type": "stream",
     "text": [
      "强化学习模型训练完毕\n"
     ]
    }
   ],
   "source": [
    "#发送多种类型的邮件\n",
    "from email.mime.multipart import MIMEMultipart\n",
    "import smtplib\n",
    "\n",
    "from email.mime.text import MIMEText\n",
    "msg_from = '915803745@qq.com'  # 发送方邮箱\n",
    "passwd = 'vcuosuurrgkfbdai'   #就是上面的授权码\n",
    " \n",
    "# to= ['g.zhang@gotion.com', 'j.tong@gotion.com'] #接受方邮箱\n",
    "to= ['j.tong@gotion.com'] #接受方邮箱\n",
    "#设置邮件内容\n",
    "#MIMEMultipart类可以放任何内容\n",
    "msg = MIMEMultipart()\n",
    "conntent=f\"{fewshot_metrics}\"\n",
    "#把内容加进去\n",
    "msg.attach(MIMEText(conntent,'plain','utf-8'))\n",
    " \n",
    "#设置邮件主题\n",
    "msg['Subject']=\"强化学习模型训练完毕\"\n",
    " \n",
    "#发送方信息\n",
    "msg['From']=msg_from\n",
    " \n",
    "#开始发送\n",
    " \n",
    "#通过SSL方式发送，服务器地址和端口\n",
    "s = smtplib.SMTP_SSL(\"smtp.qq.com\", 465)\n",
    "# 登录邮箱\n",
    "s.login(msg_from, passwd)\n",
    "#开始发送\n",
    "s.sendmail(msg_from,to,msg.as_string())\n",
    "print(\"强化学习模型训练完毕\")"
   ]
  },
  {
   "cell_type": "code",
   "execution_count": null,
   "id": "025b5144-4d11-4fae-b716-5cb039470225",
   "metadata": {},
   "outputs": [],
   "source": []
  }
 ],
 "metadata": {
  "kernelspec": {
   "display_name": "Python 3 (ipykernel)",
   "language": "python",
   "name": "python3"
  },
  "language_info": {
   "codemirror_mode": {
    "name": "ipython",
    "version": 3
   },
   "file_extension": ".py",
   "mimetype": "text/x-python",
   "name": "python",
   "nbconvert_exporter": "python",
   "pygments_lexer": "ipython3",
   "version": "3.10.8"
  }
 },
 "nbformat": 4,
 "nbformat_minor": 5
}
