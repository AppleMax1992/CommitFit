{
 "cells": [
  {
   "cell_type": "code",
   "execution_count": 1,
   "id": "77d93e6a-106b-4abd-87e7-1243d4c51126",
   "metadata": {
    "execution": {
     "iopub.execute_input": "2025-08-30T01:02:07.175827Z",
     "iopub.status.busy": "2025-08-30T01:02:07.175370Z",
     "iopub.status.idle": "2025-08-30T01:02:10.419321Z",
     "shell.execute_reply": "2025-08-30T01:02:10.418175Z",
     "shell.execute_reply.started": "2025-08-30T01:02:07.175766Z"
    }
   },
   "outputs": [
    {
     "name": "stdout",
     "output_type": "stream",
     "text": [
      "\n",
      "root\n",
      "autodl-tmp\n",
      "CommitFit\n"
     ]
    }
   ],
   "source": [
    "# !pip install transformers accelerate\n",
    "from transformers import EarlyStoppingCallback\n",
    "import torch\n",
    "import numpy as np\n",
    "import pandas as pd\n",
    "# !pip install datasets\n",
    "from datasets import Dataset\n",
    "# %pip install evaluate\n",
    "import evaluate\n",
    "from sklearn.model_selection import train_test_split\n",
    "# from ipywidgets import FloatProgress\n",
    "import csv\n",
    "from optuna import Trial\n",
    "from typing import Dict, Union, Any\n",
    "import os\n",
    "import sys\n",
    "\n",
    "# notebook_login()\n",
    "\n",
    "csv.field_size_limit(500 * 1024 * 1024)\n",
    "CUDA_LAUNCH_BLOCKING=1\n",
    "# get pwd\n",
    "notebook_path = os.path.abspath('')\n",
    "\n",
    "# Find the part of the path that contains 'commitFit'\n",
    "commit_fit_path = None\n",
    "for part in notebook_path.split(os.sep):\n",
    "    print(part)\n",
    "    if 'CommitFit' in part:\n",
    "        commit_fit_path = notebook_path.split(part)[0] + part\n",
    "        break\n",
    "\n",
    "if commit_fit_path is None:\n",
    "    raise ValueError(\"Path containing 'commitFit' not found in notebook path.\")\n",
    "\n",
    "# Add commitFit directory to Python path, so we can import moudule from commitfit folder directly\n",
    "if commit_fit_path not in sys.path:\n",
    "    sys.path.append(commit_fit_path)\n",
    "\n",
    "from commitfit import CommitFitModel, CommitFitTrainer \n",
    "from commitfit import get_templated_dataset,sample_dataset"
   ]
  },
  {
   "cell_type": "code",
   "execution_count": 2,
   "id": "9ef5359f-9526-4d19-a2da-7988dc1ea04f",
   "metadata": {
    "execution": {
     "iopub.execute_input": "2025-08-30T01:02:10.421197Z",
     "iopub.status.busy": "2025-08-30T01:02:10.420762Z",
     "iopub.status.idle": "2025-08-30T01:02:10.795992Z",
     "shell.execute_reply": "2025-08-30T01:02:10.795093Z",
     "shell.execute_reply.started": "2025-08-30T01:02:10.421170Z"
    }
   },
   "outputs": [
    {
     "data": {
      "text/html": [
       "<div>\n",
       "<style scoped>\n",
       "    .dataframe tbody tr th:only-of-type {\n",
       "        vertical-align: middle;\n",
       "    }\n",
       "\n",
       "    .dataframe tbody tr th {\n",
       "        vertical-align: top;\n",
       "    }\n",
       "\n",
       "    .dataframe thead th {\n",
       "        text-align: right;\n",
       "    }\n",
       "</style>\n",
       "<table border=\"1\" class=\"dataframe\">\n",
       "  <thead>\n",
       "    <tr style=\"text-align: right;\">\n",
       "      <th></th>\n",
       "      <th>repo</th>\n",
       "      <th>commit</th>\n",
       "      <th>label</th>\n",
       "      <th>text</th>\n",
       "      <th>diffs</th>\n",
       "      <th>feature</th>\n",
       "    </tr>\n",
       "    <tr>\n",
       "      <th>user</th>\n",
       "      <th></th>\n",
       "      <th></th>\n",
       "      <th></th>\n",
       "      <th></th>\n",
       "      <th></th>\n",
       "      <th></th>\n",
       "    </tr>\n",
       "  </thead>\n",
       "  <tbody>\n",
       "    <tr>\n",
       "      <th>ponsonio</th>\n",
       "      <td>RxJava</td>\n",
       "      <td>0531b8bff5c14d9504beefb4ad47f473e3a22932</td>\n",
       "      <td>Perfective</td>\n",
       "      <td>Change hasException to hasThrowable--</td>\n",
       "      <td>diff --git a/rxjava-core/src/main/java/rx/Noti...</td>\n",
       "      <td>[1, 0, 0, 4, 0, 0, 0, 0, 0, 0, 0, 0, 0, 0, 0, ...</td>\n",
       "    </tr>\n",
       "    <tr>\n",
       "      <th>ponsonio</th>\n",
       "      <td>RxJava</td>\n",
       "      <td>0950c46beda335819928585f1262dfe1dca78a0b</td>\n",
       "      <td>Adaptive</td>\n",
       "      <td>Trying to extend the Scheduler interface accor...</td>\n",
       "      <td>diff --git a/rxjava-core/src/main/java/rx/Sche...</td>\n",
       "      <td>[2, 44, 0, 0, 30, 0, 0, 1, 18, 0, 0, 0, 0, 0, ...</td>\n",
       "    </tr>\n",
       "    <tr>\n",
       "      <th>ponsonio</th>\n",
       "      <td>RxJava</td>\n",
       "      <td>0f92fdd8e6422d5b79c610a7fd8409d222315a49</td>\n",
       "      <td>Adaptive</td>\n",
       "      <td>RunAsync method for outputting multiple values--</td>\n",
       "      <td>diff --git a/rxjava-contrib/rxjava-async-util/...</td>\n",
       "      <td>[2, 53, 0, 0, 42, 0, 0, 1, 45, 1, 0, 0, 0, 0, ...</td>\n",
       "    </tr>\n",
       "    <tr>\n",
       "      <th>ponsonio</th>\n",
       "      <td>RxJava</td>\n",
       "      <td>100f571c9a2835d5a30a55374b9be74c147e031f</td>\n",
       "      <td>Corrective</td>\n",
       "      <td>forEach with Action1 but not Observer--I re-re...</td>\n",
       "      <td>diff --git a/language-adaptors/rxjava-groovy/s...</td>\n",
       "      <td>[1, 5, 122, 9, 10, 9, 4, 1, 5, 18, 2, 0, 0, 0,...</td>\n",
       "    </tr>\n",
       "    <tr>\n",
       "      <th>ponsonio</th>\n",
       "      <td>RxJava</td>\n",
       "      <td>191f023cf5253ea90647bc091dcaf55ccdce81cc</td>\n",
       "      <td>Corrective</td>\n",
       "      <td>1.x: Fix Completable swallows- OnErrorNotImple...</td>\n",
       "      <td>diff --git a/src/main/java/rx/Completable.java...</td>\n",
       "      <td>[1, 1, 0, 0, 0, 0, 0, 1, 21, 0, 0, 0, 0, 0, 0,...</td>\n",
       "    </tr>\n",
       "    <tr>\n",
       "      <th>...</th>\n",
       "      <td>...</td>\n",
       "      <td>...</td>\n",
       "      <td>...</td>\n",
       "      <td>...</td>\n",
       "      <td>...</td>\n",
       "      <td>...</td>\n",
       "    </tr>\n",
       "    <tr>\n",
       "      <th>jenkinsci</th>\n",
       "      <td>clearcase-plugin</td>\n",
       "      <td>51e9da224f80254476a7dc446bca817b505381d8</td>\n",
       "      <td>Perfective</td>\n",
       "      <td>Use a temporary file to decrease memory consum...</td>\n",
       "      <td>diff --git a/src/main/java/hudson/plugins/clea...</td>\n",
       "      <td>[2, 12, 0, 4, 1, 0, 1, 0, 0, 0, 0, 0, 0, 0, 0,...</td>\n",
       "    </tr>\n",
       "    <tr>\n",
       "      <th>jexp</th>\n",
       "      <td>batch-import</td>\n",
       "      <td>609d6c4b1eea2c33d9fb950fcbb9ba9dc1f80fc3</td>\n",
       "      <td>Perfective</td>\n",
       "      <td>added a more memory efficient structure for st...</td>\n",
       "      <td>diff --git a/src/main/java/org/neo4j/batchimpo...</td>\n",
       "      <td>[10, 159, 29, 35, 9, 2, 1, 5, 106, 0, 4, 8, 0,...</td>\n",
       "    </tr>\n",
       "    <tr>\n",
       "      <th>hdiv</th>\n",
       "      <td>hdiv</td>\n",
       "      <td>19b650c78a1c76f4fd90274d7f163f863c0d39e4</td>\n",
       "      <td>Perfective</td>\n",
       "      <td>Memory and performance optimizations</td>\n",
       "      <td>diff --git a/hdiv-config/src/main/java/org/hdi...</td>\n",
       "      <td>[31, 302, 131, 140, 170, 89, 53, 7, 88, 14, 17...</td>\n",
       "    </tr>\n",
       "    <tr>\n",
       "      <th>casidiablo</th>\n",
       "      <td>persistence</td>\n",
       "      <td>d7bf95159df37a3d338ca267dddd3d26b38ec37c</td>\n",
       "      <td>Perfective</td>\n",
       "      <td>Now it is possible to specify the sqlite open ...</td>\n",
       "      <td>diff --git a/pom.xml b/pom.xml\\nindex 394263b....</td>\n",
       "      <td>[5, 57, 20, 9, 21, 0, 0, 0, 0, 0, 0, 0, 0, 0, ...</td>\n",
       "    </tr>\n",
       "    <tr>\n",
       "      <th>jhy</th>\n",
       "      <td>jsoup</td>\n",
       "      <td>d6fd1637307f6b088eb226c3f979085725530f32</td>\n",
       "      <td>Perfective</td>\n",
       "      <td>Performance improvment for Element.text</td>\n",
       "      <td>diff --git a/src/main/java/org/jsoup/helper/St...</td>\n",
       "      <td>[3, 11, 11, 9, 13, 0, 0, 1, 0, 8, 0, 0, 1, 0, ...</td>\n",
       "    </tr>\n",
       "  </tbody>\n",
       "</table>\n",
       "<p>1781 rows × 6 columns</p>\n",
       "</div>"
      ],
      "text/plain": [
       "                        repo                                    commit  \\\n",
       "user                                                                     \n",
       "ponsonio              RxJava  0531b8bff5c14d9504beefb4ad47f473e3a22932   \n",
       "ponsonio              RxJava  0950c46beda335819928585f1262dfe1dca78a0b   \n",
       "ponsonio              RxJava  0f92fdd8e6422d5b79c610a7fd8409d222315a49   \n",
       "ponsonio              RxJava  100f571c9a2835d5a30a55374b9be74c147e031f   \n",
       "ponsonio              RxJava  191f023cf5253ea90647bc091dcaf55ccdce81cc   \n",
       "...                      ...                                       ...   \n",
       "jenkinsci   clearcase-plugin  51e9da224f80254476a7dc446bca817b505381d8   \n",
       "jexp            batch-import  609d6c4b1eea2c33d9fb950fcbb9ba9dc1f80fc3   \n",
       "hdiv                    hdiv  19b650c78a1c76f4fd90274d7f163f863c0d39e4   \n",
       "casidiablo       persistence  d7bf95159df37a3d338ca267dddd3d26b38ec37c   \n",
       "jhy                    jsoup  d6fd1637307f6b088eb226c3f979085725530f32   \n",
       "\n",
       "                 label                                               text  \\\n",
       "user                                                                        \n",
       "ponsonio    Perfective              Change hasException to hasThrowable--   \n",
       "ponsonio      Adaptive  Trying to extend the Scheduler interface accor...   \n",
       "ponsonio      Adaptive   RunAsync method for outputting multiple values--   \n",
       "ponsonio    Corrective  forEach with Action1 but not Observer--I re-re...   \n",
       "ponsonio    Corrective  1.x: Fix Completable swallows- OnErrorNotImple...   \n",
       "...                ...                                                ...   \n",
       "jenkinsci   Perfective  Use a temporary file to decrease memory consum...   \n",
       "jexp        Perfective  added a more memory efficient structure for st...   \n",
       "hdiv        Perfective               Memory and performance optimizations   \n",
       "casidiablo  Perfective  Now it is possible to specify the sqlite open ...   \n",
       "jhy         Perfective            Performance improvment for Element.text   \n",
       "\n",
       "                                                        diffs  \\\n",
       "user                                                            \n",
       "ponsonio    diff --git a/rxjava-core/src/main/java/rx/Noti...   \n",
       "ponsonio    diff --git a/rxjava-core/src/main/java/rx/Sche...   \n",
       "ponsonio    diff --git a/rxjava-contrib/rxjava-async-util/...   \n",
       "ponsonio    diff --git a/language-adaptors/rxjava-groovy/s...   \n",
       "ponsonio    diff --git a/src/main/java/rx/Completable.java...   \n",
       "...                                                       ...   \n",
       "jenkinsci   diff --git a/src/main/java/hudson/plugins/clea...   \n",
       "jexp        diff --git a/src/main/java/org/neo4j/batchimpo...   \n",
       "hdiv        diff --git a/hdiv-config/src/main/java/org/hdi...   \n",
       "casidiablo  diff --git a/pom.xml b/pom.xml\\nindex 394263b....   \n",
       "jhy         diff --git a/src/main/java/org/jsoup/helper/St...   \n",
       "\n",
       "                                                      feature  \n",
       "user                                                           \n",
       "ponsonio    [1, 0, 0, 4, 0, 0, 0, 0, 0, 0, 0, 0, 0, 0, 0, ...  \n",
       "ponsonio    [2, 44, 0, 0, 30, 0, 0, 1, 18, 0, 0, 0, 0, 0, ...  \n",
       "ponsonio    [2, 53, 0, 0, 42, 0, 0, 1, 45, 1, 0, 0, 0, 0, ...  \n",
       "ponsonio    [1, 5, 122, 9, 10, 9, 4, 1, 5, 18, 2, 0, 0, 0,...  \n",
       "ponsonio    [1, 1, 0, 0, 0, 0, 0, 1, 21, 0, 0, 0, 0, 0, 0,...  \n",
       "...                                                       ...  \n",
       "jenkinsci   [2, 12, 0, 4, 1, 0, 1, 0, 0, 0, 0, 0, 0, 0, 0,...  \n",
       "jexp        [10, 159, 29, 35, 9, 2, 1, 5, 106, 0, 4, 8, 0,...  \n",
       "hdiv        [31, 302, 131, 140, 170, 89, 53, 7, 88, 14, 17...  \n",
       "casidiablo  [5, 57, 20, 9, 21, 0, 0, 0, 0, 0, 0, 0, 0, 0, ...  \n",
       "jhy         [3, 11, 11, 9, 13, 0, 0, 1, 0, 8, 0, 0, 1, 0, ...  \n",
       "\n",
       "[1781 rows x 6 columns]"
      ]
     },
     "execution_count": 2,
     "metadata": {},
     "output_type": "execute_result"
    }
   ],
   "source": [
    "df = pd.read_csv(r'/root/autodl-tmp/CommitFit/dataset/Ghadhab/dataset.csv', index_col=0, encoding='utf_8_sig')\n",
    "# df.fillna('', inplace=True)\n",
    "label2id={'C':0, 'A':1, 'P':2}\n",
    "df = df.rename(columns={'labels':'label','msgs':'text','commit_diff':'diffs'})\n",
    "df = df.replace({\"label\": label2id})\n",
    "# # print(df)\n",
    "df\n",
    "# test_sample = df.sample(n=3, random_state=1)"
   ]
  },
  {
   "cell_type": "code",
   "execution_count": 3,
   "id": "26803da1-da52-48a7-8040-70914c05f2ea",
   "metadata": {
    "execution": {
     "iopub.execute_input": "2025-08-30T01:02:10.797177Z",
     "iopub.status.busy": "2025-08-30T01:02:10.796956Z",
     "iopub.status.idle": "2025-08-30T01:02:10.804671Z",
     "shell.execute_reply": "2025-08-30T01:02:10.803800Z",
     "shell.execute_reply.started": "2025-08-30T01:02:10.797152Z"
    }
   },
   "outputs": [],
   "source": [
    "train, temp_df = train_test_split(df, test_size=0.3, random_state=42)\n",
    "val, test = train_test_split(temp_df, test_size=0.5, random_state=42)"
   ]
  },
  {
   "cell_type": "code",
   "execution_count": 4,
   "id": "d705bd52-552a-464a-b018-a6db863b444a",
   "metadata": {
    "execution": {
     "iopub.execute_input": "2025-08-30T01:02:10.807586Z",
     "iopub.status.busy": "2025-08-30T01:02:10.806944Z",
     "iopub.status.idle": "2025-08-30T01:02:10.821665Z",
     "shell.execute_reply": "2025-08-30T01:02:10.820659Z",
     "shell.execute_reply.started": "2025-08-30T01:02:10.807547Z"
    }
   },
   "outputs": [
    {
     "name": "stderr",
     "output_type": "stream",
     "text": [
      "/tmp/ipykernel_4267/2088339219.py:1: DeprecationWarning: DataFrameGroupBy.apply operated on the grouping columns. This behavior is deprecated, and in a future version of pandas the grouping columns will be excluded from the operation. Either pass `include_groups=False` to exclude the groupings or explicitly select the grouping columns after groupby to silence this warning.\n",
      "  train = train.groupby(\"label\", group_keys=False).apply(lambda x: x.sample(n=50, random_state=42))\n"
     ]
    }
   ],
   "source": [
    "train = train.groupby(\"label\", group_keys=False).apply(lambda x: x.sample(n=50, random_state=42))"
   ]
  },
  {
   "cell_type": "code",
   "execution_count": 5,
   "id": "b9faed6f-6788-4505-960f-b2b37be4e85c",
   "metadata": {
    "execution": {
     "iopub.execute_input": "2025-08-30T01:02:10.823202Z",
     "iopub.status.busy": "2025-08-30T01:02:10.822878Z",
     "iopub.status.idle": "2025-08-30T01:02:10.827520Z",
     "shell.execute_reply": "2025-08-30T01:02:10.826551Z",
     "shell.execute_reply.started": "2025-08-30T01:02:10.823166Z"
    }
   },
   "outputs": [],
   "source": [
    "# train.to_csv('/root/autodl-tmp/CommitFit/dataset/Ghadhab/50_train.csv')\n",
    "# test.to_csv('/root/autodl-tmp/CommitFit/dataset/Ghadhab/test.csv')\n",
    "# val.to_csv('/root/autodl-tmp/CommitFit/dataset/Ghadhab/val.csv')\n",
    "\n",
    "# train.to_csv('/root/autodl-tmp/COLARE-main/dataset/Ghadhab/50_train.csv')\n",
    "# test.to_csv('/root/autodl-tmp/COLARE-main/dataset/Ghadhab/test.csv')\n",
    "# val.to_csv('/root/autodl-tmp/COLARE-main/dataset/Ghadhab/val.csv')"
   ]
  },
  {
   "cell_type": "code",
   "execution_count": 6,
   "id": "2e214dbb-075e-4fbf-adc9-f3533801587e",
   "metadata": {
    "execution": {
     "iopub.execute_input": "2025-08-30T01:02:10.829445Z",
     "iopub.status.busy": "2025-08-30T01:02:10.828826Z",
     "iopub.status.idle": "2025-08-30T01:02:10.907961Z",
     "shell.execute_reply": "2025-08-30T01:02:10.907224Z",
     "shell.execute_reply.started": "2025-08-30T01:02:10.829407Z"
    }
   },
   "outputs": [],
   "source": [
    "Dataset_train = Dataset.from_pandas(train)\n",
    "test_dataset = Dataset.from_pandas(test)"
   ]
  },
  {
   "cell_type": "code",
   "execution_count": 7,
   "id": "1a8ec7ec-1112-4140-8ccd-516ba9a1b1a8",
   "metadata": {
    "execution": {
     "iopub.execute_input": "2025-08-30T01:02:10.909196Z",
     "iopub.status.busy": "2025-08-30T01:02:10.908895Z",
     "iopub.status.idle": "2025-08-30T01:02:10.985436Z",
     "shell.execute_reply": "2025-08-30T01:02:10.984856Z",
     "shell.execute_reply.started": "2025-08-30T01:02:10.909169Z"
    }
   },
   "outputs": [],
   "source": [
    "train_dataset = get_templated_dataset(Dataset_train, candidate_labels=['Corrective','Adaptive','Perfective'], sample_size=8)"
   ]
  },
  {
   "cell_type": "code",
   "execution_count": 8,
   "id": "6af4102b-39bc-4b20-ab32-43800fb572bf",
   "metadata": {
    "execution": {
     "iopub.execute_input": "2025-08-30T01:02:10.986477Z",
     "iopub.status.busy": "2025-08-30T01:02:10.986265Z",
     "iopub.status.idle": "2025-08-30T01:02:10.990209Z",
     "shell.execute_reply": "2025-08-30T01:02:10.989506Z",
     "shell.execute_reply.started": "2025-08-30T01:02:10.986453Z"
    }
   },
   "outputs": [],
   "source": [
    "train_code_change = list(train['diffs'].astype(str))\n",
    "test_code_change = list(test['diffs'].astype(str))"
   ]
  },
  {
   "cell_type": "code",
   "execution_count": 9,
   "id": "c5ea76cd-69e5-4aa8-bf49-c9e746b63bbb",
   "metadata": {
    "execution": {
     "iopub.execute_input": "2025-08-30T01:02:10.991194Z",
     "iopub.status.busy": "2025-08-30T01:02:10.990990Z",
     "iopub.status.idle": "2025-08-30T01:02:10.995383Z",
     "shell.execute_reply": "2025-08-30T01:02:10.994795Z",
     "shell.execute_reply.started": "2025-08-30T01:02:10.991170Z"
    }
   },
   "outputs": [
    {
     "data": {
      "text/plain": [
       "Dataset({\n",
       "    features: ['repo', 'commit', 'label', 'text', 'diffs', 'feature', 'user'],\n",
       "    num_rows: 174\n",
       "})"
      ]
     },
     "execution_count": 9,
     "metadata": {},
     "output_type": "execute_result"
    }
   ],
   "source": [
    "# list(train['message'].astype(str).values)\n",
    "train_dataset"
   ]
  },
  {
   "cell_type": "code",
   "execution_count": 10,
   "id": "ee30affe-0ec9-46a3-bcaa-a1bd9422c939",
   "metadata": {
    "execution": {
     "iopub.execute_input": "2025-08-30T01:02:10.998308Z",
     "iopub.status.busy": "2025-08-30T01:02:10.997871Z",
     "iopub.status.idle": "2025-08-30T01:02:11.002950Z",
     "shell.execute_reply": "2025-08-30T01:02:11.002174Z",
     "shell.execute_reply.started": "2025-08-30T01:02:10.998283Z"
    }
   },
   "outputs": [
    {
     "data": {
      "text/plain": [
       "150"
      ]
     },
     "execution_count": 10,
     "metadata": {},
     "output_type": "execute_result"
    }
   ],
   "source": [
    "len(train)"
   ]
  },
  {
   "cell_type": "code",
   "execution_count": 11,
   "id": "84e38639-cf4b-4762-a1dc-cdc983938388",
   "metadata": {
    "execution": {
     "iopub.execute_input": "2025-08-30T01:02:11.004531Z",
     "iopub.status.busy": "2025-08-30T01:02:11.003974Z",
     "iopub.status.idle": "2025-08-30T01:02:11.011797Z",
     "shell.execute_reply": "2025-08-30T01:02:11.011056Z",
     "shell.execute_reply.started": "2025-08-30T01:02:11.004493Z"
    }
   },
   "outputs": [
    {
     "data": {
      "text/plain": [
       "label\n",
       "Adaptive      50\n",
       "Corrective    50\n",
       "Perfective    50\n",
       "Name: count, dtype: int64"
      ]
     },
     "execution_count": 11,
     "metadata": {},
     "output_type": "execute_result"
    }
   ],
   "source": [
    "train['label'].value_counts()"
   ]
  },
  {
   "cell_type": "code",
   "execution_count": 12,
   "id": "3cf6c110-616d-45da-aa2e-4a5add26b3c0",
   "metadata": {
    "execution": {
     "iopub.execute_input": "2025-08-30T01:02:11.013707Z",
     "iopub.status.busy": "2025-08-30T01:02:11.012933Z",
     "iopub.status.idle": "2025-08-30T01:02:11.020413Z",
     "shell.execute_reply": "2025-08-30T01:02:11.019755Z",
     "shell.execute_reply.started": "2025-08-30T01:02:11.013669Z"
    }
   },
   "outputs": [
    {
     "data": {
      "text/plain": [
       "label\n",
       "Perfective    100\n",
       "Corrective     89\n",
       "Adaptive       79\n",
       "Name: count, dtype: int64"
      ]
     },
     "execution_count": 12,
     "metadata": {},
     "output_type": "execute_result"
    }
   ],
   "source": [
    "test['label'].value_counts()"
   ]
  },
  {
   "cell_type": "code",
   "execution_count": 13,
   "id": "77117d87-5292-48f5-b077-74b47ccfd5eb",
   "metadata": {
    "execution": {
     "iopub.execute_input": "2025-08-30T01:02:11.021775Z",
     "iopub.status.busy": "2025-08-30T01:02:11.021267Z",
     "iopub.status.idle": "2025-08-30T01:02:11.025854Z",
     "shell.execute_reply": "2025-08-30T01:02:11.025203Z",
     "shell.execute_reply.started": "2025-08-30T01:02:11.021745Z"
    }
   },
   "outputs": [
    {
     "data": {
      "text/plain": [
       "174"
      ]
     },
     "execution_count": 13,
     "metadata": {},
     "output_type": "execute_result"
    }
   ],
   "source": [
    "len(train_dataset)"
   ]
  },
  {
   "cell_type": "code",
   "execution_count": 14,
   "id": "dca6275a-a567-4963-831c-8dd653341162",
   "metadata": {
    "execution": {
     "iopub.execute_input": "2025-08-30T01:02:11.027457Z",
     "iopub.status.busy": "2025-08-30T01:02:11.026868Z",
     "iopub.status.idle": "2025-08-30T01:02:11.034753Z",
     "shell.execute_reply": "2025-08-30T01:02:11.033915Z",
     "shell.execute_reply.started": "2025-08-30T01:02:11.027419Z"
    }
   },
   "outputs": [],
   "source": [
    "from sklearn import  metrics\n",
    "\n",
    "def compute_metrics(y_pred, y_test):\n",
    "    # print(y_pred,y_test)\n",
    "    # classification_report = metrics.classification_report(y_test,y_pred)\n",
    "    accuracy_score = metrics.accuracy_score(y_test,y_pred)\n",
    "    precision_score = metrics.precision_score(y_test,y_pred, average='macro')\n",
    "    recall_score = metrics.recall_score(y_test,y_pred,average='macro')\n",
    "    f1_score = metrics.f1_score(y_test,y_pred,average='macro')\n",
    "    \n",
    "    # 混淆矩阵\n",
    "    cm = metrics.confusion_matrix(y_test, y_pred)\n",
    "    print(\"Confusion Matrix:\\n\", cm)\n",
    "    print(metrics.classification_report(y_test, y_pred, digits=4))\n",
    "    # return {\"classification_report\": classification_report}\n",
    "    return {\"classification_report\":metrics.classification_report(y_test, y_pred, digits=4),\"Confusion Matrix\":cm,\"precision\": round(precision_score, 4),\"recall\": round(recall_score, 4), \"f1\":round(f1_score, 4), \"accuracy\": round(accuracy_score, 4)}"
   ]
  },
  {
   "cell_type": "code",
   "execution_count": 15,
   "id": "49e32d66-2fc2-4a53-bae1-13f8d67c5b6f",
   "metadata": {
    "execution": {
     "iopub.execute_input": "2025-08-30T01:02:11.036526Z",
     "iopub.status.busy": "2025-08-30T01:02:11.035947Z",
     "iopub.status.idle": "2025-08-30T01:02:11.041506Z",
     "shell.execute_reply": "2025-08-30T01:02:11.040715Z",
     "shell.execute_reply.started": "2025-08-30T01:02:11.036489Z"
    }
   },
   "outputs": [
    {
     "data": {
      "text/plain": [
       "Dataset({\n",
       "    features: ['repo', 'commit', 'label', 'text', 'diffs', 'feature', 'user'],\n",
       "    num_rows: 174\n",
       "})"
      ]
     },
     "execution_count": 15,
     "metadata": {},
     "output_type": "execute_result"
    }
   ],
   "source": [
    "train_dataset"
   ]
  },
  {
   "cell_type": "code",
   "execution_count": 16,
   "id": "d9ede869-1587-4e42-8879-e819e5961dca",
   "metadata": {
    "execution": {
     "iopub.execute_input": "2025-08-30T01:02:11.043085Z",
     "iopub.status.busy": "2025-08-30T01:02:11.042564Z",
     "iopub.status.idle": "2025-08-30T01:02:11.046607Z",
     "shell.execute_reply": "2025-08-30T01:02:11.045804Z",
     "shell.execute_reply.started": "2025-08-30T01:02:11.043048Z"
    }
   },
   "outputs": [],
   "source": [
    "model_id = \"../../sentence-transformers/paraphrase-mpnet-base-v2\""
   ]
  },
  {
   "cell_type": "code",
   "execution_count": 17,
   "id": "a6501389-0c86-442d-85cf-f04ad146703f",
   "metadata": {
    "execution": {
     "iopub.execute_input": "2025-08-30T01:02:11.048211Z",
     "iopub.status.busy": "2025-08-30T01:02:11.047667Z",
     "iopub.status.idle": "2025-08-30T01:02:11.056658Z",
     "shell.execute_reply": "2025-08-30T01:02:11.056001Z",
     "shell.execute_reply.started": "2025-08-30T01:02:11.048173Z"
    }
   },
   "outputs": [],
   "source": [
    "def hp_space(trial: Trial) -> Dict[str, Union[float, int, str]]:\n",
    "    return {\n",
    "        \"learning_rate\": trial.suggest_float(\"learning_rate\", 1e-6, 1e-3, log=True),\n",
    "        # \"num_epochs\": trial.suggest_int(\"num_epochs\", 1, 3),\n",
    "        # \"batch_size\": trial.suggest_categorical(\"batch_size\", [8, 12, 16]),\n",
    "        # \"seed\": trial.suggest_int(\"seed\", 1, 40),\n",
    "        # \"num_iterations\": trial.suggest_int(\"num_iterations\", 10, 20),\n",
    "        # \"solver\": trial.suggest_categorical(\"solver\", [\"newton-cg\", \"lbfgs\", \"liblinear\"]),\n",
    "    }\n",
    "def model_init(params: Dict[str, Any]) -> CommitFitModel:\n",
    "    params = params or {}\n",
    "    # learning_rate = params.get(\"learning_rate\")\n",
    "    # num_iterations = params.get(\"num_iterations\", 20)\n",
    "    # solver = params.get(\"solver\", \"liblinear\")\n",
    "    # params = {\n",
    "    #     \"head_params\": {\n",
    "    #         # \"max_iter\": num_iterations,\n",
    "    #         # \"solver\": solver,\n",
    "    #     }\n",
    "    # }\n",
    "    return CommitFitModel.from_pretrained(model_id, **params)\n",
    "def my_compute_objective(metrics):\n",
    "    print('+++++++++++',metrics)\n",
    "    return  metrics['accuracy']"
   ]
  },
  {
   "cell_type": "code",
   "execution_count": 18,
   "id": "2244f079-c2b8-4e01-aca4-f68e7ce8accb",
   "metadata": {
    "execution": {
     "iopub.execute_input": "2025-08-30T01:02:11.058012Z",
     "iopub.status.busy": "2025-08-30T01:02:11.057514Z",
     "iopub.status.idle": "2025-08-30T01:11:34.046592Z",
     "shell.execute_reply": "2025-08-30T01:11:34.045979Z",
     "shell.execute_reply.started": "2025-08-30T01:02:11.057982Z"
    }
   },
   "outputs": [
    {
     "name": "stderr",
     "output_type": "stream",
     "text": [
      "model_head.pkl not found in /root/autodl-tmp/CommitFit/sentence-transformers/paraphrase-mpnet-base-v2, initialising classification head with random weights. You should TRAIN this model on a downstream task to use it for predictions and inference.\n",
      "[I 2025-08-30 09:02:12,182] A new study created in memory with name: no-name-39746519-e5ca-4d77-b7e0-1c730dbb32e5\n",
      "Trial: {'learning_rate': 3.781486071577124e-05}\n",
      "model_head.pkl not found in /root/autodl-tmp/CommitFit/sentence-transformers/paraphrase-mpnet-base-v2, initialising classification head with random weights. You should TRAIN this model on a downstream task to use it for predictions and inference.\n"
     ]
    },
    {
     "data": {
      "application/vnd.jupyter.widget-view+json": {
       "model_id": "ad380a2c1bf1401d9036a277a5fbff8b",
       "version_major": 2,
       "version_minor": 0
      },
      "text/plain": [
       "Generating Training Pairs:   0%|          | 0/20 [00:00<?, ?it/s]"
      ]
     },
     "metadata": {},
     "output_type": "display_data"
    },
    {
     "name": "stderr",
     "output_type": "stream",
     "text": [
      "***** Running training *****\n",
      "  Num examples = 6960\n",
      "  Num epochs = 1\n",
      "  Total optimization steps = 435\n",
      "  Total train batch size = 16\n"
     ]
    },
    {
     "data": {
      "application/vnd.jupyter.widget-view+json": {
       "model_id": "39a51b32b6e7487499d5f36bbefa3200",
       "version_major": 2,
       "version_minor": 0
      },
      "text/plain": [
       "Epoch:   0%|          | 0/1 [00:00<?, ?it/s]"
      ]
     },
     "metadata": {},
     "output_type": "display_data"
    },
    {
     "data": {
      "application/vnd.jupyter.widget-view+json": {
       "model_id": "c59c9fb940c24619a8eda60d93af642d",
       "version_major": 2,
       "version_minor": 0
      },
      "text/plain": [
       "Iteration:   0%|          | 0/435 [00:00<?, ?it/s]"
      ]
     },
     "metadata": {},
     "output_type": "display_data"
    },
    {
     "name": "stderr",
     "output_type": "stream",
     "text": [
      "***** Running evaluation *****\n",
      "[I 2025-08-30 09:03:09,636] Trial 0 finished with value: 0.6978 and parameters: {'learning_rate': 3.781486071577124e-05}. Best is trial 0 with value: 0.6978.\n",
      "Trial: {'learning_rate': 1.1107758112687242e-06}\n"
     ]
    },
    {
     "name": "stdout",
     "output_type": "stream",
     "text": [
      "Confusion Matrix:\n",
      " [[60  9 10]\n",
      " [15 71  3]\n",
      " [29 15 56]]\n",
      "              precision    recall  f1-score   support\n",
      "\n",
      "    Adaptive     0.5769    0.7595    0.6557        79\n",
      "  Corrective     0.7474    0.7978    0.7717        89\n",
      "  Perfective     0.8116    0.5600    0.6627       100\n",
      "\n",
      "    accuracy                         0.6978       268\n",
      "   macro avg     0.7120    0.7057    0.6967       268\n",
      "weighted avg     0.7211    0.6978    0.6969       268\n",
      "\n",
      "+++++++++++ {'classification_report': '              precision    recall  f1-score   support\\n\\n    Adaptive     0.5769    0.7595    0.6557        79\\n  Corrective     0.7474    0.7978    0.7717        89\\n  Perfective     0.8116    0.5600    0.6627       100\\n\\n    accuracy                         0.6978       268\\n   macro avg     0.7120    0.7057    0.6967       268\\nweighted avg     0.7211    0.6978    0.6969       268\\n', 'Confusion Matrix': array([[60,  9, 10],\n",
      "       [15, 71,  3],\n",
      "       [29, 15, 56]]), 'precision': 0.712, 'recall': 0.7057, 'f1': 0.6967, 'accuracy': 0.6978}\n"
     ]
    },
    {
     "name": "stderr",
     "output_type": "stream",
     "text": [
      "model_head.pkl not found in /root/autodl-tmp/CommitFit/sentence-transformers/paraphrase-mpnet-base-v2, initialising classification head with random weights. You should TRAIN this model on a downstream task to use it for predictions and inference.\n"
     ]
    },
    {
     "data": {
      "application/vnd.jupyter.widget-view+json": {
       "model_id": "dd7c0070db2244e29f9f342ad26ac3f1",
       "version_major": 2,
       "version_minor": 0
      },
      "text/plain": [
       "Generating Training Pairs:   0%|          | 0/20 [00:00<?, ?it/s]"
      ]
     },
     "metadata": {},
     "output_type": "display_data"
    },
    {
     "name": "stderr",
     "output_type": "stream",
     "text": [
      "***** Running training *****\n",
      "  Num examples = 6960\n",
      "  Num epochs = 1\n",
      "  Total optimization steps = 435\n",
      "  Total train batch size = 16\n"
     ]
    },
    {
     "data": {
      "application/vnd.jupyter.widget-view+json": {
       "model_id": "ae8c3a8b211542c8a900e7fb26e0a01e",
       "version_major": 2,
       "version_minor": 0
      },
      "text/plain": [
       "Epoch:   0%|          | 0/1 [00:00<?, ?it/s]"
      ]
     },
     "metadata": {},
     "output_type": "display_data"
    },
    {
     "data": {
      "application/vnd.jupyter.widget-view+json": {
       "model_id": "24da31b6726c465dafb4eb7566970949",
       "version_major": 2,
       "version_minor": 0
      },
      "text/plain": [
       "Iteration:   0%|          | 0/435 [00:00<?, ?it/s]"
      ]
     },
     "metadata": {},
     "output_type": "display_data"
    },
    {
     "name": "stderr",
     "output_type": "stream",
     "text": [
      "***** Running evaluation *****\n",
      "[I 2025-08-30 09:04:05,686] Trial 1 finished with value: 0.6679 and parameters: {'learning_rate': 1.1107758112687242e-06}. Best is trial 0 with value: 0.6978.\n",
      "Trial: {'learning_rate': 0.00023826093626198308}\n"
     ]
    },
    {
     "name": "stdout",
     "output_type": "stream",
     "text": [
      "Confusion Matrix:\n",
      " [[53  8 18]\n",
      " [10 66 13]\n",
      " [25 15 60]]\n",
      "              precision    recall  f1-score   support\n",
      "\n",
      "    Adaptive     0.6023    0.6709    0.6347        79\n",
      "  Corrective     0.7416    0.7416    0.7416        89\n",
      "  Perfective     0.6593    0.6000    0.6283       100\n",
      "\n",
      "    accuracy                         0.6679       268\n",
      "   macro avg     0.6677    0.6708    0.6682       268\n",
      "weighted avg     0.6698    0.6679    0.6678       268\n",
      "\n",
      "+++++++++++ {'classification_report': '              precision    recall  f1-score   support\\n\\n    Adaptive     0.6023    0.6709    0.6347        79\\n  Corrective     0.7416    0.7416    0.7416        89\\n  Perfective     0.6593    0.6000    0.6283       100\\n\\n    accuracy                         0.6679       268\\n   macro avg     0.6677    0.6708    0.6682       268\\nweighted avg     0.6698    0.6679    0.6678       268\\n', 'Confusion Matrix': array([[53,  8, 18],\n",
      "       [10, 66, 13],\n",
      "       [25, 15, 60]]), 'precision': 0.6677, 'recall': 0.6708, 'f1': 0.6682, 'accuracy': 0.6679}\n"
     ]
    },
    {
     "name": "stderr",
     "output_type": "stream",
     "text": [
      "model_head.pkl not found in /root/autodl-tmp/CommitFit/sentence-transformers/paraphrase-mpnet-base-v2, initialising classification head with random weights. You should TRAIN this model on a downstream task to use it for predictions and inference.\n"
     ]
    },
    {
     "data": {
      "application/vnd.jupyter.widget-view+json": {
       "model_id": "aa7f5db1c15b4113b23368486e6d4587",
       "version_major": 2,
       "version_minor": 0
      },
      "text/plain": [
       "Generating Training Pairs:   0%|          | 0/20 [00:00<?, ?it/s]"
      ]
     },
     "metadata": {},
     "output_type": "display_data"
    },
    {
     "name": "stderr",
     "output_type": "stream",
     "text": [
      "***** Running training *****\n",
      "  Num examples = 6960\n",
      "  Num epochs = 1\n",
      "  Total optimization steps = 435\n",
      "  Total train batch size = 16\n"
     ]
    },
    {
     "data": {
      "application/vnd.jupyter.widget-view+json": {
       "model_id": "b1815d25c2d04891be93cdc72124b66e",
       "version_major": 2,
       "version_minor": 0
      },
      "text/plain": [
       "Epoch:   0%|          | 0/1 [00:00<?, ?it/s]"
      ]
     },
     "metadata": {},
     "output_type": "display_data"
    },
    {
     "data": {
      "application/vnd.jupyter.widget-view+json": {
       "model_id": "73a06b0f03a043debb2972699732866e",
       "version_major": 2,
       "version_minor": 0
      },
      "text/plain": [
       "Iteration:   0%|          | 0/435 [00:00<?, ?it/s]"
      ]
     },
     "metadata": {},
     "output_type": "display_data"
    },
    {
     "name": "stderr",
     "output_type": "stream",
     "text": [
      "***** Running evaluation *****\n",
      "/root/miniconda3/lib/python3.10/site-packages/sklearn/metrics/_classification.py:1531: UndefinedMetricWarning: Precision is ill-defined and being set to 0.0 in labels with no predicted samples. Use `zero_division` parameter to control this behavior.\n",
      "  _warn_prf(average, modifier, f\"{metric.capitalize()} is\", len(result))\n",
      "/root/miniconda3/lib/python3.10/site-packages/sklearn/metrics/_classification.py:1531: UndefinedMetricWarning: Precision is ill-defined and being set to 0.0 in labels with no predicted samples. Use `zero_division` parameter to control this behavior.\n",
      "  _warn_prf(average, modifier, f\"{metric.capitalize()} is\", len(result))\n",
      "/root/miniconda3/lib/python3.10/site-packages/sklearn/metrics/_classification.py:1531: UndefinedMetricWarning: Precision is ill-defined and being set to 0.0 in labels with no predicted samples. Use `zero_division` parameter to control this behavior.\n",
      "  _warn_prf(average, modifier, f\"{metric.capitalize()} is\", len(result))\n",
      "/root/miniconda3/lib/python3.10/site-packages/sklearn/metrics/_classification.py:1531: UndefinedMetricWarning: Precision is ill-defined and being set to 0.0 in labels with no predicted samples. Use `zero_division` parameter to control this behavior.\n",
      "  _warn_prf(average, modifier, f\"{metric.capitalize()} is\", len(result))\n",
      "/root/miniconda3/lib/python3.10/site-packages/sklearn/metrics/_classification.py:1531: UndefinedMetricWarning: Precision is ill-defined and being set to 0.0 in labels with no predicted samples. Use `zero_division` parameter to control this behavior.\n",
      "  _warn_prf(average, modifier, f\"{metric.capitalize()} is\", len(result))\n",
      "/root/miniconda3/lib/python3.10/site-packages/sklearn/metrics/_classification.py:1531: UndefinedMetricWarning: Precision is ill-defined and being set to 0.0 in labels with no predicted samples. Use `zero_division` parameter to control this behavior.\n",
      "  _warn_prf(average, modifier, f\"{metric.capitalize()} is\", len(result))\n",
      "/root/miniconda3/lib/python3.10/site-packages/sklearn/metrics/_classification.py:1531: UndefinedMetricWarning: Precision is ill-defined and being set to 0.0 in labels with no predicted samples. Use `zero_division` parameter to control this behavior.\n",
      "  _warn_prf(average, modifier, f\"{metric.capitalize()} is\", len(result))\n",
      "[I 2025-08-30 09:05:01,864] Trial 2 finished with value: 0.2948 and parameters: {'learning_rate': 0.00023826093626198308}. Best is trial 0 with value: 0.6978.\n",
      "Trial: {'learning_rate': 6.387360234511262e-05}\n"
     ]
    },
    {
     "name": "stdout",
     "output_type": "stream",
     "text": [
      "Confusion Matrix:\n",
      " [[ 79   0   0]\n",
      " [ 89   0   0]\n",
      " [100   0   0]]\n",
      "              precision    recall  f1-score   support\n",
      "\n",
      "    Adaptive     0.2948    1.0000    0.4553        79\n",
      "  Corrective     0.0000    0.0000    0.0000        89\n",
      "  Perfective     0.0000    0.0000    0.0000       100\n",
      "\n",
      "    accuracy                         0.2948       268\n",
      "   macro avg     0.0983    0.3333    0.1518       268\n",
      "weighted avg     0.0869    0.2948    0.1342       268\n",
      "\n",
      "+++++++++++ {'classification_report': '              precision    recall  f1-score   support\\n\\n    Adaptive     0.2948    1.0000    0.4553        79\\n  Corrective     0.0000    0.0000    0.0000        89\\n  Perfective     0.0000    0.0000    0.0000       100\\n\\n    accuracy                         0.2948       268\\n   macro avg     0.0983    0.3333    0.1518       268\\nweighted avg     0.0869    0.2948    0.1342       268\\n', 'Confusion Matrix': array([[ 79,   0,   0],\n",
      "       [ 89,   0,   0],\n",
      "       [100,   0,   0]]), 'precision': 0.0983, 'recall': 0.3333, 'f1': 0.1518, 'accuracy': 0.2948}\n"
     ]
    },
    {
     "name": "stderr",
     "output_type": "stream",
     "text": [
      "model_head.pkl not found in /root/autodl-tmp/CommitFit/sentence-transformers/paraphrase-mpnet-base-v2, initialising classification head with random weights. You should TRAIN this model on a downstream task to use it for predictions and inference.\n"
     ]
    },
    {
     "data": {
      "application/vnd.jupyter.widget-view+json": {
       "model_id": "9bb9b5464321404d8acd79f6991f6a7f",
       "version_major": 2,
       "version_minor": 0
      },
      "text/plain": [
       "Generating Training Pairs:   0%|          | 0/20 [00:00<?, ?it/s]"
      ]
     },
     "metadata": {},
     "output_type": "display_data"
    },
    {
     "name": "stderr",
     "output_type": "stream",
     "text": [
      "***** Running training *****\n",
      "  Num examples = 6960\n",
      "  Num epochs = 1\n",
      "  Total optimization steps = 435\n",
      "  Total train batch size = 16\n"
     ]
    },
    {
     "data": {
      "application/vnd.jupyter.widget-view+json": {
       "model_id": "aae4027a38a1461db9d0d2b6b8b5964a",
       "version_major": 2,
       "version_minor": 0
      },
      "text/plain": [
       "Epoch:   0%|          | 0/1 [00:00<?, ?it/s]"
      ]
     },
     "metadata": {},
     "output_type": "display_data"
    },
    {
     "data": {
      "application/vnd.jupyter.widget-view+json": {
       "model_id": "1449f2dc27c64d799cd7c1f0ff21618a",
       "version_major": 2,
       "version_minor": 0
      },
      "text/plain": [
       "Iteration:   0%|          | 0/435 [00:00<?, ?it/s]"
      ]
     },
     "metadata": {},
     "output_type": "display_data"
    },
    {
     "name": "stderr",
     "output_type": "stream",
     "text": [
      "***** Running evaluation *****\n",
      "[I 2025-08-30 09:06:53,699] Trial 4 finished with value: 0.709 and parameters: {'learning_rate': 7.767584162302533e-05}. Best is trial 3 with value: 0.7127.\n",
      "Trial: {'learning_rate': 0.0007155928029514484}\n"
     ]
    },
    {
     "name": "stdout",
     "output_type": "stream",
     "text": [
      "Confusion Matrix:\n",
      " [[53 13 13]\n",
      " [13 67  9]\n",
      " [16 14 70]]\n",
      "              precision    recall  f1-score   support\n",
      "\n",
      "    Adaptive     0.6463    0.6709    0.6584        79\n",
      "  Corrective     0.7128    0.7528    0.7322        89\n",
      "  Perfective     0.7609    0.7000    0.7292       100\n",
      "\n",
      "    accuracy                         0.7090       268\n",
      "   macro avg     0.7067    0.7079    0.7066       268\n",
      "weighted avg     0.7111    0.7090    0.7093       268\n",
      "\n",
      "+++++++++++ {'classification_report': '              precision    recall  f1-score   support\\n\\n    Adaptive     0.6463    0.6709    0.6584        79\\n  Corrective     0.7128    0.7528    0.7322        89\\n  Perfective     0.7609    0.7000    0.7292       100\\n\\n    accuracy                         0.7090       268\\n   macro avg     0.7067    0.7079    0.7066       268\\nweighted avg     0.7111    0.7090    0.7093       268\\n', 'Confusion Matrix': array([[53, 13, 13],\n",
      "       [13, 67,  9],\n",
      "       [16, 14, 70]]), 'precision': 0.7067, 'recall': 0.7079, 'f1': 0.7066, 'accuracy': 0.709}\n"
     ]
    },
    {
     "name": "stderr",
     "output_type": "stream",
     "text": [
      "model_head.pkl not found in /root/autodl-tmp/CommitFit/sentence-transformers/paraphrase-mpnet-base-v2, initialising classification head with random weights. You should TRAIN this model on a downstream task to use it for predictions and inference.\n"
     ]
    },
    {
     "data": {
      "application/vnd.jupyter.widget-view+json": {
       "model_id": "d66903d66cdd4779ab005a6a9ae1bcde",
       "version_major": 2,
       "version_minor": 0
      },
      "text/plain": [
       "Generating Training Pairs:   0%|          | 0/20 [00:00<?, ?it/s]"
      ]
     },
     "metadata": {},
     "output_type": "display_data"
    },
    {
     "name": "stderr",
     "output_type": "stream",
     "text": [
      "***** Running training *****\n",
      "  Num examples = 6960\n",
      "  Num epochs = 1\n",
      "  Total optimization steps = 435\n",
      "  Total train batch size = 16\n"
     ]
    },
    {
     "data": {
      "application/vnd.jupyter.widget-view+json": {
       "model_id": "343cb67a59eb47a2bebb31549a723845",
       "version_major": 2,
       "version_minor": 0
      },
      "text/plain": [
       "Epoch:   0%|          | 0/1 [00:00<?, ?it/s]"
      ]
     },
     "metadata": {},
     "output_type": "display_data"
    },
    {
     "data": {
      "application/vnd.jupyter.widget-view+json": {
       "model_id": "fed165bbd699415c97ba523cec4bc39c",
       "version_major": 2,
       "version_minor": 0
      },
      "text/plain": [
       "Iteration:   0%|          | 0/435 [00:00<?, ?it/s]"
      ]
     },
     "metadata": {},
     "output_type": "display_data"
    },
    {
     "name": "stderr",
     "output_type": "stream",
     "text": [
      "***** Running evaluation *****\n",
      "/root/miniconda3/lib/python3.10/site-packages/sklearn/metrics/_classification.py:1531: UndefinedMetricWarning: Precision is ill-defined and being set to 0.0 in labels with no predicted samples. Use `zero_division` parameter to control this behavior.\n",
      "  _warn_prf(average, modifier, f\"{metric.capitalize()} is\", len(result))\n",
      "/root/miniconda3/lib/python3.10/site-packages/sklearn/metrics/_classification.py:1531: UndefinedMetricWarning: Precision is ill-defined and being set to 0.0 in labels with no predicted samples. Use `zero_division` parameter to control this behavior.\n",
      "  _warn_prf(average, modifier, f\"{metric.capitalize()} is\", len(result))\n",
      "/root/miniconda3/lib/python3.10/site-packages/sklearn/metrics/_classification.py:1531: UndefinedMetricWarning: Precision is ill-defined and being set to 0.0 in labels with no predicted samples. Use `zero_division` parameter to control this behavior.\n",
      "  _warn_prf(average, modifier, f\"{metric.capitalize()} is\", len(result))\n",
      "/root/miniconda3/lib/python3.10/site-packages/sklearn/metrics/_classification.py:1531: UndefinedMetricWarning: Precision is ill-defined and being set to 0.0 in labels with no predicted samples. Use `zero_division` parameter to control this behavior.\n",
      "  _warn_prf(average, modifier, f\"{metric.capitalize()} is\", len(result))\n",
      "/root/miniconda3/lib/python3.10/site-packages/sklearn/metrics/_classification.py:1531: UndefinedMetricWarning: Precision is ill-defined and being set to 0.0 in labels with no predicted samples. Use `zero_division` parameter to control this behavior.\n",
      "  _warn_prf(average, modifier, f\"{metric.capitalize()} is\", len(result))\n",
      "/root/miniconda3/lib/python3.10/site-packages/sklearn/metrics/_classification.py:1531: UndefinedMetricWarning: Precision is ill-defined and being set to 0.0 in labels with no predicted samples. Use `zero_division` parameter to control this behavior.\n",
      "  _warn_prf(average, modifier, f\"{metric.capitalize()} is\", len(result))\n",
      "/root/miniconda3/lib/python3.10/site-packages/sklearn/metrics/_classification.py:1531: UndefinedMetricWarning: Precision is ill-defined and being set to 0.0 in labels with no predicted samples. Use `zero_division` parameter to control this behavior.\n",
      "  _warn_prf(average, modifier, f\"{metric.capitalize()} is\", len(result))\n",
      "[I 2025-08-30 09:07:49,484] Trial 5 finished with value: 0.3321 and parameters: {'learning_rate': 0.0007155928029514484}. Best is trial 3 with value: 0.7127.\n",
      "Trial: {'learning_rate': 0.00014410853492939242}\n"
     ]
    },
    {
     "name": "stdout",
     "output_type": "stream",
     "text": [
      "Confusion Matrix:\n",
      " [[  0  79   0]\n",
      " [  0  89   0]\n",
      " [  0 100   0]]\n",
      "              precision    recall  f1-score   support\n",
      "\n",
      "    Adaptive     0.0000    0.0000    0.0000        79\n",
      "  Corrective     0.3321    1.0000    0.4986        89\n",
      "  Perfective     0.0000    0.0000    0.0000       100\n",
      "\n",
      "    accuracy                         0.3321       268\n",
      "   macro avg     0.1107    0.3333    0.1662       268\n",
      "weighted avg     0.1103    0.3321    0.1656       268\n",
      "\n",
      "+++++++++++ {'classification_report': '              precision    recall  f1-score   support\\n\\n    Adaptive     0.0000    0.0000    0.0000        79\\n  Corrective     0.3321    1.0000    0.4986        89\\n  Perfective     0.0000    0.0000    0.0000       100\\n\\n    accuracy                         0.3321       268\\n   macro avg     0.1107    0.3333    0.1662       268\\nweighted avg     0.1103    0.3321    0.1656       268\\n', 'Confusion Matrix': array([[  0,  79,   0],\n",
      "       [  0,  89,   0],\n",
      "       [  0, 100,   0]]), 'precision': 0.1107, 'recall': 0.3333, 'f1': 0.1662, 'accuracy': 0.3321}\n"
     ]
    },
    {
     "name": "stderr",
     "output_type": "stream",
     "text": [
      "model_head.pkl not found in /root/autodl-tmp/CommitFit/sentence-transformers/paraphrase-mpnet-base-v2, initialising classification head with random weights. You should TRAIN this model on a downstream task to use it for predictions and inference.\n"
     ]
    },
    {
     "data": {
      "application/vnd.jupyter.widget-view+json": {
       "model_id": "9d9a840da99140efbd1f4cf2c693c794",
       "version_major": 2,
       "version_minor": 0
      },
      "text/plain": [
       "Generating Training Pairs:   0%|          | 0/20 [00:00<?, ?it/s]"
      ]
     },
     "metadata": {},
     "output_type": "display_data"
    },
    {
     "name": "stderr",
     "output_type": "stream",
     "text": [
      "***** Running training *****\n",
      "  Num examples = 6960\n",
      "  Num epochs = 1\n",
      "  Total optimization steps = 435\n",
      "  Total train batch size = 16\n"
     ]
    },
    {
     "data": {
      "application/vnd.jupyter.widget-view+json": {
       "model_id": "80698a0780534f16aa3bb7e1827d5db4",
       "version_major": 2,
       "version_minor": 0
      },
      "text/plain": [
       "Epoch:   0%|          | 0/1 [00:00<?, ?it/s]"
      ]
     },
     "metadata": {},
     "output_type": "display_data"
    },
    {
     "data": {
      "application/vnd.jupyter.widget-view+json": {
       "model_id": "3265b4595be740c8bda22ffdffb6d91a",
       "version_major": 2,
       "version_minor": 0
      },
      "text/plain": [
       "Iteration:   0%|          | 0/435 [00:00<?, ?it/s]"
      ]
     },
     "metadata": {},
     "output_type": "display_data"
    },
    {
     "name": "stderr",
     "output_type": "stream",
     "text": [
      "***** Running evaluation *****\n",
      "[I 2025-08-30 09:08:45,739] Trial 6 finished with value: 0.6493 and parameters: {'learning_rate': 0.00014410853492939242}. Best is trial 3 with value: 0.7127.\n",
      "Trial: {'learning_rate': 4.344329790916769e-06}\n"
     ]
    },
    {
     "name": "stdout",
     "output_type": "stream",
     "text": [
      "Confusion Matrix:\n",
      " [[63 10  6]\n",
      " [22 63  4]\n",
      " [40 12 48]]\n",
      "              precision    recall  f1-score   support\n",
      "\n",
      "    Adaptive     0.5040    0.7975    0.6176        79\n",
      "  Corrective     0.7412    0.7079    0.7241        89\n",
      "  Perfective     0.8276    0.4800    0.6076       100\n",
      "\n",
      "    accuracy                         0.6493       268\n",
      "   macro avg     0.6909    0.6618    0.6498       268\n",
      "weighted avg     0.7035    0.6493    0.6493       268\n",
      "\n",
      "+++++++++++ {'classification_report': '              precision    recall  f1-score   support\\n\\n    Adaptive     0.5040    0.7975    0.6176        79\\n  Corrective     0.7412    0.7079    0.7241        89\\n  Perfective     0.8276    0.4800    0.6076       100\\n\\n    accuracy                         0.6493       268\\n   macro avg     0.6909    0.6618    0.6498       268\\nweighted avg     0.7035    0.6493    0.6493       268\\n', 'Confusion Matrix': array([[63, 10,  6],\n",
      "       [22, 63,  4],\n",
      "       [40, 12, 48]]), 'precision': 0.6909, 'recall': 0.6618, 'f1': 0.6498, 'accuracy': 0.6493}\n"
     ]
    },
    {
     "name": "stderr",
     "output_type": "stream",
     "text": [
      "model_head.pkl not found in /root/autodl-tmp/CommitFit/sentence-transformers/paraphrase-mpnet-base-v2, initialising classification head with random weights. You should TRAIN this model on a downstream task to use it for predictions and inference.\n"
     ]
    },
    {
     "data": {
      "application/vnd.jupyter.widget-view+json": {
       "model_id": "e659a59941ae4d1c8d7efbd1164bbf69",
       "version_major": 2,
       "version_minor": 0
      },
      "text/plain": [
       "Generating Training Pairs:   0%|          | 0/20 [00:00<?, ?it/s]"
      ]
     },
     "metadata": {},
     "output_type": "display_data"
    },
    {
     "name": "stderr",
     "output_type": "stream",
     "text": [
      "***** Running training *****\n",
      "  Num examples = 6960\n",
      "  Num epochs = 1\n",
      "  Total optimization steps = 435\n",
      "  Total train batch size = 16\n"
     ]
    },
    {
     "data": {
      "application/vnd.jupyter.widget-view+json": {
       "model_id": "287d4219640544e682eb5bea3e024cdf",
       "version_major": 2,
       "version_minor": 0
      },
      "text/plain": [
       "Epoch:   0%|          | 0/1 [00:00<?, ?it/s]"
      ]
     },
     "metadata": {},
     "output_type": "display_data"
    },
    {
     "data": {
      "application/vnd.jupyter.widget-view+json": {
       "model_id": "f547c9f629ec4ec5b2b7357bafe7b8aa",
       "version_major": 2,
       "version_minor": 0
      },
      "text/plain": [
       "Iteration:   0%|          | 0/435 [00:00<?, ?it/s]"
      ]
     },
     "metadata": {},
     "output_type": "display_data"
    },
    {
     "name": "stderr",
     "output_type": "stream",
     "text": [
      "***** Running evaluation *****\n",
      "[I 2025-08-30 09:09:41,808] Trial 7 finished with value: 0.7239 and parameters: {'learning_rate': 4.344329790916769e-06}. Best is trial 7 with value: 0.7239.\n",
      "Trial: {'learning_rate': 5.180342794683355e-06}\n"
     ]
    },
    {
     "name": "stdout",
     "output_type": "stream",
     "text": [
      "Confusion Matrix:\n",
      " [[56  6 17]\n",
      " [11 71  7]\n",
      " [23 10 67]]\n",
      "              precision    recall  f1-score   support\n",
      "\n",
      "    Adaptive     0.6222    0.7089    0.6627        79\n",
      "  Corrective     0.8161    0.7978    0.8068        89\n",
      "  Perfective     0.7363    0.6700    0.7016       100\n",
      "\n",
      "    accuracy                         0.7239       268\n",
      "   macro avg     0.7249    0.7255    0.7237       268\n",
      "weighted avg     0.7292    0.7239    0.7251       268\n",
      "\n",
      "+++++++++++ {'classification_report': '              precision    recall  f1-score   support\\n\\n    Adaptive     0.6222    0.7089    0.6627        79\\n  Corrective     0.8161    0.7978    0.8068        89\\n  Perfective     0.7363    0.6700    0.7016       100\\n\\n    accuracy                         0.7239       268\\n   macro avg     0.7249    0.7255    0.7237       268\\nweighted avg     0.7292    0.7239    0.7251       268\\n', 'Confusion Matrix': array([[56,  6, 17],\n",
      "       [11, 71,  7],\n",
      "       [23, 10, 67]]), 'precision': 0.7249, 'recall': 0.7255, 'f1': 0.7237, 'accuracy': 0.7239}\n"
     ]
    },
    {
     "name": "stderr",
     "output_type": "stream",
     "text": [
      "model_head.pkl not found in /root/autodl-tmp/CommitFit/sentence-transformers/paraphrase-mpnet-base-v2, initialising classification head with random weights. You should TRAIN this model on a downstream task to use it for predictions and inference.\n"
     ]
    },
    {
     "data": {
      "application/vnd.jupyter.widget-view+json": {
       "model_id": "2d6f1080386d497cb3107f4f9aaf248b",
       "version_major": 2,
       "version_minor": 0
      },
      "text/plain": [
       "Generating Training Pairs:   0%|          | 0/20 [00:00<?, ?it/s]"
      ]
     },
     "metadata": {},
     "output_type": "display_data"
    },
    {
     "name": "stderr",
     "output_type": "stream",
     "text": [
      "***** Running training *****\n",
      "  Num examples = 6960\n",
      "  Num epochs = 1\n",
      "  Total optimization steps = 435\n",
      "  Total train batch size = 16\n"
     ]
    },
    {
     "data": {
      "application/vnd.jupyter.widget-view+json": {
       "model_id": "82451382bd7b473794ec3141090fef47",
       "version_major": 2,
       "version_minor": 0
      },
      "text/plain": [
       "Epoch:   0%|          | 0/1 [00:00<?, ?it/s]"
      ]
     },
     "metadata": {},
     "output_type": "display_data"
    },
    {
     "data": {
      "application/vnd.jupyter.widget-view+json": {
       "model_id": "979253783d164a6e86ee0b5fb2daeb6d",
       "version_major": 2,
       "version_minor": 0
      },
      "text/plain": [
       "Iteration:   0%|          | 0/435 [00:00<?, ?it/s]"
      ]
     },
     "metadata": {},
     "output_type": "display_data"
    },
    {
     "name": "stderr",
     "output_type": "stream",
     "text": [
      "IOPub message rate exceeded.\n",
      "The Jupyter server will temporarily stop sending output\n",
      "to the client in order to avoid crashing it.\n",
      "To change this limit, set the config variable\n",
      "`--ServerApp.iopub_msg_rate_limit`.\n",
      "\n",
      "Current values:\n",
      "ServerApp.iopub_msg_rate_limit=1000.0 (msgs/sec)\n",
      "ServerApp.rate_limit_window=3.0 (secs)\n",
      "\n"
     ]
    }
   ],
   "source": [
    "trainer = CommitFitTrainer(\n",
    "    train_dataset=train_dataset,\n",
    "    train_code_change = train_code_change,\n",
    "    test_code_change = test_code_change,\n",
    "    eval_dataset=test_dataset,\n",
    "    model_init=model_init,\n",
    "    metric = compute_metrics,\n",
    "    num_iterations=20,\n",
    "    num_epochs=1\n",
    ")\n",
    "best_run = trainer.hyperparameter_search(direction=\"maximize\", hp_space=hp_space, compute_objective=my_compute_objective, n_trials=10)"
   ]
  },
  {
   "cell_type": "code",
   "execution_count": 19,
   "id": "91deb34e-2ef0-4f00-b6e7-7ffd18605c52",
   "metadata": {
    "execution": {
     "iopub.execute_input": "2025-08-30T01:11:34.047918Z",
     "iopub.status.busy": "2025-08-30T01:11:34.047395Z",
     "iopub.status.idle": "2025-08-30T01:11:34.050784Z",
     "shell.execute_reply": "2025-08-30T01:11:34.050242Z",
     "shell.execute_reply.started": "2025-08-30T01:11:34.047892Z"
    }
   },
   "outputs": [],
   "source": [
    "# best_run"
   ]
  },
  {
   "cell_type": "code",
   "execution_count": 20,
   "id": "40cfde46-c7d5-4446-8b53-7ad4dc8edb66",
   "metadata": {
    "execution": {
     "iopub.execute_input": "2025-08-30T01:11:34.052043Z",
     "iopub.status.busy": "2025-08-30T01:11:34.051563Z",
     "iopub.status.idle": "2025-08-30T01:11:34.056214Z",
     "shell.execute_reply": "2025-08-30T01:11:34.055694Z",
     "shell.execute_reply.started": "2025-08-30T01:11:34.052013Z"
    }
   },
   "outputs": [
    {
     "data": {
      "text/plain": [
       "{'learning_rate': 3.7846880249999174e-06}"
      ]
     },
     "execution_count": 20,
     "metadata": {},
     "output_type": "execute_result"
    }
   ],
   "source": [
    "best_run.hyperparameters"
   ]
  },
  {
   "cell_type": "code",
   "execution_count": 21,
   "id": "ae735a8b-c672-4dce-822c-61330c34481b",
   "metadata": {
    "execution": {
     "iopub.execute_input": "2025-08-30T01:11:34.057566Z",
     "iopub.status.busy": "2025-08-30T01:11:34.057085Z",
     "iopub.status.idle": "2025-08-30T01:12:25.351166Z",
     "shell.execute_reply": "2025-08-30T01:12:25.350404Z",
     "shell.execute_reply.started": "2025-08-30T01:11:34.057537Z"
    }
   },
   "outputs": [
    {
     "name": "stderr",
     "output_type": "stream",
     "text": [
      "model_head.pkl not found in /root/autodl-tmp/CommitFit/sentence-transformers/paraphrase-mpnet-base-v2, initialising classification head with random weights. You should TRAIN this model on a downstream task to use it for predictions and inference.\n"
     ]
    },
    {
     "data": {
      "application/vnd.jupyter.widget-view+json": {
       "model_id": "b55b3d569cca4e28ac0c8eaf8765e379",
       "version_major": 2,
       "version_minor": 0
      },
      "text/plain": [
       "Generating Training Pairs:   0%|          | 0/20 [00:00<?, ?it/s]"
      ]
     },
     "metadata": {},
     "output_type": "display_data"
    },
    {
     "name": "stderr",
     "output_type": "stream",
     "text": [
      "***** Running training *****\n",
      "  Num examples = 6960\n",
      "  Num epochs = 1\n",
      "  Total optimization steps = 435\n",
      "  Total train batch size = 16\n"
     ]
    },
    {
     "data": {
      "application/vnd.jupyter.widget-view+json": {
       "model_id": "b6c8a4e233bd473887e78a7f9fcbd076",
       "version_major": 2,
       "version_minor": 0
      },
      "text/plain": [
       "Epoch:   0%|          | 0/1 [00:00<?, ?it/s]"
      ]
     },
     "metadata": {},
     "output_type": "display_data"
    },
    {
     "data": {
      "application/vnd.jupyter.widget-view+json": {
       "model_id": "ef99fbebc00345d192ed28446fe528ff",
       "version_major": 2,
       "version_minor": 0
      },
      "text/plain": [
       "Iteration:   0%|          | 0/435 [00:00<?, ?it/s]"
      ]
     },
     "metadata": {},
     "output_type": "display_data"
    }
   ],
   "source": [
    "trainer.apply_hyperparameters(best_run.hyperparameters, final_model=True)\n",
    "trainer.train()"
   ]
  },
  {
   "cell_type": "code",
   "execution_count": 22,
   "id": "166dcf9b-a0bd-4b60-854c-c6535c22a111",
   "metadata": {
    "execution": {
     "iopub.execute_input": "2025-08-30T01:12:25.352445Z",
     "iopub.status.busy": "2025-08-30T01:12:25.352067Z",
     "iopub.status.idle": "2025-08-30T01:12:30.159950Z",
     "shell.execute_reply": "2025-08-30T01:12:30.159428Z",
     "shell.execute_reply.started": "2025-08-30T01:12:25.352418Z"
    }
   },
   "outputs": [
    {
     "name": "stderr",
     "output_type": "stream",
     "text": [
      "***** Running evaluation *****\n"
     ]
    },
    {
     "name": "stdout",
     "output_type": "stream",
     "text": [
      "Confusion Matrix:\n",
      " [[56  6 17]\n",
      " [12 70  7]\n",
      " [24 10 66]]\n",
      "              precision    recall  f1-score   support\n",
      "\n",
      "    Adaptive     0.6087    0.7089    0.6550        79\n",
      "  Corrective     0.8140    0.7865    0.8000        89\n",
      "  Perfective     0.7333    0.6600    0.6947       100\n",
      "\n",
      "    accuracy                         0.7164       268\n",
      "   macro avg     0.7187    0.7185    0.7166       268\n",
      "weighted avg     0.7234    0.7164    0.7180       268\n",
      "\n"
     ]
    },
    {
     "data": {
      "text/plain": [
       "{'classification_report': '              precision    recall  f1-score   support\\n\\n    Adaptive     0.6087    0.7089    0.6550        79\\n  Corrective     0.8140    0.7865    0.8000        89\\n  Perfective     0.7333    0.6600    0.6947       100\\n\\n    accuracy                         0.7164       268\\n   macro avg     0.7187    0.7185    0.7166       268\\nweighted avg     0.7234    0.7164    0.7180       268\\n',\n",
       " 'Confusion Matrix': array([[56,  6, 17],\n",
       "        [12, 70,  7],\n",
       "        [24, 10, 66]]),\n",
       " 'precision': 0.7187,\n",
       " 'recall': 0.7185,\n",
       " 'f1': 0.7166,\n",
       " 'accuracy': 0.7164}"
      ]
     },
     "execution_count": 22,
     "metadata": {},
     "output_type": "execute_result"
    }
   ],
   "source": [
    "fewshot_metrics = trainer.evaluate()\n",
    "fewshot_metrics"
   ]
  },
  {
   "cell_type": "code",
   "execution_count": 23,
   "id": "af21aba7-66cd-4762-b5d4-6d27650bba7e",
   "metadata": {
    "execution": {
     "iopub.execute_input": "2025-08-30T01:12:30.161032Z",
     "iopub.status.busy": "2025-08-30T01:12:30.160685Z",
     "iopub.status.idle": "2025-08-30T01:12:31.235524Z",
     "shell.execute_reply": "2025-08-30T01:12:31.234599Z",
     "shell.execute_reply.started": "2025-08-30T01:12:30.161007Z"
    }
   },
   "outputs": [
    {
     "name": "stdout",
     "output_type": "stream",
     "text": [
      "强化学习模型训练完毕\n"
     ]
    }
   ],
   "source": [
    "#发送多种类型的邮件\n",
    "from email.mime.multipart import MIMEMultipart\n",
    "import smtplib\n",
    "\n",
    "from email.mime.text import MIMEText\n",
    "msg_from = '915803745@qq.com'  # 发送方邮箱\n",
    "passwd = 'vcuosuurrgkfbdai'   #就是上面的授权码\n",
    " \n",
    "# to= ['g.zhang@gotion.com', 'j.tong@gotion.com'] #接受方邮箱\n",
    "to= ['j.tong@gotion.com'] #接受方邮箱\n",
    "#设置邮件内容\n",
    "#MIMEMultipart类可以放任何内容\n",
    "msg = MIMEMultipart()\n",
    "conntent=f\"{fewshot_metrics}\"\n",
    "#把内容加进去\n",
    "msg.attach(MIMEText(conntent,'plain','utf-8'))\n",
    " \n",
    "#设置邮件主题\n",
    "msg['Subject']=\"强化学习模型训练完毕\"\n",
    " \n",
    "#发送方信息\n",
    "msg['From']=msg_from\n",
    " \n",
    "#开始发送\n",
    " \n",
    "#通过SSL方式发送，服务器地址和端口\n",
    "s = smtplib.SMTP_SSL(\"smtp.qq.com\", 465)\n",
    "# 登录邮箱\n",
    "s.login(msg_from, passwd)\n",
    "#开始发送\n",
    "s.sendmail(msg_from,to,msg.as_string())\n",
    "print(\"强化学习模型训练完毕\")"
   ]
  },
  {
   "cell_type": "code",
   "execution_count": null,
   "id": "025b5144-4d11-4fae-b716-5cb039470225",
   "metadata": {},
   "outputs": [],
   "source": []
  }
 ],
 "metadata": {
  "kernelspec": {
   "display_name": "Python 3 (ipykernel)",
   "language": "python",
   "name": "python3"
  },
  "language_info": {
   "codemirror_mode": {
    "name": "ipython",
    "version": 3
   },
   "file_extension": ".py",
   "mimetype": "text/x-python",
   "name": "python",
   "nbconvert_exporter": "python",
   "pygments_lexer": "ipython3",
   "version": "3.10.8"
  }
 },
 "nbformat": 4,
 "nbformat_minor": 5
}
