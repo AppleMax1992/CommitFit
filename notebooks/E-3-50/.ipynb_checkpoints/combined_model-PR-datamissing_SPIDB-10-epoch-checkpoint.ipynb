{
 "cells": [
  {
   "cell_type": "code",
   "execution_count": 1,
   "id": "9f82a8cc-7b02-48d7-a783-6e89bccff8b2",
   "metadata": {
    "execution": {
     "iopub.execute_input": "2025-08-24T13:21:45.760669Z",
     "iopub.status.busy": "2025-08-24T13:21:45.759984Z",
     "iopub.status.idle": "2025-08-24T13:21:50.528619Z",
     "shell.execute_reply": "2025-08-24T13:21:50.527468Z",
     "shell.execute_reply.started": "2025-08-24T13:21:45.760589Z"
    }
   },
   "outputs": [],
   "source": [
    "import pandas as pd\n",
    "from sklearn.model_selection import train_test_split\n",
    "import ensemble_model.preprocesser as preprocesser \n",
    "import ensemble_model.combined_model as cm \n",
    "from torch.utils.data import Dataset, DataLoader\n",
    "from transformers import BertModel, BertTokenizer, RobertaModel, RobertaTokenizer\n",
    "import numpy as np\n",
    "from sklearn.manifold import TSNE\n",
    "import matplotlib.pyplot as plt\n",
    "from sklearn.metrics import precision_score, recall_score, f1_score, precision_recall_curve"
   ]
  },
  {
   "cell_type": "code",
   "execution_count": 2,
   "id": "666cb7bc-ce61-42cb-b7fa-934b5e5d3580",
   "metadata": {
    "execution": {
     "iopub.execute_input": "2025-08-24T13:21:50.529990Z",
     "iopub.status.busy": "2025-08-24T13:21:50.529655Z",
     "iopub.status.idle": "2025-08-24T13:21:51.413218Z",
     "shell.execute_reply": "2025-08-24T13:21:51.412240Z",
     "shell.execute_reply.started": "2025-08-24T13:21:50.529962Z"
    }
   },
   "outputs": [
    {
     "data": {
      "text/html": [
       "<div>\n",
       "<style scoped>\n",
       "    .dataframe tbody tr th:only-of-type {\n",
       "        vertical-align: middle;\n",
       "    }\n",
       "\n",
       "    .dataframe tbody tr th {\n",
       "        vertical-align: top;\n",
       "    }\n",
       "\n",
       "    .dataframe thead th {\n",
       "        text-align: right;\n",
       "    }\n",
       "</style>\n",
       "<table border=\"1\" class=\"dataframe\">\n",
       "  <thead>\n",
       "    <tr style=\"text-align: right;\">\n",
       "      <th></th>\n",
       "      <th>message</th>\n",
       "      <th>diff</th>\n",
       "      <th>label</th>\n",
       "    </tr>\n",
       "  </thead>\n",
       "  <tbody>\n",
       "    <tr>\n",
       "      <th>4</th>\n",
       "      <td>avformat/hlsenc: Check that data is set If co...</td>\n",
       "      <td>diff --git a/libavformat/hlsenc.c b/libavforma...</td>\n",
       "      <td>0</td>\n",
       "    </tr>\n",
       "    <tr>\n",
       "      <th>5</th>\n",
       "      <td>libavcodec/h264_sei: Don't log random user da...</td>\n",
       "      <td>diff --git a/libavcodec/h264_sei.c b/libavcode...</td>\n",
       "      <td>0</td>\n",
       "    </tr>\n",
       "    <tr>\n",
       "      <th>7</th>\n",
       "      <td>avconv.c: fix calculation of input file durat...</td>\n",
       "      <td>diff --git a/avtools/avconv.c b/avtools/avconv...</td>\n",
       "      <td>0</td>\n",
       "    </tr>\n",
       "    <tr>\n",
       "      <th>8</th>\n",
       "      <td>avcodec/dca_core: always limit frame size to ...</td>\n",
       "      <td>diff --git a/libavcodec/dca_core.c b/libavcode...</td>\n",
       "      <td>0</td>\n",
       "    </tr>\n",
       "    <tr>\n",
       "      <th>9</th>\n",
       "      <td>Don't use _tzcnt instrinics with clang for wi...</td>\n",
       "      <td>diff --git a/libavutil/x86/intmath.h b/libavut...</td>\n",
       "      <td>0</td>\n",
       "    </tr>\n",
       "    <tr>\n",
       "      <th>...</th>\n",
       "      <td>...</td>\n",
       "      <td>...</td>\n",
       "      <td>...</td>\n",
       "    </tr>\n",
       "    <tr>\n",
       "      <th>11899</th>\n",
       "      <td>fix off-by-one generating vmdk backing files ...</td>\n",
       "      <td>diff --git a/block-vmdk.c b/block-vmdk.c\\ninde...</td>\n",
       "      <td>1</td>\n",
       "    </tr>\n",
       "    <tr>\n",
       "      <th>11900</th>\n",
       "      <td>CRIS: Plug a few temp leaks. Signed-off-by: E...</td>\n",
       "      <td>diff --git a/target-cris/translate.c b/target-...</td>\n",
       "      <td>1</td>\n",
       "    </tr>\n",
       "    <tr>\n",
       "      <th>11905</th>\n",
       "      <td>Bugfix: PowerPC 64 slbia never invalidates th...</td>\n",
       "      <td>diff --git a/target-ppc/helper.c b/target-ppc/...</td>\n",
       "      <td>1</td>\n",
       "    </tr>\n",
       "    <tr>\n",
       "      <th>11907</th>\n",
       "      <td>Fix crash in set registers in PPC gdb-stub, b...</td>\n",
       "      <td>diff --git a/target-ppc/helper.c b/target-ppc/...</td>\n",
       "      <td>1</td>\n",
       "    </tr>\n",
       "    <tr>\n",
       "      <th>11908</th>\n",
       "      <td>Fix division by zero handling, by Joris van R...</td>\n",
       "      <td>diff --git a/target-i386/translate.c b/target-...</td>\n",
       "      <td>1</td>\n",
       "    </tr>\n",
       "  </tbody>\n",
       "</table>\n",
       "<p>12825 rows × 3 columns</p>\n",
       "</div>"
      ],
      "text/plain": [
       "                                                 message  \\\n",
       "4       avformat/hlsenc: Check that data is set If co...   \n",
       "5       libavcodec/h264_sei: Don't log random user da...   \n",
       "7       avconv.c: fix calculation of input file durat...   \n",
       "8       avcodec/dca_core: always limit frame size to ...   \n",
       "9       Don't use _tzcnt instrinics with clang for wi...   \n",
       "...                                                  ...   \n",
       "11899   fix off-by-one generating vmdk backing files ...   \n",
       "11900   CRIS: Plug a few temp leaks. Signed-off-by: E...   \n",
       "11905   Bugfix: PowerPC 64 slbia never invalidates th...   \n",
       "11907   Fix crash in set registers in PPC gdb-stub, b...   \n",
       "11908   Fix division by zero handling, by Joris van R...   \n",
       "\n",
       "                                                    diff  label  \n",
       "4      diff --git a/libavformat/hlsenc.c b/libavforma...      0  \n",
       "5      diff --git a/libavcodec/h264_sei.c b/libavcode...      0  \n",
       "7      diff --git a/avtools/avconv.c b/avtools/avconv...      0  \n",
       "8      diff --git a/libavcodec/dca_core.c b/libavcode...      0  \n",
       "9      diff --git a/libavutil/x86/intmath.h b/libavut...      0  \n",
       "...                                                  ...    ...  \n",
       "11899  diff --git a/block-vmdk.c b/block-vmdk.c\\ninde...      1  \n",
       "11900  diff --git a/target-cris/translate.c b/target-...      1  \n",
       "11905  diff --git a/target-ppc/helper.c b/target-ppc/...      1  \n",
       "11907  diff --git a/target-ppc/helper.c b/target-ppc/...      1  \n",
       "11908  diff --git a/target-i386/translate.c b/target-...      1  \n",
       "\n",
       "[12825 rows x 3 columns]"
      ]
     },
     "execution_count": 2,
     "metadata": {},
     "output_type": "execute_result"
    }
   ],
   "source": [
    "neg = pd.read_csv(r'/root/reinforcement_commit/datasets/ffmpeg.csv')\n",
    "pos = pd.read_csv(r'/root/reinforcement_commit/datasets/qemu.csv', encoding='utf_8_sig')\n",
    "df = pd.concat([neg[['commit_msg','patch','vulnerability']],pos[['commit_msg','patch','vulnerability']]],axis=0)\n",
    "df.fillna('', inplace=True)\n",
    "# 1是100%的意思\n",
    "# df = df.sample(frac=1, random_state=42).reset_index(drop=True)\n",
    "\n",
    "df.rename(columns={'vulnerability':'label','patch':'diff','commit_msg':'message'},inplace=True)\n",
    "df =  df[df['diff'].str.len()<1024]\n",
    "df "
   ]
  },
  {
   "cell_type": "code",
   "execution_count": 3,
   "id": "18e5ba2e-9175-4455-a42a-ced130563441",
   "metadata": {
    "execution": {
     "iopub.execute_input": "2025-08-24T13:21:51.414209Z",
     "iopub.status.busy": "2025-08-24T13:21:51.413998Z",
     "iopub.status.idle": "2025-08-24T13:21:51.422433Z",
     "shell.execute_reply": "2025-08-24T13:21:51.421464Z",
     "shell.execute_reply.started": "2025-08-24T13:21:51.414187Z"
    }
   },
   "outputs": [],
   "source": [
    "train, temp = train_test_split(df, test_size=0.3, random_state=42)\n",
    "val, test = train_test_split(temp, test_size=0.5, random_state=42)"
   ]
  },
  {
   "cell_type": "code",
   "execution_count": 4,
   "id": "23ded5b2-b057-4117-b99b-fa77a39bb480",
   "metadata": {
    "execution": {
     "iopub.execute_input": "2025-08-24T13:21:51.424454Z",
     "iopub.status.busy": "2025-08-24T13:21:51.424252Z",
     "iopub.status.idle": "2025-08-24T13:21:51.434496Z",
     "shell.execute_reply": "2025-08-24T13:21:51.433486Z",
     "shell.execute_reply.started": "2025-08-24T13:21:51.424432Z"
    }
   },
   "outputs": [],
   "source": [
    "# len(df_dataset)"
   ]
  },
  {
   "cell_type": "code",
   "execution_count": 5,
   "id": "7b104969-4a01-44b3-8b11-72188d0042e6",
   "metadata": {
    "execution": {
     "iopub.execute_input": "2025-08-24T13:21:51.435376Z",
     "iopub.status.busy": "2025-08-24T13:21:51.435186Z",
     "iopub.status.idle": "2025-08-24T13:21:51.439406Z",
     "shell.execute_reply": "2025-08-24T13:21:51.438461Z",
     "shell.execute_reply.started": "2025-08-24T13:21:51.435356Z"
    }
   },
   "outputs": [],
   "source": [
    "# df_dataset[0]"
   ]
  },
  {
   "cell_type": "code",
   "execution_count": 6,
   "id": "7b77e6e8-8d9d-45f3-be04-94a8b7499213",
   "metadata": {
    "execution": {
     "iopub.execute_input": "2025-08-24T13:21:51.440195Z",
     "iopub.status.busy": "2025-08-24T13:21:51.439994Z",
     "iopub.status.idle": "2025-08-24T13:21:52.267856Z",
     "shell.execute_reply": "2025-08-24T13:21:52.266289Z",
     "shell.execute_reply.started": "2025-08-24T13:21:51.440172Z"
    }
   },
   "outputs": [],
   "source": [
    "# Load BERT and CodeBERT models and tokenizers\n",
    "bert_model = BertModel.from_pretrained('/root/autodl-tmp/active-patcher/models/bert-base-uncased')\n",
    "bert_tokenizer = BertTokenizer.from_pretrained('/root/autodl-tmp/active-patcher/models/bert-base-uncased')\n",
    "\n",
    "codebert_model = RobertaModel.from_pretrained('/root/autodl-tmp/active-patcher/models/codebert-base')\n",
    "codebert_tokenizer = RobertaTokenizer.from_pretrained('/root/autodl-tmp/active-patcher/models/codebert-base')"
   ]
  },
  {
   "cell_type": "code",
   "execution_count": null,
   "id": "1549be02-6f6b-41e5-bd04-d3e164061eec",
   "metadata": {
    "execution": {
     "iopub.execute_input": "2025-08-24T13:21:52.269434Z",
     "iopub.status.busy": "2025-08-24T13:21:52.269159Z"
    }
   },
   "outputs": [
    {
     "name": "stderr",
     "output_type": "stream",
     "text": [
      "/root/miniconda3/lib/python3.10/site-packages/transformers/optimization.py:591: FutureWarning: This implementation of AdamW is deprecated and will be removed in a future version. Use the PyTorch implementation torch.optim.AdamW instead, or set `no_deprecation_warning=True` to disable this warning\n",
      "  warnings.warn(\n",
      "Epoch 1/10:   1%|▏         | 4/281 [00:04<04:49,  1.05s/batch]"
     ]
    }
   ],
   "source": [
    "train.reset_index(inplace=True)\n",
    "val.reset_index(inplace=True)\n",
    "test.reset_index(inplace=True)\n",
    "\n",
    "# Create Datasets and DataLoaders\n",
    "train_dataset = preprocesser.SentencePairDataset(train, bert_tokenizer, codebert_tokenizer,message='message',command='diff',label='label')\n",
    "val_dataset = preprocesser.SentencePairDataset(val, bert_tokenizer, codebert_tokenizer,message='message',command='diff',label='label')\n",
    "test_dataset = preprocesser.SentencePairDataset(test, bert_tokenizer, codebert_tokenizer,message='message',command='diff',label='label')\n",
    "train_loader = DataLoader(train_dataset, batch_size=32, shuffle=True)\n",
    "val_loader = DataLoader(val_dataset, batch_size=32, shuffle=False)\n",
    "test_loader = DataLoader(test_dataset, batch_size=32, shuffle=False)\n",
    "\n",
    "\n",
    "\n",
    "# # Initialize the model\n",
    "# model = em.CombinedModel(bert_model, codebert_model, bert_tokenizer, codebert_tokenizer)\n",
    "\n",
    "# # Train the model\n",
    "# model.trainer(train_loader, val_loader,num_epochs=10)\n",
    "# for batch in train_loader:\n",
    "#     print(batch)\n",
    "\n",
    "\n",
    "base_model1 = cm.BaseModel(bert_model)\n",
    "base_model2 = cm.BaseModel(codebert_model)\n",
    "\n",
    "# Create stacking model\n",
    "combined_model = cm.CombinedModel(base_model1, base_model2)\n",
    "# Train the model\n",
    "combined_model.trainer(train_loader, val_loader,num_epochs=10, patience=3)"
   ]
  },
  {
   "cell_type": "code",
   "execution_count": null,
   "id": "def4bb0a-419c-46fb-b61b-c9f1a98f0caa",
   "metadata": {},
   "outputs": [],
   "source": [
    "test_dataset = preprocesser.SentencePairDataset(test, bert_tokenizer, codebert_tokenizer,message='message',command='diff',label='label')\n",
    "test_loader = DataLoader(test_dataset, batch_size=8, shuffle=False)"
   ]
  },
  {
   "cell_type": "code",
   "execution_count": null,
   "id": "4e01924f-b8a3-4282-acf6-6d38aee2620c",
   "metadata": {},
   "outputs": [],
   "source": []
  },
  {
   "cell_type": "code",
   "execution_count": null,
   "id": "92009384-7770-4b2a-97b2-c0b4d209a0a7",
   "metadata": {},
   "outputs": [],
   "source": []
  },
  {
   "cell_type": "code",
   "execution_count": null,
   "id": "49ad177a-0ad0-414e-a5b6-5b768a5da9cd",
   "metadata": {},
   "outputs": [],
   "source": []
  },
  {
   "cell_type": "code",
   "execution_count": null,
   "id": "5878d2a3-fe90-45b1-9486-739c4fee6004",
   "metadata": {},
   "outputs": [],
   "source": [
    "test_acc, test_labels, test_probabilities, test_embeddings, test_predictions = combined_model.evaluate(test_loader)"
   ]
  },
  {
   "cell_type": "code",
   "execution_count": null,
   "id": "0376c52a-7906-4b38-ab5b-88be13b3b3d5",
   "metadata": {},
   "outputs": [],
   "source": [
    "import torch\n",
    "import seaborn as sns\n",
    "from sklearn.cluster import KMeans"
   ]
  },
  {
   "cell_type": "code",
   "execution_count": null,
   "id": "b54c2834-60c9-416f-9bc6-c13cf7264801",
   "metadata": {},
   "outputs": [],
   "source": [
    "res = test.copy()"
   ]
  },
  {
   "cell_type": "code",
   "execution_count": null,
   "id": "2785c37d-4b86-48f6-a2ba-418332fe0c04",
   "metadata": {},
   "outputs": [],
   "source": [
    "res['test_labels'] = test_labels\n",
    "res['test_probabilities'] = test_probabilities\n",
    "res['test_embeddings'] = test_embeddings\n",
    "res['test_predictions'] = test_predictions"
   ]
  },
  {
   "cell_type": "code",
   "execution_count": null,
   "id": "3b05364a-af90-49dc-b8ce-86097f2bf17e",
   "metadata": {},
   "outputs": [],
   "source": [
    "def plot_tsne(embeddings, labels):\n",
    "    \n",
    "    tsne = TSNE(n_components=2, random_state=42)\n",
    "\n",
    "    print(\"embedding来啦\",embeddings[0].shape)\n",
    "    # embeddings_cpu = combined.cpu().detach()\n",
    "    # embeddings_np = torch.stack(embeddings_cpu).numpy()  # 形状：(600, 8, 768)\n",
    "    \n",
    "    # 维度变换\n",
    "    embeddings_np = np.vstack(embeddings) \n",
    "    embeddings_2d = tsne.fit_transform(embeddings_np)\n",
    "    df_tsne = pd.DataFrame(embeddings_2d, columns=['TSNE1', 'TSNE2'])\n",
    "    df_tsne['Class Name'] = labels # Add labels column from df_train to df_tsne\n",
    "    df_tsne\n",
    "    \n",
    "    fig, ax = plt.subplots(figsize=(8,6)) # Set figsize\n",
    "    sns.set_style('darkgrid', {\"grid.color\": \".6\", \"grid.linestyle\": \":\"})\n",
    "    sns.scatterplot(data=df_tsne, x='TSNE1', y='TSNE2', hue='Class Name', palette='hls')\n",
    "    sns.move_legend(ax, \"upper left\", bbox_to_anchor=(1, 1))\n",
    "    plt.title('Scatter plot of news using t-SNE');\n",
    "    plt.xlabel('TSNE1');\n",
    "    plt.ylabel('TSNE2');\n",
    "    plt.axis('equal')\n",
    "\n",
    "    # Apply KMeans\n",
    "    kmeans_model = KMeans(n_clusters=2, random_state=42, n_init='auto').fit(embeddings_np)\n",
    "    labels = kmeans_model.fit_predict(embeddings_np)\n",
    "    \n",
    "    df_tsne['Cluster'] = labels\n",
    "    df_tsne\n",
    "    fig, ax = plt.subplots(figsize=(8,6)) # Set figsize\n",
    "    sns.set_style('darkgrid', {\"grid.color\": \".6\", \"grid.linestyle\": \":\"})\n",
    "    sns.scatterplot(data=df_tsne, x='TSNE1', y='TSNE2', hue='Cluster', palette='magma')\n",
    "    sns.move_legend(ax, \"upper left\", bbox_to_anchor=(1, 1))\n",
    "    plt.title('Scatter plot of news using KMeans Clustering');\n",
    "    plt.xlabel('TSNE1')\n",
    "    plt.ylabel('TSNE2')\n",
    "    plt.axis('equal')"
   ]
  },
  {
   "cell_type": "code",
   "execution_count": null,
   "id": "a14e468d-3093-4c09-af6a-dfc9e49fec67",
   "metadata": {},
   "outputs": [],
   "source": [
    "plot_tsne(test_embeddings, test_labels)"
   ]
  },
  {
   "cell_type": "code",
   "execution_count": null,
   "id": "fba5b70f-44b3-4626-93d6-b00701ef81db",
   "metadata": {},
   "outputs": [],
   "source": [
    "# PR curve\n",
    "combined_model.plot_pr_curve(test_labels, test_probabilities)\n",
    "# Plot t-SNE for the best model"
   ]
  },
  {
   "cell_type": "code",
   "execution_count": null,
   "id": "0de47b49-8d23-4eca-9690-1cff4771159b",
   "metadata": {},
   "outputs": [],
   "source": [
    "# cluster to show the quality of embeddings\n",
    "combined_model.plot_tsne(test_embeddings, test_labels)"
   ]
  },
  {
   "cell_type": "code",
   "execution_count": null,
   "id": "6bd912de-09e5-42b9-b5be-a0dbdeb08233",
   "metadata": {},
   "outputs": [],
   "source": [
    "from sklearn.metrics import confusion_matrix"
   ]
  },
  {
   "cell_type": "code",
   "execution_count": null,
   "id": "14393aa5-3ad7-4dae-953c-ff77d8005640",
   "metadata": {},
   "outputs": [],
   "source": [
    "def plot_confusion_matrix(cm, classes, normalize=False, title='Confusion Matrix on Dataset I', cmap=plt.cm.Blues):\n",
    "    if normalize:\n",
    "        cm = cm.astype('float') / cm.sum(axis=1)[:, np.newaxis]\n",
    "\n",
    "    plt.figure(figsize=(8, 6))\n",
    "    plt.imshow(cm, interpolation='nearest', cmap=cmap)\n",
    "    plt.title(title)\n",
    "    plt.colorbar()\n",
    "\n",
    "    tick_marks = np.arange(len(classes))\n",
    "    plt.xticks(tick_marks, classes, rotation=45)\n",
    "    plt.yticks(tick_marks, classes)\n",
    "\n",
    "    fmt = '.2f' if normalize else 'd'\n",
    "    thresh = cm.max() / 2.0\n",
    "    for i in range(cm.shape[0]):\n",
    "        for j in range(cm.shape[1]):\n",
    "            plt.text(j, i, format(cm[i, j], fmt),\n",
    "                     horizontalalignment=\"center\",\n",
    "                     color=\"white\" if cm[i, j] > thresh else \"black\")\n",
    "\n",
    "    plt.ylabel('True label')\n",
    "    # plt.xlabel('Predicted label')\n",
    "    plt.tight_layout()"
   ]
  },
  {
   "cell_type": "code",
   "execution_count": null,
   "id": "9ee6becf-2511-478b-9487-d37f19cc708e",
   "metadata": {},
   "outputs": [],
   "source": [
    "cm = confusion_matrix(test_labels, test_predictions)\n",
    "\n",
    "# Call the function to plot the confusion matrix\n",
    "class_names = test['label'].unique()  # Replace with your class names\n",
    "plot_confusion_matrix(cm, classes=class_names, normalize=True)  # Set normalize=False if you want counts instead of percentages\n",
    "plt.savefig('Confusion Matrix on combined_model_Patch_DB')"
   ]
  }
 ],
 "metadata": {
  "kernelspec": {
   "display_name": "Python 3 (ipykernel)",
   "language": "python",
   "name": "python3"
  },
  "language_info": {
   "codemirror_mode": {
    "name": "ipython",
    "version": 3
   },
   "file_extension": ".py",
   "mimetype": "text/x-python",
   "name": "python",
   "nbconvert_exporter": "python",
   "pygments_lexer": "ipython3",
   "version": "3.10.8"
  }
 },
 "nbformat": 4,
 "nbformat_minor": 5
}
