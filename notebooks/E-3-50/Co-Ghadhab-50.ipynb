{
 "cells": [
  {
   "cell_type": "code",
   "execution_count": 1,
   "id": "9f82a8cc-7b02-48d7-a783-6e89bccff8b2",
   "metadata": {
    "execution": {
     "iopub.execute_input": "2025-08-30T05:24:46.425711Z",
     "iopub.status.busy": "2025-08-30T05:24:46.425411Z",
     "iopub.status.idle": "2025-08-30T05:24:49.416465Z",
     "shell.execute_reply": "2025-08-30T05:24:49.415608Z",
     "shell.execute_reply.started": "2025-08-30T05:24:46.425674Z"
    }
   },
   "outputs": [],
   "source": [
    "import sys\n",
    "sys.path.append('/root/autodl-tmp/CommitFit')\n",
    "import pandas as pd\n",
    "from sklearn.model_selection import train_test_split\n",
    "import ensemble_model.preprocesser as preprocesser \n",
    "import ensemble_model.combined_model as cm \n",
    "from torch.utils.data import Dataset, DataLoader\n",
    "from transformers import BertModel, BertTokenizer, RobertaModel, RobertaTokenizer\n",
    "import numpy as np\n",
    "from sklearn.manifold import TSNE\n",
    "import matplotlib.pyplot as plt\n",
    "from sklearn.metrics import precision_score, recall_score, f1_score, precision_recall_curve"
   ]
  },
  {
   "cell_type": "code",
   "execution_count": 2,
   "id": "666cb7bc-ce61-42cb-b7fa-934b5e5d3580",
   "metadata": {
    "execution": {
     "iopub.execute_input": "2025-08-30T05:24:49.418635Z",
     "iopub.status.busy": "2025-08-30T05:24:49.418339Z",
     "iopub.status.idle": "2025-08-30T05:24:49.760015Z",
     "shell.execute_reply": "2025-08-30T05:24:49.759181Z",
     "shell.execute_reply.started": "2025-08-30T05:24:49.418610Z"
    }
   },
   "outputs": [
    {
     "name": "stderr",
     "output_type": "stream",
     "text": [
      "/tmp/ipykernel_2199/1424687940.py:5: FutureWarning: Downcasting behavior in `replace` is deprecated and will be removed in a future version. To retain the old behavior, explicitly call `result.infer_objects(copy=False)`. To opt-in to the future behavior, set `pd.set_option('future.no_silent_downcasting', True)`\n",
      "  df = df.replace({\"label\": label2id})\n"
     ]
    },
    {
     "data": {
      "text/html": [
       "<div>\n",
       "<style scoped>\n",
       "    .dataframe tbody tr th:only-of-type {\n",
       "        vertical-align: middle;\n",
       "    }\n",
       "\n",
       "    .dataframe tbody tr th {\n",
       "        vertical-align: top;\n",
       "    }\n",
       "\n",
       "    .dataframe thead th {\n",
       "        text-align: right;\n",
       "    }\n",
       "</style>\n",
       "<table border=\"1\" class=\"dataframe\">\n",
       "  <thead>\n",
       "    <tr style=\"text-align: right;\">\n",
       "      <th></th>\n",
       "      <th>repo</th>\n",
       "      <th>commit</th>\n",
       "      <th>label</th>\n",
       "      <th>message</th>\n",
       "      <th>diff</th>\n",
       "      <th>feature</th>\n",
       "    </tr>\n",
       "    <tr>\n",
       "      <th>user</th>\n",
       "      <th></th>\n",
       "      <th></th>\n",
       "      <th></th>\n",
       "      <th></th>\n",
       "      <th></th>\n",
       "      <th></th>\n",
       "    </tr>\n",
       "  </thead>\n",
       "  <tbody>\n",
       "    <tr>\n",
       "      <th>ponsonio</th>\n",
       "      <td>RxJava</td>\n",
       "      <td>0531b8bff5c14d9504beefb4ad47f473e3a22932</td>\n",
       "      <td>2</td>\n",
       "      <td>Change hasException to hasThrowable--</td>\n",
       "      <td>diff --git a/rxjava-core/src/main/java/rx/Noti...</td>\n",
       "      <td>[1, 0, 0, 4, 0, 0, 0, 0, 0, 0, 0, 0, 0, 0, 0, ...</td>\n",
       "    </tr>\n",
       "    <tr>\n",
       "      <th>ponsonio</th>\n",
       "      <td>RxJava</td>\n",
       "      <td>0950c46beda335819928585f1262dfe1dca78a0b</td>\n",
       "      <td>0</td>\n",
       "      <td>Trying to extend the Scheduler interface accor...</td>\n",
       "      <td>diff --git a/rxjava-core/src/main/java/rx/Sche...</td>\n",
       "      <td>[2, 44, 0, 0, 30, 0, 0, 1, 18, 0, 0, 0, 0, 0, ...</td>\n",
       "    </tr>\n",
       "    <tr>\n",
       "      <th>ponsonio</th>\n",
       "      <td>RxJava</td>\n",
       "      <td>0f92fdd8e6422d5b79c610a7fd8409d222315a49</td>\n",
       "      <td>0</td>\n",
       "      <td>RunAsync method for outputting multiple values--</td>\n",
       "      <td>diff --git a/rxjava-contrib/rxjava-async-util/...</td>\n",
       "      <td>[2, 53, 0, 0, 42, 0, 0, 1, 45, 1, 0, 0, 0, 0, ...</td>\n",
       "    </tr>\n",
       "    <tr>\n",
       "      <th>ponsonio</th>\n",
       "      <td>RxJava</td>\n",
       "      <td>100f571c9a2835d5a30a55374b9be74c147e031f</td>\n",
       "      <td>1</td>\n",
       "      <td>forEach with Action1 but not Observer--I re-re...</td>\n",
       "      <td>diff --git a/language-adaptors/rxjava-groovy/s...</td>\n",
       "      <td>[1, 5, 122, 9, 10, 9, 4, 1, 5, 18, 2, 0, 0, 0,...</td>\n",
       "    </tr>\n",
       "    <tr>\n",
       "      <th>ponsonio</th>\n",
       "      <td>RxJava</td>\n",
       "      <td>191f023cf5253ea90647bc091dcaf55ccdce81cc</td>\n",
       "      <td>1</td>\n",
       "      <td>1.x: Fix Completable swallows- OnErrorNotImple...</td>\n",
       "      <td>diff --git a/src/main/java/rx/Completable.java...</td>\n",
       "      <td>[1, 1, 0, 0, 0, 0, 0, 1, 21, 0, 0, 0, 0, 0, 0,...</td>\n",
       "    </tr>\n",
       "    <tr>\n",
       "      <th>...</th>\n",
       "      <td>...</td>\n",
       "      <td>...</td>\n",
       "      <td>...</td>\n",
       "      <td>...</td>\n",
       "      <td>...</td>\n",
       "      <td>...</td>\n",
       "    </tr>\n",
       "    <tr>\n",
       "      <th>jenkinsci</th>\n",
       "      <td>clearcase-plugin</td>\n",
       "      <td>51e9da224f80254476a7dc446bca817b505381d8</td>\n",
       "      <td>2</td>\n",
       "      <td>Use a temporary file to decrease memory consum...</td>\n",
       "      <td>diff --git a/src/main/java/hudson/plugins/clea...</td>\n",
       "      <td>[2, 12, 0, 4, 1, 0, 1, 0, 0, 0, 0, 0, 0, 0, 0,...</td>\n",
       "    </tr>\n",
       "    <tr>\n",
       "      <th>jexp</th>\n",
       "      <td>batch-import</td>\n",
       "      <td>609d6c4b1eea2c33d9fb950fcbb9ba9dc1f80fc3</td>\n",
       "      <td>2</td>\n",
       "      <td>added a more memory efficient structure for st...</td>\n",
       "      <td>diff --git a/src/main/java/org/neo4j/batchimpo...</td>\n",
       "      <td>[10, 159, 29, 35, 9, 2, 1, 5, 106, 0, 4, 8, 0,...</td>\n",
       "    </tr>\n",
       "    <tr>\n",
       "      <th>hdiv</th>\n",
       "      <td>hdiv</td>\n",
       "      <td>19b650c78a1c76f4fd90274d7f163f863c0d39e4</td>\n",
       "      <td>2</td>\n",
       "      <td>Memory and performance optimizations</td>\n",
       "      <td>diff --git a/hdiv-config/src/main/java/org/hdi...</td>\n",
       "      <td>[31, 302, 131, 140, 170, 89, 53, 7, 88, 14, 17...</td>\n",
       "    </tr>\n",
       "    <tr>\n",
       "      <th>casidiablo</th>\n",
       "      <td>persistence</td>\n",
       "      <td>d7bf95159df37a3d338ca267dddd3d26b38ec37c</td>\n",
       "      <td>2</td>\n",
       "      <td>Now it is possible to specify the sqlite open ...</td>\n",
       "      <td>diff --git a/pom.xml b/pom.xml\\nindex 394263b....</td>\n",
       "      <td>[5, 57, 20, 9, 21, 0, 0, 0, 0, 0, 0, 0, 0, 0, ...</td>\n",
       "    </tr>\n",
       "    <tr>\n",
       "      <th>jhy</th>\n",
       "      <td>jsoup</td>\n",
       "      <td>d6fd1637307f6b088eb226c3f979085725530f32</td>\n",
       "      <td>2</td>\n",
       "      <td>Performance improvment for Element.text</td>\n",
       "      <td>diff --git a/src/main/java/org/jsoup/helper/St...</td>\n",
       "      <td>[3, 11, 11, 9, 13, 0, 0, 1, 0, 8, 0, 0, 1, 0, ...</td>\n",
       "    </tr>\n",
       "  </tbody>\n",
       "</table>\n",
       "<p>1781 rows × 6 columns</p>\n",
       "</div>"
      ],
      "text/plain": [
       "                        repo                                    commit  label  \\\n",
       "user                                                                            \n",
       "ponsonio              RxJava  0531b8bff5c14d9504beefb4ad47f473e3a22932      2   \n",
       "ponsonio              RxJava  0950c46beda335819928585f1262dfe1dca78a0b      0   \n",
       "ponsonio              RxJava  0f92fdd8e6422d5b79c610a7fd8409d222315a49      0   \n",
       "ponsonio              RxJava  100f571c9a2835d5a30a55374b9be74c147e031f      1   \n",
       "ponsonio              RxJava  191f023cf5253ea90647bc091dcaf55ccdce81cc      1   \n",
       "...                      ...                                       ...    ...   \n",
       "jenkinsci   clearcase-plugin  51e9da224f80254476a7dc446bca817b505381d8      2   \n",
       "jexp            batch-import  609d6c4b1eea2c33d9fb950fcbb9ba9dc1f80fc3      2   \n",
       "hdiv                    hdiv  19b650c78a1c76f4fd90274d7f163f863c0d39e4      2   \n",
       "casidiablo       persistence  d7bf95159df37a3d338ca267dddd3d26b38ec37c      2   \n",
       "jhy                    jsoup  d6fd1637307f6b088eb226c3f979085725530f32      2   \n",
       "\n",
       "                                                      message  \\\n",
       "user                                                            \n",
       "ponsonio                Change hasException to hasThrowable--   \n",
       "ponsonio    Trying to extend the Scheduler interface accor...   \n",
       "ponsonio     RunAsync method for outputting multiple values--   \n",
       "ponsonio    forEach with Action1 but not Observer--I re-re...   \n",
       "ponsonio    1.x: Fix Completable swallows- OnErrorNotImple...   \n",
       "...                                                       ...   \n",
       "jenkinsci   Use a temporary file to decrease memory consum...   \n",
       "jexp        added a more memory efficient structure for st...   \n",
       "hdiv                     Memory and performance optimizations   \n",
       "casidiablo  Now it is possible to specify the sqlite open ...   \n",
       "jhy                   Performance improvment for Element.text   \n",
       "\n",
       "                                                         diff  \\\n",
       "user                                                            \n",
       "ponsonio    diff --git a/rxjava-core/src/main/java/rx/Noti...   \n",
       "ponsonio    diff --git a/rxjava-core/src/main/java/rx/Sche...   \n",
       "ponsonio    diff --git a/rxjava-contrib/rxjava-async-util/...   \n",
       "ponsonio    diff --git a/language-adaptors/rxjava-groovy/s...   \n",
       "ponsonio    diff --git a/src/main/java/rx/Completable.java...   \n",
       "...                                                       ...   \n",
       "jenkinsci   diff --git a/src/main/java/hudson/plugins/clea...   \n",
       "jexp        diff --git a/src/main/java/org/neo4j/batchimpo...   \n",
       "hdiv        diff --git a/hdiv-config/src/main/java/org/hdi...   \n",
       "casidiablo  diff --git a/pom.xml b/pom.xml\\nindex 394263b....   \n",
       "jhy         diff --git a/src/main/java/org/jsoup/helper/St...   \n",
       "\n",
       "                                                      feature  \n",
       "user                                                           \n",
       "ponsonio    [1, 0, 0, 4, 0, 0, 0, 0, 0, 0, 0, 0, 0, 0, 0, ...  \n",
       "ponsonio    [2, 44, 0, 0, 30, 0, 0, 1, 18, 0, 0, 0, 0, 0, ...  \n",
       "ponsonio    [2, 53, 0, 0, 42, 0, 0, 1, 45, 1, 0, 0, 0, 0, ...  \n",
       "ponsonio    [1, 5, 122, 9, 10, 9, 4, 1, 5, 18, 2, 0, 0, 0,...  \n",
       "ponsonio    [1, 1, 0, 0, 0, 0, 0, 1, 21, 0, 0, 0, 0, 0, 0,...  \n",
       "...                                                       ...  \n",
       "jenkinsci   [2, 12, 0, 4, 1, 0, 1, 0, 0, 0, 0, 0, 0, 0, 0,...  \n",
       "jexp        [10, 159, 29, 35, 9, 2, 1, 5, 106, 0, 4, 8, 0,...  \n",
       "hdiv        [31, 302, 131, 140, 170, 89, 53, 7, 88, 14, 17...  \n",
       "casidiablo  [5, 57, 20, 9, 21, 0, 0, 0, 0, 0, 0, 0, 0, 0, ...  \n",
       "jhy         [3, 11, 11, 9, 13, 0, 0, 1, 0, 8, 0, 0, 1, 0, ...  \n",
       "\n",
       "[1781 rows x 6 columns]"
      ]
     },
     "execution_count": 2,
     "metadata": {},
     "output_type": "execute_result"
    }
   ],
   "source": [
    "df = pd.read_csv(r'/root/autodl-tmp/CommitFit/dataset/Ghadhab/dataset.csv', index_col=0, encoding='utf_8_sig')\n",
    "df.fillna('', inplace=True)\n",
    "label2id={'Adaptive':0, 'Corrective':1, 'Perfective':2}\n",
    "df = df.rename(columns={'labels':'label','msgs':'message','diffs':'diff'})\n",
    "df = df.replace({\"label\": label2id})\n",
    "# df = df['diffs']\n",
    "# # print(df)\n",
    "df\n",
    "# test_sample = df.sample(n=3, random_state=1)"
   ]
  },
  {
   "cell_type": "code",
   "execution_count": 3,
   "id": "18e5ba2e-9175-4455-a42a-ced130563441",
   "metadata": {
    "execution": {
     "iopub.execute_input": "2025-08-30T05:24:49.761097Z",
     "iopub.status.busy": "2025-08-30T05:24:49.760863Z",
     "iopub.status.idle": "2025-08-30T05:24:49.768012Z",
     "shell.execute_reply": "2025-08-30T05:24:49.767178Z",
     "shell.execute_reply.started": "2025-08-30T05:24:49.761073Z"
    }
   },
   "outputs": [],
   "source": [
    "train, temp_df = train_test_split(df, test_size=0.3, random_state=42)\n",
    "val, test = train_test_split(temp_df, test_size=0.5, random_state=42)"
   ]
  },
  {
   "cell_type": "code",
   "execution_count": 4,
   "id": "23ded5b2-b057-4117-b99b-fa77a39bb480",
   "metadata": {
    "execution": {
     "iopub.execute_input": "2025-08-30T05:24:49.769462Z",
     "iopub.status.busy": "2025-08-30T05:24:49.769121Z",
     "iopub.status.idle": "2025-08-30T05:24:49.773347Z",
     "shell.execute_reply": "2025-08-30T05:24:49.772507Z",
     "shell.execute_reply.started": "2025-08-30T05:24:49.769426Z"
    }
   },
   "outputs": [],
   "source": [
    "# train.to_csv('/root/autodl-tmp/COLARE-main/dataset/1793/train.csv',index=False)\n",
    "# test.to_csv('/root/autodl-tmp/COLARE-main/dataset/1793/test.csv',index=False)\n",
    "# val.to_csv('/root/autodl-tmp/COLARE-main/dataset/1793/eval.csv',index=False)"
   ]
  },
  {
   "cell_type": "code",
   "execution_count": 5,
   "id": "7b104969-4a01-44b3-8b11-72188d0042e6",
   "metadata": {
    "execution": {
     "iopub.execute_input": "2025-08-30T05:24:49.774791Z",
     "iopub.status.busy": "2025-08-30T05:24:49.774476Z",
     "iopub.status.idle": "2025-08-30T05:24:49.784937Z",
     "shell.execute_reply": "2025-08-30T05:24:49.784107Z",
     "shell.execute_reply.started": "2025-08-30T05:24:49.774756Z"
    }
   },
   "outputs": [
    {
     "name": "stderr",
     "output_type": "stream",
     "text": [
      "/tmp/ipykernel_2199/2088339219.py:1: DeprecationWarning: DataFrameGroupBy.apply operated on the grouping columns. This behavior is deprecated, and in a future version of pandas the grouping columns will be excluded from the operation. Either pass `include_groups=False` to exclude the groupings or explicitly select the grouping columns after groupby to silence this warning.\n",
      "  train = train.groupby(\"label\", group_keys=False).apply(lambda x: x.sample(n=50, random_state=42))\n"
     ]
    }
   ],
   "source": [
    "train = train.groupby(\"label\", group_keys=False).apply(lambda x: x.sample(n=50, random_state=42))"
   ]
  },
  {
   "cell_type": "code",
   "execution_count": 6,
   "id": "7b77e6e8-8d9d-45f3-be04-94a8b7499213",
   "metadata": {
    "execution": {
     "iopub.execute_input": "2025-08-30T05:24:49.786039Z",
     "iopub.status.busy": "2025-08-30T05:24:49.785828Z",
     "iopub.status.idle": "2025-08-30T05:24:51.900784Z",
     "shell.execute_reply": "2025-08-30T05:24:51.900050Z",
     "shell.execute_reply.started": "2025-08-30T05:24:49.786017Z"
    }
   },
   "outputs": [
    {
     "name": "stderr",
     "output_type": "stream",
     "text": [
      "Some weights of the model checkpoint at /root/autodl-tmp/CommitFit/models/bert-base-uncased were not used when initializing BertModel: ['cls.predictions.transform.LayerNorm.weight', 'cls.predictions.transform.LayerNorm.bias', 'cls.predictions.decoder.weight', 'cls.seq_relationship.bias', 'cls.predictions.bias', 'cls.predictions.transform.dense.bias', 'cls.predictions.transform.dense.weight', 'cls.seq_relationship.weight']\n",
      "- This IS expected if you are initializing BertModel from the checkpoint of a model trained on another task or with another architecture (e.g. initializing a BertForSequenceClassification model from a BertForPreTraining model).\n",
      "- This IS NOT expected if you are initializing BertModel from the checkpoint of a model that you expect to be exactly identical (initializing a BertForSequenceClassification model from a BertForSequenceClassification model).\n"
     ]
    }
   ],
   "source": [
    "# Load BERT and CodeBERT models and tokenizers\n",
    "bert_model = BertModel.from_pretrained('/root/autodl-tmp/CommitFit/models/bert-base-uncased')\n",
    "bert_tokenizer = BertTokenizer.from_pretrained('/root/autodl-tmp/CommitFit/models/bert-base-uncased')\n",
    "\n",
    "codebert_model = RobertaModel.from_pretrained('/root/autodl-tmp/CommitFit/models/codebert-base')\n",
    "codebert_tokenizer = RobertaTokenizer.from_pretrained('/root/autodl-tmp/CommitFit/models/codebert-base')"
   ]
  },
  {
   "cell_type": "code",
   "execution_count": 7,
   "id": "754df1cb-3f7e-4ef8-974c-8f816fa5c88d",
   "metadata": {
    "execution": {
     "iopub.execute_input": "2025-08-30T05:24:51.903130Z",
     "iopub.status.busy": "2025-08-30T05:24:51.902898Z",
     "iopub.status.idle": "2025-08-30T05:24:51.914514Z",
     "shell.execute_reply": "2025-08-30T05:24:51.913893Z",
     "shell.execute_reply.started": "2025-08-30T05:24:51.903104Z"
    }
   },
   "outputs": [
    {
     "data": {
      "text/html": [
       "<div>\n",
       "<style scoped>\n",
       "    .dataframe tbody tr th:only-of-type {\n",
       "        vertical-align: middle;\n",
       "    }\n",
       "\n",
       "    .dataframe tbody tr th {\n",
       "        vertical-align: top;\n",
       "    }\n",
       "\n",
       "    .dataframe thead th {\n",
       "        text-align: right;\n",
       "    }\n",
       "</style>\n",
       "<table border=\"1\" class=\"dataframe\">\n",
       "  <thead>\n",
       "    <tr style=\"text-align: right;\">\n",
       "      <th></th>\n",
       "      <th>repo</th>\n",
       "      <th>commit</th>\n",
       "      <th>label</th>\n",
       "      <th>message</th>\n",
       "      <th>diff</th>\n",
       "      <th>feature</th>\n",
       "    </tr>\n",
       "    <tr>\n",
       "      <th>user</th>\n",
       "      <th></th>\n",
       "      <th></th>\n",
       "      <th></th>\n",
       "      <th></th>\n",
       "      <th></th>\n",
       "      <th></th>\n",
       "    </tr>\n",
       "  </thead>\n",
       "  <tbody>\n",
       "    <tr>\n",
       "      <th>elastic</th>\n",
       "      <td>elasticsearch</td>\n",
       "      <td>95ba62f83dfa05990d2165484330cdd0792064d8</td>\n",
       "      <td>0</td>\n",
       "      <td>Translog: Implement a file system based transl...</td>\n",
       "      <td>diff --git a/modules/elasticsearch/src/main/ja...</td>\n",
       "      <td>[1, 0, 0, 2, 0, 0, 0, 0, 0, 0, 0, 0, 0, 0, 0, ...</td>\n",
       "    </tr>\n",
       "    <tr>\n",
       "      <th>apache</th>\n",
       "      <td>hbase</td>\n",
       "      <td>a8806266b898ee71376ce9722de407ece9ed359a</td>\n",
       "      <td>0</td>\n",
       "      <td>HBASE-1200 Add bloomfilters--git-svn-id: https...</td>\n",
       "      <td>diff --git a/.gitignore b/.gitignore\\nindex 42...</td>\n",
       "      <td>[18, 374, 58, 102, 120, 32, 24, 8, 138, 1, 31,...</td>\n",
       "    </tr>\n",
       "    <tr>\n",
       "      <th>aeshell</th>\n",
       "      <td>aesh</td>\n",
       "      <td>60dfbfe5d954228d404eebc435346172cfbadec1</td>\n",
       "      <td>0</td>\n",
       "      <td>LineParser now supports curly brackets. It hav...</td>\n",
       "      <td>diff --git a/src/main/java/org/aesh/command/im...</td>\n",
       "      <td>[7, 121, 54, 22, 1, 0, 0, 1, 23, 0, 62, 0, 0, ...</td>\n",
       "    </tr>\n",
       "    <tr>\n",
       "      <th>elastic</th>\n",
       "      <td>elasticsearch</td>\n",
       "      <td>30f9f278c3430f9e936f566ee8b3394f86f2b01e</td>\n",
       "      <td>0</td>\n",
       "      <td>Added UNICODE_CHARACTER_CLASS support to Regex...</td>\n",
       "      <td>diff --git a/src/main/java/org/elasticsearch/c...</td>\n",
       "      <td>[1, 8, 0, 8, 5, 0, 0, 1, 36, 0, 0, 18, 0, 0, 0...</td>\n",
       "    </tr>\n",
       "    <tr>\n",
       "      <th>GNOME</th>\n",
       "      <td>valadoc</td>\n",
       "      <td>8de9caa985fa3e79348c1c88b9313a4bce4d92e6</td>\n",
       "      <td>0</td>\n",
       "      <td>libvaladoc: Add support for SourceCode attribu...</td>\n",
       "      <td>diff --git a/src/libvaladoc/content/sourcecode...</td>\n",
       "      <td>[0, 0, 0, 0, 0, 0, 0, 0, 0, 0, 0, 0, 0, 0, 0, ...</td>\n",
       "    </tr>\n",
       "    <tr>\n",
       "      <th>...</th>\n",
       "      <td>...</td>\n",
       "      <td>...</td>\n",
       "      <td>...</td>\n",
       "      <td>...</td>\n",
       "      <td>...</td>\n",
       "      <td>...</td>\n",
       "    </tr>\n",
       "    <tr>\n",
       "      <th>apache</th>\n",
       "      <td>camel</td>\n",
       "      <td>74fdcdcf5f41f420cf46f06ecfebce84ec8f36eb</td>\n",
       "      <td>2</td>\n",
       "      <td>CAMEL-656: Polished dataset and timer componen...</td>\n",
       "      <td>diff --git a/camel-core/src/main/java/org/apac...</td>\n",
       "      <td>[4, 0, 2, 2, 3, 2, 0, 0, 0, 0, 0, 0, 0, 0, 0, ...</td>\n",
       "    </tr>\n",
       "    <tr>\n",
       "      <th>JetBrains</th>\n",
       "      <td>kotlin</td>\n",
       "      <td>06b1f1ec2fc0bca8f4d6d5345cbf42777b4d89ff</td>\n",
       "      <td>2</td>\n",
       "      <td>Smart completion: code improvements and- refac...</td>\n",
       "      <td>diff --git a/idea/src/org/jetbrains/jet/plugin...</td>\n",
       "      <td>[3, 66, 71, 33, 0, 0, 0, 0, 0, 0, 0, 0, 0, 0, ...</td>\n",
       "    </tr>\n",
       "    <tr>\n",
       "      <th>tapiji</th>\n",
       "      <td>tapiji</td>\n",
       "      <td>7c2269be58efdf853a632bbb67b2d4f2f42f9786</td>\n",
       "      <td>2</td>\n",
       "      <td>Removes outdated dependency to org.eclipse.pde...</td>\n",
       "      <td>diff --git a/org.eclipse.babel.core/META-INF/M...</td>\n",
       "      <td>[0, 0, 0, 0, 0, 0, 0, 0, 0, 0, 0, 0, 0, 0, 0, ...</td>\n",
       "    </tr>\n",
       "    <tr>\n",
       "      <th>JetBrains</th>\n",
       "      <td>kotlin</td>\n",
       "      <td>982eebf70ff4aebfc200c6373511f1ce0e8667ed</td>\n",
       "      <td>2</td>\n",
       "      <td>better root ns--</td>\n",
       "      <td>diff --git a/compiler/frontend.java/src/org/je...</td>\n",
       "      <td>[6, 1, 62, 2, 0, 4, 0, 0, 0, 0, 0, 0, 0, 0, 0,...</td>\n",
       "    </tr>\n",
       "    <tr>\n",
       "      <th>belaban</th>\n",
       "      <td>jgroups</td>\n",
       "      <td>cce7c99e27eee6682ca2bdbd410d375a5898fa60</td>\n",
       "      <td>2</td>\n",
       "      <td>merge fast functionality (https://jira.jboss.o...</td>\n",
       "      <td>diff --git a/src/org/jgroups/protocols/MERGE2....</td>\n",
       "      <td>[1, 47, 2, 2, 0, 0, 1, 0, 0, 0, 0, 0, 0, 0, 0,...</td>\n",
       "    </tr>\n",
       "  </tbody>\n",
       "</table>\n",
       "<p>150 rows × 6 columns</p>\n",
       "</div>"
      ],
      "text/plain": [
       "                    repo                                    commit  label  \\\n",
       "user                                                                        \n",
       "elastic    elasticsearch  95ba62f83dfa05990d2165484330cdd0792064d8      0   \n",
       "apache             hbase  a8806266b898ee71376ce9722de407ece9ed359a      0   \n",
       "aeshell             aesh  60dfbfe5d954228d404eebc435346172cfbadec1      0   \n",
       "elastic    elasticsearch  30f9f278c3430f9e936f566ee8b3394f86f2b01e      0   \n",
       "GNOME            valadoc  8de9caa985fa3e79348c1c88b9313a4bce4d92e6      0   \n",
       "...                  ...                                       ...    ...   \n",
       "apache             camel  74fdcdcf5f41f420cf46f06ecfebce84ec8f36eb      2   \n",
       "JetBrains         kotlin  06b1f1ec2fc0bca8f4d6d5345cbf42777b4d89ff      2   \n",
       "tapiji            tapiji  7c2269be58efdf853a632bbb67b2d4f2f42f9786      2   \n",
       "JetBrains         kotlin  982eebf70ff4aebfc200c6373511f1ce0e8667ed      2   \n",
       "belaban          jgroups  cce7c99e27eee6682ca2bdbd410d375a5898fa60      2   \n",
       "\n",
       "                                                     message  \\\n",
       "user                                                           \n",
       "elastic    Translog: Implement a file system based transl...   \n",
       "apache     HBASE-1200 Add bloomfilters--git-svn-id: https...   \n",
       "aeshell    LineParser now supports curly brackets. It hav...   \n",
       "elastic    Added UNICODE_CHARACTER_CLASS support to Regex...   \n",
       "GNOME      libvaladoc: Add support for SourceCode attribu...   \n",
       "...                                                      ...   \n",
       "apache     CAMEL-656: Polished dataset and timer componen...   \n",
       "JetBrains  Smart completion: code improvements and- refac...   \n",
       "tapiji     Removes outdated dependency to org.eclipse.pde...   \n",
       "JetBrains                                   better root ns--   \n",
       "belaban    merge fast functionality (https://jira.jboss.o...   \n",
       "\n",
       "                                                        diff  \\\n",
       "user                                                           \n",
       "elastic    diff --git a/modules/elasticsearch/src/main/ja...   \n",
       "apache     diff --git a/.gitignore b/.gitignore\\nindex 42...   \n",
       "aeshell    diff --git a/src/main/java/org/aesh/command/im...   \n",
       "elastic    diff --git a/src/main/java/org/elasticsearch/c...   \n",
       "GNOME      diff --git a/src/libvaladoc/content/sourcecode...   \n",
       "...                                                      ...   \n",
       "apache     diff --git a/camel-core/src/main/java/org/apac...   \n",
       "JetBrains  diff --git a/idea/src/org/jetbrains/jet/plugin...   \n",
       "tapiji     diff --git a/org.eclipse.babel.core/META-INF/M...   \n",
       "JetBrains  diff --git a/compiler/frontend.java/src/org/je...   \n",
       "belaban    diff --git a/src/org/jgroups/protocols/MERGE2....   \n",
       "\n",
       "                                                     feature  \n",
       "user                                                          \n",
       "elastic    [1, 0, 0, 2, 0, 0, 0, 0, 0, 0, 0, 0, 0, 0, 0, ...  \n",
       "apache     [18, 374, 58, 102, 120, 32, 24, 8, 138, 1, 31,...  \n",
       "aeshell    [7, 121, 54, 22, 1, 0, 0, 1, 23, 0, 62, 0, 0, ...  \n",
       "elastic    [1, 8, 0, 8, 5, 0, 0, 1, 36, 0, 0, 18, 0, 0, 0...  \n",
       "GNOME      [0, 0, 0, 0, 0, 0, 0, 0, 0, 0, 0, 0, 0, 0, 0, ...  \n",
       "...                                                      ...  \n",
       "apache     [4, 0, 2, 2, 3, 2, 0, 0, 0, 0, 0, 0, 0, 0, 0, ...  \n",
       "JetBrains  [3, 66, 71, 33, 0, 0, 0, 0, 0, 0, 0, 0, 0, 0, ...  \n",
       "tapiji     [0, 0, 0, 0, 0, 0, 0, 0, 0, 0, 0, 0, 0, 0, 0, ...  \n",
       "JetBrains  [6, 1, 62, 2, 0, 4, 0, 0, 0, 0, 0, 0, 0, 0, 0,...  \n",
       "belaban    [1, 47, 2, 2, 0, 0, 1, 0, 0, 0, 0, 0, 0, 0, 0,...  \n",
       "\n",
       "[150 rows x 6 columns]"
      ]
     },
     "execution_count": 7,
     "metadata": {},
     "output_type": "execute_result"
    }
   ],
   "source": [
    "train"
   ]
  },
  {
   "cell_type": "code",
   "execution_count": 8,
   "id": "1549be02-6f6b-41e5-bd04-d3e164061eec",
   "metadata": {
    "execution": {
     "iopub.execute_input": "2025-08-30T05:24:51.915483Z",
     "iopub.status.busy": "2025-08-30T05:24:51.915266Z",
     "iopub.status.idle": "2025-08-30T05:27:21.284322Z",
     "shell.execute_reply": "2025-08-30T05:27:21.283592Z",
     "shell.execute_reply.started": "2025-08-30T05:24:51.915461Z"
    }
   },
   "outputs": [
    {
     "name": "stderr",
     "output_type": "stream",
     "text": [
      "/root/miniconda3/lib/python3.10/site-packages/transformers/optimization.py:391: FutureWarning: This implementation of AdamW is deprecated and will be removed in a future version. Use the PyTorch implementation torch.optim.AdamW instead, or set `no_deprecation_warning=True` to disable this warning\n",
      "  warnings.warn(\n",
      "Epoch 1/10 Loss: 1.0874: 100%|██████████| 19/19 [00:15<00:00,  1.23batch/s]\n"
     ]
    },
    {
     "name": "stdout",
     "output_type": "stream",
     "text": [
      "=============================train========================\n"
     ]
    },
    {
     "name": "stderr",
     "output_type": "stream",
     "text": [
      "Epoch 2/10 Loss: 0.7934: 100%|██████████| 19/19 [00:13<00:00,  1.44batch/s]\n"
     ]
    },
    {
     "name": "stdout",
     "output_type": "stream",
     "text": [
      "=============================train========================\n"
     ]
    },
    {
     "name": "stderr",
     "output_type": "stream",
     "text": [
      "Epoch 3/10 Loss: 0.5576: 100%|██████████| 19/19 [00:13<00:00,  1.43batch/s]\n"
     ]
    },
    {
     "name": "stdout",
     "output_type": "stream",
     "text": [
      "=============================train========================\n"
     ]
    },
    {
     "name": "stderr",
     "output_type": "stream",
     "text": [
      "Epoch 4/10 Loss: 0.2600: 100%|██████████| 19/19 [00:13<00:00,  1.43batch/s]\n"
     ]
    },
    {
     "name": "stdout",
     "output_type": "stream",
     "text": [
      "=============================train========================\n"
     ]
    },
    {
     "name": "stderr",
     "output_type": "stream",
     "text": [
      "Epoch 5/10 Loss: 0.1559: 100%|██████████| 19/19 [00:12<00:00,  1.48batch/s]\n"
     ]
    },
    {
     "name": "stdout",
     "output_type": "stream",
     "text": [
      "=============================train========================\n"
     ]
    },
    {
     "name": "stderr",
     "output_type": "stream",
     "text": [
      "Epoch 6/10 Loss: 0.0617: 100%|██████████| 19/19 [00:13<00:00,  1.44batch/s]\n"
     ]
    },
    {
     "name": "stdout",
     "output_type": "stream",
     "text": [
      "=============================train========================\n"
     ]
    },
    {
     "name": "stderr",
     "output_type": "stream",
     "text": [
      "Epoch 7/10 Loss: 0.0294: 100%|██████████| 19/19 [00:13<00:00,  1.45batch/s]\n"
     ]
    },
    {
     "name": "stdout",
     "output_type": "stream",
     "text": [
      "=============================train========================\n"
     ]
    },
    {
     "name": "stderr",
     "output_type": "stream",
     "text": [
      "Epoch 8/10 Loss: 0.0207: 100%|██████████| 19/19 [00:12<00:00,  1.47batch/s]\n"
     ]
    },
    {
     "name": "stdout",
     "output_type": "stream",
     "text": [
      "=============================train========================\n"
     ]
    },
    {
     "name": "stderr",
     "output_type": "stream",
     "text": [
      "Epoch 9/10 Loss: 0.0141: 100%|██████████| 19/19 [00:13<00:00,  1.43batch/s]\n"
     ]
    },
    {
     "name": "stdout",
     "output_type": "stream",
     "text": [
      "=============================train========================\n"
     ]
    },
    {
     "name": "stderr",
     "output_type": "stream",
     "text": [
      "Epoch 10/10 Loss: 0.0109: 100%|██████████| 19/19 [00:13<00:00,  1.45batch/s]\n"
     ]
    },
    {
     "name": "stdout",
     "output_type": "stream",
     "text": [
      "=============================train========================\n",
      "Validation Accuracy: 0.7004\n",
      "Precision: 0.7102\n",
      "Recall: 0.7004\n",
      "F1-Score: 0.7021\n",
      "              precision    recall  f1-score   support\n",
      "\n",
      "           0     0.6286    0.7416    0.6804        89\n",
      "           1     0.8182    0.7000    0.7545        90\n",
      "           2     0.6824    0.6591    0.6705        88\n",
      "\n",
      "    accuracy                         0.7004       267\n",
      "   macro avg     0.7097    0.7002    0.7018       267\n",
      "weighted avg     0.7102    0.7004    0.7021       267\n",
      "\n"
     ]
    }
   ],
   "source": [
    "train.reset_index(inplace=True)\n",
    "val.reset_index(inplace=True)\n",
    "test.reset_index(inplace=True)\n",
    "\n",
    "# Create Datasets and DataLoaders\n",
    "train_dataset = preprocesser.SentencePairDataset(train, bert_tokenizer, codebert_tokenizer,message='message',command='diff',label='label')\n",
    "val_dataset = preprocesser.SentencePairDataset(val, bert_tokenizer, codebert_tokenizer,message='message',command='diff',label='label')\n",
    "test_dataset = preprocesser.SentencePairDataset(test, bert_tokenizer, codebert_tokenizer,message='message',command='diff',label='label')\n",
    "train_loader = DataLoader(train_dataset, batch_size=8, shuffle=True)\n",
    "val_loader = DataLoader(val_dataset, batch_size=8, shuffle=False)\n",
    "test_loader = DataLoader(test_dataset, batch_size=8, shuffle=False)\n",
    "\n",
    "\n",
    "\n",
    "# # Initialize the model\n",
    "# model = em.CombinedModel(bert_model, codebert_model, bert_tokenizer, codebert_tokenizer)\n",
    "\n",
    "# # Train the model\n",
    "# model.trainer(train_loader, val_loader,num_epochs=10)\n",
    "# for batch in train_loader:\n",
    "#     print(batch)\n",
    "\n",
    "\n",
    "base_model1 = cm.BaseModel(bert_model)\n",
    "base_model2 = cm.BaseModel(codebert_model)\n",
    "\n",
    "# Create stacking model\n",
    "combined_model = cm.CombinedModel(base_model1, base_model2)\n",
    "# Train the model\n",
    "combined_model.trainer(train_loader, val_loader,num_epochs=10, patience=3)"
   ]
  },
  {
   "cell_type": "code",
   "execution_count": 9,
   "id": "def4bb0a-419c-46fb-b61b-c9f1a98f0caa",
   "metadata": {
    "execution": {
     "iopub.execute_input": "2025-08-30T05:27:21.285855Z",
     "iopub.status.busy": "2025-08-30T05:27:21.285399Z",
     "iopub.status.idle": "2025-08-30T05:27:21.289528Z",
     "shell.execute_reply": "2025-08-30T05:27:21.288921Z",
     "shell.execute_reply.started": "2025-08-30T05:27:21.285827Z"
    }
   },
   "outputs": [],
   "source": [
    "test_dataset = preprocesser.SentencePairDataset(test, bert_tokenizer, codebert_tokenizer,message='message',command='diff',label='label')\n",
    "test_loader = DataLoader(test_dataset, batch_size=32, shuffle=False)"
   ]
  },
  {
   "cell_type": "code",
   "execution_count": null,
   "id": "4e01924f-b8a3-4282-acf6-6d38aee2620c",
   "metadata": {},
   "outputs": [],
   "source": []
  },
  {
   "cell_type": "code",
   "execution_count": null,
   "id": "92009384-7770-4b2a-97b2-c0b4d209a0a7",
   "metadata": {},
   "outputs": [],
   "source": []
  },
  {
   "cell_type": "code",
   "execution_count": null,
   "id": "49ad177a-0ad0-414e-a5b6-5b768a5da9cd",
   "metadata": {},
   "outputs": [],
   "source": []
  },
  {
   "cell_type": "code",
   "execution_count": 10,
   "id": "5878d2a3-fe90-45b1-9486-739c4fee6004",
   "metadata": {
    "execution": {
     "iopub.execute_input": "2025-08-30T05:27:21.290740Z",
     "iopub.status.busy": "2025-08-30T05:27:21.290309Z",
     "iopub.status.idle": "2025-08-30T05:27:38.233659Z",
     "shell.execute_reply": "2025-08-30T05:27:38.232962Z",
     "shell.execute_reply.started": "2025-08-30T05:27:21.290715Z"
    }
   },
   "outputs": [
    {
     "name": "stdout",
     "output_type": "stream",
     "text": [
      "Validation Accuracy: 0.6493\n",
      "Precision: 0.6587\n",
      "Recall: 0.6493\n",
      "F1-Score: 0.6465\n",
      "              precision    recall  f1-score   support\n",
      "\n",
      "           0     0.5670    0.6962    0.6250        79\n",
      "           1     0.6907    0.7528    0.7204        89\n",
      "           2     0.7027    0.5200    0.5977       100\n",
      "\n",
      "    accuracy                         0.6493       268\n",
      "   macro avg     0.6535    0.6563    0.6477       268\n",
      "weighted avg     0.6587    0.6493    0.6465       268\n",
      "\n"
     ]
    }
   ],
   "source": [
    "test_acc, test_labels, test_probabilities, test_embeddings, test_predictions = combined_model.evaluate(test_loader)"
   ]
  },
  {
   "cell_type": "code",
   "execution_count": null,
   "id": "0376c52a-7906-4b38-ab5b-88be13b3b3d5",
   "metadata": {},
   "outputs": [],
   "source": []
  },
  {
   "cell_type": "code",
   "execution_count": null,
   "id": "14393aa5-3ad7-4dae-953c-ff77d8005640",
   "metadata": {},
   "outputs": [],
   "source": []
  },
  {
   "cell_type": "code",
   "execution_count": 11,
   "id": "9ee6becf-2511-478b-9487-d37f19cc708e",
   "metadata": {
    "execution": {
     "iopub.execute_input": "2025-08-30T05:27:38.234826Z",
     "iopub.status.busy": "2025-08-30T05:27:38.234592Z",
     "iopub.status.idle": "2025-08-30T05:27:38.401654Z",
     "shell.execute_reply": "2025-08-30T05:27:38.400860Z",
     "shell.execute_reply.started": "2025-08-30T05:27:38.234800Z"
    }
   },
   "outputs": [
    {
     "ename": "NameError",
     "evalue": "name 'confusion_matrix' is not defined",
     "output_type": "error",
     "traceback": [
      "\u001b[0;31m---------------------------------------------------------------------------\u001b[0m",
      "\u001b[0;31mNameError\u001b[0m                                 Traceback (most recent call last)",
      "Cell \u001b[0;32mIn[11], line 1\u001b[0m\n\u001b[0;32m----> 1\u001b[0m cm \u001b[38;5;241m=\u001b[39m \u001b[43mconfusion_matrix\u001b[49m(test_labels, test_predictions)\n\u001b[1;32m      2\u001b[0m cm\n",
      "\u001b[0;31mNameError\u001b[0m: name 'confusion_matrix' is not defined"
     ]
    }
   ],
   "source": [
    "cm = confusion_matrix(test_labels, test_predictions)\n",
    "cm"
   ]
  },
  {
   "cell_type": "code",
   "execution_count": null,
   "id": "f97c31e7-af4d-45bd-a50c-aa18157cc44b",
   "metadata": {
    "execution": {
     "iopub.status.busy": "2025-08-30T05:27:38.402342Z",
     "iopub.status.idle": "2025-08-30T05:27:38.402624Z",
     "shell.execute_reply": "2025-08-30T05:27:38.402489Z",
     "shell.execute_reply.started": "2025-08-30T05:27:38.402475Z"
    }
   },
   "outputs": [],
   "source": [
    "# test_data"
   ]
  },
  {
   "cell_type": "code",
   "execution_count": null,
   "id": "c0f61e6e-d402-4099-bb8f-38230908645c",
   "metadata": {
    "execution": {
     "iopub.status.busy": "2025-08-30T05:27:38.403525Z",
     "iopub.status.idle": "2025-08-30T05:27:38.403817Z",
     "shell.execute_reply": "2025-08-30T05:27:38.403682Z",
     "shell.execute_reply.started": "2025-08-30T05:27:38.403658Z"
    }
   },
   "outputs": [],
   "source": [
    "、"
   ]
  },
  {
   "cell_type": "code",
   "execution_count": null,
   "id": "f137884e-7aac-43e5-a24d-5171987aac3d",
   "metadata": {},
   "outputs": [],
   "source": []
  },
  {
   "cell_type": "code",
   "execution_count": null,
   "id": "30391208-8462-4e6f-a0fa-a203059935a3",
   "metadata": {},
   "outputs": [],
   "source": []
  },
  {
   "cell_type": "code",
   "execution_count": null,
   "id": "b84edf12-7846-4311-8539-7078f9801402",
   "metadata": {},
   "outputs": [],
   "source": []
  },
  {
   "cell_type": "code",
   "execution_count": null,
   "id": "2d231095-873f-419b-accf-256577523d83",
   "metadata": {},
   "outputs": [],
   "source": []
  },
  {
   "cell_type": "code",
   "execution_count": null,
   "id": "89e6f9cd-8d2c-4d7e-ae0e-46cee540777a",
   "metadata": {},
   "outputs": [],
   "source": []
  },
  {
   "cell_type": "code",
   "execution_count": null,
   "id": "3084ce4f-6970-4812-b9c1-f09f8207f2f2",
   "metadata": {},
   "outputs": [],
   "source": []
  },
  {
   "cell_type": "code",
   "execution_count": null,
   "id": "ab0cb527-8732-43b7-8e88-2e50a1b6de90",
   "metadata": {},
   "outputs": [],
   "source": []
  },
  {
   "cell_type": "code",
   "execution_count": null,
   "id": "c9248fb4-719c-423e-9f70-001fca1d5fb7",
   "metadata": {},
   "outputs": [],
   "source": []
  },
  {
   "cell_type": "code",
   "execution_count": null,
   "id": "cf3fa80c-6e0c-42a1-92d2-669cca1e84f7",
   "metadata": {},
   "outputs": [],
   "source": []
  },
  {
   "cell_type": "code",
   "execution_count": null,
   "id": "3ca9b990-a568-4acc-8194-53b47fc3452c",
   "metadata": {},
   "outputs": [],
   "source": []
  },
  {
   "cell_type": "code",
   "execution_count": null,
   "id": "09f84c3b-5e00-416b-88d8-b9e1b0b846d8",
   "metadata": {},
   "outputs": [],
   "source": []
  },
  {
   "cell_type": "code",
   "execution_count": null,
   "id": "8ad24f5e-d1c1-4d34-b7e9-43dc6efa7d37",
   "metadata": {},
   "outputs": [],
   "source": []
  }
 ],
 "metadata": {
  "kernelspec": {
   "display_name": "Python 3 (ipykernel)",
   "language": "python",
   "name": "python3"
  },
  "language_info": {
   "codemirror_mode": {
    "name": "ipython",
    "version": 3
   },
   "file_extension": ".py",
   "mimetype": "text/x-python",
   "name": "python",
   "nbconvert_exporter": "python",
   "pygments_lexer": "ipython3",
   "version": "3.10.8"
  }
 },
 "nbformat": 4,
 "nbformat_minor": 5
}
