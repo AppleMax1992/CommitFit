{
 "cells": [
  {
   "cell_type": "code",
   "execution_count": 1,
   "id": "77d93e6a-106b-4abd-87e7-1243d4c51126",
   "metadata": {
    "execution": {
     "iopub.execute_input": "2024-05-29T10:19:29.408640Z",
     "iopub.status.busy": "2024-05-29T10:19:29.408365Z",
     "iopub.status.idle": "2024-05-29T10:19:33.791700Z",
     "shell.execute_reply": "2024-05-29T10:19:33.790907Z",
     "shell.execute_reply.started": "2024-05-29T10:19:29.408609Z"
    },
    "id": "77d93e6a-106b-4abd-87e7-1243d4c51126"
   },
   "outputs": [],
   "source": [
    "# !pip install transformers accelerate\n",
    "from transformers import AutoTokenizer, AutoModel, EarlyStoppingCallback, AutoModelForSequenceClassification, AutoConfig,Trainer, TrainingArguments,DataCollatorWithPadding\n",
    "import torch\n",
    "import numpy as np\n",
    "import pandas as pd\n",
    "# !pip install datasets\n",
    "from datasets import load_metric\n",
    "# !pip install evaluate\n",
    "# \n",
    "from sklearn.model_selection import train_test_split\n",
    "import csv\n",
    "from optuna import Trial\n",
    "from typing import Dict, Union, Any\n",
    "import evaluate"
   ]
  },
  {
   "cell_type": "code",
   "execution_count": 2,
   "id": "9ef5359f-9526-4d19-a2da-7988dc1ea04f",
   "metadata": {
    "colab": {
     "base_uri": "https://localhost:8080/"
    },
    "execution": {
     "iopub.execute_input": "2024-05-29T10:19:33.793941Z",
     "iopub.status.busy": "2024-05-29T10:19:33.793156Z",
     "iopub.status.idle": "2024-05-29T10:19:33.834993Z",
     "shell.execute_reply": "2024-05-29T10:19:33.834355Z",
     "shell.execute_reply.started": "2024-05-29T10:19:33.793914Z"
    },
    "id": "9ef5359f-9526-4d19-a2da-7988dc1ea04f",
    "outputId": "3712e188-4625-432f-ef6b-9c0533053f62"
   },
   "outputs": [
    {
     "name": "stdout",
     "output_type": "stream",
     "text": [
      "538\n"
     ]
    },
    {
     "name": "stderr",
     "output_type": "stream",
     "text": [
      "/tmp/ipykernel_8396/1080511774.py:13: FutureWarning: Downcasting behavior in `replace` is deprecated and will be removed in a future version. To retain the old behavior, explicitly call `result.infer_objects(copy=False)`. To opt-in to the future behavior, set `pd.set_option('future.no_silent_downcasting', True)`\n",
      "  train = train.replace({\"label\": label2id})\n",
      "/tmp/ipykernel_8396/1080511774.py:17: FutureWarning: Downcasting behavior in `replace` is deprecated and will be removed in a future version. To retain the old behavior, explicitly call `result.infer_objects(copy=False)`. To opt-in to the future behavior, set `pd.set_option('future.no_silent_downcasting', True)`\n",
      "  test = test.replace({\"label\": label2id})\n"
     ]
    }
   ],
   "source": [
    "# df = pd.read_csv('D:\\IET software-CC-CL\\Commit Classification\\experiment\\Commit_dataset.csv', encoding=\"cp1252\")\n",
    "\n",
    "# label2id = {'a':'Adaptive','p':'Perfective','c':'Corrective'}\n",
    "label2id = {'Corrective':0,'Adaptive':1,'Perfective':2}\n",
    "# df = df.replace({\"3_labels\": label2id})\n",
    "# df = pd.read_csv(r'dataset.csv',engine=\"python\")\n",
    "# df['text'] = \"['DIFF]\" + df['diff']\n",
    "# # df = df.replace({\"2_labels\": label2id})\n",
    "# print(df)\n",
    "\n",
    "train = pd.read_csv('train.csv',index_col=0)\n",
    "# train = train.rename(columns={'3_labels':'label','comment':'text'})\n",
    "train = train.replace({\"label\": label2id})\n",
    "train.fillna(0, inplace=True)\n",
    "test = pd.read_csv('test.csv',index_col=0)\n",
    "# test = test.rename(columns={'3_labels':'label','comment':'text'})\n",
    "test = test.replace({\"label\": label2id})\n",
    "test.fillna(0, inplace=True)\n",
    "print(len(test))\n",
    "\n"
   ]
  },
  {
   "cell_type": "code",
   "execution_count": 3,
   "id": "ecb125ae-f537-4934-bbe2-cbf1e78c96bb",
   "metadata": {
    "execution": {
     "iopub.execute_input": "2024-05-29T10:19:33.836620Z",
     "iopub.status.busy": "2024-05-29T10:19:33.836331Z",
     "iopub.status.idle": "2024-05-29T10:19:33.840412Z",
     "shell.execute_reply": "2024-05-29T10:19:33.839587Z",
     "shell.execute_reply.started": "2024-05-29T10:19:33.836595Z"
    },
    "id": "ecb125ae-f537-4934-bbe2-cbf1e78c96bb"
   },
   "outputs": [],
   "source": [
    "from datasets import Dataset, load_metric"
   ]
  },
  {
   "cell_type": "code",
   "execution_count": 4,
   "id": "2e214dbb-075e-4fbf-adc9-f3533801587e",
   "metadata": {
    "execution": {
     "iopub.execute_input": "2024-05-29T10:19:33.842939Z",
     "iopub.status.busy": "2024-05-29T10:19:33.842696Z",
     "iopub.status.idle": "2024-05-29T10:19:33.846296Z",
     "shell.execute_reply": "2024-05-29T10:19:33.845543Z",
     "shell.execute_reply.started": "2024-05-29T10:19:33.842915Z"
    },
    "id": "2e214dbb-075e-4fbf-adc9-f3533801587e"
   },
   "outputs": [],
   "source": [
    "# train_dataset = Dataset.from_pandas(train)\n",
    "# test_dataset = Dataset.from_pandas(test)"
   ]
  },
  {
   "cell_type": "code",
   "execution_count": 5,
   "id": "ee30affe-0ec9-46a3-bcaa-a1bd9422c939",
   "metadata": {
    "colab": {
     "base_uri": "https://localhost:8080/"
    },
    "execution": {
     "iopub.execute_input": "2024-05-29T10:19:33.847521Z",
     "iopub.status.busy": "2024-05-29T10:19:33.847170Z",
     "iopub.status.idle": "2024-05-29T10:19:33.856107Z",
     "shell.execute_reply": "2024-05-29T10:19:33.855433Z",
     "shell.execute_reply.started": "2024-05-29T10:19:33.847493Z"
    },
    "id": "ee30affe-0ec9-46a3-bcaa-a1bd9422c939",
    "outputId": "a9daff96-1924-4b8d-f836-41707383ca93"
   },
   "outputs": [
    {
     "data": {
      "text/plain": [
       "1255"
      ]
     },
     "execution_count": 5,
     "metadata": {},
     "output_type": "execute_result"
    }
   ],
   "source": [
    "len(train)"
   ]
  },
  {
   "cell_type": "code",
   "execution_count": 6,
   "id": "84e38639-cf4b-4762-a1dc-cdc983938388",
   "metadata": {
    "colab": {
     "base_uri": "https://localhost:8080/"
    },
    "execution": {
     "iopub.execute_input": "2024-05-29T10:19:33.857681Z",
     "iopub.status.busy": "2024-05-29T10:19:33.857356Z",
     "iopub.status.idle": "2024-05-29T10:19:33.863854Z",
     "shell.execute_reply": "2024-05-29T10:19:33.863213Z",
     "shell.execute_reply.started": "2024-05-29T10:19:33.857657Z"
    },
    "id": "84e38639-cf4b-4762-a1dc-cdc983938388",
    "outputId": "619aef15-ddf6-412d-820e-92b7e03aa1aa"
   },
   "outputs": [
    {
     "data": {
      "text/plain": [
       "label\n",
       "0    422\n",
       "2    420\n",
       "1    413\n",
       "Name: count, dtype: int64"
      ]
     },
     "execution_count": 6,
     "metadata": {},
     "output_type": "execute_result"
    }
   ],
   "source": [
    "train['label'].value_counts()"
   ]
  },
  {
   "cell_type": "code",
   "execution_count": 7,
   "id": "3cf6c110-616d-45da-aa2e-4a5add26b3c0",
   "metadata": {
    "colab": {
     "base_uri": "https://localhost:8080/"
    },
    "execution": {
     "iopub.execute_input": "2024-05-29T10:19:33.865159Z",
     "iopub.status.busy": "2024-05-29T10:19:33.864807Z",
     "iopub.status.idle": "2024-05-29T10:19:33.871732Z",
     "shell.execute_reply": "2024-05-29T10:19:33.871052Z",
     "shell.execute_reply.started": "2024-05-29T10:19:33.865135Z"
    },
    "id": "3cf6c110-616d-45da-aa2e-4a5add26b3c0",
    "outputId": "6ddae9b7-6b32-4d06-9bfc-6d84e5d2d034"
   },
   "outputs": [
    {
     "data": {
      "text/plain": [
       "label\n",
       "0    181\n",
       "2    180\n",
       "1    177\n",
       "Name: count, dtype: int64"
      ]
     },
     "execution_count": 7,
     "metadata": {},
     "output_type": "execute_result"
    }
   ],
   "source": [
    "test['label'].value_counts()"
   ]
  },
  {
   "cell_type": "code",
   "execution_count": null,
   "id": "dca6275a-a567-4963-831c-8dd653341162",
   "metadata": {
    "id": "dca6275a-a567-4963-831c-8dd653341162"
   },
   "outputs": [],
   "source": []
  },
  {
   "cell_type": "code",
   "execution_count": 8,
   "id": "b7c52074-c55f-4218-bc87-cdbc6e36a993",
   "metadata": {
    "colab": {
     "base_uri": "https://localhost:8080/",
     "height": 1000
    },
    "execution": {
     "iopub.execute_input": "2024-05-29T10:19:33.872905Z",
     "iopub.status.busy": "2024-05-29T10:19:33.872666Z",
     "iopub.status.idle": "2024-05-29T10:19:33.892775Z",
     "shell.execute_reply": "2024-05-29T10:19:33.892197Z",
     "shell.execute_reply.started": "2024-05-29T10:19:33.872880Z"
    },
    "id": "b7c52074-c55f-4218-bc87-cdbc6e36a993",
    "outputId": "16cbea3e-ec72-4a9e-ddea-5686f2ee4085"
   },
   "outputs": [
    {
     "data": {
      "text/html": [
       "<div>\n",
       "<style scoped>\n",
       "    .dataframe tbody tr th:only-of-type {\n",
       "        vertical-align: middle;\n",
       "    }\n",
       "\n",
       "    .dataframe tbody tr th {\n",
       "        vertical-align: top;\n",
       "    }\n",
       "\n",
       "    .dataframe thead th {\n",
       "        text-align: right;\n",
       "    }\n",
       "</style>\n",
       "<table border=\"1\" class=\"dataframe\">\n",
       "  <thead>\n",
       "    <tr style=\"text-align: right;\">\n",
       "      <th></th>\n",
       "      <th>commit_id</th>\n",
       "      <th>project</th>\n",
       "      <th>text</th>\n",
       "      <th>label</th>\n",
       "      <th>ADDING_ATTRIBUTE_MODIFIABILITY</th>\n",
       "      <th>ADDING_METHOD_OVERRIDABILITY</th>\n",
       "      <th>ADDITIONAL_CLASS</th>\n",
       "      <th>ADDITIONAL_FUNCTIONALITY</th>\n",
       "      <th>ADDITIONAL_OBJECT_STATE</th>\n",
       "      <th>ALTERNATIVE_PART_DELETE</th>\n",
       "      <th>...</th>\n",
       "      <th>Extract Variable</th>\n",
       "      <th>Inline Variable</th>\n",
       "      <th>Parametrize Variable</th>\n",
       "      <th>Rename Variable</th>\n",
       "      <th>Replace Variable with Attribute</th>\n",
       "      <th>Change Variable Type</th>\n",
       "      <th>Move and Rename Class</th>\n",
       "      <th>Move Class</th>\n",
       "      <th>Extract and Move Method</th>\n",
       "      <th>Move Source Folder</th>\n",
       "    </tr>\n",
       "  </thead>\n",
       "  <tbody>\n",
       "    <tr>\n",
       "      <th>1</th>\n",
       "      <td>0950c46beda335819928585f1262dfe1dca78a0b</td>\n",
       "      <td>ReactiveX-RxJava</td>\n",
       "      <td>Trying to extend the Scheduler interface accor...</td>\n",
       "      <td>1</td>\n",
       "      <td>0</td>\n",
       "      <td>0</td>\n",
       "      <td>0</td>\n",
       "      <td>1</td>\n",
       "      <td>0</td>\n",
       "      <td>0</td>\n",
       "      <td>...</td>\n",
       "      <td>0</td>\n",
       "      <td>0</td>\n",
       "      <td>0</td>\n",
       "      <td>0</td>\n",
       "      <td>0</td>\n",
       "      <td>0</td>\n",
       "      <td>0</td>\n",
       "      <td>0</td>\n",
       "      <td>0</td>\n",
       "      <td>0</td>\n",
       "    </tr>\n",
       "    <tr>\n",
       "      <th>498</th>\n",
       "      <td>869a002cae63a4e8ab52ec7f2d15d5a2cfbe0c02</td>\n",
       "      <td>drools</td>\n",
       "      <td>[DROOLS-839] fix LogicTransformer with Accumul...</td>\n",
       "      <td>0</td>\n",
       "      <td>0</td>\n",
       "      <td>0</td>\n",
       "      <td>1</td>\n",
       "      <td>9</td>\n",
       "      <td>1</td>\n",
       "      <td>1</td>\n",
       "      <td>...</td>\n",
       "      <td>0</td>\n",
       "      <td>0</td>\n",
       "      <td>0</td>\n",
       "      <td>1</td>\n",
       "      <td>0</td>\n",
       "      <td>1</td>\n",
       "      <td>0</td>\n",
       "      <td>0</td>\n",
       "      <td>0</td>\n",
       "      <td>0</td>\n",
       "    </tr>\n",
       "    <tr>\n",
       "      <th>1010</th>\n",
       "      <td>3ca94cabb68789cb20e37e0c9ecea7acc8b9487e</td>\n",
       "      <td>Valadoc</td>\n",
       "      <td>libvaladoc/html: Add \"All known members inheri...</td>\n",
       "      <td>1</td>\n",
       "      <td>0</td>\n",
       "      <td>0</td>\n",
       "      <td>0</td>\n",
       "      <td>0</td>\n",
       "      <td>0</td>\n",
       "      <td>0</td>\n",
       "      <td>...</td>\n",
       "      <td>0</td>\n",
       "      <td>0</td>\n",
       "      <td>0</td>\n",
       "      <td>0</td>\n",
       "      <td>0</td>\n",
       "      <td>0</td>\n",
       "      <td>0</td>\n",
       "      <td>0</td>\n",
       "      <td>0</td>\n",
       "      <td>0</td>\n",
       "    </tr>\n",
       "    <tr>\n",
       "      <th>1583</th>\n",
       "      <td>171accb43d709bd3960187686afbdf68f5239644</td>\n",
       "      <td>aeshell$aesh</td>\n",
       "      <td>[AESH-316] - print warning instead of exceptio...</td>\n",
       "      <td>1</td>\n",
       "      <td>0</td>\n",
       "      <td>0</td>\n",
       "      <td>0</td>\n",
       "      <td>1</td>\n",
       "      <td>0</td>\n",
       "      <td>0</td>\n",
       "      <td>...</td>\n",
       "      <td>1</td>\n",
       "      <td>0</td>\n",
       "      <td>0</td>\n",
       "      <td>0</td>\n",
       "      <td>0</td>\n",
       "      <td>0</td>\n",
       "      <td>0</td>\n",
       "      <td>0</td>\n",
       "      <td>0</td>\n",
       "      <td>0</td>\n",
       "    </tr>\n",
       "    <tr>\n",
       "      <th>1369</th>\n",
       "      <td>5b91442a260b42e3d47ef91a53015f2d0958a683</td>\n",
       "      <td>Delta Spike</td>\n",
       "      <td>remove unused private field\\n</td>\n",
       "      <td>2</td>\n",
       "      <td>0</td>\n",
       "      <td>0</td>\n",
       "      <td>0</td>\n",
       "      <td>0</td>\n",
       "      <td>0</td>\n",
       "      <td>0</td>\n",
       "      <td>...</td>\n",
       "      <td>0</td>\n",
       "      <td>0</td>\n",
       "      <td>0</td>\n",
       "      <td>0</td>\n",
       "      <td>0</td>\n",
       "      <td>0</td>\n",
       "      <td>0</td>\n",
       "      <td>0</td>\n",
       "      <td>0</td>\n",
       "      <td>0</td>\n",
       "    </tr>\n",
       "    <tr>\n",
       "      <th>...</th>\n",
       "      <td>...</td>\n",
       "      <td>...</td>\n",
       "      <td>...</td>\n",
       "      <td>...</td>\n",
       "      <td>...</td>\n",
       "      <td>...</td>\n",
       "      <td>...</td>\n",
       "      <td>...</td>\n",
       "      <td>...</td>\n",
       "      <td>...</td>\n",
       "      <td>...</td>\n",
       "      <td>...</td>\n",
       "      <td>...</td>\n",
       "      <td>...</td>\n",
       "      <td>...</td>\n",
       "      <td>...</td>\n",
       "      <td>...</td>\n",
       "      <td>...</td>\n",
       "      <td>...</td>\n",
       "      <td>...</td>\n",
       "      <td>...</td>\n",
       "    </tr>\n",
       "    <tr>\n",
       "      <th>1411</th>\n",
       "      <td>f2757568dac2a6473f054101f80ac2b8f291ce4e</td>\n",
       "      <td>Vala</td>\n",
       "      <td>glib-2.0: add GLib.HashTable.foreach\\n\\nFixes ...</td>\n",
       "      <td>1</td>\n",
       "      <td>0</td>\n",
       "      <td>0</td>\n",
       "      <td>0</td>\n",
       "      <td>0</td>\n",
       "      <td>0</td>\n",
       "      <td>0</td>\n",
       "      <td>...</td>\n",
       "      <td>0</td>\n",
       "      <td>0</td>\n",
       "      <td>0</td>\n",
       "      <td>0</td>\n",
       "      <td>0</td>\n",
       "      <td>0</td>\n",
       "      <td>0</td>\n",
       "      <td>0</td>\n",
       "      <td>0</td>\n",
       "      <td>0</td>\n",
       "    </tr>\n",
       "    <tr>\n",
       "      <th>1574</th>\n",
       "      <td>16cb7d8d59add7b3ef513bba0de6a4fc07e3bc52</td>\n",
       "      <td>aeshell$aesh</td>\n",
       "      <td>search is more complete, support forward/rever...</td>\n",
       "      <td>1</td>\n",
       "      <td>0</td>\n",
       "      <td>0</td>\n",
       "      <td>0</td>\n",
       "      <td>1</td>\n",
       "      <td>1</td>\n",
       "      <td>0</td>\n",
       "      <td>...</td>\n",
       "      <td>0</td>\n",
       "      <td>0</td>\n",
       "      <td>0</td>\n",
       "      <td>0</td>\n",
       "      <td>0</td>\n",
       "      <td>0</td>\n",
       "      <td>0</td>\n",
       "      <td>0</td>\n",
       "      <td>0</td>\n",
       "      <td>0</td>\n",
       "    </tr>\n",
       "    <tr>\n",
       "      <th>597</th>\n",
       "      <td>14c657d448b6dd743806c4df2a321d58f4e0618e</td>\n",
       "      <td>kotlin</td>\n",
       "      <td>Extract Function: Consider reference \"broken\" ...</td>\n",
       "      <td>0</td>\n",
       "      <td>0</td>\n",
       "      <td>0</td>\n",
       "      <td>0</td>\n",
       "      <td>1</td>\n",
       "      <td>0</td>\n",
       "      <td>0</td>\n",
       "      <td>...</td>\n",
       "      <td>0</td>\n",
       "      <td>0</td>\n",
       "      <td>0</td>\n",
       "      <td>0</td>\n",
       "      <td>0</td>\n",
       "      <td>0</td>\n",
       "      <td>0</td>\n",
       "      <td>0</td>\n",
       "      <td>0</td>\n",
       "      <td>0</td>\n",
       "    </tr>\n",
       "    <tr>\n",
       "      <th>1712</th>\n",
       "      <td>02668af08bebc5266b321ab1df2f45dfe656c813</td>\n",
       "      <td>duracloud$duracloud</td>\n",
       "      <td>First part of https://jira.duraspace.org/brows...</td>\n",
       "      <td>2</td>\n",
       "      <td>0</td>\n",
       "      <td>0</td>\n",
       "      <td>0</td>\n",
       "      <td>1</td>\n",
       "      <td>0</td>\n",
       "      <td>0</td>\n",
       "      <td>...</td>\n",
       "      <td>0</td>\n",
       "      <td>0</td>\n",
       "      <td>0</td>\n",
       "      <td>1</td>\n",
       "      <td>0</td>\n",
       "      <td>0</td>\n",
       "      <td>0</td>\n",
       "      <td>1</td>\n",
       "      <td>0</td>\n",
       "      <td>0</td>\n",
       "    </tr>\n",
       "    <tr>\n",
       "      <th>373</th>\n",
       "      <td>e86d48730c64d10ba2a838e5663f9ab7a698c9c6</td>\n",
       "      <td>hadoop</td>\n",
       "      <td>HADOOP-7187. Fix socket leak in GangliaContext...</td>\n",
       "      <td>0</td>\n",
       "      <td>0</td>\n",
       "      <td>0</td>\n",
       "      <td>0</td>\n",
       "      <td>1</td>\n",
       "      <td>0</td>\n",
       "      <td>0</td>\n",
       "      <td>...</td>\n",
       "      <td>0</td>\n",
       "      <td>0</td>\n",
       "      <td>0</td>\n",
       "      <td>0</td>\n",
       "      <td>0</td>\n",
       "      <td>0</td>\n",
       "      <td>0</td>\n",
       "      <td>0</td>\n",
       "      <td>0</td>\n",
       "      <td>0</td>\n",
       "    </tr>\n",
       "  </tbody>\n",
       "</table>\n",
       "<p>1255 rows × 94 columns</p>\n",
       "</div>"
      ],
      "text/plain": [
       "                                     commit_id              project  \\\n",
       "1     0950c46beda335819928585f1262dfe1dca78a0b     ReactiveX-RxJava   \n",
       "498   869a002cae63a4e8ab52ec7f2d15d5a2cfbe0c02               drools   \n",
       "1010  3ca94cabb68789cb20e37e0c9ecea7acc8b9487e              Valadoc   \n",
       "1583  171accb43d709bd3960187686afbdf68f5239644         aeshell$aesh   \n",
       "1369  5b91442a260b42e3d47ef91a53015f2d0958a683          Delta Spike   \n",
       "...                                        ...                  ...   \n",
       "1411  f2757568dac2a6473f054101f80ac2b8f291ce4e                 Vala   \n",
       "1574  16cb7d8d59add7b3ef513bba0de6a4fc07e3bc52         aeshell$aesh   \n",
       "597   14c657d448b6dd743806c4df2a321d58f4e0618e               kotlin   \n",
       "1712  02668af08bebc5266b321ab1df2f45dfe656c813  duracloud$duracloud   \n",
       "373   e86d48730c64d10ba2a838e5663f9ab7a698c9c6               hadoop   \n",
       "\n",
       "                                                   text  label  \\\n",
       "1     Trying to extend the Scheduler interface accor...      1   \n",
       "498   [DROOLS-839] fix LogicTransformer with Accumul...      0   \n",
       "1010  libvaladoc/html: Add \"All known members inheri...      1   \n",
       "1583  [AESH-316] - print warning instead of exceptio...      1   \n",
       "1369                      remove unused private field\\n      2   \n",
       "...                                                 ...    ...   \n",
       "1411  glib-2.0: add GLib.HashTable.foreach\\n\\nFixes ...      1   \n",
       "1574  search is more complete, support forward/rever...      1   \n",
       "597   Extract Function: Consider reference \"broken\" ...      0   \n",
       "1712  First part of https://jira.duraspace.org/brows...      2   \n",
       "373   HADOOP-7187. Fix socket leak in GangliaContext...      0   \n",
       "\n",
       "      ADDING_ATTRIBUTE_MODIFIABILITY  ADDING_METHOD_OVERRIDABILITY  \\\n",
       "1                                  0                             0   \n",
       "498                                0                             0   \n",
       "1010                               0                             0   \n",
       "1583                               0                             0   \n",
       "1369                               0                             0   \n",
       "...                              ...                           ...   \n",
       "1411                               0                             0   \n",
       "1574                               0                             0   \n",
       "597                                0                             0   \n",
       "1712                               0                             0   \n",
       "373                                0                             0   \n",
       "\n",
       "      ADDITIONAL_CLASS  ADDITIONAL_FUNCTIONALITY  ADDITIONAL_OBJECT_STATE  \\\n",
       "1                    0                         1                        0   \n",
       "498                  1                         9                        1   \n",
       "1010                 0                         0                        0   \n",
       "1583                 0                         1                        0   \n",
       "1369                 0                         0                        0   \n",
       "...                ...                       ...                      ...   \n",
       "1411                 0                         0                        0   \n",
       "1574                 0                         1                        1   \n",
       "597                  0                         1                        0   \n",
       "1712                 0                         1                        0   \n",
       "373                  0                         1                        0   \n",
       "\n",
       "      ALTERNATIVE_PART_DELETE  ...  Extract Variable  Inline Variable  \\\n",
       "1                           0  ...                 0                0   \n",
       "498                         1  ...                 0                0   \n",
       "1010                        0  ...                 0                0   \n",
       "1583                        0  ...                 1                0   \n",
       "1369                        0  ...                 0                0   \n",
       "...                       ...  ...               ...              ...   \n",
       "1411                        0  ...                 0                0   \n",
       "1574                        0  ...                 0                0   \n",
       "597                         0  ...                 0                0   \n",
       "1712                        0  ...                 0                0   \n",
       "373                         0  ...                 0                0   \n",
       "\n",
       "      Parametrize Variable  Rename Variable  Replace Variable with Attribute  \\\n",
       "1                        0                0                                0   \n",
       "498                      0                1                                0   \n",
       "1010                     0                0                                0   \n",
       "1583                     0                0                                0   \n",
       "1369                     0                0                                0   \n",
       "...                    ...              ...                              ...   \n",
       "1411                     0                0                                0   \n",
       "1574                     0                0                                0   \n",
       "597                      0                0                                0   \n",
       "1712                     0                1                                0   \n",
       "373                      0                0                                0   \n",
       "\n",
       "      Change Variable Type  Move and Rename Class  Move Class  \\\n",
       "1                        0                      0           0   \n",
       "498                      1                      0           0   \n",
       "1010                     0                      0           0   \n",
       "1583                     0                      0           0   \n",
       "1369                     0                      0           0   \n",
       "...                    ...                    ...         ...   \n",
       "1411                     0                      0           0   \n",
       "1574                     0                      0           0   \n",
       "597                      0                      0           0   \n",
       "1712                     0                      0           1   \n",
       "373                      0                      0           0   \n",
       "\n",
       "      Extract and Move Method  Move Source Folder  \n",
       "1                           0                   0  \n",
       "498                         0                   0  \n",
       "1010                        0                   0  \n",
       "1583                        0                   0  \n",
       "1369                        0                   0  \n",
       "...                       ...                 ...  \n",
       "1411                        0                   0  \n",
       "1574                        0                   0  \n",
       "597                         0                   0  \n",
       "1712                        0                   0  \n",
       "373                         0                   0  \n",
       "\n",
       "[1255 rows x 94 columns]"
      ]
     },
     "execution_count": 8,
     "metadata": {},
     "output_type": "execute_result"
    }
   ],
   "source": [
    "train"
   ]
  },
  {
   "cell_type": "code",
   "execution_count": 9,
   "id": "b95f20d0-163a-460b-88b6-e883c9f17eaa",
   "metadata": {
    "execution": {
     "iopub.execute_input": "2024-05-29T10:19:33.894112Z",
     "iopub.status.busy": "2024-05-29T10:19:33.893874Z",
     "iopub.status.idle": "2024-05-29T10:19:33.897381Z",
     "shell.execute_reply": "2024-05-29T10:19:33.896725Z",
     "shell.execute_reply.started": "2024-05-29T10:19:33.894088Z"
    },
    "id": "b95f20d0-163a-460b-88b6-e883c9f17eaa"
   },
   "outputs": [],
   "source": [
    "# id2label = {0: \"Adaptive\", 1: \"POSITIVE\"}\n",
    "# label2id = {\"NEGATIVE\": 0, \"POSITIVE\": 1}"
   ]
  },
  {
   "cell_type": "code",
   "execution_count": 10,
   "id": "a6501389-0c86-442d-85cf-f04ad146703f",
   "metadata": {
    "colab": {
     "base_uri": "https://localhost:8080/"
    },
    "execution": {
     "iopub.execute_input": "2024-05-29T10:19:33.898858Z",
     "iopub.status.busy": "2024-05-29T10:19:33.898527Z",
     "iopub.status.idle": "2024-05-29T10:19:34.158159Z",
     "shell.execute_reply": "2024-05-29T10:19:34.156871Z",
     "shell.execute_reply.started": "2024-05-29T10:19:33.898834Z"
    },
    "id": "a6501389-0c86-442d-85cf-f04ad146703f",
    "outputId": "07ea01c7-3b16-4481-f840-d89846affa59"
   },
   "outputs": [
    {
     "name": "stderr",
     "output_type": "stream",
     "text": [
      "Some weights of BertForSequenceClassification were not initialized from the model checkpoint at ../../bert-base-cased and are newly initialized: ['classifier.bias', 'classifier.weight']\n",
      "You should probably TRAIN this model on a down-stream task to be able to use it for predictions and inference.\n"
     ]
    }
   ],
   "source": [
    "from transformers import AutoModelForSequenceClassification, TrainingArguments, Trainer\n",
    "model = AutoModelForSequenceClassification.from_pretrained(\n",
    "    \"../../bert-base-cased\", num_labels=3\n",
    ")\n",
    "tokenizer = AutoTokenizer.from_pretrained('../../bert-base-cased')"
   ]
  },
  {
   "cell_type": "code",
   "execution_count": 11,
   "id": "86e85ae4-76a0-4d00-8b0c-e867356c07f3",
   "metadata": {
    "execution": {
     "iopub.execute_input": "2024-05-29T10:19:34.159781Z",
     "iopub.status.busy": "2024-05-29T10:19:34.159434Z",
     "iopub.status.idle": "2024-05-29T10:19:34.223088Z",
     "shell.execute_reply": "2024-05-29T10:19:34.221868Z",
     "shell.execute_reply.started": "2024-05-29T10:19:34.159754Z"
    },
    "id": "86e85ae4-76a0-4d00-8b0c-e867356c07f3"
   },
   "outputs": [
    {
     "name": "stderr",
     "output_type": "stream",
     "text": [
      "/usr/local/lib/python3.11/dist-packages/transformers/training_args.py:1474: FutureWarning: `evaluation_strategy` is deprecated and will be removed in version 4.46 of 🤗 Transformers. Use `eval_strategy` instead\n",
      "  warnings.warn(\n"
     ]
    }
   ],
   "source": [
    "training_args = TrainingArguments(\n",
    "    output_dir=\"./my_awesome_model\",\n",
    "    learning_rate=2e-5,\n",
    "    per_device_train_batch_size=16,\n",
    "    per_device_eval_batch_size=16,\n",
    "    num_train_epochs=1,\n",
    "    weight_decay=0.01,\n",
    "    evaluation_strategy=\"epoch\",\n",
    "    save_strategy=\"epoch\",\n",
    "    load_best_model_at_end=True,\n",
    "    push_to_hub=False,\n",
    ")"
   ]
  },
  {
   "cell_type": "code",
   "execution_count": 12,
   "id": "720FoPSIU78q",
   "metadata": {
    "execution": {
     "iopub.execute_input": "2024-05-29T10:19:34.224327Z",
     "iopub.status.busy": "2024-05-29T10:19:34.224104Z",
     "iopub.status.idle": "2024-05-29T10:19:35.014058Z",
     "shell.execute_reply": "2024-05-29T10:19:35.013046Z",
     "shell.execute_reply.started": "2024-05-29T10:19:34.224305Z"
    },
    "id": "720FoPSIU78q"
   },
   "outputs": [],
   "source": [
    "encoded_train = tokenizer(train['text'].astype(str).to_list(), return_tensors='pt',truncation=True, padding=True)\n",
    "encoded_test = tokenizer(test['text'].astype(str).to_list(), return_tensors='pt',truncation=True, padding=True)"
   ]
  },
  {
   "cell_type": "code",
   "execution_count": 13,
   "id": "J_EF2QzxVx8V",
   "metadata": {
    "execution": {
     "iopub.execute_input": "2024-05-29T10:19:35.017136Z",
     "iopub.status.busy": "2024-05-29T10:19:35.016909Z",
     "iopub.status.idle": "2024-05-29T10:19:35.023040Z",
     "shell.execute_reply": "2024-05-29T10:19:35.022102Z",
     "shell.execute_reply.started": "2024-05-29T10:19:35.017113Z"
    },
    "id": "J_EF2QzxVx8V"
   },
   "outputs": [],
   "source": [
    "class CommitDataset(torch.utils.data.Dataset):\n",
    "    def __init__(self, encodings, labels):\n",
    "        self.encodings = encodings\n",
    "        self.labels = labels\n",
    "\n",
    "    def __getitem__(self, idx):\n",
    "        item = {key: torch.tensor(val[idx]) for key, val in self.encodings.items()}\n",
    "        item['labels'] = torch.tensor(self.labels[idx])\n",
    "        return item\n",
    "\n",
    "    def __len__(self):\n",
    "        return len(self.labels)"
   ]
  },
  {
   "cell_type": "code",
   "execution_count": null,
   "id": "fKNnBPFnWOVq",
   "metadata": {
    "id": "fKNnBPFnWOVq"
   },
   "outputs": [],
   "source": []
  },
  {
   "cell_type": "code",
   "execution_count": 14,
   "id": "9ymEdUxiVxNZ",
   "metadata": {
    "execution": {
     "iopub.execute_input": "2024-05-29T10:19:35.024092Z",
     "iopub.status.busy": "2024-05-29T10:19:35.023885Z",
     "iopub.status.idle": "2024-05-29T10:19:35.028878Z",
     "shell.execute_reply": "2024-05-29T10:19:35.027803Z",
     "shell.execute_reply.started": "2024-05-29T10:19:35.024072Z"
    },
    "id": "9ymEdUxiVxNZ"
   },
   "outputs": [],
   "source": [
    "train_dataset = CommitDataset(encoded_train, list(train['label']))\n",
    "test_dataset = CommitDataset(encoded_test, list(test['label']))"
   ]
  },
  {
   "cell_type": "code",
   "execution_count": 15,
   "id": "BsELuvsLWzfV",
   "metadata": {
    "execution": {
     "iopub.execute_input": "2024-05-29T10:19:35.029839Z",
     "iopub.status.busy": "2024-05-29T10:19:35.029632Z",
     "iopub.status.idle": "2024-05-29T10:19:35.036531Z",
     "shell.execute_reply": "2024-05-29T10:19:35.035458Z",
     "shell.execute_reply.started": "2024-05-29T10:19:35.029818Z"
    },
    "id": "BsELuvsLWzfV"
   },
   "outputs": [],
   "source": [
    "def compute_metrics(eval_pred):\n",
    "    accuracy = evaluate.load('../../evaluate/metrics/accuracy')\n",
    "    precision =  evaluate.load(\"../../evaluate/metrics/precision\")\n",
    "    recall =  evaluate.load(\"../../evaluate/metrics/recall\")\n",
    "    f1 =  evaluate.load(\"../../evaluate/metrics/f1\")\n",
    "    predictions, labels = eval_pred\n",
    "    predictions = np.argmax(predictions, axis=1)\n",
    "    accuracy = accuracy.compute(predictions=predictions, references=labels)\n",
    "    precision = precision.compute(predictions=predictions, references=labels, average='weighted')\n",
    "    recall = recall.compute(predictions=predictions, references=labels,average='weighted')\n",
    "    f1 = f1.compute(predictions=predictions, references=labels,average='weighted')\n",
    "    # accuracy_score = metrics.accuracy_score(labels,predictions)\n",
    "    # precision_score = metrics.precision_score(labels,predictions, average='weighted')\n",
    "    # recall_score = metrics.recall_score(labels,predictions,average='weighted')\n",
    "    # f1_score = metrics.f1_score(labels,predictions,average='weighted')\n",
    "\n",
    "    # return {\"classification_report\": classification_report}\n",
    "    # return {\"precision\": precision_score,\"recall\": recall_score, \"f1\":f1_score, \"accuracy\": accuracy_score}\n",
    "    return {\"precision\": precision, \"recall\": recall, \"f1\": f1, \"accuracy\": accuracy}"
   ]
  },
  {
   "cell_type": "code",
   "execution_count": 16,
   "id": "c6e4c9b2-d065-4f88-9879-9a266d82a5f1",
   "metadata": {
    "execution": {
     "iopub.execute_input": "2024-05-29T10:19:35.037643Z",
     "iopub.status.busy": "2024-05-29T10:19:35.037437Z",
     "iopub.status.idle": "2024-05-29T10:19:35.044211Z",
     "shell.execute_reply": "2024-05-29T10:19:35.043262Z",
     "shell.execute_reply.started": "2024-05-29T10:19:35.037623Z"
    }
   },
   "outputs": [],
   "source": [
    "def hp_space(trial: Trial) -> Dict[str, Union[float, int, str]]:\n",
    "    return {\n",
    "        \"learning_rate\": trial.suggest_float(\"learning_rate\", 1e-6, 1e-3, log=True),\n",
    "        # \"num_epochs\": trial.suggest_int(\"num_epochs\", 1, 3),\n",
    "        # \"batch_size\": trial.suggest_categorical(\"batch_size\", [8, 12, 16]),\n",
    "        # \"seed\": trial.suggest_int(\"seed\", 1, 40),\n",
    "        # \"num_iterations\": trial.suggest_int(\"num_iterations\", 10, 20),\n",
    "        # \"solver\": trial.suggest_categorical(\"solver\", [\"newton-cg\", \"lbfgs\", \"liblinear\"]),\n",
    "    }\n",
    "def model_init(params: Dict[str, Any]) -> model:\n",
    "    # params = params or {}\n",
    "    # learning_rate = params.get(\"learning_rate\")\n",
    "    # num_iterations = params.get(\"num_iterations\", 20)\n",
    "    # solver = params.get(\"solver\", \"liblinear\")\n",
    "    # params = {\n",
    "    #     \"head_params\": {\n",
    "    #         # \"max_iter\": num_iterations,\n",
    "    #         # \"solver\": solver,\n",
    "    #     }\n",
    "    # }\n",
    "    return model\n",
    "def my_compute_objective(metrics):\n",
    "    print('+++++++++++',metrics['eval_accuracy']['accuracy'])\n",
    "    return  metrics['eval_accuracy']['accuracy']"
   ]
  },
  {
   "cell_type": "code",
   "execution_count": 17,
   "id": "2244f079-c2b8-4e01-aca4-f68e7ce8accb",
   "metadata": {
    "colab": {
     "base_uri": "https://localhost:8080/",
     "height": 340
    },
    "execution": {
     "iopub.execute_input": "2024-05-29T10:19:35.045454Z",
     "iopub.status.busy": "2024-05-29T10:19:35.045179Z",
     "iopub.status.idle": "2024-05-29T10:22:27.184018Z",
     "shell.execute_reply": "2024-05-29T10:22:27.183336Z",
     "shell.execute_reply.started": "2024-05-29T10:19:35.045427Z"
    },
    "id": "2244f079-c2b8-4e01-aca4-f68e7ce8accb",
    "outputId": "7f7fd1aa-b69c-4170-9bc9-1352cb2e4a33"
   },
   "outputs": [
    {
     "name": "stderr",
     "output_type": "stream",
     "text": [
      "Detected kernel version 5.4.0, which is below the recommended minimum of 5.5.0; this can cause the process to hang. It is recommended to upgrade the kernel to the minimum version or higher.\n",
      "/usr/local/lib/python3.11/dist-packages/transformers/trainer.py:423: FutureWarning: `Trainer` requires either a `model` or `model_init` argument, but not both. `model_init` will overwrite your model when calling the `train` method. This will become a fatal error in the next release.\n",
      "  warnings.warn(\n",
      "[I 2024-05-29 18:19:35,349] A new study created in memory with name: no-name-c62df28c-4ac5-47ae-a4ed-12dd1588bb9b\n",
      "Detected kernel version 5.4.0, which is below the recommended minimum of 5.5.0; this can cause the process to hang. It is recommended to upgrade the kernel to the minimum version or higher.\n",
      "/tmp/ipykernel_8396/77294352.py:7: UserWarning: To copy construct from a tensor, it is recommended to use sourceTensor.clone().detach() or sourceTensor.clone().detach().requires_grad_(True), rather than torch.tensor(sourceTensor).\n",
      "  item = {key: torch.tensor(val[idx]) for key, val in self.encodings.items()}\n"
     ]
    },
    {
     "data": {
      "text/html": [
       "\n",
       "    <div>\n",
       "      \n",
       "      <progress value='79' max='79' style='width:300px; height:20px; vertical-align: middle;'></progress>\n",
       "      [79/79 00:17, Epoch 1/1]\n",
       "    </div>\n",
       "    <table border=\"1\" class=\"dataframe\">\n",
       "  <thead>\n",
       " <tr style=\"text-align: left;\">\n",
       "      <th>Epoch</th>\n",
       "      <th>Training Loss</th>\n",
       "      <th>Validation Loss</th>\n",
       "      <th>Precision</th>\n",
       "      <th>Recall</th>\n",
       "      <th>F1</th>\n",
       "      <th>Accuracy</th>\n",
       "    </tr>\n",
       "  </thead>\n",
       "  <tbody>\n",
       "    <tr>\n",
       "      <td>1</td>\n",
       "      <td>No log</td>\n",
       "      <td>1.073148</td>\n",
       "      <td>{'precision': 0.7081859150134344}</td>\n",
       "      <td>{'recall': 0.3736059479553903}</td>\n",
       "      <td>{'f1': 0.25405276330745125}</td>\n",
       "      <td>{'accuracy': 0.3736059479553903}</td>\n",
       "    </tr>\n",
       "  </tbody>\n",
       "</table><p>"
      ],
      "text/plain": [
       "<IPython.core.display.HTML object>"
      ]
     },
     "metadata": {},
     "output_type": "display_data"
    },
    {
     "name": "stdout",
     "output_type": "stream",
     "text": [
      "+++++++++++ 0.3736059479553903\n"
     ]
    },
    {
     "name": "stderr",
     "output_type": "stream",
     "text": [
      "[I 2024-05-29 18:19:53,772] Trial 0 finished with value: 0.3736059479553903 and parameters: {'learning_rate': 3.288607426097487e-06}. Best is trial 0 with value: 0.3736059479553903.\n",
      "Detected kernel version 5.4.0, which is below the recommended minimum of 5.5.0; this can cause the process to hang. It is recommended to upgrade the kernel to the minimum version or higher.\n",
      "/tmp/ipykernel_8396/77294352.py:7: UserWarning: To copy construct from a tensor, it is recommended to use sourceTensor.clone().detach() or sourceTensor.clone().detach().requires_grad_(True), rather than torch.tensor(sourceTensor).\n",
      "  item = {key: torch.tensor(val[idx]) for key, val in self.encodings.items()}\n"
     ]
    },
    {
     "data": {
      "text/html": [
       "\n",
       "    <div>\n",
       "      \n",
       "      <progress value='79' max='79' style='width:300px; height:20px; vertical-align: middle;'></progress>\n",
       "      [79/79 00:19, Epoch 1/1]\n",
       "    </div>\n",
       "    <table border=\"1\" class=\"dataframe\">\n",
       "  <thead>\n",
       " <tr style=\"text-align: left;\">\n",
       "      <th>Epoch</th>\n",
       "      <th>Training Loss</th>\n",
       "      <th>Validation Loss</th>\n",
       "      <th>Precision</th>\n",
       "      <th>Recall</th>\n",
       "      <th>F1</th>\n",
       "      <th>Accuracy</th>\n",
       "    </tr>\n",
       "  </thead>\n",
       "  <tbody>\n",
       "    <tr>\n",
       "      <td>1</td>\n",
       "      <td>No log</td>\n",
       "      <td>0.555004</td>\n",
       "      <td>{'precision': 0.7910424589796521}</td>\n",
       "      <td>{'recall': 0.7899628252788105}</td>\n",
       "      <td>{'f1': 0.7902970138227046}</td>\n",
       "      <td>{'accuracy': 0.7899628252788105}</td>\n",
       "    </tr>\n",
       "  </tbody>\n",
       "</table><p>"
      ],
      "text/plain": [
       "<IPython.core.display.HTML object>"
      ]
     },
     "metadata": {},
     "output_type": "display_data"
    },
    {
     "name": "stdout",
     "output_type": "stream",
     "text": [
      "+++++++++++ 0.7899628252788105\n"
     ]
    },
    {
     "name": "stderr",
     "output_type": "stream",
     "text": [
      "[I 2024-05-29 18:20:14,098] Trial 1 finished with value: 0.7899628252788105 and parameters: {'learning_rate': 8.226418470459238e-05}. Best is trial 1 with value: 0.7899628252788105.\n",
      "Detected kernel version 5.4.0, which is below the recommended minimum of 5.5.0; this can cause the process to hang. It is recommended to upgrade the kernel to the minimum version or higher.\n",
      "/tmp/ipykernel_8396/77294352.py:7: UserWarning: To copy construct from a tensor, it is recommended to use sourceTensor.clone().detach() or sourceTensor.clone().detach().requires_grad_(True), rather than torch.tensor(sourceTensor).\n",
      "  item = {key: torch.tensor(val[idx]) for key, val in self.encodings.items()}\n"
     ]
    },
    {
     "data": {
      "text/html": [
       "\n",
       "    <div>\n",
       "      \n",
       "      <progress value='79' max='79' style='width:300px; height:20px; vertical-align: middle;'></progress>\n",
       "      [79/79 00:19, Epoch 1/1]\n",
       "    </div>\n",
       "    <table border=\"1\" class=\"dataframe\">\n",
       "  <thead>\n",
       " <tr style=\"text-align: left;\">\n",
       "      <th>Epoch</th>\n",
       "      <th>Training Loss</th>\n",
       "      <th>Validation Loss</th>\n",
       "      <th>Precision</th>\n",
       "      <th>Recall</th>\n",
       "      <th>F1</th>\n",
       "      <th>Accuracy</th>\n",
       "    </tr>\n",
       "  </thead>\n",
       "  <tbody>\n",
       "    <tr>\n",
       "      <td>1</td>\n",
       "      <td>No log</td>\n",
       "      <td>0.528835</td>\n",
       "      <td>{'precision': 0.8010794658400872}</td>\n",
       "      <td>{'recall': 0.8011152416356877}</td>\n",
       "      <td>{'f1': 0.8007837272514531}</td>\n",
       "      <td>{'accuracy': 0.8011152416356877}</td>\n",
       "    </tr>\n",
       "  </tbody>\n",
       "</table><p>"
      ],
      "text/plain": [
       "<IPython.core.display.HTML object>"
      ]
     },
     "metadata": {},
     "output_type": "display_data"
    },
    {
     "name": "stdout",
     "output_type": "stream",
     "text": [
      "+++++++++++ 0.8011152416356877\n"
     ]
    },
    {
     "name": "stderr",
     "output_type": "stream",
     "text": [
      "[I 2024-05-29 18:20:34,217] Trial 2 finished with value: 0.8011152416356877 and parameters: {'learning_rate': 0.0001666390770342786}. Best is trial 2 with value: 0.8011152416356877.\n",
      "Detected kernel version 5.4.0, which is below the recommended minimum of 5.5.0; this can cause the process to hang. It is recommended to upgrade the kernel to the minimum version or higher.\n",
      "/tmp/ipykernel_8396/77294352.py:7: UserWarning: To copy construct from a tensor, it is recommended to use sourceTensor.clone().detach() or sourceTensor.clone().detach().requires_grad_(True), rather than torch.tensor(sourceTensor).\n",
      "  item = {key: torch.tensor(val[idx]) for key, val in self.encodings.items()}\n"
     ]
    },
    {
     "data": {
      "text/html": [
       "\n",
       "    <div>\n",
       "      \n",
       "      <progress value='79' max='79' style='width:300px; height:20px; vertical-align: middle;'></progress>\n",
       "      [79/79 00:17, Epoch 1/1]\n",
       "    </div>\n",
       "    <table border=\"1\" class=\"dataframe\">\n",
       "  <thead>\n",
       " <tr style=\"text-align: left;\">\n",
       "      <th>Epoch</th>\n",
       "      <th>Training Loss</th>\n",
       "      <th>Validation Loss</th>\n",
       "      <th>Precision</th>\n",
       "      <th>Recall</th>\n",
       "      <th>F1</th>\n",
       "      <th>Accuracy</th>\n",
       "    </tr>\n",
       "  </thead>\n",
       "  <tbody>\n",
       "    <tr>\n",
       "      <td>1</td>\n",
       "      <td>No log</td>\n",
       "      <td>0.596233</td>\n",
       "      <td>{'precision': 0.802528953077761}</td>\n",
       "      <td>{'recall': 0.8011152416356877}</td>\n",
       "      <td>{'f1': 0.8015018463122272}</td>\n",
       "      <td>{'accuracy': 0.8011152416356877}</td>\n",
       "    </tr>\n",
       "  </tbody>\n",
       "</table><p>"
      ],
      "text/plain": [
       "<IPython.core.display.HTML object>"
      ]
     },
     "metadata": {},
     "output_type": "display_data"
    },
    {
     "name": "stdout",
     "output_type": "stream",
     "text": [
      "+++++++++++ 0.8011152416356877\n"
     ]
    },
    {
     "name": "stderr",
     "output_type": "stream",
     "text": [
      "[I 2024-05-29 18:20:51,922] Trial 3 finished with value: 0.8011152416356877 and parameters: {'learning_rate': 4.827454049330161e-06}. Best is trial 2 with value: 0.8011152416356877.\n",
      "Detected kernel version 5.4.0, which is below the recommended minimum of 5.5.0; this can cause the process to hang. It is recommended to upgrade the kernel to the minimum version or higher.\n",
      "/tmp/ipykernel_8396/77294352.py:7: UserWarning: To copy construct from a tensor, it is recommended to use sourceTensor.clone().detach() or sourceTensor.clone().detach().requires_grad_(True), rather than torch.tensor(sourceTensor).\n",
      "  item = {key: torch.tensor(val[idx]) for key, val in self.encodings.items()}\n"
     ]
    },
    {
     "data": {
      "text/html": [
       "\n",
       "    <div>\n",
       "      \n",
       "      <progress value='79' max='79' style='width:300px; height:20px; vertical-align: middle;'></progress>\n",
       "      [79/79 00:17, Epoch 1/1]\n",
       "    </div>\n",
       "    <table border=\"1\" class=\"dataframe\">\n",
       "  <thead>\n",
       " <tr style=\"text-align: left;\">\n",
       "      <th>Epoch</th>\n",
       "      <th>Training Loss</th>\n",
       "      <th>Validation Loss</th>\n",
       "      <th>Precision</th>\n",
       "      <th>Recall</th>\n",
       "      <th>F1</th>\n",
       "      <th>Accuracy</th>\n",
       "    </tr>\n",
       "  </thead>\n",
       "  <tbody>\n",
       "    <tr>\n",
       "      <td>1</td>\n",
       "      <td>No log</td>\n",
       "      <td>0.749566</td>\n",
       "      <td>{'precision': 0.8097595120229222}</td>\n",
       "      <td>{'recall': 0.8048327137546468}</td>\n",
       "      <td>{'f1': 0.804566276301245}</td>\n",
       "      <td>{'accuracy': 0.8048327137546468}</td>\n",
       "    </tr>\n",
       "  </tbody>\n",
       "</table><p>"
      ],
      "text/plain": [
       "<IPython.core.display.HTML object>"
      ]
     },
     "metadata": {},
     "output_type": "display_data"
    },
    {
     "name": "stdout",
     "output_type": "stream",
     "text": [
      "+++++++++++ 0.8048327137546468\n"
     ]
    },
    {
     "name": "stderr",
     "output_type": "stream",
     "text": [
      "[I 2024-05-29 18:21:09,687] Trial 4 finished with value: 0.8048327137546468 and parameters: {'learning_rate': 8.658458686449229e-05}. Best is trial 4 with value: 0.8048327137546468.\n",
      "Detected kernel version 5.4.0, which is below the recommended minimum of 5.5.0; this can cause the process to hang. It is recommended to upgrade the kernel to the minimum version or higher.\n",
      "/tmp/ipykernel_8396/77294352.py:7: UserWarning: To copy construct from a tensor, it is recommended to use sourceTensor.clone().detach() or sourceTensor.clone().detach().requires_grad_(True), rather than torch.tensor(sourceTensor).\n",
      "  item = {key: torch.tensor(val[idx]) for key, val in self.encodings.items()}\n"
     ]
    },
    {
     "data": {
      "text/html": [
       "\n",
       "    <div>\n",
       "      \n",
       "      <progress value='79' max='79' style='width:300px; height:20px; vertical-align: middle;'></progress>\n",
       "      [79/79 00:15, Epoch 1/1]\n",
       "    </div>\n",
       "    <table border=\"1\" class=\"dataframe\">\n",
       "  <thead>\n",
       " <tr style=\"text-align: left;\">\n",
       "      <th>Epoch</th>\n",
       "      <th>Training Loss</th>\n",
       "      <th>Validation Loss</th>\n",
       "      <th>Precision</th>\n",
       "      <th>Recall</th>\n",
       "      <th>F1</th>\n",
       "      <th>Accuracy</th>\n",
       "    </tr>\n",
       "  </thead>\n",
       "  <tbody>\n",
       "    <tr>\n",
       "      <td>1</td>\n",
       "      <td>No log</td>\n",
       "      <td>1.018588</td>\n",
       "      <td>{'precision': 0.7902262829314806}</td>\n",
       "      <td>{'recall': 0.7899628252788105}</td>\n",
       "      <td>{'f1': 0.7898478144070122}</td>\n",
       "      <td>{'accuracy': 0.7899628252788105}</td>\n",
       "    </tr>\n",
       "  </tbody>\n",
       "</table><p>"
      ],
      "text/plain": [
       "<IPython.core.display.HTML object>"
      ]
     },
     "metadata": {},
     "output_type": "display_data"
    },
    {
     "name": "stdout",
     "output_type": "stream",
     "text": [
      "+++++++++++ 0.7899628252788105\n"
     ]
    },
    {
     "name": "stderr",
     "output_type": "stream",
     "text": [
      "[I 2024-05-29 18:21:25,147] Trial 5 pruned. \n",
      "Detected kernel version 5.4.0, which is below the recommended minimum of 5.5.0; this can cause the process to hang. It is recommended to upgrade the kernel to the minimum version or higher.\n",
      "/tmp/ipykernel_8396/77294352.py:7: UserWarning: To copy construct from a tensor, it is recommended to use sourceTensor.clone().detach() or sourceTensor.clone().detach().requires_grad_(True), rather than torch.tensor(sourceTensor).\n",
      "  item = {key: torch.tensor(val[idx]) for key, val in self.encodings.items()}\n"
     ]
    },
    {
     "data": {
      "text/html": [
       "\n",
       "    <div>\n",
       "      \n",
       "      <progress value='79' max='79' style='width:300px; height:20px; vertical-align: middle;'></progress>\n",
       "      [79/79 00:15, Epoch 1/1]\n",
       "    </div>\n",
       "    <table border=\"1\" class=\"dataframe\">\n",
       "  <thead>\n",
       " <tr style=\"text-align: left;\">\n",
       "      <th>Epoch</th>\n",
       "      <th>Training Loss</th>\n",
       "      <th>Validation Loss</th>\n",
       "      <th>Precision</th>\n",
       "      <th>Recall</th>\n",
       "      <th>F1</th>\n",
       "      <th>Accuracy</th>\n",
       "    </tr>\n",
       "  </thead>\n",
       "  <tbody>\n",
       "    <tr>\n",
       "      <td>1</td>\n",
       "      <td>No log</td>\n",
       "      <td>0.754701</td>\n",
       "      <td>{'precision': 0.7926390586982723}</td>\n",
       "      <td>{'recall': 0.79182156133829}</td>\n",
       "      <td>{'f1': 0.7920362717660657}</td>\n",
       "      <td>{'accuracy': 0.79182156133829}</td>\n",
       "    </tr>\n",
       "  </tbody>\n",
       "</table><p>"
      ],
      "text/plain": [
       "<IPython.core.display.HTML object>"
      ]
     },
     "metadata": {},
     "output_type": "display_data"
    },
    {
     "name": "stdout",
     "output_type": "stream",
     "text": [
      "+++++++++++ 0.79182156133829\n"
     ]
    },
    {
     "name": "stderr",
     "output_type": "stream",
     "text": [
      "[I 2024-05-29 18:21:40,670] Trial 6 pruned. \n",
      "Detected kernel version 5.4.0, which is below the recommended minimum of 5.5.0; this can cause the process to hang. It is recommended to upgrade the kernel to the minimum version or higher.\n",
      "/tmp/ipykernel_8396/77294352.py:7: UserWarning: To copy construct from a tensor, it is recommended to use sourceTensor.clone().detach() or sourceTensor.clone().detach().requires_grad_(True), rather than torch.tensor(sourceTensor).\n",
      "  item = {key: torch.tensor(val[idx]) for key, val in self.encodings.items()}\n"
     ]
    },
    {
     "data": {
      "text/html": [
       "\n",
       "    <div>\n",
       "      \n",
       "      <progress value='79' max='79' style='width:300px; height:20px; vertical-align: middle;'></progress>\n",
       "      [79/79 00:15, Epoch 1/1]\n",
       "    </div>\n",
       "    <table border=\"1\" class=\"dataframe\">\n",
       "  <thead>\n",
       " <tr style=\"text-align: left;\">\n",
       "      <th>Epoch</th>\n",
       "      <th>Training Loss</th>\n",
       "      <th>Validation Loss</th>\n",
       "      <th>Precision</th>\n",
       "      <th>Recall</th>\n",
       "      <th>F1</th>\n",
       "      <th>Accuracy</th>\n",
       "    </tr>\n",
       "  </thead>\n",
       "  <tbody>\n",
       "    <tr>\n",
       "      <td>1</td>\n",
       "      <td>No log</td>\n",
       "      <td>1.071304</td>\n",
       "      <td>{'precision': 0.7895098268594879}</td>\n",
       "      <td>{'recall': 0.7862453531598513}</td>\n",
       "      <td>{'f1': 0.7863717567238174}</td>\n",
       "      <td>{'accuracy': 0.7862453531598513}</td>\n",
       "    </tr>\n",
       "  </tbody>\n",
       "</table><p>"
      ],
      "text/plain": [
       "<IPython.core.display.HTML object>"
      ]
     },
     "metadata": {},
     "output_type": "display_data"
    },
    {
     "name": "stdout",
     "output_type": "stream",
     "text": [
      "+++++++++++ 0.7862453531598513\n"
     ]
    },
    {
     "name": "stderr",
     "output_type": "stream",
     "text": [
      "[I 2024-05-29 18:21:56,191] Trial 7 pruned. \n",
      "Detected kernel version 5.4.0, which is below the recommended minimum of 5.5.0; this can cause the process to hang. It is recommended to upgrade the kernel to the minimum version or higher.\n",
      "/tmp/ipykernel_8396/77294352.py:7: UserWarning: To copy construct from a tensor, it is recommended to use sourceTensor.clone().detach() or sourceTensor.clone().detach().requires_grad_(True), rather than torch.tensor(sourceTensor).\n",
      "  item = {key: torch.tensor(val[idx]) for key, val in self.encodings.items()}\n"
     ]
    },
    {
     "data": {
      "text/html": [
       "\n",
       "    <div>\n",
       "      \n",
       "      <progress value='79' max='79' style='width:300px; height:20px; vertical-align: middle;'></progress>\n",
       "      [79/79 00:15, Epoch 1/1]\n",
       "    </div>\n",
       "    <table border=\"1\" class=\"dataframe\">\n",
       "  <thead>\n",
       " <tr style=\"text-align: left;\">\n",
       "      <th>Epoch</th>\n",
       "      <th>Training Loss</th>\n",
       "      <th>Validation Loss</th>\n",
       "      <th>Precision</th>\n",
       "      <th>Recall</th>\n",
       "      <th>F1</th>\n",
       "      <th>Accuracy</th>\n",
       "    </tr>\n",
       "  </thead>\n",
       "  <tbody>\n",
       "    <tr>\n",
       "      <td>1</td>\n",
       "      <td>No log</td>\n",
       "      <td>0.877143</td>\n",
       "      <td>{'precision': 0.7867769420661579}</td>\n",
       "      <td>{'recall': 0.775092936802974}</td>\n",
       "      <td>{'f1': 0.775106584201115}</td>\n",
       "      <td>{'accuracy': 0.775092936802974}</td>\n",
       "    </tr>\n",
       "  </tbody>\n",
       "</table><p>"
      ],
      "text/plain": [
       "<IPython.core.display.HTML object>"
      ]
     },
     "metadata": {},
     "output_type": "display_data"
    },
    {
     "name": "stdout",
     "output_type": "stream",
     "text": [
      "+++++++++++ 0.775092936802974\n"
     ]
    },
    {
     "name": "stderr",
     "output_type": "stream",
     "text": [
      "[I 2024-05-29 18:22:11,674] Trial 8 pruned. \n",
      "Detected kernel version 5.4.0, which is below the recommended minimum of 5.5.0; this can cause the process to hang. It is recommended to upgrade the kernel to the minimum version or higher.\n",
      "/tmp/ipykernel_8396/77294352.py:7: UserWarning: To copy construct from a tensor, it is recommended to use sourceTensor.clone().detach() or sourceTensor.clone().detach().requires_grad_(True), rather than torch.tensor(sourceTensor).\n",
      "  item = {key: torch.tensor(val[idx]) for key, val in self.encodings.items()}\n"
     ]
    },
    {
     "data": {
      "text/html": [
       "\n",
       "    <div>\n",
       "      \n",
       "      <progress value='79' max='79' style='width:300px; height:20px; vertical-align: middle;'></progress>\n",
       "      [79/79 00:15, Epoch 1/1]\n",
       "    </div>\n",
       "    <table border=\"1\" class=\"dataframe\">\n",
       "  <thead>\n",
       " <tr style=\"text-align: left;\">\n",
       "      <th>Epoch</th>\n",
       "      <th>Training Loss</th>\n",
       "      <th>Validation Loss</th>\n",
       "      <th>Precision</th>\n",
       "      <th>Recall</th>\n",
       "      <th>F1</th>\n",
       "      <th>Accuracy</th>\n",
       "    </tr>\n",
       "  </thead>\n",
       "  <tbody>\n",
       "    <tr>\n",
       "      <td>1</td>\n",
       "      <td>No log</td>\n",
       "      <td>0.929308</td>\n",
       "      <td>{'precision': 0.780661092838432}</td>\n",
       "      <td>{'recall': 0.775092936802974}</td>\n",
       "      <td>{'f1': 0.7749090232666397}</td>\n",
       "      <td>{'accuracy': 0.775092936802974}</td>\n",
       "    </tr>\n",
       "  </tbody>\n",
       "</table><p>"
      ],
      "text/plain": [
       "<IPython.core.display.HTML object>"
      ]
     },
     "metadata": {},
     "output_type": "display_data"
    },
    {
     "name": "stdout",
     "output_type": "stream",
     "text": [
      "+++++++++++ 0.775092936802974\n"
     ]
    },
    {
     "name": "stderr",
     "output_type": "stream",
     "text": [
      "[I 2024-05-29 18:22:27,181] Trial 9 pruned. \n"
     ]
    }
   ],
   "source": [
    "trainer = Trainer(\n",
    "    model=model,\n",
    "    args=training_args,\n",
    "    train_dataset=train_dataset,\n",
    "    eval_dataset=test_dataset,\n",
    "    tokenizer=tokenizer,\n",
    "    model_init= model_init,\n",
    "    # data_collator=data_collator,\n",
    "    compute_metrics=compute_metrics,\n",
    "    callbacks=[EarlyStoppingCallback(early_stopping_patience=3)]\n",
    ")\n",
    "\n",
    "best_run = trainer.hyperparameter_search(direction=\"maximize\", hp_space=hp_space, compute_objective=my_compute_objective, n_trials=10)"
   ]
  },
  {
   "cell_type": "code",
   "execution_count": 18,
   "id": "ae735a8b-c672-4dce-822c-61330c34481b",
   "metadata": {
    "execution": {
     "iopub.execute_input": "2024-05-29T10:22:27.185307Z",
     "iopub.status.busy": "2024-05-29T10:22:27.185089Z",
     "iopub.status.idle": "2024-05-29T10:22:27.193294Z",
     "shell.execute_reply": "2024-05-29T10:22:27.192188Z",
     "shell.execute_reply.started": "2024-05-29T10:22:27.185285Z"
    },
    "id": "ae735a8b-c672-4dce-822c-61330c34481b"
   },
   "outputs": [
    {
     "data": {
      "text/plain": [
       "BestRun(run_id='4', objective=0.8048327137546468, hyperparameters={'learning_rate': 8.658458686449229e-05}, run_summary=None)"
      ]
     },
     "execution_count": 18,
     "metadata": {},
     "output_type": "execute_result"
    }
   ],
   "source": [
    "best_run"
   ]
  },
  {
   "cell_type": "code",
   "execution_count": null,
   "id": "166dcf9b-a0bd-4b60-854c-c6535c22a111",
   "metadata": {
    "id": "166dcf9b-a0bd-4b60-854c-c6535c22a111"
   },
   "outputs": [],
   "source": []
  },
  {
   "cell_type": "code",
   "execution_count": null,
   "id": "af21aba7-66cd-4762-b5d4-6d27650bba7e",
   "metadata": {
    "id": "af21aba7-66cd-4762-b5d4-6d27650bba7e"
   },
   "outputs": [],
   "source": []
  },
  {
   "cell_type": "code",
   "execution_count": null,
   "id": "6a6e2008-2b04-43c7-9c72-3f9fa9b6bafe",
   "metadata": {
    "id": "6a6e2008-2b04-43c7-9c72-3f9fa9b6bafe"
   },
   "outputs": [],
   "source": []
  },
  {
   "cell_type": "code",
   "execution_count": null,
   "id": "99ef5d5b-1f8e-4b10-aa74-963f9c4429d9",
   "metadata": {
    "id": "99ef5d5b-1f8e-4b10-aa74-963f9c4429d9"
   },
   "outputs": [],
   "source": []
  }
 ],
 "metadata": {
  "accelerator": "GPU",
  "colab": {
   "gpuType": "T4",
   "provenance": []
  },
  "kernelspec": {
   "display_name": "Python 3 (ipykernel)",
   "language": "python",
   "name": "python3"
  },
  "language_info": {
   "codemirror_mode": {
    "name": "ipython",
    "version": 3
   },
   "file_extension": ".py",
   "mimetype": "text/x-python",
   "name": "python",
   "nbconvert_exporter": "python",
   "pygments_lexer": "ipython3",
   "version": "3.11.8"
  },
  "widgets": {
   "application/vnd.jupyter.widget-state+json": {
    "065c1f5d8af348f8bf0834885f43f22a": {
     "model_module": "@jupyter-widgets/base",
     "model_module_version": "1.2.0",
     "model_name": "LayoutModel",
     "state": {
      "_model_module": "@jupyter-widgets/base",
      "_model_module_version": "1.2.0",
      "_model_name": "LayoutModel",
      "_view_count": null,
      "_view_module": "@jupyter-widgets/base",
      "_view_module_version": "1.2.0",
      "_view_name": "LayoutView",
      "align_content": null,
      "align_items": null,
      "align_self": null,
      "border": null,
      "bottom": null,
      "display": null,
      "flex": null,
      "flex_flow": null,
      "grid_area": null,
      "grid_auto_columns": null,
      "grid_auto_flow": null,
      "grid_auto_rows": null,
      "grid_column": null,
      "grid_gap": null,
      "grid_row": null,
      "grid_template_areas": null,
      "grid_template_columns": null,
      "grid_template_rows": null,
      "height": null,
      "justify_content": null,
      "justify_items": null,
      "left": null,
      "margin": null,
      "max_height": null,
      "max_width": null,
      "min_height": null,
      "min_width": null,
      "object_fit": null,
      "object_position": null,
      "order": null,
      "overflow": null,
      "overflow_x": null,
      "overflow_y": null,
      "padding": null,
      "right": null,
      "top": null,
      "visibility": null,
      "width": null
     }
    },
    "068a93d676bc488ca22cfb759bcdccec": {
     "model_module": "@jupyter-widgets/base",
     "model_module_version": "1.2.0",
     "model_name": "LayoutModel",
     "state": {
      "_model_module": "@jupyter-widgets/base",
      "_model_module_version": "1.2.0",
      "_model_name": "LayoutModel",
      "_view_count": null,
      "_view_module": "@jupyter-widgets/base",
      "_view_module_version": "1.2.0",
      "_view_name": "LayoutView",
      "align_content": null,
      "align_items": null,
      "align_self": null,
      "border": null,
      "bottom": null,
      "display": null,
      "flex": null,
      "flex_flow": null,
      "grid_area": null,
      "grid_auto_columns": null,
      "grid_auto_flow": null,
      "grid_auto_rows": null,
      "grid_column": null,
      "grid_gap": null,
      "grid_row": null,
      "grid_template_areas": null,
      "grid_template_columns": null,
      "grid_template_rows": null,
      "height": null,
      "justify_content": null,
      "justify_items": null,
      "left": null,
      "margin": null,
      "max_height": null,
      "max_width": null,
      "min_height": null,
      "min_width": null,
      "object_fit": null,
      "object_position": null,
      "order": null,
      "overflow": null,
      "overflow_x": null,
      "overflow_y": null,
      "padding": null,
      "right": null,
      "top": null,
      "visibility": null,
      "width": null
     }
    },
    "11753a53b7f6431797cb125e71cd84cf": {
     "model_module": "@jupyter-widgets/controls",
     "model_module_version": "1.5.0",
     "model_name": "LabelModel",
     "state": {
      "_dom_classes": [],
      "_model_module": "@jupyter-widgets/controls",
      "_model_module_version": "1.5.0",
      "_model_name": "LabelModel",
      "_view_count": null,
      "_view_module": "@jupyter-widgets/controls",
      "_view_module_version": "1.5.0",
      "_view_name": "LabelView",
      "description": "",
      "description_tooltip": null,
      "layout": "IPY_MODEL_3733d841af9849048237a430f3c5b275",
      "placeholder": "​",
      "style": "IPY_MODEL_a330f14ea8284c1ca3a494b6446a0102",
      "value": "Login successful"
     }
    },
    "15625908afb94f30b075a65e2a533a7a": {
     "model_module": "@jupyter-widgets/controls",
     "model_module_version": "1.5.0",
     "model_name": "LabelModel",
     "state": {
      "_dom_classes": [],
      "_model_module": "@jupyter-widgets/controls",
      "_model_module_version": "1.5.0",
      "_model_name": "LabelModel",
      "_view_count": null,
      "_view_module": "@jupyter-widgets/controls",
      "_view_module_version": "1.5.0",
      "_view_name": "LabelView",
      "description": "",
      "description_tooltip": null,
      "layout": "IPY_MODEL_60b762ba9b554b88a371c2fe7e4886dd",
      "placeholder": "​",
      "style": "IPY_MODEL_7207f3431fac498889c2feb8f4d2020a",
      "value": "Token is valid (permission: read)."
     }
    },
    "16efd97b39b445b78807b15541aa1760": {
     "model_module": "@jupyter-widgets/controls",
     "model_module_version": "1.5.0",
     "model_name": "DescriptionStyleModel",
     "state": {
      "_model_module": "@jupyter-widgets/controls",
      "_model_module_version": "1.5.0",
      "_model_name": "DescriptionStyleModel",
      "_view_count": null,
      "_view_module": "@jupyter-widgets/base",
      "_view_module_version": "1.2.0",
      "_view_name": "StyleView",
      "description_width": ""
     }
    },
    "288b3bb62bc84ac7827f531b4d0c4ea4": {
     "model_module": "@jupyter-widgets/controls",
     "model_module_version": "1.5.0",
     "model_name": "HTMLModel",
     "state": {
      "_dom_classes": [],
      "_model_module": "@jupyter-widgets/controls",
      "_model_module_version": "1.5.0",
      "_model_name": "HTMLModel",
      "_view_count": null,
      "_view_module": "@jupyter-widgets/controls",
      "_view_module_version": "1.5.0",
      "_view_name": "HTMLView",
      "description": "",
      "description_tooltip": null,
      "layout": "IPY_MODEL_44683887bbac421b897a9601543148fd",
      "placeholder": "​",
      "style": "IPY_MODEL_bc7cd4b0fd7f4082a0bc9b6e16b2dcfc",
      "value": "\n<b>Pro Tip:</b> If you don't already have one, you can create a dedicated\n'notebooks' token with 'write' access, that you can then easily reuse for all\nnotebooks. </center>"
     }
    },
    "30835047da5e4349b37c9349ed88bb1a": {
     "model_module": "@jupyter-widgets/controls",
     "model_module_version": "1.5.0",
     "model_name": "DescriptionStyleModel",
     "state": {
      "_model_module": "@jupyter-widgets/controls",
      "_model_module_version": "1.5.0",
      "_model_name": "DescriptionStyleModel",
      "_view_count": null,
      "_view_module": "@jupyter-widgets/base",
      "_view_module_version": "1.2.0",
      "_view_name": "StyleView",
      "description_width": ""
     }
    },
    "34c4b73dacde4b2c93909fdba16c647f": {
     "model_module": "@jupyter-widgets/controls",
     "model_module_version": "1.5.0",
     "model_name": "DescriptionStyleModel",
     "state": {
      "_model_module": "@jupyter-widgets/controls",
      "_model_module_version": "1.5.0",
      "_model_name": "DescriptionStyleModel",
      "_view_count": null,
      "_view_module": "@jupyter-widgets/base",
      "_view_module_version": "1.2.0",
      "_view_name": "StyleView",
      "description_width": ""
     }
    },
    "3733d841af9849048237a430f3c5b275": {
     "model_module": "@jupyter-widgets/base",
     "model_module_version": "1.2.0",
     "model_name": "LayoutModel",
     "state": {
      "_model_module": "@jupyter-widgets/base",
      "_model_module_version": "1.2.0",
      "_model_name": "LayoutModel",
      "_view_count": null,
      "_view_module": "@jupyter-widgets/base",
      "_view_module_version": "1.2.0",
      "_view_name": "LayoutView",
      "align_content": null,
      "align_items": null,
      "align_self": null,
      "border": null,
      "bottom": null,
      "display": null,
      "flex": null,
      "flex_flow": null,
      "grid_area": null,
      "grid_auto_columns": null,
      "grid_auto_flow": null,
      "grid_auto_rows": null,
      "grid_column": null,
      "grid_gap": null,
      "grid_row": null,
      "grid_template_areas": null,
      "grid_template_columns": null,
      "grid_template_rows": null,
      "height": null,
      "justify_content": null,
      "justify_items": null,
      "left": null,
      "margin": null,
      "max_height": null,
      "max_width": null,
      "min_height": null,
      "min_width": null,
      "object_fit": null,
      "object_position": null,
      "order": null,
      "overflow": null,
      "overflow_x": null,
      "overflow_y": null,
      "padding": null,
      "right": null,
      "top": null,
      "visibility": null,
      "width": null
     }
    },
    "3c7e076b745844eba134b44248a5d988": {
     "model_module": "@jupyter-widgets/base",
     "model_module_version": "1.2.0",
     "model_name": "LayoutModel",
     "state": {
      "_model_module": "@jupyter-widgets/base",
      "_model_module_version": "1.2.0",
      "_model_name": "LayoutModel",
      "_view_count": null,
      "_view_module": "@jupyter-widgets/base",
      "_view_module_version": "1.2.0",
      "_view_name": "LayoutView",
      "align_content": null,
      "align_items": null,
      "align_self": null,
      "border": null,
      "bottom": null,
      "display": null,
      "flex": null,
      "flex_flow": null,
      "grid_area": null,
      "grid_auto_columns": null,
      "grid_auto_flow": null,
      "grid_auto_rows": null,
      "grid_column": null,
      "grid_gap": null,
      "grid_row": null,
      "grid_template_areas": null,
      "grid_template_columns": null,
      "grid_template_rows": null,
      "height": null,
      "justify_content": null,
      "justify_items": null,
      "left": null,
      "margin": null,
      "max_height": null,
      "max_width": null,
      "min_height": null,
      "min_width": null,
      "object_fit": null,
      "object_position": null,
      "order": null,
      "overflow": null,
      "overflow_x": null,
      "overflow_y": null,
      "padding": null,
      "right": null,
      "top": null,
      "visibility": null,
      "width": null
     }
    },
    "40e84ea5ef43455e87f49715f583b489": {
     "model_module": "@jupyter-widgets/controls",
     "model_module_version": "1.5.0",
     "model_name": "DescriptionStyleModel",
     "state": {
      "_model_module": "@jupyter-widgets/controls",
      "_model_module_version": "1.5.0",
      "_model_name": "DescriptionStyleModel",
      "_view_count": null,
      "_view_module": "@jupyter-widgets/base",
      "_view_module_version": "1.2.0",
      "_view_name": "StyleView",
      "description_width": ""
     }
    },
    "44683887bbac421b897a9601543148fd": {
     "model_module": "@jupyter-widgets/base",
     "model_module_version": "1.2.0",
     "model_name": "LayoutModel",
     "state": {
      "_model_module": "@jupyter-widgets/base",
      "_model_module_version": "1.2.0",
      "_model_name": "LayoutModel",
      "_view_count": null,
      "_view_module": "@jupyter-widgets/base",
      "_view_module_version": "1.2.0",
      "_view_name": "LayoutView",
      "align_content": null,
      "align_items": null,
      "align_self": null,
      "border": null,
      "bottom": null,
      "display": null,
      "flex": null,
      "flex_flow": null,
      "grid_area": null,
      "grid_auto_columns": null,
      "grid_auto_flow": null,
      "grid_auto_rows": null,
      "grid_column": null,
      "grid_gap": null,
      "grid_row": null,
      "grid_template_areas": null,
      "grid_template_columns": null,
      "grid_template_rows": null,
      "height": null,
      "justify_content": null,
      "justify_items": null,
      "left": null,
      "margin": null,
      "max_height": null,
      "max_width": null,
      "min_height": null,
      "min_width": null,
      "object_fit": null,
      "object_position": null,
      "order": null,
      "overflow": null,
      "overflow_x": null,
      "overflow_y": null,
      "padding": null,
      "right": null,
      "top": null,
      "visibility": null,
      "width": null
     }
    },
    "4f2120dd5d5d4b2aa38c277be0210373": {
     "model_module": "@jupyter-widgets/controls",
     "model_module_version": "1.5.0",
     "model_name": "PasswordModel",
     "state": {
      "_dom_classes": [],
      "_model_module": "@jupyter-widgets/controls",
      "_model_module_version": "1.5.0",
      "_model_name": "PasswordModel",
      "_view_count": null,
      "_view_module": "@jupyter-widgets/controls",
      "_view_module_version": "1.5.0",
      "_view_name": "PasswordView",
      "continuous_update": true,
      "description": "Token:",
      "description_tooltip": null,
      "disabled": false,
      "layout": "IPY_MODEL_068a93d676bc488ca22cfb759bcdccec",
      "placeholder": "​",
      "style": "IPY_MODEL_16efd97b39b445b78807b15541aa1760",
      "value": ""
     }
    },
    "5c220d2177bb42119363bfbcb6d8e5f3": {
     "model_module": "@jupyter-widgets/controls",
     "model_module_version": "1.5.0",
     "model_name": "DescriptionStyleModel",
     "state": {
      "_model_module": "@jupyter-widgets/controls",
      "_model_module_version": "1.5.0",
      "_model_name": "DescriptionStyleModel",
      "_view_count": null,
      "_view_module": "@jupyter-widgets/base",
      "_view_module_version": "1.2.0",
      "_view_name": "StyleView",
      "description_width": ""
     }
    },
    "5cd816f870e6450887714d22485fda69": {
     "model_module": "@jupyter-widgets/controls",
     "model_module_version": "1.5.0",
     "model_name": "LabelModel",
     "state": {
      "_dom_classes": [],
      "_model_module": "@jupyter-widgets/controls",
      "_model_module_version": "1.5.0",
      "_model_name": "LabelModel",
      "_view_count": null,
      "_view_module": "@jupyter-widgets/controls",
      "_view_module_version": "1.5.0",
      "_view_name": "LabelView",
      "description": "",
      "description_tooltip": null,
      "layout": "IPY_MODEL_8f1d8e6ff9744cb894535ccf092eb916",
      "placeholder": "​",
      "style": "IPY_MODEL_ded73bd706ef49ac86d965949e9b94ee",
      "value": "Your token has been saved in your configured git credential helpers (store)."
     }
    },
    "60b762ba9b554b88a371c2fe7e4886dd": {
     "model_module": "@jupyter-widgets/base",
     "model_module_version": "1.2.0",
     "model_name": "LayoutModel",
     "state": {
      "_model_module": "@jupyter-widgets/base",
      "_model_module_version": "1.2.0",
      "_model_name": "LayoutModel",
      "_view_count": null,
      "_view_module": "@jupyter-widgets/base",
      "_view_module_version": "1.2.0",
      "_view_name": "LayoutView",
      "align_content": null,
      "align_items": null,
      "align_self": null,
      "border": null,
      "bottom": null,
      "display": null,
      "flex": null,
      "flex_flow": null,
      "grid_area": null,
      "grid_auto_columns": null,
      "grid_auto_flow": null,
      "grid_auto_rows": null,
      "grid_column": null,
      "grid_gap": null,
      "grid_row": null,
      "grid_template_areas": null,
      "grid_template_columns": null,
      "grid_template_rows": null,
      "height": null,
      "justify_content": null,
      "justify_items": null,
      "left": null,
      "margin": null,
      "max_height": null,
      "max_width": null,
      "min_height": null,
      "min_width": null,
      "object_fit": null,
      "object_position": null,
      "order": null,
      "overflow": null,
      "overflow_x": null,
      "overflow_y": null,
      "padding": null,
      "right": null,
      "top": null,
      "visibility": null,
      "width": null
     }
    },
    "6d8c408e0cf5451797e6ea41e888083d": {
     "model_module": "@jupyter-widgets/base",
     "model_module_version": "1.2.0",
     "model_name": "LayoutModel",
     "state": {
      "_model_module": "@jupyter-widgets/base",
      "_model_module_version": "1.2.0",
      "_model_name": "LayoutModel",
      "_view_count": null,
      "_view_module": "@jupyter-widgets/base",
      "_view_module_version": "1.2.0",
      "_view_name": "LayoutView",
      "align_content": null,
      "align_items": null,
      "align_self": null,
      "border": null,
      "bottom": null,
      "display": null,
      "flex": null,
      "flex_flow": null,
      "grid_area": null,
      "grid_auto_columns": null,
      "grid_auto_flow": null,
      "grid_auto_rows": null,
      "grid_column": null,
      "grid_gap": null,
      "grid_row": null,
      "grid_template_areas": null,
      "grid_template_columns": null,
      "grid_template_rows": null,
      "height": null,
      "justify_content": null,
      "justify_items": null,
      "left": null,
      "margin": null,
      "max_height": null,
      "max_width": null,
      "min_height": null,
      "min_width": null,
      "object_fit": null,
      "object_position": null,
      "order": null,
      "overflow": null,
      "overflow_x": null,
      "overflow_y": null,
      "padding": null,
      "right": null,
      "top": null,
      "visibility": null,
      "width": null
     }
    },
    "7207f3431fac498889c2feb8f4d2020a": {
     "model_module": "@jupyter-widgets/controls",
     "model_module_version": "1.5.0",
     "model_name": "DescriptionStyleModel",
     "state": {
      "_model_module": "@jupyter-widgets/controls",
      "_model_module_version": "1.5.0",
      "_model_name": "DescriptionStyleModel",
      "_view_count": null,
      "_view_module": "@jupyter-widgets/base",
      "_view_module_version": "1.2.0",
      "_view_name": "StyleView",
      "description_width": ""
     }
    },
    "73529a8b1ced4165b838716239ec1602": {
     "model_module": "@jupyter-widgets/controls",
     "model_module_version": "1.5.0",
     "model_name": "LabelModel",
     "state": {
      "_dom_classes": [],
      "_model_module": "@jupyter-widgets/controls",
      "_model_module_version": "1.5.0",
      "_model_name": "LabelModel",
      "_view_count": null,
      "_view_module": "@jupyter-widgets/controls",
      "_view_module_version": "1.5.0",
      "_view_name": "LabelView",
      "description": "",
      "description_tooltip": null,
      "layout": "IPY_MODEL_be6f110c46504d2bbc746e809b7a9472",
      "placeholder": "​",
      "style": "IPY_MODEL_34c4b73dacde4b2c93909fdba16c647f",
      "value": "Your token has been saved to /root/.cache/huggingface/token"
     }
    },
    "76f1fe0ccf244e9bb293fc5da3b0d06c": {
     "model_module": "@jupyter-widgets/controls",
     "model_module_version": "1.5.0",
     "model_name": "VBoxModel",
     "state": {
      "_dom_classes": [],
      "_model_module": "@jupyter-widgets/controls",
      "_model_module_version": "1.5.0",
      "_model_name": "VBoxModel",
      "_view_count": null,
      "_view_module": "@jupyter-widgets/controls",
      "_view_module_version": "1.5.0",
      "_view_name": "VBoxView",
      "box_style": "",
      "children": [
       "IPY_MODEL_15625908afb94f30b075a65e2a533a7a",
       "IPY_MODEL_5cd816f870e6450887714d22485fda69",
       "IPY_MODEL_73529a8b1ced4165b838716239ec1602",
       "IPY_MODEL_11753a53b7f6431797cb125e71cd84cf"
      ],
      "layout": "IPY_MODEL_c88985b2b2fb4ad2a8610f1d96a392bb"
     }
    },
    "8b1245c4dfa0431e81efbab4b38eca46": {
     "model_module": "@jupyter-widgets/base",
     "model_module_version": "1.2.0",
     "model_name": "LayoutModel",
     "state": {
      "_model_module": "@jupyter-widgets/base",
      "_model_module_version": "1.2.0",
      "_model_name": "LayoutModel",
      "_view_count": null,
      "_view_module": "@jupyter-widgets/base",
      "_view_module_version": "1.2.0",
      "_view_name": "LayoutView",
      "align_content": null,
      "align_items": null,
      "align_self": null,
      "border": null,
      "bottom": null,
      "display": null,
      "flex": null,
      "flex_flow": null,
      "grid_area": null,
      "grid_auto_columns": null,
      "grid_auto_flow": null,
      "grid_auto_rows": null,
      "grid_column": null,
      "grid_gap": null,
      "grid_row": null,
      "grid_template_areas": null,
      "grid_template_columns": null,
      "grid_template_rows": null,
      "height": null,
      "justify_content": null,
      "justify_items": null,
      "left": null,
      "margin": null,
      "max_height": null,
      "max_width": null,
      "min_height": null,
      "min_width": null,
      "object_fit": null,
      "object_position": null,
      "order": null,
      "overflow": null,
      "overflow_x": null,
      "overflow_y": null,
      "padding": null,
      "right": null,
      "top": null,
      "visibility": null,
      "width": null
     }
    },
    "8f1d8e6ff9744cb894535ccf092eb916": {
     "model_module": "@jupyter-widgets/base",
     "model_module_version": "1.2.0",
     "model_name": "LayoutModel",
     "state": {
      "_model_module": "@jupyter-widgets/base",
      "_model_module_version": "1.2.0",
      "_model_name": "LayoutModel",
      "_view_count": null,
      "_view_module": "@jupyter-widgets/base",
      "_view_module_version": "1.2.0",
      "_view_name": "LayoutView",
      "align_content": null,
      "align_items": null,
      "align_self": null,
      "border": null,
      "bottom": null,
      "display": null,
      "flex": null,
      "flex_flow": null,
      "grid_area": null,
      "grid_auto_columns": null,
      "grid_auto_flow": null,
      "grid_auto_rows": null,
      "grid_column": null,
      "grid_gap": null,
      "grid_row": null,
      "grid_template_areas": null,
      "grid_template_columns": null,
      "grid_template_rows": null,
      "height": null,
      "justify_content": null,
      "justify_items": null,
      "left": null,
      "margin": null,
      "max_height": null,
      "max_width": null,
      "min_height": null,
      "min_width": null,
      "object_fit": null,
      "object_position": null,
      "order": null,
      "overflow": null,
      "overflow_x": null,
      "overflow_y": null,
      "padding": null,
      "right": null,
      "top": null,
      "visibility": null,
      "width": null
     }
    },
    "a330f14ea8284c1ca3a494b6446a0102": {
     "model_module": "@jupyter-widgets/controls",
     "model_module_version": "1.5.0",
     "model_name": "DescriptionStyleModel",
     "state": {
      "_model_module": "@jupyter-widgets/controls",
      "_model_module_version": "1.5.0",
      "_model_name": "DescriptionStyleModel",
      "_view_count": null,
      "_view_module": "@jupyter-widgets/base",
      "_view_module_version": "1.2.0",
      "_view_name": "StyleView",
      "description_width": ""
     }
    },
    "bb22365fe94748e39cdbb5e832b4d1a2": {
     "model_module": "@jupyter-widgets/controls",
     "model_module_version": "1.5.0",
     "model_name": "ButtonModel",
     "state": {
      "_dom_classes": [],
      "_model_module": "@jupyter-widgets/controls",
      "_model_module_version": "1.5.0",
      "_model_name": "ButtonModel",
      "_view_count": null,
      "_view_module": "@jupyter-widgets/controls",
      "_view_module_version": "1.5.0",
      "_view_name": "ButtonView",
      "button_style": "",
      "description": "Login",
      "disabled": false,
      "icon": "",
      "layout": "IPY_MODEL_6d8c408e0cf5451797e6ea41e888083d",
      "style": "IPY_MODEL_f19c28d325714b8da0b95954bbcb71df",
      "tooltip": ""
     }
    },
    "bc7cd4b0fd7f4082a0bc9b6e16b2dcfc": {
     "model_module": "@jupyter-widgets/controls",
     "model_module_version": "1.5.0",
     "model_name": "DescriptionStyleModel",
     "state": {
      "_model_module": "@jupyter-widgets/controls",
      "_model_module_version": "1.5.0",
      "_model_name": "DescriptionStyleModel",
      "_view_count": null,
      "_view_module": "@jupyter-widgets/base",
      "_view_module_version": "1.2.0",
      "_view_name": "StyleView",
      "description_width": ""
     }
    },
    "be6f110c46504d2bbc746e809b7a9472": {
     "model_module": "@jupyter-widgets/base",
     "model_module_version": "1.2.0",
     "model_name": "LayoutModel",
     "state": {
      "_model_module": "@jupyter-widgets/base",
      "_model_module_version": "1.2.0",
      "_model_name": "LayoutModel",
      "_view_count": null,
      "_view_module": "@jupyter-widgets/base",
      "_view_module_version": "1.2.0",
      "_view_name": "LayoutView",
      "align_content": null,
      "align_items": null,
      "align_self": null,
      "border": null,
      "bottom": null,
      "display": null,
      "flex": null,
      "flex_flow": null,
      "grid_area": null,
      "grid_auto_columns": null,
      "grid_auto_flow": null,
      "grid_auto_rows": null,
      "grid_column": null,
      "grid_gap": null,
      "grid_row": null,
      "grid_template_areas": null,
      "grid_template_columns": null,
      "grid_template_rows": null,
      "height": null,
      "justify_content": null,
      "justify_items": null,
      "left": null,
      "margin": null,
      "max_height": null,
      "max_width": null,
      "min_height": null,
      "min_width": null,
      "object_fit": null,
      "object_position": null,
      "order": null,
      "overflow": null,
      "overflow_x": null,
      "overflow_y": null,
      "padding": null,
      "right": null,
      "top": null,
      "visibility": null,
      "width": null
     }
    },
    "c88985b2b2fb4ad2a8610f1d96a392bb": {
     "model_module": "@jupyter-widgets/base",
     "model_module_version": "1.2.0",
     "model_name": "LayoutModel",
     "state": {
      "_model_module": "@jupyter-widgets/base",
      "_model_module_version": "1.2.0",
      "_model_name": "LayoutModel",
      "_view_count": null,
      "_view_module": "@jupyter-widgets/base",
      "_view_module_version": "1.2.0",
      "_view_name": "LayoutView",
      "align_content": null,
      "align_items": "center",
      "align_self": null,
      "border": null,
      "bottom": null,
      "display": "flex",
      "flex": null,
      "flex_flow": "column",
      "grid_area": null,
      "grid_auto_columns": null,
      "grid_auto_flow": null,
      "grid_auto_rows": null,
      "grid_column": null,
      "grid_gap": null,
      "grid_row": null,
      "grid_template_areas": null,
      "grid_template_columns": null,
      "grid_template_rows": null,
      "height": null,
      "justify_content": null,
      "justify_items": null,
      "left": null,
      "margin": null,
      "max_height": null,
      "max_width": null,
      "min_height": null,
      "min_width": null,
      "object_fit": null,
      "object_position": null,
      "order": null,
      "overflow": null,
      "overflow_x": null,
      "overflow_y": null,
      "padding": null,
      "right": null,
      "top": null,
      "visibility": null,
      "width": "50%"
     }
    },
    "c998fe8973c54ec7a5015406f95fb97e": {
     "model_module": "@jupyter-widgets/controls",
     "model_module_version": "1.5.0",
     "model_name": "HTMLModel",
     "state": {
      "_dom_classes": [],
      "_model_module": "@jupyter-widgets/controls",
      "_model_module_version": "1.5.0",
      "_model_name": "HTMLModel",
      "_view_count": null,
      "_view_module": "@jupyter-widgets/controls",
      "_view_module_version": "1.5.0",
      "_view_name": "HTMLView",
      "description": "",
      "description_tooltip": null,
      "layout": "IPY_MODEL_3c7e076b745844eba134b44248a5d988",
      "placeholder": "​",
      "style": "IPY_MODEL_40e84ea5ef43455e87f49715f583b489",
      "value": "<center> <img\nsrc=https://huggingface.co/front/assets/huggingface_logo-noborder.svg\nalt='Hugging Face'> <br> Copy a token from <a\nhref=\"https://huggingface.co/settings/tokens\" target=\"_blank\">your Hugging Face\ntokens page</a> and paste it below. <br> Immediately click login after copying\nyour token or it might be stored in plain text in this notebook file. </center>"
     }
    },
    "d42a6fc8a19c42b5adf9f9dc33a948b7": {
     "model_module": "@jupyter-widgets/controls",
     "model_module_version": "1.5.0",
     "model_name": "CheckboxModel",
     "state": {
      "_dom_classes": [],
      "_model_module": "@jupyter-widgets/controls",
      "_model_module_version": "1.5.0",
      "_model_name": "CheckboxModel",
      "_view_count": null,
      "_view_module": "@jupyter-widgets/controls",
      "_view_module_version": "1.5.0",
      "_view_name": "CheckboxView",
      "description": "Add token as git credential?",
      "description_tooltip": null,
      "disabled": false,
      "indent": true,
      "layout": "IPY_MODEL_8b1245c4dfa0431e81efbab4b38eca46",
      "style": "IPY_MODEL_30835047da5e4349b37c9349ed88bb1a",
      "value": true
     }
    },
    "ded73bd706ef49ac86d965949e9b94ee": {
     "model_module": "@jupyter-widgets/controls",
     "model_module_version": "1.5.0",
     "model_name": "DescriptionStyleModel",
     "state": {
      "_model_module": "@jupyter-widgets/controls",
      "_model_module_version": "1.5.0",
      "_model_name": "DescriptionStyleModel",
      "_view_count": null,
      "_view_module": "@jupyter-widgets/base",
      "_view_module_version": "1.2.0",
      "_view_name": "StyleView",
      "description_width": ""
     }
    },
    "f19c28d325714b8da0b95954bbcb71df": {
     "model_module": "@jupyter-widgets/controls",
     "model_module_version": "1.5.0",
     "model_name": "ButtonStyleModel",
     "state": {
      "_model_module": "@jupyter-widgets/controls",
      "_model_module_version": "1.5.0",
      "_model_name": "ButtonStyleModel",
      "_view_count": null,
      "_view_module": "@jupyter-widgets/base",
      "_view_module_version": "1.2.0",
      "_view_name": "StyleView",
      "button_color": null,
      "font_weight": ""
     }
    },
    "fa10f1fd54e44a2885155d2f5db26c1d": {
     "model_module": "@jupyter-widgets/controls",
     "model_module_version": "1.5.0",
     "model_name": "LabelModel",
     "state": {
      "_dom_classes": [],
      "_model_module": "@jupyter-widgets/controls",
      "_model_module_version": "1.5.0",
      "_model_name": "LabelModel",
      "_view_count": null,
      "_view_module": "@jupyter-widgets/controls",
      "_view_module_version": "1.5.0",
      "_view_name": "LabelView",
      "description": "",
      "description_tooltip": null,
      "layout": "IPY_MODEL_065c1f5d8af348f8bf0834885f43f22a",
      "placeholder": "​",
      "style": "IPY_MODEL_5c220d2177bb42119363bfbcb6d8e5f3",
      "value": "Connecting..."
     }
    }
   }
  }
 },
 "nbformat": 4,
 "nbformat_minor": 5
}
