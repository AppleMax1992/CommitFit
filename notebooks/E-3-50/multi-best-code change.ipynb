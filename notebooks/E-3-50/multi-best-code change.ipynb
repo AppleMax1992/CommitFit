{
 "cells": [
  {
   "cell_type": "code",
   "execution_count": 1,
   "id": "77d93e6a-106b-4abd-87e7-1243d4c51126",
   "metadata": {
    "execution": {
     "iopub.execute_input": "2025-08-24T11:59:41.218260Z",
     "iopub.status.busy": "2025-08-24T11:59:41.217568Z",
     "iopub.status.idle": "2025-08-24T11:59:44.258380Z",
     "shell.execute_reply": "2025-08-24T11:59:44.257618Z",
     "shell.execute_reply.started": "2025-08-24T11:59:41.218210Z"
    }
   },
   "outputs": [
    {
     "name": "stdout",
     "output_type": "stream",
     "text": [
      "\n",
      "root\n",
      "autodl-tmp\n",
      "CommitFit\n"
     ]
    }
   ],
   "source": [
    "# !pip install transformers accelerate\n",
    "# from transformers import AutoTokenizer, AutoModel, EarlyStoppingCallback, AutoModelForSequenceClassification, AutoConfig,Trainer, TrainingArguments,DataCollatorWithPadding\n",
    "import torch\n",
    "import numpy as np\n",
    "import pandas as pd\n",
    "# !pip install datasets\n",
    "from datasets import Dataset\n",
    "# %pip install evaluate\n",
    "import evaluate\n",
    "from sklearn.model_selection import train_test_split\n",
    "# from ipywidgets import FloatProgress\n",
    "import csv\n",
    "from optuna import Trial\n",
    "from typing import Dict, Union, Any\n",
    "import os\n",
    "import sys\n",
    "\n",
    "# notebook_login()\n",
    "\n",
    "csv.field_size_limit(500 * 1024 * 1024)\n",
    "CUDA_LAUNCH_BLOCKING=1\n",
    "# get pwd\n",
    "notebook_path = os.path.abspath('')\n",
    "\n",
    "# Find the part of the path that contains 'commitFit'\n",
    "commit_fit_path = None\n",
    "for part in notebook_path.split(os.sep):\n",
    "    print(part)\n",
    "    if 'CommitFit' in part:\n",
    "        commit_fit_path = notebook_path.split(part)[0] + part\n",
    "        break\n",
    "\n",
    "if commit_fit_path is None:\n",
    "    raise ValueError(\"Path containing 'commitFit' not found in notebook path.\")\n",
    "\n",
    "# Add commitFit directory to Python path, so we can import moudule from commitfit folder directly\n",
    "if commit_fit_path not in sys.path:\n",
    "    sys.path.append(commit_fit_path)\n",
    "\n",
    "from commitfit import CommitFitModel, CommitFitTrainer \n",
    "from commitfit import get_templated_dataset,sample_dataset"
   ]
  },
  {
   "cell_type": "code",
   "execution_count": 2,
   "id": "9ef5359f-9526-4d19-a2da-7988dc1ea04f",
   "metadata": {
    "execution": {
     "iopub.execute_input": "2025-08-24T11:59:44.260170Z",
     "iopub.status.busy": "2025-08-24T11:59:44.259847Z",
     "iopub.status.idle": "2025-08-24T11:59:44.581035Z",
     "shell.execute_reply": "2025-08-24T11:59:44.580150Z",
     "shell.execute_reply.started": "2025-08-24T11:59:44.260147Z"
    }
   },
   "outputs": [
    {
     "name": "stderr",
     "output_type": "stream",
     "text": [
      "/tmp/ipykernel_1762/1085588998.py:5: FutureWarning: Downcasting behavior in `replace` is deprecated and will be removed in a future version. To retain the old behavior, explicitly call `result.infer_objects(copy=False)`. To opt-in to the future behavior, set `pd.set_option('future.no_silent_downcasting', True)`\n",
      "  df = df.replace({\"label\": label2id})\n"
     ]
    },
    {
     "data": {
      "text/html": [
       "<div>\n",
       "<style scoped>\n",
       "    .dataframe tbody tr th:only-of-type {\n",
       "        vertical-align: middle;\n",
       "    }\n",
       "\n",
       "    .dataframe tbody tr th {\n",
       "        vertical-align: top;\n",
       "    }\n",
       "\n",
       "    .dataframe thead th {\n",
       "        text-align: right;\n",
       "    }\n",
       "</style>\n",
       "<table border=\"1\" class=\"dataframe\">\n",
       "  <thead>\n",
       "    <tr style=\"text-align: right;\">\n",
       "      <th></th>\n",
       "      <th>label</th>\n",
       "      <th>diffs</th>\n",
       "      <th>text</th>\n",
       "      <th>CODE_CHANGE_FILE</th>\n",
       "      <th>CODE_ADD_CODE_LINE</th>\n",
       "      <th>CODE_DEL_CODE_LINE</th>\n",
       "      <th>CODE_MOD_CODE_LINE</th>\n",
       "      <th>CODE_ADD_COMMENT_LINE</th>\n",
       "      <th>CODE_DEL_COMMENT_LINE</th>\n",
       "      <th>CODE_MOD_COMMENT_LINE</th>\n",
       "      <th>...</th>\n",
       "      <th>BUILD_DEL_LINE</th>\n",
       "      <th>BUILD_MOD_LINE</th>\n",
       "      <th>DOC_CHANGE_FILE</th>\n",
       "      <th>DOC_ADD_LINE</th>\n",
       "      <th>DOC_DEL_LINE</th>\n",
       "      <th>DOC_MOD_LINE</th>\n",
       "      <th>OTHER_CHANGE_FILE</th>\n",
       "      <th>OTHER_ADD_LINE</th>\n",
       "      <th>OTHER_DEL_LINE</th>\n",
       "      <th>OTHER_MOD_LINE</th>\n",
       "    </tr>\n",
       "    <tr>\n",
       "      <th>commit_sha</th>\n",
       "      <th></th>\n",
       "      <th></th>\n",
       "      <th></th>\n",
       "      <th></th>\n",
       "      <th></th>\n",
       "      <th></th>\n",
       "      <th></th>\n",
       "      <th></th>\n",
       "      <th></th>\n",
       "      <th></th>\n",
       "      <th></th>\n",
       "      <th></th>\n",
       "      <th></th>\n",
       "      <th></th>\n",
       "      <th></th>\n",
       "      <th></th>\n",
       "      <th></th>\n",
       "      <th></th>\n",
       "      <th></th>\n",
       "      <th></th>\n",
       "      <th></th>\n",
       "    </tr>\n",
       "  </thead>\n",
       "  <tbody>\n",
       "    <tr>\n",
       "      <th>be937a3290223f926fe50684f1344569a573ed4b</th>\n",
       "      <td>1</td>\n",
       "      <td>diff --git a/tensorflow/compiler/mlir/lite/fla...</td>\n",
       "      <td>Fixing per axis quantization bug in flatbuffer...</td>\n",
       "      <td>1</td>\n",
       "      <td>0</td>\n",
       "      <td>0</td>\n",
       "      <td>1</td>\n",
       "      <td>1</td>\n",
       "      <td>0</td>\n",
       "      <td>0</td>\n",
       "      <td>...</td>\n",
       "      <td>0</td>\n",
       "      <td>0</td>\n",
       "      <td>0</td>\n",
       "      <td>0</td>\n",
       "      <td>0</td>\n",
       "      <td>0</td>\n",
       "      <td>0</td>\n",
       "      <td>0</td>\n",
       "      <td>0</td>\n",
       "      <td>0</td>\n",
       "    </tr>\n",
       "    <tr>\n",
       "      <th>c800d2e36954edddcb83aa1df7f623f2780c7780</th>\n",
       "      <td>0</td>\n",
       "      <td>diff --git a/tensorflow/python/tools/saved_mod...</td>\n",
       "      <td>Add support for python expression as SavedMode...</td>\n",
       "      <td>0</td>\n",
       "      <td>0</td>\n",
       "      <td>0</td>\n",
       "      <td>0</td>\n",
       "      <td>0</td>\n",
       "      <td>0</td>\n",
       "      <td>0</td>\n",
       "      <td>...</td>\n",
       "      <td>0</td>\n",
       "      <td>0</td>\n",
       "      <td>0</td>\n",
       "      <td>0</td>\n",
       "      <td>0</td>\n",
       "      <td>0</td>\n",
       "      <td>0</td>\n",
       "      <td>0</td>\n",
       "      <td>0</td>\n",
       "      <td>0</td>\n",
       "    </tr>\n",
       "    <tr>\n",
       "      <th>469e56eeff17eb857c95e935ca7b49723c43470e</th>\n",
       "      <td>2</td>\n",
       "      <td>diff --git a/.github/ISSUE_TEMPLATE/00-bug-iss...</td>\n",
       "      <td>Fix GitHub issue templates. Actual fix for #36...</td>\n",
       "      <td>0</td>\n",
       "      <td>0</td>\n",
       "      <td>0</td>\n",
       "      <td>0</td>\n",
       "      <td>0</td>\n",
       "      <td>0</td>\n",
       "      <td>0</td>\n",
       "      <td>...</td>\n",
       "      <td>0</td>\n",
       "      <td>0</td>\n",
       "      <td>8</td>\n",
       "      <td>0</td>\n",
       "      <td>0</td>\n",
       "      <td>15</td>\n",
       "      <td>0</td>\n",
       "      <td>0</td>\n",
       "      <td>0</td>\n",
       "      <td>0</td>\n",
       "    </tr>\n",
       "    <tr>\n",
       "      <th>24f5d302c0906f3377f4d6bcc2735d943ce13e3d</th>\n",
       "      <td>0</td>\n",
       "      <td>diff --git a/tensorflow/compiler/xla/pjrt/dist...</td>\n",
       "      <td>Add new PjRT distributed APIs (KeyValueDelete,...</td>\n",
       "      <td>3</td>\n",
       "      <td>37</td>\n",
       "      <td>0</td>\n",
       "      <td>0</td>\n",
       "      <td>9</td>\n",
       "      <td>0</td>\n",
       "      <td>0</td>\n",
       "      <td>...</td>\n",
       "      <td>0</td>\n",
       "      <td>0</td>\n",
       "      <td>0</td>\n",
       "      <td>0</td>\n",
       "      <td>0</td>\n",
       "      <td>0</td>\n",
       "      <td>1</td>\n",
       "      <td>2</td>\n",
       "      <td>0</td>\n",
       "      <td>0</td>\n",
       "    </tr>\n",
       "    <tr>\n",
       "      <th>1effdb7b959503596b07f7f3e74618ab63f9e5e5</th>\n",
       "      <td>2</td>\n",
       "      <td>diff --git a/tensorflow/core/common_runtime/ea...</td>\n",
       "      <td>Remove IsLocalDevice() since it's no longer us...</td>\n",
       "      <td>1</td>\n",
       "      <td>0</td>\n",
       "      <td>12</td>\n",
       "      <td>0</td>\n",
       "      <td>0</td>\n",
       "      <td>1</td>\n",
       "      <td>0</td>\n",
       "      <td>...</td>\n",
       "      <td>0</td>\n",
       "      <td>0</td>\n",
       "      <td>0</td>\n",
       "      <td>0</td>\n",
       "      <td>0</td>\n",
       "      <td>0</td>\n",
       "      <td>0</td>\n",
       "      <td>0</td>\n",
       "      <td>0</td>\n",
       "      <td>0</td>\n",
       "    </tr>\n",
       "    <tr>\n",
       "      <th>...</th>\n",
       "      <td>...</td>\n",
       "      <td>...</td>\n",
       "      <td>...</td>\n",
       "      <td>...</td>\n",
       "      <td>...</td>\n",
       "      <td>...</td>\n",
       "      <td>...</td>\n",
       "      <td>...</td>\n",
       "      <td>...</td>\n",
       "      <td>...</td>\n",
       "      <td>...</td>\n",
       "      <td>...</td>\n",
       "      <td>...</td>\n",
       "      <td>...</td>\n",
       "      <td>...</td>\n",
       "      <td>...</td>\n",
       "      <td>...</td>\n",
       "      <td>...</td>\n",
       "      <td>...</td>\n",
       "      <td>...</td>\n",
       "      <td>...</td>\n",
       "    </tr>\n",
       "    <tr>\n",
       "      <th>e4bbfd537a63a52a6094491504fc7b0bb54bcb0e</th>\n",
       "      <td>1</td>\n",
       "      <td>diff --git a/drools-persistence-jpa/src/main/j...</td>\n",
       "      <td>fixing reflection constructor to use int inste...</td>\n",
       "      <td>1</td>\n",
       "      <td>0</td>\n",
       "      <td>0</td>\n",
       "      <td>1</td>\n",
       "      <td>0</td>\n",
       "      <td>0</td>\n",
       "      <td>0</td>\n",
       "      <td>...</td>\n",
       "      <td>0</td>\n",
       "      <td>0</td>\n",
       "      <td>0</td>\n",
       "      <td>0</td>\n",
       "      <td>0</td>\n",
       "      <td>0</td>\n",
       "      <td>0</td>\n",
       "      <td>0</td>\n",
       "      <td>0</td>\n",
       "      <td>0</td>\n",
       "    </tr>\n",
       "    <tr>\n",
       "      <th>75b81dcbd26a11d5b370ea5bdf102c2d62ebd0c3</th>\n",
       "      <td>1</td>\n",
       "      <td>diff --git a/drools-compiler/src/main/java/org...</td>\n",
       "      <td>Fix OutOfBoundException on- MemoryFileSystem.e...</td>\n",
       "      <td>2</td>\n",
       "      <td>6</td>\n",
       "      <td>2</td>\n",
       "      <td>3</td>\n",
       "      <td>0</td>\n",
       "      <td>0</td>\n",
       "      <td>0</td>\n",
       "      <td>...</td>\n",
       "      <td>0</td>\n",
       "      <td>0</td>\n",
       "      <td>0</td>\n",
       "      <td>0</td>\n",
       "      <td>0</td>\n",
       "      <td>0</td>\n",
       "      <td>0</td>\n",
       "      <td>0</td>\n",
       "      <td>0</td>\n",
       "      <td>0</td>\n",
       "    </tr>\n",
       "    <tr>\n",
       "      <th>6bc9677bbe919cd5bcadd8af2f5b0c838757a4ce</th>\n",
       "      <td>1</td>\n",
       "      <td>diff --git a/drools-core/src/main/java/org/dro...</td>\n",
       "      <td>[DROOLS-293] fix ObjectTypeNode id creation an...</td>\n",
       "      <td>1</td>\n",
       "      <td>1</td>\n",
       "      <td>5</td>\n",
       "      <td>13</td>\n",
       "      <td>0</td>\n",
       "      <td>0</td>\n",
       "      <td>0</td>\n",
       "      <td>...</td>\n",
       "      <td>0</td>\n",
       "      <td>0</td>\n",
       "      <td>0</td>\n",
       "      <td>0</td>\n",
       "      <td>0</td>\n",
       "      <td>0</td>\n",
       "      <td>0</td>\n",
       "      <td>0</td>\n",
       "      <td>0</td>\n",
       "      <td>0</td>\n",
       "    </tr>\n",
       "    <tr>\n",
       "      <th>48701edad8513b27acec7216581e64637157c86a</th>\n",
       "      <td>0</td>\n",
       "      <td>diff --git a/drools-core/src/main/java/org/dro...</td>\n",
       "      <td>DROOLS-515 Kie-Camel is broken after Camel Upd...</td>\n",
       "      <td>2</td>\n",
       "      <td>24</td>\n",
       "      <td>2</td>\n",
       "      <td>4</td>\n",
       "      <td>3</td>\n",
       "      <td>0</td>\n",
       "      <td>0</td>\n",
       "      <td>...</td>\n",
       "      <td>0</td>\n",
       "      <td>0</td>\n",
       "      <td>0</td>\n",
       "      <td>0</td>\n",
       "      <td>0</td>\n",
       "      <td>0</td>\n",
       "      <td>0</td>\n",
       "      <td>0</td>\n",
       "      <td>0</td>\n",
       "      <td>0</td>\n",
       "    </tr>\n",
       "    <tr>\n",
       "      <th>45529d30d41b8de338dfc2d26b61d1a79113c766</th>\n",
       "      <td>0</td>\n",
       "      <td>diff --git a/drools-compiler/src/test/java/org...</td>\n",
       "      <td>JBRULES-2934 Add NewRegisterWorkItemHandlerCom...</td>\n",
       "      <td>1</td>\n",
       "      <td>10</td>\n",
       "      <td>0</td>\n",
       "      <td>0</td>\n",
       "      <td>0</td>\n",
       "      <td>0</td>\n",
       "      <td>0</td>\n",
       "      <td>...</td>\n",
       "      <td>0</td>\n",
       "      <td>0</td>\n",
       "      <td>0</td>\n",
       "      <td>0</td>\n",
       "      <td>0</td>\n",
       "      <td>0</td>\n",
       "      <td>0</td>\n",
       "      <td>0</td>\n",
       "      <td>0</td>\n",
       "      <td>0</td>\n",
       "    </tr>\n",
       "  </tbody>\n",
       "</table>\n",
       "<p>1581 rows × 32 columns</p>\n",
       "</div>"
      ],
      "text/plain": [
       "                                          label  \\\n",
       "commit_sha                                        \n",
       "be937a3290223f926fe50684f1344569a573ed4b      1   \n",
       "c800d2e36954edddcb83aa1df7f623f2780c7780      0   \n",
       "469e56eeff17eb857c95e935ca7b49723c43470e      2   \n",
       "24f5d302c0906f3377f4d6bcc2735d943ce13e3d      0   \n",
       "1effdb7b959503596b07f7f3e74618ab63f9e5e5      2   \n",
       "...                                         ...   \n",
       "e4bbfd537a63a52a6094491504fc7b0bb54bcb0e      1   \n",
       "75b81dcbd26a11d5b370ea5bdf102c2d62ebd0c3      1   \n",
       "6bc9677bbe919cd5bcadd8af2f5b0c838757a4ce      1   \n",
       "48701edad8513b27acec7216581e64637157c86a      0   \n",
       "45529d30d41b8de338dfc2d26b61d1a79113c766      0   \n",
       "\n",
       "                                                                                      diffs  \\\n",
       "commit_sha                                                                                    \n",
       "be937a3290223f926fe50684f1344569a573ed4b  diff --git a/tensorflow/compiler/mlir/lite/fla...   \n",
       "c800d2e36954edddcb83aa1df7f623f2780c7780  diff --git a/tensorflow/python/tools/saved_mod...   \n",
       "469e56eeff17eb857c95e935ca7b49723c43470e  diff --git a/.github/ISSUE_TEMPLATE/00-bug-iss...   \n",
       "24f5d302c0906f3377f4d6bcc2735d943ce13e3d  diff --git a/tensorflow/compiler/xla/pjrt/dist...   \n",
       "1effdb7b959503596b07f7f3e74618ab63f9e5e5  diff --git a/tensorflow/core/common_runtime/ea...   \n",
       "...                                                                                     ...   \n",
       "e4bbfd537a63a52a6094491504fc7b0bb54bcb0e  diff --git a/drools-persistence-jpa/src/main/j...   \n",
       "75b81dcbd26a11d5b370ea5bdf102c2d62ebd0c3  diff --git a/drools-compiler/src/main/java/org...   \n",
       "6bc9677bbe919cd5bcadd8af2f5b0c838757a4ce  diff --git a/drools-core/src/main/java/org/dro...   \n",
       "48701edad8513b27acec7216581e64637157c86a  diff --git a/drools-core/src/main/java/org/dro...   \n",
       "45529d30d41b8de338dfc2d26b61d1a79113c766  diff --git a/drools-compiler/src/test/java/org...   \n",
       "\n",
       "                                                                                       text  \\\n",
       "commit_sha                                                                                    \n",
       "be937a3290223f926fe50684f1344569a573ed4b  Fixing per axis quantization bug in flatbuffer...   \n",
       "c800d2e36954edddcb83aa1df7f623f2780c7780  Add support for python expression as SavedMode...   \n",
       "469e56eeff17eb857c95e935ca7b49723c43470e  Fix GitHub issue templates. Actual fix for #36...   \n",
       "24f5d302c0906f3377f4d6bcc2735d943ce13e3d  Add new PjRT distributed APIs (KeyValueDelete,...   \n",
       "1effdb7b959503596b07f7f3e74618ab63f9e5e5  Remove IsLocalDevice() since it's no longer us...   \n",
       "...                                                                                     ...   \n",
       "e4bbfd537a63a52a6094491504fc7b0bb54bcb0e  fixing reflection constructor to use int inste...   \n",
       "75b81dcbd26a11d5b370ea5bdf102c2d62ebd0c3  Fix OutOfBoundException on- MemoryFileSystem.e...   \n",
       "6bc9677bbe919cd5bcadd8af2f5b0c838757a4ce  [DROOLS-293] fix ObjectTypeNode id creation an...   \n",
       "48701edad8513b27acec7216581e64637157c86a  DROOLS-515 Kie-Camel is broken after Camel Upd...   \n",
       "45529d30d41b8de338dfc2d26b61d1a79113c766  JBRULES-2934 Add NewRegisterWorkItemHandlerCom...   \n",
       "\n",
       "                                          CODE_CHANGE_FILE  \\\n",
       "commit_sha                                                   \n",
       "be937a3290223f926fe50684f1344569a573ed4b                 1   \n",
       "c800d2e36954edddcb83aa1df7f623f2780c7780                 0   \n",
       "469e56eeff17eb857c95e935ca7b49723c43470e                 0   \n",
       "24f5d302c0906f3377f4d6bcc2735d943ce13e3d                 3   \n",
       "1effdb7b959503596b07f7f3e74618ab63f9e5e5                 1   \n",
       "...                                                    ...   \n",
       "e4bbfd537a63a52a6094491504fc7b0bb54bcb0e                 1   \n",
       "75b81dcbd26a11d5b370ea5bdf102c2d62ebd0c3                 2   \n",
       "6bc9677bbe919cd5bcadd8af2f5b0c838757a4ce                 1   \n",
       "48701edad8513b27acec7216581e64637157c86a                 2   \n",
       "45529d30d41b8de338dfc2d26b61d1a79113c766                 1   \n",
       "\n",
       "                                          CODE_ADD_CODE_LINE  \\\n",
       "commit_sha                                                     \n",
       "be937a3290223f926fe50684f1344569a573ed4b                   0   \n",
       "c800d2e36954edddcb83aa1df7f623f2780c7780                   0   \n",
       "469e56eeff17eb857c95e935ca7b49723c43470e                   0   \n",
       "24f5d302c0906f3377f4d6bcc2735d943ce13e3d                  37   \n",
       "1effdb7b959503596b07f7f3e74618ab63f9e5e5                   0   \n",
       "...                                                      ...   \n",
       "e4bbfd537a63a52a6094491504fc7b0bb54bcb0e                   0   \n",
       "75b81dcbd26a11d5b370ea5bdf102c2d62ebd0c3                   6   \n",
       "6bc9677bbe919cd5bcadd8af2f5b0c838757a4ce                   1   \n",
       "48701edad8513b27acec7216581e64637157c86a                  24   \n",
       "45529d30d41b8de338dfc2d26b61d1a79113c766                  10   \n",
       "\n",
       "                                          CODE_DEL_CODE_LINE  \\\n",
       "commit_sha                                                     \n",
       "be937a3290223f926fe50684f1344569a573ed4b                   0   \n",
       "c800d2e36954edddcb83aa1df7f623f2780c7780                   0   \n",
       "469e56eeff17eb857c95e935ca7b49723c43470e                   0   \n",
       "24f5d302c0906f3377f4d6bcc2735d943ce13e3d                   0   \n",
       "1effdb7b959503596b07f7f3e74618ab63f9e5e5                  12   \n",
       "...                                                      ...   \n",
       "e4bbfd537a63a52a6094491504fc7b0bb54bcb0e                   0   \n",
       "75b81dcbd26a11d5b370ea5bdf102c2d62ebd0c3                   2   \n",
       "6bc9677bbe919cd5bcadd8af2f5b0c838757a4ce                   5   \n",
       "48701edad8513b27acec7216581e64637157c86a                   2   \n",
       "45529d30d41b8de338dfc2d26b61d1a79113c766                   0   \n",
       "\n",
       "                                          CODE_MOD_CODE_LINE  \\\n",
       "commit_sha                                                     \n",
       "be937a3290223f926fe50684f1344569a573ed4b                   1   \n",
       "c800d2e36954edddcb83aa1df7f623f2780c7780                   0   \n",
       "469e56eeff17eb857c95e935ca7b49723c43470e                   0   \n",
       "24f5d302c0906f3377f4d6bcc2735d943ce13e3d                   0   \n",
       "1effdb7b959503596b07f7f3e74618ab63f9e5e5                   0   \n",
       "...                                                      ...   \n",
       "e4bbfd537a63a52a6094491504fc7b0bb54bcb0e                   1   \n",
       "75b81dcbd26a11d5b370ea5bdf102c2d62ebd0c3                   3   \n",
       "6bc9677bbe919cd5bcadd8af2f5b0c838757a4ce                  13   \n",
       "48701edad8513b27acec7216581e64637157c86a                   4   \n",
       "45529d30d41b8de338dfc2d26b61d1a79113c766                   0   \n",
       "\n",
       "                                          CODE_ADD_COMMENT_LINE  \\\n",
       "commit_sha                                                        \n",
       "be937a3290223f926fe50684f1344569a573ed4b                      1   \n",
       "c800d2e36954edddcb83aa1df7f623f2780c7780                      0   \n",
       "469e56eeff17eb857c95e935ca7b49723c43470e                      0   \n",
       "24f5d302c0906f3377f4d6bcc2735d943ce13e3d                      9   \n",
       "1effdb7b959503596b07f7f3e74618ab63f9e5e5                      0   \n",
       "...                                                         ...   \n",
       "e4bbfd537a63a52a6094491504fc7b0bb54bcb0e                      0   \n",
       "75b81dcbd26a11d5b370ea5bdf102c2d62ebd0c3                      0   \n",
       "6bc9677bbe919cd5bcadd8af2f5b0c838757a4ce                      0   \n",
       "48701edad8513b27acec7216581e64637157c86a                      3   \n",
       "45529d30d41b8de338dfc2d26b61d1a79113c766                      0   \n",
       "\n",
       "                                          CODE_DEL_COMMENT_LINE  \\\n",
       "commit_sha                                                        \n",
       "be937a3290223f926fe50684f1344569a573ed4b                      0   \n",
       "c800d2e36954edddcb83aa1df7f623f2780c7780                      0   \n",
       "469e56eeff17eb857c95e935ca7b49723c43470e                      0   \n",
       "24f5d302c0906f3377f4d6bcc2735d943ce13e3d                      0   \n",
       "1effdb7b959503596b07f7f3e74618ab63f9e5e5                      1   \n",
       "...                                                         ...   \n",
       "e4bbfd537a63a52a6094491504fc7b0bb54bcb0e                      0   \n",
       "75b81dcbd26a11d5b370ea5bdf102c2d62ebd0c3                      0   \n",
       "6bc9677bbe919cd5bcadd8af2f5b0c838757a4ce                      0   \n",
       "48701edad8513b27acec7216581e64637157c86a                      0   \n",
       "45529d30d41b8de338dfc2d26b61d1a79113c766                      0   \n",
       "\n",
       "                                          CODE_MOD_COMMENT_LINE  ...  \\\n",
       "commit_sha                                                       ...   \n",
       "be937a3290223f926fe50684f1344569a573ed4b                      0  ...   \n",
       "c800d2e36954edddcb83aa1df7f623f2780c7780                      0  ...   \n",
       "469e56eeff17eb857c95e935ca7b49723c43470e                      0  ...   \n",
       "24f5d302c0906f3377f4d6bcc2735d943ce13e3d                      0  ...   \n",
       "1effdb7b959503596b07f7f3e74618ab63f9e5e5                      0  ...   \n",
       "...                                                         ...  ...   \n",
       "e4bbfd537a63a52a6094491504fc7b0bb54bcb0e                      0  ...   \n",
       "75b81dcbd26a11d5b370ea5bdf102c2d62ebd0c3                      0  ...   \n",
       "6bc9677bbe919cd5bcadd8af2f5b0c838757a4ce                      0  ...   \n",
       "48701edad8513b27acec7216581e64637157c86a                      0  ...   \n",
       "45529d30d41b8de338dfc2d26b61d1a79113c766                      0  ...   \n",
       "\n",
       "                                          BUILD_DEL_LINE  BUILD_MOD_LINE  \\\n",
       "commit_sha                                                                 \n",
       "be937a3290223f926fe50684f1344569a573ed4b               0               0   \n",
       "c800d2e36954edddcb83aa1df7f623f2780c7780               0               0   \n",
       "469e56eeff17eb857c95e935ca7b49723c43470e               0               0   \n",
       "24f5d302c0906f3377f4d6bcc2735d943ce13e3d               0               0   \n",
       "1effdb7b959503596b07f7f3e74618ab63f9e5e5               0               0   \n",
       "...                                                  ...             ...   \n",
       "e4bbfd537a63a52a6094491504fc7b0bb54bcb0e               0               0   \n",
       "75b81dcbd26a11d5b370ea5bdf102c2d62ebd0c3               0               0   \n",
       "6bc9677bbe919cd5bcadd8af2f5b0c838757a4ce               0               0   \n",
       "48701edad8513b27acec7216581e64637157c86a               0               0   \n",
       "45529d30d41b8de338dfc2d26b61d1a79113c766               0               0   \n",
       "\n",
       "                                          DOC_CHANGE_FILE  DOC_ADD_LINE  \\\n",
       "commit_sha                                                                \n",
       "be937a3290223f926fe50684f1344569a573ed4b                0             0   \n",
       "c800d2e36954edddcb83aa1df7f623f2780c7780                0             0   \n",
       "469e56eeff17eb857c95e935ca7b49723c43470e                8             0   \n",
       "24f5d302c0906f3377f4d6bcc2735d943ce13e3d                0             0   \n",
       "1effdb7b959503596b07f7f3e74618ab63f9e5e5                0             0   \n",
       "...                                                   ...           ...   \n",
       "e4bbfd537a63a52a6094491504fc7b0bb54bcb0e                0             0   \n",
       "75b81dcbd26a11d5b370ea5bdf102c2d62ebd0c3                0             0   \n",
       "6bc9677bbe919cd5bcadd8af2f5b0c838757a4ce                0             0   \n",
       "48701edad8513b27acec7216581e64637157c86a                0             0   \n",
       "45529d30d41b8de338dfc2d26b61d1a79113c766                0             0   \n",
       "\n",
       "                                          DOC_DEL_LINE  DOC_MOD_LINE  \\\n",
       "commit_sha                                                             \n",
       "be937a3290223f926fe50684f1344569a573ed4b             0             0   \n",
       "c800d2e36954edddcb83aa1df7f623f2780c7780             0             0   \n",
       "469e56eeff17eb857c95e935ca7b49723c43470e             0            15   \n",
       "24f5d302c0906f3377f4d6bcc2735d943ce13e3d             0             0   \n",
       "1effdb7b959503596b07f7f3e74618ab63f9e5e5             0             0   \n",
       "...                                                ...           ...   \n",
       "e4bbfd537a63a52a6094491504fc7b0bb54bcb0e             0             0   \n",
       "75b81dcbd26a11d5b370ea5bdf102c2d62ebd0c3             0             0   \n",
       "6bc9677bbe919cd5bcadd8af2f5b0c838757a4ce             0             0   \n",
       "48701edad8513b27acec7216581e64637157c86a             0             0   \n",
       "45529d30d41b8de338dfc2d26b61d1a79113c766             0             0   \n",
       "\n",
       "                                          OTHER_CHANGE_FILE  OTHER_ADD_LINE  \\\n",
       "commit_sha                                                                    \n",
       "be937a3290223f926fe50684f1344569a573ed4b                  0               0   \n",
       "c800d2e36954edddcb83aa1df7f623f2780c7780                  0               0   \n",
       "469e56eeff17eb857c95e935ca7b49723c43470e                  0               0   \n",
       "24f5d302c0906f3377f4d6bcc2735d943ce13e3d                  1               2   \n",
       "1effdb7b959503596b07f7f3e74618ab63f9e5e5                  0               0   \n",
       "...                                                     ...             ...   \n",
       "e4bbfd537a63a52a6094491504fc7b0bb54bcb0e                  0               0   \n",
       "75b81dcbd26a11d5b370ea5bdf102c2d62ebd0c3                  0               0   \n",
       "6bc9677bbe919cd5bcadd8af2f5b0c838757a4ce                  0               0   \n",
       "48701edad8513b27acec7216581e64637157c86a                  0               0   \n",
       "45529d30d41b8de338dfc2d26b61d1a79113c766                  0               0   \n",
       "\n",
       "                                          OTHER_DEL_LINE  OTHER_MOD_LINE  \n",
       "commit_sha                                                                \n",
       "be937a3290223f926fe50684f1344569a573ed4b               0               0  \n",
       "c800d2e36954edddcb83aa1df7f623f2780c7780               0               0  \n",
       "469e56eeff17eb857c95e935ca7b49723c43470e               0               0  \n",
       "24f5d302c0906f3377f4d6bcc2735d943ce13e3d               0               0  \n",
       "1effdb7b959503596b07f7f3e74618ab63f9e5e5               0               0  \n",
       "...                                                  ...             ...  \n",
       "e4bbfd537a63a52a6094491504fc7b0bb54bcb0e               0               0  \n",
       "75b81dcbd26a11d5b370ea5bdf102c2d62ebd0c3               0               0  \n",
       "6bc9677bbe919cd5bcadd8af2f5b0c838757a4ce               0               0  \n",
       "48701edad8513b27acec7216581e64637157c86a               0               0  \n",
       "45529d30d41b8de338dfc2d26b61d1a79113c766               0               0  \n",
       "\n",
       "[1581 rows x 32 columns]"
      ]
     },
     "execution_count": 2,
     "metadata": {},
     "output_type": "execute_result"
    }
   ],
   "source": [
    "df = pd.read_csv(r'/root/autodl-tmp/CommitFit/dataset/multi-lang-annotated/dataset.csv', index_col=0, encoding='utf_8_sig')\n",
    "df.fillna('', inplace=True)\n",
    "label2id={'A':0, 'C':1, 'P':2}\n",
    "df = df.rename(columns={'maintenance_type':'label','commit_message':'text','commit_diff':'diffs'})\n",
    "df = df.replace({\"label\": label2id})\n",
    "# # print(df)\n",
    "df\n",
    "# test_sample = df.sample(n=3, random_state=1)"
   ]
  },
  {
   "cell_type": "code",
   "execution_count": 3,
   "id": "26803da1-da52-48a7-8040-70914c05f2ea",
   "metadata": {
    "execution": {
     "iopub.execute_input": "2025-08-24T11:59:44.582110Z",
     "iopub.status.busy": "2025-08-24T11:59:44.581923Z",
     "iopub.status.idle": "2025-08-24T11:59:44.588002Z",
     "shell.execute_reply": "2025-08-24T11:59:44.587275Z",
     "shell.execute_reply.started": "2025-08-24T11:59:44.582089Z"
    }
   },
   "outputs": [],
   "source": [
    "train, temp_df = train_test_split(df, test_size=0.3, random_state=42)\n",
    "val_df, test = train_test_split(temp_df, test_size=0.5, random_state=42)"
   ]
  },
  {
   "cell_type": "code",
   "execution_count": 4,
   "id": "2e214dbb-075e-4fbf-adc9-f3533801587e",
   "metadata": {
    "execution": {
     "iopub.execute_input": "2025-08-24T11:59:44.588960Z",
     "iopub.status.busy": "2025-08-24T11:59:44.588783Z",
     "iopub.status.idle": "2025-08-24T11:59:44.773920Z",
     "shell.execute_reply": "2025-08-24T11:59:44.773074Z",
     "shell.execute_reply.started": "2025-08-24T11:59:44.588940Z"
    }
   },
   "outputs": [],
   "source": [
    "Dataset_train = Dataset.from_pandas(train)\n",
    "test_dataset = Dataset.from_pandas(test)"
   ]
  },
  {
   "cell_type": "code",
   "execution_count": 5,
   "id": "1a8ec7ec-1112-4140-8ccd-516ba9a1b1a8",
   "metadata": {
    "execution": {
     "iopub.execute_input": "2025-08-24T11:59:44.775044Z",
     "iopub.status.busy": "2025-08-24T11:59:44.774851Z",
     "iopub.status.idle": "2025-08-24T11:59:44.897632Z",
     "shell.execute_reply": "2025-08-24T11:59:44.896647Z",
     "shell.execute_reply.started": "2025-08-24T11:59:44.775023Z"
    }
   },
   "outputs": [],
   "source": [
    "train_dataset = get_templated_dataset(Dataset_train, candidate_labels=['Corrective','Adaptive','Perfective'], sample_size=8)"
   ]
  },
  {
   "cell_type": "code",
   "execution_count": 6,
   "id": "6af4102b-39bc-4b20-ab32-43800fb572bf",
   "metadata": {
    "execution": {
     "iopub.execute_input": "2025-08-24T11:59:44.898639Z",
     "iopub.status.busy": "2025-08-24T11:59:44.898454Z",
     "iopub.status.idle": "2025-08-24T11:59:44.903050Z",
     "shell.execute_reply": "2025-08-24T11:59:44.902336Z",
     "shell.execute_reply.started": "2025-08-24T11:59:44.898617Z"
    }
   },
   "outputs": [],
   "source": [
    "train_code_change = list(train['diffs'].astype(str))\n",
    "test_code_change = list(test['diffs'].astype(str))"
   ]
  },
  {
   "cell_type": "code",
   "execution_count": 7,
   "id": "c5ea76cd-69e5-4aa8-bf49-c9e746b63bbb",
   "metadata": {
    "execution": {
     "iopub.execute_input": "2025-08-24T11:59:44.905456Z",
     "iopub.status.busy": "2025-08-24T11:59:44.905179Z",
     "iopub.status.idle": "2025-08-24T11:59:44.909805Z",
     "shell.execute_reply": "2025-08-24T11:59:44.909151Z",
     "shell.execute_reply.started": "2025-08-24T11:59:44.905434Z"
    }
   },
   "outputs": [
    {
     "data": {
      "text/plain": [
       "Dataset({\n",
       "    features: ['label', 'diffs', 'text', 'CODE_CHANGE_FILE', 'CODE_ADD_CODE_LINE', 'CODE_DEL_CODE_LINE', 'CODE_MOD_CODE_LINE', 'CODE_ADD_COMMENT_LINE', 'CODE_DEL_COMMENT_LINE', 'CODE_MOD_COMMENT_LINE', 'TEST_CHANGE_FILE', 'TEST_ADD_CODE_LINE', 'TEST_DEL_CODE_LINE', 'TEST_MOD_CODE_LINE', 'TEST_ADD_COMMENT_LINE', 'TEST_DEL_COMMENT_LINE', 'TEST_MOD_COMMENT_LINE', 'TEST_ADD_OTHER_LINE', 'TEST_DEL_OTHER_LINE', 'TEST_MOD_OTHER_LINE', 'BUILD_CHANGE_FILE', 'BUILD_ADD_LINE', 'BUILD_DEL_LINE', 'BUILD_MOD_LINE', 'DOC_CHANGE_FILE', 'DOC_ADD_LINE', 'DOC_DEL_LINE', 'DOC_MOD_LINE', 'OTHER_CHANGE_FILE', 'OTHER_ADD_LINE', 'OTHER_DEL_LINE', 'OTHER_MOD_LINE', 'commit_sha'],\n",
       "    num_rows: 1130\n",
       "})"
      ]
     },
     "execution_count": 7,
     "metadata": {},
     "output_type": "execute_result"
    }
   ],
   "source": [
    "# list(train['message'].astype(str).values)\n",
    "train_dataset"
   ]
  },
  {
   "cell_type": "code",
   "execution_count": 8,
   "id": "ee30affe-0ec9-46a3-bcaa-a1bd9422c939",
   "metadata": {
    "execution": {
     "iopub.execute_input": "2025-08-24T11:59:44.910701Z",
     "iopub.status.busy": "2025-08-24T11:59:44.910527Z",
     "iopub.status.idle": "2025-08-24T11:59:44.914898Z",
     "shell.execute_reply": "2025-08-24T11:59:44.914270Z",
     "shell.execute_reply.started": "2025-08-24T11:59:44.910681Z"
    }
   },
   "outputs": [
    {
     "data": {
      "text/plain": [
       "1106"
      ]
     },
     "execution_count": 8,
     "metadata": {},
     "output_type": "execute_result"
    }
   ],
   "source": [
    "len(train)"
   ]
  },
  {
   "cell_type": "code",
   "execution_count": 9,
   "id": "84e38639-cf4b-4762-a1dc-cdc983938388",
   "metadata": {
    "execution": {
     "iopub.execute_input": "2025-08-24T11:59:44.915796Z",
     "iopub.status.busy": "2025-08-24T11:59:44.915625Z",
     "iopub.status.idle": "2025-08-24T11:59:44.921288Z",
     "shell.execute_reply": "2025-08-24T11:59:44.920642Z",
     "shell.execute_reply.started": "2025-08-24T11:59:44.915777Z"
    }
   },
   "outputs": [
    {
     "data": {
      "text/plain": [
       "label\n",
       "2    691\n",
       "1    242\n",
       "0    173\n",
       "Name: count, dtype: int64"
      ]
     },
     "execution_count": 9,
     "metadata": {},
     "output_type": "execute_result"
    }
   ],
   "source": [
    "train['label'].value_counts()"
   ]
  },
  {
   "cell_type": "code",
   "execution_count": 10,
   "id": "3cf6c110-616d-45da-aa2e-4a5add26b3c0",
   "metadata": {
    "execution": {
     "iopub.execute_input": "2025-08-24T11:59:44.922194Z",
     "iopub.status.busy": "2025-08-24T11:59:44.922021Z",
     "iopub.status.idle": "2025-08-24T11:59:44.927345Z",
     "shell.execute_reply": "2025-08-24T11:59:44.926688Z",
     "shell.execute_reply.started": "2025-08-24T11:59:44.922174Z"
    }
   },
   "outputs": [
    {
     "data": {
      "text/plain": [
       "label\n",
       "2    155\n",
       "1     51\n",
       "0     32\n",
       "Name: count, dtype: int64"
      ]
     },
     "execution_count": 10,
     "metadata": {},
     "output_type": "execute_result"
    }
   ],
   "source": [
    "test['label'].value_counts()"
   ]
  },
  {
   "cell_type": "code",
   "execution_count": 11,
   "id": "77117d87-5292-48f5-b077-74b47ccfd5eb",
   "metadata": {
    "execution": {
     "iopub.execute_input": "2025-08-24T11:59:44.928279Z",
     "iopub.status.busy": "2025-08-24T11:59:44.928100Z",
     "iopub.status.idle": "2025-08-24T11:59:44.932527Z",
     "shell.execute_reply": "2025-08-24T11:59:44.931887Z",
     "shell.execute_reply.started": "2025-08-24T11:59:44.928259Z"
    }
   },
   "outputs": [
    {
     "data": {
      "text/plain": [
       "1130"
      ]
     },
     "execution_count": 11,
     "metadata": {},
     "output_type": "execute_result"
    }
   ],
   "source": [
    "len(train_dataset)"
   ]
  },
  {
   "cell_type": "code",
   "execution_count": 12,
   "id": "dca6275a-a567-4963-831c-8dd653341162",
   "metadata": {
    "execution": {
     "iopub.execute_input": "2025-08-24T11:59:44.933440Z",
     "iopub.status.busy": "2025-08-24T11:59:44.933265Z",
     "iopub.status.idle": "2025-08-24T11:59:44.937912Z",
     "shell.execute_reply": "2025-08-24T11:59:44.937223Z",
     "shell.execute_reply.started": "2025-08-24T11:59:44.933420Z"
    }
   },
   "outputs": [],
   "source": [
    "from sklearn import  metrics\n",
    "\n",
    "def compute_metrics(y_pred, y_test):\n",
    "    # print(y_pred,y_test)\n",
    "    # classification_report = metrics.classification_report(y_test,y_pred)\n",
    "    accuracy_score = metrics.accuracy_score(y_test,y_pred)\n",
    "    precision_score = metrics.precision_score(y_test,y_pred, average='weighted')\n",
    "    recall_score = metrics.recall_score(y_test,y_pred,average='weighted')\n",
    "    f1_score = metrics.f1_score(y_test,y_pred,average='weighted')\n",
    "\n",
    "    # return {\"classification_report\": classification_report}\n",
    "    return {\"precision\": round(precision_score, 4),\"recall\": round(recall_score, 4), \"f1\":round(f1_score, 4), \"accuracy\": round(accuracy_score, 4)}"
   ]
  },
  {
   "cell_type": "code",
   "execution_count": 13,
   "id": "49e32d66-2fc2-4a53-bae1-13f8d67c5b6f",
   "metadata": {
    "execution": {
     "iopub.execute_input": "2025-08-24T11:59:44.938828Z",
     "iopub.status.busy": "2025-08-24T11:59:44.938655Z",
     "iopub.status.idle": "2025-08-24T11:59:44.943018Z",
     "shell.execute_reply": "2025-08-24T11:59:44.942385Z",
     "shell.execute_reply.started": "2025-08-24T11:59:44.938808Z"
    }
   },
   "outputs": [
    {
     "data": {
      "text/plain": [
       "Dataset({\n",
       "    features: ['label', 'diffs', 'text', 'CODE_CHANGE_FILE', 'CODE_ADD_CODE_LINE', 'CODE_DEL_CODE_LINE', 'CODE_MOD_CODE_LINE', 'CODE_ADD_COMMENT_LINE', 'CODE_DEL_COMMENT_LINE', 'CODE_MOD_COMMENT_LINE', 'TEST_CHANGE_FILE', 'TEST_ADD_CODE_LINE', 'TEST_DEL_CODE_LINE', 'TEST_MOD_CODE_LINE', 'TEST_ADD_COMMENT_LINE', 'TEST_DEL_COMMENT_LINE', 'TEST_MOD_COMMENT_LINE', 'TEST_ADD_OTHER_LINE', 'TEST_DEL_OTHER_LINE', 'TEST_MOD_OTHER_LINE', 'BUILD_CHANGE_FILE', 'BUILD_ADD_LINE', 'BUILD_DEL_LINE', 'BUILD_MOD_LINE', 'DOC_CHANGE_FILE', 'DOC_ADD_LINE', 'DOC_DEL_LINE', 'DOC_MOD_LINE', 'OTHER_CHANGE_FILE', 'OTHER_ADD_LINE', 'OTHER_DEL_LINE', 'OTHER_MOD_LINE', 'commit_sha'],\n",
       "    num_rows: 1130\n",
       "})"
      ]
     },
     "execution_count": 13,
     "metadata": {},
     "output_type": "execute_result"
    }
   ],
   "source": [
    "train_dataset"
   ]
  },
  {
   "cell_type": "code",
   "execution_count": 14,
   "id": "b7c52074-c55f-4218-bc87-cdbc6e36a993",
   "metadata": {
    "execution": {
     "iopub.execute_input": "2025-08-24T11:59:44.943928Z",
     "iopub.status.busy": "2025-08-24T11:59:44.943754Z",
     "iopub.status.idle": "2025-08-24T11:59:44.959712Z",
     "shell.execute_reply": "2025-08-24T11:59:44.959054Z",
     "shell.execute_reply.started": "2025-08-24T11:59:44.943908Z"
    }
   },
   "outputs": [
    {
     "data": {
      "text/html": [
       "<div>\n",
       "<style scoped>\n",
       "    .dataframe tbody tr th:only-of-type {\n",
       "        vertical-align: middle;\n",
       "    }\n",
       "\n",
       "    .dataframe tbody tr th {\n",
       "        vertical-align: top;\n",
       "    }\n",
       "\n",
       "    .dataframe thead th {\n",
       "        text-align: right;\n",
       "    }\n",
       "</style>\n",
       "<table border=\"1\" class=\"dataframe\">\n",
       "  <thead>\n",
       "    <tr style=\"text-align: right;\">\n",
       "      <th></th>\n",
       "      <th>label</th>\n",
       "      <th>diffs</th>\n",
       "      <th>text</th>\n",
       "      <th>CODE_CHANGE_FILE</th>\n",
       "      <th>CODE_ADD_CODE_LINE</th>\n",
       "      <th>CODE_DEL_CODE_LINE</th>\n",
       "      <th>CODE_MOD_CODE_LINE</th>\n",
       "      <th>CODE_ADD_COMMENT_LINE</th>\n",
       "      <th>CODE_DEL_COMMENT_LINE</th>\n",
       "      <th>CODE_MOD_COMMENT_LINE</th>\n",
       "      <th>...</th>\n",
       "      <th>BUILD_DEL_LINE</th>\n",
       "      <th>BUILD_MOD_LINE</th>\n",
       "      <th>DOC_CHANGE_FILE</th>\n",
       "      <th>DOC_ADD_LINE</th>\n",
       "      <th>DOC_DEL_LINE</th>\n",
       "      <th>DOC_MOD_LINE</th>\n",
       "      <th>OTHER_CHANGE_FILE</th>\n",
       "      <th>OTHER_ADD_LINE</th>\n",
       "      <th>OTHER_DEL_LINE</th>\n",
       "      <th>OTHER_MOD_LINE</th>\n",
       "    </tr>\n",
       "    <tr>\n",
       "      <th>commit_sha</th>\n",
       "      <th></th>\n",
       "      <th></th>\n",
       "      <th></th>\n",
       "      <th></th>\n",
       "      <th></th>\n",
       "      <th></th>\n",
       "      <th></th>\n",
       "      <th></th>\n",
       "      <th></th>\n",
       "      <th></th>\n",
       "      <th></th>\n",
       "      <th></th>\n",
       "      <th></th>\n",
       "      <th></th>\n",
       "      <th></th>\n",
       "      <th></th>\n",
       "      <th></th>\n",
       "      <th></th>\n",
       "      <th></th>\n",
       "      <th></th>\n",
       "      <th></th>\n",
       "    </tr>\n",
       "  </thead>\n",
       "  <tbody>\n",
       "    <tr>\n",
       "      <th>e0b52079daeec08e5d349d686e217c8ba11c1f64</th>\n",
       "      <td>0</td>\n",
       "      <td>diff --git a/crates/bevy_render/src/renderer/r...</td>\n",
       "      <td>Implement RenderResource for Box&lt;T&gt; (#1893)\\n\\...</td>\n",
       "      <td>1</td>\n",
       "      <td>17</td>\n",
       "      <td>0</td>\n",
       "      <td>0</td>\n",
       "      <td>0</td>\n",
       "      <td>0</td>\n",
       "      <td>0</td>\n",
       "      <td>...</td>\n",
       "      <td>0</td>\n",
       "      <td>0</td>\n",
       "      <td>0</td>\n",
       "      <td>0</td>\n",
       "      <td>0</td>\n",
       "      <td>0</td>\n",
       "      <td>0</td>\n",
       "      <td>0</td>\n",
       "      <td>0</td>\n",
       "      <td>0</td>\n",
       "    </tr>\n",
       "    <tr>\n",
       "      <th>ddff0f642acbf650b53d1ddffe544900569ab983</th>\n",
       "      <td>2</td>\n",
       "      <td>diff --git a/examples/js/SimulationRenderer.js...</td>\n",
       "      <td>Add comments to FF RGB format fix\\n\\n</td>\n",
       "      <td>2</td>\n",
       "      <td>0</td>\n",
       "      <td>0</td>\n",
       "      <td>2</td>\n",
       "      <td>0</td>\n",
       "      <td>0</td>\n",
       "      <td>0</td>\n",
       "      <td>...</td>\n",
       "      <td>0</td>\n",
       "      <td>0</td>\n",
       "      <td>0</td>\n",
       "      <td>0</td>\n",
       "      <td>0</td>\n",
       "      <td>0</td>\n",
       "      <td>0</td>\n",
       "      <td>0</td>\n",
       "      <td>0</td>\n",
       "      <td>0</td>\n",
       "    </tr>\n",
       "    <tr>\n",
       "      <th>57f2d7de58427a413c406ef0a5a4e120e3351620</th>\n",
       "      <td>2</td>\n",
       "      <td>diff --git a/docs/00-Getting-Started.md b/docs...</td>\n",
       "      <td>Update docs and add plugin section (suggested ...</td>\n",
       "      <td>0</td>\n",
       "      <td>0</td>\n",
       "      <td>0</td>\n",
       "      <td>0</td>\n",
       "      <td>0</td>\n",
       "      <td>0</td>\n",
       "      <td>0</td>\n",
       "      <td>...</td>\n",
       "      <td>0</td>\n",
       "      <td>0</td>\n",
       "      <td>3</td>\n",
       "      <td>8</td>\n",
       "      <td>0</td>\n",
       "      <td>3</td>\n",
       "      <td>0</td>\n",
       "      <td>0</td>\n",
       "      <td>0</td>\n",
       "      <td>0</td>\n",
       "    </tr>\n",
       "    <tr>\n",
       "      <th>b00e9fc227dc2ab1070326f29fbe9626702dfa67</th>\n",
       "      <td>1</td>\n",
       "      <td>diff --git a/helix-term/src/commands.rs b/heli...</td>\n",
       "      <td>Handle line endings correctly in surround\\n\\n</td>\n",
       "      <td>2</td>\n",
       "      <td>5</td>\n",
       "      <td>0</td>\n",
       "      <td>2</td>\n",
       "      <td>0</td>\n",
       "      <td>8</td>\n",
       "      <td>0</td>\n",
       "      <td>...</td>\n",
       "      <td>0</td>\n",
       "      <td>0</td>\n",
       "      <td>0</td>\n",
       "      <td>0</td>\n",
       "      <td>0</td>\n",
       "      <td>0</td>\n",
       "      <td>0</td>\n",
       "      <td>0</td>\n",
       "      <td>0</td>\n",
       "      <td>0</td>\n",
       "    </tr>\n",
       "    <tr>\n",
       "      <th>c168a92f187943a401f6c4095b5abde44478d0c9</th>\n",
       "      <td>2</td>\n",
       "      <td>diff --git a/components/tag/demo/control.md b/...</td>\n",
       "      <td>docs: add missing key prop for controlled tag ...</td>\n",
       "      <td>0</td>\n",
       "      <td>0</td>\n",
       "      <td>0</td>\n",
       "      <td>0</td>\n",
       "      <td>0</td>\n",
       "      <td>0</td>\n",
       "      <td>0</td>\n",
       "      <td>...</td>\n",
       "      <td>0</td>\n",
       "      <td>0</td>\n",
       "      <td>1</td>\n",
       "      <td>0</td>\n",
       "      <td>0</td>\n",
       "      <td>1</td>\n",
       "      <td>0</td>\n",
       "      <td>0</td>\n",
       "      <td>0</td>\n",
       "      <td>0</td>\n",
       "    </tr>\n",
       "    <tr>\n",
       "      <th>...</th>\n",
       "      <td>...</td>\n",
       "      <td>...</td>\n",
       "      <td>...</td>\n",
       "      <td>...</td>\n",
       "      <td>...</td>\n",
       "      <td>...</td>\n",
       "      <td>...</td>\n",
       "      <td>...</td>\n",
       "      <td>...</td>\n",
       "      <td>...</td>\n",
       "      <td>...</td>\n",
       "      <td>...</td>\n",
       "      <td>...</td>\n",
       "      <td>...</td>\n",
       "      <td>...</td>\n",
       "      <td>...</td>\n",
       "      <td>...</td>\n",
       "      <td>...</td>\n",
       "      <td>...</td>\n",
       "      <td>...</td>\n",
       "      <td>...</td>\n",
       "    </tr>\n",
       "    <tr>\n",
       "      <th>defd45ccbadb7e0e347b1999d48fe354998ba37a</th>\n",
       "      <td>2</td>\n",
       "      <td>diff --git a/src/compiler/optimizer.js b/src/c...</td>\n",
       "      <td>Typo fix: optimizier -&gt; optimizer (#4015)\\n\\n\\n</td>\n",
       "      <td>1</td>\n",
       "      <td>0</td>\n",
       "      <td>0</td>\n",
       "      <td>0</td>\n",
       "      <td>0</td>\n",
       "      <td>0</td>\n",
       "      <td>1</td>\n",
       "      <td>...</td>\n",
       "      <td>0</td>\n",
       "      <td>0</td>\n",
       "      <td>0</td>\n",
       "      <td>0</td>\n",
       "      <td>0</td>\n",
       "      <td>0</td>\n",
       "      <td>0</td>\n",
       "      <td>0</td>\n",
       "      <td>0</td>\n",
       "      <td>0</td>\n",
       "    </tr>\n",
       "    <tr>\n",
       "      <th>bd34203bc40d6a406dfac3ab6cb41f5dfed63a77</th>\n",
       "      <td>1</td>\n",
       "      <td>diff --git a/packages/vite/src/node/plugins/im...</td>\n",
       "      <td>fix: Avoid importing in source that __vitePrel...</td>\n",
       "      <td>1</td>\n",
       "      <td>1</td>\n",
       "      <td>0</td>\n",
       "      <td>2</td>\n",
       "      <td>0</td>\n",
       "      <td>0</td>\n",
       "      <td>0</td>\n",
       "      <td>...</td>\n",
       "      <td>0</td>\n",
       "      <td>0</td>\n",
       "      <td>0</td>\n",
       "      <td>0</td>\n",
       "      <td>0</td>\n",
       "      <td>0</td>\n",
       "      <td>0</td>\n",
       "      <td>0</td>\n",
       "      <td>0</td>\n",
       "      <td>0</td>\n",
       "    </tr>\n",
       "    <tr>\n",
       "      <th>c3842edd8ea5da4626ffe6cb7f6c1965fa956757</th>\n",
       "      <td>2</td>\n",
       "      <td>diff --git a/keras/engine/training.py b/keras/...</td>\n",
       "      <td>Corrected 3 small typos in training.py error m...</td>\n",
       "      <td>1</td>\n",
       "      <td>0</td>\n",
       "      <td>0</td>\n",
       "      <td>4</td>\n",
       "      <td>0</td>\n",
       "      <td>0</td>\n",
       "      <td>0</td>\n",
       "      <td>...</td>\n",
       "      <td>0</td>\n",
       "      <td>0</td>\n",
       "      <td>0</td>\n",
       "      <td>0</td>\n",
       "      <td>0</td>\n",
       "      <td>0</td>\n",
       "      <td>0</td>\n",
       "      <td>0</td>\n",
       "      <td>0</td>\n",
       "      <td>0</td>\n",
       "    </tr>\n",
       "    <tr>\n",
       "      <th>2947b932624e4931333c08cfd9c111628bbd25e9</th>\n",
       "      <td>1</td>\n",
       "      <td>diff --git a/client/src/main/java/com/orientec...</td>\n",
       "      <td>Fixed some errors in remote calls.--</td>\n",
       "      <td>4</td>\n",
       "      <td>5</td>\n",
       "      <td>3</td>\n",
       "      <td>3</td>\n",
       "      <td>0</td>\n",
       "      <td>0</td>\n",
       "      <td>0</td>\n",
       "      <td>...</td>\n",
       "      <td>0</td>\n",
       "      <td>0</td>\n",
       "      <td>0</td>\n",
       "      <td>0</td>\n",
       "      <td>0</td>\n",
       "      <td>0</td>\n",
       "      <td>0</td>\n",
       "      <td>0</td>\n",
       "      <td>0</td>\n",
       "      <td>0</td>\n",
       "    </tr>\n",
       "    <tr>\n",
       "      <th>41838c8e8632ba78791996fbc697080b2764bb6a</th>\n",
       "      <td>0</td>\n",
       "      <td>diff --git a/src/platforms/web/compiler/module...</td>\n",
       "      <td>feat: support v-model dynamic type binding for...</td>\n",
       "      <td>1</td>\n",
       "      <td>8</td>\n",
       "      <td>0</td>\n",
       "      <td>3</td>\n",
       "      <td>0</td>\n",
       "      <td>0</td>\n",
       "      <td>0</td>\n",
       "      <td>...</td>\n",
       "      <td>0</td>\n",
       "      <td>0</td>\n",
       "      <td>0</td>\n",
       "      <td>0</td>\n",
       "      <td>0</td>\n",
       "      <td>0</td>\n",
       "      <td>0</td>\n",
       "      <td>0</td>\n",
       "      <td>0</td>\n",
       "      <td>0</td>\n",
       "    </tr>\n",
       "  </tbody>\n",
       "</table>\n",
       "<p>1106 rows × 32 columns</p>\n",
       "</div>"
      ],
      "text/plain": [
       "                                          label  \\\n",
       "commit_sha                                        \n",
       "e0b52079daeec08e5d349d686e217c8ba11c1f64      0   \n",
       "ddff0f642acbf650b53d1ddffe544900569ab983      2   \n",
       "57f2d7de58427a413c406ef0a5a4e120e3351620      2   \n",
       "b00e9fc227dc2ab1070326f29fbe9626702dfa67      1   \n",
       "c168a92f187943a401f6c4095b5abde44478d0c9      2   \n",
       "...                                         ...   \n",
       "defd45ccbadb7e0e347b1999d48fe354998ba37a      2   \n",
       "bd34203bc40d6a406dfac3ab6cb41f5dfed63a77      1   \n",
       "c3842edd8ea5da4626ffe6cb7f6c1965fa956757      2   \n",
       "2947b932624e4931333c08cfd9c111628bbd25e9      1   \n",
       "41838c8e8632ba78791996fbc697080b2764bb6a      0   \n",
       "\n",
       "                                                                                      diffs  \\\n",
       "commit_sha                                                                                    \n",
       "e0b52079daeec08e5d349d686e217c8ba11c1f64  diff --git a/crates/bevy_render/src/renderer/r...   \n",
       "ddff0f642acbf650b53d1ddffe544900569ab983  diff --git a/examples/js/SimulationRenderer.js...   \n",
       "57f2d7de58427a413c406ef0a5a4e120e3351620  diff --git a/docs/00-Getting-Started.md b/docs...   \n",
       "b00e9fc227dc2ab1070326f29fbe9626702dfa67  diff --git a/helix-term/src/commands.rs b/heli...   \n",
       "c168a92f187943a401f6c4095b5abde44478d0c9  diff --git a/components/tag/demo/control.md b/...   \n",
       "...                                                                                     ...   \n",
       "defd45ccbadb7e0e347b1999d48fe354998ba37a  diff --git a/src/compiler/optimizer.js b/src/c...   \n",
       "bd34203bc40d6a406dfac3ab6cb41f5dfed63a77  diff --git a/packages/vite/src/node/plugins/im...   \n",
       "c3842edd8ea5da4626ffe6cb7f6c1965fa956757  diff --git a/keras/engine/training.py b/keras/...   \n",
       "2947b932624e4931333c08cfd9c111628bbd25e9  diff --git a/client/src/main/java/com/orientec...   \n",
       "41838c8e8632ba78791996fbc697080b2764bb6a  diff --git a/src/platforms/web/compiler/module...   \n",
       "\n",
       "                                                                                       text  \\\n",
       "commit_sha                                                                                    \n",
       "e0b52079daeec08e5d349d686e217c8ba11c1f64  Implement RenderResource for Box<T> (#1893)\\n\\...   \n",
       "ddff0f642acbf650b53d1ddffe544900569ab983              Add comments to FF RGB format fix\\n\\n   \n",
       "57f2d7de58427a413c406ef0a5a4e120e3351620  Update docs and add plugin section (suggested ...   \n",
       "b00e9fc227dc2ab1070326f29fbe9626702dfa67      Handle line endings correctly in surround\\n\\n   \n",
       "c168a92f187943a401f6c4095b5abde44478d0c9  docs: add missing key prop for controlled tag ...   \n",
       "...                                                                                     ...   \n",
       "defd45ccbadb7e0e347b1999d48fe354998ba37a    Typo fix: optimizier -> optimizer (#4015)\\n\\n\\n   \n",
       "bd34203bc40d6a406dfac3ab6cb41f5dfed63a77  fix: Avoid importing in source that __vitePrel...   \n",
       "c3842edd8ea5da4626ffe6cb7f6c1965fa956757  Corrected 3 small typos in training.py error m...   \n",
       "2947b932624e4931333c08cfd9c111628bbd25e9               Fixed some errors in remote calls.--   \n",
       "41838c8e8632ba78791996fbc697080b2764bb6a  feat: support v-model dynamic type binding for...   \n",
       "\n",
       "                                          CODE_CHANGE_FILE  \\\n",
       "commit_sha                                                   \n",
       "e0b52079daeec08e5d349d686e217c8ba11c1f64                 1   \n",
       "ddff0f642acbf650b53d1ddffe544900569ab983                 2   \n",
       "57f2d7de58427a413c406ef0a5a4e120e3351620                 0   \n",
       "b00e9fc227dc2ab1070326f29fbe9626702dfa67                 2   \n",
       "c168a92f187943a401f6c4095b5abde44478d0c9                 0   \n",
       "...                                                    ...   \n",
       "defd45ccbadb7e0e347b1999d48fe354998ba37a                 1   \n",
       "bd34203bc40d6a406dfac3ab6cb41f5dfed63a77                 1   \n",
       "c3842edd8ea5da4626ffe6cb7f6c1965fa956757                 1   \n",
       "2947b932624e4931333c08cfd9c111628bbd25e9                 4   \n",
       "41838c8e8632ba78791996fbc697080b2764bb6a                 1   \n",
       "\n",
       "                                          CODE_ADD_CODE_LINE  \\\n",
       "commit_sha                                                     \n",
       "e0b52079daeec08e5d349d686e217c8ba11c1f64                  17   \n",
       "ddff0f642acbf650b53d1ddffe544900569ab983                   0   \n",
       "57f2d7de58427a413c406ef0a5a4e120e3351620                   0   \n",
       "b00e9fc227dc2ab1070326f29fbe9626702dfa67                   5   \n",
       "c168a92f187943a401f6c4095b5abde44478d0c9                   0   \n",
       "...                                                      ...   \n",
       "defd45ccbadb7e0e347b1999d48fe354998ba37a                   0   \n",
       "bd34203bc40d6a406dfac3ab6cb41f5dfed63a77                   1   \n",
       "c3842edd8ea5da4626ffe6cb7f6c1965fa956757                   0   \n",
       "2947b932624e4931333c08cfd9c111628bbd25e9                   5   \n",
       "41838c8e8632ba78791996fbc697080b2764bb6a                   8   \n",
       "\n",
       "                                          CODE_DEL_CODE_LINE  \\\n",
       "commit_sha                                                     \n",
       "e0b52079daeec08e5d349d686e217c8ba11c1f64                   0   \n",
       "ddff0f642acbf650b53d1ddffe544900569ab983                   0   \n",
       "57f2d7de58427a413c406ef0a5a4e120e3351620                   0   \n",
       "b00e9fc227dc2ab1070326f29fbe9626702dfa67                   0   \n",
       "c168a92f187943a401f6c4095b5abde44478d0c9                   0   \n",
       "...                                                      ...   \n",
       "defd45ccbadb7e0e347b1999d48fe354998ba37a                   0   \n",
       "bd34203bc40d6a406dfac3ab6cb41f5dfed63a77                   0   \n",
       "c3842edd8ea5da4626ffe6cb7f6c1965fa956757                   0   \n",
       "2947b932624e4931333c08cfd9c111628bbd25e9                   3   \n",
       "41838c8e8632ba78791996fbc697080b2764bb6a                   0   \n",
       "\n",
       "                                          CODE_MOD_CODE_LINE  \\\n",
       "commit_sha                                                     \n",
       "e0b52079daeec08e5d349d686e217c8ba11c1f64                   0   \n",
       "ddff0f642acbf650b53d1ddffe544900569ab983                   2   \n",
       "57f2d7de58427a413c406ef0a5a4e120e3351620                   0   \n",
       "b00e9fc227dc2ab1070326f29fbe9626702dfa67                   2   \n",
       "c168a92f187943a401f6c4095b5abde44478d0c9                   0   \n",
       "...                                                      ...   \n",
       "defd45ccbadb7e0e347b1999d48fe354998ba37a                   0   \n",
       "bd34203bc40d6a406dfac3ab6cb41f5dfed63a77                   2   \n",
       "c3842edd8ea5da4626ffe6cb7f6c1965fa956757                   4   \n",
       "2947b932624e4931333c08cfd9c111628bbd25e9                   3   \n",
       "41838c8e8632ba78791996fbc697080b2764bb6a                   3   \n",
       "\n",
       "                                          CODE_ADD_COMMENT_LINE  \\\n",
       "commit_sha                                                        \n",
       "e0b52079daeec08e5d349d686e217c8ba11c1f64                      0   \n",
       "ddff0f642acbf650b53d1ddffe544900569ab983                      0   \n",
       "57f2d7de58427a413c406ef0a5a4e120e3351620                      0   \n",
       "b00e9fc227dc2ab1070326f29fbe9626702dfa67                      0   \n",
       "c168a92f187943a401f6c4095b5abde44478d0c9                      0   \n",
       "...                                                         ...   \n",
       "defd45ccbadb7e0e347b1999d48fe354998ba37a                      0   \n",
       "bd34203bc40d6a406dfac3ab6cb41f5dfed63a77                      0   \n",
       "c3842edd8ea5da4626ffe6cb7f6c1965fa956757                      0   \n",
       "2947b932624e4931333c08cfd9c111628bbd25e9                      0   \n",
       "41838c8e8632ba78791996fbc697080b2764bb6a                      0   \n",
       "\n",
       "                                          CODE_DEL_COMMENT_LINE  \\\n",
       "commit_sha                                                        \n",
       "e0b52079daeec08e5d349d686e217c8ba11c1f64                      0   \n",
       "ddff0f642acbf650b53d1ddffe544900569ab983                      0   \n",
       "57f2d7de58427a413c406ef0a5a4e120e3351620                      0   \n",
       "b00e9fc227dc2ab1070326f29fbe9626702dfa67                      8   \n",
       "c168a92f187943a401f6c4095b5abde44478d0c9                      0   \n",
       "...                                                         ...   \n",
       "defd45ccbadb7e0e347b1999d48fe354998ba37a                      0   \n",
       "bd34203bc40d6a406dfac3ab6cb41f5dfed63a77                      0   \n",
       "c3842edd8ea5da4626ffe6cb7f6c1965fa956757                      0   \n",
       "2947b932624e4931333c08cfd9c111628bbd25e9                      0   \n",
       "41838c8e8632ba78791996fbc697080b2764bb6a                      0   \n",
       "\n",
       "                                          CODE_MOD_COMMENT_LINE  ...  \\\n",
       "commit_sha                                                       ...   \n",
       "e0b52079daeec08e5d349d686e217c8ba11c1f64                      0  ...   \n",
       "ddff0f642acbf650b53d1ddffe544900569ab983                      0  ...   \n",
       "57f2d7de58427a413c406ef0a5a4e120e3351620                      0  ...   \n",
       "b00e9fc227dc2ab1070326f29fbe9626702dfa67                      0  ...   \n",
       "c168a92f187943a401f6c4095b5abde44478d0c9                      0  ...   \n",
       "...                                                         ...  ...   \n",
       "defd45ccbadb7e0e347b1999d48fe354998ba37a                      1  ...   \n",
       "bd34203bc40d6a406dfac3ab6cb41f5dfed63a77                      0  ...   \n",
       "c3842edd8ea5da4626ffe6cb7f6c1965fa956757                      0  ...   \n",
       "2947b932624e4931333c08cfd9c111628bbd25e9                      0  ...   \n",
       "41838c8e8632ba78791996fbc697080b2764bb6a                      0  ...   \n",
       "\n",
       "                                          BUILD_DEL_LINE  BUILD_MOD_LINE  \\\n",
       "commit_sha                                                                 \n",
       "e0b52079daeec08e5d349d686e217c8ba11c1f64               0               0   \n",
       "ddff0f642acbf650b53d1ddffe544900569ab983               0               0   \n",
       "57f2d7de58427a413c406ef0a5a4e120e3351620               0               0   \n",
       "b00e9fc227dc2ab1070326f29fbe9626702dfa67               0               0   \n",
       "c168a92f187943a401f6c4095b5abde44478d0c9               0               0   \n",
       "...                                                  ...             ...   \n",
       "defd45ccbadb7e0e347b1999d48fe354998ba37a               0               0   \n",
       "bd34203bc40d6a406dfac3ab6cb41f5dfed63a77               0               0   \n",
       "c3842edd8ea5da4626ffe6cb7f6c1965fa956757               0               0   \n",
       "2947b932624e4931333c08cfd9c111628bbd25e9               0               0   \n",
       "41838c8e8632ba78791996fbc697080b2764bb6a               0               0   \n",
       "\n",
       "                                          DOC_CHANGE_FILE  DOC_ADD_LINE  \\\n",
       "commit_sha                                                                \n",
       "e0b52079daeec08e5d349d686e217c8ba11c1f64                0             0   \n",
       "ddff0f642acbf650b53d1ddffe544900569ab983                0             0   \n",
       "57f2d7de58427a413c406ef0a5a4e120e3351620                3             8   \n",
       "b00e9fc227dc2ab1070326f29fbe9626702dfa67                0             0   \n",
       "c168a92f187943a401f6c4095b5abde44478d0c9                1             0   \n",
       "...                                                   ...           ...   \n",
       "defd45ccbadb7e0e347b1999d48fe354998ba37a                0             0   \n",
       "bd34203bc40d6a406dfac3ab6cb41f5dfed63a77                0             0   \n",
       "c3842edd8ea5da4626ffe6cb7f6c1965fa956757                0             0   \n",
       "2947b932624e4931333c08cfd9c111628bbd25e9                0             0   \n",
       "41838c8e8632ba78791996fbc697080b2764bb6a                0             0   \n",
       "\n",
       "                                          DOC_DEL_LINE  DOC_MOD_LINE  \\\n",
       "commit_sha                                                             \n",
       "e0b52079daeec08e5d349d686e217c8ba11c1f64             0             0   \n",
       "ddff0f642acbf650b53d1ddffe544900569ab983             0             0   \n",
       "57f2d7de58427a413c406ef0a5a4e120e3351620             0             3   \n",
       "b00e9fc227dc2ab1070326f29fbe9626702dfa67             0             0   \n",
       "c168a92f187943a401f6c4095b5abde44478d0c9             0             1   \n",
       "...                                                ...           ...   \n",
       "defd45ccbadb7e0e347b1999d48fe354998ba37a             0             0   \n",
       "bd34203bc40d6a406dfac3ab6cb41f5dfed63a77             0             0   \n",
       "c3842edd8ea5da4626ffe6cb7f6c1965fa956757             0             0   \n",
       "2947b932624e4931333c08cfd9c111628bbd25e9             0             0   \n",
       "41838c8e8632ba78791996fbc697080b2764bb6a             0             0   \n",
       "\n",
       "                                          OTHER_CHANGE_FILE  OTHER_ADD_LINE  \\\n",
       "commit_sha                                                                    \n",
       "e0b52079daeec08e5d349d686e217c8ba11c1f64                  0               0   \n",
       "ddff0f642acbf650b53d1ddffe544900569ab983                  0               0   \n",
       "57f2d7de58427a413c406ef0a5a4e120e3351620                  0               0   \n",
       "b00e9fc227dc2ab1070326f29fbe9626702dfa67                  0               0   \n",
       "c168a92f187943a401f6c4095b5abde44478d0c9                  0               0   \n",
       "...                                                     ...             ...   \n",
       "defd45ccbadb7e0e347b1999d48fe354998ba37a                  0               0   \n",
       "bd34203bc40d6a406dfac3ab6cb41f5dfed63a77                  0               0   \n",
       "c3842edd8ea5da4626ffe6cb7f6c1965fa956757                  0               0   \n",
       "2947b932624e4931333c08cfd9c111628bbd25e9                  0               0   \n",
       "41838c8e8632ba78791996fbc697080b2764bb6a                  0               0   \n",
       "\n",
       "                                          OTHER_DEL_LINE  OTHER_MOD_LINE  \n",
       "commit_sha                                                                \n",
       "e0b52079daeec08e5d349d686e217c8ba11c1f64               0               0  \n",
       "ddff0f642acbf650b53d1ddffe544900569ab983               0               0  \n",
       "57f2d7de58427a413c406ef0a5a4e120e3351620               0               0  \n",
       "b00e9fc227dc2ab1070326f29fbe9626702dfa67               0               0  \n",
       "c168a92f187943a401f6c4095b5abde44478d0c9               0               0  \n",
       "...                                                  ...             ...  \n",
       "defd45ccbadb7e0e347b1999d48fe354998ba37a               0               0  \n",
       "bd34203bc40d6a406dfac3ab6cb41f5dfed63a77               0               0  \n",
       "c3842edd8ea5da4626ffe6cb7f6c1965fa956757               0               0  \n",
       "2947b932624e4931333c08cfd9c111628bbd25e9               0               0  \n",
       "41838c8e8632ba78791996fbc697080b2764bb6a               0               0  \n",
       "\n",
       "[1106 rows x 32 columns]"
      ]
     },
     "execution_count": 14,
     "metadata": {},
     "output_type": "execute_result"
    }
   ],
   "source": [
    "train"
   ]
  },
  {
   "cell_type": "code",
   "execution_count": 15,
   "id": "d9ede869-1587-4e42-8879-e819e5961dca",
   "metadata": {
    "execution": {
     "iopub.execute_input": "2025-08-24T11:59:44.960590Z",
     "iopub.status.busy": "2025-08-24T11:59:44.960414Z",
     "iopub.status.idle": "2025-08-24T11:59:44.963723Z",
     "shell.execute_reply": "2025-08-24T11:59:44.963075Z",
     "shell.execute_reply.started": "2025-08-24T11:59:44.960570Z"
    }
   },
   "outputs": [],
   "source": [
    "model_id = \"../../sentence-transformers/paraphrase-mpnet-base-v2\""
   ]
  },
  {
   "cell_type": "code",
   "execution_count": 16,
   "id": "a6501389-0c86-442d-85cf-f04ad146703f",
   "metadata": {
    "execution": {
     "iopub.execute_input": "2025-08-24T11:59:44.964629Z",
     "iopub.status.busy": "2025-08-24T11:59:44.964460Z",
     "iopub.status.idle": "2025-08-24T11:59:44.969533Z",
     "shell.execute_reply": "2025-08-24T11:59:44.968860Z",
     "shell.execute_reply.started": "2025-08-24T11:59:44.964610Z"
    }
   },
   "outputs": [],
   "source": [
    "def hp_space(trial: Trial) -> Dict[str, Union[float, int, str]]:\n",
    "    return {\n",
    "        \"learning_rate\": trial.suggest_float(\"learning_rate\", 1e-6, 1e-3, log=True),\n",
    "        # \"num_epochs\": trial.suggest_int(\"num_epochs\", 1, 3),\n",
    "        # \"batch_size\": trial.suggest_categorical(\"batch_size\", [8, 12, 16]),\n",
    "        # \"seed\": trial.suggest_int(\"seed\", 1, 40),\n",
    "        # \"num_iterations\": trial.suggest_int(\"num_iterations\", 10, 20),\n",
    "        # \"solver\": trial.suggest_categorical(\"solver\", [\"newton-cg\", \"lbfgs\", \"liblinear\"]),\n",
    "    }\n",
    "def model_init(params: Dict[str, Any]) -> CommitFitModel:\n",
    "    params = params or {}\n",
    "    # learning_rate = params.get(\"learning_rate\")\n",
    "    # num_iterations = params.get(\"num_iterations\", 20)\n",
    "    # solver = params.get(\"solver\", \"liblinear\")\n",
    "    # params = {\n",
    "    #     \"head_params\": {\n",
    "    #         # \"max_iter\": num_iterations,\n",
    "    #         # \"solver\": solver,\n",
    "    #     }\n",
    "    # }\n",
    "    return CommitFitModel.from_pretrained(model_id, **params)\n",
    "def my_compute_objective(metrics):\n",
    "    print('+++++++++++',metrics)\n",
    "    return  metrics['accuracy']"
   ]
  },
  {
   "cell_type": "code",
   "execution_count": 17,
   "id": "2244f079-c2b8-4e01-aca4-f68e7ce8accb",
   "metadata": {
    "execution": {
     "iopub.execute_input": "2025-08-24T11:59:44.970463Z",
     "iopub.status.busy": "2025-08-24T11:59:44.970287Z",
     "iopub.status.idle": "2025-08-24T12:48:30.230314Z",
     "shell.execute_reply": "2025-08-24T12:48:30.229475Z",
     "shell.execute_reply.started": "2025-08-24T11:59:44.970444Z"
    }
   },
   "outputs": [
    {
     "name": "stderr",
     "output_type": "stream",
     "text": [
      "model_head.pkl not found in /root/autodl-tmp/CommitFit/sentence-transformers/paraphrase-mpnet-base-v2, initialising classification head with random weights. You should TRAIN this model on a downstream task to use it for predictions and inference.\n",
      "[I 2025-08-24 19:59:46,079] A new study created in memory with name: no-name-1eb33e5e-a39a-4340-8290-3b3f0fcd779f\n",
      "Trial: {'learning_rate': 7.147687492687316e-05}\n",
      "model_head.pkl not found in /root/autodl-tmp/CommitFit/sentence-transformers/paraphrase-mpnet-base-v2, initialising classification head with random weights. You should TRAIN this model on a downstream task to use it for predictions and inference.\n"
     ]
    },
    {
     "data": {
      "application/vnd.jupyter.widget-view+json": {
       "model_id": "4b7595bc6aaf4a69946e1bd458086df1",
       "version_major": 2,
       "version_minor": 0
      },
      "text/plain": [
       "Generating Training Pairs:   0%|          | 0/20 [00:00<?, ?it/s]"
      ]
     },
     "metadata": {},
     "output_type": "display_data"
    },
    {
     "name": "stderr",
     "output_type": "stream",
     "text": [
      "***** Running training *****\n",
      "  Num examples = 45200\n",
      "  Num epochs = 1\n",
      "  Total optimization steps = 2825\n",
      "  Total train batch size = 16\n"
     ]
    },
    {
     "data": {
      "application/vnd.jupyter.widget-view+json": {
       "model_id": "f62ea00ecab14c219d3795d9f2f98ebc",
       "version_major": 2,
       "version_minor": 0
      },
      "text/plain": [
       "Epoch:   0%|          | 0/1 [00:00<?, ?it/s]"
      ]
     },
     "metadata": {},
     "output_type": "display_data"
    },
    {
     "data": {
      "application/vnd.jupyter.widget-view+json": {
       "model_id": "6863271e147d46dd8200c6bd53698296",
       "version_major": 2,
       "version_minor": 0
      },
      "text/plain": [
       "Iteration:   0%|          | 0/2825 [00:00<?, ?it/s]"
      ]
     },
     "metadata": {},
     "output_type": "display_data"
    },
    {
     "name": "stderr",
     "output_type": "stream",
     "text": [
      "***** Running evaluation *****\n",
      "[I 2025-08-24 20:09:32,124] Trial 0 finished with value: 0.8529 and parameters: {'learning_rate': 7.147687492687316e-05}. Best is trial 0 with value: 0.8529.\n",
      "Trial: {'learning_rate': 1.1147541000661474e-05}\n"
     ]
    },
    {
     "name": "stdout",
     "output_type": "stream",
     "text": [
      "+++++++++++ {'precision': 0.8534, 'recall': 0.8529, 'f1': 0.8514, 'accuracy': 0.8529}\n"
     ]
    },
    {
     "name": "stderr",
     "output_type": "stream",
     "text": [
      "model_head.pkl not found in /root/autodl-tmp/CommitFit/sentence-transformers/paraphrase-mpnet-base-v2, initialising classification head with random weights. You should TRAIN this model on a downstream task to use it for predictions and inference.\n"
     ]
    },
    {
     "data": {
      "application/vnd.jupyter.widget-view+json": {
       "model_id": "cc7870d7720244f9a14c71ca9caac85c",
       "version_major": 2,
       "version_minor": 0
      },
      "text/plain": [
       "Generating Training Pairs:   0%|          | 0/20 [00:00<?, ?it/s]"
      ]
     },
     "metadata": {},
     "output_type": "display_data"
    },
    {
     "name": "stderr",
     "output_type": "stream",
     "text": [
      "***** Running training *****\n",
      "  Num examples = 45200\n",
      "  Num epochs = 1\n",
      "  Total optimization steps = 2825\n",
      "  Total train batch size = 16\n"
     ]
    },
    {
     "data": {
      "application/vnd.jupyter.widget-view+json": {
       "model_id": "7fc717c30d354d34ac18243895906d5f",
       "version_major": 2,
       "version_minor": 0
      },
      "text/plain": [
       "Epoch:   0%|          | 0/1 [00:00<?, ?it/s]"
      ]
     },
     "metadata": {},
     "output_type": "display_data"
    },
    {
     "data": {
      "application/vnd.jupyter.widget-view+json": {
       "model_id": "7135a66602cd421f9ecd3e933696f5d4",
       "version_major": 2,
       "version_minor": 0
      },
      "text/plain": [
       "Iteration:   0%|          | 0/2825 [00:00<?, ?it/s]"
      ]
     },
     "metadata": {},
     "output_type": "display_data"
    },
    {
     "name": "stderr",
     "output_type": "stream",
     "text": [
      "***** Running evaluation *****\n",
      "[I 2025-08-24 20:19:16,732] Trial 1 finished with value: 0.8824 and parameters: {'learning_rate': 1.1147541000661474e-05}. Best is trial 1 with value: 0.8824.\n",
      "Trial: {'learning_rate': 8.044262952197825e-06}\n"
     ]
    },
    {
     "name": "stdout",
     "output_type": "stream",
     "text": [
      "+++++++++++ {'precision': 0.8869, 'recall': 0.8824, 'f1': 0.8838, 'accuracy': 0.8824}\n"
     ]
    },
    {
     "name": "stderr",
     "output_type": "stream",
     "text": [
      "model_head.pkl not found in /root/autodl-tmp/CommitFit/sentence-transformers/paraphrase-mpnet-base-v2, initialising classification head with random weights. You should TRAIN this model on a downstream task to use it for predictions and inference.\n"
     ]
    },
    {
     "data": {
      "application/vnd.jupyter.widget-view+json": {
       "model_id": "884c6785b01c4f6c9f08a32132166a5e",
       "version_major": 2,
       "version_minor": 0
      },
      "text/plain": [
       "Generating Training Pairs:   0%|          | 0/20 [00:00<?, ?it/s]"
      ]
     },
     "metadata": {},
     "output_type": "display_data"
    },
    {
     "name": "stderr",
     "output_type": "stream",
     "text": [
      "***** Running training *****\n",
      "  Num examples = 45200\n",
      "  Num epochs = 1\n",
      "  Total optimization steps = 2825\n",
      "  Total train batch size = 16\n"
     ]
    },
    {
     "data": {
      "application/vnd.jupyter.widget-view+json": {
       "model_id": "42c71753beff4951be8aab59972374be",
       "version_major": 2,
       "version_minor": 0
      },
      "text/plain": [
       "Epoch:   0%|          | 0/1 [00:00<?, ?it/s]"
      ]
     },
     "metadata": {},
     "output_type": "display_data"
    },
    {
     "data": {
      "application/vnd.jupyter.widget-view+json": {
       "model_id": "7e1e78e756fc4c709f8806684e24fad0",
       "version_major": 2,
       "version_minor": 0
      },
      "text/plain": [
       "Iteration:   0%|          | 0/2825 [00:00<?, ?it/s]"
      ]
     },
     "metadata": {},
     "output_type": "display_data"
    },
    {
     "name": "stderr",
     "output_type": "stream",
     "text": [
      "***** Running evaluation *****\n",
      "[I 2025-08-24 20:29:01,318] Trial 2 finished with value: 0.8655 and parameters: {'learning_rate': 8.044262952197825e-06}. Best is trial 1 with value: 0.8824.\n",
      "Trial: {'learning_rate': 1.942075418044471e-06}\n"
     ]
    },
    {
     "name": "stdout",
     "output_type": "stream",
     "text": [
      "+++++++++++ {'precision': 0.8729, 'recall': 0.8655, 'f1': 0.8677, 'accuracy': 0.8655}\n"
     ]
    },
    {
     "name": "stderr",
     "output_type": "stream",
     "text": [
      "model_head.pkl not found in /root/autodl-tmp/CommitFit/sentence-transformers/paraphrase-mpnet-base-v2, initialising classification head with random weights. You should TRAIN this model on a downstream task to use it for predictions and inference.\n"
     ]
    },
    {
     "data": {
      "application/vnd.jupyter.widget-view+json": {
       "model_id": "024a8f966a31475fb31822bb76311384",
       "version_major": 2,
       "version_minor": 0
      },
      "text/plain": [
       "Generating Training Pairs:   0%|          | 0/20 [00:00<?, ?it/s]"
      ]
     },
     "metadata": {},
     "output_type": "display_data"
    },
    {
     "name": "stderr",
     "output_type": "stream",
     "text": [
      "***** Running training *****\n",
      "  Num examples = 45200\n",
      "  Num epochs = 1\n",
      "  Total optimization steps = 2825\n",
      "  Total train batch size = 16\n"
     ]
    },
    {
     "data": {
      "application/vnd.jupyter.widget-view+json": {
       "model_id": "3f9d69ad21bc424188a75ad3af5f72e1",
       "version_major": 2,
       "version_minor": 0
      },
      "text/plain": [
       "Epoch:   0%|          | 0/1 [00:00<?, ?it/s]"
      ]
     },
     "metadata": {},
     "output_type": "display_data"
    },
    {
     "data": {
      "application/vnd.jupyter.widget-view+json": {
       "model_id": "a6885b4d2f0240348be8b321496d7665",
       "version_major": 2,
       "version_minor": 0
      },
      "text/plain": [
       "Iteration:   0%|          | 0/2825 [00:00<?, ?it/s]"
      ]
     },
     "metadata": {},
     "output_type": "display_data"
    },
    {
     "name": "stderr",
     "output_type": "stream",
     "text": [
      "***** Running evaluation *****\n",
      "[I 2025-08-24 20:38:45,318] Trial 3 finished with value: 0.8697 and parameters: {'learning_rate': 1.942075418044471e-06}. Best is trial 1 with value: 0.8824.\n",
      "Trial: {'learning_rate': 5.080734011765472e-06}\n"
     ]
    },
    {
     "name": "stdout",
     "output_type": "stream",
     "text": [
      "+++++++++++ {'precision': 0.8708, 'recall': 0.8697, 'f1': 0.8697, 'accuracy': 0.8697}\n"
     ]
    },
    {
     "name": "stderr",
     "output_type": "stream",
     "text": [
      "model_head.pkl not found in /root/autodl-tmp/CommitFit/sentence-transformers/paraphrase-mpnet-base-v2, initialising classification head with random weights. You should TRAIN this model on a downstream task to use it for predictions and inference.\n"
     ]
    },
    {
     "data": {
      "application/vnd.jupyter.widget-view+json": {
       "model_id": "1eca2125c97e4adf8936119bb2d077ef",
       "version_major": 2,
       "version_minor": 0
      },
      "text/plain": [
       "Generating Training Pairs:   0%|          | 0/20 [00:00<?, ?it/s]"
      ]
     },
     "metadata": {},
     "output_type": "display_data"
    },
    {
     "name": "stderr",
     "output_type": "stream",
     "text": [
      "***** Running training *****\n",
      "  Num examples = 45200\n",
      "  Num epochs = 1\n",
      "  Total optimization steps = 2825\n",
      "  Total train batch size = 16\n"
     ]
    },
    {
     "data": {
      "application/vnd.jupyter.widget-view+json": {
       "model_id": "1ba68eb7e70846b6bad7fc7629a77902",
       "version_major": 2,
       "version_minor": 0
      },
      "text/plain": [
       "Epoch:   0%|          | 0/1 [00:00<?, ?it/s]"
      ]
     },
     "metadata": {},
     "output_type": "display_data"
    },
    {
     "data": {
      "application/vnd.jupyter.widget-view+json": {
       "model_id": "a9dc5c0fe74f42b0b20016a9dda2d90a",
       "version_major": 2,
       "version_minor": 0
      },
      "text/plain": [
       "Iteration:   0%|          | 0/2825 [00:00<?, ?it/s]"
      ]
     },
     "metadata": {},
     "output_type": "display_data"
    },
    {
     "name": "stderr",
     "output_type": "stream",
     "text": [
      "***** Running evaluation *****\n",
      "[I 2025-08-24 20:48:30,226] Trial 4 finished with value: 0.8655 and parameters: {'learning_rate': 5.080734011765472e-06}. Best is trial 1 with value: 0.8824.\n"
     ]
    },
    {
     "name": "stdout",
     "output_type": "stream",
     "text": [
      "+++++++++++ {'precision': 0.8743, 'recall': 0.8655, 'f1': 0.8683, 'accuracy': 0.8655}\n"
     ]
    }
   ],
   "source": [
    "trainer = CommitFitTrainer(\n",
    "    train_dataset=train_dataset,\n",
    "    train_code_change = train_code_change,\n",
    "    test_code_change = test_code_change,\n",
    "    eval_dataset=test_dataset,\n",
    "    model_init=model_init,\n",
    "    metric = compute_metrics,\n",
    "    num_iterations=20,\n",
    "    num_epochs=1\n",
    ")\n",
    "best_run = trainer.hyperparameter_search(direction=\"maximize\", hp_space=hp_space, compute_objective=my_compute_objective, n_trials=5)"
   ]
  },
  {
   "cell_type": "code",
   "execution_count": 18,
   "id": "91deb34e-2ef0-4f00-b6e7-7ffd18605c52",
   "metadata": {
    "execution": {
     "iopub.execute_input": "2025-08-24T12:48:30.231592Z",
     "iopub.status.busy": "2025-08-24T12:48:30.231230Z",
     "iopub.status.idle": "2025-08-24T12:48:30.236660Z",
     "shell.execute_reply": "2025-08-24T12:48:30.236004Z",
     "shell.execute_reply.started": "2025-08-24T12:48:30.231569Z"
    }
   },
   "outputs": [
    {
     "data": {
      "text/plain": [
       "BestRun(run_id='1', objective=0.8824, hyperparameters={'learning_rate': 1.1147541000661474e-05}, backend=<optuna.study.study.Study object at 0x7f04f26919c0>)"
      ]
     },
     "execution_count": 18,
     "metadata": {},
     "output_type": "execute_result"
    }
   ],
   "source": [
    "best_run"
   ]
  },
  {
   "cell_type": "code",
   "execution_count": 19,
   "id": "40cfde46-c7d5-4446-8b53-7ad4dc8edb66",
   "metadata": {
    "execution": {
     "iopub.execute_input": "2025-08-24T12:48:30.237736Z",
     "iopub.status.busy": "2025-08-24T12:48:30.237401Z",
     "iopub.status.idle": "2025-08-24T12:48:30.286657Z",
     "shell.execute_reply": "2025-08-24T12:48:30.285703Z",
     "shell.execute_reply.started": "2025-08-24T12:48:30.237715Z"
    }
   },
   "outputs": [
    {
     "data": {
      "text/plain": [
       "{'learning_rate': 1.1147541000661474e-05}"
      ]
     },
     "execution_count": 19,
     "metadata": {},
     "output_type": "execute_result"
    }
   ],
   "source": [
    "best_run.hyperparameters"
   ]
  },
  {
   "cell_type": "code",
   "execution_count": 20,
   "id": "ae735a8b-c672-4dce-822c-61330c34481b",
   "metadata": {
    "execution": {
     "iopub.execute_input": "2025-08-24T12:48:30.287666Z",
     "iopub.status.busy": "2025-08-24T12:48:30.287482Z",
     "iopub.status.idle": "2025-08-24T12:58:16.939107Z",
     "shell.execute_reply": "2025-08-24T12:58:16.938071Z",
     "shell.execute_reply.started": "2025-08-24T12:48:30.287645Z"
    }
   },
   "outputs": [
    {
     "name": "stderr",
     "output_type": "stream",
     "text": [
      "model_head.pkl not found in /root/autodl-tmp/CommitFit/sentence-transformers/paraphrase-mpnet-base-v2, initialising classification head with random weights. You should TRAIN this model on a downstream task to use it for predictions and inference.\n"
     ]
    },
    {
     "data": {
      "application/vnd.jupyter.widget-view+json": {
       "model_id": "3f7adb387b6d441b84f1167dc527ea98",
       "version_major": 2,
       "version_minor": 0
      },
      "text/plain": [
       "Generating Training Pairs:   0%|          | 0/20 [00:00<?, ?it/s]"
      ]
     },
     "metadata": {},
     "output_type": "display_data"
    },
    {
     "name": "stderr",
     "output_type": "stream",
     "text": [
      "***** Running training *****\n",
      "  Num examples = 45200\n",
      "  Num epochs = 1\n",
      "  Total optimization steps = 2825\n",
      "  Total train batch size = 16\n"
     ]
    },
    {
     "data": {
      "application/vnd.jupyter.widget-view+json": {
       "model_id": "51f8a08871b448f7a1ebe79ddb8d7669",
       "version_major": 2,
       "version_minor": 0
      },
      "text/plain": [
       "Epoch:   0%|          | 0/1 [00:00<?, ?it/s]"
      ]
     },
     "metadata": {},
     "output_type": "display_data"
    },
    {
     "data": {
      "application/vnd.jupyter.widget-view+json": {
       "model_id": "a642e302514346aeba8c95a606174e3a",
       "version_major": 2,
       "version_minor": 0
      },
      "text/plain": [
       "Iteration:   0%|          | 0/2825 [00:00<?, ?it/s]"
      ]
     },
     "metadata": {},
     "output_type": "display_data"
    }
   ],
   "source": [
    "trainer.apply_hyperparameters(best_run.hyperparameters, final_model=True)\n",
    "trainer.train()"
   ]
  },
  {
   "cell_type": "code",
   "execution_count": 21,
   "id": "166dcf9b-a0bd-4b60-854c-c6535c22a111",
   "metadata": {
    "execution": {
     "iopub.execute_input": "2025-08-24T12:58:16.940490Z",
     "iopub.status.busy": "2025-08-24T12:58:16.940288Z",
     "iopub.status.idle": "2025-08-24T12:58:21.799627Z",
     "shell.execute_reply": "2025-08-24T12:58:21.798851Z",
     "shell.execute_reply.started": "2025-08-24T12:58:16.940464Z"
    }
   },
   "outputs": [
    {
     "name": "stderr",
     "output_type": "stream",
     "text": [
      "***** Running evaluation *****\n"
     ]
    },
    {
     "data": {
      "text/plain": [
       "{'precision': 0.8748, 'recall': 0.8697, 'f1': 0.8713, 'accuracy': 0.8697}"
      ]
     },
     "execution_count": 21,
     "metadata": {},
     "output_type": "execute_result"
    }
   ],
   "source": [
    "fewshot_metrics = trainer.evaluate()\n",
    "fewshot_metrics"
   ]
  },
  {
   "cell_type": "code",
   "execution_count": 22,
   "id": "af21aba7-66cd-4762-b5d4-6d27650bba7e",
   "metadata": {
    "execution": {
     "iopub.execute_input": "2025-08-24T12:58:21.802902Z",
     "iopub.status.busy": "2025-08-24T12:58:21.802567Z",
     "iopub.status.idle": "2025-08-24T12:58:22.825769Z",
     "shell.execute_reply": "2025-08-24T12:58:22.824456Z",
     "shell.execute_reply.started": "2025-08-24T12:58:21.802878Z"
    }
   },
   "outputs": [
    {
     "name": "stdout",
     "output_type": "stream",
     "text": [
      "强化学习模型训练完毕\n"
     ]
    }
   ],
   "source": [
    "#发送多种类型的邮件\n",
    "from email.mime.multipart import MIMEMultipart\n",
    "import smtplib\n",
    "\n",
    "from email.mime.text import MIMEText\n",
    "msg_from = '915803745@qq.com'  # 发送方邮箱\n",
    "passwd = 'vcuosuurrgkfbdai'   #就是上面的授权码\n",
    " \n",
    "# to= ['g.zhang@gotion.com', 'j.tong@gotion.com'] #接受方邮箱\n",
    "to= ['j.tong@gotion.com'] #接受方邮箱\n",
    "#设置邮件内容\n",
    "#MIMEMultipart类可以放任何内容\n",
    "msg = MIMEMultipart()\n",
    "conntent=f\"{fewshot_metrics}\"\n",
    "#把内容加进去\n",
    "msg.attach(MIMEText(conntent,'plain','utf-8'))\n",
    " \n",
    "#设置邮件主题\n",
    "msg['Subject']=\"强化学习模型训练完毕\"\n",
    " \n",
    "#发送方信息\n",
    "msg['From']=msg_from\n",
    " \n",
    "#开始发送\n",
    " \n",
    "#通过SSL方式发送，服务器地址和端口\n",
    "s = smtplib.SMTP_SSL(\"smtp.qq.com\", 465)\n",
    "# 登录邮箱\n",
    "s.login(msg_from, passwd)\n",
    "#开始发送\n",
    "s.sendmail(msg_from,to,msg.as_string())\n",
    "print(\"强化学习模型训练完毕\")"
   ]
  },
  {
   "cell_type": "code",
   "execution_count": null,
   "id": "025b5144-4d11-4fae-b716-5cb039470225",
   "metadata": {},
   "outputs": [],
   "source": []
  }
 ],
 "metadata": {
  "kernelspec": {
   "display_name": "Python 3 (ipykernel)",
   "language": "python",
   "name": "python3"
  },
  "language_info": {
   "codemirror_mode": {
    "name": "ipython",
    "version": 3
   },
   "file_extension": ".py",
   "mimetype": "text/x-python",
   "name": "python",
   "nbconvert_exporter": "python",
   "pygments_lexer": "ipython3",
   "version": "3.10.8"
  }
 },
 "nbformat": 4,
 "nbformat_minor": 5
}
