{
 "cells": [
  {
   "cell_type": "code",
   "execution_count": 1,
   "id": "77d93e6a-106b-4abd-87e7-1243d4c51126",
   "metadata": {
    "execution": {
     "iopub.execute_input": "2025-08-30T01:33:45.803370Z",
     "iopub.status.busy": "2025-08-30T01:33:45.803153Z",
     "iopub.status.idle": "2025-08-30T01:33:48.999686Z",
     "shell.execute_reply": "2025-08-30T01:33:48.999047Z",
     "shell.execute_reply.started": "2025-08-30T01:33:45.803344Z"
    }
   },
   "outputs": [
    {
     "name": "stdout",
     "output_type": "stream",
     "text": [
      "\n",
      "root\n",
      "autodl-tmp\n",
      "CommitFit\n"
     ]
    }
   ],
   "source": [
    "# !pip install transformers accelerate\n",
    "# from transformers import AutoTokenizer, AutoModel, EarlyStoppingCallback, AutoModelForSequenceClassification, AutoConfig,Trainer, TrainingArguments,DataCollatorWithPadding\n",
    "import torch\n",
    "import numpy as np\n",
    "import pandas as pd\n",
    "# !pip install datasets\n",
    "from datasets import Dataset\n",
    "# %pip install evaluate\n",
    "import evaluate\n",
    "from sklearn.model_selection import train_test_split\n",
    "# from ipywidgets import FloatProgress\n",
    "import csv\n",
    "from optuna import Trial\n",
    "from typing import Dict, Union, Any\n",
    "import os\n",
    "import sys\n",
    "\n",
    "# notebook_login()\n",
    "\n",
    "csv.field_size_limit(500 * 1024 * 1024)\n",
    "CUDA_LAUNCH_BLOCKING=1\n",
    "# get pwd\n",
    "notebook_path = os.path.abspath('')\n",
    "\n",
    "# Find the part of the path that contains 'commitFit'\n",
    "commit_fit_path = None\n",
    "for part in notebook_path.split(os.sep):\n",
    "    print(part)\n",
    "    if 'CommitFit' in part:\n",
    "        commit_fit_path = notebook_path.split(part)[0] + part\n",
    "        break\n",
    "\n",
    "if commit_fit_path is None:\n",
    "    raise ValueError(\"Path containing 'commitFit' not found in notebook path.\")\n",
    "\n",
    "# Add commitFit directory to Python path, so we can import moudule from commitfit folder directly\n",
    "if commit_fit_path not in sys.path:\n",
    "    sys.path.append(commit_fit_path)\n",
    "\n",
    "from commitfit import CommitFitModel, CommitFitTrainer \n",
    "from commitfit import get_templated_dataset,sample_dataset"
   ]
  },
  {
   "cell_type": "code",
   "execution_count": 2,
   "id": "9ef5359f-9526-4d19-a2da-7988dc1ea04f",
   "metadata": {
    "execution": {
     "iopub.execute_input": "2025-08-30T01:33:49.001255Z",
     "iopub.status.busy": "2025-08-30T01:33:49.000925Z",
     "iopub.status.idle": "2025-08-30T01:33:49.358802Z",
     "shell.execute_reply": "2025-08-30T01:33:49.358254Z",
     "shell.execute_reply.started": "2025-08-30T01:33:49.001230Z"
    }
   },
   "outputs": [
    {
     "name": "stderr",
     "output_type": "stream",
     "text": [
      "/tmp/ipykernel_5164/947145482.py:6: FutureWarning: Downcasting behavior in `replace` is deprecated and will be removed in a future version. To retain the old behavior, explicitly call `result.infer_objects(copy=False)`. To opt-in to the future behavior, set `pd.set_option('future.no_silent_downcasting', True)`\n",
      "  df = df.replace({\"label\": label2id})\n"
     ]
    },
    {
     "data": {
      "text/html": [
       "<div>\n",
       "<style scoped>\n",
       "    .dataframe tbody tr th:only-of-type {\n",
       "        vertical-align: middle;\n",
       "    }\n",
       "\n",
       "    .dataframe tbody tr th {\n",
       "        vertical-align: top;\n",
       "    }\n",
       "\n",
       "    .dataframe thead th {\n",
       "        text-align: right;\n",
       "    }\n",
       "</style>\n",
       "<table border=\"1\" class=\"dataframe\">\n",
       "  <thead>\n",
       "    <tr style=\"text-align: right;\">\n",
       "      <th></th>\n",
       "      <th>language</th>\n",
       "      <th>commit</th>\n",
       "      <th>commit_url</th>\n",
       "      <th>label</th>\n",
       "      <th>user</th>\n",
       "      <th>repo</th>\n",
       "      <th>feature</th>\n",
       "      <th>diffs</th>\n",
       "      <th>text</th>\n",
       "    </tr>\n",
       "  </thead>\n",
       "  <tbody>\n",
       "    <tr>\n",
       "      <th>0</th>\n",
       "      <td>C++</td>\n",
       "      <td>be937a3290223f926fe50684f1344569a573ed4b</td>\n",
       "      <td>https://github.com/tensorflow/tensorflow/commi...</td>\n",
       "      <td>0</td>\n",
       "      <td>tensorflow</td>\n",
       "      <td>tensorflow</td>\n",
       "      <td>[1, 0, 0, 1, 1, 0, 0, 1, 0, 0, 0, 0, 0, 0, 6, ...</td>\n",
       "      <td>diff --git a/tensorflow/compiler/mlir/lite/fla...</td>\n",
       "      <td>Fixing per axis quantization bug in flatbuffer...</td>\n",
       "    </tr>\n",
       "    <tr>\n",
       "      <th>1</th>\n",
       "      <td>C++</td>\n",
       "      <td>c800d2e36954edddcb83aa1df7f623f2780c7780</td>\n",
       "      <td>https://github.com/tensorflow/tensorflow/commi...</td>\n",
       "      <td>1</td>\n",
       "      <td>tensorflow</td>\n",
       "      <td>tensorflow</td>\n",
       "      <td>[0, 0, 0, 0, 0, 0, 0, 0, 0, 0, 0, 0, 0, 0, 0, ...</td>\n",
       "      <td>diff --git a/tensorflow/python/tools/saved_mod...</td>\n",
       "      <td>Add support for python expression as SavedMode...</td>\n",
       "    </tr>\n",
       "    <tr>\n",
       "      <th>2</th>\n",
       "      <td>C++</td>\n",
       "      <td>469e56eeff17eb857c95e935ca7b49723c43470e</td>\n",
       "      <td>https://github.com/tensorflow/tensorflow/commi...</td>\n",
       "      <td>2</td>\n",
       "      <td>tensorflow</td>\n",
       "      <td>tensorflow</td>\n",
       "      <td>[0, 0, 0, 0, 0, 0, 0, 0, 0, 0, 0, 0, 0, 0, 0, ...</td>\n",
       "      <td>diff --git a/.github/ISSUE_TEMPLATE/00-bug-iss...</td>\n",
       "      <td>Fix GitHub issue templates. Actual fix for #36...</td>\n",
       "    </tr>\n",
       "    <tr>\n",
       "      <th>3</th>\n",
       "      <td>C++</td>\n",
       "      <td>24f5d302c0906f3377f4d6bcc2735d943ce13e3d</td>\n",
       "      <td>https://github.com/tensorflow/tensorflow/commi...</td>\n",
       "      <td>1</td>\n",
       "      <td>tensorflow</td>\n",
       "      <td>tensorflow</td>\n",
       "      <td>[3, 37, 0, 0, 9, 0, 0, 0, 0, 0, 0, 0, 0, 0, 0,...</td>\n",
       "      <td>diff --git a/tensorflow/compiler/xla/pjrt/dist...</td>\n",
       "      <td>Add new PjRT distributed APIs (KeyValueDelete,...</td>\n",
       "    </tr>\n",
       "    <tr>\n",
       "      <th>4</th>\n",
       "      <td>C++</td>\n",
       "      <td>1effdb7b959503596b07f7f3e74618ab63f9e5e5</td>\n",
       "      <td>https://github.com/tensorflow/tensorflow/commi...</td>\n",
       "      <td>2</td>\n",
       "      <td>tensorflow</td>\n",
       "      <td>tensorflow</td>\n",
       "      <td>[1, 0, 12, 0, 0, 1, 0, 0, 0, 0, 0, 0, 0, 0, 0,...</td>\n",
       "      <td>diff --git a/tensorflow/core/common_runtime/ea...</td>\n",
       "      <td>Remove IsLocalDevice() since it's no longer us...</td>\n",
       "    </tr>\n",
       "    <tr>\n",
       "      <th>...</th>\n",
       "      <td>...</td>\n",
       "      <td>...</td>\n",
       "      <td>...</td>\n",
       "      <td>...</td>\n",
       "      <td>...</td>\n",
       "      <td>...</td>\n",
       "      <td>...</td>\n",
       "      <td>...</td>\n",
       "      <td>...</td>\n",
       "    </tr>\n",
       "    <tr>\n",
       "      <th>1576</th>\n",
       "      <td>Java</td>\n",
       "      <td>e4bbfd537a63a52a6094491504fc7b0bb54bcb0e</td>\n",
       "      <td>NaN</td>\n",
       "      <td>0</td>\n",
       "      <td>kiegroup</td>\n",
       "      <td>drools</td>\n",
       "      <td>[1, 0, 0, 1, 0, 0, 0, 0, 0, 0, 0, 0, 0, 0, 0, ...</td>\n",
       "      <td>diff --git a/drools-persistence-jpa/src/main/j...</td>\n",
       "      <td>fixing reflection constructor to use int inste...</td>\n",
       "    </tr>\n",
       "    <tr>\n",
       "      <th>1577</th>\n",
       "      <td>Java</td>\n",
       "      <td>75b81dcbd26a11d5b370ea5bdf102c2d62ebd0c3</td>\n",
       "      <td>NaN</td>\n",
       "      <td>0</td>\n",
       "      <td>kiegroup</td>\n",
       "      <td>drools</td>\n",
       "      <td>[2, 6, 2, 3, 0, 0, 0, 1, 7, 0, 0, 0, 0, 0, 0, ...</td>\n",
       "      <td>diff --git a/drools-compiler/src/main/java/org...</td>\n",
       "      <td>Fix OutOfBoundException on- MemoryFileSystem.e...</td>\n",
       "    </tr>\n",
       "    <tr>\n",
       "      <th>1578</th>\n",
       "      <td>Java</td>\n",
       "      <td>6bc9677bbe919cd5bcadd8af2f5b0c838757a4ce</td>\n",
       "      <td>NaN</td>\n",
       "      <td>0</td>\n",
       "      <td>kiegroup</td>\n",
       "      <td>drools</td>\n",
       "      <td>[1, 1, 5, 13, 0, 0, 0, 0, 0, 0, 0, 0, 0, 0, 0,...</td>\n",
       "      <td>diff --git a/drools-core/src/main/java/org/dro...</td>\n",
       "      <td>[DROOLS-293] fix ObjectTypeNode id creation an...</td>\n",
       "    </tr>\n",
       "    <tr>\n",
       "      <th>1579</th>\n",
       "      <td>Java</td>\n",
       "      <td>48701edad8513b27acec7216581e64637157c86a</td>\n",
       "      <td>NaN</td>\n",
       "      <td>1</td>\n",
       "      <td>kiegroup</td>\n",
       "      <td>drools</td>\n",
       "      <td>[2, 24, 2, 4, 3, 0, 0, 0, 0, 0, 0, 0, 0, 0, 0,...</td>\n",
       "      <td>diff --git a/drools-core/src/main/java/org/dro...</td>\n",
       "      <td>DROOLS-515 Kie-Camel is broken after Camel Upd...</td>\n",
       "    </tr>\n",
       "    <tr>\n",
       "      <th>1580</th>\n",
       "      <td>Java</td>\n",
       "      <td>45529d30d41b8de338dfc2d26b61d1a79113c766</td>\n",
       "      <td>NaN</td>\n",
       "      <td>1</td>\n",
       "      <td>kiegroup</td>\n",
       "      <td>drools</td>\n",
       "      <td>[1, 10, 0, 0, 0, 0, 0, 1, 60, 0, 0, 1, 0, 0, 0...</td>\n",
       "      <td>diff --git a/drools-compiler/src/test/java/org...</td>\n",
       "      <td>JBRULES-2934 Add NewRegisterWorkItemHandlerCom...</td>\n",
       "    </tr>\n",
       "  </tbody>\n",
       "</table>\n",
       "<p>1581 rows × 9 columns</p>\n",
       "</div>"
      ],
      "text/plain": [
       "     language                                    commit  \\\n",
       "0         C++  be937a3290223f926fe50684f1344569a573ed4b   \n",
       "1         C++  c800d2e36954edddcb83aa1df7f623f2780c7780   \n",
       "2         C++  469e56eeff17eb857c95e935ca7b49723c43470e   \n",
       "3         C++  24f5d302c0906f3377f4d6bcc2735d943ce13e3d   \n",
       "4         C++  1effdb7b959503596b07f7f3e74618ab63f9e5e5   \n",
       "...       ...                                       ...   \n",
       "1576     Java  e4bbfd537a63a52a6094491504fc7b0bb54bcb0e   \n",
       "1577     Java  75b81dcbd26a11d5b370ea5bdf102c2d62ebd0c3   \n",
       "1578     Java  6bc9677bbe919cd5bcadd8af2f5b0c838757a4ce   \n",
       "1579     Java  48701edad8513b27acec7216581e64637157c86a   \n",
       "1580     Java  45529d30d41b8de338dfc2d26b61d1a79113c766   \n",
       "\n",
       "                                             commit_url  label        user  \\\n",
       "0     https://github.com/tensorflow/tensorflow/commi...      0  tensorflow   \n",
       "1     https://github.com/tensorflow/tensorflow/commi...      1  tensorflow   \n",
       "2     https://github.com/tensorflow/tensorflow/commi...      2  tensorflow   \n",
       "3     https://github.com/tensorflow/tensorflow/commi...      1  tensorflow   \n",
       "4     https://github.com/tensorflow/tensorflow/commi...      2  tensorflow   \n",
       "...                                                 ...    ...         ...   \n",
       "1576                                                NaN      0    kiegroup   \n",
       "1577                                                NaN      0    kiegroup   \n",
       "1578                                                NaN      0    kiegroup   \n",
       "1579                                                NaN      1    kiegroup   \n",
       "1580                                                NaN      1    kiegroup   \n",
       "\n",
       "            repo                                            feature  \\\n",
       "0     tensorflow  [1, 0, 0, 1, 1, 0, 0, 1, 0, 0, 0, 0, 0, 0, 6, ...   \n",
       "1     tensorflow  [0, 0, 0, 0, 0, 0, 0, 0, 0, 0, 0, 0, 0, 0, 0, ...   \n",
       "2     tensorflow  [0, 0, 0, 0, 0, 0, 0, 0, 0, 0, 0, 0, 0, 0, 0, ...   \n",
       "3     tensorflow  [3, 37, 0, 0, 9, 0, 0, 0, 0, 0, 0, 0, 0, 0, 0,...   \n",
       "4     tensorflow  [1, 0, 12, 0, 0, 1, 0, 0, 0, 0, 0, 0, 0, 0, 0,...   \n",
       "...          ...                                                ...   \n",
       "1576      drools  [1, 0, 0, 1, 0, 0, 0, 0, 0, 0, 0, 0, 0, 0, 0, ...   \n",
       "1577      drools  [2, 6, 2, 3, 0, 0, 0, 1, 7, 0, 0, 0, 0, 0, 0, ...   \n",
       "1578      drools  [1, 1, 5, 13, 0, 0, 0, 0, 0, 0, 0, 0, 0, 0, 0,...   \n",
       "1579      drools  [2, 24, 2, 4, 3, 0, 0, 0, 0, 0, 0, 0, 0, 0, 0,...   \n",
       "1580      drools  [1, 10, 0, 0, 0, 0, 0, 1, 60, 0, 0, 1, 0, 0, 0...   \n",
       "\n",
       "                                                  diffs  \\\n",
       "0     diff --git a/tensorflow/compiler/mlir/lite/fla...   \n",
       "1     diff --git a/tensorflow/python/tools/saved_mod...   \n",
       "2     diff --git a/.github/ISSUE_TEMPLATE/00-bug-iss...   \n",
       "3     diff --git a/tensorflow/compiler/xla/pjrt/dist...   \n",
       "4     diff --git a/tensorflow/core/common_runtime/ea...   \n",
       "...                                                 ...   \n",
       "1576  diff --git a/drools-persistence-jpa/src/main/j...   \n",
       "1577  diff --git a/drools-compiler/src/main/java/org...   \n",
       "1578  diff --git a/drools-core/src/main/java/org/dro...   \n",
       "1579  diff --git a/drools-core/src/main/java/org/dro...   \n",
       "1580  diff --git a/drools-compiler/src/test/java/org...   \n",
       "\n",
       "                                                   text  \n",
       "0     Fixing per axis quantization bug in flatbuffer...  \n",
       "1     Add support for python expression as SavedMode...  \n",
       "2     Fix GitHub issue templates. Actual fix for #36...  \n",
       "3     Add new PjRT distributed APIs (KeyValueDelete,...  \n",
       "4     Remove IsLocalDevice() since it's no longer us...  \n",
       "...                                                 ...  \n",
       "1576  fixing reflection constructor to use int inste...  \n",
       "1577  Fix OutOfBoundException on- MemoryFileSystem.e...  \n",
       "1578  [DROOLS-293] fix ObjectTypeNode id creation an...  \n",
       "1579  DROOLS-515 Kie-Camel is broken after Camel Upd...  \n",
       "1580  JBRULES-2934 Add NewRegisterWorkItemHandlerCom...  \n",
       "\n",
       "[1581 rows x 9 columns]"
      ]
     },
     "execution_count": 2,
     "metadata": {},
     "output_type": "execute_result"
    }
   ],
   "source": [
    "df = pd.read_csv(r'/root/autodl-tmp/CommitFit/dataset/multi-lang-exp/dataset.csv', index_col=0, encoding='utf_8_sig')\n",
    "# df.fillna('', inplace=True)\n",
    "label2id={'C':0, 'A':1, 'P':2}\n",
    "# df.reset_index(inplace=True)\n",
    "df = df.rename(columns={'maintenance_type':'label','msgs':'text','commit_diff':'diffs'})\n",
    "df = df.replace({\"label\": label2id})\n",
    "# df = df['diffs']\n",
    "# # print(df)\n",
    "\n",
    "df\n",
    "# test_sample = df.sample(n=3, random_state=1)"
   ]
  },
  {
   "cell_type": "code",
   "execution_count": 3,
   "id": "26803da1-da52-48a7-8040-70914c05f2ea",
   "metadata": {
    "execution": {
     "iopub.execute_input": "2025-08-30T01:33:49.360321Z",
     "iopub.status.busy": "2025-08-30T01:33:49.359666Z",
     "iopub.status.idle": "2025-08-30T01:33:49.366357Z",
     "shell.execute_reply": "2025-08-30T01:33:49.365470Z",
     "shell.execute_reply.started": "2025-08-30T01:33:49.360283Z"
    }
   },
   "outputs": [],
   "source": [
    "train, temp_df = train_test_split(df, test_size=0.3, random_state=42)\n",
    "val_df, test = train_test_split(temp_df, test_size=0.5, random_state=42)"
   ]
  },
  {
   "cell_type": "code",
   "execution_count": 4,
   "id": "8832a7a5-8f6d-4871-a732-bf25dc1aed25",
   "metadata": {
    "execution": {
     "iopub.execute_input": "2025-08-30T01:33:49.367770Z",
     "iopub.status.busy": "2025-08-30T01:33:49.367443Z",
     "iopub.status.idle": "2025-08-30T01:33:49.377424Z",
     "shell.execute_reply": "2025-08-30T01:33:49.376566Z",
     "shell.execute_reply.started": "2025-08-30T01:33:49.367735Z"
    }
   },
   "outputs": [
    {
     "name": "stderr",
     "output_type": "stream",
     "text": [
      "/tmp/ipykernel_5164/2088339219.py:1: DeprecationWarning: DataFrameGroupBy.apply operated on the grouping columns. This behavior is deprecated, and in a future version of pandas the grouping columns will be excluded from the operation. Either pass `include_groups=False` to exclude the groupings or explicitly select the grouping columns after groupby to silence this warning.\n",
      "  train = train.groupby(\"label\", group_keys=False).apply(lambda x: x.sample(n=50, random_state=42))\n"
     ]
    }
   ],
   "source": [
    "train = train.groupby(\"label\", group_keys=False).apply(lambda x: x.sample(n=50, random_state=42))"
   ]
  },
  {
   "cell_type": "code",
   "execution_count": 5,
   "id": "243bb57b-77dc-4174-b13a-568dcdd8df38",
   "metadata": {
    "execution": {
     "iopub.execute_input": "2025-08-30T01:33:49.380603Z",
     "iopub.status.busy": "2025-08-30T01:33:49.380012Z",
     "iopub.status.idle": "2025-08-30T01:33:49.396177Z",
     "shell.execute_reply": "2025-08-30T01:33:49.395580Z",
     "shell.execute_reply.started": "2025-08-30T01:33:49.380565Z"
    }
   },
   "outputs": [
    {
     "data": {
      "text/html": [
       "<div>\n",
       "<style scoped>\n",
       "    .dataframe tbody tr th:only-of-type {\n",
       "        vertical-align: middle;\n",
       "    }\n",
       "\n",
       "    .dataframe tbody tr th {\n",
       "        vertical-align: top;\n",
       "    }\n",
       "\n",
       "    .dataframe thead th {\n",
       "        text-align: right;\n",
       "    }\n",
       "</style>\n",
       "<table border=\"1\" class=\"dataframe\">\n",
       "  <thead>\n",
       "    <tr style=\"text-align: right;\">\n",
       "      <th></th>\n",
       "      <th>language</th>\n",
       "      <th>commit</th>\n",
       "      <th>commit_url</th>\n",
       "      <th>label</th>\n",
       "      <th>user</th>\n",
       "      <th>repo</th>\n",
       "      <th>feature</th>\n",
       "      <th>diffs</th>\n",
       "      <th>text</th>\n",
       "    </tr>\n",
       "  </thead>\n",
       "  <tbody>\n",
       "    <tr>\n",
       "      <th>781</th>\n",
       "      <td>Python</td>\n",
       "      <td>a2479f46f3d05b37254ad701b6b76f84624d3cb5</td>\n",
       "      <td>https://github.com/django/django/commit/a2479f...</td>\n",
       "      <td>0</td>\n",
       "      <td>django</td>\n",
       "      <td>django</td>\n",
       "      <td>[3, 13, 0, 3, 1, 0, 0, 1, 5, 0, 0, 0, 0, 0, 0,...</td>\n",
       "      <td>diff --git a/django/contrib/auth/migrations/00...</td>\n",
       "      <td>Fixed #7220 -- Allowed AbstractBaseUser.last_l...</td>\n",
       "    </tr>\n",
       "    <tr>\n",
       "      <th>126</th>\n",
       "      <td>C++</td>\n",
       "      <td>6662fe7b185aab29aa4b2c5e08784e9da75bc700</td>\n",
       "      <td>https://github.com/ocornut/imgui/commit/6662fe...</td>\n",
       "      <td>0</td>\n",
       "      <td>ocornut</td>\n",
       "      <td>imgui</td>\n",
       "      <td>[1, 1, 0, 0, 0, 0, 0, 0, 0, 0, 0, 0, 0, 0, 0, ...</td>\n",
       "      <td>diff --git a/stb_truetype.h b/stb_truetype.h\\n...</td>\n",
       "      <td>stb_truetype: Fixed unused variable warnings f...</td>\n",
       "    </tr>\n",
       "    <tr>\n",
       "      <th>1323</th>\n",
       "      <td>TypeScript</td>\n",
       "      <td>177f1fc5dd489e90eb1c4cf055e342fbc4f6ef32</td>\n",
       "      <td>https://github.com/apache/echarts/commit/177f1...</td>\n",
       "      <td>0</td>\n",
       "      <td>apache</td>\n",
       "      <td>echarts</td>\n",
       "      <td>[1, 0, 0, 1, 0, 1, 2, 0, 0, 0, 0, 0, 0, 0, 0, ...</td>\n",
       "      <td>diff --git a/src/component/toolbox/feature/Sav...</td>\n",
       "      <td>fix(toolbox): remove outer link and fix issues...</td>\n",
       "    </tr>\n",
       "    <tr>\n",
       "      <th>683</th>\n",
       "      <td>JavaScript</td>\n",
       "      <td>ec7be48470e42472a07572b7f1ca2abc91bfdad3</td>\n",
       "      <td>https://github.com/chartjs/Chart.js/commit/ec7...</td>\n",
       "      <td>0</td>\n",
       "      <td>chartjs</td>\n",
       "      <td>Chart.js</td>\n",
       "      <td>[1, 6, 0, 0, 2, 0, 0, 2, 34, 0, 0, 0, 0, 0, 0,...</td>\n",
       "      <td>diff --git a/src/controllers/controller.scatte...</td>\n",
       "      <td>Fix toggling showLine option on scatter contro...</td>\n",
       "    </tr>\n",
       "    <tr>\n",
       "      <th>871</th>\n",
       "      <td>Python</td>\n",
       "      <td>daf4c358f7d382e7fc0466b06e3c528d24b3f760</td>\n",
       "      <td>https://github.com/ansible/ansible/commit/daf4...</td>\n",
       "      <td>0</td>\n",
       "      <td>ansible</td>\n",
       "      <td>ansible</td>\n",
       "      <td>[0, 0, 0, 0, 0, 0, 0, 0, 0, 0, 0, 0, 0, 0, 0, ...</td>\n",
       "      <td>diff --git a/library/packaging/pip b/library/p...</td>\n",
       "      <td>fixes case where name is omitted from pip arg ...</td>\n",
       "    </tr>\n",
       "    <tr>\n",
       "      <th>...</th>\n",
       "      <td>...</td>\n",
       "      <td>...</td>\n",
       "      <td>...</td>\n",
       "      <td>...</td>\n",
       "      <td>...</td>\n",
       "      <td>...</td>\n",
       "      <td>...</td>\n",
       "      <td>...</td>\n",
       "      <td>...</td>\n",
       "    </tr>\n",
       "    <tr>\n",
       "      <th>1254</th>\n",
       "      <td>TypeScript</td>\n",
       "      <td>5c089da5d3d70aba3ff5bda443b259940adf0394</td>\n",
       "      <td>https://github.com/reduxjs/redux/commit/5c089d...</td>\n",
       "      <td>2</td>\n",
       "      <td>reduxjs</td>\n",
       "      <td>redux</td>\n",
       "      <td>[0, 0, 0, 0, 0, 0, 0, 0, 0, 0, 0, 0, 0, 0, 0, ...</td>\n",
       "      <td>diff --git a/docs/recipes/ServerRendering.md b...</td>\n",
       "      <td>Update ServerRendering.md\\n</td>\n",
       "    </tr>\n",
       "    <tr>\n",
       "      <th>646</th>\n",
       "      <td>JavaScript</td>\n",
       "      <td>b32054d4c0da35d30e0cc7d0a6b23048845daca1</td>\n",
       "      <td>https://github.com/webpack/webpack/commit/b320...</td>\n",
       "      <td>2</td>\n",
       "      <td>webpack</td>\n",
       "      <td>webpack</td>\n",
       "      <td>[1, 0, 0, 1, 0, 0, 0, 1, 0, 0, 2, 0, 0, 0, 0, ...</td>\n",
       "      <td>diff --git a/schemas/ajv.absolutePath.js b/sch...</td>\n",
       "      <td>rename `non-absolut` to `relative`\\n\\n</td>\n",
       "    </tr>\n",
       "    <tr>\n",
       "      <th>1407</th>\n",
       "      <td>Java</td>\n",
       "      <td>e5ec49b123c4070355182f04397d8c8c347c9aff</td>\n",
       "      <td>NaN</td>\n",
       "      <td>2</td>\n",
       "      <td>apache</td>\n",
       "      <td>hbase</td>\n",
       "      <td>[2, 5, 0, 3, 0, 0, 0, 4, 116, 38, 8, 13, 6, 0,...</td>\n",
       "      <td>diff --git a/hbase-it/src/test/java/org/apache...</td>\n",
       "      <td>HBASE-10818. Add integration test for bulkload...</td>\n",
       "    </tr>\n",
       "    <tr>\n",
       "      <th>164</th>\n",
       "      <td>C++</td>\n",
       "      <td>4a68fd65b65639da5425bb930305564c88198d04</td>\n",
       "      <td>https://github.com/topjohnwu/Magisk/commit/4a6...</td>\n",
       "      <td>2</td>\n",
       "      <td>topjohnwu</td>\n",
       "      <td>Magisk</td>\n",
       "      <td>[0, 0, 0, 0, 0, 0, 0, 0, 0, 0, 0, 0, 0, 0, 0, ...</td>\n",
       "      <td>diff --git a/app/src/main/res/layout/fragment_...</td>\n",
       "      <td>Updated UI so magisk cannot be updated unless ...</td>\n",
       "    </tr>\n",
       "    <tr>\n",
       "      <th>1166</th>\n",
       "      <td>TypeScript</td>\n",
       "      <td>5fb23ecceaccf0629308dd50210b65f67d51f024</td>\n",
       "      <td>https://github.com/angular/angular/commit/5fb2...</td>\n",
       "      <td>2</td>\n",
       "      <td>angular</td>\n",
       "      <td>angular</td>\n",
       "      <td>[1, 11, 3, 0, 4, 0, 0, 0, 0, 0, 0, 0, 0, 0, 0,...</td>\n",
       "      <td>diff --git a/packages/compiler-cli/src/ngtsc/t...</td>\n",
       "      <td>perf(compiler-cli): skip analysis in increment...</td>\n",
       "    </tr>\n",
       "  </tbody>\n",
       "</table>\n",
       "<p>150 rows × 9 columns</p>\n",
       "</div>"
      ],
      "text/plain": [
       "        language                                    commit  \\\n",
       "781       Python  a2479f46f3d05b37254ad701b6b76f84624d3cb5   \n",
       "126          C++  6662fe7b185aab29aa4b2c5e08784e9da75bc700   \n",
       "1323  TypeScript  177f1fc5dd489e90eb1c4cf055e342fbc4f6ef32   \n",
       "683   JavaScript  ec7be48470e42472a07572b7f1ca2abc91bfdad3   \n",
       "871       Python  daf4c358f7d382e7fc0466b06e3c528d24b3f760   \n",
       "...          ...                                       ...   \n",
       "1254  TypeScript  5c089da5d3d70aba3ff5bda443b259940adf0394   \n",
       "646   JavaScript  b32054d4c0da35d30e0cc7d0a6b23048845daca1   \n",
       "1407        Java  e5ec49b123c4070355182f04397d8c8c347c9aff   \n",
       "164          C++  4a68fd65b65639da5425bb930305564c88198d04   \n",
       "1166  TypeScript  5fb23ecceaccf0629308dd50210b65f67d51f024   \n",
       "\n",
       "                                             commit_url  label       user  \\\n",
       "781   https://github.com/django/django/commit/a2479f...      0     django   \n",
       "126   https://github.com/ocornut/imgui/commit/6662fe...      0    ocornut   \n",
       "1323  https://github.com/apache/echarts/commit/177f1...      0     apache   \n",
       "683   https://github.com/chartjs/Chart.js/commit/ec7...      0    chartjs   \n",
       "871   https://github.com/ansible/ansible/commit/daf4...      0    ansible   \n",
       "...                                                 ...    ...        ...   \n",
       "1254  https://github.com/reduxjs/redux/commit/5c089d...      2    reduxjs   \n",
       "646   https://github.com/webpack/webpack/commit/b320...      2    webpack   \n",
       "1407                                                NaN      2     apache   \n",
       "164   https://github.com/topjohnwu/Magisk/commit/4a6...      2  topjohnwu   \n",
       "1166  https://github.com/angular/angular/commit/5fb2...      2    angular   \n",
       "\n",
       "          repo                                            feature  \\\n",
       "781     django  [3, 13, 0, 3, 1, 0, 0, 1, 5, 0, 0, 0, 0, 0, 0,...   \n",
       "126      imgui  [1, 1, 0, 0, 0, 0, 0, 0, 0, 0, 0, 0, 0, 0, 0, ...   \n",
       "1323   echarts  [1, 0, 0, 1, 0, 1, 2, 0, 0, 0, 0, 0, 0, 0, 0, ...   \n",
       "683   Chart.js  [1, 6, 0, 0, 2, 0, 0, 2, 34, 0, 0, 0, 0, 0, 0,...   \n",
       "871    ansible  [0, 0, 0, 0, 0, 0, 0, 0, 0, 0, 0, 0, 0, 0, 0, ...   \n",
       "...        ...                                                ...   \n",
       "1254     redux  [0, 0, 0, 0, 0, 0, 0, 0, 0, 0, 0, 0, 0, 0, 0, ...   \n",
       "646    webpack  [1, 0, 0, 1, 0, 0, 0, 1, 0, 0, 2, 0, 0, 0, 0, ...   \n",
       "1407     hbase  [2, 5, 0, 3, 0, 0, 0, 4, 116, 38, 8, 13, 6, 0,...   \n",
       "164     Magisk  [0, 0, 0, 0, 0, 0, 0, 0, 0, 0, 0, 0, 0, 0, 0, ...   \n",
       "1166   angular  [1, 11, 3, 0, 4, 0, 0, 0, 0, 0, 0, 0, 0, 0, 0,...   \n",
       "\n",
       "                                                  diffs  \\\n",
       "781   diff --git a/django/contrib/auth/migrations/00...   \n",
       "126   diff --git a/stb_truetype.h b/stb_truetype.h\\n...   \n",
       "1323  diff --git a/src/component/toolbox/feature/Sav...   \n",
       "683   diff --git a/src/controllers/controller.scatte...   \n",
       "871   diff --git a/library/packaging/pip b/library/p...   \n",
       "...                                                 ...   \n",
       "1254  diff --git a/docs/recipes/ServerRendering.md b...   \n",
       "646   diff --git a/schemas/ajv.absolutePath.js b/sch...   \n",
       "1407  diff --git a/hbase-it/src/test/java/org/apache...   \n",
       "164   diff --git a/app/src/main/res/layout/fragment_...   \n",
       "1166  diff --git a/packages/compiler-cli/src/ngtsc/t...   \n",
       "\n",
       "                                                   text  \n",
       "781   Fixed #7220 -- Allowed AbstractBaseUser.last_l...  \n",
       "126   stb_truetype: Fixed unused variable warnings f...  \n",
       "1323  fix(toolbox): remove outer link and fix issues...  \n",
       "683   Fix toggling showLine option on scatter contro...  \n",
       "871   fixes case where name is omitted from pip arg ...  \n",
       "...                                                 ...  \n",
       "1254                        Update ServerRendering.md\\n  \n",
       "646              rename `non-absolut` to `relative`\\n\\n  \n",
       "1407  HBASE-10818. Add integration test for bulkload...  \n",
       "164   Updated UI so magisk cannot be updated unless ...  \n",
       "1166  perf(compiler-cli): skip analysis in increment...  \n",
       "\n",
       "[150 rows x 9 columns]"
      ]
     },
     "execution_count": 5,
     "metadata": {},
     "output_type": "execute_result"
    }
   ],
   "source": [
    "train"
   ]
  },
  {
   "cell_type": "code",
   "execution_count": 6,
   "id": "3c932703-35bc-47c4-97c9-66344c490f7b",
   "metadata": {
    "execution": {
     "iopub.execute_input": "2025-08-30T01:33:49.397204Z",
     "iopub.status.busy": "2025-08-30T01:33:49.396899Z",
     "iopub.status.idle": "2025-08-30T01:33:49.400279Z",
     "shell.execute_reply": "2025-08-30T01:33:49.399697Z",
     "shell.execute_reply.started": "2025-08-30T01:33:49.397181Z"
    }
   },
   "outputs": [],
   "source": [
    "# train.to_csv('/root/autodl-tmp/COLARE-main/dataset/multi-lang-exp/train.csv',index=False)\n",
    "# # test.to_csv('/root/autodl-tmp/COLARE-main/dataset/multi-lang-exp/test.csv',index=False)\n",
    "# # val.to_csv('/root/autodl-tmp/COLARE-main/dataset/multi-lang-exp/eval.csv',index=False)\n",
    "# train.to_csv('/root/autodl-tmp/CommitFit/dataset/multi-lang-exp/train.csv',index=False)\n",
    "# # test.to_csv('/root/autodl-tmp/CommitFit/dataset/multi-lang-exp/test.csv',index=False)\n",
    "# # val.to_csv('/root/autodl-tmp/CommitFit/dataset/multi-lang-exp/eval.csv',index=False)"
   ]
  },
  {
   "cell_type": "code",
   "execution_count": 7,
   "id": "2e214dbb-075e-4fbf-adc9-f3533801587e",
   "metadata": {
    "execution": {
     "iopub.execute_input": "2025-08-30T01:33:49.401215Z",
     "iopub.status.busy": "2025-08-30T01:33:49.401000Z",
     "iopub.status.idle": "2025-08-30T01:33:49.508722Z",
     "shell.execute_reply": "2025-08-30T01:33:49.508048Z",
     "shell.execute_reply.started": "2025-08-30T01:33:49.401191Z"
    }
   },
   "outputs": [],
   "source": [
    "Dataset_train = Dataset.from_pandas(train)\n",
    "test_dataset = Dataset.from_pandas(test)"
   ]
  },
  {
   "cell_type": "code",
   "execution_count": 8,
   "id": "1a8ec7ec-1112-4140-8ccd-516ba9a1b1a8",
   "metadata": {
    "execution": {
     "iopub.execute_input": "2025-08-30T01:33:49.509962Z",
     "iopub.status.busy": "2025-08-30T01:33:49.509585Z",
     "iopub.status.idle": "2025-08-30T01:33:49.575583Z",
     "shell.execute_reply": "2025-08-30T01:33:49.575060Z",
     "shell.execute_reply.started": "2025-08-30T01:33:49.509936Z"
    }
   },
   "outputs": [],
   "source": [
    "train_dataset = get_templated_dataset(Dataset_train, candidate_labels=['Corrective','Adaptive','Perfective'], sample_size=8)"
   ]
  },
  {
   "cell_type": "code",
   "execution_count": 9,
   "id": "6af4102b-39bc-4b20-ab32-43800fb572bf",
   "metadata": {
    "execution": {
     "iopub.execute_input": "2025-08-30T01:33:49.576492Z",
     "iopub.status.busy": "2025-08-30T01:33:49.576276Z",
     "iopub.status.idle": "2025-08-30T01:33:49.580765Z",
     "shell.execute_reply": "2025-08-30T01:33:49.580178Z",
     "shell.execute_reply.started": "2025-08-30T01:33:49.576468Z"
    }
   },
   "outputs": [],
   "source": [
    "train_code_change = list(train['diffs'].astype(str))\n",
    "test_code_change = list(test['diffs'].astype(str))"
   ]
  },
  {
   "cell_type": "code",
   "execution_count": 10,
   "id": "c5ea76cd-69e5-4aa8-bf49-c9e746b63bbb",
   "metadata": {
    "execution": {
     "iopub.execute_input": "2025-08-30T01:33:49.581795Z",
     "iopub.status.busy": "2025-08-30T01:33:49.581490Z",
     "iopub.status.idle": "2025-08-30T01:33:49.585743Z",
     "shell.execute_reply": "2025-08-30T01:33:49.585169Z",
     "shell.execute_reply.started": "2025-08-30T01:33:49.581771Z"
    }
   },
   "outputs": [
    {
     "data": {
      "text/plain": [
       "Dataset({\n",
       "    features: ['language', 'commit', 'commit_url', 'label', 'user', 'repo', 'feature', 'diffs', 'text', '__index_level_0__'],\n",
       "    num_rows: 174\n",
       "})"
      ]
     },
     "execution_count": 10,
     "metadata": {},
     "output_type": "execute_result"
    }
   ],
   "source": [
    "# list(train['message'].astype(str).values)\n",
    "train_dataset"
   ]
  },
  {
   "cell_type": "code",
   "execution_count": 11,
   "id": "ee30affe-0ec9-46a3-bcaa-a1bd9422c939",
   "metadata": {
    "execution": {
     "iopub.execute_input": "2025-08-30T01:33:49.587216Z",
     "iopub.status.busy": "2025-08-30T01:33:49.586808Z",
     "iopub.status.idle": "2025-08-30T01:33:49.592782Z",
     "shell.execute_reply": "2025-08-30T01:33:49.591919Z",
     "shell.execute_reply.started": "2025-08-30T01:33:49.587179Z"
    }
   },
   "outputs": [
    {
     "data": {
      "text/plain": [
       "150"
      ]
     },
     "execution_count": 11,
     "metadata": {},
     "output_type": "execute_result"
    }
   ],
   "source": [
    "len(train)"
   ]
  },
  {
   "cell_type": "code",
   "execution_count": 12,
   "id": "84e38639-cf4b-4762-a1dc-cdc983938388",
   "metadata": {
    "execution": {
     "iopub.execute_input": "2025-08-30T01:33:49.594315Z",
     "iopub.status.busy": "2025-08-30T01:33:49.593910Z",
     "iopub.status.idle": "2025-08-30T01:33:49.602047Z",
     "shell.execute_reply": "2025-08-30T01:33:49.601128Z",
     "shell.execute_reply.started": "2025-08-30T01:33:49.594278Z"
    }
   },
   "outputs": [
    {
     "data": {
      "text/plain": [
       "label\n",
       "0    50\n",
       "1    50\n",
       "2    50\n",
       "Name: count, dtype: int64"
      ]
     },
     "execution_count": 12,
     "metadata": {},
     "output_type": "execute_result"
    }
   ],
   "source": [
    "train['label'].value_counts()"
   ]
  },
  {
   "cell_type": "code",
   "execution_count": 13,
   "id": "3cf6c110-616d-45da-aa2e-4a5add26b3c0",
   "metadata": {
    "execution": {
     "iopub.execute_input": "2025-08-30T01:33:49.603835Z",
     "iopub.status.busy": "2025-08-30T01:33:49.603134Z",
     "iopub.status.idle": "2025-08-30T01:33:49.610610Z",
     "shell.execute_reply": "2025-08-30T01:33:49.609705Z",
     "shell.execute_reply.started": "2025-08-30T01:33:49.603798Z"
    }
   },
   "outputs": [
    {
     "data": {
      "text/plain": [
       "label\n",
       "2    155\n",
       "0     51\n",
       "1     32\n",
       "Name: count, dtype: int64"
      ]
     },
     "execution_count": 13,
     "metadata": {},
     "output_type": "execute_result"
    }
   ],
   "source": [
    "test['label'].value_counts()"
   ]
  },
  {
   "cell_type": "code",
   "execution_count": 14,
   "id": "77117d87-5292-48f5-b077-74b47ccfd5eb",
   "metadata": {
    "execution": {
     "iopub.execute_input": "2025-08-30T01:33:49.615138Z",
     "iopub.status.busy": "2025-08-30T01:33:49.614804Z",
     "iopub.status.idle": "2025-08-30T01:33:49.621136Z",
     "shell.execute_reply": "2025-08-30T01:33:49.620192Z",
     "shell.execute_reply.started": "2025-08-30T01:33:49.615102Z"
    }
   },
   "outputs": [
    {
     "data": {
      "text/plain": [
       "174"
      ]
     },
     "execution_count": 14,
     "metadata": {},
     "output_type": "execute_result"
    }
   ],
   "source": [
    "len(train_dataset)"
   ]
  },
  {
   "cell_type": "code",
   "execution_count": 15,
   "id": "dca6275a-a567-4963-831c-8dd653341162",
   "metadata": {
    "execution": {
     "iopub.execute_input": "2025-08-30T01:33:49.622698Z",
     "iopub.status.busy": "2025-08-30T01:33:49.622270Z",
     "iopub.status.idle": "2025-08-30T01:33:49.630419Z",
     "shell.execute_reply": "2025-08-30T01:33:49.629469Z",
     "shell.execute_reply.started": "2025-08-30T01:33:49.622662Z"
    }
   },
   "outputs": [],
   "source": [
    "from sklearn import  metrics\n",
    "\n",
    "def compute_metrics(y_pred, y_test):\n",
    "    # print(y_pred,y_test)\n",
    "    # classification_report = metrics.classification_report(y_test,y_pred)\n",
    "    accuracy_score = metrics.accuracy_score(y_test,y_pred)\n",
    "    precision_score = metrics.precision_score(y_test,y_pred, average='macro')\n",
    "    recall_score = metrics.recall_score(y_test,y_pred,average='macro')\n",
    "    f1_score = metrics.f1_score(y_test,y_pred,average='macro')\n",
    "    \n",
    "    # 混淆矩阵\n",
    "    cm = metrics.confusion_matrix(y_test, y_pred)\n",
    "    print(\"Confusion Matrix:\\n\", cm)\n",
    "    print(metrics.classification_report(y_test, y_pred, digits=4))\n",
    "    # return {\"classification_report\": classification_report}\n",
    "    return {\"classification_report\":metrics.classification_report(y_test, y_pred, digits=4),\"Confusion Matrix\":cm,\"precision\": round(precision_score, 4),\"recall\": round(recall_score, 4), \"f1\":round(f1_score, 4), \"accuracy\": round(accuracy_score, 4)}"
   ]
  },
  {
   "cell_type": "code",
   "execution_count": 16,
   "id": "49e32d66-2fc2-4a53-bae1-13f8d67c5b6f",
   "metadata": {
    "execution": {
     "iopub.execute_input": "2025-08-30T01:33:49.632269Z",
     "iopub.status.busy": "2025-08-30T01:33:49.631682Z",
     "iopub.status.idle": "2025-08-30T01:33:49.637644Z",
     "shell.execute_reply": "2025-08-30T01:33:49.636758Z",
     "shell.execute_reply.started": "2025-08-30T01:33:49.632231Z"
    }
   },
   "outputs": [
    {
     "data": {
      "text/plain": [
       "Dataset({\n",
       "    features: ['language', 'commit', 'commit_url', 'label', 'user', 'repo', 'feature', 'diffs', 'text', '__index_level_0__'],\n",
       "    num_rows: 174\n",
       "})"
      ]
     },
     "execution_count": 16,
     "metadata": {},
     "output_type": "execute_result"
    }
   ],
   "source": [
    "train_dataset"
   ]
  },
  {
   "cell_type": "code",
   "execution_count": 17,
   "id": "b7c52074-c55f-4218-bc87-cdbc6e36a993",
   "metadata": {
    "execution": {
     "iopub.execute_input": "2025-08-30T01:33:49.639104Z",
     "iopub.status.busy": "2025-08-30T01:33:49.638773Z",
     "iopub.status.idle": "2025-08-30T01:33:49.654438Z",
     "shell.execute_reply": "2025-08-30T01:33:49.653860Z",
     "shell.execute_reply.started": "2025-08-30T01:33:49.639068Z"
    }
   },
   "outputs": [
    {
     "data": {
      "text/html": [
       "<div>\n",
       "<style scoped>\n",
       "    .dataframe tbody tr th:only-of-type {\n",
       "        vertical-align: middle;\n",
       "    }\n",
       "\n",
       "    .dataframe tbody tr th {\n",
       "        vertical-align: top;\n",
       "    }\n",
       "\n",
       "    .dataframe thead th {\n",
       "        text-align: right;\n",
       "    }\n",
       "</style>\n",
       "<table border=\"1\" class=\"dataframe\">\n",
       "  <thead>\n",
       "    <tr style=\"text-align: right;\">\n",
       "      <th></th>\n",
       "      <th>language</th>\n",
       "      <th>commit</th>\n",
       "      <th>commit_url</th>\n",
       "      <th>label</th>\n",
       "      <th>user</th>\n",
       "      <th>repo</th>\n",
       "      <th>feature</th>\n",
       "      <th>diffs</th>\n",
       "      <th>text</th>\n",
       "    </tr>\n",
       "  </thead>\n",
       "  <tbody>\n",
       "    <tr>\n",
       "      <th>781</th>\n",
       "      <td>Python</td>\n",
       "      <td>a2479f46f3d05b37254ad701b6b76f84624d3cb5</td>\n",
       "      <td>https://github.com/django/django/commit/a2479f...</td>\n",
       "      <td>0</td>\n",
       "      <td>django</td>\n",
       "      <td>django</td>\n",
       "      <td>[3, 13, 0, 3, 1, 0, 0, 1, 5, 0, 0, 0, 0, 0, 0,...</td>\n",
       "      <td>diff --git a/django/contrib/auth/migrations/00...</td>\n",
       "      <td>Fixed #7220 -- Allowed AbstractBaseUser.last_l...</td>\n",
       "    </tr>\n",
       "    <tr>\n",
       "      <th>126</th>\n",
       "      <td>C++</td>\n",
       "      <td>6662fe7b185aab29aa4b2c5e08784e9da75bc700</td>\n",
       "      <td>https://github.com/ocornut/imgui/commit/6662fe...</td>\n",
       "      <td>0</td>\n",
       "      <td>ocornut</td>\n",
       "      <td>imgui</td>\n",
       "      <td>[1, 1, 0, 0, 0, 0, 0, 0, 0, 0, 0, 0, 0, 0, 0, ...</td>\n",
       "      <td>diff --git a/stb_truetype.h b/stb_truetype.h\\n...</td>\n",
       "      <td>stb_truetype: Fixed unused variable warnings f...</td>\n",
       "    </tr>\n",
       "    <tr>\n",
       "      <th>1323</th>\n",
       "      <td>TypeScript</td>\n",
       "      <td>177f1fc5dd489e90eb1c4cf055e342fbc4f6ef32</td>\n",
       "      <td>https://github.com/apache/echarts/commit/177f1...</td>\n",
       "      <td>0</td>\n",
       "      <td>apache</td>\n",
       "      <td>echarts</td>\n",
       "      <td>[1, 0, 0, 1, 0, 1, 2, 0, 0, 0, 0, 0, 0, 0, 0, ...</td>\n",
       "      <td>diff --git a/src/component/toolbox/feature/Sav...</td>\n",
       "      <td>fix(toolbox): remove outer link and fix issues...</td>\n",
       "    </tr>\n",
       "    <tr>\n",
       "      <th>683</th>\n",
       "      <td>JavaScript</td>\n",
       "      <td>ec7be48470e42472a07572b7f1ca2abc91bfdad3</td>\n",
       "      <td>https://github.com/chartjs/Chart.js/commit/ec7...</td>\n",
       "      <td>0</td>\n",
       "      <td>chartjs</td>\n",
       "      <td>Chart.js</td>\n",
       "      <td>[1, 6, 0, 0, 2, 0, 0, 2, 34, 0, 0, 0, 0, 0, 0,...</td>\n",
       "      <td>diff --git a/src/controllers/controller.scatte...</td>\n",
       "      <td>Fix toggling showLine option on scatter contro...</td>\n",
       "    </tr>\n",
       "    <tr>\n",
       "      <th>871</th>\n",
       "      <td>Python</td>\n",
       "      <td>daf4c358f7d382e7fc0466b06e3c528d24b3f760</td>\n",
       "      <td>https://github.com/ansible/ansible/commit/daf4...</td>\n",
       "      <td>0</td>\n",
       "      <td>ansible</td>\n",
       "      <td>ansible</td>\n",
       "      <td>[0, 0, 0, 0, 0, 0, 0, 0, 0, 0, 0, 0, 0, 0, 0, ...</td>\n",
       "      <td>diff --git a/library/packaging/pip b/library/p...</td>\n",
       "      <td>fixes case where name is omitted from pip arg ...</td>\n",
       "    </tr>\n",
       "    <tr>\n",
       "      <th>...</th>\n",
       "      <td>...</td>\n",
       "      <td>...</td>\n",
       "      <td>...</td>\n",
       "      <td>...</td>\n",
       "      <td>...</td>\n",
       "      <td>...</td>\n",
       "      <td>...</td>\n",
       "      <td>...</td>\n",
       "      <td>...</td>\n",
       "    </tr>\n",
       "    <tr>\n",
       "      <th>1254</th>\n",
       "      <td>TypeScript</td>\n",
       "      <td>5c089da5d3d70aba3ff5bda443b259940adf0394</td>\n",
       "      <td>https://github.com/reduxjs/redux/commit/5c089d...</td>\n",
       "      <td>2</td>\n",
       "      <td>reduxjs</td>\n",
       "      <td>redux</td>\n",
       "      <td>[0, 0, 0, 0, 0, 0, 0, 0, 0, 0, 0, 0, 0, 0, 0, ...</td>\n",
       "      <td>diff --git a/docs/recipes/ServerRendering.md b...</td>\n",
       "      <td>Update ServerRendering.md\\n</td>\n",
       "    </tr>\n",
       "    <tr>\n",
       "      <th>646</th>\n",
       "      <td>JavaScript</td>\n",
       "      <td>b32054d4c0da35d30e0cc7d0a6b23048845daca1</td>\n",
       "      <td>https://github.com/webpack/webpack/commit/b320...</td>\n",
       "      <td>2</td>\n",
       "      <td>webpack</td>\n",
       "      <td>webpack</td>\n",
       "      <td>[1, 0, 0, 1, 0, 0, 0, 1, 0, 0, 2, 0, 0, 0, 0, ...</td>\n",
       "      <td>diff --git a/schemas/ajv.absolutePath.js b/sch...</td>\n",
       "      <td>rename `non-absolut` to `relative`\\n\\n</td>\n",
       "    </tr>\n",
       "    <tr>\n",
       "      <th>1407</th>\n",
       "      <td>Java</td>\n",
       "      <td>e5ec49b123c4070355182f04397d8c8c347c9aff</td>\n",
       "      <td>NaN</td>\n",
       "      <td>2</td>\n",
       "      <td>apache</td>\n",
       "      <td>hbase</td>\n",
       "      <td>[2, 5, 0, 3, 0, 0, 0, 4, 116, 38, 8, 13, 6, 0,...</td>\n",
       "      <td>diff --git a/hbase-it/src/test/java/org/apache...</td>\n",
       "      <td>HBASE-10818. Add integration test for bulkload...</td>\n",
       "    </tr>\n",
       "    <tr>\n",
       "      <th>164</th>\n",
       "      <td>C++</td>\n",
       "      <td>4a68fd65b65639da5425bb930305564c88198d04</td>\n",
       "      <td>https://github.com/topjohnwu/Magisk/commit/4a6...</td>\n",
       "      <td>2</td>\n",
       "      <td>topjohnwu</td>\n",
       "      <td>Magisk</td>\n",
       "      <td>[0, 0, 0, 0, 0, 0, 0, 0, 0, 0, 0, 0, 0, 0, 0, ...</td>\n",
       "      <td>diff --git a/app/src/main/res/layout/fragment_...</td>\n",
       "      <td>Updated UI so magisk cannot be updated unless ...</td>\n",
       "    </tr>\n",
       "    <tr>\n",
       "      <th>1166</th>\n",
       "      <td>TypeScript</td>\n",
       "      <td>5fb23ecceaccf0629308dd50210b65f67d51f024</td>\n",
       "      <td>https://github.com/angular/angular/commit/5fb2...</td>\n",
       "      <td>2</td>\n",
       "      <td>angular</td>\n",
       "      <td>angular</td>\n",
       "      <td>[1, 11, 3, 0, 4, 0, 0, 0, 0, 0, 0, 0, 0, 0, 0,...</td>\n",
       "      <td>diff --git a/packages/compiler-cli/src/ngtsc/t...</td>\n",
       "      <td>perf(compiler-cli): skip analysis in increment...</td>\n",
       "    </tr>\n",
       "  </tbody>\n",
       "</table>\n",
       "<p>150 rows × 9 columns</p>\n",
       "</div>"
      ],
      "text/plain": [
       "        language                                    commit  \\\n",
       "781       Python  a2479f46f3d05b37254ad701b6b76f84624d3cb5   \n",
       "126          C++  6662fe7b185aab29aa4b2c5e08784e9da75bc700   \n",
       "1323  TypeScript  177f1fc5dd489e90eb1c4cf055e342fbc4f6ef32   \n",
       "683   JavaScript  ec7be48470e42472a07572b7f1ca2abc91bfdad3   \n",
       "871       Python  daf4c358f7d382e7fc0466b06e3c528d24b3f760   \n",
       "...          ...                                       ...   \n",
       "1254  TypeScript  5c089da5d3d70aba3ff5bda443b259940adf0394   \n",
       "646   JavaScript  b32054d4c0da35d30e0cc7d0a6b23048845daca1   \n",
       "1407        Java  e5ec49b123c4070355182f04397d8c8c347c9aff   \n",
       "164          C++  4a68fd65b65639da5425bb930305564c88198d04   \n",
       "1166  TypeScript  5fb23ecceaccf0629308dd50210b65f67d51f024   \n",
       "\n",
       "                                             commit_url  label       user  \\\n",
       "781   https://github.com/django/django/commit/a2479f...      0     django   \n",
       "126   https://github.com/ocornut/imgui/commit/6662fe...      0    ocornut   \n",
       "1323  https://github.com/apache/echarts/commit/177f1...      0     apache   \n",
       "683   https://github.com/chartjs/Chart.js/commit/ec7...      0    chartjs   \n",
       "871   https://github.com/ansible/ansible/commit/daf4...      0    ansible   \n",
       "...                                                 ...    ...        ...   \n",
       "1254  https://github.com/reduxjs/redux/commit/5c089d...      2    reduxjs   \n",
       "646   https://github.com/webpack/webpack/commit/b320...      2    webpack   \n",
       "1407                                                NaN      2     apache   \n",
       "164   https://github.com/topjohnwu/Magisk/commit/4a6...      2  topjohnwu   \n",
       "1166  https://github.com/angular/angular/commit/5fb2...      2    angular   \n",
       "\n",
       "          repo                                            feature  \\\n",
       "781     django  [3, 13, 0, 3, 1, 0, 0, 1, 5, 0, 0, 0, 0, 0, 0,...   \n",
       "126      imgui  [1, 1, 0, 0, 0, 0, 0, 0, 0, 0, 0, 0, 0, 0, 0, ...   \n",
       "1323   echarts  [1, 0, 0, 1, 0, 1, 2, 0, 0, 0, 0, 0, 0, 0, 0, ...   \n",
       "683   Chart.js  [1, 6, 0, 0, 2, 0, 0, 2, 34, 0, 0, 0, 0, 0, 0,...   \n",
       "871    ansible  [0, 0, 0, 0, 0, 0, 0, 0, 0, 0, 0, 0, 0, 0, 0, ...   \n",
       "...        ...                                                ...   \n",
       "1254     redux  [0, 0, 0, 0, 0, 0, 0, 0, 0, 0, 0, 0, 0, 0, 0, ...   \n",
       "646    webpack  [1, 0, 0, 1, 0, 0, 0, 1, 0, 0, 2, 0, 0, 0, 0, ...   \n",
       "1407     hbase  [2, 5, 0, 3, 0, 0, 0, 4, 116, 38, 8, 13, 6, 0,...   \n",
       "164     Magisk  [0, 0, 0, 0, 0, 0, 0, 0, 0, 0, 0, 0, 0, 0, 0, ...   \n",
       "1166   angular  [1, 11, 3, 0, 4, 0, 0, 0, 0, 0, 0, 0, 0, 0, 0,...   \n",
       "\n",
       "                                                  diffs  \\\n",
       "781   diff --git a/django/contrib/auth/migrations/00...   \n",
       "126   diff --git a/stb_truetype.h b/stb_truetype.h\\n...   \n",
       "1323  diff --git a/src/component/toolbox/feature/Sav...   \n",
       "683   diff --git a/src/controllers/controller.scatte...   \n",
       "871   diff --git a/library/packaging/pip b/library/p...   \n",
       "...                                                 ...   \n",
       "1254  diff --git a/docs/recipes/ServerRendering.md b...   \n",
       "646   diff --git a/schemas/ajv.absolutePath.js b/sch...   \n",
       "1407  diff --git a/hbase-it/src/test/java/org/apache...   \n",
       "164   diff --git a/app/src/main/res/layout/fragment_...   \n",
       "1166  diff --git a/packages/compiler-cli/src/ngtsc/t...   \n",
       "\n",
       "                                                   text  \n",
       "781   Fixed #7220 -- Allowed AbstractBaseUser.last_l...  \n",
       "126   stb_truetype: Fixed unused variable warnings f...  \n",
       "1323  fix(toolbox): remove outer link and fix issues...  \n",
       "683   Fix toggling showLine option on scatter contro...  \n",
       "871   fixes case where name is omitted from pip arg ...  \n",
       "...                                                 ...  \n",
       "1254                        Update ServerRendering.md\\n  \n",
       "646              rename `non-absolut` to `relative`\\n\\n  \n",
       "1407  HBASE-10818. Add integration test for bulkload...  \n",
       "164   Updated UI so magisk cannot be updated unless ...  \n",
       "1166  perf(compiler-cli): skip analysis in increment...  \n",
       "\n",
       "[150 rows x 9 columns]"
      ]
     },
     "execution_count": 17,
     "metadata": {},
     "output_type": "execute_result"
    }
   ],
   "source": [
    "train"
   ]
  },
  {
   "cell_type": "code",
   "execution_count": 18,
   "id": "d9ede869-1587-4e42-8879-e819e5961dca",
   "metadata": {
    "execution": {
     "iopub.execute_input": "2025-08-30T01:33:49.655456Z",
     "iopub.status.busy": "2025-08-30T01:33:49.655160Z",
     "iopub.status.idle": "2025-08-30T01:33:49.658480Z",
     "shell.execute_reply": "2025-08-30T01:33:49.657908Z",
     "shell.execute_reply.started": "2025-08-30T01:33:49.655432Z"
    }
   },
   "outputs": [],
   "source": [
    "model_id = \"../../sentence-transformers/paraphrase-mpnet-base-v2\""
   ]
  },
  {
   "cell_type": "code",
   "execution_count": 19,
   "id": "a6501389-0c86-442d-85cf-f04ad146703f",
   "metadata": {
    "execution": {
     "iopub.execute_input": "2025-08-30T01:33:49.660060Z",
     "iopub.status.busy": "2025-08-30T01:33:49.659345Z",
     "iopub.status.idle": "2025-08-30T01:33:49.668174Z",
     "shell.execute_reply": "2025-08-30T01:33:49.667180Z",
     "shell.execute_reply.started": "2025-08-30T01:33:49.660015Z"
    }
   },
   "outputs": [],
   "source": [
    "def hp_space(trial: Trial) -> Dict[str, Union[float, int, str]]:\n",
    "    return {\n",
    "        \"learning_rate\": trial.suggest_float(\"learning_rate\", 1e-6, 1e-3, log=True),\n",
    "        # \"num_epochs\": trial.suggest_int(\"num_epochs\", 1, 3),\n",
    "        # \"batch_size\": trial.suggest_categorical(\"batch_size\", [8, 12, 16]),\n",
    "        # \"seed\": trial.suggest_int(\"seed\", 1, 40),\n",
    "        # \"num_iterations\": trial.suggest_int(\"num_iterations\", 10, 20),\n",
    "        # \"solver\": trial.suggest_categorical(\"solver\", [\"newton-cg\", \"lbfgs\", \"liblinear\"]),\n",
    "    }\n",
    "def model_init(params: Dict[str, Any]) -> CommitFitModel:\n",
    "    params = params or {}\n",
    "    # learning_rate = params.get(\"learning_rate\")\n",
    "    # num_iterations = params.get(\"num_iterations\", 20)\n",
    "    # solver = params.get(\"solver\", \"liblinear\")\n",
    "    # params = {\n",
    "    #     \"head_params\": {\n",
    "    #         # \"max_iter\": num_iterations,\n",
    "    #         # \"solver\": solver,\n",
    "    #     }\n",
    "    # }\n",
    "    return CommitFitModel.from_pretrained(model_id, **params)\n",
    "def my_compute_objective(metrics):\n",
    "    print('+++++++++++',metrics)\n",
    "    return  metrics['accuracy']"
   ]
  },
  {
   "cell_type": "code",
   "execution_count": 20,
   "id": "2244f079-c2b8-4e01-aca4-f68e7ce8accb",
   "metadata": {
    "execution": {
     "iopub.execute_input": "2025-08-30T01:33:49.670102Z",
     "iopub.status.busy": "2025-08-30T01:33:49.669372Z",
     "iopub.status.idle": "2025-08-30T01:41:22.031768Z",
     "shell.execute_reply": "2025-08-30T01:41:22.031050Z",
     "shell.execute_reply.started": "2025-08-30T01:33:49.670052Z"
    }
   },
   "outputs": [
    {
     "name": "stderr",
     "output_type": "stream",
     "text": [
      "model_head.pkl not found in /root/autodl-tmp/CommitFit/sentence-transformers/paraphrase-mpnet-base-v2, initialising classification head with random weights. You should TRAIN this model on a downstream task to use it for predictions and inference.\n",
      "[I 2025-08-30 09:33:50,768] A new study created in memory with name: no-name-ce0212d0-e0d1-4005-832d-631dc949905b\n",
      "Trial: {'learning_rate': 4.895298406404869e-06}\n",
      "model_head.pkl not found in /root/autodl-tmp/CommitFit/sentence-transformers/paraphrase-mpnet-base-v2, initialising classification head with random weights. You should TRAIN this model on a downstream task to use it for predictions and inference.\n"
     ]
    },
    {
     "data": {
      "application/vnd.jupyter.widget-view+json": {
       "model_id": "2a06f4116b1941089e196e1ed08eadcc",
       "version_major": 2,
       "version_minor": 0
      },
      "text/plain": [
       "Generating Training Pairs:   0%|          | 0/20 [00:00<?, ?it/s]"
      ]
     },
     "metadata": {},
     "output_type": "display_data"
    },
    {
     "name": "stderr",
     "output_type": "stream",
     "text": [
      "***** Running training *****\n",
      "  Num examples = 6960\n",
      "  Num epochs = 1\n",
      "  Total optimization steps = 435\n",
      "  Total train batch size = 16\n"
     ]
    },
    {
     "data": {
      "application/vnd.jupyter.widget-view+json": {
       "model_id": "46f92406b08546f1b2bd81530a667105",
       "version_major": 2,
       "version_minor": 0
      },
      "text/plain": [
       "Epoch:   0%|          | 0/1 [00:00<?, ?it/s]"
      ]
     },
     "metadata": {},
     "output_type": "display_data"
    },
    {
     "data": {
      "application/vnd.jupyter.widget-view+json": {
       "model_id": "e5b1fb7c83024a0aa21ba8e440d50031",
       "version_major": 2,
       "version_minor": 0
      },
      "text/plain": [
       "Iteration:   0%|          | 0/435 [00:00<?, ?it/s]"
      ]
     },
     "metadata": {},
     "output_type": "display_data"
    },
    {
     "name": "stderr",
     "output_type": "stream",
     "text": [
      "***** Running evaluation *****\n",
      "[I 2025-08-30 09:35:22,284] Trial 0 finished with value: 0.7017 and parameters: {'learning_rate': 4.895298406404869e-06}. Best is trial 0 with value: 0.7017.\n",
      "Trial: {'learning_rate': 0.0001040091143290433}\n"
     ]
    },
    {
     "name": "stdout",
     "output_type": "stream",
     "text": [
      "Confusion Matrix:\n",
      " [[46  0  5]\n",
      " [ 2 24  6]\n",
      " [31 27 97]]\n",
      "              precision    recall  f1-score   support\n",
      "\n",
      "           0     0.5823    0.9020    0.7077        51\n",
      "           1     0.4706    0.7500    0.5783        32\n",
      "           2     0.8981    0.6258    0.7376       155\n",
      "\n",
      "    accuracy                         0.7017       238\n",
      "   macro avg     0.6503    0.7593    0.6745       238\n",
      "weighted avg     0.7730    0.7017    0.7098       238\n",
      "\n",
      "+++++++++++ {'classification_report': '              precision    recall  f1-score   support\\n\\n           0     0.5823    0.9020    0.7077        51\\n           1     0.4706    0.7500    0.5783        32\\n           2     0.8981    0.6258    0.7376       155\\n\\n    accuracy                         0.7017       238\\n   macro avg     0.6503    0.7593    0.6745       238\\nweighted avg     0.7730    0.7017    0.7098       238\\n', 'Confusion Matrix': array([[46,  0,  5],\n",
      "       [ 2, 24,  6],\n",
      "       [31, 27, 97]]), 'precision': 0.6503, 'recall': 0.7593, 'f1': 0.6745, 'accuracy': 0.7017}\n"
     ]
    },
    {
     "name": "stderr",
     "output_type": "stream",
     "text": [
      "model_head.pkl not found in /root/autodl-tmp/CommitFit/sentence-transformers/paraphrase-mpnet-base-v2, initialising classification head with random weights. You should TRAIN this model on a downstream task to use it for predictions and inference.\n"
     ]
    },
    {
     "data": {
      "application/vnd.jupyter.widget-view+json": {
       "model_id": "3f025084d2f14bcaa327be345c2acc77",
       "version_major": 2,
       "version_minor": 0
      },
      "text/plain": [
       "Generating Training Pairs:   0%|          | 0/20 [00:00<?, ?it/s]"
      ]
     },
     "metadata": {},
     "output_type": "display_data"
    },
    {
     "name": "stderr",
     "output_type": "stream",
     "text": [
      "***** Running training *****\n",
      "  Num examples = 6960\n",
      "  Num epochs = 1\n",
      "  Total optimization steps = 435\n",
      "  Total train batch size = 16\n"
     ]
    },
    {
     "data": {
      "application/vnd.jupyter.widget-view+json": {
       "model_id": "ccc4ac663ee34d3c9cdad5db56f51aa1",
       "version_major": 2,
       "version_minor": 0
      },
      "text/plain": [
       "Epoch:   0%|          | 0/1 [00:00<?, ?it/s]"
      ]
     },
     "metadata": {},
     "output_type": "display_data"
    },
    {
     "data": {
      "application/vnd.jupyter.widget-view+json": {
       "model_id": "316c376c34c545f1aaf3416f6bf1d3a3",
       "version_major": 2,
       "version_minor": 0
      },
      "text/plain": [
       "Iteration:   0%|          | 0/435 [00:00<?, ?it/s]"
      ]
     },
     "metadata": {},
     "output_type": "display_data"
    },
    {
     "name": "stderr",
     "output_type": "stream",
     "text": [
      "***** Running evaluation *****\n",
      "[I 2025-08-30 09:36:52,131] Trial 1 finished with value: 0.6891 and parameters: {'learning_rate': 0.0001040091143290433}. Best is trial 0 with value: 0.7017.\n",
      "Trial: {'learning_rate': 0.0007288530915861101}\n"
     ]
    },
    {
     "name": "stdout",
     "output_type": "stream",
     "text": [
      "Confusion Matrix:\n",
      " [[44  1  6]\n",
      " [ 2 29  1]\n",
      " [34 30 91]]\n",
      "              precision    recall  f1-score   support\n",
      "\n",
      "           0     0.5500    0.8627    0.6718        51\n",
      "           1     0.4833    0.9062    0.6304        32\n",
      "           2     0.9286    0.5871    0.7194       155\n",
      "\n",
      "    accuracy                         0.6891       238\n",
      "   macro avg     0.6540    0.7854    0.6739       238\n",
      "weighted avg     0.7876    0.6891    0.6972       238\n",
      "\n",
      "+++++++++++ {'classification_report': '              precision    recall  f1-score   support\\n\\n           0     0.5500    0.8627    0.6718        51\\n           1     0.4833    0.9062    0.6304        32\\n           2     0.9286    0.5871    0.7194       155\\n\\n    accuracy                         0.6891       238\\n   macro avg     0.6540    0.7854    0.6739       238\\nweighted avg     0.7876    0.6891    0.6972       238\\n', 'Confusion Matrix': array([[44,  1,  6],\n",
      "       [ 2, 29,  1],\n",
      "       [34, 30, 91]]), 'precision': 0.654, 'recall': 0.7854, 'f1': 0.6739, 'accuracy': 0.6891}\n"
     ]
    },
    {
     "name": "stderr",
     "output_type": "stream",
     "text": [
      "model_head.pkl not found in /root/autodl-tmp/CommitFit/sentence-transformers/paraphrase-mpnet-base-v2, initialising classification head with random weights. You should TRAIN this model on a downstream task to use it for predictions and inference.\n"
     ]
    },
    {
     "data": {
      "application/vnd.jupyter.widget-view+json": {
       "model_id": "99635bf09c79416ebdfbe6c831fd0979",
       "version_major": 2,
       "version_minor": 0
      },
      "text/plain": [
       "Generating Training Pairs:   0%|          | 0/20 [00:00<?, ?it/s]"
      ]
     },
     "metadata": {},
     "output_type": "display_data"
    },
    {
     "name": "stderr",
     "output_type": "stream",
     "text": [
      "***** Running training *****\n",
      "  Num examples = 6960\n",
      "  Num epochs = 1\n",
      "  Total optimization steps = 435\n",
      "  Total train batch size = 16\n"
     ]
    },
    {
     "data": {
      "application/vnd.jupyter.widget-view+json": {
       "model_id": "149fc605f3be4f8fbeaba8cddeed95bc",
       "version_major": 2,
       "version_minor": 0
      },
      "text/plain": [
       "Epoch:   0%|          | 0/1 [00:00<?, ?it/s]"
      ]
     },
     "metadata": {},
     "output_type": "display_data"
    },
    {
     "data": {
      "application/vnd.jupyter.widget-view+json": {
       "model_id": "50bb32fb36544b968c72a320cead379c",
       "version_major": 2,
       "version_minor": 0
      },
      "text/plain": [
       "Iteration:   0%|          | 0/435 [00:00<?, ?it/s]"
      ]
     },
     "metadata": {},
     "output_type": "display_data"
    },
    {
     "name": "stderr",
     "output_type": "stream",
     "text": [
      "***** Running evaluation *****\n",
      "/root/miniconda3/lib/python3.10/site-packages/sklearn/metrics/_classification.py:1531: UndefinedMetricWarning: Precision is ill-defined and being set to 0.0 in labels with no predicted samples. Use `zero_division` parameter to control this behavior.\n",
      "  _warn_prf(average, modifier, f\"{metric.capitalize()} is\", len(result))\n",
      "/root/miniconda3/lib/python3.10/site-packages/sklearn/metrics/_classification.py:1531: UndefinedMetricWarning: Precision is ill-defined and being set to 0.0 in labels with no predicted samples. Use `zero_division` parameter to control this behavior.\n",
      "  _warn_prf(average, modifier, f\"{metric.capitalize()} is\", len(result))\n",
      "/root/miniconda3/lib/python3.10/site-packages/sklearn/metrics/_classification.py:1531: UndefinedMetricWarning: Precision is ill-defined and being set to 0.0 in labels with no predicted samples. Use `zero_division` parameter to control this behavior.\n",
      "  _warn_prf(average, modifier, f\"{metric.capitalize()} is\", len(result))\n",
      "/root/miniconda3/lib/python3.10/site-packages/sklearn/metrics/_classification.py:1531: UndefinedMetricWarning: Precision is ill-defined and being set to 0.0 in labels with no predicted samples. Use `zero_division` parameter to control this behavior.\n",
      "  _warn_prf(average, modifier, f\"{metric.capitalize()} is\", len(result))\n",
      "/root/miniconda3/lib/python3.10/site-packages/sklearn/metrics/_classification.py:1531: UndefinedMetricWarning: Precision is ill-defined and being set to 0.0 in labels with no predicted samples. Use `zero_division` parameter to control this behavior.\n",
      "  _warn_prf(average, modifier, f\"{metric.capitalize()} is\", len(result))\n",
      "/root/miniconda3/lib/python3.10/site-packages/sklearn/metrics/_classification.py:1531: UndefinedMetricWarning: Precision is ill-defined and being set to 0.0 in labels with no predicted samples. Use `zero_division` parameter to control this behavior.\n",
      "  _warn_prf(average, modifier, f\"{metric.capitalize()} is\", len(result))\n",
      "/root/miniconda3/lib/python3.10/site-packages/sklearn/metrics/_classification.py:1531: UndefinedMetricWarning: Precision is ill-defined and being set to 0.0 in labels with no predicted samples. Use `zero_division` parameter to control this behavior.\n",
      "  _warn_prf(average, modifier, f\"{metric.capitalize()} is\", len(result))\n",
      "[I 2025-08-30 09:38:22,212] Trial 2 finished with value: 0.2143 and parameters: {'learning_rate': 0.0007288530915861101}. Best is trial 0 with value: 0.7017.\n",
      "Trial: {'learning_rate': 1.0197945116610178e-06}\n"
     ]
    },
    {
     "name": "stdout",
     "output_type": "stream",
     "text": [
      "Confusion Matrix:\n",
      " [[ 51   0   0]\n",
      " [ 32   0   0]\n",
      " [155   0   0]]\n",
      "              precision    recall  f1-score   support\n",
      "\n",
      "           0     0.2143    1.0000    0.3529        51\n",
      "           1     0.0000    0.0000    0.0000        32\n",
      "           2     0.0000    0.0000    0.0000       155\n",
      "\n",
      "    accuracy                         0.2143       238\n",
      "   macro avg     0.0714    0.3333    0.1176       238\n",
      "weighted avg     0.0459    0.2143    0.0756       238\n",
      "\n",
      "+++++++++++ {'classification_report': '              precision    recall  f1-score   support\\n\\n           0     0.2143    1.0000    0.3529        51\\n           1     0.0000    0.0000    0.0000        32\\n           2     0.0000    0.0000    0.0000       155\\n\\n    accuracy                         0.2143       238\\n   macro avg     0.0714    0.3333    0.1176       238\\nweighted avg     0.0459    0.2143    0.0756       238\\n', 'Confusion Matrix': array([[ 51,   0,   0],\n",
      "       [ 32,   0,   0],\n",
      "       [155,   0,   0]]), 'precision': 0.0714, 'recall': 0.3333, 'f1': 0.1176, 'accuracy': 0.2143}\n"
     ]
    },
    {
     "name": "stderr",
     "output_type": "stream",
     "text": [
      "model_head.pkl not found in /root/autodl-tmp/CommitFit/sentence-transformers/paraphrase-mpnet-base-v2, initialising classification head with random weights. You should TRAIN this model on a downstream task to use it for predictions and inference.\n"
     ]
    },
    {
     "data": {
      "application/vnd.jupyter.widget-view+json": {
       "model_id": "c63d46a6bedf4a75a5841408498560f8",
       "version_major": 2,
       "version_minor": 0
      },
      "text/plain": [
       "Generating Training Pairs:   0%|          | 0/20 [00:00<?, ?it/s]"
      ]
     },
     "metadata": {},
     "output_type": "display_data"
    },
    {
     "name": "stderr",
     "output_type": "stream",
     "text": [
      "***** Running training *****\n",
      "  Num examples = 6960\n",
      "  Num epochs = 1\n",
      "  Total optimization steps = 435\n",
      "  Total train batch size = 16\n"
     ]
    },
    {
     "data": {
      "application/vnd.jupyter.widget-view+json": {
       "model_id": "cd559d7d0328499b89d619275dfdb4db",
       "version_major": 2,
       "version_minor": 0
      },
      "text/plain": [
       "Epoch:   0%|          | 0/1 [00:00<?, ?it/s]"
      ]
     },
     "metadata": {},
     "output_type": "display_data"
    },
    {
     "data": {
      "application/vnd.jupyter.widget-view+json": {
       "model_id": "4fa3946030a745dcb1ceb1e2cec91aa7",
       "version_major": 2,
       "version_minor": 0
      },
      "text/plain": [
       "Iteration:   0%|          | 0/435 [00:00<?, ?it/s]"
      ]
     },
     "metadata": {},
     "output_type": "display_data"
    },
    {
     "name": "stderr",
     "output_type": "stream",
     "text": [
      "***** Running evaluation *****\n",
      "[I 2025-08-30 09:39:51,902] Trial 3 finished with value: 0.6345 and parameters: {'learning_rate': 1.0197945116610178e-06}. Best is trial 0 with value: 0.7017.\n",
      "Trial: {'learning_rate': 2.2807400311641488e-05}\n"
     ]
    },
    {
     "name": "stdout",
     "output_type": "stream",
     "text": [
      "Confusion Matrix:\n",
      " [[40  1 10]\n",
      " [ 2 25  5]\n",
      " [34 35 86]]\n",
      "              precision    recall  f1-score   support\n",
      "\n",
      "           0     0.5263    0.7843    0.6299        51\n",
      "           1     0.4098    0.7812    0.5376        32\n",
      "           2     0.8515    0.5548    0.6719       155\n",
      "\n",
      "    accuracy                         0.6345       238\n",
      "   macro avg     0.5959    0.7068    0.6131       238\n",
      "weighted avg     0.7224    0.6345    0.6448       238\n",
      "\n",
      "+++++++++++ {'classification_report': '              precision    recall  f1-score   support\\n\\n           0     0.5263    0.7843    0.6299        51\\n           1     0.4098    0.7812    0.5376        32\\n           2     0.8515    0.5548    0.6719       155\\n\\n    accuracy                         0.6345       238\\n   macro avg     0.5959    0.7068    0.6131       238\\nweighted avg     0.7224    0.6345    0.6448       238\\n', 'Confusion Matrix': array([[40,  1, 10],\n",
      "       [ 2, 25,  5],\n",
      "       [34, 35, 86]]), 'precision': 0.5959, 'recall': 0.7068, 'f1': 0.6131, 'accuracy': 0.6345}\n"
     ]
    },
    {
     "name": "stderr",
     "output_type": "stream",
     "text": [
      "model_head.pkl not found in /root/autodl-tmp/CommitFit/sentence-transformers/paraphrase-mpnet-base-v2, initialising classification head with random weights. You should TRAIN this model on a downstream task to use it for predictions and inference.\n"
     ]
    },
    {
     "data": {
      "application/vnd.jupyter.widget-view+json": {
       "model_id": "2d53549b72454f7bbd791ab79460c866",
       "version_major": 2,
       "version_minor": 0
      },
      "text/plain": [
       "Generating Training Pairs:   0%|          | 0/20 [00:00<?, ?it/s]"
      ]
     },
     "metadata": {},
     "output_type": "display_data"
    },
    {
     "name": "stderr",
     "output_type": "stream",
     "text": [
      "***** Running training *****\n",
      "  Num examples = 6960\n",
      "  Num epochs = 1\n",
      "  Total optimization steps = 435\n",
      "  Total train batch size = 16\n"
     ]
    },
    {
     "data": {
      "application/vnd.jupyter.widget-view+json": {
       "model_id": "ac89c597a76741ce942bb8a89e3c895b",
       "version_major": 2,
       "version_minor": 0
      },
      "text/plain": [
       "Epoch:   0%|          | 0/1 [00:00<?, ?it/s]"
      ]
     },
     "metadata": {},
     "output_type": "display_data"
    },
    {
     "data": {
      "application/vnd.jupyter.widget-view+json": {
       "model_id": "6db279953395435ead91f440cc405480",
       "version_major": 2,
       "version_minor": 0
      },
      "text/plain": [
       "Iteration:   0%|          | 0/435 [00:00<?, ?it/s]"
      ]
     },
     "metadata": {},
     "output_type": "display_data"
    },
    {
     "name": "stderr",
     "output_type": "stream",
     "text": [
      "***** Running evaluation *****\n",
      "[I 2025-08-30 09:41:22,028] Trial 4 finished with value: 0.6975 and parameters: {'learning_rate': 2.2807400311641488e-05}. Best is trial 0 with value: 0.7017.\n"
     ]
    },
    {
     "name": "stdout",
     "output_type": "stream",
     "text": [
      "Confusion Matrix:\n",
      " [[46  0  5]\n",
      " [ 3 25  4]\n",
      " [33 27 95]]\n",
      "              precision    recall  f1-score   support\n",
      "\n",
      "           0     0.5610    0.9020    0.6917        51\n",
      "           1     0.4808    0.7812    0.5952        32\n",
      "           2     0.9135    0.6129    0.7336       155\n",
      "\n",
      "    accuracy                         0.6975       238\n",
      "   macro avg     0.6517    0.7654    0.6735       238\n",
      "weighted avg     0.7798    0.6975    0.7060       238\n",
      "\n",
      "+++++++++++ {'classification_report': '              precision    recall  f1-score   support\\n\\n           0     0.5610    0.9020    0.6917        51\\n           1     0.4808    0.7812    0.5952        32\\n           2     0.9135    0.6129    0.7336       155\\n\\n    accuracy                         0.6975       238\\n   macro avg     0.6517    0.7654    0.6735       238\\nweighted avg     0.7798    0.6975    0.7060       238\\n', 'Confusion Matrix': array([[46,  0,  5],\n",
      "       [ 3, 25,  4],\n",
      "       [33, 27, 95]]), 'precision': 0.6517, 'recall': 0.7654, 'f1': 0.6735, 'accuracy': 0.6975}\n"
     ]
    }
   ],
   "source": [
    "trainer = CommitFitTrainer(\n",
    "    train_dataset=train_dataset,\n",
    "    train_code_change = train_code_change,\n",
    "    test_code_change = test_code_change,\n",
    "    eval_dataset=test_dataset,\n",
    "    model_init=model_init,\n",
    "    metric = compute_metrics,\n",
    "    num_iterations=20,\n",
    "    num_epochs=1\n",
    ")\n",
    "best_run = trainer.hyperparameter_search(direction=\"maximize\", hp_space=hp_space, compute_objective=my_compute_objective, n_trials=5)"
   ]
  },
  {
   "cell_type": "code",
   "execution_count": 21,
   "id": "91deb34e-2ef0-4f00-b6e7-7ffd18605c52",
   "metadata": {
    "execution": {
     "iopub.execute_input": "2025-08-30T01:41:22.033177Z",
     "iopub.status.busy": "2025-08-30T01:41:22.032666Z",
     "iopub.status.idle": "2025-08-30T01:41:22.037452Z",
     "shell.execute_reply": "2025-08-30T01:41:22.036860Z",
     "shell.execute_reply.started": "2025-08-30T01:41:22.033151Z"
    }
   },
   "outputs": [
    {
     "data": {
      "text/plain": [
       "BestRun(run_id='0', objective=0.7017, hyperparameters={'learning_rate': 4.895298406404869e-06}, backend=<optuna.study.study.Study object at 0x7ff84f4fbf40>)"
      ]
     },
     "execution_count": 21,
     "metadata": {},
     "output_type": "execute_result"
    }
   ],
   "source": [
    "best_run"
   ]
  },
  {
   "cell_type": "code",
   "execution_count": 22,
   "id": "40cfde46-c7d5-4446-8b53-7ad4dc8edb66",
   "metadata": {
    "execution": {
     "iopub.execute_input": "2025-08-30T01:41:22.038817Z",
     "iopub.status.busy": "2025-08-30T01:41:22.038281Z",
     "iopub.status.idle": "2025-08-30T01:41:22.042977Z",
     "shell.execute_reply": "2025-08-30T01:41:22.042342Z",
     "shell.execute_reply.started": "2025-08-30T01:41:22.038788Z"
    }
   },
   "outputs": [
    {
     "data": {
      "text/plain": [
       "{'learning_rate': 4.895298406404869e-06}"
      ]
     },
     "execution_count": 22,
     "metadata": {},
     "output_type": "execute_result"
    }
   ],
   "source": [
    "best_run.hyperparameters"
   ]
  },
  {
   "cell_type": "code",
   "execution_count": 23,
   "id": "ae735a8b-c672-4dce-822c-61330c34481b",
   "metadata": {
    "execution": {
     "iopub.execute_input": "2025-08-30T01:41:22.044193Z",
     "iopub.status.busy": "2025-08-30T01:41:22.043837Z",
     "iopub.status.idle": "2025-08-30T01:42:47.115042Z",
     "shell.execute_reply": "2025-08-30T01:42:47.113925Z",
     "shell.execute_reply.started": "2025-08-30T01:41:22.044164Z"
    }
   },
   "outputs": [
    {
     "name": "stderr",
     "output_type": "stream",
     "text": [
      "model_head.pkl not found in /root/autodl-tmp/CommitFit/sentence-transformers/paraphrase-mpnet-base-v2, initialising classification head with random weights. You should TRAIN this model on a downstream task to use it for predictions and inference.\n"
     ]
    },
    {
     "data": {
      "application/vnd.jupyter.widget-view+json": {
       "model_id": "ca44ec932d7f4b0cbcd5fed974d6408b",
       "version_major": 2,
       "version_minor": 0
      },
      "text/plain": [
       "Generating Training Pairs:   0%|          | 0/20 [00:00<?, ?it/s]"
      ]
     },
     "metadata": {},
     "output_type": "display_data"
    },
    {
     "name": "stderr",
     "output_type": "stream",
     "text": [
      "***** Running training *****\n",
      "  Num examples = 6960\n",
      "  Num epochs = 1\n",
      "  Total optimization steps = 435\n",
      "  Total train batch size = 16\n"
     ]
    },
    {
     "data": {
      "application/vnd.jupyter.widget-view+json": {
       "model_id": "1095c11f7176436ab60384a06f52190b",
       "version_major": 2,
       "version_minor": 0
      },
      "text/plain": [
       "Epoch:   0%|          | 0/1 [00:00<?, ?it/s]"
      ]
     },
     "metadata": {},
     "output_type": "display_data"
    },
    {
     "data": {
      "application/vnd.jupyter.widget-view+json": {
       "model_id": "685ae3f222364d2caa7882ed37506aae",
       "version_major": 2,
       "version_minor": 0
      },
      "text/plain": [
       "Iteration:   0%|          | 0/435 [00:00<?, ?it/s]"
      ]
     },
     "metadata": {},
     "output_type": "display_data"
    }
   ],
   "source": [
    "trainer.apply_hyperparameters(best_run.hyperparameters, final_model=True)\n",
    "trainer.train()"
   ]
  },
  {
   "cell_type": "code",
   "execution_count": 24,
   "id": "166dcf9b-a0bd-4b60-854c-c6535c22a111",
   "metadata": {
    "execution": {
     "iopub.execute_input": "2025-08-30T01:42:47.117247Z",
     "iopub.status.busy": "2025-08-30T01:42:47.116800Z",
     "iopub.status.idle": "2025-08-30T01:42:51.913805Z",
     "shell.execute_reply": "2025-08-30T01:42:51.913060Z",
     "shell.execute_reply.started": "2025-08-30T01:42:47.117214Z"
    }
   },
   "outputs": [
    {
     "name": "stderr",
     "output_type": "stream",
     "text": [
      "***** Running evaluation *****\n"
     ]
    },
    {
     "name": "stdout",
     "output_type": "stream",
     "text": [
      "Confusion Matrix:\n",
      " [[45  0  6]\n",
      " [ 4 24  4]\n",
      " [30 27 98]]\n",
      "              precision    recall  f1-score   support\n",
      "\n",
      "           0     0.5696    0.8824    0.6923        51\n",
      "           1     0.4706    0.7500    0.5783        32\n",
      "           2     0.9074    0.6323    0.7452       155\n",
      "\n",
      "    accuracy                         0.7017       238\n",
      "   macro avg     0.6492    0.7549    0.6720       238\n",
      "weighted avg     0.7763    0.7017    0.7115       238\n",
      "\n"
     ]
    },
    {
     "data": {
      "text/plain": [
       "{'classification_report': '              precision    recall  f1-score   support\\n\\n           0     0.5696    0.8824    0.6923        51\\n           1     0.4706    0.7500    0.5783        32\\n           2     0.9074    0.6323    0.7452       155\\n\\n    accuracy                         0.7017       238\\n   macro avg     0.6492    0.7549    0.6720       238\\nweighted avg     0.7763    0.7017    0.7115       238\\n',\n",
       " 'Confusion Matrix': array([[45,  0,  6],\n",
       "        [ 4, 24,  4],\n",
       "        [30, 27, 98]]),\n",
       " 'precision': 0.6492,\n",
       " 'recall': 0.7549,\n",
       " 'f1': 0.672,\n",
       " 'accuracy': 0.7017}"
      ]
     },
     "execution_count": 24,
     "metadata": {},
     "output_type": "execute_result"
    }
   ],
   "source": [
    "fewshot_metrics = trainer.evaluate()\n",
    "fewshot_metrics"
   ]
  },
  {
   "cell_type": "code",
   "execution_count": 25,
   "id": "af21aba7-66cd-4762-b5d4-6d27650bba7e",
   "metadata": {
    "execution": {
     "iopub.execute_input": "2025-08-30T01:42:51.914907Z",
     "iopub.status.busy": "2025-08-30T01:42:51.914693Z",
     "iopub.status.idle": "2025-08-30T01:42:52.892101Z",
     "shell.execute_reply": "2025-08-30T01:42:52.890654Z",
     "shell.execute_reply.started": "2025-08-30T01:42:51.914883Z"
    }
   },
   "outputs": [
    {
     "name": "stdout",
     "output_type": "stream",
     "text": [
      "强化学习模型训练完毕\n"
     ]
    }
   ],
   "source": [
    "#发送多种类型的邮件\n",
    "from email.mime.multipart import MIMEMultipart\n",
    "import smtplib\n",
    "\n",
    "from email.mime.text import MIMEText\n",
    "msg_from = '915803745@qq.com'  # 发送方邮箱\n",
    "passwd = 'vcuosuurrgkfbdai'   #就是上面的授权码\n",
    " \n",
    "# to= ['g.zhang@gotion.com', 'j.tong@gotion.com'] #接受方邮箱\n",
    "to= ['j.tong@gotion.com'] #接受方邮箱\n",
    "#设置邮件内容\n",
    "#MIMEMultipart类可以放任何内容\n",
    "msg = MIMEMultipart()\n",
    "conntent=f\"{fewshot_metrics}\"\n",
    "#把内容加进去\n",
    "msg.attach(MIMEText(conntent,'plain','utf-8'))\n",
    " \n",
    "#设置邮件主题\n",
    "msg['Subject']=\"强化学习模型训练完毕\"\n",
    " \n",
    "#发送方信息\n",
    "msg['From']=msg_from\n",
    " \n",
    "#开始发送\n",
    " \n",
    "#通过SSL方式发送，服务器地址和端口\n",
    "s = smtplib.SMTP_SSL(\"smtp.qq.com\", 465)\n",
    "# 登录邮箱\n",
    "s.login(msg_from, passwd)\n",
    "#开始发送\n",
    "s.sendmail(msg_from,to,msg.as_string())\n",
    "print(\"强化学习模型训练完毕\")"
   ]
  },
  {
   "cell_type": "code",
   "execution_count": null,
   "id": "025b5144-4d11-4fae-b716-5cb039470225",
   "metadata": {},
   "outputs": [],
   "source": []
  }
 ],
 "metadata": {
  "kernelspec": {
   "display_name": "Python 3 (ipykernel)",
   "language": "python",
   "name": "python3"
  },
  "language_info": {
   "codemirror_mode": {
    "name": "ipython",
    "version": 3
   },
   "file_extension": ".py",
   "mimetype": "text/x-python",
   "name": "python",
   "nbconvert_exporter": "python",
   "pygments_lexer": "ipython3",
   "version": "3.10.8"
  }
 },
 "nbformat": 4,
 "nbformat_minor": 5
}
