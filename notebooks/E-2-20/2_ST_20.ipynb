{
 "cells": [
  {
   "cell_type": "code",
   "execution_count": 1,
   "id": "77d93e6a-106b-4abd-87e7-1243d4c51126",
   "metadata": {
    "execution": {
     "iopub.execute_input": "2024-05-29T05:14:30.474998Z",
     "iopub.status.busy": "2024-05-29T05:14:30.474646Z",
     "iopub.status.idle": "2024-05-29T05:14:34.503489Z",
     "shell.execute_reply": "2024-05-29T05:14:34.502699Z",
     "shell.execute_reply.started": "2024-05-29T05:14:30.474960Z"
    },
    "id": "77d93e6a-106b-4abd-87e7-1243d4c51126"
   },
   "outputs": [],
   "source": [
    "# !pip install transformers accelerate\n",
    "from transformers import AutoTokenizer, AutoModel, EarlyStoppingCallback, AutoModelForSequenceClassification, AutoConfig,Trainer, TrainingArguments,DataCollatorWithPadding\n",
    "import torch\n",
    "import numpy as np\n",
    "import pandas as pd\n",
    "# !pip install datasets\n",
    "from datasets import load_metric\n",
    "# !pip install evaluate\n",
    "from evaluate import evaluator\n",
    "from sklearn.model_selection import train_test_split\n",
    "import csv\n",
    "\n",
    "# notebook_login()\n",
    "\n",
    "CUDA_LAUNCH_BLOCKING=1\n"
   ]
  },
  {
   "cell_type": "code",
   "execution_count": 2,
   "id": "Wkey0rYSSAhB",
   "metadata": {
    "colab": {
     "base_uri": "https://localhost:8080/"
    },
    "execution": {
     "iopub.execute_input": "2024-05-29T05:14:34.505088Z",
     "iopub.status.busy": "2024-05-29T05:14:34.504570Z",
     "iopub.status.idle": "2024-05-29T05:14:34.508470Z",
     "shell.execute_reply": "2024-05-29T05:14:34.507752Z",
     "shell.execute_reply.started": "2024-05-29T05:14:34.505048Z"
    },
    "id": "Wkey0rYSSAhB",
    "outputId": "be159b43-1080-48dc-855f-af527cdc29c5"
   },
   "outputs": [],
   "source": [
    "# from google.colab import drive\n",
    "# drive.mount('/content/drive')"
   ]
  },
  {
   "cell_type": "code",
   "execution_count": 3,
   "id": "9ef5359f-9526-4d19-a2da-7988dc1ea04f",
   "metadata": {
    "execution": {
     "iopub.execute_input": "2024-05-29T05:14:34.510056Z",
     "iopub.status.busy": "2024-05-29T05:14:34.509713Z",
     "iopub.status.idle": "2024-05-29T05:14:38.017274Z",
     "shell.execute_reply": "2024-05-29T05:14:38.016554Z",
     "shell.execute_reply.started": "2024-05-29T05:14:34.510030Z"
    },
    "id": "9ef5359f-9526-4d19-a2da-7988dc1ea04f"
   },
   "outputs": [
    {
     "name": "stderr",
     "output_type": "stream",
     "text": [
      "/tmp/ipykernel_8361/2093326092.py:4: FutureWarning: Downcasting behavior in `replace` is deprecated and will be removed in a future version. To retain the old behavior, explicitly call `result.infer_objects(copy=False)`. To opt-in to the future behavior, set `pd.set_option('future.no_silent_downcasting', True)`\n",
      "  train = train.replace({\"label\": label2id})\n",
      "/tmp/ipykernel_8361/2093326092.py:7: FutureWarning: Downcasting behavior in `replace` is deprecated and will be removed in a future version. To retain the old behavior, explicitly call `result.infer_objects(copy=False)`. To opt-in to the future behavior, set `pd.set_option('future.no_silent_downcasting', True)`\n",
      "  test = test.replace({\"label\": label2id})\n"
     ]
    }
   ],
   "source": [
    "label2id = {'negative':0,'positive':1}\n",
    "\n",
    "train = pd.read_csv(r'train.csv', encoding='utf_8_sig')\n",
    "train = train.replace({\"label\": label2id})\n",
    "train.fillna('', inplace=True)\n",
    "test = pd.read_csv(r'test.csv', encoding='utf_8_sig')\n",
    "test = test.replace({\"label\": label2id})\n",
    "test.fillna('', inplace=True)"
   ]
  },
  {
   "cell_type": "code",
   "execution_count": 4,
   "id": "jYWXjthC0rGo",
   "metadata": {
    "colab": {
     "base_uri": "https://localhost:8080/",
     "height": 684
    },
    "execution": {
     "iopub.execute_input": "2024-05-29T05:14:38.019058Z",
     "iopub.status.busy": "2024-05-29T05:14:38.018753Z",
     "iopub.status.idle": "2024-05-29T05:14:38.073999Z",
     "shell.execute_reply": "2024-05-29T05:14:38.073311Z",
     "shell.execute_reply.started": "2024-05-29T05:14:38.019019Z"
    },
    "id": "jYWXjthC0rGo",
    "outputId": "41f990d0-deb5-4d86-fd90-8e20873610e4"
   },
   "outputs": [
    {
     "data": {
      "text/html": [
       "<div>\n",
       "<style scoped>\n",
       "    .dataframe tbody tr th:only-of-type {\n",
       "        vertical-align: middle;\n",
       "    }\n",
       "\n",
       "    .dataframe tbody tr th {\n",
       "        vertical-align: top;\n",
       "    }\n",
       "\n",
       "    .dataframe thead th {\n",
       "        text-align: right;\n",
       "    }\n",
       "</style>\n",
       "<table border=\"1\" class=\"dataframe\">\n",
       "  <thead>\n",
       "    <tr style=\"text-align: right;\">\n",
       "      <th></th>\n",
       "      <th>label</th>\n",
       "      <th>text</th>\n",
       "      <th>diff</th>\n",
       "    </tr>\n",
       "  </thead>\n",
       "  <tbody>\n",
       "    <tr>\n",
       "      <th>0</th>\n",
       "      <td>0</td>\n",
       "      <td>Fix macro names - related to #448</td>\n",
       "      <td>diff --git a/src/ciphers/aes/aes.c b/src/ciphe...</td>\n",
       "    </tr>\n",
       "    <tr>\n",
       "      <th>1</th>\n",
       "      <td>0</td>\n",
       "      <td>9.0.4</td>\n",
       "      <td>diff --git a/package.json b/package.json\\ninde...</td>\n",
       "    </tr>\n",
       "    <tr>\n",
       "      <th>2</th>\n",
       "      <td>1</td>\n",
       "      <td>https://github.com/ImageMagick/ImageMagick/iss...</td>\n",
       "      <td>diff --git a/coders/png.c b/coders/png.c\\ninde...</td>\n",
       "    </tr>\n",
       "    <tr>\n",
       "      <th>3</th>\n",
       "      <td>0</td>\n",
       "      <td>test: incr. disk size for TEST 35 ISCSI-MULTI</td>\n",
       "      <td>diff --git a/test/TEST-35-ISCSI-MULTI/test.sh ...</td>\n",
       "    </tr>\n",
       "    <tr>\n",
       "      <th>4</th>\n",
       "      <td>0</td>\n",
       "      <td>git-svn-id: https://plugins.svn.wordpress.org/...</td>\n",
       "      <td>diff --git a/inc/define.php b/inc/define.php\\n...</td>\n",
       "    </tr>\n",
       "    <tr>\n",
       "      <th>5</th>\n",
       "      <td>0</td>\n",
       "      <td>[JBPM-9474] Produce events to Kafka by Signal ...</td>\n",
       "      <td>diff --git a/jbpm-bpmn2/src/main/java/org/jbpm...</td>\n",
       "    </tr>\n",
       "    <tr>\n",
       "      <th>6</th>\n",
       "      <td>1</td>\n",
       "      <td>SPOOLSS: Try to avoid an infinite loop.\\n\\nUse...</td>\n",
       "      <td>diff --git a/epan/dissectors/packet-dcerpc-spo...</td>\n",
       "    </tr>\n",
       "    <tr>\n",
       "      <th>7</th>\n",
       "      <td>1</td>\n",
       "      <td>Normalize resource URL in ResourceServlet\\n\\nI...</td>\n",
       "      <td>diff --git a/spring-webmvc/src/main/java/org/s...</td>\n",
       "    </tr>\n",
       "    <tr>\n",
       "      <th>8</th>\n",
       "      <td>0</td>\n",
       "      <td>Merge branch '1.8.x'</td>\n",
       "      <td>diff --git a/src/ClientCommand.cpp b/src/Clien...</td>\n",
       "    </tr>\n",
       "    <tr>\n",
       "      <th>9</th>\n",
       "      <td>0</td>\n",
       "      <td>Change distribution URL.\\n\\ngit-svn-id: https:...</td>\n",
       "      <td>diff --git a/c/xml-security-c.spec b/c/xml-sec...</td>\n",
       "    </tr>\n",
       "    <tr>\n",
       "      <th>10</th>\n",
       "      <td>0</td>\n",
       "      <td>some test spec fixes</td>\n",
       "      <td>diff --git a/asset-pipeline-grails/src/test/gr...</td>\n",
       "    </tr>\n",
       "    <tr>\n",
       "      <th>11</th>\n",
       "      <td>1</td>\n",
       "      <td>Resolving Issue #918\\n\\nMinor XSS and create g...</td>\n",
       "      <td>diff --git a/docs/CHANGELOG b/docs/CHANGELOG\\n...</td>\n",
       "    </tr>\n",
       "    <tr>\n",
       "      <th>12</th>\n",
       "      <td>0</td>\n",
       "      <td>Needs to allow this syscall as well, caught on...</td>\n",
       "      <td>diff --git a/linux_priv.c b/linux_priv.c\\ninde...</td>\n",
       "    </tr>\n",
       "    <tr>\n",
       "      <th>13</th>\n",
       "      <td>1</td>\n",
       "      <td>[MJ2] Avoid index out of bounds access to pi-&gt;...</td>\n",
       "      <td>diff --git a/src/lib/openmj2/pi.c b/src/lib/op...</td>\n",
       "    </tr>\n",
       "    <tr>\n",
       "      <th>14</th>\n",
       "      <td>0</td>\n",
       "      <td>[ENTESB-6799] Declare brms-features/xml/featur...</td>\n",
       "      <td>diff --git a/esb/esb-assembly/jboss-fuse-karaf...</td>\n",
       "    </tr>\n",
       "    <tr>\n",
       "      <th>15</th>\n",
       "      <td>0</td>\n",
       "      <td>Merge branch 'bugfix/0046' into develop</td>\n",
       "      <td>diff --git a/application/views/jobs.view.php b...</td>\n",
       "    </tr>\n",
       "    <tr>\n",
       "      <th>16</th>\n",
       "      <td>1</td>\n",
       "      <td>Update NewslettersController.php\\n\\nTest if an...</td>\n",
       "      <td>diff --git a/www/guis/users/application/contro...</td>\n",
       "    </tr>\n",
       "    <tr>\n",
       "      <th>17</th>\n",
       "      <td>1</td>\n",
       "      <td>Login: Use `wp_safe_redirect()` when redirecti...</td>\n",
       "      <td>diff --git a/wp-includes/version.php b/wp-incl...</td>\n",
       "    </tr>\n",
       "    <tr>\n",
       "      <th>18</th>\n",
       "      <td>0</td>\n",
       "      <td>Fixed link errors</td>\n",
       "      <td>diff --git a/src/irisnet/CMakeLists.txt b/src/...</td>\n",
       "    </tr>\n",
       "    <tr>\n",
       "      <th>19</th>\n",
       "      <td>1</td>\n",
       "      <td>Filter out %0A from paths</td>\n",
       "      <td>diff --git a/apps/files/js/filelist.js b/apps/...</td>\n",
       "    </tr>\n",
       "    <tr>\n",
       "      <th>20</th>\n",
       "      <td>1</td>\n",
       "      <td>Check types to avoid invalid reads/writes.</td>\n",
       "      <td>diff --git a/src/file.c b/src/file.c\\nindex 4d...</td>\n",
       "    </tr>\n",
       "    <tr>\n",
       "      <th>21</th>\n",
       "      <td>0</td>\n",
       "      <td>modified : generic_curl function added in the ...</td>\n",
       "      <td>diff --git a/upload/includes/functions.php b/u...</td>\n",
       "    </tr>\n",
       "    <tr>\n",
       "      <th>22</th>\n",
       "      <td>1</td>\n",
       "      <td>Various related (un)deploy improvements includ...</td>\n",
       "      <td>diff --git a/java/org/apache/catalina/loader/L...</td>\n",
       "    </tr>\n",
       "    <tr>\n",
       "      <th>23</th>\n",
       "      <td>0</td>\n",
       "      <td>fix(documentation): remove route redeclaration...</td>\n",
       "      <td>diff --git a/doc/API/centreon-api-v2.yaml b/do...</td>\n",
       "    </tr>\n",
       "    <tr>\n",
       "      <th>24</th>\n",
       "      <td>0</td>\n",
       "      <td>Merge pull request #685 from matteeyah/master\\...</td>\n",
       "      <td>diff --git a/test/test_source_maps.rb b/test/t...</td>\n",
       "    </tr>\n",
       "    <tr>\n",
       "      <th>25</th>\n",
       "      <td>0</td>\n",
       "      <td>Fixes #30731 - Make smart-proxy use SdNotify l...</td>\n",
       "      <td>diff --git a/lib/launcher.rb b/lib/launcher.rb...</td>\n",
       "    </tr>\n",
       "    <tr>\n",
       "      <th>26</th>\n",
       "      <td>0</td>\n",
       "      <td>Merge pull request #965 from civetweb/merge-mb...</td>\n",
       "      <td>diff --git a/Makefile b/Makefile\\nindex d0580e...</td>\n",
       "    </tr>\n",
       "    <tr>\n",
       "      <th>27</th>\n",
       "      <td>1</td>\n",
       "      <td>Fixed issue: [security] #15204: Stored XSS vul...</td>\n",
       "      <td>diff --git a/application/controllers/admin/Sur...</td>\n",
       "    </tr>\n",
       "    <tr>\n",
       "      <th>28</th>\n",
       "      <td>0</td>\n",
       "      <td>Merge pull request #2426 from alvarobartt/deve...</td>\n",
       "      <td>diff --git a/nltk/tag/stanford.py b/nltk/tag/s...</td>\n",
       "    </tr>\n",
       "    <tr>\n",
       "      <th>29</th>\n",
       "      <td>0</td>\n",
       "      <td>Bootstrap 3 migration: alert-error-&gt;alert-danger.</td>\n",
       "      <td>diff --git a/src/main/java/org/projectforge/we...</td>\n",
       "    </tr>\n",
       "    <tr>\n",
       "      <th>30</th>\n",
       "      <td>0</td>\n",
       "      <td>configure.ac: change minor version to prepare ...</td>\n",
       "      <td>diff --git a/configure.ac b/configure.ac\\ninde...</td>\n",
       "    </tr>\n",
       "    <tr>\n",
       "      <th>31</th>\n",
       "      <td>0</td>\n",
       "      <td>Merge pull request #24934 from nextcloud/max_f...</td>\n",
       "      <td>diff --git a/lib/base.php b/lib/base.php\\ninde...</td>\n",
       "    </tr>\n",
       "    <tr>\n",
       "      <th>32</th>\n",
       "      <td>1</td>\n",
       "      <td>XSS 취약점 수정</td>\n",
       "      <td>diff --git a/adm/boardgroup_form.php b/adm/boa...</td>\n",
       "    </tr>\n",
       "    <tr>\n",
       "      <th>33</th>\n",
       "      <td>0</td>\n",
       "      <td>Bump syn from 1.0.54 to 1.0.55 in /src/rust (#...</td>\n",
       "      <td>diff --git a/src/rust/Cargo.lock b/src/rust/Ca...</td>\n",
       "    </tr>\n",
       "    <tr>\n",
       "      <th>34</th>\n",
       "      <td>1</td>\n",
       "      <td>https://github.com/ImageMagick/ImageMagick/iss...</td>\n",
       "      <td>diff --git a/MagickWand/mogrify.c b/MagickWand...</td>\n",
       "    </tr>\n",
       "    <tr>\n",
       "      <th>35</th>\n",
       "      <td>0</td>\n",
       "      <td>Added popup resize to changeProfile() due to d...</td>\n",
       "      <td>diff --git a/js/edit_popup.js b/js/edit_popup....</td>\n",
       "    </tr>\n",
       "    <tr>\n",
       "      <th>36</th>\n",
       "      <td>1</td>\n",
       "      <td>predicate builder should not recurse for deter...</td>\n",
       "      <td>diff --git a/activerecord/lib/active_record/as...</td>\n",
       "    </tr>\n",
       "    <tr>\n",
       "      <th>37</th>\n",
       "      <td>0</td>\n",
       "      <td>2021 license</td>\n",
       "      <td>diff --git a/Gruntfile.js b/Gruntfile.js\\ninde...</td>\n",
       "    </tr>\n",
       "    <tr>\n",
       "      <th>38</th>\n",
       "      <td>0</td>\n",
       "      <td>Removed unused image</td>\n",
       "      <td>diff --git a/.idea/workspace.xml b/.idea/works...</td>\n",
       "    </tr>\n",
       "    <tr>\n",
       "      <th>39</th>\n",
       "      <td>0</td>\n",
       "      <td>[ticket/16675] Restore rxu's fix\\n\\nPHPBB3-16675</td>\n",
       "      <td>diff --git a/.github/workflows/tests.yml b/.gi...</td>\n",
       "    </tr>\n",
       "    <tr>\n",
       "      <th>40</th>\n",
       "      <td>1</td>\n",
       "      <td>CVE-2017-12895/ICMP: Check the availability of...</td>\n",
       "      <td>diff --git a/print-icmp.c b/print-icmp.c\\ninde...</td>\n",
       "    </tr>\n",
       "    <tr>\n",
       "      <th>41</th>\n",
       "      <td>1</td>\n",
       "      <td>LPS-27741 Add security by plugin context execu...</td>\n",
       "      <td>diff --git a/portal-impl/src/com/liferay/porta...</td>\n",
       "    </tr>\n",
       "    <tr>\n",
       "      <th>42</th>\n",
       "      <td>1</td>\n",
       "      <td>[CVE-2012-2098] Integrate fallback sort into t...</td>\n",
       "      <td>diff --git a/src/main/java/org/apache/commons/...</td>\n",
       "    </tr>\n",
       "    <tr>\n",
       "      <th>43</th>\n",
       "      <td>1</td>\n",
       "      <td>Fix remote code execution by auth'd users\\n\\nS...</td>\n",
       "      <td>diff --git a/symphony/content/content.blueprin...</td>\n",
       "    </tr>\n",
       "    <tr>\n",
       "      <th>44</th>\n",
       "      <td>0</td>\n",
       "      <td>Refactor file handle and track creation and de...</td>\n",
       "      <td>diff --git a/ChangeLog b/ChangeLog\\nindex 6ad0...</td>\n",
       "    </tr>\n",
       "    <tr>\n",
       "      <th>45</th>\n",
       "      <td>0</td>\n",
       "      <td>[maven-release-plugin] prepare release checkst...</td>\n",
       "      <td>diff --git a/pom.xml b/pom.xml\\nindex 2043823....</td>\n",
       "    </tr>\n",
       "    <tr>\n",
       "      <th>46</th>\n",
       "      <td>0</td>\n",
       "      <td>Repairing: implement invalid node checksum fix.</td>\n",
       "      <td>diff --git a/libexfat/exfat.h b/libexfat/exfat...</td>\n",
       "    </tr>\n",
       "    <tr>\n",
       "      <th>47</th>\n",
       "      <td>1</td>\n",
       "      <td>Reject replies to DNS PTR requests that contai...</td>\n",
       "      <td>diff --git a/src/dns.cpp b/src/dns.cpp\\nindex ...</td>\n",
       "    </tr>\n",
       "    <tr>\n",
       "      <th>48</th>\n",
       "      <td>0</td>\n",
       "      <td>Upgrade: Bump grape from 1.3.3 to 1.5.0\\n\\nBum...</td>\n",
       "      <td>diff --git a/Gemfile.lock b/Gemfile.lock\\ninde...</td>\n",
       "    </tr>\n",
       "    <tr>\n",
       "      <th>49</th>\n",
       "      <td>0</td>\n",
       "      <td>Merge branch '8.5' into 9.5</td>\n",
       "      <td>diff --git a/src/Framework/Assert.php b/src/Fr...</td>\n",
       "    </tr>\n",
       "  </tbody>\n",
       "</table>\n",
       "</div>"
      ],
      "text/plain": [
       "    label                                               text  \\\n",
       "0       0                  Fix macro names - related to #448   \n",
       "1       0                                              9.0.4   \n",
       "2       1  https://github.com/ImageMagick/ImageMagick/iss...   \n",
       "3       0      test: incr. disk size for TEST 35 ISCSI-MULTI   \n",
       "4       0  git-svn-id: https://plugins.svn.wordpress.org/...   \n",
       "5       0  [JBPM-9474] Produce events to Kafka by Signal ...   \n",
       "6       1  SPOOLSS: Try to avoid an infinite loop.\\n\\nUse...   \n",
       "7       1  Normalize resource URL in ResourceServlet\\n\\nI...   \n",
       "8       0                               Merge branch '1.8.x'   \n",
       "9       0  Change distribution URL.\\n\\ngit-svn-id: https:...   \n",
       "10      0                               some test spec fixes   \n",
       "11      1  Resolving Issue #918\\n\\nMinor XSS and create g...   \n",
       "12      0  Needs to allow this syscall as well, caught on...   \n",
       "13      1  [MJ2] Avoid index out of bounds access to pi->...   \n",
       "14      0  [ENTESB-6799] Declare brms-features/xml/featur...   \n",
       "15      0            Merge branch 'bugfix/0046' into develop   \n",
       "16      1  Update NewslettersController.php\\n\\nTest if an...   \n",
       "17      1  Login: Use `wp_safe_redirect()` when redirecti...   \n",
       "18      0                                  Fixed link errors   \n",
       "19      1                          Filter out %0A from paths   \n",
       "20      1         Check types to avoid invalid reads/writes.   \n",
       "21      0  modified : generic_curl function added in the ...   \n",
       "22      1  Various related (un)deploy improvements includ...   \n",
       "23      0  fix(documentation): remove route redeclaration...   \n",
       "24      0  Merge pull request #685 from matteeyah/master\\...   \n",
       "25      0  Fixes #30731 - Make smart-proxy use SdNotify l...   \n",
       "26      0  Merge pull request #965 from civetweb/merge-mb...   \n",
       "27      1  Fixed issue: [security] #15204: Stored XSS vul...   \n",
       "28      0  Merge pull request #2426 from alvarobartt/deve...   \n",
       "29      0  Bootstrap 3 migration: alert-error->alert-danger.   \n",
       "30      0  configure.ac: change minor version to prepare ...   \n",
       "31      0  Merge pull request #24934 from nextcloud/max_f...   \n",
       "32      1                                         XSS 취약점 수정   \n",
       "33      0  Bump syn from 1.0.54 to 1.0.55 in /src/rust (#...   \n",
       "34      1  https://github.com/ImageMagick/ImageMagick/iss...   \n",
       "35      0  Added popup resize to changeProfile() due to d...   \n",
       "36      1  predicate builder should not recurse for deter...   \n",
       "37      0                                       2021 license   \n",
       "38      0                               Removed unused image   \n",
       "39      0   [ticket/16675] Restore rxu's fix\\n\\nPHPBB3-16675   \n",
       "40      1  CVE-2017-12895/ICMP: Check the availability of...   \n",
       "41      1  LPS-27741 Add security by plugin context execu...   \n",
       "42      1  [CVE-2012-2098] Integrate fallback sort into t...   \n",
       "43      1  Fix remote code execution by auth'd users\\n\\nS...   \n",
       "44      0  Refactor file handle and track creation and de...   \n",
       "45      0  [maven-release-plugin] prepare release checkst...   \n",
       "46      0    Repairing: implement invalid node checksum fix.   \n",
       "47      1  Reject replies to DNS PTR requests that contai...   \n",
       "48      0  Upgrade: Bump grape from 1.3.3 to 1.5.0\\n\\nBum...   \n",
       "49      0                        Merge branch '8.5' into 9.5   \n",
       "\n",
       "                                                 diff  \n",
       "0   diff --git a/src/ciphers/aes/aes.c b/src/ciphe...  \n",
       "1   diff --git a/package.json b/package.json\\ninde...  \n",
       "2   diff --git a/coders/png.c b/coders/png.c\\ninde...  \n",
       "3   diff --git a/test/TEST-35-ISCSI-MULTI/test.sh ...  \n",
       "4   diff --git a/inc/define.php b/inc/define.php\\n...  \n",
       "5   diff --git a/jbpm-bpmn2/src/main/java/org/jbpm...  \n",
       "6   diff --git a/epan/dissectors/packet-dcerpc-spo...  \n",
       "7   diff --git a/spring-webmvc/src/main/java/org/s...  \n",
       "8   diff --git a/src/ClientCommand.cpp b/src/Clien...  \n",
       "9   diff --git a/c/xml-security-c.spec b/c/xml-sec...  \n",
       "10  diff --git a/asset-pipeline-grails/src/test/gr...  \n",
       "11  diff --git a/docs/CHANGELOG b/docs/CHANGELOG\\n...  \n",
       "12  diff --git a/linux_priv.c b/linux_priv.c\\ninde...  \n",
       "13  diff --git a/src/lib/openmj2/pi.c b/src/lib/op...  \n",
       "14  diff --git a/esb/esb-assembly/jboss-fuse-karaf...  \n",
       "15  diff --git a/application/views/jobs.view.php b...  \n",
       "16  diff --git a/www/guis/users/application/contro...  \n",
       "17  diff --git a/wp-includes/version.php b/wp-incl...  \n",
       "18  diff --git a/src/irisnet/CMakeLists.txt b/src/...  \n",
       "19  diff --git a/apps/files/js/filelist.js b/apps/...  \n",
       "20  diff --git a/src/file.c b/src/file.c\\nindex 4d...  \n",
       "21  diff --git a/upload/includes/functions.php b/u...  \n",
       "22  diff --git a/java/org/apache/catalina/loader/L...  \n",
       "23  diff --git a/doc/API/centreon-api-v2.yaml b/do...  \n",
       "24  diff --git a/test/test_source_maps.rb b/test/t...  \n",
       "25  diff --git a/lib/launcher.rb b/lib/launcher.rb...  \n",
       "26  diff --git a/Makefile b/Makefile\\nindex d0580e...  \n",
       "27  diff --git a/application/controllers/admin/Sur...  \n",
       "28  diff --git a/nltk/tag/stanford.py b/nltk/tag/s...  \n",
       "29  diff --git a/src/main/java/org/projectforge/we...  \n",
       "30  diff --git a/configure.ac b/configure.ac\\ninde...  \n",
       "31  diff --git a/lib/base.php b/lib/base.php\\ninde...  \n",
       "32  diff --git a/adm/boardgroup_form.php b/adm/boa...  \n",
       "33  diff --git a/src/rust/Cargo.lock b/src/rust/Ca...  \n",
       "34  diff --git a/MagickWand/mogrify.c b/MagickWand...  \n",
       "35  diff --git a/js/edit_popup.js b/js/edit_popup....  \n",
       "36  diff --git a/activerecord/lib/active_record/as...  \n",
       "37  diff --git a/Gruntfile.js b/Gruntfile.js\\ninde...  \n",
       "38  diff --git a/.idea/workspace.xml b/.idea/works...  \n",
       "39  diff --git a/.github/workflows/tests.yml b/.gi...  \n",
       "40  diff --git a/print-icmp.c b/print-icmp.c\\ninde...  \n",
       "41  diff --git a/portal-impl/src/com/liferay/porta...  \n",
       "42  diff --git a/src/main/java/org/apache/commons/...  \n",
       "43  diff --git a/symphony/content/content.blueprin...  \n",
       "44  diff --git a/ChangeLog b/ChangeLog\\nindex 6ad0...  \n",
       "45  diff --git a/pom.xml b/pom.xml\\nindex 2043823....  \n",
       "46  diff --git a/libexfat/exfat.h b/libexfat/exfat...  \n",
       "47  diff --git a/src/dns.cpp b/src/dns.cpp\\nindex ...  \n",
       "48  diff --git a/Gemfile.lock b/Gemfile.lock\\ninde...  \n",
       "49  diff --git a/src/Framework/Assert.php b/src/Fr...  "
      ]
     },
     "execution_count": 4,
     "metadata": {},
     "output_type": "execute_result"
    }
   ],
   "source": [
    "train"
   ]
  },
  {
   "cell_type": "code",
   "execution_count": 5,
   "id": "ee30affe-0ec9-46a3-bcaa-a1bd9422c939",
   "metadata": {
    "colab": {
     "base_uri": "https://localhost:8080/"
    },
    "execution": {
     "iopub.execute_input": "2024-05-29T05:14:38.075688Z",
     "iopub.status.busy": "2024-05-29T05:14:38.075333Z",
     "iopub.status.idle": "2024-05-29T05:14:38.080669Z",
     "shell.execute_reply": "2024-05-29T05:14:38.080053Z",
     "shell.execute_reply.started": "2024-05-29T05:14:38.075662Z"
    },
    "id": "ee30affe-0ec9-46a3-bcaa-a1bd9422c939",
    "outputId": "0fd90232-fe76-4d0d-976e-3ed298c84bfd"
   },
   "outputs": [
    {
     "data": {
      "text/plain": [
       "50"
      ]
     },
     "execution_count": 5,
     "metadata": {},
     "output_type": "execute_result"
    }
   ],
   "source": [
    "len(train)"
   ]
  },
  {
   "cell_type": "code",
   "execution_count": 6,
   "id": "84e38639-cf4b-4762-a1dc-cdc983938388",
   "metadata": {
    "colab": {
     "base_uri": "https://localhost:8080/"
    },
    "execution": {
     "iopub.execute_input": "2024-05-29T05:14:38.083643Z",
     "iopub.status.busy": "2024-05-29T05:14:38.083301Z",
     "iopub.status.idle": "2024-05-29T05:14:38.089864Z",
     "shell.execute_reply": "2024-05-29T05:14:38.089361Z",
     "shell.execute_reply.started": "2024-05-29T05:14:38.083617Z"
    },
    "id": "84e38639-cf4b-4762-a1dc-cdc983938388",
    "outputId": "80508d99-0b1c-4b0d-f2dc-8b4a05e3750d"
   },
   "outputs": [
    {
     "data": {
      "text/plain": [
       "label\n",
       "0    31\n",
       "1    19\n",
       "Name: count, dtype: int64"
      ]
     },
     "execution_count": 6,
     "metadata": {},
     "output_type": "execute_result"
    }
   ],
   "source": [
    "train['label'].value_counts()"
   ]
  },
  {
   "cell_type": "code",
   "execution_count": 7,
   "id": "3cf6c110-616d-45da-aa2e-4a5add26b3c0",
   "metadata": {
    "colab": {
     "base_uri": "https://localhost:8080/"
    },
    "execution": {
     "iopub.execute_input": "2024-05-29T05:14:38.091084Z",
     "iopub.status.busy": "2024-05-29T05:14:38.090836Z",
     "iopub.status.idle": "2024-05-29T05:14:38.097132Z",
     "shell.execute_reply": "2024-05-29T05:14:38.096473Z",
     "shell.execute_reply.started": "2024-05-29T05:14:38.091057Z"
    },
    "id": "3cf6c110-616d-45da-aa2e-4a5add26b3c0",
    "outputId": "9a746745-f576-4e0e-9229-fb64ead0b6db"
   },
   "outputs": [
    {
     "data": {
      "text/plain": [
       "label\n",
       "0    6316\n",
       "1    3746\n",
       "Name: count, dtype: int64"
      ]
     },
     "execution_count": 7,
     "metadata": {},
     "output_type": "execute_result"
    }
   ],
   "source": [
    "test['label'].value_counts()"
   ]
  },
  {
   "cell_type": "code",
   "execution_count": 8,
   "id": "dca6275a-a567-4963-831c-8dd653341162",
   "metadata": {
    "execution": {
     "iopub.execute_input": "2024-05-29T05:14:38.098499Z",
     "iopub.status.busy": "2024-05-29T05:14:38.098208Z",
     "iopub.status.idle": "2024-05-29T05:14:38.640381Z",
     "shell.execute_reply": "2024-05-29T05:14:38.639708Z",
     "shell.execute_reply.started": "2024-05-29T05:14:38.098467Z"
    },
    "id": "dca6275a-a567-4963-831c-8dd653341162"
   },
   "outputs": [],
   "source": [
    "# !pip install sentence_transformers\n",
    "from sentence_transformers import SentenceTransformer\n",
    "# model_id = \"../../sentence-transformers/paraphrase-mpnet-base-v2\"\n",
    "model = SentenceTransformer('../../sentence-transformers/paraphrase-mpnet-base-v2')"
   ]
  },
  {
   "cell_type": "code",
   "execution_count": 9,
   "id": "b7c52074-c55f-4218-bc87-cdbc6e36a993",
   "metadata": {
    "execution": {
     "iopub.execute_input": "2024-05-29T05:14:38.641746Z",
     "iopub.status.busy": "2024-05-29T05:14:38.641489Z",
     "iopub.status.idle": "2024-05-29T05:17:21.034679Z",
     "shell.execute_reply": "2024-05-29T05:17:21.033589Z",
     "shell.execute_reply.started": "2024-05-29T05:14:38.641720Z"
    },
    "id": "b7c52074-c55f-4218-bc87-cdbc6e36a993"
   },
   "outputs": [],
   "source": [
    "train['embeddings'] = train['text'].apply(lambda x: model.encode(str(x)))\n",
    "test['embeddings'] = test['text'].apply(lambda x: model.encode(str(x)))"
   ]
  },
  {
   "cell_type": "code",
   "execution_count": 10,
   "id": "Oo2YeBo8kclU",
   "metadata": {
    "colab": {
     "base_uri": "https://localhost:8080/",
     "height": 964
    },
    "execution": {
     "iopub.execute_input": "2024-05-29T05:17:21.036667Z",
     "iopub.status.busy": "2024-05-29T05:17:21.036378Z",
     "iopub.status.idle": "2024-05-29T05:17:21.060193Z",
     "shell.execute_reply": "2024-05-29T05:17:21.059421Z",
     "shell.execute_reply.started": "2024-05-29T05:17:21.036640Z"
    },
    "id": "Oo2YeBo8kclU",
    "outputId": "e82ba19c-1b96-4150-f898-d9b49172272a"
   },
   "outputs": [
    {
     "data": {
      "text/html": [
       "<div>\n",
       "<style scoped>\n",
       "    .dataframe tbody tr th:only-of-type {\n",
       "        vertical-align: middle;\n",
       "    }\n",
       "\n",
       "    .dataframe tbody tr th {\n",
       "        vertical-align: top;\n",
       "    }\n",
       "\n",
       "    .dataframe thead th {\n",
       "        text-align: right;\n",
       "    }\n",
       "</style>\n",
       "<table border=\"1\" class=\"dataframe\">\n",
       "  <thead>\n",
       "    <tr style=\"text-align: right;\">\n",
       "      <th></th>\n",
       "      <th>label</th>\n",
       "      <th>text</th>\n",
       "      <th>diff</th>\n",
       "      <th>embeddings</th>\n",
       "    </tr>\n",
       "  </thead>\n",
       "  <tbody>\n",
       "    <tr>\n",
       "      <th>0</th>\n",
       "      <td>0</td>\n",
       "      <td>Merge pull request #371 from rhenium/ky/hmac-e...</td>\n",
       "      <td>diff --git a/ext/openssl/extconf.rb b/ext/open...</td>\n",
       "      <td>[-0.0071238917, -0.02382523, 0.08038095, -0.03...</td>\n",
       "    </tr>\n",
       "    <tr>\n",
       "      <th>1</th>\n",
       "      <td>1</td>\n",
       "      <td>Additional check when unpacking archives. Cont...</td>\n",
       "      <td>diff --git a/hadoop-common-project/hadoop-comm...</td>\n",
       "      <td>[0.040803984, 0.38105646, -0.048270673, 0.0595...</td>\n",
       "    </tr>\n",
       "    <tr>\n",
       "      <th>2</th>\n",
       "      <td>0</td>\n",
       "      <td>Allow lists of trackingid footers\\n\\nGerrit al...</td>\n",
       "      <td>diff --git a/templates/gerrit.config.erb b/tem...</td>\n",
       "      <td>[-0.08971211, 0.21257286, -0.020339478, 0.1116...</td>\n",
       "    </tr>\n",
       "    <tr>\n",
       "      <th>3</th>\n",
       "      <td>0</td>\n",
       "      <td>Add test for opening a NeXT sound file with ze...</td>\n",
       "      <td>diff --git a/ChangeLog b/ChangeLog\\nindex aaa5...</td>\n",
       "      <td>[-0.1575543, 0.05420915, 0.026407806, -0.03680...</td>\n",
       "    </tr>\n",
       "    <tr>\n",
       "      <th>4</th>\n",
       "      <td>1</td>\n",
       "      <td>git-prompt.sh: don't put unsanitized branch na...</td>\n",
       "      <td>diff --git a/contrib/completion/git-prompt.sh ...</td>\n",
       "      <td>[-0.100363135, -0.06585043, -0.06453755, 0.056...</td>\n",
       "    </tr>\n",
       "    <tr>\n",
       "      <th>...</th>\n",
       "      <td>...</td>\n",
       "      <td>...</td>\n",
       "      <td>...</td>\n",
       "      <td>...</td>\n",
       "    </tr>\n",
       "    <tr>\n",
       "      <th>10057</th>\n",
       "      <td>1</td>\n",
       "      <td>Fix hostname verification using the deprecated...</td>\n",
       "      <td>diff --git a/rt/transports/http/src/main/java/...</td>\n",
       "      <td>[-0.098657325, 0.12404662, 0.018913269, -0.124...</td>\n",
       "    </tr>\n",
       "    <tr>\n",
       "      <th>10058</th>\n",
       "      <td>0</td>\n",
       "      <td>mod_mam: Add missing semicolon</td>\n",
       "      <td>diff --git a/src/mod_mam.erl b/src/mod_mam.erl...</td>\n",
       "      <td>[-0.009726456, -0.11668825, -0.024219565, -0.0...</td>\n",
       "    </tr>\n",
       "    <tr>\n",
       "      <th>10059</th>\n",
       "      <td>0</td>\n",
       "      <td>Create an initial project</td>\n",
       "      <td>diff --git a/.gitignore b/.gitignore\\nnew file...</td>\n",
       "      <td>[-0.21997099, 0.08384434, -0.060743522, -0.108...</td>\n",
       "    </tr>\n",
       "    <tr>\n",
       "      <th>10060</th>\n",
       "      <td>0</td>\n",
       "      <td>Merge pull request #501 from timgates42/bugfix...</td>\n",
       "      <td>diff --git a/src/config.c b/src/config.c\\ninde...</td>\n",
       "      <td>[0.012738513, -0.0528628, -0.011895727, 0.0169...</td>\n",
       "    </tr>\n",
       "    <tr>\n",
       "      <th>10061</th>\n",
       "      <td>0</td>\n",
       "      <td>Fix heap overflow. (#1404)\\n\\nhttps://oss-fuzz...</td>\n",
       "      <td>diff --git a/libyara/modules/dotnet/dotnet.c b...</td>\n",
       "      <td>[-0.087556176, -0.00247008, 0.07189858, 0.0949...</td>\n",
       "    </tr>\n",
       "  </tbody>\n",
       "</table>\n",
       "<p>10062 rows × 4 columns</p>\n",
       "</div>"
      ],
      "text/plain": [
       "       label                                               text  \\\n",
       "0          0  Merge pull request #371 from rhenium/ky/hmac-e...   \n",
       "1          1  Additional check when unpacking archives. Cont...   \n",
       "2          0  Allow lists of trackingid footers\\n\\nGerrit al...   \n",
       "3          0  Add test for opening a NeXT sound file with ze...   \n",
       "4          1  git-prompt.sh: don't put unsanitized branch na...   \n",
       "...      ...                                                ...   \n",
       "10057      1  Fix hostname verification using the deprecated...   \n",
       "10058      0                     mod_mam: Add missing semicolon   \n",
       "10059      0                          Create an initial project   \n",
       "10060      0  Merge pull request #501 from timgates42/bugfix...   \n",
       "10061      0  Fix heap overflow. (#1404)\\n\\nhttps://oss-fuzz...   \n",
       "\n",
       "                                                    diff  \\\n",
       "0      diff --git a/ext/openssl/extconf.rb b/ext/open...   \n",
       "1      diff --git a/hadoop-common-project/hadoop-comm...   \n",
       "2      diff --git a/templates/gerrit.config.erb b/tem...   \n",
       "3      diff --git a/ChangeLog b/ChangeLog\\nindex aaa5...   \n",
       "4      diff --git a/contrib/completion/git-prompt.sh ...   \n",
       "...                                                  ...   \n",
       "10057  diff --git a/rt/transports/http/src/main/java/...   \n",
       "10058  diff --git a/src/mod_mam.erl b/src/mod_mam.erl...   \n",
       "10059  diff --git a/.gitignore b/.gitignore\\nnew file...   \n",
       "10060  diff --git a/src/config.c b/src/config.c\\ninde...   \n",
       "10061  diff --git a/libyara/modules/dotnet/dotnet.c b...   \n",
       "\n",
       "                                              embeddings  \n",
       "0      [-0.0071238917, -0.02382523, 0.08038095, -0.03...  \n",
       "1      [0.040803984, 0.38105646, -0.048270673, 0.0595...  \n",
       "2      [-0.08971211, 0.21257286, -0.020339478, 0.1116...  \n",
       "3      [-0.1575543, 0.05420915, 0.026407806, -0.03680...  \n",
       "4      [-0.100363135, -0.06585043, -0.06453755, 0.056...  \n",
       "...                                                  ...  \n",
       "10057  [-0.098657325, 0.12404662, 0.018913269, -0.124...  \n",
       "10058  [-0.009726456, -0.11668825, -0.024219565, -0.0...  \n",
       "10059  [-0.21997099, 0.08384434, -0.060743522, -0.108...  \n",
       "10060  [0.012738513, -0.0528628, -0.011895727, 0.0169...  \n",
       "10061  [-0.087556176, -0.00247008, 0.07189858, 0.0949...  \n",
       "\n",
       "[10062 rows x 4 columns]"
      ]
     },
     "execution_count": 10,
     "metadata": {},
     "output_type": "execute_result"
    }
   ],
   "source": [
    "test"
   ]
  },
  {
   "cell_type": "code",
   "execution_count": 11,
   "id": "b95f20d0-163a-460b-88b6-e883c9f17eaa",
   "metadata": {
    "execution": {
     "iopub.execute_input": "2024-05-29T05:17:21.061721Z",
     "iopub.status.busy": "2024-05-29T05:17:21.061469Z",
     "iopub.status.idle": "2024-05-29T05:17:21.067313Z",
     "shell.execute_reply": "2024-05-29T05:17:21.066178Z",
     "shell.execute_reply.started": "2024-05-29T05:17:21.061697Z"
    },
    "id": "b95f20d0-163a-460b-88b6-e883c9f17eaa"
   },
   "outputs": [],
   "source": [
    "X_train = train['embeddings'].to_list()\n",
    "X_test = test['embeddings'].to_list()\n",
    "\n",
    "y_train = train['label'].to_list()\n",
    "y_test = test['label'].to_list()"
   ]
  },
  {
   "cell_type": "code",
   "execution_count": 12,
   "id": "a6501389-0c86-442d-85cf-f04ad146703f",
   "metadata": {
    "colab": {
     "base_uri": "https://localhost:8080/",
     "height": 75
    },
    "execution": {
     "iopub.execute_input": "2024-05-29T05:17:21.069493Z",
     "iopub.status.busy": "2024-05-29T05:17:21.068954Z",
     "iopub.status.idle": "2024-05-29T05:17:21.101806Z",
     "shell.execute_reply": "2024-05-29T05:17:21.100742Z",
     "shell.execute_reply.started": "2024-05-29T05:17:21.069439Z"
    },
    "id": "a6501389-0c86-442d-85cf-f04ad146703f",
    "outputId": "7dd3a215-4ef3-4014-d76b-b0d6bea1f86b"
   },
   "outputs": [
    {
     "data": {
      "text/html": [
       "<style>#sk-container-id-1 {color: black;}#sk-container-id-1 pre{padding: 0;}#sk-container-id-1 div.sk-toggleable {background-color: white;}#sk-container-id-1 label.sk-toggleable__label {cursor: pointer;display: block;width: 100%;margin-bottom: 0;padding: 0.3em;box-sizing: border-box;text-align: center;}#sk-container-id-1 label.sk-toggleable__label-arrow:before {content: \"▸\";float: left;margin-right: 0.25em;color: #696969;}#sk-container-id-1 label.sk-toggleable__label-arrow:hover:before {color: black;}#sk-container-id-1 div.sk-estimator:hover label.sk-toggleable__label-arrow:before {color: black;}#sk-container-id-1 div.sk-toggleable__content {max-height: 0;max-width: 0;overflow: hidden;text-align: left;background-color: #f0f8ff;}#sk-container-id-1 div.sk-toggleable__content pre {margin: 0.2em;color: black;border-radius: 0.25em;background-color: #f0f8ff;}#sk-container-id-1 input.sk-toggleable__control:checked~div.sk-toggleable__content {max-height: 200px;max-width: 100%;overflow: auto;}#sk-container-id-1 input.sk-toggleable__control:checked~label.sk-toggleable__label-arrow:before {content: \"▾\";}#sk-container-id-1 div.sk-estimator input.sk-toggleable__control:checked~label.sk-toggleable__label {background-color: #d4ebff;}#sk-container-id-1 div.sk-label input.sk-toggleable__control:checked~label.sk-toggleable__label {background-color: #d4ebff;}#sk-container-id-1 input.sk-hidden--visually {border: 0;clip: rect(1px 1px 1px 1px);clip: rect(1px, 1px, 1px, 1px);height: 1px;margin: -1px;overflow: hidden;padding: 0;position: absolute;width: 1px;}#sk-container-id-1 div.sk-estimator {font-family: monospace;background-color: #f0f8ff;border: 1px dotted black;border-radius: 0.25em;box-sizing: border-box;margin-bottom: 0.5em;}#sk-container-id-1 div.sk-estimator:hover {background-color: #d4ebff;}#sk-container-id-1 div.sk-parallel-item::after {content: \"\";width: 100%;border-bottom: 1px solid gray;flex-grow: 1;}#sk-container-id-1 div.sk-label:hover label.sk-toggleable__label {background-color: #d4ebff;}#sk-container-id-1 div.sk-serial::before {content: \"\";position: absolute;border-left: 1px solid gray;box-sizing: border-box;top: 0;bottom: 0;left: 50%;z-index: 0;}#sk-container-id-1 div.sk-serial {display: flex;flex-direction: column;align-items: center;background-color: white;padding-right: 0.2em;padding-left: 0.2em;position: relative;}#sk-container-id-1 div.sk-item {position: relative;z-index: 1;}#sk-container-id-1 div.sk-parallel {display: flex;align-items: stretch;justify-content: center;background-color: white;position: relative;}#sk-container-id-1 div.sk-item::before, #sk-container-id-1 div.sk-parallel-item::before {content: \"\";position: absolute;border-left: 1px solid gray;box-sizing: border-box;top: 0;bottom: 0;left: 50%;z-index: -1;}#sk-container-id-1 div.sk-parallel-item {display: flex;flex-direction: column;z-index: 1;position: relative;background-color: white;}#sk-container-id-1 div.sk-parallel-item:first-child::after {align-self: flex-end;width: 50%;}#sk-container-id-1 div.sk-parallel-item:last-child::after {align-self: flex-start;width: 50%;}#sk-container-id-1 div.sk-parallel-item:only-child::after {width: 0;}#sk-container-id-1 div.sk-dashed-wrapped {border: 1px dashed gray;margin: 0 0.4em 0.5em 0.4em;box-sizing: border-box;padding-bottom: 0.4em;background-color: white;}#sk-container-id-1 div.sk-label label {font-family: monospace;font-weight: bold;display: inline-block;line-height: 1.2em;}#sk-container-id-1 div.sk-label-container {text-align: center;}#sk-container-id-1 div.sk-container {/* jupyter's `normalize.less` sets `[hidden] { display: none; }` but bootstrap.min.css set `[hidden] { display: none !important; }` so we also need the `!important` here to be able to override the default hidden behavior on the sphinx rendered scikit-learn.org. See: https://github.com/scikit-learn/scikit-learn/issues/21755 */display: inline-block !important;position: relative;}#sk-container-id-1 div.sk-text-repr-fallback {display: none;}</style><div id=\"sk-container-id-1\" class=\"sk-top-container\"><div class=\"sk-text-repr-fallback\"><pre>LogisticRegression()</pre><b>In a Jupyter environment, please rerun this cell to show the HTML representation or trust the notebook. <br />On GitHub, the HTML representation is unable to render, please try loading this page with nbviewer.org.</b></div><div class=\"sk-container\" hidden><div class=\"sk-item\"><div class=\"sk-estimator sk-toggleable\"><input class=\"sk-toggleable__control sk-hidden--visually\" id=\"sk-estimator-id-1\" type=\"checkbox\" checked><label for=\"sk-estimator-id-1\" class=\"sk-toggleable__label sk-toggleable__label-arrow\">LogisticRegression</label><div class=\"sk-toggleable__content\"><pre>LogisticRegression()</pre></div></div></div></div></div>"
      ],
      "text/plain": [
       "LogisticRegression()"
      ]
     },
     "execution_count": 12,
     "metadata": {},
     "output_type": "execute_result"
    }
   ],
   "source": [
    "from sklearn.linear_model import LogisticRegression\n",
    "LR = LogisticRegression()\n",
    "LR.fit(X_train,y_train)"
   ]
  },
  {
   "cell_type": "code",
   "execution_count": 13,
   "id": "86e85ae4-76a0-4d00-8b0c-e867356c07f3",
   "metadata": {
    "colab": {
     "base_uri": "https://localhost:8080/"
    },
    "execution": {
     "iopub.execute_input": "2024-05-29T05:17:21.103081Z",
     "iopub.status.busy": "2024-05-29T05:17:21.102774Z",
     "iopub.status.idle": "2024-05-29T05:17:21.282996Z",
     "shell.execute_reply": "2024-05-29T05:17:21.282141Z",
     "shell.execute_reply.started": "2024-05-29T05:17:21.103057Z"
    },
    "id": "86e85ae4-76a0-4d00-8b0c-e867356c07f3",
    "outputId": "eedae872-6a71-4aa3-f253-b9f08f460c32"
   },
   "outputs": [
    {
     "name": "stdout",
     "output_type": "stream",
     "text": [
      "Logistic Regression Precision: 0.7577239120843295\n",
      "Logistic Regression Recall: 0.7617769827072153\n",
      "Logistic Regression Recall: 0.7559174479450217\n",
      "Logistic Regression Accuracy: 0.7617769827072153\n"
     ]
    }
   ],
   "source": [
    "from sklearn import metrics\n",
    "predicted = LR.predict(X_test)\n",
    "print(\"Logistic Regression Precision:\",metrics.precision_score(y_test, predicted,average='weighted'))\n",
    "print(\"Logistic Regression Recall:\",metrics.recall_score(y_test, predicted,average='weighted'))\n",
    "print(\"Logistic Regression Recall:\",metrics.f1_score(y_test, predicted,average='weighted'))\n",
    "print(\"Logistic Regression Accuracy:\",metrics.accuracy_score(y_test, predicted))"
   ]
  },
  {
   "cell_type": "code",
   "execution_count": null,
   "id": "166dcf9b-a0bd-4b60-854c-c6535c22a111",
   "metadata": {
    "id": "166dcf9b-a0bd-4b60-854c-c6535c22a111"
   },
   "outputs": [],
   "source": []
  },
  {
   "cell_type": "code",
   "execution_count": null,
   "id": "af21aba7-66cd-4762-b5d4-6d27650bba7e",
   "metadata": {
    "id": "af21aba7-66cd-4762-b5d4-6d27650bba7e"
   },
   "outputs": [],
   "source": []
  },
  {
   "cell_type": "code",
   "execution_count": null,
   "id": "6a6e2008-2b04-43c7-9c72-3f9fa9b6bafe",
   "metadata": {
    "id": "6a6e2008-2b04-43c7-9c72-3f9fa9b6bafe"
   },
   "outputs": [],
   "source": []
  },
  {
   "cell_type": "code",
   "execution_count": null,
   "id": "99ef5d5b-1f8e-4b10-aa74-963f9c4429d9",
   "metadata": {
    "id": "99ef5d5b-1f8e-4b10-aa74-963f9c4429d9"
   },
   "outputs": [],
   "source": []
  }
 ],
 "metadata": {
  "accelerator": "GPU",
  "colab": {
   "gpuType": "T4",
   "provenance": []
  },
  "kernelspec": {
   "display_name": "Python 3 (ipykernel)",
   "language": "python",
   "name": "python3"
  },
  "language_info": {
   "codemirror_mode": {
    "name": "ipython",
    "version": 3
   },
   "file_extension": ".py",
   "mimetype": "text/x-python",
   "name": "python",
   "nbconvert_exporter": "python",
   "pygments_lexer": "ipython3",
   "version": "3.11.8"
  }
 },
 "nbformat": 4,
 "nbformat_minor": 5
}
