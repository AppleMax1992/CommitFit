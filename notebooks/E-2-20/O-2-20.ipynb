version https://git-lfs.github.com/spec/v1
oid sha256:3e72e3c56aef025e573676c5bece4fdeadacf517bb4f4621dbacac91bbd736e5
size 67069
