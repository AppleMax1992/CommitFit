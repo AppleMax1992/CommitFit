{
 "cells": [
  {
   "cell_type": "code",
   "execution_count": 1,
   "id": "77d93e6a-106b-4abd-87e7-1243d4c51126",
   "metadata": {
    "execution": {
     "iopub.execute_input": "2025-09-01T02:02:49.286938Z",
     "iopub.status.busy": "2025-09-01T02:02:49.286639Z",
     "iopub.status.idle": "2025-09-01T02:02:52.548762Z",
     "shell.execute_reply": "2025-09-01T02:02:52.547858Z",
     "shell.execute_reply.started": "2025-09-01T02:02:49.286900Z"
    }
   },
   "outputs": [
    {
     "name": "stdout",
     "output_type": "stream",
     "text": [
      "\n",
      "root\n",
      "autodl-tmp\n",
      "CommitFit\n"
     ]
    }
   ],
   "source": [
    "# !pip install transformers accelerate\n",
    "# from transformers import AutoTokenizer, AutoModel, EarlyStoppingCallback, AutoModelForSequenceClassification, AutoConfig,Trainer, TrainingArguments,DataCollatorWithPadding\n",
    "import torch\n",
    "import numpy as np\n",
    "import pandas as pd\n",
    "# !pip install datasets\n",
    "from datasets import Dataset\n",
    "# %pip install evaluate\n",
    "import evaluate\n",
    "from sklearn.model_selection import train_test_split\n",
    "# from ipywidgets import FloatProgress\n",
    "import csv\n",
    "from optuna import Trial\n",
    "from typing import Dict, Union, Any\n",
    "import os\n",
    "import sys\n",
    "\n",
    "# notebook_login()\n",
    "\n",
    "csv.field_size_limit(500 * 1024 * 1024)\n",
    "CUDA_LAUNCH_BLOCKING=1\n",
    "# get pwd\n",
    "notebook_path = os.path.abspath('')\n",
    "\n",
    "# Find the part of the path that contains 'commitFit'\n",
    "commit_fit_path = None\n",
    "for part in notebook_path.split(os.sep):\n",
    "    print(part)\n",
    "    if 'CommitFit' in part:\n",
    "        commit_fit_path = notebook_path.split(part)[0] + part\n",
    "        break\n",
    "\n",
    "if commit_fit_path is None:\n",
    "    raise ValueError(\"Path containing 'commitFit' not found in notebook path.\")\n",
    "\n",
    "# Add commitFit directory to Python path, so we can import moudule from commitfit folder directly\n",
    "if commit_fit_path not in sys.path:\n",
    "    sys.path.append(commit_fit_path)\n",
    "\n",
    "from commitfit import CommitFitModel, CommitFitTrainer \n",
    "from commitfit import get_templated_dataset,sample_dataset"
   ]
  },
  {
   "cell_type": "code",
   "execution_count": 2,
   "id": "9ef5359f-9526-4d19-a2da-7988dc1ea04f",
   "metadata": {
    "execution": {
     "iopub.execute_input": "2025-09-01T02:02:52.551129Z",
     "iopub.status.busy": "2025-09-01T02:02:52.550713Z",
     "iopub.status.idle": "2025-09-01T02:02:52.903916Z",
     "shell.execute_reply": "2025-09-01T02:02:52.903130Z",
     "shell.execute_reply.started": "2025-09-01T02:02:52.551098Z"
    }
   },
   "outputs": [
    {
     "name": "stderr",
     "output_type": "stream",
     "text": [
      "/tmp/ipykernel_3098/1444002828.py:5: FutureWarning: Downcasting behavior in `replace` is deprecated and will be removed in a future version. To retain the old behavior, explicitly call `result.infer_objects(copy=False)`. To opt-in to the future behavior, set `pd.set_option('future.no_silent_downcasting', True)`\n",
      "  df = df.replace({\"label\": label2id})\n"
     ]
    },
    {
     "data": {
      "text/html": [
       "<div>\n",
       "<style scoped>\n",
       "    .dataframe tbody tr th:only-of-type {\n",
       "        vertical-align: middle;\n",
       "    }\n",
       "\n",
       "    .dataframe tbody tr th {\n",
       "        vertical-align: top;\n",
       "    }\n",
       "\n",
       "    .dataframe thead th {\n",
       "        text-align: right;\n",
       "    }\n",
       "</style>\n",
       "<table border=\"1\" class=\"dataframe\">\n",
       "  <thead>\n",
       "    <tr style=\"text-align: right;\">\n",
       "      <th></th>\n",
       "      <th>language</th>\n",
       "      <th>commit</th>\n",
       "      <th>commit_url</th>\n",
       "      <th>label</th>\n",
       "      <th>user</th>\n",
       "      <th>repo</th>\n",
       "      <th>feature</th>\n",
       "      <th>diffs</th>\n",
       "      <th>text</th>\n",
       "    </tr>\n",
       "  </thead>\n",
       "  <tbody>\n",
       "    <tr>\n",
       "      <th>0</th>\n",
       "      <td>C++</td>\n",
       "      <td>be937a3290223f926fe50684f1344569a573ed4b</td>\n",
       "      <td>https://github.com/tensorflow/tensorflow/commi...</td>\n",
       "      <td>1</td>\n",
       "      <td>tensorflow</td>\n",
       "      <td>tensorflow</td>\n",
       "      <td>[1, 0, 0, 1, 1, 0, 0, 1, 0, 0, 0, 0, 0, 0, 6, ...</td>\n",
       "      <td>diff --git a/tensorflow/compiler/mlir/lite/fla...</td>\n",
       "      <td>Fixing per axis quantization bug in flatbuffer...</td>\n",
       "    </tr>\n",
       "    <tr>\n",
       "      <th>1</th>\n",
       "      <td>C++</td>\n",
       "      <td>c800d2e36954edddcb83aa1df7f623f2780c7780</td>\n",
       "      <td>https://github.com/tensorflow/tensorflow/commi...</td>\n",
       "      <td>0</td>\n",
       "      <td>tensorflow</td>\n",
       "      <td>tensorflow</td>\n",
       "      <td>[0, 0, 0, 0, 0, 0, 0, 0, 0, 0, 0, 0, 0, 0, 0, ...</td>\n",
       "      <td>diff --git a/tensorflow/python/tools/saved_mod...</td>\n",
       "      <td>Add support for python expression as SavedMode...</td>\n",
       "    </tr>\n",
       "    <tr>\n",
       "      <th>2</th>\n",
       "      <td>C++</td>\n",
       "      <td>469e56eeff17eb857c95e935ca7b49723c43470e</td>\n",
       "      <td>https://github.com/tensorflow/tensorflow/commi...</td>\n",
       "      <td>2</td>\n",
       "      <td>tensorflow</td>\n",
       "      <td>tensorflow</td>\n",
       "      <td>[0, 0, 0, 0, 0, 0, 0, 0, 0, 0, 0, 0, 0, 0, 0, ...</td>\n",
       "      <td>diff --git a/.github/ISSUE_TEMPLATE/00-bug-iss...</td>\n",
       "      <td>Fix GitHub issue templates. Actual fix for #36...</td>\n",
       "    </tr>\n",
       "    <tr>\n",
       "      <th>3</th>\n",
       "      <td>C++</td>\n",
       "      <td>24f5d302c0906f3377f4d6bcc2735d943ce13e3d</td>\n",
       "      <td>https://github.com/tensorflow/tensorflow/commi...</td>\n",
       "      <td>0</td>\n",
       "      <td>tensorflow</td>\n",
       "      <td>tensorflow</td>\n",
       "      <td>[3, 37, 0, 0, 9, 0, 0, 0, 0, 0, 0, 0, 0, 0, 0,...</td>\n",
       "      <td>diff --git a/tensorflow/compiler/xla/pjrt/dist...</td>\n",
       "      <td>Add new PjRT distributed APIs (KeyValueDelete,...</td>\n",
       "    </tr>\n",
       "    <tr>\n",
       "      <th>4</th>\n",
       "      <td>C++</td>\n",
       "      <td>1effdb7b959503596b07f7f3e74618ab63f9e5e5</td>\n",
       "      <td>https://github.com/tensorflow/tensorflow/commi...</td>\n",
       "      <td>2</td>\n",
       "      <td>tensorflow</td>\n",
       "      <td>tensorflow</td>\n",
       "      <td>[1, 0, 12, 0, 0, 1, 0, 0, 0, 0, 0, 0, 0, 0, 0,...</td>\n",
       "      <td>diff --git a/tensorflow/core/common_runtime/ea...</td>\n",
       "      <td>Remove IsLocalDevice() since it's no longer us...</td>\n",
       "    </tr>\n",
       "    <tr>\n",
       "      <th>...</th>\n",
       "      <td>...</td>\n",
       "      <td>...</td>\n",
       "      <td>...</td>\n",
       "      <td>...</td>\n",
       "      <td>...</td>\n",
       "      <td>...</td>\n",
       "      <td>...</td>\n",
       "      <td>...</td>\n",
       "      <td>...</td>\n",
       "    </tr>\n",
       "    <tr>\n",
       "      <th>1576</th>\n",
       "      <td>Java</td>\n",
       "      <td>e4bbfd537a63a52a6094491504fc7b0bb54bcb0e</td>\n",
       "      <td></td>\n",
       "      <td>1</td>\n",
       "      <td>kiegroup</td>\n",
       "      <td>drools</td>\n",
       "      <td>[1, 0, 0, 1, 0, 0, 0, 0, 0, 0, 0, 0, 0, 0, 0, ...</td>\n",
       "      <td>diff --git a/drools-persistence-jpa/src/main/j...</td>\n",
       "      <td>fixing reflection constructor to use int inste...</td>\n",
       "    </tr>\n",
       "    <tr>\n",
       "      <th>1577</th>\n",
       "      <td>Java</td>\n",
       "      <td>75b81dcbd26a11d5b370ea5bdf102c2d62ebd0c3</td>\n",
       "      <td></td>\n",
       "      <td>1</td>\n",
       "      <td>kiegroup</td>\n",
       "      <td>drools</td>\n",
       "      <td>[2, 6, 2, 3, 0, 0, 0, 1, 7, 0, 0, 0, 0, 0, 0, ...</td>\n",
       "      <td>diff --git a/drools-compiler/src/main/java/org...</td>\n",
       "      <td>Fix OutOfBoundException on- MemoryFileSystem.e...</td>\n",
       "    </tr>\n",
       "    <tr>\n",
       "      <th>1578</th>\n",
       "      <td>Java</td>\n",
       "      <td>6bc9677bbe919cd5bcadd8af2f5b0c838757a4ce</td>\n",
       "      <td></td>\n",
       "      <td>1</td>\n",
       "      <td>kiegroup</td>\n",
       "      <td>drools</td>\n",
       "      <td>[1, 1, 5, 13, 0, 0, 0, 0, 0, 0, 0, 0, 0, 0, 0,...</td>\n",
       "      <td>diff --git a/drools-core/src/main/java/org/dro...</td>\n",
       "      <td>[DROOLS-293] fix ObjectTypeNode id creation an...</td>\n",
       "    </tr>\n",
       "    <tr>\n",
       "      <th>1579</th>\n",
       "      <td>Java</td>\n",
       "      <td>48701edad8513b27acec7216581e64637157c86a</td>\n",
       "      <td></td>\n",
       "      <td>0</td>\n",
       "      <td>kiegroup</td>\n",
       "      <td>drools</td>\n",
       "      <td>[2, 24, 2, 4, 3, 0, 0, 0, 0, 0, 0, 0, 0, 0, 0,...</td>\n",
       "      <td>diff --git a/drools-core/src/main/java/org/dro...</td>\n",
       "      <td>DROOLS-515 Kie-Camel is broken after Camel Upd...</td>\n",
       "    </tr>\n",
       "    <tr>\n",
       "      <th>1580</th>\n",
       "      <td>Java</td>\n",
       "      <td>45529d30d41b8de338dfc2d26b61d1a79113c766</td>\n",
       "      <td></td>\n",
       "      <td>0</td>\n",
       "      <td>kiegroup</td>\n",
       "      <td>drools</td>\n",
       "      <td>[1, 10, 0, 0, 0, 0, 0, 1, 60, 0, 0, 1, 0, 0, 0...</td>\n",
       "      <td>diff --git a/drools-compiler/src/test/java/org...</td>\n",
       "      <td>JBRULES-2934 Add NewRegisterWorkItemHandlerCom...</td>\n",
       "    </tr>\n",
       "  </tbody>\n",
       "</table>\n",
       "<p>1581 rows × 9 columns</p>\n",
       "</div>"
      ],
      "text/plain": [
       "     language                                    commit  \\\n",
       "0         C++  be937a3290223f926fe50684f1344569a573ed4b   \n",
       "1         C++  c800d2e36954edddcb83aa1df7f623f2780c7780   \n",
       "2         C++  469e56eeff17eb857c95e935ca7b49723c43470e   \n",
       "3         C++  24f5d302c0906f3377f4d6bcc2735d943ce13e3d   \n",
       "4         C++  1effdb7b959503596b07f7f3e74618ab63f9e5e5   \n",
       "...       ...                                       ...   \n",
       "1576     Java  e4bbfd537a63a52a6094491504fc7b0bb54bcb0e   \n",
       "1577     Java  75b81dcbd26a11d5b370ea5bdf102c2d62ebd0c3   \n",
       "1578     Java  6bc9677bbe919cd5bcadd8af2f5b0c838757a4ce   \n",
       "1579     Java  48701edad8513b27acec7216581e64637157c86a   \n",
       "1580     Java  45529d30d41b8de338dfc2d26b61d1a79113c766   \n",
       "\n",
       "                                             commit_url  label        user  \\\n",
       "0     https://github.com/tensorflow/tensorflow/commi...      1  tensorflow   \n",
       "1     https://github.com/tensorflow/tensorflow/commi...      0  tensorflow   \n",
       "2     https://github.com/tensorflow/tensorflow/commi...      2  tensorflow   \n",
       "3     https://github.com/tensorflow/tensorflow/commi...      0  tensorflow   \n",
       "4     https://github.com/tensorflow/tensorflow/commi...      2  tensorflow   \n",
       "...                                                 ...    ...         ...   \n",
       "1576                                                         1    kiegroup   \n",
       "1577                                                         1    kiegroup   \n",
       "1578                                                         1    kiegroup   \n",
       "1579                                                         0    kiegroup   \n",
       "1580                                                         0    kiegroup   \n",
       "\n",
       "            repo                                            feature  \\\n",
       "0     tensorflow  [1, 0, 0, 1, 1, 0, 0, 1, 0, 0, 0, 0, 0, 0, 6, ...   \n",
       "1     tensorflow  [0, 0, 0, 0, 0, 0, 0, 0, 0, 0, 0, 0, 0, 0, 0, ...   \n",
       "2     tensorflow  [0, 0, 0, 0, 0, 0, 0, 0, 0, 0, 0, 0, 0, 0, 0, ...   \n",
       "3     tensorflow  [3, 37, 0, 0, 9, 0, 0, 0, 0, 0, 0, 0, 0, 0, 0,...   \n",
       "4     tensorflow  [1, 0, 12, 0, 0, 1, 0, 0, 0, 0, 0, 0, 0, 0, 0,...   \n",
       "...          ...                                                ...   \n",
       "1576      drools  [1, 0, 0, 1, 0, 0, 0, 0, 0, 0, 0, 0, 0, 0, 0, ...   \n",
       "1577      drools  [2, 6, 2, 3, 0, 0, 0, 1, 7, 0, 0, 0, 0, 0, 0, ...   \n",
       "1578      drools  [1, 1, 5, 13, 0, 0, 0, 0, 0, 0, 0, 0, 0, 0, 0,...   \n",
       "1579      drools  [2, 24, 2, 4, 3, 0, 0, 0, 0, 0, 0, 0, 0, 0, 0,...   \n",
       "1580      drools  [1, 10, 0, 0, 0, 0, 0, 1, 60, 0, 0, 1, 0, 0, 0...   \n",
       "\n",
       "                                                  diffs  \\\n",
       "0     diff --git a/tensorflow/compiler/mlir/lite/fla...   \n",
       "1     diff --git a/tensorflow/python/tools/saved_mod...   \n",
       "2     diff --git a/.github/ISSUE_TEMPLATE/00-bug-iss...   \n",
       "3     diff --git a/tensorflow/compiler/xla/pjrt/dist...   \n",
       "4     diff --git a/tensorflow/core/common_runtime/ea...   \n",
       "...                                                 ...   \n",
       "1576  diff --git a/drools-persistence-jpa/src/main/j...   \n",
       "1577  diff --git a/drools-compiler/src/main/java/org...   \n",
       "1578  diff --git a/drools-core/src/main/java/org/dro...   \n",
       "1579  diff --git a/drools-core/src/main/java/org/dro...   \n",
       "1580  diff --git a/drools-compiler/src/test/java/org...   \n",
       "\n",
       "                                                   text  \n",
       "0     Fixing per axis quantization bug in flatbuffer...  \n",
       "1     Add support for python expression as SavedMode...  \n",
       "2     Fix GitHub issue templates. Actual fix for #36...  \n",
       "3     Add new PjRT distributed APIs (KeyValueDelete,...  \n",
       "4     Remove IsLocalDevice() since it's no longer us...  \n",
       "...                                                 ...  \n",
       "1576  fixing reflection constructor to use int inste...  \n",
       "1577  Fix OutOfBoundException on- MemoryFileSystem.e...  \n",
       "1578  [DROOLS-293] fix ObjectTypeNode id creation an...  \n",
       "1579  DROOLS-515 Kie-Camel is broken after Camel Upd...  \n",
       "1580  JBRULES-2934 Add NewRegisterWorkItemHandlerCom...  \n",
       "\n",
       "[1581 rows x 9 columns]"
      ]
     },
     "execution_count": 2,
     "metadata": {},
     "output_type": "execute_result"
    }
   ],
   "source": [
    "df = pd.read_csv(r'/root/autodl-tmp/CommitFit/dataset/multi-lang-exp/dataset.csv', index_col=0, encoding='utf_8_sig')\n",
    "df.fillna('', inplace=True)\n",
    "label2id={'A':0, 'C':1, 'P':2}\n",
    "df = df.rename(columns={'maintenance_type':'label','msgs':'text','commit_diff':'diffs'})\n",
    "df = df.replace({\"label\": label2id})\n",
    "# # print(df)\n",
    "df\n",
    "# test_sample = df.sample(n=3, random_state=1)"
   ]
  },
  {
   "cell_type": "code",
   "execution_count": 3,
   "id": "26803da1-da52-48a7-8040-70914c05f2ea",
   "metadata": {
    "execution": {
     "iopub.execute_input": "2025-09-01T02:02:52.905087Z",
     "iopub.status.busy": "2025-09-01T02:02:52.904869Z",
     "iopub.status.idle": "2025-09-01T02:02:52.911426Z",
     "shell.execute_reply": "2025-09-01T02:02:52.910757Z",
     "shell.execute_reply.started": "2025-09-01T02:02:52.905062Z"
    }
   },
   "outputs": [],
   "source": [
    "train, temp_df = train_test_split(df, test_size=0.3, random_state=42)\n",
    "val_df, test = train_test_split(temp_df, test_size=0.5, random_state=42)"
   ]
  },
  {
   "cell_type": "code",
   "execution_count": 4,
   "id": "8832a7a5-8f6d-4871-a732-bf25dc1aed25",
   "metadata": {
    "execution": {
     "iopub.execute_input": "2025-09-01T02:02:52.912981Z",
     "iopub.status.busy": "2025-09-01T02:02:52.912665Z",
     "iopub.status.idle": "2025-09-01T02:02:52.922478Z",
     "shell.execute_reply": "2025-09-01T02:02:52.921756Z",
     "shell.execute_reply.started": "2025-09-01T02:02:52.912945Z"
    }
   },
   "outputs": [
    {
     "name": "stderr",
     "output_type": "stream",
     "text": [
      "/tmp/ipykernel_3098/1430361952.py:1: DeprecationWarning: DataFrameGroupBy.apply operated on the grouping columns. This behavior is deprecated, and in a future version of pandas the grouping columns will be excluded from the operation. Either pass `include_groups=False` to exclude the groupings or explicitly select the grouping columns after groupby to silence this warning.\n",
      "  train = train.groupby(\"label\", group_keys=False).apply(lambda x: x.sample(n=150, random_state=42))\n"
     ]
    }
   ],
   "source": [
    "train = train.groupby(\"label\", group_keys=False).apply(lambda x: x.sample(n=150, random_state=42))"
   ]
  },
  {
   "cell_type": "code",
   "execution_count": 5,
   "id": "2e214dbb-075e-4fbf-adc9-f3533801587e",
   "metadata": {
    "execution": {
     "iopub.execute_input": "2025-09-01T02:02:52.923434Z",
     "iopub.status.busy": "2025-09-01T02:02:52.923230Z",
     "iopub.status.idle": "2025-09-01T02:02:53.046788Z",
     "shell.execute_reply": "2025-09-01T02:02:53.045767Z",
     "shell.execute_reply.started": "2025-09-01T02:02:52.923411Z"
    }
   },
   "outputs": [],
   "source": [
    "Dataset_train = Dataset.from_pandas(train)\n",
    "test_dataset = Dataset.from_pandas(test)"
   ]
  },
  {
   "cell_type": "code",
   "execution_count": 6,
   "id": "1a8ec7ec-1112-4140-8ccd-516ba9a1b1a8",
   "metadata": {
    "execution": {
     "iopub.execute_input": "2025-09-01T02:02:53.048040Z",
     "iopub.status.busy": "2025-09-01T02:02:53.047813Z",
     "iopub.status.idle": "2025-09-01T02:02:53.118356Z",
     "shell.execute_reply": "2025-09-01T02:02:53.117297Z",
     "shell.execute_reply.started": "2025-09-01T02:02:53.048015Z"
    }
   },
   "outputs": [],
   "source": [
    "train_dataset = get_templated_dataset(Dataset_train, candidate_labels=['Corrective','Adaptive','Perfective'], sample_size=8)"
   ]
  },
  {
   "cell_type": "code",
   "execution_count": 7,
   "id": "6af4102b-39bc-4b20-ab32-43800fb572bf",
   "metadata": {
    "execution": {
     "iopub.execute_input": "2025-09-01T02:02:53.121230Z",
     "iopub.status.busy": "2025-09-01T02:02:53.121010Z",
     "iopub.status.idle": "2025-09-01T02:02:53.126001Z",
     "shell.execute_reply": "2025-09-01T02:02:53.125088Z",
     "shell.execute_reply.started": "2025-09-01T02:02:53.121204Z"
    }
   },
   "outputs": [],
   "source": [
    "train_code_change = list(train['diffs'].astype(str))\n",
    "test_code_change = list(test['diffs'].astype(str))"
   ]
  },
  {
   "cell_type": "code",
   "execution_count": 8,
   "id": "c5ea76cd-69e5-4aa8-bf49-c9e746b63bbb",
   "metadata": {
    "execution": {
     "iopub.execute_input": "2025-09-01T02:02:53.127461Z",
     "iopub.status.busy": "2025-09-01T02:02:53.126950Z",
     "iopub.status.idle": "2025-09-01T02:02:53.132076Z",
     "shell.execute_reply": "2025-09-01T02:02:53.131347Z",
     "shell.execute_reply.started": "2025-09-01T02:02:53.127431Z"
    }
   },
   "outputs": [
    {
     "data": {
      "text/plain": [
       "Dataset({\n",
       "    features: ['language', 'commit', 'commit_url', 'label', 'user', 'repo', 'feature', 'diffs', 'text', '__index_level_0__'],\n",
       "    num_rows: 474\n",
       "})"
      ]
     },
     "execution_count": 8,
     "metadata": {},
     "output_type": "execute_result"
    }
   ],
   "source": [
    "# list(train['message'].astype(str).values)\n",
    "train_dataset"
   ]
  },
  {
   "cell_type": "code",
   "execution_count": 9,
   "id": "ee30affe-0ec9-46a3-bcaa-a1bd9422c939",
   "metadata": {
    "execution": {
     "iopub.execute_input": "2025-09-01T02:02:53.133159Z",
     "iopub.status.busy": "2025-09-01T02:02:53.132920Z",
     "iopub.status.idle": "2025-09-01T02:02:53.138198Z",
     "shell.execute_reply": "2025-09-01T02:02:53.137448Z",
     "shell.execute_reply.started": "2025-09-01T02:02:53.133132Z"
    }
   },
   "outputs": [
    {
     "data": {
      "text/plain": [
       "450"
      ]
     },
     "execution_count": 9,
     "metadata": {},
     "output_type": "execute_result"
    }
   ],
   "source": [
    "len(train)"
   ]
  },
  {
   "cell_type": "code",
   "execution_count": 10,
   "id": "84e38639-cf4b-4762-a1dc-cdc983938388",
   "metadata": {
    "execution": {
     "iopub.execute_input": "2025-09-01T02:02:53.139768Z",
     "iopub.status.busy": "2025-09-01T02:02:53.139141Z",
     "iopub.status.idle": "2025-09-01T02:02:53.145945Z",
     "shell.execute_reply": "2025-09-01T02:02:53.145094Z",
     "shell.execute_reply.started": "2025-09-01T02:02:53.139738Z"
    }
   },
   "outputs": [
    {
     "data": {
      "text/plain": [
       "label\n",
       "0    150\n",
       "1    150\n",
       "2    150\n",
       "Name: count, dtype: int64"
      ]
     },
     "execution_count": 10,
     "metadata": {},
     "output_type": "execute_result"
    }
   ],
   "source": [
    "train['label'].value_counts()"
   ]
  },
  {
   "cell_type": "code",
   "execution_count": 11,
   "id": "3cf6c110-616d-45da-aa2e-4a5add26b3c0",
   "metadata": {
    "execution": {
     "iopub.execute_input": "2025-09-01T02:02:53.147719Z",
     "iopub.status.busy": "2025-09-01T02:02:53.147097Z",
     "iopub.status.idle": "2025-09-01T02:02:53.154570Z",
     "shell.execute_reply": "2025-09-01T02:02:53.153609Z",
     "shell.execute_reply.started": "2025-09-01T02:02:53.147682Z"
    }
   },
   "outputs": [
    {
     "data": {
      "text/plain": [
       "label\n",
       "2    155\n",
       "1     51\n",
       "0     32\n",
       "Name: count, dtype: int64"
      ]
     },
     "execution_count": 11,
     "metadata": {},
     "output_type": "execute_result"
    }
   ],
   "source": [
    "test['label'].value_counts()"
   ]
  },
  {
   "cell_type": "code",
   "execution_count": 12,
   "id": "77117d87-5292-48f5-b077-74b47ccfd5eb",
   "metadata": {
    "execution": {
     "iopub.execute_input": "2025-09-01T02:02:53.156473Z",
     "iopub.status.busy": "2025-09-01T02:02:53.155951Z",
     "iopub.status.idle": "2025-09-01T02:02:53.161837Z",
     "shell.execute_reply": "2025-09-01T02:02:53.160902Z",
     "shell.execute_reply.started": "2025-09-01T02:02:53.156436Z"
    }
   },
   "outputs": [
    {
     "data": {
      "text/plain": [
       "474"
      ]
     },
     "execution_count": 12,
     "metadata": {},
     "output_type": "execute_result"
    }
   ],
   "source": [
    "len(train_dataset)"
   ]
  },
  {
   "cell_type": "code",
   "execution_count": 13,
   "id": "dca6275a-a567-4963-831c-8dd653341162",
   "metadata": {
    "execution": {
     "iopub.execute_input": "2025-09-01T02:02:53.163179Z",
     "iopub.status.busy": "2025-09-01T02:02:53.162876Z",
     "iopub.status.idle": "2025-09-01T02:02:53.171288Z",
     "shell.execute_reply": "2025-09-01T02:02:53.170192Z",
     "shell.execute_reply.started": "2025-09-01T02:02:53.163144Z"
    }
   },
   "outputs": [],
   "source": [
    "from sklearn import  metrics\n",
    "\n",
    "def compute_metrics(y_pred, y_test):\n",
    "    # print(y_pred,y_test)\n",
    "    # classification_report = metrics.classification_report(y_test,y_pred)\n",
    "    accuracy_score = metrics.accuracy_score(y_test,y_pred)\n",
    "    precision_score = metrics.precision_score(y_test,y_pred, average='macro')\n",
    "    recall_score = metrics.recall_score(y_test,y_pred,average='macro')\n",
    "    f1_score = metrics.f1_score(y_test,y_pred,average='macro')\n",
    "    \n",
    "    # 混淆矩阵\n",
    "    cm = metrics.confusion_matrix(y_test, y_pred)\n",
    "    print(\"Confusion Matrix:\\n\", cm)\n",
    "    print(metrics.classification_report(y_test, y_pred, digits=4))\n",
    "    # return {\"classification_report\": classification_report}\n",
    "    return {\"classification_report\":metrics.classification_report(y_test, y_pred, digits=4),\"Confusion Matrix\":cm,\"precision\": round(precision_score, 4),\"recall\": round(recall_score, 4), \"f1\":round(f1_score, 4), \"accuracy\": round(accuracy_score, 4)}"
   ]
  },
  {
   "cell_type": "code",
   "execution_count": 14,
   "id": "49e32d66-2fc2-4a53-bae1-13f8d67c5b6f",
   "metadata": {
    "execution": {
     "iopub.execute_input": "2025-09-01T02:02:53.172640Z",
     "iopub.status.busy": "2025-09-01T02:02:53.172339Z",
     "iopub.status.idle": "2025-09-01T02:02:53.178415Z",
     "shell.execute_reply": "2025-09-01T02:02:53.177521Z",
     "shell.execute_reply.started": "2025-09-01T02:02:53.172606Z"
    }
   },
   "outputs": [
    {
     "data": {
      "text/plain": [
       "Dataset({\n",
       "    features: ['language', 'commit', 'commit_url', 'label', 'user', 'repo', 'feature', 'diffs', 'text', '__index_level_0__'],\n",
       "    num_rows: 474\n",
       "})"
      ]
     },
     "execution_count": 14,
     "metadata": {},
     "output_type": "execute_result"
    }
   ],
   "source": [
    "train_dataset"
   ]
  },
  {
   "cell_type": "code",
   "execution_count": 15,
   "id": "b7c52074-c55f-4218-bc87-cdbc6e36a993",
   "metadata": {
    "execution": {
     "iopub.execute_input": "2025-09-01T02:02:53.180110Z",
     "iopub.status.busy": "2025-09-01T02:02:53.179541Z",
     "iopub.status.idle": "2025-09-01T02:02:53.196580Z",
     "shell.execute_reply": "2025-09-01T02:02:53.195985Z",
     "shell.execute_reply.started": "2025-09-01T02:02:53.180072Z"
    }
   },
   "outputs": [
    {
     "data": {
      "text/html": [
       "<div>\n",
       "<style scoped>\n",
       "    .dataframe tbody tr th:only-of-type {\n",
       "        vertical-align: middle;\n",
       "    }\n",
       "\n",
       "    .dataframe tbody tr th {\n",
       "        vertical-align: top;\n",
       "    }\n",
       "\n",
       "    .dataframe thead th {\n",
       "        text-align: right;\n",
       "    }\n",
       "</style>\n",
       "<table border=\"1\" class=\"dataframe\">\n",
       "  <thead>\n",
       "    <tr style=\"text-align: right;\">\n",
       "      <th></th>\n",
       "      <th>language</th>\n",
       "      <th>commit</th>\n",
       "      <th>commit_url</th>\n",
       "      <th>label</th>\n",
       "      <th>user</th>\n",
       "      <th>repo</th>\n",
       "      <th>feature</th>\n",
       "      <th>diffs</th>\n",
       "      <th>text</th>\n",
       "    </tr>\n",
       "  </thead>\n",
       "  <tbody>\n",
       "    <tr>\n",
       "      <th>401</th>\n",
       "      <td>Go</td>\n",
       "      <td>ed09b4ea6a17566b546a9d3ae76876636710c6a0</td>\n",
       "      <td>https://github.com/v2ray/v2ray-core/commit/ed0...</td>\n",
       "      <td>0</td>\n",
       "      <td>v2ray</td>\n",
       "      <td>v2ray-core</td>\n",
       "      <td>[3, 49, 2, 8, 0, 0, 0, 2, 29, 0, 2, 0, 0, 0, 0...</td>\n",
       "      <td>diff --git a/common/net/json/host.go b/common/...</td>\n",
       "      <td>support domain as host in VMess outbound confi...</td>\n",
       "    </tr>\n",
       "    <tr>\n",
       "      <th>907</th>\n",
       "      <td>Rust</td>\n",
       "      <td>e67010b5e2eaa5a5ddb756d7ddc2dd0194f09a0a</td>\n",
       "      <td>https://github.com/denoland/deno/commit/e67010...</td>\n",
       "      <td>0</td>\n",
       "      <td>denoland</td>\n",
       "      <td>deno</td>\n",
       "      <td>[2, 25, 1, 7, 0, 0, 0, 2, 35, 0, 0, 0, 0, 0, 0...</td>\n",
       "      <td>diff --git a/cli/file_fetcher.rs b/cli/file_fe...</td>\n",
       "      <td>feat(cli/compile): Support data uri dynamic im...</td>\n",
       "    </tr>\n",
       "    <tr>\n",
       "      <th>1385</th>\n",
       "      <td>Java</td>\n",
       "      <td>74066765bb8ca85864f75bde6091f96207f988cf</td>\n",
       "      <td></td>\n",
       "      <td>0</td>\n",
       "      <td>apache</td>\n",
       "      <td>hbase</td>\n",
       "      <td>[1, 0, 0, 1, 0, 0, 0, 0, 0, 0, 0, 0, 0, 0, 0, ...</td>\n",
       "      <td>diff --git a/src/main/java/org/apache/hadoop/h...</td>\n",
       "      <td>HBASE-2889 Tool to look at HLogs -- parse and-...</td>\n",
       "    </tr>\n",
       "    <tr>\n",
       "      <th>448</th>\n",
       "      <td>Go</td>\n",
       "      <td>8d9e4345207013c55a8719995ec4ad4e9be466f2</td>\n",
       "      <td>https://github.com/FiloSottile/mkcert/commit/8...</td>\n",
       "      <td>0</td>\n",
       "      <td>FiloSottile</td>\n",
       "      <td>mkcert</td>\n",
       "      <td>[1, 9, 6, 6, 0, 0, 0, 0, 0, 0, 0, 0, 0, 0, 0, ...</td>\n",
       "      <td>diff --git a/truststore_nss.go b/truststore_ns...</td>\n",
       "      <td>truststore_nss: support multiple NSS databases...</td>\n",
       "    </tr>\n",
       "    <tr>\n",
       "      <th>653</th>\n",
       "      <td>JavaScript</td>\n",
       "      <td>145c46ff3630e55b6c50ff479f54661ef54124bd</td>\n",
       "      <td>https://github.com/webpack/webpack/commit/145c...</td>\n",
       "      <td>0</td>\n",
       "      <td>webpack</td>\n",
       "      <td>webpack</td>\n",
       "      <td>[1, 15, 0, 0, 0, 0, 0, 0, 0, 0, 0, 0, 0, 0, 0,...</td>\n",
       "      <td>diff --git a/lib/dependencies/DelegatedExports...</td>\n",
       "      <td>feat(DelegatedExportsDependency): make seriali...</td>\n",
       "    </tr>\n",
       "    <tr>\n",
       "      <th>...</th>\n",
       "      <td>...</td>\n",
       "      <td>...</td>\n",
       "      <td>...</td>\n",
       "      <td>...</td>\n",
       "      <td>...</td>\n",
       "      <td>...</td>\n",
       "      <td>...</td>\n",
       "      <td>...</td>\n",
       "      <td>...</td>\n",
       "    </tr>\n",
       "    <tr>\n",
       "      <th>496</th>\n",
       "      <td>JavaScript</td>\n",
       "      <td>5e898fa2a1564f3103017874aea0c993fffe26cc</td>\n",
       "      <td>https://github.com/twbs/bootstrap/commit/5e898...</td>\n",
       "      <td>2</td>\n",
       "      <td>twbs</td>\n",
       "      <td>bootstrap</td>\n",
       "      <td>[0, 0, 0, 0, 0, 0, 0, 0, 0, 0, 0, 0, 0, 0, 0, ...</td>\n",
       "      <td>diff --git a/less/breadcrumbs.less b/less/brea...</td>\n",
       "      <td>move breadcrumb.less inline properties and als...</td>\n",
       "    </tr>\n",
       "    <tr>\n",
       "      <th>440</th>\n",
       "      <td>Go</td>\n",
       "      <td>ad5c6ddbef1994d6e2b46889526bccd59f2b95e2</td>\n",
       "      <td>https://github.com/FiloSottile/mkcert/commit/a...</td>\n",
       "      <td>2</td>\n",
       "      <td>FiloSottile</td>\n",
       "      <td>mkcert</td>\n",
       "      <td>[0, 0, 0, 0, 0, 0, 0, 0, 0, 0, 0, 0, 0, 0, 0, ...</td>\n",
       "      <td>diff --git a/README.md b/README.md\\nindex 13a0...</td>\n",
       "      <td>README: document S/MIME certificates\\n</td>\n",
       "    </tr>\n",
       "    <tr>\n",
       "      <th>1447</th>\n",
       "      <td>Java</td>\n",
       "      <td>8ebbd1e7b964b6c81a49c7d4c2476584c6279e06</td>\n",
       "      <td></td>\n",
       "      <td>2</td>\n",
       "      <td>elastic</td>\n",
       "      <td>elasticsearch</td>\n",
       "      <td>[21, 135, 45, 23, 60, 2, 0, 0, 0, 0, 0, 0, 0, ...</td>\n",
       "      <td>diff --git a/modules/elasticsearch/src/main/ja...</td>\n",
       "      <td>Recovery Settings: Change settings (still supp...</td>\n",
       "    </tr>\n",
       "    <tr>\n",
       "      <th>109</th>\n",
       "      <td>C++</td>\n",
       "      <td>61e84901a4825c034b200f54f1b364549d3f4759</td>\n",
       "      <td>https://github.com/tesseract-ocr/tesseract/com...</td>\n",
       "      <td>2</td>\n",
       "      <td>tesseract-ocr</td>\n",
       "      <td>tesseract</td>\n",
       "      <td>[0, 0, 0, 0, 0, 0, 0, 0, 0, 0, 0, 0, 0, 0, 0, ...</td>\n",
       "      <td>diff --git a/tessdata/configs/Makefile.am b/te...</td>\n",
       "      <td>add the digits config for convenience, because...</td>\n",
       "    </tr>\n",
       "    <tr>\n",
       "      <th>460</th>\n",
       "      <td>Go</td>\n",
       "      <td>856e0100c07448a6711ed77b6a2cf3439a424892</td>\n",
       "      <td>https://github.com/minio/minio/commit/856e0100...</td>\n",
       "      <td>2</td>\n",
       "      <td>minio</td>\n",
       "      <td>minio</td>\n",
       "      <td>[2, 54, 64, 0, 31, 27, 0, 1, 2, 4, 7, 0, 0, 0,...</td>\n",
       "      <td>diff --git a/pkg/storage/donut/erasure/erasure...</td>\n",
       "      <td>Erasure layer now writes using new technique\\n\\n</td>\n",
       "    </tr>\n",
       "  </tbody>\n",
       "</table>\n",
       "<p>450 rows × 9 columns</p>\n",
       "</div>"
      ],
      "text/plain": [
       "        language                                    commit  \\\n",
       "401           Go  ed09b4ea6a17566b546a9d3ae76876636710c6a0   \n",
       "907         Rust  e67010b5e2eaa5a5ddb756d7ddc2dd0194f09a0a   \n",
       "1385        Java  74066765bb8ca85864f75bde6091f96207f988cf   \n",
       "448           Go  8d9e4345207013c55a8719995ec4ad4e9be466f2   \n",
       "653   JavaScript  145c46ff3630e55b6c50ff479f54661ef54124bd   \n",
       "...          ...                                       ...   \n",
       "496   JavaScript  5e898fa2a1564f3103017874aea0c993fffe26cc   \n",
       "440           Go  ad5c6ddbef1994d6e2b46889526bccd59f2b95e2   \n",
       "1447        Java  8ebbd1e7b964b6c81a49c7d4c2476584c6279e06   \n",
       "109          C++  61e84901a4825c034b200f54f1b364549d3f4759   \n",
       "460           Go  856e0100c07448a6711ed77b6a2cf3439a424892   \n",
       "\n",
       "                                             commit_url  label           user  \\\n",
       "401   https://github.com/v2ray/v2ray-core/commit/ed0...      0          v2ray   \n",
       "907   https://github.com/denoland/deno/commit/e67010...      0       denoland   \n",
       "1385                                                         0         apache   \n",
       "448   https://github.com/FiloSottile/mkcert/commit/8...      0    FiloSottile   \n",
       "653   https://github.com/webpack/webpack/commit/145c...      0        webpack   \n",
       "...                                                 ...    ...            ...   \n",
       "496   https://github.com/twbs/bootstrap/commit/5e898...      2           twbs   \n",
       "440   https://github.com/FiloSottile/mkcert/commit/a...      2    FiloSottile   \n",
       "1447                                                         2        elastic   \n",
       "109   https://github.com/tesseract-ocr/tesseract/com...      2  tesseract-ocr   \n",
       "460   https://github.com/minio/minio/commit/856e0100...      2          minio   \n",
       "\n",
       "               repo                                            feature  \\\n",
       "401      v2ray-core  [3, 49, 2, 8, 0, 0, 0, 2, 29, 0, 2, 0, 0, 0, 0...   \n",
       "907            deno  [2, 25, 1, 7, 0, 0, 0, 2, 35, 0, 0, 0, 0, 0, 0...   \n",
       "1385          hbase  [1, 0, 0, 1, 0, 0, 0, 0, 0, 0, 0, 0, 0, 0, 0, ...   \n",
       "448          mkcert  [1, 9, 6, 6, 0, 0, 0, 0, 0, 0, 0, 0, 0, 0, 0, ...   \n",
       "653         webpack  [1, 15, 0, 0, 0, 0, 0, 0, 0, 0, 0, 0, 0, 0, 0,...   \n",
       "...             ...                                                ...   \n",
       "496       bootstrap  [0, 0, 0, 0, 0, 0, 0, 0, 0, 0, 0, 0, 0, 0, 0, ...   \n",
       "440          mkcert  [0, 0, 0, 0, 0, 0, 0, 0, 0, 0, 0, 0, 0, 0, 0, ...   \n",
       "1447  elasticsearch  [21, 135, 45, 23, 60, 2, 0, 0, 0, 0, 0, 0, 0, ...   \n",
       "109       tesseract  [0, 0, 0, 0, 0, 0, 0, 0, 0, 0, 0, 0, 0, 0, 0, ...   \n",
       "460           minio  [2, 54, 64, 0, 31, 27, 0, 1, 2, 4, 7, 0, 0, 0,...   \n",
       "\n",
       "                                                  diffs  \\\n",
       "401   diff --git a/common/net/json/host.go b/common/...   \n",
       "907   diff --git a/cli/file_fetcher.rs b/cli/file_fe...   \n",
       "1385  diff --git a/src/main/java/org/apache/hadoop/h...   \n",
       "448   diff --git a/truststore_nss.go b/truststore_ns...   \n",
       "653   diff --git a/lib/dependencies/DelegatedExports...   \n",
       "...                                                 ...   \n",
       "496   diff --git a/less/breadcrumbs.less b/less/brea...   \n",
       "440   diff --git a/README.md b/README.md\\nindex 13a0...   \n",
       "1447  diff --git a/modules/elasticsearch/src/main/ja...   \n",
       "109   diff --git a/tessdata/configs/Makefile.am b/te...   \n",
       "460   diff --git a/pkg/storage/donut/erasure/erasure...   \n",
       "\n",
       "                                                   text  \n",
       "401   support domain as host in VMess outbound confi...  \n",
       "907   feat(cli/compile): Support data uri dynamic im...  \n",
       "1385  HBASE-2889 Tool to look at HLogs -- parse and-...  \n",
       "448   truststore_nss: support multiple NSS databases...  \n",
       "653   feat(DelegatedExportsDependency): make seriali...  \n",
       "...                                                 ...  \n",
       "496   move breadcrumb.less inline properties and als...  \n",
       "440              README: document S/MIME certificates\\n  \n",
       "1447  Recovery Settings: Change settings (still supp...  \n",
       "109   add the digits config for convenience, because...  \n",
       "460    Erasure layer now writes using new technique\\n\\n  \n",
       "\n",
       "[450 rows x 9 columns]"
      ]
     },
     "execution_count": 15,
     "metadata": {},
     "output_type": "execute_result"
    }
   ],
   "source": [
    "train"
   ]
  },
  {
   "cell_type": "code",
   "execution_count": 16,
   "id": "d9ede869-1587-4e42-8879-e819e5961dca",
   "metadata": {
    "execution": {
     "iopub.execute_input": "2025-09-01T02:02:53.197706Z",
     "iopub.status.busy": "2025-09-01T02:02:53.197472Z",
     "iopub.status.idle": "2025-09-01T02:02:53.200377Z",
     "shell.execute_reply": "2025-09-01T02:02:53.199729Z",
     "shell.execute_reply.started": "2025-09-01T02:02:53.197683Z"
    }
   },
   "outputs": [],
   "source": [
    "model_id = \"../../sentence-transformers/paraphrase-mpnet-base-v2\""
   ]
  },
  {
   "cell_type": "code",
   "execution_count": 17,
   "id": "a6501389-0c86-442d-85cf-f04ad146703f",
   "metadata": {
    "execution": {
     "iopub.execute_input": "2025-09-01T02:02:53.201675Z",
     "iopub.status.busy": "2025-09-01T02:02:53.201158Z",
     "iopub.status.idle": "2025-09-01T02:02:53.206622Z",
     "shell.execute_reply": "2025-09-01T02:02:53.205809Z",
     "shell.execute_reply.started": "2025-09-01T02:02:53.201650Z"
    }
   },
   "outputs": [],
   "source": [
    "def hp_space(trial: Trial) -> Dict[str, Union[float, int, str]]:\n",
    "    return {\n",
    "        \"learning_rate\": trial.suggest_float(\"learning_rate\", 1e-6, 1e-3, log=True),\n",
    "        # \"num_epochs\": trial.suggest_int(\"num_epochs\", 1, 3),\n",
    "        # \"batch_size\": trial.suggest_categorical(\"batch_size\", [8, 12, 16]),\n",
    "        # \"seed\": trial.suggest_int(\"seed\", 1, 40),\n",
    "        # \"num_iterations\": trial.suggest_int(\"num_iterations\", 10, 20),\n",
    "        # \"solver\": trial.suggest_categorical(\"solver\", [\"newton-cg\", \"lbfgs\", \"liblinear\"]),\n",
    "    }\n",
    "def model_init(params: Dict[str, Any]) -> CommitFitModel:\n",
    "    params = params or {}\n",
    "    # learning_rate = params.get(\"learning_rate\")\n",
    "    # num_iterations = params.get(\"num_iterations\", 20)\n",
    "    # solver = params.get(\"solver\", \"liblinear\")\n",
    "    # params = {\n",
    "    #     \"head_params\": {\n",
    "    #         # \"max_iter\": num_iterations,\n",
    "    #         # \"solver\": solver,\n",
    "    #     }\n",
    "    # }\n",
    "    return CommitFitModel.from_pretrained(model_id, **params)\n",
    "def my_compute_objective(metrics):\n",
    "    print('+++++++++++',metrics)\n",
    "    return  metrics['accuracy']"
   ]
  },
  {
   "cell_type": "code",
   "execution_count": 18,
   "id": "2244f079-c2b8-4e01-aca4-f68e7ce8accb",
   "metadata": {
    "execution": {
     "iopub.execute_input": "2025-09-01T02:02:53.208293Z",
     "iopub.status.busy": "2025-09-01T02:02:53.207683Z",
     "iopub.status.idle": "2025-09-01T02:07:29.841665Z",
     "shell.execute_reply": "2025-09-01T02:07:29.840924Z",
     "shell.execute_reply.started": "2025-09-01T02:02:53.208255Z"
    }
   },
   "outputs": [
    {
     "name": "stderr",
     "output_type": "stream",
     "text": [
      "model_head.pkl not found in /root/autodl-tmp/CommitFit/sentence-transformers/paraphrase-mpnet-base-v2, initialising classification head with random weights. You should TRAIN this model on a downstream task to use it for predictions and inference.\n",
      "[I 2025-09-01 10:02:54,287] A new study created in memory with name: no-name-0f7734f0-0c0c-4d05-9f5d-876fa5ab92ae\n",
      "Trial: {'learning_rate': 1.1305726390471833e-06}\n",
      "model_head.pkl not found in /root/autodl-tmp/CommitFit/sentence-transformers/paraphrase-mpnet-base-v2, initialising classification head with random weights. You should TRAIN this model on a downstream task to use it for predictions and inference.\n"
     ]
    },
    {
     "data": {
      "application/vnd.jupyter.widget-view+json": {
       "model_id": "123397b525ed417bb0bc616d463d4a37",
       "version_major": 2,
       "version_minor": 0
      },
      "text/plain": [
       "Generating Training Pairs:   0%|          | 0/20 [00:00<?, ?it/s]"
      ]
     },
     "metadata": {},
     "output_type": "display_data"
    },
    {
     "name": "stderr",
     "output_type": "stream",
     "text": [
      "***** Running training *****\n",
      "  Num examples = 18960\n",
      "  Num epochs = 1\n",
      "  Total optimization steps = 1185\n",
      "  Total train batch size = 16\n"
     ]
    },
    {
     "data": {
      "application/vnd.jupyter.widget-view+json": {
       "model_id": "b837812232c345a5abd4c1e08f55e1a8",
       "version_major": 2,
       "version_minor": 0
      },
      "text/plain": [
       "Epoch:   0%|          | 0/1 [00:00<?, ?it/s]"
      ]
     },
     "metadata": {},
     "output_type": "display_data"
    },
    {
     "data": {
      "application/vnd.jupyter.widget-view+json": {
       "model_id": "50e98131e6d945b791bf223f85464bb3",
       "version_major": 2,
       "version_minor": 0
      },
      "text/plain": [
       "Iteration:   0%|          | 0/1185 [00:00<?, ?it/s]"
      ]
     },
     "metadata": {},
     "output_type": "display_data"
    },
    {
     "name": "stderr",
     "output_type": "stream",
     "text": [
      "***** Running evaluation *****\n",
      "[I 2025-09-01 10:07:29,838] Trial 0 finished with value: 0.7353 and parameters: {'learning_rate': 1.1305726390471833e-06}. Best is trial 0 with value: 0.7353.\n"
     ]
    },
    {
     "name": "stdout",
     "output_type": "stream",
     "text": [
      "Confusion Matrix:\n",
      " [[ 27   3   2]\n",
      " [  1  45   5]\n",
      " [ 29  23 103]]\n",
      "              precision    recall  f1-score   support\n",
      "\n",
      "           0     0.4737    0.8438    0.6067        32\n",
      "           1     0.6338    0.8824    0.7377        51\n",
      "           2     0.9364    0.6645    0.7774       155\n",
      "\n",
      "    accuracy                         0.7353       238\n",
      "   macro avg     0.6813    0.7969    0.7073       238\n",
      "weighted avg     0.8093    0.7353    0.7459       238\n",
      "\n",
      "+++++++++++ {'classification_report': '              precision    recall  f1-score   support\\n\\n           0     0.4737    0.8438    0.6067        32\\n           1     0.6338    0.8824    0.7377        51\\n           2     0.9364    0.6645    0.7774       155\\n\\n    accuracy                         0.7353       238\\n   macro avg     0.6813    0.7969    0.7073       238\\nweighted avg     0.8093    0.7353    0.7459       238\\n', 'Confusion Matrix': array([[ 27,   3,   2],\n",
      "       [  1,  45,   5],\n",
      "       [ 29,  23, 103]]), 'precision': 0.6813, 'recall': 0.7969, 'f1': 0.7073, 'accuracy': 0.7353}\n"
     ]
    }
   ],
   "source": [
    "trainer = CommitFitTrainer(\n",
    "    train_dataset=train_dataset,\n",
    "    train_code_change = train_code_change,\n",
    "    test_code_change = test_code_change,\n",
    "    eval_dataset=test_dataset,\n",
    "    model_init=model_init,\n",
    "    metric = compute_metrics,\n",
    "    num_iterations=20,\n",
    "    num_epochs=1\n",
    ")\n",
    "best_run = trainer.hyperparameter_search(direction=\"maximize\", hp_space=hp_space, compute_objective=my_compute_objective, n_trials=1)"
   ]
  },
  {
   "cell_type": "code",
   "execution_count": 19,
   "id": "91deb34e-2ef0-4f00-b6e7-7ffd18605c52",
   "metadata": {
    "execution": {
     "iopub.execute_input": "2025-09-01T02:07:29.843086Z",
     "iopub.status.busy": "2025-09-01T02:07:29.842655Z",
     "iopub.status.idle": "2025-09-01T02:07:29.847924Z",
     "shell.execute_reply": "2025-09-01T02:07:29.847313Z",
     "shell.execute_reply.started": "2025-09-01T02:07:29.843057Z"
    }
   },
   "outputs": [
    {
     "data": {
      "text/plain": [
       "BestRun(run_id='0', objective=0.7353, hyperparameters={'learning_rate': 1.1305726390471833e-06}, backend=<optuna.study.study.Study object at 0x7fda3fae35e0>)"
      ]
     },
     "execution_count": 19,
     "metadata": {},
     "output_type": "execute_result"
    }
   ],
   "source": [
    "best_run"
   ]
  },
  {
   "cell_type": "code",
   "execution_count": 20,
   "id": "40cfde46-c7d5-4446-8b53-7ad4dc8edb66",
   "metadata": {
    "execution": {
     "iopub.execute_input": "2025-09-01T02:07:29.849300Z",
     "iopub.status.busy": "2025-09-01T02:07:29.848759Z",
     "iopub.status.idle": "2025-09-01T02:07:29.856904Z",
     "shell.execute_reply": "2025-09-01T02:07:29.856284Z",
     "shell.execute_reply.started": "2025-09-01T02:07:29.849272Z"
    }
   },
   "outputs": [
    {
     "data": {
      "text/plain": [
       "{'learning_rate': 1.1305726390471833e-06}"
      ]
     },
     "execution_count": 20,
     "metadata": {},
     "output_type": "execute_result"
    }
   ],
   "source": [
    "best_run.hyperparameters"
   ]
  },
  {
   "cell_type": "code",
   "execution_count": 21,
   "id": "ae735a8b-c672-4dce-822c-61330c34481b",
   "metadata": {
    "execution": {
     "iopub.execute_input": "2025-09-01T02:07:29.858180Z",
     "iopub.status.busy": "2025-09-01T02:07:29.857740Z",
     "iopub.status.idle": "2025-09-01T02:11:58.963782Z",
     "shell.execute_reply": "2025-09-01T02:11:58.963095Z",
     "shell.execute_reply.started": "2025-09-01T02:07:29.858153Z"
    }
   },
   "outputs": [
    {
     "name": "stderr",
     "output_type": "stream",
     "text": [
      "model_head.pkl not found in /root/autodl-tmp/CommitFit/sentence-transformers/paraphrase-mpnet-base-v2, initialising classification head with random weights. You should TRAIN this model on a downstream task to use it for predictions and inference.\n"
     ]
    },
    {
     "data": {
      "application/vnd.jupyter.widget-view+json": {
       "model_id": "d775aedc8e7543f786f188008ddeb132",
       "version_major": 2,
       "version_minor": 0
      },
      "text/plain": [
       "Generating Training Pairs:   0%|          | 0/20 [00:00<?, ?it/s]"
      ]
     },
     "metadata": {},
     "output_type": "display_data"
    },
    {
     "name": "stderr",
     "output_type": "stream",
     "text": [
      "***** Running training *****\n",
      "  Num examples = 18960\n",
      "  Num epochs = 1\n",
      "  Total optimization steps = 1185\n",
      "  Total train batch size = 16\n"
     ]
    },
    {
     "data": {
      "application/vnd.jupyter.widget-view+json": {
       "model_id": "c0c5aaf913824ddcba8483e19cb8b01a",
       "version_major": 2,
       "version_minor": 0
      },
      "text/plain": [
       "Epoch:   0%|          | 0/1 [00:00<?, ?it/s]"
      ]
     },
     "metadata": {},
     "output_type": "display_data"
    },
    {
     "data": {
      "application/vnd.jupyter.widget-view+json": {
       "model_id": "060cb560a48042dd8075ce8e9d80c1ff",
       "version_major": 2,
       "version_minor": 0
      },
      "text/plain": [
       "Iteration:   0%|          | 0/1185 [00:00<?, ?it/s]"
      ]
     },
     "metadata": {},
     "output_type": "display_data"
    }
   ],
   "source": [
    "trainer.apply_hyperparameters(best_run.hyperparameters, final_model=True)\n",
    "trainer.train()"
   ]
  },
  {
   "cell_type": "code",
   "execution_count": 26,
   "id": "b8cb664e-ab34-49b3-b78f-095052337232",
   "metadata": {
    "execution": {
     "iopub.execute_input": "2025-09-01T02:14:40.004762Z",
     "iopub.status.busy": "2025-09-01T02:14:40.004252Z",
     "iopub.status.idle": "2025-09-01T02:14:40.042884Z",
     "shell.execute_reply": "2025-09-01T02:14:40.041670Z",
     "shell.execute_reply.started": "2025-09-01T02:14:40.004711Z"
    }
   },
   "outputs": [
    {
     "ename": "AttributeError",
     "evalue": "'CommitFitTrainer' object has no attribute 'save_pretrained'",
     "output_type": "error",
     "traceback": [
      "\u001b[0;31m---------------------------------------------------------------------------\u001b[0m",
      "\u001b[0;31mAttributeError\u001b[0m                            Traceback (most recent call last)",
      "Cell \u001b[0;32mIn[26], line 1\u001b[0m\n\u001b[0;32m----> 1\u001b[0m \u001b[43mtrainer\u001b[49m\u001b[38;5;241;43m.\u001b[39;49m\u001b[43msave_pretrained\u001b[49m(\u001b[38;5;124m'\u001b[39m\u001b[38;5;124mcheckpoint\u001b[39m\u001b[38;5;124m'\u001b[39m)\n",
      "\u001b[0;31mAttributeError\u001b[0m: 'CommitFitTrainer' object has no attribute 'save_pretrained'"
     ]
    }
   ],
   "source": [
    "trainer._save_pretrained('checkpoint')"
   ]
  },
  {
   "cell_type": "code",
   "execution_count": null,
   "id": "166dcf9b-a0bd-4b60-854c-c6535c22a111",
   "metadata": {
    "execution": {
     "iopub.status.busy": "2025-09-01T02:11:59.144671Z",
     "iopub.status.idle": "2025-09-01T02:11:59.144942Z",
     "shell.execute_reply": "2025-09-01T02:11:59.144813Z",
     "shell.execute_reply.started": "2025-09-01T02:11:59.144799Z"
    }
   },
   "outputs": [],
   "source": [
    "fewshot_metrics = trainer.evaluate()\n",
    "fewshot_metrics"
   ]
  },
  {
   "cell_type": "code",
   "execution_count": null,
   "id": "af21aba7-66cd-4762-b5d4-6d27650bba7e",
   "metadata": {
    "execution": {
     "iopub.status.busy": "2025-09-01T02:11:59.145999Z",
     "iopub.status.idle": "2025-09-01T02:11:59.146265Z",
     "shell.execute_reply": "2025-09-01T02:11:59.146142Z",
     "shell.execute_reply.started": "2025-09-01T02:11:59.146129Z"
    }
   },
   "outputs": [],
   "source": [
    "#发送多种类型的邮件\n",
    "from email.mime.multipart import MIMEMultipart\n",
    "import smtplib\n",
    "\n",
    "from email.mime.text import MIMEText\n",
    "msg_from = '915803745@qq.com'  # 发送方邮箱\n",
    "passwd = 'vcuosuurrgkfbdai'   #就是上面的授权码\n",
    " \n",
    "# to= ['g.zhang@gotion.com', 'j.tong@gotion.com'] #接受方邮箱\n",
    "to= ['j.tong@gotion.com'] #接受方邮箱\n",
    "#设置邮件内容\n",
    "#MIMEMultipart类可以放任何内容\n",
    "msg = MIMEMultipart()\n",
    "conntent=f\"{fewshot_metrics}\"\n",
    "#把内容加进去\n",
    "msg.attach(MIMEText(conntent,'plain','utf-8'))\n",
    " \n",
    "#设置邮件主题\n",
    "msg['Subject']=\"强化学习模型训练完毕\"\n",
    " \n",
    "#发送方信息\n",
    "msg['From']=msg_from\n",
    " \n",
    "#开始发送\n",
    " \n",
    "#通过SSL方式发送，服务器地址和端口\n",
    "s = smtplib.SMTP_SSL(\"smtp.qq.com\", 465)\n",
    "# 登录邮箱\n",
    "s.login(msg_from, passwd)\n",
    "#开始发送\n",
    "s.sendmail(msg_from,to,msg.as_string())\n",
    "print(\"强化学习模型训练完毕\")"
   ]
  },
  {
   "cell_type": "code",
   "execution_count": null,
   "id": "025b5144-4d11-4fae-b716-5cb039470225",
   "metadata": {},
   "outputs": [],
   "source": []
  }
 ],
 "metadata": {
  "kernelspec": {
   "display_name": "Python 3 (ipykernel)",
   "language": "python",
   "name": "python3"
  },
  "language_info": {
   "codemirror_mode": {
    "name": "ipython",
    "version": 3
   },
   "file_extension": ".py",
   "mimetype": "text/x-python",
   "name": "python",
   "nbconvert_exporter": "python",
   "pygments_lexer": "ipython3",
   "version": "3.10.8"
  }
 },
 "nbformat": 4,
 "nbformat_minor": 5
}
