version https://git-lfs.github.com/spec/v1
oid sha256:9fd6021115ab7ec5b1b72234583a9aa85d57353c0669714e4b816030d35ed437
size 297920
