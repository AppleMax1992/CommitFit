{
 "cells": [
  {
   "cell_type": "code",
   "execution_count": 1,
   "id": "77d93e6a-106b-4abd-87e7-1243d4c51126",
   "metadata": {},
   "outputs": [
    {
     "name": "stderr",
     "output_type": "stream",
     "text": [
      "/usr/local/miniconda3/lib/python3.8/site-packages/tqdm/auto.py:21: TqdmWarning: IProgress not found. Please update jupyter and ipywidgets. See https://ipywidgets.readthedocs.io/en/stable/user_install.html\n",
      "  from .autonotebook import tqdm as notebook_tqdm\n"
     ]
    }
   ],
   "source": [
    "# !pip install transformers accelerate\n",
    "from transformers import AutoTokenizer, AutoModel, EarlyStoppingCallback, AutoModelForSequenceClassification, AutoConfig,Trainer, TrainingArguments,DataCollatorWithPadding\n",
    "import torch\n",
    "import numpy as np\n",
    "import pandas as pd\n",
    "# !pip install datasets\n",
    "from datasets import load_metric\n",
    "# %pip install evaluate\n",
    "from evaluate import evaluator\n",
    "from sklearn.model_selection import train_test_split\n",
    "import csv\n",
    "\n",
    "# notebook_login()\n",
    "\n",
    "CUDA_LAUNCH_BLOCKING=1\n"
   ]
  },
  {
   "cell_type": "code",
   "execution_count": 2,
   "id": "9ef5359f-9526-4d19-a2da-7988dc1ea04f",
   "metadata": {},
   "outputs": [],
   "source": [
    "train = pd.read_csv(r'train.csv', encoding='utf_8_sig')\n",
    "train.fillna('', inplace=True)\n",
    "test = pd.read_csv(r'test.csv', encoding='utf_8_sig')\n",
    "test.fillna('', inplace=True)"
   ]
  },
  {
   "cell_type": "code",
   "execution_count": 3,
   "id": "0c1f2190-45fb-45c5-b158-b2243760e42e",
   "metadata": {},
   "outputs": [
    {
     "data": {
      "text/html": [
       "<div>\n",
       "<style scoped>\n",
       "    .dataframe tbody tr th:only-of-type {\n",
       "        vertical-align: middle;\n",
       "    }\n",
       "\n",
       "    .dataframe tbody tr th {\n",
       "        vertical-align: top;\n",
       "    }\n",
       "\n",
       "    .dataframe thead th {\n",
       "        text-align: right;\n",
       "    }\n",
       "</style>\n",
       "<table border=\"1\" class=\"dataframe\">\n",
       "  <thead>\n",
       "    <tr style=\"text-align: right;\">\n",
       "      <th></th>\n",
       "      <th>label</th>\n",
       "      <th>text</th>\n",
       "      <th>diff</th>\n",
       "    </tr>\n",
       "  </thead>\n",
       "  <tbody>\n",
       "    <tr>\n",
       "      <th>0</th>\n",
       "      <td>negative</td>\n",
       "      <td>Merge branch '1.8.x'</td>\n",
       "      <td>diff --git a/src/ClientCommand.cpp b/src/Clien...</td>\n",
       "    </tr>\n",
       "    <tr>\n",
       "      <th>1</th>\n",
       "      <td>positive</td>\n",
       "      <td>SPOOLSS: Try to avoid an infinite loop.\\n\\nUse...</td>\n",
       "      <td>diff --git a/epan/dissectors/packet-dcerpc-spo...</td>\n",
       "    </tr>\n",
       "    <tr>\n",
       "      <th>2</th>\n",
       "      <td>positive</td>\n",
       "      <td>CVE-2017-12895/ICMP: Check the availability of...</td>\n",
       "      <td>diff --git a/print-icmp.c b/print-icmp.c\\ninde...</td>\n",
       "    </tr>\n",
       "    <tr>\n",
       "      <th>3</th>\n",
       "      <td>negative</td>\n",
       "      <td>Change distribution URL.\\n\\ngit-svn-id: https:...</td>\n",
       "      <td>diff --git a/c/xml-security-c.spec b/c/xml-sec...</td>\n",
       "    </tr>\n",
       "    <tr>\n",
       "      <th>4</th>\n",
       "      <td>positive</td>\n",
       "      <td>https://github.com/ImageMagick/ImageMagick/iss...</td>\n",
       "      <td>diff --git a/coders/png.c b/coders/png.c\\ninde...</td>\n",
       "    </tr>\n",
       "    <tr>\n",
       "      <th>5</th>\n",
       "      <td>negative</td>\n",
       "      <td>2021 license</td>\n",
       "      <td>diff --git a/Gruntfile.js b/Gruntfile.js\\ninde...</td>\n",
       "    </tr>\n",
       "    <tr>\n",
       "      <th>6</th>\n",
       "      <td>negative</td>\n",
       "      <td>Merge pull request #2426 from alvarobartt/deve...</td>\n",
       "      <td>diff --git a/nltk/tag/stanford.py b/nltk/tag/s...</td>\n",
       "    </tr>\n",
       "    <tr>\n",
       "      <th>7</th>\n",
       "      <td>negative</td>\n",
       "      <td>Fixed link errors</td>\n",
       "      <td>diff --git a/src/irisnet/CMakeLists.txt b/src/...</td>\n",
       "    </tr>\n",
       "    <tr>\n",
       "      <th>8</th>\n",
       "      <td>positive</td>\n",
       "      <td>[MJ2] Avoid index out of bounds access to pi-&gt;...</td>\n",
       "      <td>diff --git a/src/lib/openmj2/pi.c b/src/lib/op...</td>\n",
       "    </tr>\n",
       "    <tr>\n",
       "      <th>9</th>\n",
       "      <td>negative</td>\n",
       "      <td>Bootstrap 3 migration: alert-error-&gt;alert-danger.</td>\n",
       "      <td>diff --git a/src/main/java/org/projectforge/we...</td>\n",
       "    </tr>\n",
       "    <tr>\n",
       "      <th>10</th>\n",
       "      <td>positive</td>\n",
       "      <td>XSS 취약점 수정</td>\n",
       "      <td>diff --git a/adm/boardgroup_form.php b/adm/boa...</td>\n",
       "    </tr>\n",
       "    <tr>\n",
       "      <th>11</th>\n",
       "      <td>negative</td>\n",
       "      <td>Fixes #30731 - Make smart-proxy use SdNotify l...</td>\n",
       "      <td>diff --git a/lib/launcher.rb b/lib/launcher.rb...</td>\n",
       "    </tr>\n",
       "    <tr>\n",
       "      <th>12</th>\n",
       "      <td>positive</td>\n",
       "      <td>Check types to avoid invalid reads/writes.</td>\n",
       "      <td>diff --git a/src/file.c b/src/file.c\\nindex 4d...</td>\n",
       "    </tr>\n",
       "    <tr>\n",
       "      <th>13</th>\n",
       "      <td>negative</td>\n",
       "      <td>Merge pull request #24934 from nextcloud/max_f...</td>\n",
       "      <td>diff --git a/lib/base.php b/lib/base.php\\ninde...</td>\n",
       "    </tr>\n",
       "    <tr>\n",
       "      <th>14</th>\n",
       "      <td>negative</td>\n",
       "      <td>[maven-release-plugin] prepare release checkst...</td>\n",
       "      <td>diff --git a/pom.xml b/pom.xml\\nindex 2043823....</td>\n",
       "    </tr>\n",
       "    <tr>\n",
       "      <th>15</th>\n",
       "      <td>negative</td>\n",
       "      <td>Bump syn from 1.0.54 to 1.0.55 in /src/rust (#...</td>\n",
       "      <td>diff --git a/src/rust/Cargo.lock b/src/rust/Ca...</td>\n",
       "    </tr>\n",
       "    <tr>\n",
       "      <th>16</th>\n",
       "      <td>positive</td>\n",
       "      <td>Fixed issue: [security] #15204: Stored XSS vul...</td>\n",
       "      <td>diff --git a/application/controllers/admin/Sur...</td>\n",
       "    </tr>\n",
       "    <tr>\n",
       "      <th>17</th>\n",
       "      <td>negative</td>\n",
       "      <td>Repairing: implement invalid node checksum fix.</td>\n",
       "      <td>diff --git a/libexfat/exfat.h b/libexfat/exfat...</td>\n",
       "    </tr>\n",
       "    <tr>\n",
       "      <th>18</th>\n",
       "      <td>negative</td>\n",
       "      <td>Upgrade: Bump grape from 1.3.3 to 1.5.0\\n\\nBum...</td>\n",
       "      <td>diff --git a/Gemfile.lock b/Gemfile.lock\\ninde...</td>\n",
       "    </tr>\n",
       "    <tr>\n",
       "      <th>19</th>\n",
       "      <td>negative</td>\n",
       "      <td>Merge branch '8.5' into 9.5</td>\n",
       "      <td>diff --git a/src/Framework/Assert.php b/src/Fr...</td>\n",
       "    </tr>\n",
       "  </tbody>\n",
       "</table>\n",
       "</div>"
      ],
      "text/plain": [
       "       label                                               text  \\\n",
       "0   negative                               Merge branch '1.8.x'   \n",
       "1   positive  SPOOLSS: Try to avoid an infinite loop.\\n\\nUse...   \n",
       "2   positive  CVE-2017-12895/ICMP: Check the availability of...   \n",
       "3   negative  Change distribution URL.\\n\\ngit-svn-id: https:...   \n",
       "4   positive  https://github.com/ImageMagick/ImageMagick/iss...   \n",
       "5   negative                                       2021 license   \n",
       "6   negative  Merge pull request #2426 from alvarobartt/deve...   \n",
       "7   negative                                  Fixed link errors   \n",
       "8   positive  [MJ2] Avoid index out of bounds access to pi->...   \n",
       "9   negative  Bootstrap 3 migration: alert-error->alert-danger.   \n",
       "10  positive                                         XSS 취약점 수정   \n",
       "11  negative  Fixes #30731 - Make smart-proxy use SdNotify l...   \n",
       "12  positive         Check types to avoid invalid reads/writes.   \n",
       "13  negative  Merge pull request #24934 from nextcloud/max_f...   \n",
       "14  negative  [maven-release-plugin] prepare release checkst...   \n",
       "15  negative  Bump syn from 1.0.54 to 1.0.55 in /src/rust (#...   \n",
       "16  positive  Fixed issue: [security] #15204: Stored XSS vul...   \n",
       "17  negative    Repairing: implement invalid node checksum fix.   \n",
       "18  negative  Upgrade: Bump grape from 1.3.3 to 1.5.0\\n\\nBum...   \n",
       "19  negative                        Merge branch '8.5' into 9.5   \n",
       "\n",
       "                                                 diff  \n",
       "0   diff --git a/src/ClientCommand.cpp b/src/Clien...  \n",
       "1   diff --git a/epan/dissectors/packet-dcerpc-spo...  \n",
       "2   diff --git a/print-icmp.c b/print-icmp.c\\ninde...  \n",
       "3   diff --git a/c/xml-security-c.spec b/c/xml-sec...  \n",
       "4   diff --git a/coders/png.c b/coders/png.c\\ninde...  \n",
       "5   diff --git a/Gruntfile.js b/Gruntfile.js\\ninde...  \n",
       "6   diff --git a/nltk/tag/stanford.py b/nltk/tag/s...  \n",
       "7   diff --git a/src/irisnet/CMakeLists.txt b/src/...  \n",
       "8   diff --git a/src/lib/openmj2/pi.c b/src/lib/op...  \n",
       "9   diff --git a/src/main/java/org/projectforge/we...  \n",
       "10  diff --git a/adm/boardgroup_form.php b/adm/boa...  \n",
       "11  diff --git a/lib/launcher.rb b/lib/launcher.rb...  \n",
       "12  diff --git a/src/file.c b/src/file.c\\nindex 4d...  \n",
       "13  diff --git a/lib/base.php b/lib/base.php\\ninde...  \n",
       "14  diff --git a/pom.xml b/pom.xml\\nindex 2043823....  \n",
       "15  diff --git a/src/rust/Cargo.lock b/src/rust/Ca...  \n",
       "16  diff --git a/application/controllers/admin/Sur...  \n",
       "17  diff --git a/libexfat/exfat.h b/libexfat/exfat...  \n",
       "18  diff --git a/Gemfile.lock b/Gemfile.lock\\ninde...  \n",
       "19  diff --git a/src/Framework/Assert.php b/src/Fr...  "
      ]
     },
     "execution_count": 3,
     "metadata": {},
     "output_type": "execute_result"
    }
   ],
   "source": [
    "train"
   ]
  },
  {
   "cell_type": "code",
   "execution_count": 4,
   "id": "26803da1-da52-48a7-8040-70914c05f2ea",
   "metadata": {},
   "outputs": [],
   "source": [
    "train_code_change = list(train['diff'].astype(str))\n",
    "test_code_change = list(test['diff'].astype(str))"
   ]
  },
  {
   "cell_type": "code",
   "execution_count": 5,
   "id": "ecb125ae-f537-4934-bbe2-cbf1e78c96bb",
   "metadata": {},
   "outputs": [],
   "source": [
    "# !pip install setfit\n",
    "from commitfit import get_templated_dataset,sample_dataset\n",
    "from datasets import Dataset, load_metric"
   ]
  },
  {
   "cell_type": "code",
   "execution_count": 6,
   "id": "2e214dbb-075e-4fbf-adc9-f3533801587e",
   "metadata": {},
   "outputs": [],
   "source": [
    "Dataset_train = Dataset.from_pandas(train)\n",
    "test_dataset = Dataset.from_pandas(test)"
   ]
  },
  {
   "cell_type": "code",
   "execution_count": 7,
   "id": "1a8ec7ec-1112-4140-8ccd-516ba9a1b1a8",
   "metadata": {},
   "outputs": [],
   "source": [
    "train_dataset = get_templated_dataset(Dataset_train, candidate_labels=['positive','negative'], sample_size=8)"
   ]
  },
  {
   "cell_type": "code",
   "execution_count": 8,
   "id": "c5ea76cd-69e5-4aa8-bf49-c9e746b63bbb",
   "metadata": {},
   "outputs": [
    {
     "data": {
      "text/plain": [
       "Dataset({\n",
       "    features: ['label', 'text', 'diff'],\n",
       "    num_rows: 36\n",
       "})"
      ]
     },
     "execution_count": 8,
     "metadata": {},
     "output_type": "execute_result"
    }
   ],
   "source": [
    "# list(train['message'].astype(str).values)\n",
    "train_dataset"
   ]
  },
  {
   "cell_type": "code",
   "execution_count": 9,
   "id": "ee30affe-0ec9-46a3-bcaa-a1bd9422c939",
   "metadata": {},
   "outputs": [
    {
     "data": {
      "text/plain": [
       "20"
      ]
     },
     "execution_count": 9,
     "metadata": {},
     "output_type": "execute_result"
    }
   ],
   "source": [
    "len(train)"
   ]
  },
  {
   "cell_type": "code",
   "execution_count": 10,
   "id": "84e38639-cf4b-4762-a1dc-cdc983938388",
   "metadata": {},
   "outputs": [
    {
     "data": {
      "text/plain": [
       "label\n",
       "negative    13\n",
       "positive     7\n",
       "Name: count, dtype: int64"
      ]
     },
     "execution_count": 10,
     "metadata": {},
     "output_type": "execute_result"
    }
   ],
   "source": [
    "train['label'].value_counts()"
   ]
  },
  {
   "cell_type": "code",
   "execution_count": 11,
   "id": "3cf6c110-616d-45da-aa2e-4a5add26b3c0",
   "metadata": {},
   "outputs": [
    {
     "data": {
      "text/plain": [
       "label\n",
       "negative    6334\n",
       "positive    3758\n",
       "Name: count, dtype: int64"
      ]
     },
     "execution_count": 11,
     "metadata": {},
     "output_type": "execute_result"
    }
   ],
   "source": [
    "test['label'].value_counts()"
   ]
  },
  {
   "cell_type": "code",
   "execution_count": 12,
   "id": "77117d87-5292-48f5-b077-74b47ccfd5eb",
   "metadata": {},
   "outputs": [
    {
     "data": {
      "text/plain": [
       "36"
      ]
     },
     "execution_count": 12,
     "metadata": {},
     "output_type": "execute_result"
    }
   ],
   "source": [
    "len(train_dataset)"
   ]
  },
  {
   "cell_type": "code",
   "execution_count": 13,
   "id": "dca6275a-a567-4963-831c-8dd653341162",
   "metadata": {},
   "outputs": [],
   "source": [
    "from sklearn import  metrics\n",
    "\n",
    "def compute_metrics(y_pred, y_test):\n",
    "    # print(y_pred,y_test)\n",
    "    # classification_report = metrics.classification_report(y_test,y_pred)\n",
    "    accuracy_score = metrics.accuracy_score(y_test,y_pred)\n",
    "    precision_score = metrics.precision_score(y_test,y_pred, average='weighted')\n",
    "    recall_score = metrics.recall_score(y_test,y_pred,average='weighted')\n",
    "    f1_score = metrics.f1_score(y_test,y_pred,average='weighted')\n",
    "\n",
    "    # return {\"classification_report\": classification_report}\n",
    "    return {\"accuracy\": accuracy_score, \"precision\": precision_score,\"recall\": recall_score, \"f1\":f1_score}"
   ]
  },
  {
   "cell_type": "code",
   "execution_count": 14,
   "id": "4229bc5c-2287-46f4-99a5-a095c0fc8b00",
   "metadata": {},
   "outputs": [
    {
     "data": {
      "text/plain": [
       "label\n",
       "negative    6334\n",
       "positive    3758\n",
       "Name: count, dtype: int64"
      ]
     },
     "execution_count": 14,
     "metadata": {},
     "output_type": "execute_result"
    }
   ],
   "source": [
    "test['label'].value_counts()"
   ]
  },
  {
   "cell_type": "code",
   "execution_count": 15,
   "id": "49e32d66-2fc2-4a53-bae1-13f8d67c5b6f",
   "metadata": {},
   "outputs": [
    {
     "data": {
      "text/plain": [
       "Dataset({\n",
       "    features: ['label', 'text', 'diff'],\n",
       "    num_rows: 36\n",
       "})"
      ]
     },
     "execution_count": 15,
     "metadata": {},
     "output_type": "execute_result"
    }
   ],
   "source": [
    "train_dataset"
   ]
  },
  {
   "cell_type": "code",
   "execution_count": 16,
   "id": "b7c52074-c55f-4218-bc87-cdbc6e36a993",
   "metadata": {},
   "outputs": [
    {
     "data": {
      "text/html": [
       "<div>\n",
       "<style scoped>\n",
       "    .dataframe tbody tr th:only-of-type {\n",
       "        vertical-align: middle;\n",
       "    }\n",
       "\n",
       "    .dataframe tbody tr th {\n",
       "        vertical-align: top;\n",
       "    }\n",
       "\n",
       "    .dataframe thead th {\n",
       "        text-align: right;\n",
       "    }\n",
       "</style>\n",
       "<table border=\"1\" class=\"dataframe\">\n",
       "  <thead>\n",
       "    <tr style=\"text-align: right;\">\n",
       "      <th></th>\n",
       "      <th>label</th>\n",
       "      <th>text</th>\n",
       "      <th>diff</th>\n",
       "    </tr>\n",
       "  </thead>\n",
       "  <tbody>\n",
       "    <tr>\n",
       "      <th>0</th>\n",
       "      <td>negative</td>\n",
       "      <td>Merge branch '1.8.x'</td>\n",
       "      <td>diff --git a/src/ClientCommand.cpp b/src/Clien...</td>\n",
       "    </tr>\n",
       "    <tr>\n",
       "      <th>1</th>\n",
       "      <td>positive</td>\n",
       "      <td>SPOOLSS: Try to avoid an infinite loop.\\n\\nUse...</td>\n",
       "      <td>diff --git a/epan/dissectors/packet-dcerpc-spo...</td>\n",
       "    </tr>\n",
       "    <tr>\n",
       "      <th>2</th>\n",
       "      <td>positive</td>\n",
       "      <td>CVE-2017-12895/ICMP: Check the availability of...</td>\n",
       "      <td>diff --git a/print-icmp.c b/print-icmp.c\\ninde...</td>\n",
       "    </tr>\n",
       "    <tr>\n",
       "      <th>3</th>\n",
       "      <td>negative</td>\n",
       "      <td>Change distribution URL.\\n\\ngit-svn-id: https:...</td>\n",
       "      <td>diff --git a/c/xml-security-c.spec b/c/xml-sec...</td>\n",
       "    </tr>\n",
       "    <tr>\n",
       "      <th>4</th>\n",
       "      <td>positive</td>\n",
       "      <td>https://github.com/ImageMagick/ImageMagick/iss...</td>\n",
       "      <td>diff --git a/coders/png.c b/coders/png.c\\ninde...</td>\n",
       "    </tr>\n",
       "    <tr>\n",
       "      <th>5</th>\n",
       "      <td>negative</td>\n",
       "      <td>2021 license</td>\n",
       "      <td>diff --git a/Gruntfile.js b/Gruntfile.js\\ninde...</td>\n",
       "    </tr>\n",
       "    <tr>\n",
       "      <th>6</th>\n",
       "      <td>negative</td>\n",
       "      <td>Merge pull request #2426 from alvarobartt/deve...</td>\n",
       "      <td>diff --git a/nltk/tag/stanford.py b/nltk/tag/s...</td>\n",
       "    </tr>\n",
       "    <tr>\n",
       "      <th>7</th>\n",
       "      <td>negative</td>\n",
       "      <td>Fixed link errors</td>\n",
       "      <td>diff --git a/src/irisnet/CMakeLists.txt b/src/...</td>\n",
       "    </tr>\n",
       "    <tr>\n",
       "      <th>8</th>\n",
       "      <td>positive</td>\n",
       "      <td>[MJ2] Avoid index out of bounds access to pi-&gt;...</td>\n",
       "      <td>diff --git a/src/lib/openmj2/pi.c b/src/lib/op...</td>\n",
       "    </tr>\n",
       "    <tr>\n",
       "      <th>9</th>\n",
       "      <td>negative</td>\n",
       "      <td>Bootstrap 3 migration: alert-error-&gt;alert-danger.</td>\n",
       "      <td>diff --git a/src/main/java/org/projectforge/we...</td>\n",
       "    </tr>\n",
       "    <tr>\n",
       "      <th>10</th>\n",
       "      <td>positive</td>\n",
       "      <td>XSS 취약점 수정</td>\n",
       "      <td>diff --git a/adm/boardgroup_form.php b/adm/boa...</td>\n",
       "    </tr>\n",
       "    <tr>\n",
       "      <th>11</th>\n",
       "      <td>negative</td>\n",
       "      <td>Fixes #30731 - Make smart-proxy use SdNotify l...</td>\n",
       "      <td>diff --git a/lib/launcher.rb b/lib/launcher.rb...</td>\n",
       "    </tr>\n",
       "    <tr>\n",
       "      <th>12</th>\n",
       "      <td>positive</td>\n",
       "      <td>Check types to avoid invalid reads/writes.</td>\n",
       "      <td>diff --git a/src/file.c b/src/file.c\\nindex 4d...</td>\n",
       "    </tr>\n",
       "    <tr>\n",
       "      <th>13</th>\n",
       "      <td>negative</td>\n",
       "      <td>Merge pull request #24934 from nextcloud/max_f...</td>\n",
       "      <td>diff --git a/lib/base.php b/lib/base.php\\ninde...</td>\n",
       "    </tr>\n",
       "    <tr>\n",
       "      <th>14</th>\n",
       "      <td>negative</td>\n",
       "      <td>[maven-release-plugin] prepare release checkst...</td>\n",
       "      <td>diff --git a/pom.xml b/pom.xml\\nindex 2043823....</td>\n",
       "    </tr>\n",
       "    <tr>\n",
       "      <th>15</th>\n",
       "      <td>negative</td>\n",
       "      <td>Bump syn from 1.0.54 to 1.0.55 in /src/rust (#...</td>\n",
       "      <td>diff --git a/src/rust/Cargo.lock b/src/rust/Ca...</td>\n",
       "    </tr>\n",
       "    <tr>\n",
       "      <th>16</th>\n",
       "      <td>positive</td>\n",
       "      <td>Fixed issue: [security] #15204: Stored XSS vul...</td>\n",
       "      <td>diff --git a/application/controllers/admin/Sur...</td>\n",
       "    </tr>\n",
       "    <tr>\n",
       "      <th>17</th>\n",
       "      <td>negative</td>\n",
       "      <td>Repairing: implement invalid node checksum fix.</td>\n",
       "      <td>diff --git a/libexfat/exfat.h b/libexfat/exfat...</td>\n",
       "    </tr>\n",
       "    <tr>\n",
       "      <th>18</th>\n",
       "      <td>negative</td>\n",
       "      <td>Upgrade: Bump grape from 1.3.3 to 1.5.0\\n\\nBum...</td>\n",
       "      <td>diff --git a/Gemfile.lock b/Gemfile.lock\\ninde...</td>\n",
       "    </tr>\n",
       "    <tr>\n",
       "      <th>19</th>\n",
       "      <td>negative</td>\n",
       "      <td>Merge branch '8.5' into 9.5</td>\n",
       "      <td>diff --git a/src/Framework/Assert.php b/src/Fr...</td>\n",
       "    </tr>\n",
       "  </tbody>\n",
       "</table>\n",
       "</div>"
      ],
      "text/plain": [
       "       label                                               text  \\\n",
       "0   negative                               Merge branch '1.8.x'   \n",
       "1   positive  SPOOLSS: Try to avoid an infinite loop.\\n\\nUse...   \n",
       "2   positive  CVE-2017-12895/ICMP: Check the availability of...   \n",
       "3   negative  Change distribution URL.\\n\\ngit-svn-id: https:...   \n",
       "4   positive  https://github.com/ImageMagick/ImageMagick/iss...   \n",
       "5   negative                                       2021 license   \n",
       "6   negative  Merge pull request #2426 from alvarobartt/deve...   \n",
       "7   negative                                  Fixed link errors   \n",
       "8   positive  [MJ2] Avoid index out of bounds access to pi->...   \n",
       "9   negative  Bootstrap 3 migration: alert-error->alert-danger.   \n",
       "10  positive                                         XSS 취약점 수정   \n",
       "11  negative  Fixes #30731 - Make smart-proxy use SdNotify l...   \n",
       "12  positive         Check types to avoid invalid reads/writes.   \n",
       "13  negative  Merge pull request #24934 from nextcloud/max_f...   \n",
       "14  negative  [maven-release-plugin] prepare release checkst...   \n",
       "15  negative  Bump syn from 1.0.54 to 1.0.55 in /src/rust (#...   \n",
       "16  positive  Fixed issue: [security] #15204: Stored XSS vul...   \n",
       "17  negative    Repairing: implement invalid node checksum fix.   \n",
       "18  negative  Upgrade: Bump grape from 1.3.3 to 1.5.0\\n\\nBum...   \n",
       "19  negative                        Merge branch '8.5' into 9.5   \n",
       "\n",
       "                                                 diff  \n",
       "0   diff --git a/src/ClientCommand.cpp b/src/Clien...  \n",
       "1   diff --git a/epan/dissectors/packet-dcerpc-spo...  \n",
       "2   diff --git a/print-icmp.c b/print-icmp.c\\ninde...  \n",
       "3   diff --git a/c/xml-security-c.spec b/c/xml-sec...  \n",
       "4   diff --git a/coders/png.c b/coders/png.c\\ninde...  \n",
       "5   diff --git a/Gruntfile.js b/Gruntfile.js\\ninde...  \n",
       "6   diff --git a/nltk/tag/stanford.py b/nltk/tag/s...  \n",
       "7   diff --git a/src/irisnet/CMakeLists.txt b/src/...  \n",
       "8   diff --git a/src/lib/openmj2/pi.c b/src/lib/op...  \n",
       "9   diff --git a/src/main/java/org/projectforge/we...  \n",
       "10  diff --git a/adm/boardgroup_form.php b/adm/boa...  \n",
       "11  diff --git a/lib/launcher.rb b/lib/launcher.rb...  \n",
       "12  diff --git a/src/file.c b/src/file.c\\nindex 4d...  \n",
       "13  diff --git a/lib/base.php b/lib/base.php\\ninde...  \n",
       "14  diff --git a/pom.xml b/pom.xml\\nindex 2043823....  \n",
       "15  diff --git a/src/rust/Cargo.lock b/src/rust/Ca...  \n",
       "16  diff --git a/application/controllers/admin/Sur...  \n",
       "17  diff --git a/libexfat/exfat.h b/libexfat/exfat...  \n",
       "18  diff --git a/Gemfile.lock b/Gemfile.lock\\ninde...  \n",
       "19  diff --git a/src/Framework/Assert.php b/src/Fr...  "
      ]
     },
     "execution_count": 16,
     "metadata": {},
     "output_type": "execute_result"
    }
   ],
   "source": [
    "train"
   ]
  },
  {
   "cell_type": "code",
   "execution_count": 17,
   "id": "d9ede869-1587-4e42-8879-e819e5961dca",
   "metadata": {},
   "outputs": [],
   "source": [
    "model_id = \"sentence-transformers/paraphrase-mpnet-base-v2\""
   ]
  },
  {
   "cell_type": "code",
   "execution_count": 18,
   "id": "a6501389-0c86-442d-85cf-f04ad146703f",
   "metadata": {},
   "outputs": [
    {
     "name": "stderr",
     "output_type": "stream",
     "text": [
      "model_head.pkl not found on HuggingFace Hub, initialising classification head with random weights. You should TRAIN this model on a downstream task to use it for predictions and inference.\n"
     ]
    }
   ],
   "source": [
    "from commitfit import CommitFitModel\n",
    "model = CommitFitModel.from_pretrained(model_id)"
   ]
  },
  {
   "cell_type": "code",
   "execution_count": 19,
   "id": "2244f079-c2b8-4e01-aca4-f68e7ce8accb",
   "metadata": {},
   "outputs": [],
   "source": [
    "from commitfit import CommitFitTrainer\n",
    "\n",
    "trainer = CommitFitTrainer(\n",
    "    model=model,\n",
    "    train_dataset=train_dataset,\n",
    "    train_code_change = train_code_change,\n",
    "    test_code_change = test_code_change,\n",
    "    eval_dataset=test_dataset,\n",
    "    metric = compute_metrics,\n",
    "    num_iterations=20,\n",
    "    num_epochs=1\n",
    ")"
   ]
  },
  {
   "cell_type": "code",
   "execution_count": 20,
   "id": "40cfde46-c7d5-4446-8b53-7ad4dc8edb66",
   "metadata": {},
   "outputs": [
    {
     "name": "stderr",
     "output_type": "stream",
     "text": [
      "Generating Training Pairs: 100%|██████████| 20/20 [00:00<00:00, 361.99it/s]\n",
      "***** Running training *****\n",
      "  Num examples = 1440\n",
      "  Num epochs = 1\n",
      "  Total optimization steps = 90\n",
      "  Total train batch size = 16\n",
      "Epoch:   0%|          | 0/1 [00:00<?, ?it/s]\n",
      "Iteration:   0%|          | 0/90 [00:00<?, ?it/s]\u001b[A\n",
      "Iteration:   1%|          | 1/90 [00:00<00:37,  2.40it/s]\u001b[A\n",
      "Iteration:   2%|▏         | 2/90 [00:00<00:29,  3.03it/s]\u001b[A\n",
      "Iteration:   3%|▎         | 3/90 [00:00<00:26,  3.25it/s]\u001b[A\n",
      "Iteration:   4%|▍         | 4/90 [00:01<00:25,  3.42it/s]\u001b[A\n",
      "Iteration:   6%|▌         | 5/90 [00:01<00:22,  3.81it/s]\u001b[A\n",
      "Iteration:   7%|▋         | 6/90 [00:01<00:21,  3.85it/s]\u001b[A\n",
      "Iteration:   8%|▊         | 7/90 [00:01<00:21,  3.86it/s]\u001b[A\n",
      "Iteration:   9%|▉         | 8/90 [00:02<00:20,  4.01it/s]\u001b[A\n",
      "Iteration:  10%|█         | 9/90 [00:02<00:19,  4.14it/s]\u001b[A\n",
      "Iteration:  11%|█         | 10/90 [00:02<00:19,  4.09it/s]\u001b[A\n",
      "Iteration:  12%|█▏        | 11/90 [00:02<00:19,  4.09it/s]\u001b[A\n",
      "Iteration:  13%|█▎        | 12/90 [00:02<00:19,  4.09it/s]\u001b[A\n",
      "Iteration:  14%|█▍        | 13/90 [00:03<00:18,  4.08it/s]\u001b[A\n",
      "Iteration:  16%|█▌        | 14/90 [00:03<00:18,  4.16it/s]\u001b[A\n",
      "Iteration:  17%|█▋        | 15/90 [00:03<00:17,  4.25it/s]\u001b[A\n",
      "Iteration:  18%|█▊        | 16/90 [00:03<00:17,  4.35it/s]\u001b[A\n",
      "Iteration:  19%|█▉        | 17/90 [00:04<00:16,  4.32it/s]\u001b[A\n",
      "Iteration:  20%|██        | 18/90 [00:04<00:16,  4.40it/s]\u001b[A\n",
      "Iteration:  21%|██        | 19/90 [00:04<00:16,  4.36it/s]\u001b[A\n",
      "Iteration:  22%|██▏       | 20/90 [00:04<00:15,  4.44it/s]\u001b[A\n",
      "Iteration:  23%|██▎       | 21/90 [00:04<00:15,  4.42it/s]\u001b[A\n",
      "Iteration:  24%|██▍       | 22/90 [00:05<00:15,  4.38it/s]\u001b[A\n",
      "Iteration:  26%|██▌       | 23/90 [00:05<00:15,  4.35it/s]\u001b[A\n",
      "Iteration:  27%|██▋       | 24/90 [00:05<00:15,  4.40it/s]\u001b[A\n",
      "Iteration:  28%|██▊       | 25/90 [00:05<00:14,  4.43it/s]\u001b[A\n",
      "Iteration:  29%|██▉       | 26/90 [00:06<00:14,  4.39it/s]\u001b[A\n",
      "Iteration:  30%|███       | 27/90 [00:06<00:14,  4.35it/s]\u001b[A\n",
      "Iteration:  31%|███       | 28/90 [00:06<00:14,  4.32it/s]\u001b[A\n",
      "Iteration:  32%|███▏      | 29/90 [00:06<00:13,  4.37it/s]\u001b[A\n",
      "Iteration:  33%|███▎      | 30/90 [00:07<00:13,  4.34it/s]\u001b[A\n",
      "Iteration:  34%|███▍      | 31/90 [00:07<00:13,  4.29it/s]\u001b[A\n",
      "Iteration:  36%|███▌      | 32/90 [00:07<00:13,  4.35it/s]\u001b[A\n",
      "Iteration:  37%|███▋      | 33/90 [00:07<00:13,  4.31it/s]\u001b[A\n",
      "Iteration:  38%|███▊      | 34/90 [00:07<00:13,  4.29it/s]\u001b[A\n",
      "Iteration:  39%|███▉      | 35/90 [00:08<00:12,  4.26it/s]\u001b[A\n",
      "Iteration:  40%|████      | 36/90 [00:08<00:12,  4.31it/s]\u001b[A\n",
      "Iteration:  41%|████      | 37/90 [00:08<00:12,  4.34it/s]\u001b[A\n",
      "Iteration:  42%|████▏     | 38/90 [00:08<00:12,  4.31it/s]\u001b[A\n",
      "Iteration:  43%|████▎     | 39/90 [00:09<00:11,  4.27it/s]\u001b[A\n",
      "Iteration:  44%|████▍     | 40/90 [00:09<00:11,  4.25it/s]\u001b[A\n",
      "Iteration:  46%|████▌     | 41/90 [00:09<00:11,  4.23it/s]\u001b[A\n",
      "Iteration:  47%|████▋     | 42/90 [00:09<00:11,  4.22it/s]\u001b[A\n",
      "Iteration:  48%|████▊     | 43/90 [00:10<00:11,  4.20it/s]\u001b[A\n",
      "Iteration:  49%|████▉     | 44/90 [00:10<00:10,  4.20it/s]\u001b[A\n",
      "Iteration:  50%|█████     | 45/90 [00:10<00:10,  4.24it/s]\u001b[A\n",
      "Iteration:  51%|█████     | 46/90 [00:10<00:10,  4.23it/s]\u001b[A\n",
      "Iteration:  52%|█████▏    | 47/90 [00:11<00:10,  4.20it/s]\u001b[A\n",
      "Iteration:  53%|█████▎    | 48/90 [00:11<00:10,  4.17it/s]\u001b[A\n",
      "Iteration:  54%|█████▍    | 49/90 [00:11<00:09,  4.16it/s]\u001b[A\n",
      "Iteration:  56%|█████▌    | 50/90 [00:11<00:09,  4.14it/s]\u001b[A\n",
      "Iteration:  57%|█████▋    | 51/90 [00:12<00:09,  4.14it/s]\u001b[A\n",
      "Iteration:  58%|█████▊    | 52/90 [00:12<00:08,  4.24it/s]\u001b[A\n",
      "Iteration:  59%|█████▉    | 53/90 [00:12<00:08,  4.23it/s]\u001b[A\n",
      "Iteration:  60%|██████    | 54/90 [00:12<00:08,  4.21it/s]\u001b[A\n",
      "Iteration:  61%|██████    | 55/90 [00:12<00:08,  4.24it/s]\u001b[A\n",
      "Iteration:  62%|██████▏   | 56/90 [00:13<00:07,  4.28it/s]\u001b[A\n",
      "Iteration:  63%|██████▎   | 57/90 [00:13<00:07,  4.27it/s]\u001b[A\n",
      "Iteration:  64%|██████▍   | 58/90 [00:13<00:07,  4.25it/s]\u001b[A\n",
      "Iteration:  66%|██████▌   | 59/90 [00:13<00:07,  4.23it/s]\u001b[A\n",
      "Iteration:  67%|██████▋   | 60/90 [00:14<00:07,  4.21it/s]\u001b[A\n",
      "Iteration:  68%|██████▊   | 61/90 [00:14<00:06,  4.31it/s]\u001b[A\n",
      "Iteration:  69%|██████▉   | 62/90 [00:14<00:06,  4.28it/s]\u001b[A\n",
      "Iteration:  70%|███████   | 63/90 [00:14<00:06,  4.25it/s]\u001b[A\n",
      "Iteration:  71%|███████   | 64/90 [00:15<00:06,  4.29it/s]\u001b[A\n",
      "Iteration:  72%|███████▏  | 65/90 [00:15<00:05,  4.27it/s]\u001b[A\n",
      "Iteration:  73%|███████▎  | 66/90 [00:15<00:05,  4.31it/s]\u001b[A\n",
      "Iteration:  74%|███████▍  | 67/90 [00:15<00:05,  4.34it/s]\u001b[A\n",
      "Iteration:  76%|███████▌  | 68/90 [00:15<00:05,  4.32it/s]\u001b[A\n",
      "Iteration:  77%|███████▋  | 69/90 [00:16<00:04,  4.30it/s]\u001b[A\n",
      "Iteration:  78%|███████▊  | 70/90 [00:16<00:04,  4.29it/s]\u001b[A\n",
      "Iteration:  79%|███████▉  | 71/90 [00:16<00:04,  4.27it/s]\u001b[A\n",
      "Iteration:  80%|████████  | 72/90 [00:16<00:04,  4.36it/s]\u001b[A\n",
      "Iteration:  81%|████████  | 73/90 [00:17<00:03,  4.34it/s]\u001b[A\n",
      "Iteration:  82%|████████▏ | 74/90 [00:17<00:03,  4.36it/s]\u001b[A\n",
      "Iteration:  83%|████████▎ | 75/90 [00:17<00:03,  4.31it/s]\u001b[A\n",
      "Iteration:  84%|████████▍ | 76/90 [00:17<00:03,  4.34it/s]\u001b[A\n",
      "Iteration:  86%|████████▌ | 77/90 [00:17<00:02,  4.37it/s]\u001b[A\n",
      "Iteration:  87%|████████▋ | 78/90 [00:18<00:02,  4.35it/s]\u001b[A\n",
      "Iteration:  88%|████████▊ | 79/90 [00:18<00:02,  4.29it/s]\u001b[A\n",
      "Iteration:  89%|████████▉ | 80/90 [00:18<00:02,  4.26it/s]\u001b[A\n",
      "Iteration:  90%|█████████ | 81/90 [00:19<00:02,  4.23it/s]\u001b[A\n",
      "Iteration:  91%|█████████ | 82/90 [00:19<00:01,  4.24it/s]\u001b[A\n",
      "Iteration:  92%|█████████▏| 83/90 [00:19<00:01,  4.28it/s]\u001b[A\n",
      "Iteration:  93%|█████████▎| 84/90 [00:19<00:01,  4.28it/s]\u001b[A\n",
      "Iteration:  94%|█████████▍| 85/90 [00:19<00:01,  4.27it/s]\u001b[A\n",
      "Iteration:  96%|█████████▌| 86/90 [00:20<00:00,  4.25it/s]\u001b[A\n",
      "Iteration:  97%|█████████▋| 87/90 [00:20<00:00,  4.25it/s]\u001b[A\n",
      "Iteration:  98%|█████████▊| 88/90 [00:20<00:00,  4.23it/s]\u001b[A\n",
      "Iteration:  99%|█████████▉| 89/90 [00:20<00:00,  4.21it/s]\u001b[A\n",
      "Iteration: 100%|██████████| 90/90 [00:21<00:00,  4.24it/s]\u001b[A\n",
      "Epoch: 100%|██████████| 1/1 [00:21<00:00, 21.22s/it]\n",
      "***** Running evaluation *****\n"
     ]
    },
    {
     "name": "stdout",
     "output_type": "stream",
     "text": [
      "CPU times: user 15min 36s, sys: 1min 14s, total: 16min 50s\n",
      "Wall time: 4min 20s\n"
     ]
    },
    {
     "name": "stderr",
     "output_type": "stream",
     "text": [
      "/usr/local/miniconda3/lib/python3.8/site-packages/sklearn/metrics/_classification.py:1469: UndefinedMetricWarning: Recall is ill-defined and being set to 0.0 in labels with no true samples. Use `zero_division` parameter to control this behavior.\n",
      "  _warn_prf(average, modifier, msg_start, len(result))\n"
     ]
    },
    {
     "data": {
      "text/plain": [
       "{'accuracy': 0.7282005548949663,\n",
       " 'precision': 0.7220530215728029,\n",
       " 'recall': 0.7282005548949663,\n",
       " 'f1': 0.719030537825748}"
      ]
     },
     "execution_count": 20,
     "metadata": {},
     "output_type": "execute_result"
    }
   ],
   "source": [
    "%%time\n",
    "trainer.train()\n",
    "fewshot_metrics = trainer.evaluate()\n",
    "fewshot_metrics"
   ]
  },
  {
   "cell_type": "code",
   "execution_count": null,
   "id": "ae735a8b-c672-4dce-822c-61330c34481b",
   "metadata": {},
   "outputs": [],
   "source": []
  },
  {
   "cell_type": "code",
   "execution_count": null,
   "id": "166dcf9b-a0bd-4b60-854c-c6535c22a111",
   "metadata": {},
   "outputs": [],
   "source": []
  },
  {
   "cell_type": "code",
   "execution_count": null,
   "id": "af21aba7-66cd-4762-b5d4-6d27650bba7e",
   "metadata": {},
   "outputs": [],
   "source": []
  },
  {
   "cell_type": "code",
   "execution_count": null,
   "id": "823bf0ba-17f8-4c76-b059-1baa66cec406",
   "metadata": {},
   "outputs": [],
   "source": []
  }
 ],
 "metadata": {
  "kernelspec": {
   "display_name": "Python 3 (ipykernel)",
   "language": "python",
   "name": "python3"
  },
  "language_info": {
   "codemirror_mode": {
    "name": "ipython",
    "version": 3
   },
   "file_extension": ".py",
   "mimetype": "text/x-python",
   "name": "python",
   "nbconvert_exporter": "python",
   "pygments_lexer": "ipython3",
   "version": "3.8.10"
  }
 },
 "nbformat": 4,
 "nbformat_minor": 5
}
