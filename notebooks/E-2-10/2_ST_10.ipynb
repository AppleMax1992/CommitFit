{
 "cells": [
  {
   "cell_type": "code",
   "execution_count": 1,
   "id": "77d93e6a-106b-4abd-87e7-1243d4c51126",
   "metadata": {
    "execution": {
     "iopub.execute_input": "2024-05-29T07:39:15.234957Z",
     "iopub.status.busy": "2024-05-29T07:39:15.234422Z",
     "iopub.status.idle": "2024-05-29T07:39:19.248889Z",
     "shell.execute_reply": "2024-05-29T07:39:19.247937Z",
     "shell.execute_reply.started": "2024-05-29T07:39:15.234907Z"
    },
    "id": "77d93e6a-106b-4abd-87e7-1243d4c51126"
   },
   "outputs": [],
   "source": [
    "# !pip install transformers accelerate\n",
    "from transformers import AutoTokenizer, AutoModel, EarlyStoppingCallback, AutoModelForSequenceClassification, AutoConfig,Trainer, TrainingArguments,DataCollatorWithPadding\n",
    "import torch\n",
    "import numpy as np\n",
    "import pandas as pd\n",
    "# !pip install datasets\n",
    "from datasets import load_metric\n",
    "# !pip install evaluate\n",
    "from evaluate import evaluator\n",
    "from sklearn.model_selection import train_test_split\n",
    "import csv\n",
    "\n",
    "# notebook_login()\n",
    "\n",
    "CUDA_LAUNCH_BLOCKING=1\n"
   ]
  },
  {
   "cell_type": "code",
   "execution_count": 2,
   "id": "Wkey0rYSSAhB",
   "metadata": {
    "colab": {
     "base_uri": "https://localhost:8080/"
    },
    "execution": {
     "iopub.execute_input": "2024-05-29T07:39:19.250520Z",
     "iopub.status.busy": "2024-05-29T07:39:19.249853Z",
     "iopub.status.idle": "2024-05-29T07:39:19.254191Z",
     "shell.execute_reply": "2024-05-29T07:39:19.253540Z",
     "shell.execute_reply.started": "2024-05-29T07:39:19.250494Z"
    },
    "id": "Wkey0rYSSAhB",
    "outputId": "be159b43-1080-48dc-855f-af527cdc29c5"
   },
   "outputs": [],
   "source": [
    "# from google.colab import drive\n",
    "# drive.mount('/content/drive')"
   ]
  },
  {
   "cell_type": "code",
   "execution_count": 3,
   "id": "9ef5359f-9526-4d19-a2da-7988dc1ea04f",
   "metadata": {
    "execution": {
     "iopub.execute_input": "2024-05-29T07:39:19.255764Z",
     "iopub.status.busy": "2024-05-29T07:39:19.255405Z",
     "iopub.status.idle": "2024-05-29T07:39:22.427349Z",
     "shell.execute_reply": "2024-05-29T07:39:22.426339Z",
     "shell.execute_reply.started": "2024-05-29T07:39:19.255741Z"
    },
    "id": "9ef5359f-9526-4d19-a2da-7988dc1ea04f"
   },
   "outputs": [
    {
     "name": "stderr",
     "output_type": "stream",
     "text": [
      "/tmp/ipykernel_1985/2093326092.py:4: FutureWarning: Downcasting behavior in `replace` is deprecated and will be removed in a future version. To retain the old behavior, explicitly call `result.infer_objects(copy=False)`. To opt-in to the future behavior, set `pd.set_option('future.no_silent_downcasting', True)`\n",
      "  train = train.replace({\"label\": label2id})\n",
      "/tmp/ipykernel_1985/2093326092.py:7: FutureWarning: Downcasting behavior in `replace` is deprecated and will be removed in a future version. To retain the old behavior, explicitly call `result.infer_objects(copy=False)`. To opt-in to the future behavior, set `pd.set_option('future.no_silent_downcasting', True)`\n",
      "  test = test.replace({\"label\": label2id})\n"
     ]
    }
   ],
   "source": [
    "label2id = {'negative':0,'positive':1}\n",
    "\n",
    "train = pd.read_csv(r'train.csv', encoding='utf_8_sig')\n",
    "train = train.replace({\"label\": label2id})\n",
    "train.fillna('', inplace=True)\n",
    "test = pd.read_csv(r'test.csv', encoding='utf_8_sig')\n",
    "test = test.replace({\"label\": label2id})\n",
    "test.fillna('', inplace=True)"
   ]
  },
  {
   "cell_type": "code",
   "execution_count": 4,
   "id": "jYWXjthC0rGo",
   "metadata": {
    "colab": {
     "base_uri": "https://localhost:8080/",
     "height": 684
    },
    "execution": {
     "iopub.execute_input": "2024-05-29T07:39:22.430756Z",
     "iopub.status.busy": "2024-05-29T07:39:22.430422Z",
     "iopub.status.idle": "2024-05-29T07:39:22.452379Z",
     "shell.execute_reply": "2024-05-29T07:39:22.451731Z",
     "shell.execute_reply.started": "2024-05-29T07:39:22.430715Z"
    },
    "id": "jYWXjthC0rGo",
    "outputId": "41f990d0-deb5-4d86-fd90-8e20873610e4"
   },
   "outputs": [
    {
     "data": {
      "text/html": [
       "<div>\n",
       "<style scoped>\n",
       "    .dataframe tbody tr th:only-of-type {\n",
       "        vertical-align: middle;\n",
       "    }\n",
       "\n",
       "    .dataframe tbody tr th {\n",
       "        vertical-align: top;\n",
       "    }\n",
       "\n",
       "    .dataframe thead th {\n",
       "        text-align: right;\n",
       "    }\n",
       "</style>\n",
       "<table border=\"1\" class=\"dataframe\">\n",
       "  <thead>\n",
       "    <tr style=\"text-align: right;\">\n",
       "      <th></th>\n",
       "      <th>label</th>\n",
       "      <th>text</th>\n",
       "      <th>diff</th>\n",
       "    </tr>\n",
       "  </thead>\n",
       "  <tbody>\n",
       "    <tr>\n",
       "      <th>0</th>\n",
       "      <td>0</td>\n",
       "      <td>Merge branch '1.8.x'</td>\n",
       "      <td>diff --git a/src/ClientCommand.cpp b/src/Clien...</td>\n",
       "    </tr>\n",
       "    <tr>\n",
       "      <th>1</th>\n",
       "      <td>1</td>\n",
       "      <td>SPOOLSS: Try to avoid an infinite loop.\\n\\nUse...</td>\n",
       "      <td>diff --git a/epan/dissectors/packet-dcerpc-spo...</td>\n",
       "    </tr>\n",
       "    <tr>\n",
       "      <th>2</th>\n",
       "      <td>1</td>\n",
       "      <td>CVE-2017-12895/ICMP: Check the availability of...</td>\n",
       "      <td>diff --git a/print-icmp.c b/print-icmp.c\\ninde...</td>\n",
       "    </tr>\n",
       "    <tr>\n",
       "      <th>3</th>\n",
       "      <td>0</td>\n",
       "      <td>Change distribution URL.\\n\\ngit-svn-id: https:...</td>\n",
       "      <td>diff --git a/c/xml-security-c.spec b/c/xml-sec...</td>\n",
       "    </tr>\n",
       "    <tr>\n",
       "      <th>4</th>\n",
       "      <td>1</td>\n",
       "      <td>https://github.com/ImageMagick/ImageMagick/iss...</td>\n",
       "      <td>diff --git a/coders/png.c b/coders/png.c\\ninde...</td>\n",
       "    </tr>\n",
       "    <tr>\n",
       "      <th>5</th>\n",
       "      <td>0</td>\n",
       "      <td>2021 license</td>\n",
       "      <td>diff --git a/Gruntfile.js b/Gruntfile.js\\ninde...</td>\n",
       "    </tr>\n",
       "    <tr>\n",
       "      <th>6</th>\n",
       "      <td>0</td>\n",
       "      <td>Merge pull request #2426 from alvarobartt/deve...</td>\n",
       "      <td>diff --git a/nltk/tag/stanford.py b/nltk/tag/s...</td>\n",
       "    </tr>\n",
       "    <tr>\n",
       "      <th>7</th>\n",
       "      <td>0</td>\n",
       "      <td>Fixed link errors</td>\n",
       "      <td>diff --git a/src/irisnet/CMakeLists.txt b/src/...</td>\n",
       "    </tr>\n",
       "    <tr>\n",
       "      <th>8</th>\n",
       "      <td>1</td>\n",
       "      <td>[MJ2] Avoid index out of bounds access to pi-&gt;...</td>\n",
       "      <td>diff --git a/src/lib/openmj2/pi.c b/src/lib/op...</td>\n",
       "    </tr>\n",
       "    <tr>\n",
       "      <th>9</th>\n",
       "      <td>0</td>\n",
       "      <td>Bootstrap 3 migration: alert-error-&gt;alert-danger.</td>\n",
       "      <td>diff --git a/src/main/java/org/projectforge/we...</td>\n",
       "    </tr>\n",
       "    <tr>\n",
       "      <th>10</th>\n",
       "      <td>1</td>\n",
       "      <td>XSS 취약점 수정</td>\n",
       "      <td>diff --git a/adm/boardgroup_form.php b/adm/boa...</td>\n",
       "    </tr>\n",
       "    <tr>\n",
       "      <th>11</th>\n",
       "      <td>0</td>\n",
       "      <td>Fixes #30731 - Make smart-proxy use SdNotify l...</td>\n",
       "      <td>diff --git a/lib/launcher.rb b/lib/launcher.rb...</td>\n",
       "    </tr>\n",
       "    <tr>\n",
       "      <th>12</th>\n",
       "      <td>1</td>\n",
       "      <td>Check types to avoid invalid reads/writes.</td>\n",
       "      <td>diff --git a/src/file.c b/src/file.c\\nindex 4d...</td>\n",
       "    </tr>\n",
       "    <tr>\n",
       "      <th>13</th>\n",
       "      <td>0</td>\n",
       "      <td>Merge pull request #24934 from nextcloud/max_f...</td>\n",
       "      <td>diff --git a/lib/base.php b/lib/base.php\\ninde...</td>\n",
       "    </tr>\n",
       "    <tr>\n",
       "      <th>14</th>\n",
       "      <td>0</td>\n",
       "      <td>[maven-release-plugin] prepare release checkst...</td>\n",
       "      <td>diff --git a/pom.xml b/pom.xml\\nindex 2043823....</td>\n",
       "    </tr>\n",
       "    <tr>\n",
       "      <th>15</th>\n",
       "      <td>0</td>\n",
       "      <td>Bump syn from 1.0.54 to 1.0.55 in /src/rust (#...</td>\n",
       "      <td>diff --git a/src/rust/Cargo.lock b/src/rust/Ca...</td>\n",
       "    </tr>\n",
       "    <tr>\n",
       "      <th>16</th>\n",
       "      <td>1</td>\n",
       "      <td>Fixed issue: [security] #15204: Stored XSS vul...</td>\n",
       "      <td>diff --git a/application/controllers/admin/Sur...</td>\n",
       "    </tr>\n",
       "    <tr>\n",
       "      <th>17</th>\n",
       "      <td>0</td>\n",
       "      <td>Repairing: implement invalid node checksum fix.</td>\n",
       "      <td>diff --git a/libexfat/exfat.h b/libexfat/exfat...</td>\n",
       "    </tr>\n",
       "    <tr>\n",
       "      <th>18</th>\n",
       "      <td>0</td>\n",
       "      <td>Upgrade: Bump grape from 1.3.3 to 1.5.0\\n\\nBum...</td>\n",
       "      <td>diff --git a/Gemfile.lock b/Gemfile.lock\\ninde...</td>\n",
       "    </tr>\n",
       "    <tr>\n",
       "      <th>19</th>\n",
       "      <td>0</td>\n",
       "      <td>Merge branch '8.5' into 9.5</td>\n",
       "      <td>diff --git a/src/Framework/Assert.php b/src/Fr...</td>\n",
       "    </tr>\n",
       "  </tbody>\n",
       "</table>\n",
       "</div>"
      ],
      "text/plain": [
       "    label                                               text  \\\n",
       "0       0                               Merge branch '1.8.x'   \n",
       "1       1  SPOOLSS: Try to avoid an infinite loop.\\n\\nUse...   \n",
       "2       1  CVE-2017-12895/ICMP: Check the availability of...   \n",
       "3       0  Change distribution URL.\\n\\ngit-svn-id: https:...   \n",
       "4       1  https://github.com/ImageMagick/ImageMagick/iss...   \n",
       "5       0                                       2021 license   \n",
       "6       0  Merge pull request #2426 from alvarobartt/deve...   \n",
       "7       0                                  Fixed link errors   \n",
       "8       1  [MJ2] Avoid index out of bounds access to pi->...   \n",
       "9       0  Bootstrap 3 migration: alert-error->alert-danger.   \n",
       "10      1                                         XSS 취약점 수정   \n",
       "11      0  Fixes #30731 - Make smart-proxy use SdNotify l...   \n",
       "12      1         Check types to avoid invalid reads/writes.   \n",
       "13      0  Merge pull request #24934 from nextcloud/max_f...   \n",
       "14      0  [maven-release-plugin] prepare release checkst...   \n",
       "15      0  Bump syn from 1.0.54 to 1.0.55 in /src/rust (#...   \n",
       "16      1  Fixed issue: [security] #15204: Stored XSS vul...   \n",
       "17      0    Repairing: implement invalid node checksum fix.   \n",
       "18      0  Upgrade: Bump grape from 1.3.3 to 1.5.0\\n\\nBum...   \n",
       "19      0                        Merge branch '8.5' into 9.5   \n",
       "\n",
       "                                                 diff  \n",
       "0   diff --git a/src/ClientCommand.cpp b/src/Clien...  \n",
       "1   diff --git a/epan/dissectors/packet-dcerpc-spo...  \n",
       "2   diff --git a/print-icmp.c b/print-icmp.c\\ninde...  \n",
       "3   diff --git a/c/xml-security-c.spec b/c/xml-sec...  \n",
       "4   diff --git a/coders/png.c b/coders/png.c\\ninde...  \n",
       "5   diff --git a/Gruntfile.js b/Gruntfile.js\\ninde...  \n",
       "6   diff --git a/nltk/tag/stanford.py b/nltk/tag/s...  \n",
       "7   diff --git a/src/irisnet/CMakeLists.txt b/src/...  \n",
       "8   diff --git a/src/lib/openmj2/pi.c b/src/lib/op...  \n",
       "9   diff --git a/src/main/java/org/projectforge/we...  \n",
       "10  diff --git a/adm/boardgroup_form.php b/adm/boa...  \n",
       "11  diff --git a/lib/launcher.rb b/lib/launcher.rb...  \n",
       "12  diff --git a/src/file.c b/src/file.c\\nindex 4d...  \n",
       "13  diff --git a/lib/base.php b/lib/base.php\\ninde...  \n",
       "14  diff --git a/pom.xml b/pom.xml\\nindex 2043823....  \n",
       "15  diff --git a/src/rust/Cargo.lock b/src/rust/Ca...  \n",
       "16  diff --git a/application/controllers/admin/Sur...  \n",
       "17  diff --git a/libexfat/exfat.h b/libexfat/exfat...  \n",
       "18  diff --git a/Gemfile.lock b/Gemfile.lock\\ninde...  \n",
       "19  diff --git a/src/Framework/Assert.php b/src/Fr...  "
      ]
     },
     "execution_count": 4,
     "metadata": {},
     "output_type": "execute_result"
    }
   ],
   "source": [
    "train"
   ]
  },
  {
   "cell_type": "code",
   "execution_count": 5,
   "id": "ee30affe-0ec9-46a3-bcaa-a1bd9422c939",
   "metadata": {
    "colab": {
     "base_uri": "https://localhost:8080/"
    },
    "execution": {
     "iopub.execute_input": "2024-05-29T07:39:22.453775Z",
     "iopub.status.busy": "2024-05-29T07:39:22.453360Z",
     "iopub.status.idle": "2024-05-29T07:39:22.459046Z",
     "shell.execute_reply": "2024-05-29T07:39:22.458430Z",
     "shell.execute_reply.started": "2024-05-29T07:39:22.453752Z"
    },
    "id": "ee30affe-0ec9-46a3-bcaa-a1bd9422c939",
    "outputId": "0fd90232-fe76-4d0d-976e-3ed298c84bfd"
   },
   "outputs": [
    {
     "data": {
      "text/plain": [
       "20"
      ]
     },
     "execution_count": 5,
     "metadata": {},
     "output_type": "execute_result"
    }
   ],
   "source": [
    "len(train)"
   ]
  },
  {
   "cell_type": "code",
   "execution_count": 6,
   "id": "84e38639-cf4b-4762-a1dc-cdc983938388",
   "metadata": {
    "colab": {
     "base_uri": "https://localhost:8080/"
    },
    "execution": {
     "iopub.execute_input": "2024-05-29T07:39:22.460462Z",
     "iopub.status.busy": "2024-05-29T07:39:22.460112Z",
     "iopub.status.idle": "2024-05-29T07:39:22.467047Z",
     "shell.execute_reply": "2024-05-29T07:39:22.466429Z",
     "shell.execute_reply.started": "2024-05-29T07:39:22.460437Z"
    },
    "id": "84e38639-cf4b-4762-a1dc-cdc983938388",
    "outputId": "80508d99-0b1c-4b0d-f2dc-8b4a05e3750d"
   },
   "outputs": [
    {
     "data": {
      "text/plain": [
       "label\n",
       "0    13\n",
       "1     7\n",
       "Name: count, dtype: int64"
      ]
     },
     "execution_count": 6,
     "metadata": {},
     "output_type": "execute_result"
    }
   ],
   "source": [
    "train['label'].value_counts()"
   ]
  },
  {
   "cell_type": "code",
   "execution_count": 7,
   "id": "3cf6c110-616d-45da-aa2e-4a5add26b3c0",
   "metadata": {
    "colab": {
     "base_uri": "https://localhost:8080/"
    },
    "execution": {
     "iopub.execute_input": "2024-05-29T07:39:22.468445Z",
     "iopub.status.busy": "2024-05-29T07:39:22.468113Z",
     "iopub.status.idle": "2024-05-29T07:39:22.474542Z",
     "shell.execute_reply": "2024-05-29T07:39:22.473934Z",
     "shell.execute_reply.started": "2024-05-29T07:39:22.468422Z"
    },
    "id": "3cf6c110-616d-45da-aa2e-4a5add26b3c0",
    "outputId": "9a746745-f576-4e0e-9229-fb64ead0b6db"
   },
   "outputs": [
    {
     "data": {
      "text/plain": [
       "label\n",
       "0    6334\n",
       "1    3758\n",
       "Name: count, dtype: int64"
      ]
     },
     "execution_count": 7,
     "metadata": {},
     "output_type": "execute_result"
    }
   ],
   "source": [
    "test['label'].value_counts()"
   ]
  },
  {
   "cell_type": "code",
   "execution_count": 8,
   "id": "dca6275a-a567-4963-831c-8dd653341162",
   "metadata": {
    "execution": {
     "iopub.execute_input": "2024-05-29T07:39:22.476058Z",
     "iopub.status.busy": "2024-05-29T07:39:22.475718Z",
     "iopub.status.idle": "2024-05-29T07:39:23.102933Z",
     "shell.execute_reply": "2024-05-29T07:39:23.102219Z",
     "shell.execute_reply.started": "2024-05-29T07:39:22.476028Z"
    },
    "id": "dca6275a-a567-4963-831c-8dd653341162"
   },
   "outputs": [],
   "source": [
    "# !pip install sentence_transformers\n",
    "from sentence_transformers import SentenceTransformer\n",
    "# model_id = \"../../sentence-transformers/paraphrase-mpnet-base-v2\"\n",
    "model = SentenceTransformer('../../sentence-transformers/paraphrase-mpnet-base-v2')"
   ]
  },
  {
   "cell_type": "code",
   "execution_count": 9,
   "id": "b7c52074-c55f-4218-bc87-cdbc6e36a993",
   "metadata": {
    "execution": {
     "iopub.execute_input": "2024-05-29T07:39:23.104223Z",
     "iopub.status.busy": "2024-05-29T07:39:23.103941Z",
     "iopub.status.idle": "2024-05-29T07:42:20.186103Z",
     "shell.execute_reply": "2024-05-29T07:42:20.185017Z",
     "shell.execute_reply.started": "2024-05-29T07:39:23.104199Z"
    },
    "id": "b7c52074-c55f-4218-bc87-cdbc6e36a993"
   },
   "outputs": [],
   "source": [
    "train['embeddings'] = train['text'].apply(lambda x: model.encode(str(x)))\n",
    "test['embeddings'] = test['text'].apply(lambda x: model.encode(str(x)))"
   ]
  },
  {
   "cell_type": "code",
   "execution_count": 10,
   "id": "Oo2YeBo8kclU",
   "metadata": {
    "colab": {
     "base_uri": "https://localhost:8080/",
     "height": 964
    },
    "execution": {
     "iopub.execute_input": "2024-05-29T07:42:20.187964Z",
     "iopub.status.busy": "2024-05-29T07:42:20.187629Z",
     "iopub.status.idle": "2024-05-29T07:42:20.210973Z",
     "shell.execute_reply": "2024-05-29T07:42:20.210288Z",
     "shell.execute_reply.started": "2024-05-29T07:42:20.187939Z"
    },
    "id": "Oo2YeBo8kclU",
    "outputId": "e82ba19c-1b96-4150-f898-d9b49172272a"
   },
   "outputs": [
    {
     "data": {
      "text/html": [
       "<div>\n",
       "<style scoped>\n",
       "    .dataframe tbody tr th:only-of-type {\n",
       "        vertical-align: middle;\n",
       "    }\n",
       "\n",
       "    .dataframe tbody tr th {\n",
       "        vertical-align: top;\n",
       "    }\n",
       "\n",
       "    .dataframe thead th {\n",
       "        text-align: right;\n",
       "    }\n",
       "</style>\n",
       "<table border=\"1\" class=\"dataframe\">\n",
       "  <thead>\n",
       "    <tr style=\"text-align: right;\">\n",
       "      <th></th>\n",
       "      <th>label</th>\n",
       "      <th>text</th>\n",
       "      <th>diff</th>\n",
       "      <th>embeddings</th>\n",
       "    </tr>\n",
       "  </thead>\n",
       "  <tbody>\n",
       "    <tr>\n",
       "      <th>0</th>\n",
       "      <td>0</td>\n",
       "      <td>Header: clarify that newline conversion is raw...</td>\n",
       "      <td>diff --git a/lib/mail/header.rb b/lib/mail/hea...</td>\n",
       "      <td>[-0.13944657, 0.07307367, 0.04000201, -0.04878...</td>\n",
       "    </tr>\n",
       "    <tr>\n",
       "      <th>1</th>\n",
       "      <td>0</td>\n",
       "      <td>[ticket/16691] Fix illegal offset for report_p...</td>\n",
       "      <td>diff --git a/phpBB/phpbb/notification/type/rep...</td>\n",
       "      <td>[-0.14759511, 0.09322985, 0.033147767, 0.06086...</td>\n",
       "    </tr>\n",
       "    <tr>\n",
       "      <th>2</th>\n",
       "      <td>0</td>\n",
       "      <td>Hide the Ulterius Agent when its ran.</td>\n",
       "      <td>diff --git a/UlteriusAgent/Program.cs b/Ulteri...</td>\n",
       "      <td>[0.0017122248, 0.030022504, -0.0066839927, 0.2...</td>\n",
       "    </tr>\n",
       "    <tr>\n",
       "      <th>3</th>\n",
       "      <td>0</td>\n",
       "      <td>Move DOM lookup outside of loop\\n\\nfixes #1360</td>\n",
       "      <td>diff --git a/lib/ext/ui.js b/lib/ext/ui.js\\nin...</td>\n",
       "      <td>[-0.042559765, 0.13228251, -0.09083305, 0.1190...</td>\n",
       "    </tr>\n",
       "    <tr>\n",
       "      <th>4</th>\n",
       "      <td>1</td>\n",
       "      <td>remove /login from tracking logs so we don't c...</td>\n",
       "      <td>diff --git a/auth/views.py b/auth/views.py\\nin...</td>\n",
       "      <td>[-0.052938223, 0.12112431, 0.077534795, 0.1962...</td>\n",
       "    </tr>\n",
       "    <tr>\n",
       "      <th>...</th>\n",
       "      <td>...</td>\n",
       "      <td>...</td>\n",
       "      <td>...</td>\n",
       "      <td>...</td>\n",
       "    </tr>\n",
       "    <tr>\n",
       "      <th>10087</th>\n",
       "      <td>1</td>\n",
       "      <td>disallow boot from volume from specifying arbi...</td>\n",
       "      <td>diff --git a/nova/compute/api.py b/nova/comput...</td>\n",
       "      <td>[-0.041516595, -0.017604265, 0.0018733353, 0.0...</td>\n",
       "    </tr>\n",
       "    <tr>\n",
       "      <th>10088</th>\n",
       "      <td>1</td>\n",
       "      <td>writet1 protection against buffer overflow\\n\\n...</td>\n",
       "      <td>diff --git a/texk/dvipsk/ChangeLog b/texk/dvip...</td>\n",
       "      <td>[-0.15439494, 0.04666118, 0.046322543, 0.12190...</td>\n",
       "    </tr>\n",
       "    <tr>\n",
       "      <th>10089</th>\n",
       "      <td>1</td>\n",
       "      <td>PR/398: Correctly truncate pascal strings (fix...</td>\n",
       "      <td>diff --git a/src/softmagic.c b/src/softmagic.c...</td>\n",
       "      <td>[0.026086327, -0.08980047, -0.029941613, 0.127...</td>\n",
       "    </tr>\n",
       "    <tr>\n",
       "      <th>10090</th>\n",
       "      <td>0</td>\n",
       "      <td>Add paragraph on GitHub deprecating passwords ...</td>\n",
       "      <td>diff --git a/CONTRIBUTING-TO-ESAPI.txt b/CONTR...</td>\n",
       "      <td>[0.10408172, 0.08221948, 0.02908223, 0.0035576...</td>\n",
       "    </tr>\n",
       "    <tr>\n",
       "      <th>10091</th>\n",
       "      <td>1</td>\n",
       "      <td>web UI: fixed XSS vulnerability</td>\n",
       "      <td>diff --git a/CHANGELOG.md b/CHANGELOG.md\\ninde...</td>\n",
       "      <td>[-0.09106887, 0.09889078, -0.0123134265, -0.10...</td>\n",
       "    </tr>\n",
       "  </tbody>\n",
       "</table>\n",
       "<p>10092 rows × 4 columns</p>\n",
       "</div>"
      ],
      "text/plain": [
       "       label                                               text  \\\n",
       "0          0  Header: clarify that newline conversion is raw...   \n",
       "1          0  [ticket/16691] Fix illegal offset for report_p...   \n",
       "2          0              Hide the Ulterius Agent when its ran.   \n",
       "3          0     Move DOM lookup outside of loop\\n\\nfixes #1360   \n",
       "4          1  remove /login from tracking logs so we don't c...   \n",
       "...      ...                                                ...   \n",
       "10087      1  disallow boot from volume from specifying arbi...   \n",
       "10088      1  writet1 protection against buffer overflow\\n\\n...   \n",
       "10089      1  PR/398: Correctly truncate pascal strings (fix...   \n",
       "10090      0  Add paragraph on GitHub deprecating passwords ...   \n",
       "10091      1                    web UI: fixed XSS vulnerability   \n",
       "\n",
       "                                                    diff  \\\n",
       "0      diff --git a/lib/mail/header.rb b/lib/mail/hea...   \n",
       "1      diff --git a/phpBB/phpbb/notification/type/rep...   \n",
       "2      diff --git a/UlteriusAgent/Program.cs b/Ulteri...   \n",
       "3      diff --git a/lib/ext/ui.js b/lib/ext/ui.js\\nin...   \n",
       "4      diff --git a/auth/views.py b/auth/views.py\\nin...   \n",
       "...                                                  ...   \n",
       "10087  diff --git a/nova/compute/api.py b/nova/comput...   \n",
       "10088  diff --git a/texk/dvipsk/ChangeLog b/texk/dvip...   \n",
       "10089  diff --git a/src/softmagic.c b/src/softmagic.c...   \n",
       "10090  diff --git a/CONTRIBUTING-TO-ESAPI.txt b/CONTR...   \n",
       "10091  diff --git a/CHANGELOG.md b/CHANGELOG.md\\ninde...   \n",
       "\n",
       "                                              embeddings  \n",
       "0      [-0.13944657, 0.07307367, 0.04000201, -0.04878...  \n",
       "1      [-0.14759511, 0.09322985, 0.033147767, 0.06086...  \n",
       "2      [0.0017122248, 0.030022504, -0.0066839927, 0.2...  \n",
       "3      [-0.042559765, 0.13228251, -0.09083305, 0.1190...  \n",
       "4      [-0.052938223, 0.12112431, 0.077534795, 0.1962...  \n",
       "...                                                  ...  \n",
       "10087  [-0.041516595, -0.017604265, 0.0018733353, 0.0...  \n",
       "10088  [-0.15439494, 0.04666118, 0.046322543, 0.12190...  \n",
       "10089  [0.026086327, -0.08980047, -0.029941613, 0.127...  \n",
       "10090  [0.10408172, 0.08221948, 0.02908223, 0.0035576...  \n",
       "10091  [-0.09106887, 0.09889078, -0.0123134265, -0.10...  \n",
       "\n",
       "[10092 rows x 4 columns]"
      ]
     },
     "execution_count": 10,
     "metadata": {},
     "output_type": "execute_result"
    }
   ],
   "source": [
    "test"
   ]
  },
  {
   "cell_type": "code",
   "execution_count": 11,
   "id": "b95f20d0-163a-460b-88b6-e883c9f17eaa",
   "metadata": {
    "execution": {
     "iopub.execute_input": "2024-05-29T07:42:20.212451Z",
     "iopub.status.busy": "2024-05-29T07:42:20.212211Z",
     "iopub.status.idle": "2024-05-29T07:42:20.217325Z",
     "shell.execute_reply": "2024-05-29T07:42:20.216503Z",
     "shell.execute_reply.started": "2024-05-29T07:42:20.212428Z"
    },
    "id": "b95f20d0-163a-460b-88b6-e883c9f17eaa"
   },
   "outputs": [],
   "source": [
    "X_train = train['embeddings'].to_list()\n",
    "X_test = test['embeddings'].to_list()\n",
    "\n",
    "y_train = train['label'].to_list()\n",
    "y_test = test['label'].to_list()"
   ]
  },
  {
   "cell_type": "code",
   "execution_count": 12,
   "id": "a6501389-0c86-442d-85cf-f04ad146703f",
   "metadata": {
    "colab": {
     "base_uri": "https://localhost:8080/",
     "height": 75
    },
    "execution": {
     "iopub.execute_input": "2024-05-29T07:42:20.218748Z",
     "iopub.status.busy": "2024-05-29T07:42:20.218493Z",
     "iopub.status.idle": "2024-05-29T07:42:20.268572Z",
     "shell.execute_reply": "2024-05-29T07:42:20.267441Z",
     "shell.execute_reply.started": "2024-05-29T07:42:20.218725Z"
    },
    "id": "a6501389-0c86-442d-85cf-f04ad146703f",
    "outputId": "7dd3a215-4ef3-4014-d76b-b0d6bea1f86b"
   },
   "outputs": [
    {
     "data": {
      "text/html": [
       "<style>#sk-container-id-1 {color: black;}#sk-container-id-1 pre{padding: 0;}#sk-container-id-1 div.sk-toggleable {background-color: white;}#sk-container-id-1 label.sk-toggleable__label {cursor: pointer;display: block;width: 100%;margin-bottom: 0;padding: 0.3em;box-sizing: border-box;text-align: center;}#sk-container-id-1 label.sk-toggleable__label-arrow:before {content: \"▸\";float: left;margin-right: 0.25em;color: #696969;}#sk-container-id-1 label.sk-toggleable__label-arrow:hover:before {color: black;}#sk-container-id-1 div.sk-estimator:hover label.sk-toggleable__label-arrow:before {color: black;}#sk-container-id-1 div.sk-toggleable__content {max-height: 0;max-width: 0;overflow: hidden;text-align: left;background-color: #f0f8ff;}#sk-container-id-1 div.sk-toggleable__content pre {margin: 0.2em;color: black;border-radius: 0.25em;background-color: #f0f8ff;}#sk-container-id-1 input.sk-toggleable__control:checked~div.sk-toggleable__content {max-height: 200px;max-width: 100%;overflow: auto;}#sk-container-id-1 input.sk-toggleable__control:checked~label.sk-toggleable__label-arrow:before {content: \"▾\";}#sk-container-id-1 div.sk-estimator input.sk-toggleable__control:checked~label.sk-toggleable__label {background-color: #d4ebff;}#sk-container-id-1 div.sk-label input.sk-toggleable__control:checked~label.sk-toggleable__label {background-color: #d4ebff;}#sk-container-id-1 input.sk-hidden--visually {border: 0;clip: rect(1px 1px 1px 1px);clip: rect(1px, 1px, 1px, 1px);height: 1px;margin: -1px;overflow: hidden;padding: 0;position: absolute;width: 1px;}#sk-container-id-1 div.sk-estimator {font-family: monospace;background-color: #f0f8ff;border: 1px dotted black;border-radius: 0.25em;box-sizing: border-box;margin-bottom: 0.5em;}#sk-container-id-1 div.sk-estimator:hover {background-color: #d4ebff;}#sk-container-id-1 div.sk-parallel-item::after {content: \"\";width: 100%;border-bottom: 1px solid gray;flex-grow: 1;}#sk-container-id-1 div.sk-label:hover label.sk-toggleable__label {background-color: #d4ebff;}#sk-container-id-1 div.sk-serial::before {content: \"\";position: absolute;border-left: 1px solid gray;box-sizing: border-box;top: 0;bottom: 0;left: 50%;z-index: 0;}#sk-container-id-1 div.sk-serial {display: flex;flex-direction: column;align-items: center;background-color: white;padding-right: 0.2em;padding-left: 0.2em;position: relative;}#sk-container-id-1 div.sk-item {position: relative;z-index: 1;}#sk-container-id-1 div.sk-parallel {display: flex;align-items: stretch;justify-content: center;background-color: white;position: relative;}#sk-container-id-1 div.sk-item::before, #sk-container-id-1 div.sk-parallel-item::before {content: \"\";position: absolute;border-left: 1px solid gray;box-sizing: border-box;top: 0;bottom: 0;left: 50%;z-index: -1;}#sk-container-id-1 div.sk-parallel-item {display: flex;flex-direction: column;z-index: 1;position: relative;background-color: white;}#sk-container-id-1 div.sk-parallel-item:first-child::after {align-self: flex-end;width: 50%;}#sk-container-id-1 div.sk-parallel-item:last-child::after {align-self: flex-start;width: 50%;}#sk-container-id-1 div.sk-parallel-item:only-child::after {width: 0;}#sk-container-id-1 div.sk-dashed-wrapped {border: 1px dashed gray;margin: 0 0.4em 0.5em 0.4em;box-sizing: border-box;padding-bottom: 0.4em;background-color: white;}#sk-container-id-1 div.sk-label label {font-family: monospace;font-weight: bold;display: inline-block;line-height: 1.2em;}#sk-container-id-1 div.sk-label-container {text-align: center;}#sk-container-id-1 div.sk-container {/* jupyter's `normalize.less` sets `[hidden] { display: none; }` but bootstrap.min.css set `[hidden] { display: none !important; }` so we also need the `!important` here to be able to override the default hidden behavior on the sphinx rendered scikit-learn.org. See: https://github.com/scikit-learn/scikit-learn/issues/21755 */display: inline-block !important;position: relative;}#sk-container-id-1 div.sk-text-repr-fallback {display: none;}</style><div id=\"sk-container-id-1\" class=\"sk-top-container\"><div class=\"sk-text-repr-fallback\"><pre>LogisticRegression()</pre><b>In a Jupyter environment, please rerun this cell to show the HTML representation or trust the notebook. <br />On GitHub, the HTML representation is unable to render, please try loading this page with nbviewer.org.</b></div><div class=\"sk-container\" hidden><div class=\"sk-item\"><div class=\"sk-estimator sk-toggleable\"><input class=\"sk-toggleable__control sk-hidden--visually\" id=\"sk-estimator-id-1\" type=\"checkbox\" checked><label for=\"sk-estimator-id-1\" class=\"sk-toggleable__label sk-toggleable__label-arrow\">LogisticRegression</label><div class=\"sk-toggleable__content\"><pre>LogisticRegression()</pre></div></div></div></div></div>"
      ],
      "text/plain": [
       "LogisticRegression()"
      ]
     },
     "execution_count": 12,
     "metadata": {},
     "output_type": "execute_result"
    }
   ],
   "source": [
    "from sklearn.linear_model import LogisticRegression\n",
    "LR = LogisticRegression()\n",
    "LR.fit(X_train,y_train)"
   ]
  },
  {
   "cell_type": "code",
   "execution_count": 13,
   "id": "86e85ae4-76a0-4d00-8b0c-e867356c07f3",
   "metadata": {
    "colab": {
     "base_uri": "https://localhost:8080/"
    },
    "execution": {
     "iopub.execute_input": "2024-05-29T07:42:20.275454Z",
     "iopub.status.busy": "2024-05-29T07:42:20.274543Z",
     "iopub.status.idle": "2024-05-29T07:42:20.515564Z",
     "shell.execute_reply": "2024-05-29T07:42:20.514485Z",
     "shell.execute_reply.started": "2024-05-29T07:42:20.275411Z"
    },
    "id": "86e85ae4-76a0-4d00-8b0c-e867356c07f3",
    "outputId": "eedae872-6a71-4aa3-f253-b9f08f460c32"
   },
   "outputs": [
    {
     "name": "stdout",
     "output_type": "stream",
     "text": [
      "Logistic Regression Precision: 0.7062131682518205\n",
      "Logistic Regression Recall: 0.711850971066191\n",
      "Logistic Regression Recall: 0.6930508408065337\n",
      "Logistic Regression Accuracy: 0.711850971066191\n"
     ]
    }
   ],
   "source": [
    "from sklearn import metrics\n",
    "predicted = LR.predict(X_test)\n",
    "print(\"Logistic Regression Precision:\",metrics.precision_score(y_test, predicted,average='weighted'))\n",
    "print(\"Logistic Regression Recall:\",metrics.recall_score(y_test, predicted,average='weighted'))\n",
    "print(\"Logistic Regression Recall:\",metrics.f1_score(y_test, predicted,average='weighted'))\n",
    "print(\"Logistic Regression Accuracy:\",metrics.accuracy_score(y_test, predicted))"
   ]
  },
  {
   "cell_type": "code",
   "execution_count": null,
   "id": "166dcf9b-a0bd-4b60-854c-c6535c22a111",
   "metadata": {
    "id": "166dcf9b-a0bd-4b60-854c-c6535c22a111"
   },
   "outputs": [],
   "source": []
  },
  {
   "cell_type": "code",
   "execution_count": null,
   "id": "af21aba7-66cd-4762-b5d4-6d27650bba7e",
   "metadata": {
    "id": "af21aba7-66cd-4762-b5d4-6d27650bba7e"
   },
   "outputs": [],
   "source": []
  },
  {
   "cell_type": "code",
   "execution_count": null,
   "id": "6a6e2008-2b04-43c7-9c72-3f9fa9b6bafe",
   "metadata": {
    "id": "6a6e2008-2b04-43c7-9c72-3f9fa9b6bafe"
   },
   "outputs": [],
   "source": []
  },
  {
   "cell_type": "code",
   "execution_count": null,
   "id": "99ef5d5b-1f8e-4b10-aa74-963f9c4429d9",
   "metadata": {
    "id": "99ef5d5b-1f8e-4b10-aa74-963f9c4429d9"
   },
   "outputs": [],
   "source": []
  }
 ],
 "metadata": {
  "accelerator": "GPU",
  "colab": {
   "gpuType": "T4",
   "provenance": []
  },
  "kernelspec": {
   "display_name": "Python 3 (ipykernel)",
   "language": "python",
   "name": "python3"
  },
  "language_info": {
   "codemirror_mode": {
    "name": "ipython",
    "version": 3
   },
   "file_extension": ".py",
   "mimetype": "text/x-python",
   "name": "python",
   "nbconvert_exporter": "python",
   "pygments_lexer": "ipython3",
   "version": "3.11.8"
  }
 },
 "nbformat": 4,
 "nbformat_minor": 5
}
