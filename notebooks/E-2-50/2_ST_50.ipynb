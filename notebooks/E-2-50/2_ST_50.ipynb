{
 "cells": [
  {
   "cell_type": "code",
   "execution_count": 1,
   "id": "77d93e6a-106b-4abd-87e7-1243d4c51126",
   "metadata": {
    "execution": {
     "iopub.execute_input": "2024-05-29T09:58:34.815276Z",
     "iopub.status.busy": "2024-05-29T09:58:34.814926Z",
     "iopub.status.idle": "2024-05-29T09:58:39.073709Z",
     "shell.execute_reply": "2024-05-29T09:58:39.072868Z",
     "shell.execute_reply.started": "2024-05-29T09:58:34.815237Z"
    },
    "id": "77d93e6a-106b-4abd-87e7-1243d4c51126"
   },
   "outputs": [],
   "source": [
    "# !pip install transformers accelerate\n",
    "from transformers import AutoTokenizer, AutoModel, EarlyStoppingCallback, AutoModelForSequenceClassification, AutoConfig,Trainer, TrainingArguments,DataCollatorWithPadding\n",
    "import torch\n",
    "import numpy as np\n",
    "import pandas as pd\n",
    "# !pip install datasets\n",
    "from datasets import load_metric\n",
    "# !pip install evaluate\n",
    "from evaluate import evaluator\n",
    "from sklearn.model_selection import train_test_split\n",
    "import csv\n",
    "\n",
    "# notebook_login()\n",
    "\n",
    "CUDA_LAUNCH_BLOCKING=1\n"
   ]
  },
  {
   "cell_type": "code",
   "execution_count": 2,
   "id": "Wkey0rYSSAhB",
   "metadata": {
    "colab": {
     "base_uri": "https://localhost:8080/"
    },
    "execution": {
     "iopub.execute_input": "2024-05-29T09:58:39.075427Z",
     "iopub.status.busy": "2024-05-29T09:58:39.074731Z",
     "iopub.status.idle": "2024-05-29T09:58:39.078834Z",
     "shell.execute_reply": "2024-05-29T09:58:39.078203Z",
     "shell.execute_reply.started": "2024-05-29T09:58:39.075400Z"
    },
    "id": "Wkey0rYSSAhB",
    "outputId": "be159b43-1080-48dc-855f-af527cdc29c5"
   },
   "outputs": [],
   "source": [
    "# from google.colab import drive\n",
    "# drive.mount('/content/drive')"
   ]
  },
  {
   "cell_type": "code",
   "execution_count": 3,
   "id": "9ef5359f-9526-4d19-a2da-7988dc1ea04f",
   "metadata": {
    "execution": {
     "iopub.execute_input": "2024-05-29T09:58:39.080288Z",
     "iopub.status.busy": "2024-05-29T09:58:39.079689Z",
     "iopub.status.idle": "2024-05-29T09:58:42.347454Z",
     "shell.execute_reply": "2024-05-29T09:58:42.346315Z",
     "shell.execute_reply.started": "2024-05-29T09:58:39.080264Z"
    },
    "id": "9ef5359f-9526-4d19-a2da-7988dc1ea04f"
   },
   "outputs": [
    {
     "name": "stderr",
     "output_type": "stream",
     "text": [
      "/tmp/ipykernel_7030/2093326092.py:4: FutureWarning: Downcasting behavior in `replace` is deprecated and will be removed in a future version. To retain the old behavior, explicitly call `result.infer_objects(copy=False)`. To opt-in to the future behavior, set `pd.set_option('future.no_silent_downcasting', True)`\n",
      "  train = train.replace({\"label\": label2id})\n",
      "/tmp/ipykernel_7030/2093326092.py:7: FutureWarning: Downcasting behavior in `replace` is deprecated and will be removed in a future version. To retain the old behavior, explicitly call `result.infer_objects(copy=False)`. To opt-in to the future behavior, set `pd.set_option('future.no_silent_downcasting', True)`\n",
      "  test = test.replace({\"label\": label2id})\n"
     ]
    }
   ],
   "source": [
    "label2id = {'negative':0,'positive':1}\n",
    "\n",
    "train = pd.read_csv(r'train.csv', encoding='utf_8_sig')\n",
    "train = train.replace({\"label\": label2id})\n",
    "train.fillna('', inplace=True)\n",
    "test = pd.read_csv(r'test.csv', encoding='utf_8_sig')\n",
    "test = test.replace({\"label\": label2id})\n",
    "test.fillna('', inplace=True)"
   ]
  },
  {
   "cell_type": "code",
   "execution_count": 4,
   "id": "jYWXjthC0rGo",
   "metadata": {
    "colab": {
     "base_uri": "https://localhost:8080/",
     "height": 684
    },
    "execution": {
     "iopub.execute_input": "2024-05-29T09:58:42.351307Z",
     "iopub.status.busy": "2024-05-29T09:58:42.350961Z",
     "iopub.status.idle": "2024-05-29T09:58:42.368593Z",
     "shell.execute_reply": "2024-05-29T09:58:42.367977Z",
     "shell.execute_reply.started": "2024-05-29T09:58:42.351273Z"
    },
    "id": "jYWXjthC0rGo",
    "outputId": "41f990d0-deb5-4d86-fd90-8e20873610e4"
   },
   "outputs": [
    {
     "data": {
      "text/html": [
       "<div>\n",
       "<style scoped>\n",
       "    .dataframe tbody tr th:only-of-type {\n",
       "        vertical-align: middle;\n",
       "    }\n",
       "\n",
       "    .dataframe tbody tr th {\n",
       "        vertical-align: top;\n",
       "    }\n",
       "\n",
       "    .dataframe thead th {\n",
       "        text-align: right;\n",
       "    }\n",
       "</style>\n",
       "<table border=\"1\" class=\"dataframe\">\n",
       "  <thead>\n",
       "    <tr style=\"text-align: right;\">\n",
       "      <th></th>\n",
       "      <th>label</th>\n",
       "      <th>text</th>\n",
       "      <th>diff</th>\n",
       "    </tr>\n",
       "  </thead>\n",
       "  <tbody>\n",
       "    <tr>\n",
       "      <th>0</th>\n",
       "      <td>0</td>\n",
       "      <td>Fix #2197 extended regex pattern example</td>\n",
       "      <td>diff --git a/docs/content/manual/manual.yml b/...</td>\n",
       "    </tr>\n",
       "    <tr>\n",
       "      <th>1</th>\n",
       "      <td>0</td>\n",
       "      <td>some test spec fixes</td>\n",
       "      <td>diff --git a/asset-pipeline-grails/src/test/gr...</td>\n",
       "    </tr>\n",
       "    <tr>\n",
       "      <th>2</th>\n",
       "      <td>1</td>\n",
       "      <td>FILEUPLOAD-279: Introduce a system property, w...</td>\n",
       "      <td>diff --git a/.gitignore b/.gitignore\\nnew file...</td>\n",
       "    </tr>\n",
       "    <tr>\n",
       "      <th>3</th>\n",
       "      <td>0</td>\n",
       "      <td>fix(documentation): remove route redeclaration...</td>\n",
       "      <td>diff --git a/doc/API/centreon-api-v2.yaml b/do...</td>\n",
       "    </tr>\n",
       "    <tr>\n",
       "      <th>4</th>\n",
       "      <td>0</td>\n",
       "      <td>[JENKINS-49744] - Generalize the permission ha...</td>\n",
       "      <td>diff --git a/src/main/java/com/synopsys/arc/je...</td>\n",
       "    </tr>\n",
       "    <tr>\n",
       "      <th>...</th>\n",
       "      <td>...</td>\n",
       "      <td>...</td>\n",
       "      <td>...</td>\n",
       "    </tr>\n",
       "    <tr>\n",
       "      <th>96</th>\n",
       "      <td>0</td>\n",
       "      <td>[maven-release-plugin] prepare release checkst...</td>\n",
       "      <td>diff --git a/pom.xml b/pom.xml\\nindex 2043823....</td>\n",
       "    </tr>\n",
       "    <tr>\n",
       "      <th>97</th>\n",
       "      <td>0</td>\n",
       "      <td>Merge pull request #360 from joaosantos81/mast...</td>\n",
       "      <td>diff --git a/control/Session.php b/control/Ses...</td>\n",
       "    </tr>\n",
       "    <tr>\n",
       "      <th>98</th>\n",
       "      <td>0</td>\n",
       "      <td>Repairing: implement invalid node checksum fix.</td>\n",
       "      <td>diff --git a/libexfat/exfat.h b/libexfat/exfat...</td>\n",
       "    </tr>\n",
       "    <tr>\n",
       "      <th>99</th>\n",
       "      <td>1</td>\n",
       "      <td>[MJ2] Avoid index out of bounds access to pi-&gt;...</td>\n",
       "      <td>diff --git a/src/lib/openmj2/pi.c b/src/lib/op...</td>\n",
       "    </tr>\n",
       "    <tr>\n",
       "      <th>100</th>\n",
       "      <td>0</td>\n",
       "      <td>Merge branch '8.5' into 9.5</td>\n",
       "      <td>diff --git a/src/Framework/Assert.php b/src/Fr...</td>\n",
       "    </tr>\n",
       "  </tbody>\n",
       "</table>\n",
       "<p>101 rows × 3 columns</p>\n",
       "</div>"
      ],
      "text/plain": [
       "     label                                               text  \\\n",
       "0        0           Fix #2197 extended regex pattern example   \n",
       "1        0                               some test spec fixes   \n",
       "2        1  FILEUPLOAD-279: Introduce a system property, w...   \n",
       "3        0  fix(documentation): remove route redeclaration...   \n",
       "4        0  [JENKINS-49744] - Generalize the permission ha...   \n",
       "..     ...                                                ...   \n",
       "96       0  [maven-release-plugin] prepare release checkst...   \n",
       "97       0  Merge pull request #360 from joaosantos81/mast...   \n",
       "98       0    Repairing: implement invalid node checksum fix.   \n",
       "99       1  [MJ2] Avoid index out of bounds access to pi->...   \n",
       "100      0                        Merge branch '8.5' into 9.5   \n",
       "\n",
       "                                                  diff  \n",
       "0    diff --git a/docs/content/manual/manual.yml b/...  \n",
       "1    diff --git a/asset-pipeline-grails/src/test/gr...  \n",
       "2    diff --git a/.gitignore b/.gitignore\\nnew file...  \n",
       "3    diff --git a/doc/API/centreon-api-v2.yaml b/do...  \n",
       "4    diff --git a/src/main/java/com/synopsys/arc/je...  \n",
       "..                                                 ...  \n",
       "96   diff --git a/pom.xml b/pom.xml\\nindex 2043823....  \n",
       "97   diff --git a/control/Session.php b/control/Ses...  \n",
       "98   diff --git a/libexfat/exfat.h b/libexfat/exfat...  \n",
       "99   diff --git a/src/lib/openmj2/pi.c b/src/lib/op...  \n",
       "100  diff --git a/src/Framework/Assert.php b/src/Fr...  \n",
       "\n",
       "[101 rows x 3 columns]"
      ]
     },
     "execution_count": 4,
     "metadata": {},
     "output_type": "execute_result"
    }
   ],
   "source": [
    "train"
   ]
  },
  {
   "cell_type": "code",
   "execution_count": 5,
   "id": "ee30affe-0ec9-46a3-bcaa-a1bd9422c939",
   "metadata": {
    "colab": {
     "base_uri": "https://localhost:8080/"
    },
    "execution": {
     "iopub.execute_input": "2024-05-29T09:58:42.369745Z",
     "iopub.status.busy": "2024-05-29T09:58:42.369509Z",
     "iopub.status.idle": "2024-05-29T09:58:42.374853Z",
     "shell.execute_reply": "2024-05-29T09:58:42.374236Z",
     "shell.execute_reply.started": "2024-05-29T09:58:42.369721Z"
    },
    "id": "ee30affe-0ec9-46a3-bcaa-a1bd9422c939",
    "outputId": "0fd90232-fe76-4d0d-976e-3ed298c84bfd"
   },
   "outputs": [
    {
     "data": {
      "text/plain": [
       "101"
      ]
     },
     "execution_count": 5,
     "metadata": {},
     "output_type": "execute_result"
    }
   ],
   "source": [
    "len(train)"
   ]
  },
  {
   "cell_type": "code",
   "execution_count": 6,
   "id": "84e38639-cf4b-4762-a1dc-cdc983938388",
   "metadata": {
    "colab": {
     "base_uri": "https://localhost:8080/"
    },
    "execution": {
     "iopub.execute_input": "2024-05-29T09:58:42.376231Z",
     "iopub.status.busy": "2024-05-29T09:58:42.375953Z",
     "iopub.status.idle": "2024-05-29T09:58:42.382899Z",
     "shell.execute_reply": "2024-05-29T09:58:42.382351Z",
     "shell.execute_reply.started": "2024-05-29T09:58:42.376207Z"
    },
    "id": "84e38639-cf4b-4762-a1dc-cdc983938388",
    "outputId": "80508d99-0b1c-4b0d-f2dc-8b4a05e3750d"
   },
   "outputs": [
    {
     "data": {
      "text/plain": [
       "label\n",
       "0    63\n",
       "1    38\n",
       "Name: count, dtype: int64"
      ]
     },
     "execution_count": 6,
     "metadata": {},
     "output_type": "execute_result"
    }
   ],
   "source": [
    "train['label'].value_counts()"
   ]
  },
  {
   "cell_type": "code",
   "execution_count": 7,
   "id": "3cf6c110-616d-45da-aa2e-4a5add26b3c0",
   "metadata": {
    "colab": {
     "base_uri": "https://localhost:8080/"
    },
    "execution": {
     "iopub.execute_input": "2024-05-29T09:58:42.384272Z",
     "iopub.status.busy": "2024-05-29T09:58:42.383966Z",
     "iopub.status.idle": "2024-05-29T09:58:42.390496Z",
     "shell.execute_reply": "2024-05-29T09:58:42.389882Z",
     "shell.execute_reply.started": "2024-05-29T09:58:42.384248Z"
    },
    "id": "3cf6c110-616d-45da-aa2e-4a5add26b3c0",
    "outputId": "9a746745-f576-4e0e-9229-fb64ead0b6db"
   },
   "outputs": [
    {
     "data": {
      "text/plain": [
       "label\n",
       "0    6284\n",
       "1    3727\n",
       "Name: count, dtype: int64"
      ]
     },
     "execution_count": 7,
     "metadata": {},
     "output_type": "execute_result"
    }
   ],
   "source": [
    "test['label'].value_counts()"
   ]
  },
  {
   "cell_type": "code",
   "execution_count": 8,
   "id": "dca6275a-a567-4963-831c-8dd653341162",
   "metadata": {
    "execution": {
     "iopub.execute_input": "2024-05-29T09:58:42.392146Z",
     "iopub.status.busy": "2024-05-29T09:58:42.391849Z",
     "iopub.status.idle": "2024-05-29T09:58:42.935960Z",
     "shell.execute_reply": "2024-05-29T09:58:42.935191Z",
     "shell.execute_reply.started": "2024-05-29T09:58:42.392117Z"
    },
    "id": "dca6275a-a567-4963-831c-8dd653341162"
   },
   "outputs": [],
   "source": [
    "# !pip install sentence_transformers\n",
    "from sentence_transformers import SentenceTransformer\n",
    "# model_id = \"../../sentence-transformers/paraphrase-mpnet-base-v2\"\n",
    "model = SentenceTransformer('../../sentence-transformers/paraphrase-mpnet-base-v2')"
   ]
  },
  {
   "cell_type": "code",
   "execution_count": 9,
   "id": "b7c52074-c55f-4218-bc87-cdbc6e36a993",
   "metadata": {
    "execution": {
     "iopub.execute_input": "2024-05-29T09:58:42.937424Z",
     "iopub.status.busy": "2024-05-29T09:58:42.937178Z",
     "iopub.status.idle": "2024-05-29T10:01:27.843638Z",
     "shell.execute_reply": "2024-05-29T10:01:27.842512Z",
     "shell.execute_reply.started": "2024-05-29T09:58:42.937399Z"
    },
    "id": "b7c52074-c55f-4218-bc87-cdbc6e36a993"
   },
   "outputs": [],
   "source": [
    "train['embeddings'] = train['text'].apply(lambda x: model.encode(str(x)))\n",
    "test['embeddings'] = test['text'].apply(lambda x: model.encode(str(x)))"
   ]
  },
  {
   "cell_type": "code",
   "execution_count": 10,
   "id": "Oo2YeBo8kclU",
   "metadata": {
    "colab": {
     "base_uri": "https://localhost:8080/",
     "height": 964
    },
    "execution": {
     "iopub.execute_input": "2024-05-29T10:01:27.845613Z",
     "iopub.status.busy": "2024-05-29T10:01:27.845244Z",
     "iopub.status.idle": "2024-05-29T10:01:27.869686Z",
     "shell.execute_reply": "2024-05-29T10:01:27.868933Z",
     "shell.execute_reply.started": "2024-05-29T10:01:27.845586Z"
    },
    "id": "Oo2YeBo8kclU",
    "outputId": "e82ba19c-1b96-4150-f898-d9b49172272a"
   },
   "outputs": [
    {
     "data": {
      "text/html": [
       "<div>\n",
       "<style scoped>\n",
       "    .dataframe tbody tr th:only-of-type {\n",
       "        vertical-align: middle;\n",
       "    }\n",
       "\n",
       "    .dataframe tbody tr th {\n",
       "        vertical-align: top;\n",
       "    }\n",
       "\n",
       "    .dataframe thead th {\n",
       "        text-align: right;\n",
       "    }\n",
       "</style>\n",
       "<table border=\"1\" class=\"dataframe\">\n",
       "  <thead>\n",
       "    <tr style=\"text-align: right;\">\n",
       "      <th></th>\n",
       "      <th>label</th>\n",
       "      <th>text</th>\n",
       "      <th>diff</th>\n",
       "      <th>embeddings</th>\n",
       "    </tr>\n",
       "  </thead>\n",
       "  <tbody>\n",
       "    <tr>\n",
       "      <th>0</th>\n",
       "      <td>0</td>\n",
       "      <td>Merge pull request #1015 from omniauth/make-su...</td>\n",
       "      <td>diff --git a/Gemfile b/Gemfile\\nindex b0581c01...</td>\n",
       "      <td>[-0.13004021, 0.1200651, -0.08801293, 0.104843...</td>\n",
       "    </tr>\n",
       "    <tr>\n",
       "      <th>1</th>\n",
       "      <td>0</td>\n",
       "      <td>Cleaned up rdpei channel, updated to current s...</td>\n",
       "      <td>diff --git a/channels/rdpei/client/rdpei_main....</td>\n",
       "      <td>[-0.042629246, -0.061168876, 0.026884645, -0.0...</td>\n",
       "    </tr>\n",
       "    <tr>\n",
       "      <th>2</th>\n",
       "      <td>0</td>\n",
       "      <td>Make remaining AST classes public. Fixes jkuhn...</td>\n",
       "      <td>diff --git a/src/main/java/ognl/ASTAdd.java b/...</td>\n",
       "      <td>[0.045945346, 0.17283344, -0.029472524, 0.0503...</td>\n",
       "    </tr>\n",
       "    <tr>\n",
       "      <th>3</th>\n",
       "      <td>0</td>\n",
       "      <td>Test custom field uploads on ticket create for...</td>\n",
       "      <td>diff --git a/t/rest2/tickets.t b/t/rest2/ticke...</td>\n",
       "      <td>[-0.09309562, 0.22370622, -0.043404736, 0.1327...</td>\n",
       "    </tr>\n",
       "    <tr>\n",
       "      <th>4</th>\n",
       "      <td>0</td>\n",
       "      <td>Merge branch '2.7' into master</td>\n",
       "      <td>diff --git a/.travis.yml b/.travis.yml\\nindex ...</td>\n",
       "      <td>[-0.1171597, -0.009933171, 0.051275834, -0.041...</td>\n",
       "    </tr>\n",
       "    <tr>\n",
       "      <th>...</th>\n",
       "      <td>...</td>\n",
       "      <td>...</td>\n",
       "      <td>...</td>\n",
       "      <td>...</td>\n",
       "    </tr>\n",
       "    <tr>\n",
       "      <th>10006</th>\n",
       "      <td>1</td>\n",
       "      <td>Also unfold and split lazily\\n\\nThis has littl...</td>\n",
       "      <td>diff --git a/lib/mail/field.rb b/lib/mail/fiel...</td>\n",
       "      <td>[-0.068634324, -0.053742584, -0.08566991, 0.12...</td>\n",
       "    </tr>\n",
       "    <tr>\n",
       "      <th>10007</th>\n",
       "      <td>0</td>\n",
       "      <td>Adding a property 'jdk.xml.resolveExternalEnti...</td>\n",
       "      <td>diff --git a/src/org/apache/xerces/parsers/Sec...</td>\n",
       "      <td>[-0.037466437, 0.21927911, -0.028538529, 0.022...</td>\n",
       "    </tr>\n",
       "    <tr>\n",
       "      <th>10008</th>\n",
       "      <td>1</td>\n",
       "      <td>name might not be displayed correctly\\n\\nChang...</td>\n",
       "      <td>diff --git a/tine20/Addressbook/js/ContactGrid...</td>\n",
       "      <td>[-0.04909946, 0.19766133, -0.055661, 0.1250326...</td>\n",
       "    </tr>\n",
       "    <tr>\n",
       "      <th>10009</th>\n",
       "      <td>0</td>\n",
       "      <td>Trailing whitespace...\\n\\nMake Travis happy</td>\n",
       "      <td>diff --git a/airsonic-main/src/main/java/org/a...</td>\n",
       "      <td>[-0.020277845, 0.023705391, -0.14176506, 0.149...</td>\n",
       "    </tr>\n",
       "    <tr>\n",
       "      <th>10010</th>\n",
       "      <td>0</td>\n",
       "      <td>Validate size arguments in arraylist functions...</td>\n",
       "      <td>diff --git a/arraylist.c b/arraylist.c\\nindex ...</td>\n",
       "      <td>[-0.040720496, 0.17626849, -0.06899027, 0.0873...</td>\n",
       "    </tr>\n",
       "  </tbody>\n",
       "</table>\n",
       "<p>10011 rows × 4 columns</p>\n",
       "</div>"
      ],
      "text/plain": [
       "       label                                               text  \\\n",
       "0          0  Merge pull request #1015 from omniauth/make-su...   \n",
       "1          0  Cleaned up rdpei channel, updated to current s...   \n",
       "2          0  Make remaining AST classes public. Fixes jkuhn...   \n",
       "3          0  Test custom field uploads on ticket create for...   \n",
       "4          0                     Merge branch '2.7' into master   \n",
       "...      ...                                                ...   \n",
       "10006      1  Also unfold and split lazily\\n\\nThis has littl...   \n",
       "10007      0  Adding a property 'jdk.xml.resolveExternalEnti...   \n",
       "10008      1  name might not be displayed correctly\\n\\nChang...   \n",
       "10009      0        Trailing whitespace...\\n\\nMake Travis happy   \n",
       "10010      0  Validate size arguments in arraylist functions...   \n",
       "\n",
       "                                                    diff  \\\n",
       "0      diff --git a/Gemfile b/Gemfile\\nindex b0581c01...   \n",
       "1      diff --git a/channels/rdpei/client/rdpei_main....   \n",
       "2      diff --git a/src/main/java/ognl/ASTAdd.java b/...   \n",
       "3      diff --git a/t/rest2/tickets.t b/t/rest2/ticke...   \n",
       "4      diff --git a/.travis.yml b/.travis.yml\\nindex ...   \n",
       "...                                                  ...   \n",
       "10006  diff --git a/lib/mail/field.rb b/lib/mail/fiel...   \n",
       "10007  diff --git a/src/org/apache/xerces/parsers/Sec...   \n",
       "10008  diff --git a/tine20/Addressbook/js/ContactGrid...   \n",
       "10009  diff --git a/airsonic-main/src/main/java/org/a...   \n",
       "10010  diff --git a/arraylist.c b/arraylist.c\\nindex ...   \n",
       "\n",
       "                                              embeddings  \n",
       "0      [-0.13004021, 0.1200651, -0.08801293, 0.104843...  \n",
       "1      [-0.042629246, -0.061168876, 0.026884645, -0.0...  \n",
       "2      [0.045945346, 0.17283344, -0.029472524, 0.0503...  \n",
       "3      [-0.09309562, 0.22370622, -0.043404736, 0.1327...  \n",
       "4      [-0.1171597, -0.009933171, 0.051275834, -0.041...  \n",
       "...                                                  ...  \n",
       "10006  [-0.068634324, -0.053742584, -0.08566991, 0.12...  \n",
       "10007  [-0.037466437, 0.21927911, -0.028538529, 0.022...  \n",
       "10008  [-0.04909946, 0.19766133, -0.055661, 0.1250326...  \n",
       "10009  [-0.020277845, 0.023705391, -0.14176506, 0.149...  \n",
       "10010  [-0.040720496, 0.17626849, -0.06899027, 0.0873...  \n",
       "\n",
       "[10011 rows x 4 columns]"
      ]
     },
     "execution_count": 10,
     "metadata": {},
     "output_type": "execute_result"
    }
   ],
   "source": [
    "test"
   ]
  },
  {
   "cell_type": "code",
   "execution_count": 11,
   "id": "b95f20d0-163a-460b-88b6-e883c9f17eaa",
   "metadata": {
    "execution": {
     "iopub.execute_input": "2024-05-29T10:01:27.870854Z",
     "iopub.status.busy": "2024-05-29T10:01:27.870523Z",
     "iopub.status.idle": "2024-05-29T10:01:27.876148Z",
     "shell.execute_reply": "2024-05-29T10:01:27.875295Z",
     "shell.execute_reply.started": "2024-05-29T10:01:27.870831Z"
    },
    "id": "b95f20d0-163a-460b-88b6-e883c9f17eaa"
   },
   "outputs": [],
   "source": [
    "X_train = train['embeddings'].to_list()\n",
    "X_test = test['embeddings'].to_list()\n",
    "\n",
    "y_train = train['label'].to_list()\n",
    "y_test = test['label'].to_list()"
   ]
  },
  {
   "cell_type": "code",
   "execution_count": 12,
   "id": "a6501389-0c86-442d-85cf-f04ad146703f",
   "metadata": {
    "colab": {
     "base_uri": "https://localhost:8080/",
     "height": 75
    },
    "execution": {
     "iopub.execute_input": "2024-05-29T10:01:27.877528Z",
     "iopub.status.busy": "2024-05-29T10:01:27.877297Z",
     "iopub.status.idle": "2024-05-29T10:01:27.912274Z",
     "shell.execute_reply": "2024-05-29T10:01:27.911232Z",
     "shell.execute_reply.started": "2024-05-29T10:01:27.877505Z"
    },
    "id": "a6501389-0c86-442d-85cf-f04ad146703f",
    "outputId": "7dd3a215-4ef3-4014-d76b-b0d6bea1f86b"
   },
   "outputs": [
    {
     "data": {
      "text/html": [
       "<style>#sk-container-id-1 {color: black;}#sk-container-id-1 pre{padding: 0;}#sk-container-id-1 div.sk-toggleable {background-color: white;}#sk-container-id-1 label.sk-toggleable__label {cursor: pointer;display: block;width: 100%;margin-bottom: 0;padding: 0.3em;box-sizing: border-box;text-align: center;}#sk-container-id-1 label.sk-toggleable__label-arrow:before {content: \"▸\";float: left;margin-right: 0.25em;color: #696969;}#sk-container-id-1 label.sk-toggleable__label-arrow:hover:before {color: black;}#sk-container-id-1 div.sk-estimator:hover label.sk-toggleable__label-arrow:before {color: black;}#sk-container-id-1 div.sk-toggleable__content {max-height: 0;max-width: 0;overflow: hidden;text-align: left;background-color: #f0f8ff;}#sk-container-id-1 div.sk-toggleable__content pre {margin: 0.2em;color: black;border-radius: 0.25em;background-color: #f0f8ff;}#sk-container-id-1 input.sk-toggleable__control:checked~div.sk-toggleable__content {max-height: 200px;max-width: 100%;overflow: auto;}#sk-container-id-1 input.sk-toggleable__control:checked~label.sk-toggleable__label-arrow:before {content: \"▾\";}#sk-container-id-1 div.sk-estimator input.sk-toggleable__control:checked~label.sk-toggleable__label {background-color: #d4ebff;}#sk-container-id-1 div.sk-label input.sk-toggleable__control:checked~label.sk-toggleable__label {background-color: #d4ebff;}#sk-container-id-1 input.sk-hidden--visually {border: 0;clip: rect(1px 1px 1px 1px);clip: rect(1px, 1px, 1px, 1px);height: 1px;margin: -1px;overflow: hidden;padding: 0;position: absolute;width: 1px;}#sk-container-id-1 div.sk-estimator {font-family: monospace;background-color: #f0f8ff;border: 1px dotted black;border-radius: 0.25em;box-sizing: border-box;margin-bottom: 0.5em;}#sk-container-id-1 div.sk-estimator:hover {background-color: #d4ebff;}#sk-container-id-1 div.sk-parallel-item::after {content: \"\";width: 100%;border-bottom: 1px solid gray;flex-grow: 1;}#sk-container-id-1 div.sk-label:hover label.sk-toggleable__label {background-color: #d4ebff;}#sk-container-id-1 div.sk-serial::before {content: \"\";position: absolute;border-left: 1px solid gray;box-sizing: border-box;top: 0;bottom: 0;left: 50%;z-index: 0;}#sk-container-id-1 div.sk-serial {display: flex;flex-direction: column;align-items: center;background-color: white;padding-right: 0.2em;padding-left: 0.2em;position: relative;}#sk-container-id-1 div.sk-item {position: relative;z-index: 1;}#sk-container-id-1 div.sk-parallel {display: flex;align-items: stretch;justify-content: center;background-color: white;position: relative;}#sk-container-id-1 div.sk-item::before, #sk-container-id-1 div.sk-parallel-item::before {content: \"\";position: absolute;border-left: 1px solid gray;box-sizing: border-box;top: 0;bottom: 0;left: 50%;z-index: -1;}#sk-container-id-1 div.sk-parallel-item {display: flex;flex-direction: column;z-index: 1;position: relative;background-color: white;}#sk-container-id-1 div.sk-parallel-item:first-child::after {align-self: flex-end;width: 50%;}#sk-container-id-1 div.sk-parallel-item:last-child::after {align-self: flex-start;width: 50%;}#sk-container-id-1 div.sk-parallel-item:only-child::after {width: 0;}#sk-container-id-1 div.sk-dashed-wrapped {border: 1px dashed gray;margin: 0 0.4em 0.5em 0.4em;box-sizing: border-box;padding-bottom: 0.4em;background-color: white;}#sk-container-id-1 div.sk-label label {font-family: monospace;font-weight: bold;display: inline-block;line-height: 1.2em;}#sk-container-id-1 div.sk-label-container {text-align: center;}#sk-container-id-1 div.sk-container {/* jupyter's `normalize.less` sets `[hidden] { display: none; }` but bootstrap.min.css set `[hidden] { display: none !important; }` so we also need the `!important` here to be able to override the default hidden behavior on the sphinx rendered scikit-learn.org. See: https://github.com/scikit-learn/scikit-learn/issues/21755 */display: inline-block !important;position: relative;}#sk-container-id-1 div.sk-text-repr-fallback {display: none;}</style><div id=\"sk-container-id-1\" class=\"sk-top-container\"><div class=\"sk-text-repr-fallback\"><pre>LogisticRegression()</pre><b>In a Jupyter environment, please rerun this cell to show the HTML representation or trust the notebook. <br />On GitHub, the HTML representation is unable to render, please try loading this page with nbviewer.org.</b></div><div class=\"sk-container\" hidden><div class=\"sk-item\"><div class=\"sk-estimator sk-toggleable\"><input class=\"sk-toggleable__control sk-hidden--visually\" id=\"sk-estimator-id-1\" type=\"checkbox\" checked><label for=\"sk-estimator-id-1\" class=\"sk-toggleable__label sk-toggleable__label-arrow\">LogisticRegression</label><div class=\"sk-toggleable__content\"><pre>LogisticRegression()</pre></div></div></div></div></div>"
      ],
      "text/plain": [
       "LogisticRegression()"
      ]
     },
     "execution_count": 12,
     "metadata": {},
     "output_type": "execute_result"
    }
   ],
   "source": [
    "from sklearn.linear_model import LogisticRegression\n",
    "LR = LogisticRegression()\n",
    "LR.fit(X_train,y_train)"
   ]
  },
  {
   "cell_type": "code",
   "execution_count": 13,
   "id": "86e85ae4-76a0-4d00-8b0c-e867356c07f3",
   "metadata": {
    "colab": {
     "base_uri": "https://localhost:8080/"
    },
    "execution": {
     "iopub.execute_input": "2024-05-29T10:01:27.917736Z",
     "iopub.status.busy": "2024-05-29T10:01:27.917202Z",
     "iopub.status.idle": "2024-05-29T10:01:28.194784Z",
     "shell.execute_reply": "2024-05-29T10:01:28.193626Z",
     "shell.execute_reply.started": "2024-05-29T10:01:27.917695Z"
    },
    "id": "86e85ae4-76a0-4d00-8b0c-e867356c07f3",
    "outputId": "eedae872-6a71-4aa3-f253-b9f08f460c32"
   },
   "outputs": [
    {
     "name": "stdout",
     "output_type": "stream",
     "text": [
      "Logistic Regression Precision: 0.780282647816306\n",
      "Logistic Regression Recall: 0.7833383278393767\n",
      "Logistic Regression Recall: 0.7800807003527102\n",
      "Logistic Regression Accuracy: 0.7833383278393767\n"
     ]
    }
   ],
   "source": [
    "from sklearn import metrics\n",
    "predicted = LR.predict(X_test)\n",
    "print(\"Logistic Regression Precision:\",metrics.precision_score(y_test, predicted,average='weighted'))\n",
    "print(\"Logistic Regression Recall:\",metrics.recall_score(y_test, predicted,average='weighted'))\n",
    "print(\"Logistic Regression Recall:\",metrics.f1_score(y_test, predicted,average='weighted'))\n",
    "print(\"Logistic Regression Accuracy:\",metrics.accuracy_score(y_test, predicted))"
   ]
  },
  {
   "cell_type": "code",
   "execution_count": null,
   "id": "166dcf9b-a0bd-4b60-854c-c6535c22a111",
   "metadata": {
    "id": "166dcf9b-a0bd-4b60-854c-c6535c22a111"
   },
   "outputs": [],
   "source": []
  },
  {
   "cell_type": "code",
   "execution_count": null,
   "id": "af21aba7-66cd-4762-b5d4-6d27650bba7e",
   "metadata": {
    "id": "af21aba7-66cd-4762-b5d4-6d27650bba7e"
   },
   "outputs": [],
   "source": []
  },
  {
   "cell_type": "code",
   "execution_count": null,
   "id": "6a6e2008-2b04-43c7-9c72-3f9fa9b6bafe",
   "metadata": {
    "id": "6a6e2008-2b04-43c7-9c72-3f9fa9b6bafe"
   },
   "outputs": [],
   "source": []
  },
  {
   "cell_type": "code",
   "execution_count": null,
   "id": "99ef5d5b-1f8e-4b10-aa74-963f9c4429d9",
   "metadata": {
    "id": "99ef5d5b-1f8e-4b10-aa74-963f9c4429d9"
   },
   "outputs": [],
   "source": []
  }
 ],
 "metadata": {
  "accelerator": "GPU",
  "colab": {
   "gpuType": "T4",
   "provenance": []
  },
  "kernelspec": {
   "display_name": "Python 3 (ipykernel)",
   "language": "python",
   "name": "python3"
  },
  "language_info": {
   "codemirror_mode": {
    "name": "ipython",
    "version": 3
   },
   "file_extension": ".py",
   "mimetype": "text/x-python",
   "name": "python",
   "nbconvert_exporter": "python",
   "pygments_lexer": "ipython3",
   "version": "3.11.8"
  }
 },
 "nbformat": 4,
 "nbformat_minor": 5
}
