{
 "cells": [
  {
   "cell_type": "code",
   "execution_count": 1,
   "id": "77d93e6a-106b-4abd-87e7-1243d4c51126",
   "metadata": {},
   "outputs": [
    {
     "name": "stderr",
     "output_type": "stream",
     "text": [
      "/usr/local/miniconda3/lib/python3.8/site-packages/tqdm/auto.py:21: TqdmWarning: IProgress not found. Please update jupyter and ipywidgets. See https://ipywidgets.readthedocs.io/en/stable/user_install.html\n",
      "  from .autonotebook import tqdm as notebook_tqdm\n"
     ]
    }
   ],
   "source": [
    "# !pip install transformers accelerate\n",
    "from transformers import AutoTokenizer, AutoModel, EarlyStoppingCallback, AutoModelForSequenceClassification, AutoConfig,Trainer, TrainingArguments,DataCollatorWithPadding\n",
    "import torch\n",
    "import numpy as np\n",
    "import pandas as pd\n",
    "# !pip install datasets\n",
    "from datasets import load_metric\n",
    "# %pip install evaluate\n",
    "from evaluate import evaluator\n",
    "from sklearn.model_selection import train_test_split\n",
    "import csv\n",
    "\n",
    "# notebook_login()\n",
    "\n",
    "CUDA_LAUNCH_BLOCKING=1\n"
   ]
  },
  {
   "cell_type": "code",
   "execution_count": 2,
   "id": "9ef5359f-9526-4d19-a2da-7988dc1ea04f",
   "metadata": {},
   "outputs": [],
   "source": [
    "train = pd.read_csv(r'train.csv', encoding='utf_8_sig')\n",
    "train.fillna('', inplace=True)\n",
    "test = pd.read_csv(r'test.csv', encoding='utf_8_sig')\n",
    "test.fillna('', inplace=True)"
   ]
  },
  {
   "cell_type": "code",
   "execution_count": 3,
   "id": "0c1f2190-45fb-45c5-b158-b2243760e42e",
   "metadata": {},
   "outputs": [
    {
     "data": {
      "text/html": [
       "<div>\n",
       "<style scoped>\n",
       "    .dataframe tbody tr th:only-of-type {\n",
       "        vertical-align: middle;\n",
       "    }\n",
       "\n",
       "    .dataframe tbody tr th {\n",
       "        vertical-align: top;\n",
       "    }\n",
       "\n",
       "    .dataframe thead th {\n",
       "        text-align: right;\n",
       "    }\n",
       "</style>\n",
       "<table border=\"1\" class=\"dataframe\">\n",
       "  <thead>\n",
       "    <tr style=\"text-align: right;\">\n",
       "      <th></th>\n",
       "      <th>label</th>\n",
       "      <th>text</th>\n",
       "      <th>diff</th>\n",
       "    </tr>\n",
       "  </thead>\n",
       "  <tbody>\n",
       "    <tr>\n",
       "      <th>0</th>\n",
       "      <td>negative</td>\n",
       "      <td>Fix #2197 extended regex pattern example</td>\n",
       "      <td>diff --git a/docs/content/manual/manual.yml b/...</td>\n",
       "    </tr>\n",
       "    <tr>\n",
       "      <th>1</th>\n",
       "      <td>negative</td>\n",
       "      <td>some test spec fixes</td>\n",
       "      <td>diff --git a/asset-pipeline-grails/src/test/gr...</td>\n",
       "    </tr>\n",
       "    <tr>\n",
       "      <th>2</th>\n",
       "      <td>positive</td>\n",
       "      <td>FILEUPLOAD-279: Introduce a system property, w...</td>\n",
       "      <td>diff --git a/.gitignore b/.gitignore\\nnew file...</td>\n",
       "    </tr>\n",
       "    <tr>\n",
       "      <th>3</th>\n",
       "      <td>negative</td>\n",
       "      <td>fix(documentation): remove route redeclaration...</td>\n",
       "      <td>diff --git a/doc/API/centreon-api-v2.yaml b/do...</td>\n",
       "    </tr>\n",
       "    <tr>\n",
       "      <th>4</th>\n",
       "      <td>negative</td>\n",
       "      <td>[JENKINS-49744] - Generalize the permission ha...</td>\n",
       "      <td>diff --git a/src/main/java/com/synopsys/arc/je...</td>\n",
       "    </tr>\n",
       "    <tr>\n",
       "      <th>...</th>\n",
       "      <td>...</td>\n",
       "      <td>...</td>\n",
       "      <td>...</td>\n",
       "    </tr>\n",
       "    <tr>\n",
       "      <th>96</th>\n",
       "      <td>negative</td>\n",
       "      <td>[maven-release-plugin] prepare release checkst...</td>\n",
       "      <td>diff --git a/pom.xml b/pom.xml\\nindex 2043823....</td>\n",
       "    </tr>\n",
       "    <tr>\n",
       "      <th>97</th>\n",
       "      <td>negative</td>\n",
       "      <td>Merge pull request #360 from joaosantos81/mast...</td>\n",
       "      <td>diff --git a/control/Session.php b/control/Ses...</td>\n",
       "    </tr>\n",
       "    <tr>\n",
       "      <th>98</th>\n",
       "      <td>negative</td>\n",
       "      <td>Repairing: implement invalid node checksum fix.</td>\n",
       "      <td>diff --git a/libexfat/exfat.h b/libexfat/exfat...</td>\n",
       "    </tr>\n",
       "    <tr>\n",
       "      <th>99</th>\n",
       "      <td>positive</td>\n",
       "      <td>[MJ2] Avoid index out of bounds access to pi-&gt;...</td>\n",
       "      <td>diff --git a/src/lib/openmj2/pi.c b/src/lib/op...</td>\n",
       "    </tr>\n",
       "    <tr>\n",
       "      <th>100</th>\n",
       "      <td>negative</td>\n",
       "      <td>Merge branch '8.5' into 9.5</td>\n",
       "      <td>diff --git a/src/Framework/Assert.php b/src/Fr...</td>\n",
       "    </tr>\n",
       "  </tbody>\n",
       "</table>\n",
       "<p>101 rows × 3 columns</p>\n",
       "</div>"
      ],
      "text/plain": [
       "        label                                               text  \\\n",
       "0    negative           Fix #2197 extended regex pattern example   \n",
       "1    negative                               some test spec fixes   \n",
       "2    positive  FILEUPLOAD-279: Introduce a system property, w...   \n",
       "3    negative  fix(documentation): remove route redeclaration...   \n",
       "4    negative  [JENKINS-49744] - Generalize the permission ha...   \n",
       "..        ...                                                ...   \n",
       "96   negative  [maven-release-plugin] prepare release checkst...   \n",
       "97   negative  Merge pull request #360 from joaosantos81/mast...   \n",
       "98   negative    Repairing: implement invalid node checksum fix.   \n",
       "99   positive  [MJ2] Avoid index out of bounds access to pi->...   \n",
       "100  negative                        Merge branch '8.5' into 9.5   \n",
       "\n",
       "                                                  diff  \n",
       "0    diff --git a/docs/content/manual/manual.yml b/...  \n",
       "1    diff --git a/asset-pipeline-grails/src/test/gr...  \n",
       "2    diff --git a/.gitignore b/.gitignore\\nnew file...  \n",
       "3    diff --git a/doc/API/centreon-api-v2.yaml b/do...  \n",
       "4    diff --git a/src/main/java/com/synopsys/arc/je...  \n",
       "..                                                 ...  \n",
       "96   diff --git a/pom.xml b/pom.xml\\nindex 2043823....  \n",
       "97   diff --git a/control/Session.php b/control/Ses...  \n",
       "98   diff --git a/libexfat/exfat.h b/libexfat/exfat...  \n",
       "99   diff --git a/src/lib/openmj2/pi.c b/src/lib/op...  \n",
       "100  diff --git a/src/Framework/Assert.php b/src/Fr...  \n",
       "\n",
       "[101 rows x 3 columns]"
      ]
     },
     "execution_count": 3,
     "metadata": {},
     "output_type": "execute_result"
    }
   ],
   "source": [
    "train"
   ]
  },
  {
   "cell_type": "code",
   "execution_count": 4,
   "id": "26803da1-da52-48a7-8040-70914c05f2ea",
   "metadata": {},
   "outputs": [],
   "source": [
    "train_code_change = list(train['diff'].astype(str))\n",
    "test_code_change = list(test['diff'].astype(str))"
   ]
  },
  {
   "cell_type": "code",
   "execution_count": 5,
   "id": "ecb125ae-f537-4934-bbe2-cbf1e78c96bb",
   "metadata": {},
   "outputs": [],
   "source": [
    "# !pip install setfit\n",
    "from commitfit import get_templated_dataset,sample_dataset\n",
    "from datasets import Dataset, load_metric"
   ]
  },
  {
   "cell_type": "code",
   "execution_count": 6,
   "id": "2e214dbb-075e-4fbf-adc9-f3533801587e",
   "metadata": {},
   "outputs": [],
   "source": [
    "Dataset_train = Dataset.from_pandas(train)\n",
    "test_dataset = Dataset.from_pandas(test)"
   ]
  },
  {
   "cell_type": "code",
   "execution_count": 7,
   "id": "1a8ec7ec-1112-4140-8ccd-516ba9a1b1a8",
   "metadata": {},
   "outputs": [],
   "source": [
    "train_dataset = get_templated_dataset(Dataset_train, candidate_labels=['positive','negative'], sample_size=8)"
   ]
  },
  {
   "cell_type": "code",
   "execution_count": 8,
   "id": "c5ea76cd-69e5-4aa8-bf49-c9e746b63bbb",
   "metadata": {},
   "outputs": [
    {
     "data": {
      "text/plain": [
       "Dataset({\n",
       "    features: ['label', 'text', 'diff'],\n",
       "    num_rows: 117\n",
       "})"
      ]
     },
     "execution_count": 8,
     "metadata": {},
     "output_type": "execute_result"
    }
   ],
   "source": [
    "# list(train['message'].astype(str).values)\n",
    "train_dataset"
   ]
  },
  {
   "cell_type": "code",
   "execution_count": 9,
   "id": "ee30affe-0ec9-46a3-bcaa-a1bd9422c939",
   "metadata": {},
   "outputs": [
    {
     "data": {
      "text/plain": [
       "101"
      ]
     },
     "execution_count": 9,
     "metadata": {},
     "output_type": "execute_result"
    }
   ],
   "source": [
    "len(train)"
   ]
  },
  {
   "cell_type": "code",
   "execution_count": 10,
   "id": "84e38639-cf4b-4762-a1dc-cdc983938388",
   "metadata": {},
   "outputs": [
    {
     "data": {
      "text/plain": [
       "label\n",
       "negative    63\n",
       "positive    38\n",
       "Name: count, dtype: int64"
      ]
     },
     "execution_count": 10,
     "metadata": {},
     "output_type": "execute_result"
    }
   ],
   "source": [
    "train['label'].value_counts()"
   ]
  },
  {
   "cell_type": "code",
   "execution_count": 11,
   "id": "3cf6c110-616d-45da-aa2e-4a5add26b3c0",
   "metadata": {},
   "outputs": [
    {
     "data": {
      "text/plain": [
       "label\n",
       "negative    6284\n",
       "positive    3727\n",
       "Name: count, dtype: int64"
      ]
     },
     "execution_count": 11,
     "metadata": {},
     "output_type": "execute_result"
    }
   ],
   "source": [
    "test['label'].value_counts()"
   ]
  },
  {
   "cell_type": "code",
   "execution_count": 12,
   "id": "77117d87-5292-48f5-b077-74b47ccfd5eb",
   "metadata": {},
   "outputs": [
    {
     "data": {
      "text/plain": [
       "117"
      ]
     },
     "execution_count": 12,
     "metadata": {},
     "output_type": "execute_result"
    }
   ],
   "source": [
    "len(train_dataset)"
   ]
  },
  {
   "cell_type": "code",
   "execution_count": 13,
   "id": "dca6275a-a567-4963-831c-8dd653341162",
   "metadata": {},
   "outputs": [],
   "source": [
    "from sklearn import  metrics\n",
    "\n",
    "def compute_metrics(y_pred, y_test):\n",
    "    # print(y_pred,y_test)\n",
    "    # classification_report = metrics.classification_report(y_test,y_pred)\n",
    "    accuracy_score = metrics.accuracy_score(y_test,y_pred)\n",
    "    precision_score = metrics.precision_score(y_test,y_pred, average='weighted')\n",
    "    recall_score = metrics.recall_score(y_test,y_pred,average='weighted')\n",
    "    f1_score = metrics.f1_score(y_test,y_pred,average='weighted')\n",
    "\n",
    "    # return {\"classification_report\": classification_report}\n",
    "    return {\"accuracy\": accuracy_score, \"precision\": precision_score,\"recall\": recall_score, \"f1\":f1_score}"
   ]
  },
  {
   "cell_type": "code",
   "execution_count": 14,
   "id": "4229bc5c-2287-46f4-99a5-a095c0fc8b00",
   "metadata": {},
   "outputs": [
    {
     "data": {
      "text/plain": [
       "label\n",
       "negative    6284\n",
       "positive    3727\n",
       "Name: count, dtype: int64"
      ]
     },
     "execution_count": 14,
     "metadata": {},
     "output_type": "execute_result"
    }
   ],
   "source": [
    "test['label'].value_counts()"
   ]
  },
  {
   "cell_type": "code",
   "execution_count": 15,
   "id": "49e32d66-2fc2-4a53-bae1-13f8d67c5b6f",
   "metadata": {},
   "outputs": [
    {
     "data": {
      "text/plain": [
       "Dataset({\n",
       "    features: ['label', 'text', 'diff'],\n",
       "    num_rows: 117\n",
       "})"
      ]
     },
     "execution_count": 15,
     "metadata": {},
     "output_type": "execute_result"
    }
   ],
   "source": [
    "train_dataset"
   ]
  },
  {
   "cell_type": "code",
   "execution_count": 16,
   "id": "b7c52074-c55f-4218-bc87-cdbc6e36a993",
   "metadata": {},
   "outputs": [
    {
     "data": {
      "text/html": [
       "<div>\n",
       "<style scoped>\n",
       "    .dataframe tbody tr th:only-of-type {\n",
       "        vertical-align: middle;\n",
       "    }\n",
       "\n",
       "    .dataframe tbody tr th {\n",
       "        vertical-align: top;\n",
       "    }\n",
       "\n",
       "    .dataframe thead th {\n",
       "        text-align: right;\n",
       "    }\n",
       "</style>\n",
       "<table border=\"1\" class=\"dataframe\">\n",
       "  <thead>\n",
       "    <tr style=\"text-align: right;\">\n",
       "      <th></th>\n",
       "      <th>label</th>\n",
       "      <th>text</th>\n",
       "      <th>diff</th>\n",
       "    </tr>\n",
       "  </thead>\n",
       "  <tbody>\n",
       "    <tr>\n",
       "      <th>0</th>\n",
       "      <td>negative</td>\n",
       "      <td>Fix #2197 extended regex pattern example</td>\n",
       "      <td>diff --git a/docs/content/manual/manual.yml b/...</td>\n",
       "    </tr>\n",
       "    <tr>\n",
       "      <th>1</th>\n",
       "      <td>negative</td>\n",
       "      <td>some test spec fixes</td>\n",
       "      <td>diff --git a/asset-pipeline-grails/src/test/gr...</td>\n",
       "    </tr>\n",
       "    <tr>\n",
       "      <th>2</th>\n",
       "      <td>positive</td>\n",
       "      <td>FILEUPLOAD-279: Introduce a system property, w...</td>\n",
       "      <td>diff --git a/.gitignore b/.gitignore\\nnew file...</td>\n",
       "    </tr>\n",
       "    <tr>\n",
       "      <th>3</th>\n",
       "      <td>negative</td>\n",
       "      <td>fix(documentation): remove route redeclaration...</td>\n",
       "      <td>diff --git a/doc/API/centreon-api-v2.yaml b/do...</td>\n",
       "    </tr>\n",
       "    <tr>\n",
       "      <th>4</th>\n",
       "      <td>negative</td>\n",
       "      <td>[JENKINS-49744] - Generalize the permission ha...</td>\n",
       "      <td>diff --git a/src/main/java/com/synopsys/arc/je...</td>\n",
       "    </tr>\n",
       "    <tr>\n",
       "      <th>...</th>\n",
       "      <td>...</td>\n",
       "      <td>...</td>\n",
       "      <td>...</td>\n",
       "    </tr>\n",
       "    <tr>\n",
       "      <th>96</th>\n",
       "      <td>negative</td>\n",
       "      <td>[maven-release-plugin] prepare release checkst...</td>\n",
       "      <td>diff --git a/pom.xml b/pom.xml\\nindex 2043823....</td>\n",
       "    </tr>\n",
       "    <tr>\n",
       "      <th>97</th>\n",
       "      <td>negative</td>\n",
       "      <td>Merge pull request #360 from joaosantos81/mast...</td>\n",
       "      <td>diff --git a/control/Session.php b/control/Ses...</td>\n",
       "    </tr>\n",
       "    <tr>\n",
       "      <th>98</th>\n",
       "      <td>negative</td>\n",
       "      <td>Repairing: implement invalid node checksum fix.</td>\n",
       "      <td>diff --git a/libexfat/exfat.h b/libexfat/exfat...</td>\n",
       "    </tr>\n",
       "    <tr>\n",
       "      <th>99</th>\n",
       "      <td>positive</td>\n",
       "      <td>[MJ2] Avoid index out of bounds access to pi-&gt;...</td>\n",
       "      <td>diff --git a/src/lib/openmj2/pi.c b/src/lib/op...</td>\n",
       "    </tr>\n",
       "    <tr>\n",
       "      <th>100</th>\n",
       "      <td>negative</td>\n",
       "      <td>Merge branch '8.5' into 9.5</td>\n",
       "      <td>diff --git a/src/Framework/Assert.php b/src/Fr...</td>\n",
       "    </tr>\n",
       "  </tbody>\n",
       "</table>\n",
       "<p>101 rows × 3 columns</p>\n",
       "</div>"
      ],
      "text/plain": [
       "        label                                               text  \\\n",
       "0    negative           Fix #2197 extended regex pattern example   \n",
       "1    negative                               some test spec fixes   \n",
       "2    positive  FILEUPLOAD-279: Introduce a system property, w...   \n",
       "3    negative  fix(documentation): remove route redeclaration...   \n",
       "4    negative  [JENKINS-49744] - Generalize the permission ha...   \n",
       "..        ...                                                ...   \n",
       "96   negative  [maven-release-plugin] prepare release checkst...   \n",
       "97   negative  Merge pull request #360 from joaosantos81/mast...   \n",
       "98   negative    Repairing: implement invalid node checksum fix.   \n",
       "99   positive  [MJ2] Avoid index out of bounds access to pi->...   \n",
       "100  negative                        Merge branch '8.5' into 9.5   \n",
       "\n",
       "                                                  diff  \n",
       "0    diff --git a/docs/content/manual/manual.yml b/...  \n",
       "1    diff --git a/asset-pipeline-grails/src/test/gr...  \n",
       "2    diff --git a/.gitignore b/.gitignore\\nnew file...  \n",
       "3    diff --git a/doc/API/centreon-api-v2.yaml b/do...  \n",
       "4    diff --git a/src/main/java/com/synopsys/arc/je...  \n",
       "..                                                 ...  \n",
       "96   diff --git a/pom.xml b/pom.xml\\nindex 2043823....  \n",
       "97   diff --git a/control/Session.php b/control/Ses...  \n",
       "98   diff --git a/libexfat/exfat.h b/libexfat/exfat...  \n",
       "99   diff --git a/src/lib/openmj2/pi.c b/src/lib/op...  \n",
       "100  diff --git a/src/Framework/Assert.php b/src/Fr...  \n",
       "\n",
       "[101 rows x 3 columns]"
      ]
     },
     "execution_count": 16,
     "metadata": {},
     "output_type": "execute_result"
    }
   ],
   "source": [
    "train"
   ]
  },
  {
   "cell_type": "code",
   "execution_count": 17,
   "id": "d9ede869-1587-4e42-8879-e819e5961dca",
   "metadata": {},
   "outputs": [],
   "source": [
    "model_id = \"sentence-transformers/paraphrase-mpnet-base-v2\""
   ]
  },
  {
   "cell_type": "code",
   "execution_count": 18,
   "id": "a6501389-0c86-442d-85cf-f04ad146703f",
   "metadata": {},
   "outputs": [
    {
     "name": "stderr",
     "output_type": "stream",
     "text": [
      "model_head.pkl not found on HuggingFace Hub, initialising classification head with random weights. You should TRAIN this model on a downstream task to use it for predictions and inference.\n"
     ]
    }
   ],
   "source": [
    "from commitfit import CommitFitModel\n",
    "model = CommitFitModel.from_pretrained(model_id)"
   ]
  },
  {
   "cell_type": "code",
   "execution_count": 19,
   "id": "2244f079-c2b8-4e01-aca4-f68e7ce8accb",
   "metadata": {},
   "outputs": [],
   "source": [
    "from commitfit import CommitFitTrainer\n",
    "\n",
    "trainer = CommitFitTrainer(\n",
    "    model=model,\n",
    "    train_dataset=train_dataset,\n",
    "    train_code_change = train_code_change,\n",
    "    test_code_change = test_code_change,\n",
    "    eval_dataset=test_dataset,\n",
    "    metric = compute_metrics,\n",
    "    num_iterations=20,\n",
    "    num_epochs=1\n",
    ")"
   ]
  },
  {
   "cell_type": "code",
   "execution_count": 20,
   "id": "40cfde46-c7d5-4446-8b53-7ad4dc8edb66",
   "metadata": {},
   "outputs": [
    {
     "name": "stderr",
     "output_type": "stream",
     "text": [
      "Generating Training Pairs: 100%|██████████| 20/20 [00:00<00:00, 114.72it/s]\n",
      "***** Running training *****\n",
      "  Num examples = 4680\n",
      "  Num epochs = 1\n",
      "  Total optimization steps = 293\n",
      "  Total train batch size = 16\n",
      "Epoch:   0%|          | 0/1 [00:00<?, ?it/s]\n",
      "Iteration:   0%|          | 0/293 [00:00<?, ?it/s]\u001b[A\n",
      "Iteration:   0%|          | 1/293 [00:00<02:33,  1.90it/s]\u001b[A\n",
      "Iteration:   1%|          | 2/293 [00:00<01:46,  2.73it/s]\u001b[A\n",
      "Iteration:   1%|          | 3/293 [00:00<01:27,  3.30it/s]\u001b[A\n",
      "Iteration:   1%|▏         | 4/293 [00:01<01:23,  3.47it/s]\u001b[A\n",
      "Iteration:   2%|▏         | 5/293 [00:01<01:13,  3.93it/s]\u001b[A\n",
      "Iteration:   2%|▏         | 6/293 [00:01<01:07,  4.25it/s]\u001b[A\n",
      "Iteration:   2%|▏         | 7/293 [00:01<01:05,  4.34it/s]\u001b[A\n",
      "Iteration:   3%|▎         | 8/293 [00:02<01:10,  4.03it/s]\u001b[A\n",
      "Iteration:   3%|▎         | 9/293 [00:02<01:18,  3.60it/s]\u001b[A\n",
      "Iteration:   3%|▎         | 10/293 [00:02<01:16,  3.70it/s]\u001b[A\n",
      "Iteration:   4%|▍         | 11/293 [00:02<01:13,  3.85it/s]\u001b[A\n",
      "Iteration:   4%|▍         | 12/293 [00:03<01:12,  3.90it/s]\u001b[A\n",
      "Iteration:   4%|▍         | 13/293 [00:03<01:11,  3.92it/s]\u001b[A\n",
      "Iteration:   5%|▍         | 14/293 [00:03<01:13,  3.81it/s]\u001b[A\n",
      "Iteration:   5%|▌         | 15/293 [00:03<01:09,  4.00it/s]\u001b[A\n",
      "Iteration:   5%|▌         | 16/293 [00:04<01:08,  4.04it/s]\u001b[A\n",
      "Iteration:   6%|▌         | 17/293 [00:04<01:10,  3.94it/s]\u001b[A\n",
      "Iteration:   6%|▌         | 18/293 [00:04<01:08,  4.03it/s]\u001b[A\n",
      "Iteration:   6%|▋         | 19/293 [00:04<01:10,  3.89it/s]\u001b[A\n",
      "Iteration:   7%|▋         | 20/293 [00:05<01:11,  3.81it/s]\u001b[A\n",
      "Iteration:   7%|▋         | 21/293 [00:05<01:10,  3.85it/s]\u001b[A\n",
      "Iteration:   8%|▊         | 22/293 [00:05<01:08,  3.98it/s]\u001b[A\n",
      "Iteration:   8%|▊         | 23/293 [00:05<01:06,  4.06it/s]\u001b[A\n",
      "Iteration:   8%|▊         | 24/293 [00:05<01:04,  4.15it/s]\u001b[A\n",
      "Iteration:   9%|▊         | 25/293 [00:06<01:05,  4.06it/s]\u001b[A\n",
      "Iteration:   9%|▉         | 26/293 [00:06<01:04,  4.15it/s]\u001b[A\n",
      "Iteration:   9%|▉         | 27/293 [00:06<01:03,  4.22it/s]\u001b[A\n",
      "Iteration:  10%|▉         | 28/293 [00:06<01:04,  4.09it/s]\u001b[A\n",
      "Iteration:  10%|▉         | 29/293 [00:07<01:06,  3.98it/s]\u001b[A\n",
      "Iteration:  10%|█         | 30/293 [00:07<01:07,  3.88it/s]\u001b[A\n",
      "Iteration:  11%|█         | 31/293 [00:07<01:07,  3.90it/s]\u001b[A\n",
      "Iteration:  11%|█         | 32/293 [00:08<01:06,  3.93it/s]\u001b[A\n",
      "Iteration:  11%|█▏        | 33/293 [00:08<01:07,  3.83it/s]\u001b[A\n",
      "Iteration:  12%|█▏        | 34/293 [00:08<01:06,  3.89it/s]\u001b[A\n",
      "Iteration:  12%|█▏        | 35/293 [00:08<01:05,  3.96it/s]\u001b[A\n",
      "Iteration:  12%|█▏        | 36/293 [00:09<01:03,  4.08it/s]\u001b[A\n",
      "Iteration:  13%|█▎        | 37/293 [00:09<01:01,  4.13it/s]\u001b[A\n",
      "Iteration:  13%|█▎        | 38/293 [00:09<01:00,  4.19it/s]\u001b[A\n",
      "Iteration:  13%|█▎        | 39/293 [00:09<01:02,  4.07it/s]\u001b[A\n",
      "Iteration:  14%|█▎        | 40/293 [00:09<01:00,  4.15it/s]\u001b[A\n",
      "Iteration:  14%|█▍        | 41/293 [00:10<00:59,  4.23it/s]\u001b[A\n",
      "Iteration:  14%|█▍        | 42/293 [00:10<01:01,  4.11it/s]\u001b[A\n",
      "Iteration:  15%|█▍        | 43/293 [00:10<01:02,  4.02it/s]\u001b[A\n",
      "Iteration:  15%|█▌        | 44/293 [00:10<01:01,  4.05it/s]\u001b[A\n",
      "Iteration:  15%|█▌        | 45/293 [00:11<00:59,  4.15it/s]\u001b[A\n",
      "Iteration:  16%|█▌        | 46/293 [00:11<00:58,  4.23it/s]\u001b[A\n",
      "Iteration:  16%|█▌        | 47/293 [00:11<00:58,  4.23it/s]\u001b[A\n",
      "Iteration:  16%|█▋        | 48/293 [00:11<00:57,  4.27it/s]\u001b[A\n",
      "Iteration:  17%|█▋        | 49/293 [00:11<00:56,  4.33it/s]\u001b[A\n",
      "Iteration:  17%|█▋        | 50/293 [00:12<00:57,  4.22it/s]\u001b[A\n",
      "Iteration:  17%|█▋        | 51/293 [00:12<00:56,  4.31it/s]\u001b[A\n",
      "Iteration:  18%|█▊        | 52/293 [00:12<00:55,  4.38it/s]\u001b[A\n",
      "Iteration:  18%|█▊        | 53/293 [00:12<00:54,  4.41it/s]\u001b[A\n",
      "Iteration:  18%|█▊        | 54/293 [00:13<00:55,  4.28it/s]\u001b[A\n",
      "Iteration:  19%|█▉        | 55/293 [00:13<00:54,  4.37it/s]\u001b[A\n",
      "Iteration:  19%|█▉        | 56/293 [00:13<00:54,  4.37it/s]\u001b[A\n",
      "Iteration:  19%|█▉        | 57/293 [00:13<00:53,  4.40it/s]\u001b[A\n",
      "Iteration:  20%|█▉        | 58/293 [00:13<00:53,  4.43it/s]\u001b[A\n",
      "Iteration:  20%|██        | 59/293 [00:14<00:52,  4.49it/s]\u001b[A\n",
      "Iteration:  20%|██        | 60/293 [00:14<00:51,  4.48it/s]\u001b[A\n",
      "Iteration:  21%|██        | 61/293 [00:14<00:52,  4.45it/s]\u001b[A\n",
      "Iteration:  21%|██        | 62/293 [00:14<00:51,  4.49it/s]\u001b[A\n",
      "Iteration:  22%|██▏       | 63/293 [00:14<00:50,  4.51it/s]\u001b[A\n",
      "Iteration:  22%|██▏       | 64/293 [00:15<00:50,  4.56it/s]\u001b[A\n",
      "Iteration:  22%|██▏       | 65/293 [00:15<00:49,  4.61it/s]\u001b[A\n",
      "Iteration:  23%|██▎       | 66/293 [00:15<00:50,  4.51it/s]\u001b[A\n",
      "Iteration:  23%|██▎       | 67/293 [00:15<00:50,  4.49it/s]\u001b[A\n",
      "Iteration:  23%|██▎       | 68/293 [00:16<00:50,  4.46it/s]\u001b[A\n",
      "Iteration:  24%|██▎       | 69/293 [00:16<00:50,  4.47it/s]\u001b[A\n",
      "Iteration:  24%|██▍       | 70/293 [00:16<00:49,  4.47it/s]\u001b[A\n",
      "Iteration:  24%|██▍       | 71/293 [00:16<00:52,  4.22it/s]\u001b[A\n",
      "Iteration:  25%|██▍       | 72/293 [00:17<00:53,  4.12it/s]\u001b[A\n",
      "Iteration:  25%|██▍       | 73/293 [00:17<00:54,  4.01it/s]\u001b[A\n",
      "Iteration:  25%|██▌       | 74/293 [00:17<00:53,  4.10it/s]\u001b[A\n",
      "Iteration:  26%|██▌       | 75/293 [00:18<00:55,  3.91it/s]\u001b[A\n",
      "Iteration:  26%|██▌       | 76/293 [00:18<00:55,  3.93it/s]\u001b[A\n",
      "Iteration:  26%|██▋       | 77/293 [00:18<00:54,  3.99it/s]\u001b[A\n",
      "Iteration:  27%|██▋       | 78/293 [00:18<00:52,  4.08it/s]\u001b[A\n",
      "Iteration:  27%|██▋       | 79/293 [00:19<00:52,  4.08it/s]\u001b[A\n",
      "Iteration:  27%|██▋       | 80/293 [00:19<00:51,  4.11it/s]\u001b[A\n",
      "Iteration:  28%|██▊       | 81/293 [00:19<00:51,  4.13it/s]\u001b[A\n",
      "Iteration:  28%|██▊       | 82/293 [00:19<00:52,  4.03it/s]\u001b[A\n",
      "Iteration:  28%|██▊       | 83/293 [00:20<00:53,  3.94it/s]\u001b[A\n",
      "Iteration:  29%|██▊       | 84/293 [00:20<00:52,  3.98it/s]\u001b[A\n",
      "Iteration:  29%|██▉       | 85/293 [00:20<00:53,  3.92it/s]\u001b[A\n",
      "Iteration:  29%|██▉       | 86/293 [00:20<00:51,  3.99it/s]\u001b[A\n",
      "Iteration:  30%|██▉       | 87/293 [00:21<00:51,  4.03it/s]\u001b[A\n",
      "Iteration:  30%|███       | 88/293 [00:21<00:50,  4.06it/s]\u001b[A\n",
      "Iteration:  30%|███       | 89/293 [00:21<00:49,  4.11it/s]\u001b[A\n",
      "Iteration:  31%|███       | 90/293 [00:21<00:48,  4.16it/s]\u001b[A\n",
      "Iteration:  31%|███       | 91/293 [00:22<00:50,  3.97it/s]\u001b[A\n",
      "Iteration:  31%|███▏      | 92/293 [00:22<00:51,  3.93it/s]\u001b[A\n",
      "Iteration:  32%|███▏      | 93/293 [00:22<00:50,  3.98it/s]\u001b[A\n",
      "Iteration:  32%|███▏      | 94/293 [00:22<00:49,  3.98it/s]\u001b[A\n",
      "Iteration:  32%|███▏      | 95/293 [00:23<00:48,  4.06it/s]\u001b[A\n",
      "Iteration:  33%|███▎      | 96/293 [00:23<00:49,  4.00it/s]\u001b[A\n",
      "Iteration:  33%|███▎      | 97/293 [00:23<00:47,  4.09it/s]\u001b[A\n",
      "Iteration:  33%|███▎      | 98/293 [00:23<00:47,  4.12it/s]\u001b[A\n",
      "Iteration:  34%|███▍      | 99/293 [00:24<00:47,  4.12it/s]\u001b[A\n",
      "Iteration:  34%|███▍      | 100/293 [00:24<00:46,  4.13it/s]\u001b[A\n",
      "Iteration:  34%|███▍      | 101/293 [00:24<00:45,  4.20it/s]\u001b[A\n",
      "Iteration:  35%|███▍      | 102/293 [00:24<00:46,  4.09it/s]\u001b[A\n",
      "Iteration:  35%|███▌      | 103/293 [00:24<00:45,  4.15it/s]\u001b[A\n",
      "Iteration:  35%|███▌      | 104/293 [00:25<00:44,  4.20it/s]\u001b[A\n",
      "Iteration:  36%|███▌      | 105/293 [00:25<00:43,  4.30it/s]\u001b[A\n",
      "Iteration:  36%|███▌      | 106/293 [00:25<00:43,  4.33it/s]\u001b[A\n",
      "Iteration:  37%|███▋      | 107/293 [00:25<00:42,  4.36it/s]\u001b[A\n",
      "Iteration:  37%|███▋      | 108/293 [00:25<00:43,  4.27it/s]\u001b[A\n",
      "Iteration:  37%|███▋      | 109/293 [00:26<00:43,  4.26it/s]\u001b[A\n",
      "Iteration:  38%|███▊      | 110/293 [00:26<00:42,  4.31it/s]\u001b[A\n",
      "Iteration:  38%|███▊      | 111/293 [00:26<00:41,  4.37it/s]\u001b[A\n",
      "Iteration:  38%|███▊      | 112/293 [00:26<00:40,  4.45it/s]\u001b[A\n",
      "Iteration:  39%|███▊      | 113/293 [00:26<00:40,  4.49it/s]\u001b[A\n",
      "Iteration:  39%|███▉      | 114/293 [00:27<00:39,  4.52it/s]\u001b[A\n",
      "Iteration:  39%|███▉      | 115/293 [00:27<00:39,  4.49it/s]\u001b[A\n",
      "Iteration:  40%|███▉      | 116/293 [00:27<00:38,  4.60it/s]\u001b[A\n",
      "Iteration:  40%|███▉      | 117/293 [00:27<00:38,  4.62it/s]\u001b[A\n",
      "Iteration:  40%|████      | 118/293 [00:27<00:38,  4.51it/s]\u001b[A\n",
      "Iteration:  41%|████      | 119/293 [00:28<00:38,  4.53it/s]\u001b[A\n",
      "Iteration:  41%|████      | 120/293 [00:28<00:37,  4.56it/s]\u001b[A\n",
      "Iteration:  41%|████▏     | 121/293 [00:28<00:37,  4.56it/s]\u001b[A\n",
      "Iteration:  42%|████▏     | 122/293 [00:28<00:37,  4.58it/s]\u001b[A\n",
      "Iteration:  42%|████▏     | 123/293 [00:29<00:37,  4.58it/s]\u001b[A\n",
      "Iteration:  42%|████▏     | 124/293 [00:29<00:37,  4.57it/s]\u001b[A\n",
      "Iteration:  43%|████▎     | 125/293 [00:29<00:37,  4.46it/s]\u001b[A\n",
      "Iteration:  43%|████▎     | 126/293 [00:29<00:37,  4.50it/s]\u001b[A\n",
      "Iteration:  43%|████▎     | 127/293 [00:29<00:36,  4.52it/s]\u001b[A\n",
      "Iteration:  44%|████▎     | 128/293 [00:30<00:36,  4.49it/s]\u001b[A\n",
      "Iteration:  44%|████▍     | 129/293 [00:30<00:37,  4.36it/s]\u001b[A\n",
      "Iteration:  44%|████▍     | 130/293 [00:30<00:38,  4.24it/s]\u001b[A\n",
      "Iteration:  45%|████▍     | 131/293 [00:31<00:38,  4.26it/s]\u001b[A\n",
      "Iteration:  45%|████▌     | 132/293 [00:31<00:37,  4.28it/s]\u001b[A\n",
      "Iteration:  45%|████▌     | 133/293 [00:31<00:36,  4.33it/s]\u001b[A\n",
      "Iteration:  46%|████▌     | 134/293 [00:31<00:36,  4.34it/s]\u001b[A\n",
      "Iteration:  46%|████▌     | 135/293 [00:31<00:36,  4.36it/s]\u001b[A\n",
      "Iteration:  46%|████▋     | 136/293 [00:32<00:35,  4.40it/s]\u001b[A\n",
      "Iteration:  47%|████▋     | 137/293 [00:32<00:36,  4.31it/s]\u001b[A\n",
      "Iteration:  47%|████▋     | 138/293 [00:32<00:35,  4.36it/s]\u001b[A\n",
      "Iteration:  47%|████▋     | 139/293 [00:32<00:35,  4.39it/s]\u001b[A\n",
      "Iteration:  48%|████▊     | 140/293 [00:33<00:35,  4.31it/s]\u001b[A\n",
      "Iteration:  48%|████▊     | 141/293 [00:33<00:35,  4.31it/s]\u001b[A\n",
      "Iteration:  48%|████▊     | 142/293 [00:33<00:34,  4.39it/s]\u001b[A\n",
      "Iteration:  49%|████▉     | 143/293 [00:33<00:33,  4.43it/s]\u001b[A\n",
      "Iteration:  49%|████▉     | 144/293 [00:33<00:32,  4.52it/s]\u001b[A\n",
      "Iteration:  49%|████▉     | 145/293 [00:34<00:33,  4.38it/s]\u001b[A\n",
      "Iteration:  50%|████▉     | 146/293 [00:34<00:33,  4.45it/s]\u001b[A\n",
      "Iteration:  50%|█████     | 147/293 [00:34<00:32,  4.47it/s]\u001b[A\n",
      "Iteration:  51%|█████     | 148/293 [00:34<00:32,  4.51it/s]\u001b[A\n",
      "Iteration:  51%|█████     | 149/293 [00:35<00:32,  4.37it/s]\u001b[A\n",
      "Iteration:  51%|█████     | 150/293 [00:35<00:32,  4.43it/s]\u001b[A\n",
      "Iteration:  52%|█████▏    | 151/293 [00:35<00:32,  4.41it/s]\u001b[A\n",
      "Iteration:  52%|█████▏    | 152/293 [00:35<00:31,  4.49it/s]\u001b[A\n",
      "Iteration:  52%|█████▏    | 153/293 [00:36<00:31,  4.38it/s]\u001b[A\n",
      "Iteration:  53%|█████▎    | 154/293 [00:36<00:31,  4.39it/s]\u001b[A\n",
      "Iteration:  53%|█████▎    | 155/293 [00:36<00:30,  4.46it/s]\u001b[A\n",
      "Iteration:  53%|█████▎    | 156/293 [00:36<00:30,  4.49it/s]\u001b[A\n",
      "Iteration:  54%|█████▎    | 157/293 [00:36<00:30,  4.46it/s]\u001b[A\n",
      "Iteration:  54%|█████▍    | 158/293 [00:36<00:29,  4.56it/s]\u001b[A\n",
      "Iteration:  54%|█████▍    | 159/293 [00:37<00:29,  4.60it/s]\u001b[A\n",
      "Iteration:  55%|█████▍    | 160/293 [00:37<00:29,  4.58it/s]\u001b[A\n",
      "Iteration:  55%|█████▍    | 161/293 [00:37<00:28,  4.57it/s]\u001b[A\n",
      "Iteration:  55%|█████▌    | 162/293 [00:37<00:28,  4.60it/s]\u001b[A\n",
      "Iteration:  56%|█████▌    | 163/293 [00:38<00:28,  4.60it/s]\u001b[A\n",
      "Iteration:  56%|█████▌    | 164/293 [00:38<00:28,  4.60it/s]\u001b[A\n",
      "Iteration:  56%|█████▋    | 165/293 [00:38<00:27,  4.61it/s]\u001b[A\n",
      "Iteration:  57%|█████▋    | 166/293 [00:38<00:27,  4.58it/s]\u001b[A\n",
      "Iteration:  57%|█████▋    | 167/293 [00:39<00:28,  4.43it/s]\u001b[A\n",
      "Iteration:  57%|█████▋    | 168/293 [00:39<00:28,  4.42it/s]\u001b[A\n",
      "Iteration:  58%|█████▊    | 169/293 [00:39<00:27,  4.43it/s]\u001b[A\n",
      "Iteration:  58%|█████▊    | 170/293 [00:39<00:27,  4.53it/s]\u001b[A\n",
      "Iteration:  58%|█████▊    | 171/293 [00:39<00:26,  4.55it/s]\u001b[A\n",
      "Iteration:  59%|█████▊    | 172/293 [00:40<00:26,  4.53it/s]\u001b[A\n",
      "Iteration:  59%|█████▉    | 173/293 [00:40<00:26,  4.59it/s]\u001b[A\n",
      "Iteration:  59%|█████▉    | 174/293 [00:40<00:26,  4.48it/s]\u001b[A\n",
      "Iteration:  60%|█████▉    | 175/293 [00:40<00:26,  4.52it/s]\u001b[A\n",
      "Iteration:  60%|██████    | 176/293 [00:40<00:25,  4.56it/s]\u001b[A\n",
      "Iteration:  60%|██████    | 177/293 [00:41<00:24,  4.65it/s]\u001b[A\n",
      "Iteration:  61%|██████    | 178/293 [00:41<00:24,  4.66it/s]\u001b[A\n",
      "Iteration:  61%|██████    | 179/293 [00:41<00:24,  4.69it/s]\u001b[A\n",
      "Iteration:  61%|██████▏   | 180/293 [00:41<00:24,  4.70it/s]\u001b[A\n",
      "Iteration:  62%|██████▏   | 181/293 [00:41<00:24,  4.61it/s]\u001b[A\n",
      "Iteration:  62%|██████▏   | 182/293 [00:42<00:23,  4.65it/s]\u001b[A\n",
      "Iteration:  62%|██████▏   | 183/293 [00:42<00:23,  4.72it/s]\u001b[A\n",
      "Iteration:  63%|██████▎   | 184/293 [00:42<00:23,  4.61it/s]\u001b[A\n",
      "Iteration:  63%|██████▎   | 185/293 [00:42<00:23,  4.63it/s]\u001b[A\n",
      "Iteration:  63%|██████▎   | 186/293 [00:43<00:23,  4.65it/s]\u001b[A\n",
      "Iteration:  64%|██████▍   | 187/293 [00:43<00:23,  4.55it/s]\u001b[A\n",
      "Iteration:  64%|██████▍   | 188/293 [00:43<00:23,  4.44it/s]\u001b[A\n",
      "Iteration:  65%|██████▍   | 189/293 [00:43<00:23,  4.41it/s]\u001b[A\n",
      "Iteration:  65%|██████▍   | 190/293 [00:44<00:23,  4.46it/s]\u001b[A\n",
      "Iteration:  65%|██████▌   | 191/293 [00:44<00:22,  4.48it/s]\u001b[A\n",
      "Iteration:  66%|██████▌   | 192/293 [00:44<00:22,  4.48it/s]\u001b[A\n",
      "Iteration:  66%|██████▌   | 193/293 [00:44<00:22,  4.46it/s]\u001b[A\n",
      "Iteration:  66%|██████▌   | 194/293 [00:44<00:21,  4.54it/s]\u001b[A\n",
      "Iteration:  67%|██████▋   | 195/293 [00:45<00:22,  4.43it/s]\u001b[A\n",
      "Iteration:  67%|██████▋   | 196/293 [00:45<00:22,  4.29it/s]\u001b[A\n",
      "Iteration:  67%|██████▋   | 197/293 [00:45<00:22,  4.32it/s]\u001b[A\n",
      "Iteration:  68%|██████▊   | 198/293 [00:46<00:21,  4.35it/s]\u001b[A\n",
      "Iteration:  68%|██████▊   | 199/293 [00:46<00:21,  4.28it/s]\u001b[A\n",
      "Iteration:  68%|██████▊   | 200/293 [00:46<00:21,  4.31it/s]\u001b[A\n",
      "Iteration:  69%|██████▊   | 201/293 [00:46<00:21,  4.33it/s]\u001b[A\n",
      "Iteration:  69%|██████▉   | 202/293 [00:46<00:20,  4.42it/s]\u001b[A\n",
      "Iteration:  69%|██████▉   | 203/293 [00:47<00:20,  4.45it/s]\u001b[A\n",
      "Iteration:  70%|██████▉   | 204/293 [00:47<00:20,  4.31it/s]\u001b[A\n",
      "Iteration:  70%|██████▉   | 205/293 [00:47<00:20,  4.37it/s]\u001b[A\n",
      "Iteration:  70%|███████   | 206/293 [00:47<00:19,  4.45it/s]\u001b[A\n",
      "Iteration:  71%|███████   | 207/293 [00:47<00:18,  4.53it/s]\u001b[A\n",
      "Iteration:  71%|███████   | 208/293 [00:48<00:18,  4.55it/s]\u001b[A\n",
      "Iteration:  71%|███████▏  | 209/293 [00:48<00:18,  4.51it/s]\u001b[A\n",
      "Iteration:  72%|███████▏  | 210/293 [00:48<00:18,  4.37it/s]\u001b[A\n",
      "Iteration:  72%|███████▏  | 211/293 [00:48<00:18,  4.34it/s]\u001b[A\n",
      "Iteration:  72%|███████▏  | 212/293 [00:49<00:18,  4.36it/s]\u001b[A\n",
      "Iteration:  73%|███████▎  | 213/293 [00:49<00:18,  4.42it/s]\u001b[A\n",
      "Iteration:  73%|███████▎  | 214/293 [00:49<00:17,  4.45it/s]\u001b[A\n",
      "Iteration:  73%|███████▎  | 215/293 [00:49<00:17,  4.35it/s]\u001b[A\n",
      "Iteration:  74%|███████▎  | 216/293 [00:50<00:17,  4.43it/s]\u001b[A\n",
      "Iteration:  74%|███████▍  | 217/293 [00:50<00:17,  4.29it/s]\u001b[A\n",
      "Iteration:  74%|███████▍  | 218/293 [00:50<00:17,  4.38it/s]\u001b[A\n",
      "Iteration:  75%|███████▍  | 219/293 [00:50<00:16,  4.47it/s]\u001b[A\n",
      "Iteration:  75%|███████▌  | 220/293 [00:50<00:16,  4.44it/s]\u001b[A\n",
      "Iteration:  75%|███████▌  | 221/293 [00:51<00:16,  4.37it/s]\u001b[A\n",
      "Iteration:  76%|███████▌  | 222/293 [00:51<00:16,  4.38it/s]\u001b[A\n",
      "Iteration:  76%|███████▌  | 223/293 [00:51<00:15,  4.39it/s]\u001b[A\n",
      "Iteration:  76%|███████▋  | 224/293 [00:51<00:15,  4.43it/s]\u001b[A\n",
      "Iteration:  77%|███████▋  | 225/293 [00:52<00:15,  4.29it/s]\u001b[A\n",
      "Iteration:  77%|███████▋  | 226/293 [00:52<00:15,  4.30it/s]\u001b[A\n",
      "Iteration:  77%|███████▋  | 227/293 [00:52<00:15,  4.33it/s]\u001b[A\n",
      "Iteration:  78%|███████▊  | 228/293 [00:52<00:14,  4.41it/s]\u001b[A\n",
      "Iteration:  78%|███████▊  | 229/293 [00:53<00:14,  4.38it/s]\u001b[A\n",
      "Iteration:  78%|███████▊  | 230/293 [00:53<00:14,  4.39it/s]\u001b[A\n",
      "Iteration:  79%|███████▉  | 231/293 [00:53<00:14,  4.38it/s]\u001b[A\n",
      "Iteration:  79%|███████▉  | 232/293 [00:53<00:13,  4.46it/s]\u001b[A\n",
      "Iteration:  80%|███████▉  | 233/293 [00:53<00:13,  4.54it/s]\u001b[A\n",
      "Iteration:  80%|███████▉  | 234/293 [00:54<00:12,  4.55it/s]\u001b[A\n",
      "Iteration:  80%|████████  | 235/293 [00:54<00:12,  4.60it/s]\u001b[A\n",
      "Iteration:  81%|████████  | 236/293 [00:54<00:12,  4.61it/s]\u001b[A\n",
      "Iteration:  81%|████████  | 237/293 [00:54<00:11,  4.69it/s]\u001b[A\n",
      "Iteration:  81%|████████  | 238/293 [00:54<00:11,  4.71it/s]\u001b[A\n",
      "Iteration:  82%|████████▏ | 239/293 [00:54<00:11,  4.66it/s]\u001b[A\n",
      "Iteration:  82%|████████▏ | 240/293 [00:55<00:11,  4.66it/s]\u001b[A\n",
      "Iteration:  82%|████████▏ | 241/293 [00:55<00:11,  4.54it/s]\u001b[A\n",
      "Iteration:  83%|████████▎ | 242/293 [00:55<00:11,  4.52it/s]\u001b[A\n",
      "Iteration:  83%|████████▎ | 243/293 [00:56<00:11,  4.42it/s]\u001b[A\n",
      "Iteration:  83%|████████▎ | 244/293 [00:56<00:10,  4.46it/s]\u001b[A\n",
      "Iteration:  84%|████████▎ | 245/293 [00:56<00:11,  4.32it/s]\u001b[A\n",
      "Iteration:  84%|████████▍ | 246/293 [00:56<00:10,  4.37it/s]\u001b[A\n",
      "Iteration:  84%|████████▍ | 247/293 [00:57<00:10,  4.24it/s]\u001b[A\n",
      "Iteration:  85%|████████▍ | 248/293 [00:57<00:10,  4.29it/s]\u001b[A\n",
      "Iteration:  85%|████████▍ | 249/293 [00:57<00:10,  4.36it/s]\u001b[A\n",
      "Iteration:  85%|████████▌ | 250/293 [00:57<00:09,  4.37it/s]\u001b[A\n",
      "Iteration:  86%|████████▌ | 251/293 [00:57<00:09,  4.43it/s]\u001b[A\n",
      "Iteration:  86%|████████▌ | 252/293 [00:58<00:09,  4.44it/s]\u001b[A\n",
      "Iteration:  86%|████████▋ | 253/293 [00:58<00:09,  4.41it/s]\u001b[A\n",
      "Iteration:  87%|████████▋ | 254/293 [00:58<00:08,  4.41it/s]\u001b[A\n",
      "Iteration:  87%|████████▋ | 255/293 [00:58<00:08,  4.45it/s]\u001b[A\n",
      "Iteration:  87%|████████▋ | 256/293 [00:58<00:08,  4.54it/s]\u001b[A\n",
      "Iteration:  88%|████████▊ | 257/293 [00:59<00:07,  4.57it/s]\u001b[A\n",
      "Iteration:  88%|████████▊ | 258/293 [00:59<00:07,  4.61it/s]\u001b[A\n",
      "Iteration:  88%|████████▊ | 259/293 [00:59<00:07,  4.69it/s]\u001b[A\n",
      "Iteration:  89%|████████▊ | 260/293 [00:59<00:06,  4.75it/s]\u001b[A\n",
      "Iteration:  89%|████████▉ | 261/293 [00:59<00:06,  4.78it/s]\u001b[A\n",
      "Iteration:  89%|████████▉ | 262/293 [00:59<00:06,  4.80it/s]\u001b[A\n",
      "Iteration:  90%|████████▉ | 263/293 [01:00<00:06,  4.63it/s]\u001b[A\n",
      "Iteration:  90%|█████████ | 264/293 [01:00<00:06,  4.71it/s]\u001b[A\n",
      "Iteration:  90%|█████████ | 265/293 [01:00<00:05,  4.67it/s]\u001b[A\n",
      "Iteration:  91%|█████████ | 266/293 [01:00<00:05,  4.62it/s]\u001b[A\n",
      "Iteration:  91%|█████████ | 267/293 [01:01<00:05,  4.65it/s]\u001b[A\n",
      "Iteration:  91%|█████████▏| 268/293 [01:01<00:05,  4.70it/s]\u001b[A\n",
      "Iteration:  92%|█████████▏| 269/293 [01:01<00:05,  4.53it/s]\u001b[A\n",
      "Iteration:  92%|█████████▏| 270/293 [01:01<00:05,  4.50it/s]\u001b[A\n",
      "Iteration:  92%|█████████▏| 271/293 [01:02<00:04,  4.41it/s]\u001b[A\n",
      "Iteration:  93%|█████████▎| 272/293 [01:02<00:04,  4.40it/s]\u001b[A\n",
      "Iteration:  93%|█████████▎| 273/293 [01:02<00:04,  4.48it/s]\u001b[A\n",
      "Iteration:  94%|█████████▎| 274/293 [01:03<00:04,  4.34it/s]\u001b[A\n",
      "Iteration:  94%|█████████▍| 275/293 [01:03<00:04,  4.36it/s]\u001b[A\n",
      "Iteration:  94%|█████████▍| 276/293 [01:03<00:03,  4.37it/s]\u001b[A\n",
      "Iteration:  95%|█████████▍| 277/293 [01:03<00:03,  4.41it/s]\u001b[A\n",
      "Iteration:  95%|█████████▍| 278/293 [01:04<00:03,  4.28it/s]\u001b[A\n",
      "Iteration:  95%|█████████▌| 279/293 [01:04<00:03,  4.28it/s]\u001b[A\n",
      "Iteration:  96%|█████████▌| 280/293 [01:04<00:03,  4.19it/s]\u001b[A\n",
      "Iteration:  96%|█████████▌| 281/293 [01:04<00:02,  4.11it/s]\u001b[A\n",
      "Iteration:  96%|█████████▌| 282/293 [01:05<00:02,  4.17it/s]\u001b[A\n",
      "Iteration:  97%|█████████▋| 283/293 [01:05<00:02,  4.06it/s]\u001b[A\n",
      "Iteration:  97%|█████████▋| 284/293 [01:05<00:02,  4.05it/s]\u001b[A\n",
      "Iteration:  97%|█████████▋| 285/293 [01:05<00:01,  4.05it/s]\u001b[A\n",
      "Iteration:  98%|█████████▊| 286/293 [01:06<00:01,  3.99it/s]\u001b[A\n",
      "Iteration:  98%|█████████▊| 287/293 [01:06<00:01,  4.02it/s]\u001b[A\n",
      "Iteration:  98%|█████████▊| 288/293 [01:06<00:01,  4.12it/s]\u001b[A\n",
      "Iteration:  99%|█████████▊| 289/293 [01:06<00:00,  4.14it/s]\u001b[A\n",
      "Iteration:  99%|█████████▉| 290/293 [01:06<00:00,  4.23it/s]\u001b[A\n",
      "Iteration:  99%|█████████▉| 291/293 [01:07<00:00,  4.29it/s]\u001b[A\n",
      "Iteration: 100%|█████████▉| 292/293 [01:07<00:00,  4.40it/s]\u001b[A\n",
      "Iteration: 100%|██████████| 293/293 [01:07<00:00,  4.35it/s]\u001b[A\n",
      "Epoch: 100%|██████████| 1/1 [01:07<00:00, 67.42s/it]\n",
      "***** Running evaluation *****\n"
     ]
    },
    {
     "name": "stdout",
     "output_type": "stream",
     "text": [
      "CPU times: user 14min 32s, sys: 1min 8s, total: 15min 41s\n",
      "Wall time: 4min 42s\n"
     ]
    },
    {
     "data": {
      "text/plain": [
       "{'accuracy': 0.8001198681450404,\n",
       " 'precision': 0.8011308391660051,\n",
       " 'recall': 0.8001198681450404,\n",
       " 'f1': 0.8005661449401407}"
      ]
     },
     "execution_count": 20,
     "metadata": {},
     "output_type": "execute_result"
    }
   ],
   "source": [
    "%%time\n",
    "trainer.train()\n",
    "fewshot_metrics = trainer.evaluate()\n",
    "fewshot_metrics"
   ]
  },
  {
   "cell_type": "code",
   "execution_count": null,
   "id": "ae735a8b-c672-4dce-822c-61330c34481b",
   "metadata": {},
   "outputs": [],
   "source": []
  },
  {
   "cell_type": "code",
   "execution_count": null,
   "id": "166dcf9b-a0bd-4b60-854c-c6535c22a111",
   "metadata": {},
   "outputs": [],
   "source": []
  },
  {
   "cell_type": "code",
   "execution_count": null,
   "id": "af21aba7-66cd-4762-b5d4-6d27650bba7e",
   "metadata": {},
   "outputs": [],
   "source": []
  },
  {
   "cell_type": "code",
   "execution_count": null,
   "id": "823bf0ba-17f8-4c76-b059-1baa66cec406",
   "metadata": {},
   "outputs": [],
   "source": []
  },
  {
   "cell_type": "code",
   "execution_count": null,
   "id": "cb077550-ab5f-4bfd-8e00-396c3346fecf",
   "metadata": {},
   "outputs": [],
   "source": []
  }
 ],
 "metadata": {
  "kernelspec": {
   "display_name": "Python 3 (ipykernel)",
   "language": "python",
   "name": "python3"
  },
  "language_info": {
   "codemirror_mode": {
    "name": "ipython",
    "version": 3
   },
   "file_extension": ".py",
   "mimetype": "text/x-python",
   "name": "python",
   "nbconvert_exporter": "python",
   "pygments_lexer": "ipython3",
   "version": "3.8.10"
  }
 },
 "nbformat": 4,
 "nbformat_minor": 5
}
