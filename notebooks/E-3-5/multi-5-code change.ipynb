{
 "cells": [
  {
   "cell_type": "code",
   "execution_count": 7,
   "id": "77d93e6a-106b-4abd-87e7-1243d4c51126",
   "metadata": {
    "execution": {
     "iopub.execute_input": "2025-08-28T14:04:13.090515Z",
     "iopub.status.busy": "2025-08-28T14:04:13.089993Z",
     "iopub.status.idle": "2025-08-28T14:04:13.099134Z",
     "shell.execute_reply": "2025-08-28T14:04:13.098199Z",
     "shell.execute_reply.started": "2025-08-28T14:04:13.090489Z"
    }
   },
   "outputs": [
    {
     "name": "stdout",
     "output_type": "stream",
     "text": [
      "\n",
      "root\n",
      "autodl-tmp\n",
      "CommitFit\n"
     ]
    }
   ],
   "source": [
    "# !pip install transformers accelerate\n",
    "# from transformers import AutoTokenizer, AutoModel, EarlyStoppingCallback, AutoModelForSequenceClassification, AutoConfig,Trainer, TrainingArguments,DataCollatorWithPadding\n",
    "import torch\n",
    "import numpy as np\n",
    "import pandas as pd\n",
    "# !pip install datasets\n",
    "from datasets import Dataset\n",
    "# %pip install evaluate\n",
    "import evaluate\n",
    "from sklearn.model_selection import train_test_split\n",
    "# from ipywidgets import FloatProgress\n",
    "import csv\n",
    "from optuna import Trial\n",
    "from typing import Dict, Union, Any\n",
    "import os\n",
    "import sys\n",
    "\n",
    "# notebook_login()\n",
    "\n",
    "csv.field_size_limit(500 * 1024 * 1024)\n",
    "CUDA_LAUNCH_BLOCKING=1\n",
    "# get pwd\n",
    "notebook_path = os.path.abspath('')\n",
    "\n",
    "# Find the part of the path that contains 'commitFit'\n",
    "commit_fit_path = None\n",
    "for part in notebook_path.split(os.sep):\n",
    "    print(part)\n",
    "    if 'CommitFit' in part:\n",
    "        commit_fit_path = notebook_path.split(part)[0] + part\n",
    "        break\n",
    "\n",
    "if commit_fit_path is None:\n",
    "    raise ValueError(\"Path containing 'commitFit' not found in notebook path.\")\n",
    "\n",
    "# Add commitFit directory to Python path, so we can import moudule from commitfit folder directly\n",
    "if commit_fit_path not in sys.path:\n",
    "    sys.path.append(commit_fit_path)\n",
    "\n",
    "from commitfit import CommitFitModel, CommitFitTrainer \n",
    "from commitfit import get_templated_dataset,sample_dataset"
   ]
  },
  {
   "cell_type": "code",
   "execution_count": 8,
   "id": "9ef5359f-9526-4d19-a2da-7988dc1ea04f",
   "metadata": {
    "execution": {
     "iopub.execute_input": "2025-08-28T14:04:13.864615Z",
     "iopub.status.busy": "2025-08-28T14:04:13.863842Z",
     "iopub.status.idle": "2025-08-28T14:04:14.421047Z",
     "shell.execute_reply": "2025-08-28T14:04:14.419957Z",
     "shell.execute_reply.started": "2025-08-28T14:04:13.864562Z"
    }
   },
   "outputs": [
    {
     "data": {
      "text/html": [
       "<div>\n",
       "<style scoped>\n",
       "    .dataframe tbody tr th:only-of-type {\n",
       "        vertical-align: middle;\n",
       "    }\n",
       "\n",
       "    .dataframe tbody tr th {\n",
       "        vertical-align: top;\n",
       "    }\n",
       "\n",
       "    .dataframe thead th {\n",
       "        text-align: right;\n",
       "    }\n",
       "</style>\n",
       "<table border=\"1\" class=\"dataframe\">\n",
       "  <thead>\n",
       "    <tr style=\"text-align: right;\">\n",
       "      <th></th>\n",
       "      <th>language</th>\n",
       "      <th>commit</th>\n",
       "      <th>commit_url</th>\n",
       "      <th>maintenance_type</th>\n",
       "      <th>user</th>\n",
       "      <th>repo</th>\n",
       "      <th>feature</th>\n",
       "      <th>diffs</th>\n",
       "      <th>msgs</th>\n",
       "    </tr>\n",
       "  </thead>\n",
       "  <tbody>\n",
       "    <tr>\n",
       "      <th>0</th>\n",
       "      <td>C++</td>\n",
       "      <td>be937a3290223f926fe50684f1344569a573ed4b</td>\n",
       "      <td>https://github.com/tensorflow/tensorflow/commi...</td>\n",
       "      <td>C</td>\n",
       "      <td>tensorflow</td>\n",
       "      <td>tensorflow</td>\n",
       "      <td>[1, 0, 0, 1, 1, 0, 0, 1, 0, 0, 0, 0, 0, 0, 6, ...</td>\n",
       "      <td>diff --git a/tensorflow/compiler/mlir/lite/fla...</td>\n",
       "      <td>Fixing per axis quantization bug in flatbuffer...</td>\n",
       "    </tr>\n",
       "    <tr>\n",
       "      <th>1</th>\n",
       "      <td>C++</td>\n",
       "      <td>c800d2e36954edddcb83aa1df7f623f2780c7780</td>\n",
       "      <td>https://github.com/tensorflow/tensorflow/commi...</td>\n",
       "      <td>A</td>\n",
       "      <td>tensorflow</td>\n",
       "      <td>tensorflow</td>\n",
       "      <td>[0, 0, 0, 0, 0, 0, 0, 0, 0, 0, 0, 0, 0, 0, 0, ...</td>\n",
       "      <td>diff --git a/tensorflow/python/tools/saved_mod...</td>\n",
       "      <td>Add support for python expression as SavedMode...</td>\n",
       "    </tr>\n",
       "    <tr>\n",
       "      <th>2</th>\n",
       "      <td>C++</td>\n",
       "      <td>469e56eeff17eb857c95e935ca7b49723c43470e</td>\n",
       "      <td>https://github.com/tensorflow/tensorflow/commi...</td>\n",
       "      <td>P</td>\n",
       "      <td>tensorflow</td>\n",
       "      <td>tensorflow</td>\n",
       "      <td>[0, 0, 0, 0, 0, 0, 0, 0, 0, 0, 0, 0, 0, 0, 0, ...</td>\n",
       "      <td>diff --git a/.github/ISSUE_TEMPLATE/00-bug-iss...</td>\n",
       "      <td>Fix GitHub issue templates. Actual fix for #36...</td>\n",
       "    </tr>\n",
       "    <tr>\n",
       "      <th>3</th>\n",
       "      <td>C++</td>\n",
       "      <td>24f5d302c0906f3377f4d6bcc2735d943ce13e3d</td>\n",
       "      <td>https://github.com/tensorflow/tensorflow/commi...</td>\n",
       "      <td>A</td>\n",
       "      <td>tensorflow</td>\n",
       "      <td>tensorflow</td>\n",
       "      <td>[3, 37, 0, 0, 9, 0, 0, 0, 0, 0, 0, 0, 0, 0, 0,...</td>\n",
       "      <td>diff --git a/tensorflow/compiler/xla/pjrt/dist...</td>\n",
       "      <td>Add new PjRT distributed APIs (KeyValueDelete,...</td>\n",
       "    </tr>\n",
       "    <tr>\n",
       "      <th>4</th>\n",
       "      <td>C++</td>\n",
       "      <td>1effdb7b959503596b07f7f3e74618ab63f9e5e5</td>\n",
       "      <td>https://github.com/tensorflow/tensorflow/commi...</td>\n",
       "      <td>P</td>\n",
       "      <td>tensorflow</td>\n",
       "      <td>tensorflow</td>\n",
       "      <td>[1, 0, 12, 0, 0, 1, 0, 0, 0, 0, 0, 0, 0, 0, 0,...</td>\n",
       "      <td>diff --git a/tensorflow/core/common_runtime/ea...</td>\n",
       "      <td>Remove IsLocalDevice() since it's no longer us...</td>\n",
       "    </tr>\n",
       "    <tr>\n",
       "      <th>...</th>\n",
       "      <td>...</td>\n",
       "      <td>...</td>\n",
       "      <td>...</td>\n",
       "      <td>...</td>\n",
       "      <td>...</td>\n",
       "      <td>...</td>\n",
       "      <td>...</td>\n",
       "      <td>...</td>\n",
       "      <td>...</td>\n",
       "    </tr>\n",
       "    <tr>\n",
       "      <th>1576</th>\n",
       "      <td>Java</td>\n",
       "      <td>e4bbfd537a63a52a6094491504fc7b0bb54bcb0e</td>\n",
       "      <td>NaN</td>\n",
       "      <td>C</td>\n",
       "      <td>kiegroup</td>\n",
       "      <td>drools</td>\n",
       "      <td>[1, 0, 0, 1, 0, 0, 0, 0, 0, 0, 0, 0, 0, 0, 0, ...</td>\n",
       "      <td>diff --git a/drools-persistence-jpa/src/main/j...</td>\n",
       "      <td>fixing reflection constructor to use int inste...</td>\n",
       "    </tr>\n",
       "    <tr>\n",
       "      <th>1577</th>\n",
       "      <td>Java</td>\n",
       "      <td>75b81dcbd26a11d5b370ea5bdf102c2d62ebd0c3</td>\n",
       "      <td>NaN</td>\n",
       "      <td>C</td>\n",
       "      <td>kiegroup</td>\n",
       "      <td>drools</td>\n",
       "      <td>[2, 6, 2, 3, 0, 0, 0, 1, 7, 0, 0, 0, 0, 0, 0, ...</td>\n",
       "      <td>diff --git a/drools-compiler/src/main/java/org...</td>\n",
       "      <td>Fix OutOfBoundException on- MemoryFileSystem.e...</td>\n",
       "    </tr>\n",
       "    <tr>\n",
       "      <th>1578</th>\n",
       "      <td>Java</td>\n",
       "      <td>6bc9677bbe919cd5bcadd8af2f5b0c838757a4ce</td>\n",
       "      <td>NaN</td>\n",
       "      <td>C</td>\n",
       "      <td>kiegroup</td>\n",
       "      <td>drools</td>\n",
       "      <td>[1, 1, 5, 13, 0, 0, 0, 0, 0, 0, 0, 0, 0, 0, 0,...</td>\n",
       "      <td>diff --git a/drools-core/src/main/java/org/dro...</td>\n",
       "      <td>[DROOLS-293] fix ObjectTypeNode id creation an...</td>\n",
       "    </tr>\n",
       "    <tr>\n",
       "      <th>1579</th>\n",
       "      <td>Java</td>\n",
       "      <td>48701edad8513b27acec7216581e64637157c86a</td>\n",
       "      <td>NaN</td>\n",
       "      <td>A</td>\n",
       "      <td>kiegroup</td>\n",
       "      <td>drools</td>\n",
       "      <td>[2, 24, 2, 4, 3, 0, 0, 0, 0, 0, 0, 0, 0, 0, 0,...</td>\n",
       "      <td>diff --git a/drools-core/src/main/java/org/dro...</td>\n",
       "      <td>DROOLS-515 Kie-Camel is broken after Camel Upd...</td>\n",
       "    </tr>\n",
       "    <tr>\n",
       "      <th>1580</th>\n",
       "      <td>Java</td>\n",
       "      <td>45529d30d41b8de338dfc2d26b61d1a79113c766</td>\n",
       "      <td>NaN</td>\n",
       "      <td>A</td>\n",
       "      <td>kiegroup</td>\n",
       "      <td>drools</td>\n",
       "      <td>[1, 10, 0, 0, 0, 0, 0, 1, 60, 0, 0, 1, 0, 0, 0...</td>\n",
       "      <td>diff --git a/drools-compiler/src/test/java/org...</td>\n",
       "      <td>JBRULES-2934 Add NewRegisterWorkItemHandlerCom...</td>\n",
       "    </tr>\n",
       "  </tbody>\n",
       "</table>\n",
       "<p>1581 rows × 9 columns</p>\n",
       "</div>"
      ],
      "text/plain": [
       "     language                                    commit  \\\n",
       "0         C++  be937a3290223f926fe50684f1344569a573ed4b   \n",
       "1         C++  c800d2e36954edddcb83aa1df7f623f2780c7780   \n",
       "2         C++  469e56eeff17eb857c95e935ca7b49723c43470e   \n",
       "3         C++  24f5d302c0906f3377f4d6bcc2735d943ce13e3d   \n",
       "4         C++  1effdb7b959503596b07f7f3e74618ab63f9e5e5   \n",
       "...       ...                                       ...   \n",
       "1576     Java  e4bbfd537a63a52a6094491504fc7b0bb54bcb0e   \n",
       "1577     Java  75b81dcbd26a11d5b370ea5bdf102c2d62ebd0c3   \n",
       "1578     Java  6bc9677bbe919cd5bcadd8af2f5b0c838757a4ce   \n",
       "1579     Java  48701edad8513b27acec7216581e64637157c86a   \n",
       "1580     Java  45529d30d41b8de338dfc2d26b61d1a79113c766   \n",
       "\n",
       "                                             commit_url maintenance_type  \\\n",
       "0     https://github.com/tensorflow/tensorflow/commi...                C   \n",
       "1     https://github.com/tensorflow/tensorflow/commi...                A   \n",
       "2     https://github.com/tensorflow/tensorflow/commi...                P   \n",
       "3     https://github.com/tensorflow/tensorflow/commi...                A   \n",
       "4     https://github.com/tensorflow/tensorflow/commi...                P   \n",
       "...                                                 ...              ...   \n",
       "1576                                                NaN                C   \n",
       "1577                                                NaN                C   \n",
       "1578                                                NaN                C   \n",
       "1579                                                NaN                A   \n",
       "1580                                                NaN                A   \n",
       "\n",
       "            user        repo  \\\n",
       "0     tensorflow  tensorflow   \n",
       "1     tensorflow  tensorflow   \n",
       "2     tensorflow  tensorflow   \n",
       "3     tensorflow  tensorflow   \n",
       "4     tensorflow  tensorflow   \n",
       "...          ...         ...   \n",
       "1576    kiegroup      drools   \n",
       "1577    kiegroup      drools   \n",
       "1578    kiegroup      drools   \n",
       "1579    kiegroup      drools   \n",
       "1580    kiegroup      drools   \n",
       "\n",
       "                                                feature  \\\n",
       "0     [1, 0, 0, 1, 1, 0, 0, 1, 0, 0, 0, 0, 0, 0, 6, ...   \n",
       "1     [0, 0, 0, 0, 0, 0, 0, 0, 0, 0, 0, 0, 0, 0, 0, ...   \n",
       "2     [0, 0, 0, 0, 0, 0, 0, 0, 0, 0, 0, 0, 0, 0, 0, ...   \n",
       "3     [3, 37, 0, 0, 9, 0, 0, 0, 0, 0, 0, 0, 0, 0, 0,...   \n",
       "4     [1, 0, 12, 0, 0, 1, 0, 0, 0, 0, 0, 0, 0, 0, 0,...   \n",
       "...                                                 ...   \n",
       "1576  [1, 0, 0, 1, 0, 0, 0, 0, 0, 0, 0, 0, 0, 0, 0, ...   \n",
       "1577  [2, 6, 2, 3, 0, 0, 0, 1, 7, 0, 0, 0, 0, 0, 0, ...   \n",
       "1578  [1, 1, 5, 13, 0, 0, 0, 0, 0, 0, 0, 0, 0, 0, 0,...   \n",
       "1579  [2, 24, 2, 4, 3, 0, 0, 0, 0, 0, 0, 0, 0, 0, 0,...   \n",
       "1580  [1, 10, 0, 0, 0, 0, 0, 1, 60, 0, 0, 1, 0, 0, 0...   \n",
       "\n",
       "                                                  diffs  \\\n",
       "0     diff --git a/tensorflow/compiler/mlir/lite/fla...   \n",
       "1     diff --git a/tensorflow/python/tools/saved_mod...   \n",
       "2     diff --git a/.github/ISSUE_TEMPLATE/00-bug-iss...   \n",
       "3     diff --git a/tensorflow/compiler/xla/pjrt/dist...   \n",
       "4     diff --git a/tensorflow/core/common_runtime/ea...   \n",
       "...                                                 ...   \n",
       "1576  diff --git a/drools-persistence-jpa/src/main/j...   \n",
       "1577  diff --git a/drools-compiler/src/main/java/org...   \n",
       "1578  diff --git a/drools-core/src/main/java/org/dro...   \n",
       "1579  diff --git a/drools-core/src/main/java/org/dro...   \n",
       "1580  diff --git a/drools-compiler/src/test/java/org...   \n",
       "\n",
       "                                                   msgs  \n",
       "0     Fixing per axis quantization bug in flatbuffer...  \n",
       "1     Add support for python expression as SavedMode...  \n",
       "2     Fix GitHub issue templates. Actual fix for #36...  \n",
       "3     Add new PjRT distributed APIs (KeyValueDelete,...  \n",
       "4     Remove IsLocalDevice() since it's no longer us...  \n",
       "...                                                 ...  \n",
       "1576  fixing reflection constructor to use int inste...  \n",
       "1577  Fix OutOfBoundException on- MemoryFileSystem.e...  \n",
       "1578  [DROOLS-293] fix ObjectTypeNode id creation an...  \n",
       "1579  DROOLS-515 Kie-Camel is broken after Camel Upd...  \n",
       "1580  JBRULES-2934 Add NewRegisterWorkItemHandlerCom...  \n",
       "\n",
       "[1581 rows x 9 columns]"
      ]
     },
     "execution_count": 8,
     "metadata": {},
     "output_type": "execute_result"
    }
   ],
   "source": [
    "df = pd.read_csv(r'/root/autodl-tmp/CommitFit/dataset/multi-lang-exp/dataset.csv', index_col=0, encoding='utf_8_sig')\n",
    "# # df.fillna('', inplace=True)\n",
    "# label2id={'C':0, 'A':1, 'P':2}\n",
    "# # df.reset_index(inplace=True)\n",
    "# df = df.rename(columns={'maintenance_type':'label','msgs':'text','commit_diff':'diffs'})\n",
    "# df = df.replace({\"label\": label2id})\n",
    "# df = df['diffs']\n",
    "# # print(df)\n",
    "\n",
    "df\n",
    "# test_sample = df.sample(n=3, random_state=1)"
   ]
  },
  {
   "cell_type": "code",
   "execution_count": 9,
   "id": "26803da1-da52-48a7-8040-70914c05f2ea",
   "metadata": {
    "execution": {
     "iopub.execute_input": "2025-08-28T14:04:15.214261Z",
     "iopub.status.busy": "2025-08-28T14:04:15.213775Z",
     "iopub.status.idle": "2025-08-28T14:04:15.222824Z",
     "shell.execute_reply": "2025-08-28T14:04:15.221741Z",
     "shell.execute_reply.started": "2025-08-28T14:04:15.214236Z"
    }
   },
   "outputs": [],
   "source": [
    "train, temp_df = train_test_split(df, test_size=0.3, random_state=42)\n",
    "val_df, test = train_test_split(temp_df, test_size=0.5, random_state=42)"
   ]
  },
  {
   "cell_type": "code",
   "execution_count": 11,
   "id": "8832a7a5-8f6d-4871-a732-bf25dc1aed25",
   "metadata": {
    "execution": {
     "iopub.execute_input": "2025-08-28T14:04:28.452097Z",
     "iopub.status.busy": "2025-08-28T14:04:28.451590Z",
     "iopub.status.idle": "2025-08-28T14:04:28.461827Z",
     "shell.execute_reply": "2025-08-28T14:04:28.460815Z",
     "shell.execute_reply.started": "2025-08-28T14:04:28.452072Z"
    }
   },
   "outputs": [
    {
     "name": "stderr",
     "output_type": "stream",
     "text": [
      "/tmp/ipykernel_6049/3766696952.py:1: DeprecationWarning: DataFrameGroupBy.apply operated on the grouping columns. This behavior is deprecated, and in a future version of pandas the grouping columns will be excluded from the operation. Either pass `include_groups=False` to exclude the groupings or explicitly select the grouping columns after groupby to silence this warning.\n",
      "  train = train.groupby(\"maintenance_type\", group_keys=False).apply(lambda x: x.sample(n=5, random_state=42))\n"
     ]
    }
   ],
   "source": [
    "train = train.groupby(\"maintenance_type\", group_keys=False).apply(lambda x: x.sample(n=5, random_state=42))"
   ]
  },
  {
   "cell_type": "code",
   "execution_count": 12,
   "id": "3c932703-35bc-47c4-97c9-66344c490f7b",
   "metadata": {
    "execution": {
     "iopub.execute_input": "2025-08-28T14:04:29.939998Z",
     "iopub.status.busy": "2025-08-28T14:04:29.939176Z",
     "iopub.status.idle": "2025-08-28T14:04:29.962825Z",
     "shell.execute_reply": "2025-08-28T14:04:29.961478Z",
     "shell.execute_reply.started": "2025-08-28T14:04:29.939943Z"
    }
   },
   "outputs": [],
   "source": [
    "train.to_csv('/root/autodl-tmp/COLARE-main/dataset/multi-lang-exp/5_train.csv',index=False)\n",
    "# test.to_csv('/root/autodl-tmp/COLARE-main/dataset/multi-lang-exp/test.csv',index=False)\n",
    "# val.to_csv('/root/autodl-tmp/COLARE-main/dataset/multi-lang-exp/eval.csv',index=False)\n",
    "train.to_csv('/root/autodl-tmp/CommitFit/dataset/multi-lang-exp/5_train.csv',index=False)\n",
    "# test.to_csv('/root/autodl-tmp/CommitFit/dataset/multi-lang-exp/test.csv',index=False)\n",
    "# val.to_csv('/root/autodl-tmp/CommitFit/dataset/multi-lang-exp/eval.csv',index=False)"
   ]
  },
  {
   "cell_type": "code",
   "execution_count": 6,
   "id": "2e214dbb-075e-4fbf-adc9-f3533801587e",
   "metadata": {
    "execution": {
     "iopub.execute_input": "2025-08-28T13:54:38.238673Z",
     "iopub.status.busy": "2025-08-28T13:54:38.238478Z",
     "iopub.status.idle": "2025-08-28T13:54:38.303321Z",
     "shell.execute_reply": "2025-08-28T13:54:38.302650Z",
     "shell.execute_reply.started": "2025-08-28T13:54:38.238654Z"
    }
   },
   "outputs": [],
   "source": [
    "Dataset_train = Dataset.from_pandas(train)\n",
    "test_dataset = Dataset.from_pandas(test)"
   ]
  },
  {
   "cell_type": "code",
   "execution_count": 7,
   "id": "1a8ec7ec-1112-4140-8ccd-516ba9a1b1a8",
   "metadata": {
    "execution": {
     "iopub.execute_input": "2025-08-28T13:54:38.305940Z",
     "iopub.status.busy": "2025-08-28T13:54:38.305706Z",
     "iopub.status.idle": "2025-08-28T13:54:38.389622Z",
     "shell.execute_reply": "2025-08-28T13:54:38.388474Z",
     "shell.execute_reply.started": "2025-08-28T13:54:38.305917Z"
    }
   },
   "outputs": [],
   "source": [
    "train_dataset = get_templated_dataset(Dataset_train, candidate_labels=['Corrective','Adaptive','Perfective'], sample_size=8)"
   ]
  },
  {
   "cell_type": "code",
   "execution_count": 8,
   "id": "6af4102b-39bc-4b20-ab32-43800fb572bf",
   "metadata": {
    "execution": {
     "iopub.execute_input": "2025-08-28T13:54:38.391979Z",
     "iopub.status.busy": "2025-08-28T13:54:38.391144Z",
     "iopub.status.idle": "2025-08-28T13:54:38.397250Z",
     "shell.execute_reply": "2025-08-28T13:54:38.396129Z",
     "shell.execute_reply.started": "2025-08-28T13:54:38.391935Z"
    }
   },
   "outputs": [],
   "source": [
    "train_code_change = list(train['diffs'].astype(str))\n",
    "test_code_change = list(test['diffs'].astype(str))"
   ]
  },
  {
   "cell_type": "code",
   "execution_count": 9,
   "id": "c5ea76cd-69e5-4aa8-bf49-c9e746b63bbb",
   "metadata": {
    "execution": {
     "iopub.execute_input": "2025-08-28T13:54:38.399027Z",
     "iopub.status.busy": "2025-08-28T13:54:38.398489Z",
     "iopub.status.idle": "2025-08-28T13:54:38.404812Z",
     "shell.execute_reply": "2025-08-28T13:54:38.403875Z",
     "shell.execute_reply.started": "2025-08-28T13:54:38.398991Z"
    }
   },
   "outputs": [
    {
     "data": {
      "text/plain": [
       "Dataset({\n",
       "    features: ['language', 'commit', 'commit_url', 'label', 'user', 'repo', 'feature', 'diffs', 'text', '__index_level_0__'],\n",
       "    num_rows: 39\n",
       "})"
      ]
     },
     "execution_count": 9,
     "metadata": {},
     "output_type": "execute_result"
    }
   ],
   "source": [
    "# list(train['message'].astype(str).values)\n",
    "train_dataset"
   ]
  },
  {
   "cell_type": "code",
   "execution_count": 10,
   "id": "ee30affe-0ec9-46a3-bcaa-a1bd9422c939",
   "metadata": {
    "execution": {
     "iopub.execute_input": "2025-08-28T13:54:38.406598Z",
     "iopub.status.busy": "2025-08-28T13:54:38.406049Z",
     "iopub.status.idle": "2025-08-28T13:54:38.412050Z",
     "shell.execute_reply": "2025-08-28T13:54:38.411201Z",
     "shell.execute_reply.started": "2025-08-28T13:54:38.406561Z"
    }
   },
   "outputs": [
    {
     "data": {
      "text/plain": [
       "15"
      ]
     },
     "execution_count": 10,
     "metadata": {},
     "output_type": "execute_result"
    }
   ],
   "source": [
    "len(train)"
   ]
  },
  {
   "cell_type": "code",
   "execution_count": 11,
   "id": "84e38639-cf4b-4762-a1dc-cdc983938388",
   "metadata": {
    "execution": {
     "iopub.execute_input": "2025-08-28T13:54:38.413372Z",
     "iopub.status.busy": "2025-08-28T13:54:38.413104Z",
     "iopub.status.idle": "2025-08-28T13:54:38.420679Z",
     "shell.execute_reply": "2025-08-28T13:54:38.419872Z",
     "shell.execute_reply.started": "2025-08-28T13:54:38.413344Z"
    }
   },
   "outputs": [
    {
     "data": {
      "text/plain": [
       "label\n",
       "0    5\n",
       "1    5\n",
       "2    5\n",
       "Name: count, dtype: int64"
      ]
     },
     "execution_count": 11,
     "metadata": {},
     "output_type": "execute_result"
    }
   ],
   "source": [
    "train['label'].value_counts()"
   ]
  },
  {
   "cell_type": "code",
   "execution_count": 12,
   "id": "3cf6c110-616d-45da-aa2e-4a5add26b3c0",
   "metadata": {
    "execution": {
     "iopub.execute_input": "2025-08-28T13:54:38.421699Z",
     "iopub.status.busy": "2025-08-28T13:54:38.421503Z",
     "iopub.status.idle": "2025-08-28T13:54:38.427718Z",
     "shell.execute_reply": "2025-08-28T13:54:38.426951Z",
     "shell.execute_reply.started": "2025-08-28T13:54:38.421678Z"
    }
   },
   "outputs": [
    {
     "data": {
      "text/plain": [
       "label\n",
       "2    155\n",
       "0     51\n",
       "1     32\n",
       "Name: count, dtype: int64"
      ]
     },
     "execution_count": 12,
     "metadata": {},
     "output_type": "execute_result"
    }
   ],
   "source": [
    "test['label'].value_counts()"
   ]
  },
  {
   "cell_type": "code",
   "execution_count": 13,
   "id": "77117d87-5292-48f5-b077-74b47ccfd5eb",
   "metadata": {
    "execution": {
     "iopub.execute_input": "2025-08-28T13:54:38.428773Z",
     "iopub.status.busy": "2025-08-28T13:54:38.428580Z",
     "iopub.status.idle": "2025-08-28T13:54:38.433476Z",
     "shell.execute_reply": "2025-08-28T13:54:38.432717Z",
     "shell.execute_reply.started": "2025-08-28T13:54:38.428753Z"
    }
   },
   "outputs": [
    {
     "data": {
      "text/plain": [
       "39"
      ]
     },
     "execution_count": 13,
     "metadata": {},
     "output_type": "execute_result"
    }
   ],
   "source": [
    "len(train_dataset)"
   ]
  },
  {
   "cell_type": "code",
   "execution_count": 14,
   "id": "dca6275a-a567-4963-831c-8dd653341162",
   "metadata": {
    "execution": {
     "iopub.execute_input": "2025-08-28T13:54:38.434575Z",
     "iopub.status.busy": "2025-08-28T13:54:38.434354Z",
     "iopub.status.idle": "2025-08-28T13:54:38.440159Z",
     "shell.execute_reply": "2025-08-28T13:54:38.439362Z",
     "shell.execute_reply.started": "2025-08-28T13:54:38.434554Z"
    }
   },
   "outputs": [],
   "source": [
    "from sklearn import  metrics\n",
    "\n",
    "def compute_metrics(y_pred, y_test):\n",
    "    # print(y_pred,y_test)\n",
    "    # classification_report = metrics.classification_report(y_test,y_pred)\n",
    "    accuracy_score = metrics.accuracy_score(y_test,y_pred)\n",
    "    precision_score = metrics.precision_score(y_test,y_pred, average='macro')\n",
    "    recall_score = metrics.recall_score(y_test,y_pred,average='macro')\n",
    "    f1_score = metrics.f1_score(y_test,y_pred,average='macro')\n",
    "    \n",
    "    # 混淆矩阵\n",
    "    cm = metrics.confusion_matrix(y_test, y_pred)\n",
    "    print(\"Confusion Matrix:\\n\", cm)\n",
    "    print(metrics.classification_report(y_test, y_pred, digits=4))\n",
    "    # return {\"classification_report\": classification_report}\n",
    "    return {\"classification_report\":metrics.classification_report(y_test, y_pred, digits=4),\"Confusion Matrix\":cm,\"precision\": round(precision_score, 4),\"recall\": round(recall_score, 4), \"f1\":round(f1_score, 4), \"accuracy\": round(accuracy_score, 4)}"
   ]
  },
  {
   "cell_type": "code",
   "execution_count": 15,
   "id": "49e32d66-2fc2-4a53-bae1-13f8d67c5b6f",
   "metadata": {
    "execution": {
     "iopub.execute_input": "2025-08-28T13:54:38.441226Z",
     "iopub.status.busy": "2025-08-28T13:54:38.441032Z",
     "iopub.status.idle": "2025-08-28T13:54:38.445937Z",
     "shell.execute_reply": "2025-08-28T13:54:38.445178Z",
     "shell.execute_reply.started": "2025-08-28T13:54:38.441206Z"
    }
   },
   "outputs": [
    {
     "data": {
      "text/plain": [
       "Dataset({\n",
       "    features: ['language', 'commit', 'commit_url', 'label', 'user', 'repo', 'feature', 'diffs', 'text', '__index_level_0__'],\n",
       "    num_rows: 39\n",
       "})"
      ]
     },
     "execution_count": 15,
     "metadata": {},
     "output_type": "execute_result"
    }
   ],
   "source": [
    "train_dataset"
   ]
  },
  {
   "cell_type": "code",
   "execution_count": 16,
   "id": "d9ede869-1587-4e42-8879-e819e5961dca",
   "metadata": {
    "execution": {
     "iopub.execute_input": "2025-08-28T13:54:38.446958Z",
     "iopub.status.busy": "2025-08-28T13:54:38.446769Z",
     "iopub.status.idle": "2025-08-28T13:54:38.450213Z",
     "shell.execute_reply": "2025-08-28T13:54:38.449466Z",
     "shell.execute_reply.started": "2025-08-28T13:54:38.446939Z"
    }
   },
   "outputs": [],
   "source": [
    "model_id = \"../../sentence-transformers/paraphrase-mpnet-base-v2\""
   ]
  },
  {
   "cell_type": "code",
   "execution_count": 17,
   "id": "a6501389-0c86-442d-85cf-f04ad146703f",
   "metadata": {
    "execution": {
     "iopub.execute_input": "2025-08-28T13:54:38.451254Z",
     "iopub.status.busy": "2025-08-28T13:54:38.451053Z",
     "iopub.status.idle": "2025-08-28T13:54:38.456461Z",
     "shell.execute_reply": "2025-08-28T13:54:38.455666Z",
     "shell.execute_reply.started": "2025-08-28T13:54:38.451234Z"
    }
   },
   "outputs": [],
   "source": [
    "def hp_space(trial: Trial) -> Dict[str, Union[float, int, str]]:\n",
    "    return {\n",
    "        \"learning_rate\": trial.suggest_float(\"learning_rate\", 1e-6, 1e-3, log=True),\n",
    "        # \"num_epochs\": trial.suggest_int(\"num_epochs\", 1, 3),\n",
    "        # \"batch_size\": trial.suggest_categorical(\"batch_size\", [8, 12, 16]),\n",
    "        # \"seed\": trial.suggest_int(\"seed\", 1, 40),\n",
    "        # \"num_iterations\": trial.suggest_int(\"num_iterations\", 10, 20),\n",
    "        # \"solver\": trial.suggest_categorical(\"solver\", [\"newton-cg\", \"lbfgs\", \"liblinear\"]),\n",
    "    }\n",
    "def model_init(params: Dict[str, Any]) -> CommitFitModel:\n",
    "    params = params or {}\n",
    "    # learning_rate = params.get(\"learning_rate\")\n",
    "    # num_iterations = params.get(\"num_iterations\", 20)\n",
    "    # solver = params.get(\"solver\", \"liblinear\")\n",
    "    # params = {\n",
    "    #     \"head_params\": {\n",
    "    #         # \"max_iter\": num_iterations,\n",
    "    #         # \"solver\": solver,\n",
    "    #     }\n",
    "    # }\n",
    "    return CommitFitModel.from_pretrained(model_id, **params)\n",
    "def my_compute_objective(metrics):\n",
    "    print('+++++++++++',metrics)\n",
    "    return  metrics['accuracy']"
   ]
  },
  {
   "cell_type": "code",
   "execution_count": 18,
   "id": "2244f079-c2b8-4e01-aca4-f68e7ce8accb",
   "metadata": {
    "execution": {
     "iopub.execute_input": "2025-08-28T13:54:38.457537Z",
     "iopub.status.busy": "2025-08-28T13:54:38.457336Z",
     "iopub.status.idle": "2025-08-28T13:55:59.326866Z",
     "shell.execute_reply": "2025-08-28T13:55:59.325838Z",
     "shell.execute_reply.started": "2025-08-28T13:54:38.457515Z"
    }
   },
   "outputs": [
    {
     "name": "stderr",
     "output_type": "stream",
     "text": [
      "model_head.pkl not found in /root/autodl-tmp/CommitFit/sentence-transformers/paraphrase-mpnet-base-v2, initialising classification head with random weights. You should TRAIN this model on a downstream task to use it for predictions and inference.\n",
      "[I 2025-08-28 21:54:39,726] A new study created in memory with name: no-name-71aebb87-8e3c-4a48-9105-eecc330cb30d\n",
      "Trial: {'learning_rate': 0.00019772964629059415}\n",
      "model_head.pkl not found in /root/autodl-tmp/CommitFit/sentence-transformers/paraphrase-mpnet-base-v2, initialising classification head with random weights. You should TRAIN this model on a downstream task to use it for predictions and inference.\n"
     ]
    },
    {
     "data": {
      "application/vnd.jupyter.widget-view+json": {
       "model_id": "6719623b8cf340d4a6ead3874f320361",
       "version_major": 2,
       "version_minor": 0
      },
      "text/plain": [
       "Generating Training Pairs:   0%|          | 0/20 [00:00<?, ?it/s]"
      ]
     },
     "metadata": {},
     "output_type": "display_data"
    },
    {
     "name": "stderr",
     "output_type": "stream",
     "text": [
      "***** Running training *****\n",
      "  Num examples = 1560\n",
      "  Num epochs = 1\n",
      "  Total optimization steps = 98\n",
      "  Total train batch size = 16\n"
     ]
    },
    {
     "data": {
      "application/vnd.jupyter.widget-view+json": {
       "model_id": "3016a63b7eb74e6385ee3d6f12c2a58d",
       "version_major": 2,
       "version_minor": 0
      },
      "text/plain": [
       "Epoch:   0%|          | 0/1 [00:00<?, ?it/s]"
      ]
     },
     "metadata": {},
     "output_type": "display_data"
    },
    {
     "data": {
      "application/vnd.jupyter.widget-view+json": {
       "model_id": "760e4ed6667d41a6acd6f4a190f69319",
       "version_major": 2,
       "version_minor": 0
      },
      "text/plain": [
       "Iteration:   0%|          | 0/98 [00:00<?, ?it/s]"
      ]
     },
     "metadata": {},
     "output_type": "display_data"
    },
    {
     "name": "stderr",
     "output_type": "stream",
     "text": [
      "***** Running evaluation *****\n",
      "[I 2025-08-28 21:54:56,224] Trial 0 finished with value: 0.5546 and parameters: {'learning_rate': 0.00019772964629059415}. Best is trial 0 with value: 0.5546.\n",
      "Trial: {'learning_rate': 0.00010484472954182948}\n"
     ]
    },
    {
     "name": "stdout",
     "output_type": "stream",
     "text": [
      "Confusion Matrix:\n",
      " [[41  2  8]\n",
      " [ 9 17  6]\n",
      " [56 25 74]]\n",
      "              precision    recall  f1-score   support\n",
      "\n",
      "           0     0.3868    0.8039    0.5223        51\n",
      "           1     0.3864    0.5312    0.4474        32\n",
      "           2     0.8409    0.4774    0.6091       155\n",
      "\n",
      "    accuracy                         0.5546       238\n",
      "   macro avg     0.5380    0.6042    0.5262       238\n",
      "weighted avg     0.6825    0.5546    0.5687       238\n",
      "\n",
      "+++++++++++ {'classification_report': '              precision    recall  f1-score   support\\n\\n           0     0.3868    0.8039    0.5223        51\\n           1     0.3864    0.5312    0.4474        32\\n           2     0.8409    0.4774    0.6091       155\\n\\n    accuracy                         0.5546       238\\n   macro avg     0.5380    0.6042    0.5262       238\\nweighted avg     0.6825    0.5546    0.5687       238\\n', 'Confusion Matrix': array([[41,  2,  8],\n",
      "       [ 9, 17,  6],\n",
      "       [56, 25, 74]]), 'precision': 0.538, 'recall': 0.6042, 'f1': 0.5262, 'accuracy': 0.5546}\n"
     ]
    },
    {
     "name": "stderr",
     "output_type": "stream",
     "text": [
      "model_head.pkl not found in /root/autodl-tmp/CommitFit/sentence-transformers/paraphrase-mpnet-base-v2, initialising classification head with random weights. You should TRAIN this model on a downstream task to use it for predictions and inference.\n"
     ]
    },
    {
     "data": {
      "application/vnd.jupyter.widget-view+json": {
       "model_id": "b0bc22e07d1945af8308f6d50352ac0a",
       "version_major": 2,
       "version_minor": 0
      },
      "text/plain": [
       "Generating Training Pairs:   0%|          | 0/20 [00:00<?, ?it/s]"
      ]
     },
     "metadata": {},
     "output_type": "display_data"
    },
    {
     "name": "stderr",
     "output_type": "stream",
     "text": [
      "***** Running training *****\n",
      "  Num examples = 1560\n",
      "  Num epochs = 1\n",
      "  Total optimization steps = 98\n",
      "  Total train batch size = 16\n"
     ]
    },
    {
     "data": {
      "application/vnd.jupyter.widget-view+json": {
       "model_id": "9bed06dd9e3d418daf1cf23ee955c2bf",
       "version_major": 2,
       "version_minor": 0
      },
      "text/plain": [
       "Epoch:   0%|          | 0/1 [00:00<?, ?it/s]"
      ]
     },
     "metadata": {},
     "output_type": "display_data"
    },
    {
     "data": {
      "application/vnd.jupyter.widget-view+json": {
       "model_id": "83cef3e0ce534ea19acc2d812ba04b1d",
       "version_major": 2,
       "version_minor": 0
      },
      "text/plain": [
       "Iteration:   0%|          | 0/98 [00:00<?, ?it/s]"
      ]
     },
     "metadata": {},
     "output_type": "display_data"
    },
    {
     "name": "stderr",
     "output_type": "stream",
     "text": [
      "***** Running evaluation *****\n",
      "[I 2025-08-28 21:55:12,202] Trial 1 finished with value: 0.5462 and parameters: {'learning_rate': 0.00010484472954182948}. Best is trial 0 with value: 0.5546.\n",
      "Trial: {'learning_rate': 0.00015103512440784993}\n"
     ]
    },
    {
     "name": "stdout",
     "output_type": "stream",
     "text": [
      "Confusion Matrix:\n",
      " [[40  4  7]\n",
      " [ 4 21  7]\n",
      " [49 37 69]]\n",
      "              precision    recall  f1-score   support\n",
      "\n",
      "           0     0.4301    0.7843    0.5556        51\n",
      "           1     0.3387    0.6562    0.4468        32\n",
      "           2     0.8313    0.4452    0.5798       155\n",
      "\n",
      "    accuracy                         0.5462       238\n",
      "   macro avg     0.5334    0.6286    0.5274       238\n",
      "weighted avg     0.6791    0.5462    0.5567       238\n",
      "\n",
      "+++++++++++ {'classification_report': '              precision    recall  f1-score   support\\n\\n           0     0.4301    0.7843    0.5556        51\\n           1     0.3387    0.6562    0.4468        32\\n           2     0.8313    0.4452    0.5798       155\\n\\n    accuracy                         0.5462       238\\n   macro avg     0.5334    0.6286    0.5274       238\\nweighted avg     0.6791    0.5462    0.5567       238\\n', 'Confusion Matrix': array([[40,  4,  7],\n",
      "       [ 4, 21,  7],\n",
      "       [49, 37, 69]]), 'precision': 0.5334, 'recall': 0.6286, 'f1': 0.5274, 'accuracy': 0.5462}\n"
     ]
    },
    {
     "name": "stderr",
     "output_type": "stream",
     "text": [
      "model_head.pkl not found in /root/autodl-tmp/CommitFit/sentence-transformers/paraphrase-mpnet-base-v2, initialising classification head with random weights. You should TRAIN this model on a downstream task to use it for predictions and inference.\n"
     ]
    },
    {
     "data": {
      "application/vnd.jupyter.widget-view+json": {
       "model_id": "0a1bd1f66ec24313a33e1cce1ba0e22a",
       "version_major": 2,
       "version_minor": 0
      },
      "text/plain": [
       "Generating Training Pairs:   0%|          | 0/20 [00:00<?, ?it/s]"
      ]
     },
     "metadata": {},
     "output_type": "display_data"
    },
    {
     "name": "stderr",
     "output_type": "stream",
     "text": [
      "***** Running training *****\n",
      "  Num examples = 1560\n",
      "  Num epochs = 1\n",
      "  Total optimization steps = 98\n",
      "  Total train batch size = 16\n"
     ]
    },
    {
     "data": {
      "application/vnd.jupyter.widget-view+json": {
       "model_id": "206042cfaf214695b40b2fc8374e8780",
       "version_major": 2,
       "version_minor": 0
      },
      "text/plain": [
       "Epoch:   0%|          | 0/1 [00:00<?, ?it/s]"
      ]
     },
     "metadata": {},
     "output_type": "display_data"
    },
    {
     "data": {
      "application/vnd.jupyter.widget-view+json": {
       "model_id": "589d210bf3a9421e8e9f6596d80b4005",
       "version_major": 2,
       "version_minor": 0
      },
      "text/plain": [
       "Iteration:   0%|          | 0/98 [00:00<?, ?it/s]"
      ]
     },
     "metadata": {},
     "output_type": "display_data"
    },
    {
     "name": "stderr",
     "output_type": "stream",
     "text": [
      "***** Running evaluation *****\n",
      "[I 2025-08-28 21:55:27,813] Trial 2 finished with value: 0.5126 and parameters: {'learning_rate': 0.00015103512440784993}. Best is trial 0 with value: 0.5546.\n",
      "Trial: {'learning_rate': 4.8888677398087325e-06}\n"
     ]
    },
    {
     "name": "stdout",
     "output_type": "stream",
     "text": [
      "Confusion Matrix:\n",
      " [[40  6  5]\n",
      " [ 4 21  7]\n",
      " [42 52 61]]\n",
      "              precision    recall  f1-score   support\n",
      "\n",
      "           0     0.4651    0.7843    0.5839        51\n",
      "           1     0.2658    0.6562    0.3784        32\n",
      "           2     0.8356    0.3935    0.5351       155\n",
      "\n",
      "    accuracy                         0.5126       238\n",
      "   macro avg     0.5222    0.6114    0.4991       238\n",
      "weighted avg     0.6796    0.5126    0.5245       238\n",
      "\n",
      "+++++++++++ {'classification_report': '              precision    recall  f1-score   support\\n\\n           0     0.4651    0.7843    0.5839        51\\n           1     0.2658    0.6562    0.3784        32\\n           2     0.8356    0.3935    0.5351       155\\n\\n    accuracy                         0.5126       238\\n   macro avg     0.5222    0.6114    0.4991       238\\nweighted avg     0.6796    0.5126    0.5245       238\\n', 'Confusion Matrix': array([[40,  6,  5],\n",
      "       [ 4, 21,  7],\n",
      "       [42, 52, 61]]), 'precision': 0.5222, 'recall': 0.6114, 'f1': 0.4991, 'accuracy': 0.5126}\n"
     ]
    },
    {
     "name": "stderr",
     "output_type": "stream",
     "text": [
      "model_head.pkl not found in /root/autodl-tmp/CommitFit/sentence-transformers/paraphrase-mpnet-base-v2, initialising classification head with random weights. You should TRAIN this model on a downstream task to use it for predictions and inference.\n"
     ]
    },
    {
     "data": {
      "application/vnd.jupyter.widget-view+json": {
       "model_id": "6c9163c2f02a4ed48f89e2a6580e812f",
       "version_major": 2,
       "version_minor": 0
      },
      "text/plain": [
       "Generating Training Pairs:   0%|          | 0/20 [00:00<?, ?it/s]"
      ]
     },
     "metadata": {},
     "output_type": "display_data"
    },
    {
     "name": "stderr",
     "output_type": "stream",
     "text": [
      "***** Running training *****\n",
      "  Num examples = 1560\n",
      "  Num epochs = 1\n",
      "  Total optimization steps = 98\n",
      "  Total train batch size = 16\n"
     ]
    },
    {
     "data": {
      "application/vnd.jupyter.widget-view+json": {
       "model_id": "7e2b97529ede4e74b4914a8c686cc172",
       "version_major": 2,
       "version_minor": 0
      },
      "text/plain": [
       "Epoch:   0%|          | 0/1 [00:00<?, ?it/s]"
      ]
     },
     "metadata": {},
     "output_type": "display_data"
    },
    {
     "data": {
      "application/vnd.jupyter.widget-view+json": {
       "model_id": "d500559548b2436ba42b0cd9738dd319",
       "version_major": 2,
       "version_minor": 0
      },
      "text/plain": [
       "Iteration:   0%|          | 0/98 [00:00<?, ?it/s]"
      ]
     },
     "metadata": {},
     "output_type": "display_data"
    },
    {
     "name": "stderr",
     "output_type": "stream",
     "text": [
      "***** Running evaluation *****\n",
      "[I 2025-08-28 21:55:43,640] Trial 3 finished with value: 0.437 and parameters: {'learning_rate': 4.8888677398087325e-06}. Best is trial 0 with value: 0.5546.\n",
      "Trial: {'learning_rate': 0.0002248618435300298}\n"
     ]
    },
    {
     "name": "stdout",
     "output_type": "stream",
     "text": [
      "Confusion Matrix:\n",
      " [[38  5  8]\n",
      " [ 4 22  6]\n",
      " [57 54 44]]\n",
      "              precision    recall  f1-score   support\n",
      "\n",
      "           0     0.3838    0.7451    0.5067        51\n",
      "           1     0.2716    0.6875    0.3894        32\n",
      "           2     0.7586    0.2839    0.4131       155\n",
      "\n",
      "    accuracy                         0.4370       238\n",
      "   macro avg     0.4714    0.5722    0.4364       238\n",
      "weighted avg     0.6128    0.4370    0.4300       238\n",
      "\n",
      "+++++++++++ {'classification_report': '              precision    recall  f1-score   support\\n\\n           0     0.3838    0.7451    0.5067        51\\n           1     0.2716    0.6875    0.3894        32\\n           2     0.7586    0.2839    0.4131       155\\n\\n    accuracy                         0.4370       238\\n   macro avg     0.4714    0.5722    0.4364       238\\nweighted avg     0.6128    0.4370    0.4300       238\\n', 'Confusion Matrix': array([[38,  5,  8],\n",
      "       [ 4, 22,  6],\n",
      "       [57, 54, 44]]), 'precision': 0.4714, 'recall': 0.5722, 'f1': 0.4364, 'accuracy': 0.437}\n"
     ]
    },
    {
     "name": "stderr",
     "output_type": "stream",
     "text": [
      "model_head.pkl not found in /root/autodl-tmp/CommitFit/sentence-transformers/paraphrase-mpnet-base-v2, initialising classification head with random weights. You should TRAIN this model on a downstream task to use it for predictions and inference.\n"
     ]
    },
    {
     "data": {
      "application/vnd.jupyter.widget-view+json": {
       "model_id": "32e865c2956445138e3fd577d501de81",
       "version_major": 2,
       "version_minor": 0
      },
      "text/plain": [
       "Generating Training Pairs:   0%|          | 0/20 [00:00<?, ?it/s]"
      ]
     },
     "metadata": {},
     "output_type": "display_data"
    },
    {
     "name": "stderr",
     "output_type": "stream",
     "text": [
      "***** Running training *****\n",
      "  Num examples = 1560\n",
      "  Num epochs = 1\n",
      "  Total optimization steps = 98\n",
      "  Total train batch size = 16\n"
     ]
    },
    {
     "data": {
      "application/vnd.jupyter.widget-view+json": {
       "model_id": "100bc3e4931e4124b169ab973d7ac36d",
       "version_major": 2,
       "version_minor": 0
      },
      "text/plain": [
       "Epoch:   0%|          | 0/1 [00:00<?, ?it/s]"
      ]
     },
     "metadata": {},
     "output_type": "display_data"
    },
    {
     "data": {
      "application/vnd.jupyter.widget-view+json": {
       "model_id": "3826a63f5ab34a058993b9af2e816fc7",
       "version_major": 2,
       "version_minor": 0
      },
      "text/plain": [
       "Iteration:   0%|          | 0/98 [00:00<?, ?it/s]"
      ]
     },
     "metadata": {},
     "output_type": "display_data"
    },
    {
     "name": "stderr",
     "output_type": "stream",
     "text": [
      "***** Running evaluation *****\n",
      "[I 2025-08-28 21:55:59,321] Trial 4 finished with value: 0.5966 and parameters: {'learning_rate': 0.0002248618435300298}. Best is trial 4 with value: 0.5966.\n"
     ]
    },
    {
     "name": "stdout",
     "output_type": "stream",
     "text": [
      "Confusion Matrix:\n",
      " [[ 31   2  18]\n",
      " [ 11   9  12]\n",
      " [ 45   8 102]]\n",
      "              precision    recall  f1-score   support\n",
      "\n",
      "           0     0.3563    0.6078    0.4493        51\n",
      "           1     0.4737    0.2812    0.3529        32\n",
      "           2     0.7727    0.6581    0.7108       155\n",
      "\n",
      "    accuracy                         0.5966       238\n",
      "   macro avg     0.5342    0.5157    0.5043       238\n",
      "weighted avg     0.6433    0.5966    0.6066       238\n",
      "\n",
      "+++++++++++ {'classification_report': '              precision    recall  f1-score   support\\n\\n           0     0.3563    0.6078    0.4493        51\\n           1     0.4737    0.2812    0.3529        32\\n           2     0.7727    0.6581    0.7108       155\\n\\n    accuracy                         0.5966       238\\n   macro avg     0.5342    0.5157    0.5043       238\\nweighted avg     0.6433    0.5966    0.6066       238\\n', 'Confusion Matrix': array([[ 31,   2,  18],\n",
      "       [ 11,   9,  12],\n",
      "       [ 45,   8, 102]]), 'precision': 0.5342, 'recall': 0.5157, 'f1': 0.5043, 'accuracy': 0.5966}\n"
     ]
    }
   ],
   "source": [
    "trainer = CommitFitTrainer(\n",
    "    train_dataset=train_dataset,\n",
    "    train_code_change = train_code_change,\n",
    "    test_code_change = test_code_change,\n",
    "    eval_dataset=test_dataset,\n",
    "    model_init=model_init,\n",
    "    metric = compute_metrics,\n",
    "    num_iterations=20,\n",
    "    num_epochs=1\n",
    ")\n",
    "best_run = trainer.hyperparameter_search(direction=\"maximize\", hp_space=hp_space, compute_objective=my_compute_objective, n_trials=5)"
   ]
  },
  {
   "cell_type": "code",
   "execution_count": 19,
   "id": "91deb34e-2ef0-4f00-b6e7-7ffd18605c52",
   "metadata": {
    "execution": {
     "iopub.execute_input": "2025-08-28T13:55:59.329061Z",
     "iopub.status.busy": "2025-08-28T13:55:59.328205Z",
     "iopub.status.idle": "2025-08-28T13:55:59.335023Z",
     "shell.execute_reply": "2025-08-28T13:55:59.334233Z",
     "shell.execute_reply.started": "2025-08-28T13:55:59.329034Z"
    }
   },
   "outputs": [
    {
     "data": {
      "text/plain": [
       "BestRun(run_id='4', objective=0.5966, hyperparameters={'learning_rate': 0.0002248618435300298}, backend=<optuna.study.study.Study object at 0x7fb95528cc40>)"
      ]
     },
     "execution_count": 19,
     "metadata": {},
     "output_type": "execute_result"
    }
   ],
   "source": [
    "best_run"
   ]
  },
  {
   "cell_type": "code",
   "execution_count": 20,
   "id": "40cfde46-c7d5-4446-8b53-7ad4dc8edb66",
   "metadata": {
    "execution": {
     "iopub.execute_input": "2025-08-28T13:55:59.336499Z",
     "iopub.status.busy": "2025-08-28T13:55:59.335947Z",
     "iopub.status.idle": "2025-08-28T13:55:59.341212Z",
     "shell.execute_reply": "2025-08-28T13:55:59.340433Z",
     "shell.execute_reply.started": "2025-08-28T13:55:59.336477Z"
    }
   },
   "outputs": [
    {
     "data": {
      "text/plain": [
       "{'learning_rate': 0.0002248618435300298}"
      ]
     },
     "execution_count": 20,
     "metadata": {},
     "output_type": "execute_result"
    }
   ],
   "source": [
    "best_run.hyperparameters"
   ]
  },
  {
   "cell_type": "code",
   "execution_count": 21,
   "id": "ae735a8b-c672-4dce-822c-61330c34481b",
   "metadata": {
    "execution": {
     "iopub.execute_input": "2025-08-28T13:55:59.342687Z",
     "iopub.status.busy": "2025-08-28T13:55:59.342061Z",
     "iopub.status.idle": "2025-08-28T13:56:09.054467Z",
     "shell.execute_reply": "2025-08-28T13:56:09.053733Z",
     "shell.execute_reply.started": "2025-08-28T13:55:59.342665Z"
    }
   },
   "outputs": [
    {
     "name": "stderr",
     "output_type": "stream",
     "text": [
      "model_head.pkl not found in /root/autodl-tmp/CommitFit/sentence-transformers/paraphrase-mpnet-base-v2, initialising classification head with random weights. You should TRAIN this model on a downstream task to use it for predictions and inference.\n"
     ]
    },
    {
     "data": {
      "application/vnd.jupyter.widget-view+json": {
       "model_id": "2a9ea8a6eea34da2878e08b3c5af4929",
       "version_major": 2,
       "version_minor": 0
      },
      "text/plain": [
       "Generating Training Pairs:   0%|          | 0/20 [00:00<?, ?it/s]"
      ]
     },
     "metadata": {},
     "output_type": "display_data"
    },
    {
     "name": "stderr",
     "output_type": "stream",
     "text": [
      "***** Running training *****\n",
      "  Num examples = 1560\n",
      "  Num epochs = 1\n",
      "  Total optimization steps = 98\n",
      "  Total train batch size = 16\n"
     ]
    },
    {
     "data": {
      "application/vnd.jupyter.widget-view+json": {
       "model_id": "f14b7f60aa534733b33f81e9512119e8",
       "version_major": 2,
       "version_minor": 0
      },
      "text/plain": [
       "Epoch:   0%|          | 0/1 [00:00<?, ?it/s]"
      ]
     },
     "metadata": {},
     "output_type": "display_data"
    },
    {
     "data": {
      "application/vnd.jupyter.widget-view+json": {
       "model_id": "20917fe447bd4c9a8c5bba7b5a173f13",
       "version_major": 2,
       "version_minor": 0
      },
      "text/plain": [
       "Iteration:   0%|          | 0/98 [00:00<?, ?it/s]"
      ]
     },
     "metadata": {},
     "output_type": "display_data"
    }
   ],
   "source": [
    "trainer.apply_hyperparameters(best_run.hyperparameters, final_model=True)\n",
    "trainer.train()"
   ]
  },
  {
   "cell_type": "code",
   "execution_count": 22,
   "id": "166dcf9b-a0bd-4b60-854c-c6535c22a111",
   "metadata": {
    "execution": {
     "iopub.execute_input": "2025-08-28T13:56:09.057982Z",
     "iopub.status.busy": "2025-08-28T13:56:09.057543Z",
     "iopub.status.idle": "2025-08-28T13:56:14.695908Z",
     "shell.execute_reply": "2025-08-28T13:56:14.695006Z",
     "shell.execute_reply.started": "2025-08-28T13:56:09.057958Z"
    }
   },
   "outputs": [
    {
     "name": "stderr",
     "output_type": "stream",
     "text": [
      "***** Running evaluation *****\n"
     ]
    },
    {
     "name": "stdout",
     "output_type": "stream",
     "text": [
      "Confusion Matrix:\n",
      " [[38  9  4]\n",
      " [ 3 24  5]\n",
      " [49 69 37]]\n",
      "              precision    recall  f1-score   support\n",
      "\n",
      "           0     0.4222    0.7451    0.5390        51\n",
      "           1     0.2353    0.7500    0.3582        32\n",
      "           2     0.8043    0.2387    0.3682       155\n",
      "\n",
      "    accuracy                         0.4160       238\n",
      "   macro avg     0.4873    0.5779    0.4218       238\n",
      "weighted avg     0.6460    0.4160    0.4034       238\n",
      "\n"
     ]
    },
    {
     "data": {
      "text/plain": [
       "{'classification_report': '              precision    recall  f1-score   support\\n\\n           0     0.4222    0.7451    0.5390        51\\n           1     0.2353    0.7500    0.3582        32\\n           2     0.8043    0.2387    0.3682       155\\n\\n    accuracy                         0.4160       238\\n   macro avg     0.4873    0.5779    0.4218       238\\nweighted avg     0.6460    0.4160    0.4034       238\\n',\n",
       " 'Confusion Matrix': array([[38,  9,  4],\n",
       "        [ 3, 24,  5],\n",
       "        [49, 69, 37]]),\n",
       " 'precision': 0.4873,\n",
       " 'recall': 0.5779,\n",
       " 'f1': 0.4218,\n",
       " 'accuracy': 0.416}"
      ]
     },
     "execution_count": 22,
     "metadata": {},
     "output_type": "execute_result"
    }
   ],
   "source": [
    "fewshot_metrics = trainer.evaluate()\n",
    "fewshot_metrics"
   ]
  },
  {
   "cell_type": "code",
   "execution_count": 23,
   "id": "af21aba7-66cd-4762-b5d4-6d27650bba7e",
   "metadata": {
    "execution": {
     "iopub.execute_input": "2025-08-28T13:56:14.697503Z",
     "iopub.status.busy": "2025-08-28T13:56:14.697138Z",
     "iopub.status.idle": "2025-08-28T13:56:15.616152Z",
     "shell.execute_reply": "2025-08-28T13:56:15.614682Z",
     "shell.execute_reply.started": "2025-08-28T13:56:14.697477Z"
    }
   },
   "outputs": [
    {
     "name": "stdout",
     "output_type": "stream",
     "text": [
      "强化学习模型训练完毕\n"
     ]
    }
   ],
   "source": [
    "#发送多种类型的邮件\n",
    "from email.mime.multipart import MIMEMultipart\n",
    "import smtplib\n",
    "\n",
    "from email.mime.text import MIMEText\n",
    "msg_from = '915803745@qq.com'  # 发送方邮箱\n",
    "passwd = 'vcuosuurrgkfbdai'   #就是上面的授权码\n",
    " \n",
    "# to= ['g.zhang@gotion.com', 'j.tong@gotion.com'] #接受方邮箱\n",
    "to= ['j.tong@gotion.com'] #接受方邮箱\n",
    "#设置邮件内容\n",
    "#MIMEMultipart类可以放任何内容\n",
    "msg = MIMEMultipart()\n",
    "conntent=f\"{fewshot_metrics}\"\n",
    "#把内容加进去\n",
    "msg.attach(MIMEText(conntent,'plain','utf-8'))\n",
    " \n",
    "#设置邮件主题\n",
    "msg['Subject']=\"强化学习模型训练完毕\"\n",
    " \n",
    "#发送方信息\n",
    "msg['From']=msg_from\n",
    " \n",
    "#开始发送\n",
    " \n",
    "#通过SSL方式发送，服务器地址和端口\n",
    "s = smtplib.SMTP_SSL(\"smtp.qq.com\", 465)\n",
    "# 登录邮箱\n",
    "s.login(msg_from, passwd)\n",
    "#开始发送\n",
    "s.sendmail(msg_from,to,msg.as_string())\n",
    "print(\"强化学习模型训练完毕\")"
   ]
  },
  {
   "cell_type": "code",
   "execution_count": null,
   "id": "025b5144-4d11-4fae-b716-5cb039470225",
   "metadata": {},
   "outputs": [],
   "source": []
  }
 ],
 "metadata": {
  "kernelspec": {
   "display_name": "Python 3 (ipykernel)",
   "language": "python",
   "name": "python3"
  },
  "language_info": {
   "codemirror_mode": {
    "name": "ipython",
    "version": 3
   },
   "file_extension": ".py",
   "mimetype": "text/x-python",
   "name": "python",
   "nbconvert_exporter": "python",
   "pygments_lexer": "ipython3",
   "version": "3.10.8"
  }
 },
 "nbformat": 4,
 "nbformat_minor": 5
}
