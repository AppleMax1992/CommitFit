{
 "cells": [
  {
   "cell_type": "code",
   "execution_count": 1,
   "id": "77d93e6a-106b-4abd-87e7-1243d4c51126",
   "metadata": {
    "execution": {
     "iopub.execute_input": "2025-08-28T13:48:32.188003Z",
     "iopub.status.busy": "2025-08-28T13:48:32.187551Z",
     "iopub.status.idle": "2025-08-28T13:48:36.149113Z",
     "shell.execute_reply": "2025-08-28T13:48:36.148087Z",
     "shell.execute_reply.started": "2025-08-28T13:48:32.187949Z"
    }
   },
   "outputs": [
    {
     "name": "stdout",
     "output_type": "stream",
     "text": [
      "\n",
      "root\n",
      "autodl-tmp\n",
      "CommitFit\n"
     ]
    }
   ],
   "source": [
    "# !pip install transformers accelerate\n",
    "from transformers import EarlyStoppingCallback\n",
    "import torch\n",
    "import numpy as np\n",
    "import pandas as pd\n",
    "# !pip install datasets\n",
    "from datasets import Dataset\n",
    "# %pip install evaluate\n",
    "import evaluate\n",
    "from sklearn.model_selection import train_test_split\n",
    "# from ipywidgets import FloatProgress\n",
    "import csv\n",
    "from optuna import Trial\n",
    "from typing import Dict, Union, Any\n",
    "import os\n",
    "import sys\n",
    "\n",
    "# notebook_login()\n",
    "\n",
    "csv.field_size_limit(500 * 1024 * 1024)\n",
    "CUDA_LAUNCH_BLOCKING=1\n",
    "# get pwd\n",
    "notebook_path = os.path.abspath('')\n",
    "\n",
    "# Find the part of the path that contains 'commitFit'\n",
    "commit_fit_path = None\n",
    "for part in notebook_path.split(os.sep):\n",
    "    print(part)\n",
    "    if 'CommitFit' in part:\n",
    "        commit_fit_path = notebook_path.split(part)[0] + part\n",
    "        break\n",
    "\n",
    "if commit_fit_path is None:\n",
    "    raise ValueError(\"Path containing 'commitFit' not found in notebook path.\")\n",
    "\n",
    "# Add commitFit directory to Python path, so we can import moudule from commitfit folder directly\n",
    "if commit_fit_path not in sys.path:\n",
    "    sys.path.append(commit_fit_path)\n",
    "\n",
    "from commitfit import CommitFitModel, CommitFitTrainer \n",
    "from commitfit import get_templated_dataset,sample_dataset"
   ]
  },
  {
   "cell_type": "code",
   "execution_count": 2,
   "id": "9ef5359f-9526-4d19-a2da-7988dc1ea04f",
   "metadata": {
    "execution": {
     "iopub.execute_input": "2025-08-28T13:48:36.151261Z",
     "iopub.status.busy": "2025-08-28T13:48:36.150893Z",
     "iopub.status.idle": "2025-08-28T13:48:36.662374Z",
     "shell.execute_reply": "2025-08-28T13:48:36.661494Z",
     "shell.execute_reply.started": "2025-08-28T13:48:36.151239Z"
    }
   },
   "outputs": [
    {
     "data": {
      "text/html": [
       "<div>\n",
       "<style scoped>\n",
       "    .dataframe tbody tr th:only-of-type {\n",
       "        vertical-align: middle;\n",
       "    }\n",
       "\n",
       "    .dataframe tbody tr th {\n",
       "        vertical-align: top;\n",
       "    }\n",
       "\n",
       "    .dataframe thead th {\n",
       "        text-align: right;\n",
       "    }\n",
       "</style>\n",
       "<table border=\"1\" class=\"dataframe\">\n",
       "  <thead>\n",
       "    <tr style=\"text-align: right;\">\n",
       "      <th></th>\n",
       "      <th>repo</th>\n",
       "      <th>commit</th>\n",
       "      <th>label</th>\n",
       "      <th>text</th>\n",
       "      <th>diffs</th>\n",
       "      <th>feature</th>\n",
       "    </tr>\n",
       "    <tr>\n",
       "      <th>user</th>\n",
       "      <th></th>\n",
       "      <th></th>\n",
       "      <th></th>\n",
       "      <th></th>\n",
       "      <th></th>\n",
       "      <th></th>\n",
       "    </tr>\n",
       "  </thead>\n",
       "  <tbody>\n",
       "    <tr>\n",
       "      <th>ponsonio</th>\n",
       "      <td>RxJava</td>\n",
       "      <td>0531b8bff5c14d9504beefb4ad47f473e3a22932</td>\n",
       "      <td>Perfective</td>\n",
       "      <td>Change hasException to hasThrowable--</td>\n",
       "      <td>diff --git a/rxjava-core/src/main/java/rx/Noti...</td>\n",
       "      <td>[1, 0, 0, 4, 0, 0, 0, 0, 0, 0, 0, 0, 0, 0, 0, ...</td>\n",
       "    </tr>\n",
       "    <tr>\n",
       "      <th>ponsonio</th>\n",
       "      <td>RxJava</td>\n",
       "      <td>0950c46beda335819928585f1262dfe1dca78a0b</td>\n",
       "      <td>Adaptive</td>\n",
       "      <td>Trying to extend the Scheduler interface accor...</td>\n",
       "      <td>diff --git a/rxjava-core/src/main/java/rx/Sche...</td>\n",
       "      <td>[2, 44, 0, 0, 30, 0, 0, 1, 18, 0, 0, 0, 0, 0, ...</td>\n",
       "    </tr>\n",
       "    <tr>\n",
       "      <th>ponsonio</th>\n",
       "      <td>RxJava</td>\n",
       "      <td>0f92fdd8e6422d5b79c610a7fd8409d222315a49</td>\n",
       "      <td>Adaptive</td>\n",
       "      <td>RunAsync method for outputting multiple values--</td>\n",
       "      <td>diff --git a/rxjava-contrib/rxjava-async-util/...</td>\n",
       "      <td>[2, 53, 0, 0, 42, 0, 0, 1, 45, 1, 0, 0, 0, 0, ...</td>\n",
       "    </tr>\n",
       "    <tr>\n",
       "      <th>ponsonio</th>\n",
       "      <td>RxJava</td>\n",
       "      <td>100f571c9a2835d5a30a55374b9be74c147e031f</td>\n",
       "      <td>Corrective</td>\n",
       "      <td>forEach with Action1 but not Observer--I re-re...</td>\n",
       "      <td>diff --git a/language-adaptors/rxjava-groovy/s...</td>\n",
       "      <td>[1, 5, 122, 9, 10, 9, 4, 1, 5, 18, 2, 0, 0, 0,...</td>\n",
       "    </tr>\n",
       "    <tr>\n",
       "      <th>ponsonio</th>\n",
       "      <td>RxJava</td>\n",
       "      <td>191f023cf5253ea90647bc091dcaf55ccdce81cc</td>\n",
       "      <td>Corrective</td>\n",
       "      <td>1.x: Fix Completable swallows- OnErrorNotImple...</td>\n",
       "      <td>diff --git a/src/main/java/rx/Completable.java...</td>\n",
       "      <td>[1, 1, 0, 0, 0, 0, 0, 1, 21, 0, 0, 0, 0, 0, 0,...</td>\n",
       "    </tr>\n",
       "    <tr>\n",
       "      <th>...</th>\n",
       "      <td>...</td>\n",
       "      <td>...</td>\n",
       "      <td>...</td>\n",
       "      <td>...</td>\n",
       "      <td>...</td>\n",
       "      <td>...</td>\n",
       "    </tr>\n",
       "    <tr>\n",
       "      <th>jenkinsci</th>\n",
       "      <td>clearcase-plugin</td>\n",
       "      <td>51e9da224f80254476a7dc446bca817b505381d8</td>\n",
       "      <td>Perfective</td>\n",
       "      <td>Use a temporary file to decrease memory consum...</td>\n",
       "      <td>diff --git a/src/main/java/hudson/plugins/clea...</td>\n",
       "      <td>[2, 12, 0, 4, 1, 0, 1, 0, 0, 0, 0, 0, 0, 0, 0,...</td>\n",
       "    </tr>\n",
       "    <tr>\n",
       "      <th>jexp</th>\n",
       "      <td>batch-import</td>\n",
       "      <td>609d6c4b1eea2c33d9fb950fcbb9ba9dc1f80fc3</td>\n",
       "      <td>Perfective</td>\n",
       "      <td>added a more memory efficient structure for st...</td>\n",
       "      <td>diff --git a/src/main/java/org/neo4j/batchimpo...</td>\n",
       "      <td>[10, 159, 29, 35, 9, 2, 1, 5, 106, 0, 4, 8, 0,...</td>\n",
       "    </tr>\n",
       "    <tr>\n",
       "      <th>hdiv</th>\n",
       "      <td>hdiv</td>\n",
       "      <td>19b650c78a1c76f4fd90274d7f163f863c0d39e4</td>\n",
       "      <td>Perfective</td>\n",
       "      <td>Memory and performance optimizations</td>\n",
       "      <td>diff --git a/hdiv-config/src/main/java/org/hdi...</td>\n",
       "      <td>[31, 302, 131, 140, 170, 89, 53, 7, 88, 14, 17...</td>\n",
       "    </tr>\n",
       "    <tr>\n",
       "      <th>casidiablo</th>\n",
       "      <td>persistence</td>\n",
       "      <td>d7bf95159df37a3d338ca267dddd3d26b38ec37c</td>\n",
       "      <td>Perfective</td>\n",
       "      <td>Now it is possible to specify the sqlite open ...</td>\n",
       "      <td>diff --git a/pom.xml b/pom.xml\\nindex 394263b....</td>\n",
       "      <td>[5, 57, 20, 9, 21, 0, 0, 0, 0, 0, 0, 0, 0, 0, ...</td>\n",
       "    </tr>\n",
       "    <tr>\n",
       "      <th>jhy</th>\n",
       "      <td>jsoup</td>\n",
       "      <td>d6fd1637307f6b088eb226c3f979085725530f32</td>\n",
       "      <td>Perfective</td>\n",
       "      <td>Performance improvment for Element.text</td>\n",
       "      <td>diff --git a/src/main/java/org/jsoup/helper/St...</td>\n",
       "      <td>[3, 11, 11, 9, 13, 0, 0, 1, 0, 8, 0, 0, 1, 0, ...</td>\n",
       "    </tr>\n",
       "  </tbody>\n",
       "</table>\n",
       "<p>1781 rows × 6 columns</p>\n",
       "</div>"
      ],
      "text/plain": [
       "                        repo                                    commit  \\\n",
       "user                                                                     \n",
       "ponsonio              RxJava  0531b8bff5c14d9504beefb4ad47f473e3a22932   \n",
       "ponsonio              RxJava  0950c46beda335819928585f1262dfe1dca78a0b   \n",
       "ponsonio              RxJava  0f92fdd8e6422d5b79c610a7fd8409d222315a49   \n",
       "ponsonio              RxJava  100f571c9a2835d5a30a55374b9be74c147e031f   \n",
       "ponsonio              RxJava  191f023cf5253ea90647bc091dcaf55ccdce81cc   \n",
       "...                      ...                                       ...   \n",
       "jenkinsci   clearcase-plugin  51e9da224f80254476a7dc446bca817b505381d8   \n",
       "jexp            batch-import  609d6c4b1eea2c33d9fb950fcbb9ba9dc1f80fc3   \n",
       "hdiv                    hdiv  19b650c78a1c76f4fd90274d7f163f863c0d39e4   \n",
       "casidiablo       persistence  d7bf95159df37a3d338ca267dddd3d26b38ec37c   \n",
       "jhy                    jsoup  d6fd1637307f6b088eb226c3f979085725530f32   \n",
       "\n",
       "                 label                                               text  \\\n",
       "user                                                                        \n",
       "ponsonio    Perfective              Change hasException to hasThrowable--   \n",
       "ponsonio      Adaptive  Trying to extend the Scheduler interface accor...   \n",
       "ponsonio      Adaptive   RunAsync method for outputting multiple values--   \n",
       "ponsonio    Corrective  forEach with Action1 but not Observer--I re-re...   \n",
       "ponsonio    Corrective  1.x: Fix Completable swallows- OnErrorNotImple...   \n",
       "...                ...                                                ...   \n",
       "jenkinsci   Perfective  Use a temporary file to decrease memory consum...   \n",
       "jexp        Perfective  added a more memory efficient structure for st...   \n",
       "hdiv        Perfective               Memory and performance optimizations   \n",
       "casidiablo  Perfective  Now it is possible to specify the sqlite open ...   \n",
       "jhy         Perfective            Performance improvment for Element.text   \n",
       "\n",
       "                                                        diffs  \\\n",
       "user                                                            \n",
       "ponsonio    diff --git a/rxjava-core/src/main/java/rx/Noti...   \n",
       "ponsonio    diff --git a/rxjava-core/src/main/java/rx/Sche...   \n",
       "ponsonio    diff --git a/rxjava-contrib/rxjava-async-util/...   \n",
       "ponsonio    diff --git a/language-adaptors/rxjava-groovy/s...   \n",
       "ponsonio    diff --git a/src/main/java/rx/Completable.java...   \n",
       "...                                                       ...   \n",
       "jenkinsci   diff --git a/src/main/java/hudson/plugins/clea...   \n",
       "jexp        diff --git a/src/main/java/org/neo4j/batchimpo...   \n",
       "hdiv        diff --git a/hdiv-config/src/main/java/org/hdi...   \n",
       "casidiablo  diff --git a/pom.xml b/pom.xml\\nindex 394263b....   \n",
       "jhy         diff --git a/src/main/java/org/jsoup/helper/St...   \n",
       "\n",
       "                                                      feature  \n",
       "user                                                           \n",
       "ponsonio    [1, 0, 0, 4, 0, 0, 0, 0, 0, 0, 0, 0, 0, 0, 0, ...  \n",
       "ponsonio    [2, 44, 0, 0, 30, 0, 0, 1, 18, 0, 0, 0, 0, 0, ...  \n",
       "ponsonio    [2, 53, 0, 0, 42, 0, 0, 1, 45, 1, 0, 0, 0, 0, ...  \n",
       "ponsonio    [1, 5, 122, 9, 10, 9, 4, 1, 5, 18, 2, 0, 0, 0,...  \n",
       "ponsonio    [1, 1, 0, 0, 0, 0, 0, 1, 21, 0, 0, 0, 0, 0, 0,...  \n",
       "...                                                       ...  \n",
       "jenkinsci   [2, 12, 0, 4, 1, 0, 1, 0, 0, 0, 0, 0, 0, 0, 0,...  \n",
       "jexp        [10, 159, 29, 35, 9, 2, 1, 5, 106, 0, 4, 8, 0,...  \n",
       "hdiv        [31, 302, 131, 140, 170, 89, 53, 7, 88, 14, 17...  \n",
       "casidiablo  [5, 57, 20, 9, 21, 0, 0, 0, 0, 0, 0, 0, 0, 0, ...  \n",
       "jhy         [3, 11, 11, 9, 13, 0, 0, 1, 0, 8, 0, 0, 1, 0, ...  \n",
       "\n",
       "[1781 rows x 6 columns]"
      ]
     },
     "execution_count": 2,
     "metadata": {},
     "output_type": "execute_result"
    }
   ],
   "source": [
    "df = pd.read_csv(r'/root/autodl-tmp/CommitFit/dataset/Ghadhab/dataset.csv', index_col=0, encoding='utf_8_sig')\n",
    "# df.fillna('', inplace=True)\n",
    "label2id={'C':0, 'A':1, 'P':2}\n",
    "df = df.rename(columns={'labels':'label','msgs':'text','commit_diff':'diffs'})\n",
    "df = df.replace({\"label\": label2id})\n",
    "# # print(df)\n",
    "df\n",
    "# test_sample = df.sample(n=3, random_state=1)"
   ]
  },
  {
   "cell_type": "code",
   "execution_count": 3,
   "id": "26803da1-da52-48a7-8040-70914c05f2ea",
   "metadata": {
    "execution": {
     "iopub.execute_input": "2025-08-28T13:48:36.663511Z",
     "iopub.status.busy": "2025-08-28T13:48:36.663303Z",
     "iopub.status.idle": "2025-08-28T13:48:36.670557Z",
     "shell.execute_reply": "2025-08-28T13:48:36.669694Z",
     "shell.execute_reply.started": "2025-08-28T13:48:36.663490Z"
    }
   },
   "outputs": [],
   "source": [
    "train, temp_df = train_test_split(df, test_size=0.3, random_state=42)\n",
    "val, test = train_test_split(temp_df, test_size=0.5, random_state=42)"
   ]
  },
  {
   "cell_type": "code",
   "execution_count": 4,
   "id": "d705bd52-552a-464a-b018-a6db863b444a",
   "metadata": {
    "execution": {
     "iopub.execute_input": "2025-08-28T13:48:36.671745Z",
     "iopub.status.busy": "2025-08-28T13:48:36.671541Z",
     "iopub.status.idle": "2025-08-28T13:48:36.686990Z",
     "shell.execute_reply": "2025-08-28T13:48:36.686113Z",
     "shell.execute_reply.started": "2025-08-28T13:48:36.671724Z"
    }
   },
   "outputs": [
    {
     "name": "stderr",
     "output_type": "stream",
     "text": [
      "/tmp/ipykernel_5353/2882598814.py:1: DeprecationWarning: DataFrameGroupBy.apply operated on the grouping columns. This behavior is deprecated, and in a future version of pandas the grouping columns will be excluded from the operation. Either pass `include_groups=False` to exclude the groupings or explicitly select the grouping columns after groupby to silence this warning.\n",
      "  train = train.groupby(\"label\", group_keys=False).apply(lambda x: x.sample(n=5, random_state=42))\n"
     ]
    }
   ],
   "source": [
    "train = train.groupby(\"label\", group_keys=False).apply(lambda x: x.sample(n=5, random_state=42))"
   ]
  },
  {
   "cell_type": "code",
   "execution_count": 5,
   "id": "b9faed6f-6788-4505-960f-b2b37be4e85c",
   "metadata": {
    "execution": {
     "iopub.execute_input": "2025-08-28T13:48:36.688075Z",
     "iopub.status.busy": "2025-08-28T13:48:36.687878Z",
     "iopub.status.idle": "2025-08-28T13:48:36.691626Z",
     "shell.execute_reply": "2025-08-28T13:48:36.690850Z",
     "shell.execute_reply.started": "2025-08-28T13:48:36.688055Z"
    }
   },
   "outputs": [],
   "source": [
    "# train.to_csv('/root/autodl-tmp/CommitFit/dataset/Ghadhab/5_train.csv')\n",
    "# test.to_csv('/root/autodl-tmp/CommitFit/dataset/Ghadhab/test.csv')\n",
    "# val.to_csv('/root/autodl-tmp/CommitFit/dataset/Ghadhab/val.csv')\n",
    "\n",
    "# train.to_csv('/root/autodl-tmp/COLARE-main/dataset/Ghadhab/5_train.csv')\n",
    "# test.to_csv('/root/autodl-tmp/COLARE-main/dataset/Ghadhab/test.csv')\n",
    "# val.to_csv('/root/autodl-tmp/COLARE-main/dataset/Ghadhab/val.csv')"
   ]
  },
  {
   "cell_type": "code",
   "execution_count": 6,
   "id": "2e214dbb-075e-4fbf-adc9-f3533801587e",
   "metadata": {
    "execution": {
     "iopub.execute_input": "2025-08-28T13:48:36.694375Z",
     "iopub.status.busy": "2025-08-28T13:48:36.693691Z",
     "iopub.status.idle": "2025-08-28T13:48:36.771904Z",
     "shell.execute_reply": "2025-08-28T13:48:36.770491Z",
     "shell.execute_reply.started": "2025-08-28T13:48:36.694354Z"
    }
   },
   "outputs": [],
   "source": [
    "Dataset_train = Dataset.from_pandas(train)\n",
    "test_dataset = Dataset.from_pandas(test)"
   ]
  },
  {
   "cell_type": "code",
   "execution_count": 7,
   "id": "1a8ec7ec-1112-4140-8ccd-516ba9a1b1a8",
   "metadata": {
    "execution": {
     "iopub.execute_input": "2025-08-28T13:48:36.778617Z",
     "iopub.status.busy": "2025-08-28T13:48:36.776638Z",
     "iopub.status.idle": "2025-08-28T13:48:36.845944Z",
     "shell.execute_reply": "2025-08-28T13:48:36.845128Z",
     "shell.execute_reply.started": "2025-08-28T13:48:36.778572Z"
    }
   },
   "outputs": [],
   "source": [
    "train_dataset = get_templated_dataset(Dataset_train, candidate_labels=['Corrective','Adaptive','Perfective'], sample_size=8)"
   ]
  },
  {
   "cell_type": "code",
   "execution_count": 8,
   "id": "6af4102b-39bc-4b20-ab32-43800fb572bf",
   "metadata": {
    "execution": {
     "iopub.execute_input": "2025-08-28T13:48:36.847057Z",
     "iopub.status.busy": "2025-08-28T13:48:36.846859Z",
     "iopub.status.idle": "2025-08-28T13:48:36.851232Z",
     "shell.execute_reply": "2025-08-28T13:48:36.850436Z",
     "shell.execute_reply.started": "2025-08-28T13:48:36.847037Z"
    }
   },
   "outputs": [],
   "source": [
    "train_code_change = list(train['diffs'].astype(str))\n",
    "test_code_change = list(test['diffs'].astype(str))"
   ]
  },
  {
   "cell_type": "code",
   "execution_count": 9,
   "id": "c5ea76cd-69e5-4aa8-bf49-c9e746b63bbb",
   "metadata": {
    "execution": {
     "iopub.execute_input": "2025-08-28T13:48:36.852372Z",
     "iopub.status.busy": "2025-08-28T13:48:36.852181Z",
     "iopub.status.idle": "2025-08-28T13:48:36.857184Z",
     "shell.execute_reply": "2025-08-28T13:48:36.856422Z",
     "shell.execute_reply.started": "2025-08-28T13:48:36.852353Z"
    }
   },
   "outputs": [
    {
     "data": {
      "text/plain": [
       "Dataset({\n",
       "    features: ['repo', 'commit', 'label', 'text', 'diffs', 'feature', 'user'],\n",
       "    num_rows: 39\n",
       "})"
      ]
     },
     "execution_count": 9,
     "metadata": {},
     "output_type": "execute_result"
    }
   ],
   "source": [
    "# list(train['message'].astype(str).values)\n",
    "train_dataset"
   ]
  },
  {
   "cell_type": "code",
   "execution_count": 10,
   "id": "ee30affe-0ec9-46a3-bcaa-a1bd9422c939",
   "metadata": {
    "execution": {
     "iopub.execute_input": "2025-08-28T13:48:36.858142Z",
     "iopub.status.busy": "2025-08-28T13:48:36.857960Z",
     "iopub.status.idle": "2025-08-28T13:48:36.863030Z",
     "shell.execute_reply": "2025-08-28T13:48:36.862266Z",
     "shell.execute_reply.started": "2025-08-28T13:48:36.858123Z"
    }
   },
   "outputs": [
    {
     "data": {
      "text/plain": [
       "15"
      ]
     },
     "execution_count": 10,
     "metadata": {},
     "output_type": "execute_result"
    }
   ],
   "source": [
    "len(train)"
   ]
  },
  {
   "cell_type": "code",
   "execution_count": 11,
   "id": "84e38639-cf4b-4762-a1dc-cdc983938388",
   "metadata": {
    "execution": {
     "iopub.execute_input": "2025-08-28T13:48:36.864062Z",
     "iopub.status.busy": "2025-08-28T13:48:36.863874Z",
     "iopub.status.idle": "2025-08-28T13:48:36.870300Z",
     "shell.execute_reply": "2025-08-28T13:48:36.869516Z",
     "shell.execute_reply.started": "2025-08-28T13:48:36.864043Z"
    }
   },
   "outputs": [
    {
     "data": {
      "text/plain": [
       "label\n",
       "Adaptive      5\n",
       "Corrective    5\n",
       "Perfective    5\n",
       "Name: count, dtype: int64"
      ]
     },
     "execution_count": 11,
     "metadata": {},
     "output_type": "execute_result"
    }
   ],
   "source": [
    "train['label'].value_counts()"
   ]
  },
  {
   "cell_type": "code",
   "execution_count": 12,
   "id": "3cf6c110-616d-45da-aa2e-4a5add26b3c0",
   "metadata": {
    "execution": {
     "iopub.execute_input": "2025-08-28T13:48:36.871364Z",
     "iopub.status.busy": "2025-08-28T13:48:36.871173Z",
     "iopub.status.idle": "2025-08-28T13:48:36.877278Z",
     "shell.execute_reply": "2025-08-28T13:48:36.876485Z",
     "shell.execute_reply.started": "2025-08-28T13:48:36.871344Z"
    }
   },
   "outputs": [
    {
     "data": {
      "text/plain": [
       "label\n",
       "Perfective    100\n",
       "Corrective     89\n",
       "Adaptive       79\n",
       "Name: count, dtype: int64"
      ]
     },
     "execution_count": 12,
     "metadata": {},
     "output_type": "execute_result"
    }
   ],
   "source": [
    "test['label'].value_counts()"
   ]
  },
  {
   "cell_type": "code",
   "execution_count": 13,
   "id": "77117d87-5292-48f5-b077-74b47ccfd5eb",
   "metadata": {
    "execution": {
     "iopub.execute_input": "2025-08-28T13:48:36.878334Z",
     "iopub.status.busy": "2025-08-28T13:48:36.878140Z",
     "iopub.status.idle": "2025-08-28T13:48:36.882971Z",
     "shell.execute_reply": "2025-08-28T13:48:36.882209Z",
     "shell.execute_reply.started": "2025-08-28T13:48:36.878315Z"
    }
   },
   "outputs": [
    {
     "data": {
      "text/plain": [
       "39"
      ]
     },
     "execution_count": 13,
     "metadata": {},
     "output_type": "execute_result"
    }
   ],
   "source": [
    "len(train_dataset)"
   ]
  },
  {
   "cell_type": "code",
   "execution_count": 14,
   "id": "dca6275a-a567-4963-831c-8dd653341162",
   "metadata": {
    "execution": {
     "iopub.execute_input": "2025-08-28T13:48:36.884027Z",
     "iopub.status.busy": "2025-08-28T13:48:36.883838Z",
     "iopub.status.idle": "2025-08-28T13:48:36.889646Z",
     "shell.execute_reply": "2025-08-28T13:48:36.888845Z",
     "shell.execute_reply.started": "2025-08-28T13:48:36.884008Z"
    }
   },
   "outputs": [],
   "source": [
    "from sklearn import  metrics\n",
    "\n",
    "def compute_metrics(y_pred, y_test):\n",
    "    # print(y_pred,y_test)\n",
    "    # classification_report = metrics.classification_report(y_test,y_pred)\n",
    "    accuracy_score = metrics.accuracy_score(y_test,y_pred)\n",
    "    precision_score = metrics.precision_score(y_test,y_pred, average='macro')\n",
    "    recall_score = metrics.recall_score(y_test,y_pred,average='macro')\n",
    "    f1_score = metrics.f1_score(y_test,y_pred,average='macro')\n",
    "    \n",
    "    # 混淆矩阵\n",
    "    cm = metrics.confusion_matrix(y_test, y_pred)\n",
    "    print(\"Confusion Matrix:\\n\", cm)\n",
    "    print(metrics.classification_report(y_test, y_pred, digits=4))\n",
    "    # return {\"classification_report\": classification_report}\n",
    "    return {\"classification_report\":metrics.classification_report(y_test, y_pred, digits=4),\"Confusion Matrix\":cm,\"precision\": round(precision_score, 4),\"recall\": round(recall_score, 4), \"f1\":round(f1_score, 4), \"accuracy\": round(accuracy_score, 4)}"
   ]
  },
  {
   "cell_type": "code",
   "execution_count": 15,
   "id": "49e32d66-2fc2-4a53-bae1-13f8d67c5b6f",
   "metadata": {
    "execution": {
     "iopub.execute_input": "2025-08-28T13:48:36.890698Z",
     "iopub.status.busy": "2025-08-28T13:48:36.890507Z",
     "iopub.status.idle": "2025-08-28T13:48:36.895374Z",
     "shell.execute_reply": "2025-08-28T13:48:36.894607Z",
     "shell.execute_reply.started": "2025-08-28T13:48:36.890679Z"
    }
   },
   "outputs": [
    {
     "data": {
      "text/plain": [
       "Dataset({\n",
       "    features: ['repo', 'commit', 'label', 'text', 'diffs', 'feature', 'user'],\n",
       "    num_rows: 39\n",
       "})"
      ]
     },
     "execution_count": 15,
     "metadata": {},
     "output_type": "execute_result"
    }
   ],
   "source": [
    "train_dataset"
   ]
  },
  {
   "cell_type": "code",
   "execution_count": 16,
   "id": "d9ede869-1587-4e42-8879-e819e5961dca",
   "metadata": {
    "execution": {
     "iopub.execute_input": "2025-08-28T13:48:36.896384Z",
     "iopub.status.busy": "2025-08-28T13:48:36.896197Z",
     "iopub.status.idle": "2025-08-28T13:48:36.899694Z",
     "shell.execute_reply": "2025-08-28T13:48:36.898921Z",
     "shell.execute_reply.started": "2025-08-28T13:48:36.896365Z"
    }
   },
   "outputs": [],
   "source": [
    "model_id = \"../../sentence-transformers/paraphrase-mpnet-base-v2\""
   ]
  },
  {
   "cell_type": "code",
   "execution_count": 17,
   "id": "a6501389-0c86-442d-85cf-f04ad146703f",
   "metadata": {
    "execution": {
     "iopub.execute_input": "2025-08-28T13:48:36.900676Z",
     "iopub.status.busy": "2025-08-28T13:48:36.900494Z",
     "iopub.status.idle": "2025-08-28T13:48:36.906401Z",
     "shell.execute_reply": "2025-08-28T13:48:36.905379Z",
     "shell.execute_reply.started": "2025-08-28T13:48:36.900656Z"
    }
   },
   "outputs": [],
   "source": [
    "def hp_space(trial: Trial) -> Dict[str, Union[float, int, str]]:\n",
    "    return {\n",
    "        \"learning_rate\": trial.suggest_float(\"learning_rate\", 1e-6, 1e-3, log=True),\n",
    "        # \"num_epochs\": trial.suggest_int(\"num_epochs\", 1, 3),\n",
    "        # \"batch_size\": trial.suggest_categorical(\"batch_size\", [8, 12, 16]),\n",
    "        # \"seed\": trial.suggest_int(\"seed\", 1, 40),\n",
    "        # \"num_iterations\": trial.suggest_int(\"num_iterations\", 10, 20),\n",
    "        # \"solver\": trial.suggest_categorical(\"solver\", [\"newton-cg\", \"lbfgs\", \"liblinear\"]),\n",
    "    }\n",
    "def model_init(params: Dict[str, Any]) -> CommitFitModel:\n",
    "    params = params or {}\n",
    "    # learning_rate = params.get(\"learning_rate\")\n",
    "    # num_iterations = params.get(\"num_iterations\", 20)\n",
    "    # solver = params.get(\"solver\", \"liblinear\")\n",
    "    # params = {\n",
    "    #     \"head_params\": {\n",
    "    #         # \"max_iter\": num_iterations,\n",
    "    #         # \"solver\": solver,\n",
    "    #     }\n",
    "    # }\n",
    "    return CommitFitModel.from_pretrained(model_id, **params)\n",
    "def my_compute_objective(metrics):\n",
    "    print('+++++++++++',metrics)\n",
    "    return  metrics['accuracy']"
   ]
  },
  {
   "cell_type": "code",
   "execution_count": 18,
   "id": "2244f079-c2b8-4e01-aca4-f68e7ce8accb",
   "metadata": {
    "execution": {
     "iopub.execute_input": "2025-08-28T13:48:36.909607Z",
     "iopub.status.busy": "2025-08-28T13:48:36.909351Z",
     "iopub.status.idle": "2025-08-28T13:51:20.657993Z",
     "shell.execute_reply": "2025-08-28T13:51:20.657058Z",
     "shell.execute_reply.started": "2025-08-28T13:48:36.909583Z"
    }
   },
   "outputs": [
    {
     "name": "stderr",
     "output_type": "stream",
     "text": [
      "model_head.pkl not found in /root/autodl-tmp/CommitFit/sentence-transformers/paraphrase-mpnet-base-v2, initialising classification head with random weights. You should TRAIN this model on a downstream task to use it for predictions and inference.\n",
      "[I 2025-08-28 21:48:38,138] A new study created in memory with name: no-name-174458bd-6276-410e-b7ab-5def0506e03d\n",
      "Trial: {'learning_rate': 0.00042624742897386315}\n",
      "model_head.pkl not found in /root/autodl-tmp/CommitFit/sentence-transformers/paraphrase-mpnet-base-v2, initialising classification head with random weights. You should TRAIN this model on a downstream task to use it for predictions and inference.\n"
     ]
    },
    {
     "data": {
      "application/vnd.jupyter.widget-view+json": {
       "model_id": "d38250362baa42d6a87fa11fb7bdf59c",
       "version_major": 2,
       "version_minor": 0
      },
      "text/plain": [
       "Generating Training Pairs:   0%|          | 0/20 [00:00<?, ?it/s]"
      ]
     },
     "metadata": {},
     "output_type": "display_data"
    },
    {
     "name": "stderr",
     "output_type": "stream",
     "text": [
      "***** Running training *****\n",
      "  Num examples = 1560\n",
      "  Num epochs = 1\n",
      "  Total optimization steps = 98\n",
      "  Total train batch size = 16\n"
     ]
    },
    {
     "data": {
      "application/vnd.jupyter.widget-view+json": {
       "model_id": "d825c23062f5419a9cb0f854bec4d0cf",
       "version_major": 2,
       "version_minor": 0
      },
      "text/plain": [
       "Epoch:   0%|          | 0/1 [00:00<?, ?it/s]"
      ]
     },
     "metadata": {},
     "output_type": "display_data"
    },
    {
     "data": {
      "application/vnd.jupyter.widget-view+json": {
       "model_id": "02d699219849451087b29478e170ae6a",
       "version_major": 2,
       "version_minor": 0
      },
      "text/plain": [
       "Iteration:   0%|          | 0/98 [00:00<?, ?it/s]"
      ]
     },
     "metadata": {},
     "output_type": "display_data"
    },
    {
     "name": "stderr",
     "output_type": "stream",
     "text": [
      "***** Running evaluation *****\n",
      "/root/miniconda3/lib/python3.10/site-packages/sklearn/metrics/_classification.py:1531: UndefinedMetricWarning: Precision is ill-defined and being set to 0.0 in labels with no predicted samples. Use `zero_division` parameter to control this behavior.\n",
      "  _warn_prf(average, modifier, f\"{metric.capitalize()} is\", len(result))\n",
      "/root/miniconda3/lib/python3.10/site-packages/sklearn/metrics/_classification.py:1531: UndefinedMetricWarning: Precision is ill-defined and being set to 0.0 in labels with no predicted samples. Use `zero_division` parameter to control this behavior.\n",
      "  _warn_prf(average, modifier, f\"{metric.capitalize()} is\", len(result))\n",
      "/root/miniconda3/lib/python3.10/site-packages/sklearn/metrics/_classification.py:1531: UndefinedMetricWarning: Precision is ill-defined and being set to 0.0 in labels with no predicted samples. Use `zero_division` parameter to control this behavior.\n",
      "  _warn_prf(average, modifier, f\"{metric.capitalize()} is\", len(result))\n",
      "/root/miniconda3/lib/python3.10/site-packages/sklearn/metrics/_classification.py:1531: UndefinedMetricWarning: Precision is ill-defined and being set to 0.0 in labels with no predicted samples. Use `zero_division` parameter to control this behavior.\n",
      "  _warn_prf(average, modifier, f\"{metric.capitalize()} is\", len(result))\n",
      "/root/miniconda3/lib/python3.10/site-packages/sklearn/metrics/_classification.py:1531: UndefinedMetricWarning: Precision is ill-defined and being set to 0.0 in labels with no predicted samples. Use `zero_division` parameter to control this behavior.\n",
      "  _warn_prf(average, modifier, f\"{metric.capitalize()} is\", len(result))\n",
      "/root/miniconda3/lib/python3.10/site-packages/sklearn/metrics/_classification.py:1531: UndefinedMetricWarning: Precision is ill-defined and being set to 0.0 in labels with no predicted samples. Use `zero_division` parameter to control this behavior.\n",
      "  _warn_prf(average, modifier, f\"{metric.capitalize()} is\", len(result))\n",
      "/root/miniconda3/lib/python3.10/site-packages/sklearn/metrics/_classification.py:1531: UndefinedMetricWarning: Precision is ill-defined and being set to 0.0 in labels with no predicted samples. Use `zero_division` parameter to control this behavior.\n",
      "  _warn_prf(average, modifier, f\"{metric.capitalize()} is\", len(result))\n",
      "[I 2025-08-28 21:48:55,561] Trial 0 finished with value: 0.3955 and parameters: {'learning_rate': 0.00042624742897386315}. Best is trial 0 with value: 0.3955.\n",
      "Trial: {'learning_rate': 8.149349746090063e-05}\n"
     ]
    },
    {
     "name": "stdout",
     "output_type": "stream",
     "text": [
      "Confusion Matrix:\n",
      " [[ 0 24 55]\n",
      " [ 0 37 52]\n",
      " [ 0 31 69]]\n",
      "              precision    recall  f1-score   support\n",
      "\n",
      "    Adaptive     0.0000    0.0000    0.0000        79\n",
      "  Corrective     0.4022    0.4157    0.4088        89\n",
      "  Perfective     0.3920    0.6900    0.5000       100\n",
      "\n",
      "    accuracy                         0.3955       268\n",
      "   macro avg     0.2647    0.3686    0.3029       268\n",
      "weighted avg     0.2798    0.3955    0.3223       268\n",
      "\n",
      "+++++++++++ {'classification_report': '              precision    recall  f1-score   support\\n\\n    Adaptive     0.0000    0.0000    0.0000        79\\n  Corrective     0.4022    0.4157    0.4088        89\\n  Perfective     0.3920    0.6900    0.5000       100\\n\\n    accuracy                         0.3955       268\\n   macro avg     0.2647    0.3686    0.3029       268\\nweighted avg     0.2798    0.3955    0.3223       268\\n', 'Confusion Matrix': array([[ 0, 24, 55],\n",
      "       [ 0, 37, 52],\n",
      "       [ 0, 31, 69]]), 'precision': 0.2647, 'recall': 0.3686, 'f1': 0.3029, 'accuracy': 0.3955}\n"
     ]
    },
    {
     "name": "stderr",
     "output_type": "stream",
     "text": [
      "model_head.pkl not found in /root/autodl-tmp/CommitFit/sentence-transformers/paraphrase-mpnet-base-v2, initialising classification head with random weights. You should TRAIN this model on a downstream task to use it for predictions and inference.\n"
     ]
    },
    {
     "data": {
      "application/vnd.jupyter.widget-view+json": {
       "model_id": "980341b6344642758e0f87ecfa755cc9",
       "version_major": 2,
       "version_minor": 0
      },
      "text/plain": [
       "Generating Training Pairs:   0%|          | 0/20 [00:00<?, ?it/s]"
      ]
     },
     "metadata": {},
     "output_type": "display_data"
    },
    {
     "name": "stderr",
     "output_type": "stream",
     "text": [
      "***** Running training *****\n",
      "  Num examples = 1560\n",
      "  Num epochs = 1\n",
      "  Total optimization steps = 98\n",
      "  Total train batch size = 16\n"
     ]
    },
    {
     "data": {
      "application/vnd.jupyter.widget-view+json": {
       "model_id": "23886bec9513418dbb9dfb2e3a5cea26",
       "version_major": 2,
       "version_minor": 0
      },
      "text/plain": [
       "Epoch:   0%|          | 0/1 [00:00<?, ?it/s]"
      ]
     },
     "metadata": {},
     "output_type": "display_data"
    },
    {
     "data": {
      "application/vnd.jupyter.widget-view+json": {
       "model_id": "c7c62438435c4ad499e60f11a6f78c50",
       "version_major": 2,
       "version_minor": 0
      },
      "text/plain": [
       "Iteration:   0%|          | 0/98 [00:00<?, ?it/s]"
      ]
     },
     "metadata": {},
     "output_type": "display_data"
    },
    {
     "name": "stderr",
     "output_type": "stream",
     "text": [
      "***** Running evaluation *****\n",
      "[I 2025-08-28 21:49:11,875] Trial 1 finished with value: 0.7052 and parameters: {'learning_rate': 8.149349746090063e-05}. Best is trial 1 with value: 0.7052.\n",
      "Trial: {'learning_rate': 7.839217735825806e-05}\n"
     ]
    },
    {
     "name": "stdout",
     "output_type": "stream",
     "text": [
      "Confusion Matrix:\n",
      " [[48  7 24]\n",
      " [ 9 68 12]\n",
      " [19  8 73]]\n",
      "              precision    recall  f1-score   support\n",
      "\n",
      "    Adaptive     0.6316    0.6076    0.6194        79\n",
      "  Corrective     0.8193    0.7640    0.7907        89\n",
      "  Perfective     0.6697    0.7300    0.6986       100\n",
      "\n",
      "    accuracy                         0.7052       268\n",
      "   macro avg     0.7069    0.7005    0.7029       268\n",
      "weighted avg     0.7081    0.7052    0.7058       268\n",
      "\n",
      "+++++++++++ {'classification_report': '              precision    recall  f1-score   support\\n\\n    Adaptive     0.6316    0.6076    0.6194        79\\n  Corrective     0.8193    0.7640    0.7907        89\\n  Perfective     0.6697    0.7300    0.6986       100\\n\\n    accuracy                         0.7052       268\\n   macro avg     0.7069    0.7005    0.7029       268\\nweighted avg     0.7081    0.7052    0.7058       268\\n', 'Confusion Matrix': array([[48,  7, 24],\n",
      "       [ 9, 68, 12],\n",
      "       [19,  8, 73]]), 'precision': 0.7069, 'recall': 0.7005, 'f1': 0.7029, 'accuracy': 0.7052}\n"
     ]
    },
    {
     "name": "stderr",
     "output_type": "stream",
     "text": [
      "model_head.pkl not found in /root/autodl-tmp/CommitFit/sentence-transformers/paraphrase-mpnet-base-v2, initialising classification head with random weights. You should TRAIN this model on a downstream task to use it for predictions and inference.\n"
     ]
    },
    {
     "data": {
      "application/vnd.jupyter.widget-view+json": {
       "model_id": "d617d6d0f0544c1987a31dfa641cbd7d",
       "version_major": 2,
       "version_minor": 0
      },
      "text/plain": [
       "Generating Training Pairs:   0%|          | 0/20 [00:00<?, ?it/s]"
      ]
     },
     "metadata": {},
     "output_type": "display_data"
    },
    {
     "name": "stderr",
     "output_type": "stream",
     "text": [
      "***** Running training *****\n",
      "  Num examples = 1560\n",
      "  Num epochs = 1\n",
      "  Total optimization steps = 98\n",
      "  Total train batch size = 16\n"
     ]
    },
    {
     "data": {
      "application/vnd.jupyter.widget-view+json": {
       "model_id": "a79c9ee0554d41eab7ab5c0461d5bca9",
       "version_major": 2,
       "version_minor": 0
      },
      "text/plain": [
       "Epoch:   0%|          | 0/1 [00:00<?, ?it/s]"
      ]
     },
     "metadata": {},
     "output_type": "display_data"
    },
    {
     "data": {
      "application/vnd.jupyter.widget-view+json": {
       "model_id": "fb7f8a207a334554b31f485944722464",
       "version_major": 2,
       "version_minor": 0
      },
      "text/plain": [
       "Iteration:   0%|          | 0/98 [00:00<?, ?it/s]"
      ]
     },
     "metadata": {},
     "output_type": "display_data"
    },
    {
     "name": "stderr",
     "output_type": "stream",
     "text": [
      "***** Running evaluation *****\n",
      "[I 2025-08-28 21:49:28,281] Trial 2 finished with value: 0.6978 and parameters: {'learning_rate': 7.839217735825806e-05}. Best is trial 1 with value: 0.7052.\n",
      "Trial: {'learning_rate': 1.9135728293266137e-05}\n"
     ]
    },
    {
     "name": "stdout",
     "output_type": "stream",
     "text": [
      "Confusion Matrix:\n",
      " [[49  6 24]\n",
      " [ 8 65 16]\n",
      " [19  8 73]]\n",
      "              precision    recall  f1-score   support\n",
      "\n",
      "    Adaptive     0.6447    0.6203    0.6323        79\n",
      "  Corrective     0.8228    0.7303    0.7738        89\n",
      "  Perfective     0.6460    0.7300    0.6854       100\n",
      "\n",
      "    accuracy                         0.6978       268\n",
      "   macro avg     0.7045    0.6935    0.6972       268\n",
      "weighted avg     0.7043    0.6978    0.6991       268\n",
      "\n",
      "+++++++++++ {'classification_report': '              precision    recall  f1-score   support\\n\\n    Adaptive     0.6447    0.6203    0.6323        79\\n  Corrective     0.8228    0.7303    0.7738        89\\n  Perfective     0.6460    0.7300    0.6854       100\\n\\n    accuracy                         0.6978       268\\n   macro avg     0.7045    0.6935    0.6972       268\\nweighted avg     0.7043    0.6978    0.6991       268\\n', 'Confusion Matrix': array([[49,  6, 24],\n",
      "       [ 8, 65, 16],\n",
      "       [19,  8, 73]]), 'precision': 0.7045, 'recall': 0.6935, 'f1': 0.6972, 'accuracy': 0.6978}\n"
     ]
    },
    {
     "name": "stderr",
     "output_type": "stream",
     "text": [
      "model_head.pkl not found in /root/autodl-tmp/CommitFit/sentence-transformers/paraphrase-mpnet-base-v2, initialising classification head with random weights. You should TRAIN this model on a downstream task to use it for predictions and inference.\n"
     ]
    },
    {
     "data": {
      "application/vnd.jupyter.widget-view+json": {
       "model_id": "4d9cb43acdf049d8a25901da39cc0c16",
       "version_major": 2,
       "version_minor": 0
      },
      "text/plain": [
       "Generating Training Pairs:   0%|          | 0/20 [00:00<?, ?it/s]"
      ]
     },
     "metadata": {},
     "output_type": "display_data"
    },
    {
     "name": "stderr",
     "output_type": "stream",
     "text": [
      "***** Running training *****\n",
      "  Num examples = 1560\n",
      "  Num epochs = 1\n",
      "  Total optimization steps = 98\n",
      "  Total train batch size = 16\n"
     ]
    },
    {
     "data": {
      "application/vnd.jupyter.widget-view+json": {
       "model_id": "43defceaf8b54ab7ba712c2b197c5c01",
       "version_major": 2,
       "version_minor": 0
      },
      "text/plain": [
       "Epoch:   0%|          | 0/1 [00:00<?, ?it/s]"
      ]
     },
     "metadata": {},
     "output_type": "display_data"
    },
    {
     "data": {
      "application/vnd.jupyter.widget-view+json": {
       "model_id": "183b3010f0b44f21b9030b2211999ea1",
       "version_major": 2,
       "version_minor": 0
      },
      "text/plain": [
       "Iteration:   0%|          | 0/98 [00:00<?, ?it/s]"
      ]
     },
     "metadata": {},
     "output_type": "display_data"
    },
    {
     "name": "stderr",
     "output_type": "stream",
     "text": [
      "***** Running evaluation *****\n",
      "[I 2025-08-28 21:49:44,375] Trial 3 finished with value: 0.6716 and parameters: {'learning_rate': 1.9135728293266137e-05}. Best is trial 1 with value: 0.7052.\n",
      "Trial: {'learning_rate': 3.503634476721935e-05}\n"
     ]
    },
    {
     "name": "stdout",
     "output_type": "stream",
     "text": [
      "Confusion Matrix:\n",
      " [[54 10 15]\n",
      " [19 63  7]\n",
      " [32  5 63]]\n",
      "              precision    recall  f1-score   support\n",
      "\n",
      "    Adaptive     0.5143    0.6835    0.5870        79\n",
      "  Corrective     0.8077    0.7079    0.7545        89\n",
      "  Perfective     0.7412    0.6300    0.6811       100\n",
      "\n",
      "    accuracy                         0.6716       268\n",
      "   macro avg     0.6877    0.6738    0.6742       268\n",
      "weighted avg     0.6964    0.6716    0.6777       268\n",
      "\n",
      "+++++++++++ {'classification_report': '              precision    recall  f1-score   support\\n\\n    Adaptive     0.5143    0.6835    0.5870        79\\n  Corrective     0.8077    0.7079    0.7545        89\\n  Perfective     0.7412    0.6300    0.6811       100\\n\\n    accuracy                         0.6716       268\\n   macro avg     0.6877    0.6738    0.6742       268\\nweighted avg     0.6964    0.6716    0.6777       268\\n', 'Confusion Matrix': array([[54, 10, 15],\n",
      "       [19, 63,  7],\n",
      "       [32,  5, 63]]), 'precision': 0.6877, 'recall': 0.6738, 'f1': 0.6742, 'accuracy': 0.6716}\n"
     ]
    },
    {
     "name": "stderr",
     "output_type": "stream",
     "text": [
      "model_head.pkl not found in /root/autodl-tmp/CommitFit/sentence-transformers/paraphrase-mpnet-base-v2, initialising classification head with random weights. You should TRAIN this model on a downstream task to use it for predictions and inference.\n"
     ]
    },
    {
     "data": {
      "application/vnd.jupyter.widget-view+json": {
       "model_id": "836b611366184dd3a9c709e47c6ddfdd",
       "version_major": 2,
       "version_minor": 0
      },
      "text/plain": [
       "Generating Training Pairs:   0%|          | 0/20 [00:00<?, ?it/s]"
      ]
     },
     "metadata": {},
     "output_type": "display_data"
    },
    {
     "name": "stderr",
     "output_type": "stream",
     "text": [
      "***** Running training *****\n",
      "  Num examples = 1560\n",
      "  Num epochs = 1\n",
      "  Total optimization steps = 98\n",
      "  Total train batch size = 16\n"
     ]
    },
    {
     "data": {
      "application/vnd.jupyter.widget-view+json": {
       "model_id": "fc8e87d7353a409bb31294d9d927ba7c",
       "version_major": 2,
       "version_minor": 0
      },
      "text/plain": [
       "Epoch:   0%|          | 0/1 [00:00<?, ?it/s]"
      ]
     },
     "metadata": {},
     "output_type": "display_data"
    },
    {
     "data": {
      "application/vnd.jupyter.widget-view+json": {
       "model_id": "212cbee416fc40489bc6b324725909fc",
       "version_major": 2,
       "version_minor": 0
      },
      "text/plain": [
       "Iteration:   0%|          | 0/98 [00:00<?, ?it/s]"
      ]
     },
     "metadata": {},
     "output_type": "display_data"
    },
    {
     "name": "stderr",
     "output_type": "stream",
     "text": [
      "***** Running evaluation *****\n",
      "[I 2025-08-28 21:50:00,329] Trial 4 finished with value: 0.6791 and parameters: {'learning_rate': 3.503634476721935e-05}. Best is trial 1 with value: 0.7052.\n",
      "Trial: {'learning_rate': 1.1673895265446174e-06}\n"
     ]
    },
    {
     "name": "stdout",
     "output_type": "stream",
     "text": [
      "Confusion Matrix:\n",
      " [[50 10 19]\n",
      " [ 9 68 12]\n",
      " [30  6 64]]\n",
      "              precision    recall  f1-score   support\n",
      "\n",
      "    Adaptive     0.5618    0.6329    0.5952        79\n",
      "  Corrective     0.8095    0.7640    0.7861        89\n",
      "  Perfective     0.6737    0.6400    0.6564       100\n",
      "\n",
      "    accuracy                         0.6791       268\n",
      "   macro avg     0.6817    0.6790    0.6793       268\n",
      "weighted avg     0.6858    0.6791    0.6815       268\n",
      "\n",
      "+++++++++++ {'classification_report': '              precision    recall  f1-score   support\\n\\n    Adaptive     0.5618    0.6329    0.5952        79\\n  Corrective     0.8095    0.7640    0.7861        89\\n  Perfective     0.6737    0.6400    0.6564       100\\n\\n    accuracy                         0.6791       268\\n   macro avg     0.6817    0.6790    0.6793       268\\nweighted avg     0.6858    0.6791    0.6815       268\\n', 'Confusion Matrix': array([[50, 10, 19],\n",
      "       [ 9, 68, 12],\n",
      "       [30,  6, 64]]), 'precision': 0.6817, 'recall': 0.679, 'f1': 0.6793, 'accuracy': 0.6791}\n"
     ]
    },
    {
     "name": "stderr",
     "output_type": "stream",
     "text": [
      "model_head.pkl not found in /root/autodl-tmp/CommitFit/sentence-transformers/paraphrase-mpnet-base-v2, initialising classification head with random weights. You should TRAIN this model on a downstream task to use it for predictions and inference.\n"
     ]
    },
    {
     "data": {
      "application/vnd.jupyter.widget-view+json": {
       "model_id": "9a8d1def2892452ebd11fa2b0fe4016b",
       "version_major": 2,
       "version_minor": 0
      },
      "text/plain": [
       "Generating Training Pairs:   0%|          | 0/20 [00:00<?, ?it/s]"
      ]
     },
     "metadata": {},
     "output_type": "display_data"
    },
    {
     "name": "stderr",
     "output_type": "stream",
     "text": [
      "***** Running training *****\n",
      "  Num examples = 1560\n",
      "  Num epochs = 1\n",
      "  Total optimization steps = 98\n",
      "  Total train batch size = 16\n"
     ]
    },
    {
     "data": {
      "application/vnd.jupyter.widget-view+json": {
       "model_id": "170425c0b2134d1cae557650c351a4fc",
       "version_major": 2,
       "version_minor": 0
      },
      "text/plain": [
       "Epoch:   0%|          | 0/1 [00:00<?, ?it/s]"
      ]
     },
     "metadata": {},
     "output_type": "display_data"
    },
    {
     "data": {
      "application/vnd.jupyter.widget-view+json": {
       "model_id": "6a3dc8ab67134013bb5ff22a9014059d",
       "version_major": 2,
       "version_minor": 0
      },
      "text/plain": [
       "Iteration:   0%|          | 0/98 [00:00<?, ?it/s]"
      ]
     },
     "metadata": {},
     "output_type": "display_data"
    },
    {
     "name": "stderr",
     "output_type": "stream",
     "text": [
      "***** Running evaluation *****\n",
      "[I 2025-08-28 21:50:16,508] Trial 5 finished with value: 0.597 and parameters: {'learning_rate': 1.1673895265446174e-06}. Best is trial 1 with value: 0.7052.\n",
      "Trial: {'learning_rate': 3.939368518447774e-05}\n"
     ]
    },
    {
     "name": "stdout",
     "output_type": "stream",
     "text": [
      "Confusion Matrix:\n",
      " [[41 16 22]\n",
      " [11 53 25]\n",
      " [19 15 66]]\n",
      "              precision    recall  f1-score   support\n",
      "\n",
      "    Adaptive     0.5775    0.5190    0.5467        79\n",
      "  Corrective     0.6310    0.5955    0.6127        89\n",
      "  Perfective     0.5841    0.6600    0.6197       100\n",
      "\n",
      "    accuracy                         0.5970       268\n",
      "   macro avg     0.5975    0.5915    0.5930       268\n",
      "weighted avg     0.5977    0.5970    0.5959       268\n",
      "\n",
      "+++++++++++ {'classification_report': '              precision    recall  f1-score   support\\n\\n    Adaptive     0.5775    0.5190    0.5467        79\\n  Corrective     0.6310    0.5955    0.6127        89\\n  Perfective     0.5841    0.6600    0.6197       100\\n\\n    accuracy                         0.5970       268\\n   macro avg     0.5975    0.5915    0.5930       268\\nweighted avg     0.5977    0.5970    0.5959       268\\n', 'Confusion Matrix': array([[41, 16, 22],\n",
      "       [11, 53, 25],\n",
      "       [19, 15, 66]]), 'precision': 0.5975, 'recall': 0.5915, 'f1': 0.593, 'accuracy': 0.597}\n"
     ]
    },
    {
     "name": "stderr",
     "output_type": "stream",
     "text": [
      "model_head.pkl not found in /root/autodl-tmp/CommitFit/sentence-transformers/paraphrase-mpnet-base-v2, initialising classification head with random weights. You should TRAIN this model on a downstream task to use it for predictions and inference.\n"
     ]
    },
    {
     "data": {
      "application/vnd.jupyter.widget-view+json": {
       "model_id": "97f74be62c9543d2acd48e68810c97b1",
       "version_major": 2,
       "version_minor": 0
      },
      "text/plain": [
       "Generating Training Pairs:   0%|          | 0/20 [00:00<?, ?it/s]"
      ]
     },
     "metadata": {},
     "output_type": "display_data"
    },
    {
     "name": "stderr",
     "output_type": "stream",
     "text": [
      "***** Running training *****\n",
      "  Num examples = 1560\n",
      "  Num epochs = 1\n",
      "  Total optimization steps = 98\n",
      "  Total train batch size = 16\n"
     ]
    },
    {
     "data": {
      "application/vnd.jupyter.widget-view+json": {
       "model_id": "a5ad4e9bbdea4727aabb3ea297d340df",
       "version_major": 2,
       "version_minor": 0
      },
      "text/plain": [
       "Epoch:   0%|          | 0/1 [00:00<?, ?it/s]"
      ]
     },
     "metadata": {},
     "output_type": "display_data"
    },
    {
     "data": {
      "application/vnd.jupyter.widget-view+json": {
       "model_id": "718d2ad0be5f416881a62e8be37cc895",
       "version_major": 2,
       "version_minor": 0
      },
      "text/plain": [
       "Iteration:   0%|          | 0/98 [00:00<?, ?it/s]"
      ]
     },
     "metadata": {},
     "output_type": "display_data"
    },
    {
     "name": "stderr",
     "output_type": "stream",
     "text": [
      "***** Running evaluation *****\n",
      "[I 2025-08-28 21:50:32,697] Trial 6 finished with value: 0.6791 and parameters: {'learning_rate': 3.939368518447774e-05}. Best is trial 1 with value: 0.7052.\n",
      "Trial: {'learning_rate': 1.499936577942681e-05}\n"
     ]
    },
    {
     "name": "stdout",
     "output_type": "stream",
     "text": [
      "Confusion Matrix:\n",
      " [[49 10 20]\n",
      " [ 9 67 13]\n",
      " [28  6 66]]\n",
      "              precision    recall  f1-score   support\n",
      "\n",
      "    Adaptive     0.5698    0.6203    0.5939        79\n",
      "  Corrective     0.8072    0.7528    0.7791        89\n",
      "  Perfective     0.6667    0.6600    0.6633       100\n",
      "\n",
      "    accuracy                         0.6791       268\n",
      "   macro avg     0.6812    0.6777    0.6788       268\n",
      "weighted avg     0.6848    0.6791    0.6813       268\n",
      "\n",
      "+++++++++++ {'classification_report': '              precision    recall  f1-score   support\\n\\n    Adaptive     0.5698    0.6203    0.5939        79\\n  Corrective     0.8072    0.7528    0.7791        89\\n  Perfective     0.6667    0.6600    0.6633       100\\n\\n    accuracy                         0.6791       268\\n   macro avg     0.6812    0.6777    0.6788       268\\nweighted avg     0.6848    0.6791    0.6813       268\\n', 'Confusion Matrix': array([[49, 10, 20],\n",
      "       [ 9, 67, 13],\n",
      "       [28,  6, 66]]), 'precision': 0.6812, 'recall': 0.6777, 'f1': 0.6788, 'accuracy': 0.6791}\n"
     ]
    },
    {
     "name": "stderr",
     "output_type": "stream",
     "text": [
      "model_head.pkl not found in /root/autodl-tmp/CommitFit/sentence-transformers/paraphrase-mpnet-base-v2, initialising classification head with random weights. You should TRAIN this model on a downstream task to use it for predictions and inference.\n"
     ]
    },
    {
     "data": {
      "application/vnd.jupyter.widget-view+json": {
       "model_id": "f9ae0999996b45d0a330b71a8cddbead",
       "version_major": 2,
       "version_minor": 0
      },
      "text/plain": [
       "Generating Training Pairs:   0%|          | 0/20 [00:00<?, ?it/s]"
      ]
     },
     "metadata": {},
     "output_type": "display_data"
    },
    {
     "name": "stderr",
     "output_type": "stream",
     "text": [
      "***** Running training *****\n",
      "  Num examples = 1560\n",
      "  Num epochs = 1\n",
      "  Total optimization steps = 98\n",
      "  Total train batch size = 16\n"
     ]
    },
    {
     "data": {
      "application/vnd.jupyter.widget-view+json": {
       "model_id": "71a24a396b3e48a7aa8cdd185b7c739f",
       "version_major": 2,
       "version_minor": 0
      },
      "text/plain": [
       "Epoch:   0%|          | 0/1 [00:00<?, ?it/s]"
      ]
     },
     "metadata": {},
     "output_type": "display_data"
    },
    {
     "data": {
      "application/vnd.jupyter.widget-view+json": {
       "model_id": "87fa85c5d7d34d34849301a65796f9b7",
       "version_major": 2,
       "version_minor": 0
      },
      "text/plain": [
       "Iteration:   0%|          | 0/98 [00:00<?, ?it/s]"
      ]
     },
     "metadata": {},
     "output_type": "display_data"
    },
    {
     "name": "stderr",
     "output_type": "stream",
     "text": [
      "***** Running evaluation *****\n",
      "[I 2025-08-28 21:50:48,911] Trial 7 finished with value: 0.6866 and parameters: {'learning_rate': 1.499936577942681e-05}. Best is trial 1 with value: 0.7052.\n",
      "Trial: {'learning_rate': 0.00013894726605638054}\n"
     ]
    },
    {
     "name": "stdout",
     "output_type": "stream",
     "text": [
      "Confusion Matrix:\n",
      " [[51  9 19]\n",
      " [15 63 11]\n",
      " [25  5 70]]\n",
      "              precision    recall  f1-score   support\n",
      "\n",
      "    Adaptive     0.5604    0.6456    0.6000        79\n",
      "  Corrective     0.8182    0.7079    0.7590        89\n",
      "  Perfective     0.7000    0.7000    0.7000       100\n",
      "\n",
      "    accuracy                         0.6866       268\n",
      "   macro avg     0.6929    0.6845    0.6863       268\n",
      "weighted avg     0.6981    0.6866    0.6901       268\n",
      "\n",
      "+++++++++++ {'classification_report': '              precision    recall  f1-score   support\\n\\n    Adaptive     0.5604    0.6456    0.6000        79\\n  Corrective     0.8182    0.7079    0.7590        89\\n  Perfective     0.7000    0.7000    0.7000       100\\n\\n    accuracy                         0.6866       268\\n   macro avg     0.6929    0.6845    0.6863       268\\nweighted avg     0.6981    0.6866    0.6901       268\\n', 'Confusion Matrix': array([[51,  9, 19],\n",
      "       [15, 63, 11],\n",
      "       [25,  5, 70]]), 'precision': 0.6929, 'recall': 0.6845, 'f1': 0.6863, 'accuracy': 0.6866}\n"
     ]
    },
    {
     "name": "stderr",
     "output_type": "stream",
     "text": [
      "model_head.pkl not found in /root/autodl-tmp/CommitFit/sentence-transformers/paraphrase-mpnet-base-v2, initialising classification head with random weights. You should TRAIN this model on a downstream task to use it for predictions and inference.\n"
     ]
    },
    {
     "data": {
      "application/vnd.jupyter.widget-view+json": {
       "model_id": "277ba98edc6b4c82a44e083402679773",
       "version_major": 2,
       "version_minor": 0
      },
      "text/plain": [
       "Generating Training Pairs:   0%|          | 0/20 [00:00<?, ?it/s]"
      ]
     },
     "metadata": {},
     "output_type": "display_data"
    },
    {
     "name": "stderr",
     "output_type": "stream",
     "text": [
      "***** Running training *****\n",
      "  Num examples = 1560\n",
      "  Num epochs = 1\n",
      "  Total optimization steps = 98\n",
      "  Total train batch size = 16\n"
     ]
    },
    {
     "data": {
      "application/vnd.jupyter.widget-view+json": {
       "model_id": "581b8a3d0d31450dbab92932579e515d",
       "version_major": 2,
       "version_minor": 0
      },
      "text/plain": [
       "Epoch:   0%|          | 0/1 [00:00<?, ?it/s]"
      ]
     },
     "metadata": {},
     "output_type": "display_data"
    },
    {
     "data": {
      "application/vnd.jupyter.widget-view+json": {
       "model_id": "e460162aa3f34ad7b6ffb36694b885ce",
       "version_major": 2,
       "version_minor": 0
      },
      "text/plain": [
       "Iteration:   0%|          | 0/98 [00:00<?, ?it/s]"
      ]
     },
     "metadata": {},
     "output_type": "display_data"
    },
    {
     "name": "stderr",
     "output_type": "stream",
     "text": [
      "***** Running evaluation *****\n",
      "[I 2025-08-28 21:51:04,679] Trial 8 finished with value: 0.4403 and parameters: {'learning_rate': 0.00013894726605638054}. Best is trial 1 with value: 0.7052.\n",
      "Trial: {'learning_rate': 0.00014860242751065232}\n"
     ]
    },
    {
     "name": "stdout",
     "output_type": "stream",
     "text": [
      "Confusion Matrix:\n",
      " [[38 33  8]\n",
      " [27 50 12]\n",
      " [42 28 30]]\n",
      "              precision    recall  f1-score   support\n",
      "\n",
      "    Adaptive     0.3551    0.4810    0.4086        79\n",
      "  Corrective     0.4505    0.5618    0.5000        89\n",
      "  Perfective     0.6000    0.3000    0.4000       100\n",
      "\n",
      "    accuracy                         0.4403       268\n",
      "   macro avg     0.4685    0.4476    0.4362       268\n",
      "weighted avg     0.4782    0.4403    0.4357       268\n",
      "\n",
      "+++++++++++ {'classification_report': '              precision    recall  f1-score   support\\n\\n    Adaptive     0.3551    0.4810    0.4086        79\\n  Corrective     0.4505    0.5618    0.5000        89\\n  Perfective     0.6000    0.3000    0.4000       100\\n\\n    accuracy                         0.4403       268\\n   macro avg     0.4685    0.4476    0.4362       268\\nweighted avg     0.4782    0.4403    0.4357       268\\n', 'Confusion Matrix': array([[38, 33,  8],\n",
      "       [27, 50, 12],\n",
      "       [42, 28, 30]]), 'precision': 0.4685, 'recall': 0.4476, 'f1': 0.4362, 'accuracy': 0.4403}\n"
     ]
    },
    {
     "name": "stderr",
     "output_type": "stream",
     "text": [
      "model_head.pkl not found in /root/autodl-tmp/CommitFit/sentence-transformers/paraphrase-mpnet-base-v2, initialising classification head with random weights. You should TRAIN this model on a downstream task to use it for predictions and inference.\n"
     ]
    },
    {
     "data": {
      "application/vnd.jupyter.widget-view+json": {
       "model_id": "f35d3986be8d4e47b6037a559bcbfc77",
       "version_major": 2,
       "version_minor": 0
      },
      "text/plain": [
       "Generating Training Pairs:   0%|          | 0/20 [00:00<?, ?it/s]"
      ]
     },
     "metadata": {},
     "output_type": "display_data"
    },
    {
     "name": "stderr",
     "output_type": "stream",
     "text": [
      "***** Running training *****\n",
      "  Num examples = 1560\n",
      "  Num epochs = 1\n",
      "  Total optimization steps = 98\n",
      "  Total train batch size = 16\n"
     ]
    },
    {
     "data": {
      "application/vnd.jupyter.widget-view+json": {
       "model_id": "a80b9e272df54d7e93df2300fa3cb5c9",
       "version_major": 2,
       "version_minor": 0
      },
      "text/plain": [
       "Epoch:   0%|          | 0/1 [00:00<?, ?it/s]"
      ]
     },
     "metadata": {},
     "output_type": "display_data"
    },
    {
     "data": {
      "application/vnd.jupyter.widget-view+json": {
       "model_id": "7ab4be77997b4b3aa320ea02ee0544bf",
       "version_major": 2,
       "version_minor": 0
      },
      "text/plain": [
       "Iteration:   0%|          | 0/98 [00:00<?, ?it/s]"
      ]
     },
     "metadata": {},
     "output_type": "display_data"
    },
    {
     "name": "stderr",
     "output_type": "stream",
     "text": [
      "***** Running evaluation *****\n",
      "[I 2025-08-28 21:51:20,653] Trial 9 finished with value: 0.5933 and parameters: {'learning_rate': 0.00014860242751065232}. Best is trial 1 with value: 0.7052.\n"
     ]
    },
    {
     "name": "stdout",
     "output_type": "stream",
     "text": [
      "Confusion Matrix:\n",
      " [[58 10 11]\n",
      " [13 67  9]\n",
      " [52 14 34]]\n",
      "              precision    recall  f1-score   support\n",
      "\n",
      "    Adaptive     0.4715    0.7342    0.5743        79\n",
      "  Corrective     0.7363    0.7528    0.7444        89\n",
      "  Perfective     0.6296    0.3400    0.4416       100\n",
      "\n",
      "    accuracy                         0.5933       268\n",
      "   macro avg     0.6125    0.6090    0.5868       268\n",
      "weighted avg     0.6184    0.5933    0.5813       268\n",
      "\n",
      "+++++++++++ {'classification_report': '              precision    recall  f1-score   support\\n\\n    Adaptive     0.4715    0.7342    0.5743        79\\n  Corrective     0.7363    0.7528    0.7444        89\\n  Perfective     0.6296    0.3400    0.4416       100\\n\\n    accuracy                         0.5933       268\\n   macro avg     0.6125    0.6090    0.5868       268\\nweighted avg     0.6184    0.5933    0.5813       268\\n', 'Confusion Matrix': array([[58, 10, 11],\n",
      "       [13, 67,  9],\n",
      "       [52, 14, 34]]), 'precision': 0.6125, 'recall': 0.609, 'f1': 0.5868, 'accuracy': 0.5933}\n"
     ]
    }
   ],
   "source": [
    "trainer = CommitFitTrainer(\n",
    "    train_dataset=train_dataset,\n",
    "    train_code_change = train_code_change,\n",
    "    test_code_change = test_code_change,\n",
    "    eval_dataset=test_dataset,\n",
    "    model_init=model_init,\n",
    "    metric = compute_metrics,\n",
    "    num_iterations=20,\n",
    "    num_epochs=1\n",
    ")\n",
    "best_run = trainer.hyperparameter_search(direction=\"maximize\", hp_space=hp_space, compute_objective=my_compute_objective, n_trials=10)"
   ]
  },
  {
   "cell_type": "code",
   "execution_count": 19,
   "id": "91deb34e-2ef0-4f00-b6e7-7ffd18605c52",
   "metadata": {
    "execution": {
     "iopub.execute_input": "2025-08-28T13:51:20.659818Z",
     "iopub.status.busy": "2025-08-28T13:51:20.659073Z",
     "iopub.status.idle": "2025-08-28T13:51:20.664093Z",
     "shell.execute_reply": "2025-08-28T13:51:20.663304Z",
     "shell.execute_reply.started": "2025-08-28T13:51:20.659795Z"
    }
   },
   "outputs": [],
   "source": [
    "# best_run"
   ]
  },
  {
   "cell_type": "code",
   "execution_count": 20,
   "id": "40cfde46-c7d5-4446-8b53-7ad4dc8edb66",
   "metadata": {
    "execution": {
     "iopub.execute_input": "2025-08-28T13:51:20.665169Z",
     "iopub.status.busy": "2025-08-28T13:51:20.664983Z",
     "iopub.status.idle": "2025-08-28T13:51:20.673210Z",
     "shell.execute_reply": "2025-08-28T13:51:20.672413Z",
     "shell.execute_reply.started": "2025-08-28T13:51:20.665148Z"
    }
   },
   "outputs": [
    {
     "data": {
      "text/plain": [
       "{'learning_rate': 8.149349746090063e-05}"
      ]
     },
     "execution_count": 20,
     "metadata": {},
     "output_type": "execute_result"
    }
   ],
   "source": [
    "best_run.hyperparameters"
   ]
  },
  {
   "cell_type": "code",
   "execution_count": 21,
   "id": "ae735a8b-c672-4dce-822c-61330c34481b",
   "metadata": {
    "execution": {
     "iopub.execute_input": "2025-08-28T13:51:20.674285Z",
     "iopub.status.busy": "2025-08-28T13:51:20.674081Z",
     "iopub.status.idle": "2025-08-28T13:51:31.285201Z",
     "shell.execute_reply": "2025-08-28T13:51:31.284116Z",
     "shell.execute_reply.started": "2025-08-28T13:51:20.674264Z"
    }
   },
   "outputs": [
    {
     "name": "stderr",
     "output_type": "stream",
     "text": [
      "model_head.pkl not found in /root/autodl-tmp/CommitFit/sentence-transformers/paraphrase-mpnet-base-v2, initialising classification head with random weights. You should TRAIN this model on a downstream task to use it for predictions and inference.\n"
     ]
    },
    {
     "data": {
      "application/vnd.jupyter.widget-view+json": {
       "model_id": "6a4aa4a0f7bd4bdf9d34d10938371728",
       "version_major": 2,
       "version_minor": 0
      },
      "text/plain": [
       "Generating Training Pairs:   0%|          | 0/20 [00:00<?, ?it/s]"
      ]
     },
     "metadata": {},
     "output_type": "display_data"
    },
    {
     "name": "stderr",
     "output_type": "stream",
     "text": [
      "***** Running training *****\n",
      "  Num examples = 1560\n",
      "  Num epochs = 1\n",
      "  Total optimization steps = 98\n",
      "  Total train batch size = 16\n"
     ]
    },
    {
     "data": {
      "application/vnd.jupyter.widget-view+json": {
       "model_id": "d5f934795cab4cf185270d85b1a08934",
       "version_major": 2,
       "version_minor": 0
      },
      "text/plain": [
       "Epoch:   0%|          | 0/1 [00:00<?, ?it/s]"
      ]
     },
     "metadata": {},
     "output_type": "display_data"
    },
    {
     "data": {
      "application/vnd.jupyter.widget-view+json": {
       "model_id": "2fa87b86602649bf8797807333e72856",
       "version_major": 2,
       "version_minor": 0
      },
      "text/plain": [
       "Iteration:   0%|          | 0/98 [00:00<?, ?it/s]"
      ]
     },
     "metadata": {},
     "output_type": "display_data"
    }
   ],
   "source": [
    "trainer.apply_hyperparameters(best_run.hyperparameters, final_model=True)\n",
    "trainer.train()"
   ]
  },
  {
   "cell_type": "code",
   "execution_count": 25,
   "id": "166dcf9b-a0bd-4b60-854c-c6535c22a111",
   "metadata": {
    "execution": {
     "iopub.execute_input": "2025-08-28T13:52:50.153874Z",
     "iopub.status.busy": "2025-08-28T13:52:50.153282Z",
     "iopub.status.idle": "2025-08-28T13:52:55.635933Z",
     "shell.execute_reply": "2025-08-28T13:52:55.635036Z",
     "shell.execute_reply.started": "2025-08-28T13:52:50.153839Z"
    }
   },
   "outputs": [
    {
     "name": "stderr",
     "output_type": "stream",
     "text": [
      "***** Running evaluation *****\n"
     ]
    },
    {
     "name": "stdout",
     "output_type": "stream",
     "text": [
      "Confusion Matrix:\n",
      " [[54  6 19]\n",
      " [22 42 25]\n",
      " [43  3 54]]\n",
      "              precision    recall  f1-score   support\n",
      "\n",
      "    Adaptive     0.4538    0.6835    0.5455        79\n",
      "  Corrective     0.8235    0.4719    0.6000        89\n",
      "  Perfective     0.5510    0.5400    0.5455       100\n",
      "\n",
      "    accuracy                         0.5597       268\n",
      "   macro avg     0.6094    0.5652    0.5636       268\n",
      "weighted avg     0.6129    0.5597    0.5636       268\n",
      "\n"
     ]
    },
    {
     "data": {
      "text/plain": [
       "{'classification_report': '              precision    recall  f1-score   support\\n\\n    Adaptive     0.4538    0.6835    0.5455        79\\n  Corrective     0.8235    0.4719    0.6000        89\\n  Perfective     0.5510    0.5400    0.5455       100\\n\\n    accuracy                         0.5597       268\\n   macro avg     0.6094    0.5652    0.5636       268\\nweighted avg     0.6129    0.5597    0.5636       268\\n',\n",
       " 'Confusion Matrix': array([[54,  6, 19],\n",
       "        [22, 42, 25],\n",
       "        [43,  3, 54]]),\n",
       " 'precision': 0.6094,\n",
       " 'recall': 0.5652,\n",
       " 'f1': 0.5636,\n",
       " 'accuracy': 0.5597}"
      ]
     },
     "execution_count": 25,
     "metadata": {},
     "output_type": "execute_result"
    }
   ],
   "source": [
    "fewshot_metrics = trainer.evaluate()\n",
    "fewshot_metrics"
   ]
  },
  {
   "cell_type": "code",
   "execution_count": 23,
   "id": "af21aba7-66cd-4762-b5d4-6d27650bba7e",
   "metadata": {
    "execution": {
     "iopub.execute_input": "2025-08-28T13:51:36.833822Z",
     "iopub.status.busy": "2025-08-28T13:51:36.833608Z",
     "iopub.status.idle": "2025-08-28T13:51:37.798028Z",
     "shell.execute_reply": "2025-08-28T13:51:37.796471Z",
     "shell.execute_reply.started": "2025-08-28T13:51:36.833799Z"
    }
   },
   "outputs": [
    {
     "name": "stdout",
     "output_type": "stream",
     "text": [
      "强化学习模型训练完毕\n"
     ]
    }
   ],
   "source": [
    "#发送多种类型的邮件\n",
    "from email.mime.multipart import MIMEMultipart\n",
    "import smtplib\n",
    "\n",
    "from email.mime.text import MIMEText\n",
    "msg_from = '915803745@qq.com'  # 发送方邮箱\n",
    "passwd = 'vcuosuurrgkfbdai'   #就是上面的授权码\n",
    " \n",
    "# to= ['g.zhang@gotion.com', 'j.tong@gotion.com'] #接受方邮箱\n",
    "to= ['j.tong@gotion.com'] #接受方邮箱\n",
    "#设置邮件内容\n",
    "#MIMEMultipart类可以放任何内容\n",
    "msg = MIMEMultipart()\n",
    "conntent=f\"{fewshot_metrics}\"\n",
    "#把内容加进去\n",
    "msg.attach(MIMEText(conntent,'plain','utf-8'))\n",
    " \n",
    "#设置邮件主题\n",
    "msg['Subject']=\"强化学习模型训练完毕\"\n",
    " \n",
    "#发送方信息\n",
    "msg['From']=msg_from\n",
    " \n",
    "#开始发送\n",
    " \n",
    "#通过SSL方式发送，服务器地址和端口\n",
    "s = smtplib.SMTP_SSL(\"smtp.qq.com\", 465)\n",
    "# 登录邮箱\n",
    "s.login(msg_from, passwd)\n",
    "#开始发送\n",
    "s.sendmail(msg_from,to,msg.as_string())\n",
    "print(\"强化学习模型训练完毕\")"
   ]
  },
  {
   "cell_type": "code",
   "execution_count": null,
   "id": "025b5144-4d11-4fae-b716-5cb039470225",
   "metadata": {},
   "outputs": [],
   "source": []
  }
 ],
 "metadata": {
  "kernelspec": {
   "display_name": "Python 3 (ipykernel)",
   "language": "python",
   "name": "python3"
  },
  "language_info": {
   "codemirror_mode": {
    "name": "ipython",
    "version": 3
   },
   "file_extension": ".py",
   "mimetype": "text/x-python",
   "name": "python",
   "nbconvert_exporter": "python",
   "pygments_lexer": "ipython3",
   "version": "3.10.8"
  }
 },
 "nbformat": 4,
 "nbformat_minor": 5
}
